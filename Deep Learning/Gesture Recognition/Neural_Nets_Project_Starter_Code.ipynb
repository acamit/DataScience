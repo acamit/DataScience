{
  "nbformat": 4,
  "nbformat_minor": 0,
  "metadata": {
    "kernelspec": {
      "display_name": "Python 3",
      "language": "python",
      "name": "python3"
    },
    "language_info": {
      "codemirror_mode": {
        "name": "ipython",
        "version": 3
      },
      "file_extension": ".py",
      "mimetype": "text/x-python",
      "name": "python",
      "nbconvert_exporter": "python",
      "pygments_lexer": "ipython3",
      "version": "3.7.7"
    },
    "colab": {
      "name": "Neural_Nets_Project_Starter_Code.ipynb",
      "provenance": [],
      "collapsed_sections": []
    },
    "accelerator": "GPU"
  },
  "cells": [
    {
      "cell_type": "markdown",
      "metadata": {
        "id": "VDqMakhdmxeZ"
      },
      "source": [
        "# Gesture Recognition\n",
        "In this group project, you are going to build a 3D Conv model that will be able to predict the 5 gestures correctly. Please import the following libraries to get started."
      ]
    },
    {
      "cell_type": "code",
      "metadata": {
        "id": "BTT3MufZmxeZ",
        "outputId": "034e975f-1102-4c55-9292-07afb4ccca36",
        "colab": {
          "base_uri": "https://localhost:8080/"
        }
      },
      "source": [
        "from google.colab import drive\n",
        "drive.mount('/content/gdrive')"
      ],
      "execution_count": 1,
      "outputs": [
        {
          "output_type": "stream",
          "text": [
            "Drive already mounted at /content/gdrive; to attempt to forcibly remount, call drive.mount(\"/content/gdrive\", force_remount=True).\n"
          ],
          "name": "stdout"
        }
      ]
    },
    {
      "cell_type": "code",
      "metadata": {
        "id": "ObsTCqZGmxef"
      },
      "source": [
        "import os\n",
        "os.environ['KAGGLE_CONFIG_DIR'] = \"/content/gdrive/My Drive/Colab Notebooks\""
      ],
      "execution_count": 2,
      "outputs": []
    },
    {
      "cell_type": "code",
      "metadata": {
        "id": "5uHfxQ0amxeh",
        "outputId": "662f8da2-823e-4292-91c1-e73908ad282e",
        "colab": {
          "base_uri": "https://localhost:8080/"
        }
      },
      "source": [
        "%cd /content/gdrive/My Drive/Colab Notebooks"
      ],
      "execution_count": 3,
      "outputs": [
        {
          "output_type": "stream",
          "text": [
            "/content/gdrive/My Drive/Colab Notebooks\n"
          ],
          "name": "stdout"
        }
      ]
    },
    {
      "cell_type": "code",
      "metadata": {
        "id": "TQBPqv4tmxek"
      },
      "source": [
        "import numpy as np\n",
        "import os\n",
        "# from scipy.misc import imread, imresize\n",
        "import datetime\n",
        "import os\n",
        "from skimage import io\n",
        "from skimage.transform import rescale, resize\n",
        "import matplotlib.pyplot as plt\n",
        "from collections import Counter "
      ],
      "execution_count": 4,
      "outputs": []
    },
    {
      "cell_type": "markdown",
      "metadata": {
        "id": "tGWWjZmWmxem"
      },
      "source": [
        "We set the random seed so that the results don't vary drastically."
      ]
    },
    {
      "cell_type": "code",
      "metadata": {
        "id": "WMQ8D_b7mxen"
      },
      "source": [
        "np.random.seed(30)\n",
        "import random as rn\n",
        "# rn.seed(30) #disabled for experimenting\n",
        "from keras import backend as K\n",
        "import tensorflow as tf\n",
        "# tf.set_random_seed(30)\n",
        "tf.random.set_seed(30)"
      ],
      "execution_count": 5,
      "outputs": []
    },
    {
      "cell_type": "markdown",
      "metadata": {
        "id": "ElbM_EOhmxep"
      },
      "source": [
        "In this block, you read the folder names for training and validation. You also set the `batch_size` here. Note that you set the batch size in such a way that you are able to use the GPU in full capacity. You keep increasing the batch size until the machine throws an error."
      ]
    },
    {
      "cell_type": "code",
      "metadata": {
        "id": "Ktl51Bgjmxeq"
      },
      "source": [
        "train_doc = np.random.permutation(open('Project_data/train.csv').readlines())\n",
        "val_doc = np.random.permutation(open('Project_data/val.csv').readlines())\n"
      ],
      "execution_count": 6,
      "outputs": []
    },
    {
      "cell_type": "code",
      "metadata": {
        "id": "iXpH5G_Zmxes"
      },
      "source": [
        "# we start with full train data as 1 batch\n",
        "batch_size = 100 #experiment with the batch size\n",
        "\n",
        "# we start with 120*120 images and adjust these later for model building process\n",
        "frames = 15\n",
        "y = 120 # final image height to be decided\n",
        "z = 120 # final image width to be decided\n",
        "channels = 3"
      ],
      "execution_count": 7,
      "outputs": []
    },
    {
      "cell_type": "code",
      "metadata": {
        "id": "13E1RyUxmxew"
      },
      "source": [
        "# we distribute the images on the basis of size. This is just done for experiment puroposes later.\n",
        "# outpaths = [train_path] #val_path\n",
        "def image_segregation(path='train'):\n",
        "    final_120 =[]\n",
        "    final_360=[]\n",
        "    doc = ''\n",
        "    if(path=='train'):\n",
        "        op = 'Project_data/train/'\n",
        "        doc = train_doc\n",
        "    else:\n",
        "        op = 'Project_data/val/'\n",
        "        doc = val_doc\n",
        "    for f in doc:\n",
        "        path = f.split(';')[0]\n",
        "        imgs = os.listdir(op+path)\n",
        "        for img in imgs:\n",
        "            image = io.imread(op+path+'/'+img)\n",
        "            if(image.shape[0]==360):\n",
        "                final_120.append(op+path+'/'+img) \n",
        "\n",
        "            if(image.shape[0]==120):\n",
        "                final_360.append(op+path+'/'+img)\n",
        "    return (final_120, final_360)\n"
      ],
      "execution_count": 8,
      "outputs": []
    },
    {
      "cell_type": "code",
      "metadata": {
        "id": "HXYE041rmxey"
      },
      "source": [
        "# make list of images with corresponding sizes\n",
        "# final_120, final_360 = image_segregation()"
      ],
      "execution_count": 9,
      "outputs": []
    },
    {
      "cell_type": "code",
      "metadata": {
        "id": "wNbx3UeNmxe1"
      },
      "source": [
        "# # view random imagees\n",
        "# selectedIndexes  = []\n",
        "# for i in range(3):\n",
        "#     selectedIndexes.append(rn.randint(0,5520))\n",
        "\n",
        "\n",
        "# s_im_120 = [final_120[i] for i in selectedIndexes]\n",
        "# s_im_360 = [final_360[i] for i in selectedIndexes]\n",
        "# print(s_im_120)\n",
        "# print(s_im_360)"
      ],
      "execution_count": 10,
      "outputs": []
    },
    {
      "cell_type": "markdown",
      "metadata": {
        "id": "VwHEJ0ajmxe4"
      },
      "source": [
        "## Generator\n",
        "This is one of the most important part of the code. The overall structure of the generator has been given. In the generator, you are going to preprocess the images as you have images of 2 different dimensions as well as create a batch of video frames. You have to experiment with `img_idx`, `y`,`z` and normalization such that you get high accuracy."
      ]
    },
    {
      "cell_type": "code",
      "metadata": {
        "id": "bZVAwtRLmxe4"
      },
      "source": [
        "def cropImage(image):\n",
        "    (image_h, image_w, _) = image.shape\n",
        "    \n",
        "    h_start=0\n",
        "    h_end = image_h\n",
        "    w_start=0\n",
        "    w_end = image_w\n",
        "    if(image_h==120):\n",
        "        h_start=20\n",
        "        w_start=10\n",
        "        w_end = 120\n",
        "    elif image_h==360:\n",
        "        h_start=30\n",
        "        w_start=30\n",
        "        w_end = 320\n",
        "    return image[h_start:h_end, w_start:w_end]"
      ],
      "execution_count": 11,
      "outputs": []
    },
    {
      "cell_type": "code",
      "metadata": {
        "id": "iPDq9Y_qmxe7"
      },
      "source": [
        "def resize_image(image, height=120, width=120):\n",
        "    return  resize(image, (height, width),anti_aliasing=False)"
      ],
      "execution_count": 12,
      "outputs": []
    },
    {
      "cell_type": "code",
      "metadata": {
        "id": "VtA2DmeHmxe9"
      },
      "source": [
        "def normalize_image(image):\n",
        "    norm_image = image - np.min(image)/np.max(image) - np.min(image)\n",
        "#     norm_image = image - np.percentile(image,5)/ np.percentile(image,95) - np.percentile(image,5)\n",
        "    return norm_image"
      ],
      "execution_count": 13,
      "outputs": []
    },
    {
      "cell_type": "code",
      "metadata": {
        "id": "qZT62WCDmxfA"
      },
      "source": [
        "#untility to show processed images\n",
        "def showImage(array, idx):\n",
        "    a = array[idx]\n",
        "    image = io.imread(a)\n",
        "    plt.subplot(2, 2,1)\n",
        "    plt.imshow(image)\n",
        "\n",
        "    cropped = cropImage(image)\n",
        "    plt.subplot(2,2,2)\n",
        "    plt.imshow(cropped)\n",
        "\n",
        "    resized = resize_image(cropped)\n",
        "    plt.subplot(2, 2,3)\n",
        "    plt.imshow(resized)\n",
        "\n",
        "    \n",
        "    normalized = normalize_image(resized)\n",
        "    plt.subplot(2, 2,4)\n",
        "    plt.imshow(normalized)\n",
        "\n",
        "    plt.show()"
      ],
      "execution_count": 14,
      "outputs": []
    },
    {
      "cell_type": "code",
      "metadata": {
        "id": "K7tnO7qMmxfE"
      },
      "source": [
        "# plt.figure(figsize=(300,300))\n",
        "# showImage(s_im_360, 0)"
      ],
      "execution_count": 15,
      "outputs": []
    },
    {
      "cell_type": "code",
      "metadata": {
        "id": "BsJO0HlMmxfG"
      },
      "source": [
        "# plt.figure(figsize=(300,300))\n",
        "# showImage(s_im_120, 0)"
      ],
      "execution_count": 16,
      "outputs": []
    },
    {
      "cell_type": "code",
      "metadata": {
        "id": "Sjjx0Zt6mxfI"
      },
      "source": [
        "def generator(source_path, folder_list, batch_size):\n",
        "    print( 'Source path = ', source_path, '; batch size =', batch_size)\n",
        "    img_idx = [x for x in range(0, 30,2)] #create a list of image numbers you want to use for a particular video\n",
        "    x = len(img_idx)\n",
        "    while True:\n",
        "        t = np.random.permutation(folder_list)\n",
        "        num_batches = len(folder_list)//batch_size # calculate the number of batches# calculate the number of batches\n",
        "        for batch in range(num_batches): # we iterate over the number of batches\n",
        "            batch_data = np.zeros((batch_size,x,y,z,3)) # x is the number of images you use for each video, (y,z) is the final size of the input images and 3 is the number of channels RGB\n",
        "            batch_labels = np.zeros((batch_size,5)) # batch_labels is the one hot representation of the output\n",
        "            for folder in range(batch_size): # iterate over the batch_size\n",
        "                imgs = os.listdir(source_path+'/'+ t[folder + (batch*batch_size)].split(';')[0]) # read all the images in the folder\n",
        "                for idx,item in enumerate(img_idx): #  Iterate iver the frames/images of a folder to read them in\n",
        "                    image = io.imread(source_path+'/'+ t[folder + (batch*batch_size)].strip().split(';')[0]+'/'+imgs[item]).astype(np.float32)\n",
        "                    #crop the images and resize them. Note that the images are of 2 different shape \n",
        "                    #and the conv3D will throw error if the inputs in a batch have different shapes\n",
        "                    cropped_image = cropImage(image)\n",
        "                    resized_image = resize_image(image)\n",
        "                    \n",
        "                    batch_data[folder,idx,:,:,0] = normalize_image(resized_image[:,:,0]) #normalise and feed in the image\n",
        "                    batch_data[folder,idx,:,:,1] = normalize_image(resized_image[:,:,1]) #normalise and feed in the image\n",
        "                    batch_data[folder,idx,:,:,2] = normalize_image(resized_image[:,:,2]) #normalise and feed in the image\n",
        "                    \n",
        "                batch_labels[folder, int(t[folder + (batch*batch_size)].strip().split(';')[2])] = 1\n",
        "            yield batch_data, batch_labels #you yield the batch_data and the batch_labels, remember what does yield do\n",
        "\n",
        "        \n",
        "        # write the code for the remaining data points which are left after full batches\n",
        "        processedRecords = num_batches*batch_size;\n",
        "        remaining_records = len(folder_list)-processedRecords\n",
        "        batch_data = np.zeros((remaining_records,x,y,z,3)) # x is the number of images you use for each video, (y,z) is the final size of the input images and 3 is the number of channels RGB\n",
        "        batch_labels = np.zeros((remaining_records,5))\n",
        "        for folder in range(remaining_records):\n",
        "            imgs = os.listdir(source_path+'/'+ t[folder + processedRecords].strip().split(';')[0]) # read all the images in the folder\n",
        "            for idx,item in enumerate(img_idx): \n",
        "                image = io.imread(source_path+'/'+ t[folder + processedRecords].strip().split(';')[0]+'/'+imgs[item]).astype(np.float32)\n",
        "                cropped_image = cropImage(image)\n",
        "                resized_image = resize_image(image)\n",
        "                    \n",
        "                batch_data[folder,idx,:,:,0] = normalize_image(resized_image[:,:,0]) #normalise and feed in the image\n",
        "                batch_data[folder,idx,:,:,1] = normalize_image(resized_image[:,:,1]) #normalise and feed in the image\n",
        "                batch_data[folder,idx,:,:,2] = normalize_image(resized_image[:,:,2]) #normalise and feed in the image\n",
        "            batch_labels[folder, int(t[folder + processedRecords].strip().split(';')[2])] = 1\n",
        "        yield batch_data, batch_labels\n",
        "                \n",
        "            "
      ],
      "execution_count": 17,
      "outputs": []
    },
    {
      "cell_type": "markdown",
      "metadata": {
        "id": "vS7SH2h6mxfK"
      },
      "source": [
        "Note here that a video is represented above in the generator as (number of images, height, width, number of channels). Take this into consideration while creating the model architecture."
      ]
    },
    {
      "cell_type": "code",
      "metadata": {
        "id": "1lAO-MjDmxfK",
        "outputId": "fd633eab-9fb3-4c5b-e278-08c9342b0b50",
        "colab": {
          "base_uri": "https://localhost:8080/"
        }
      },
      "source": [
        "curr_dt_time = datetime.datetime.now()\n",
        "train_path = 'Project_data/train'\n",
        "val_path = 'Project_data/val'\n",
        "num_train_sequences = len(train_doc)\n",
        "print('# training sequences =', num_train_sequences)\n",
        "num_val_sequences = len(val_doc)\n",
        "print('# validation sequences =', num_val_sequences)\n",
        "num_epochs = 10 # choose the number of epochs\n",
        "print ('# epochs =', num_epochs)"
      ],
      "execution_count": 18,
      "outputs": [
        {
          "output_type": "stream",
          "text": [
            "# training sequences = 663\n",
            "# validation sequences = 100\n",
            "# epochs = 10\n"
          ],
          "name": "stdout"
        }
      ]
    },
    {
      "cell_type": "markdown",
      "metadata": {
        "id": "0pSW5czRmxfO"
      },
      "source": [
        "## Model\n",
        "Here you make the model using different functionalities that Keras provides. Remember to use `Conv3D` and `MaxPooling3D` and not `Conv2D` and `Maxpooling2D` for a 3D convolution model. You would want to use `TimeDistributed` while building a Conv2D + RNN model. Also remember that the last layer is the softmax. Design the network in such a way that the model is able to give good accuracy on the least number of parameters so that it can fit in the memory of the webcam."
      ]
    },
    {
      "cell_type": "code",
      "metadata": {
        "id": "oomrFBismxfO"
      },
      "source": [
        "from keras.models import Sequential, Model\n",
        "from keras.layers import Dense, GRU, Flatten, TimeDistributed, Flatten, BatchNormalization, Activation, Dropout\n",
        "from keras.layers.convolutional import Conv3D, MaxPooling3D, Conv2D, MaxPooling2D\n",
        "from keras.callbacks import ModelCheckpoint, ReduceLROnPlateau\n",
        "from keras import optimizers\n"
      ],
      "execution_count": 19,
      "outputs": []
    },
    {
      "cell_type": "code",
      "metadata": {
        "id": "-Tlfx79bmxfR"
      },
      "source": [
        "#write your model here\n",
        "\n",
        "feature_map=[8, 16, 32, 64] # we will expirment with different number of features for different layers\n",
        "dense_layer_size = [128,64,5]\n",
        "classes= 5\n",
        "input_shape = (frames, y, z, channels)\n",
        "model = Sequential()\n",
        "# add multiple convulation layers\n",
        "model.add(TimeDistributed(Conv2D(feature_map[0], (3, 3), strides=(2, 2),activation='relu', padding='same'), input_shape=input_shape))\n",
        "\n",
        "model.add(TimeDistributed(Conv2D(feature_map[1], (3,3),padding='same', activation='relu')))\n",
        "model.add(TimeDistributed(MaxPooling2D((2, 2), strides=(2, 2))))\n",
        "\n",
        "model.add(TimeDistributed(Conv2D(feature_map[2], (3,3),padding='same', activation='relu')))\n",
        "model.add(TimeDistributed(MaxPooling2D((2, 2), strides=(2, 2))))\n",
        "\n",
        "model.add(TimeDistributed(Conv2D(feature_map[3], (2,2),padding='same', activation='relu')))\n",
        "model.add(TimeDistributed(MaxPooling2D((2, 2), strides=(2, 2))))\n",
        "\n",
        "model.add(TimeDistributed(BatchNormalization()))\n",
        "model.add(Dropout(0.25))\n",
        "\n",
        "model.add(TimeDistributed(Flatten()))\n",
        "\n",
        "model.add(Dense(dense_layer_size[0], activation='relu'))\n",
        "model.add(Dropout(0.25))\n",
        "model.add(Dense(dense_layer_size[1], activation='relu'))\n",
        "model.add(Dropout(0.25))\n",
        "\n",
        "## using GRU as the RNN model along with softmax as our last layer.\n",
        "model.add(GRU(128, return_sequences=False))\n",
        "model.add(Dense(classes, activation='softmax')) # using Softmax as last layer"
      ],
      "execution_count": 20,
      "outputs": []
    },
    {
      "cell_type": "markdown",
      "metadata": {
        "id": "jKpo5LkKmxfT"
      },
      "source": [
        "Now that you have written the model, the next step is to `compile` the model. When you print the `summary` of the model, you'll see the total number of parameters you have to train."
      ]
    },
    {
      "cell_type": "code",
      "metadata": {
        "scrolled": true,
        "id": "NaRv2AivmxfU",
        "outputId": "2de9fe57-dc8e-43c9-8d05-ec30c066878d",
        "colab": {
          "base_uri": "https://localhost:8080/"
        }
      },
      "source": [
        "optimiser = optimizers.Adam(0.001) #write your optimizer\n",
        "model.compile(optimizer=optimiser, loss='categorical_crossentropy', metrics=['categorical_accuracy'])\n",
        "print (model.summary())"
      ],
      "execution_count": 21,
      "outputs": [
        {
          "output_type": "stream",
          "text": [
            "Model: \"sequential\"\n",
            "_________________________________________________________________\n",
            "Layer (type)                 Output Shape              Param #   \n",
            "=================================================================\n",
            "time_distributed (TimeDistri (None, 15, 60, 60, 8)     224       \n",
            "_________________________________________________________________\n",
            "time_distributed_1 (TimeDist (None, 15, 60, 60, 16)    1168      \n",
            "_________________________________________________________________\n",
            "time_distributed_2 (TimeDist (None, 15, 30, 30, 16)    0         \n",
            "_________________________________________________________________\n",
            "time_distributed_3 (TimeDist (None, 15, 30, 30, 32)    4640      \n",
            "_________________________________________________________________\n",
            "time_distributed_4 (TimeDist (None, 15, 15, 15, 32)    0         \n",
            "_________________________________________________________________\n",
            "time_distributed_5 (TimeDist (None, 15, 15, 15, 64)    8256      \n",
            "_________________________________________________________________\n",
            "time_distributed_6 (TimeDist (None, 15, 7, 7, 64)      0         \n",
            "_________________________________________________________________\n",
            "time_distributed_7 (TimeDist (None, 15, 7, 7, 64)      256       \n",
            "_________________________________________________________________\n",
            "dropout (Dropout)            (None, 15, 7, 7, 64)      0         \n",
            "_________________________________________________________________\n",
            "time_distributed_8 (TimeDist (None, 15, 3136)          0         \n",
            "_________________________________________________________________\n",
            "dense (Dense)                (None, 15, 128)           401536    \n",
            "_________________________________________________________________\n",
            "dropout_1 (Dropout)          (None, 15, 128)           0         \n",
            "_________________________________________________________________\n",
            "dense_1 (Dense)              (None, 15, 64)            8256      \n",
            "_________________________________________________________________\n",
            "dropout_2 (Dropout)          (None, 15, 64)            0         \n",
            "_________________________________________________________________\n",
            "gru (GRU)                    (None, 128)               74496     \n",
            "_________________________________________________________________\n",
            "dense_2 (Dense)              (None, 5)                 645       \n",
            "=================================================================\n",
            "Total params: 499,477\n",
            "Trainable params: 499,349\n",
            "Non-trainable params: 128\n",
            "_________________________________________________________________\n",
            "None\n"
          ],
          "name": "stdout"
        }
      ]
    },
    {
      "cell_type": "markdown",
      "metadata": {
        "id": "MqlBfwFtmxfW"
      },
      "source": [
        "Let us create the `train_generator` and the `val_generator` which will be used in `.fit_generator`."
      ]
    },
    {
      "cell_type": "code",
      "metadata": {
        "id": "c45IEYaZmxfX"
      },
      "source": [
        "train_generator = generator(train_path, train_doc, batch_size)\n",
        "val_generator = generator(val_path, val_doc, batch_size)"
      ],
      "execution_count": 22,
      "outputs": []
    },
    {
      "cell_type": "code",
      "metadata": {
        "id": "c6E-9uGqmxfZ",
        "outputId": "0a7476b2-d2b8-4cce-9881-30326bcf6d71",
        "colab": {
          "base_uri": "https://localhost:8080/"
        }
      },
      "source": [
        "model_name = 'model_init' + '_' + str(curr_dt_time).replace(' ','').replace(':','_') + '/'\n",
        "    \n",
        "if not os.path.exists(model_name):\n",
        "    os.mkdir(model_name)\n",
        "        \n",
        "filepath = model_name + 'model-{epoch:05d}-{loss:.5f}-{categorical_accuracy:.5f}-{val_loss:.5f}-{val_categorical_accuracy:.5f}.h5'\n",
        "\n",
        "checkpoint = ModelCheckpoint(filepath, monitor='val_loss', verbose=1, save_best_only=False, save_weights_only=False, mode='auto', period=1)\n",
        "\n",
        "LR = ReduceLROnPlateau()# write the REducelronplateau code here\n",
        "callbacks_list = [checkpoint, LR]"
      ],
      "execution_count": 23,
      "outputs": [
        {
          "output_type": "stream",
          "text": [
            "WARNING:tensorflow:`period` argument is deprecated. Please use `save_freq` to specify the frequency in number of batches seen.\n"
          ],
          "name": "stdout"
        }
      ]
    },
    {
      "cell_type": "markdown",
      "metadata": {
        "id": "hErw7p94mxfb"
      },
      "source": [
        "The `steps_per_epoch` and `validation_steps` are used by `fit_generator` to decide the number of next() calls it need to make."
      ]
    },
    {
      "cell_type": "code",
      "metadata": {
        "id": "iCuo6cpBmxfc"
      },
      "source": [
        "if (num_train_sequences%batch_size) == 0:\n",
        "    steps_per_epoch = int(num_train_sequences/batch_size)\n",
        "else:\n",
        "    steps_per_epoch = (num_train_sequences//batch_size) + 1\n",
        "\n",
        "if (num_val_sequences%batch_size) == 0:\n",
        "    validation_steps = int(num_val_sequences/batch_size)\n",
        "else:\n",
        "    validation_steps = (num_val_sequences//batch_size) + 1"
      ],
      "execution_count": 24,
      "outputs": []
    },
    {
      "cell_type": "markdown",
      "metadata": {
        "id": "Xj_F8IVMmxff"
      },
      "source": [
        "Let us now fit the model. This will start training the model and with the help of the checkpoints, you'll be able to save the model at the end of each epoch."
      ]
    },
    {
      "cell_type": "code",
      "metadata": {
        "id": "QYF2SSQtmxfh",
        "outputId": "c1779473-866d-40bf-a786-905271e8d93e",
        "colab": {
          "base_uri": "https://localhost:8080/"
        }
      },
      "source": [
        "model.fit_generator(train_generator, steps_per_epoch=steps_per_epoch, epochs=num_epochs, verbose=1, \n",
        "                    callbacks=callbacks_list, validation_data=val_generator, \n",
        "                    validation_steps=validation_steps, class_weight=None, workers=1, initial_epoch=0)"
      ],
      "execution_count": 25,
      "outputs": [
        {
          "output_type": "stream",
          "text": [
            "WARNING:tensorflow:From <ipython-input-25-bd77c9c60c14>:3: Model.fit_generator (from tensorflow.python.keras.engine.training) is deprecated and will be removed in a future version.\n",
            "Instructions for updating:\n",
            "Please use Model.fit, which supports generators.\n",
            "Source path =  Project_data/train ; batch size = 100\n",
            "Epoch 1/10\n",
            "7/7 [==============================] - ETA: 0s - loss: 1.4403 - categorical_accuracy: 0.3725 Source path =  Project_data/val ; batch size = 100\n",
            "\n",
            "Epoch 00001: saving model to model_init_2020-11-0211_53_49.568771/model-00001-1.44030-0.37255-2.83126-0.23000.h5\n",
            "7/7 [==============================] - 95s 14s/step - loss: 1.4403 - categorical_accuracy: 0.3725 - val_loss: 2.8313 - val_categorical_accuracy: 0.2300\n",
            "Epoch 2/10\n",
            "7/7 [==============================] - ETA: 0s - loss: 1.0886 - categorical_accuracy: 0.5535 \n",
            "Epoch 00002: saving model to model_init_2020-11-0211_53_49.568771/model-00002-1.08858-0.55354-2.95513-0.23000.h5\n",
            "7/7 [==============================] - 96s 14s/step - loss: 1.0886 - categorical_accuracy: 0.5535 - val_loss: 2.9551 - val_categorical_accuracy: 0.2300\n",
            "Epoch 3/10\n",
            "7/7 [==============================] - ETA: 0s - loss: 0.8521 - categorical_accuracy: 0.6802 \n",
            "Epoch 00003: saving model to model_init_2020-11-0211_53_49.568771/model-00003-0.85214-0.68024-3.50201-0.23000.h5\n",
            "7/7 [==============================] - 98s 14s/step - loss: 0.8521 - categorical_accuracy: 0.6802 - val_loss: 3.5020 - val_categorical_accuracy: 0.2300\n",
            "Epoch 4/10\n",
            "7/7 [==============================] - ETA: 0s - loss: 0.6508 - categorical_accuracy: 0.7753 \n",
            "Epoch 00004: saving model to model_init_2020-11-0211_53_49.568771/model-00004-0.65075-0.77526-4.35560-0.23000.h5\n",
            "7/7 [==============================] - 97s 14s/step - loss: 0.6508 - categorical_accuracy: 0.7753 - val_loss: 4.3556 - val_categorical_accuracy: 0.2300\n",
            "Epoch 5/10\n",
            "7/7 [==============================] - ETA: 0s - loss: 0.4501 - categorical_accuracy: 0.8567 \n",
            "Epoch 00005: saving model to model_init_2020-11-0211_53_49.568771/model-00005-0.45011-0.85671-4.80121-0.24000.h5\n",
            "7/7 [==============================] - 95s 14s/step - loss: 0.4501 - categorical_accuracy: 0.8567 - val_loss: 4.8012 - val_categorical_accuracy: 0.2400\n",
            "Epoch 6/10\n",
            "7/7 [==============================] - ETA: 0s - loss: 0.2727 - categorical_accuracy: 0.9276 \n",
            "Epoch 00006: saving model to model_init_2020-11-0211_53_49.568771/model-00006-0.27266-0.92760-6.16773-0.23000.h5\n",
            "7/7 [==============================] - 95s 14s/step - loss: 0.2727 - categorical_accuracy: 0.9276 - val_loss: 6.1677 - val_categorical_accuracy: 0.2300\n",
            "Epoch 7/10\n",
            "7/7 [==============================] - ETA: 0s - loss: 0.1632 - categorical_accuracy: 0.9668 \n",
            "Epoch 00007: saving model to model_init_2020-11-0211_53_49.568771/model-00007-0.16323-0.96682-5.42345-0.27000.h5\n",
            "7/7 [==============================] - 95s 14s/step - loss: 0.1632 - categorical_accuracy: 0.9668 - val_loss: 5.4234 - val_categorical_accuracy: 0.2700\n",
            "Epoch 8/10\n",
            "7/7 [==============================] - ETA: 0s - loss: 0.0817 - categorical_accuracy: 0.9879 \n",
            "Epoch 00008: saving model to model_init_2020-11-0211_53_49.568771/model-00008-0.08170-0.98793-6.69354-0.23000.h5\n",
            "7/7 [==============================] - 95s 14s/step - loss: 0.0817 - categorical_accuracy: 0.9879 - val_loss: 6.6935 - val_categorical_accuracy: 0.2300\n",
            "Epoch 9/10\n",
            "7/7 [==============================] - ETA: 0s - loss: 0.0490 - categorical_accuracy: 0.9925 \n",
            "Epoch 00009: saving model to model_init_2020-11-0211_53_49.568771/model-00009-0.04902-0.99246-5.14144-0.29000.h5\n",
            "7/7 [==============================] - 94s 13s/step - loss: 0.0490 - categorical_accuracy: 0.9925 - val_loss: 5.1414 - val_categorical_accuracy: 0.2900\n",
            "Epoch 10/10\n",
            "7/7 [==============================] - ETA: 0s - loss: 0.0221 - categorical_accuracy: 0.9970 \n",
            "Epoch 00010: saving model to model_init_2020-11-0211_53_49.568771/model-00010-0.02212-0.99698-5.43267-0.28000.h5\n",
            "7/7 [==============================] - 94s 13s/step - loss: 0.0221 - categorical_accuracy: 0.9970 - val_loss: 5.4327 - val_categorical_accuracy: 0.2800\n"
          ],
          "name": "stdout"
        },
        {
          "output_type": "execute_result",
          "data": {
            "text/plain": [
              "<tensorflow.python.keras.callbacks.History at 0x7fbe7c0e75f8>"
            ]
          },
          "metadata": {
            "tags": []
          },
          "execution_count": 25
        }
      ]
    },
    {
      "cell_type": "code",
      "metadata": {
        "id": "0eCOFgTUmxfj"
      },
      "source": [
        ""
      ],
      "execution_count": 25,
      "outputs": []
    }
  ]
}