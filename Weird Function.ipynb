{
 "cells": [
  {
   "cell_type": "code",
   "execution_count": null,
   "metadata": {},
   "outputs": [],
   "source": [
    "input_str = input()\n",
    "input_list = input_str.split(',')\n",
    "\n",
    "a = int(input_list[0])\n",
    "b = int(input_list[1])\n",
    "c = int(input_list[2])\n",
    "\n",
    "# write code here\n",
    "def large_sum(a, b, c):\n",
    "    res = 0\n",
    "    for i in range(b+1):\n",
    "        res = res+F(i)\n",
    "    return res\n",
    "\n",
    "d ={}\n",
    "def F(n):\n",
    "    if n in d:\n",
    "        temp= d[n]\n",
    "    elif n>b:\n",
    "        temp= n-c\n",
    "        d[n] = temp\n",
    "    else:\n",
    "        for i in range(4):\n",
    "            temp=n\n",
    "            temp = F(a+temp)\n",
    "#         temp = F(a + F(a + F(a + F(a + n))))\n",
    "        d[n] = temp\n",
    "    return temp\n",
    "\n",
    "# store the result in the following variable\n",
    "result = large_sum(a, b, c)\n",
    "\n",
    "# print result -- do not change the following code\n",
    "print(result)"
   ]
  }
 ],
 "metadata": {
  "kernelspec": {
   "display_name": "Python 3",
   "language": "python",
   "name": "python3"
  },
  "language_info": {
   "codemirror_mode": {
    "name": "ipython",
    "version": 3
   },
   "file_extension": ".py",
   "mimetype": "text/x-python",
   "name": "python",
   "nbconvert_exporter": "python",
   "pygments_lexer": "ipython3",
   "version": "3.7.4"
  }
 },
 "nbformat": 4,
 "nbformat_minor": 2
}
