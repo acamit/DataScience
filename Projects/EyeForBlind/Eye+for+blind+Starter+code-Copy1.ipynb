{
 "cells": [
  {
   "cell_type": "markdown",
   "metadata": {
    "id": "n1ktRncs6gXB"
   },
   "source": [
    "# EYE FOR BLIND\n",
    "This notebook will be used to prepare the capstone project 'Eye for Blind'"
   ]
  },
  {
   "cell_type": "code",
   "execution_count": 1,
   "metadata": {
    "colab": {
     "base_uri": "https://localhost:8080/"
    },
    "id": "4neCnw-i6gXF",
    "outputId": "66e9d609-49d5-4d04-9051-e6b3ff3f8fd9"
   },
   "outputs": [
    {
     "name": "stdout",
     "output_type": "stream",
     "text": [
      "Mounted at /content/gdrive\n",
      "/content/gdrive/My Drive/Colab Notebooks\n"
     ]
    }
   ],
   "source": [
    "# from google.colab import drive\n",
    "# drive.mount('/content/gdrive')\n",
    "\n",
    "# import os\n",
    "# os.environ['KAGGLE_CONFIG_DIR'] = \"/content/gdrive/My Drive/Colab Notebooks\"\n",
    "\n",
    "# %cd /content/gdrive/My Drive/Colab Notebooks"
   ]
  },
  {
   "cell_type": "code",
   "execution_count": 1,
   "metadata": {
    "id": "LYsbt_Ry6gXF"
   },
   "outputs": [
    {
     "name": "stderr",
     "output_type": "stream",
     "text": [
      "Using TensorFlow backend.\n"
     ]
    }
   ],
   "source": [
    "#Import all the required libraries\n",
    "import random\n",
    "import numpy as np\n",
    "import pandas as pd\n",
    "import glob\n",
    "import pathlib, os\n",
    "from collections import Counter , OrderedDict\n",
    "import string\n",
    "import matplotlib.pyplot as plt\n",
    "import seaborn as sns\n",
    "import collections\n",
    "\n",
    "# tensorflow\n",
    "import tensorflow as tf\n",
    "from keras.preprocessing.text import Tokenizer\n",
    "from keras.preprocessing.sequence import pad_sequences\n",
    "from tensorflow.keras import layers\n",
    "from keras.preprocessing.image import load_img\n",
    "import PIL\n",
    "import PIL.Image\n",
    "import time\n",
    "\n",
    "# image processing\n",
    "from skimage import io\n",
    "from skimage.transform import rescale, resize\n",
    "\n",
    "# import cv2\n",
    "\n",
    "from keras.preprocessing.image import ImageDataGenerator\n",
    "from keras.applications.inception_v3 import preprocess_input\n",
    "# sklearn\n",
    "from sklearn.model_selection import train_test_split\n",
    "np.set_printoptions(precision=4)\n",
    "\n",
    "from tqdm import tqdm "
   ]
  },
  {
   "cell_type": "markdown",
   "metadata": {
    "id": "AVukGSvr6gXG"
   },
   "source": [
    "Let's read the dataset"
   ]
  },
  {
   "cell_type": "markdown",
   "metadata": {
    "id": "3U4vxRyV6gXG"
   },
   "source": [
    "## Data understanding\n",
    "1.Import the dataset and read image & captions into two seperate variables\n",
    "\n",
    "2.Visualise both the images & text present in the dataset\n",
    "\n",
    "3.Create word-to-index and index-to-word mappings.\n",
    "\n",
    "4.Create a dataframe which summarizes the image, path & captions as a dataframe\n",
    "\n",
    "5.Visualise the top 30 occuring words in the captions\n",
    "\n",
    "6.Create a list which contains all the captions & path\n"
   ]
  },
  {
   "cell_type": "code",
   "execution_count": 2,
   "metadata": {
    "colab": {
     "base_uri": "https://localhost:8080/"
    },
    "id": "jEp82rNO6gXH",
    "outputId": "0ef79aa1-324d-43f8-b80c-7af89481458a"
   },
   "outputs": [
    {
     "name": "stdout",
     "output_type": "stream",
     "text": [
      "['Flickr8K/Images/2201222219_8d656b0633.jpg', 'Flickr8K/Images/3681172959_6674c118d2.jpg', 'Flickr8K/Images/3257107194_f235c8f7ab.jpg']\n",
      "The total images present in the dataset: 8091\n"
     ]
    }
   ],
   "source": [
    "#Import the dataset and read the image into a seperate variable\n",
    "\n",
    "images='Flickr8K/Images'\n",
    "\n",
    "all_imgs = glob.glob(images + '/*.jpg',recursive=True)\n",
    "image_count = len(all_imgs)\n",
    "print(all_imgs[:3])\n",
    "print(\"The total images present in the dataset: {}\".format(image_count))\n"
   ]
  },
  {
   "cell_type": "code",
   "execution_count": 3,
   "metadata": {
    "colab": {
     "base_uri": "https://localhost:8080/"
    },
    "id": "w8rS2jWX6gXJ",
    "outputId": "522ec93a-f82f-4627-ca01-249ed76361ff"
   },
   "outputs": [
    {
     "name": "stdout",
     "output_type": "stream",
     "text": [
      "image,caption\n",
      "1000268201_693b08cb0e.jpg,A child in a pink dress is climbing up a set of stairs in an entry way .\n",
      "1000268201_693b08cb0e.jpg,A girl going into a wooden building .\n",
      "1000268201_693b08cb0e.jpg,A little girl climbing into a wooden playhouse .\n",
      "1000268201_693b08cb0e.jpg,A little girl climbing\n"
     ]
    }
   ],
   "source": [
    " #Import the dataset and read the text file into a seperate variable\n",
    "text_file = 'Flickr8K/captions.txt'\n",
    "def load_doc(filename):\n",
    "    #your code here\n",
    "    text = open(filename, 'r', encoding = 'utf-8').read()\n",
    "    return text\n",
    "\n",
    "doc = load_doc(text_file)\n",
    "print(doc[:300])"
   ]
  },
  {
   "cell_type": "code",
   "execution_count": 4,
   "metadata": {
    "id": "fKqI69HDU8LT"
   },
   "outputs": [],
   "source": [
    "# all_imgs_t = glob.glob(images + '/*.jpg.npy',recursive=True)\n",
    "# image_count = len(all_imgs_t)\n",
    "# print(image_count)\n",
    "\n",
    "# for i in all_imgs_t:\n",
    "#     os.remove(i) \n",
    "\n",
    "# all_imgs_t = glob.glob(images + '/*.jpg.npy',recursive=True)\n",
    "# image_count = len(all_imgs_t)\n",
    "# print(image_count)"
   ]
  },
  {
   "cell_type": "code",
   "execution_count": 5,
   "metadata": {
    "colab": {
     "base_uri": "https://localhost:8080/",
     "height": 927
    },
    "id": "VrGVRbsQ6gXK",
    "outputId": "b25e9865-4d60-4000-db51-df9de0a8cb3f"
   },
   "outputs": [],
   "source": [
    "# #Visualise both the images & text present in the dataset\n",
    "# for i in range(3, 10, 2):\n",
    "#     plt.figure()\n",
    "#     img = PIL.Image.open(all_imgs[i])\n",
    "\n",
    "# #     img = cv2.imread(all_imgs[i])\n",
    "# #     img = cv2.cvtColor(img, cv2.COLOR_BGR2RGB)\n",
    "#     plt.imshow(img)\n"
   ]
  },
  {
   "cell_type": "markdown",
   "metadata": {
    "id": "OQlsChsQ6gXL"
   },
   "source": [
    "Create a dataframe which summarizes the image, path & captions as a dataframe\n",
    "\n",
    "Each image id has 5 captions associated with it therefore the total dataset should have 40455 samples."
   ]
  },
  {
   "cell_type": "code",
   "execution_count": 6,
   "metadata": {
    "id": "K2Gax6Qm6gXL"
   },
   "outputs": [],
   "source": [
    "# utility function to clean the caption text\n",
    "def clean_caption(caption):\n",
    "    table = str.maketrans('','', string.punctuation)\n",
    "    desc = caption.split() #create a list of words\n",
    "\n",
    "    # remove the punctuation from each word\n",
    "    desc = [word.translate(table) for word in desc]\n",
    "    \n",
    "    # remove empty strings and strings like 's and a\n",
    "    desc = [word.strip() for word in desc if len(word.strip())>1]\n",
    "    desc = [word.lower() for word in desc if(word.isalpha())] # convert to lower case and pick only alpha numeric \n",
    "    return ' '.join(desc)"
   ]
  },
  {
   "cell_type": "code",
   "execution_count": 7,
   "metadata": {
    "id": "Gqv2_kN-6gXM"
   },
   "outputs": [],
   "source": [
    "# utility token to append <start> and <end>\n",
    "def appendDelimitingTokes(caption):\n",
    "    return f'<start> {caption} <end>'"
   ]
  },
  {
   "cell_type": "code",
   "execution_count": 8,
   "metadata": {
    "id": "6cczg2Zf6gXM"
   },
   "outputs": [],
   "source": [
    "# utility function to generate image path\n",
    "def getImagePaths(s):\n",
    "    return s.replace('\\\\', '/')"
   ]
  },
  {
   "cell_type": "code",
   "execution_count": 9,
   "metadata": {
    "id": "5BzFlvqE6gXM"
   },
   "outputs": [],
   "source": [
    "def getFileName(path):\n",
    "    return path[len(images)+1:]"
   ]
  },
  {
   "cell_type": "code",
   "execution_count": 10,
   "metadata": {
    "id": "lynUSp5g6gXM"
   },
   "outputs": [],
   "source": [
    "all_img_id= list(map(getFileName, all_imgs))#store all the image id here\n",
    "all_img_vector= list(map(getImagePaths, all_imgs)) #store all the image path here"
   ]
  },
  {
   "cell_type": "code",
   "execution_count": 11,
   "metadata": {
    "id": "weXfCmtR6gXN"
   },
   "outputs": [],
   "source": [
    "# utility function to generate mappings of captions to images as a dictionary with image name as index. \n",
    "def MapImageCaptions(doc):\n",
    "    captionDict = dict()\n",
    "    text_lines = doc.split('\\n')\n",
    "    # remove the heading line and empty lines\n",
    "    text_lines = [t for t in text_lines[1:] if len(t)>0]\n",
    "    for line in text_lines:\n",
    "        dict_index, dict_val = line.split(',', 1)\n",
    "        if dict_index not in captionDict:\n",
    "            captionDict[dict_index] = list()\n",
    "        captionDict[dict_index].append(dict_val)\n",
    "    return captionDict"
   ]
  },
  {
   "cell_type": "code",
   "execution_count": 12,
   "metadata": {
    "colab": {
     "base_uri": "https://localhost:8080/"
    },
    "id": "Lx5e1tMM6gXN",
    "outputId": "77fa8cce-53a2-4d05-8bca-dd1324560b99"
   },
   "outputs": [
    {
     "data": {
      "text/plain": [
       "8091"
      ]
     },
     "execution_count": 12,
     "metadata": {},
     "output_type": "execute_result"
    }
   ],
   "source": [
    "captionMappings = MapImageCaptions(doc)\n",
    "len(captionMappings.items())"
   ]
  },
  {
   "cell_type": "code",
   "execution_count": 13,
   "metadata": {
    "id": "QJtW-MbU6gXO"
   },
   "outputs": [],
   "source": [
    "annotations= captionMappings.values() #store all the captions here"
   ]
  },
  {
   "cell_type": "code",
   "execution_count": 14,
   "metadata": {
    "colab": {
     "base_uri": "https://localhost:8080/",
     "height": 221
    },
    "id": "5MC_ZS3m6gXP",
    "outputId": "e2a73554-770f-4503-f326-7bf63dd268da"
   },
   "outputs": [
    {
     "name": "stdout",
     "output_type": "stream",
     "text": [
      "(8091, 3)\n"
     ]
    },
    {
     "data": {
      "text/html": [
       "<div>\n",
       "<style scoped>\n",
       "    .dataframe tbody tr th:only-of-type {\n",
       "        vertical-align: middle;\n",
       "    }\n",
       "\n",
       "    .dataframe tbody tr th {\n",
       "        vertical-align: top;\n",
       "    }\n",
       "\n",
       "    .dataframe thead th {\n",
       "        text-align: right;\n",
       "    }\n",
       "</style>\n",
       "<table border=\"1\" class=\"dataframe\">\n",
       "  <thead>\n",
       "    <tr style=\"text-align: right;\">\n",
       "      <th></th>\n",
       "      <th>ID</th>\n",
       "      <th>Path</th>\n",
       "      <th>Captions</th>\n",
       "    </tr>\n",
       "  </thead>\n",
       "  <tbody>\n",
       "    <tr>\n",
       "      <th>0</th>\n",
       "      <td>2201222219_8d656b0633.jpg</td>\n",
       "      <td>Flickr8K/Images/2201222219_8d656b0633.jpg</td>\n",
       "      <td>[A child in a pink dress is climbing up a set ...</td>\n",
       "    </tr>\n",
       "    <tr>\n",
       "      <th>1</th>\n",
       "      <td>3681172959_6674c118d2.jpg</td>\n",
       "      <td>Flickr8K/Images/3681172959_6674c118d2.jpg</td>\n",
       "      <td>[A black dog and a spotted dog are fighting, A...</td>\n",
       "    </tr>\n",
       "    <tr>\n",
       "      <th>2</th>\n",
       "      <td>3257107194_f235c8f7ab.jpg</td>\n",
       "      <td>Flickr8K/Images/3257107194_f235c8f7ab.jpg</td>\n",
       "      <td>[A little girl covered in paint sits in front ...</td>\n",
       "    </tr>\n",
       "    <tr>\n",
       "      <th>3</th>\n",
       "      <td>2831656774_36982aafdb.jpg</td>\n",
       "      <td>Flickr8K/Images/2831656774_36982aafdb.jpg</td>\n",
       "      <td>[A man lays on a bench while his dog sits by h...</td>\n",
       "    </tr>\n",
       "    <tr>\n",
       "      <th>4</th>\n",
       "      <td>3718892835_a3e74a3417.jpg</td>\n",
       "      <td>Flickr8K/Images/3718892835_a3e74a3417.jpg</td>\n",
       "      <td>[A man in an orange hat starring at something ...</td>\n",
       "    </tr>\n",
       "  </tbody>\n",
       "</table>\n",
       "</div>"
      ],
      "text/plain": [
       "                          ID                                       Path  \\\n",
       "0  2201222219_8d656b0633.jpg  Flickr8K/Images/2201222219_8d656b0633.jpg   \n",
       "1  3681172959_6674c118d2.jpg  Flickr8K/Images/3681172959_6674c118d2.jpg   \n",
       "2  3257107194_f235c8f7ab.jpg  Flickr8K/Images/3257107194_f235c8f7ab.jpg   \n",
       "3  2831656774_36982aafdb.jpg  Flickr8K/Images/2831656774_36982aafdb.jpg   \n",
       "4  3718892835_a3e74a3417.jpg  Flickr8K/Images/3718892835_a3e74a3417.jpg   \n",
       "\n",
       "                                            Captions  \n",
       "0  [A child in a pink dress is climbing up a set ...  \n",
       "1  [A black dog and a spotted dog are fighting, A...  \n",
       "2  [A little girl covered in paint sits in front ...  \n",
       "3  [A man lays on a bench while his dog sits by h...  \n",
       "4  [A man in an orange hat starring at something ...  "
      ]
     },
     "execution_count": 14,
     "metadata": {},
     "output_type": "execute_result"
    }
   ],
   "source": [
    "# create a data frame\n",
    "df = pd.DataFrame(list(zip(all_img_id, all_img_vector,annotations)),columns =['ID','Path', 'Captions']) \n",
    "print(df.shape)\n",
    "df.head(5)"
   ]
  },
  {
   "cell_type": "code",
   "execution_count": 15,
   "metadata": {
    "colab": {
     "base_uri": "https://localhost:8080/",
     "height": 204
    },
    "id": "FNiIfTgD6gXP",
    "outputId": "a24811d9-442e-4c68-c334-14b826dab0ee"
   },
   "outputs": [
    {
     "data": {
      "text/html": [
       "<div>\n",
       "<style scoped>\n",
       "    .dataframe tbody tr th:only-of-type {\n",
       "        vertical-align: middle;\n",
       "    }\n",
       "\n",
       "    .dataframe tbody tr th {\n",
       "        vertical-align: top;\n",
       "    }\n",
       "\n",
       "    .dataframe thead th {\n",
       "        text-align: right;\n",
       "    }\n",
       "</style>\n",
       "<table border=\"1\" class=\"dataframe\">\n",
       "  <thead>\n",
       "    <tr style=\"text-align: right;\">\n",
       "      <th></th>\n",
       "      <th>ID</th>\n",
       "      <th>Path</th>\n",
       "      <th>Captions</th>\n",
       "    </tr>\n",
       "  </thead>\n",
       "  <tbody>\n",
       "    <tr>\n",
       "      <th>0</th>\n",
       "      <td>2201222219_8d656b0633.jpg</td>\n",
       "      <td>Flickr8K/Images/2201222219_8d656b0633.jpg</td>\n",
       "      <td>A child in a pink dress is climbing up a set o...</td>\n",
       "    </tr>\n",
       "    <tr>\n",
       "      <th>1</th>\n",
       "      <td>2201222219_8d656b0633.jpg</td>\n",
       "      <td>Flickr8K/Images/2201222219_8d656b0633.jpg</td>\n",
       "      <td>A girl going into a wooden building .</td>\n",
       "    </tr>\n",
       "    <tr>\n",
       "      <th>2</th>\n",
       "      <td>2201222219_8d656b0633.jpg</td>\n",
       "      <td>Flickr8K/Images/2201222219_8d656b0633.jpg</td>\n",
       "      <td>A little girl climbing into a wooden playhouse .</td>\n",
       "    </tr>\n",
       "    <tr>\n",
       "      <th>3</th>\n",
       "      <td>2201222219_8d656b0633.jpg</td>\n",
       "      <td>Flickr8K/Images/2201222219_8d656b0633.jpg</td>\n",
       "      <td>A little girl climbing the stairs to her playh...</td>\n",
       "    </tr>\n",
       "    <tr>\n",
       "      <th>4</th>\n",
       "      <td>2201222219_8d656b0633.jpg</td>\n",
       "      <td>Flickr8K/Images/2201222219_8d656b0633.jpg</td>\n",
       "      <td>A little girl in a pink dress going into a woo...</td>\n",
       "    </tr>\n",
       "  </tbody>\n",
       "</table>\n",
       "</div>"
      ],
      "text/plain": [
       "                          ID                                       Path  \\\n",
       "0  2201222219_8d656b0633.jpg  Flickr8K/Images/2201222219_8d656b0633.jpg   \n",
       "1  2201222219_8d656b0633.jpg  Flickr8K/Images/2201222219_8d656b0633.jpg   \n",
       "2  2201222219_8d656b0633.jpg  Flickr8K/Images/2201222219_8d656b0633.jpg   \n",
       "3  2201222219_8d656b0633.jpg  Flickr8K/Images/2201222219_8d656b0633.jpg   \n",
       "4  2201222219_8d656b0633.jpg  Flickr8K/Images/2201222219_8d656b0633.jpg   \n",
       "\n",
       "                                            Captions  \n",
       "0  A child in a pink dress is climbing up a set o...  \n",
       "1              A girl going into a wooden building .  \n",
       "2   A little girl climbing into a wooden playhouse .  \n",
       "3  A little girl climbing the stairs to her playh...  \n",
       "4  A little girl in a pink dress going into a woo...  "
      ]
     },
     "execution_count": 15,
     "metadata": {},
     "output_type": "execute_result"
    }
   ],
   "source": [
    "df = (df\n",
    " .set_index(['ID','Path'])['Captions']\n",
    " .apply(pd.Series)\n",
    " .stack()\n",
    " .reset_index()\n",
    " .drop('level_2', axis=1)\n",
    " .rename(columns={0:'Captions'}))\n",
    "df.head(5)"
   ]
  },
  {
   "cell_type": "code",
   "execution_count": 16,
   "metadata": {
    "id": "ix9MDfEO6gXP"
   },
   "outputs": [],
   "source": [
    "# reference from  https://fairyonice.github.io/Develop_an_image_captioning_deep_learning_model_using_Flickr_8K_data.html\n",
    "def image_desc_plotter():\n",
    "    npic = 5\n",
    "    npix = 224\n",
    "    target_size = (npix,npix,3)\n",
    "\n",
    "    count = 1\n",
    "    fig = plt.figure(figsize=(10,20))\n",
    "    for image in all_img_vector[10:15]:\n",
    "        image_id = getFileName(image)\n",
    "        captions = list(df[\"Captions\"].loc[df[\"ID\"]==image_id].values)\n",
    "        image_load = load_img(image, target_size=target_size)\n",
    "\n",
    "        ax = fig.add_subplot(npic,2,count,xticks=[],yticks=[])\n",
    "        ax.imshow(image_load)\n",
    "        count += 1\n",
    "\n",
    "        ax = fig.add_subplot(npic,2,count)\n",
    "        plt.axis('off')\n",
    "        ax.plot()\n",
    "        ax.set_xlim(0,1)\n",
    "        ax.set_ylim(0,len(captions))\n",
    "        for i, caption in enumerate(captions):\n",
    "            ax.text(0,i,caption,fontsize=20)\n",
    "        count += 1\n",
    "    plt.show()"
   ]
  },
  {
   "cell_type": "code",
   "execution_count": 17,
   "metadata": {
    "colab": {
     "base_uri": "https://localhost:8080/",
     "height": 1000
    },
    "id": "6-Ko9qFj6gXQ",
    "outputId": "f4f17063-6e01-4cd7-9a3c-ea7191ea1bb9"
   },
   "outputs": [],
   "source": [
    "# image_desc_plotter()"
   ]
  },
  {
   "cell_type": "code",
   "execution_count": null,
   "metadata": {
    "id": "bqIxQnvm6gXQ"
   },
   "outputs": [],
   "source": []
  },
  {
   "cell_type": "code",
   "execution_count": 18,
   "metadata": {
    "id": "91x9JM8b6gXQ"
   },
   "outputs": [],
   "source": [
    "## returns 2 lists first for clean annotations second for annotations appended with <start> and <end>\n",
    "def GetAllAnnotations(annotations):\n",
    "    allcaptions = list()\n",
    "    dCaptions = list()\n",
    "    for caption_list in annotations:\n",
    "        for caption in caption_list:\n",
    "            caption = clean_caption(caption)\n",
    "            dCaption = appendDelimitingTokes(caption)\n",
    "            allcaptions.append(caption)\n",
    "            dCaptions.append(dCaption)\n",
    "    return (allcaptions, dCaptions)"
   ]
  },
  {
   "cell_type": "code",
   "execution_count": 19,
   "metadata": {
    "colab": {
     "base_uri": "https://localhost:8080/"
    },
    "id": "fje7qu5w6gXR",
    "outputId": "a47c856e-f9ac-4884-baef-4a289875c6a9"
   },
   "outputs": [
    {
     "name": "stdout",
     "output_type": "stream",
     "text": [
      "Total captions present in the dataset: 40455\n",
      "Total images present in the dataset: 8091\n",
      "First annotation child in pink dress is climbing up set of stairs in an entry way\n",
      "First delimited annotation <start> child in pink dress is climbing up set of stairs in an entry way <end>\n"
     ]
    }
   ],
   "source": [
    "#Create a list which contains all the captions\n",
    "#add the <start> & <end> token to all those captions as well\n",
    "annotations, delimitedAnnotations = GetAllAnnotations(annotations) #write your code here\n",
    "\n",
    "\n",
    "#Create a list which contains all the path to the images\n",
    "all_img_path= all_img_vector#write your code here\n",
    "\n",
    "print(\"Total captions present in the dataset: \"+ str(len(annotations)))\n",
    "print(\"Total images present in the dataset: \" + str(len(all_img_path)))\n",
    "print(\"First annotation \" + annotations[0])\n",
    "print(\"First delimited annotation \" + delimitedAnnotations[0])"
   ]
  },
  {
   "cell_type": "code",
   "execution_count": 20,
   "metadata": {
    "id": "biRF2Hv96gXS"
   },
   "outputs": [],
   "source": [
    "#Create the vocabulary & the counter for the captions\n",
    "\n",
    "vocabulary= [word for line in delimitedAnnotations for word in line.split()] #write your code here\n",
    "# val_count\n",
    "val_count=Counter(vocabulary)"
   ]
  },
  {
   "cell_type": "code",
   "execution_count": 21,
   "metadata": {
    "colab": {
     "base_uri": "https://localhost:8080/",
     "height": 592
    },
    "id": "p6j5hWY66gXT",
    "outputId": "76e847dd-4fd0-49a5-de35-c87d3be3e4f2"
   },
   "outputs": [
    {
     "data": {
      "image/png": "[encoded data removed]",
      "text/plain": [
       "<Figure size 1440x720 with 1 Axes>"
      ]
     },
     "metadata": {
      "needs_background": "light"
     },
     "output_type": "display_data"
    }
   ],
   "source": [
    "#Visualise the top 30 occuring words in the captions\n",
    "#write your code here\n",
    "plt.figure(figsize=(20, 10))\n",
    "top_words = OrderedDict(val_count.most_common(30))\n",
    "plt.bar(top_words.keys(), top_words.values())\n",
    "plt.show()"
   ]
  },
  {
   "cell_type": "code",
   "execution_count": null,
   "metadata": {
    "id": "jXazW4kK6gXX"
   },
   "outputs": [],
   "source": []
  },
  {
   "cell_type": "markdown",
   "metadata": {
    "id": "m0Ah_p8x6gXX"
   },
   "source": [
    "## Pre-Processing the captions\n",
    "1.Create the tokenized vectors by tokenizing the captions fore ex :split them using spaces & other filters. \n",
    "This gives us a vocabulary of all of the unique words in the data. Keep the total vocaublary to top 5,000 words for saving memory.\n",
    "\n",
    "2.Replace all other words with the unknown token \"UNK\" .\n",
    "\n",
    "3.Create word-to-index and index-to-word mappings.\n",
    "\n",
    "4.Pad all sequences to be the same length as the longest one."
   ]
  },
  {
   "cell_type": "code",
   "execution_count": 22,
   "metadata": {
    "id": "WpMxgZuN6gXX"
   },
   "outputs": [],
   "source": [
    "# create the tokenizer\n",
    "# create the tokenizer\n",
    "tokenizer = Tokenizer(num_words = 5001 , oov_token='<unk>', filters='!\"#$%&()*+.,-/:;=?@[\\]^_`{|}~ ')\n",
    "tokenizer.fit_on_texts(delimitedAnnotations)"
   ]
  },
  {
   "cell_type": "code",
   "execution_count": 23,
   "metadata": {
    "id": "fwUEKXk56gXY"
   },
   "outputs": [],
   "source": [
    "# Create word-to-index and index-to-word mappings.\n",
    "# word to index mapping\n",
    "wordIndex = tokenizer.word_index"
   ]
  },
  {
   "cell_type": "code",
   "execution_count": 24,
   "metadata": {
    "id": "roojDGJe6gXZ"
   },
   "outputs": [],
   "source": [
    "#index-to-word mappings\n",
    "indexToWord = tokenizer.index_word"
   ]
  },
  {
   "cell_type": "code",
   "execution_count": 25,
   "metadata": {
    "id": "BDuN2FrbJXrG"
   },
   "outputs": [],
   "source": [
    "tokenizer.word_index['<pad>'] = 0\n",
    "tokenizer.index_word[0] = '<pad>'"
   ]
  },
  {
   "cell_type": "code",
   "execution_count": 26,
   "metadata": {
    "colab": {
     "base_uri": "https://localhost:8080/",
     "height": 483
    },
    "id": "rpnxTr956gXa",
    "outputId": "aeba48d4-09b8-4c11-ed66-557865dd847d"
   },
   "outputs": [
    {
     "data": {
      "image/png": "[encoded data removed]",
      "text/plain": [
       "<Figure size 1440x576 with 1 Axes>"
      ]
     },
     "metadata": {
      "needs_background": "light"
     },
     "output_type": "display_data"
    }
   ],
   "source": [
    "# Create a word count of your tokenizer to visulize the Top 30 occuring words after text processing\n",
    "\n",
    "#your code here\n",
    "wordCounts = tokenizer.word_counts\n",
    "plt.figure(figsize=(20, 8))\n",
    "top_words = OrderedDict(Counter(wordCounts).most_common(30))\n",
    "plt.bar(top_words.keys(), top_words.values())\n",
    "plt.show()"
   ]
  },
  {
   "cell_type": "code",
   "execution_count": 27,
   "metadata": {
    "id": "A-wCf3pk6gXa"
   },
   "outputs": [],
   "source": [
    "text_sequences = tokenizer.texts_to_sequences(delimitedAnnotations)"
   ]
  },
  {
   "cell_type": "code",
   "execution_count": 28,
   "metadata": {
    "colab": {
     "base_uri": "https://localhost:8080/"
    },
    "id": "APwvHUFq6gXa",
    "outputId": "c9320482-9884-4d0a-e7c4-96ec077544fc"
   },
   "outputs": [
    {
     "data": {
      "text/plain": [
       "34"
      ]
     },
     "execution_count": 28,
     "metadata": {},
     "output_type": "execute_result"
    }
   ],
   "source": [
    "MaxLength = max(len(d) for d in text_sequences)\n",
    "MaxLength"
   ]
  },
  {
   "cell_type": "code",
   "execution_count": 29,
   "metadata": {
    "colab": {
     "base_uri": "https://localhost:8080/"
    },
    "id": "1HGNtwII6gXb",
    "outputId": "4487e42d-b9ca-46ea-c5fb-5d1de859cf4e"
   },
   "outputs": [
    {
     "name": "stdout",
     "output_type": "stream",
     "text": [
      "The shape of Caption vector is :(40455, 34)\n"
     ]
    }
   ],
   "source": [
    "# Pad each vector to the max_length of the captions ^ store it to a vairable\n",
    "cap_vector= pad_sequences(text_sequences, maxlen=MaxLength, padding='post') #your code here\n",
    "print(\"The shape of Caption vector is :\" + str(cap_vector.shape))"
   ]
  },
  {
   "cell_type": "code",
   "execution_count": 30,
   "metadata": {
    "id": "OC3AQp_66gXc"
   },
   "outputs": [],
   "source": [
    "df['Captions'] = df['Captions'].apply(lambda x:appendDelimitingTokes(clean_caption(x)))"
   ]
  },
  {
   "cell_type": "markdown",
   "metadata": {
    "id": "drMe7_6d6gXc"
   },
   "source": [
    "## Pre-processing the images\n",
    "\n",
    "1.Resize them into the shape of (299, 299)\n",
    "\n",
    "3.Normalize the image within the range of -1 to 1, such that it is in correct format for InceptionV3. "
   ]
  },
  {
   "cell_type": "code",
   "execution_count": 31,
   "metadata": {
    "id": "GZYDjKoJ6gXd"
   },
   "outputs": [],
   "source": [
    "#write your code here\n",
    "# define the image size\n",
    "rows = 299\n",
    "cols = 299\n",
    "\n",
    "def get_encoded_label(label):\n",
    "    text_sequences = tokenizer.texts_to_sequences([label])\n",
    "    return pad_sequences(text_sequences, maxlen=MaxLength, padding='post')[0]\n",
    "\n",
    "# define a function to resize the images on demand.\n",
    "def resize_image(image, height=rows, width=cols):\n",
    "    img = tf.image.decode_jpeg(image, channels=3)\n",
    "    # resize the image to the desired size\n",
    "    img = tf.image.resize(img, [height, width])\n",
    "    return tf.keras.applications.inception_v3.preprocess_input(img)\n",
    "\n",
    "# define a function to normalize the images on demand between -1 and 1\n",
    "def normalize_image(image):\n",
    "    normalization_layer = tf.keras.layers.experimental.preprocessing.Rescaling(1./127.5, offset=-1)\n",
    "    return normalization_layer(image)\n",
    "    \n",
    "# utility function to read image from given path and process it for inception model\n",
    "def process_path(file_path):\n",
    "    img = tf.io.read_file(file_path)\n",
    "    img = tf.image.decode_jpeg(img, channels=3)\n",
    "    img = tf.image.resize(img, (299, 299))\n",
    "    img = tf.keras.applications.inception_v3.preprocess_input(img)\n",
    "    return img, file_path\n",
    "\n",
    "def load_image_amit(file_path, cap=None):\n",
    "    img , _ = process_path(file_path)\n",
    "    return img, cap\n",
    "\n",
    "# function to load feature vector saved using imagenet earlier and map it to caption\n",
    "def map_func(img_name, cap):\n",
    "    img_tensor = np.load(img_name.decode('utf-8')+'.npy')\n",
    "    return img_tensor, cap"
   ]
  },
  {
   "cell_type": "code",
   "execution_count": 32,
   "metadata": {
    "id": "Kp8VF5EpDmZf"
   },
   "outputs": [],
   "source": [
    "batch_size=30\n",
    "BUFFER_SIZE = 1000"
   ]
  },
  {
   "cell_type": "markdown",
   "metadata": {
    "id": "8lRMqqMb6gXf"
   },
   "source": [
    "## Load the pretrained Imagenet weights of Inception net V3\n",
    "\n",
    "1.To save the memory(RAM) from getting exhausted, extract the features of thei mage using the last layer of pre-trained model. Including this as part of training will lead to higher computational time.\n",
    "\n",
    "2.The shape of the output of this layer is 8x8x2048. \n",
    "\n",
    "3.Use a function to extract the features of each image in the train & test dataset such that the shape of each image should be (batch_size, 8*8, 2048)\n",
    "\n"
   ]
  },
  {
   "cell_type": "code",
   "execution_count": 33,
   "metadata": {
    "colab": {
     "base_uri": "https://localhost:8080/"
    },
    "id": "LEObzOvu6gXg",
    "outputId": "f2b8b00f-4fe0-4ff6-97bc-2e586a1ed408"
   },
   "outputs": [
    {
     "name": "stdout",
     "output_type": "stream",
     "text": [
      "Downloading data from https://storage.googleapis.com/tensorflow/keras-applications/inception_v3/inception_v3_weights_tf_dim_ordering_tf_kernels_notop.h5\n",
      "87916544/87910968 [==============================] - 3s 0us/step\n"
     ]
    }
   ],
   "source": [
    "image_model = tf.keras.applications.InceptionV3(include_top=False,weights='imagenet')\n",
    "\n",
    "new_input = image_model.input  #write code here to get the input of the image_model\n",
    "hidden_layer = image_model.layers[-1].output #write code here to get the output of the image_model\n",
    "\n",
    "image_features_extract_model =  tf.keras.Model(new_input, hidden_layer) #build the final model using both input & output layer"
   ]
  },
  {
   "cell_type": "code",
   "execution_count": 34,
   "metadata": {
    "id": "HOTuTFia6gXg"
   },
   "outputs": [],
   "source": [
    "# write your code to extract features from each image in the dataset\n",
    "image_vector = sorted(set(all_img_vector))\n",
    "image_dataset = tf.data.Dataset.from_tensor_slices(image_vector)\n",
    "image_dataset = image_dataset.map(process_path, num_parallel_calls=tf.data.experimental.AUTOTUNE).batch(batch_size)\n",
    "# for img, path in image_dataset:\n",
    "#     batch_features = image_features_extract_model(img)\n",
    "#     batch_features = tf.reshape(batch_features,\n",
    "#                               (batch_features.shape[0], -1, batch_features.shape[3]))\n",
    "\n",
    "#     # we save the features to disk. \n",
    "#     for bf, p in zip(batch_features, path):\n",
    "#         path_of_feature = p.numpy().decode(\"utf-8\")\n",
    "#         np.save(path_of_feature, bf.numpy())"
   ]
  },
  {
   "cell_type": "code",
   "execution_count": null,
   "metadata": {
    "id": "qYhxCwyMDmZh"
   },
   "outputs": [],
   "source": []
  },
  {
   "cell_type": "markdown",
   "metadata": {
    "id": "kKg2DFLD6gXd"
   },
   "source": [
    "## Create the train & test data \n",
    "1.Combine both images & captions to create the train & test dataset using tf.data.Dataset API. Create the train-test spliit using 80-20 ratio & random state = 42\n",
    "\n",
    "2.Make sure you have done Shuffle and batch while building the dataset\n",
    "\n",
    "3.The shape of each image in the dataset after building should be (batch_size, 299, 299, 3)\n",
    "\n",
    "4.The shape of each caption in the dataset after building should be(batch_size, max_len)\n"
   ]
  },
  {
   "cell_type": "code",
   "execution_count": 35,
   "metadata": {
    "id": "UvMfySO96gXd"
   },
   "outputs": [],
   "source": [
    "# get data from dataframe based on keys\n",
    "def getKeyValueLists(keys):\n",
    "    data = df.loc[df['ID'].isin(keys)]\n",
    "    return data['Path'].tolist(), data['Captions'].tolist()"
   ]
  },
  {
   "cell_type": "code",
   "execution_count": 36,
   "metadata": {
    "colab": {
     "base_uri": "https://localhost:8080/"
    },
    "id": "OiTnMT-06gXd",
    "outputId": "c0a20ed1-6d93-4be4-be45-1dc4e61180c4"
   },
   "outputs": [
    {
     "name": "stderr",
     "output_type": "stream",
     "text": [
      "/mnt/disks/user/anaconda3/lib/python3.7/site-packages/sklearn/model_selection/_split.py:2179: FutureWarning: From version 0.21, test_size will always complement train_size unless both are specified.\n",
      "  FutureWarning)\n"
     ]
    },
    {
     "data": {
      "text/plain": [
       "(6472, 1619)"
      ]
     },
     "execution_count": 36,
     "metadata": {},
     "output_type": "execute_result"
    }
   ],
   "source": [
    "train_images, val_images = train_test_split(all_img_id, train_size=0.8, random_state = 42)\n",
    "len(train_images),len(val_images)"
   ]
  },
  {
   "cell_type": "code",
   "execution_count": 37,
   "metadata": {
    "colab": {
     "base_uri": "https://localhost:8080/"
    },
    "id": "qN1jeLMz6gXe",
    "outputId": "2a38931f-18c3-458f-8b2b-b3abc10f4212"
   },
   "outputs": [
    {
     "name": "stdout",
     "output_type": "stream",
     "text": [
      "32360 32360\n"
     ]
    }
   ],
   "source": [
    "train_image_idx, train_captions = getKeyValueLists(train_images)\n",
    "print(len(train_image_idx), len(train_captions))"
   ]
  },
  {
   "cell_type": "code",
   "execution_count": 38,
   "metadata": {
    "colab": {
     "base_uri": "https://localhost:8080/"
    },
    "id": "0iFEzvaS6gXe",
    "outputId": "b44a985f-6c92-4cf5-fe5d-00bc4e7f913b"
   },
   "outputs": [
    {
     "name": "stdout",
     "output_type": "stream",
     "text": [
      "8095 8095\n"
     ]
    }
   ],
   "source": [
    "val_image_idx, val_captions = getKeyValueLists(val_images)\n",
    "print(len(val_image_idx), len(val_captions))"
   ]
  },
  {
   "cell_type": "code",
   "execution_count": null,
   "metadata": {
    "id": "dqRRlVhU6gXe"
   },
   "outputs": [],
   "source": []
  },
  {
   "cell_type": "code",
   "execution_count": 39,
   "metadata": {
    "id": "n-mnWr7o6gXg"
   },
   "outputs": [],
   "source": [
    "## tokenize the captions\n",
    "train_captions =tokenizer.texts_to_sequences( train_captions)\n",
    "train_captions = pad_sequences(train_captions, maxlen=MaxLength, padding='post')\n",
    "\n",
    "\n",
    "val_captions =tokenizer.texts_to_sequences( val_captions)\n",
    "val_captions = pad_sequences(val_captions, maxlen=MaxLength, padding='post')"
   ]
  },
  {
   "cell_type": "code",
   "execution_count": 40,
   "metadata": {
    "id": "78EamtSw6gXg"
   },
   "outputs": [],
   "source": [
    "train_dataset = tf.data.Dataset.from_tensor_slices((train_image_idx, train_captions))"
   ]
  },
  {
   "cell_type": "code",
   "execution_count": 41,
   "metadata": {
    "id": "A6VFGiAjJXrM"
   },
   "outputs": [],
   "source": [
    "# Use map to load the numpy files in parallel\n",
    "train_dataset = train_dataset.map(lambda item1, item2: tf.numpy_function(\n",
    "          load_image_amit, [item1, item2], [tf.float32, tf.int32]),\n",
    "          num_parallel_calls=tf.data.experimental.AUTOTUNE)\n",
    "\n",
    "train_dataset = train_dataset.shuffle(BUFFER_SIZE).batch(batch_size, drop_remainder=True)"
   ]
  },
  {
   "cell_type": "code",
   "execution_count": 42,
   "metadata": {
    "colab": {
     "base_uri": "https://localhost:8080/"
    },
    "id": "XuaOx7Jt6gXf",
    "outputId": "30bd031d-7462-4a87-81bb-50ef95428473"
   },
   "outputs": [
    {
     "ename": "UnknownError",
     "evalue": "InternalError: Failed copying input tensor from /job:localhost/replica:0/task:0/device:CPU:0 to /job:localhost/replica:0/task:0/device:GPU:0 in order to run RealDiv: Attempted to set tensor for existing mirror. [Op:RealDiv]\nTraceback (most recent call last):\n\n  File \"/mnt/disks/user/anaconda3/lib/python3.7/site-packages/tensorflow/python/ops/script_ops.py\", line 243, in __call__\n    ret = func(*args)\n\n  File \"/mnt/disks/user/anaconda3/lib/python3.7/site-packages/tensorflow/python/autograph/impl/api.py\", line 309, in wrapper\n    return func(*args, **kwargs)\n\n  File \"<ipython-input-31-f2761b5d1afb>\", line 31, in load_image_amit\n    img , _ = process_path(file_path)\n\n  File \"<ipython-input-31-f2761b5d1afb>\", line 27, in process_path\n    img = tf.keras.applications.inception_v3.preprocess_input(img)\n\n  File \"/mnt/disks/user/anaconda3/lib/python3.7/site-packages/tensorflow/python/keras/applications/inception_v3.py\", line 420, in preprocess_input\n    return imagenet_utils.preprocess_input(x, data_format=data_format, mode='tf')\n\n  File \"/mnt/disks/user/anaconda3/lib/python3.7/site-packages/tensorflow/python/keras/applications/imagenet_utils.py\", line 110, in preprocess_input\n    x, data_format=data_format, mode=mode)\n\n  File \"/mnt/disks/user/anaconda3/lib/python3.7/site-packages/tensorflow/python/keras/applications/imagenet_utils.py\", line 253, in _preprocess_symbolic_input\n    x /= 127.5\n\n  File \"/mnt/disks/user/anaconda3/lib/python3.7/site-packages/tensorflow/python/ops/math_ops.py\", line 997, in binary_op_wrapper\n    return func(x, y, name=name)\n\n  File \"/mnt/disks/user/anaconda3/lib/python3.7/site-packages/tensorflow/python/ops/math_ops.py\", line 1090, in _truediv_python3\n    return gen_math_ops.real_div(x, y, name=name)\n\n  File \"/mnt/disks/user/anaconda3/lib/python3.7/site-packages/tensorflow/python/ops/gen_math_ops.py\", line 7264, in real_div\n    _ops.raise_from_not_ok_status(e, name)\n\n  File \"/mnt/disks/user/anaconda3/lib/python3.7/site-packages/tensorflow/python/framework/ops.py\", line 6653, in raise_from_not_ok_status\n    six.raise_from(core._status_to_exception(e.code, message), None)\n\n  File \"<string>\", line 3, in raise_from\n\ntensorflow.python.framework.errors_impl.InternalError: Failed copying input tensor from /job:localhost/replica:0/task:0/device:CPU:0 to /job:localhost/replica:0/task:0/device:GPU:0 in order to run RealDiv: Attempted to set tensor for existing mirror. [Op:RealDiv]\n\n\n\t [[{{node PyFunc}}]]",
     "output_type": "error",
     "traceback": [
      "\u001b[0;31m---------------------------------------------------------------------------\u001b[0m",
      "\u001b[0;31mUnknownError\u001b[0m                              Traceback (most recent call last)",
      "\u001b[0;32m/mnt/disks/user/anaconda3/lib/python3.7/site-packages/tensorflow/python/eager/context.py\u001b[0m in \u001b[0;36mexecution_mode\u001b[0;34m(mode)\u001b[0m\n\u001b[1;32m   1985\u001b[0m       \u001b[0mctx\u001b[0m\u001b[0;34m.\u001b[0m\u001b[0mexecutor\u001b[0m \u001b[0;34m=\u001b[0m \u001b[0mexecutor_new\u001b[0m\u001b[0;34m\u001b[0m\u001b[0;34m\u001b[0m\u001b[0m\n\u001b[0;32m-> 1986\u001b[0;31m       \u001b[0;32myield\u001b[0m\u001b[0;34m\u001b[0m\u001b[0;34m\u001b[0m\u001b[0m\n\u001b[0m\u001b[1;32m   1987\u001b[0m     \u001b[0;32mfinally\u001b[0m\u001b[0;34m:\u001b[0m\u001b[0;34m\u001b[0m\u001b[0;34m\u001b[0m\u001b[0m\n",
      "\u001b[0;32m/mnt/disks/user/anaconda3/lib/python3.7/site-packages/tensorflow/python/data/ops/iterator_ops.py\u001b[0m in \u001b[0;36m_next_internal\u001b[0;34m(self)\u001b[0m\n\u001b[1;32m    654\u001b[0m             \u001b[0moutput_types\u001b[0m\u001b[0;34m=\u001b[0m\u001b[0mself\u001b[0m\u001b[0;34m.\u001b[0m\u001b[0m_flat_output_types\u001b[0m\u001b[0;34m,\u001b[0m\u001b[0;34m\u001b[0m\u001b[0;34m\u001b[0m\u001b[0m\n\u001b[0;32m--> 655\u001b[0;31m             output_shapes=self._flat_output_shapes)\n\u001b[0m\u001b[1;32m    656\u001b[0m \u001b[0;34m\u001b[0m\u001b[0m\n",
      "\u001b[0;32m/mnt/disks/user/anaconda3/lib/python3.7/site-packages/tensorflow/python/ops/gen_dataset_ops.py\u001b[0m in \u001b[0;36miterator_get_next\u001b[0;34m(iterator, output_types, output_shapes, name)\u001b[0m\n\u001b[1;32m   2362\u001b[0m     \u001b[0;32mexcept\u001b[0m \u001b[0m_core\u001b[0m\u001b[0;34m.\u001b[0m\u001b[0m_NotOkStatusException\u001b[0m \u001b[0;32mas\u001b[0m \u001b[0me\u001b[0m\u001b[0;34m:\u001b[0m\u001b[0;34m\u001b[0m\u001b[0;34m\u001b[0m\u001b[0m\n\u001b[0;32m-> 2363\u001b[0;31m       \u001b[0m_ops\u001b[0m\u001b[0;34m.\u001b[0m\u001b[0mraise_from_not_ok_status\u001b[0m\u001b[0;34m(\u001b[0m\u001b[0me\u001b[0m\u001b[0;34m,\u001b[0m \u001b[0mname\u001b[0m\u001b[0;34m)\u001b[0m\u001b[0;34m\u001b[0m\u001b[0;34m\u001b[0m\u001b[0m\n\u001b[0m\u001b[1;32m   2364\u001b[0m   \u001b[0;31m# Add nodes to the TensorFlow graph.\u001b[0m\u001b[0;34m\u001b[0m\u001b[0;34m\u001b[0m\u001b[0;34m\u001b[0m\u001b[0m\n",
      "\u001b[0;32m/mnt/disks/user/anaconda3/lib/python3.7/site-packages/tensorflow/python/framework/ops.py\u001b[0m in \u001b[0;36mraise_from_not_ok_status\u001b[0;34m(e, name)\u001b[0m\n\u001b[1;32m   6652\u001b[0m   \u001b[0;31m# pylint: disable=protected-access\u001b[0m\u001b[0;34m\u001b[0m\u001b[0;34m\u001b[0m\u001b[0;34m\u001b[0m\u001b[0m\n\u001b[0;32m-> 6653\u001b[0;31m   \u001b[0msix\u001b[0m\u001b[0;34m.\u001b[0m\u001b[0mraise_from\u001b[0m\u001b[0;34m(\u001b[0m\u001b[0mcore\u001b[0m\u001b[0;34m.\u001b[0m\u001b[0m_status_to_exception\u001b[0m\u001b[0;34m(\u001b[0m\u001b[0me\u001b[0m\u001b[0;34m.\u001b[0m\u001b[0mcode\u001b[0m\u001b[0;34m,\u001b[0m \u001b[0mmessage\u001b[0m\u001b[0;34m)\u001b[0m\u001b[0;34m,\u001b[0m \u001b[0;32mNone\u001b[0m\u001b[0;34m)\u001b[0m\u001b[0;34m\u001b[0m\u001b[0;34m\u001b[0m\u001b[0m\n\u001b[0m\u001b[1;32m   6654\u001b[0m   \u001b[0;31m# pylint: enable=protected-access\u001b[0m\u001b[0;34m\u001b[0m\u001b[0;34m\u001b[0m\u001b[0;34m\u001b[0m\u001b[0m\n",
      "\u001b[0;32m/mnt/disks/user/anaconda3/lib/python3.7/site-packages/six.py\u001b[0m in \u001b[0;36mraise_from\u001b[0;34m(value, from_value)\u001b[0m\n",
      "\u001b[0;31mUnknownError\u001b[0m: InternalError: Failed copying input tensor from /job:localhost/replica:0/task:0/device:CPU:0 to /job:localhost/replica:0/task:0/device:GPU:0 in order to run RealDiv: Attempted to set tensor for existing mirror. [Op:RealDiv]\nTraceback (most recent call last):\n\n  File \"/mnt/disks/user/anaconda3/lib/python3.7/site-packages/tensorflow/python/ops/script_ops.py\", line 243, in __call__\n    ret = func(*args)\n\n  File \"/mnt/disks/user/anaconda3/lib/python3.7/site-packages/tensorflow/python/autograph/impl/api.py\", line 309, in wrapper\n    return func(*args, **kwargs)\n\n  File \"<ipython-input-31-f2761b5d1afb>\", line 31, in load_image_amit\n    img , _ = process_path(file_path)\n\n  File \"<ipython-input-31-f2761b5d1afb>\", line 27, in process_path\n    img = tf.keras.applications.inception_v3.preprocess_input(img)\n\n  File \"/mnt/disks/user/anaconda3/lib/python3.7/site-packages/tensorflow/python/keras/applications/inception_v3.py\", line 420, in preprocess_input\n    return imagenet_utils.preprocess_input(x, data_format=data_format, mode='tf')\n\n  File \"/mnt/disks/user/anaconda3/lib/python3.7/site-packages/tensorflow/python/keras/applications/imagenet_utils.py\", line 110, in preprocess_input\n    x, data_format=data_format, mode=mode)\n\n  File \"/mnt/disks/user/anaconda3/lib/python3.7/site-packages/tensorflow/python/keras/applications/imagenet_utils.py\", line 253, in _preprocess_symbolic_input\n    x /= 127.5\n\n  File \"/mnt/disks/user/anaconda3/lib/python3.7/site-packages/tensorflow/python/ops/math_ops.py\", line 997, in binary_op_wrapper\n    return func(x, y, name=name)\n\n  File \"/mnt/disks/user/anaconda3/lib/python3.7/site-packages/tensorflow/python/ops/math_ops.py\", line 1090, in _truediv_python3\n    return gen_math_ops.real_div(x, y, name=name)\n\n  File \"/mnt/disks/user/anaconda3/lib/python3.7/site-packages/tensorflow/python/ops/gen_math_ops.py\", line 7264, in real_div\n    _ops.raise_from_not_ok_status(e, name)\n\n  File \"/mnt/disks/user/anaconda3/lib/python3.7/site-packages/tensorflow/python/framework/ops.py\", line 6653, in raise_from_not_ok_status\n    six.raise_from(core._status_to_exception(e.code, message), None)\n\n  File \"<string>\", line 3, in raise_from\n\ntensorflow.python.framework.errors_impl.InternalError: Failed copying input tensor from /job:localhost/replica:0/task:0/device:CPU:0 to /job:localhost/replica:0/task:0/device:GPU:0 in order to run RealDiv: Attempted to set tensor for existing mirror. [Op:RealDiv]\n\n\n\t [[{{node PyFunc}}]] [Op:IteratorGetNext]",
      "\nDuring handling of the above exception, another exception occurred:\n",
      "\u001b[0;31mUnknownError\u001b[0m                              Traceback (most recent call last)",
      "\u001b[0;32m<ipython-input-42-f5e5e0e2422f>\u001b[0m in \u001b[0;36m<module>\u001b[0;34m\u001b[0m\n\u001b[0;32m----> 1\u001b[0;31m \u001b[0msample_img_batch\u001b[0m\u001b[0;34m,\u001b[0m \u001b[0msample_cap_batch\u001b[0m \u001b[0;34m=\u001b[0m \u001b[0mnext\u001b[0m\u001b[0;34m(\u001b[0m\u001b[0miter\u001b[0m\u001b[0;34m(\u001b[0m\u001b[0mtrain_dataset\u001b[0m\u001b[0;34m)\u001b[0m\u001b[0;34m)\u001b[0m\u001b[0;34m\u001b[0m\u001b[0;34m\u001b[0m\u001b[0m\n\u001b[0m\u001b[1;32m      2\u001b[0m \u001b[0mprint\u001b[0m\u001b[0;34m(\u001b[0m\u001b[0msample_img_batch\u001b[0m\u001b[0;34m.\u001b[0m\u001b[0mshape\u001b[0m\u001b[0;34m)\u001b[0m \u001b[0;31m#(batch_size, 299, 299, 3)\u001b[0m\u001b[0;34m\u001b[0m\u001b[0;34m\u001b[0m\u001b[0m\n\u001b[1;32m      3\u001b[0m \u001b[0mprint\u001b[0m\u001b[0;34m(\u001b[0m\u001b[0msample_cap_batch\u001b[0m\u001b[0;34m.\u001b[0m\u001b[0mshape\u001b[0m\u001b[0;34m)\u001b[0m \u001b[0;31m#(batch_size, max_len)\u001b[0m\u001b[0;34m\u001b[0m\u001b[0;34m\u001b[0m\u001b[0m\n",
      "\u001b[0;32m/mnt/disks/user/anaconda3/lib/python3.7/site-packages/tensorflow/python/data/ops/iterator_ops.py\u001b[0m in \u001b[0;36m__next__\u001b[0;34m(self)\u001b[0m\n\u001b[1;32m    629\u001b[0m \u001b[0;34m\u001b[0m\u001b[0m\n\u001b[1;32m    630\u001b[0m   \u001b[0;32mdef\u001b[0m \u001b[0m__next__\u001b[0m\u001b[0;34m(\u001b[0m\u001b[0mself\u001b[0m\u001b[0;34m)\u001b[0m\u001b[0;34m:\u001b[0m  \u001b[0;31m# For Python 3 compatibility\u001b[0m\u001b[0;34m\u001b[0m\u001b[0;34m\u001b[0m\u001b[0m\n\u001b[0;32m--> 631\u001b[0;31m     \u001b[0;32mreturn\u001b[0m \u001b[0mself\u001b[0m\u001b[0;34m.\u001b[0m\u001b[0mnext\u001b[0m\u001b[0;34m(\u001b[0m\u001b[0;34m)\u001b[0m\u001b[0;34m\u001b[0m\u001b[0;34m\u001b[0m\u001b[0m\n\u001b[0m\u001b[1;32m    632\u001b[0m \u001b[0;34m\u001b[0m\u001b[0m\n\u001b[1;32m    633\u001b[0m   \u001b[0;32mdef\u001b[0m \u001b[0m_next_internal\u001b[0m\u001b[0;34m(\u001b[0m\u001b[0mself\u001b[0m\u001b[0;34m)\u001b[0m\u001b[0;34m:\u001b[0m\u001b[0;34m\u001b[0m\u001b[0;34m\u001b[0m\u001b[0m\n",
      "\u001b[0;32m/mnt/disks/user/anaconda3/lib/python3.7/site-packages/tensorflow/python/data/ops/iterator_ops.py\u001b[0m in \u001b[0;36mnext\u001b[0;34m(self)\u001b[0m\n\u001b[1;32m    668\u001b[0m     \u001b[0;34m\"\"\"Returns a nested structure of `Tensor`s containing the next element.\"\"\"\u001b[0m\u001b[0;34m\u001b[0m\u001b[0;34m\u001b[0m\u001b[0m\n\u001b[1;32m    669\u001b[0m     \u001b[0;32mtry\u001b[0m\u001b[0;34m:\u001b[0m\u001b[0;34m\u001b[0m\u001b[0;34m\u001b[0m\u001b[0m\n\u001b[0;32m--> 670\u001b[0;31m       \u001b[0;32mreturn\u001b[0m \u001b[0mself\u001b[0m\u001b[0;34m.\u001b[0m\u001b[0m_next_internal\u001b[0m\u001b[0;34m(\u001b[0m\u001b[0;34m)\u001b[0m\u001b[0;34m\u001b[0m\u001b[0;34m\u001b[0m\u001b[0m\n\u001b[0m\u001b[1;32m    671\u001b[0m     \u001b[0;32mexcept\u001b[0m \u001b[0merrors\u001b[0m\u001b[0;34m.\u001b[0m\u001b[0mOutOfRangeError\u001b[0m\u001b[0;34m:\u001b[0m\u001b[0;34m\u001b[0m\u001b[0;34m\u001b[0m\u001b[0m\n\u001b[1;32m    672\u001b[0m       \u001b[0;32mraise\u001b[0m \u001b[0mStopIteration\u001b[0m\u001b[0;34m\u001b[0m\u001b[0;34m\u001b[0m\u001b[0m\n",
      "\u001b[0;32m/mnt/disks/user/anaconda3/lib/python3.7/site-packages/tensorflow/python/data/ops/iterator_ops.py\u001b[0m in \u001b[0;36m_next_internal\u001b[0;34m(self)\u001b[0m\n\u001b[1;32m    659\u001b[0m         \u001b[0;32mreturn\u001b[0m \u001b[0mself\u001b[0m\u001b[0;34m.\u001b[0m\u001b[0m_element_spec\u001b[0m\u001b[0;34m.\u001b[0m\u001b[0m_from_compatible_tensor_list\u001b[0m\u001b[0;34m(\u001b[0m\u001b[0mret\u001b[0m\u001b[0;34m)\u001b[0m  \u001b[0;31m# pylint: disable=protected-access\u001b[0m\u001b[0;34m\u001b[0m\u001b[0;34m\u001b[0m\u001b[0m\n\u001b[1;32m    660\u001b[0m       \u001b[0;32mexcept\u001b[0m \u001b[0mAttributeError\u001b[0m\u001b[0;34m:\u001b[0m\u001b[0;34m\u001b[0m\u001b[0;34m\u001b[0m\u001b[0m\n\u001b[0;32m--> 661\u001b[0;31m         \u001b[0;32mreturn\u001b[0m \u001b[0mstructure\u001b[0m\u001b[0;34m.\u001b[0m\u001b[0mfrom_compatible_tensor_list\u001b[0m\u001b[0;34m(\u001b[0m\u001b[0mself\u001b[0m\u001b[0;34m.\u001b[0m\u001b[0m_element_spec\u001b[0m\u001b[0;34m,\u001b[0m \u001b[0mret\u001b[0m\u001b[0;34m)\u001b[0m\u001b[0;34m\u001b[0m\u001b[0;34m\u001b[0m\u001b[0m\n\u001b[0m\u001b[1;32m    662\u001b[0m \u001b[0;34m\u001b[0m\u001b[0m\n\u001b[1;32m    663\u001b[0m   \u001b[0;34m@\u001b[0m\u001b[0mproperty\u001b[0m\u001b[0;34m\u001b[0m\u001b[0;34m\u001b[0m\u001b[0m\n",
      "\u001b[0;32m/mnt/disks/user/anaconda3/lib/python3.7/contextlib.py\u001b[0m in \u001b[0;36m__exit__\u001b[0;34m(self, type, value, traceback)\u001b[0m\n\u001b[1;32m    128\u001b[0m                 \u001b[0mvalue\u001b[0m \u001b[0;34m=\u001b[0m \u001b[0mtype\u001b[0m\u001b[0;34m(\u001b[0m\u001b[0;34m)\u001b[0m\u001b[0;34m\u001b[0m\u001b[0;34m\u001b[0m\u001b[0m\n\u001b[1;32m    129\u001b[0m             \u001b[0;32mtry\u001b[0m\u001b[0;34m:\u001b[0m\u001b[0;34m\u001b[0m\u001b[0;34m\u001b[0m\u001b[0m\n\u001b[0;32m--> 130\u001b[0;31m                 \u001b[0mself\u001b[0m\u001b[0;34m.\u001b[0m\u001b[0mgen\u001b[0m\u001b[0;34m.\u001b[0m\u001b[0mthrow\u001b[0m\u001b[0;34m(\u001b[0m\u001b[0mtype\u001b[0m\u001b[0;34m,\u001b[0m \u001b[0mvalue\u001b[0m\u001b[0;34m,\u001b[0m \u001b[0mtraceback\u001b[0m\u001b[0;34m)\u001b[0m\u001b[0;34m\u001b[0m\u001b[0;34m\u001b[0m\u001b[0m\n\u001b[0m\u001b[1;32m    131\u001b[0m             \u001b[0;32mexcept\u001b[0m \u001b[0mStopIteration\u001b[0m \u001b[0;32mas\u001b[0m \u001b[0mexc\u001b[0m\u001b[0;34m:\u001b[0m\u001b[0;34m\u001b[0m\u001b[0;34m\u001b[0m\u001b[0m\n\u001b[1;32m    132\u001b[0m                 \u001b[0;31m# Suppress StopIteration *unless* it's the same exception that\u001b[0m\u001b[0;34m\u001b[0m\u001b[0;34m\u001b[0m\u001b[0;34m\u001b[0m\u001b[0m\n",
      "\u001b[0;32m/mnt/disks/user/anaconda3/lib/python3.7/site-packages/tensorflow/python/eager/context.py\u001b[0m in \u001b[0;36mexecution_mode\u001b[0;34m(mode)\u001b[0m\n\u001b[1;32m   1987\u001b[0m     \u001b[0;32mfinally\u001b[0m\u001b[0;34m:\u001b[0m\u001b[0;34m\u001b[0m\u001b[0;34m\u001b[0m\u001b[0m\n\u001b[1;32m   1988\u001b[0m       \u001b[0mctx\u001b[0m\u001b[0;34m.\u001b[0m\u001b[0mexecutor\u001b[0m \u001b[0;34m=\u001b[0m \u001b[0mexecutor_old\u001b[0m\u001b[0;34m\u001b[0m\u001b[0;34m\u001b[0m\u001b[0m\n\u001b[0;32m-> 1989\u001b[0;31m       \u001b[0mexecutor_new\u001b[0m\u001b[0;34m.\u001b[0m\u001b[0mwait\u001b[0m\u001b[0;34m(\u001b[0m\u001b[0;34m)\u001b[0m\u001b[0;34m\u001b[0m\u001b[0;34m\u001b[0m\u001b[0m\n\u001b[0m\u001b[1;32m   1990\u001b[0m \u001b[0;34m\u001b[0m\u001b[0m\n\u001b[1;32m   1991\u001b[0m \u001b[0;34m\u001b[0m\u001b[0m\n",
      "\u001b[0;32m/mnt/disks/user/anaconda3/lib/python3.7/site-packages/tensorflow/python/eager/executor.py\u001b[0m in \u001b[0;36mwait\u001b[0;34m(self)\u001b[0m\n\u001b[1;32m     65\u001b[0m   \u001b[0;32mdef\u001b[0m \u001b[0mwait\u001b[0m\u001b[0;34m(\u001b[0m\u001b[0mself\u001b[0m\u001b[0;34m)\u001b[0m\u001b[0;34m:\u001b[0m\u001b[0;34m\u001b[0m\u001b[0;34m\u001b[0m\u001b[0m\n\u001b[1;32m     66\u001b[0m     \u001b[0;34m\"\"\"Waits for ops dispatched in this executor to finish.\"\"\"\u001b[0m\u001b[0;34m\u001b[0m\u001b[0;34m\u001b[0m\u001b[0m\n\u001b[0;32m---> 67\u001b[0;31m     \u001b[0mpywrap_tfe\u001b[0m\u001b[0;34m.\u001b[0m\u001b[0mTFE_ExecutorWaitForAllPendingNodes\u001b[0m\u001b[0;34m(\u001b[0m\u001b[0mself\u001b[0m\u001b[0;34m.\u001b[0m\u001b[0m_handle\u001b[0m\u001b[0;34m)\u001b[0m\u001b[0;34m\u001b[0m\u001b[0;34m\u001b[0m\u001b[0m\n\u001b[0m\u001b[1;32m     68\u001b[0m \u001b[0;34m\u001b[0m\u001b[0m\n\u001b[1;32m     69\u001b[0m   \u001b[0;32mdef\u001b[0m \u001b[0mclear_error\u001b[0m\u001b[0;34m(\u001b[0m\u001b[0mself\u001b[0m\u001b[0;34m)\u001b[0m\u001b[0;34m:\u001b[0m\u001b[0;34m\u001b[0m\u001b[0;34m\u001b[0m\u001b[0m\n",
      "\u001b[0;31mUnknownError\u001b[0m: InternalError: Failed copying input tensor from /job:localhost/replica:0/task:0/device:CPU:0 to /job:localhost/replica:0/task:0/device:GPU:0 in order to run RealDiv: Attempted to set tensor for existing mirror. [Op:RealDiv]\nTraceback (most recent call last):\n\n  File \"/mnt/disks/user/anaconda3/lib/python3.7/site-packages/tensorflow/python/ops/script_ops.py\", line 243, in __call__\n    ret = func(*args)\n\n  File \"/mnt/disks/user/anaconda3/lib/python3.7/site-packages/tensorflow/python/autograph/impl/api.py\", line 309, in wrapper\n    return func(*args, **kwargs)\n\n  File \"<ipython-input-31-f2761b5d1afb>\", line 31, in load_image_amit\n    img , _ = process_path(file_path)\n\n  File \"<ipython-input-31-f2761b5d1afb>\", line 27, in process_path\n    img = tf.keras.applications.inception_v3.preprocess_input(img)\n\n  File \"/mnt/disks/user/anaconda3/lib/python3.7/site-packages/tensorflow/python/keras/applications/inception_v3.py\", line 420, in preprocess_input\n    return imagenet_utils.preprocess_input(x, data_format=data_format, mode='tf')\n\n  File \"/mnt/disks/user/anaconda3/lib/python3.7/site-packages/tensorflow/python/keras/applications/imagenet_utils.py\", line 110, in preprocess_input\n    x, data_format=data_format, mode=mode)\n\n  File \"/mnt/disks/user/anaconda3/lib/python3.7/site-packages/tensorflow/python/keras/applications/imagenet_utils.py\", line 253, in _preprocess_symbolic_input\n    x /= 127.5\n\n  File \"/mnt/disks/user/anaconda3/lib/python3.7/site-packages/tensorflow/python/ops/math_ops.py\", line 997, in binary_op_wrapper\n    return func(x, y, name=name)\n\n  File \"/mnt/disks/user/anaconda3/lib/python3.7/site-packages/tensorflow/python/ops/math_ops.py\", line 1090, in _truediv_python3\n    return gen_math_ops.real_div(x, y, name=name)\n\n  File \"/mnt/disks/user/anaconda3/lib/python3.7/site-packages/tensorflow/python/ops/gen_math_ops.py\", line 7264, in real_div\n    _ops.raise_from_not_ok_status(e, name)\n\n  File \"/mnt/disks/user/anaconda3/lib/python3.7/site-packages/tensorflow/python/framework/ops.py\", line 6653, in raise_from_not_ok_status\n    six.raise_from(core._status_to_exception(e.code, message), None)\n\n  File \"<string>\", line 3, in raise_from\n\ntensorflow.python.framework.errors_impl.InternalError: Failed copying input tensor from /job:localhost/replica:0/task:0/device:CPU:0 to /job:localhost/replica:0/task:0/device:GPU:0 in order to run RealDiv: Attempted to set tensor for existing mirror. [Op:RealDiv]\n\n\n\t [[{{node PyFunc}}]]"
     ]
    }
   ],
   "source": [
    "sample_img_batch, sample_cap_batch = next(iter(train_dataset))\n",
    "print(sample_img_batch.shape) #(batch_size, 299, 299, 3)\n",
    "print(sample_cap_batch.shape) #(batch_size, max_len)"
   ]
  },
  {
   "cell_type": "markdown",
   "metadata": {
    "id": "itsOP9BKyTzU"
   },
   "source": [
    "## Test data"
   ]
  },
  {
   "cell_type": "code",
   "execution_count": null,
   "metadata": {
    "id": "SDrOBVgxJXrM"
   },
   "outputs": [],
   "source": [
    "\n",
    "test_dataset = tf.data.Dataset.from_tensor_slices((val_image_idx, val_captions))\n",
    "\n",
    "# Use map to load the numpy files in parallel\n",
    "test_dataset = test_dataset.map(lambda item1, item2: tf.numpy_function(\n",
    "          load_image_amit, [item1, item2], [tf.float32, tf.int32]),\n",
    "          num_parallel_calls=tf.data.experimental.AUTOTUNE)\n",
    "\n",
    "test_dataset = test_dataset.shuffle(BUFFER_SIZE).batch(batch_size, drop_remainder=True)"
   ]
  },
  {
   "cell_type": "code",
   "execution_count": null,
   "metadata": {
    "colab": {
     "base_uri": "https://localhost:8080/"
    },
    "id": "p5uw6I_-yTzV",
    "outputId": "9d1cc06c-0aac-4412-b321-54c9f0ab59d7"
   },
   "outputs": [],
   "source": [
    "sample_img_batch_test, sample_cap_batch_test = next(iter(test_dataset))\n",
    "print(sample_img_batch_test.shape) #(batch_size, 299, 299, 3)\n",
    "print(sample_cap_batch_test.shape) #(batch_size, max_len)"
   ]
  },
  {
   "cell_type": "markdown",
   "metadata": {
    "id": "bFpGFfKyDmZm"
   },
   "source": [
    "## Train data from feature vector"
   ]
  },
  {
   "cell_type": "code",
   "execution_count": null,
   "metadata": {
    "id": "EnhcpGEt6gXh"
   },
   "outputs": [],
   "source": [
    "#  create a tensor from given data\n",
    "train_dataset = tf.data.Dataset.from_tensor_slices((train_image_idx, train_captions))"
   ]
  },
  {
   "cell_type": "code",
   "execution_count": null,
   "metadata": {
    "id": "5FN-tFAM6gXh"
   },
   "outputs": [],
   "source": [
    "# Use map to load the numpy files in parallel\n",
    "train_dataset = train_dataset.map(lambda item1, item2: tf.numpy_function(\n",
    "          map_func, [item1, item2], [tf.float32, tf.int32]),\n",
    "          num_parallel_calls=tf.data.experimental.AUTOTUNE)\n"
   ]
  },
  {
   "cell_type": "code",
   "execution_count": null,
   "metadata": {
    "id": "cl4Yznx96gXh"
   },
   "outputs": [],
   "source": [
    "# Shuffle and batch\n",
    "train_dataset = train_dataset.shuffle(BUFFER_SIZE).batch(batch_size, drop_remainder=True)\n",
    "train_dataset = train_dataset.prefetch(buffer_size=tf.data.experimental.AUTOTUNE)"
   ]
  },
  {
   "cell_type": "code",
   "execution_count": null,
   "metadata": {
    "colab": {
     "base_uri": "https://localhost:8080/"
    },
    "id": "wvcKn3gJ6gXh",
    "outputId": "b2a1fe1d-9ff2-4bc0-cb19-64e04d6ecdf2"
   },
   "outputs": [],
   "source": [
    "sample_img_batch, sample_cap_batch = next(iter(train_dataset))\n",
    "print(sample_img_batch.shape)  #(batch_size, 8*8, 2048)\n",
    "print(sample_cap_batch.shape) #(batch_size,40)"
   ]
  },
  {
   "cell_type": "markdown",
   "metadata": {
    "id": "xSR-TM5kyTzY"
   },
   "source": [
    "## Test data"
   ]
  },
  {
   "cell_type": "code",
   "execution_count": null,
   "metadata": {
    "id": "G4ZONgzAyTzY"
   },
   "outputs": [],
   "source": [
    "#  create a tensor from given data\n",
    "test_dataset = tf.data.Dataset.from_tensor_slices((val_image_idx, val_captions))"
   ]
  },
  {
   "cell_type": "code",
   "execution_count": null,
   "metadata": {
    "id": "aKUqbjiGyTzY"
   },
   "outputs": [],
   "source": [
    "# Use map to load the numpy files in parallel\n",
    "test_dataset = test_dataset.map(lambda item1, item2: tf.numpy_function(\n",
    "          map_func, [item1, item2], [tf.float32, tf.int32]),\n",
    "          num_parallel_calls=tf.data.experimental.AUTOTUNE)\n"
   ]
  },
  {
   "cell_type": "code",
   "execution_count": null,
   "metadata": {
    "id": "6AOWjwH6yTzZ"
   },
   "outputs": [],
   "source": [
    "# Shuffle and batch\n",
    "test_dataset = test_dataset.shuffle(BUFFER_SIZE).batch(batch_size,drop_remainder=True)\n",
    "test_dataset = test_dataset.prefetch(buffer_size=tf.data.experimental.AUTOTUNE)"
   ]
  },
  {
   "cell_type": "code",
   "execution_count": null,
   "metadata": {
    "colab": {
     "base_uri": "https://localhost:8080/"
    },
    "id": "m5PEetDyyTzZ",
    "outputId": "6d4df2e7-f7dd-4c67-fd7f-8490153d3f04"
   },
   "outputs": [],
   "source": [
    "sample_img_batch_test, sample_cap_batch_test = next(iter(test_dataset))\n",
    "print(sample_img_batch_test.shape)  #(batch_size, 8*8, 2048)\n",
    "print(sample_cap_batch_test.shape) #(batch_size,40)"
   ]
  },
  {
   "cell_type": "markdown",
   "metadata": {
    "id": "dkO6bpzL6gXi"
   },
   "source": [
    "## Model Building\n",
    "1.Set the parameters\n",
    "\n",
    "2.Build the Encoder, Attention model & Decoder"
   ]
  },
  {
   "cell_type": "code",
   "execution_count": null,
   "metadata": {
    "id": "PIHD8AL_6gXi"
   },
   "outputs": [],
   "source": [
    "embedding_dim = 256 \n",
    "units = 512\n",
    "vocab_size = 5001 #top 5,000 words +1\n",
    "train_num_steps = len(train_image_idx) // batch_size\n",
    "test_num_steps = len(val_image_idx) // batch_size"
   ]
  },
  {
   "cell_type": "markdown",
   "metadata": {
    "id": "CaFhLOVb6gXi"
   },
   "source": [
    "### Encoder"
   ]
  },
  {
   "cell_type": "code",
   "execution_count": null,
   "metadata": {
    "id": "b326M1fm6gXi"
   },
   "outputs": [],
   "source": [
    "class Encoder(tf.keras.Model):\n",
    "    def __init__(self,embed_dim):\n",
    "        super(Encoder, self).__init__()\n",
    "        self.dense = tf.keras.layers.Dense(embed_dim)#build your Dense layer with relu activation\n",
    "        \n",
    "    def call(self, features):\n",
    "        features =  self.dense(features) # extract the features from the image shape: (batch, 8*8, embed_dim)\n",
    "        features = tf.nn.relu(features)\n",
    "        return features"
   ]
  },
  {
   "cell_type": "code",
   "execution_count": null,
   "metadata": {
    "id": "3Iugu5xM6gXj"
   },
   "outputs": [],
   "source": [
    "encoder=Encoder(embedding_dim)"
   ]
  },
  {
   "cell_type": "markdown",
   "metadata": {
    "id": "wJZauLck6gXj"
   },
   "source": [
    "### Attention model"
   ]
  },
  {
   "cell_type": "code",
   "execution_count": null,
   "metadata": {
    "id": "l6Rcosn46gXj"
   },
   "outputs": [],
   "source": [
    "class Attention_model(tf.keras.Model):\n",
    "    def __init__(self, units):\n",
    "        super(Attention_model, self).__init__()\n",
    "        self.W1 = tf.keras.layers.Dense(units) #build your Dense layer\n",
    "        self.W2 = tf.keras.layers.Dense(units) #build your Dense layer\n",
    "        self.V = tf.keras.layers.Dense(1) #build your final Dense layer with unit 1\n",
    "        self.units=units\n",
    "\n",
    "    def call(self, features, hidden):\n",
    "        #features shape: (batch_size, 8*8, embedding_dim)\n",
    "        # hidden shape: (batch_size, hidden_size)\n",
    "        hidden_with_time_axis =  tf.expand_dims(hidden, 1)# Expand the hidden shape to shape: (batch_size, 1, hidden_size)\n",
    "        attention_hidden_layer = (tf.nn.tanh(self.W1(features) + self.W2(hidden_with_time_axis)))\n",
    "\n",
    "        score = self.V(attention_hidden_layer) # build your score funciton to shape: (batch_size, 8*8, units)\n",
    "        attention_weights =  tf.nn.softmax(score, axis=1) # extract your attention weights with shape: (batch_size, 8*8, 1)\n",
    "        context_vector =  attention_weights * features #shape: create the context vector with shape (batch_size, 8*8,embedding_dim)\n",
    "        context_vector = tf.reduce_sum(context_vector, axis=1) # reduce the shape to (batch_size, embedding_dim)\n",
    "        \n",
    "\n",
    "        return context_vector, attention_weights"
   ]
  },
  {
   "cell_type": "markdown",
   "metadata": {
    "id": "roSekRIX6gXk"
   },
   "source": [
    "### Decoder"
   ]
  },
  {
   "cell_type": "code",
   "execution_count": null,
   "metadata": {
    "id": "mTbPha296gXk"
   },
   "outputs": [],
   "source": [
    "class Decoder(tf.keras.Model):\n",
    "    def __init__(self, embed_dim, units, vocab_size):\n",
    "        super(Decoder, self).__init__()\n",
    "        self.units=units\n",
    "        self.attention = Attention_model(self.units)#iniitalise your Attention model with units\n",
    "        self.embed = tf.keras.layers.Embedding(vocab_size, embedding_dim) #build your Embedding layer\n",
    "        self.gru = tf.keras.layers.GRU(self.units,return_sequences=True,return_state=True,recurrent_initializer='glorot_uniform')\n",
    "        self.d1 = tf.keras.layers.Dense(self.units) #build your Dense layer\n",
    "        self.d2 = tf.keras.layers.Dense(vocab_size) #build your Dense layer\n",
    "        \n",
    "\n",
    "    def call(self,x,features, hidden):\n",
    "        context_vector, attention_weights = self.attention(features, hidden) #create your context vector & attention weights from attention model\n",
    "        embed = self.embed(x)# embed your input to shape: (batch_size, 1, embedding_dim)\n",
    "        embed = tf.concat([tf.expand_dims(context_vector, 1), embed], axis=-1)  # Concatenate your input with the context vector from attention layer. Shape: (batch_size, 1, embedding_dim + embedding_dim)\n",
    "        output,state = self.gru(embed)# Extract the output & hidden state from GRU layer. Output shape : (batch_size, max_length, hidden_size)\n",
    "        output = self.d1(output)\n",
    "        output = tf.reshape(output, (-1, output.shape[2])) # shape : (batch_size * max_length, hidden_size)\n",
    "        output = self.d2(output) # shape : (batch_size * max_length, vocab_size)\n",
    "        \n",
    "        return output,state, attention_weights\n",
    "    # reset_state\n",
    "    def init_state(self, batch_size):\n",
    "        return tf.zeros((batch_size, self.units))\n"
   ]
  },
  {
   "cell_type": "code",
   "execution_count": null,
   "metadata": {
    "id": "UODeFhc06gXk"
   },
   "outputs": [],
   "source": [
    "decoder=Decoder(embedding_dim, units, vocab_size)"
   ]
  },
  {
   "cell_type": "code",
   "execution_count": null,
   "metadata": {
    "id": "hhf1dhr46gXk"
   },
   "outputs": [],
   "source": [
    "features=encoder(sample_img_batch)\n",
    "\n",
    "hidden = decoder.init_state(batch_size=sample_cap_batch.shape[0])\n",
    "dec_input = tf.expand_dims([tokenizer.word_index['<start>']] * sample_cap_batch.shape[0], 1)\n",
    "dec_input = tf.cast(dec_input, dtype=tf.float32)"
   ]
  },
  {
   "cell_type": "code",
   "execution_count": null,
   "metadata": {
    "colab": {
     "base_uri": "https://localhost:8080/"
    },
    "id": "-iMFsUfvRGNB",
    "outputId": "128bd250-11d3-4424-edbb-dc584d9fa408"
   },
   "outputs": [],
   "source": [
    "predictions, hidden_out, attention_weights= decoder(dec_input, features, hidden)\n",
    "print('Feature shape from Encoder: {}'.format(features.shape)) #(batch, 8*8, embed_dim)\n",
    "print('Predcitions shape from Decoder: {}'.format(predictions.shape)) #(batch,vocab_size)\n",
    "print('Attention weights shape from Decoder: {}'.format(attention_weights.shape)) #(batch, 8*8, embed_dim)"
   ]
  },
  {
   "cell_type": "markdown",
   "metadata": {
    "id": "HwU-iwqq6gXk"
   },
   "source": [
    "## Model training & optimization\n",
    "1.Set the optimizer & loss object\n",
    "\n",
    "2.Create your checkpoint path\n",
    "\n",
    "3.Create your training & testing step functions\n",
    "\n",
    "4.Create your loss function for the test dataset"
   ]
  },
  {
   "cell_type": "code",
   "execution_count": null,
   "metadata": {
    "id": "apt9U1Xf6gXl"
   },
   "outputs": [],
   "source": [
    "optimizer = tf.keras.optimizers.Adam() #define the optimizer\n",
    "loss_object = tf.keras.losses.SparseCategoricalCrossentropy(from_logits=True, reduction='none')#define your loss object"
   ]
  },
  {
   "cell_type": "code",
   "execution_count": null,
   "metadata": {
    "id": "jBTRxrgt6gXl"
   },
   "outputs": [],
   "source": [
    "def loss_function(real, pred):\n",
    "    mask = tf.math.logical_not(tf.math.equal(real, 0))\n",
    "    loss_ = loss_object(real, pred)\n",
    "\n",
    "    mask = tf.cast(mask, dtype=loss_.dtype)\n",
    "    loss_ *= mask\n",
    "\n",
    "    return tf.reduce_mean(loss_)"
   ]
  },
  {
   "cell_type": "code",
   "execution_count": null,
   "metadata": {
    "id": "4XI40SRq6gXl"
   },
   "outputs": [],
   "source": [
    "checkpoint_path = \"./checkpoints/train\"\n",
    "ckpt = tf.train.Checkpoint(encoder=encoder,\n",
    "                           decoder=decoder,\n",
    "                           optimizer = optimizer)\n",
    "ckpt_manager = tf.train.CheckpointManager(ckpt, checkpoint_path, max_to_keep=5)"
   ]
  },
  {
   "cell_type": "code",
   "execution_count": null,
   "metadata": {
    "id": "bGreMsEQ6gXl"
   },
   "outputs": [],
   "source": [
    "start_epoch = 0\n",
    "# if ckpt_manager.latest_checkpoint:\n",
    "#     start_epoch = int(ckpt_manager.latest_checkpoint.split('-')[-1])\n",
    "#     # restoring the latest checkpoint in checkpoint_path\n",
    "#     ckpt.restore(ckpt_manager.latest_checkpoint)"
   ]
  },
  {
   "cell_type": "code",
   "execution_count": null,
   "metadata": {
    "id": "cnNELKW96gXm"
   },
   "outputs": [],
   "source": [
    "@tf.function\n",
    "def train_step(img_tensor, target):\n",
    "    loss = 0\n",
    "    hidden = decoder.init_state(batch_size=target.shape[0])\n",
    "    # print(hidden.shape)\n",
    "    dec_input = tf.expand_dims([tokenizer.word_index['<start>']] * target.shape[0], 1)\n",
    "    # print(dec_input.shape)\n",
    "    with tf.GradientTape() as tape:\n",
    "        #write your code here to do the training steps\n",
    "        feature = encoder(img_tensor)\n",
    "        # print(feature.shape)\n",
    "        for i in range(1, target.shape[1]):\n",
    "            predictions, hidden, _ = decoder(dec_input, feature, hidden)\n",
    "            loss += loss_function(target[:, i], predictions)\n",
    "            dec_input = tf.expand_dims(target[:, i], 1)\n",
    "            \n",
    "    avg_loss = (loss / int(target.shape[1]))\n",
    "    trainable_variables = encoder.trainable_variables + decoder.trainable_variables\n",
    "\n",
    "    gradients = tape.gradient(loss, trainable_variables)\n",
    "    optimizer.apply_gradients(zip(gradients, trainable_variables))\n",
    "\n",
    "    return loss, avg_loss"
   ]
  },
  {
   "cell_type": "code",
   "execution_count": null,
   "metadata": {
    "id": "39zwHq5G6gXm"
   },
   "outputs": [],
   "source": [
    "@tf.function\n",
    "def test_step(img_tensor, target):\n",
    "    loss = 0\n",
    "    #write your code here to do the testing steps\n",
    "    hidden = decoder.init_state(batch_size=target.shape[0])\n",
    "    dec_input = tf.expand_dims([tokenizer.word_index['<start>']] * target.shape[0], 1)\n",
    "    features = encoder(img_tensor)\n",
    "    for i in range(1, target.shape[1]):\n",
    "    # passing the features through the decoder\n",
    "        predictions, hidden, attention_weights = decoder(dec_input, features, hidden)\n",
    "        # predictions : (64,8329)\n",
    "        loss += loss_function(target[:, i], predictions)\n",
    "      \n",
    "        predicted_id = tf.argmax(predictions[0])\n",
    "        dec_input = tf.expand_dims([predicted_id]*batch_size, 1)\n",
    " \n",
    "    avg_loss = (loss / int(target.shape[1]))\n",
    "        \n",
    "    return loss, avg_loss"
   ]
  },
  {
   "cell_type": "code",
   "execution_count": null,
   "metadata": {
    "id": "Jb64chUm6gXm"
   },
   "outputs": [],
   "source": [
    "def test_loss_cal(test_dataset):\n",
    "    total_loss = 0\n",
    "    #write your code to get the average loss result on your test data\n",
    "    # i=0\n",
    "    for (batch, (img_tensor, target)) in enumerate(test_dataset):\n",
    "        print(batch, img_tensor.shape, target.shape)\n",
    "        batch_loss, t_loss = test_step(img_tensor, target)\n",
    "        total_loss += t_loss\n",
    "        # i= i+1\n",
    "        # if i>2:\n",
    "        #   break\n",
    "\n",
    "    avg_test_loss = total_loss/test_num_steps\n",
    "    return avg_test_loss"
   ]
  },
  {
   "cell_type": "code",
   "execution_count": null,
   "metadata": {
    "id": "oZg8xF-sq299"
   },
   "outputs": [],
   "source": [
    "EPOCHS = 10\n",
    "loss_plot = []\n",
    "test_loss_plot = []\n",
    "best_test_loss=100\n",
    "start_epoch = 0"
   ]
  },
  {
   "cell_type": "code",
   "execution_count": null,
   "metadata": {
    "colab": {
     "base_uri": "https://localhost:8080/"
    },
    "id": "gOyquoCI6gXm",
    "outputId": "240357b3-cd6a-4fb8-b8c6-256757cd75de"
   },
   "outputs": [],
   "source": [
    "for epoch in range(start_epoch, EPOCHS):\n",
    "    start = time.time()\n",
    "    total_loss = 0\n",
    "\n",
    "    for (batch, (img_tensor, target)) in enumerate(train_dataset):\n",
    "        batch_loss, t_loss = train_step(img_tensor, target)\n",
    "        total_loss += t_loss\n",
    "\n",
    "        if batch % 100 == 0:\n",
    "            print ('Epoch {} Batch {} Loss {:.4f}'.format(\n",
    "              epoch + 1, batch, batch_loss.numpy() / int(target.shape[1])))\n",
    "    # storing the epoch end loss value to plot later\n",
    "    loss_plot.append(total_loss / train_num_steps)\n",
    "    \n",
    "    test_loss = test_loss_cal(test_dataset)\n",
    "    test_loss_plot.append(test_loss)\n",
    "    \n",
    "    # print ('For epoch: {}, the train loss is {:.3f}, & test loss is {:.3f}'.format(epoch+1,avg_train_loss,test_loss))\n",
    "    print ('Time taken for 1 epoch {} sec\\n'.format(time.time() - start))\n",
    "    \n",
    "    if test_loss < best_test_loss:\n",
    "        print('Test loss has been reduced from %.3f to %.3f' % (best_test_loss, test_loss))\n",
    "        best_test_loss = test_loss\n",
    "        ckpt_manager.save()\n",
    "        \n",
    "    print ('Epoch {} Loss {:.6f}'.format(epoch + 1,total_loss/train_num_steps))\n",
    "    print ('Time taken for 1 epoch {} sec\\n'.format(time.time() - start))"
   ]
  },
  {
   "cell_type": "code",
   "execution_count": null,
   "metadata": {
    "colab": {
     "base_uri": "https://localhost:8080/",
     "height": 295
    },
    "id": "Co4C0jIA6gXn",
    "outputId": "fbdcbb20-8f2b-4df4-e709-04e0956e0a62"
   },
   "outputs": [],
   "source": [
    "plt.plot(loss_plot)\n",
    "plt.plot(test_loss_plot)\n",
    "plt.xlabel('Epochs')\n",
    "plt.ylabel('Loss')\n",
    "plt.title('Loss Plot')\n",
    "plt.show()"
   ]
  },
  {
   "cell_type": "markdown",
   "metadata": {
    "id": "qhbFHrf-6gXn"
   },
   "source": [
    "## Model Evaluation\n",
    "1.Define your evaluation function using greedy search\n",
    "\n",
    "2.Define your evaluation function using beam search ( optional)\n",
    "\n",
    "3.Test it on a sample data using BLEU score"
   ]
  },
  {
   "cell_type": "markdown",
   "metadata": {
    "id": "69mqfSv-6gXr"
   },
   "source": [
    "### Greedy Search"
   ]
  },
  {
   "cell_type": "code",
   "execution_count": null,
   "metadata": {
    "id": "DF6rMqZd6gXs"
   },
   "outputs": [],
   "source": [
    "attention_features_shape = 64 #assign from relevant variable above\n",
    "def evaluate(image):\n",
    "    attention_plot = np.zeros((MaxLength, attention_features_shape))\n",
    "\n",
    "    hidden = decoder.init_state(batch_size=1)\n",
    "\n",
    "    temp_input = tf.expand_dims(process_path(image)[0], 0) #process the input image to desired format before extracting features\n",
    "    img_tensor_val = image_features_extract_model(temp_input) # Extract features using our feature extraction model\n",
    "    img_tensor_val = tf.reshape(img_tensor_val, (img_tensor_val.shape[0], -1, img_tensor_val.shape[3]))\n",
    "\n",
    "    features = encoder(img_tensor_val)# extract the features by passing the input to encoder\n",
    "\n",
    "    dec_input = tf.expand_dims([tokenizer.word_index['<start>']], 0)\n",
    "    result = []\n",
    "\n",
    "    for i in range(MaxLength):\n",
    "        predictions, hidden, attention_weights = decoder(dec_input, feature, hidden)# get the output from decoder\n",
    "\n",
    "        attention_plot[i] = tf.reshape(attention_weights, (-1, )).numpy()\n",
    "\n",
    "        predicted_id = tf.random.categorical(predictions, 1)[0][0].numpy()#extract the predicted id(embedded value) which carries the max value\n",
    "        \n",
    "        #map the id to the word from tokenizer and append the value to the result list\n",
    "        predicted_word = tokenizer.index_word[predicted_id]\n",
    "        result.append(predicted_word)\n",
    "        if tokenizer.index_word[predicted_id] == '<end>':\n",
    "            return result, attention_plot,predictions\n",
    "\n",
    "        dec_input = tf.expand_dims([predicted_id], 0)\n",
    "\n",
    "    attention_plot = attention_plot[:len(result), :]\n",
    "    return result, attention_plot,predictions\n"
   ]
  },
  {
   "cell_type": "markdown",
   "metadata": {
    "id": "tlmm8YVl6gXs"
   },
   "source": [
    "### Beam Search(optional)"
   ]
  },
  {
   "cell_type": "code",
   "execution_count": null,
   "metadata": {
    "id": "UspPZ0hn6gXt"
   },
   "outputs": [],
   "source": [
    "def beam_evaluate(image, beam_index =7):\n",
    "    # captions on the validation set\n",
    "    start = time.time()\n",
    "    result, attention_plot = evaluate(image)\n",
    "    #remove \"<unk>\" in result\n",
    "    for i in result:\n",
    "        if i==\"<unk>\":\n",
    "            result.remove(i)\n",
    "\n",
    "\n",
    "    #remove <end> from result         \n",
    "    result_join = ' '.join(result)\n",
    "    final_caption = result_join.rsplit(' ', 1)[0]\n",
    "    print ('Prediction Caption:', final_caption)\n",
    "\n",
    "    plot_attention(image, result, attention_plot)\n",
    "\n",
    "    print(f\"time took to Predict: {round(time.time()-start)} sec\")\n",
    "                  \n",
    "    return final_caption\n",
    "\n"
   ]
  },
  {
   "cell_type": "code",
   "execution_count": null,
   "metadata": {
    "id": "oWPZlukL6gXt"
   },
   "outputs": [],
   "source": [
    "def plot_attmap(caption, weights, image):\n",
    "\n",
    "    fig = plt.figure(figsize=(10, 10))\n",
    "    temp_img = np.array(Image.open(image))\n",
    "    \n",
    "    len_cap = len(caption)\n",
    "    for cap in range(len_cap):\n",
    "        weights_img = np.reshape(weights[cap], (8,8))\n",
    "        weights_img = np.array(Image.fromarray(weights_img).resize((224, 224), Image.LANCZOS))\n",
    "        \n",
    "        ax = fig.add_subplot(len_cap//2, len_cap//2, cap+1)\n",
    "        ax.set_title(caption[cap], fontsize=15)\n",
    "        \n",
    "        img=ax.imshow(temp_img)\n",
    "        \n",
    "        ax.imshow(weights_img, cmap='gist_heat', alpha=0.6,extent=img.get_extent())\n",
    "        ax.axis('off')\n",
    "    plt.subplots_adjust(hspace=0.2, wspace=0.2)\n",
    "    plt.show()"
   ]
  },
  {
   "cell_type": "code",
   "execution_count": null,
   "metadata": {
    "id": "sV33b63y6gXt"
   },
   "outputs": [],
   "source": [
    "from nltk.translate.bleu_score import sentence_bleu"
   ]
  },
  {
   "cell_type": "code",
   "execution_count": null,
   "metadata": {
    "id": "NWUGDejm6gXt"
   },
   "outputs": [],
   "source": [
    "def filt_text(text):\n",
    "    filt=['<start>','<unk>','<end>'] \n",
    "    temp= text.split()\n",
    "    [temp.remove(j) for k in filt for j in temp if k==j]\n",
    "    text=' '.join(temp)\n",
    "    return text"
   ]
  },
  {
   "cell_type": "code",
   "execution_count": null,
   "metadata": {
    "id": "0ZRSp7jo6gXu"
   },
   "outputs": [],
   "source": [
    "rid = np.random.randint(0, len(val_image_idx))\n",
    "test_image = val_image_idx[rid]\n",
    "#test_image = './images/413231421_43833a11f5.jpg'\n",
    "#real_caption = '<start> black dog is digging in the snow <end>'\n",
    "\n",
    "real_caption = ' '.join([tokenizer.index_word[i] for i in val_captions[rid] if i not in [0]])\n",
    "result, attention_plot,pred_test = evaluate(test_image)\n",
    "\n",
    "\n",
    "real_caption=filt_text(real_caption)      \n",
    "\n",
    "\n",
    "pred_caption=' '.join(result).rsplit(' ', 1)[0]\n",
    "\n",
    "real_appn = []\n",
    "real_appn.append(real_caption.split())\n",
    "reference = real_appn\n",
    "candidate = pred_caption.split()\n",
    "\n",
    "score = sentence_bleu(reference, candidate, weights=(0.5, 0.5, 0, 0))#set your weights)\n",
    "print(f\"BELU score: {score*100}\")\n",
    "\n",
    "print ('Real Caption:', real_caption)\n",
    "print ('Prediction Caption:', pred_caption)\n",
    "plot_attmap(result, attention_plot, test_image)\n",
    "\n",
    "\n",
    "Image.open(test_image)"
   ]
  },
  {
   "cell_type": "code",
   "execution_count": null,
   "metadata": {
    "id": "otO3iUmB6gXu"
   },
   "outputs": [],
   "source": [
    "captions=beam_evaluate(test_image)\n",
    "print(captions)\n",
    "\n",
    "\n",
    "candidate = captions.split()\n",
    "\n",
    "score = sentence_bleu(reference, candidate, weights=(0.5, 0.5, 0, 0))\n",
    "print(f\"BELU score: {score*100}\")\n",
    "\n",
    "#print ('Real Caption:', real_caption)\n"
   ]
  },
  {
   "cell_type": "code",
   "execution_count": null,
   "metadata": {
    "id": "2oah3PPZDmZx"
   },
   "outputs": [],
   "source": []
  },
  {
   "cell_type": "code",
   "execution_count": null,
   "metadata": {
    "id": "kXuMdecpDmZx"
   },
   "outputs": [],
   "source": []
  }
 ],
 "metadata": {
  "accelerator": "GPU",
  "colab": {
   "collapsed_sections": [],
   "name": "Eye+for+blind+Starter+code-Copy1.ipynb",
   "provenance": []
  },
  "kernelspec": {
   "display_name": "Python 3",
   "language": "python",
   "name": "python3"
  },
  "language_info": {
   "codemirror_mode": {
    "name": "ipython",
    "version": 3
   },
   "file_extension": ".py",
   "mimetype": "text/x-python",
   "name": "python",
   "nbconvert_exporter": "python",
   "pygments_lexer": "ipython3",
   "version": "3.7.3"
  }
 },
 "nbformat": 4,
 "nbformat_minor": 1
}
