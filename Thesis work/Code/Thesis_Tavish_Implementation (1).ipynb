{
  "nbformat": 4,
  "nbformat_minor": 0,
  "metadata": {
    "colab": {
      "name": "Thesis-Tavish-Implementation.ipynb",
      "provenance": [],
      "collapsed_sections": [
        "03ekbnI1DLl9",
        "SLQ_IgLzDLl-",
        "BexYPYGWDLl-",
        "PkBbjFPEDLl_",
        "lOlgA1-LDLl_",
        "8hLLMBw1DLmA",
        "R9N5Nw4g_Bko",
        "BycqnlSUAYfF",
        "xcpDLNjVBTGD",
        "f1Kk_dfXF3f8",
        "Lm1_QrClb5o4"
      ]
    },
    "kernelspec": {
      "name": "python3",
      "display_name": "Python 3"
    },
    "language_info": {
      "name": "python"
    }
  },
  "cells": [
    {
      "cell_type": "markdown",
      "metadata": {
        "id": "m6luf30M5xzE"
      },
      "source": [
        "# Importing libraries"
      ]
    },
    {
      "cell_type": "code",
      "metadata": {
        "id": "Vn7rJP-h1HGO"
      },
      "source": [
        "# !pip install quandl\n",
        "# !pip install --upgrade --no-deps statsmodels\n",
        "# !pip install pycaret\n",
        "# !pip install kats\n",
        "# !pip install -U sklearn\n",
        "# !pip install -U scikit-learn\n",
        "# !pip install -U sklearn\n",
        "# !pip install ta \n",
        "# !pip install -U pmdarima\n"
      ],
      "execution_count": 426,
      "outputs": []
    },
    {
      "cell_type": "code",
      "metadata": {
        "id": "gdYCX8Zf1P34"
      },
      "source": [
        "import numpy as np\n",
        "import pandas as pd\n",
        "import re\n",
        "from math import sqrt\n",
        "import quandl\n",
        "import matplotlib.pyplot as plt\n",
        "import seaborn as sns\n",
        "from sklearn.preprocessing import StandardScaler\n",
        "from sklearn.metrics import mean_squared_error\n",
        "import statsmodels.graphics.tsaplots as sgt\n",
        "from statsmodels.tsa.arima.model import ARIMA\n",
        "from statsmodels.tsa.ar_model import AR, ARResults\n",
        "from sklearn.metrics import mean_absolute_percentage_error, mean_squared_error, r2_score\n",
        "# for mean_squared_error set squared = False for RMSE, (y_true, y_pred)\n",
        "import statsmodels.tsa.stattools as sts\n",
        "from statsmodels.tsa.statespace.varmax import VARMAX, VARMAXResults\n",
        "from statsmodels.tsa.statespace.sarimax import SARIMAX\n",
        "from statsmodels.tsa.seasonal import seasonal_decompose\n",
        "from fbprophet import Prophet\n",
        "import random\n",
        "import warnings\n",
        "warnings.filterwarnings('ignore')\n",
        "from pycaret.regression import *\n",
        "from kats.consts import TimeSeriesData\n",
        "from pmdarima import auto_arima"
      ],
      "execution_count": 427,
      "outputs": []
    },
    {
      "cell_type": "code",
      "metadata": {
        "id": "_kjiidTt1adM"
      },
      "source": [
        "pd.set_option('display.max_columns', None)"
      ],
      "execution_count": 428,
      "outputs": []
    },
    {
      "cell_type": "code",
      "metadata": {
        "id": "vLUqD-am1bER"
      },
      "source": [
        "quandl.ApiConfig.api_key = \"2At3atzXCrMx_BXfkyz7\""
      ],
      "execution_count": 429,
      "outputs": []
    },
    {
      "cell_type": "markdown",
      "metadata": {
        "id": "bdEPc8-w1dyx"
      },
      "source": [
        "# Data to be used "
      ]
    },
    {
      "cell_type": "code",
      "metadata": {
        "id": "GMPxVUb71hcE"
      },
      "source": [
        "### Codes of selected stocks\n",
        "healthcare = ['BOM524715','BOM532488','BOM500124']\n",
        "banking = ['BOM500180','BOM532174','BOM500247']\n",
        "metals = ['BOM500470','BOM500228','BOM500440']\n",
        "auto = ['BOM532977','BOM500570','BOM532500']\n",
        "it = ['BOM500209','BOM532540','BOM507685']\n",
        "BSE_HEALTHCARE = 'SI0800'\n",
        "BSE_Information_Technology = 'SI1000'\n",
        "BSE_BANKEX = 'SIBANK'\n",
        "BSE_METAL = 'SI1200'\n",
        "BSE_AUTO = 'SI1900'\n",
        "SENSEX = 'SENSEX'\n",
        "\n",
        "stocks = healthcare+banking+metals + auto+it\n",
        "indices = [BSE_HEALTHCARE, BSE_Information_Technology, BSE_BANKEX, BSE_METAL, BSE_AUTO, SENSEX]\n",
        "allSymbols = stocks + indices\n",
        "ScriptWiseData = {}"
      ],
      "execution_count": 430,
      "outputs": []
    },
    {
      "cell_type": "code",
      "metadata": {
        "id": "JMOwiNfE1vrj"
      },
      "source": [
        "# Global Variables\n",
        "RSIColumn = 'RSI'\n",
        "ATRColumns = ['TR', 'ATR']\n",
        "MACDColumns = ['FastAverage', 'SlowAverage','MACD','Signal']\n",
        "BollBandColumns = ['BB_up',\"BB_dn\",\"MA\",\"BB_width\"]\n",
        "ADXColumns = ['pos_directional_indicator', 'neg_directional_indicator', 'adx']\n",
        "OnBalanceVolume = 'OBV'\n",
        "TechnicalIndicators = ['RSI', 'ATR', 'MACD', 'adx', 'OBV'] #exogenous variables\n",
        "\n",
        "AllIndicatorColumns = [RSIColumn]+ATRColumns+MACDColumns+BollBandColumns+ADXColumns+[OnBalanceVolume]"
      ],
      "execution_count": 431,
      "outputs": []
    },
    {
      "cell_type": "code",
      "metadata": {
        "id": "J4HW7s2t1zeR"
      },
      "source": [
        "# Test Data Start and end date\n",
        "start_date = '2020-03-02'\n",
        "end_date = '2021-03-23'"
      ],
      "execution_count": 432,
      "outputs": []
    },
    {
      "cell_type": "code",
      "metadata": {
        "id": "wM_4X_c613ea"
      },
      "source": [
        "# get null values of all the stocks\n",
        "def getNullValuesForSetOfStocks(stockCodeList = allSymbols):\n",
        "    nullCounts = pd.DataFrame(ScriptWiseData[stockCodeList[0]].isnull().sum(), columns= [getStockNameFromStockCode(stockCodeList[0])])\n",
        "    for symbol in stockCodeList[1:]:\n",
        "        currNull = pd.DataFrame(ScriptWiseData[symbol].isnull().sum(), columns= [getStockNameFromStockCode(symbol)])\n",
        "        nullCounts = nullCounts.merge(currNull, left_index=True, right_index = True, how='outer')\n",
        "    return nullCounts"
      ],
      "execution_count": 433,
      "outputs": []
    },
    {
      "cell_type": "code",
      "metadata": {
        "id": "IK73Y5kL17iK"
      },
      "source": [
        "def adf_test(series, title = ''):\n",
        "    \"\"\"\n",
        "    Pass in a time series and an optional title\n",
        "    \"\"\"\n",
        "    result = sts.adfuller(series.dropna(), autolag = 'AIC')\n",
        "    label = ['ADF test statistic', 'p-value', '# lags used', '#observations']\n",
        "    print(result)\n",
        "    out = pd.Series(result[0:4], index=label)\n",
        "    \n",
        "    for key, val in result[4].items():\n",
        "        out[f'critical value ({key})'] = val\n",
        "        \n",
        "    print(out.to_string())\n",
        "    if(result[1]<0.05):\n",
        "        return ('Data is stationary')\n",
        "    else:\n",
        "        return 'Data is non-stationary'"
      ],
      "execution_count": 434,
      "outputs": []
    },
    {
      "cell_type": "markdown",
      "metadata": {
        "id": "GlcM2Khi2C8A"
      },
      "source": [
        "# Time Series DataSet"
      ]
    },
    {
      "cell_type": "code",
      "metadata": {
        "colab": {
          "base_uri": "https://localhost:8080/",
          "height": 465
        },
        "id": "J4ha6OYY195q",
        "outputId": "a6e98c72-e86d-4c90-ba39-5fc7084bdd14"
      },
      "source": [
        "dataset = pd.read_csv('TimeSeriesData.csv')\n",
        "dataset.head()"
      ],
      "execution_count": 435,
      "outputs": [
        {
          "output_type": "execute_result",
          "data": {
            "text/html": [
              "<div>\n",
              "<style scoped>\n",
              "    .dataframe tbody tr th:only-of-type {\n",
              "        vertical-align: middle;\n",
              "    }\n",
              "\n",
              "    .dataframe tbody tr th {\n",
              "        vertical-align: top;\n",
              "    }\n",
              "\n",
              "    .dataframe thead th {\n",
              "        text-align: right;\n",
              "    }\n",
              "</style>\n",
              "<table border=\"1\" class=\"dataframe\">\n",
              "  <thead>\n",
              "    <tr style=\"text-align: right;\">\n",
              "      <th></th>\n",
              "      <th>Date</th>\n",
              "      <th>Open</th>\n",
              "      <th>High</th>\n",
              "      <th>Low</th>\n",
              "      <th>Close</th>\n",
              "      <th>WAP</th>\n",
              "      <th>No. of Shares</th>\n",
              "      <th>No. of Trades</th>\n",
              "      <th>Total Turnover</th>\n",
              "      <th>Deliverable Quantity</th>\n",
              "      <th>% Deli. Qty to Traded Qty</th>\n",
              "      <th>Spread H-L</th>\n",
              "      <th>Spread C-O</th>\n",
              "      <th>StockName</th>\n",
              "      <th>code</th>\n",
              "      <th>isStock</th>\n",
              "      <th>Index</th>\n",
              "    </tr>\n",
              "  </thead>\n",
              "  <tbody>\n",
              "    <tr>\n",
              "      <th>0</th>\n",
              "      <td>2000-01-03</td>\n",
              "      <td>1500.0</td>\n",
              "      <td>1557.35</td>\n",
              "      <td>1500.00</td>\n",
              "      <td>1557.35</td>\n",
              "      <td>1544.195154</td>\n",
              "      <td>82330.0</td>\n",
              "      <td>945.0</td>\n",
              "      <td>127133587.0</td>\n",
              "      <td>NaN</td>\n",
              "      <td>NaN</td>\n",
              "      <td>57.35</td>\n",
              "      <td>57.35</td>\n",
              "      <td>DR.REDDY'S LABORATORIES LTD. EOD Prices</td>\n",
              "      <td>BOM500124</td>\n",
              "      <td>1</td>\n",
              "      <td>SI0800</td>\n",
              "    </tr>\n",
              "    <tr>\n",
              "      <th>1</th>\n",
              "      <td>2000-01-04</td>\n",
              "      <td>1601.0</td>\n",
              "      <td>1681.00</td>\n",
              "      <td>1527.00</td>\n",
              "      <td>1647.25</td>\n",
              "      <td>1621.040930</td>\n",
              "      <td>210676.0</td>\n",
              "      <td>3308.0</td>\n",
              "      <td>341514419.0</td>\n",
              "      <td>NaN</td>\n",
              "      <td>NaN</td>\n",
              "      <td>154.00</td>\n",
              "      <td>46.25</td>\n",
              "      <td>DR.REDDY'S LABORATORIES LTD. EOD Prices</td>\n",
              "      <td>BOM500124</td>\n",
              "      <td>1</td>\n",
              "      <td>SI0800</td>\n",
              "    </tr>\n",
              "    <tr>\n",
              "      <th>2</th>\n",
              "      <td>2000-01-05</td>\n",
              "      <td>1600.0</td>\n",
              "      <td>1648.00</td>\n",
              "      <td>1515.50</td>\n",
              "      <td>1559.00</td>\n",
              "      <td>1590.903923</td>\n",
              "      <td>205669.0</td>\n",
              "      <td>2707.0</td>\n",
              "      <td>327199619.0</td>\n",
              "      <td>NaN</td>\n",
              "      <td>NaN</td>\n",
              "      <td>132.50</td>\n",
              "      <td>-41.00</td>\n",
              "      <td>DR.REDDY'S LABORATORIES LTD. EOD Prices</td>\n",
              "      <td>BOM500124</td>\n",
              "      <td>1</td>\n",
              "      <td>SI0800</td>\n",
              "    </tr>\n",
              "    <tr>\n",
              "      <th>3</th>\n",
              "      <td>2000-01-06</td>\n",
              "      <td>1582.0</td>\n",
              "      <td>1683.70</td>\n",
              "      <td>1560.00</td>\n",
              "      <td>1683.70</td>\n",
              "      <td>1623.244182</td>\n",
              "      <td>161085.0</td>\n",
              "      <td>2559.0</td>\n",
              "      <td>261480289.0</td>\n",
              "      <td>NaN</td>\n",
              "      <td>NaN</td>\n",
              "      <td>123.70</td>\n",
              "      <td>101.70</td>\n",
              "      <td>DR.REDDY'S LABORATORIES LTD. EOD Prices</td>\n",
              "      <td>BOM500124</td>\n",
              "      <td>1</td>\n",
              "      <td>SI0800</td>\n",
              "    </tr>\n",
              "    <tr>\n",
              "      <th>4</th>\n",
              "      <td>2000-01-07</td>\n",
              "      <td>1718.0</td>\n",
              "      <td>1718.00</td>\n",
              "      <td>1549.05</td>\n",
              "      <td>1549.05</td>\n",
              "      <td>1593.853264</td>\n",
              "      <td>120952.0</td>\n",
              "      <td>1955.0</td>\n",
              "      <td>192779740.0</td>\n",
              "      <td>NaN</td>\n",
              "      <td>NaN</td>\n",
              "      <td>168.95</td>\n",
              "      <td>-168.95</td>\n",
              "      <td>DR.REDDY'S LABORATORIES LTD. EOD Prices</td>\n",
              "      <td>BOM500124</td>\n",
              "      <td>1</td>\n",
              "      <td>SI0800</td>\n",
              "    </tr>\n",
              "  </tbody>\n",
              "</table>\n",
              "</div>"
            ],
            "text/plain": [
              "         Date    Open     High      Low    Close          WAP  No. of Shares  \\\n",
              "0  2000-01-03  1500.0  1557.35  1500.00  1557.35  1544.195154        82330.0   \n",
              "1  2000-01-04  1601.0  1681.00  1527.00  1647.25  1621.040930       210676.0   \n",
              "2  2000-01-05  1600.0  1648.00  1515.50  1559.00  1590.903923       205669.0   \n",
              "3  2000-01-06  1582.0  1683.70  1560.00  1683.70  1623.244182       161085.0   \n",
              "4  2000-01-07  1718.0  1718.00  1549.05  1549.05  1593.853264       120952.0   \n",
              "\n",
              "   No. of Trades  Total Turnover  Deliverable Quantity  \\\n",
              "0          945.0     127133587.0                   NaN   \n",
              "1         3308.0     341514419.0                   NaN   \n",
              "2         2707.0     327199619.0                   NaN   \n",
              "3         2559.0     261480289.0                   NaN   \n",
              "4         1955.0     192779740.0                   NaN   \n",
              "\n",
              "   % Deli. Qty to Traded Qty  Spread H-L  Spread C-O  \\\n",
              "0                        NaN       57.35       57.35   \n",
              "1                        NaN      154.00       46.25   \n",
              "2                        NaN      132.50      -41.00   \n",
              "3                        NaN      123.70      101.70   \n",
              "4                        NaN      168.95     -168.95   \n",
              "\n",
              "                                 StockName       code  isStock   Index  \n",
              "0  DR.REDDY'S LABORATORIES LTD. EOD Prices  BOM500124        1  SI0800  \n",
              "1  DR.REDDY'S LABORATORIES LTD. EOD Prices  BOM500124        1  SI0800  \n",
              "2  DR.REDDY'S LABORATORIES LTD. EOD Prices  BOM500124        1  SI0800  \n",
              "3  DR.REDDY'S LABORATORIES LTD. EOD Prices  BOM500124        1  SI0800  \n",
              "4  DR.REDDY'S LABORATORIES LTD. EOD Prices  BOM500124        1  SI0800  "
            ]
          },
          "metadata": {
            "tags": []
          },
          "execution_count": 435
        }
      ]
    },
    {
      "cell_type": "code",
      "metadata": {
        "colab": {
          "base_uri": "https://localhost:8080/"
        },
        "id": "NSeAdUZ62H-S",
        "outputId": "d5b506fc-15ad-4d88-fa54-00898daf2b12"
      },
      "source": [
        "dataset.info()"
      ],
      "execution_count": 436,
      "outputs": [
        {
          "output_type": "stream",
          "text": [
            "<class 'pandas.core.frame.DataFrame'>\n",
            "RangeIndex: 105449 entries, 0 to 105448\n",
            "Data columns (total 17 columns):\n",
            " #   Column                     Non-Null Count   Dtype  \n",
            "---  ------                     --------------   -----  \n",
            " 0   Date                       105449 non-null  object \n",
            " 1   Open                       95130 non-null   float64\n",
            " 2   High                       95130 non-null   float64\n",
            " 3   Low                        95130 non-null   float64\n",
            " 4   Close                      105449 non-null  float64\n",
            " 5   WAP                        74255 non-null   float64\n",
            " 6   No. of Shares              74255 non-null   float64\n",
            " 7   No. of Trades              74255 non-null   float64\n",
            " 8   Total Turnover             74255 non-null   float64\n",
            " 9   Deliverable Quantity       68110 non-null   float64\n",
            " 10  % Deli. Qty to Traded Qty  68110 non-null   float64\n",
            " 11  Spread H-L                 74255 non-null   float64\n",
            " 12  Spread C-O                 74255 non-null   float64\n",
            " 13  StockName                  105449 non-null  object \n",
            " 14  code                       105449 non-null  object \n",
            " 15  isStock                    105449 non-null  int64  \n",
            " 16  Index                      74255 non-null   object \n",
            "dtypes: float64(12), int64(1), object(4)\n",
            "memory usage: 13.7+ MB\n"
          ],
          "name": "stdout"
        }
      ]
    },
    {
      "cell_type": "code",
      "metadata": {
        "colab": {
          "base_uri": "https://localhost:8080/",
          "height": 723
        },
        "id": "XQqdgY1i2KWG",
        "outputId": "1a90ab78-cad3-4fe5-f1f8-9b0792233426"
      },
      "source": [
        "dateRanges = dataset.groupby(['code', 'StockName']).agg({'Date': ['min', 'max']}).reset_index()\n",
        "dateRanges"
      ],
      "execution_count": 437,
      "outputs": [
        {
          "output_type": "execute_result",
          "data": {
            "text/html": [
              "<div>\n",
              "<style scoped>\n",
              "    .dataframe tbody tr th:only-of-type {\n",
              "        vertical-align: middle;\n",
              "    }\n",
              "\n",
              "    .dataframe tbody tr th {\n",
              "        vertical-align: top;\n",
              "    }\n",
              "\n",
              "    .dataframe thead tr th {\n",
              "        text-align: left;\n",
              "    }\n",
              "</style>\n",
              "<table border=\"1\" class=\"dataframe\">\n",
              "  <thead>\n",
              "    <tr>\n",
              "      <th></th>\n",
              "      <th>code</th>\n",
              "      <th>StockName</th>\n",
              "      <th colspan=\"2\" halign=\"left\">Date</th>\n",
              "    </tr>\n",
              "    <tr>\n",
              "      <th></th>\n",
              "      <th></th>\n",
              "      <th></th>\n",
              "      <th>min</th>\n",
              "      <th>max</th>\n",
              "    </tr>\n",
              "  </thead>\n",
              "  <tbody>\n",
              "    <tr>\n",
              "      <th>0</th>\n",
              "      <td>BOM500124</td>\n",
              "      <td>DR.REDDY'S LABORATORIES LTD. EOD Prices</td>\n",
              "      <td>2000-01-03</td>\n",
              "      <td>2021-03-23</td>\n",
              "    </tr>\n",
              "    <tr>\n",
              "      <th>1</th>\n",
              "      <td>BOM500180</td>\n",
              "      <td>HDFC Bank Ltd EOD Prices</td>\n",
              "      <td>2000-01-03</td>\n",
              "      <td>2021-03-23</td>\n",
              "    </tr>\n",
              "    <tr>\n",
              "      <th>2</th>\n",
              "      <td>BOM500209</td>\n",
              "      <td>INFOSYS LTD. EOD Prices</td>\n",
              "      <td>2000-01-03</td>\n",
              "      <td>2021-03-23</td>\n",
              "    </tr>\n",
              "    <tr>\n",
              "      <th>3</th>\n",
              "      <td>BOM500228</td>\n",
              "      <td>JSW STEEL LTD. EOD Prices</td>\n",
              "      <td>2000-01-03</td>\n",
              "      <td>2021-03-23</td>\n",
              "    </tr>\n",
              "    <tr>\n",
              "      <th>4</th>\n",
              "      <td>BOM500247</td>\n",
              "      <td>KOTAK MAHINDRA BANK LTD. EOD Prices</td>\n",
              "      <td>2000-01-03</td>\n",
              "      <td>2021-03-23</td>\n",
              "    </tr>\n",
              "    <tr>\n",
              "      <th>5</th>\n",
              "      <td>BOM500440</td>\n",
              "      <td>HINDALCO INDUSTRIES LTD. EOD Prices</td>\n",
              "      <td>2000-01-03</td>\n",
              "      <td>2021-03-23</td>\n",
              "    </tr>\n",
              "    <tr>\n",
              "      <th>6</th>\n",
              "      <td>BOM500470</td>\n",
              "      <td>TATA STEEL LTD. EOD Prices</td>\n",
              "      <td>2000-01-03</td>\n",
              "      <td>2021-03-23</td>\n",
              "    </tr>\n",
              "    <tr>\n",
              "      <th>7</th>\n",
              "      <td>BOM500570</td>\n",
              "      <td>TATA MOTORS LTD. EOD Prices</td>\n",
              "      <td>2000-01-03</td>\n",
              "      <td>2021-03-23</td>\n",
              "    </tr>\n",
              "    <tr>\n",
              "      <th>8</th>\n",
              "      <td>BOM507685</td>\n",
              "      <td>WIPRO LTD. EOD Prices</td>\n",
              "      <td>2000-01-03</td>\n",
              "      <td>2021-03-23</td>\n",
              "    </tr>\n",
              "    <tr>\n",
              "      <th>9</th>\n",
              "      <td>BOM524715</td>\n",
              "      <td>SUN PHARMACEUTICAL INDUSTRIES LTD. EOD Prices</td>\n",
              "      <td>2000-01-03</td>\n",
              "      <td>2021-03-23</td>\n",
              "    </tr>\n",
              "    <tr>\n",
              "      <th>10</th>\n",
              "      <td>BOM532174</td>\n",
              "      <td>ICICI BANK LTD. EOD Prices</td>\n",
              "      <td>2000-01-03</td>\n",
              "      <td>2021-03-23</td>\n",
              "    </tr>\n",
              "    <tr>\n",
              "      <th>11</th>\n",
              "      <td>BOM532488</td>\n",
              "      <td>DIVI'S LABORATORIES LTD. EOD Prices</td>\n",
              "      <td>2003-03-12</td>\n",
              "      <td>2021-03-23</td>\n",
              "    </tr>\n",
              "    <tr>\n",
              "      <th>12</th>\n",
              "      <td>BOM532500</td>\n",
              "      <td>MARUTI SUZUKI INDIA LTD. EOD Prices</td>\n",
              "      <td>2003-07-09</td>\n",
              "      <td>2021-03-23</td>\n",
              "    </tr>\n",
              "    <tr>\n",
              "      <th>13</th>\n",
              "      <td>BOM532540</td>\n",
              "      <td>TATA CONSULTANCY SERVICES LTD. EOD Prices</td>\n",
              "      <td>2004-08-25</td>\n",
              "      <td>2021-03-23</td>\n",
              "    </tr>\n",
              "    <tr>\n",
              "      <th>14</th>\n",
              "      <td>BOM532977</td>\n",
              "      <td>BAJAJ AUTO LTD. EOD Prices</td>\n",
              "      <td>2008-05-26</td>\n",
              "      <td>2021-03-23</td>\n",
              "    </tr>\n",
              "    <tr>\n",
              "      <th>15</th>\n",
              "      <td>SENSEX</td>\n",
              "      <td>BSE SENSEX</td>\n",
              "      <td>2000-01-03</td>\n",
              "      <td>2021-03-23</td>\n",
              "    </tr>\n",
              "    <tr>\n",
              "      <th>16</th>\n",
              "      <td>SI0800</td>\n",
              "      <td>BSE Healthcare</td>\n",
              "      <td>2000-01-03</td>\n",
              "      <td>2021-03-23</td>\n",
              "    </tr>\n",
              "    <tr>\n",
              "      <th>17</th>\n",
              "      <td>SI1000</td>\n",
              "      <td>BSE Information Technology</td>\n",
              "      <td>2000-01-03</td>\n",
              "      <td>2021-03-23</td>\n",
              "    </tr>\n",
              "    <tr>\n",
              "      <th>18</th>\n",
              "      <td>SI1200</td>\n",
              "      <td>BSE METAL</td>\n",
              "      <td>2000-01-03</td>\n",
              "      <td>2021-03-23</td>\n",
              "    </tr>\n",
              "    <tr>\n",
              "      <th>19</th>\n",
              "      <td>SI1900</td>\n",
              "      <td>BSE AUTO</td>\n",
              "      <td>2000-01-03</td>\n",
              "      <td>2021-03-23</td>\n",
              "    </tr>\n",
              "    <tr>\n",
              "      <th>20</th>\n",
              "      <td>SIBANK</td>\n",
              "      <td>BSE BANKEX</td>\n",
              "      <td>2002-01-01</td>\n",
              "      <td>2021-03-23</td>\n",
              "    </tr>\n",
              "  </tbody>\n",
              "</table>\n",
              "</div>"
            ],
            "text/plain": [
              "         code                                      StockName        Date  \\\n",
              "                                                                     min   \n",
              "0   BOM500124        DR.REDDY'S LABORATORIES LTD. EOD Prices  2000-01-03   \n",
              "1   BOM500180                       HDFC Bank Ltd EOD Prices  2000-01-03   \n",
              "2   BOM500209                        INFOSYS LTD. EOD Prices  2000-01-03   \n",
              "3   BOM500228                      JSW STEEL LTD. EOD Prices  2000-01-03   \n",
              "4   BOM500247            KOTAK MAHINDRA BANK LTD. EOD Prices  2000-01-03   \n",
              "5   BOM500440            HINDALCO INDUSTRIES LTD. EOD Prices  2000-01-03   \n",
              "6   BOM500470                     TATA STEEL LTD. EOD Prices  2000-01-03   \n",
              "7   BOM500570                    TATA MOTORS LTD. EOD Prices  2000-01-03   \n",
              "8   BOM507685                          WIPRO LTD. EOD Prices  2000-01-03   \n",
              "9   BOM524715  SUN PHARMACEUTICAL INDUSTRIES LTD. EOD Prices  2000-01-03   \n",
              "10  BOM532174                     ICICI BANK LTD. EOD Prices  2000-01-03   \n",
              "11  BOM532488            DIVI'S LABORATORIES LTD. EOD Prices  2003-03-12   \n",
              "12  BOM532500            MARUTI SUZUKI INDIA LTD. EOD Prices  2003-07-09   \n",
              "13  BOM532540      TATA CONSULTANCY SERVICES LTD. EOD Prices  2004-08-25   \n",
              "14  BOM532977                     BAJAJ AUTO LTD. EOD Prices  2008-05-26   \n",
              "15     SENSEX                                     BSE SENSEX  2000-01-03   \n",
              "16     SI0800                                 BSE Healthcare  2000-01-03   \n",
              "17     SI1000                     BSE Information Technology  2000-01-03   \n",
              "18     SI1200                                      BSE METAL  2000-01-03   \n",
              "19     SI1900                                       BSE AUTO  2000-01-03   \n",
              "20     SIBANK                                     BSE BANKEX  2002-01-01   \n",
              "\n",
              "                \n",
              "           max  \n",
              "0   2021-03-23  \n",
              "1   2021-03-23  \n",
              "2   2021-03-23  \n",
              "3   2021-03-23  \n",
              "4   2021-03-23  \n",
              "5   2021-03-23  \n",
              "6   2021-03-23  \n",
              "7   2021-03-23  \n",
              "8   2021-03-23  \n",
              "9   2021-03-23  \n",
              "10  2021-03-23  \n",
              "11  2021-03-23  \n",
              "12  2021-03-23  \n",
              "13  2021-03-23  \n",
              "14  2021-03-23  \n",
              "15  2021-03-23  \n",
              "16  2021-03-23  \n",
              "17  2021-03-23  \n",
              "18  2021-03-23  \n",
              "19  2021-03-23  \n",
              "20  2021-03-23  "
            ]
          },
          "metadata": {
            "tags": []
          },
          "execution_count": 437
        }
      ]
    },
    {
      "cell_type": "code",
      "metadata": {
        "id": "Xbl6b7pO2M_u"
      },
      "source": [
        "# use above ranges to get stockName\n",
        "def getStockNameFromStockCode(stockCode):\n",
        "    return dateRanges.loc[dateRanges.code==stockCode, 'StockName'].values[0];"
      ],
      "execution_count": 438,
      "outputs": []
    },
    {
      "cell_type": "code",
      "metadata": {
        "colab": {
          "base_uri": "https://localhost:8080/"
        },
        "id": "1XGCCE6j2PkG",
        "outputId": "d17dd910-11cc-4228-c27e-6af799e36ae2"
      },
      "source": [
        "data = dataset.set_index('Date')\n",
        "data.head()\n",
        "len(data)"
      ],
      "execution_count": 439,
      "outputs": [
        {
          "output_type": "execute_result",
          "data": {
            "text/plain": [
              "105449"
            ]
          },
          "metadata": {
            "tags": []
          },
          "execution_count": 439
        }
      ]
    },
    {
      "cell_type": "markdown",
      "metadata": {
        "id": "R5HribQ02XPK"
      },
      "source": [
        "# Populate dictionary to hold individual Stock Data"
      ]
    },
    {
      "cell_type": "code",
      "metadata": {
        "id": "9CftafXu2QYS"
      },
      "source": [
        "# ScriptWiseData = {'Symbol1': <DatqaFrame>, 'Suymbol 2':Dataframe2}\n",
        "for symbol in allSymbols:\n",
        "    ScriptWiseData[symbol] = data.loc[data.code==symbol]\n"
      ],
      "execution_count": 440,
      "outputs": []
    },
    {
      "cell_type": "code",
      "metadata": {
        "colab": {
          "base_uri": "https://localhost:8080/"
        },
        "id": "7f4Ef_iD6b6i",
        "outputId": "8058c08d-3e20-4ab2-b355-84b828e3b763"
      },
      "source": [
        "len(allSymbols)"
      ],
      "execution_count": 441,
      "outputs": [
        {
          "output_type": "execute_result",
          "data": {
            "text/plain": [
              "21"
            ]
          },
          "metadata": {
            "tags": []
          },
          "execution_count": 441
        }
      ]
    },
    {
      "cell_type": "code",
      "metadata": {
        "colab": {
          "base_uri": "https://localhost:8080/"
        },
        "id": "921O-aV2Wx6i",
        "outputId": "ca95398c-a9fe-40a5-b508-db9ce564ba72"
      },
      "source": [
        "ScriptWiseData"
      ],
      "execution_count": 442,
      "outputs": [
        {
          "output_type": "execute_result",
          "data": {
            "text/plain": [
              "{'BOM500124':                Open     High      Low    Close          WAP  No. of Shares  \\\n",
              " Date                                                                         \n",
              " 2000-01-03  1500.00  1557.35  1500.00  1557.35  1544.195154        82330.0   \n",
              " 2000-01-04  1601.00  1681.00  1527.00  1647.25  1621.040930       210676.0   \n",
              " 2000-01-05  1600.00  1648.00  1515.50  1559.00  1590.903923       205669.0   \n",
              " 2000-01-06  1582.00  1683.70  1560.00  1683.70  1623.244182       161085.0   \n",
              " 2000-01-07  1718.00  1718.00  1549.05  1549.05  1593.853264       120952.0   \n",
              " ...             ...      ...      ...      ...          ...            ...   \n",
              " 2021-03-17  4448.85  4465.00  4343.20  4356.85  4397.460000        16839.0   \n",
              " 2021-03-18  4388.00  4388.00  4200.00  4211.30  4265.490000        46984.0   \n",
              " 2021-03-19  4220.00  4303.85  4135.90  4274.55  4218.990000        49415.0   \n",
              " 2021-03-22  4288.00  4366.45  4271.90  4353.90  4336.430000        49256.0   \n",
              " 2021-03-23  4351.00  4403.50  4322.80  4371.95  4368.530000        27181.0   \n",
              " \n",
              "             No. of Trades  Total Turnover  Deliverable Quantity  \\\n",
              " Date                                                              \n",
              " 2000-01-03          945.0     127133587.0                   NaN   \n",
              " 2000-01-04         3308.0     341514419.0                   NaN   \n",
              " 2000-01-05         2707.0     327199619.0                   NaN   \n",
              " 2000-01-06         2559.0     261480289.0                   NaN   \n",
              " 2000-01-07         1955.0     192779740.0                   NaN   \n",
              " ...                   ...             ...                   ...   \n",
              " 2021-03-17         1979.0      74048763.0                3544.0   \n",
              " 2021-03-18         7350.0     200409871.0               16779.0   \n",
              " 2021-03-19         4896.0     208481475.0                7877.0   \n",
              " 2021-03-22         4880.0     213595440.0               13119.0   \n",
              " 2021-03-23         2625.0     118741145.0                5277.0   \n",
              " \n",
              "             % Deli. Qty to Traded Qty  Spread H-L  Spread C-O  \\\n",
              " Date                                                            \n",
              " 2000-01-03                        NaN       57.35       57.35   \n",
              " 2000-01-04                        NaN      154.00       46.25   \n",
              " 2000-01-05                        NaN      132.50      -41.00   \n",
              " 2000-01-06                        NaN      123.70      101.70   \n",
              " 2000-01-07                        NaN      168.95     -168.95   \n",
              " ...                               ...         ...         ...   \n",
              " 2021-03-17                      21.05      121.80      -92.00   \n",
              " 2021-03-18                      35.71      188.00     -176.70   \n",
              " 2021-03-19                      15.94      167.95       54.55   \n",
              " 2021-03-22                      26.63       94.55       65.90   \n",
              " 2021-03-23                      19.41       80.70       20.95   \n",
              " \n",
              "                                           StockName       code  isStock  \\\n",
              " Date                                                                      \n",
              " 2000-01-03  DR.REDDY'S LABORATORIES LTD. EOD Prices  BOM500124        1   \n",
              " 2000-01-04  DR.REDDY'S LABORATORIES LTD. EOD Prices  BOM500124        1   \n",
              " 2000-01-05  DR.REDDY'S LABORATORIES LTD. EOD Prices  BOM500124        1   \n",
              " 2000-01-06  DR.REDDY'S LABORATORIES LTD. EOD Prices  BOM500124        1   \n",
              " 2000-01-07  DR.REDDY'S LABORATORIES LTD. EOD Prices  BOM500124        1   \n",
              " ...                                             ...        ...      ...   \n",
              " 2021-03-17  DR.REDDY'S LABORATORIES LTD. EOD Prices  BOM500124        1   \n",
              " 2021-03-18  DR.REDDY'S LABORATORIES LTD. EOD Prices  BOM500124        1   \n",
              " 2021-03-19  DR.REDDY'S LABORATORIES LTD. EOD Prices  BOM500124        1   \n",
              " 2021-03-22  DR.REDDY'S LABORATORIES LTD. EOD Prices  BOM500124        1   \n",
              " 2021-03-23  DR.REDDY'S LABORATORIES LTD. EOD Prices  BOM500124        1   \n",
              " \n",
              "              Index  \n",
              " Date                \n",
              " 2000-01-03  SI0800  \n",
              " 2000-01-04  SI0800  \n",
              " 2000-01-05  SI0800  \n",
              " 2000-01-06  SI0800  \n",
              " 2000-01-07  SI0800  \n",
              " ...            ...  \n",
              " 2021-03-17  SI0800  \n",
              " 2021-03-18  SI0800  \n",
              " 2021-03-19  SI0800  \n",
              " 2021-03-22  SI0800  \n",
              " 2021-03-23  SI0800  \n",
              " \n",
              " [5282 rows x 16 columns],\n",
              " 'BOM500180':               Open     High      Low    Close          WAP  No. of Shares  \\\n",
              " Date                                                                        \n",
              " 2000-01-03   165.0   174.40   165.00   174.40   173.133670       112119.0   \n",
              " 2000-01-04   179.5   187.00   170.25   174.00   175.702585       330118.0   \n",
              " 2000-01-05   165.5   173.00   162.00   168.50   168.061387       149249.0   \n",
              " 2000-01-06   169.9   170.80   166.00   167.50   168.079908        70268.0   \n",
              " 2000-01-07   165.0   169.90   162.50   169.50   166.105160       183026.0   \n",
              " ...            ...      ...      ...      ...          ...            ...   \n",
              " 2021-03-17  1518.0  1538.65  1490.00  1495.65  1515.400000       329993.0   \n",
              " 2021-03-18  1508.0  1521.80  1481.15  1490.35  1503.330000       284777.0   \n",
              " 2021-03-19  1485.0  1510.75  1474.35  1497.10  1487.910000       313921.0   \n",
              " 2021-03-22  1497.1  1497.10  1460.25  1469.30  1473.670000       241211.0   \n",
              " 2021-03-23  1475.0  1507.00  1469.35  1500.35  1487.150000       354818.0   \n",
              " \n",
              "             No. of Trades  Total Turnover  Deliverable Quantity  \\\n",
              " Date                                                              \n",
              " 2000-01-03          518.0      19411574.0                   NaN   \n",
              " 2000-01-04         1394.0      58002586.0                   NaN   \n",
              " 2000-01-05          815.0      25082994.0                   NaN   \n",
              " 2000-01-06          494.0      11810639.0                   NaN   \n",
              " 2000-01-07          970.0      30401563.0                   NaN   \n",
              " ...                   ...             ...                   ...   \n",
              " 2021-03-17        16355.0     500069952.0              109888.0   \n",
              " 2021-03-18        15262.0     428112661.0               94625.0   \n",
              " 2021-03-19         8398.0     467085079.0              108917.0   \n",
              " 2021-03-22         7933.0     355465306.0               94221.0   \n",
              " 2021-03-23        15294.0     527667447.0              129411.0   \n",
              " \n",
              "             % Deli. Qty to Traded Qty  Spread H-L  Spread C-O  \\\n",
              " Date                                                            \n",
              " 2000-01-03                        NaN        9.40        9.40   \n",
              " 2000-01-04                        NaN       16.75       -5.50   \n",
              " 2000-01-05                        NaN       11.00        3.00   \n",
              " 2000-01-06                        NaN        4.80       -2.40   \n",
              " 2000-01-07                        NaN        7.40        4.50   \n",
              " ...                               ...         ...         ...   \n",
              " 2021-03-17                      33.30       48.65      -22.35   \n",
              " 2021-03-18                      33.23       40.65      -17.65   \n",
              " 2021-03-19                      34.70       36.40       12.10   \n",
              " 2021-03-22                      39.06       36.85      -27.80   \n",
              " 2021-03-23                      36.47       37.65       25.35   \n",
              " \n",
              "                            StockName       code  isStock   Index  \n",
              " Date                                                              \n",
              " 2000-01-03  HDFC Bank Ltd EOD Prices  BOM500180        1  SIBANK  \n",
              " 2000-01-04  HDFC Bank Ltd EOD Prices  BOM500180        1  SIBANK  \n",
              " 2000-01-05  HDFC Bank Ltd EOD Prices  BOM500180        1  SIBANK  \n",
              " 2000-01-06  HDFC Bank Ltd EOD Prices  BOM500180        1  SIBANK  \n",
              " 2000-01-07  HDFC Bank Ltd EOD Prices  BOM500180        1  SIBANK  \n",
              " ...                              ...        ...      ...     ...  \n",
              " 2021-03-17  HDFC Bank Ltd EOD Prices  BOM500180        1  SIBANK  \n",
              " 2021-03-18  HDFC Bank Ltd EOD Prices  BOM500180        1  SIBANK  \n",
              " 2021-03-19  HDFC Bank Ltd EOD Prices  BOM500180        1  SIBANK  \n",
              " 2021-03-22  HDFC Bank Ltd EOD Prices  BOM500180        1  SIBANK  \n",
              " 2021-03-23  HDFC Bank Ltd EOD Prices  BOM500180        1  SIBANK  \n",
              " \n",
              " [5282 rows x 16 columns],\n",
              " 'BOM500209':                 Open      High       Low     Close           WAP  \\\n",
              " Date                                                               \n",
              " 2000-01-03  15011.00  15677.50  15011.00  15677.50  15674.866799   \n",
              " 2000-01-04  16931.65  16931.65  16000.00  16910.20  16677.783109   \n",
              " 2000-01-05  16801.00  16801.00  15557.40  15557.40  15763.695242   \n",
              " 2000-01-06  15300.00  15400.00  14312.85  14312.85  14515.796197   \n",
              " 2000-01-07  13168.00  13168.00  13167.85  13167.85  13167.851763   \n",
              " ...              ...       ...       ...       ...           ...   \n",
              " 2021-03-17   1391.00   1399.70   1381.90   1387.20   1392.640000   \n",
              " 2021-03-18   1392.55   1394.05   1313.50   1336.25   1348.110000   \n",
              " 2021-03-19   1335.00   1354.85   1317.90   1345.35   1339.920000   \n",
              " 2021-03-22   1350.00   1376.00   1335.85   1370.50   1355.210000   \n",
              " 2021-03-23   1371.00   1383.30   1359.70   1371.20   1373.210000   \n",
              " \n",
              "             No. of Shares  No. of Trades  Total Turnover  \\\n",
              " Date                                                       \n",
              " 2000-01-03        29722.0          691.0    4.658884e+08   \n",
              " 2000-01-04        94536.0         5826.0    1.576651e+09   \n",
              " 2000-01-05       119252.0         6821.0    1.879852e+09   \n",
              " 2000-01-06        70725.0         3424.0    1.026630e+09   \n",
              " 2000-01-07         5444.0          348.0    7.168578e+07   \n",
              " ...                   ...            ...             ...   \n",
              " 2021-03-17       274343.0        13220.0    3.820611e+08   \n",
              " 2021-03-18       405813.0        25057.0    5.470788e+08   \n",
              " 2021-03-19       481898.0        10948.0    6.457041e+08   \n",
              " 2021-03-22       208736.0        10574.0    2.828803e+08   \n",
              " 2021-03-23       133032.0         5034.0    1.826811e+08   \n",
              " \n",
              "             Deliverable Quantity  % Deli. Qty to Traded Qty  Spread H-L  \\\n",
              " Date                                                                      \n",
              " 2000-01-03                   NaN                        NaN      666.50   \n",
              " 2000-01-04                   NaN                        NaN      931.65   \n",
              " 2000-01-05                   NaN                        NaN     1243.60   \n",
              " 2000-01-06                   NaN                        NaN     1087.15   \n",
              " 2000-01-07                   NaN                        NaN        0.15   \n",
              " ...                          ...                        ...         ...   \n",
              " 2021-03-17              138956.0                      50.65       17.80   \n",
              " 2021-03-18              126829.0                      31.25       80.55   \n",
              " 2021-03-19              239055.0                      49.61       36.95   \n",
              " 2021-03-22               95699.0                      45.85       40.15   \n",
              " 2021-03-23               34192.0                      25.70       23.60   \n",
              " \n",
              "             Spread C-O                StockName       code  isStock   Index  \n",
              " Date                                                                         \n",
              " 2000-01-03      666.50  INFOSYS LTD. EOD Prices  BOM500209        1  SI1000  \n",
              " 2000-01-04      -21.45  INFOSYS LTD. EOD Prices  BOM500209        1  SI1000  \n",
              " 2000-01-05    -1243.60  INFOSYS LTD. EOD Prices  BOM500209        1  SI1000  \n",
              " 2000-01-06     -987.15  INFOSYS LTD. EOD Prices  BOM500209        1  SI1000  \n",
              " 2000-01-07       -0.15  INFOSYS LTD. EOD Prices  BOM500209        1  SI1000  \n",
              " ...                ...                      ...        ...      ...     ...  \n",
              " 2021-03-17       -3.80  INFOSYS LTD. EOD Prices  BOM500209        1  SI1000  \n",
              " 2021-03-18      -56.30  INFOSYS LTD. EOD Prices  BOM500209        1  SI1000  \n",
              " 2021-03-19       10.35  INFOSYS LTD. EOD Prices  BOM500209        1  SI1000  \n",
              " 2021-03-22       20.50  INFOSYS LTD. EOD Prices  BOM500209        1  SI1000  \n",
              " 2021-03-23        0.20  INFOSYS LTD. EOD Prices  BOM500209        1  SI1000  \n",
              " \n",
              " [5282 rows x 16 columns],\n",
              " 'BOM500228':               Open    High     Low   Close         WAP  No. of Shares  \\\n",
              " Date                                                                    \n",
              " 2000-01-03    6.95    7.30    6.65    7.30    7.035100        89600.0   \n",
              " 2000-01-04    6.75    7.35    6.55    6.65    6.829378        61100.0   \n",
              " 2000-01-05    6.65    6.75    6.00    6.50    6.533483        66900.0   \n",
              " 2000-01-06    6.50    7.00    6.20    6.50    6.736433        91400.0   \n",
              " 2000-01-07    6.10    7.00    5.75    6.40    6.415936       102600.0   \n",
              " ...            ...     ...     ...     ...         ...            ...   \n",
              " 2021-03-17  425.45  425.60  417.45  423.00  421.870000       290903.0   \n",
              " 2021-03-18  426.00  432.60  420.15  423.15  426.210000       358017.0   \n",
              " 2021-03-19  415.10  446.20  410.00  440.65  431.020000       491267.0   \n",
              " 2021-03-22  440.20  448.80  437.00  445.65  442.850000       292263.0   \n",
              " 2021-03-23  443.35  447.30  439.50  441.75  443.270000      2692606.0   \n",
              " \n",
              "             No. of Trades  Total Turnover  Deliverable Quantity  \\\n",
              " Date                                                              \n",
              " 2000-01-03          188.0    6.303450e+05                   NaN   \n",
              " 2000-01-04          164.0    4.172750e+05                   NaN   \n",
              " 2000-01-05          158.0    4.370900e+05                   NaN   \n",
              " 2000-01-06          158.0    6.157100e+05                   NaN   \n",
              " 2000-01-07          140.0    6.582750e+05                   NaN   \n",
              " ...                   ...             ...                   ...   \n",
              " 2021-03-17         3382.0    1.227234e+08              175115.0   \n",
              " 2021-03-18         4770.0    1.525891e+08               87303.0   \n",
              " 2021-03-19         7181.0    2.117445e+08              165420.0   \n",
              " 2021-03-22         4546.0    1.294281e+08               82987.0   \n",
              " 2021-03-23         3006.0    1.193552e+09             2539173.0   \n",
              " \n",
              "             % Deli. Qty to Traded Qty  Spread H-L  Spread C-O  \\\n",
              " Date                                                            \n",
              " 2000-01-03                        NaN        0.65        0.35   \n",
              " 2000-01-04                        NaN        0.80       -0.10   \n",
              " 2000-01-05                        NaN        0.75       -0.15   \n",
              " 2000-01-06                        NaN        0.80        0.00   \n",
              " 2000-01-07                        NaN        1.25        0.30   \n",
              " ...                               ...         ...         ...   \n",
              " 2021-03-17                      60.20        8.15       -2.45   \n",
              " 2021-03-18                      24.39       12.45       -2.85   \n",
              " 2021-03-19                      33.67       36.20       25.55   \n",
              " 2021-03-22                      28.39       11.80        5.45   \n",
              " 2021-03-23                      94.30        7.80       -1.60   \n",
              " \n",
              "                             StockName       code  isStock   Index  \n",
              " Date                                                               \n",
              " 2000-01-03  JSW STEEL LTD. EOD Prices  BOM500228        1  SI1200  \n",
              " 2000-01-04  JSW STEEL LTD. EOD Prices  BOM500228        1  SI1200  \n",
              " 2000-01-05  JSW STEEL LTD. EOD Prices  BOM500228        1  SI1200  \n",
              " 2000-01-06  JSW STEEL LTD. EOD Prices  BOM500228        1  SI1200  \n",
              " 2000-01-07  JSW STEEL LTD. EOD Prices  BOM500228        1  SI1200  \n",
              " ...                               ...        ...      ...     ...  \n",
              " 2021-03-17  JSW STEEL LTD. EOD Prices  BOM500228        1  SI1200  \n",
              " 2021-03-18  JSW STEEL LTD. EOD Prices  BOM500228        1  SI1200  \n",
              " 2021-03-19  JSW STEEL LTD. EOD Prices  BOM500228        1  SI1200  \n",
              " 2021-03-22  JSW STEEL LTD. EOD Prices  BOM500228        1  SI1200  \n",
              " 2021-03-23  JSW STEEL LTD. EOD Prices  BOM500228        1  SI1200  \n",
              " \n",
              " [5260 rows x 16 columns],\n",
              " 'BOM500247':                Open     High      Low    Close          WAP  No. of Shares  \\\n",
              " Date                                                                         \n",
              " 2000-01-03   221.00   223.55   221.00   223.55   206.299039         1769.0   \n",
              " 2000-01-04   241.40   241.40   225.00   241.40   238.050538        39297.0   \n",
              " 2000-01-05   241.40   245.00   222.10   231.00   234.935047        40768.0   \n",
              " 2000-01-06   243.00   244.00   217.00   224.50   227.689579        14039.0   \n",
              " 2000-01-07   210.00   218.05   206.55   206.55   208.649536        18116.0   \n",
              " ...             ...      ...      ...      ...          ...            ...   \n",
              " 2021-03-17  1897.15  1917.05  1860.25  1867.95  1888.770000        68594.0   \n",
              " 2021-03-18  1872.00  1890.35  1825.35  1831.35  1847.510000        76489.0   \n",
              " 2021-03-19  1816.00  1871.75  1816.00  1831.60  1840.360000       275391.0   \n",
              " 2021-03-22  1837.00  1849.50  1806.00  1824.05  1826.500000        68700.0   \n",
              " 2021-03-23  1827.00  1840.00  1799.15  1813.15  1813.730000        91512.0   \n",
              " \n",
              "             No. of Trades  Total Turnover  Deliverable Quantity  \\\n",
              " Date                                                              \n",
              " 2000-01-03           16.0        364943.0                   NaN   \n",
              " 2000-01-04          209.0       9354672.0                   NaN   \n",
              " 2000-01-05          411.0       9577832.0                   NaN   \n",
              " 2000-01-06          187.0       3196534.0                   NaN   \n",
              " 2000-01-07          165.0       3779895.0                   NaN   \n",
              " ...                   ...             ...                   ...   \n",
              " 2021-03-17         4969.0     129558408.0               13423.0   \n",
              " 2021-03-18         3342.0     141314258.0               15003.0   \n",
              " 2021-03-19         6996.0     506817979.0              171748.0   \n",
              " 2021-03-22         3087.0     125480303.0               13182.0   \n",
              " 2021-03-23         6792.0     165977743.0               26296.0   \n",
              " \n",
              "             % Deli. Qty to Traded Qty  Spread H-L  Spread C-O  \\\n",
              " Date                                                            \n",
              " 2000-01-03                        NaN        2.55        2.55   \n",
              " 2000-01-04                        NaN       16.40        0.00   \n",
              " 2000-01-05                        NaN       22.90      -10.40   \n",
              " 2000-01-06                        NaN       27.00      -18.50   \n",
              " 2000-01-07                        NaN       11.50       -3.45   \n",
              " ...                               ...         ...         ...   \n",
              " 2021-03-17                      19.57       56.80      -29.20   \n",
              " 2021-03-18                      19.61       65.00      -40.65   \n",
              " 2021-03-19                      62.37       55.75       15.60   \n",
              " 2021-03-22                      19.19       43.50      -12.95   \n",
              " 2021-03-23                      28.74       40.85      -13.85   \n",
              " \n",
              "                                       StockName       code  isStock   Index  \n",
              " Date                                                                         \n",
              " 2000-01-03  KOTAK MAHINDRA BANK LTD. EOD Prices  BOM500247        1  SIBANK  \n",
              " 2000-01-04  KOTAK MAHINDRA BANK LTD. EOD Prices  BOM500247        1  SIBANK  \n",
              " 2000-01-05  KOTAK MAHINDRA BANK LTD. EOD Prices  BOM500247        1  SIBANK  \n",
              " 2000-01-06  KOTAK MAHINDRA BANK LTD. EOD Prices  BOM500247        1  SIBANK  \n",
              " 2000-01-07  KOTAK MAHINDRA BANK LTD. EOD Prices  BOM500247        1  SIBANK  \n",
              " ...                                         ...        ...      ...     ...  \n",
              " 2021-03-17  KOTAK MAHINDRA BANK LTD. EOD Prices  BOM500247        1  SIBANK  \n",
              " 2021-03-18  KOTAK MAHINDRA BANK LTD. EOD Prices  BOM500247        1  SIBANK  \n",
              " 2021-03-19  KOTAK MAHINDRA BANK LTD. EOD Prices  BOM500247        1  SIBANK  \n",
              " 2021-03-22  KOTAK MAHINDRA BANK LTD. EOD Prices  BOM500247        1  SIBANK  \n",
              " 2021-03-23  KOTAK MAHINDRA BANK LTD. EOD Prices  BOM500247        1  SIBANK  \n",
              " \n",
              " [5281 rows x 16 columns],\n",
              " 'BOM500440':               Open     High      Low    Close          WAP  No. of Shares  \\\n",
              " Date                                                                        \n",
              " 2000-01-03   830.0   869.35   830.00   867.00   866.224191        77434.0   \n",
              " 2000-01-04   887.0   925.00   873.00   900.00   906.603331       185187.0   \n",
              " 2000-01-05   890.5   971.95   845.00   971.95   944.524698       320142.0   \n",
              " 2000-01-06   995.0  1049.65   995.00  1049.65  1042.838029       188917.0   \n",
              " 2000-01-07  1040.0  1120.00  1039.00  1090.00  1084.899780       177390.0   \n",
              " ...            ...      ...      ...      ...          ...            ...   \n",
              " 2021-03-17   331.0   333.25   325.00   326.45   329.610000       169410.0   \n",
              " 2021-03-18   330.0   340.25   329.95   331.25   335.230000       955829.0   \n",
              " 2021-03-19   330.0   339.75   320.80   335.15   329.100000       329792.0   \n",
              " 2021-03-22   335.9   342.50   331.05   339.10   336.230000       574273.0   \n",
              " 2021-03-23   342.0   342.55   330.30   331.55   335.870000       270161.0   \n",
              " \n",
              "             No. of Trades  Total Turnover  Deliverable Quantity  \\\n",
              " Date                                                              \n",
              " 2000-01-03          790.0      67075204.0                   NaN   \n",
              " 2000-01-04         1540.0     167891151.0                   NaN   \n",
              " 2000-01-05         2269.0     302382026.0                   NaN   \n",
              " 2000-01-06         1428.0     197009832.0                   NaN   \n",
              " 2000-01-07         1996.0     192450372.0                   NaN   \n",
              " ...                   ...             ...                   ...   \n",
              " 2021-03-17         1594.0      55838792.0               23125.0   \n",
              " 2021-03-18         7733.0     320418928.0              175149.0   \n",
              " 2021-03-19         2726.0     108534174.0               48974.0   \n",
              " 2021-03-22         3688.0     193088555.0               90552.0   \n",
              " 2021-03-23         2745.0      90738540.0               39172.0   \n",
              " \n",
              "             % Deli. Qty to Traded Qty  Spread H-L  Spread C-O  \\\n",
              " Date                                                            \n",
              " 2000-01-03                        NaN       39.35       37.00   \n",
              " 2000-01-04                        NaN       52.00       13.00   \n",
              " 2000-01-05                        NaN      126.95       81.45   \n",
              " 2000-01-06                        NaN       54.65       54.65   \n",
              " 2000-01-07                        NaN       81.00       50.00   \n",
              " ...                               ...         ...         ...   \n",
              " 2021-03-17                      13.65        8.25       -4.55   \n",
              " 2021-03-18                      18.32       10.30        1.25   \n",
              " 2021-03-19                      14.85       18.95        5.15   \n",
              " 2021-03-22                      15.77       11.45        3.20   \n",
              " 2021-03-23                      14.50       12.25      -10.45   \n",
              " \n",
              "                                       StockName       code  isStock   Index  \n",
              " Date                                                                         \n",
              " 2000-01-03  HINDALCO INDUSTRIES LTD. EOD Prices  BOM500440        1  SI1200  \n",
              " 2000-01-04  HINDALCO INDUSTRIES LTD. EOD Prices  BOM500440        1  SI1200  \n",
              " 2000-01-05  HINDALCO INDUSTRIES LTD. EOD Prices  BOM500440        1  SI1200  \n",
              " 2000-01-06  HINDALCO INDUSTRIES LTD. EOD Prices  BOM500440        1  SI1200  \n",
              " 2000-01-07  HINDALCO INDUSTRIES LTD. EOD Prices  BOM500440        1  SI1200  \n",
              " ...                                         ...        ...      ...     ...  \n",
              " 2021-03-17  HINDALCO INDUSTRIES LTD. EOD Prices  BOM500440        1  SI1200  \n",
              " 2021-03-18  HINDALCO INDUSTRIES LTD. EOD Prices  BOM500440        1  SI1200  \n",
              " 2021-03-19  HINDALCO INDUSTRIES LTD. EOD Prices  BOM500440        1  SI1200  \n",
              " 2021-03-22  HINDALCO INDUSTRIES LTD. EOD Prices  BOM500440        1  SI1200  \n",
              " 2021-03-23  HINDALCO INDUSTRIES LTD. EOD Prices  BOM500440        1  SI1200  \n",
              " \n",
              " [5281 rows x 16 columns],\n",
              " 'BOM500470':               Open    High     Low   Close         WAP  No. of Shares  \\\n",
              " Date                                                                    \n",
              " 2000-01-03  147.90  152.90  145.00  152.90  151.035189      2330272.0   \n",
              " 2000-01-04  154.00  154.30  147.50  151.85  152.039869      1408009.0   \n",
              " 2000-01-05  151.50  162.80  143.10  156.85  155.722073      3224549.0   \n",
              " 2000-01-06  157.00  169.35  157.00  168.00  167.486304      3042460.0   \n",
              " 2000-01-07  166.55  178.45  165.00  169.80  173.006055      4186030.0   \n",
              " ...            ...     ...     ...     ...         ...            ...   \n",
              " 2021-03-17  725.00  725.95  700.40  704.40  712.800000       508033.0   \n",
              " 2021-03-18  716.00  723.15  698.15  704.95  712.930000       651500.0   \n",
              " 2021-03-19  703.50  736.70  681.20  733.00  711.270000       995002.0   \n",
              " 2021-03-22  732.00  745.50  724.80  743.50  739.790000       846495.0   \n",
              " 2021-03-23  745.50  749.55  733.50  740.95  740.790000       665684.0   \n",
              " \n",
              "             No. of Trades  Total Turnover  Deliverable Quantity  \\\n",
              " Date                                                              \n",
              " 2000-01-03         5751.0     351953072.0                   NaN   \n",
              " 2000-01-04         4182.0     214073504.0                   NaN   \n",
              " 2000-01-05         8080.0     502133456.0                   NaN   \n",
              " 2000-01-06         6729.0     509570379.0                   NaN   \n",
              " 2000-01-07         8849.0     724208537.0                   NaN   \n",
              " ...                   ...             ...                   ...   \n",
              " 2021-03-17         9591.0     362127294.0               96490.0   \n",
              " 2021-03-18        11376.0     464474413.0              124725.0   \n",
              " 2021-03-19        18414.0     707711336.0              228909.0   \n",
              " 2021-03-22        13384.0     626230386.0              256622.0   \n",
              " 2021-03-23         6640.0     493128938.0              145316.0   \n",
              " \n",
              "             % Deli. Qty to Traded Qty  Spread H-L  Spread C-O  \\\n",
              " Date                                                            \n",
              " 2000-01-03                        NaN        7.90        5.00   \n",
              " 2000-01-04                        NaN        6.80       -2.15   \n",
              " 2000-01-05                        NaN       19.70        5.35   \n",
              " 2000-01-06                        NaN       12.35       11.00   \n",
              " 2000-01-07                        NaN       13.45        3.25   \n",
              " ...                               ...         ...         ...   \n",
              " 2021-03-17                      18.99       25.55      -20.60   \n",
              " 2021-03-18                      19.14       25.00      -11.05   \n",
              " 2021-03-19                      23.01       55.50       29.50   \n",
              " 2021-03-22                      30.32       20.70       11.50   \n",
              " 2021-03-23                      21.83       16.05       -4.55   \n",
              " \n",
              "                              StockName       code  isStock   Index  \n",
              " Date                                                                \n",
              " 2000-01-03  TATA STEEL LTD. EOD Prices  BOM500470        1  SI1200  \n",
              " 2000-01-04  TATA STEEL LTD. EOD Prices  BOM500470        1  SI1200  \n",
              " 2000-01-05  TATA STEEL LTD. EOD Prices  BOM500470        1  SI1200  \n",
              " 2000-01-06  TATA STEEL LTD. EOD Prices  BOM500470        1  SI1200  \n",
              " 2000-01-07  TATA STEEL LTD. EOD Prices  BOM500470        1  SI1200  \n",
              " ...                                ...        ...      ...     ...  \n",
              " 2021-03-17  TATA STEEL LTD. EOD Prices  BOM500470        1  SI1200  \n",
              " 2021-03-18  TATA STEEL LTD. EOD Prices  BOM500470        1  SI1200  \n",
              " 2021-03-19  TATA STEEL LTD. EOD Prices  BOM500470        1  SI1200  \n",
              " 2021-03-22  TATA STEEL LTD. EOD Prices  BOM500470        1  SI1200  \n",
              " 2021-03-23  TATA STEEL LTD. EOD Prices  BOM500470        1  SI1200  \n",
              " \n",
              " [5282 rows x 16 columns],\n",
              " 'BOM500570':              Open    High     Low   Close         WAP  No. of Shares  \\\n",
              " Date                                                                   \n",
              " 2000-01-03  208.9  217.05  207.00  217.00  214.759807       965540.0   \n",
              " 2000-01-04  219.6  219.60  206.00  209.50  210.197977       898442.0   \n",
              " 2000-01-05  206.0  217.00  195.00  211.90  209.340472      1474522.0   \n",
              " 2000-01-06  215.5  228.80  215.50  221.50  223.861339      2101459.0   \n",
              " 2000-01-07  222.0  239.20  219.00  239.20  234.608382      2400499.0   \n",
              " ...           ...     ...     ...     ...         ...            ...   \n",
              " 2021-03-17  317.0  320.00  304.00  305.85  312.180000      2202123.0   \n",
              " 2021-03-18  310.6  316.50  299.75  306.90  309.440000      5997189.0   \n",
              " 2021-03-19  303.3  311.00  290.35  308.95  301.160000      5202269.0   \n",
              " 2021-03-22  308.9  308.90  300.10  303.05  303.890000      2657465.0   \n",
              " 2021-03-23  305.0  312.10  304.10  307.30  308.540000      3010510.0   \n",
              " \n",
              "             No. of Trades  Total Turnover  Deliverable Quantity  \\\n",
              " Date                                                              \n",
              " 2000-01-03         3888.0    2.073592e+08                   NaN   \n",
              " 2000-01-04         3888.0    1.888507e+08                   NaN   \n",
              " 2000-01-05         5357.0    3.086771e+08                   NaN   \n",
              " 2000-01-06         7165.0    4.704354e+08                   NaN   \n",
              " 2000-01-07         6724.0    5.631772e+08                   NaN   \n",
              " ...                   ...             ...                   ...   \n",
              " 2021-03-17        18503.0    6.874684e+08              431195.0   \n",
              " 2021-03-18        58868.0    1.855795e+09             1161392.0   \n",
              " 2021-03-19        35810.0    1.566692e+09              422796.0   \n",
              " 2021-03-22        20678.0    8.075685e+08              430971.0   \n",
              " 2021-03-23        20834.0    9.288514e+08              308656.0   \n",
              " \n",
              "             % Deli. Qty to Traded Qty  Spread H-L  Spread C-O  \\\n",
              " Date                                                            \n",
              " 2000-01-03                        NaN       10.05        8.10   \n",
              " 2000-01-04                        NaN       13.60      -10.10   \n",
              " 2000-01-05                        NaN       22.00        5.90   \n",
              " 2000-01-06                        NaN       13.30        6.00   \n",
              " 2000-01-07                        NaN       20.20       17.20   \n",
              " ...                               ...         ...         ...   \n",
              " 2021-03-17                      19.58       16.00      -11.15   \n",
              " 2021-03-18                      19.37       16.75       -3.70   \n",
              " 2021-03-19                       8.13       20.65        5.65   \n",
              " 2021-03-22                      16.22        8.80       -5.85   \n",
              " 2021-03-23                      10.25        8.00        2.30   \n",
              " \n",
              "                               StockName       code  isStock   Index  \n",
              " Date                                                                 \n",
              " 2000-01-03  TATA MOTORS LTD. EOD Prices  BOM500570        1  SI1900  \n",
              " 2000-01-04  TATA MOTORS LTD. EOD Prices  BOM500570        1  SI1900  \n",
              " 2000-01-05  TATA MOTORS LTD. EOD Prices  BOM500570        1  SI1900  \n",
              " 2000-01-06  TATA MOTORS LTD. EOD Prices  BOM500570        1  SI1900  \n",
              " 2000-01-07  TATA MOTORS LTD. EOD Prices  BOM500570        1  SI1900  \n",
              " ...                                 ...        ...      ...     ...  \n",
              " 2021-03-17  TATA MOTORS LTD. EOD Prices  BOM500570        1  SI1900  \n",
              " 2021-03-18  TATA MOTORS LTD. EOD Prices  BOM500570        1  SI1900  \n",
              " 2021-03-19  TATA MOTORS LTD. EOD Prices  BOM500570        1  SI1900  \n",
              " 2021-03-22  TATA MOTORS LTD. EOD Prices  BOM500570        1  SI1900  \n",
              " 2021-03-23  TATA MOTORS LTD. EOD Prices  BOM500570        1  SI1900  \n",
              " \n",
              " [5281 rows x 16 columns],\n",
              " 'BOM507685':               Open     High      Low    Close          WAP  No. of Shares  \\\n",
              " Date                                                                        \n",
              " 2000-01-03  2700.0  2808.85  2700.00  2808.85  2807.774453        29710.0   \n",
              " 2000-01-04  2998.0  3033.50  2935.00  3033.50  3015.198974        60455.0   \n",
              " 2000-01-05  3033.5  3273.90  2790.85  2996.95  3070.302423       151536.0   \n",
              " 2000-01-06  3089.0  3150.00  2791.00  2920.00  2945.745353        86618.0   \n",
              " 2000-01-07  2859.0  2859.00  2686.45  2686.45  2695.991312        27970.0   \n",
              " ...            ...      ...      ...      ...          ...            ...   \n",
              " 2021-03-17   429.0   435.50   417.80   419.55   428.800000       278501.0   \n",
              " 2021-03-18   424.8   424.80   404.40   410.10   414.660000       267721.0   \n",
              " 2021-03-19   409.9   413.45   399.45   410.55   409.000000      1131410.0   \n",
              " 2021-03-22   410.6   416.20   410.20   414.15   413.720000       354978.0   \n",
              " 2021-03-23   419.0   423.30   412.85   415.65   417.120000       294944.0   \n",
              " \n",
              "             No. of Trades  Total Turnover  Deliverable Quantity  \\\n",
              " Date                                                              \n",
              " 2000-01-03          555.0      83418979.0                   NaN   \n",
              " 2000-01-04         1204.0     182283854.0                   NaN   \n",
              " 2000-01-05         4357.0     465261348.0                   NaN   \n",
              " 2000-01-06         3024.0     255154571.0                   NaN   \n",
              " 2000-01-07          559.0      75406877.0                   NaN   \n",
              " ...                   ...             ...                   ...   \n",
              " 2021-03-17         4496.0     119421775.0               47651.0   \n",
              " 2021-03-18         4756.0     111012170.0               74821.0   \n",
              " 2021-03-19         6521.0     462751292.0               75959.0   \n",
              " 2021-03-22         7386.0     146861427.0              105586.0   \n",
              " 2021-03-23         3920.0     123027085.0               50972.0   \n",
              " \n",
              "             % Deli. Qty to Traded Qty  Spread H-L  Spread C-O  \\\n",
              " Date                                                            \n",
              " 2000-01-03                        NaN      108.85      108.85   \n",
              " 2000-01-04                        NaN       98.50       35.50   \n",
              " 2000-01-05                        NaN      483.05      -36.55   \n",
              " 2000-01-06                        NaN      359.00     -169.00   \n",
              " 2000-01-07                        NaN      172.55     -172.55   \n",
              " ...                               ...         ...         ...   \n",
              " 2021-03-17                      17.11       17.70       -9.45   \n",
              " 2021-03-18                      27.95       20.40      -14.70   \n",
              " 2021-03-19                       6.71       14.00        0.65   \n",
              " 2021-03-22                      29.74        6.00        3.55   \n",
              " 2021-03-23                      17.28       10.45       -3.35   \n",
              " \n",
              "                         StockName       code  isStock   Index  \n",
              " Date                                                           \n",
              " 2000-01-03  WIPRO LTD. EOD Prices  BOM507685        1  SI1000  \n",
              " 2000-01-04  WIPRO LTD. EOD Prices  BOM507685        1  SI1000  \n",
              " 2000-01-05  WIPRO LTD. EOD Prices  BOM507685        1  SI1000  \n",
              " 2000-01-06  WIPRO LTD. EOD Prices  BOM507685        1  SI1000  \n",
              " 2000-01-07  WIPRO LTD. EOD Prices  BOM507685        1  SI1000  \n",
              " ...                           ...        ...      ...     ...  \n",
              " 2021-03-17  WIPRO LTD. EOD Prices  BOM507685        1  SI1000  \n",
              " 2021-03-18  WIPRO LTD. EOD Prices  BOM507685        1  SI1000  \n",
              " 2021-03-19  WIPRO LTD. EOD Prices  BOM507685        1  SI1000  \n",
              " 2021-03-22  WIPRO LTD. EOD Prices  BOM507685        1  SI1000  \n",
              " 2021-03-23  WIPRO LTD. EOD Prices  BOM507685        1  SI1000  \n",
              " \n",
              " [5282 rows x 16 columns],\n",
              " 'BOM524715':                Open     High      Low    Close          WAP  No. of Shares  \\\n",
              " Date                                                                         \n",
              " 2000-01-03  1757.35  1849.45  1757.35  1849.45  1828.377016        20466.0   \n",
              " 2000-01-04  1900.00  1900.00  1770.00  1795.00  1797.323602        19935.0   \n",
              " 2000-01-05  1771.00  1772.00  1651.45  1735.00  1741.301634         9548.0   \n",
              " 2000-01-06  1770.00  1770.00  1730.00  1733.75  1748.185940         8976.0   \n",
              " 2000-01-07  1651.45  1675.00  1595.10  1609.25  1614.365621        16487.0   \n",
              " ...             ...      ...      ...      ...          ...            ...   \n",
              " 2021-03-17   603.00   603.00   582.00   585.20   590.240000       127847.0   \n",
              " 2021-03-18   587.00   591.25   572.00   574.50   579.200000       224698.0   \n",
              " 2021-03-19   572.95   582.65   562.40   578.60   575.630000       183303.0   \n",
              " 2021-03-22   581.50   593.30   579.15   590.95   588.920000       246968.0   \n",
              " 2021-03-23   593.95   594.55   582.95   587.90   587.430000       153429.0   \n",
              " \n",
              "             No. of Trades  Total Turnover  Deliverable Quantity  \\\n",
              " Date                                                              \n",
              " 2000-01-03          554.0      37419564.0                   NaN   \n",
              " 2000-01-04          430.0      35829646.0                   NaN   \n",
              " 2000-01-05          256.0      16625948.0                   NaN   \n",
              " 2000-01-06          199.0      15691717.0                   NaN   \n",
              " 2000-01-07          288.0      26616046.0                   NaN   \n",
              " ...                   ...             ...                   ...   \n",
              " 2021-03-17         3568.0      75460707.0               42590.0   \n",
              " 2021-03-18         7526.0     130144609.0               79692.0   \n",
              " 2021-03-19         3206.0     105514697.0               45064.0   \n",
              " 2021-03-22         5367.0     145444005.0               78652.0   \n",
              " 2021-03-23         2533.0      90128979.0               29741.0   \n",
              " \n",
              "             % Deli. Qty to Traded Qty  Spread H-L  Spread C-O  \\\n",
              " Date                                                            \n",
              " 2000-01-03                        NaN       92.10       92.10   \n",
              " 2000-01-04                        NaN      130.00     -105.00   \n",
              " 2000-01-05                        NaN      120.55      -36.00   \n",
              " 2000-01-06                        NaN       40.00      -36.25   \n",
              " 2000-01-07                        NaN       79.90      -42.20   \n",
              " ...                               ...         ...         ...   \n",
              " 2021-03-17                      33.31       21.00      -17.80   \n",
              " 2021-03-18                      35.47       19.25      -12.50   \n",
              " 2021-03-19                      24.58       20.25        5.65   \n",
              " 2021-03-22                      31.85       14.15        9.45   \n",
              " 2021-03-23                      19.38       11.60       -6.05   \n",
              " \n",
              "                                                 StockName       code  isStock  \\\n",
              " Date                                                                            \n",
              " 2000-01-03  SUN PHARMACEUTICAL INDUSTRIES LTD. EOD Prices  BOM524715        1   \n",
              " 2000-01-04  SUN PHARMACEUTICAL INDUSTRIES LTD. EOD Prices  BOM524715        1   \n",
              " 2000-01-05  SUN PHARMACEUTICAL INDUSTRIES LTD. EOD Prices  BOM524715        1   \n",
              " 2000-01-06  SUN PHARMACEUTICAL INDUSTRIES LTD. EOD Prices  BOM524715        1   \n",
              " 2000-01-07  SUN PHARMACEUTICAL INDUSTRIES LTD. EOD Prices  BOM524715        1   \n",
              " ...                                                   ...        ...      ...   \n",
              " 2021-03-17  SUN PHARMACEUTICAL INDUSTRIES LTD. EOD Prices  BOM524715        1   \n",
              " 2021-03-18  SUN PHARMACEUTICAL INDUSTRIES LTD. EOD Prices  BOM524715        1   \n",
              " 2021-03-19  SUN PHARMACEUTICAL INDUSTRIES LTD. EOD Prices  BOM524715        1   \n",
              " 2021-03-22  SUN PHARMACEUTICAL INDUSTRIES LTD. EOD Prices  BOM524715        1   \n",
              " 2021-03-23  SUN PHARMACEUTICAL INDUSTRIES LTD. EOD Prices  BOM524715        1   \n",
              " \n",
              "              Index  \n",
              " Date                \n",
              " 2000-01-03  SI0800  \n",
              " 2000-01-04  SI0800  \n",
              " 2000-01-05  SI0800  \n",
              " 2000-01-06  SI0800  \n",
              " 2000-01-07  SI0800  \n",
              " ...            ...  \n",
              " 2021-03-17  SI0800  \n",
              " 2021-03-18  SI0800  \n",
              " 2021-03-19  SI0800  \n",
              " 2021-03-22  SI0800  \n",
              " 2021-03-23  SI0800  \n",
              " \n",
              " [5281 rows x 16 columns],\n",
              " 'BOM532174':               Open    High     Low   Close         WAP  No. of Shares  \\\n",
              " Date                                                                    \n",
              " 2000-01-03   75.00   75.55   72.00   75.55   74.136458       474880.0   \n",
              " 2000-01-04   79.45   80.40   72.30   73.65   74.558564       280845.0   \n",
              " 2000-01-05   72.50   74.00   67.80   69.30   71.535594       436749.0   \n",
              " 2000-01-06   70.00   74.30   69.00   69.15   71.575544       255355.0   \n",
              " 2000-01-07   66.15   70.00   65.00   66.00   68.086520       393447.0   \n",
              " ...            ...     ...     ...     ...         ...            ...   \n",
              " 2021-03-17  595.55  603.55  586.90  589.25  595.400000       524768.0   \n",
              " 2021-03-18  594.30  601.40  575.50  578.35  586.930000       677178.0   \n",
              " 2021-03-19  575.00  588.90  569.80  586.50  577.820000       829218.0   \n",
              " 2021-03-22  587.75  587.75  569.60  573.40  576.150000       715176.0   \n",
              " 2021-03-23  577.90  589.25  574.65  586.30  580.130000      2419610.0   \n",
              " \n",
              "             No. of Trades  Total Turnover  Deliverable Quantity  \\\n",
              " Date                                                              \n",
              " 2000-01-03         1175.0    3.520592e+07                   NaN   \n",
              " 2000-01-04         1075.0    2.093940e+07                   NaN   \n",
              " 2000-01-05         1194.0    3.124310e+07                   NaN   \n",
              " 2000-01-06          743.0    1.827717e+07                   NaN   \n",
              " 2000-01-07          967.0    2.678844e+07                   NaN   \n",
              " ...                   ...             ...                   ...   \n",
              " 2021-03-17         8719.0    3.124493e+08              100434.0   \n",
              " 2021-03-18        12679.0    3.974565e+08              163544.0   \n",
              " 2021-03-19        11286.0    4.791358e+08              194078.0   \n",
              " 2021-03-22        12594.0    4.120452e+08              204689.0   \n",
              " 2021-03-23        10328.0    1.403683e+09             1910523.0   \n",
              " \n",
              "             % Deli. Qty to Traded Qty  Spread H-L  Spread C-O  \\\n",
              " Date                                                            \n",
              " 2000-01-03                        NaN        3.55        0.55   \n",
              " 2000-01-04                        NaN        8.10       -5.80   \n",
              " 2000-01-05                        NaN        6.20       -3.20   \n",
              " 2000-01-06                        NaN        5.30       -0.85   \n",
              " 2000-01-07                        NaN        5.00       -0.15   \n",
              " ...                               ...         ...         ...   \n",
              " 2021-03-17                      19.14       16.65       -6.30   \n",
              " 2021-03-18                      24.15       25.90      -15.95   \n",
              " 2021-03-19                      23.40       19.10       11.50   \n",
              " 2021-03-22                      28.62       18.15      -14.35   \n",
              " 2021-03-23                      78.96       14.60        8.40   \n",
              " \n",
              "                              StockName       code  isStock   Index  \n",
              " Date                                                                \n",
              " 2000-01-03  ICICI BANK LTD. EOD Prices  BOM532174        1  SIBANK  \n",
              " 2000-01-04  ICICI BANK LTD. EOD Prices  BOM532174        1  SIBANK  \n",
              " 2000-01-05  ICICI BANK LTD. EOD Prices  BOM532174        1  SIBANK  \n",
              " 2000-01-06  ICICI BANK LTD. EOD Prices  BOM532174        1  SIBANK  \n",
              " 2000-01-07  ICICI BANK LTD. EOD Prices  BOM532174        1  SIBANK  \n",
              " ...                                ...        ...      ...     ...  \n",
              " 2021-03-17  ICICI BANK LTD. EOD Prices  BOM532174        1  SIBANK  \n",
              " 2021-03-18  ICICI BANK LTD. EOD Prices  BOM532174        1  SIBANK  \n",
              " 2021-03-19  ICICI BANK LTD. EOD Prices  BOM532174        1  SIBANK  \n",
              " 2021-03-22  ICICI BANK LTD. EOD Prices  BOM532174        1  SIBANK  \n",
              " 2021-03-23  ICICI BANK LTD. EOD Prices  BOM532174        1  SIBANK  \n",
              " \n",
              " [5281 rows x 16 columns],\n",
              " 'BOM532488':                Open    High      Low    Close          WAP  No. of Shares  \\\n",
              " Date                                                                        \n",
              " 2003-03-12   161.10   180.5   154.00   176.25   175.222109       291798.0   \n",
              " 2003-03-13   175.00   187.2   175.00   180.70   181.425461      1109412.0   \n",
              " 2003-03-17   181.10   181.1   168.70   172.60   175.170989        77859.0   \n",
              " 2003-03-19   176.00   178.5   173.00   175.30   175.390174        45572.0   \n",
              " 2003-03-20   175.50   191.0   175.00   183.25   185.215527       200555.0   \n",
              " ...             ...     ...      ...      ...          ...            ...   \n",
              " 2021-03-17  3380.00  3391.4  3345.25  3378.25  3368.930000        12361.0   \n",
              " 2021-03-18  3392.00  3392.0  3255.60  3270.40  3316.750000        17315.0   \n",
              " 2021-03-19  3280.00  3404.4  3154.50  3370.15  3293.930000        34182.0   \n",
              " 2021-03-22  3380.00  3444.4  3353.85  3406.75  3420.450000        18799.0   \n",
              " 2021-03-23  3405.35  3510.0  3405.35  3493.65  3475.360000        33191.0   \n",
              " \n",
              "             No. of Trades  Total Turnover  Deliverable Quantity  \\\n",
              " Date                                                              \n",
              " 2003-03-12         3982.0      51129461.0                   NaN   \n",
              " 2003-03-13         8639.0     201275583.0                   NaN   \n",
              " 2003-03-17         1631.0      13638638.0                   NaN   \n",
              " 2003-03-19         1077.0       7992881.0                   NaN   \n",
              " 2003-03-20         2933.0      37145900.0                   NaN   \n",
              " ...                   ...             ...                   ...   \n",
              " 2021-03-17         1597.0      41643404.0                4503.0   \n",
              " 2021-03-18         2294.0      57429519.0                6779.0   \n",
              " 2021-03-19         4393.0     112593117.0               10680.0   \n",
              " 2021-03-22         1352.0      64301105.0                4030.0   \n",
              " 2021-03-23         3566.0     115350672.0               15482.0   \n",
              " \n",
              "             % Deli. Qty to Traded Qty  Spread H-L  Spread C-O  \\\n",
              " Date                                                            \n",
              " 2003-03-12                        NaN       26.50       15.15   \n",
              " 2003-03-13                        NaN       12.20        5.70   \n",
              " 2003-03-17                        NaN       12.40       -8.50   \n",
              " 2003-03-19                        NaN        5.50       -0.70   \n",
              " 2003-03-20                        NaN       16.00        7.75   \n",
              " ...                               ...         ...         ...   \n",
              " 2021-03-17                      36.43       46.15       -1.75   \n",
              " 2021-03-18                      39.15      136.40     -121.60   \n",
              " 2021-03-19                      31.24      249.90       90.15   \n",
              " 2021-03-22                      21.44       90.55       26.75   \n",
              " 2021-03-23                      46.65      104.65       88.30   \n",
              " \n",
              "                                       StockName       code  isStock   Index  \n",
              " Date                                                                         \n",
              " 2003-03-12  DIVI'S LABORATORIES LTD. EOD Prices  BOM532488        1  SI0800  \n",
              " 2003-03-13  DIVI'S LABORATORIES LTD. EOD Prices  BOM532488        1  SI0800  \n",
              " 2003-03-17  DIVI'S LABORATORIES LTD. EOD Prices  BOM532488        1  SI0800  \n",
              " 2003-03-19  DIVI'S LABORATORIES LTD. EOD Prices  BOM532488        1  SI0800  \n",
              " 2003-03-20  DIVI'S LABORATORIES LTD. EOD Prices  BOM532488        1  SI0800  \n",
              " ...                                         ...        ...      ...     ...  \n",
              " 2021-03-17  DIVI'S LABORATORIES LTD. EOD Prices  BOM532488        1  SI0800  \n",
              " 2021-03-18  DIVI'S LABORATORIES LTD. EOD Prices  BOM532488        1  SI0800  \n",
              " 2021-03-19  DIVI'S LABORATORIES LTD. EOD Prices  BOM532488        1  SI0800  \n",
              " 2021-03-22  DIVI'S LABORATORIES LTD. EOD Prices  BOM532488        1  SI0800  \n",
              " 2021-03-23  DIVI'S LABORATORIES LTD. EOD Prices  BOM532488        1  SI0800  \n",
              " \n",
              " [4484 rows x 16 columns],\n",
              " 'BOM532500':                Open     High      Low    Close          WAP  No. of Shares  \\\n",
              " Date                                                                         \n",
              " 2003-07-09   158.40   170.25   156.10   164.05   165.601766     16127441.0   \n",
              " 2003-07-10   165.95   168.25   164.35   166.95   166.685458      3565356.0   \n",
              " 2003-07-11   167.50   174.80   166.25   173.40   172.271289      4566262.0   \n",
              " 2003-07-14   175.00   179.20   174.05   178.20   177.760520      2336576.0   \n",
              " 2003-07-15   179.80   181.80   173.00   176.35   176.785983      2368760.0   \n",
              " ...             ...      ...      ...      ...          ...            ...   \n",
              " 2021-03-17  7157.00  7162.00  7044.35  7063.15  7102.550000        24271.0   \n",
              " 2021-03-18  7130.00  7240.00  7063.15  7114.15  7170.020000        40760.0   \n",
              " 2021-03-19  7031.00  7148.90  6906.05  7111.95  7012.740000        45629.0   \n",
              " 2021-03-22  7111.95  7140.15  7053.55  7103.20  7093.690000        19239.0   \n",
              " 2021-03-23  7130.00  7223.00  7130.00  7185.25  7192.110000        34274.0   \n",
              " \n",
              "             No. of Trades  Total Turnover  Deliverable Quantity  \\\n",
              " Date                                                              \n",
              " 2003-07-09        72917.0    2.670733e+09                   NaN   \n",
              " 2003-07-10        20210.0    5.942930e+08                   NaN   \n",
              " 2003-07-11        25626.0    7.866358e+08                   NaN   \n",
              " 2003-07-14        14128.0    4.153510e+08                   NaN   \n",
              " 2003-07-15        16230.0    4.187636e+08                   NaN   \n",
              " ...                   ...             ...                   ...   \n",
              " 2021-03-17         4293.0    1.723860e+08                7032.0   \n",
              " 2021-03-18         5309.0    2.922499e+08                5552.0   \n",
              " 2021-03-19         8230.0    3.199843e+08                9499.0   \n",
              " 2021-03-22         2958.0    1.364756e+08                3114.0   \n",
              " 2021-03-23         5916.0    2.465025e+08               11763.0   \n",
              " \n",
              "             % Deli. Qty to Traded Qty  Spread H-L  Spread C-O  \\\n",
              " Date                                                            \n",
              " 2003-07-09                        NaN       14.15        5.65   \n",
              " 2003-07-10                        NaN        3.90        1.00   \n",
              " 2003-07-11                        NaN        8.55        5.90   \n",
              " 2003-07-14                        NaN        5.15        3.20   \n",
              " 2003-07-15                        NaN        8.80       -3.45   \n",
              " ...                               ...         ...         ...   \n",
              " 2021-03-17                      28.97      117.65      -93.85   \n",
              " 2021-03-18                      13.62      176.85      -15.85   \n",
              " 2021-03-19                      20.82      242.85       80.95   \n",
              " 2021-03-22                      16.19       86.60       -8.75   \n",
              " 2021-03-23                      34.32       93.00       55.25   \n",
              " \n",
              "                                       StockName       code  isStock   Index  \n",
              " Date                                                                         \n",
              " 2003-07-09  MARUTI SUZUKI INDIA LTD. EOD Prices  BOM532500        1  SI1900  \n",
              " 2003-07-10  MARUTI SUZUKI INDIA LTD. EOD Prices  BOM532500        1  SI1900  \n",
              " 2003-07-11  MARUTI SUZUKI INDIA LTD. EOD Prices  BOM532500        1  SI1900  \n",
              " 2003-07-14  MARUTI SUZUKI INDIA LTD. EOD Prices  BOM532500        1  SI1900  \n",
              " 2003-07-15  MARUTI SUZUKI INDIA LTD. EOD Prices  BOM532500        1  SI1900  \n",
              " ...                                         ...        ...      ...     ...  \n",
              " 2021-03-17  MARUTI SUZUKI INDIA LTD. EOD Prices  BOM532500        1  SI1900  \n",
              " 2021-03-18  MARUTI SUZUKI INDIA LTD. EOD Prices  BOM532500        1  SI1900  \n",
              " 2021-03-19  MARUTI SUZUKI INDIA LTD. EOD Prices  BOM532500        1  SI1900  \n",
              " 2021-03-22  MARUTI SUZUKI INDIA LTD. EOD Prices  BOM532500        1  SI1900  \n",
              " 2021-03-23  MARUTI SUZUKI INDIA LTD. EOD Prices  BOM532500        1  SI1900  \n",
              " \n",
              " [4403 rows x 16 columns],\n",
              " 'BOM532540':                Open     High      Low    Close          WAP  No. of Shares  \\\n",
              " Date                                                                         \n",
              " 2004-08-25  1076.00  1080.00   979.00   987.50  1004.163872      6536309.0   \n",
              " 2004-08-26   992.70   996.70   975.30   978.55   985.243466      2243016.0   \n",
              " 2004-08-27   982.45   982.45   958.55   962.35   969.424008      1503317.0   \n",
              " 2004-08-30   967.70   989.75   965.00   986.25   982.607932      1124819.0   \n",
              " 2004-08-31   989.00   990.00   976.00   987.95   982.258276      1135066.0   \n",
              " ...             ...      ...      ...      ...          ...            ...   \n",
              " 2021-03-17  3108.00  3156.75  3086.00  3112.70  3131.130000       263394.0   \n",
              " 2021-03-18  3122.00  3145.00  2986.30  3036.80  3071.420000        94103.0   \n",
              " 2021-03-19  3032.00  3098.00  3004.45  3063.25  3046.140000       202074.0   \n",
              " 2021-03-22  3060.00  3139.00  3018.05  3129.60  3089.360000       136270.0   \n",
              " 2021-03-23  3139.75  3168.50  3124.00  3142.05  3149.040000        64888.0   \n",
              " \n",
              "             No. of Trades  Total Turnover  Deliverable Quantity  \\\n",
              " Date                                                              \n",
              " 2004-08-25       121534.0    6.563525e+09             1858962.0   \n",
              " 2004-08-26        44222.0    2.209917e+09              497612.0   \n",
              " 2004-08-27        31798.0    1.457352e+09              263508.0   \n",
              " 2004-08-30        23698.0    1.105256e+09              220874.0   \n",
              " 2004-08-31        19871.0    1.114928e+09              282277.0   \n",
              " ...                   ...             ...                   ...   \n",
              " 2021-03-17         7760.0    8.247218e+08              170072.0   \n",
              " 2021-03-18         6613.0    2.890299e+08               18374.0   \n",
              " 2021-03-19        13142.0    6.155460e+08               58266.0   \n",
              " 2021-03-22        10244.0    4.209878e+08               50805.0   \n",
              " 2021-03-23         4967.0    2.043348e+08               14175.0   \n",
              " \n",
              "             % Deli. Qty to Traded Qty  Spread H-L  Spread C-O  \\\n",
              " Date                                                            \n",
              " 2004-08-25                      28.44      101.00      -88.50   \n",
              " 2004-08-26                      22.18       21.40      -14.15   \n",
              " 2004-08-27                      17.53       23.90      -20.10   \n",
              " 2004-08-30                      19.64       24.75       18.55   \n",
              " 2004-08-31                      24.87       14.00       -1.05   \n",
              " ...                               ...         ...         ...   \n",
              " 2021-03-17                      64.57       70.75        4.70   \n",
              " 2021-03-18                      19.53      158.70      -85.20   \n",
              " 2021-03-19                      28.83       93.55       31.25   \n",
              " 2021-03-22                      37.28      120.95       69.60   \n",
              " 2021-03-23                      21.85       44.50        2.30   \n",
              " \n",
              "                                             StockName       code  isStock  \\\n",
              " Date                                                                        \n",
              " 2004-08-25  TATA CONSULTANCY SERVICES LTD. EOD Prices  BOM532540        1   \n",
              " 2004-08-26  TATA CONSULTANCY SERVICES LTD. EOD Prices  BOM532540        1   \n",
              " 2004-08-27  TATA CONSULTANCY SERVICES LTD. EOD Prices  BOM532540        1   \n",
              " 2004-08-30  TATA CONSULTANCY SERVICES LTD. EOD Prices  BOM532540        1   \n",
              " 2004-08-31  TATA CONSULTANCY SERVICES LTD. EOD Prices  BOM532540        1   \n",
              " ...                                               ...        ...      ...   \n",
              " 2021-03-17  TATA CONSULTANCY SERVICES LTD. EOD Prices  BOM532540        1   \n",
              " 2021-03-18  TATA CONSULTANCY SERVICES LTD. EOD Prices  BOM532540        1   \n",
              " 2021-03-19  TATA CONSULTANCY SERVICES LTD. EOD Prices  BOM532540        1   \n",
              " 2021-03-22  TATA CONSULTANCY SERVICES LTD. EOD Prices  BOM532540        1   \n",
              " 2021-03-23  TATA CONSULTANCY SERVICES LTD. EOD Prices  BOM532540        1   \n",
              " \n",
              "              Index  \n",
              " Date                \n",
              " 2004-08-25  SI1000  \n",
              " 2004-08-26  SI1000  \n",
              " 2004-08-27  SI1000  \n",
              " 2004-08-30  SI1000  \n",
              " 2004-08-31  SI1000  \n",
              " ...            ...  \n",
              " 2021-03-17  SI1000  \n",
              " 2021-03-18  SI1000  \n",
              " 2021-03-19  SI1000  \n",
              " 2021-03-22  SI1000  \n",
              " 2021-03-23  SI1000  \n",
              " \n",
              " [4115 rows x 16 columns],\n",
              " 'BOM532977':                Open     High      Low    Close          WAP  No. of Shares  \\\n",
              " Date                                                                         \n",
              " 2008-05-26   945.00   945.00   556.00   604.50   626.787873      2303843.0   \n",
              " 2008-05-27   610.00   642.00   578.25   592.10   607.592589      1224049.0   \n",
              " 2008-05-28   600.00   619.00   590.00   606.30   609.533206       715399.0   \n",
              " 2008-05-29   610.00   619.50   591.00   599.60   601.720274       297934.0   \n",
              " 2008-05-30   609.00   609.00   543.00   574.45   571.282398       273996.0   \n",
              " ...             ...      ...      ...      ...          ...            ...   \n",
              " 2021-03-17  3647.00  3676.95  3560.00  3575.45  3600.600000        28265.0   \n",
              " 2021-03-18  3595.00  3692.00  3566.35  3663.45  3640.680000        57562.0   \n",
              " 2021-03-19  3663.45  3671.80  3575.00  3646.35  3635.710000        28241.0   \n",
              " 2021-03-22  3669.00  3683.70  3633.70  3667.55  3654.430000        52909.0   \n",
              " 2021-03-23  3650.00  3708.25  3642.05  3679.65  3678.540000        33450.0   \n",
              " \n",
              "             No. of Trades  Total Turnover  Deliverable Quantity  \\\n",
              " Date                                                              \n",
              " 2008-05-26        44921.0    1.444021e+09              222793.0   \n",
              " 2008-05-27        30002.0    7.437231e+08               62196.0   \n",
              " 2008-05-28        14892.0    4.360594e+08               75656.0   \n",
              " 2008-05-29         6027.0    1.792729e+08              114892.0   \n",
              " 2008-05-30         8930.0    1.565291e+08               18495.0   \n",
              " ...                   ...             ...                   ...   \n",
              " 2021-03-17         2804.0    1.017709e+08               13256.0   \n",
              " 2021-03-18         6108.0    2.095648e+08               11543.0   \n",
              " 2021-03-19         2777.0    1.026760e+08               10896.0   \n",
              " 2021-03-22         3629.0    1.933521e+08               37146.0   \n",
              " 2021-03-23         3450.0    1.230472e+08               19095.0   \n",
              " \n",
              "             % Deli. Qty to Traded Qty  Spread H-L  Spread C-O  \\\n",
              " Date                                                            \n",
              " 2008-05-26                       9.67      389.00     -340.50   \n",
              " 2008-05-27                       5.08       63.75      -17.90   \n",
              " 2008-05-28                      10.58       29.00        6.30   \n",
              " 2008-05-29                      38.56       28.50      -10.40   \n",
              " 2008-05-30                       6.75       66.00      -34.55   \n",
              " ...                               ...         ...         ...   \n",
              " 2021-03-17                      46.90      116.95      -71.55   \n",
              " 2021-03-18                      20.05      125.65       68.45   \n",
              " 2021-03-19                      38.58       96.80      -17.10   \n",
              " 2021-03-22                      70.21       50.00       -1.45   \n",
              " 2021-03-23                      57.09       66.20       29.65   \n",
              " \n",
              "                              StockName       code  isStock   Index  \n",
              " Date                                                                \n",
              " 2008-05-26  BAJAJ AUTO LTD. EOD Prices  BOM532977        1  SI1900  \n",
              " 2008-05-27  BAJAJ AUTO LTD. EOD Prices  BOM532977        1  SI1900  \n",
              " 2008-05-28  BAJAJ AUTO LTD. EOD Prices  BOM532977        1  SI1900  \n",
              " 2008-05-29  BAJAJ AUTO LTD. EOD Prices  BOM532977        1  SI1900  \n",
              " 2008-05-30  BAJAJ AUTO LTD. EOD Prices  BOM532977        1  SI1900  \n",
              " ...                                ...        ...      ...     ...  \n",
              " 2021-03-17  BAJAJ AUTO LTD. EOD Prices  BOM532977        1  SI1900  \n",
              " 2021-03-18  BAJAJ AUTO LTD. EOD Prices  BOM532977        1  SI1900  \n",
              " 2021-03-19  BAJAJ AUTO LTD. EOD Prices  BOM532977        1  SI1900  \n",
              " 2021-03-22  BAJAJ AUTO LTD. EOD Prices  BOM532977        1  SI1900  \n",
              " 2021-03-23  BAJAJ AUTO LTD. EOD Prices  BOM532977        1  SI1900  \n",
              " \n",
              " [3178 rows x 16 columns],\n",
              " 'SENSEX':                 Open      High       Low     Close  WAP  No. of Shares  \\\n",
              " Date                                                                     \n",
              " 2000-01-03   5209.54   5384.66   5209.54   5375.11  NaN            NaN   \n",
              " 2000-01-04   5533.98   5533.98   5376.43   5491.01  NaN            NaN   \n",
              " 2000-01-05   5265.09   5464.35   5184.48   5357.00  NaN            NaN   \n",
              " 2000-01-06   5424.21   5489.86   5391.33   5421.53  NaN            NaN   \n",
              " 2000-01-07   5358.28   5463.25   5330.58   5414.48  NaN            NaN   \n",
              " ...              ...       ...       ...       ...  ...            ...   \n",
              " 2021-03-17  50436.02  50561.12  49718.65  49801.62  NaN            NaN   \n",
              " 2021-03-18  50161.25  50296.35  48962.36  49216.52  NaN            NaN   \n",
              " 2021-03-19  48881.19  50003.58  48586.93  49858.24  NaN            NaN   \n",
              " 2021-03-22  49878.77  49878.77  49281.02  49771.29  NaN            NaN   \n",
              " 2021-03-23  49876.21  50264.65  49661.92  50051.44  NaN            NaN   \n",
              " \n",
              "             No. of Trades  Total Turnover  Deliverable Quantity  \\\n",
              " Date                                                              \n",
              " 2000-01-03            NaN             NaN                   NaN   \n",
              " 2000-01-04            NaN             NaN                   NaN   \n",
              " 2000-01-05            NaN             NaN                   NaN   \n",
              " 2000-01-06            NaN             NaN                   NaN   \n",
              " 2000-01-07            NaN             NaN                   NaN   \n",
              " ...                   ...             ...                   ...   \n",
              " 2021-03-17            NaN             NaN                   NaN   \n",
              " 2021-03-18            NaN             NaN                   NaN   \n",
              " 2021-03-19            NaN             NaN                   NaN   \n",
              " 2021-03-22            NaN             NaN                   NaN   \n",
              " 2021-03-23            NaN             NaN                   NaN   \n",
              " \n",
              "             % Deli. Qty to Traded Qty  Spread H-L  Spread C-O   StockName  \\\n",
              " Date                                                                        \n",
              " 2000-01-03                        NaN         NaN         NaN  BSE SENSEX   \n",
              " 2000-01-04                        NaN         NaN         NaN  BSE SENSEX   \n",
              " 2000-01-05                        NaN         NaN         NaN  BSE SENSEX   \n",
              " 2000-01-06                        NaN         NaN         NaN  BSE SENSEX   \n",
              " 2000-01-07                        NaN         NaN         NaN  BSE SENSEX   \n",
              " ...                               ...         ...         ...         ...   \n",
              " 2021-03-17                        NaN         NaN         NaN  BSE SENSEX   \n",
              " 2021-03-18                        NaN         NaN         NaN  BSE SENSEX   \n",
              " 2021-03-19                        NaN         NaN         NaN  BSE SENSEX   \n",
              " 2021-03-22                        NaN         NaN         NaN  BSE SENSEX   \n",
              " 2021-03-23                        NaN         NaN         NaN  BSE SENSEX   \n",
              " \n",
              "               code  isStock Index  \n",
              " Date                               \n",
              " 2000-01-03  SENSEX        0   NaN  \n",
              " 2000-01-04  SENSEX        0   NaN  \n",
              " 2000-01-05  SENSEX        0   NaN  \n",
              " 2000-01-06  SENSEX        0   NaN  \n",
              " 2000-01-07  SENSEX        0   NaN  \n",
              " ...            ...      ...   ...  \n",
              " 2021-03-17  SENSEX        0   NaN  \n",
              " 2021-03-18  SENSEX        0   NaN  \n",
              " 2021-03-19  SENSEX        0   NaN  \n",
              " 2021-03-22  SENSEX        0   NaN  \n",
              " 2021-03-23  SENSEX        0   NaN  \n",
              " \n",
              " [5282 rows x 16 columns],\n",
              " 'SI0800':                 Open      High       Low     Close  WAP  No. of Shares  \\\n",
              " Date                                                                     \n",
              " 2000-01-03       NaN       NaN       NaN   2246.26  NaN            NaN   \n",
              " 2000-01-04       NaN       NaN       NaN   2285.99  NaN            NaN   \n",
              " 2000-01-05       NaN       NaN       NaN   2194.35  NaN            NaN   \n",
              " 2000-01-06       NaN       NaN       NaN   2183.91  NaN            NaN   \n",
              " 2000-01-07       NaN       NaN       NaN   2114.89  NaN            NaN   \n",
              " ...              ...       ...       ...       ...  ...            ...   \n",
              " 2021-03-17  21122.69  21140.67  20644.22  20691.30  NaN            NaN   \n",
              " 2021-03-18  20783.51  20853.29  20256.71  20313.47  NaN            NaN   \n",
              " 2021-03-19  20258.14  20589.71  19863.84  20545.15  NaN            NaN   \n",
              " 2021-03-22  20585.49  20785.82  20521.03  20751.16  NaN            NaN   \n",
              " 2021-03-23  20814.74  20927.78  20729.50  20901.62  NaN            NaN   \n",
              " \n",
              "             No. of Trades  Total Turnover  Deliverable Quantity  \\\n",
              " Date                                                              \n",
              " 2000-01-03            NaN             NaN                   NaN   \n",
              " 2000-01-04            NaN             NaN                   NaN   \n",
              " 2000-01-05            NaN             NaN                   NaN   \n",
              " 2000-01-06            NaN             NaN                   NaN   \n",
              " 2000-01-07            NaN             NaN                   NaN   \n",
              " ...                   ...             ...                   ...   \n",
              " 2021-03-17            NaN             NaN                   NaN   \n",
              " 2021-03-18            NaN             NaN                   NaN   \n",
              " 2021-03-19            NaN             NaN                   NaN   \n",
              " 2021-03-22            NaN             NaN                   NaN   \n",
              " 2021-03-23            NaN             NaN                   NaN   \n",
              " \n",
              "             % Deli. Qty to Traded Qty  Spread H-L  Spread C-O       StockName  \\\n",
              " Date                                                                            \n",
              " 2000-01-03                        NaN         NaN         NaN  BSE Healthcare   \n",
              " 2000-01-04                        NaN         NaN         NaN  BSE Healthcare   \n",
              " 2000-01-05                        NaN         NaN         NaN  BSE Healthcare   \n",
              " 2000-01-06                        NaN         NaN         NaN  BSE Healthcare   \n",
              " 2000-01-07                        NaN         NaN         NaN  BSE Healthcare   \n",
              " ...                               ...         ...         ...             ...   \n",
              " 2021-03-17                        NaN         NaN         NaN  BSE Healthcare   \n",
              " 2021-03-18                        NaN         NaN         NaN  BSE Healthcare   \n",
              " 2021-03-19                        NaN         NaN         NaN  BSE Healthcare   \n",
              " 2021-03-22                        NaN         NaN         NaN  BSE Healthcare   \n",
              " 2021-03-23                        NaN         NaN         NaN  BSE Healthcare   \n",
              " \n",
              "               code  isStock Index  \n",
              " Date                               \n",
              " 2000-01-03  SI0800        0   NaN  \n",
              " 2000-01-04  SI0800        0   NaN  \n",
              " 2000-01-05  SI0800        0   NaN  \n",
              " 2000-01-06  SI0800        0   NaN  \n",
              " 2000-01-07  SI0800        0   NaN  \n",
              " ...            ...      ...   ...  \n",
              " 2021-03-17  SI0800        0   NaN  \n",
              " 2021-03-18  SI0800        0   NaN  \n",
              " 2021-03-19  SI0800        0   NaN  \n",
              " 2021-03-22  SI0800        0   NaN  \n",
              " 2021-03-23  SI0800        0   NaN  \n",
              " \n",
              " [5282 rows x 16 columns],\n",
              " 'SI1000':                 Open      High       Low     Close  WAP  No. of Shares  \\\n",
              " Date                                                                     \n",
              " 2000-01-03       NaN       NaN       NaN   4260.20  NaN            NaN   \n",
              " 2000-01-04       NaN       NaN       NaN   4554.08  NaN            NaN   \n",
              " 2000-01-05       NaN       NaN       NaN   4342.29  NaN            NaN   \n",
              " 2000-01-06       NaN       NaN       NaN   4160.10  NaN            NaN   \n",
              " 2000-01-07       NaN       NaN       NaN   3828.79  NaN            NaN   \n",
              " ...              ...       ...       ...       ...  ...            ...   \n",
              " 2021-03-17  26792.76  27028.27  26507.01  26589.95  NaN            NaN   \n",
              " 2021-03-18  26720.43  26783.48  25390.89  25788.13  NaN            NaN   \n",
              " 2021-03-19  25716.77  26105.66  25475.79  25995.53  NaN            NaN   \n",
              " 2021-03-22  26041.95  26521.98  25770.34  26446.07  NaN            NaN   \n",
              " 2021-03-23  26510.23  26692.68  26317.10  26485.96  NaN            NaN   \n",
              " \n",
              "             No. of Trades  Total Turnover  Deliverable Quantity  \\\n",
              " Date                                                              \n",
              " 2000-01-03            NaN             NaN                   NaN   \n",
              " 2000-01-04            NaN             NaN                   NaN   \n",
              " 2000-01-05            NaN             NaN                   NaN   \n",
              " 2000-01-06            NaN             NaN                   NaN   \n",
              " 2000-01-07            NaN             NaN                   NaN   \n",
              " ...                   ...             ...                   ...   \n",
              " 2021-03-17            NaN             NaN                   NaN   \n",
              " 2021-03-18            NaN             NaN                   NaN   \n",
              " 2021-03-19            NaN             NaN                   NaN   \n",
              " 2021-03-22            NaN             NaN                   NaN   \n",
              " 2021-03-23            NaN             NaN                   NaN   \n",
              " \n",
              "             % Deli. Qty to Traded Qty  Spread H-L  Spread C-O  \\\n",
              " Date                                                            \n",
              " 2000-01-03                        NaN         NaN         NaN   \n",
              " 2000-01-04                        NaN         NaN         NaN   \n",
              " 2000-01-05                        NaN         NaN         NaN   \n",
              " 2000-01-06                        NaN         NaN         NaN   \n",
              " 2000-01-07                        NaN         NaN         NaN   \n",
              " ...                               ...         ...         ...   \n",
              " 2021-03-17                        NaN         NaN         NaN   \n",
              " 2021-03-18                        NaN         NaN         NaN   \n",
              " 2021-03-19                        NaN         NaN         NaN   \n",
              " 2021-03-22                        NaN         NaN         NaN   \n",
              " 2021-03-23                        NaN         NaN         NaN   \n",
              " \n",
              "                              StockName    code  isStock Index  \n",
              " Date                                                           \n",
              " 2000-01-03  BSE Information Technology  SI1000        0   NaN  \n",
              " 2000-01-04  BSE Information Technology  SI1000        0   NaN  \n",
              " 2000-01-05  BSE Information Technology  SI1000        0   NaN  \n",
              " 2000-01-06  BSE Information Technology  SI1000        0   NaN  \n",
              " 2000-01-07  BSE Information Technology  SI1000        0   NaN  \n",
              " ...                                ...     ...      ...   ...  \n",
              " 2021-03-17  BSE Information Technology  SI1000        0   NaN  \n",
              " 2021-03-18  BSE Information Technology  SI1000        0   NaN  \n",
              " 2021-03-19  BSE Information Technology  SI1000        0   NaN  \n",
              " 2021-03-22  BSE Information Technology  SI1000        0   NaN  \n",
              " 2021-03-23  BSE Information Technology  SI1000        0   NaN  \n",
              " \n",
              " [5282 rows x 16 columns],\n",
              " 'SI1200':                 Open      High       Low     Close  WAP  No. of Shares  \\\n",
              " Date                                                                     \n",
              " 2000-01-03       NaN       NaN       NaN   1865.10  NaN            NaN   \n",
              " 2000-01-04       NaN       NaN       NaN   1854.09  NaN            NaN   \n",
              " 2000-01-05       NaN       NaN       NaN   1899.13  NaN            NaN   \n",
              " 2000-01-06       NaN       NaN       NaN   2006.98  NaN            NaN   \n",
              " 2000-01-07       NaN       NaN       NaN   2037.91  NaN            NaN   \n",
              " ...              ...       ...       ...       ...  ...            ...   \n",
              " 2021-03-17  14016.70  14017.18  13613.11  13670.37  NaN            NaN   \n",
              " 2021-03-18  13804.98  13949.29  13534.87  13626.90  NaN            NaN   \n",
              " 2021-03-19  13535.39  13989.49  13234.85  13879.28  NaN            NaN   \n",
              " 2021-03-22  13870.39  13995.62  13733.69  13959.24  NaN            NaN   \n",
              " 2021-03-23  14005.02  14042.14  13823.70  13856.46  NaN            NaN   \n",
              " \n",
              "             No. of Trades  Total Turnover  Deliverable Quantity  \\\n",
              " Date                                                              \n",
              " 2000-01-03            NaN             NaN                   NaN   \n",
              " 2000-01-04            NaN             NaN                   NaN   \n",
              " 2000-01-05            NaN             NaN                   NaN   \n",
              " 2000-01-06            NaN             NaN                   NaN   \n",
              " 2000-01-07            NaN             NaN                   NaN   \n",
              " ...                   ...             ...                   ...   \n",
              " 2021-03-17            NaN             NaN                   NaN   \n",
              " 2021-03-18            NaN             NaN                   NaN   \n",
              " 2021-03-19            NaN             NaN                   NaN   \n",
              " 2021-03-22            NaN             NaN                   NaN   \n",
              " 2021-03-23            NaN             NaN                   NaN   \n",
              " \n",
              "             % Deli. Qty to Traded Qty  Spread H-L  Spread C-O  StockName  \\\n",
              " Date                                                                       \n",
              " 2000-01-03                        NaN         NaN         NaN  BSE METAL   \n",
              " 2000-01-04                        NaN         NaN         NaN  BSE METAL   \n",
              " 2000-01-05                        NaN         NaN         NaN  BSE METAL   \n",
              " 2000-01-06                        NaN         NaN         NaN  BSE METAL   \n",
              " 2000-01-07                        NaN         NaN         NaN  BSE METAL   \n",
              " ...                               ...         ...         ...        ...   \n",
              " 2021-03-17                        NaN         NaN         NaN  BSE METAL   \n",
              " 2021-03-18                        NaN         NaN         NaN  BSE METAL   \n",
              " 2021-03-19                        NaN         NaN         NaN  BSE METAL   \n",
              " 2021-03-22                        NaN         NaN         NaN  BSE METAL   \n",
              " 2021-03-23                        NaN         NaN         NaN  BSE METAL   \n",
              " \n",
              "               code  isStock Index  \n",
              " Date                               \n",
              " 2000-01-03  SI1200        0   NaN  \n",
              " 2000-01-04  SI1200        0   NaN  \n",
              " 2000-01-05  SI1200        0   NaN  \n",
              " 2000-01-06  SI1200        0   NaN  \n",
              " 2000-01-07  SI1200        0   NaN  \n",
              " ...            ...      ...   ...  \n",
              " 2021-03-17  SI1200        0   NaN  \n",
              " 2021-03-18  SI1200        0   NaN  \n",
              " 2021-03-19  SI1200        0   NaN  \n",
              " 2021-03-22  SI1200        0   NaN  \n",
              " 2021-03-23  SI1200        0   NaN  \n",
              " \n",
              " [5282 rows x 16 columns],\n",
              " 'SI1900':                 Open      High       Low     Close  WAP  No. of Shares  \\\n",
              " Date                                                                     \n",
              " 2000-01-03       NaN       NaN       NaN   1384.78  NaN            NaN   \n",
              " 2000-01-04       NaN       NaN       NaN   1398.91  NaN            NaN   \n",
              " 2000-01-05       NaN       NaN       NaN   1392.58  NaN            NaN   \n",
              " 2000-01-06       NaN       NaN       NaN   1435.42  NaN            NaN   \n",
              " 2000-01-07       NaN       NaN       NaN   1432.15  NaN            NaN   \n",
              " ...              ...       ...       ...       ...  ...            ...   \n",
              " 2021-03-17  23352.77  23416.80  22892.07  22947.61  NaN            NaN   \n",
              " 2021-03-18  23121.31  23358.23  22676.12  22910.22  NaN            NaN   \n",
              " 2021-03-19  22732.21  23051.57  22222.55  23000.74  NaN            NaN   \n",
              " 2021-03-22  23057.58  23089.78  22751.71  22912.69  NaN            NaN   \n",
              " 2021-03-23  22989.90  23189.04  22963.54  23017.22  NaN            NaN   \n",
              " \n",
              "             No. of Trades  Total Turnover  Deliverable Quantity  \\\n",
              " Date                                                              \n",
              " 2000-01-03            NaN             NaN                   NaN   \n",
              " 2000-01-04            NaN             NaN                   NaN   \n",
              " 2000-01-05            NaN             NaN                   NaN   \n",
              " 2000-01-06            NaN             NaN                   NaN   \n",
              " 2000-01-07            NaN             NaN                   NaN   \n",
              " ...                   ...             ...                   ...   \n",
              " 2021-03-17            NaN             NaN                   NaN   \n",
              " 2021-03-18            NaN             NaN                   NaN   \n",
              " 2021-03-19            NaN             NaN                   NaN   \n",
              " 2021-03-22            NaN             NaN                   NaN   \n",
              " 2021-03-23            NaN             NaN                   NaN   \n",
              " \n",
              "             % Deli. Qty to Traded Qty  Spread H-L  Spread C-O StockName  \\\n",
              " Date                                                                      \n",
              " 2000-01-03                        NaN         NaN         NaN  BSE AUTO   \n",
              " 2000-01-04                        NaN         NaN         NaN  BSE AUTO   \n",
              " 2000-01-05                        NaN         NaN         NaN  BSE AUTO   \n",
              " 2000-01-06                        NaN         NaN         NaN  BSE AUTO   \n",
              " 2000-01-07                        NaN         NaN         NaN  BSE AUTO   \n",
              " ...                               ...         ...         ...       ...   \n",
              " 2021-03-17                        NaN         NaN         NaN  BSE AUTO   \n",
              " 2021-03-18                        NaN         NaN         NaN  BSE AUTO   \n",
              " 2021-03-19                        NaN         NaN         NaN  BSE AUTO   \n",
              " 2021-03-22                        NaN         NaN         NaN  BSE AUTO   \n",
              " 2021-03-23                        NaN         NaN         NaN  BSE AUTO   \n",
              " \n",
              "               code  isStock Index  \n",
              " Date                               \n",
              " 2000-01-03  SI1900        0   NaN  \n",
              " 2000-01-04  SI1900        0   NaN  \n",
              " 2000-01-05  SI1900        0   NaN  \n",
              " 2000-01-06  SI1900        0   NaN  \n",
              " 2000-01-07  SI1900        0   NaN  \n",
              " ...            ...      ...   ...  \n",
              " 2021-03-17  SI1900        0   NaN  \n",
              " 2021-03-18  SI1900        0   NaN  \n",
              " 2021-03-19  SI1900        0   NaN  \n",
              " 2021-03-22  SI1900        0   NaN  \n",
              " 2021-03-23  SI1900        0   NaN  \n",
              " \n",
              " [5282 rows x 16 columns],\n",
              " 'SIBANK':                 Open      High       Low     Close  WAP  No. of Shares  \\\n",
              " Date                                                                     \n",
              " 2002-01-01       NaN       NaN       NaN   1000.00  NaN            NaN   \n",
              " 2002-01-02       NaN       NaN       NaN   1006.66  NaN            NaN   \n",
              " 2002-01-03       NaN       NaN       NaN   1034.96  NaN            NaN   \n",
              " 2002-01-04       NaN       NaN       NaN   1034.40  NaN            NaN   \n",
              " 2002-01-07       NaN       NaN       NaN   1017.60  NaN            NaN   \n",
              " ...              ...       ...       ...       ...  ...            ...   \n",
              " 2021-03-17  39220.79  39571.01  38497.90  38602.27  NaN            NaN   \n",
              " 2021-03-18  38855.09  39183.60  37892.90  38136.19  NaN            NaN   \n",
              " 2021-03-19  37835.38  38734.69  37672.64  38468.53  NaN            NaN   \n",
              " 2021-03-22  38474.30  38474.30  37637.68  37889.55  NaN            NaN   \n",
              " 2021-03-23  38058.33  38659.91  37861.30  38462.48  NaN            NaN   \n",
              " \n",
              "             No. of Trades  Total Turnover  Deliverable Quantity  \\\n",
              " Date                                                              \n",
              " 2002-01-01            NaN             NaN                   NaN   \n",
              " 2002-01-02            NaN             NaN                   NaN   \n",
              " 2002-01-03            NaN             NaN                   NaN   \n",
              " 2002-01-04            NaN             NaN                   NaN   \n",
              " 2002-01-07            NaN             NaN                   NaN   \n",
              " ...                   ...             ...                   ...   \n",
              " 2021-03-17            NaN             NaN                   NaN   \n",
              " 2021-03-18            NaN             NaN                   NaN   \n",
              " 2021-03-19            NaN             NaN                   NaN   \n",
              " 2021-03-22            NaN             NaN                   NaN   \n",
              " 2021-03-23            NaN             NaN                   NaN   \n",
              " \n",
              "             % Deli. Qty to Traded Qty  Spread H-L  Spread C-O   StockName  \\\n",
              " Date                                                                        \n",
              " 2002-01-01                        NaN         NaN         NaN  BSE BANKEX   \n",
              " 2002-01-02                        NaN         NaN         NaN  BSE BANKEX   \n",
              " 2002-01-03                        NaN         NaN         NaN  BSE BANKEX   \n",
              " 2002-01-04                        NaN         NaN         NaN  BSE BANKEX   \n",
              " 2002-01-07                        NaN         NaN         NaN  BSE BANKEX   \n",
              " ...                               ...         ...         ...         ...   \n",
              " 2021-03-17                        NaN         NaN         NaN  BSE BANKEX   \n",
              " 2021-03-18                        NaN         NaN         NaN  BSE BANKEX   \n",
              " 2021-03-19                        NaN         NaN         NaN  BSE BANKEX   \n",
              " 2021-03-22                        NaN         NaN         NaN  BSE BANKEX   \n",
              " 2021-03-23                        NaN         NaN         NaN  BSE BANKEX   \n",
              " \n",
              "               code  isStock Index  \n",
              " Date                               \n",
              " 2002-01-01  SIBANK        0   NaN  \n",
              " 2002-01-02  SIBANK        0   NaN  \n",
              " 2002-01-03  SIBANK        0   NaN  \n",
              " 2002-01-04  SIBANK        0   NaN  \n",
              " 2002-01-07  SIBANK        0   NaN  \n",
              " ...            ...      ...   ...  \n",
              " 2021-03-17  SIBANK        0   NaN  \n",
              " 2021-03-18  SIBANK        0   NaN  \n",
              " 2021-03-19  SIBANK        0   NaN  \n",
              " 2021-03-22  SIBANK        0   NaN  \n",
              " 2021-03-23  SIBANK        0   NaN  \n",
              " \n",
              " [4784 rows x 16 columns]}"
            ]
          },
          "metadata": {
            "tags": []
          },
          "execution_count": 442
        }
      ]
    },
    {
      "cell_type": "markdown",
      "metadata": {
        "id": "R7EfxWdc2cQW"
      },
      "source": [
        "# View null values in the data"
      ]
    },
    {
      "cell_type": "code",
      "metadata": {
        "colab": {
          "base_uri": "https://localhost:8080/",
          "height": 767
        },
        "id": "4zksojwY2ZNd",
        "outputId": "d0e3820e-2602-470e-93d2-dd0d28ce708d"
      },
      "source": [
        "getNullValuesForSetOfStocks()"
      ],
      "execution_count": 443,
      "outputs": [
        {
          "output_type": "execute_result",
          "data": {
            "text/html": [
              "<div>\n",
              "<style scoped>\n",
              "    .dataframe tbody tr th:only-of-type {\n",
              "        vertical-align: middle;\n",
              "    }\n",
              "\n",
              "    .dataframe tbody tr th {\n",
              "        vertical-align: top;\n",
              "    }\n",
              "\n",
              "    .dataframe thead th {\n",
              "        text-align: right;\n",
              "    }\n",
              "</style>\n",
              "<table border=\"1\" class=\"dataframe\">\n",
              "  <thead>\n",
              "    <tr style=\"text-align: right;\">\n",
              "      <th></th>\n",
              "      <th>SUN PHARMACEUTICAL INDUSTRIES LTD. EOD Prices</th>\n",
              "      <th>DIVI'S LABORATORIES LTD. EOD Prices</th>\n",
              "      <th>DR.REDDY'S LABORATORIES LTD. EOD Prices</th>\n",
              "      <th>HDFC Bank Ltd EOD Prices</th>\n",
              "      <th>ICICI BANK LTD. EOD Prices</th>\n",
              "      <th>KOTAK MAHINDRA BANK LTD. EOD Prices</th>\n",
              "      <th>TATA STEEL LTD. EOD Prices</th>\n",
              "      <th>JSW STEEL LTD. EOD Prices</th>\n",
              "      <th>HINDALCO INDUSTRIES LTD. EOD Prices</th>\n",
              "      <th>BAJAJ AUTO LTD. EOD Prices</th>\n",
              "      <th>TATA MOTORS LTD. EOD Prices</th>\n",
              "      <th>MARUTI SUZUKI INDIA LTD. EOD Prices</th>\n",
              "      <th>INFOSYS LTD. EOD Prices</th>\n",
              "      <th>TATA CONSULTANCY SERVICES LTD. EOD Prices</th>\n",
              "      <th>WIPRO LTD. EOD Prices</th>\n",
              "      <th>BSE Healthcare</th>\n",
              "      <th>BSE Information Technology</th>\n",
              "      <th>BSE BANKEX</th>\n",
              "      <th>BSE METAL</th>\n",
              "      <th>BSE AUTO</th>\n",
              "      <th>BSE SENSEX</th>\n",
              "    </tr>\n",
              "  </thead>\n",
              "  <tbody>\n",
              "    <tr>\n",
              "      <th>Open</th>\n",
              "      <td>0</td>\n",
              "      <td>0</td>\n",
              "      <td>0</td>\n",
              "      <td>0</td>\n",
              "      <td>0</td>\n",
              "      <td>0</td>\n",
              "      <td>0</td>\n",
              "      <td>0</td>\n",
              "      <td>0</td>\n",
              "      <td>0</td>\n",
              "      <td>0</td>\n",
              "      <td>0</td>\n",
              "      <td>0</td>\n",
              "      <td>0</td>\n",
              "      <td>0</td>\n",
              "      <td>3810</td>\n",
              "      <td>3810</td>\n",
              "      <td>369</td>\n",
              "      <td>1165</td>\n",
              "      <td>1165</td>\n",
              "      <td>0</td>\n",
              "    </tr>\n",
              "    <tr>\n",
              "      <th>High</th>\n",
              "      <td>0</td>\n",
              "      <td>0</td>\n",
              "      <td>0</td>\n",
              "      <td>0</td>\n",
              "      <td>0</td>\n",
              "      <td>0</td>\n",
              "      <td>0</td>\n",
              "      <td>0</td>\n",
              "      <td>0</td>\n",
              "      <td>0</td>\n",
              "      <td>0</td>\n",
              "      <td>0</td>\n",
              "      <td>0</td>\n",
              "      <td>0</td>\n",
              "      <td>0</td>\n",
              "      <td>3810</td>\n",
              "      <td>3810</td>\n",
              "      <td>369</td>\n",
              "      <td>1165</td>\n",
              "      <td>1165</td>\n",
              "      <td>0</td>\n",
              "    </tr>\n",
              "    <tr>\n",
              "      <th>Low</th>\n",
              "      <td>0</td>\n",
              "      <td>0</td>\n",
              "      <td>0</td>\n",
              "      <td>0</td>\n",
              "      <td>0</td>\n",
              "      <td>0</td>\n",
              "      <td>0</td>\n",
              "      <td>0</td>\n",
              "      <td>0</td>\n",
              "      <td>0</td>\n",
              "      <td>0</td>\n",
              "      <td>0</td>\n",
              "      <td>0</td>\n",
              "      <td>0</td>\n",
              "      <td>0</td>\n",
              "      <td>3810</td>\n",
              "      <td>3810</td>\n",
              "      <td>369</td>\n",
              "      <td>1165</td>\n",
              "      <td>1165</td>\n",
              "      <td>0</td>\n",
              "    </tr>\n",
              "    <tr>\n",
              "      <th>Close</th>\n",
              "      <td>0</td>\n",
              "      <td>0</td>\n",
              "      <td>0</td>\n",
              "      <td>0</td>\n",
              "      <td>0</td>\n",
              "      <td>0</td>\n",
              "      <td>0</td>\n",
              "      <td>0</td>\n",
              "      <td>0</td>\n",
              "      <td>0</td>\n",
              "      <td>0</td>\n",
              "      <td>0</td>\n",
              "      <td>0</td>\n",
              "      <td>0</td>\n",
              "      <td>0</td>\n",
              "      <td>0</td>\n",
              "      <td>0</td>\n",
              "      <td>0</td>\n",
              "      <td>0</td>\n",
              "      <td>0</td>\n",
              "      <td>0</td>\n",
              "    </tr>\n",
              "    <tr>\n",
              "      <th>WAP</th>\n",
              "      <td>0</td>\n",
              "      <td>0</td>\n",
              "      <td>0</td>\n",
              "      <td>0</td>\n",
              "      <td>0</td>\n",
              "      <td>0</td>\n",
              "      <td>0</td>\n",
              "      <td>0</td>\n",
              "      <td>0</td>\n",
              "      <td>0</td>\n",
              "      <td>0</td>\n",
              "      <td>0</td>\n",
              "      <td>0</td>\n",
              "      <td>0</td>\n",
              "      <td>0</td>\n",
              "      <td>5282</td>\n",
              "      <td>5282</td>\n",
              "      <td>4784</td>\n",
              "      <td>5282</td>\n",
              "      <td>5282</td>\n",
              "      <td>5282</td>\n",
              "    </tr>\n",
              "    <tr>\n",
              "      <th>No. of Shares</th>\n",
              "      <td>0</td>\n",
              "      <td>0</td>\n",
              "      <td>0</td>\n",
              "      <td>0</td>\n",
              "      <td>0</td>\n",
              "      <td>0</td>\n",
              "      <td>0</td>\n",
              "      <td>0</td>\n",
              "      <td>0</td>\n",
              "      <td>0</td>\n",
              "      <td>0</td>\n",
              "      <td>0</td>\n",
              "      <td>0</td>\n",
              "      <td>0</td>\n",
              "      <td>0</td>\n",
              "      <td>5282</td>\n",
              "      <td>5282</td>\n",
              "      <td>4784</td>\n",
              "      <td>5282</td>\n",
              "      <td>5282</td>\n",
              "      <td>5282</td>\n",
              "    </tr>\n",
              "    <tr>\n",
              "      <th>No. of Trades</th>\n",
              "      <td>0</td>\n",
              "      <td>0</td>\n",
              "      <td>0</td>\n",
              "      <td>0</td>\n",
              "      <td>0</td>\n",
              "      <td>0</td>\n",
              "      <td>0</td>\n",
              "      <td>0</td>\n",
              "      <td>0</td>\n",
              "      <td>0</td>\n",
              "      <td>0</td>\n",
              "      <td>0</td>\n",
              "      <td>0</td>\n",
              "      <td>0</td>\n",
              "      <td>0</td>\n",
              "      <td>5282</td>\n",
              "      <td>5282</td>\n",
              "      <td>4784</td>\n",
              "      <td>5282</td>\n",
              "      <td>5282</td>\n",
              "      <td>5282</td>\n",
              "    </tr>\n",
              "    <tr>\n",
              "      <th>Total Turnover</th>\n",
              "      <td>0</td>\n",
              "      <td>0</td>\n",
              "      <td>0</td>\n",
              "      <td>0</td>\n",
              "      <td>0</td>\n",
              "      <td>0</td>\n",
              "      <td>0</td>\n",
              "      <td>0</td>\n",
              "      <td>0</td>\n",
              "      <td>0</td>\n",
              "      <td>0</td>\n",
              "      <td>0</td>\n",
              "      <td>0</td>\n",
              "      <td>0</td>\n",
              "      <td>0</td>\n",
              "      <td>5282</td>\n",
              "      <td>5282</td>\n",
              "      <td>4784</td>\n",
              "      <td>5282</td>\n",
              "      <td>5282</td>\n",
              "      <td>5282</td>\n",
              "    </tr>\n",
              "    <tr>\n",
              "      <th>Deliverable Quantity</th>\n",
              "      <td>548</td>\n",
              "      <td>57</td>\n",
              "      <td>538</td>\n",
              "      <td>538</td>\n",
              "      <td>544</td>\n",
              "      <td>537</td>\n",
              "      <td>545</td>\n",
              "      <td>580</td>\n",
              "      <td>555</td>\n",
              "      <td>1</td>\n",
              "      <td>542</td>\n",
              "      <td>81</td>\n",
              "      <td>539</td>\n",
              "      <td>2</td>\n",
              "      <td>538</td>\n",
              "      <td>5282</td>\n",
              "      <td>5282</td>\n",
              "      <td>4784</td>\n",
              "      <td>5282</td>\n",
              "      <td>5282</td>\n",
              "      <td>5282</td>\n",
              "    </tr>\n",
              "    <tr>\n",
              "      <th>% Deli. Qty to Traded Qty</th>\n",
              "      <td>548</td>\n",
              "      <td>57</td>\n",
              "      <td>538</td>\n",
              "      <td>538</td>\n",
              "      <td>544</td>\n",
              "      <td>537</td>\n",
              "      <td>545</td>\n",
              "      <td>580</td>\n",
              "      <td>555</td>\n",
              "      <td>1</td>\n",
              "      <td>542</td>\n",
              "      <td>81</td>\n",
              "      <td>539</td>\n",
              "      <td>2</td>\n",
              "      <td>538</td>\n",
              "      <td>5282</td>\n",
              "      <td>5282</td>\n",
              "      <td>4784</td>\n",
              "      <td>5282</td>\n",
              "      <td>5282</td>\n",
              "      <td>5282</td>\n",
              "    </tr>\n",
              "    <tr>\n",
              "      <th>Spread H-L</th>\n",
              "      <td>0</td>\n",
              "      <td>0</td>\n",
              "      <td>0</td>\n",
              "      <td>0</td>\n",
              "      <td>0</td>\n",
              "      <td>0</td>\n",
              "      <td>0</td>\n",
              "      <td>0</td>\n",
              "      <td>0</td>\n",
              "      <td>0</td>\n",
              "      <td>0</td>\n",
              "      <td>0</td>\n",
              "      <td>0</td>\n",
              "      <td>0</td>\n",
              "      <td>0</td>\n",
              "      <td>5282</td>\n",
              "      <td>5282</td>\n",
              "      <td>4784</td>\n",
              "      <td>5282</td>\n",
              "      <td>5282</td>\n",
              "      <td>5282</td>\n",
              "    </tr>\n",
              "    <tr>\n",
              "      <th>Spread C-O</th>\n",
              "      <td>0</td>\n",
              "      <td>0</td>\n",
              "      <td>0</td>\n",
              "      <td>0</td>\n",
              "      <td>0</td>\n",
              "      <td>0</td>\n",
              "      <td>0</td>\n",
              "      <td>0</td>\n",
              "      <td>0</td>\n",
              "      <td>0</td>\n",
              "      <td>0</td>\n",
              "      <td>0</td>\n",
              "      <td>0</td>\n",
              "      <td>0</td>\n",
              "      <td>0</td>\n",
              "      <td>5282</td>\n",
              "      <td>5282</td>\n",
              "      <td>4784</td>\n",
              "      <td>5282</td>\n",
              "      <td>5282</td>\n",
              "      <td>5282</td>\n",
              "    </tr>\n",
              "    <tr>\n",
              "      <th>StockName</th>\n",
              "      <td>0</td>\n",
              "      <td>0</td>\n",
              "      <td>0</td>\n",
              "      <td>0</td>\n",
              "      <td>0</td>\n",
              "      <td>0</td>\n",
              "      <td>0</td>\n",
              "      <td>0</td>\n",
              "      <td>0</td>\n",
              "      <td>0</td>\n",
              "      <td>0</td>\n",
              "      <td>0</td>\n",
              "      <td>0</td>\n",
              "      <td>0</td>\n",
              "      <td>0</td>\n",
              "      <td>0</td>\n",
              "      <td>0</td>\n",
              "      <td>0</td>\n",
              "      <td>0</td>\n",
              "      <td>0</td>\n",
              "      <td>0</td>\n",
              "    </tr>\n",
              "    <tr>\n",
              "      <th>code</th>\n",
              "      <td>0</td>\n",
              "      <td>0</td>\n",
              "      <td>0</td>\n",
              "      <td>0</td>\n",
              "      <td>0</td>\n",
              "      <td>0</td>\n",
              "      <td>0</td>\n",
              "      <td>0</td>\n",
              "      <td>0</td>\n",
              "      <td>0</td>\n",
              "      <td>0</td>\n",
              "      <td>0</td>\n",
              "      <td>0</td>\n",
              "      <td>0</td>\n",
              "      <td>0</td>\n",
              "      <td>0</td>\n",
              "      <td>0</td>\n",
              "      <td>0</td>\n",
              "      <td>0</td>\n",
              "      <td>0</td>\n",
              "      <td>0</td>\n",
              "    </tr>\n",
              "    <tr>\n",
              "      <th>isStock</th>\n",
              "      <td>0</td>\n",
              "      <td>0</td>\n",
              "      <td>0</td>\n",
              "      <td>0</td>\n",
              "      <td>0</td>\n",
              "      <td>0</td>\n",
              "      <td>0</td>\n",
              "      <td>0</td>\n",
              "      <td>0</td>\n",
              "      <td>0</td>\n",
              "      <td>0</td>\n",
              "      <td>0</td>\n",
              "      <td>0</td>\n",
              "      <td>0</td>\n",
              "      <td>0</td>\n",
              "      <td>0</td>\n",
              "      <td>0</td>\n",
              "      <td>0</td>\n",
              "      <td>0</td>\n",
              "      <td>0</td>\n",
              "      <td>0</td>\n",
              "    </tr>\n",
              "    <tr>\n",
              "      <th>Index</th>\n",
              "      <td>0</td>\n",
              "      <td>0</td>\n",
              "      <td>0</td>\n",
              "      <td>0</td>\n",
              "      <td>0</td>\n",
              "      <td>0</td>\n",
              "      <td>0</td>\n",
              "      <td>0</td>\n",
              "      <td>0</td>\n",
              "      <td>0</td>\n",
              "      <td>0</td>\n",
              "      <td>0</td>\n",
              "      <td>0</td>\n",
              "      <td>0</td>\n",
              "      <td>0</td>\n",
              "      <td>5282</td>\n",
              "      <td>5282</td>\n",
              "      <td>4784</td>\n",
              "      <td>5282</td>\n",
              "      <td>5282</td>\n",
              "      <td>5282</td>\n",
              "    </tr>\n",
              "  </tbody>\n",
              "</table>\n",
              "</div>"
            ],
            "text/plain": [
              "                           SUN PHARMACEUTICAL INDUSTRIES LTD. EOD Prices  \\\n",
              "Open                                                                   0   \n",
              "High                                                                   0   \n",
              "Low                                                                    0   \n",
              "Close                                                                  0   \n",
              "WAP                                                                    0   \n",
              "No. of Shares                                                          0   \n",
              "No. of Trades                                                          0   \n",
              "Total Turnover                                                         0   \n",
              "Deliverable Quantity                                                 548   \n",
              "% Deli. Qty to Traded Qty                                            548   \n",
              "Spread H-L                                                             0   \n",
              "Spread C-O                                                             0   \n",
              "StockName                                                              0   \n",
              "code                                                                   0   \n",
              "isStock                                                                0   \n",
              "Index                                                                  0   \n",
              "\n",
              "                           DIVI'S LABORATORIES LTD. EOD Prices  \\\n",
              "Open                                                         0   \n",
              "High                                                         0   \n",
              "Low                                                          0   \n",
              "Close                                                        0   \n",
              "WAP                                                          0   \n",
              "No. of Shares                                                0   \n",
              "No. of Trades                                                0   \n",
              "Total Turnover                                               0   \n",
              "Deliverable Quantity                                        57   \n",
              "% Deli. Qty to Traded Qty                                   57   \n",
              "Spread H-L                                                   0   \n",
              "Spread C-O                                                   0   \n",
              "StockName                                                    0   \n",
              "code                                                         0   \n",
              "isStock                                                      0   \n",
              "Index                                                        0   \n",
              "\n",
              "                           DR.REDDY'S LABORATORIES LTD. EOD Prices  \\\n",
              "Open                                                             0   \n",
              "High                                                             0   \n",
              "Low                                                              0   \n",
              "Close                                                            0   \n",
              "WAP                                                              0   \n",
              "No. of Shares                                                    0   \n",
              "No. of Trades                                                    0   \n",
              "Total Turnover                                                   0   \n",
              "Deliverable Quantity                                           538   \n",
              "% Deli. Qty to Traded Qty                                      538   \n",
              "Spread H-L                                                       0   \n",
              "Spread C-O                                                       0   \n",
              "StockName                                                        0   \n",
              "code                                                             0   \n",
              "isStock                                                          0   \n",
              "Index                                                            0   \n",
              "\n",
              "                           HDFC Bank Ltd EOD Prices  \\\n",
              "Open                                              0   \n",
              "High                                              0   \n",
              "Low                                               0   \n",
              "Close                                             0   \n",
              "WAP                                               0   \n",
              "No. of Shares                                     0   \n",
              "No. of Trades                                     0   \n",
              "Total Turnover                                    0   \n",
              "Deliverable Quantity                            538   \n",
              "% Deli. Qty to Traded Qty                       538   \n",
              "Spread H-L                                        0   \n",
              "Spread C-O                                        0   \n",
              "StockName                                         0   \n",
              "code                                              0   \n",
              "isStock                                           0   \n",
              "Index                                             0   \n",
              "\n",
              "                           ICICI BANK LTD. EOD Prices  \\\n",
              "Open                                                0   \n",
              "High                                                0   \n",
              "Low                                                 0   \n",
              "Close                                               0   \n",
              "WAP                                                 0   \n",
              "No. of Shares                                       0   \n",
              "No. of Trades                                       0   \n",
              "Total Turnover                                      0   \n",
              "Deliverable Quantity                              544   \n",
              "% Deli. Qty to Traded Qty                         544   \n",
              "Spread H-L                                          0   \n",
              "Spread C-O                                          0   \n",
              "StockName                                           0   \n",
              "code                                                0   \n",
              "isStock                                             0   \n",
              "Index                                               0   \n",
              "\n",
              "                           KOTAK MAHINDRA BANK LTD. EOD Prices  \\\n",
              "Open                                                         0   \n",
              "High                                                         0   \n",
              "Low                                                          0   \n",
              "Close                                                        0   \n",
              "WAP                                                          0   \n",
              "No. of Shares                                                0   \n",
              "No. of Trades                                                0   \n",
              "Total Turnover                                               0   \n",
              "Deliverable Quantity                                       537   \n",
              "% Deli. Qty to Traded Qty                                  537   \n",
              "Spread H-L                                                   0   \n",
              "Spread C-O                                                   0   \n",
              "StockName                                                    0   \n",
              "code                                                         0   \n",
              "isStock                                                      0   \n",
              "Index                                                        0   \n",
              "\n",
              "                           TATA STEEL LTD. EOD Prices  \\\n",
              "Open                                                0   \n",
              "High                                                0   \n",
              "Low                                                 0   \n",
              "Close                                               0   \n",
              "WAP                                                 0   \n",
              "No. of Shares                                       0   \n",
              "No. of Trades                                       0   \n",
              "Total Turnover                                      0   \n",
              "Deliverable Quantity                              545   \n",
              "% Deli. Qty to Traded Qty                         545   \n",
              "Spread H-L                                          0   \n",
              "Spread C-O                                          0   \n",
              "StockName                                           0   \n",
              "code                                                0   \n",
              "isStock                                             0   \n",
              "Index                                               0   \n",
              "\n",
              "                           JSW STEEL LTD. EOD Prices  \\\n",
              "Open                                               0   \n",
              "High                                               0   \n",
              "Low                                                0   \n",
              "Close                                              0   \n",
              "WAP                                                0   \n",
              "No. of Shares                                      0   \n",
              "No. of Trades                                      0   \n",
              "Total Turnover                                     0   \n",
              "Deliverable Quantity                             580   \n",
              "% Deli. Qty to Traded Qty                        580   \n",
              "Spread H-L                                         0   \n",
              "Spread C-O                                         0   \n",
              "StockName                                          0   \n",
              "code                                               0   \n",
              "isStock                                            0   \n",
              "Index                                              0   \n",
              "\n",
              "                           HINDALCO INDUSTRIES LTD. EOD Prices  \\\n",
              "Open                                                         0   \n",
              "High                                                         0   \n",
              "Low                                                          0   \n",
              "Close                                                        0   \n",
              "WAP                                                          0   \n",
              "No. of Shares                                                0   \n",
              "No. of Trades                                                0   \n",
              "Total Turnover                                               0   \n",
              "Deliverable Quantity                                       555   \n",
              "% Deli. Qty to Traded Qty                                  555   \n",
              "Spread H-L                                                   0   \n",
              "Spread C-O                                                   0   \n",
              "StockName                                                    0   \n",
              "code                                                         0   \n",
              "isStock                                                      0   \n",
              "Index                                                        0   \n",
              "\n",
              "                           BAJAJ AUTO LTD. EOD Prices  \\\n",
              "Open                                                0   \n",
              "High                                                0   \n",
              "Low                                                 0   \n",
              "Close                                               0   \n",
              "WAP                                                 0   \n",
              "No. of Shares                                       0   \n",
              "No. of Trades                                       0   \n",
              "Total Turnover                                      0   \n",
              "Deliverable Quantity                                1   \n",
              "% Deli. Qty to Traded Qty                           1   \n",
              "Spread H-L                                          0   \n",
              "Spread C-O                                          0   \n",
              "StockName                                           0   \n",
              "code                                                0   \n",
              "isStock                                             0   \n",
              "Index                                               0   \n",
              "\n",
              "                           TATA MOTORS LTD. EOD Prices  \\\n",
              "Open                                                 0   \n",
              "High                                                 0   \n",
              "Low                                                  0   \n",
              "Close                                                0   \n",
              "WAP                                                  0   \n",
              "No. of Shares                                        0   \n",
              "No. of Trades                                        0   \n",
              "Total Turnover                                       0   \n",
              "Deliverable Quantity                               542   \n",
              "% Deli. Qty to Traded Qty                          542   \n",
              "Spread H-L                                           0   \n",
              "Spread C-O                                           0   \n",
              "StockName                                            0   \n",
              "code                                                 0   \n",
              "isStock                                              0   \n",
              "Index                                                0   \n",
              "\n",
              "                           MARUTI SUZUKI INDIA LTD. EOD Prices  \\\n",
              "Open                                                         0   \n",
              "High                                                         0   \n",
              "Low                                                          0   \n",
              "Close                                                        0   \n",
              "WAP                                                          0   \n",
              "No. of Shares                                                0   \n",
              "No. of Trades                                                0   \n",
              "Total Turnover                                               0   \n",
              "Deliverable Quantity                                        81   \n",
              "% Deli. Qty to Traded Qty                                   81   \n",
              "Spread H-L                                                   0   \n",
              "Spread C-O                                                   0   \n",
              "StockName                                                    0   \n",
              "code                                                         0   \n",
              "isStock                                                      0   \n",
              "Index                                                        0   \n",
              "\n",
              "                           INFOSYS LTD. EOD Prices  \\\n",
              "Open                                             0   \n",
              "High                                             0   \n",
              "Low                                              0   \n",
              "Close                                            0   \n",
              "WAP                                              0   \n",
              "No. of Shares                                    0   \n",
              "No. of Trades                                    0   \n",
              "Total Turnover                                   0   \n",
              "Deliverable Quantity                           539   \n",
              "% Deli. Qty to Traded Qty                      539   \n",
              "Spread H-L                                       0   \n",
              "Spread C-O                                       0   \n",
              "StockName                                        0   \n",
              "code                                             0   \n",
              "isStock                                          0   \n",
              "Index                                            0   \n",
              "\n",
              "                           TATA CONSULTANCY SERVICES LTD. EOD Prices  \\\n",
              "Open                                                               0   \n",
              "High                                                               0   \n",
              "Low                                                                0   \n",
              "Close                                                              0   \n",
              "WAP                                                                0   \n",
              "No. of Shares                                                      0   \n",
              "No. of Trades                                                      0   \n",
              "Total Turnover                                                     0   \n",
              "Deliverable Quantity                                               2   \n",
              "% Deli. Qty to Traded Qty                                          2   \n",
              "Spread H-L                                                         0   \n",
              "Spread C-O                                                         0   \n",
              "StockName                                                          0   \n",
              "code                                                               0   \n",
              "isStock                                                            0   \n",
              "Index                                                              0   \n",
              "\n",
              "                           WIPRO LTD. EOD Prices  BSE Healthcare  \\\n",
              "Open                                           0            3810   \n",
              "High                                           0            3810   \n",
              "Low                                            0            3810   \n",
              "Close                                          0               0   \n",
              "WAP                                            0            5282   \n",
              "No. of Shares                                  0            5282   \n",
              "No. of Trades                                  0            5282   \n",
              "Total Turnover                                 0            5282   \n",
              "Deliverable Quantity                         538            5282   \n",
              "% Deli. Qty to Traded Qty                    538            5282   \n",
              "Spread H-L                                     0            5282   \n",
              "Spread C-O                                     0            5282   \n",
              "StockName                                      0               0   \n",
              "code                                           0               0   \n",
              "isStock                                        0               0   \n",
              "Index                                          0            5282   \n",
              "\n",
              "                           BSE Information Technology  BSE BANKEX  BSE METAL  \\\n",
              "Open                                             3810         369       1165   \n",
              "High                                             3810         369       1165   \n",
              "Low                                              3810         369       1165   \n",
              "Close                                               0           0          0   \n",
              "WAP                                              5282        4784       5282   \n",
              "No. of Shares                                    5282        4784       5282   \n",
              "No. of Trades                                    5282        4784       5282   \n",
              "Total Turnover                                   5282        4784       5282   \n",
              "Deliverable Quantity                             5282        4784       5282   \n",
              "% Deli. Qty to Traded Qty                        5282        4784       5282   \n",
              "Spread H-L                                       5282        4784       5282   \n",
              "Spread C-O                                       5282        4784       5282   \n",
              "StockName                                           0           0          0   \n",
              "code                                                0           0          0   \n",
              "isStock                                             0           0          0   \n",
              "Index                                            5282        4784       5282   \n",
              "\n",
              "                           BSE AUTO  BSE SENSEX  \n",
              "Open                           1165           0  \n",
              "High                           1165           0  \n",
              "Low                            1165           0  \n",
              "Close                             0           0  \n",
              "WAP                            5282        5282  \n",
              "No. of Shares                  5282        5282  \n",
              "No. of Trades                  5282        5282  \n",
              "Total Turnover                 5282        5282  \n",
              "Deliverable Quantity           5282        5282  \n",
              "% Deli. Qty to Traded Qty      5282        5282  \n",
              "Spread H-L                     5282        5282  \n",
              "Spread C-O                     5282        5282  \n",
              "StockName                         0           0  \n",
              "code                              0           0  \n",
              "isStock                           0           0  \n",
              "Index                          5282        5282  "
            ]
          },
          "metadata": {
            "tags": []
          },
          "execution_count": 443
        }
      ]
    },
    {
      "cell_type": "markdown",
      "metadata": {
        "id": "iWKsoJZT2gFT"
      },
      "source": [
        "# Deriving Technical indicators"
      ]
    },
    {
      "cell_type": "markdown",
      "metadata": {
        "id": "03ekbnI1DLl9"
      },
      "source": [
        "### MACD"
      ]
    },
    {
      "cell_type": "code",
      "metadata": {
        "id": "bIwHD1gADLl9"
      },
      "source": [
        "# function to create data MACD signal and data. \n",
        "def MACD(df, span1 = 12, span2= 26, span3 = 9):\n",
        "    stockData = df.copy()\n",
        "    stockData['FastAverage'] = stockData['Close'].ewm(span = span1, min_periods = span1).mean()\n",
        "    stockData['SlowAverage'] = stockData['Close'].ewm(span = span2, min_periods = span2).mean()\n",
        "    stockData['MACD'] = stockData['FastAverage'] - stockData['SlowAverage']\n",
        "    stockData['Signal'] = stockData['MACD'].ewm(span=span3, min_periods = span3).mean()\n",
        "    return stockData[MACDColumns]"
      ],
      "execution_count": 444,
      "outputs": []
    },
    {
      "cell_type": "code",
      "metadata": {
        "id": "YO_dv44SDLl9"
      },
      "source": [
        "# create stock code based dataframes with MACD signal\n",
        "for symbol in allSymbols:\n",
        "    macd = MACD(ScriptWiseData[symbol])\n",
        "    ScriptWiseData[symbol] = ScriptWiseData[symbol].merge(macd, left_index=True, right_index = True, how='left')"
      ],
      "execution_count": 445,
      "outputs": []
    },
    {
      "cell_type": "markdown",
      "metadata": {
        "id": "SLQ_IgLzDLl-"
      },
      "source": [
        "### RSI - Relative Strength Index"
      ]
    },
    {
      "cell_type": "code",
      "metadata": {
        "id": "qwqRNQH3DLl-"
      },
      "source": [
        "# Calculating RSI without using loop\n",
        "def RSI(DF, n=14):\n",
        "    df =  DF.copy()\n",
        "    \"function to calculate RSI\"\n",
        "    delta = df['Close'].diff().dropna()\n",
        "    u = delta * 0\n",
        "    d = u.copy()\n",
        "    u[delta > 0] = delta[delta > 0]\n",
        "    d[delta < 0] = -delta[delta < 0]\n",
        "    u[u.index[n-1]] = np.mean( u[:n]) # first value is average of gains\n",
        "    u = u.drop(u.index[:(n-1)])\n",
        "    d[d.index[n-1]] = np.mean( d[:n]) # first value is average of losses\n",
        "    d = d.drop(d.index[:(n-1)])\n",
        "    rs = u.ewm(com=n,min_periods=n).mean()/d.ewm(com=n,min_periods=n).mean()\n",
        "    rsi = 100 - 100 / (1+rs);\n",
        "    return pd.DataFrame(rs).rename(columns={'Close':'RSI'})"
      ],
      "execution_count": 446,
      "outputs": []
    },
    {
      "cell_type": "code",
      "metadata": {
        "id": "L8ZJWnJrDLl-"
      },
      "source": [
        "#RSI \n",
        "for symbol in allSymbols:   \n",
        "    rsi = RSI(data.loc[data.code==symbol])\n",
        "    ScriptWiseData[symbol] = ScriptWiseData[symbol].merge(rsi, left_index=True, right_index = True, how='left')"
      ],
      "execution_count": 447,
      "outputs": []
    },
    {
      "cell_type": "markdown",
      "metadata": {
        "id": "BexYPYGWDLl-"
      },
      "source": [
        "## ATR"
      ]
    },
    {
      "cell_type": "code",
      "metadata": {
        "id": "fwQItzjIDLl-"
      },
      "source": [
        "def ATR(DF,n=20):\n",
        "    \"function to calculate True Range and Average True Range\"\n",
        "    df = DF.copy()\n",
        "    df['H-L']=abs(df['High']-df['Low'])\n",
        "    df['H-PC']=abs(df['High']-df['Close'].shift(1))\n",
        "    df['L-PC']=abs(df['Low']-df['Close'].shift(1))\n",
        "    df['TR']=df[['H-L','H-PC','L-PC']].max(axis=1,skipna=False)\n",
        "    df['ATR'] = df['TR'].rolling(n).mean()\n",
        "    #df['ATR'] = df['TR'].ewm(span=n,adjust=False,min_periods=n).mean()\n",
        "    df2 = df.drop(['H-L','H-PC','L-PC'],axis=1)\n",
        "    return df2[ATRColumns]"
      ],
      "execution_count": 448,
      "outputs": []
    },
    {
      "cell_type": "code",
      "metadata": {
        "id": "J8AqnfagDLl-"
      },
      "source": [
        "#ATR \n",
        "for symbol in allSymbols:\n",
        "    ScriptWiseData[symbol][ATRColumns] = ATR(data.loc[data.code==symbol])"
      ],
      "execution_count": 449,
      "outputs": []
    },
    {
      "cell_type": "markdown",
      "metadata": {
        "id": "PkBbjFPEDLl_"
      },
      "source": [
        "## Bollinger band"
      ]
    },
    {
      "cell_type": "code",
      "metadata": {
        "id": "yE70tglyDLl_"
      },
      "source": [
        "def BollBnd(DF,n=14):\n",
        "    \"function to calculate Bollinger Band\"\n",
        "    df = DF.copy()\n",
        "    df[\"MA\"] = df['Close'].rolling(n).mean()\n",
        "    df[\"BB_up\"] = df[\"MA\"] + 2*df['Close'].rolling(n).std(ddof=0) #ddof=0 is required since we want to take the standard deviation of the population and not sample\n",
        "    df[\"BB_dn\"] = df[\"MA\"] - 2*df['Close'].rolling(n).std(ddof=0) #ddof=0 is required since we want to take the standard deviation of the population and not sample\n",
        "    df[\"BB_width\"] = df[\"BB_up\"] - df[\"BB_dn\"]\n",
        "#     df.dropna(inplace=True)\n",
        "    return df[BollBandColumns]"
      ],
      "execution_count": 450,
      "outputs": []
    },
    {
      "cell_type": "code",
      "metadata": {
        "id": "3PynIJzFDLl_"
      },
      "source": [
        "#Boll band\n",
        "for symbol in allSymbols:\n",
        "    ScriptWiseData[symbol][BollBandColumns] = BollBnd(data.loc[data.code==symbol])"
      ],
      "execution_count": 451,
      "outputs": []
    },
    {
      "cell_type": "markdown",
      "metadata": {
        "id": "lOlgA1-LDLl_"
      },
      "source": [
        "## OBV"
      ]
    },
    {
      "cell_type": "code",
      "metadata": {
        "id": "DsZ0g8fnDLl_"
      },
      "source": [
        "def OBV(DF):\n",
        "    \"\"\"function to calculate On Balance Volume\"\"\"\n",
        "    df = DF.copy()\n",
        "    df['daily_ret'] = df['Close'].pct_change()\n",
        "    df['direction'] = np.where(df['daily_ret']>=0,1,-1)\n",
        "    df['direction'][0] = 0\n",
        "    df['vol_adj'] = df['No. of Shares'] * df['direction']\n",
        "    df['obv'] = df['vol_adj'].cumsum()\n",
        "    return df['obv']"
      ],
      "execution_count": 452,
      "outputs": []
    },
    {
      "cell_type": "code",
      "metadata": {
        "id": "vJKyRdF7DLl_"
      },
      "source": [
        "#OBV\n",
        "for symbol in allSymbols:\n",
        "    ScriptWiseData[symbol]['OBV'] = OBV(data.loc[data.code==symbol])"
      ],
      "execution_count": 453,
      "outputs": []
    },
    {
      "cell_type": "markdown",
      "metadata": {
        "id": "8hLLMBw1DLmA"
      },
      "source": [
        "## ADX"
      ]
    },
    {
      "cell_type": "code",
      "metadata": {
        "id": "a0TRiHc_DLmA"
      },
      "source": [
        "from ta.trend import ADXIndicator\n",
        "def ADX(DF):\n",
        "    df = DF.copy()\n",
        "    adxI = ADXIndicator(df['High'],df['Low'],df['Close'],14,False)\n",
        "    df['pos_directional_indicator'] = adxI.adx_pos()\n",
        "    df['neg_directional_indicator'] = adxI.adx_neg()\n",
        "    df['adx'] = adxI.adx()\n",
        "    return df[ADXColumns]"
      ],
      "execution_count": 454,
      "outputs": []
    },
    {
      "cell_type": "code",
      "metadata": {
        "id": "zYkl9ZV1DLmA"
      },
      "source": [
        "# ADX\n",
        "for symbol in allSymbols:\n",
        "    ScriptWiseData[symbol][ADXColumns] = ADX(data.loc[data.code==symbol])"
      ],
      "execution_count": 455,
      "outputs": []
    },
    {
      "cell_type": "markdown",
      "metadata": {
        "id": "Nl_CiM3w6pbN"
      },
      "source": [
        "# Removing Extra Columms"
      ]
    },
    {
      "cell_type": "code",
      "metadata": {
        "colab": {
          "base_uri": "https://localhost:8080/"
        },
        "id": "31GXJi8X6uR5",
        "outputId": "3b352436-b939-4c5f-b313-1af3ea326c3d"
      },
      "source": [
        "allSymbols"
      ],
      "execution_count": 456,
      "outputs": [
        {
          "output_type": "execute_result",
          "data": {
            "text/plain": [
              "['BOM524715',\n",
              " 'BOM532488',\n",
              " 'BOM500124',\n",
              " 'BOM500180',\n",
              " 'BOM532174',\n",
              " 'BOM500247',\n",
              " 'BOM500470',\n",
              " 'BOM500228',\n",
              " 'BOM500440',\n",
              " 'BOM532977',\n",
              " 'BOM500570',\n",
              " 'BOM532500',\n",
              " 'BOM500209',\n",
              " 'BOM532540',\n",
              " 'BOM507685',\n",
              " 'SI0800',\n",
              " 'SI1000',\n",
              " 'SIBANK',\n",
              " 'SI1200',\n",
              " 'SI1900',\n",
              " 'SENSEX']"
            ]
          },
          "metadata": {
            "tags": []
          },
          "execution_count": 456
        }
      ]
    },
    {
      "cell_type": "code",
      "metadata": {
        "id": "0R7sC1caDLmA"
      },
      "source": [
        "OriginalScriptWiseData = ScriptWiseData\n",
        "for symbol in allSymbols:\n",
        "    ScriptWiseData[symbol] = ScriptWiseData[symbol][['Close']+TechnicalIndicators]"
      ],
      "execution_count": 457,
      "outputs": []
    },
    {
      "cell_type": "code",
      "metadata": {
        "colab": {
          "base_uri": "https://localhost:8080/"
        },
        "id": "KgyXlBjWXDJf",
        "outputId": "a607ae89-001b-4211-efb5-13fce73f363d"
      },
      "source": [
        "ScriptWiseData"
      ],
      "execution_count": 458,
      "outputs": [
        {
          "output_type": "execute_result",
          "data": {
            "text/plain": [
              "{'BOM500124':               Close       RSI       ATR        MACD        adx         OBV\n",
              " Date                                                                      \n",
              " 2000-01-03  1557.35       NaN       NaN         NaN   0.000000         0.0\n",
              " 2000-01-04  1647.25       NaN       NaN         NaN   0.000000    210676.0\n",
              " 2000-01-05  1559.00       NaN       NaN         NaN   0.000000      5007.0\n",
              " 2000-01-06  1683.70       NaN       NaN         NaN   0.000000    166092.0\n",
              " 2000-01-07  1549.05       NaN       NaN         NaN   0.000000     45140.0\n",
              " ...             ...       ...       ...         ...        ...         ...\n",
              " 2021-03-17  4356.85  0.631562  139.4350  -96.256191  35.594600  25808594.0\n",
              " 2021-03-18  4211.30  0.503642  142.6300 -108.287499  37.310951  25761610.0\n",
              " 2021-03-19  4274.55  0.597947  146.0275 -111.434108  39.153291  25811025.0\n",
              " 2021-03-22  4353.90  0.724707  141.0075 -106.299581  39.895697  25860281.0\n",
              " 2021-03-23  4371.95  0.755601  127.7925  -99.625526  40.047647  25887462.0\n",
              " \n",
              " [5282 rows x 6 columns],\n",
              " 'BOM500180':               Close       RSI      ATR       MACD        adx         OBV\n",
              " Date                                                                    \n",
              " 2000-01-03   174.40       NaN      NaN        NaN   0.000000         0.0\n",
              " 2000-01-04   174.00       NaN      NaN        NaN   0.000000   -330118.0\n",
              " 2000-01-05   168.50       NaN      NaN        NaN   0.000000   -479367.0\n",
              " 2000-01-06   167.50       NaN      NaN        NaN   0.000000   -549635.0\n",
              " 2000-01-07   169.50       NaN      NaN        NaN   0.000000   -366609.0\n",
              " ...             ...       ...      ...        ...        ...         ...\n",
              " 2021-03-17  1495.65  0.759341  46.0275  -2.988607  12.830554  86475604.0\n",
              " 2021-03-18  1490.35  0.737351  45.9300  -6.529395  13.372498  86190827.0\n",
              " 2021-03-19  1497.10  0.776868  44.8525  -8.690647  14.030772  86504748.0\n",
              " 2021-03-22  1469.30  0.661516  45.1575 -12.502560  14.959459  86263537.0\n",
              " 2021-03-23  1500.35  0.839203  45.2925 -12.869700  15.444320  86618355.0\n",
              " \n",
              " [5282 rows x 6 columns],\n",
              " 'BOM500209':                Close       RSI      ATR       MACD        adx         OBV\n",
              " Date                                                                     \n",
              " 2000-01-03  15677.50       NaN      NaN        NaN   0.000000         0.0\n",
              " 2000-01-04  16910.20       NaN      NaN        NaN   0.000000     94536.0\n",
              " 2000-01-05  15557.40       NaN      NaN        NaN   0.000000    -24716.0\n",
              " 2000-01-06  14312.85       NaN      NaN        NaN   0.000000    -95441.0\n",
              " 2000-01-07  13167.85       NaN      NaN        NaN   0.000000   -100885.0\n",
              " ...              ...       ...      ...        ...        ...         ...\n",
              " 2021-03-17   1387.20  2.066878  31.3025  25.029919  17.908775  25655764.0\n",
              " 2021-03-18   1336.25  1.135060  34.4275  22.102998  16.757383  25249951.0\n",
              " 2021-03-19   1345.35  1.221333  34.7975  20.283866  15.688234  25731849.0\n",
              " 2021-03-22   1370.50  1.476801  35.7050  20.633733  15.044854  25940585.0\n",
              " 2021-03-23   1371.20  1.484419  34.4900  20.728543  14.647418  26073617.0\n",
              " \n",
              " [5282 rows x 6 columns],\n",
              " 'BOM500228':              Close       RSI      ATR      MACD        adx          OBV\n",
              " Date                                                                   \n",
              " 2000-01-03    7.30       NaN      NaN       NaN   0.000000          0.0\n",
              " 2000-01-04    6.65       NaN      NaN       NaN   0.000000     -61100.0\n",
              " 2000-01-05    6.50       NaN      NaN       NaN   0.000000    -128000.0\n",
              " 2000-01-06    6.50       NaN      NaN       NaN   0.000000     -36600.0\n",
              " 2000-01-07    6.40       NaN      NaN       NaN   0.000000    -139200.0\n",
              " ...            ...       ...      ...       ...        ...          ...\n",
              " 2021-03-17  423.00  1.297818  16.8650  6.169917  15.217189  352319714.0\n",
              " 2021-03-18  423.15  1.301076  16.9875  6.226330  14.576089  352677731.0\n",
              " 2021-03-19  440.65  1.708422  18.3725  7.595585  14.912725  353168998.0\n",
              " 2021-03-22  445.65  1.833120  18.1200  8.980664  15.385886  353461261.0\n",
              " 2021-03-23  441.75  1.660116  17.5775  9.652385  15.825249  350768655.0\n",
              " \n",
              " [5260 rows x 6 columns],\n",
              " 'BOM500247':               Close       RSI      ATR       MACD        adx          OBV\n",
              " Date                                                                     \n",
              " 2000-01-03   223.55       NaN      NaN        NaN   0.000000          0.0\n",
              " 2000-01-04   241.40       NaN      NaN        NaN   0.000000      39297.0\n",
              " 2000-01-05   231.00       NaN      NaN        NaN   0.000000      -1471.0\n",
              " 2000-01-06   224.50       NaN      NaN        NaN   0.000000     -15510.0\n",
              " 2000-01-07   206.55       NaN      NaN        NaN   0.000000     -33626.0\n",
              " ...             ...       ...      ...        ...        ...          ...\n",
              " 2021-03-17  1867.95  0.827486  63.2150   1.469688  15.060946  246155746.0\n",
              " 2021-03-18  1831.35  0.715760  63.8200  -4.974562  15.673417  246079257.0\n",
              " 2021-03-19  1831.60  0.716748  64.0500  -9.946843  16.387988  246354648.0\n",
              " 2021-03-22  1824.05  0.694542  63.9975 -14.331429  17.210129  246285948.0\n",
              " 2021-03-23  1813.15  0.662778  64.0400 -18.472841  18.084607  246194436.0\n",
              " \n",
              " [5281 rows x 6 columns],\n",
              " 'BOM500440':               Close       RSI      ATR       MACD        adx          OBV\n",
              " Date                                                                     \n",
              " 2000-01-03   867.00       NaN      NaN        NaN   0.000000          0.0\n",
              " 2000-01-04   900.00       NaN      NaN        NaN   0.000000     185187.0\n",
              " 2000-01-05   971.95       NaN      NaN        NaN   0.000000     505329.0\n",
              " 2000-01-06  1049.65       NaN      NaN        NaN   0.000000     694246.0\n",
              " 2000-01-07  1090.00       NaN      NaN        NaN   0.000000     871636.0\n",
              " ...             ...       ...      ...        ...        ...          ...\n",
              " 2021-03-17   326.45  1.241475  13.5100  12.892624  41.905112  473006037.0\n",
              " 2021-03-18   331.25  1.361575  13.8225  11.812063  41.408183  473961866.0\n",
              " 2021-03-19   335.15  1.466127  14.3400  11.141971  39.663693  474291658.0\n",
              " 2021-03-22   339.10  1.579582  14.3575  10.805095  38.288723  474865931.0\n",
              " 2021-03-23   331.55  1.281766  13.9750   9.815747  36.908876  474595770.0\n",
              " \n",
              " [5281 rows x 6 columns],\n",
              " 'BOM500470':              Close       RSI      ATR       MACD        adx          OBV\n",
              " Date                                                                    \n",
              " 2000-01-03  152.90       NaN      NaN        NaN   0.000000          0.0\n",
              " 2000-01-04  151.85       NaN      NaN        NaN   0.000000   -1408009.0\n",
              " 2000-01-05  156.85       NaN      NaN        NaN   0.000000    1816540.0\n",
              " 2000-01-06  168.00       NaN      NaN        NaN   0.000000    4859000.0\n",
              " 2000-01-07  169.80       NaN      NaN        NaN   0.000000    9045030.0\n",
              " ...            ...       ...      ...        ...        ...          ...\n",
              " 2021-03-17  704.40  0.952944  32.2900  10.276532  10.645922  744550816.0\n",
              " 2021-03-18  704.95  0.957659  32.7550   8.071246  10.769285  745202316.0\n",
              " 2021-03-19  733.00  1.215282  34.6850   8.489084  11.518314  746197318.0\n",
              " 2021-03-22  743.50  1.318607  33.6275   9.557316  11.749287  747043813.0\n",
              " 2021-03-23  740.95  1.284084  33.1075  10.081915  11.751507  746378129.0\n",
              " \n",
              " [5282 rows x 6 columns],\n",
              " 'BOM500570':              Close       RSI      ATR      MACD        adx          OBV\n",
              " Date                                                                   \n",
              " 2000-01-03  217.00       NaN      NaN       NaN   0.000000          0.0\n",
              " 2000-01-04  209.50       NaN      NaN       NaN   0.000000    -898442.0\n",
              " 2000-01-05  211.90       NaN      NaN       NaN   0.000000     576080.0\n",
              " 2000-01-06  221.50       NaN      NaN       NaN   0.000000    2677539.0\n",
              " 2000-01-07  239.20       NaN      NaN       NaN   0.000000    5078038.0\n",
              " ...            ...       ...      ...       ...        ...          ...\n",
              " 2021-03-17  305.85  0.873100  14.4975  4.737518  24.721882  466506768.0\n",
              " 2021-03-18  306.90  0.891430  14.9000  3.316619  24.657143  472503957.0\n",
              " 2021-03-19  308.95  0.929774  15.2200  2.329116  25.153531  477706226.0\n",
              " 2021-03-22  303.05  0.831462  14.5725  1.058233  25.614464  475048761.0\n",
              " 2021-03-23  307.30  0.913070  14.4325  0.389499  25.677651  478059271.0\n",
              " \n",
              " [5281 rows x 6 columns],\n",
              " 'BOM507685':               Close       RSI      ATR      MACD        adx        OBV\n",
              " Date                                                                  \n",
              " 2000-01-03  2808.85       NaN      NaN       NaN   0.000000        0.0\n",
              " 2000-01-04  3033.50       NaN      NaN       NaN   0.000000    60455.0\n",
              " 2000-01-05  2996.95       NaN      NaN       NaN   0.000000   -91081.0\n",
              " 2000-01-06  2920.00       NaN      NaN       NaN   0.000000  -177699.0\n",
              " 2000-01-07  2686.45       NaN      NaN       NaN   0.000000  -205669.0\n",
              " ...             ...       ...      ...       ...        ...        ...\n",
              " 2021-03-17   419.55  0.878185  14.1700 -0.532395  18.076896   499900.0\n",
              " 2021-03-18   410.10  0.720716  14.6950 -1.651812  17.227741   232179.0\n",
              " 2021-03-19   410.55  0.729865  15.0375 -2.474126  16.799898  1363589.0\n",
              " 2021-03-22   414.15  0.808281  14.8650 -2.803015  16.154735  1718567.0\n",
              " 2021-03-23   415.65  0.843288  14.5625 -2.909090  15.060408  2013511.0\n",
              " \n",
              " [5282 rows x 6 columns],\n",
              " 'BOM524715':               Close       RSI     ATR      MACD        adx        OBV\n",
              " Date                                                                 \n",
              " 2000-01-03  1849.45       NaN     NaN       NaN   0.000000        0.0\n",
              " 2000-01-04  1795.00       NaN     NaN       NaN   0.000000   -19935.0\n",
              " 2000-01-05  1735.00       NaN     NaN       NaN   0.000000   -29483.0\n",
              " 2000-01-06  1733.75       NaN     NaN       NaN   0.000000   -38459.0\n",
              " 2000-01-07  1609.25       NaN     NaN       NaN   0.000000   -54946.0\n",
              " ...             ...       ...     ...       ...        ...        ...\n",
              " 2021-03-17   585.20  0.682121  17.960 -1.488529  16.856154  7598758.0\n",
              " 2021-03-18   574.50  0.594893  18.300 -3.999505  18.296442  7374060.0\n",
              " 2021-03-19   578.60  0.647393  18.650 -5.594151  20.001070  7557363.0\n",
              " 2021-03-22   590.95  0.816829  18.340 -5.794580  20.681635  7804331.0\n",
              " 2021-03-23   587.90  0.781779  17.895 -6.128882  21.210826  7650902.0\n",
              " \n",
              " [5281 rows x 6 columns],\n",
              " 'BOM532174':              Close       RSI      ATR      MACD        adx          OBV\n",
              " Date                                                                   \n",
              " 2000-01-03   75.55       NaN      NaN       NaN   0.000000          0.0\n",
              " 2000-01-04   73.65       NaN      NaN       NaN   0.000000    -280845.0\n",
              " 2000-01-05   69.30       NaN      NaN       NaN   0.000000    -717594.0\n",
              " 2000-01-06   69.15       NaN      NaN       NaN   0.000000    -972949.0\n",
              " 2000-01-07   66.00       NaN      NaN       NaN   0.000000   -1366396.0\n",
              " ...            ...       ...      ...       ...        ...          ...\n",
              " 2021-03-17  589.25  0.785470  21.8825  0.062574  22.501679  141920615.0\n",
              " 2021-03-18  578.35  0.697696  22.4100 -2.433467  23.300613  141243437.0\n",
              " 2021-03-19  586.50  0.787218  22.2600 -3.711180  24.252032  142072655.0\n",
              " 2021-03-22  573.40  0.682063  21.8875 -5.714959  25.143047  141357479.0\n",
              " 2021-03-23  586.30  0.822997  21.5925 -6.190684  25.840525  143777089.0\n",
              " \n",
              " [5281 rows x 6 columns],\n",
              " 'BOM532488':               Close       RSI       ATR       MACD        adx         OBV\n",
              " Date                                                                     \n",
              " 2003-03-12   176.25       NaN       NaN        NaN   0.000000         0.0\n",
              " 2003-03-13   180.70       NaN       NaN        NaN   0.000000   1109412.0\n",
              " 2003-03-17   172.60       NaN       NaN        NaN   0.000000   1031553.0\n",
              " 2003-03-19   175.30       NaN       NaN        NaN   0.000000   1077125.0\n",
              " 2003-03-20   183.25       NaN       NaN        NaN   0.000000   1277680.0\n",
              " ...             ...       ...       ...        ...        ...         ...\n",
              " 2021-03-17  3378.25  0.592128   89.6700 -50.537078  33.134937  32551726.0\n",
              " 2021-03-18  3270.40  0.455678   91.7300 -62.466399  34.851405  32534411.0\n",
              " 2021-03-19  3370.15  0.684034  100.5075 -63.143601  36.946952  32568593.0\n",
              " 2021-03-22  3406.75  0.773807   99.4350 -60.034929  38.126964  32587392.0\n",
              " 2021-03-23  3493.65  1.002180  100.5175 -49.983007  38.089143  32620583.0\n",
              " \n",
              " [4484 rows x 6 columns],\n",
              " 'BOM532500':               Close       RSI       ATR       MACD        adx          OBV\n",
              " Date                                                                      \n",
              " 2003-07-09   164.05       NaN       NaN        NaN   0.000000          0.0\n",
              " 2003-07-10   166.95       NaN       NaN        NaN   0.000000    3565356.0\n",
              " 2003-07-11   173.40       NaN       NaN        NaN   0.000000    8131618.0\n",
              " 2003-07-14   178.20       NaN       NaN        NaN   0.000000   10468194.0\n",
              " 2003-07-15   176.35       NaN       NaN        NaN   0.000000    8099434.0\n",
              " ...             ...       ...       ...        ...        ...          ...\n",
              " 2021-03-17  7063.15  0.700071  205.3575 -98.465120  28.934134  139805575.0\n",
              " 2021-03-18  7114.15  0.770746  202.5500 -94.963277  28.582941  139846335.0\n",
              " 2021-03-19  7111.95  0.768236  207.6400 -91.312963  28.864313  139800706.0\n",
              " 2021-03-22  7103.20  0.757723  201.4200 -88.110434  29.125588  139781467.0\n",
              " 2021-03-23  7185.25  0.895211  193.8625 -78.051922  28.761694  139815741.0\n",
              " \n",
              " [4403 rows x 6 columns],\n",
              " 'BOM532540':               Close       RSI      ATR      MACD        adx         OBV\n",
              " Date                                                                   \n",
              " 2004-08-25   987.50       NaN      NaN       NaN   0.000000         0.0\n",
              " 2004-08-26   978.55       NaN      NaN       NaN   0.000000  -2243016.0\n",
              " 2004-08-27   962.35       NaN      NaN       NaN   0.000000  -3746333.0\n",
              " 2004-08-30   986.25       NaN      NaN       NaN   0.000000  -2621514.0\n",
              " 2004-08-31   987.95       NaN      NaN       NaN   0.000000  -1486448.0\n",
              " ...             ...       ...      ...       ...        ...         ...\n",
              " 2021-03-17  3112.70  1.239575  86.1700 -2.973397  26.936046  52533504.0\n",
              " 2021-03-18  3036.80  0.903269  89.8575 -4.630507  26.565250  52439401.0\n",
              " 2021-03-19  3063.25  1.004569  91.1975 -3.766072  26.220940  52641475.0\n",
              " 2021-03-22  3129.60  1.276831  93.8300  2.246987  25.189959  52777745.0\n",
              " 2021-03-23  3142.05  1.331568  88.8300  7.925629  23.756729  52842633.0\n",
              " \n",
              " [4115 rows x 6 columns],\n",
              " 'BOM532977':               Close       RSI       ATR       MACD        adx         OBV\n",
              " Date                                                                     \n",
              " 2008-05-26   604.50       NaN       NaN        NaN   0.000000         0.0\n",
              " 2008-05-27   592.10       NaN       NaN        NaN   0.000000  -1224049.0\n",
              " 2008-05-28   606.30       NaN       NaN        NaN   0.000000   -508650.0\n",
              " 2008-05-29   599.60       NaN       NaN        NaN   0.000000   -806584.0\n",
              " 2008-05-30   574.45       NaN       NaN        NaN   0.000000  -1080580.0\n",
              " ...             ...       ...       ...        ...        ...         ...\n",
              " 2021-03-17  3575.45  0.465990  107.1900 -76.472708  29.005058  13073851.0\n",
              " 2021-03-18  3663.45  0.637253  108.8525 -79.399743  29.850246  13131413.0\n",
              " 2021-03-19  3646.35  0.615313  109.4425 -82.152267  30.635062  13103172.0\n",
              " 2021-03-22  3667.55  0.661046  104.7275 -81.681426  31.154363  13156081.0\n",
              " 2021-03-23  3679.65  0.689012  102.5200 -79.416449  31.201051  13189531.0\n",
              " \n",
              " [3178 rows x 6 columns],\n",
              " 'SENSEX':                Close       RSI       ATR        MACD        adx  OBV\n",
              " Date                                                                \n",
              " 2000-01-03   5375.11       NaN       NaN         NaN   0.000000  NaN\n",
              " 2000-01-04   5491.01       NaN       NaN         NaN   0.000000  NaN\n",
              " 2000-01-05   5357.00       NaN       NaN         NaN   0.000000  NaN\n",
              " 2000-01-06   5421.53       NaN       NaN         NaN   0.000000  NaN\n",
              " 2000-01-07   5414.48       NaN       NaN         NaN   0.000000  NaN\n",
              " ...              ...       ...       ...         ...        ...  ...\n",
              " 2021-03-17  49801.62  0.862508  902.4240  117.565092  14.945644  NaN\n",
              " 2021-03-18  49216.52  0.745511  943.2320    6.110451  16.007487  NaN\n",
              " 2021-03-19  49858.24  0.904912  978.2005  -30.089857  17.286803  NaN\n",
              " 2021-03-22  49771.29  0.884446  967.6550  -65.045200  18.474739  NaN\n",
              " 2021-03-23  50051.44  0.962524  929.3585  -69.342460  18.954195  NaN\n",
              " \n",
              " [5282 rows x 6 columns],\n",
              " 'SI0800':                Close       RSI       ATR        MACD  adx  OBV\n",
              " Date                                                          \n",
              " 2000-01-03   2246.26       NaN       NaN         NaN  0.0  NaN\n",
              " 2000-01-04   2285.99       NaN       NaN         NaN  0.0  NaN\n",
              " 2000-01-05   2194.35       NaN       NaN         NaN  0.0  NaN\n",
              " 2000-01-06   2183.91       NaN       NaN         NaN  0.0  NaN\n",
              " 2000-01-07   2114.89       NaN       NaN         NaN  0.0  NaN\n",
              " ...              ...       ...       ...         ...  ...  ...\n",
              " 2021-03-17  20691.30  0.633848  364.4555 -122.113759  NaN  NaN\n",
              " 2021-03-18  20313.47  0.516285  378.0395 -180.849754  NaN  NaN\n",
              " 2021-03-19  20545.15  0.638139  401.6405 -206.325421  NaN  NaN\n",
              " 2021-03-22  20751.16  0.754232  390.4680 -207.499857  NaN  NaN\n",
              " 2021-03-23  20901.62  0.845077  369.8410 -194.052821  NaN  NaN\n",
              " \n",
              " [5282 rows x 6 columns],\n",
              " 'SI1000':                Close       RSI       ATR        MACD  adx  OBV\n",
              " Date                                                          \n",
              " 2000-01-03   4260.20       NaN       NaN         NaN  0.0  NaN\n",
              " 2000-01-04   4554.08       NaN       NaN         NaN  0.0  NaN\n",
              " 2000-01-05   4342.29       NaN       NaN         NaN  0.0  NaN\n",
              " 2000-01-06   4160.10       NaN       NaN         NaN  0.0  NaN\n",
              " 2000-01-07   3828.79       NaN       NaN         NaN  0.0  NaN\n",
              " ...              ...       ...       ...         ...  ...  ...\n",
              " 2021-03-17  26589.95  1.656789  559.7730  294.484699  NaN  NaN\n",
              " 2021-03-18  25788.13  1.036734  608.5180  251.778102  NaN  NaN\n",
              " 2021-03-19  25995.53  1.140453  619.6065  231.993981  NaN  NaN\n",
              " 2021-03-22  26446.07  1.381858  641.3095  249.790308  NaN  NaN\n",
              " 2021-03-23  26485.96  1.404758  614.5250  264.068794  NaN  NaN\n",
              " \n",
              " [5282 rows x 6 columns],\n",
              " 'SI1200':                Close       RSI       ATR        MACD  adx  OBV\n",
              " Date                                                          \n",
              " 2000-01-03   1865.10       NaN       NaN         NaN  0.0  NaN\n",
              " 2000-01-04   1854.09       NaN       NaN         NaN  0.0  NaN\n",
              " 2000-01-05   1899.13       NaN       NaN         NaN  0.0  NaN\n",
              " 2000-01-06   2006.98       NaN       NaN         NaN  0.0  NaN\n",
              " 2000-01-07   2037.91       NaN       NaN         NaN  0.0  NaN\n",
              " ...              ...       ...       ...         ...  ...  ...\n",
              " 2021-03-17  13670.37  1.172136  453.9415  361.044069  NaN  NaN\n",
              " 2021-03-18  13626.90  1.139746  463.0925  316.419831  NaN  NaN\n",
              " 2021-03-19  13879.28  1.311642  487.9715  297.984776  NaN  NaN\n",
              " 2021-03-22  13959.24  1.369993  476.0010  286.524094  NaN  NaN\n",
              " 2021-03-23  13856.46  1.268088  459.2035  266.080721  NaN  NaN\n",
              " \n",
              " [5282 rows x 6 columns],\n",
              " 'SI1900':                Close       RSI       ATR        MACD  adx  OBV\n",
              " Date                                                          \n",
              " 2000-01-03   1384.78       NaN       NaN         NaN  0.0  NaN\n",
              " 2000-01-04   1398.91       NaN       NaN         NaN  0.0  NaN\n",
              " 2000-01-05   1392.58       NaN       NaN         NaN  0.0  NaN\n",
              " 2000-01-06   1435.42       NaN       NaN         NaN  0.0  NaN\n",
              " 2000-01-07   1432.15       NaN       NaN         NaN  0.0  NaN\n",
              " ...              ...       ...       ...         ...  ...  ...\n",
              " 2021-03-17  22947.61  0.724187  546.2130  -65.870898  NaN  NaN\n",
              " 2021-03-18  22910.22  0.712203  566.6025 -110.078389  NaN  NaN\n",
              " 2021-03-19  23000.74  0.755125  578.8755 -136.238465  NaN  NaN\n",
              " 2021-03-22  22912.69  0.722793  554.7710 -162.205608  NaN  NaN\n",
              " 2021-03-23  23017.22  0.777254  533.7240 -172.363162  NaN  NaN\n",
              " \n",
              " [5282 rows x 6 columns],\n",
              " 'SIBANK':                Close       RSI        ATR        MACD  adx  OBV\n",
              " Date                                                           \n",
              " 2002-01-01   1000.00       NaN        NaN         NaN  0.0  NaN\n",
              " 2002-01-02   1006.66       NaN        NaN         NaN  0.0  NaN\n",
              " 2002-01-03   1034.96       NaN        NaN         NaN  0.0  NaN\n",
              " 2002-01-04   1034.40       NaN        NaN         NaN  0.0  NaN\n",
              " 2002-01-07   1017.60       NaN        NaN         NaN  0.0  NaN\n",
              " ...              ...       ...        ...         ...  ...  ...\n",
              " 2021-03-17  38602.27  0.783292  1043.4580  118.753038  NaN  NaN\n",
              " 2021-03-18  38136.19  0.705101  1075.9695  -17.349415  NaN  NaN\n",
              " 2021-03-19  38468.53  0.781365  1077.9650  -97.273223  NaN  NaN\n",
              " 2021-03-22  37889.55  0.683996  1063.0875 -204.969504  NaN  NaN\n",
              " 2021-03-23  38462.48  0.816116  1048.3410 -241.307279  NaN  NaN\n",
              " \n",
              " [4784 rows x 6 columns]}"
            ]
          },
          "metadata": {
            "tags": []
          },
          "execution_count": 458
        }
      ]
    },
    {
      "cell_type": "code",
      "metadata": {
        "id": "wXm6w8zJbGSO",
        "colab": {
          "base_uri": "https://localhost:8080/",
          "height": 0
        },
        "outputId": "de18c03b-398f-45bf-8852-dc0ba4d4c4ce"
      },
      "source": [
        "\n",
        "# for symbol in allSymbols:\n",
        "#     print(ScriptWiseData[symbol])\n",
        "ScriptWiseData['BOM532540']"
      ],
      "execution_count": 459,
      "outputs": [
        {
          "output_type": "execute_result",
          "data": {
            "text/html": [
              "<div>\n",
              "<style scoped>\n",
              "    .dataframe tbody tr th:only-of-type {\n",
              "        vertical-align: middle;\n",
              "    }\n",
              "\n",
              "    .dataframe tbody tr th {\n",
              "        vertical-align: top;\n",
              "    }\n",
              "\n",
              "    .dataframe thead th {\n",
              "        text-align: right;\n",
              "    }\n",
              "</style>\n",
              "<table border=\"1\" class=\"dataframe\">\n",
              "  <thead>\n",
              "    <tr style=\"text-align: right;\">\n",
              "      <th></th>\n",
              "      <th>Close</th>\n",
              "      <th>RSI</th>\n",
              "      <th>ATR</th>\n",
              "      <th>MACD</th>\n",
              "      <th>adx</th>\n",
              "      <th>OBV</th>\n",
              "    </tr>\n",
              "    <tr>\n",
              "      <th>Date</th>\n",
              "      <th></th>\n",
              "      <th></th>\n",
              "      <th></th>\n",
              "      <th></th>\n",
              "      <th></th>\n",
              "      <th></th>\n",
              "    </tr>\n",
              "  </thead>\n",
              "  <tbody>\n",
              "    <tr>\n",
              "      <th>2004-08-25</th>\n",
              "      <td>987.50</td>\n",
              "      <td>NaN</td>\n",
              "      <td>NaN</td>\n",
              "      <td>NaN</td>\n",
              "      <td>0.000000</td>\n",
              "      <td>0.0</td>\n",
              "    </tr>\n",
              "    <tr>\n",
              "      <th>2004-08-26</th>\n",
              "      <td>978.55</td>\n",
              "      <td>NaN</td>\n",
              "      <td>NaN</td>\n",
              "      <td>NaN</td>\n",
              "      <td>0.000000</td>\n",
              "      <td>-2243016.0</td>\n",
              "    </tr>\n",
              "    <tr>\n",
              "      <th>2004-08-27</th>\n",
              "      <td>962.35</td>\n",
              "      <td>NaN</td>\n",
              "      <td>NaN</td>\n",
              "      <td>NaN</td>\n",
              "      <td>0.000000</td>\n",
              "      <td>-3746333.0</td>\n",
              "    </tr>\n",
              "    <tr>\n",
              "      <th>2004-08-30</th>\n",
              "      <td>986.25</td>\n",
              "      <td>NaN</td>\n",
              "      <td>NaN</td>\n",
              "      <td>NaN</td>\n",
              "      <td>0.000000</td>\n",
              "      <td>-2621514.0</td>\n",
              "    </tr>\n",
              "    <tr>\n",
              "      <th>2004-08-31</th>\n",
              "      <td>987.95</td>\n",
              "      <td>NaN</td>\n",
              "      <td>NaN</td>\n",
              "      <td>NaN</td>\n",
              "      <td>0.000000</td>\n",
              "      <td>-1486448.0</td>\n",
              "    </tr>\n",
              "    <tr>\n",
              "      <th>...</th>\n",
              "      <td>...</td>\n",
              "      <td>...</td>\n",
              "      <td>...</td>\n",
              "      <td>...</td>\n",
              "      <td>...</td>\n",
              "      <td>...</td>\n",
              "    </tr>\n",
              "    <tr>\n",
              "      <th>2021-03-17</th>\n",
              "      <td>3112.70</td>\n",
              "      <td>1.239575</td>\n",
              "      <td>86.1700</td>\n",
              "      <td>-2.973397</td>\n",
              "      <td>26.936046</td>\n",
              "      <td>52533504.0</td>\n",
              "    </tr>\n",
              "    <tr>\n",
              "      <th>2021-03-18</th>\n",
              "      <td>3036.80</td>\n",
              "      <td>0.903269</td>\n",
              "      <td>89.8575</td>\n",
              "      <td>-4.630507</td>\n",
              "      <td>26.565250</td>\n",
              "      <td>52439401.0</td>\n",
              "    </tr>\n",
              "    <tr>\n",
              "      <th>2021-03-19</th>\n",
              "      <td>3063.25</td>\n",
              "      <td>1.004569</td>\n",
              "      <td>91.1975</td>\n",
              "      <td>-3.766072</td>\n",
              "      <td>26.220940</td>\n",
              "      <td>52641475.0</td>\n",
              "    </tr>\n",
              "    <tr>\n",
              "      <th>2021-03-22</th>\n",
              "      <td>3129.60</td>\n",
              "      <td>1.276831</td>\n",
              "      <td>93.8300</td>\n",
              "      <td>2.246987</td>\n",
              "      <td>25.189959</td>\n",
              "      <td>52777745.0</td>\n",
              "    </tr>\n",
              "    <tr>\n",
              "      <th>2021-03-23</th>\n",
              "      <td>3142.05</td>\n",
              "      <td>1.331568</td>\n",
              "      <td>88.8300</td>\n",
              "      <td>7.925629</td>\n",
              "      <td>23.756729</td>\n",
              "      <td>52842633.0</td>\n",
              "    </tr>\n",
              "  </tbody>\n",
              "</table>\n",
              "<p>4115 rows × 6 columns</p>\n",
              "</div>"
            ],
            "text/plain": [
              "              Close       RSI      ATR      MACD        adx         OBV\n",
              "Date                                                                   \n",
              "2004-08-25   987.50       NaN      NaN       NaN   0.000000         0.0\n",
              "2004-08-26   978.55       NaN      NaN       NaN   0.000000  -2243016.0\n",
              "2004-08-27   962.35       NaN      NaN       NaN   0.000000  -3746333.0\n",
              "2004-08-30   986.25       NaN      NaN       NaN   0.000000  -2621514.0\n",
              "2004-08-31   987.95       NaN      NaN       NaN   0.000000  -1486448.0\n",
              "...             ...       ...      ...       ...        ...         ...\n",
              "2021-03-17  3112.70  1.239575  86.1700 -2.973397  26.936046  52533504.0\n",
              "2021-03-18  3036.80  0.903269  89.8575 -4.630507  26.565250  52439401.0\n",
              "2021-03-19  3063.25  1.004569  91.1975 -3.766072  26.220940  52641475.0\n",
              "2021-03-22  3129.60  1.276831  93.8300  2.246987  25.189959  52777745.0\n",
              "2021-03-23  3142.05  1.331568  88.8300  7.925629  23.756729  52842633.0\n",
              "\n",
              "[4115 rows x 6 columns]"
            ]
          },
          "metadata": {
            "tags": []
          },
          "execution_count": 459
        }
      ]
    },
    {
      "cell_type": "markdown",
      "metadata": {
        "id": "8uH6W3pDDLmA"
      },
      "source": [
        "## Dropping null values"
      ]
    },
    {
      "cell_type": "code",
      "metadata": {
        "id": "NKoIp2TtDLmB"
      },
      "source": [
        "# drop rows from the stock whose technical indicator values are null. \n",
        "for stock in stocks:\n",
        "#     ScriptWiseData[stock] = ScriptWiseData[stock].dropna(subset=AllIndicatorColumns)\n",
        "    ScriptWiseData[stock] = ScriptWiseData[stock].dropna()    "
      ],
      "execution_count": 460,
      "outputs": []
    },
    {
      "cell_type": "markdown",
      "metadata": {
        "id": "b4By1l-s_2sa"
      },
      "source": [
        "# ARIMAX for Stock \"BOM532540\" - TCS"
      ]
    },
    {
      "cell_type": "code",
      "metadata": {
        "id": "zTmKqAxMcSZg"
      },
      "source": [
        "from statsmodels.tsa.arima_model import ARMA, ARIMA\n",
        "from pmdarima.arima import auto_arima\n",
        "from math import sqrt\n",
        "from scipy.stats.distributions import chi2"
      ],
      "execution_count": 461,
      "outputs": []
    },
    {
      "cell_type": "code",
      "metadata": {
        "colab": {
          "base_uri": "https://localhost:8080/",
          "height": 446
        },
        "id": "hJJBAucX9o_S",
        "outputId": "4712242f-a0b4-4eb8-babc-205d90de4e5c"
      },
      "source": [
        "Stock = 'BOM532540'\n",
        "ScriptWiseData[Stock]"
      ],
      "execution_count": 462,
      "outputs": [
        {
          "output_type": "execute_result",
          "data": {
            "text/html": [
              "<div>\n",
              "<style scoped>\n",
              "    .dataframe tbody tr th:only-of-type {\n",
              "        vertical-align: middle;\n",
              "    }\n",
              "\n",
              "    .dataframe tbody tr th {\n",
              "        vertical-align: top;\n",
              "    }\n",
              "\n",
              "    .dataframe thead th {\n",
              "        text-align: right;\n",
              "    }\n",
              "</style>\n",
              "<table border=\"1\" class=\"dataframe\">\n",
              "  <thead>\n",
              "    <tr style=\"text-align: right;\">\n",
              "      <th></th>\n",
              "      <th>Close</th>\n",
              "      <th>RSI</th>\n",
              "      <th>ATR</th>\n",
              "      <th>MACD</th>\n",
              "      <th>adx</th>\n",
              "      <th>OBV</th>\n",
              "    </tr>\n",
              "    <tr>\n",
              "      <th>Date</th>\n",
              "      <th></th>\n",
              "      <th></th>\n",
              "      <th></th>\n",
              "      <th></th>\n",
              "      <th></th>\n",
              "      <th></th>\n",
              "    </tr>\n",
              "  </thead>\n",
              "  <tbody>\n",
              "    <tr>\n",
              "      <th>2004-10-01</th>\n",
              "      <td>1048.25</td>\n",
              "      <td>1.781982</td>\n",
              "      <td>17.4850</td>\n",
              "      <td>8.086665</td>\n",
              "      <td>27.865725</td>\n",
              "      <td>485611.0</td>\n",
              "    </tr>\n",
              "    <tr>\n",
              "      <th>2004-10-04</th>\n",
              "      <td>1076.80</td>\n",
              "      <td>2.653364</td>\n",
              "      <td>18.5375</td>\n",
              "      <td>11.022214</td>\n",
              "      <td>29.406966</td>\n",
              "      <td>1101096.0</td>\n",
              "    </tr>\n",
              "    <tr>\n",
              "      <th>2004-10-05</th>\n",
              "      <td>1080.20</td>\n",
              "      <td>2.764549</td>\n",
              "      <td>18.9275</td>\n",
              "      <td>13.432900</td>\n",
              "      <td>31.082611</td>\n",
              "      <td>1861397.0</td>\n",
              "    </tr>\n",
              "    <tr>\n",
              "      <th>2004-10-06</th>\n",
              "      <td>1081.15</td>\n",
              "      <td>2.797834</td>\n",
              "      <td>19.8775</td>\n",
              "      <td>15.229562</td>\n",
              "      <td>33.012967</td>\n",
              "      <td>2677803.0</td>\n",
              "    </tr>\n",
              "    <tr>\n",
              "      <th>2004-10-07</th>\n",
              "      <td>1096.75</td>\n",
              "      <td>3.383456</td>\n",
              "      <td>19.8075</td>\n",
              "      <td>17.605517</td>\n",
              "      <td>34.805440</td>\n",
              "      <td>3134018.0</td>\n",
              "    </tr>\n",
              "    <tr>\n",
              "      <th>...</th>\n",
              "      <td>...</td>\n",
              "      <td>...</td>\n",
              "      <td>...</td>\n",
              "      <td>...</td>\n",
              "      <td>...</td>\n",
              "      <td>...</td>\n",
              "    </tr>\n",
              "    <tr>\n",
              "      <th>2021-03-17</th>\n",
              "      <td>3112.70</td>\n",
              "      <td>1.239575</td>\n",
              "      <td>86.1700</td>\n",
              "      <td>-2.973397</td>\n",
              "      <td>26.936046</td>\n",
              "      <td>52533504.0</td>\n",
              "    </tr>\n",
              "    <tr>\n",
              "      <th>2021-03-18</th>\n",
              "      <td>3036.80</td>\n",
              "      <td>0.903269</td>\n",
              "      <td>89.8575</td>\n",
              "      <td>-4.630507</td>\n",
              "      <td>26.565250</td>\n",
              "      <td>52439401.0</td>\n",
              "    </tr>\n",
              "    <tr>\n",
              "      <th>2021-03-19</th>\n",
              "      <td>3063.25</td>\n",
              "      <td>1.004569</td>\n",
              "      <td>91.1975</td>\n",
              "      <td>-3.766072</td>\n",
              "      <td>26.220940</td>\n",
              "      <td>52641475.0</td>\n",
              "    </tr>\n",
              "    <tr>\n",
              "      <th>2021-03-22</th>\n",
              "      <td>3129.60</td>\n",
              "      <td>1.276831</td>\n",
              "      <td>93.8300</td>\n",
              "      <td>2.246987</td>\n",
              "      <td>25.189959</td>\n",
              "      <td>52777745.0</td>\n",
              "    </tr>\n",
              "    <tr>\n",
              "      <th>2021-03-23</th>\n",
              "      <td>3142.05</td>\n",
              "      <td>1.331568</td>\n",
              "      <td>88.8300</td>\n",
              "      <td>7.925629</td>\n",
              "      <td>23.756729</td>\n",
              "      <td>52842633.0</td>\n",
              "    </tr>\n",
              "  </tbody>\n",
              "</table>\n",
              "<p>4088 rows × 6 columns</p>\n",
              "</div>"
            ],
            "text/plain": [
              "              Close       RSI      ATR       MACD        adx         OBV\n",
              "Date                                                                    \n",
              "2004-10-01  1048.25  1.781982  17.4850   8.086665  27.865725    485611.0\n",
              "2004-10-04  1076.80  2.653364  18.5375  11.022214  29.406966   1101096.0\n",
              "2004-10-05  1080.20  2.764549  18.9275  13.432900  31.082611   1861397.0\n",
              "2004-10-06  1081.15  2.797834  19.8775  15.229562  33.012967   2677803.0\n",
              "2004-10-07  1096.75  3.383456  19.8075  17.605517  34.805440   3134018.0\n",
              "...             ...       ...      ...        ...        ...         ...\n",
              "2021-03-17  3112.70  1.239575  86.1700  -2.973397  26.936046  52533504.0\n",
              "2021-03-18  3036.80  0.903269  89.8575  -4.630507  26.565250  52439401.0\n",
              "2021-03-19  3063.25  1.004569  91.1975  -3.766072  26.220940  52641475.0\n",
              "2021-03-22  3129.60  1.276831  93.8300   2.246987  25.189959  52777745.0\n",
              "2021-03-23  3142.05  1.331568  88.8300   7.925629  23.756729  52842633.0\n",
              "\n",
              "[4088 rows x 6 columns]"
            ]
          },
          "metadata": {
            "tags": []
          },
          "execution_count": 462
        }
      ]
    },
    {
      "cell_type": "code",
      "metadata": {
        "colab": {
          "base_uri": "https://localhost:8080/",
          "height": 515
        },
        "id": "Vnrk3iBtelyV",
        "outputId": "2f33d692-8f13-4785-ca7f-41ffbe838083"
      },
      "source": [
        "ScriptWiseData[Stock].Close.plot(legend=True, label = 'Dataset', figsize = (12,8))"
      ],
      "execution_count": 463,
      "outputs": [
        {
          "output_type": "execute_result",
          "data": {
            "text/plain": [
              "<matplotlib.axes._subplots.AxesSubplot at 0x7f6139ac0d10>"
            ]
          },
          "metadata": {
            "tags": []
          },
          "execution_count": 463
        },
        {
          "output_type": "display_data",
          "data": {
            "image/png": "[encoded data removed]",
            "text/plain": [
              "<Figure size 864x576 with 1 Axes>"
            ]
          },
          "metadata": {
            "tags": [],
            "needs_background": "light"
          }
        }
      ]
    },
    {
      "cell_type": "code",
      "metadata": {
        "colab": {
          "base_uri": "https://localhost:8080/"
        },
        "id": "uci-WJ2u7j5O",
        "outputId": "e87918ee-3f8c-4af6-83dd-ea8f00d20a8c"
      },
      "source": [
        "print(adf_test(ScriptWiseData[Stock].Close, title='ADF Test for Stock market prices'))"
      ],
      "execution_count": 464,
      "outputs": [
        {
          "output_type": "stream",
          "text": [
            "(-1.5359616449792204, 0.5156526027756796, 0, 4087, {'1%': -3.4319510305663132, '5%': -2.8622474476057733, '10%': -2.567146581184536}, 42215.16125378273)\n",
            "ADF test statistic        -1.535962\n",
            "p-value                    0.515653\n",
            "# lags used                0.000000\n",
            "#observations           4087.000000\n",
            "critical value (1%)       -3.431951\n",
            "critical value (5%)       -2.862247\n",
            "critical value (10%)      -2.567147\n",
            "Data is non-stationary\n"
          ],
          "name": "stdout"
        }
      ]
    },
    {
      "cell_type": "markdown",
      "metadata": {
        "id": "R9N5Nw4g_Bko"
      },
      "source": [
        "\n",
        "### The ACF\n",
        "\n",
        "\n",
        "\n"
      ]
    },
    {
      "cell_type": "code",
      "metadata": {
        "colab": {
          "base_uri": "https://localhost:8080/",
          "height": 0
        },
        "id": "omu5bWDs_A4w",
        "outputId": "b640d57f-607e-4211-9172-d5d604063d91"
      },
      "source": [
        "sgt.plot_acf(ScriptWiseData[Stock].Close, zero= False, lags = 40);\n",
        "plt.title(\"ACF for Closing prices\", size = 20)\n",
        "plt.show()"
      ],
      "execution_count": 465,
      "outputs": [
        {
          "output_type": "display_data",
          "data": {
            "image/png": "[encoded data removed]",
            "text/plain": [
              "<Figure size 432x288 with 1 Axes>"
            ]
          },
          "metadata": {
            "tags": [],
            "needs_background": "light"
          }
        }
      ]
    },
    {
      "cell_type": "markdown",
      "metadata": {
        "id": "BycqnlSUAYfF"
      },
      "source": [
        "### The PACF\n",
        "\n"
      ]
    },
    {
      "cell_type": "code",
      "metadata": {
        "colab": {
          "base_uri": "https://localhost:8080/",
          "height": 0
        },
        "id": "wWuhGFeHAc9C",
        "outputId": "7540a447-6dfc-4675-b874-f5242bd48812"
      },
      "source": [
        "sgt.plot_pacf(ScriptWiseData[Stock].Close, alpha= 0.05, zero= False, lags = 40, method=('ols'));\n",
        "plt.title(\"PACF for Closing prices\", size = 20)\n",
        "plt.show()"
      ],
      "execution_count": 466,
      "outputs": [
        {
          "output_type": "display_data",
          "data": {
            "image/png": "[encoded data removed]",
            "text/plain": [
              "<Figure size 432x288 with 1 Axes>"
            ]
          },
          "metadata": {
            "tags": [],
            "needs_background": "light"
          }
        }
      ]
    },
    {
      "cell_type": "markdown",
      "metadata": {
        "id": "h42G_wOm6bHa"
      },
      "source": [
        "### Common functions"
      ]
    },
    {
      "cell_type": "code",
      "metadata": {
        "colab": {
          "base_uri": "https://localhost:8080/"
        },
        "id": "JO5AZ2SMdV_4",
        "outputId": "02d64fba-6371-411e-de83-8b01840ac933"
      },
      "source": [
        "test_start_date = '2020-03-02'\n",
        "test_end_date = '2021-03-23'\n",
        "actual = ScriptWiseData[Stock].Close.loc[test_start_date:test_end_date]\n",
        "len(actual)"
      ],
      "execution_count": 467,
      "outputs": [
        {
          "output_type": "execute_result",
          "data": {
            "text/plain": [
              "265"
            ]
          },
          "metadata": {
            "tags": []
          },
          "execution_count": 467
        }
      ]
    },
    {
      "cell_type": "code",
      "metadata": {
        "id": "rLr524-mmmVU"
      },
      "source": [
        "def LLRTest(mod_1, mod_2, DF=1):\n",
        "  L1 = mod_1.fit().llf\n",
        "  L2 = mod_2.fit().llf\n",
        "  LR = (2*(L2-L1))\n",
        "  P = chi2.sf(LR, DF).round(3)\n",
        "  return P\n"
      ],
      "execution_count": 468,
      "outputs": []
    },
    {
      "cell_type": "code",
      "metadata": {
        "id": "obT5d_wPB0ph"
      },
      "source": [
        "def plot_acf(data, title = ''):\n",
        "  sgt.plot_acf(data, lags = 40, zero = False)\n",
        "  plt.title(title, size=24)\n",
        "  plt.show()\n",
        "\n",
        "def plot_pacf(data, title = ''):\n",
        "  sgt.plot_pacf(data, lags = 40, zero = False, method= ('ols'))\n",
        "  plt.title(title, size=24)\n",
        "  plt.show()"
      ],
      "execution_count": 469,
      "outputs": []
    },
    {
      "cell_type": "code",
      "metadata": {
        "id": "u9FKe7oChIa4"
      },
      "source": [
        "def TrainTestSplitByDateRange(df,test_start_date = '2020-03-02',test_end_date = '2021-03-23'):\n",
        "    train = df.loc[:test_start_date]\n",
        "    test = df.loc[test_start_date:test_end_date]\n",
        "    return train, test[1:]"
      ],
      "execution_count": 470,
      "outputs": []
    },
    {
      "cell_type": "code",
      "metadata": {
        "id": "Wkvy5mh8Wp56"
      },
      "source": [
        "def errorEvaluation(actual, pred):\n",
        "  print(\"RMSE: \" + str(mean_squared_error(actual, pred, squared=False)))\n",
        "  print(\"MAPE: \" + str(mean_absolute_percentage_error(actual,pred)))\n",
        "  print(\"R2 Score: \" + str(r2_score(actual,pred)))"
      ],
      "execution_count": 471,
      "outputs": []
    },
    {
      "cell_type": "code",
      "metadata": {
        "id": "8S9lGBA1pbya"
      },
      "source": [
        "# Modified Prediction O/P\n",
        "def modified_prediction_frame(_df_pred, index):\n",
        "  _df_pred = _df_pred.to_frame()\n",
        "  _df_pred['Date'] = index\n",
        "  pd.to_datetime(_df_pred['Date'])\n",
        "  _df_pred.set_index('Date', inplace=True)\n",
        "  _df_pred.rename(columns={0 : 'Predicted'}, inplace=True)\n",
        "  return _df_pred\n"
      ],
      "execution_count": 472,
      "outputs": []
    },
    {
      "cell_type": "markdown",
      "metadata": {
        "id": "XJyXdfaABgCW"
      },
      "source": [
        "### The AR(1) model\n",
        "\n"
      ]
    },
    {
      "cell_type": "code",
      "metadata": {
        "colab": {
          "base_uri": "https://localhost:8080/",
          "height": 0
        },
        "id": "TOPhOjTEtS2u",
        "outputId": "cbb83d38-4c0c-4097-e371-374fa0566f8f"
      },
      "source": [
        "df = ScriptWiseData[Stock]\n",
        "df.head()"
      ],
      "execution_count": 473,
      "outputs": [
        {
          "output_type": "execute_result",
          "data": {
            "text/html": [
              "<div>\n",
              "<style scoped>\n",
              "    .dataframe tbody tr th:only-of-type {\n",
              "        vertical-align: middle;\n",
              "    }\n",
              "\n",
              "    .dataframe tbody tr th {\n",
              "        vertical-align: top;\n",
              "    }\n",
              "\n",
              "    .dataframe thead th {\n",
              "        text-align: right;\n",
              "    }\n",
              "</style>\n",
              "<table border=\"1\" class=\"dataframe\">\n",
              "  <thead>\n",
              "    <tr style=\"text-align: right;\">\n",
              "      <th></th>\n",
              "      <th>Close</th>\n",
              "      <th>RSI</th>\n",
              "      <th>ATR</th>\n",
              "      <th>MACD</th>\n",
              "      <th>adx</th>\n",
              "      <th>OBV</th>\n",
              "    </tr>\n",
              "    <tr>\n",
              "      <th>Date</th>\n",
              "      <th></th>\n",
              "      <th></th>\n",
              "      <th></th>\n",
              "      <th></th>\n",
              "      <th></th>\n",
              "      <th></th>\n",
              "    </tr>\n",
              "  </thead>\n",
              "  <tbody>\n",
              "    <tr>\n",
              "      <th>2004-10-01</th>\n",
              "      <td>1048.25</td>\n",
              "      <td>1.781982</td>\n",
              "      <td>17.4850</td>\n",
              "      <td>8.086665</td>\n",
              "      <td>27.865725</td>\n",
              "      <td>485611.0</td>\n",
              "    </tr>\n",
              "    <tr>\n",
              "      <th>2004-10-04</th>\n",
              "      <td>1076.80</td>\n",
              "      <td>2.653364</td>\n",
              "      <td>18.5375</td>\n",
              "      <td>11.022214</td>\n",
              "      <td>29.406966</td>\n",
              "      <td>1101096.0</td>\n",
              "    </tr>\n",
              "    <tr>\n",
              "      <th>2004-10-05</th>\n",
              "      <td>1080.20</td>\n",
              "      <td>2.764549</td>\n",
              "      <td>18.9275</td>\n",
              "      <td>13.432900</td>\n",
              "      <td>31.082611</td>\n",
              "      <td>1861397.0</td>\n",
              "    </tr>\n",
              "    <tr>\n",
              "      <th>2004-10-06</th>\n",
              "      <td>1081.15</td>\n",
              "      <td>2.797834</td>\n",
              "      <td>19.8775</td>\n",
              "      <td>15.229562</td>\n",
              "      <td>33.012967</td>\n",
              "      <td>2677803.0</td>\n",
              "    </tr>\n",
              "    <tr>\n",
              "      <th>2004-10-07</th>\n",
              "      <td>1096.75</td>\n",
              "      <td>3.383456</td>\n",
              "      <td>19.8075</td>\n",
              "      <td>17.605517</td>\n",
              "      <td>34.805440</td>\n",
              "      <td>3134018.0</td>\n",
              "    </tr>\n",
              "  </tbody>\n",
              "</table>\n",
              "</div>"
            ],
            "text/plain": [
              "              Close       RSI      ATR       MACD        adx        OBV\n",
              "Date                                                                   \n",
              "2004-10-01  1048.25  1.781982  17.4850   8.086665  27.865725   485611.0\n",
              "2004-10-04  1076.80  2.653364  18.5375  11.022214  29.406966  1101096.0\n",
              "2004-10-05  1080.20  2.764549  18.9275  13.432900  31.082611  1861397.0\n",
              "2004-10-06  1081.15  2.797834  19.8775  15.229562  33.012967  2677803.0\n",
              "2004-10-07  1096.75  3.383456  19.8075  17.605517  34.805440  3134018.0"
            ]
          },
          "metadata": {
            "tags": []
          },
          "execution_count": 473
        }
      ]
    },
    {
      "cell_type": "code",
      "metadata": {
        "colab": {
          "base_uri": "https://localhost:8080/",
          "height": 0
        },
        "id": "egYkELmrjBSE",
        "outputId": "6209f774-aef5-4612-cf83-1ad26ca08d5e"
      },
      "source": [
        "adf_test(df.Close)"
      ],
      "execution_count": 474,
      "outputs": [
        {
          "output_type": "stream",
          "text": [
            "(-1.5359616449792204, 0.5156526027756796, 0, 4087, {'1%': -3.4319510305663132, '5%': -2.8622474476057733, '10%': -2.567146581184536}, 42215.16125378273)\n",
            "ADF test statistic        -1.535962\n",
            "p-value                    0.515653\n",
            "# lags used                0.000000\n",
            "#observations           4087.000000\n",
            "critical value (1%)       -3.431951\n",
            "critical value (5%)       -2.862247\n",
            "critical value (10%)      -2.567147\n"
          ],
          "name": "stdout"
        },
        {
          "output_type": "execute_result",
          "data": {
            "application/vnd.google.colaboratory.intrinsic+json": {
              "type": "string"
            },
            "text/plain": [
              "'Data is non-stationary'"
            ]
          },
          "metadata": {
            "tags": []
          },
          "execution_count": 474
        }
      ]
    },
    {
      "cell_type": "code",
      "metadata": {
        "id": "m319ytulhLti"
      },
      "source": [
        "train_data, test_data = TrainTestSplitByDateRange(df.Close)\n",
        "\n",
        "start = len(train_data)\n",
        "end = len(train_data) + len(test_data) - 1\n",
        "\n",
        "test_start_date = '2020-03-02'\n",
        "test_end_date = '2021-03-23'\n",
        "\n",
        "index = test_data.index"
      ],
      "execution_count": 475,
      "outputs": []
    },
    {
      "cell_type": "code",
      "metadata": {
        "colab": {
          "base_uri": "https://localhost:8080/"
        },
        "id": "atq9sJAn9R3i",
        "outputId": "dd134467-dec9-44f4-a6ca-496dc2db666b"
      },
      "source": [
        "# model_ar = ARMA(ScriptWiseData[Stock].Close, order = (1,0))\n",
        "# result_ar = model_ar.fit()\n",
        "# df_pred = result_ar.predict(start = test_start_date, end = test_end_date)\n",
        "# print(result_ar.summary())\n",
        "#-------------------------------------------------------------------------------------With Train data\n",
        "\n",
        "AR_Model = AR(train_data)\n",
        "result_ar = AR_Model.fit(maxlag=1)\n",
        "print(result_ar.params)\n",
        "predictions1 = result_ar.predict(start = start, end = end)\n"
      ],
      "execution_count": 476,
      "outputs": [
        {
          "output_type": "stream",
          "text": [
            "const       3.512901\n",
            "L1.Close    0.998006\n",
            "dtype: float64\n"
          ],
          "name": "stdout"
        }
      ]
    },
    {
      "cell_type": "code",
      "metadata": {
        "colab": {
          "base_uri": "https://localhost:8080/",
          "height": 0
        },
        "id": "iAj3MGcPy58X",
        "outputId": "b4646351-8815-44a3-e93b-5c55354f7ea8"
      },
      "source": [
        "predictions1 = modified_prediction_frame(predictions1,index)\n",
        "predictions1.head()"
      ],
      "execution_count": 477,
      "outputs": [
        {
          "output_type": "execute_result",
          "data": {
            "text/html": [
              "<div>\n",
              "<style scoped>\n",
              "    .dataframe tbody tr th:only-of-type {\n",
              "        vertical-align: middle;\n",
              "    }\n",
              "\n",
              "    .dataframe tbody tr th {\n",
              "        vertical-align: top;\n",
              "    }\n",
              "\n",
              "    .dataframe thead th {\n",
              "        text-align: right;\n",
              "    }\n",
              "</style>\n",
              "<table border=\"1\" class=\"dataframe\">\n",
              "  <thead>\n",
              "    <tr style=\"text-align: right;\">\n",
              "      <th></th>\n",
              "      <th>Predicted</th>\n",
              "    </tr>\n",
              "    <tr>\n",
              "      <th>Date</th>\n",
              "      <th></th>\n",
              "    </tr>\n",
              "  </thead>\n",
              "  <tbody>\n",
              "    <tr>\n",
              "      <th>2020-03-03</th>\n",
              "      <td>1999.424572</td>\n",
              "    </tr>\n",
              "    <tr>\n",
              "      <th>2020-03-04</th>\n",
              "      <td>1998.950092</td>\n",
              "    </tr>\n",
              "    <tr>\n",
              "      <th>2020-03-05</th>\n",
              "      <td>1998.476558</td>\n",
              "    </tr>\n",
              "    <tr>\n",
              "      <th>2020-03-06</th>\n",
              "      <td>1998.003968</td>\n",
              "    </tr>\n",
              "    <tr>\n",
              "      <th>2020-03-09</th>\n",
              "      <td>1997.532321</td>\n",
              "    </tr>\n",
              "  </tbody>\n",
              "</table>\n",
              "</div>"
            ],
            "text/plain": [
              "              Predicted\n",
              "Date                   \n",
              "2020-03-03  1999.424572\n",
              "2020-03-04  1998.950092\n",
              "2020-03-05  1998.476558\n",
              "2020-03-06  1998.003968\n",
              "2020-03-09  1997.532321"
            ]
          },
          "metadata": {
            "tags": []
          },
          "execution_count": 477
        }
      ]
    },
    {
      "cell_type": "code",
      "metadata": {
        "colab": {
          "base_uri": "https://localhost:8080/"
        },
        "id": "y9qQUc8Ggh6j",
        "outputId": "1ee4a359-47ae-4275-d185-496d02e67c2e"
      },
      "source": [
        "print(result_ar.summary())\n",
        "errorEvaluation(test_data,predictions1)"
      ],
      "execution_count": 478,
      "outputs": [
        {
          "output_type": "stream",
          "text": [
            "                               AR Model Results                               \n",
            "==============================================================================\n",
            "Dep. Variable:                      C  -                  l                  o\n",
            "Model:                          AR(1)   Log Likelihood              -19852.003\n",
            "Method:                          cmle   S.D. of innovations             43.547\n",
            "Date:                Fri, 16 Jul 2021   AIC                              7.549\n",
            "Time:                        12:12:59   BIC                              7.554\n",
            "Sample:                             0   HQIC                             7.551\n",
            "                                                                              \n",
            "==============================================================================\n",
            "                 coef    std err          z      P>|z|      [0.025      0.975]\n",
            "------------------------------------------------------------------------------\n",
            "const          3.5129      1.791      1.961      0.050       0.002       7.024\n",
            "L1.Close       0.9980      0.001    991.665      0.000       0.996       1.000\n",
            "                                    Roots                                    \n",
            "=============================================================================\n",
            "                  Real          Imaginary           Modulus         Frequency\n",
            "-----------------------------------------------------------------------------\n",
            "AR.1            1.0020           +0.0000j            1.0020            0.0000\n",
            "-----------------------------------------------------------------------------\n",
            "RMSE: 712.9554590571576\n",
            "MAPE: 0.21045816882991392\n",
            "R2 Score: -1.3240847682655397\n"
          ],
          "name": "stdout"
        }
      ]
    },
    {
      "cell_type": "code",
      "metadata": {
        "colab": {
          "base_uri": "https://localhost:8080/",
          "height": 0
        },
        "id": "GuEVIIKzUcEN",
        "outputId": "d640d193-e577-45b2-cadf-54510d5dd6c1"
      },
      "source": [
        "df_pred.plot(legend=True, label = 'Predicted', figsize = (12,8))\n",
        "test_data.plot(legend=True, label = 'Actual', figsize = (12,8))"
      ],
      "execution_count": 479,
      "outputs": [
        {
          "output_type": "execute_result",
          "data": {
            "text/plain": [
              "<matplotlib.axes._subplots.AxesSubplot at 0x7f6139a01510>"
            ]
          },
          "metadata": {
            "tags": []
          },
          "execution_count": 479
        },
        {
          "output_type": "display_data",
          "data": {
            "image/png": "[encoded data removed]",
            "text/plain": [
              "<Figure size 864x576 with 1 Axes>"
            ]
          },
          "metadata": {
            "tags": [],
            "needs_background": "light"
          }
        }
      ]
    },
    {
      "cell_type": "markdown",
      "metadata": {
        "id": "qD5c-xk0eyjT"
      },
      "source": [
        "### Higher-Lag AR Models\n",
        "\n"
      ]
    },
    {
      "cell_type": "markdown",
      "metadata": {
        "id": "OhmX1QMZ_XDZ"
      },
      "source": [
        "\n",
        "\n",
        "> With Lag 2\n",
        "\n"
      ]
    },
    {
      "cell_type": "code",
      "metadata": {
        "colab": {
          "base_uri": "https://localhost:8080/"
        },
        "id": "IiLyXgeifiii",
        "outputId": "5bda81b6-7153-4227-dd7a-cfe372e024e5"
      },
      "source": [
        "AR2_Model = AR(train_data)\n",
        "result_ar_2 = AR2_Model.fit(maxlag=2)\n",
        "predictions2 = result_ar_2.predict(start = start, end = end)\n",
        "print(result_ar_2.summary())\n"
      ],
      "execution_count": 480,
      "outputs": [
        {
          "output_type": "stream",
          "text": [
            "                               AR Model Results                               \n",
            "==============================================================================\n",
            "Dep. Variable:                      C  -                  l                  o\n",
            "Model:                          AR(2)   Log Likelihood              -19846.796\n",
            "Method:                          cmle   S.D. of innovations             43.547\n",
            "Date:                Fri, 16 Jul 2021   AIC                              7.550\n",
            "Time:                        12:13:00   BIC                              7.556\n",
            "Sample:                             0   HQIC                             7.552\n",
            "                                                                              \n",
            "==============================================================================\n",
            "                 coef    std err          z      P>|z|      [0.025      0.975]\n",
            "------------------------------------------------------------------------------\n",
            "const          3.5284      1.793      1.968      0.049       0.015       7.042\n",
            "L1.Close       1.0109      0.016     62.481      0.000       0.979       1.043\n",
            "L2.Close      -0.0129      0.016     -0.799      0.424      -0.045       0.019\n",
            "                                    Roots                                    \n",
            "=============================================================================\n",
            "                  Real          Imaginary           Modulus         Frequency\n",
            "-----------------------------------------------------------------------------\n",
            "AR.1            1.0020           +0.0000j            1.0020            0.0000\n",
            "AR.2           77.2018           +0.0000j           77.2018            0.0000\n",
            "-----------------------------------------------------------------------------\n"
          ],
          "name": "stdout"
        }
      ]
    },
    {
      "cell_type": "code",
      "metadata": {
        "id": "MFt1d3iSzypZ"
      },
      "source": [
        "predictions2 = modified_prediction_frame(predictions2,index)"
      ],
      "execution_count": 481,
      "outputs": []
    },
    {
      "cell_type": "code",
      "metadata": {
        "colab": {
          "base_uri": "https://localhost:8080/"
        },
        "id": "RrN0GlJmz9pr",
        "outputId": "d06a2732-1070-417f-a1be-3210feb16ae0"
      },
      "source": [
        "print(test_data.describe())\n",
        "print('---------------')\n",
        "print(errorEvaluation(test_data,predictions2))"
      ],
      "execution_count": 482,
      "outputs": [
        {
          "output_type": "stream",
          "text": [
            "count     264.000000\n",
            "mean     2459.927273\n",
            "std       468.554923\n",
            "min      1636.100000\n",
            "25%      2047.575000\n",
            "50%      2361.325000\n",
            "75%      2827.037500\n",
            "max      3308.200000\n",
            "Name: Close, dtype: float64\n",
            "---------------\n",
            "RMSE: 715.4270572492364\n",
            "MAPE: 0.21122817591924914\n",
            "R2 Score: -1.3402264790435923\n",
            "None\n"
          ],
          "name": "stdout"
        }
      ]
    },
    {
      "cell_type": "code",
      "metadata": {
        "colab": {
          "base_uri": "https://localhost:8080/",
          "height": 515
        },
        "id": "kS8jJDIl0M21",
        "outputId": "e5cd4fb8-4167-4bfa-b1ce-a86577d53c0e"
      },
      "source": [
        "predictions2.plot(legend=True, label = 'Predicted', figsize = (12,8))\n",
        "test_data.plot(legend=True, label = 'Actual', figsize = (12,8))"
      ],
      "execution_count": 483,
      "outputs": [
        {
          "output_type": "execute_result",
          "data": {
            "text/plain": [
              "<matplotlib.axes._subplots.AxesSubplot at 0x7f61398fe090>"
            ]
          },
          "metadata": {
            "tags": []
          },
          "execution_count": 483
        },
        {
          "output_type": "display_data",
          "data": {
            "image/png": "[encoded data removed]",
            "text/plain": [
              "<Figure size 864x576 with 1 Axes>"
            ]
          },
          "metadata": {
            "tags": [],
            "needs_background": "light"
          }
        }
      ]
    },
    {
      "cell_type": "markdown",
      "metadata": {
        "id": "pORGtq6E_g2J"
      },
      "source": [
        "\n",
        "\n",
        "> Auto Predict Lag\n",
        "\n"
      ]
    },
    {
      "cell_type": "code",
      "metadata": {
        "id": "TR77IlL94KHu"
      },
      "source": [
        "AR_M = AR(train_data)\n",
        "result_ar = AR_M.fit(ic = 't-stat')"
      ],
      "execution_count": 484,
      "outputs": []
    },
    {
      "cell_type": "code",
      "metadata": {
        "colab": {
          "base_uri": "https://localhost:8080/"
        },
        "id": "kHaZG8JB14A8",
        "outputId": "33de21b7-6b63-4b01-8700-61113f80da44"
      },
      "source": [
        "result_ar.params"
      ],
      "execution_count": 485,
      "outputs": [
        {
          "output_type": "execute_result",
          "data": {
            "text/plain": [
              "const        2.722153\n",
              "L1.Close     1.008916\n",
              "L2.Close    -0.032333\n",
              "L3.Close     0.032269\n",
              "L4.Close    -0.033983\n",
              "L5.Close     0.006809\n",
              "L6.Close     0.013095\n",
              "L7.Close     0.014249\n",
              "L8.Close    -0.029162\n",
              "L9.Close     0.004398\n",
              "L10.Close    0.010860\n",
              "L11.Close   -0.014438\n",
              "L12.Close   -0.006409\n",
              "L13.Close    0.027428\n",
              "L14.Close   -0.014620\n",
              "L15.Close    0.018233\n",
              "L16.Close   -0.015480\n",
              "L17.Close    0.000460\n",
              "L18.Close   -0.007225\n",
              "L19.Close    0.001143\n",
              "L20.Close    0.024867\n",
              "L21.Close   -0.021900\n",
              "L22.Close   -0.017518\n",
              "L23.Close    0.041515\n",
              "L24.Close   -0.024759\n",
              "L25.Close   -0.018369\n",
              "L26.Close    0.016156\n",
              "L27.Close    0.015116\n",
              "L28.Close   -0.058979\n",
              "L29.Close    0.020257\n",
              "L30.Close    0.037930\n",
              "dtype: float64"
            ]
          },
          "metadata": {
            "tags": []
          },
          "execution_count": 485
        }
      ]
    },
    {
      "cell_type": "markdown",
      "metadata": {
        "id": "qzXGGSV1ExEz"
      },
      "source": [
        "\n",
        "\n",
        "```\n",
        "# According to the predictions, a lag of 30 is recommended however we have seen it is not possible to predict a non linear data with the AR model.\n",
        "```\n",
        "\n"
      ]
    },
    {
      "cell_type": "markdown",
      "metadata": {
        "id": "IqVcqN3e-ihx"
      },
      "source": [
        "# Using Returns"
      ]
    },
    {
      "cell_type": "code",
      "metadata": {
        "colab": {
          "base_uri": "https://localhost:8080/",
          "height": 446
        },
        "id": "_Q-Jsl1W-cn7",
        "outputId": "600e6ccb-6492-42a4-cf8a-e756a5358f50"
      },
      "source": [
        "df"
      ],
      "execution_count": 486,
      "outputs": [
        {
          "output_type": "execute_result",
          "data": {
            "text/html": [
              "<div>\n",
              "<style scoped>\n",
              "    .dataframe tbody tr th:only-of-type {\n",
              "        vertical-align: middle;\n",
              "    }\n",
              "\n",
              "    .dataframe tbody tr th {\n",
              "        vertical-align: top;\n",
              "    }\n",
              "\n",
              "    .dataframe thead th {\n",
              "        text-align: right;\n",
              "    }\n",
              "</style>\n",
              "<table border=\"1\" class=\"dataframe\">\n",
              "  <thead>\n",
              "    <tr style=\"text-align: right;\">\n",
              "      <th></th>\n",
              "      <th>Close</th>\n",
              "      <th>RSI</th>\n",
              "      <th>ATR</th>\n",
              "      <th>MACD</th>\n",
              "      <th>adx</th>\n",
              "      <th>OBV</th>\n",
              "    </tr>\n",
              "    <tr>\n",
              "      <th>Date</th>\n",
              "      <th></th>\n",
              "      <th></th>\n",
              "      <th></th>\n",
              "      <th></th>\n",
              "      <th></th>\n",
              "      <th></th>\n",
              "    </tr>\n",
              "  </thead>\n",
              "  <tbody>\n",
              "    <tr>\n",
              "      <th>2004-10-01</th>\n",
              "      <td>1048.25</td>\n",
              "      <td>1.781982</td>\n",
              "      <td>17.4850</td>\n",
              "      <td>8.086665</td>\n",
              "      <td>27.865725</td>\n",
              "      <td>485611.0</td>\n",
              "    </tr>\n",
              "    <tr>\n",
              "      <th>2004-10-04</th>\n",
              "      <td>1076.80</td>\n",
              "      <td>2.653364</td>\n",
              "      <td>18.5375</td>\n",
              "      <td>11.022214</td>\n",
              "      <td>29.406966</td>\n",
              "      <td>1101096.0</td>\n",
              "    </tr>\n",
              "    <tr>\n",
              "      <th>2004-10-05</th>\n",
              "      <td>1080.20</td>\n",
              "      <td>2.764549</td>\n",
              "      <td>18.9275</td>\n",
              "      <td>13.432900</td>\n",
              "      <td>31.082611</td>\n",
              "      <td>1861397.0</td>\n",
              "    </tr>\n",
              "    <tr>\n",
              "      <th>2004-10-06</th>\n",
              "      <td>1081.15</td>\n",
              "      <td>2.797834</td>\n",
              "      <td>19.8775</td>\n",
              "      <td>15.229562</td>\n",
              "      <td>33.012967</td>\n",
              "      <td>2677803.0</td>\n",
              "    </tr>\n",
              "    <tr>\n",
              "      <th>2004-10-07</th>\n",
              "      <td>1096.75</td>\n",
              "      <td>3.383456</td>\n",
              "      <td>19.8075</td>\n",
              "      <td>17.605517</td>\n",
              "      <td>34.805440</td>\n",
              "      <td>3134018.0</td>\n",
              "    </tr>\n",
              "    <tr>\n",
              "      <th>...</th>\n",
              "      <td>...</td>\n",
              "      <td>...</td>\n",
              "      <td>...</td>\n",
              "      <td>...</td>\n",
              "      <td>...</td>\n",
              "      <td>...</td>\n",
              "    </tr>\n",
              "    <tr>\n",
              "      <th>2021-03-17</th>\n",
              "      <td>3112.70</td>\n",
              "      <td>1.239575</td>\n",
              "      <td>86.1700</td>\n",
              "      <td>-2.973397</td>\n",
              "      <td>26.936046</td>\n",
              "      <td>52533504.0</td>\n",
              "    </tr>\n",
              "    <tr>\n",
              "      <th>2021-03-18</th>\n",
              "      <td>3036.80</td>\n",
              "      <td>0.903269</td>\n",
              "      <td>89.8575</td>\n",
              "      <td>-4.630507</td>\n",
              "      <td>26.565250</td>\n",
              "      <td>52439401.0</td>\n",
              "    </tr>\n",
              "    <tr>\n",
              "      <th>2021-03-19</th>\n",
              "      <td>3063.25</td>\n",
              "      <td>1.004569</td>\n",
              "      <td>91.1975</td>\n",
              "      <td>-3.766072</td>\n",
              "      <td>26.220940</td>\n",
              "      <td>52641475.0</td>\n",
              "    </tr>\n",
              "    <tr>\n",
              "      <th>2021-03-22</th>\n",
              "      <td>3129.60</td>\n",
              "      <td>1.276831</td>\n",
              "      <td>93.8300</td>\n",
              "      <td>2.246987</td>\n",
              "      <td>25.189959</td>\n",
              "      <td>52777745.0</td>\n",
              "    </tr>\n",
              "    <tr>\n",
              "      <th>2021-03-23</th>\n",
              "      <td>3142.05</td>\n",
              "      <td>1.331568</td>\n",
              "      <td>88.8300</td>\n",
              "      <td>7.925629</td>\n",
              "      <td>23.756729</td>\n",
              "      <td>52842633.0</td>\n",
              "    </tr>\n",
              "  </tbody>\n",
              "</table>\n",
              "<p>4088 rows × 6 columns</p>\n",
              "</div>"
            ],
            "text/plain": [
              "              Close       RSI      ATR       MACD        adx         OBV\n",
              "Date                                                                    \n",
              "2004-10-01  1048.25  1.781982  17.4850   8.086665  27.865725    485611.0\n",
              "2004-10-04  1076.80  2.653364  18.5375  11.022214  29.406966   1101096.0\n",
              "2004-10-05  1080.20  2.764549  18.9275  13.432900  31.082611   1861397.0\n",
              "2004-10-06  1081.15  2.797834  19.8775  15.229562  33.012967   2677803.0\n",
              "2004-10-07  1096.75  3.383456  19.8075  17.605517  34.805440   3134018.0\n",
              "...             ...       ...      ...        ...        ...         ...\n",
              "2021-03-17  3112.70  1.239575  86.1700  -2.973397  26.936046  52533504.0\n",
              "2021-03-18  3036.80  0.903269  89.8575  -4.630507  26.565250  52439401.0\n",
              "2021-03-19  3063.25  1.004569  91.1975  -3.766072  26.220940  52641475.0\n",
              "2021-03-22  3129.60  1.276831  93.8300   2.246987  25.189959  52777745.0\n",
              "2021-03-23  3142.05  1.331568  88.8300   7.925629  23.756729  52842633.0\n",
              "\n",
              "[4088 rows x 6 columns]"
            ]
          },
          "metadata": {
            "tags": []
          },
          "execution_count": 486
        }
      ]
    },
    {
      "cell_type": "code",
      "metadata": {
        "id": "zCMp_lGQ9wAt"
      },
      "source": [
        "df['Stock_Returns'] = df.Close.pct_change(1).mul(100)\n",
        "df = df[1:]"
      ],
      "execution_count": 487,
      "outputs": []
    },
    {
      "cell_type": "code",
      "metadata": {
        "colab": {
          "base_uri": "https://localhost:8080/",
          "height": 233
        },
        "id": "6cNJ44H_99KJ",
        "outputId": "7f1927b5-fa17-4396-d22d-00fa4b5c1627"
      },
      "source": [
        "df.head()"
      ],
      "execution_count": 488,
      "outputs": [
        {
          "output_type": "execute_result",
          "data": {
            "text/html": [
              "<div>\n",
              "<style scoped>\n",
              "    .dataframe tbody tr th:only-of-type {\n",
              "        vertical-align: middle;\n",
              "    }\n",
              "\n",
              "    .dataframe tbody tr th {\n",
              "        vertical-align: top;\n",
              "    }\n",
              "\n",
              "    .dataframe thead th {\n",
              "        text-align: right;\n",
              "    }\n",
              "</style>\n",
              "<table border=\"1\" class=\"dataframe\">\n",
              "  <thead>\n",
              "    <tr style=\"text-align: right;\">\n",
              "      <th></th>\n",
              "      <th>Close</th>\n",
              "      <th>RSI</th>\n",
              "      <th>ATR</th>\n",
              "      <th>MACD</th>\n",
              "      <th>adx</th>\n",
              "      <th>OBV</th>\n",
              "      <th>Stock_Returns</th>\n",
              "    </tr>\n",
              "    <tr>\n",
              "      <th>Date</th>\n",
              "      <th></th>\n",
              "      <th></th>\n",
              "      <th></th>\n",
              "      <th></th>\n",
              "      <th></th>\n",
              "      <th></th>\n",
              "      <th></th>\n",
              "    </tr>\n",
              "  </thead>\n",
              "  <tbody>\n",
              "    <tr>\n",
              "      <th>2004-10-04</th>\n",
              "      <td>1076.80</td>\n",
              "      <td>2.653364</td>\n",
              "      <td>18.5375</td>\n",
              "      <td>11.022214</td>\n",
              "      <td>29.406966</td>\n",
              "      <td>1101096.0</td>\n",
              "      <td>2.723587</td>\n",
              "    </tr>\n",
              "    <tr>\n",
              "      <th>2004-10-05</th>\n",
              "      <td>1080.20</td>\n",
              "      <td>2.764549</td>\n",
              "      <td>18.9275</td>\n",
              "      <td>13.432900</td>\n",
              "      <td>31.082611</td>\n",
              "      <td>1861397.0</td>\n",
              "      <td>0.315750</td>\n",
              "    </tr>\n",
              "    <tr>\n",
              "      <th>2004-10-06</th>\n",
              "      <td>1081.15</td>\n",
              "      <td>2.797834</td>\n",
              "      <td>19.8775</td>\n",
              "      <td>15.229562</td>\n",
              "      <td>33.012967</td>\n",
              "      <td>2677803.0</td>\n",
              "      <td>0.087947</td>\n",
              "    </tr>\n",
              "    <tr>\n",
              "      <th>2004-10-07</th>\n",
              "      <td>1096.75</td>\n",
              "      <td>3.383456</td>\n",
              "      <td>19.8075</td>\n",
              "      <td>17.605517</td>\n",
              "      <td>34.805440</td>\n",
              "      <td>3134018.0</td>\n",
              "      <td>1.442908</td>\n",
              "    </tr>\n",
              "    <tr>\n",
              "      <th>2004-10-08</th>\n",
              "      <td>1097.80</td>\n",
              "      <td>3.425688</td>\n",
              "      <td>20.1075</td>\n",
              "      <td>19.336971</td>\n",
              "      <td>36.735526</td>\n",
              "      <td>3590849.0</td>\n",
              "      <td>0.095737</td>\n",
              "    </tr>\n",
              "  </tbody>\n",
              "</table>\n",
              "</div>"
            ],
            "text/plain": [
              "              Close       RSI      ATR       MACD        adx        OBV  \\\n",
              "Date                                                                      \n",
              "2004-10-04  1076.80  2.653364  18.5375  11.022214  29.406966  1101096.0   \n",
              "2004-10-05  1080.20  2.764549  18.9275  13.432900  31.082611  1861397.0   \n",
              "2004-10-06  1081.15  2.797834  19.8775  15.229562  33.012967  2677803.0   \n",
              "2004-10-07  1096.75  3.383456  19.8075  17.605517  34.805440  3134018.0   \n",
              "2004-10-08  1097.80  3.425688  20.1075  19.336971  36.735526  3590849.0   \n",
              "\n",
              "            Stock_Returns  \n",
              "Date                       \n",
              "2004-10-04       2.723587  \n",
              "2004-10-05       0.315750  \n",
              "2004-10-06       0.087947  \n",
              "2004-10-07       1.442908  \n",
              "2004-10-08       0.095737  "
            ]
          },
          "metadata": {
            "tags": []
          },
          "execution_count": 488
        }
      ]
    },
    {
      "cell_type": "markdown",
      "metadata": {
        "id": "ACI5rnn5AwrZ"
      },
      "source": [
        "\n",
        "\n",
        "> ADF Test on returns\n",
        "\n"
      ]
    },
    {
      "cell_type": "code",
      "metadata": {
        "colab": {
          "base_uri": "https://localhost:8080/"
        },
        "id": "nmjAXTu2-mhb",
        "outputId": "30e34939-cdb9-405a-fcab-e9cf2fc22eb2"
      },
      "source": [
        "print(adf_test(df['Stock_Returns'], title='ADF Test for Stock market Returns'))"
      ],
      "execution_count": 489,
      "outputs": [
        {
          "output_type": "stream",
          "text": [
            "(-14.15125563805675, 2.1598919973094363e-26, 31, 4055, {'1%': -3.4319636730977967, '5%': -2.862253032448362, '10%': -2.567149554309502}, 18493.250093531162)\n",
            "ADF test statistic     -1.415126e+01\n",
            "p-value                 2.159892e-26\n",
            "# lags used             3.100000e+01\n",
            "#observations           4.055000e+03\n",
            "critical value (1%)    -3.431964e+00\n",
            "critical value (5%)    -2.862253e+00\n",
            "critical value (10%)   -2.567150e+00\n",
            "Data is stationary\n"
          ],
          "name": "stdout"
        }
      ]
    },
    {
      "cell_type": "markdown",
      "metadata": {
        "id": "xcpDLNjVBTGD"
      },
      "source": [
        "### ACF and PACF for Returns"
      ]
    },
    {
      "cell_type": "code",
      "metadata": {
        "colab": {
          "base_uri": "https://localhost:8080/",
          "height": 0
        },
        "id": "Fg3N8NtD-mmP",
        "outputId": "94d67e30-e61a-442c-ef8e-da5b307545c4"
      },
      "source": [
        "plot_acf(df['Stock_Returns'], 'ACF on Closing Return')"
      ],
      "execution_count": 490,
      "outputs": [
        {
          "output_type": "display_data",
          "data": {
            "image/png": "[encoded data removed]",
            "text/plain": [
              "<Figure size 432x288 with 1 Axes>"
            ]
          },
          "metadata": {
            "tags": [],
            "needs_background": "light"
          }
        }
      ]
    },
    {
      "cell_type": "code",
      "metadata": {
        "colab": {
          "base_uri": "https://localhost:8080/",
          "height": 0
        },
        "id": "MPStPVSI-mxO",
        "outputId": "728360c7-a968-40c6-bd76-9a6e83c1c5f9"
      },
      "source": [
        "plot_pacf(df['Stock_Returns'], 'PACF on Closing Return')"
      ],
      "execution_count": 491,
      "outputs": [
        {
          "output_type": "display_data",
          "data": {
            "image/png": "[encoded data removed]",
            "text/plain": [
              "<Figure size 432x288 with 1 Axes>"
            ]
          },
          "metadata": {
            "tags": [],
            "needs_background": "light"
          }
        }
      ]
    },
    {
      "cell_type": "markdown",
      "metadata": {
        "id": "FfOKJLFIDhIL"
      },
      "source": [
        "### AR(1) model for returns"
      ]
    },
    {
      "cell_type": "code",
      "metadata": {
        "colab": {
          "base_uri": "https://localhost:8080/"
        },
        "id": "yvIPCGNCH8DV",
        "outputId": "a082aa35-7a45-4fd5-f25f-073169c71172"
      },
      "source": [
        "df['Stock_Returns'].describe()"
      ],
      "execution_count": 492,
      "outputs": [
        {
          "output_type": "execute_result",
          "data": {
            "text/plain": [
              "count    4087.000000\n",
              "mean        0.059877\n",
              "std         2.362673\n",
              "min       -50.981169\n",
              "25%        -0.881477\n",
              "50%         0.072126\n",
              "75%         1.037957\n",
              "max        15.336716\n",
              "Name: Stock_Returns, dtype: float64"
            ]
          },
          "metadata": {
            "tags": []
          },
          "execution_count": 492
        }
      ]
    },
    {
      "cell_type": "code",
      "metadata": {
        "id": "iFPpy1rK_SvU"
      },
      "source": [
        "train_returns_data, test_returns_data = TrainTestSplitByDateRange(df.Stock_Returns)\n",
        "\n",
        "start = len(train_returns_data)\n",
        "end = len(train_returns_data) + len(test_returns_data) - 1\n",
        "\n",
        "test_start_date = '2020-03-02'\n",
        "test_end_date = '2021-03-23'\n",
        "\n",
        "index = test_returns_data.index"
      ],
      "execution_count": 493,
      "outputs": []
    },
    {
      "cell_type": "code",
      "metadata": {
        "colab": {
          "base_uri": "https://localhost:8080/"
        },
        "id": "LRg99NcwBsUd",
        "outputId": "fde6b07b-f9f2-4e98-e5dd-b67f8172c0ca"
      },
      "source": [
        "test_returns_data.head()"
      ],
      "execution_count": 494,
      "outputs": [
        {
          "output_type": "execute_result",
          "data": {
            "text/plain": [
              "Date\n",
              "2020-03-03    1.950098\n",
              "2020-03-04    2.170288\n",
              "2020-03-05    2.004176\n",
              "2020-03-06   -0.329427\n",
              "2020-03-09   -6.879456\n",
              "Name: Stock_Returns, dtype: float64"
            ]
          },
          "metadata": {
            "tags": []
          },
          "execution_count": 494
        }
      ]
    },
    {
      "cell_type": "code",
      "metadata": {
        "colab": {
          "base_uri": "https://localhost:8080/"
        },
        "id": "k6uTfcXU_5Aq",
        "outputId": "fc3d1cf0-d462-4628-f33d-5caaf9915160"
      },
      "source": [
        "AR_Model_returns = AR(train_returns_data)\n",
        "result_ar_returns = AR_Model_returns.fit(maxlag=1)\n",
        "print(result_ar_returns.params)\n",
        "predictions_returns_1 = result_ar_returns.predict(start = start, end = end)"
      ],
      "execution_count": 495,
      "outputs": [
        {
          "output_type": "stream",
          "text": [
            "const               0.049095\n",
            "L1.Stock_Returns    0.014347\n",
            "dtype: float64\n"
          ],
          "name": "stdout"
        }
      ]
    },
    {
      "cell_type": "code",
      "metadata": {
        "colab": {
          "base_uri": "https://localhost:8080/"
        },
        "id": "bQ-V2-VzFYZW",
        "outputId": "2912c752-652f-45ce-9d4d-9e7eceb91635"
      },
      "source": [
        "predictions_returns_1.head()"
      ],
      "execution_count": 496,
      "outputs": [
        {
          "output_type": "execute_result",
          "data": {
            "text/plain": [
              "3823    0.048342\n",
              "3824    0.049788\n",
              "3825    0.049809\n",
              "3826    0.049809\n",
              "3827    0.049809\n",
              "dtype: float64"
            ]
          },
          "metadata": {
            "tags": []
          },
          "execution_count": 496
        }
      ]
    },
    {
      "cell_type": "code",
      "metadata": {
        "id": "v9MwjijPAfC0"
      },
      "source": [
        "predictions_returns_1 = modified_prediction_frame(predictions_returns_1,index)"
      ],
      "execution_count": 497,
      "outputs": []
    },
    {
      "cell_type": "code",
      "metadata": {
        "colab": {
          "base_uri": "https://localhost:8080/",
          "height": 233
        },
        "id": "IrYa2QeMAfC1",
        "outputId": "09905a5f-556a-4085-e8b4-ea4049009c0c"
      },
      "source": [
        "predictions_returns_1.head()"
      ],
      "execution_count": 498,
      "outputs": [
        {
          "output_type": "execute_result",
          "data": {
            "text/html": [
              "<div>\n",
              "<style scoped>\n",
              "    .dataframe tbody tr th:only-of-type {\n",
              "        vertical-align: middle;\n",
              "    }\n",
              "\n",
              "    .dataframe tbody tr th {\n",
              "        vertical-align: top;\n",
              "    }\n",
              "\n",
              "    .dataframe thead th {\n",
              "        text-align: right;\n",
              "    }\n",
              "</style>\n",
              "<table border=\"1\" class=\"dataframe\">\n",
              "  <thead>\n",
              "    <tr style=\"text-align: right;\">\n",
              "      <th></th>\n",
              "      <th>Predicted</th>\n",
              "    </tr>\n",
              "    <tr>\n",
              "      <th>Date</th>\n",
              "      <th></th>\n",
              "    </tr>\n",
              "  </thead>\n",
              "  <tbody>\n",
              "    <tr>\n",
              "      <th>2020-03-03</th>\n",
              "      <td>0.048342</td>\n",
              "    </tr>\n",
              "    <tr>\n",
              "      <th>2020-03-04</th>\n",
              "      <td>0.049788</td>\n",
              "    </tr>\n",
              "    <tr>\n",
              "      <th>2020-03-05</th>\n",
              "      <td>0.049809</td>\n",
              "    </tr>\n",
              "    <tr>\n",
              "      <th>2020-03-06</th>\n",
              "      <td>0.049809</td>\n",
              "    </tr>\n",
              "    <tr>\n",
              "      <th>2020-03-09</th>\n",
              "      <td>0.049809</td>\n",
              "    </tr>\n",
              "  </tbody>\n",
              "</table>\n",
              "</div>"
            ],
            "text/plain": [
              "            Predicted\n",
              "Date                 \n",
              "2020-03-03   0.048342\n",
              "2020-03-04   0.049788\n",
              "2020-03-05   0.049809\n",
              "2020-03-06   0.049809\n",
              "2020-03-09   0.049809"
            ]
          },
          "metadata": {
            "tags": []
          },
          "execution_count": 498
        }
      ]
    },
    {
      "cell_type": "code",
      "metadata": {
        "colab": {
          "base_uri": "https://localhost:8080/"
        },
        "id": "zkFfMyJYAfC2",
        "outputId": "b4a7c847-6afe-467f-f7d0-56e0c91e773a"
      },
      "source": [
        "print(result_ar_returns.summary())\n",
        "errorEvaluation(test_returns_data,predictions_returns_1)"
      ],
      "execution_count": 499,
      "outputs": [
        {
          "output_type": "stream",
          "text": [
            "                               AR Model Results                               \n",
            "==============================================================================\n",
            "Dep. Variable:                      S  -                  t                  o\n",
            "Model:                          AR(1)   Log Likelihood               -8725.810\n",
            "Method:                          cmle   S.D. of innovations              2.373\n",
            "Date:                Fri, 16 Jul 2021   AIC                              1.730\n",
            "Time:                        12:13:01   BIC                              1.735\n",
            "Sample:                             0   HQIC                             1.732\n",
            "                                                                              \n",
            "====================================================================================\n",
            "                       coef    std err          z      P>|z|      [0.025      0.975]\n",
            "------------------------------------------------------------------------------------\n",
            "const                0.0491      0.038      1.278      0.201      -0.026       0.124\n",
            "L1.Stock_Returns     0.0143      0.016      0.887      0.375      -0.017       0.046\n",
            "                                    Roots                                    \n",
            "=============================================================================\n",
            "                  Real          Imaginary           Modulus         Frequency\n",
            "-----------------------------------------------------------------------------\n",
            "AR.1           69.6991           +0.0000j           69.6991            0.0000\n",
            "-----------------------------------------------------------------------------\n",
            "RMSE: 2.199849179310841\n",
            "MAPE: 1.1103415400257095\n",
            "R2 Score: -0.004402491243101547\n"
          ],
          "name": "stdout"
        }
      ]
    },
    {
      "cell_type": "code",
      "metadata": {
        "colab": {
          "base_uri": "https://localhost:8080/",
          "height": 515
        },
        "id": "NfA_tSdtAfC2",
        "outputId": "049ccf9a-a0d4-4038-deb0-b7a75c4553c0"
      },
      "source": [
        "predictions_returns_1.plot(legend=True, label = 'Predicted', figsize = (12,8))\n",
        "test_returns_data.plot(legend=True, label = 'Actual', figsize = (12,8))"
      ],
      "execution_count": 354,
      "outputs": [
        {
          "output_type": "execute_result",
          "data": {
            "text/plain": [
              "<matplotlib.axes._subplots.AxesSubplot at 0x7f6139f7c350>"
            ]
          },
          "metadata": {
            "tags": []
          },
          "execution_count": 354
        },
        {
          "output_type": "display_data",
          "data": {
            "image/png": "[encoded data removed]",
            "text/plain": [
              "<Figure size 864x576 with 1 Axes>"
            ]
          },
          "metadata": {
            "tags": [],
            "needs_background": "light"
          }
        }
      ]
    },
    {
      "cell_type": "markdown",
      "metadata": {
        "id": "PRpCyHIaNHMH"
      },
      "source": [
        "# Normalizing values and returns"
      ]
    },
    {
      "cell_type": "code",
      "metadata": {
        "id": "zVgn5xLT-mMg"
      },
      "source": [
        "benchmark_prices = df.Close.iloc[0]\n",
        "Normalized_prices = df.Close.div(benchmark_prices).mul(100)\n",
        "\n",
        "#actual_returns_normal = Normalized_prices.loc[test_start_date:test_end_date]\n",
        "print(benchmark_prices)\n",
        "print(Normalized_prices)\n",
        "df['Normal_Prices'] = Normalized_prices\n",
        "df.head()\n"
      ],
      "execution_count": null,
      "outputs": []
    },
    {
      "cell_type": "code",
      "metadata": {
        "colab": {
          "base_uri": "https://localhost:8080/",
          "height": 194
        },
        "id": "X_mRY6EYOS27",
        "outputId": "6642e3ed-87ca-4108-902a-359b7306f7ba"
      },
      "source": [
        "adf_test(Normalized_prices)"
      ],
      "execution_count": 358,
      "outputs": [
        {
          "output_type": "stream",
          "text": [
            "(-1.5270429236733392, 0.5200937126225964, 0, 4086, {'1%': -3.4319514226461165, '5%': -2.862247620807516, '10%': -2.567146673389478}, 22931.364080142004)\n",
            "ADF test statistic        -1.527043\n",
            "p-value                    0.520094\n",
            "# lags used                0.000000\n",
            "#observations           4086.000000\n",
            "critical value (1%)       -3.431951\n",
            "critical value (5%)       -2.862248\n",
            "critical value (10%)      -2.567147\n"
          ],
          "name": "stdout"
        },
        {
          "output_type": "execute_result",
          "data": {
            "application/vnd.google.colaboratory.intrinsic+json": {
              "type": "string"
            },
            "text/plain": [
              "'Data is non-stationary'"
            ]
          },
          "metadata": {
            "tags": []
          },
          "execution_count": 358
        }
      ]
    },
    {
      "cell_type": "code",
      "metadata": {
        "colab": {
          "base_uri": "https://localhost:8080/"
        },
        "id": "ko2le_jMOrgV",
        "outputId": "93ca05df-a9b7-4d48-f142-7bc4c9f308b1"
      },
      "source": [
        "model_ar_normal_1 = ARMA(Normalized_prices, order = (1,0))\n",
        "result_ar_normal_1 = model_ar_normal_1.fit()\n",
        "df_pred_normal_1 = result_ar_normal_1.predict(start = test_start_date, end = test_end_date)\n",
        "print(result_ar_normal_1.summary())"
      ],
      "execution_count": 87,
      "outputs": [
        {
          "output_type": "stream",
          "text": [
            "                              ARMA Model Results                              \n",
            "==============================================================================\n",
            "Dep. Variable:                  Close   No. Observations:                 4088\n",
            "Model:                     ARMA(1, 0)   Log Likelihood              -11655.208\n",
            "Method:                       css-mle   S.D. of innovations              4.185\n",
            "Date:                Fri, 16 Jul 2021   AIC                          23316.416\n",
            "Time:                        08:35:51   BIC                          23335.364\n",
            "Sample:                             0   HQIC                         23323.125\n",
            "                                                                              \n",
            "===============================================================================\n",
            "                  coef    std err          z      P>|z|      [0.025      0.975]\n",
            "-------------------------------------------------------------------------------\n",
            "const         170.3193     36.565      4.658      0.000      98.654     241.984\n",
            "ar.L1.Close     0.9984      0.001   1136.775      0.000       0.997       1.000\n",
            "                                    Roots                                    \n",
            "=============================================================================\n",
            "                  Real          Imaginary           Modulus         Frequency\n",
            "-----------------------------------------------------------------------------\n",
            "AR.1            1.0016           +0.0000j            1.0016            0.0000\n",
            "-----------------------------------------------------------------------------\n"
          ],
          "name": "stdout"
        }
      ]
    },
    {
      "cell_type": "code",
      "metadata": {
        "colab": {
          "base_uri": "https://localhost:8080/"
        },
        "id": "AC7VsBu5Z2zx",
        "outputId": "c1cb73f9-cda9-47ce-a119-d001ce1def33"
      },
      "source": [
        "errorEvaluation(actual_returns_normal, df_pred_normal_1)"
      ],
      "execution_count": 83,
      "outputs": [
        {
          "output_type": "stream",
          "text": [
            "RMSE: 4.5937907915815\n",
            "MAPE: 0.01506300847118482\n",
            "R2 Score: 0.9893962757102988\n"
          ],
          "name": "stdout"
        }
      ]
    },
    {
      "cell_type": "code",
      "metadata": {
        "colab": {
          "base_uri": "https://localhost:8080/",
          "height": 515
        },
        "id": "Z6_rdMrjfK_h",
        "outputId": "f31ce3f3-dafb-4294-80ae-7aba2e35dde4"
      },
      "source": [
        "# df_pred_normal_1.plot(figsize = (12,8))\n",
        "# actual_returns_normal.plot(figsize = (12,8))\n",
        "df_pred_normal_1.plot(legend=True, label = 'Predicted', figsize = (12,8))\n",
        "actual_returns_normal.plot(legend=True, label = 'Actual', figsize = (12,8))"
      ],
      "execution_count": 78,
      "outputs": [
        {
          "output_type": "execute_result",
          "data": {
            "text/plain": [
              "<matplotlib.axes._subplots.AxesSubplot at 0x7f613fa79690>"
            ]
          },
          "metadata": {
            "tags": []
          },
          "execution_count": 78
        },
        {
          "output_type": "display_data",
          "data": {
            "image/png": "[encoded data removed]",
            "text/plain": [
              "<Figure size 864x576 with 1 Axes>"
            ]
          },
          "metadata": {
            "tags": [],
            "needs_background": "light"
          }
        }
      ]
    },
    {
      "cell_type": "code",
      "metadata": {
        "id": "mdVyGtljOrgX"
      },
      "source": [
        "model_ar_normal_8 = ARMA(Normalized_prices, order = (8,0))\n",
        "result_ar_normal_8 = model_ar_normal_8.fit()\n",
        "df_pred_normal_8 = result_ar_normal_8.predict(start = test_start_date, end = test_end_date)\n",
        "#print(result_ar_normal_8.summary())"
      ],
      "execution_count": 88,
      "outputs": []
    },
    {
      "cell_type": "code",
      "metadata": {
        "colab": {
          "base_uri": "https://localhost:8080/"
        },
        "id": "XfLzgwCMcjkr",
        "outputId": "308e22c4-c6f8-4641-a2f5-df7f86b74a3c"
      },
      "source": [
        "errorEvaluation(actual_returns_normal, df_pred_normal_8)"
      ],
      "execution_count": 90,
      "outputs": [
        {
          "output_type": "stream",
          "text": [
            "RMSE: 4.592630901466173\n",
            "MAPE: 0.015018818168997876\n",
            "R2 Score: 0.9894016297208905\n"
          ],
          "name": "stdout"
        }
      ]
    },
    {
      "cell_type": "markdown",
      "metadata": {
        "id": "5hag2lgNffX-"
      },
      "source": [
        "### Auto Arima Functionality"
      ]
    },
    {
      "cell_type": "code",
      "metadata": {
        "colab": {
          "base_uri": "https://localhost:8080/",
          "height": 0
        },
        "id": "vzEKllCzUpZ_",
        "outputId": "96c2fb1d-0e9e-4ae6-8e26-96afb2c664dc"
      },
      "source": [
        "stepwise_fit = auto_arima(ScriptWiseData[Stock].Close, start_p=0, start_q=0, max_p=6, max_q = 3, seasonal= False, trace=True)\n",
        "stepwise_fit.summary()"
      ],
      "execution_count": 165,
      "outputs": [
        {
          "output_type": "stream",
          "text": [
            "Performing stepwise search to minimize aic\n",
            " ARIMA(0,1,0)(0,0,0)[0] intercept   : AIC=46263.458, Time=0.10 sec\n",
            " ARIMA(1,1,0)(0,0,0)[0] intercept   : AIC=46265.446, Time=0.17 sec\n",
            " ARIMA(0,1,1)(0,0,0)[0] intercept   : AIC=46265.447, Time=0.37 sec\n",
            " ARIMA(0,1,0)(0,0,0)[0]             : AIC=46261.460, Time=0.09 sec\n",
            " ARIMA(1,1,1)(0,0,0)[0] intercept   : AIC=46267.447, Time=0.57 sec\n",
            "\n",
            "Best model:  ARIMA(0,1,0)(0,0,0)[0]          \n",
            "Total fit time: 1.311 seconds\n"
          ],
          "name": "stdout"
        },
        {
          "output_type": "execute_result",
          "data": {
            "text/html": [
              "<table class=\"simpletable\">\n",
              "<caption>SARIMAX Results</caption>\n",
              "<tr>\n",
              "  <th>Dep. Variable:</th>           <td>y</td>        <th>  No. Observations:  </th>    <td>4708</td>   \n",
              "</tr>\n",
              "<tr>\n",
              "  <th>Model:</th>           <td>SARIMAX(0, 1, 0)</td> <th>  Log Likelihood     </th> <td>-23129.730</td>\n",
              "</tr>\n",
              "<tr>\n",
              "  <th>Date:</th>            <td>Wed, 14 Jul 2021</td> <th>  AIC                </th>  <td>46261.460</td>\n",
              "</tr>\n",
              "<tr>\n",
              "  <th>Time:</th>                <td>12:03:53</td>     <th>  BIC                </th>  <td>46267.917</td>\n",
              "</tr>\n",
              "<tr>\n",
              "  <th>Sample:</th>                  <td>0</td>        <th>  HQIC               </th>  <td>46263.730</td>\n",
              "</tr>\n",
              "<tr>\n",
              "  <th></th>                      <td> - 4708</td>     <th>                     </th>      <td> </td>    \n",
              "</tr>\n",
              "<tr>\n",
              "  <th>Covariance Type:</th>        <td>opg</td>       <th>                     </th>      <td> </td>    \n",
              "</tr>\n",
              "</table>\n",
              "<table class=\"simpletable\">\n",
              "<tr>\n",
              "     <td></td>       <th>coef</th>     <th>std err</th>      <th>z</th>      <th>P>|z|</th>  <th>[0.025</th>    <th>0.975]</th>  \n",
              "</tr>\n",
              "<tr>\n",
              "  <th>sigma2</th> <td> 1085.4085</td> <td>    0.711</td> <td> 1526.979</td> <td> 0.000</td> <td> 1084.015</td> <td> 1086.802</td>\n",
              "</tr>\n",
              "</table>\n",
              "<table class=\"simpletable\">\n",
              "<tr>\n",
              "  <th>Ljung-Box (L1) (Q):</th>     <td>0.01</td> <th>  Jarque-Bera (JB):  </th> <td>768804220.46</td>\n",
              "</tr>\n",
              "<tr>\n",
              "  <th>Prob(Q):</th>                <td>0.91</td> <th>  Prob(JB):          </th>     <td>0.00</td>    \n",
              "</tr>\n",
              "<tr>\n",
              "  <th>Heteroskedasticity (H):</th> <td>0.41</td> <th>  Skew:              </th>    <td>-37.00</td>   \n",
              "</tr>\n",
              "<tr>\n",
              "  <th>Prob(H) (two-sided):</th>    <td>0.00</td> <th>  Kurtosis:          </th>    <td>1981.51</td>  \n",
              "</tr>\n",
              "</table><br/><br/>Warnings:<br/>[1] Covariance matrix calculated using the outer product of gradients (complex-step)."
            ],
            "text/plain": [
              "<class 'statsmodels.iolib.summary.Summary'>\n",
              "\"\"\"\n",
              "                               SARIMAX Results                                \n",
              "==============================================================================\n",
              "Dep. Variable:                      y   No. Observations:                 4708\n",
              "Model:               SARIMAX(0, 1, 0)   Log Likelihood              -23129.730\n",
              "Date:                Wed, 14 Jul 2021   AIC                          46261.460\n",
              "Time:                        12:03:53   BIC                          46267.917\n",
              "Sample:                             0   HQIC                         46263.730\n",
              "                               - 4708                                         \n",
              "Covariance Type:                  opg                                         \n",
              "==============================================================================\n",
              "                 coef    std err          z      P>|z|      [0.025      0.975]\n",
              "------------------------------------------------------------------------------\n",
              "sigma2      1085.4085      0.711   1526.979      0.000    1084.015    1086.802\n",
              "===================================================================================\n",
              "Ljung-Box (L1) (Q):                   0.01   Jarque-Bera (JB):         768804220.46\n",
              "Prob(Q):                              0.91   Prob(JB):                         0.00\n",
              "Heteroskedasticity (H):               0.41   Skew:                           -37.00\n",
              "Prob(H) (two-sided):                  0.00   Kurtosis:                      1981.51\n",
              "===================================================================================\n",
              "\n",
              "Warnings:\n",
              "[1] Covariance matrix calculated using the outer product of gradients (complex-step).\n",
              "\"\"\""
            ]
          },
          "metadata": {
            "tags": []
          },
          "execution_count": 165
        }
      ]
    },
    {
      "cell_type": "code",
      "metadata": {
        "colab": {
          "base_uri": "https://localhost:8080/"
        },
        "id": "GQXXi50sVjYt",
        "outputId": "0af81ed0-c915-4bdb-b430-892375ceca58"
      },
      "source": [
        "stepwise_fit_ = auto_arima(ScriptWiseData[Stock].Close, start_p=0, start_q=0, max_p=4, max_q = 4, seasonal= True, trace=True,m=12)\n",
        "stepwise_fit_.order"
      ],
      "execution_count": 166,
      "outputs": [
        {
          "output_type": "stream",
          "text": [
            "Performing stepwise search to minimize aic\n",
            " ARIMA(0,1,0)(1,0,1)[12] intercept   : AIC=46263.922, Time=6.00 sec\n",
            " ARIMA(0,1,0)(0,0,0)[12] intercept   : AIC=46263.458, Time=0.11 sec\n",
            " ARIMA(1,1,0)(1,0,0)[12] intercept   : AIC=46266.431, Time=1.75 sec\n",
            " ARIMA(0,1,1)(0,0,1)[12] intercept   : AIC=46266.393, Time=1.40 sec\n",
            " ARIMA(0,1,0)(0,0,0)[12]             : AIC=46261.460, Time=0.06 sec\n",
            " ARIMA(0,1,0)(1,0,0)[12] intercept   : AIC=46264.446, Time=1.04 sec\n",
            " ARIMA(0,1,0)(0,0,1)[12] intercept   : AIC=46264.406, Time=1.01 sec\n",
            " ARIMA(1,1,0)(0,0,0)[12] intercept   : AIC=46265.446, Time=0.17 sec\n",
            " ARIMA(0,1,1)(0,0,0)[12] intercept   : AIC=46265.447, Time=0.37 sec\n",
            " ARIMA(1,1,1)(0,0,0)[12] intercept   : AIC=46267.447, Time=0.57 sec\n",
            "\n",
            "Best model:  ARIMA(0,1,0)(0,0,0)[12]          \n",
            "Total fit time: 12.531 seconds\n"
          ],
          "name": "stdout"
        },
        {
          "output_type": "execute_result",
          "data": {
            "text/plain": [
              "(0, 1, 0)"
            ]
          },
          "metadata": {
            "tags": []
          },
          "execution_count": 166
        }
      ]
    },
    {
      "cell_type": "markdown",
      "metadata": {
        "id": "Lm1_QrClb5o4"
      },
      "source": [
        "# Amit Sir Code"
      ]
    },
    {
      "cell_type": "code",
      "metadata": {
        "id": "Trsvha3nXbMx"
      },
      "source": [
        "def TrainTestSplitByDateRange(df,test_start_date = '2020-03-02',test_end_date = '2021-03-23'):\n",
        "    train = df.loc[:test_start_date]\n",
        "    test = df.loc[test_start_date:test_end_date]\n",
        "    return train, test[1:]"
      ],
      "execution_count": 91,
      "outputs": []
    },
    {
      "cell_type": "code",
      "metadata": {
        "id": "-ztRfCUjZfZn"
      },
      "source": [
        "train, test = TrainTestSplitByDateRange(ScriptWiseData[Stock])\n",
        "len(train)\n",
        "test"
      ],
      "execution_count": null,
      "outputs": []
    },
    {
      "cell_type": "code",
      "metadata": {
        "id": "AMvRSGQAXLGQ"
      },
      "source": [
        "AutoArimaResults = pd.DataFrame(columns=['p', 'd', 'q'], index = stocks)\n",
        "AutoArimaResults"
      ],
      "execution_count": null,
      "outputs": []
    },
    {
      "cell_type": "code",
      "metadata": {
        "id": "v9_P5ZPJXEHT"
      },
      "source": [
        "def CalculateAutoArima(stockcode, data):\n",
        "    if(AutoArimaResults.isnull().sum(axis=1)[stockcode] > 0):\n",
        "        params = auto_arima(data['Close'], maxiter = 1000)\n",
        "        AutoArimaResults.loc[stockcode, ['p', 'd', 'q']] = params.order\n",
        "        return params.order\n",
        "    else:\n",
        "        return tuple(AutoArimaResults.loc[stockcode, ['p', 'd', 'q']])"
      ],
      "execution_count": 96,
      "outputs": []
    },
    {
      "cell_type": "code",
      "metadata": {
        "id": "WXYM0cKmWx9E"
      },
      "source": [
        "# def ARIMAXProcedure(stockCode):\n",
        "#     dataSet = ScriptWiseData[stockCode]\n",
        "#     train, test = TrainTestSplitByDateRange(dataSet)\n",
        "#     ARIMAXModel = ARIMA(dataSet.Close, exog = dataSet[TechnicalIndicators], order = CalculateAutoArima(stockCode, dataSet))\n",
        "#     ARIMAXModel = ARIMAXModel.fit()\n",
        "#     df_pred = ARIMAXModel.predict(start = start_date, end = end_date, exog = test[TechnicalIndicators])\n",
        "#     return ARIMAXModel, df_pred\n",
        "def ARIMAXProcedure(stockCode):\n",
        "    dataSet = ScriptWiseData[stockCode]\n",
        "    train, test = TrainTestSplitByDateRange(dataSet)\n",
        "    ARIMAXModel = ARIMA(dataSet.Close, exog = dataSet[TechnicalIndicators], order = CalculateAutoArima(stockCode, dataSet))\n",
        "    ARIMAXModel = ARIMAXModel.fit()\n",
        "    df_pred = ARIMAXModel.predict(start = start_date, end = end_date, exog = test[TechnicalIndicators])\n",
        "    return ARIMAXModel, df_pred"
      ],
      "execution_count": 111,
      "outputs": []
    },
    {
      "cell_type": "code",
      "metadata": {
        "id": "ev5w1tTaXfan"
      },
      "source": [
        "model, pred = ARIMAXProcedure(Stock)"
      ],
      "execution_count": 112,
      "outputs": []
    },
    {
      "cell_type": "code",
      "metadata": {
        "colab": {
          "base_uri": "https://localhost:8080/"
        },
        "id": "oY62OYAMZGRv",
        "outputId": "67ff5413-605f-4b10-85fa-ebf2cf488966"
      },
      "source": [
        "actual = test.Close\n",
        "print(actual)"
      ],
      "execution_count": 116,
      "outputs": [
        {
          "output_type": "stream",
          "text": [
            "Date\n",
            "2020-03-03    393.35\n",
            "2020-03-04    405.70\n",
            "2020-03-05    404.85\n",
            "2020-03-06    400.90\n",
            "2020-03-09    394.95\n",
            "2020-03-11    386.30\n",
            "2020-03-12    354.85\n",
            "2020-03-13    384.45\n",
            "2020-03-16    368.80\n",
            "2020-03-17    370.55\n",
            "2020-03-18    362.50\n",
            "2020-03-19    360.20\n",
            "2020-03-20    365.80\n",
            "2020-03-23    324.00\n",
            "2020-03-24    335.05\n",
            "2020-03-25    347.05\n",
            "2020-03-26    338.55\n",
            "2020-03-27    338.15\n",
            "2020-03-30    333.65\n",
            "2020-03-31    352.20\n",
            "2020-04-01    343.55\n",
            "2020-04-03    375.90\n",
            "2020-04-07    417.10\n",
            "2020-04-08    436.65\n",
            "2020-04-09    455.20\n",
            "2020-04-13    462.10\n",
            "2020-04-15    448.95\n",
            "2020-04-16    464.10\n",
            "2020-04-17    457.00\n",
            "2020-04-20    473.40\n",
            "2020-04-21    471.95\n",
            "2020-04-22    474.25\n",
            "2020-04-23    477.30\n",
            "2020-04-24    485.25\n",
            "2020-04-27    489.80\n",
            "2020-04-28    473.80\n",
            "2020-04-29    477.85\n",
            "2020-04-30    464.85\n",
            "2020-05-04    465.05\n",
            "2020-05-05    456.35\n",
            "2020-05-06    454.55\n",
            "2020-05-07    452.30\n",
            "2020-05-08    469.00\n",
            "2020-05-11    463.25\n",
            "2020-05-12    463.85\n",
            "2020-05-13    452.40\n",
            "2020-05-14    455.95\n",
            "2020-05-15    448.50\n",
            "2020-05-18    440.65\n",
            "2020-05-19    441.70\n",
            "2020-05-20    455.65\n",
            "2020-05-21    466.25\n",
            "2020-05-22    469.20\n",
            "2020-05-26    459.05\n",
            "2020-05-27    450.55\n",
            "2020-05-28    459.25\n",
            "2020-05-29    475.45\n",
            "2020-06-01    465.15\n",
            "2020-06-02    473.20\n",
            "2020-06-03    476.05\n",
            "2020-06-04    495.00\n",
            "2020-06-05    494.15\n",
            "2020-06-08    488.95\n",
            "2020-06-09    500.55\n",
            "2020-06-10    499.15\n",
            "2020-06-11    473.60\n",
            "2020-06-12    479.80\n",
            "2020-06-15    485.45\n",
            "2020-06-16    482.80\n",
            "2020-06-17    485.85\n",
            "2020-06-18    484.15\n",
            "2020-06-19    487.75\n",
            "2020-06-22    493.10\n",
            "2020-06-23    500.40\n",
            "2020-06-24    484.40\n",
            "2020-06-25    487.65\n",
            "2020-06-26    479.95\n",
            "2020-06-29    481.80\n",
            "2020-06-30    472.95\n",
            "2020-07-01    468.20\n",
            "2020-07-02    473.15\n",
            "2020-07-03    476.90\n",
            "2020-07-06    480.15\n",
            "2020-07-07    479.45\n",
            "2020-07-08    484.00\n",
            "2020-07-09    482.05\n",
            "2020-07-10    493.45\n",
            "2020-07-13    499.65\n",
            "2020-07-14    491.95\n",
            "2020-07-15    494.80\n",
            "2020-07-16    499.25\n",
            "2020-07-17    503.30\n",
            "2020-07-20    483.85\n",
            "2020-07-21    477.25\n",
            "2020-07-22    474.25\n",
            "2020-07-23    476.10\n",
            "2020-07-24    485.40\n",
            "2020-07-27    475.40\n",
            "2020-07-28    482.50\n",
            "2020-07-29    493.00\n",
            "2020-07-30    509.95\n",
            "2020-07-31    531.75\n",
            "2020-08-03    519.80\n",
            "2020-08-04    528.50\n",
            "2020-08-05    529.00\n",
            "2020-08-06    532.20\n",
            "2020-08-07    525.80\n",
            "2020-08-10    543.75\n",
            "2020-08-11    541.05\n",
            "2020-08-12    532.00\n",
            "2020-08-13    520.80\n",
            "2020-08-14    531.45\n",
            "2020-08-17    528.35\n",
            "2020-08-18    526.15\n",
            "2020-08-19    525.45\n",
            "2020-08-20    522.25\n",
            "2020-08-21    532.70\n",
            "2020-08-24    533.35\n",
            "2020-08-25    525.10\n",
            "2020-08-26    524.95\n",
            "2020-08-27    532.90\n",
            "2020-08-28    555.80\n",
            "2020-08-31    518.50\n",
            "2020-09-01    522.30\n",
            "2020-09-02    514.55\n",
            "2020-09-03    523.25\n",
            "2020-09-04    512.30\n",
            "2020-09-07    513.20\n",
            "2020-09-08    502.05\n",
            "2020-09-09    509.10\n",
            "2020-09-10    507.50\n",
            "2020-09-11    505.40\n",
            "2020-09-14    495.80\n",
            "2020-09-15    506.05\n",
            "2020-09-16    518.70\n",
            "2020-09-17    511.85\n",
            "2020-09-18    523.25\n",
            "2020-09-21    503.65\n",
            "2020-09-22    510.45\n",
            "2020-09-23    502.75\n",
            "2020-09-24    485.40\n",
            "2020-09-25    489.45\n",
            "2020-09-28    510.20\n",
            "2020-09-29    505.60\n",
            "2020-09-30    500.50\n",
            "2020-10-01    506.80\n",
            "2020-10-05    523.15\n",
            "2020-10-06    520.80\n",
            "2020-10-07    511.65\n",
            "2020-10-08    524.05\n",
            "2020-10-09    513.15\n",
            "2020-10-12    513.85\n",
            "2020-10-13    503.20\n",
            "2020-10-14    502.00\n",
            "2020-10-15    490.40\n",
            "2020-10-16    486.85\n",
            "2020-10-19    483.60\n",
            "2020-10-20    486.40\n",
            "2020-10-21    489.70\n",
            "2020-10-22    485.65\n",
            "2020-10-23    484.35\n",
            "2020-10-26    474.45\n",
            "2020-10-27    470.70\n",
            "2020-10-28    463.35\n",
            "2020-10-29    456.75\n",
            "2020-10-30    465.75\n",
            "2020-11-02    469.20\n",
            "2020-11-03    485.10\n",
            "2020-11-04    504.30\n",
            "2020-11-05    512.40\n",
            "2020-11-06    508.85\n",
            "2020-11-09    509.95\n",
            "2020-11-10    491.30\n",
            "2020-11-11    506.10\n",
            "2020-11-12    509.05\n",
            "2020-11-13    508.40\n",
            "2020-11-14    514.05\n",
            "2020-11-17    518.00\n",
            "2020-11-18    512.90\n",
            "2020-11-19    507.40\n",
            "2020-11-20    503.00\n",
            "2020-11-23    512.80\n",
            "2020-11-24    519.90\n",
            "2020-11-25    506.35\n",
            "2020-11-26    511.60\n",
            "2020-11-27    511.55\n",
            "2020-12-01    539.75\n",
            "2020-12-02    545.00\n",
            "2020-12-03    548.05\n",
            "2020-12-04    568.85\n",
            "2020-12-07    582.30\n",
            "2020-12-08    568.55\n",
            "2020-12-09    569.55\n",
            "2020-12-10    565.05\n",
            "2020-12-11    568.00\n",
            "2020-12-14    576.05\n",
            "2020-12-15    571.45\n",
            "2020-12-16    576.40\n",
            "2020-12-17    571.35\n",
            "2020-12-18    575.25\n",
            "2020-12-21    552.10\n",
            "2020-12-22    568.10\n",
            "2020-12-23    574.50\n",
            "2020-12-24    589.85\n",
            "2020-12-28    587.55\n",
            "2020-12-29    590.50\n",
            "2020-12-30    584.10\n",
            "2020-12-31    592.35\n",
            "2021-01-01    596.10\n",
            "2021-01-04    604.25\n",
            "2021-01-05    603.15\n",
            "2021-01-06    605.30\n",
            "2021-01-07    601.80\n",
            "2021-01-08    620.70\n",
            "2021-01-11    620.80\n",
            "2021-01-12    609.75\n",
            "2021-01-13    602.10\n",
            "2021-01-14    607.05\n",
            "2021-01-15    604.00\n",
            "2021-01-18    581.40\n",
            "2021-01-19    596.25\n",
            "2021-01-20    594.45\n",
            "2021-01-21    582.85\n",
            "2021-01-22    575.05\n",
            "2021-01-25    586.55\n",
            "2021-01-27    569.80\n",
            "2021-01-28    564.40\n",
            "2021-01-29    586.45\n",
            "2021-02-01    590.10\n",
            "2021-02-02    609.40\n",
            "2021-02-03    629.45\n",
            "2021-02-04    631.50\n",
            "2021-02-05    634.80\n",
            "2021-02-08    634.65\n",
            "2021-02-09    623.70\n",
            "2021-02-10    627.05\n",
            "2021-02-11    643.50\n",
            "2021-02-12    627.25\n",
            "2021-02-15    627.35\n",
            "2021-02-16    631.00\n",
            "2021-02-17    621.20\n",
            "2021-02-18    615.65\n",
            "2021-02-19    607.45\n",
            "2021-02-22    595.75\n",
            "2021-02-23    604.05\n",
            "2021-02-24    602.55\n",
            "2021-02-25    609.70\n",
            "2021-02-26    595.30\n",
            "2021-03-01    604.30\n",
            "2021-03-02    614.40\n",
            "2021-03-03    624.15\n",
            "2021-03-04    618.65\n",
            "2021-03-05    610.95\n",
            "2021-03-08    614.85\n",
            "2021-03-09    611.65\n",
            "2021-03-10    626.00\n",
            "2021-03-12    613.25\n",
            "2021-03-15    605.35\n",
            "2021-03-16    602.05\n",
            "2021-03-17    585.20\n",
            "2021-03-18    574.50\n",
            "2021-03-19    578.60\n",
            "2021-03-22    590.95\n",
            "2021-03-23    587.90\n",
            "Name: Close, dtype: float64\n"
          ],
          "name": "stdout"
        }
      ]
    },
    {
      "cell_type": "code",
      "metadata": {
        "id": "OUJNd40vauMB"
      },
      "source": [
        "pred = pred[1:]"
      ],
      "execution_count": 120,
      "outputs": []
    },
    {
      "cell_type": "code",
      "metadata": {
        "colab": {
          "base_uri": "https://localhost:8080/"
        },
        "id": "flOch70nYB_V",
        "outputId": "50becf6a-9d90-4c25-b384-ee914a8cf890"
      },
      "source": [
        "# print(model)\n",
        " \n",
        "print(sqrt(mean_squared_error(actual, pred)))"
      ],
      "execution_count": 121,
      "outputs": [
        {
          "output_type": "stream",
          "text": [
            "514.7695791489982\n"
          ],
          "name": "stdout"
        }
      ]
    },
    {
      "cell_type": "code",
      "metadata": {
        "id": "6CiqcvJIYHj7"
      },
      "source": [
        ""
      ],
      "execution_count": null,
      "outputs": []
    }
  ]
}