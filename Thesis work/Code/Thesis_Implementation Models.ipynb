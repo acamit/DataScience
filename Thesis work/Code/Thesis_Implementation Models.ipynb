{
  "nbformat": 4,
  "nbformat_minor": 0,
  "metadata": {
    "colab": {
      "name": "Thesis_Implementation Models.ipynb",
      "provenance": [],
      "collapsed_sections": [
        "pSCAtI-QsQC3",
        "isbyxB0RsQDC",
        "wS7xJCpYsQDb",
        "pIDupQCqsQDi",
        "ngJ2AiInsQDr",
        "QHqbBLRXsQDt",
        "g-dEHWHqsQDv",
        "ZuatJ5wSsQD0",
        "Ru8Key50sQD3",
        "tMsWXE90sQDx",
        "JR3DmOZ4sQEf",
        "7crbHcAmsQEh",
        "-gFYa-NAsQEk",
        "Vnn3hoFAsQEn",
        "Fw9UprMlsQEq"
      ]
    },
    "kernelspec": {
      "display_name": "Python 3",
      "language": "python",
      "name": "python3"
    },
    "language_info": {
      "codemirror_mode": {
        "name": "ipython",
        "version": 3
      },
      "file_extension": ".py",
      "mimetype": "text/x-python",
      "name": "python",
      "nbconvert_exporter": "python",
      "pygments_lexer": "ipython3",
      "version": "3.8.5"
    },
    "accelerator": "GPU"
  },
  "cells": [
    {
      "cell_type": "markdown",
      "metadata": {
        "id": "3nlUR9HSSzzI"
      },
      "source": [
        "# Libraries import"
      ]
    },
    {
      "cell_type": "code",
      "metadata": {
        "id": "p1d435E2sQCS"
      },
      "source": [
        "# from google.colab import drive\n",
        "# drive.mount('/content/gdrive')\n",
        "# import os\n",
        "# os.environ['KAGGLE_CONFIG_DIR'] = \"/content/gdrive/My Drive/Colab Notebooks\"\n",
        "# %cd /content/gdrive/My Drive/Colab Notebooks"
      ],
      "execution_count": 50,
      "outputs": []
    },
    {
      "cell_type": "code",
      "metadata": {
        "id": "gOcpoBQwsQCW"
      },
      "source": [
        "# # uncomment this cell for first run to install the packages.\n",
        "# !pip install quandl\n",
        "# !pip install ta \n",
        "# !pip install pycaret\n",
        "# !pip install kats\n",
        "# !pip install git+https://github.com/ourownstory/neural_prophet.git\n",
        "# !pip install -U prophet\n",
        "# !pip install -U sklearn\n",
        "# !pip install -U scikit-learn\n",
        "# !pip install -U pmdarima\n",
        "\n",
        "\n",
        "# !pip --version\n",
        "# !pip install quandl\n",
        "# !pip install  statsmodels\n",
        "# !pip install pycaret\n",
        "# !pip install kats\n",
        "# !pip install -U sklearn\n",
        "# !pip install -U scikit-learn\n",
        "# !pip install -U sklearn\n",
        "# !pip install ta \n",
        "# !pip install -U pmdarima"
      ],
      "execution_count": 51,
      "outputs": []
    },
    {
      "cell_type": "code",
      "metadata": {
        "id": "mBx16hbRsQCZ"
      },
      "source": [
        "import numpy as np\n",
        "import pandas as pd\n",
        "import re\n",
        "from math import sqrt\n",
        "import quandl\n",
        "import matplotlib.pyplot as plt\n",
        "import seaborn as sns\n",
        "from sklearn.preprocessing import StandardScaler\n",
        "import statsmodels.graphics.tsaplots as sgt\n",
        "from statsmodels.tsa.arima.model import ARIMA\n",
        "from sklearn.metrics import mean_absolute_percentage_error, mean_squared_error, r2_score\n",
        "# for mean_squared_error set squared = False for RMSE, (y_true, y_pred)\n",
        "from sklearn.model_selection import train_test_split\n",
        "import statsmodels.tsa.stattools as sts\n",
        "from statsmodels.tsa.statespace.varmax import VARMAX, VARMAXResults\n",
        "from statsmodels.tsa.statespace.sarimax import SARIMAX\n",
        "from statsmodels.tsa.seasonal import seasonal_decompose\n",
        "from fbprophet import Prophet\n",
        "import random\n",
        "import sys\n",
        "import itertools\n",
        "import warnings\n",
        "\n",
        "warnings.filterwarnings('ignore')"
      ],
      "execution_count": 52,
      "outputs": []
    },
    {
      "cell_type": "code",
      "metadata": {
        "id": "2-314cqHsQCd"
      },
      "source": [
        "from pycaret.regression import *\n",
        "import copy\n",
        "# import plotly.express as px"
      ],
      "execution_count": 53,
      "outputs": []
    },
    {
      "cell_type": "code",
      "metadata": {
        "id": "QkcFoBvOsQCf"
      },
      "source": [
        "from kats.consts import TimeSeriesData"
      ],
      "execution_count": 54,
      "outputs": []
    },
    {
      "cell_type": "code",
      "metadata": {
        "id": "jF50ziK2sQCh"
      },
      "source": [
        "pd.set_option('display.max_columns', None)"
      ],
      "execution_count": 55,
      "outputs": []
    },
    {
      "cell_type": "code",
      "metadata": {
        "id": "fSEgJtsYsQCi"
      },
      "source": [
        "quandl.ApiConfig.api_key = \"2At3atzXCrMx_BXfkyz7\"\n",
        "# 6b7jcHuxwW7Wot1kyFNS"
      ],
      "execution_count": 56,
      "outputs": []
    },
    {
      "cell_type": "markdown",
      "metadata": {
        "id": "AIFIC6fhsQCk"
      },
      "source": [
        "# Data to be used"
      ]
    },
    {
      "cell_type": "code",
      "metadata": {
        "colab": {
          "base_uri": "https://localhost:8080/",
          "height": 204
        },
        "id": "Exefd7g1sQCm",
        "outputId": "7822db36-530e-4129-aaf5-9a622b0144dd"
      },
      "source": [
        "metadata = pd.read_csv('BSE_metadata.csv')\n",
        "metadata.head()"
      ],
      "execution_count": 57,
      "outputs": [
        {
          "output_type": "execute_result",
          "data": {
            "text/html": [
              "<div>\n",
              "<style scoped>\n",
              "    .dataframe tbody tr th:only-of-type {\n",
              "        vertical-align: middle;\n",
              "    }\n",
              "\n",
              "    .dataframe tbody tr th {\n",
              "        vertical-align: top;\n",
              "    }\n",
              "\n",
              "    .dataframe thead th {\n",
              "        text-align: right;\n",
              "    }\n",
              "</style>\n",
              "<table border=\"1\" class=\"dataframe\">\n",
              "  <thead>\n",
              "    <tr style=\"text-align: right;\">\n",
              "      <th></th>\n",
              "      <th>code</th>\n",
              "      <th>name</th>\n",
              "      <th>description</th>\n",
              "      <th>refreshed_at</th>\n",
              "      <th>from_date</th>\n",
              "      <th>to_date</th>\n",
              "    </tr>\n",
              "  </thead>\n",
              "  <tbody>\n",
              "    <tr>\n",
              "      <th>0</th>\n",
              "      <td>BOM500002</td>\n",
              "      <td>ABB India Limited EOD Prices</td>\n",
              "      <td>End of Day prices and additional trading infor...</td>\n",
              "      <td>1/19/2021 14:15</td>\n",
              "      <td>3/2/1992</td>\n",
              "      <td>1/18/2021</td>\n",
              "    </tr>\n",
              "    <tr>\n",
              "      <th>1</th>\n",
              "      <td>BOM500003</td>\n",
              "      <td>AEGIS LOGISTICS LTD. EOD Prices</td>\n",
              "      <td>End of Day prices and additional trading infor...</td>\n",
              "      <td>1/19/2021 14:15</td>\n",
              "      <td>3/2/1992</td>\n",
              "      <td>1/18/2021</td>\n",
              "    </tr>\n",
              "    <tr>\n",
              "      <th>2</th>\n",
              "      <td>BOM500008</td>\n",
              "      <td>AMARA RAJA BATTERIES LTD. EOD Prices</td>\n",
              "      <td>End of Day prices and additional trading infor...</td>\n",
              "      <td>1/19/2021 14:15</td>\n",
              "      <td>3/2/1992</td>\n",
              "      <td>1/18/2021</td>\n",
              "    </tr>\n",
              "    <tr>\n",
              "      <th>3</th>\n",
              "      <td>BOM500009</td>\n",
              "      <td>AMBALAL SARABHAI ENTERPRISES LTD. EOD Prices</td>\n",
              "      <td>End of Day prices and additional trading infor...</td>\n",
              "      <td>1/19/2021 14:15</td>\n",
              "      <td>3/2/1992</td>\n",
              "      <td>1/18/2021</td>\n",
              "    </tr>\n",
              "    <tr>\n",
              "      <th>4</th>\n",
              "      <td>BOM500010</td>\n",
              "      <td>HOUSING DEVELOPMENT FINANCE CORP.LTD. EOD Prices</td>\n",
              "      <td>End of Day prices and additional trading infor...</td>\n",
              "      <td>1/19/2021 14:15</td>\n",
              "      <td>1/3/1992</td>\n",
              "      <td>1/18/2021</td>\n",
              "    </tr>\n",
              "  </tbody>\n",
              "</table>\n",
              "</div>"
            ],
            "text/plain": [
              "        code                                              name  \\\n",
              "0  BOM500002                      ABB India Limited EOD Prices   \n",
              "1  BOM500003                   AEGIS LOGISTICS LTD. EOD Prices   \n",
              "2  BOM500008              AMARA RAJA BATTERIES LTD. EOD Prices   \n",
              "3  BOM500009      AMBALAL SARABHAI ENTERPRISES LTD. EOD Prices   \n",
              "4  BOM500010  HOUSING DEVELOPMENT FINANCE CORP.LTD. EOD Prices   \n",
              "\n",
              "                                         description     refreshed_at  \\\n",
              "0  End of Day prices and additional trading infor...  1/19/2021 14:15   \n",
              "1  End of Day prices and additional trading infor...  1/19/2021 14:15   \n",
              "2  End of Day prices and additional trading infor...  1/19/2021 14:15   \n",
              "3  End of Day prices and additional trading infor...  1/19/2021 14:15   \n",
              "4  End of Day prices and additional trading infor...  1/19/2021 14:15   \n",
              "\n",
              "  from_date    to_date  \n",
              "0  3/2/1992  1/18/2021  \n",
              "1  3/2/1992  1/18/2021  \n",
              "2  3/2/1992  1/18/2021  \n",
              "3  3/2/1992  1/18/2021  \n",
              "4  1/3/1992  1/18/2021  "
            ]
          },
          "metadata": {
            "tags": []
          },
          "execution_count": 57
        }
      ]
    },
    {
      "cell_type": "markdown",
      "metadata": {
        "id": "Tt336cVrsQCo"
      },
      "source": [
        "## Utility variables and functions"
      ]
    },
    {
      "cell_type": "code",
      "metadata": {
        "id": "tVB6YbnlsQCq"
      },
      "source": [
        "### Codes of selected stocks\n",
        "healthcare = ['BOM524715','BOM532488','BOM500124']\n",
        "banking = ['BOM500180','BOM532174','BOM500247']\n",
        "metals = ['BOM500470','BOM500228','BOM500440']\n",
        "auto = ['BOM532977','BOM500570','BOM532500']\n",
        "it = ['BOM500209','BOM532540','BOM507685']\n",
        "BSE_HEALTHCARE = 'SI0800'\n",
        "BSE_Information_Technology = 'SI1000'\n",
        "BSE_BANKEX = 'SIBANK'\n",
        "BSE_METAL = 'SI1200'\n",
        "BSE_AUTO = 'SI1900'\n",
        "SENSEX = 'SENSEX'\n",
        "\n",
        "stocks = healthcare+banking+metals + auto+it\n",
        "indices = [BSE_HEALTHCARE, BSE_Information_Technology, BSE_BANKEX, BSE_METAL, BSE_AUTO, SENSEX]\n",
        "allSymbols = stocks + indices\n",
        "ScriptWiseData = {}"
      ],
      "execution_count": 58,
      "outputs": []
    },
    {
      "cell_type": "code",
      "metadata": {
        "id": "3kHBN9nwsQCs"
      },
      "source": [
        "# Global Variables\n",
        "RSIColumn = 'RSI'\n",
        "ATRColumns = ['TR', 'ATR']\n",
        "MACDColumns = ['FastAverage', 'SlowAverage','MACD','Signal']\n",
        "BollBandColumns = ['BB_up',\"BB_dn\",\"MA\",\"BB_width\"]\n",
        "ADXColumns = ['pos_directional_indicator', 'neg_directional_indicator', 'adx']\n",
        "OnBalanceVolume = 'OBV'\n",
        "TechnicalIndicators = ['RSI', 'ATR', 'MACD', 'adx', 'OBV'] #exogenous variables\n",
        "\n",
        "AllIndicatorColumns = [RSIColumn]+ATRColumns+MACDColumns+BollBandColumns+ADXColumns+[OnBalanceVolume]"
      ],
      "execution_count": 59,
      "outputs": []
    },
    {
      "cell_type": "code",
      "metadata": {
        "id": "JyImjqh2sQCu"
      },
      "source": [
        "start_date = '2020-03-02'\n",
        "end_date = '2021-03-23'"
      ],
      "execution_count": 60,
      "outputs": []
    },
    {
      "cell_type": "code",
      "metadata": {
        "id": "dleF_l0AsQCw"
      },
      "source": [
        "# get null values of all the stocks\n",
        "def getNullValuesForSetOfStocks(stockCodeList = allSymbols):\n",
        "    nullCounts = pd.DataFrame(ScriptWiseData[stockCodeList[0]].isnull().sum(), columns= [getStockNameFromStockCode(stockCodeList[0])])\n",
        "    for symbol in stockCodeList[1:]:\n",
        "        currNull = pd.DataFrame(ScriptWiseData[symbol].isnull().sum(), columns= [getStockNameFromStockCode(symbol)])\n",
        "        nullCounts = nullCounts.merge(currNull, left_index=True, right_index = True, how='outer')\n",
        "    return nullCounts"
      ],
      "execution_count": 61,
      "outputs": []
    },
    {
      "cell_type": "code",
      "metadata": {
        "id": "RyHT3E0nsQCx"
      },
      "source": [
        "def adf_test(series, title = ''):\n",
        "    \"\"\"\n",
        "    Pass in a time series and an optional title\n",
        "    \"\"\"\n",
        "    result = sts.adfuller(series.dropna(), autolag = 'AIC')\n",
        "    label = ['ADF test statistic', 'p-value', '# lags used', '#observations']\n",
        "#     print(result)\n",
        "    out = pd.Series(result[0:4], index=label)\n",
        "    out['Stock Name'] = getStockNameFromStockCode(title)\n",
        "    out['Stock Code'] = title\n",
        "    for key, val in result[4].items():\n",
        "        out[f'critical value ({key})'] = val\n",
        "        \n",
        "#     print(out)\n",
        "    if(result[1]<0.05):\n",
        "        return out, 'Stationary'\n",
        "    else:\n",
        "        return out, 'Non-Stationary'"
      ],
      "execution_count": 62,
      "outputs": []
    },
    {
      "cell_type": "code",
      "metadata": {
        "colab": {
          "base_uri": "https://localhost:8080/",
          "height": 0
        },
        "id": "hagoTqx7sQCz",
        "outputId": "bfd2247c-db3c-4528-9161-8b0a6df88c2b"
      },
      "source": [
        "stockMetadata = metadata[metadata['code'].isin(allSymbols)]\n",
        "stockMetadata.head()"
      ],
      "execution_count": 63,
      "outputs": [
        {
          "output_type": "execute_result",
          "data": {
            "text/html": [
              "<div>\n",
              "<style scoped>\n",
              "    .dataframe tbody tr th:only-of-type {\n",
              "        vertical-align: middle;\n",
              "    }\n",
              "\n",
              "    .dataframe tbody tr th {\n",
              "        vertical-align: top;\n",
              "    }\n",
              "\n",
              "    .dataframe thead th {\n",
              "        text-align: right;\n",
              "    }\n",
              "</style>\n",
              "<table border=\"1\" class=\"dataframe\">\n",
              "  <thead>\n",
              "    <tr style=\"text-align: right;\">\n",
              "      <th></th>\n",
              "      <th>code</th>\n",
              "      <th>name</th>\n",
              "      <th>description</th>\n",
              "      <th>refreshed_at</th>\n",
              "      <th>from_date</th>\n",
              "      <th>to_date</th>\n",
              "    </tr>\n",
              "  </thead>\n",
              "  <tbody>\n",
              "    <tr>\n",
              "      <th>70</th>\n",
              "      <td>BOM500124</td>\n",
              "      <td>DR.REDDY'S LABORATORIES LTD. EOD Prices</td>\n",
              "      <td>End of Day prices and additional trading infor...</td>\n",
              "      <td>1/19/2021 14:15</td>\n",
              "      <td>3/2/1992</td>\n",
              "      <td>1/18/2021</td>\n",
              "    </tr>\n",
              "    <tr>\n",
              "      <th>104</th>\n",
              "      <td>BOM500180</td>\n",
              "      <td>HDFC Bank Ltd EOD Prices</td>\n",
              "      <td>End of Day prices and additional trading infor...</td>\n",
              "      <td>1/19/2021 14:15</td>\n",
              "      <td>5/26/1995</td>\n",
              "      <td>1/18/2021</td>\n",
              "    </tr>\n",
              "    <tr>\n",
              "      <th>121</th>\n",
              "      <td>BOM500209</td>\n",
              "      <td>INFOSYS LTD. EOD Prices</td>\n",
              "      <td>End of Day prices and additional trading infor...</td>\n",
              "      <td>1/19/2021 14:15</td>\n",
              "      <td>5/2/1995</td>\n",
              "      <td>1/18/2021</td>\n",
              "    </tr>\n",
              "    <tr>\n",
              "      <th>133</th>\n",
              "      <td>BOM500228</td>\n",
              "      <td>JSW STEEL LTD. EOD Prices</td>\n",
              "      <td>End of Day prices and additional trading infor...</td>\n",
              "      <td>1/19/2021 14:15</td>\n",
              "      <td>5/2/1995</td>\n",
              "      <td>1/18/2021</td>\n",
              "    </tr>\n",
              "    <tr>\n",
              "      <th>146</th>\n",
              "      <td>BOM500247</td>\n",
              "      <td>KOTAK MAHINDRA BANK LTD. EOD Prices</td>\n",
              "      <td>End of Day prices and additional trading infor...</td>\n",
              "      <td>1/19/2021 14:15</td>\n",
              "      <td>5/2/1995</td>\n",
              "      <td>1/18/2021</td>\n",
              "    </tr>\n",
              "  </tbody>\n",
              "</table>\n",
              "</div>"
            ],
            "text/plain": [
              "          code                                     name  \\\n",
              "70   BOM500124  DR.REDDY'S LABORATORIES LTD. EOD Prices   \n",
              "104  BOM500180                 HDFC Bank Ltd EOD Prices   \n",
              "121  BOM500209                  INFOSYS LTD. EOD Prices   \n",
              "133  BOM500228                JSW STEEL LTD. EOD Prices   \n",
              "146  BOM500247      KOTAK MAHINDRA BANK LTD. EOD Prices   \n",
              "\n",
              "                                           description     refreshed_at  \\\n",
              "70   End of Day prices and additional trading infor...  1/19/2021 14:15   \n",
              "104  End of Day prices and additional trading infor...  1/19/2021 14:15   \n",
              "121  End of Day prices and additional trading infor...  1/19/2021 14:15   \n",
              "133  End of Day prices and additional trading infor...  1/19/2021 14:15   \n",
              "146  End of Day prices and additional trading infor...  1/19/2021 14:15   \n",
              "\n",
              "     from_date    to_date  \n",
              "70    3/2/1992  1/18/2021  \n",
              "104  5/26/1995  1/18/2021  \n",
              "121   5/2/1995  1/18/2021  \n",
              "133   5/2/1995  1/18/2021  \n",
              "146   5/2/1995  1/18/2021  "
            ]
          },
          "metadata": {
            "tags": []
          },
          "execution_count": 63
        }
      ]
    },
    {
      "cell_type": "code",
      "metadata": {
        "colab": {
          "base_uri": "https://localhost:8080/"
        },
        "id": "EwoZ1DP9sQC2",
        "outputId": "688010ca-b94f-4eac-ebaf-599407465a44"
      },
      "source": [
        "print(stockMetadata.shape)\n",
        "print(stockMetadata[stockMetadata['code'].isin(stocks)].shape)\n",
        "print(stockMetadata[stockMetadata['code'].isin(indices)].shape)"
      ],
      "execution_count": 64,
      "outputs": [
        {
          "output_type": "stream",
          "text": [
            "(21, 6)\n",
            "(15, 6)\n",
            "(6, 6)\n"
          ],
          "name": "stdout"
        }
      ]
    },
    {
      "cell_type": "markdown",
      "metadata": {
        "id": "pSCAtI-QsQC3"
      },
      "source": [
        "## Map Index to  stocks"
      ]
    },
    {
      "cell_type": "code",
      "metadata": {
        "id": "O7xx-FTQsQC4"
      },
      "source": [
        "stockMetadata.loc[:, 'isStock'] = 0\n",
        "stockMetadata.loc[:, 'Index'] = ''\n",
        "\n",
        "stockMetadata.loc[stockMetadata['code'].isin(stocks), 'isStock'] = 1\n",
        "stockMetadata.reset_index(inplace=True)"
      ],
      "execution_count": 65,
      "outputs": []
    },
    {
      "cell_type": "code",
      "metadata": {
        "id": "s6ECqpt6sQC6"
      },
      "source": [
        "stockMetadata.loc[stockMetadata['code'].isin(healthcare), 'Index'] = BSE_HEALTHCARE\n",
        "stockMetadata.loc[stockMetadata['code'].isin(banking), 'Index'] = BSE_BANKEX\n",
        "stockMetadata.loc[stockMetadata['code'].isin(metals), 'Index'] = BSE_METAL\n",
        "stockMetadata.loc[stockMetadata['code'].isin(auto), 'Index'] = BSE_AUTO\n",
        "stockMetadata.loc[stockMetadata['code'].isin(it), 'Index'] = BSE_Information_Technology"
      ],
      "execution_count": 66,
      "outputs": []
    },
    {
      "cell_type": "code",
      "metadata": {
        "colab": {
          "base_uri": "https://localhost:8080/",
          "height": 0
        },
        "id": "dmuf46EBsQC-",
        "outputId": "1c416fcd-9d7c-4b6d-b1c1-1a940a76b480"
      },
      "source": [
        "stockMetadata.head()"
      ],
      "execution_count": 67,
      "outputs": [
        {
          "output_type": "execute_result",
          "data": {
            "text/html": [
              "<div>\n",
              "<style scoped>\n",
              "    .dataframe tbody tr th:only-of-type {\n",
              "        vertical-align: middle;\n",
              "    }\n",
              "\n",
              "    .dataframe tbody tr th {\n",
              "        vertical-align: top;\n",
              "    }\n",
              "\n",
              "    .dataframe thead th {\n",
              "        text-align: right;\n",
              "    }\n",
              "</style>\n",
              "<table border=\"1\" class=\"dataframe\">\n",
              "  <thead>\n",
              "    <tr style=\"text-align: right;\">\n",
              "      <th></th>\n",
              "      <th>index</th>\n",
              "      <th>code</th>\n",
              "      <th>name</th>\n",
              "      <th>description</th>\n",
              "      <th>refreshed_at</th>\n",
              "      <th>from_date</th>\n",
              "      <th>to_date</th>\n",
              "      <th>isStock</th>\n",
              "      <th>Index</th>\n",
              "    </tr>\n",
              "  </thead>\n",
              "  <tbody>\n",
              "    <tr>\n",
              "      <th>0</th>\n",
              "      <td>70</td>\n",
              "      <td>BOM500124</td>\n",
              "      <td>DR.REDDY'S LABORATORIES LTD. EOD Prices</td>\n",
              "      <td>End of Day prices and additional trading infor...</td>\n",
              "      <td>1/19/2021 14:15</td>\n",
              "      <td>3/2/1992</td>\n",
              "      <td>1/18/2021</td>\n",
              "      <td>1</td>\n",
              "      <td>SI0800</td>\n",
              "    </tr>\n",
              "    <tr>\n",
              "      <th>1</th>\n",
              "      <td>104</td>\n",
              "      <td>BOM500180</td>\n",
              "      <td>HDFC Bank Ltd EOD Prices</td>\n",
              "      <td>End of Day prices and additional trading infor...</td>\n",
              "      <td>1/19/2021 14:15</td>\n",
              "      <td>5/26/1995</td>\n",
              "      <td>1/18/2021</td>\n",
              "      <td>1</td>\n",
              "      <td>SIBANK</td>\n",
              "    </tr>\n",
              "    <tr>\n",
              "      <th>2</th>\n",
              "      <td>121</td>\n",
              "      <td>BOM500209</td>\n",
              "      <td>INFOSYS LTD. EOD Prices</td>\n",
              "      <td>End of Day prices and additional trading infor...</td>\n",
              "      <td>1/19/2021 14:15</td>\n",
              "      <td>5/2/1995</td>\n",
              "      <td>1/18/2021</td>\n",
              "      <td>1</td>\n",
              "      <td>SI1000</td>\n",
              "    </tr>\n",
              "    <tr>\n",
              "      <th>3</th>\n",
              "      <td>133</td>\n",
              "      <td>BOM500228</td>\n",
              "      <td>JSW STEEL LTD. EOD Prices</td>\n",
              "      <td>End of Day prices and additional trading infor...</td>\n",
              "      <td>1/19/2021 14:15</td>\n",
              "      <td>5/2/1995</td>\n",
              "      <td>1/18/2021</td>\n",
              "      <td>1</td>\n",
              "      <td>SI1200</td>\n",
              "    </tr>\n",
              "    <tr>\n",
              "      <th>4</th>\n",
              "      <td>146</td>\n",
              "      <td>BOM500247</td>\n",
              "      <td>KOTAK MAHINDRA BANK LTD. EOD Prices</td>\n",
              "      <td>End of Day prices and additional trading infor...</td>\n",
              "      <td>1/19/2021 14:15</td>\n",
              "      <td>5/2/1995</td>\n",
              "      <td>1/18/2021</td>\n",
              "      <td>1</td>\n",
              "      <td>SIBANK</td>\n",
              "    </tr>\n",
              "  </tbody>\n",
              "</table>\n",
              "</div>"
            ],
            "text/plain": [
              "   index       code                                     name  \\\n",
              "0     70  BOM500124  DR.REDDY'S LABORATORIES LTD. EOD Prices   \n",
              "1    104  BOM500180                 HDFC Bank Ltd EOD Prices   \n",
              "2    121  BOM500209                  INFOSYS LTD. EOD Prices   \n",
              "3    133  BOM500228                JSW STEEL LTD. EOD Prices   \n",
              "4    146  BOM500247      KOTAK MAHINDRA BANK LTD. EOD Prices   \n",
              "\n",
              "                                         description     refreshed_at  \\\n",
              "0  End of Day prices and additional trading infor...  1/19/2021 14:15   \n",
              "1  End of Day prices and additional trading infor...  1/19/2021 14:15   \n",
              "2  End of Day prices and additional trading infor...  1/19/2021 14:15   \n",
              "3  End of Day prices and additional trading infor...  1/19/2021 14:15   \n",
              "4  End of Day prices and additional trading infor...  1/19/2021 14:15   \n",
              "\n",
              "   from_date    to_date  isStock   Index  \n",
              "0   3/2/1992  1/18/2021        1  SI0800  \n",
              "1  5/26/1995  1/18/2021        1  SIBANK  \n",
              "2   5/2/1995  1/18/2021        1  SI1000  \n",
              "3   5/2/1995  1/18/2021        1  SI1200  \n",
              "4   5/2/1995  1/18/2021        1  SIBANK  "
            ]
          },
          "metadata": {
            "tags": []
          },
          "execution_count": 67
        }
      ]
    },
    {
      "cell_type": "code",
      "metadata": {
        "colab": {
          "base_uri": "https://localhost:8080/"
        },
        "id": "Rc9nEZtlsQDA",
        "outputId": "36209348-b007-4efb-949d-24c290ac87d3"
      },
      "source": [
        "stockMetadata['isStock'].value_counts()"
      ],
      "execution_count": 68,
      "outputs": [
        {
          "output_type": "execute_result",
          "data": {
            "text/plain": [
              "1    15\n",
              "0     6\n",
              "Name: isStock, dtype: int64"
            ]
          },
          "metadata": {
            "tags": []
          },
          "execution_count": 68
        }
      ]
    },
    {
      "cell_type": "markdown",
      "metadata": {
        "id": "isbyxB0RsQDC"
      },
      "source": [
        "# Code to download the data from quandl. "
      ]
    },
    {
      "cell_type": "code",
      "metadata": {
        "id": "eyCPmZ5tsQDE"
      },
      "source": [
        "# # download the required data - needed only 1 time\n",
        "# i=0\n",
        "# code = f'BSE/{stockMetadata.loc[i, \"code\"]}'\n",
        "# dataset = quandl.get(code, start_date='2000-01-01', end_date='2021-03-23').sort_values(by='Date', ascending=True)\n",
        "# dataset['StockName']=stockMetadata.loc[i, 'name']\n",
        "# dataset['code'] = stockMetadata.loc[i, \"code\"]\n",
        "# dataset['isStock'] = stockMetadata.loc[i, \"isStock\"]\n",
        "# dataset['Index'] = stockMetadata.loc[i, \"Index\"]\n",
        "# for i in range(1, len(stockMetadata)):\n",
        "#     code = f'BSE/{stockMetadata.loc[i, \"code\"]}'\n",
        "#     temp = quandl.get(code, start_date='2000-01-01', end_date='2021-03-23').sort_values(by='Date', ascending=True)\n",
        "#     temp['StockName']=stockMetadata.loc[i, 'name']\n",
        "#     temp['code'] = stockMetadata.loc[i, \"code\"]\n",
        "#     temp['isStock'] = stockMetadata.loc[i, \"isStock\"]\n",
        "#     temp['Index'] = stockMetadata.loc[i, \"Index\"]\n",
        "# #     print( stockMetadata.loc[i, \"Index\"])\n",
        "#     dataset = dataset.append(temp)\n",
        "# dataset.to_csv('data.csv')\n",
        "# dataset.head()"
      ],
      "execution_count": 69,
      "outputs": []
    },
    {
      "cell_type": "code",
      "metadata": {
        "id": "lynmUOjosQDG"
      },
      "source": [
        "# dataset = pd.read_csv('data.csv')\n",
        "# dataset.head()\n",
        "#-----------------------\n",
        "dataset = pd.read_csv(\"TimeSeriesData.csv\")\n",
        "dataset.head()"
      ],
      "execution_count": null,
      "outputs": []
    },
    {
      "cell_type": "code",
      "metadata": {
        "colab": {
          "base_uri": "https://localhost:8080/"
        },
        "id": "WYRIsODdsQDI",
        "outputId": "cba7e314-82a3-42fd-ae60-b099af373342"
      },
      "source": [
        "dataset.info()"
      ],
      "execution_count": 71,
      "outputs": [
        {
          "output_type": "stream",
          "text": [
            "<class 'pandas.core.frame.DataFrame'>\n",
            "RangeIndex: 183247 entries, 0 to 183246\n",
            "Data columns (total 17 columns):\n",
            " #   Column                     Non-Null Count   Dtype  \n",
            "---  ------                     --------------   -----  \n",
            " 0   Date                       183247 non-null  object \n",
            " 1   Open                       162609 non-null  object \n",
            " 2   High                       162609 non-null  float64\n",
            " 3   Low                        162608 non-null  float64\n",
            " 4   Close                      183246 non-null  object \n",
            " 5   WAP                        120860 non-null  object \n",
            " 6   No. of Shares              120859 non-null  object \n",
            " 7   No. of Trades              120859 non-null  object \n",
            " 8   Total Turnover             120858 non-null  object \n",
            " 9   Deliverable Quantity       111837 non-null  object \n",
            " 10  % Deli. Qty to Traded Qty  111837 non-null  object \n",
            " 11  Spread H-L                 120857 non-null  object \n",
            " 12  Spread C-O                 120855 non-null  object \n",
            " 13  StockName                  183239 non-null  object \n",
            " 14  code                       183239 non-null  object \n",
            " 15  isStock                    183239 non-null  float64\n",
            " 16  Index                      120853 non-null  object \n",
            "dtypes: float64(3), object(14)\n",
            "memory usage: 23.8+ MB\n"
          ],
          "name": "stdout"
        }
      ]
    },
    {
      "cell_type": "markdown",
      "metadata": {
        "id": "FIW4t81GsQDJ"
      },
      "source": [
        "### Verify the min and max of dates of all selected stocks and indices"
      ]
    },
    {
      "cell_type": "code",
      "metadata": {
        "colab": {
          "base_uri": "https://localhost:8080/",
          "height": 0
        },
        "id": "_KxFJed0sQDK",
        "outputId": "b46991e4-df95-4fa7-d084-2f6f21472785"
      },
      "source": [
        "dateRanges = dataset.groupby(['code', 'StockName']).agg({'Date': ['min', 'max']}).reset_index()\n",
        "dateRanges.columns = ['Stock Code', 'Stock Name', 'First Date', 'Last Date']\n",
        "dateRanges"
      ],
      "execution_count": 72,
      "outputs": [
        {
          "output_type": "execute_result",
          "data": {
            "text/html": [
              "<div>\n",
              "<style scoped>\n",
              "    .dataframe tbody tr th:only-of-type {\n",
              "        vertical-align: middle;\n",
              "    }\n",
              "\n",
              "    .dataframe tbody tr th {\n",
              "        vertical-align: top;\n",
              "    }\n",
              "\n",
              "    .dataframe thead th {\n",
              "        text-align: right;\n",
              "    }\n",
              "</style>\n",
              "<table border=\"1\" class=\"dataframe\">\n",
              "  <thead>\n",
              "    <tr style=\"text-align: right;\">\n",
              "      <th></th>\n",
              "      <th>Stock Code</th>\n",
              "      <th>Stock Name</th>\n",
              "      <th>First Date</th>\n",
              "      <th>Last Date</th>\n",
              "    </tr>\n",
              "  </thead>\n",
              "  <tbody>\n",
              "    <tr>\n",
              "      <th>0</th>\n",
              "      <td>BOM500124</td>\n",
              "      <td>DR.REDDY'S LABORATORIES LTD. EOD Prices</td>\n",
              "      <td>2000-01-03</td>\n",
              "      <td>2021-03-23</td>\n",
              "    </tr>\n",
              "    <tr>\n",
              "      <th>1</th>\n",
              "      <td>BOM500180</td>\n",
              "      <td>HDFC Bank Ltd EOD Prices</td>\n",
              "      <td>2000-01-03</td>\n",
              "      <td>2021-03-23</td>\n",
              "    </tr>\n",
              "    <tr>\n",
              "      <th>2</th>\n",
              "      <td>BOM500209</td>\n",
              "      <td>INFOSYS LTD. EOD Prices</td>\n",
              "      <td>2000-01-03</td>\n",
              "      <td>2021-03-23</td>\n",
              "    </tr>\n",
              "    <tr>\n",
              "      <th>3</th>\n",
              "      <td>BOM500228</td>\n",
              "      <td>JSW STEEL LTD. EOD Prices</td>\n",
              "      <td>2000-01-03</td>\n",
              "      <td>2021-03-23</td>\n",
              "    </tr>\n",
              "    <tr>\n",
              "      <th>4</th>\n",
              "      <td>BOM500247</td>\n",
              "      <td>KOTAK MAHINDRA BANK LTD. EOD Prices</td>\n",
              "      <td>2000-01-03</td>\n",
              "      <td>2021-03-23</td>\n",
              "    </tr>\n",
              "    <tr>\n",
              "      <th>5</th>\n",
              "      <td>BOM500440</td>\n",
              "      <td>HINDALCO INDUSTRIES LTD. EOD Prices</td>\n",
              "      <td>2000-01-03</td>\n",
              "      <td>2021-03-23</td>\n",
              "    </tr>\n",
              "    <tr>\n",
              "      <th>6</th>\n",
              "      <td>BOM500470</td>\n",
              "      <td>TATA STEEL LTD. EOD Prices</td>\n",
              "      <td>2000-01-03</td>\n",
              "      <td>2021-03-23</td>\n",
              "    </tr>\n",
              "    <tr>\n",
              "      <th>7</th>\n",
              "      <td>BOM500570</td>\n",
              "      <td>TATA MOTORS LTD. EOD Prices</td>\n",
              "      <td>2000-01-03</td>\n",
              "      <td>2021-03-23</td>\n",
              "    </tr>\n",
              "    <tr>\n",
              "      <th>8</th>\n",
              "      <td>BOM507685</td>\n",
              "      <td>WIPRO LTD. EOD Prices</td>\n",
              "      <td>2000-01-03</td>\n",
              "      <td>2021-03-23</td>\n",
              "    </tr>\n",
              "    <tr>\n",
              "      <th>9</th>\n",
              "      <td>BOM524715</td>\n",
              "      <td>SUN PHARMACEUTICAL INDUSTRIES LTD. EOD Prices</td>\n",
              "      <td>2000-01-03</td>\n",
              "      <td>2021-03-23</td>\n",
              "    </tr>\n",
              "    <tr>\n",
              "      <th>10</th>\n",
              "      <td>BOM532174</td>\n",
              "      <td>ICICI BANK LTD. EOD Prices</td>\n",
              "      <td>2000-01-03</td>\n",
              "      <td>2021-03-23</td>\n",
              "    </tr>\n",
              "    <tr>\n",
              "      <th>11</th>\n",
              "      <td>BOM532488</td>\n",
              "      <td>DIVI'S LABORATORIES LTD. EOD Prices</td>\n",
              "      <td>2003-03-12</td>\n",
              "      <td>2021-03-23</td>\n",
              "    </tr>\n",
              "    <tr>\n",
              "      <th>12</th>\n",
              "      <td>BOM532500</td>\n",
              "      <td>MARUTI SUZUKI INDIA LTD. EOD Prices</td>\n",
              "      <td>2003-07-09</td>\n",
              "      <td>2021-03-23</td>\n",
              "    </tr>\n",
              "    <tr>\n",
              "      <th>13</th>\n",
              "      <td>BOM532540</td>\n",
              "      <td>TATA CONSULTANCY SERVICES LTD. EOD Prices</td>\n",
              "      <td>2004-08-25</td>\n",
              "      <td>2021-03-23</td>\n",
              "    </tr>\n",
              "    <tr>\n",
              "      <th>14</th>\n",
              "      <td>BOM532977</td>\n",
              "      <td>BAJAJ AUTO LTD. EOD Prices</td>\n",
              "      <td>2008-05-26</td>\n",
              "      <td>2021-03-23</td>\n",
              "    </tr>\n",
              "    <tr>\n",
              "      <th>15</th>\n",
              "      <td>SENSEX</td>\n",
              "      <td>BSE SENSEX</td>\n",
              "      <td>2000-01-03</td>\n",
              "      <td>2021-03-23</td>\n",
              "    </tr>\n",
              "    <tr>\n",
              "      <th>16</th>\n",
              "      <td>SI0800</td>\n",
              "      <td>BSE Healthcare</td>\n",
              "      <td>2000-01-03</td>\n",
              "      <td>2021-03-23</td>\n",
              "    </tr>\n",
              "    <tr>\n",
              "      <th>17</th>\n",
              "      <td>SI1000</td>\n",
              "      <td>BSE Information Technology</td>\n",
              "      <td>2000-01-03</td>\n",
              "      <td>2021-03-23</td>\n",
              "    </tr>\n",
              "    <tr>\n",
              "      <th>18</th>\n",
              "      <td>SI1200</td>\n",
              "      <td>BSE METAL</td>\n",
              "      <td>2000-01-03</td>\n",
              "      <td>2021-03-23</td>\n",
              "    </tr>\n",
              "    <tr>\n",
              "      <th>19</th>\n",
              "      <td>SI1900</td>\n",
              "      <td>BSE AUTO</td>\n",
              "      <td>2000-01-03</td>\n",
              "      <td>2021-03-23</td>\n",
              "    </tr>\n",
              "    <tr>\n",
              "      <th>20</th>\n",
              "      <td>SIBANK</td>\n",
              "      <td>BSE BANKEX</td>\n",
              "      <td>2002-01-01</td>\n",
              "      <td>2021-03-23</td>\n",
              "    </tr>\n",
              "  </tbody>\n",
              "</table>\n",
              "</div>"
            ],
            "text/plain": [
              "   Stock Code                                     Stock Name  First Date  \\\n",
              "0   BOM500124        DR.REDDY'S LABORATORIES LTD. EOD Prices  2000-01-03   \n",
              "1   BOM500180                       HDFC Bank Ltd EOD Prices  2000-01-03   \n",
              "2   BOM500209                        INFOSYS LTD. EOD Prices  2000-01-03   \n",
              "3   BOM500228                      JSW STEEL LTD. EOD Prices  2000-01-03   \n",
              "4   BOM500247            KOTAK MAHINDRA BANK LTD. EOD Prices  2000-01-03   \n",
              "5   BOM500440            HINDALCO INDUSTRIES LTD. EOD Prices  2000-01-03   \n",
              "6   BOM500470                     TATA STEEL LTD. EOD Prices  2000-01-03   \n",
              "7   BOM500570                    TATA MOTORS LTD. EOD Prices  2000-01-03   \n",
              "8   BOM507685                          WIPRO LTD. EOD Prices  2000-01-03   \n",
              "9   BOM524715  SUN PHARMACEUTICAL INDUSTRIES LTD. EOD Prices  2000-01-03   \n",
              "10  BOM532174                     ICICI BANK LTD. EOD Prices  2000-01-03   \n",
              "11  BOM532488            DIVI'S LABORATORIES LTD. EOD Prices  2003-03-12   \n",
              "12  BOM532500            MARUTI SUZUKI INDIA LTD. EOD Prices  2003-07-09   \n",
              "13  BOM532540      TATA CONSULTANCY SERVICES LTD. EOD Prices  2004-08-25   \n",
              "14  BOM532977                     BAJAJ AUTO LTD. EOD Prices  2008-05-26   \n",
              "15     SENSEX                                     BSE SENSEX  2000-01-03   \n",
              "16     SI0800                                 BSE Healthcare  2000-01-03   \n",
              "17     SI1000                     BSE Information Technology  2000-01-03   \n",
              "18     SI1200                                      BSE METAL  2000-01-03   \n",
              "19     SI1900                                       BSE AUTO  2000-01-03   \n",
              "20     SIBANK                                     BSE BANKEX  2002-01-01   \n",
              "\n",
              "     Last Date  \n",
              "0   2021-03-23  \n",
              "1   2021-03-23  \n",
              "2   2021-03-23  \n",
              "3   2021-03-23  \n",
              "4   2021-03-23  \n",
              "5   2021-03-23  \n",
              "6   2021-03-23  \n",
              "7   2021-03-23  \n",
              "8   2021-03-23  \n",
              "9   2021-03-23  \n",
              "10  2021-03-23  \n",
              "11  2021-03-23  \n",
              "12  2021-03-23  \n",
              "13  2021-03-23  \n",
              "14  2021-03-23  \n",
              "15  2021-03-23  \n",
              "16  2021-03-23  \n",
              "17  2021-03-23  \n",
              "18  2021-03-23  \n",
              "19  2021-03-23  \n",
              "20  2021-03-23  "
            ]
          },
          "metadata": {
            "tags": []
          },
          "execution_count": 72
        }
      ]
    },
    {
      "cell_type": "code",
      "metadata": {
        "id": "5k9t2tCJsQDU"
      },
      "source": [
        "# use above ranges to get stockName\n",
        "def getStockNameFromStockCode(stockCode):\n",
        "    return dateRanges.loc[dateRanges['Stock Code']==stockCode, 'Stock Name'].values[0].replace('EOD Prices', '');"
      ],
      "execution_count": 73,
      "outputs": []
    },
    {
      "cell_type": "code",
      "metadata": {
        "colab": {
          "base_uri": "https://localhost:8080/",
          "height": 0
        },
        "id": "tJN_Fe5xsQDV",
        "outputId": "4e93764b-14be-47d0-f006-d3db38c06330"
      },
      "source": [
        "data = dataset.set_index('Date')\n",
        "data.head()"
      ],
      "execution_count": 74,
      "outputs": [
        {
          "output_type": "execute_result",
          "data": {
            "text/html": [
              "<div>\n",
              "<style scoped>\n",
              "    .dataframe tbody tr th:only-of-type {\n",
              "        vertical-align: middle;\n",
              "    }\n",
              "\n",
              "    .dataframe tbody tr th {\n",
              "        vertical-align: top;\n",
              "    }\n",
              "\n",
              "    .dataframe thead th {\n",
              "        text-align: right;\n",
              "    }\n",
              "</style>\n",
              "<table border=\"1\" class=\"dataframe\">\n",
              "  <thead>\n",
              "    <tr style=\"text-align: right;\">\n",
              "      <th></th>\n",
              "      <th>Open</th>\n",
              "      <th>High</th>\n",
              "      <th>Low</th>\n",
              "      <th>Close</th>\n",
              "      <th>WAP</th>\n",
              "      <th>No. of Shares</th>\n",
              "      <th>No. of Trades</th>\n",
              "      <th>Total Turnover</th>\n",
              "      <th>Deliverable Quantity</th>\n",
              "      <th>% Deli. Qty to Traded Qty</th>\n",
              "      <th>Spread H-L</th>\n",
              "      <th>Spread C-O</th>\n",
              "      <th>StockName</th>\n",
              "      <th>code</th>\n",
              "      <th>isStock</th>\n",
              "      <th>Index</th>\n",
              "    </tr>\n",
              "    <tr>\n",
              "      <th>Date</th>\n",
              "      <th></th>\n",
              "      <th></th>\n",
              "      <th></th>\n",
              "      <th></th>\n",
              "      <th></th>\n",
              "      <th></th>\n",
              "      <th></th>\n",
              "      <th></th>\n",
              "      <th></th>\n",
              "      <th></th>\n",
              "      <th></th>\n",
              "      <th></th>\n",
              "      <th></th>\n",
              "      <th></th>\n",
              "      <th></th>\n",
              "      <th></th>\n",
              "    </tr>\n",
              "  </thead>\n",
              "  <tbody>\n",
              "    <tr>\n",
              "      <th>2000-01-03</th>\n",
              "      <td>1500</td>\n",
              "      <td>1557.35</td>\n",
              "      <td>1500.00</td>\n",
              "      <td>1557.35</td>\n",
              "      <td>1544.1951536499</td>\n",
              "      <td>82330</td>\n",
              "      <td>945</td>\n",
              "      <td>1.27134e+08</td>\n",
              "      <td>NaN</td>\n",
              "      <td>NaN</td>\n",
              "      <td>57.35</td>\n",
              "      <td>57.35</td>\n",
              "      <td>DR.REDDY'S LABORATORIES LTD. EOD Prices</td>\n",
              "      <td>BOM500124</td>\n",
              "      <td>1.0</td>\n",
              "      <td>SI0800</td>\n",
              "    </tr>\n",
              "    <tr>\n",
              "      <th>2000-01-04</th>\n",
              "      <td>1601</td>\n",
              "      <td>1681.00</td>\n",
              "      <td>1527.00</td>\n",
              "      <td>1647.25</td>\n",
              "      <td>1621.0409301487</td>\n",
              "      <td>210676</td>\n",
              "      <td>3308</td>\n",
              "      <td>3.41514e+08</td>\n",
              "      <td>NaN</td>\n",
              "      <td>NaN</td>\n",
              "      <td>154</td>\n",
              "      <td>46.25</td>\n",
              "      <td>DR.REDDY'S LABORATORIES LTD. EOD Prices</td>\n",
              "      <td>BOM500124</td>\n",
              "      <td>1.0</td>\n",
              "      <td>SI0800</td>\n",
              "    </tr>\n",
              "    <tr>\n",
              "      <th>2000-01-05</th>\n",
              "      <td>1600</td>\n",
              "      <td>1648.00</td>\n",
              "      <td>1515.50</td>\n",
              "      <td>1559</td>\n",
              "      <td>1590.9039232942</td>\n",
              "      <td>205669</td>\n",
              "      <td>2707</td>\n",
              "      <td>3.272e+08</td>\n",
              "      <td>NaN</td>\n",
              "      <td>NaN</td>\n",
              "      <td>132.5</td>\n",
              "      <td>-41.0</td>\n",
              "      <td>DR.REDDY'S LABORATORIES LTD. EOD Prices</td>\n",
              "      <td>BOM500124</td>\n",
              "      <td>1.0</td>\n",
              "      <td>SI0800</td>\n",
              "    </tr>\n",
              "    <tr>\n",
              "      <th>2000-01-06</th>\n",
              "      <td>1582</td>\n",
              "      <td>1683.70</td>\n",
              "      <td>1560.00</td>\n",
              "      <td>1683.7</td>\n",
              "      <td>1623.2441816432</td>\n",
              "      <td>161085</td>\n",
              "      <td>2559</td>\n",
              "      <td>2.6148e+08</td>\n",
              "      <td>NaN</td>\n",
              "      <td>NaN</td>\n",
              "      <td>123.7</td>\n",
              "      <td>101.7</td>\n",
              "      <td>DR.REDDY'S LABORATORIES LTD. EOD Prices</td>\n",
              "      <td>BOM500124</td>\n",
              "      <td>1.0</td>\n",
              "      <td>SI0800</td>\n",
              "    </tr>\n",
              "    <tr>\n",
              "      <th>2000-01-07</th>\n",
              "      <td>1718</td>\n",
              "      <td>1718.00</td>\n",
              "      <td>1549.05</td>\n",
              "      <td>1549.05</td>\n",
              "      <td>1593.8532641048</td>\n",
              "      <td>120952</td>\n",
              "      <td>1955</td>\n",
              "      <td>1.9278e+08</td>\n",
              "      <td>NaN</td>\n",
              "      <td>NaN</td>\n",
              "      <td>168.95</td>\n",
              "      <td>-168.95</td>\n",
              "      <td>DR.REDDY'S LABORATORIES LTD. EOD Prices</td>\n",
              "      <td>BOM500124</td>\n",
              "      <td>1.0</td>\n",
              "      <td>SI0800</td>\n",
              "    </tr>\n",
              "  </tbody>\n",
              "</table>\n",
              "</div>"
            ],
            "text/plain": [
              "            Open     High      Low    Close              WAP No. of Shares  \\\n",
              "Date                                                                         \n",
              "2000-01-03  1500  1557.35  1500.00  1557.35  1544.1951536499         82330   \n",
              "2000-01-04  1601  1681.00  1527.00  1647.25  1621.0409301487        210676   \n",
              "2000-01-05  1600  1648.00  1515.50     1559  1590.9039232942        205669   \n",
              "2000-01-06  1582  1683.70  1560.00   1683.7  1623.2441816432        161085   \n",
              "2000-01-07  1718  1718.00  1549.05  1549.05  1593.8532641048        120952   \n",
              "\n",
              "           No. of Trades Total Turnover Deliverable Quantity  \\\n",
              "Date                                                           \n",
              "2000-01-03           945    1.27134e+08                  NaN   \n",
              "2000-01-04          3308    3.41514e+08                  NaN   \n",
              "2000-01-05          2707      3.272e+08                  NaN   \n",
              "2000-01-06          2559     2.6148e+08                  NaN   \n",
              "2000-01-07          1955     1.9278e+08                  NaN   \n",
              "\n",
              "           % Deli. Qty to Traded Qty Spread H-L Spread C-O  \\\n",
              "Date                                                         \n",
              "2000-01-03                       NaN      57.35      57.35   \n",
              "2000-01-04                       NaN        154      46.25   \n",
              "2000-01-05                       NaN      132.5      -41.0   \n",
              "2000-01-06                       NaN      123.7      101.7   \n",
              "2000-01-07                       NaN     168.95    -168.95   \n",
              "\n",
              "                                          StockName       code  isStock  \\\n",
              "Date                                                                      \n",
              "2000-01-03  DR.REDDY'S LABORATORIES LTD. EOD Prices  BOM500124      1.0   \n",
              "2000-01-04  DR.REDDY'S LABORATORIES LTD. EOD Prices  BOM500124      1.0   \n",
              "2000-01-05  DR.REDDY'S LABORATORIES LTD. EOD Prices  BOM500124      1.0   \n",
              "2000-01-06  DR.REDDY'S LABORATORIES LTD. EOD Prices  BOM500124      1.0   \n",
              "2000-01-07  DR.REDDY'S LABORATORIES LTD. EOD Prices  BOM500124      1.0   \n",
              "\n",
              "             Index  \n",
              "Date                \n",
              "2000-01-03  SI0800  \n",
              "2000-01-04  SI0800  \n",
              "2000-01-05  SI0800  \n",
              "2000-01-06  SI0800  \n",
              "2000-01-07  SI0800  "
            ]
          },
          "metadata": {
            "tags": []
          },
          "execution_count": 74
        }
      ]
    },
    {
      "cell_type": "markdown",
      "metadata": {
        "id": "zPN-2PnUsQDX"
      },
      "source": [
        "### Populate dictionary to hold individual Stock Data"
      ]
    },
    {
      "cell_type": "code",
      "metadata": {
        "id": "foJvrjY0sQDY"
      },
      "source": [
        "# ScriptWiseData = {'Symbol1': <DatqaFrame>, 'Suymbol 2':Dataframe2}\n",
        "for symbol in allSymbols:\n",
        "    ScriptWiseData[symbol] = data.loc[data.code==symbol]"
      ],
      "execution_count": 75,
      "outputs": []
    },
    {
      "cell_type": "markdown",
      "metadata": {
        "id": "ihkDFSgnsQDZ"
      },
      "source": [
        "### View null values in the data "
      ]
    },
    {
      "cell_type": "code",
      "metadata": {
        "colab": {
          "base_uri": "https://localhost:8080/",
          "height": 0
        },
        "id": "vrqyLuQUsQDa",
        "outputId": "297dfd7e-f066-4893-8eea-58013f00c47b"
      },
      "source": [
        "getNullValuesForSetOfStocks()"
      ],
      "execution_count": 76,
      "outputs": [
        {
          "output_type": "execute_result",
          "data": {
            "text/html": [
              "<div>\n",
              "<style scoped>\n",
              "    .dataframe tbody tr th:only-of-type {\n",
              "        vertical-align: middle;\n",
              "    }\n",
              "\n",
              "    .dataframe tbody tr th {\n",
              "        vertical-align: top;\n",
              "    }\n",
              "\n",
              "    .dataframe thead th {\n",
              "        text-align: right;\n",
              "    }\n",
              "</style>\n",
              "<table border=\"1\" class=\"dataframe\">\n",
              "  <thead>\n",
              "    <tr style=\"text-align: right;\">\n",
              "      <th></th>\n",
              "      <th>SUN PHARMACEUTICAL INDUSTRIES LTD.</th>\n",
              "      <th>DIVI'S LABORATORIES LTD.</th>\n",
              "      <th>DR.REDDY'S LABORATORIES LTD.</th>\n",
              "      <th>HDFC Bank Ltd</th>\n",
              "      <th>ICICI BANK LTD.</th>\n",
              "      <th>KOTAK MAHINDRA BANK LTD.</th>\n",
              "      <th>TATA STEEL LTD.</th>\n",
              "      <th>JSW STEEL LTD.</th>\n",
              "      <th>HINDALCO INDUSTRIES LTD.</th>\n",
              "      <th>BAJAJ AUTO LTD.</th>\n",
              "      <th>TATA MOTORS LTD.</th>\n",
              "      <th>MARUTI SUZUKI INDIA LTD.</th>\n",
              "      <th>INFOSYS LTD.</th>\n",
              "      <th>TATA CONSULTANCY SERVICES LTD.</th>\n",
              "      <th>WIPRO LTD.</th>\n",
              "      <th>BSE Healthcare</th>\n",
              "      <th>BSE Information Technology</th>\n",
              "      <th>BSE BANKEX</th>\n",
              "      <th>BSE METAL</th>\n",
              "      <th>BSE AUTO</th>\n",
              "      <th>BSE SENSEX</th>\n",
              "    </tr>\n",
              "  </thead>\n",
              "  <tbody>\n",
              "    <tr>\n",
              "      <th>Open</th>\n",
              "      <td>0</td>\n",
              "      <td>0</td>\n",
              "      <td>0</td>\n",
              "      <td>0</td>\n",
              "      <td>0</td>\n",
              "      <td>0</td>\n",
              "      <td>0</td>\n",
              "      <td>0</td>\n",
              "      <td>0</td>\n",
              "      <td>0</td>\n",
              "      <td>0</td>\n",
              "      <td>0</td>\n",
              "      <td>0</td>\n",
              "      <td>0</td>\n",
              "      <td>0</td>\n",
              "      <td>7620</td>\n",
              "      <td>7620</td>\n",
              "      <td>738</td>\n",
              "      <td>2330</td>\n",
              "      <td>2330</td>\n",
              "      <td>0</td>\n",
              "    </tr>\n",
              "    <tr>\n",
              "      <th>High</th>\n",
              "      <td>0</td>\n",
              "      <td>0</td>\n",
              "      <td>0</td>\n",
              "      <td>0</td>\n",
              "      <td>0</td>\n",
              "      <td>0</td>\n",
              "      <td>0</td>\n",
              "      <td>0</td>\n",
              "      <td>0</td>\n",
              "      <td>0</td>\n",
              "      <td>0</td>\n",
              "      <td>0</td>\n",
              "      <td>0</td>\n",
              "      <td>0</td>\n",
              "      <td>0</td>\n",
              "      <td>7620</td>\n",
              "      <td>7620</td>\n",
              "      <td>738</td>\n",
              "      <td>2330</td>\n",
              "      <td>2330</td>\n",
              "      <td>0</td>\n",
              "    </tr>\n",
              "    <tr>\n",
              "      <th>Low</th>\n",
              "      <td>0</td>\n",
              "      <td>0</td>\n",
              "      <td>0</td>\n",
              "      <td>0</td>\n",
              "      <td>0</td>\n",
              "      <td>0</td>\n",
              "      <td>0</td>\n",
              "      <td>0</td>\n",
              "      <td>0</td>\n",
              "      <td>0</td>\n",
              "      <td>0</td>\n",
              "      <td>0</td>\n",
              "      <td>0</td>\n",
              "      <td>0</td>\n",
              "      <td>0</td>\n",
              "      <td>7620</td>\n",
              "      <td>7620</td>\n",
              "      <td>738</td>\n",
              "      <td>2330</td>\n",
              "      <td>2330</td>\n",
              "      <td>0</td>\n",
              "    </tr>\n",
              "    <tr>\n",
              "      <th>Close</th>\n",
              "      <td>0</td>\n",
              "      <td>0</td>\n",
              "      <td>0</td>\n",
              "      <td>0</td>\n",
              "      <td>0</td>\n",
              "      <td>0</td>\n",
              "      <td>0</td>\n",
              "      <td>0</td>\n",
              "      <td>0</td>\n",
              "      <td>0</td>\n",
              "      <td>0</td>\n",
              "      <td>0</td>\n",
              "      <td>0</td>\n",
              "      <td>0</td>\n",
              "      <td>0</td>\n",
              "      <td>0</td>\n",
              "      <td>0</td>\n",
              "      <td>0</td>\n",
              "      <td>0</td>\n",
              "      <td>0</td>\n",
              "      <td>0</td>\n",
              "    </tr>\n",
              "    <tr>\n",
              "      <th>WAP</th>\n",
              "      <td>0</td>\n",
              "      <td>0</td>\n",
              "      <td>0</td>\n",
              "      <td>0</td>\n",
              "      <td>0</td>\n",
              "      <td>0</td>\n",
              "      <td>0</td>\n",
              "      <td>0</td>\n",
              "      <td>0</td>\n",
              "      <td>0</td>\n",
              "      <td>0</td>\n",
              "      <td>0</td>\n",
              "      <td>0</td>\n",
              "      <td>0</td>\n",
              "      <td>0</td>\n",
              "      <td>10564</td>\n",
              "      <td>10564</td>\n",
              "      <td>9568</td>\n",
              "      <td>10563</td>\n",
              "      <td>10564</td>\n",
              "      <td>10563</td>\n",
              "    </tr>\n",
              "    <tr>\n",
              "      <th>No. of Shares</th>\n",
              "      <td>0</td>\n",
              "      <td>0</td>\n",
              "      <td>0</td>\n",
              "      <td>0</td>\n",
              "      <td>0</td>\n",
              "      <td>0</td>\n",
              "      <td>0</td>\n",
              "      <td>0</td>\n",
              "      <td>0</td>\n",
              "      <td>0</td>\n",
              "      <td>0</td>\n",
              "      <td>0</td>\n",
              "      <td>0</td>\n",
              "      <td>0</td>\n",
              "      <td>0</td>\n",
              "      <td>10564</td>\n",
              "      <td>10564</td>\n",
              "      <td>9568</td>\n",
              "      <td>10563</td>\n",
              "      <td>10564</td>\n",
              "      <td>10563</td>\n",
              "    </tr>\n",
              "    <tr>\n",
              "      <th>No. of Trades</th>\n",
              "      <td>0</td>\n",
              "      <td>0</td>\n",
              "      <td>0</td>\n",
              "      <td>0</td>\n",
              "      <td>0</td>\n",
              "      <td>0</td>\n",
              "      <td>0</td>\n",
              "      <td>0</td>\n",
              "      <td>0</td>\n",
              "      <td>0</td>\n",
              "      <td>0</td>\n",
              "      <td>0</td>\n",
              "      <td>0</td>\n",
              "      <td>0</td>\n",
              "      <td>0</td>\n",
              "      <td>10564</td>\n",
              "      <td>10564</td>\n",
              "      <td>9568</td>\n",
              "      <td>10563</td>\n",
              "      <td>10564</td>\n",
              "      <td>10563</td>\n",
              "    </tr>\n",
              "    <tr>\n",
              "      <th>Total Turnover</th>\n",
              "      <td>0</td>\n",
              "      <td>0</td>\n",
              "      <td>0</td>\n",
              "      <td>0</td>\n",
              "      <td>0</td>\n",
              "      <td>0</td>\n",
              "      <td>0</td>\n",
              "      <td>0</td>\n",
              "      <td>0</td>\n",
              "      <td>0</td>\n",
              "      <td>0</td>\n",
              "      <td>0</td>\n",
              "      <td>0</td>\n",
              "      <td>0</td>\n",
              "      <td>0</td>\n",
              "      <td>10564</td>\n",
              "      <td>10564</td>\n",
              "      <td>9568</td>\n",
              "      <td>10563</td>\n",
              "      <td>10564</td>\n",
              "      <td>10563</td>\n",
              "    </tr>\n",
              "    <tr>\n",
              "      <th>Deliverable Quantity</th>\n",
              "      <td>1096</td>\n",
              "      <td>114</td>\n",
              "      <td>538</td>\n",
              "      <td>538</td>\n",
              "      <td>1088</td>\n",
              "      <td>537</td>\n",
              "      <td>1090</td>\n",
              "      <td>580</td>\n",
              "      <td>572</td>\n",
              "      <td>2</td>\n",
              "      <td>1084</td>\n",
              "      <td>162</td>\n",
              "      <td>539</td>\n",
              "      <td>4</td>\n",
              "      <td>1076</td>\n",
              "      <td>10564</td>\n",
              "      <td>10564</td>\n",
              "      <td>9568</td>\n",
              "      <td>10563</td>\n",
              "      <td>10564</td>\n",
              "      <td>10563</td>\n",
              "    </tr>\n",
              "    <tr>\n",
              "      <th>% Deli. Qty to Traded Qty</th>\n",
              "      <td>1096</td>\n",
              "      <td>114</td>\n",
              "      <td>538</td>\n",
              "      <td>538</td>\n",
              "      <td>1088</td>\n",
              "      <td>537</td>\n",
              "      <td>1090</td>\n",
              "      <td>580</td>\n",
              "      <td>572</td>\n",
              "      <td>2</td>\n",
              "      <td>1084</td>\n",
              "      <td>162</td>\n",
              "      <td>539</td>\n",
              "      <td>4</td>\n",
              "      <td>1076</td>\n",
              "      <td>10564</td>\n",
              "      <td>10564</td>\n",
              "      <td>9568</td>\n",
              "      <td>10563</td>\n",
              "      <td>10564</td>\n",
              "      <td>10563</td>\n",
              "    </tr>\n",
              "    <tr>\n",
              "      <th>Spread H-L</th>\n",
              "      <td>0</td>\n",
              "      <td>0</td>\n",
              "      <td>0</td>\n",
              "      <td>0</td>\n",
              "      <td>0</td>\n",
              "      <td>0</td>\n",
              "      <td>0</td>\n",
              "      <td>0</td>\n",
              "      <td>0</td>\n",
              "      <td>0</td>\n",
              "      <td>0</td>\n",
              "      <td>0</td>\n",
              "      <td>0</td>\n",
              "      <td>0</td>\n",
              "      <td>0</td>\n",
              "      <td>10564</td>\n",
              "      <td>10564</td>\n",
              "      <td>9568</td>\n",
              "      <td>10563</td>\n",
              "      <td>10564</td>\n",
              "      <td>10563</td>\n",
              "    </tr>\n",
              "    <tr>\n",
              "      <th>Spread C-O</th>\n",
              "      <td>0</td>\n",
              "      <td>0</td>\n",
              "      <td>0</td>\n",
              "      <td>0</td>\n",
              "      <td>0</td>\n",
              "      <td>0</td>\n",
              "      <td>0</td>\n",
              "      <td>0</td>\n",
              "      <td>0</td>\n",
              "      <td>0</td>\n",
              "      <td>0</td>\n",
              "      <td>0</td>\n",
              "      <td>0</td>\n",
              "      <td>0</td>\n",
              "      <td>0</td>\n",
              "      <td>10564</td>\n",
              "      <td>10564</td>\n",
              "      <td>9568</td>\n",
              "      <td>10563</td>\n",
              "      <td>10564</td>\n",
              "      <td>10563</td>\n",
              "    </tr>\n",
              "    <tr>\n",
              "      <th>StockName</th>\n",
              "      <td>0</td>\n",
              "      <td>0</td>\n",
              "      <td>0</td>\n",
              "      <td>0</td>\n",
              "      <td>0</td>\n",
              "      <td>0</td>\n",
              "      <td>0</td>\n",
              "      <td>0</td>\n",
              "      <td>0</td>\n",
              "      <td>0</td>\n",
              "      <td>0</td>\n",
              "      <td>0</td>\n",
              "      <td>0</td>\n",
              "      <td>0</td>\n",
              "      <td>0</td>\n",
              "      <td>0</td>\n",
              "      <td>0</td>\n",
              "      <td>0</td>\n",
              "      <td>0</td>\n",
              "      <td>0</td>\n",
              "      <td>0</td>\n",
              "    </tr>\n",
              "    <tr>\n",
              "      <th>code</th>\n",
              "      <td>0</td>\n",
              "      <td>0</td>\n",
              "      <td>0</td>\n",
              "      <td>0</td>\n",
              "      <td>0</td>\n",
              "      <td>0</td>\n",
              "      <td>0</td>\n",
              "      <td>0</td>\n",
              "      <td>0</td>\n",
              "      <td>0</td>\n",
              "      <td>0</td>\n",
              "      <td>0</td>\n",
              "      <td>0</td>\n",
              "      <td>0</td>\n",
              "      <td>0</td>\n",
              "      <td>0</td>\n",
              "      <td>0</td>\n",
              "      <td>0</td>\n",
              "      <td>0</td>\n",
              "      <td>0</td>\n",
              "      <td>0</td>\n",
              "    </tr>\n",
              "    <tr>\n",
              "      <th>isStock</th>\n",
              "      <td>0</td>\n",
              "      <td>0</td>\n",
              "      <td>0</td>\n",
              "      <td>0</td>\n",
              "      <td>0</td>\n",
              "      <td>0</td>\n",
              "      <td>0</td>\n",
              "      <td>0</td>\n",
              "      <td>0</td>\n",
              "      <td>0</td>\n",
              "      <td>0</td>\n",
              "      <td>0</td>\n",
              "      <td>0</td>\n",
              "      <td>0</td>\n",
              "      <td>0</td>\n",
              "      <td>0</td>\n",
              "      <td>0</td>\n",
              "      <td>0</td>\n",
              "      <td>0</td>\n",
              "      <td>0</td>\n",
              "      <td>0</td>\n",
              "    </tr>\n",
              "    <tr>\n",
              "      <th>Index</th>\n",
              "      <td>0</td>\n",
              "      <td>0</td>\n",
              "      <td>0</td>\n",
              "      <td>0</td>\n",
              "      <td>0</td>\n",
              "      <td>0</td>\n",
              "      <td>0</td>\n",
              "      <td>0</td>\n",
              "      <td>0</td>\n",
              "      <td>0</td>\n",
              "      <td>0</td>\n",
              "      <td>0</td>\n",
              "      <td>0</td>\n",
              "      <td>0</td>\n",
              "      <td>0</td>\n",
              "      <td>10564</td>\n",
              "      <td>10564</td>\n",
              "      <td>9568</td>\n",
              "      <td>10563</td>\n",
              "      <td>10564</td>\n",
              "      <td>10563</td>\n",
              "    </tr>\n",
              "  </tbody>\n",
              "</table>\n",
              "</div>"
            ],
            "text/plain": [
              "                           SUN PHARMACEUTICAL INDUSTRIES LTD.   \\\n",
              "Open                                                         0   \n",
              "High                                                         0   \n",
              "Low                                                          0   \n",
              "Close                                                        0   \n",
              "WAP                                                          0   \n",
              "No. of Shares                                                0   \n",
              "No. of Trades                                                0   \n",
              "Total Turnover                                               0   \n",
              "Deliverable Quantity                                      1096   \n",
              "% Deli. Qty to Traded Qty                                 1096   \n",
              "Spread H-L                                                   0   \n",
              "Spread C-O                                                   0   \n",
              "StockName                                                    0   \n",
              "code                                                         0   \n",
              "isStock                                                      0   \n",
              "Index                                                        0   \n",
              "\n",
              "                           DIVI'S LABORATORIES LTD.   \\\n",
              "Open                                               0   \n",
              "High                                               0   \n",
              "Low                                                0   \n",
              "Close                                              0   \n",
              "WAP                                                0   \n",
              "No. of Shares                                      0   \n",
              "No. of Trades                                      0   \n",
              "Total Turnover                                     0   \n",
              "Deliverable Quantity                             114   \n",
              "% Deli. Qty to Traded Qty                        114   \n",
              "Spread H-L                                         0   \n",
              "Spread C-O                                         0   \n",
              "StockName                                          0   \n",
              "code                                               0   \n",
              "isStock                                            0   \n",
              "Index                                              0   \n",
              "\n",
              "                           DR.REDDY'S LABORATORIES LTD.   HDFC Bank Ltd   \\\n",
              "Open                                                   0               0   \n",
              "High                                                   0               0   \n",
              "Low                                                    0               0   \n",
              "Close                                                  0               0   \n",
              "WAP                                                    0               0   \n",
              "No. of Shares                                          0               0   \n",
              "No. of Trades                                          0               0   \n",
              "Total Turnover                                         0               0   \n",
              "Deliverable Quantity                                 538             538   \n",
              "% Deli. Qty to Traded Qty                            538             538   \n",
              "Spread H-L                                             0               0   \n",
              "Spread C-O                                             0               0   \n",
              "StockName                                              0               0   \n",
              "code                                                   0               0   \n",
              "isStock                                                0               0   \n",
              "Index                                                  0               0   \n",
              "\n",
              "                           ICICI BANK LTD.   KOTAK MAHINDRA BANK LTD.   \\\n",
              "Open                                      0                          0   \n",
              "High                                      0                          0   \n",
              "Low                                       0                          0   \n",
              "Close                                     0                          0   \n",
              "WAP                                       0                          0   \n",
              "No. of Shares                             0                          0   \n",
              "No. of Trades                             0                          0   \n",
              "Total Turnover                            0                          0   \n",
              "Deliverable Quantity                   1088                        537   \n",
              "% Deli. Qty to Traded Qty              1088                        537   \n",
              "Spread H-L                                0                          0   \n",
              "Spread C-O                                0                          0   \n",
              "StockName                                 0                          0   \n",
              "code                                      0                          0   \n",
              "isStock                                   0                          0   \n",
              "Index                                     0                          0   \n",
              "\n",
              "                           TATA STEEL LTD.   JSW STEEL LTD.   \\\n",
              "Open                                      0                0   \n",
              "High                                      0                0   \n",
              "Low                                       0                0   \n",
              "Close                                     0                0   \n",
              "WAP                                       0                0   \n",
              "No. of Shares                             0                0   \n",
              "No. of Trades                             0                0   \n",
              "Total Turnover                            0                0   \n",
              "Deliverable Quantity                   1090              580   \n",
              "% Deli. Qty to Traded Qty              1090              580   \n",
              "Spread H-L                                0                0   \n",
              "Spread C-O                                0                0   \n",
              "StockName                                 0                0   \n",
              "code                                      0                0   \n",
              "isStock                                   0                0   \n",
              "Index                                     0                0   \n",
              "\n",
              "                           HINDALCO INDUSTRIES LTD.   BAJAJ AUTO LTD.   \\\n",
              "Open                                               0                 0   \n",
              "High                                               0                 0   \n",
              "Low                                                0                 0   \n",
              "Close                                              0                 0   \n",
              "WAP                                                0                 0   \n",
              "No. of Shares                                      0                 0   \n",
              "No. of Trades                                      0                 0   \n",
              "Total Turnover                                     0                 0   \n",
              "Deliverable Quantity                             572                 2   \n",
              "% Deli. Qty to Traded Qty                        572                 2   \n",
              "Spread H-L                                         0                 0   \n",
              "Spread C-O                                         0                 0   \n",
              "StockName                                          0                 0   \n",
              "code                                               0                 0   \n",
              "isStock                                            0                 0   \n",
              "Index                                              0                 0   \n",
              "\n",
              "                           TATA MOTORS LTD.   MARUTI SUZUKI INDIA LTD.   \\\n",
              "Open                                       0                          0   \n",
              "High                                       0                          0   \n",
              "Low                                        0                          0   \n",
              "Close                                      0                          0   \n",
              "WAP                                        0                          0   \n",
              "No. of Shares                              0                          0   \n",
              "No. of Trades                              0                          0   \n",
              "Total Turnover                             0                          0   \n",
              "Deliverable Quantity                    1084                        162   \n",
              "% Deli. Qty to Traded Qty               1084                        162   \n",
              "Spread H-L                                 0                          0   \n",
              "Spread C-O                                 0                          0   \n",
              "StockName                                  0                          0   \n",
              "code                                       0                          0   \n",
              "isStock                                    0                          0   \n",
              "Index                                      0                          0   \n",
              "\n",
              "                           INFOSYS LTD.   TATA CONSULTANCY SERVICES LTD.   \\\n",
              "Open                                   0                                0   \n",
              "High                                   0                                0   \n",
              "Low                                    0                                0   \n",
              "Close                                  0                                0   \n",
              "WAP                                    0                                0   \n",
              "No. of Shares                          0                                0   \n",
              "No. of Trades                          0                                0   \n",
              "Total Turnover                         0                                0   \n",
              "Deliverable Quantity                 539                                4   \n",
              "% Deli. Qty to Traded Qty            539                                4   \n",
              "Spread H-L                             0                                0   \n",
              "Spread C-O                             0                                0   \n",
              "StockName                              0                                0   \n",
              "code                                   0                                0   \n",
              "isStock                                0                                0   \n",
              "Index                                  0                                0   \n",
              "\n",
              "                           WIPRO LTD.   BSE Healthcare  \\\n",
              "Open                                 0            7620   \n",
              "High                                 0            7620   \n",
              "Low                                  0            7620   \n",
              "Close                                0               0   \n",
              "WAP                                  0           10564   \n",
              "No. of Shares                        0           10564   \n",
              "No. of Trades                        0           10564   \n",
              "Total Turnover                       0           10564   \n",
              "Deliverable Quantity              1076           10564   \n",
              "% Deli. Qty to Traded Qty         1076           10564   \n",
              "Spread H-L                           0           10564   \n",
              "Spread C-O                           0           10564   \n",
              "StockName                            0               0   \n",
              "code                                 0               0   \n",
              "isStock                              0               0   \n",
              "Index                                0           10564   \n",
              "\n",
              "                           BSE Information Technology  BSE BANKEX  BSE METAL  \\\n",
              "Open                                             7620         738       2330   \n",
              "High                                             7620         738       2330   \n",
              "Low                                              7620         738       2330   \n",
              "Close                                               0           0          0   \n",
              "WAP                                             10564        9568      10563   \n",
              "No. of Shares                                   10564        9568      10563   \n",
              "No. of Trades                                   10564        9568      10563   \n",
              "Total Turnover                                  10564        9568      10563   \n",
              "Deliverable Quantity                            10564        9568      10563   \n",
              "% Deli. Qty to Traded Qty                       10564        9568      10563   \n",
              "Spread H-L                                      10564        9568      10563   \n",
              "Spread C-O                                      10564        9568      10563   \n",
              "StockName                                           0           0          0   \n",
              "code                                                0           0          0   \n",
              "isStock                                             0           0          0   \n",
              "Index                                           10564        9568      10563   \n",
              "\n",
              "                           BSE AUTO  BSE SENSEX  \n",
              "Open                           2330           0  \n",
              "High                           2330           0  \n",
              "Low                            2330           0  \n",
              "Close                             0           0  \n",
              "WAP                           10564       10563  \n",
              "No. of Shares                 10564       10563  \n",
              "No. of Trades                 10564       10563  \n",
              "Total Turnover                10564       10563  \n",
              "Deliverable Quantity          10564       10563  \n",
              "% Deli. Qty to Traded Qty     10564       10563  \n",
              "Spread H-L                    10564       10563  \n",
              "Spread C-O                    10564       10563  \n",
              "StockName                         0           0  \n",
              "code                              0           0  \n",
              "isStock                           0           0  \n",
              "Index                         10564       10563  "
            ]
          },
          "metadata": {
            "tags": []
          },
          "execution_count": 76
        }
      ]
    },
    {
      "cell_type": "markdown",
      "metadata": {
        "id": "wS7xJCpYsQDb"
      },
      "source": [
        "# Deriving Technical indicators "
      ]
    },
    {
      "cell_type": "markdown",
      "metadata": {
        "id": "BeXEUPXssQDc"
      },
      "source": [
        "### MACD"
      ]
    },
    {
      "cell_type": "code",
      "metadata": {
        "id": "x7DcBo7EsQDd"
      },
      "source": [
        "# function to create data MACD signal and data. \n",
        "def MACD(df, span1 = 12, span2= 26, span3 = 9):\n",
        "    stockData = df.copy()\n",
        "    stockData['FastAverage'] = stockData['Close'].ewm(span = span1, min_periods = span1).mean()\n",
        "    stockData['SlowAverage'] = stockData['Close'].ewm(span = span2, min_periods = span2).mean()\n",
        "    stockData['MACD'] = stockData['FastAverage'] - stockData['SlowAverage']\n",
        "    stockData['Signal'] = stockData['MACD'].ewm(span=span3, min_periods = span3).mean()\n",
        "    return stockData[MACDColumns]"
      ],
      "execution_count": 77,
      "outputs": []
    },
    {
      "cell_type": "code",
      "metadata": {
        "id": "rla3QZ1OsQDe"
      },
      "source": [
        "# create stock code based dataframes with MACD signal\n",
        "for symbol in allSymbols:\n",
        "    macd = MACD(ScriptWiseData[symbol])\n",
        "    ScriptWiseData[symbol] = ScriptWiseData[symbol].merge(macd, left_index=True, right_index = True, how='left')"
      ],
      "execution_count": 78,
      "outputs": []
    },
    {
      "cell_type": "markdown",
      "metadata": {
        "id": "oxHhE-MksQDf"
      },
      "source": [
        "### RSI - Relative Strength Index"
      ]
    },
    {
      "cell_type": "code",
      "metadata": {
        "id": "cmuud8ZUsQDg"
      },
      "source": [
        "# Calculating RSI without using loop\n",
        "def RSI(DF, n=14):\n",
        "    df =  DF.copy()\n",
        "    \"function to calculate RSI\"\n",
        "    delta = df['Close'].diff().dropna()\n",
        "    u = delta * 0\n",
        "    d = u.copy()\n",
        "    u[delta > 0] = delta[delta > 0]\n",
        "    d[delta < 0] = -delta[delta < 0]\n",
        "    u[u.index[n-1]] = np.mean( u[:n]) # first value is average of gains\n",
        "    u = u.drop(u.index[:(n-1)])\n",
        "    d[d.index[n-1]] = np.mean( d[:n]) # first value is average of losses\n",
        "    d = d.drop(d.index[:(n-1)])\n",
        "    rs = u.ewm(com=n,min_periods=n).mean()/d.ewm(com=n,min_periods=n).mean()\n",
        "    rsi = 100 - 100 / (1+rs);\n",
        "    return pd.DataFrame(rs).rename(columns={'Close':'RSI'})"
      ],
      "execution_count": 79,
      "outputs": []
    },
    {
      "cell_type": "code",
      "metadata": {
        "id": "lfsj0KTqsQDh"
      },
      "source": [
        "#RSI \n",
        "for symbol in allSymbols:   \n",
        "    rsi = RSI(data.loc[data.code==symbol])\n",
        "    ScriptWiseData[symbol] = ScriptWiseData[symbol].merge(rsi, left_index=True, right_index = True, how='left')"
      ],
      "execution_count": null,
      "outputs": []
    },
    {
      "cell_type": "markdown",
      "metadata": {
        "id": "pIDupQCqsQDi"
      },
      "source": [
        "### ATR"
      ]
    },
    {
      "cell_type": "code",
      "metadata": {
        "id": "yVvCDFDksQDi"
      },
      "source": [
        "def ATR(DF,n=20):\n",
        "    \"function to calculate True Range and Average True Range\"\n",
        "    df = DF.copy()\n",
        "    df['H-L']=abs(df['High']-df['Low'])\n",
        "    df['H-PC']=abs(df['High']-df['Close'].shift(1))\n",
        "    df['L-PC']=abs(df['Low']-df['Close'].shift(1))\n",
        "    df['TR']=df[['H-L','H-PC','L-PC']].max(axis=1,skipna=False)\n",
        "    df['ATR'] = df['TR'].rolling(n).mean()\n",
        "    #df['ATR'] = df['TR'].ewm(span=n,adjust=False,min_periods=n).mean()\n",
        "    df2 = df.drop(['H-L','H-PC','L-PC'],axis=1)\n",
        "    return df2[ATRColumns]"
      ],
      "execution_count": null,
      "outputs": []
    },
    {
      "cell_type": "code",
      "metadata": {
        "id": "alg3wk9VsQDj"
      },
      "source": [
        "#ATR \n",
        "for symbol in allSymbols:\n",
        "    ScriptWiseData[symbol][ATRColumns] = ATR(data.loc[data.code==symbol])"
      ],
      "execution_count": null,
      "outputs": []
    },
    {
      "cell_type": "markdown",
      "metadata": {
        "id": "IptUjX_NsQDk"
      },
      "source": [
        "### Bollinger band"
      ]
    },
    {
      "cell_type": "code",
      "metadata": {
        "id": "_hYgVp8IsQDl"
      },
      "source": [
        "def BollBnd(DF,n=14):\n",
        "    \"function to calculate Bollinger Band\"\n",
        "    df = DF.copy()\n",
        "    df[\"MA\"] = df['Close'].rolling(n).mean()\n",
        "    df[\"BB_up\"] = df[\"MA\"] + 2*df['Close'].rolling(n).std(ddof=0) #ddof=0 is required since we want to take the standard deviation of the population and not sample\n",
        "    df[\"BB_dn\"] = df[\"MA\"] - 2*df['Close'].rolling(n).std(ddof=0) #ddof=0 is required since we want to take the standard deviation of the population and not sample\n",
        "    df[\"BB_width\"] = df[\"BB_up\"] - df[\"BB_dn\"]\n",
        "#     df.dropna(inplace=True)\n",
        "    return df[BollBandColumns]"
      ],
      "execution_count": null,
      "outputs": []
    },
    {
      "cell_type": "code",
      "metadata": {
        "id": "gN_LnFmjsQDm"
      },
      "source": [
        "#Boll band\n",
        "for symbol in allSymbols:\n",
        "    ScriptWiseData[symbol][BollBandColumns] = BollBnd(data.loc[data.code==symbol])"
      ],
      "execution_count": null,
      "outputs": []
    },
    {
      "cell_type": "markdown",
      "metadata": {
        "id": "ZUjrrGn1sQDn"
      },
      "source": [
        "### OBV"
      ]
    },
    {
      "cell_type": "code",
      "metadata": {
        "id": "EwEDHhj5sQDo"
      },
      "source": [
        "def OBV(DF):\n",
        "    \"\"\"function to calculate On Balance Volume\"\"\"\n",
        "    df = DF.copy()\n",
        "    df['daily_ret'] = df['Close'].pct_change()\n",
        "    df['direction'] = np.where(df['daily_ret']>=0,1,-1)\n",
        "    df['direction'][0] = 0\n",
        "    df['vol_adj'] = df['No. of Shares'] * df['direction']\n",
        "    df['obv'] = df['vol_adj'].cumsum()\n",
        "    return df['obv']"
      ],
      "execution_count": null,
      "outputs": []
    },
    {
      "cell_type": "code",
      "metadata": {
        "id": "UwKjZo76sQDo"
      },
      "source": [
        "#OBV\n",
        "for symbol in allSymbols:\n",
        "    ScriptWiseData[symbol]['OBV'] = OBV(data.loc[data.code==symbol])"
      ],
      "execution_count": null,
      "outputs": []
    },
    {
      "cell_type": "markdown",
      "metadata": {
        "id": "9Uo5tUeZsQDp"
      },
      "source": [
        "### ADX"
      ]
    },
    {
      "cell_type": "code",
      "metadata": {
        "id": "LWkDvc8qsQDq"
      },
      "source": [
        "from ta.trend import ADXIndicator\n",
        "def ADX(DF):\n",
        "    df = DF.copy()\n",
        "    adxI = ADXIndicator(df['High'],df['Low'],df['Close'],14,False)\n",
        "    df['pos_directional_indicator'] = adxI.adx_pos()\n",
        "    df['neg_directional_indicator'] = adxI.adx_neg()\n",
        "    df['adx'] = adxI.adx()\n",
        "    return df[ADXColumns]"
      ],
      "execution_count": null,
      "outputs": []
    },
    {
      "cell_type": "code",
      "metadata": {
        "id": "4VEZNHkqsQDq"
      },
      "source": [
        "# ADX\n",
        "for symbol in allSymbols:\n",
        "    ScriptWiseData[symbol][ADXColumns] = ADX(data.loc[data.code==symbol])"
      ],
      "execution_count": null,
      "outputs": []
    },
    {
      "cell_type": "code",
      "metadata": {
        "id": "ZUe5P24MySjW"
      },
      "source": [
        "getNullValuesForSetOfStocks()"
      ],
      "execution_count": null,
      "outputs": []
    },
    {
      "cell_type": "markdown",
      "metadata": {
        "id": "ngJ2AiInsQDr"
      },
      "source": [
        "# Removing Extra Columms"
      ]
    },
    {
      "cell_type": "code",
      "metadata": {
        "id": "uZPSKO_esQDs"
      },
      "source": [
        "OriginalScriptWiseData = ScriptWiseData\n",
        "for symbol in allSymbols:\n",
        "    ScriptWiseData[symbol] = ScriptWiseData[symbol][['Close']+TechnicalIndicators]"
      ],
      "execution_count": null,
      "outputs": []
    },
    {
      "cell_type": "code",
      "metadata": {
        "id": "oyHF-5guySjX"
      },
      "source": [
        ""
      ],
      "execution_count": null,
      "outputs": []
    },
    {
      "cell_type": "markdown",
      "metadata": {
        "id": "QHqbBLRXsQDt"
      },
      "source": [
        "## Dropping null values"
      ]
    },
    {
      "cell_type": "code",
      "metadata": {
        "id": "h4fJKoGisQDt"
      },
      "source": [
        "# drop rows from the stock whose technical indicator values are null. \n",
        "for stock in stocks:\n",
        "#     ScriptWiseData[stock] = ScriptWiseData[stock].dropna(subset=AllIndicatorColumns)\n",
        "    ScriptWiseData[stock] = ScriptWiseData[stock].dropna()    "
      ],
      "execution_count": null,
      "outputs": []
    },
    {
      "cell_type": "code",
      "metadata": {
        "id": "CB0M7yErsQDu"
      },
      "source": [
        "# ScriptWiseData['BOM500180'][ScriptWiseData['BOM500180']['MACD'].isna()]\n",
        "getNullValuesForSetOfStocks()"
      ],
      "execution_count": null,
      "outputs": []
    },
    {
      "cell_type": "code",
      "metadata": {
        "id": "9iCNUYCTySjY"
      },
      "source": [
        "finalDateRanges =pd.DataFrame(columns = ['Stock Code', 'Stock Name', 'First Date', 'Last Date']) \n",
        "for s in stocks:\n",
        "    r = [s, getStockNameFromStockCode(s), ScriptWiseData[s].index.min(),  ScriptWiseData[s].index.max()]\n",
        "    finalDateRanges.loc[len(finalDateRanges)] = r\n",
        "finalDateRanges"
      ],
      "execution_count": null,
      "outputs": []
    },
    {
      "cell_type": "markdown",
      "metadata": {
        "id": "g-dEHWHqsQDv"
      },
      "source": [
        "# ADF Test for closing price"
      ]
    },
    {
      "cell_type": "code",
      "metadata": {
        "id": "PsBFTlvAsQDw"
      },
      "source": [
        "stock = stocks[0]\n",
        "adf_testResult = pd.DataFrame(adf_test(ScriptWiseData[stocks[0]].Close, stocks[0])[0], columns = ['Value']).transpose().set_index(['Stock Name', 'Stock Code'])\n",
        "for i in range(1, len(stocks)):\n",
        "    res = pd.DataFrame(adf_test(ScriptWiseData[stocks[i]].Close, stocks[i])[0], columns = ['Value']).transpose().set_index(['Stock Name', 'Stock Code'])\n",
        "    adf_testResult = adf_testResult.append(res)\n",
        "adf_testResult['Result'] = adf_testResult['p-value'].apply(lambda x: 'Stationary' if x<0.05 else 'Non-Stationary')\n",
        "# adf_testResult.to_csv('Outputs/adfTest.csv')\n",
        "adf_testResult.head()"
      ],
      "execution_count": null,
      "outputs": []
    },
    {
      "cell_type": "markdown",
      "metadata": {
        "id": "ZuatJ5wSsQD0"
      },
      "source": [
        "# Train test and validation split"
      ]
    },
    {
      "cell_type": "code",
      "metadata": {
        "id": "PPmizeP1sQD1"
      },
      "source": [
        "def TrainTestSplitByDateRange(df,test_start_date = '2020-03-02',test_end_date = '2021-03-23'):\n",
        "    train = df.loc[:test_start_date]\n",
        "    test = df.loc[test_start_date:test_end_date]\n",
        "    return train, test[1:]"
      ],
      "execution_count": null,
      "outputs": []
    },
    {
      "cell_type": "markdown",
      "metadata": {
        "id": "GZM3kPfUFLF0"
      },
      "source": [
        "# Code Addition Tavish -----------------------------------------------"
      ]
    },
    {
      "cell_type": "markdown",
      "metadata": {
        "id": "mkBI8VemuxzA"
      },
      "source": [
        "#ARIMA "
      ]
    },
    {
      "cell_type": "markdown",
      "metadata": {
        "id": "Brhnpl1lsQD_"
      },
      "source": [
        "### AutoARIMA DataFrame\n"
      ]
    },
    {
      "cell_type": "code",
      "metadata": {
        "id": "6WlVwmInOc_h"
      },
      "source": [
        "from statsmodels.tsa.arima_model import ARIMA\n",
        "from pmdarima.arima import auto_arima"
      ],
      "execution_count": null,
      "outputs": []
    },
    {
      "cell_type": "code",
      "metadata": {
        "id": "yuHk6Cx2sQEA"
      },
      "source": [
        "#AutoArimaResults = pd.DataFrame(columns=['p Closing Values', 'd Closing Values', 'q Closing Values','p N Closing Values', 'd N Closing Values', 'q N Closing Values','p Closing Percentage', 'd Closing Percentage', 'q Closing Percentage'], index = stocks)\n",
        "AutoArimaResults = pd.read_csv('AutoArimaResults.csv',index_col='Unnamed: 0')\n",
        "AutoArimaResults"
      ],
      "execution_count": null,
      "outputs": []
    },
    {
      "cell_type": "code",
      "metadata": {
        "id": "XpG-7ntKsQEB"
      },
      "source": [
        "def CalculateAutoArima(stockcode, data, parameter ,p ,d,q):\n",
        "    if(AutoArimaResults.loc[:, [p, d, q]].isnull().sum(axis=1)[stockcode] > 0):\n",
        "        params = auto_arima(data[parameter], maxiter = 1000)\n",
        "        AutoArimaResults.loc[stockcode, [p,d,q]] = params.order\n",
        "        return params.order\n",
        "    else:\n",
        "        return tuple(AutoArimaResults.loc[stockcode, [p, d, q]])"
      ],
      "execution_count": null,
      "outputs": []
    },
    {
      "cell_type": "code",
      "metadata": {
        "id": "GAcre-MH7iMY"
      },
      "source": [
        "AutoArimaResults"
      ],
      "execution_count": null,
      "outputs": []
    },
    {
      "cell_type": "code",
      "metadata": {
        "id": "bamB-yUdd_PT"
      },
      "source": [
        "AutoArimaResults.to_csv('Outputs/AutoArimaResults.csv')"
      ],
      "execution_count": null,
      "outputs": []
    },
    {
      "cell_type": "markdown",
      "metadata": {
        "id": "66iBaKZFbdbj"
      },
      "source": [
        "### Common Functions"
      ]
    },
    {
      "cell_type": "code",
      "metadata": {
        "id": "1CVR51sOsQED"
      },
      "source": [
        "from statsmodels.tsa.arima_model import ARMA, ARIMA, ARMAResults, ARIMAResults\n",
        "from statsmodels.graphics.tsaplots import plot_acf, plot_pacf\n",
        "from pmdarima import auto_arima\n",
        "from statsmodels.tsa.seasonal import seasonal_decompose\n",
        "from statsmodels.tsa.statespace.tools import diff\n",
        "from statsmodels.tools.eval_measures import rmse\n"
      ],
      "execution_count": null,
      "outputs": []
    },
    {
      "cell_type": "code",
      "metadata": {
        "id": "KLwjuKd3tzHm"
      },
      "source": [
        "def errorEvaluation(actual, pred):\n",
        "  RMSE = str(mean_squared_error(actual, pred, squared=False))\n",
        "  MAPE = str(mean_absolute_percentage_error(actual,pred))\n",
        "  R2 = str(r2_score(actual,pred))\n",
        "  Noise = float(pred.diff().abs().mean())\n",
        "  return [RMSE, MAPE, R2, Noise]"
      ],
      "execution_count": null,
      "outputs": []
    },
    {
      "cell_type": "code",
      "metadata": {
        "id": "tmb8wAagtzFr"
      },
      "source": [
        "def modified_prediction_frame(_df_pred, index):\n",
        "  _df_pred = _df_pred.to_frame()\n",
        "  _df_pred['Date'] = index\n",
        "  pd.to_datetime(_df_pred['Date'])\n",
        "  _df_pred.set_index('Date', inplace=True)\n",
        "  _df_pred.rename(columns={0 : 'Predicted'}, inplace=True)\n",
        "  return _df_pred"
      ],
      "execution_count": null,
      "outputs": []
    },
    {
      "cell_type": "markdown",
      "metadata": {
        "id": "XIE86TYXbYRI"
      },
      "source": [
        "## ARIMA for Closing Values "
      ]
    },
    {
      "cell_type": "markdown",
      "metadata": {
        "id": "-D2zEsY6PV6O"
      },
      "source": [
        "### Steps to calculate ARIMA Model (Closing Prices)"
      ]
    },
    {
      "cell_type": "code",
      "metadata": {
        "id": "gkJMLP2lxuNG"
      },
      "source": [
        "stockcode = 'BOM532540'\n",
        "train_data, test_data = TrainTestSplitByDateRange(ScriptWiseData[stockcode])\n",
        "start = len(train_data)\n",
        "end = len(train_data) + len(test_data) - 1"
      ],
      "execution_count": null,
      "outputs": []
    },
    {
      "cell_type": "code",
      "metadata": {
        "id": "kgYrRVXQyDMj"
      },
      "source": [
        "test_data.Close.plot(figsize = (12,8))"
      ],
      "execution_count": null,
      "outputs": []
    },
    {
      "cell_type": "code",
      "metadata": {
        "id": "NvN2-7GpRCVA"
      },
      "source": [
        "e = adf_test(ScriptWiseData['BOM532540'].Close, title=stockcode)\n",
        "print(e)"
      ],
      "execution_count": null,
      "outputs": []
    },
    {
      "cell_type": "code",
      "metadata": {
        "id": "_5XGJFYpXMZ7"
      },
      "source": [
        "ScriptWiseData[stockcode].Close"
      ],
      "execution_count": null,
      "outputs": []
    },
    {
      "cell_type": "code",
      "metadata": {
        "id": "TVy-XNwFtzAf"
      },
      "source": [
        "CalculateAutoArima(stockcode=stockcode,data = ScriptWiseData[stockcode],parameter = 'Close', p= 'p Closing Values',d = 'd Closing Values', q = 'q Closing Values')"
      ],
      "execution_count": null,
      "outputs": []
    },
    {
      "cell_type": "code",
      "metadata": {
        "id": "eH3T27_FVF60"
      },
      "source": [
        "model = ARIMA(train_data.Close, order = (2,1,2))\n",
        "results = model.fit()\n",
        "results.summary()"
      ],
      "execution_count": null,
      "outputs": []
    },
    {
      "cell_type": "code",
      "metadata": {
        "id": "NHMnLczXVckt"
      },
      "source": [
        "predictions = results.predict(start = start, end = end, typ ='levels').rename('Arima(2,1,2) Predictions')\n",
        "predictions = modified_prediction_frame(predictions, test_data.Close.index)"
      ],
      "execution_count": null,
      "outputs": []
    },
    {
      "cell_type": "code",
      "metadata": {
        "id": "h7ufqJA-WHzs"
      },
      "source": [
        "predictions.plot(legend = True, figsize = (12,8))\n",
        "test_data.Close.plot(legend = True)"
      ],
      "execution_count": null,
      "outputs": []
    },
    {
      "cell_type": "code",
      "metadata": {
        "id": "TDeaWsYtZfoL"
      },
      "source": [
        "print(errorEvaluation(test_data.Close, predictions))\n",
        "print('-----------')\n",
        "print(predictions.describe())\n",
        "print('-----------')\n",
        "print(test_data.Close.describe())"
      ],
      "execution_count": null,
      "outputs": []
    },
    {
      "cell_type": "markdown",
      "metadata": {
        "id": "xD0jX2PHAABU"
      },
      "source": [
        "### Generic Function For ARIMA Closing Prices"
      ]
    },
    {
      "cell_type": "code",
      "metadata": {
        "id": "oh8YrsrMRNef"
      },
      "source": [
        "def ARIMA_Model_Generic(StockCode, data, feature, Results, Order, train_data, test_data):\n",
        "  print(\"Modeling for the Stock: {}\".format(StockCode))\n",
        "\n",
        "  start = len(train_data)\n",
        "  end = len(train_data) + len(test_data) - 1\n",
        "  \n",
        "  print(\"ADF Test for the given series.\")\n",
        "  adf, Stationarity = adf_test(train_data[feature], title=StockCode)\n",
        "  print(adf)\n",
        "  print('----------------------------------------------------------------------------')\n",
        "  Results.loc[StockCode,'Stationarity'] = Stationarity\n",
        "\n",
        "  model = ARIMA(train_data[feature], order = Order)\n",
        "  results = model.fit()\n",
        "  print(results.params)\n",
        "  print(\"Order: \" + str(Order) )\n",
        "  print('---------------------------------------------------------------------------')\n",
        "  Results.loc[StockCode, 'Order'] = str(Order)\n",
        "\n",
        "  predictions = results.predict(start = start, end = end, typ ='levels')\n",
        "  predictions = modified_prediction_frame(predictions, test_data[feature].index)\n",
        "\n",
        "  errorEval = errorEvaluation(test_data[feature], predictions)\n",
        "  RMSE = errorEval[0]\n",
        "  MAPE = errorEval[1]\n",
        "  R2   = errorEval[2]\n",
        "  Noise = errorEval[3]\n",
        "\n",
        "  Results.loc[StockCode, ['RMSE', 'MAPE', 'R2', 'Noise']] = errorEval\n",
        "  print(\"RMSE: {0} \\nMape: {1} \\nR2: {2} \\nNoise: {3}\".format(RMSE, MAPE, R2, Noise))\n",
        "  print('---------------------------------------------------------------------------')\n",
        "  \n",
        "  print('Description of the Predicted Data')\n",
        "  print(predictions.describe())\n",
        "  pred_mean = predictions.mean(numeric_only=True)\n",
        "  Results.loc[StockCode, 'Predictions Mean'] = str(float(pred_mean))\n",
        "  print('---------------------------------------------------------------------------')\n",
        "\n",
        "  print('Description of the Actual Data')\n",
        "  print(test_data[feature].describe())\n",
        "  Results.loc[StockCode, 'Actual Mean'] = str(test_data[feature].mean())\n",
        "  return predictions\n"
      ],
      "execution_count": null,
      "outputs": []
    },
    {
      "cell_type": "code",
      "metadata": {
        "id": "r_QX2NcG2Sje"
      },
      "source": [
        "ArimaModelPricesResults = pd.DataFrame(columns=['Stationarity', 'Order', 'RMSE', 'MAPE', 'R2', 'Noise', 'Predictions Mean', 'Actual Mean'], index = stocks)"
      ],
      "execution_count": null,
      "outputs": []
    },
    {
      "cell_type": "code",
      "metadata": {
        "id": "tz7RLJNE2yuV"
      },
      "source": [
        "ArimaModelPricesResults"
      ],
      "execution_count": null,
      "outputs": []
    },
    {
      "cell_type": "code",
      "metadata": {
        "id": "Q2S3ndNj4IW9"
      },
      "source": [
        "count  = 1\n",
        "for stock in stocks:\n",
        "  print(\"Working for Stock {0} - {1}\".format(count, stock))\n",
        "  train_data, test_data = TrainTestSplitByDateRange(ScriptWiseData[stock])\n",
        "  feature = 'Close'\n",
        "  Order = CalculateAutoArima(stock, train_data, feature,  p= 'p Closing Values',d = 'd Closing Values', q = 'q Closing Values')\n",
        "  ARIMA_Model_Generic(StockCode = stock, data = ScriptWiseData, feature = feature, Results=ArimaModelPricesResults, Order=Order, train_data=train_data, test_data=test_data)\n",
        "  count += 1"
      ],
      "execution_count": null,
      "outputs": []
    },
    {
      "cell_type": "code",
      "metadata": {
        "id": "QPc5OCmxzXgP"
      },
      "source": [
        "ArimaModelPricesResults.to_csv('Outputs/ArimaModelPricesResults.csv')"
      ],
      "execution_count": null,
      "outputs": []
    },
    {
      "cell_type": "markdown",
      "metadata": {
        "id": "Ru8Key50sQD3"
      },
      "source": [
        "## ARIMA for Normalized Closing Price"
      ]
    },
    {
      "cell_type": "markdown",
      "metadata": {
        "id": "CMOXBPGjb-mp"
      },
      "source": [
        "### Normalizing the Values  - Normalized_Prices"
      ]
    },
    {
      "cell_type": "code",
      "metadata": {
        "id": "ZvK_sl4-r5zF"
      },
      "source": [
        "for stock in stocks:\n",
        "  cols = list(ScriptWiseData[stock].columns)\n",
        "  for column in cols:\n",
        "    benchmark_prices = ScriptWiseData[stock][column].iloc[0]\n",
        "    if column == 'Close':\n",
        "      ScriptWiseData[stock]['Normalized Closing Prices'] = ScriptWiseData[stock][column].div(benchmark_prices).mul(100)\n",
        "    else:\n",
        "      ScriptWiseData[stock][column] = ScriptWiseData[stock][column].div(benchmark_prices).mul(100)\n",
        "  \n"
      ],
      "execution_count": null,
      "outputs": []
    },
    {
      "cell_type": "code",
      "metadata": {
        "id": "nYWXmdaxW_Jq"
      },
      "source": [
        "ScriptWiseData[stockcode].head()"
      ],
      "execution_count": null,
      "outputs": []
    },
    {
      "cell_type": "markdown",
      "metadata": {
        "id": "hssG06SXQzYo"
      },
      "source": [
        "###  ARIMA Normalized Closing Prices"
      ]
    },
    {
      "cell_type": "code",
      "metadata": {
        "id": "vp-eT2gpRNeZ"
      },
      "source": [
        "ArimaModelPricesResults_Norm = pd.DataFrame(columns=['Stationarity', 'Order', 'RMSE', 'MAPE', 'R2','Noise', 'Predictions Mean', 'Actual Mean'], index = stocks)"
      ],
      "execution_count": null,
      "outputs": []
    },
    {
      "cell_type": "code",
      "metadata": {
        "id": "jPqgSYzpN_MC"
      },
      "source": [
        "ArimaModelPricesResults_Norm"
      ],
      "execution_count": null,
      "outputs": []
    },
    {
      "cell_type": "code",
      "metadata": {
        "id": "NVFH-IUnVFVz"
      },
      "source": [
        "count  = 1\n",
        "for stock in stocks:\n",
        "  print(\"Working for Stock {0} - {1}\".format(count, stock))\n",
        "  train_data, test_data = TrainTestSplitByDateRange(ScriptWiseData[stock])\n",
        "  feature = 'Normalized Closing Prices'\n",
        "  Order = CalculateAutoArima(stock, train_data, feature,'p N Closing Values', 'd N Closing Values', 'q N Closing Values')\n",
        "  ARIMA_Model_Generic(StockCode= stock, data = ScriptWiseData, feature = feature, Results=ArimaModelPricesResults_Norm, Order=Order, train_data=train_data, test_data=test_data)\n",
        "  count += 1"
      ],
      "execution_count": null,
      "outputs": []
    },
    {
      "cell_type": "code",
      "metadata": {
        "id": "xRHvVlzIRNei"
      },
      "source": [
        "ArimaModelPricesResults_Norm.to_csv('Outputs/ArimaModelPricesResults_Norm.csv')"
      ],
      "execution_count": null,
      "outputs": []
    },
    {
      "cell_type": "markdown",
      "metadata": {
        "id": "dRI58ANtsQEE"
      },
      "source": [
        "## ARIMA Model For Returns"
      ]
    },
    {
      "cell_type": "markdown",
      "metadata": {
        "id": "tMsWXE90sQDx"
      },
      "source": [
        "### Convert Closing price to percentage change"
      ]
    },
    {
      "cell_type": "code",
      "metadata": {
        "id": "vBqeCkNEsQDy"
      },
      "source": [
        "for s in stocks:\n",
        "    ScriptWiseData[s]['Stock_Returns'] = ScriptWiseData[s]['Normalized Closing Prices'].pct_change(1).mul(100)\n",
        "    ScriptWiseData[s] = ScriptWiseData[s][1:] # Because of NAN first value\n",
        "    "
      ],
      "execution_count": null,
      "outputs": []
    },
    {
      "cell_type": "code",
      "metadata": {
        "id": "muFSqcxGsQDz"
      },
      "source": [
        "stock = stocks[0]\n",
        "adf_testResult = pd.DataFrame(adf_test(ScriptWiseData[stocks[0]].Stock_Returns, stocks[0])[0], columns = ['Value']).transpose().set_index(['Stock Name', 'Stock Code'])\n",
        "for i in range(1, len(stocks)):\n",
        "    res = pd.DataFrame(adf_test(ScriptWiseData[stocks[i]].Stock_Returns, stocks[i])[0], columns = ['Value']).transpose().set_index(['Stock Name', 'Stock Code'])\n",
        "    adf_testResult = adf_testResult.append(res)\n",
        "adf_testResult['Result'] = adf_testResult['p-value'].apply(lambda x: 'Stationary' if x<0.05 else 'Non-Stationary')\n",
        "# adf_testResult.to_csv('Outputs/adfTestReturns.csv')\n",
        "adf_testResult.to_csv('Outputs/adfTestReturns.csv')\n",
        "adf_testResult.head()"
      ],
      "execution_count": null,
      "outputs": []
    },
    {
      "cell_type": "markdown",
      "metadata": {
        "id": "IjUQArZOk9Er"
      },
      "source": [
        "### ARIMA Returns"
      ]
    },
    {
      "cell_type": "code",
      "metadata": {
        "id": "YHfwbLOsk9Et"
      },
      "source": [
        "ArimaModelPricesResults_Returns = pd.DataFrame(columns=['Stationarity', 'Order', 'RMSE', 'MAPE', 'R2', 'Noise', 'Predictions Mean', 'Actual Mean'], index = stocks)"
      ],
      "execution_count": null,
      "outputs": []
    },
    {
      "cell_type": "code",
      "metadata": {
        "id": "AN38GU-VlmLT"
      },
      "source": [
        "ArimaModelPricesResults_Returns"
      ],
      "execution_count": null,
      "outputs": []
    },
    {
      "cell_type": "code",
      "metadata": {
        "id": "6pNukXztlVtq"
      },
      "source": [
        "count  = 1\n",
        "for stock in stocks:\n",
        "  try:\n",
        "    print(\"Working for Stock {0} - {1}\".format(count, stock))\n",
        "    train_data, test_data = TrainTestSplitByDateRange(ScriptWiseData[stock])\n",
        "    feature = 'Stock_Returns'\n",
        "    Order = CalculateAutoArima(stock, train_data, feature, p = 'p Closing Percentage', d = 'd Closing Percentage', q = 'q Closing Percentage')\n",
        "    ARIMA_Model_Generic(StockCode= stock, data = ScriptWiseData, feature = feature, Results=ArimaModelPricesResults_Returns, Order=Order, train_data=train_data, test_data=test_data)\n",
        "  except Exception as e:\n",
        "    print(e)  \n",
        "  count += 1"
      ],
      "execution_count": null,
      "outputs": []
    },
    {
      "cell_type": "code",
      "metadata": {
        "id": "Fqc10UbCcSBU"
      },
      "source": [
        "ArimaModelPricesResults_Returns.to_csv('Outputs/ArimaModelPricesResults_Returns.csv')"
      ],
      "execution_count": null,
      "outputs": []
    },
    {
      "cell_type": "markdown",
      "metadata": {
        "id": "GL8MHVRhsQEE"
      },
      "source": [
        "#ARIMAX"
      ]
    },
    {
      "cell_type": "markdown",
      "metadata": {
        "id": "hJNPShtN1N-M"
      },
      "source": [
        "### AutoARIMA DataFrame\n"
      ]
    },
    {
      "cell_type": "code",
      "metadata": {
        "id": "vTq4-k9O1N-M"
      },
      "source": [
        "from statsmodels.tsa.arima_model import ARIMA\n",
        "from pmdarima.arima import auto_arima"
      ],
      "execution_count": null,
      "outputs": []
    },
    {
      "cell_type": "code",
      "metadata": {
        "id": "uuCB1enT1N-N"
      },
      "source": [
        "#AutoArimaResultsForArimax = pd.DataFrame(columns=['p Closing Values', 'd Closing Values', 'q Closing Values','p N Closing Values', 'd N Closing Values', 'q N Closing Values','p Closing Percentage', 'd Closing Percentage', 'q Closing Percentage'], index = stocks)\n",
        "AutoArimaResultsForArimax = pd.reas_csv('AutoArimaResultsForArimax.csv',index_col='Unnamed: 0')\n",
        "AutoArimaResultsForArimax\n"
      ],
      "execution_count": null,
      "outputs": []
    },
    {
      "cell_type": "code",
      "metadata": {
        "id": "p3PP86kG1N-O"
      },
      "source": [
        "def CalculateAutoArimaForArimax(stockcode, data, parameter ,p ,d,q):\n",
        "    if(AutoArimaResultsForArimax.loc[:, [p, d, q]].isnull().sum(axis=1)[stockcode] > 0):\n",
        "        params = auto_arima(data[parameter], exog = data[TechnicalIndicators], maxiter = 1000)\n",
        "        AutoArimaResultsForArimax.loc[stockcode, [p,d,q]] = params.order\n",
        "        return params.order\n",
        "    else:\n",
        "        return tuple(AutoArimaResultsForArimax.loc[stockcode, [p, d, q]])"
      ],
      "execution_count": null,
      "outputs": []
    },
    {
      "cell_type": "code",
      "metadata": {
        "id": "W9q8q7KR1N-O"
      },
      "source": [
        "AutoArimaResultsForArimax"
      ],
      "execution_count": null,
      "outputs": []
    },
    {
      "cell_type": "markdown",
      "metadata": {
        "id": "vKv2_Fh6bpRl"
      },
      "source": [
        "##Generic Function for ARIMAX"
      ]
    },
    {
      "cell_type": "code",
      "metadata": {
        "id": "CmyPVaT8kBA8"
      },
      "source": [
        "def ARIMAX_Model_Generic(StockCode, data, feature, Results, Order, train_data, test_data):\n",
        "  print(\"Modeling for the Stock: {}\".format(StockCode))\n",
        "\n",
        "  start = len(train_data)\n",
        "  end = len(train_data) + len(test_data) - 1\n",
        "\n",
        "  print(\"ADF Test for the given series.\")\n",
        "  adf, Stationarity = adf_test(train_data[feature], title=StockCode)\n",
        "  print(adf)\n",
        "  print('----------------------------------------------------------------------------')\n",
        "  Results.loc[StockCode,'Stationarity'] = Stationarity\n",
        "\n",
        "  exog = train_data[TechnicalIndicators]\n",
        "  model = ARIMA(endog = train_data[feature], exog = exog , order = Order)\n",
        "  results = model.fit()\n",
        "  print(results.params)\n",
        "  print(\"Order: \" + str(Order) )\n",
        "  print('---------------------------------------------------------------------------')\n",
        "  Results.loc[StockCode, 'Order'] = str(Order)\n",
        "\n",
        "  predictions = results.predict(start = start, end = end, typ ='levels', exog=exog)\n",
        "  predictions = modified_prediction_frame(predictions, test_data[feature].index)\n",
        "\n",
        "  predictions.plot(figsize=(12,8), legend=True)\n",
        "  test_data[feature].plot(figsize = (12,8), legend=True)\n",
        "\n",
        "  errorEval = errorEvaluation(test_data[feature], predictions)\n",
        "  RMSE = errorEval[0]\n",
        "  MAPE = errorEval[1]\n",
        "  R2   = errorEval[2]\n",
        "  Noise = errorEval[3]\n",
        "\n",
        "  Results.loc[StockCode, ['RMSE', 'MAPE', 'R2', 'Noise']] = errorEval\n",
        "  print(\"RMSE: {0} \\nMape: {1} \\nR2: {2} \\nNoise: {3}\".format(RMSE, MAPE, R2, Noise))\n",
        "  print('---------------------------------------------------------------------------')\n",
        "\n",
        "  print('Description of the Predicted Data')\n",
        "  print(predictions.describe())\n",
        "  pred_mean = predictions.mean(numeric_only=True)\n",
        "  Results.loc[StockCode, 'Predictions Mean'] = str(float(pred_mean))\n",
        "  print('---------------------------------------------------------------------------')\n",
        "\n",
        "  print('Description of the Actual Data')\n",
        "  print(test_data[feature].describe())\n",
        "  Results.loc[StockCode, 'Actual Mean'] = str(test_data[feature].mean())\n",
        "  return predictions\n"
      ],
      "execution_count": null,
      "outputs": []
    },
    {
      "cell_type": "markdown",
      "metadata": {
        "id": "ybfb39Iqbtas"
      },
      "source": [
        "## ARIMAX for Closing Prices"
      ]
    },
    {
      "cell_type": "code",
      "metadata": {
        "id": "D-JhsYLWnL0a"
      },
      "source": [
        "ArimaxModelPricesResults = pd.DataFrame(columns=['Stationarity', 'Order', 'RMSE', 'MAPE', 'R2', 'Noise', 'Predictions Mean', 'Actual Mean'], index = stocks)"
      ],
      "execution_count": null,
      "outputs": []
    },
    {
      "cell_type": "code",
      "metadata": {
        "id": "nOgbfrLRnL0b"
      },
      "source": [
        "ArimaxModelPricesResults"
      ],
      "execution_count": null,
      "outputs": []
    },
    {
      "cell_type": "code",
      "metadata": {
        "id": "oAl_p1ClnL0c"
      },
      "source": [
        "count  = 1\n",
        "for stock in stocks:\n",
        "  print(\"Working for Stock {0} - {1}\".format(count, stock))\n",
        "  train_data, test_data = TrainTestSplitByDateRange(ScriptWiseData[stock])\n",
        "  feature = 'Close'\n",
        "  Order = CalculateAutoArimaForArimax(stock, train_data, feature,  p= 'p Closing Values',d = 'd Closing Values', q = 'q Closing Values')\n",
        "  ARIMAX_Model_Generic(StockCode = stock, data = ScriptWiseData, feature = feature, Results=ArimaxModelPricesResults, Order=Order, train_data=train_data, test_data=test_data)\n",
        "  count += 1\n",
        "  print('******************************************************************************')"
      ],
      "execution_count": null,
      "outputs": []
    },
    {
      "cell_type": "code",
      "metadata": {
        "id": "wmykvhwKnL0c"
      },
      "source": [
        "ArimaModelPricesResults.to_csv('Outputs/ArimaModelPricesResults.csv')"
      ],
      "execution_count": null,
      "outputs": []
    },
    {
      "cell_type": "markdown",
      "metadata": {
        "id": "nTOtUdwVZ3OR"
      },
      "source": [
        "## ARIMAX Normalized Closing Prices"
      ]
    },
    {
      "cell_type": "code",
      "metadata": {
        "id": "Sz4eXrsbZ3OS"
      },
      "source": [
        "ArimaxModelPricesResults_Norm = pd.DataFrame(columns=['Stationarity', 'Order', 'RMSE', 'MAPE', 'R2','Noise', 'Predictions Mean', 'Actual Mean'], index = stocks)"
      ],
      "execution_count": null,
      "outputs": []
    },
    {
      "cell_type": "code",
      "metadata": {
        "id": "eVqjvEbHZ3OS"
      },
      "source": [
        "ArimaxModelPricesResults_Norm"
      ],
      "execution_count": null,
      "outputs": []
    },
    {
      "cell_type": "code",
      "metadata": {
        "id": "McxcNYPYZ3OS"
      },
      "source": [
        "count  = 1\n",
        "for stock in stocks:\n",
        "  print(\"Working for Stock {0} - {1}\".format(count, stock))\n",
        "  train_data, test_data = TrainTestSplitByDateRange(ScriptWiseData[stock])\n",
        "  feature = 'Normalized Closing Prices'\n",
        "  Order = CalculateAutoArimaForArimax(stock, train_data, feature,'p N Closing Values', 'd N Closing Values', 'q N Closing Values')\n",
        "  ARIMAX_Model_Generic(StockCode= stock, data = ScriptWiseData, feature = feature, Results=ArimaxModelPricesResults_Norm, Order=Order, train_data=train_data, test_data=test_data)\n",
        "  count += 1\n",
        "  print(\"*************************************************************************\")"
      ],
      "execution_count": null,
      "outputs": []
    },
    {
      "cell_type": "code",
      "metadata": {
        "id": "ZOB9TO1fZ3OS"
      },
      "source": [
        "ArimaxModelPricesResults_Norm.to_csv('Outputs/ArimaxModelPricesResults_Norm.csv')"
      ],
      "execution_count": null,
      "outputs": []
    },
    {
      "cell_type": "markdown",
      "metadata": {
        "id": "IxeY6KUtZ3OT"
      },
      "source": [
        "## ARIMAX Returns"
      ]
    },
    {
      "cell_type": "code",
      "metadata": {
        "id": "w6S6RNGKZ3OT"
      },
      "source": [
        "ArimaxModelPricesResults_Returns = pd.DataFrame(columns=['Stationarity', 'Order', 'RMSE', 'MAPE', 'R2', 'Noise', 'Predictions Mean', 'Actual Mean'], index = stocks)"
      ],
      "execution_count": null,
      "outputs": []
    },
    {
      "cell_type": "code",
      "metadata": {
        "id": "08xrpDwTZ3OT"
      },
      "source": [
        "ArimaxModelPricesResults_Returns"
      ],
      "execution_count": null,
      "outputs": []
    },
    {
      "cell_type": "code",
      "metadata": {
        "id": "essI3iLxZ3OT"
      },
      "source": [
        "count  = 1\n",
        "for stock in stocks:\n",
        "  try:\n",
        "    print(\"Working for Stock {0} - {1}\".format(count, stock))\n",
        "    train_data, test_data = TrainTestSplitByDateRange(ScriptWiseData[stock])\n",
        "    feature = 'Stock_Returns'\n",
        "    Order = CalculateAutoArimaForArimax(stock, train_data, feature, p = 'p Closing Percentage', d = 'd Closing Percentage', q = 'q Closing Percentage')\n",
        "    ARIMAX_Model_Generic(StockCode= stock, data = ScriptWiseData, feature = feature, Results=ArimaxModelPricesResults_Returns, Order=Order, train_data=train_data, test_data=test_data)\n",
        "  except Exception as e:\n",
        "    print(e)  \n",
        "  count += 1\n",
        "  print(\"********************************************************\")"
      ],
      "execution_count": null,
      "outputs": []
    },
    {
      "cell_type": "code",
      "metadata": {
        "id": "Jk_7UD-yZ3OT"
      },
      "source": [
        "ArimaxModelPricesResults_Returns.to_csv('Outputs/ArimaxModelPricesResults_Returns.csv')"
      ],
      "execution_count": null,
      "outputs": []
    },
    {
      "cell_type": "code",
      "metadata": {
        "id": "OAQ5DDOG1N-O"
      },
      "source": [
        "AutoArimaResults.to_csv('Outputs/AutoArimaResultsForArimax.csv')"
      ],
      "execution_count": null,
      "outputs": []
    },
    {
      "cell_type": "markdown",
      "metadata": {
        "id": "vjJa1S5PGuQ5"
      },
      "source": [
        "# Code Finsih Tavish------------------------------------------------"
      ]
    },
    {
      "cell_type": "markdown",
      "metadata": {
        "id": "CxGGekJhFEk4"
      },
      "source": [
        "# Amit Code ARIMAX"
      ]
    },
    {
      "cell_type": "code",
      "metadata": {
        "id": "Jeps99vHsQEF"
      },
      "source": [
        "def ARIMAXProcedure(stockCode):\n",
        "    dataSet = ScriptWiseData[stockCode]\n",
        "    train, test = TrainTestSplitByDateRange(dataSet)\n",
        "    ARIMAXModel = ARIMA(dataSet.Close, exog = dataSet[TechnicalIndicators], order = CalculateAutoArima('BOM500180', dataSet))\n",
        "    ARIMAXModel = ARIMAXModel.fit()\n",
        "    df_pred = ARIMAXModel.predict(start = start_date, end = end_date, exog = test[TechnicalIndicators])\n",
        "    return ARIMAXModel, df_pred"
      ],
      "execution_count": null,
      "outputs": []
    },
    {
      "cell_type": "code",
      "metadata": {
        "id": "S4X6wVaHsQEG",
        "colab": {
          "base_uri": "https://localhost:8080/",
          "height": 296
        },
        "outputId": "20bc93af-c988-4936-bacf-d643a8a99171"
      },
      "source": [
        "ARIMAXModel, df_pred = ARIMAXProcedure(stocks[1])\n",
        "residual = ARIMAXModel.resid"
      ],
      "execution_count": null,
      "outputs": [
        {
          "output_type": "error",
          "ename": "TypeError",
          "evalue": "ignored",
          "traceback": [
            "\u001b[0;31m---------------------------------------------------------------------------\u001b[0m",
            "\u001b[0;31mTypeError\u001b[0m                                 Traceback (most recent call last)",
            "\u001b[0;32m<ipython-input-87-17925556d063>\u001b[0m in \u001b[0;36m<module>\u001b[0;34m()\u001b[0m\n\u001b[0;32m----> 1\u001b[0;31m \u001b[0mARIMAXModel\u001b[0m\u001b[0;34m,\u001b[0m \u001b[0mdf_pred\u001b[0m \u001b[0;34m=\u001b[0m \u001b[0mARIMAXProcedure\u001b[0m\u001b[0;34m(\u001b[0m\u001b[0mstocks\u001b[0m\u001b[0;34m[\u001b[0m\u001b[0;36m1\u001b[0m\u001b[0;34m]\u001b[0m\u001b[0;34m)\u001b[0m\u001b[0;34m\u001b[0m\u001b[0;34m\u001b[0m\u001b[0m\n\u001b[0m\u001b[1;32m      2\u001b[0m \u001b[0mresidual\u001b[0m \u001b[0;34m=\u001b[0m \u001b[0mARIMAXModel\u001b[0m\u001b[0;34m.\u001b[0m\u001b[0mresid\u001b[0m\u001b[0;34m\u001b[0m\u001b[0;34m\u001b[0m\u001b[0m\n",
            "\u001b[0;32m<ipython-input-86-a40d330d1f96>\u001b[0m in \u001b[0;36mARIMAXProcedure\u001b[0;34m(stockCode)\u001b[0m\n\u001b[1;32m      2\u001b[0m     \u001b[0mdataSet\u001b[0m \u001b[0;34m=\u001b[0m \u001b[0mScriptWiseData\u001b[0m\u001b[0;34m[\u001b[0m\u001b[0mstockCode\u001b[0m\u001b[0;34m]\u001b[0m\u001b[0;34m\u001b[0m\u001b[0;34m\u001b[0m\u001b[0m\n\u001b[1;32m      3\u001b[0m     \u001b[0mtrain\u001b[0m\u001b[0;34m,\u001b[0m \u001b[0mtest\u001b[0m \u001b[0;34m=\u001b[0m \u001b[0mTrainTestSplitByDateRange\u001b[0m\u001b[0;34m(\u001b[0m\u001b[0mdataSet\u001b[0m\u001b[0;34m)\u001b[0m\u001b[0;34m\u001b[0m\u001b[0;34m\u001b[0m\u001b[0m\n\u001b[0;32m----> 4\u001b[0;31m     \u001b[0mARIMAXModel\u001b[0m \u001b[0;34m=\u001b[0m \u001b[0mARIMA\u001b[0m\u001b[0;34m(\u001b[0m\u001b[0mdataSet\u001b[0m\u001b[0;34m.\u001b[0m\u001b[0mClose\u001b[0m\u001b[0;34m,\u001b[0m \u001b[0mexog\u001b[0m \u001b[0;34m=\u001b[0m \u001b[0mdataSet\u001b[0m\u001b[0;34m[\u001b[0m\u001b[0mTechnicalIndicators\u001b[0m\u001b[0;34m]\u001b[0m\u001b[0;34m,\u001b[0m \u001b[0morder\u001b[0m \u001b[0;34m=\u001b[0m \u001b[0mCalculateAutoArima\u001b[0m\u001b[0;34m(\u001b[0m\u001b[0;34m'BOM500180'\u001b[0m\u001b[0;34m,\u001b[0m \u001b[0mdataSet\u001b[0m\u001b[0;34m)\u001b[0m\u001b[0;34m)\u001b[0m\u001b[0;34m\u001b[0m\u001b[0;34m\u001b[0m\u001b[0m\n\u001b[0m\u001b[1;32m      5\u001b[0m     \u001b[0mARIMAXModel\u001b[0m \u001b[0;34m=\u001b[0m \u001b[0mARIMAXModel\u001b[0m\u001b[0;34m.\u001b[0m\u001b[0mfit\u001b[0m\u001b[0;34m(\u001b[0m\u001b[0;34m)\u001b[0m\u001b[0;34m\u001b[0m\u001b[0;34m\u001b[0m\u001b[0m\n\u001b[1;32m      6\u001b[0m     \u001b[0mdf_pred\u001b[0m \u001b[0;34m=\u001b[0m \u001b[0mARIMAXModel\u001b[0m\u001b[0;34m.\u001b[0m\u001b[0mpredict\u001b[0m\u001b[0;34m(\u001b[0m\u001b[0mstart\u001b[0m \u001b[0;34m=\u001b[0m \u001b[0mstart_date\u001b[0m\u001b[0;34m,\u001b[0m \u001b[0mend\u001b[0m \u001b[0;34m=\u001b[0m \u001b[0mend_date\u001b[0m\u001b[0;34m,\u001b[0m \u001b[0mexog\u001b[0m \u001b[0;34m=\u001b[0m \u001b[0mtest\u001b[0m\u001b[0;34m[\u001b[0m\u001b[0mTechnicalIndicators\u001b[0m\u001b[0;34m]\u001b[0m\u001b[0;34m)\u001b[0m\u001b[0;34m\u001b[0m\u001b[0;34m\u001b[0m\u001b[0m\n",
            "\u001b[0;31mTypeError\u001b[0m: CalculateAutoArima() missing 4 required positional arguments: 'parameter', 'p', 'd', and 'q'"
          ]
        }
      ]
    },
    {
      "cell_type": "code",
      "metadata": {
        "id": "r4d20HaEsQEG"
      },
      "source": [
        "sgt.plot_acf(residual[1:], zero=False, lags = 40)\n",
        "plt.title(\"ACF of residuals for ARIMA\", size =20)\n",
        "plt.show()"
      ],
      "execution_count": null,
      "outputs": []
    },
    {
      "cell_type": "code",
      "metadata": {
        "id": "B7mlVs8ysQEI"
      },
      "source": [
        "ax = ScriptWiseData[stocks[1]][start_date:end_date].Close.plot(figsize=(20, 5), title=\"S&P 500 Prices\", legend = True)\n",
        "df_pred.plot(title=\"Predicted Prices\", legend = True)\n",
        "ax.legend(['Original', 'Predicted'])\n",
        "plt.show()"
      ],
      "execution_count": null,
      "outputs": []
    },
    {
      "cell_type": "code",
      "metadata": {
        "id": "a5YhxEB8ySjy"
      },
      "source": [
        ""
      ],
      "execution_count": null,
      "outputs": []
    },
    {
      "cell_type": "markdown",
      "metadata": {
        "id": "pizKyOeWsQEM"
      },
      "source": [
        "# SARIMAX MODEL"
      ]
    },
    {
      "cell_type": "code",
      "metadata": {
        "id": "nxyBhFx4sQEN"
      },
      "source": [
        "def SARIMAXProcedure(stockCode):\n",
        "    # decompose\n",
        "    data = ScriptWiseData  [stockCode]\n",
        "    data.index = pd.to_datetime(data.index)\n",
        "    data=data.asfreq('b')\n",
        "    data = data.fillna(method='ffill')\n",
        "    decompose_result = seasonal_decompose(data['Close'], model='add')\n",
        "    \n",
        "    r = auto_arima(data['Close'], exogenous=data[TechnicalIndicators], maxiter=1000) #seasonality, m parameters pending\n",
        "    p, d, q = r.order # define for P, D, Q, S\n",
        "        \n",
        "    train, test = TrainTestSplitByDateRange(data)\n",
        "    \n",
        "    model = SARIMAX(train['Close'], exog = train[TechnicalIndicators] ,order = (p, d, q), seasonal_order = (1,1,1,2), enforce_invertibility = False)\n",
        "    results = model.fit()\n",
        "    predictions = results.predict(start_date, end_date, exog=test[TechnicalIndicators]).rename('SARIMA')\n",
        "    \n",
        "    return decompose_result, results, predictions"
      ],
      "execution_count": null,
      "outputs": []
    },
    {
      "cell_type": "code",
      "metadata": {
        "id": "2TguUxOKsQEO"
      },
      "source": [
        "decompose_result, model, predictions = SARIMAXProcedure(stocks[2])"
      ],
      "execution_count": null,
      "outputs": []
    },
    {
      "cell_type": "markdown",
      "metadata": {
        "id": "ZXAkQSfXsQEQ"
      },
      "source": [
        "### VARMAX MODEL"
      ]
    },
    {
      "cell_type": "code",
      "metadata": {
        "colab": {
          "base_uri": "https://localhost:8080/",
          "height": 447
        },
        "id": "YkcEicyncV81",
        "outputId": "38fe8dc7-3fb0-449e-c948-67daf17ebb2b"
      },
      "source": [
        "ScriptWiseData[stocks[0]]"
      ],
      "execution_count": null,
      "outputs": [
        {
          "output_type": "execute_result",
          "data": {
            "text/html": [
              "<div>\n",
              "<style scoped>\n",
              "    .dataframe tbody tr th:only-of-type {\n",
              "        vertical-align: middle;\n",
              "    }\n",
              "\n",
              "    .dataframe tbody tr th {\n",
              "        vertical-align: top;\n",
              "    }\n",
              "\n",
              "    .dataframe thead th {\n",
              "        text-align: right;\n",
              "    }\n",
              "</style>\n",
              "<table border=\"1\" class=\"dataframe\">\n",
              "  <thead>\n",
              "    <tr style=\"text-align: right;\">\n",
              "      <th></th>\n",
              "      <th>Close</th>\n",
              "      <th>RSI</th>\n",
              "      <th>ATR</th>\n",
              "      <th>MACD</th>\n",
              "      <th>adx</th>\n",
              "      <th>OBV</th>\n",
              "      <th>Normalized_prices</th>\n",
              "      <th>Stock_Returns</th>\n",
              "    </tr>\n",
              "    <tr>\n",
              "      <th>Date</th>\n",
              "      <th></th>\n",
              "      <th></th>\n",
              "      <th></th>\n",
              "      <th></th>\n",
              "      <th></th>\n",
              "      <th></th>\n",
              "      <th></th>\n",
              "      <th></th>\n",
              "    </tr>\n",
              "  </thead>\n",
              "  <tbody>\n",
              "    <tr>\n",
              "      <th>2000-02-11</th>\n",
              "      <td>2090.00</td>\n",
              "      <td>1.364001</td>\n",
              "      <td>131.2700</td>\n",
              "      <td>97.046900</td>\n",
              "      <td>19.756105</td>\n",
              "      <td>246481.0</td>\n",
              "      <td>97.431355</td>\n",
              "      <td>-2.568645</td>\n",
              "    </tr>\n",
              "    <tr>\n",
              "      <th>2000-02-14</th>\n",
              "      <td>2125.00</td>\n",
              "      <td>1.489559</td>\n",
              "      <td>128.1250</td>\n",
              "      <td>92.209986</td>\n",
              "      <td>19.499189</td>\n",
              "      <td>267854.0</td>\n",
              "      <td>99.062981</td>\n",
              "      <td>1.674641</td>\n",
              "    </tr>\n",
              "    <tr>\n",
              "      <th>2000-02-15</th>\n",
              "      <td>2068.90</td>\n",
              "      <td>1.225341</td>\n",
              "      <td>126.1700</td>\n",
              "      <td>83.260861</td>\n",
              "      <td>18.662103</td>\n",
              "      <td>248155.0</td>\n",
              "      <td>96.447718</td>\n",
              "      <td>-2.640000</td>\n",
              "    </tr>\n",
              "    <tr>\n",
              "      <th>2000-02-16</th>\n",
              "      <td>2075.00</td>\n",
              "      <td>1.246006</td>\n",
              "      <td>125.6700</td>\n",
              "      <td>75.754360</td>\n",
              "      <td>17.763029</td>\n",
              "      <td>256662.0</td>\n",
              "      <td>96.732087</td>\n",
              "      <td>0.294843</td>\n",
              "    </tr>\n",
              "    <tr>\n",
              "      <th>2000-02-17</th>\n",
              "      <td>2240.95</td>\n",
              "      <td>1.848351</td>\n",
              "      <td>130.8625</td>\n",
              "      <td>81.300839</td>\n",
              "      <td>18.112124</td>\n",
              "      <td>296910.0</td>\n",
              "      <td>104.468323</td>\n",
              "      <td>7.997590</td>\n",
              "    </tr>\n",
              "    <tr>\n",
              "      <th>...</th>\n",
              "      <td>...</td>\n",
              "      <td>...</td>\n",
              "      <td>...</td>\n",
              "      <td>...</td>\n",
              "      <td>...</td>\n",
              "      <td>...</td>\n",
              "      <td>...</td>\n",
              "      <td>...</td>\n",
              "    </tr>\n",
              "    <tr>\n",
              "      <th>2021-03-17</th>\n",
              "      <td>585.20</td>\n",
              "      <td>0.682121</td>\n",
              "      <td>17.9600</td>\n",
              "      <td>-1.488529</td>\n",
              "      <td>16.856154</td>\n",
              "      <td>7598758.0</td>\n",
              "      <td>27.280779</td>\n",
              "      <td>-2.798771</td>\n",
              "    </tr>\n",
              "    <tr>\n",
              "      <th>2021-03-18</th>\n",
              "      <td>574.50</td>\n",
              "      <td>0.594893</td>\n",
              "      <td>18.3000</td>\n",
              "      <td>-3.999505</td>\n",
              "      <td>18.296442</td>\n",
              "      <td>7374060.0</td>\n",
              "      <td>26.781968</td>\n",
              "      <td>-1.828435</td>\n",
              "    </tr>\n",
              "    <tr>\n",
              "      <th>2021-03-19</th>\n",
              "      <td>578.60</td>\n",
              "      <td>0.647393</td>\n",
              "      <td>18.6500</td>\n",
              "      <td>-5.594151</td>\n",
              "      <td>20.001070</td>\n",
              "      <td>7557363.0</td>\n",
              "      <td>26.973101</td>\n",
              "      <td>0.713664</td>\n",
              "    </tr>\n",
              "    <tr>\n",
              "      <th>2021-03-22</th>\n",
              "      <td>590.95</td>\n",
              "      <td>0.816829</td>\n",
              "      <td>18.3400</td>\n",
              "      <td>-5.794580</td>\n",
              "      <td>20.681635</td>\n",
              "      <td>7804331.0</td>\n",
              "      <td>27.548832</td>\n",
              "      <td>2.134462</td>\n",
              "    </tr>\n",
              "    <tr>\n",
              "      <th>2021-03-23</th>\n",
              "      <td>587.90</td>\n",
              "      <td>0.781779</td>\n",
              "      <td>17.8950</td>\n",
              "      <td>-6.128882</td>\n",
              "      <td>21.210826</td>\n",
              "      <td>7650902.0</td>\n",
              "      <td>27.406648</td>\n",
              "      <td>-0.516118</td>\n",
              "    </tr>\n",
              "  </tbody>\n",
              "</table>\n",
              "<p>5253 rows × 8 columns</p>\n",
              "</div>"
            ],
            "text/plain": [
              "              Close       RSI       ATR       MACD        adx        OBV  \\\n",
              "Date                                                                       \n",
              "2000-02-11  2090.00  1.364001  131.2700  97.046900  19.756105   246481.0   \n",
              "2000-02-14  2125.00  1.489559  128.1250  92.209986  19.499189   267854.0   \n",
              "2000-02-15  2068.90  1.225341  126.1700  83.260861  18.662103   248155.0   \n",
              "2000-02-16  2075.00  1.246006  125.6700  75.754360  17.763029   256662.0   \n",
              "2000-02-17  2240.95  1.848351  130.8625  81.300839  18.112124   296910.0   \n",
              "...             ...       ...       ...        ...        ...        ...   \n",
              "2021-03-17   585.20  0.682121   17.9600  -1.488529  16.856154  7598758.0   \n",
              "2021-03-18   574.50  0.594893   18.3000  -3.999505  18.296442  7374060.0   \n",
              "2021-03-19   578.60  0.647393   18.6500  -5.594151  20.001070  7557363.0   \n",
              "2021-03-22   590.95  0.816829   18.3400  -5.794580  20.681635  7804331.0   \n",
              "2021-03-23   587.90  0.781779   17.8950  -6.128882  21.210826  7650902.0   \n",
              "\n",
              "            Normalized_prices  Stock_Returns  \n",
              "Date                                          \n",
              "2000-02-11          97.431355      -2.568645  \n",
              "2000-02-14          99.062981       1.674641  \n",
              "2000-02-15          96.447718      -2.640000  \n",
              "2000-02-16          96.732087       0.294843  \n",
              "2000-02-17         104.468323       7.997590  \n",
              "...                       ...            ...  \n",
              "2021-03-17          27.280779      -2.798771  \n",
              "2021-03-18          26.781968      -1.828435  \n",
              "2021-03-19          26.973101       0.713664  \n",
              "2021-03-22          27.548832       2.134462  \n",
              "2021-03-23          27.406648      -0.516118  \n",
              "\n",
              "[5253 rows x 8 columns]"
            ]
          },
          "metadata": {
            "tags": []
          },
          "execution_count": 104
        }
      ]
    },
    {
      "cell_type": "code",
      "metadata": {
        "id": "eIIE6inJsQER"
      },
      "source": [
        "def DifferenceToMakeStationary(data, n):\n",
        "    data_transformed = data\n",
        "    for i in range(n):\n",
        "        data_transformed = data_transformed.diff()\n",
        "    data_transformed = data_transformed.dropna()\n",
        "    return data_transformed"
      ],
      "execution_count": null,
      "outputs": []
    },
    {
      "cell_type": "code",
      "metadata": {
        "id": "cgmvjkb5sQER"
      },
      "source": [
        "def InvertDifferencingForActualResults(data,data_differenced, forecast, column, order):\n",
        "    df_forecast = forecast.copy()\n",
        "    n = len(forecast)\n",
        "    for i in range(order):\n",
        "        tempColumn = f'{column}{i}'\n",
        "        # Add the most recent first difference from the training side of the original dataset to the forecast cumulative sum\n",
        "        df_forecast[tempColumn] = (data[column].iloc[-n-1]-data[column].iloc[-n-2]) + df_forecast[column].cumsum()\n",
        "        # Now build the forecast values from the first difference set\n",
        "        df_forecast['Forecast'] = df[column].iloc[-n-1] + df_forecast[tempColumn].cumsum()"
      ],
      "execution_count": null,
      "outputs": []
    },
    {
      "cell_type": "code",
      "metadata": {
        "id": "QbgXCdXYsQES"
      },
      "source": [
        "# Train and fit varmax model\n",
        "def VARMAXProcedure(stockSymbol):\n",
        "    data = ScriptWiseData[stockSymbol][['Close']+TechnicalIndicators] #.reset_index();\n",
        "    data.index.freq = 'B'\n",
        "    # determine values of p,d, q by auto arima.\n",
        "    p, d, q = CalculateAutoArima(stockSymbol, ScriptWiseData[stockSymbol])\n",
        "    \n",
        "    # make data stationary based on auto arima output\n",
        "    data_transformed = DifferenceToMakeStationary(data, d)\n",
        "    \n",
        "    # train test spllit  \n",
        "    train, test = TrainTestSplitByDateRange(data_transformed)\n",
        "    \n",
        "    # fit the model based on above parameters\n",
        "    model = VARMAX(train, order=(p,q))\n",
        "    results = model.fit(maxiter=1000, disp=False)\n",
        "    forecasts = results.forecast(len(test))\n",
        "    \n",
        "    #     forecasts = InvertDifferencingForActualResults()\n",
        "    return results, forecasts"
      ],
      "execution_count": null,
      "outputs": []
    },
    {
      "cell_type": "code",
      "metadata": {
        "id": "t79BiwyDsQET"
      },
      "source": [
        "# model, forecasts = VARMAXProcedure(stocks[0])"
      ],
      "execution_count": null,
      "outputs": []
    },
    {
      "cell_type": "code",
      "metadata": {
        "id": "VUHzF1DPsQEU"
      },
      "source": [
        ""
      ],
      "execution_count": null,
      "outputs": []
    },
    {
      "cell_type": "markdown",
      "metadata": {
        "id": "1UaFn7irsQEU"
      },
      "source": [
        "## Prophet models"
      ]
    },
    {
      "cell_type": "code",
      "metadata": {
        "id": "g_H7mhX2sQEV"
      },
      "source": [
        "from fbprophet.diagnostics import cross_validation, performance_metrics\n",
        "from fbprophet.plot import plot_cross_validation_metric\n",
        "\n",
        "df_start_date = pd.to_datetime(start_date)\n",
        "df_end_date = pd.to_datetime(end_date)"
      ],
      "execution_count": null,
      "outputs": []
    },
    {
      "cell_type": "code",
      "metadata": {
        "id": "4C7KesBmySj2"
      },
      "source": [
        "def ProphetProcedure(stockCode, start_date = start_date, end_date = end_date):\n",
        "    df = ScriptWiseData[stockCode][['Close']]\n",
        "    df.index = pd.to_datetime(df.index)\n",
        "    df = df.reset_index()\n",
        "    \n",
        "    df.columns = ['ds', 'y']\n",
        "    \n",
        "    test_start_date = pd.to_datetime(start_date)\n",
        "    test_end_date = pd.to_datetime(end_date)\n",
        "    \n",
        "    train = df.loc[df.ds<df_start_date]\n",
        "    test = df.loc[df.ds>=df_start_date]\n",
        "    m = Prophet()\n",
        "\n",
        "    m.fit(train)\n",
        "    future = m.make_future_dataframe(periods = len(test)-1, freq = \"B\")\n",
        "#     test_t = test.set_index('ds')\n",
        "#     future = future.set_index('ds')\n",
        "#     future = test_t[].join(future).reset_index()\n",
        "    forecast = m.predict(future)\n",
        "    \n",
        "        # initial\n",
        "    initial = str(5*365)+' days'\n",
        "\n",
        "    #period\n",
        "    period = str(365)+' days'\n",
        "\n",
        "    #horizon\n",
        "    horizon = str(365) + ' days'\n",
        "    df_cv = cross_validation(m, initial = initial, period = period, horizon = horizon)\n",
        "    \n",
        "    return m, forecast, df_cv"
      ],
      "execution_count": null,
      "outputs": []
    },
    {
      "cell_type": "code",
      "metadata": {
        "id": "BF9hJKuPsQEW"
      },
      "source": [
        "def ProphetProcedureWithExogenousVariables(stockCode, start_date = start_date, end_date = end_date):\n",
        "    df = ScriptWiseData[stockCode][['Close']+TechnicalIndicators]\n",
        "    df.index = pd.to_datetime(df.index)\n",
        "    df = df.reset_index()\n",
        "    \n",
        "    df.columns = ['ds', 'y'] + TechnicalIndicators\n",
        "    \n",
        "    test_start_date = pd.to_datetime(start_date)\n",
        "    test_end_date = pd.to_datetime(end_date)\n",
        "    \n",
        "    train = df.loc[df.ds<df_start_date]\n",
        "    test = df.loc[df.ds>=df_start_date]\n",
        "#     return df, 1\n",
        "    m = Prophet()\n",
        "    for t in TechnicalIndicators:\n",
        "        m.add_regressor(t)\n",
        "    m.fit(train)\n",
        "    future = m.make_future_dataframe(periods = len(test)-1, freq = \"B\")\n",
        "    test_t = test.set_index('ds')\n",
        "    future = future.set_index('ds')\n",
        "    future = test_t[TechnicalIndicators].join(future).reset_index()\n",
        "    forecast = m.predict(future)\n",
        "    \n",
        "        # initial\n",
        "    initial = str(5*365)+' days'\n",
        "\n",
        "    #period\n",
        "    period = str(365)+' days'\n",
        "\n",
        "    #horizon\n",
        "    horizon = str(365) + ' days'\n",
        "    df_cv = cross_validation(m, initial = initial, period = period, horizon = horizon)\n",
        "    \n",
        "    return m, forecast, df_cv"
      ],
      "execution_count": null,
      "outputs": []
    },
    {
      "cell_type": "code",
      "metadata": {
        "id": "abgGChmWySj3"
      },
      "source": [
        "# Hyper parameter tuning\n",
        "# param_grid = {  \n",
        "#     'changepoint_prior_scale': [0.001, 0.01, 0.1, 0.5],\n",
        "#     'seasonality_prior_scale': [0.01, 0.1, 1.0, 10.0],\n",
        "# }\n",
        "\n",
        "# # Generate all combinations of parameters\n",
        "# all_params = [dict(zip(param_grid.keys(), v)) for v in itertools.product(*param_grid.values())]\n",
        "# rmses = []  # Store the RMSEs for each params here\n",
        "\n",
        "# # Use cross validation to evaluate all parameters\n",
        "# for params in all_params:\n",
        "#     m = Prophet(**params).fit(df)  # Fit model with given params\n",
        "#     df_cv = cross_validation(m, cutoffs=cutoffs, horizon='30 days', parallel=\"processes\")\n",
        "#     df_p = performance_metrics(df_cv, rolling_window=1)\n",
        "#     rmses.append(df_p['rmse'].values[0])\n",
        "\n",
        "# # Find the best parameters\n",
        "# tuning_results = pd.DataFrame(all_params)\n",
        "# tuning_results['rmse'] = rmses\n",
        "# print(tuning_results)"
      ],
      "execution_count": null,
      "outputs": []
    },
    {
      "cell_type": "code",
      "metadata": {
        "id": "zK5q6e0vySj3"
      },
      "source": [
        "# initalize result variable\n",
        "ProphetSingleRegressionResults = pd.DataFrame(columns = ['StockName','MAE','MAPE', 'RMSE', 'AdjustedR2', 'Noise'], index = stocks)\n",
        "for s in stocks:\n",
        "    print(s)\n",
        "    try:\n",
        "        m, forecast, df_cv = ProphetProcedure(s)\n",
        "        val_metrics = performance_metrics(df_cv)\n",
        "        ProphetSingleRegressionResults.loc[s, ['StockName']] =  getStockNameFromStockCode(s)\n",
        "        ProphetSingleRegressionResults.loc[s, ['MAE']] =  val_metrics['mae'][0]\n",
        "        ProphetSingleRegressionResults.loc[s, ['RMSE']] = np.sqrt(val_metrics['mse'][0])\n",
        "        t = df_cv.dropna()\n",
        "        ProphetSingleRegressionResults.loc[s, ['MAPE']] = mean_absolute_percentage_error(t.y, t.yhat)\n",
        "        ProphetSingleRegressionResults.loc[s, ['AdjustedR2']] = r2_score(t.y, t.yhat)\n",
        "        ProphetSingleRegressionResults.loc[s, ['Noise']] = t.yhat.diff().abs().mean()\n",
        "        print('Success')\n",
        "    except:\n",
        "        print(\"Error Occured\", sys.exc_info())\n",
        "        \n",
        "ProphetSingleRegressionResults.to_csv('Outputs/ProphetSingleRegressionResults.csv')"
      ],
      "execution_count": null,
      "outputs": []
    },
    {
      "cell_type": "code",
      "metadata": {
        "id": "03-gyoVE4U3b"
      },
      "source": [
        "# initalize result variable\n",
        "ProphetMultipleRegressionResults = pd.DataFrame(columns = ['StockName','MAE','MAPE', 'RMSE', 'AdjustedR2', 'Noise'], index = stocks)\n",
        "for s in stocks:\n",
        "    print(s)\n",
        "    # try:\n",
        "    m, forecast, df_cv = ProphetProcedureWithExogenousVariables(s)\n",
        "    val_metrics = performance_metrics(df_cv)\n",
        "    ProphetMultipleRegressionResults.loc[s, ['StockName']] =  getStockNameFromStockCode(s)\n",
        "    ProphetMultipleRegressionResults.loc[s, ['MAE']] =  val_metrics['mae'][0]\n",
        "    ProphetMultipleRegressionResults.loc[s, ['RMSE']] = np.sqrt(val_metrics['mse'][0])\n",
        "    t = df_cv.dropna()\n",
        "    ProphetMultipleRegressionResults.loc[s, ['MAPE']] = mean_absolute_percentage_error(t.y, t.yhat)\n",
        "    ProphetMultipleRegressionResults.loc[s, ['AdjustedR2']] = r2_score(t.y, t.yhat)\n",
        "    ProphetMultipleRegressionResults.loc[s, ['Noise']] = t.yhat.diff().abs().mean()\n",
        "    print('Success')\n",
        "    # except:\n",
        "    #     print(\"Error Occured\", sys.exc_info())\n",
        "        \n",
        "ProphetMultipleRegressionResults.to_csv('Outputs/ProphetMultipleRegressionResults.csv')"
      ],
      "execution_count": null,
      "outputs": []
    },
    {
      "cell_type": "code",
      "metadata": {
        "id": "K9_j1T4gsQEX"
      },
      "source": [
        "# for plotting\n",
        "df = ScriptWiseData[stocks[1]]\n",
        "df.index = pd.to_datetime(df.index)\n",
        "df = df.reset_index()\n",
        "df.columns = ['ds', 'y'] + TechnicalIndicators"
      ],
      "execution_count": null,
      "outputs": []
    },
    {
      "cell_type": "code",
      "metadata": {
        "colab": {
          "base_uri": "https://localhost:8080/",
          "height": 110
        },
        "id": "IANNH2vFySj4",
        "outputId": "dc575de1-f961-4c55-b7c7-0dd68ee13d8d"
      },
      "source": [
        "results = performance_metrics(df_cv)\n",
        "results.head(2)"
      ],
      "execution_count": null,
      "outputs": [
        {
          "output_type": "execute_result",
          "data": {
            "text/html": [
              "<div>\n",
              "<style scoped>\n",
              "    .dataframe tbody tr th:only-of-type {\n",
              "        vertical-align: middle;\n",
              "    }\n",
              "\n",
              "    .dataframe tbody tr th {\n",
              "        vertical-align: top;\n",
              "    }\n",
              "\n",
              "    .dataframe thead th {\n",
              "        text-align: right;\n",
              "    }\n",
              "</style>\n",
              "<table border=\"1\" class=\"dataframe\">\n",
              "  <thead>\n",
              "    <tr style=\"text-align: right;\">\n",
              "      <th></th>\n",
              "      <th>horizon</th>\n",
              "      <th>mse</th>\n",
              "      <th>rmse</th>\n",
              "      <th>mae</th>\n",
              "      <th>mape</th>\n",
              "      <th>mdape</th>\n",
              "      <th>coverage</th>\n",
              "    </tr>\n",
              "  </thead>\n",
              "  <tbody>\n",
              "    <tr>\n",
              "      <th>0</th>\n",
              "      <td>38 days</td>\n",
              "      <td>20448.006508</td>\n",
              "      <td>142.996526</td>\n",
              "      <td>102.344610</td>\n",
              "      <td>0.267562</td>\n",
              "      <td>0.141858</td>\n",
              "      <td>0.760108</td>\n",
              "    </tr>\n",
              "    <tr>\n",
              "      <th>1</th>\n",
              "      <td>39 days</td>\n",
              "      <td>21386.069783</td>\n",
              "      <td>146.239768</td>\n",
              "      <td>104.267321</td>\n",
              "      <td>0.273636</td>\n",
              "      <td>0.141858</td>\n",
              "      <td>0.754717</td>\n",
              "    </tr>\n",
              "  </tbody>\n",
              "</table>\n",
              "</div>"
            ],
            "text/plain": [
              "  horizon           mse        rmse         mae      mape     mdape  coverage\n",
              "0 38 days  20448.006508  142.996526  102.344610  0.267562  0.141858  0.760108\n",
              "1 39 days  21386.069783  146.239768  104.267321  0.273636  0.141858  0.754717"
            ]
          },
          "metadata": {
            "tags": []
          },
          "execution_count": 105
        }
      ]
    },
    {
      "cell_type": "code",
      "metadata": {
        "id": "EPn7yuFdsQEY",
        "colab": {
          "base_uri": "https://localhost:8080/",
          "height": 873
        },
        "outputId": "d2f241d7-b6a3-4fe7-e71f-b9ce92bba229"
      },
      "source": [
        "m.plot_components(forecast);"
      ],
      "execution_count": null,
      "outputs": [
        {
          "output_type": "display_data",
          "data": {
            "image/png": "[encoded data removed]",
            "text/plain": [
              "<Figure size 648x864 with 4 Axes>"
            ]
          },
          "metadata": {
            "tags": []
          }
        }
      ]
    },
    {
      "cell_type": "code",
      "metadata": {
        "id": "Gox2oG3esQEa",
        "colab": {
          "base_uri": "https://localhost:8080/",
          "height": 483
        },
        "outputId": "7930442a-665c-47e5-b16b-47595cd0a496"
      },
      "source": [
        "ax = forecast.plot(x='ds',y='yhat',label='Predictions',legend=True,figsize=(12,8))\n",
        "\n",
        "df.plot(x='ds',y='y',label='Actual Price',legend=True,ax=ax) #,xlim=(df_start_date,df_end_date))"
      ],
      "execution_count": null,
      "outputs": [
        {
          "output_type": "execute_result",
          "data": {
            "text/plain": [
              "<matplotlib.axes._subplots.AxesSubplot at 0x7f0c3fafb850>"
            ]
          },
          "metadata": {
            "tags": []
          },
          "execution_count": 107
        },
        {
          "output_type": "display_data",
          "data": {
            "image/png": "[encoded data removed]",
            "text/plain": [
              "<Figure size 864x576 with 1 Axes>"
            ]
          },
          "metadata": {
            "tags": [],
            "needs_background": "light"
          }
        }
      ]
    },
    {
      "cell_type": "code",
      "metadata": {
        "id": "mE7wTtvhsQEc"
      },
      "source": [
        ""
      ],
      "execution_count": null,
      "outputs": []
    },
    {
      "cell_type": "code",
      "metadata": {
        "id": "1f8LM00WsQEe",
        "colab": {
          "base_uri": "https://localhost:8080/",
          "height": 388
        },
        "outputId": "4a875d9b-5bc0-4e5c-c5ca-3f783817b30e"
      },
      "source": [
        "plot_cross_validation_metric(df_cv, metric='rmse');"
      ],
      "execution_count": null,
      "outputs": [
        {
          "output_type": "display_data",
          "data": {
            "image/png": "[encoded data removed]",
            "text/plain": [
              "<Figure size 720x432 with 1 Axes>"
            ]
          },
          "metadata": {
            "tags": []
          }
        }
      ]
    },
    {
      "cell_type": "markdown",
      "metadata": {
        "id": "JR3DmOZ4sQEf"
      },
      "source": [
        "## Neural Prophet and AR-Net"
      ]
    },
    {
      "cell_type": "code",
      "metadata": {
        "id": "BVeij9D7sQEg"
      },
      "source": [
        "from neuralprophet import NeuralProphet, set_random_seed , set_log_level\n",
        "set_random_seed(0)\n",
        "set_log_level(\"ERROR\")"
      ],
      "execution_count": null,
      "outputs": []
    },
    {
      "cell_type": "code",
      "metadata": {
        "id": "unpLeFwSsQEg"
      },
      "source": [
        "df = ScriptWiseData['BOM500180'].reset_index()\n",
        "df = df[['Date', 'Close']]\n",
        "df.columns = ['ds', 'y']\n",
        "df.head()"
      ],
      "execution_count": null,
      "outputs": []
    },
    {
      "cell_type": "markdown",
      "metadata": {
        "id": "7crbHcAmsQEh"
      },
      "source": [
        "### Basic Model"
      ]
    },
    {
      "cell_type": "code",
      "metadata": {
        "id": "5UOQd_aAsQEi"
      },
      "source": [
        "def BuildNeuralProphetModels(dataset, start_date = start_date, end_date = end_date, n_forecasts = 1, n_lags = 5, columnName = 'Close'):\n",
        "    # prepare the dataset\n",
        "    df = dataset.reset_index()\n",
        "    df = df[['Date', columnName]]\n",
        "    df.columns = ['ds', 'y']\n",
        "    \n",
        "    # train test splilt\n",
        "    train = df.loc[(df['ds'] < start_date)]\n",
        "    df_test = df.loc[(df['ds'] >= start_date) & (df['ds'] <= end_date)]\n",
        "    \n",
        "    # initalize the model\n",
        "    m = NeuralProphet(n_forecasts=n_forecasts,n_lags=n_lags)\n",
        "    \n",
        "    # split the training set into train and validation set\n",
        "    df_train, df_val = m.split_df(train, valid_p=0.2, freq='D')\n",
        "\n",
        "    # fit and test the model\n",
        "    train_metrics = m.fit(df_train, freq='D', progress_bar = False)\n",
        "    val_metrics = m.test(df_val)\n",
        "    \n",
        "    # make forecasts\n",
        "    future = m.make_future_dataframe(df_test, periods=len(df_test), n_historic_predictions=len(df_test))\n",
        "#     future = m.make_future_dataframe(df_test, n_historic_predictions= True)\n",
        "    forecast = m.predict(future)\n",
        "    return (m, forecast,  train_metrics, val_metrics)"
      ],
      "execution_count": null,
      "outputs": []
    },
    {
      "cell_type": "code",
      "metadata": {
        "id": "HFRo2vnvySj8"
      },
      "source": [
        "# NPSingleRegressionResults.loc[s, ['StockName']] =  getStockNameFromStockCode(s)\n",
        "# NPSingleRegressionResults.loc[s, ['MAE']] =  val_metrics['MAE'][0]\n",
        "# NPSingleRegressionResults.loc[s, ['RMSE']] = np.sqrt(val_metrics['MSE'][0])\n",
        "# t = forecast.dropna()\n",
        "# NPSingleRegressionResults.loc[s, ['MAPE']] = mean_absolute_percentage_error(t.y, t.yhat1)\n",
        "# NPSingleRegressionResults.loc[s, ['AdjustedR2']] = r2_score(t.y, t.yhat1)\n",
        "# NPSingleRegressionResults.loc[s, ['Noise']] = t.yhat1.diff().abs().mean()"
      ],
      "execution_count": null,
      "outputs": []
    },
    {
      "cell_type": "code",
      "metadata": {
        "id": "iFMxZrpdsQEj",
        "scrolled": true
      },
      "source": [
        "# initalize result variable\n",
        "NPSingleRegressionResults = pd.DataFrame(columns = ['StockName','MAE','MAPE', 'RMSE', 'AdjustedR2', 'Noise'], index = stocks)\n",
        "for s in stocks:\n",
        "    print(s)\n",
        "    try:\n",
        "        m, forecast , train_metrics, val_metrics = BuildNeuralProphetModels(ScriptWiseData[s])\n",
        "        NPSingleRegressionResults.loc[s, ['StockName']] =  getStockNameFromStockCode(s)\n",
        "        NPSingleRegressionResults.loc[s, ['MAE']] =  val_metrics['MAE'][0]\n",
        "        NPSingleRegressionResults.loc[s, ['RMSE']] = np.sqrt(val_metrics['MSE'][0])\n",
        "        t = forecast.dropna()\n",
        "        NPSingleRegressionResults.loc[s, ['MAPE']] = mean_absolute_percentage_error(t.y, t.yhat1)\n",
        "        NPSingleRegressionResults.loc[s, ['AdjustedR2']] = r2_score(t.y, t.yhat1)\n",
        "        NPSingleRegressionResults.loc[s, ['Noise']] = t.yhat1.diff().abs().mean()\n",
        "        print('Success')\n",
        "    except:\n",
        "        print(\"Error Occured\")\n",
        "        \n",
        "NPSingleRegressionResults.to_csv('Outputs/Neural Prophet Single Regression Results.csv')"
      ],
      "execution_count": null,
      "outputs": []
    },
    {
      "cell_type": "code",
      "metadata": {
        "id": "fVPgEvwpySj9"
      },
      "source": [
        "NPSingleRegressionResults"
      ],
      "execution_count": null,
      "outputs": []
    },
    {
      "cell_type": "markdown",
      "metadata": {
        "id": "-gFYa-NAsQEk"
      },
      "source": [
        "#### Plot the forecast"
      ]
    },
    {
      "cell_type": "code",
      "metadata": {
        "id": "AnvjUMdgsQEl"
      },
      "source": [
        "# forecasts_plot = m.plot(forecast)"
      ],
      "execution_count": null,
      "outputs": []
    },
    {
      "cell_type": "code",
      "metadata": {
        "id": "68PEOkGOsQEm"
      },
      "source": [
        "# fig_comp = m.plot_components(forecast);"
      ],
      "execution_count": null,
      "outputs": []
    },
    {
      "cell_type": "code",
      "metadata": {
        "id": "yAJ_OsqssQEn"
      },
      "source": [
        "# fig_param = m.plot_parameters()"
      ],
      "execution_count": null,
      "outputs": []
    },
    {
      "cell_type": "markdown",
      "metadata": {
        "id": "Vnn3hoFAsQEn"
      },
      "source": [
        "#### Validating the dataset"
      ]
    },
    {
      "cell_type": "code",
      "metadata": {
        "id": "Ex3Z1xDIsQEo"
      },
      "source": [
        "# m = NeuralProphet()\n",
        "# df_train, df_val = m.split_df(df, valid_p=0.2, freq='D')"
      ],
      "execution_count": null,
      "outputs": []
    },
    {
      "cell_type": "code",
      "metadata": {
        "id": "PC67AMB6sQEp"
      },
      "source": [
        "# train_metrics = m.fit(df_train, freq='D')\n",
        "# val_metrics = m.test(df_val)"
      ],
      "execution_count": null,
      "outputs": []
    },
    {
      "cell_type": "markdown",
      "metadata": {
        "id": "Fw9UprMlsQEq"
      },
      "source": [
        "## Multiple regressors"
      ]
    },
    {
      "cell_type": "code",
      "metadata": {
        "id": "IxsXDTejsQEr"
      },
      "source": [
        "def BuildNeuralProphetModelsWithMultipleRegressors(dataset, start_date = start_date, end_date = end_date, n_forecasts = 1, n_lags = 5):\n",
        "    # prepare the dataset\n",
        "    df = dataset.reset_index()\n",
        "    df = df[['Date', 'Close']+TechnicalIndicators]\n",
        "    df.columns = ['ds', 'y', 'A', 'B', 'C', 'D', 'E']\n",
        "    \n",
        "    # train test splilt\n",
        "    train = df.loc[(df['ds'] < start_date)]\n",
        "    df_test = df.loc[(df['ds'] >= start_date) & (df['ds'] <= end_date)]\n",
        "    \n",
        "    # initalize the model\n",
        "    m = NeuralProphet(n_forecasts=n_forecasts,n_lags=n_lags)\n",
        "    # lagged regressors\n",
        "    m.add_lagged_regressor(name='A')\n",
        "    m.add_lagged_regressor(name='B')\n",
        "    m.add_lagged_regressor(name='C')\n",
        "    m.add_lagged_regressor(name='D')\n",
        "    m.add_lagged_regressor(name='E')\n",
        "    \n",
        "    # split the training set into train and validation set\n",
        "    df_train, df_val = m.split_df(train, valid_p=0.2, freq='D')\n",
        "\n",
        "    # fit and test the model\n",
        "    train_metrics = m.fit(df_train, freq='D',progress_bar = False)\n",
        "    val_metrics = m.test(df_val)\n",
        "    \n",
        "    # make forecasts\n",
        "    # future = m.make_future_dataframe(df_test, periods=len(df_test), n_historic_predictions=len(df_test))\n",
        "    future = m.make_future_dataframe(df_test, n_historic_predictions= True)\n",
        "    forecast = m.predict(future)\n",
        "    return (m, forecast,  train_metrics, val_metrics)"
      ],
      "execution_count": null,
      "outputs": []
    },
    {
      "cell_type": "code",
      "metadata": {
        "id": "JgAWkgGaySj_"
      },
      "source": [
        "# m, forecast , train_metrics, val_metrics = BuildNeuralProphetModelsWithMultipleRegressors(ScriptWiseData[stocks[0]])"
      ],
      "execution_count": null,
      "outputs": []
    },
    {
      "cell_type": "code",
      "metadata": {
        "scrolled": true,
        "id": "Urm0uHp-ySkA"
      },
      "source": [
        "# initalize result variable\n",
        "NPExogenousRegressionResults = pd.DataFrame(columns = ['StockName','MAE','MAPE', 'RMSE', 'AdjustedR2', 'Noise'], index = stocks)\n",
        "for s in stocks:\n",
        "    print(s)\n",
        "    try:\n",
        "        m, forecast , train_metrics, val_metrics = BuildNeuralProphetModelsWithMultipleRegressors(ScriptWiseData[s])\n",
        "        NPExogenousRegressionResults.loc[s, ['StockName']] =  getStockNameFromStockCode(s)\n",
        "        NPExogenousRegressionResults.loc[s, ['MAE']] =  val_metrics['MAE'][0]\n",
        "        NPExogenousRegressionResults.loc[s, ['RMSE']] = np.sqrt(val_metrics['MSE'][0])\n",
        "        t = forecast.dropna()\n",
        "        NPExogenousRegressionResults.loc[s, ['MAPE']] = mean_absolute_percentage_error(t.y, t.yhat1)\n",
        "        NPExogenousRegressionResults.loc[s, ['AdjustedR2']] = r2_score(t.y, t.yhat1)\n",
        "        NPExogenousRegressionResults.loc[s, ['Noise']] = t.yhat1.diff().abs().mean()\n",
        "        print('Success')\n",
        "    except:\n",
        "        print(\"Error Occured\")\n",
        "        \n",
        "NPExogenousRegressionResults.to_csv('Outputs/Neural Prophet Regression With Exogenous Variables Results.csv')"
      ],
      "execution_count": null,
      "outputs": []
    },
    {
      "cell_type": "code",
      "metadata": {
        "id": "CEGp5vfuySkD"
      },
      "source": [
        "NPExogenousRegressionResults"
      ],
      "execution_count": null,
      "outputs": []
    },
    {
      "cell_type": "code",
      "metadata": {
        "id": "16pOZk1XsQEs"
      },
      "source": [
        "# # m = NeuralProphet()\n",
        "# # metrics = m.fit(df, freq=\"D\")\n",
        "# for s in stocks:\n",
        "#     print(s)\n",
        "#     try:\n",
        "#         m, forecast , train_metrics, val_metrics = BuildNeuralProphetModelsWithMultipleRegressors(ScriptWiseData[s])\n",
        "# #         m, forecast , train_metrics, val_metrics = BuildNeuralProphetModels(ScriptWiseData[s])\n",
        "#         print('Succeess')\n",
        "#     except:\n",
        "#         print(\"Error Occured\")"
      ],
      "execution_count": null,
      "outputs": []
    },
    {
      "cell_type": "code",
      "metadata": {
        "id": "gJDocg0isQEt"
      },
      "source": [
        "# forecasts_plot = m.plot(forecast)\n",
        "# fig_comp = m.plot_components(forecast)"
      ],
      "execution_count": null,
      "outputs": []
    },
    {
      "cell_type": "code",
      "metadata": {
        "id": "k7_zgfYCsQEu"
      },
      "source": [
        "# train_metrics.sort_values(by=['MAE', 'MSE'], ascending = [False, False]).head(3)"
      ],
      "execution_count": null,
      "outputs": []
    },
    {
      "cell_type": "code",
      "metadata": {
        "id": "IVGLomUasQEv"
      },
      "source": [
        "# train_metrics.sort_values(by=['MAE', 'MSE'], ascending = [True, True]).head(3)"
      ],
      "execution_count": null,
      "outputs": []
    },
    {
      "cell_type": "code",
      "metadata": {
        "id": "jvXf6qb4sQEw"
      },
      "source": [
        "# val_metrics"
      ],
      "execution_count": null,
      "outputs": []
    },
    {
      "cell_type": "code",
      "metadata": {
        "id": "9q25PaJusQEx"
      },
      "source": [
        ""
      ],
      "execution_count": null,
      "outputs": []
    }
  ]
}