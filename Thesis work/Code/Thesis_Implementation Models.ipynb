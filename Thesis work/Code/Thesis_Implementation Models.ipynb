{
  "nbformat": 4,
  "nbformat_minor": 0,
  "metadata": {
    "accelerator": "GPU",
    "colab": {
      "name": "Thesis_Implementation Models.ipynb",
      "provenance": [],
      "collapsed_sections": [
        "pSCAtI-QsQC3",
        "isbyxB0RsQDC",
        "wS7xJCpYsQDb",
        "pIDupQCqsQDi",
        "ngJ2AiInsQDr",
        "QHqbBLRXsQDt",
        "g-dEHWHqsQDv",
        "ZuatJ5wSsQD0",
        "Ru8Key50sQD3",
        "tMsWXE90sQDx",
        "JR3DmOZ4sQEf",
        "7crbHcAmsQEh",
        "-gFYa-NAsQEk",
        "Vnn3hoFAsQEn",
        "Fw9UprMlsQEq"
      ]
    },
    "kernelspec": {
      "display_name": "Python 3",
      "language": "python",
      "name": "python3"
    },
    "language_info": {
      "codemirror_mode": {
        "name": "ipython",
        "version": 3
      },
      "file_extension": ".py",
      "mimetype": "text/x-python",
      "name": "python",
      "nbconvert_exporter": "python",
      "pygments_lexer": "ipython3",
      "version": "3.8.5"
    }
  },
  "cells": [
    {
      "cell_type": "markdown",
      "metadata": {
        "id": "3nlUR9HSSzzI"
      },
      "source": [
        "# Libraries import"
      ]
    },
    {
      "cell_type": "code",
      "metadata": {
        "id": "p1d435E2sQCS"
      },
      "source": [
        "# from google.colab import drive\n",
        "# drive.mount('/content/gdrive')\n",
        "# import os\n",
        "# os.environ['KAGGLE_CONFIG_DIR'] = \"/content/gdrive/My Drive/Colab Notebooks\"\n",
        "# %cd /content/gdrive/My Drive/Colab Notebooks"
      ],
      "execution_count": 28,
      "outputs": []
    },
    {
      "cell_type": "code",
      "metadata": {
        "id": "gOcpoBQwsQCW"
      },
      "source": [
        "# # uncomment this cell for first run to install the packages.\n",
        "# !pip install quandl\n",
        "# !pip install ta \n",
        "# !pip install git+https://github.com/ourownstory/neural_prophet.git\n",
        "# !pip install -U prophet\n",
        "# !pip install  -U statsmodels\n",
        "# !pip install -U sklearn\n",
        "# !pip install -U scikit-learn\n",
        "# !pip install -U pmdarima\n",
        "\n",
        "\n"
      ],
      "execution_count": 29,
      "outputs": []
    },
    {
      "cell_type": "code",
      "metadata": {
        "id": "mBx16hbRsQCZ"
      },
      "source": [
        "# import os\n",
        "import numpy as np\n",
        "import pandas as pd\n",
        "import re\n",
        "from math import sqrt\n",
        "import quandl\n",
        "import matplotlib.pyplot as plt\n",
        "import seaborn as sns\n",
        "from sklearn.preprocessing import StandardScaler\n",
        "\n",
        "from statsmodels.tsa.arima.model import ARIMA\n",
        "from sklearn.metrics import mean_absolute_percentage_error, mean_squared_error, r2_score, mean_absolute_error\n",
        "# for mean_squared_error set squared = False for RMSE, (y_true, y_pred)\n",
        "from sklearn.model_selection import train_test_split\n",
        "\n",
        "# stats models\n",
        "from statsmodels.tsa.arima_model import ARMA, ARIMA, ARMAResults, ARIMAResults\n",
        "from statsmodels.graphics.tsaplots import plot_acf, plot_pacf\n",
        "import statsmodels.tsa.stattools as sts\n",
        "from statsmodels.tsa.statespace.varmax import VARMAX, VARMAXResults\n",
        "from statsmodels.tsa.statespace.sarimax import SARIMAX\n",
        "from statsmodels.tsa.seasonal import seasonal_decompose\n",
        "from statsmodels.tsa.statespace.tools import diff\n",
        "from statsmodels.tools.eval_measures import rmse\n",
        "import statsmodels.graphics.tsaplots as sgt\n",
        "\n",
        "from pmdarima import auto_arima\n",
        "from fbprophet import Prophet\n",
        "import copy\n",
        "import random\n",
        "import sys\n",
        "import itertools\n",
        "import warnings\n",
        "import os\n",
        "warnings.filterwarnings('ignore')"
      ],
      "execution_count": 30,
      "outputs": []
    },
    {
      "cell_type": "code",
      "metadata": {
        "id": "eilgUocVCxuP"
      },
      "source": [
        "path = './Outputs/'\n",
        "if(not os.path.isdir(path)):\n",
        "    os.mkdir(path)"
      ],
      "execution_count": 31,
      "outputs": []
    },
    {
      "cell_type": "code",
      "metadata": {
        "id": "jF50ziK2sQCh"
      },
      "source": [
        "pd.set_option('display.max_columns', None)"
      ],
      "execution_count": 32,
      "outputs": []
    },
    {
      "cell_type": "code",
      "metadata": {
        "id": "fSEgJtsYsQCi"
      },
      "source": [
        "quandl.ApiConfig.api_key = \"2At3atzXCrMx_BXfkyz7\"\n",
        "# 6b7jcHuxwW7Wot1kyFNS"
      ],
      "execution_count": 33,
      "outputs": []
    },
    {
      "cell_type": "markdown",
      "metadata": {
        "id": "AIFIC6fhsQCk"
      },
      "source": [
        "# Data to be used"
      ]
    },
    {
      "cell_type": "code",
      "metadata": {
        "colab": {
          "base_uri": "https://localhost:8080/",
          "height": 202
        },
        "id": "Exefd7g1sQCm",
        "outputId": "03fbc383-c942-4415-e2c6-6f196cd73853"
      },
      "source": [
        "metadata = pd.read_csv('BSE_metadata.csv')\n",
        "metadata.head()"
      ],
      "execution_count": 34,
      "outputs": [
        {
          "output_type": "execute_result",
          "data": {
            "text/html": [
              "<div>\n",
              "<style scoped>\n",
              "    .dataframe tbody tr th:only-of-type {\n",
              "        vertical-align: middle;\n",
              "    }\n",
              "\n",
              "    .dataframe tbody tr th {\n",
              "        vertical-align: top;\n",
              "    }\n",
              "\n",
              "    .dataframe thead th {\n",
              "        text-align: right;\n",
              "    }\n",
              "</style>\n",
              "<table border=\"1\" class=\"dataframe\">\n",
              "  <thead>\n",
              "    <tr style=\"text-align: right;\">\n",
              "      <th></th>\n",
              "      <th>code</th>\n",
              "      <th>name</th>\n",
              "      <th>description</th>\n",
              "      <th>refreshed_at</th>\n",
              "      <th>from_date</th>\n",
              "      <th>to_date</th>\n",
              "    </tr>\n",
              "  </thead>\n",
              "  <tbody>\n",
              "    <tr>\n",
              "      <th>0</th>\n",
              "      <td>BOM500002</td>\n",
              "      <td>ABB India Limited EOD Prices</td>\n",
              "      <td>End of Day prices and additional trading infor...</td>\n",
              "      <td>1/19/2021 14:15</td>\n",
              "      <td>3/2/1992</td>\n",
              "      <td>1/18/2021</td>\n",
              "    </tr>\n",
              "    <tr>\n",
              "      <th>1</th>\n",
              "      <td>BOM500003</td>\n",
              "      <td>AEGIS LOGISTICS LTD. EOD Prices</td>\n",
              "      <td>End of Day prices and additional trading infor...</td>\n",
              "      <td>1/19/2021 14:15</td>\n",
              "      <td>3/2/1992</td>\n",
              "      <td>1/18/2021</td>\n",
              "    </tr>\n",
              "    <tr>\n",
              "      <th>2</th>\n",
              "      <td>BOM500008</td>\n",
              "      <td>AMARA RAJA BATTERIES LTD. EOD Prices</td>\n",
              "      <td>End of Day prices and additional trading infor...</td>\n",
              "      <td>1/19/2021 14:15</td>\n",
              "      <td>3/2/1992</td>\n",
              "      <td>1/18/2021</td>\n",
              "    </tr>\n",
              "    <tr>\n",
              "      <th>3</th>\n",
              "      <td>BOM500009</td>\n",
              "      <td>AMBALAL SARABHAI ENTERPRISES LTD. EOD Prices</td>\n",
              "      <td>End of Day prices and additional trading infor...</td>\n",
              "      <td>1/19/2021 14:15</td>\n",
              "      <td>3/2/1992</td>\n",
              "      <td>1/18/2021</td>\n",
              "    </tr>\n",
              "    <tr>\n",
              "      <th>4</th>\n",
              "      <td>BOM500010</td>\n",
              "      <td>HOUSING DEVELOPMENT FINANCE CORP.LTD. EOD Prices</td>\n",
              "      <td>End of Day prices and additional trading infor...</td>\n",
              "      <td>1/19/2021 14:15</td>\n",
              "      <td>1/3/1992</td>\n",
              "      <td>1/18/2021</td>\n",
              "    </tr>\n",
              "  </tbody>\n",
              "</table>\n",
              "</div>"
            ],
            "text/plain": [
              "        code                                              name  \\\n",
              "0  BOM500002                      ABB India Limited EOD Prices   \n",
              "1  BOM500003                   AEGIS LOGISTICS LTD. EOD Prices   \n",
              "2  BOM500008              AMARA RAJA BATTERIES LTD. EOD Prices   \n",
              "3  BOM500009      AMBALAL SARABHAI ENTERPRISES LTD. EOD Prices   \n",
              "4  BOM500010  HOUSING DEVELOPMENT FINANCE CORP.LTD. EOD Prices   \n",
              "\n",
              "                                         description     refreshed_at  \\\n",
              "0  End of Day prices and additional trading infor...  1/19/2021 14:15   \n",
              "1  End of Day prices and additional trading infor...  1/19/2021 14:15   \n",
              "2  End of Day prices and additional trading infor...  1/19/2021 14:15   \n",
              "3  End of Day prices and additional trading infor...  1/19/2021 14:15   \n",
              "4  End of Day prices and additional trading infor...  1/19/2021 14:15   \n",
              "\n",
              "  from_date    to_date  \n",
              "0  3/2/1992  1/18/2021  \n",
              "1  3/2/1992  1/18/2021  \n",
              "2  3/2/1992  1/18/2021  \n",
              "3  3/2/1992  1/18/2021  \n",
              "4  1/3/1992  1/18/2021  "
            ]
          },
          "metadata": {
            "tags": []
          },
          "execution_count": 34
        }
      ]
    },
    {
      "cell_type": "markdown",
      "metadata": {
        "id": "Tt336cVrsQCo"
      },
      "source": [
        "## Utility variables and functions"
      ]
    },
    {
      "cell_type": "code",
      "metadata": {
        "id": "tVB6YbnlsQCq"
      },
      "source": [
        "### Codes of selected stocks\n",
        "healthcare = ['BOM524715','BOM532488','BOM500124']\n",
        "banking = ['BOM500180','BOM532174','BOM500247']\n",
        "metals = ['BOM500470','BOM500228','BOM500440']\n",
        "auto = ['BOM532977','BOM500570','BOM532500']\n",
        "it = ['BOM500209','BOM532540','BOM507685']\n",
        "BSE_HEALTHCARE = 'SI0800'\n",
        "BSE_Information_Technology = 'SI1000'\n",
        "BSE_BANKEX = 'SIBANK'\n",
        "BSE_METAL = 'SI1200'\n",
        "BSE_AUTO = 'SI1900'\n",
        "SENSEX = 'SENSEX'\n",
        "\n",
        "stocks = healthcare+banking+metals + auto+it\n",
        "indices = [BSE_HEALTHCARE, BSE_Information_Technology, BSE_BANKEX, BSE_METAL, BSE_AUTO, SENSEX]\n",
        "allSymbols = stocks + indices\n",
        "ScriptWiseData = {}"
      ],
      "execution_count": 35,
      "outputs": []
    },
    {
      "cell_type": "code",
      "metadata": {
        "id": "3kHBN9nwsQCs"
      },
      "source": [
        "# Global Variables\n",
        "RSIColumn = 'RSI'\n",
        "ATRColumns = ['TR', 'ATR']\n",
        "MACDColumns = ['FastAverage', 'SlowAverage','MACD','Signal']\n",
        "BollBandColumns = ['BB_up',\"BB_dn\",\"MA\",\"BB_width\"]\n",
        "ADXColumns = ['pos_directional_indicator', 'neg_directional_indicator', 'adx']\n",
        "OnBalanceVolume = 'OBV'\n",
        "TechnicalIndicators = ['RSI', 'ATR', 'MACD', 'adx', 'OBV'] #exogenous variables\n",
        "\n",
        "AllIndicatorColumns = [RSIColumn]+ATRColumns+MACDColumns+BollBandColumns+ADXColumns+[OnBalanceVolume]"
      ],
      "execution_count": 36,
      "outputs": []
    },
    {
      "cell_type": "code",
      "metadata": {
        "id": "JyImjqh2sQCu"
      },
      "source": [
        "start_date = '2020-03-02'\n",
        "end_date = '2021-03-23'"
      ],
      "execution_count": 37,
      "outputs": []
    },
    {
      "cell_type": "code",
      "metadata": {
        "id": "dleF_l0AsQCw"
      },
      "source": [
        "# get null values of all the stocks\n",
        "def getNullValuesForSetOfStocks(stockCodeList = stocks):\n",
        "    nullCounts = pd.DataFrame(ScriptWiseData[stockCodeList[0]].isnull().sum(), columns= [getStockNameFromStockCode(stockCodeList[0])])\n",
        "    for symbol in stockCodeList[1:]:\n",
        "        currNull = pd.DataFrame(ScriptWiseData[symbol].isnull().sum(), columns= [getStockNameFromStockCode(symbol)])\n",
        "        nullCounts = nullCounts.merge(currNull, left_index=True, right_index = True, how='outer')\n",
        "    return nullCounts"
      ],
      "execution_count": 41,
      "outputs": []
    },
    {
      "cell_type": "code",
      "metadata": {
        "id": "RyHT3E0nsQCx"
      },
      "source": [
        "def adf_test(series, title = ''):\n",
        "    \"\"\"\n",
        "    Pass in a time series and an optional title\n",
        "    \"\"\"\n",
        "    result = sts.adfuller(series.dropna(), autolag = 'AIC')\n",
        "    label = ['ADF test statistic', 'p-value', '# lags used', '#observations']\n",
        "#     print(result)\n",
        "    out = pd.Series(result[0:4], index=label)\n",
        "    out['Stock Name'] = getStockNameFromStockCode(title)\n",
        "    out['Stock Code'] = title\n",
        "    for key, val in result[4].items():\n",
        "        out[f'critical value ({key})'] = val\n",
        "        \n",
        "#     print(out)\n",
        "    if(result[1]<0.05):\n",
        "        return out, 'Stationary'\n",
        "    else:\n",
        "        return out, 'Non-Stationary'"
      ],
      "execution_count": 43,
      "outputs": []
    },
    {
      "cell_type": "code",
      "metadata": {
        "colab": {
          "base_uri": "https://localhost:8080/",
          "height": 202
        },
        "id": "hagoTqx7sQCz",
        "outputId": "eff734c3-b767-4ea8-891e-91289c1c704d"
      },
      "source": [
        "stockMetadata = metadata[metadata['code'].isin(allSymbols)]\n",
        "stockMetadata.head()"
      ],
      "execution_count": 44,
      "outputs": [
        {
          "output_type": "execute_result",
          "data": {
            "text/html": [
              "<div>\n",
              "<style scoped>\n",
              "    .dataframe tbody tr th:only-of-type {\n",
              "        vertical-align: middle;\n",
              "    }\n",
              "\n",
              "    .dataframe tbody tr th {\n",
              "        vertical-align: top;\n",
              "    }\n",
              "\n",
              "    .dataframe thead th {\n",
              "        text-align: right;\n",
              "    }\n",
              "</style>\n",
              "<table border=\"1\" class=\"dataframe\">\n",
              "  <thead>\n",
              "    <tr style=\"text-align: right;\">\n",
              "      <th></th>\n",
              "      <th>code</th>\n",
              "      <th>name</th>\n",
              "      <th>description</th>\n",
              "      <th>refreshed_at</th>\n",
              "      <th>from_date</th>\n",
              "      <th>to_date</th>\n",
              "    </tr>\n",
              "  </thead>\n",
              "  <tbody>\n",
              "    <tr>\n",
              "      <th>70</th>\n",
              "      <td>BOM500124</td>\n",
              "      <td>DR.REDDY'S LABORATORIES LTD. EOD Prices</td>\n",
              "      <td>End of Day prices and additional trading infor...</td>\n",
              "      <td>1/19/2021 14:15</td>\n",
              "      <td>3/2/1992</td>\n",
              "      <td>1/18/2021</td>\n",
              "    </tr>\n",
              "    <tr>\n",
              "      <th>104</th>\n",
              "      <td>BOM500180</td>\n",
              "      <td>HDFC Bank Ltd EOD Prices</td>\n",
              "      <td>End of Day prices and additional trading infor...</td>\n",
              "      <td>1/19/2021 14:15</td>\n",
              "      <td>5/26/1995</td>\n",
              "      <td>1/18/2021</td>\n",
              "    </tr>\n",
              "    <tr>\n",
              "      <th>121</th>\n",
              "      <td>BOM500209</td>\n",
              "      <td>INFOSYS LTD. EOD Prices</td>\n",
              "      <td>End of Day prices and additional trading infor...</td>\n",
              "      <td>1/19/2021 14:15</td>\n",
              "      <td>5/2/1995</td>\n",
              "      <td>1/18/2021</td>\n",
              "    </tr>\n",
              "    <tr>\n",
              "      <th>133</th>\n",
              "      <td>BOM500228</td>\n",
              "      <td>JSW STEEL LTD. EOD Prices</td>\n",
              "      <td>End of Day prices and additional trading infor...</td>\n",
              "      <td>1/19/2021 14:15</td>\n",
              "      <td>5/2/1995</td>\n",
              "      <td>1/18/2021</td>\n",
              "    </tr>\n",
              "    <tr>\n",
              "      <th>146</th>\n",
              "      <td>BOM500247</td>\n",
              "      <td>KOTAK MAHINDRA BANK LTD. EOD Prices</td>\n",
              "      <td>End of Day prices and additional trading infor...</td>\n",
              "      <td>1/19/2021 14:15</td>\n",
              "      <td>5/2/1995</td>\n",
              "      <td>1/18/2021</td>\n",
              "    </tr>\n",
              "  </tbody>\n",
              "</table>\n",
              "</div>"
            ],
            "text/plain": [
              "          code                                     name  \\\n",
              "70   BOM500124  DR.REDDY'S LABORATORIES LTD. EOD Prices   \n",
              "104  BOM500180                 HDFC Bank Ltd EOD Prices   \n",
              "121  BOM500209                  INFOSYS LTD. EOD Prices   \n",
              "133  BOM500228                JSW STEEL LTD. EOD Prices   \n",
              "146  BOM500247      KOTAK MAHINDRA BANK LTD. EOD Prices   \n",
              "\n",
              "                                           description     refreshed_at  \\\n",
              "70   End of Day prices and additional trading infor...  1/19/2021 14:15   \n",
              "104  End of Day prices and additional trading infor...  1/19/2021 14:15   \n",
              "121  End of Day prices and additional trading infor...  1/19/2021 14:15   \n",
              "133  End of Day prices and additional trading infor...  1/19/2021 14:15   \n",
              "146  End of Day prices and additional trading infor...  1/19/2021 14:15   \n",
              "\n",
              "     from_date    to_date  \n",
              "70    3/2/1992  1/18/2021  \n",
              "104  5/26/1995  1/18/2021  \n",
              "121   5/2/1995  1/18/2021  \n",
              "133   5/2/1995  1/18/2021  \n",
              "146   5/2/1995  1/18/2021  "
            ]
          },
          "metadata": {
            "tags": []
          },
          "execution_count": 44
        }
      ]
    },
    {
      "cell_type": "code",
      "metadata": {
        "colab": {
          "base_uri": "https://localhost:8080/"
        },
        "id": "EwoZ1DP9sQC2",
        "outputId": "9880d09b-1de9-4123-d298-158a20b9d2e5"
      },
      "source": [
        "print(stockMetadata.shape)\n",
        "print(stockMetadata[stockMetadata['code'].isin(stocks)].shape)\n",
        "print(stockMetadata[stockMetadata['code'].isin(indices)].shape)"
      ],
      "execution_count": 45,
      "outputs": [
        {
          "output_type": "stream",
          "text": [
            "(21, 6)\n",
            "(15, 6)\n",
            "(6, 6)\n"
          ],
          "name": "stdout"
        }
      ]
    },
    {
      "cell_type": "markdown",
      "metadata": {
        "id": "pSCAtI-QsQC3"
      },
      "source": [
        "## Map Index to  stocks"
      ]
    },
    {
      "cell_type": "code",
      "metadata": {
        "id": "O7xx-FTQsQC4"
      },
      "source": [
        "stockMetadata.loc[:, 'isStock'] = 0\n",
        "stockMetadata.loc[:, 'Index'] = ''\n",
        "\n",
        "stockMetadata.loc[stockMetadata['code'].isin(stocks), 'isStock'] = 1\n",
        "stockMetadata.reset_index(inplace=True)"
      ],
      "execution_count": 46,
      "outputs": []
    },
    {
      "cell_type": "code",
      "metadata": {
        "id": "s6ECqpt6sQC6"
      },
      "source": [
        "stockMetadata.loc[stockMetadata['code'].isin(healthcare), 'Index'] = BSE_HEALTHCARE\n",
        "stockMetadata.loc[stockMetadata['code'].isin(banking), 'Index'] = BSE_BANKEX\n",
        "stockMetadata.loc[stockMetadata['code'].isin(metals), 'Index'] = BSE_METAL\n",
        "stockMetadata.loc[stockMetadata['code'].isin(auto), 'Index'] = BSE_AUTO\n",
        "stockMetadata.loc[stockMetadata['code'].isin(it), 'Index'] = BSE_Information_Technology"
      ],
      "execution_count": 47,
      "outputs": []
    },
    {
      "cell_type": "code",
      "metadata": {
        "colab": {
          "base_uri": "https://localhost:8080/",
          "height": 0
        },
        "id": "dmuf46EBsQC-",
        "outputId": "8fef1e1d-f1e9-4fe4-8dc7-c17aeadda32a"
      },
      "source": [
        "stockMetadata.head()"
      ],
      "execution_count": 48,
      "outputs": [
        {
          "output_type": "execute_result",
          "data": {
            "text/html": [
              "<div>\n",
              "<style scoped>\n",
              "    .dataframe tbody tr th:only-of-type {\n",
              "        vertical-align: middle;\n",
              "    }\n",
              "\n",
              "    .dataframe tbody tr th {\n",
              "        vertical-align: top;\n",
              "    }\n",
              "\n",
              "    .dataframe thead th {\n",
              "        text-align: right;\n",
              "    }\n",
              "</style>\n",
              "<table border=\"1\" class=\"dataframe\">\n",
              "  <thead>\n",
              "    <tr style=\"text-align: right;\">\n",
              "      <th></th>\n",
              "      <th>index</th>\n",
              "      <th>code</th>\n",
              "      <th>name</th>\n",
              "      <th>description</th>\n",
              "      <th>refreshed_at</th>\n",
              "      <th>from_date</th>\n",
              "      <th>to_date</th>\n",
              "      <th>isStock</th>\n",
              "      <th>Index</th>\n",
              "    </tr>\n",
              "  </thead>\n",
              "  <tbody>\n",
              "    <tr>\n",
              "      <th>0</th>\n",
              "      <td>70</td>\n",
              "      <td>BOM500124</td>\n",
              "      <td>DR.REDDY'S LABORATORIES LTD. EOD Prices</td>\n",
              "      <td>End of Day prices and additional trading infor...</td>\n",
              "      <td>1/19/2021 14:15</td>\n",
              "      <td>3/2/1992</td>\n",
              "      <td>1/18/2021</td>\n",
              "      <td>1</td>\n",
              "      <td>SI0800</td>\n",
              "    </tr>\n",
              "    <tr>\n",
              "      <th>1</th>\n",
              "      <td>104</td>\n",
              "      <td>BOM500180</td>\n",
              "      <td>HDFC Bank Ltd EOD Prices</td>\n",
              "      <td>End of Day prices and additional trading infor...</td>\n",
              "      <td>1/19/2021 14:15</td>\n",
              "      <td>5/26/1995</td>\n",
              "      <td>1/18/2021</td>\n",
              "      <td>1</td>\n",
              "      <td>SIBANK</td>\n",
              "    </tr>\n",
              "    <tr>\n",
              "      <th>2</th>\n",
              "      <td>121</td>\n",
              "      <td>BOM500209</td>\n",
              "      <td>INFOSYS LTD. EOD Prices</td>\n",
              "      <td>End of Day prices and additional trading infor...</td>\n",
              "      <td>1/19/2021 14:15</td>\n",
              "      <td>5/2/1995</td>\n",
              "      <td>1/18/2021</td>\n",
              "      <td>1</td>\n",
              "      <td>SI1000</td>\n",
              "    </tr>\n",
              "    <tr>\n",
              "      <th>3</th>\n",
              "      <td>133</td>\n",
              "      <td>BOM500228</td>\n",
              "      <td>JSW STEEL LTD. EOD Prices</td>\n",
              "      <td>End of Day prices and additional trading infor...</td>\n",
              "      <td>1/19/2021 14:15</td>\n",
              "      <td>5/2/1995</td>\n",
              "      <td>1/18/2021</td>\n",
              "      <td>1</td>\n",
              "      <td>SI1200</td>\n",
              "    </tr>\n",
              "    <tr>\n",
              "      <th>4</th>\n",
              "      <td>146</td>\n",
              "      <td>BOM500247</td>\n",
              "      <td>KOTAK MAHINDRA BANK LTD. EOD Prices</td>\n",
              "      <td>End of Day prices and additional trading infor...</td>\n",
              "      <td>1/19/2021 14:15</td>\n",
              "      <td>5/2/1995</td>\n",
              "      <td>1/18/2021</td>\n",
              "      <td>1</td>\n",
              "      <td>SIBANK</td>\n",
              "    </tr>\n",
              "  </tbody>\n",
              "</table>\n",
              "</div>"
            ],
            "text/plain": [
              "   index       code                                     name  \\\n",
              "0     70  BOM500124  DR.REDDY'S LABORATORIES LTD. EOD Prices   \n",
              "1    104  BOM500180                 HDFC Bank Ltd EOD Prices   \n",
              "2    121  BOM500209                  INFOSYS LTD. EOD Prices   \n",
              "3    133  BOM500228                JSW STEEL LTD. EOD Prices   \n",
              "4    146  BOM500247      KOTAK MAHINDRA BANK LTD. EOD Prices   \n",
              "\n",
              "                                         description     refreshed_at  \\\n",
              "0  End of Day prices and additional trading infor...  1/19/2021 14:15   \n",
              "1  End of Day prices and additional trading infor...  1/19/2021 14:15   \n",
              "2  End of Day prices and additional trading infor...  1/19/2021 14:15   \n",
              "3  End of Day prices and additional trading infor...  1/19/2021 14:15   \n",
              "4  End of Day prices and additional trading infor...  1/19/2021 14:15   \n",
              "\n",
              "   from_date    to_date  isStock   Index  \n",
              "0   3/2/1992  1/18/2021        1  SI0800  \n",
              "1  5/26/1995  1/18/2021        1  SIBANK  \n",
              "2   5/2/1995  1/18/2021        1  SI1000  \n",
              "3   5/2/1995  1/18/2021        1  SI1200  \n",
              "4   5/2/1995  1/18/2021        1  SIBANK  "
            ]
          },
          "metadata": {
            "tags": []
          },
          "execution_count": 48
        }
      ]
    },
    {
      "cell_type": "code",
      "metadata": {
        "colab": {
          "base_uri": "https://localhost:8080/"
        },
        "id": "Rc9nEZtlsQDA",
        "outputId": "3ab5ee7d-fcff-402f-c424-5f6a9f86aaa7"
      },
      "source": [
        "stockMetadata['isStock'].value_counts()"
      ],
      "execution_count": 49,
      "outputs": [
        {
          "output_type": "execute_result",
          "data": {
            "text/plain": [
              "1    15\n",
              "0     6\n",
              "Name: isStock, dtype: int64"
            ]
          },
          "metadata": {
            "tags": []
          },
          "execution_count": 49
        }
      ]
    },
    {
      "cell_type": "markdown",
      "metadata": {
        "id": "isbyxB0RsQDC"
      },
      "source": [
        "# Code to download the data from quandl. "
      ]
    },
    {
      "cell_type": "code",
      "metadata": {
        "id": "eyCPmZ5tsQDE"
      },
      "source": [
        "# # download the required data - needed only 1 time\n",
        "# i=0\n",
        "# code = f'BSE/{stockMetadata.loc[i, \"code\"]}'\n",
        "# dataset = quandl.get(code, start_date='2000-01-01', end_date='2021-03-23').sort_values(by='Date', ascending=True)\n",
        "# dataset['StockName']=stockMetadata.loc[i, 'name']\n",
        "# dataset['code'] = stockMetadata.loc[i, \"code\"]\n",
        "# dataset['isStock'] = stockMetadata.loc[i, \"isStock\"]\n",
        "# dataset['Index'] = stockMetadata.loc[i, \"Index\"]\n",
        "# for i in range(1, len(stockMetadata)):\n",
        "#     code = f'BSE/{stockMetadata.loc[i, \"code\"]}'\n",
        "#     temp = quandl.get(code, start_date='2000-01-01', end_date='2021-03-23').sort_values(by='Date', ascending=True)\n",
        "#     temp['StockName']=stockMetadata.loc[i, 'name']\n",
        "#     temp['code'] = stockMetadata.loc[i, \"code\"]\n",
        "#     temp['isStock'] = stockMetadata.loc[i, \"isStock\"]\n",
        "#     temp['Index'] = stockMetadata.loc[i, \"Index\"]\n",
        "# #     print( stockMetadata.loc[i, \"Index\"])\n",
        "#     dataset = dataset.append(temp)\n",
        "# dataset.to_csv('data.csv')\n",
        "# dataset.head()"
      ],
      "execution_count": 50,
      "outputs": []
    },
    {
      "cell_type": "code",
      "metadata": {
        "id": "lynmUOjosQDG",
        "colab": {
          "base_uri": "https://localhost:8080/",
          "height": 465
        },
        "outputId": "a2556f0a-f131-4c52-dc0c-77b2e3dda77e"
      },
      "source": [
        "dataset = pd.read_csv('data.csv')\n",
        "dataset.head()"
      ],
      "execution_count": 51,
      "outputs": [
        {
          "output_type": "execute_result",
          "data": {
            "text/html": [
              "<div>\n",
              "<style scoped>\n",
              "    .dataframe tbody tr th:only-of-type {\n",
              "        vertical-align: middle;\n",
              "    }\n",
              "\n",
              "    .dataframe tbody tr th {\n",
              "        vertical-align: top;\n",
              "    }\n",
              "\n",
              "    .dataframe thead th {\n",
              "        text-align: right;\n",
              "    }\n",
              "</style>\n",
              "<table border=\"1\" class=\"dataframe\">\n",
              "  <thead>\n",
              "    <tr style=\"text-align: right;\">\n",
              "      <th></th>\n",
              "      <th>Date</th>\n",
              "      <th>Open</th>\n",
              "      <th>High</th>\n",
              "      <th>Low</th>\n",
              "      <th>Close</th>\n",
              "      <th>WAP</th>\n",
              "      <th>No. of Shares</th>\n",
              "      <th>No. of Trades</th>\n",
              "      <th>Total Turnover</th>\n",
              "      <th>Deliverable Quantity</th>\n",
              "      <th>% Deli. Qty to Traded Qty</th>\n",
              "      <th>Spread H-L</th>\n",
              "      <th>Spread C-O</th>\n",
              "      <th>StockName</th>\n",
              "      <th>code</th>\n",
              "      <th>isStock</th>\n",
              "      <th>Index</th>\n",
              "    </tr>\n",
              "  </thead>\n",
              "  <tbody>\n",
              "    <tr>\n",
              "      <th>0</th>\n",
              "      <td>2000-01-03</td>\n",
              "      <td>1500.0</td>\n",
              "      <td>1557.35</td>\n",
              "      <td>1500.00</td>\n",
              "      <td>1557.35</td>\n",
              "      <td>1544.195154</td>\n",
              "      <td>82330.0</td>\n",
              "      <td>945.0</td>\n",
              "      <td>127133587.0</td>\n",
              "      <td>NaN</td>\n",
              "      <td>NaN</td>\n",
              "      <td>57.35</td>\n",
              "      <td>57.35</td>\n",
              "      <td>DR.REDDY'S LABORATORIES LTD. EOD Prices</td>\n",
              "      <td>BOM500124</td>\n",
              "      <td>1.0</td>\n",
              "      <td>SI0800</td>\n",
              "    </tr>\n",
              "    <tr>\n",
              "      <th>1</th>\n",
              "      <td>2000-01-04</td>\n",
              "      <td>1601.0</td>\n",
              "      <td>1681.00</td>\n",
              "      <td>1527.00</td>\n",
              "      <td>1647.25</td>\n",
              "      <td>1621.040930</td>\n",
              "      <td>210676.0</td>\n",
              "      <td>3308.0</td>\n",
              "      <td>341514419.0</td>\n",
              "      <td>NaN</td>\n",
              "      <td>NaN</td>\n",
              "      <td>154.00</td>\n",
              "      <td>46.25</td>\n",
              "      <td>DR.REDDY'S LABORATORIES LTD. EOD Prices</td>\n",
              "      <td>BOM500124</td>\n",
              "      <td>1.0</td>\n",
              "      <td>SI0800</td>\n",
              "    </tr>\n",
              "    <tr>\n",
              "      <th>2</th>\n",
              "      <td>2000-01-05</td>\n",
              "      <td>1600.0</td>\n",
              "      <td>1648.00</td>\n",
              "      <td>1515.50</td>\n",
              "      <td>1559.00</td>\n",
              "      <td>1590.903923</td>\n",
              "      <td>205669.0</td>\n",
              "      <td>2707.0</td>\n",
              "      <td>327199619.0</td>\n",
              "      <td>NaN</td>\n",
              "      <td>NaN</td>\n",
              "      <td>132.50</td>\n",
              "      <td>-41.00</td>\n",
              "      <td>DR.REDDY'S LABORATORIES LTD. EOD Prices</td>\n",
              "      <td>BOM500124</td>\n",
              "      <td>1.0</td>\n",
              "      <td>SI0800</td>\n",
              "    </tr>\n",
              "    <tr>\n",
              "      <th>3</th>\n",
              "      <td>2000-01-06</td>\n",
              "      <td>1582.0</td>\n",
              "      <td>1683.70</td>\n",
              "      <td>1560.00</td>\n",
              "      <td>1683.70</td>\n",
              "      <td>1623.244182</td>\n",
              "      <td>161085.0</td>\n",
              "      <td>2559.0</td>\n",
              "      <td>261480289.0</td>\n",
              "      <td>NaN</td>\n",
              "      <td>NaN</td>\n",
              "      <td>123.70</td>\n",
              "      <td>101.70</td>\n",
              "      <td>DR.REDDY'S LABORATORIES LTD. EOD Prices</td>\n",
              "      <td>BOM500124</td>\n",
              "      <td>1.0</td>\n",
              "      <td>SI0800</td>\n",
              "    </tr>\n",
              "    <tr>\n",
              "      <th>4</th>\n",
              "      <td>2000-01-07</td>\n",
              "      <td>1718.0</td>\n",
              "      <td>1718.00</td>\n",
              "      <td>1549.05</td>\n",
              "      <td>1549.05</td>\n",
              "      <td>1593.853264</td>\n",
              "      <td>120952.0</td>\n",
              "      <td>1955.0</td>\n",
              "      <td>192779740.0</td>\n",
              "      <td>NaN</td>\n",
              "      <td>NaN</td>\n",
              "      <td>168.95</td>\n",
              "      <td>-168.95</td>\n",
              "      <td>DR.REDDY'S LABORATORIES LTD. EOD Prices</td>\n",
              "      <td>BOM500124</td>\n",
              "      <td>1.0</td>\n",
              "      <td>SI0800</td>\n",
              "    </tr>\n",
              "  </tbody>\n",
              "</table>\n",
              "</div>"
            ],
            "text/plain": [
              "         Date    Open     High      Low    Close          WAP  No. of Shares  \\\n",
              "0  2000-01-03  1500.0  1557.35  1500.00  1557.35  1544.195154        82330.0   \n",
              "1  2000-01-04  1601.0  1681.00  1527.00  1647.25  1621.040930       210676.0   \n",
              "2  2000-01-05  1600.0  1648.00  1515.50  1559.00  1590.903923       205669.0   \n",
              "3  2000-01-06  1582.0  1683.70  1560.00  1683.70  1623.244182       161085.0   \n",
              "4  2000-01-07  1718.0  1718.00  1549.05  1549.05  1593.853264       120952.0   \n",
              "\n",
              "   No. of Trades  Total Turnover  Deliverable Quantity  \\\n",
              "0          945.0     127133587.0                   NaN   \n",
              "1         3308.0     341514419.0                   NaN   \n",
              "2         2707.0     327199619.0                   NaN   \n",
              "3         2559.0     261480289.0                   NaN   \n",
              "4         1955.0     192779740.0                   NaN   \n",
              "\n",
              "   % Deli. Qty to Traded Qty  Spread H-L  Spread C-O  \\\n",
              "0                        NaN       57.35       57.35   \n",
              "1                        NaN      154.00       46.25   \n",
              "2                        NaN      132.50      -41.00   \n",
              "3                        NaN      123.70      101.70   \n",
              "4                        NaN      168.95     -168.95   \n",
              "\n",
              "                                 StockName       code  isStock   Index  \n",
              "0  DR.REDDY'S LABORATORIES LTD. EOD Prices  BOM500124      1.0  SI0800  \n",
              "1  DR.REDDY'S LABORATORIES LTD. EOD Prices  BOM500124      1.0  SI0800  \n",
              "2  DR.REDDY'S LABORATORIES LTD. EOD Prices  BOM500124      1.0  SI0800  \n",
              "3  DR.REDDY'S LABORATORIES LTD. EOD Prices  BOM500124      1.0  SI0800  \n",
              "4  DR.REDDY'S LABORATORIES LTD. EOD Prices  BOM500124      1.0  SI0800  "
            ]
          },
          "metadata": {
            "tags": []
          },
          "execution_count": 51
        }
      ]
    },
    {
      "cell_type": "code",
      "metadata": {
        "id": "WYRIsODdsQDI",
        "colab": {
          "base_uri": "https://localhost:8080/"
        },
        "outputId": "cc2a2456-61f5-4a59-a1d2-378462aaced2"
      },
      "source": [
        "dataset.info()"
      ],
      "execution_count": 52,
      "outputs": [
        {
          "output_type": "stream",
          "text": [
            "<class 'pandas.core.frame.DataFrame'>\n",
            "RangeIndex: 41434 entries, 0 to 41433\n",
            "Data columns (total 17 columns):\n",
            " #   Column                     Non-Null Count  Dtype  \n",
            "---  ------                     --------------  -----  \n",
            " 0   Date                       41434 non-null  object \n",
            " 1   Open                       41434 non-null  float64\n",
            " 2   High                       41434 non-null  float64\n",
            " 3   Low                        41434 non-null  float64\n",
            " 4   Close                      41434 non-null  float64\n",
            " 5   WAP                        41434 non-null  float64\n",
            " 6   No. of Shares              41434 non-null  float64\n",
            " 7   No. of Trades              41434 non-null  float64\n",
            " 8   Total Turnover             41434 non-null  float64\n",
            " 9   Deliverable Quantity       37059 non-null  float64\n",
            " 10  % Deli. Qty to Traded Qty  37059 non-null  float64\n",
            " 11  Spread H-L                 41433 non-null  float64\n",
            " 12  Spread C-O                 41433 non-null  float64\n",
            " 13  StockName                  41433 non-null  object \n",
            " 14  code                       41433 non-null  object \n",
            " 15  isStock                    41433 non-null  float64\n",
            " 16  Index                      41433 non-null  object \n",
            "dtypes: float64(13), object(4)\n",
            "memory usage: 5.4+ MB\n"
          ],
          "name": "stdout"
        }
      ]
    },
    {
      "cell_type": "markdown",
      "metadata": {
        "id": "FIW4t81GsQDJ"
      },
      "source": [
        "### Verify the min and max of dates of all selected stocks and indices"
      ]
    },
    {
      "cell_type": "code",
      "metadata": {
        "id": "_KxFJed0sQDK",
        "colab": {
          "base_uri": "https://localhost:8080/",
          "height": 294
        },
        "outputId": "9bad2aea-d0fa-4ae1-b9be-012b2049a059"
      },
      "source": [
        "dateRanges = dataset.groupby(['code', 'StockName']).agg({'Date': ['min', 'max']}).reset_index()\n",
        "dateRanges.columns = ['Stock Code', 'Stock Name', 'First Date', 'Last Date']\n",
        "dateRanges"
      ],
      "execution_count": 53,
      "outputs": [
        {
          "output_type": "execute_result",
          "data": {
            "text/html": [
              "<div>\n",
              "<style scoped>\n",
              "    .dataframe tbody tr th:only-of-type {\n",
              "        vertical-align: middle;\n",
              "    }\n",
              "\n",
              "    .dataframe tbody tr th {\n",
              "        vertical-align: top;\n",
              "    }\n",
              "\n",
              "    .dataframe thead th {\n",
              "        text-align: right;\n",
              "    }\n",
              "</style>\n",
              "<table border=\"1\" class=\"dataframe\">\n",
              "  <thead>\n",
              "    <tr style=\"text-align: right;\">\n",
              "      <th></th>\n",
              "      <th>Stock Code</th>\n",
              "      <th>Stock Name</th>\n",
              "      <th>First Date</th>\n",
              "      <th>Last Date</th>\n",
              "    </tr>\n",
              "  </thead>\n",
              "  <tbody>\n",
              "    <tr>\n",
              "      <th>0</th>\n",
              "      <td>BOM500124</td>\n",
              "      <td>DR.REDDY'S LABORATORIES LTD. EOD Prices</td>\n",
              "      <td>2000-01-03</td>\n",
              "      <td>2021-03-23</td>\n",
              "    </tr>\n",
              "    <tr>\n",
              "      <th>1</th>\n",
              "      <td>BOM500180</td>\n",
              "      <td>HDFC Bank Ltd EOD Prices</td>\n",
              "      <td>2000-01-03</td>\n",
              "      <td>2021-03-23</td>\n",
              "    </tr>\n",
              "    <tr>\n",
              "      <th>2</th>\n",
              "      <td>BOM500209</td>\n",
              "      <td>INFOSYS LTD. EOD Prices</td>\n",
              "      <td>2000-01-03</td>\n",
              "      <td>2021-03-23</td>\n",
              "    </tr>\n",
              "    <tr>\n",
              "      <th>3</th>\n",
              "      <td>BOM500228</td>\n",
              "      <td>JSW STEEL LTD. EOD Prices</td>\n",
              "      <td>2000-01-03</td>\n",
              "      <td>2021-03-23</td>\n",
              "    </tr>\n",
              "    <tr>\n",
              "      <th>4</th>\n",
              "      <td>BOM500247</td>\n",
              "      <td>KOTAK MAHINDRA BANK LTD. EOD Prices</td>\n",
              "      <td>2000-01-03</td>\n",
              "      <td>2021-03-23</td>\n",
              "    </tr>\n",
              "    <tr>\n",
              "      <th>5</th>\n",
              "      <td>BOM500440</td>\n",
              "      <td>HINDALCO INDUSTRIES LTD. EOD Prices</td>\n",
              "      <td>2000-01-03</td>\n",
              "      <td>2021-03-23</td>\n",
              "    </tr>\n",
              "    <tr>\n",
              "      <th>6</th>\n",
              "      <td>BOM500470</td>\n",
              "      <td>TATA STEEL LTD. EOD Prices</td>\n",
              "      <td>2000-01-03</td>\n",
              "      <td>2021-03-23</td>\n",
              "    </tr>\n",
              "    <tr>\n",
              "      <th>7</th>\n",
              "      <td>BOM500570</td>\n",
              "      <td>TATA MOTORS LTD. EOD Prices</td>\n",
              "      <td>2000-01-03</td>\n",
              "      <td>2018-01-01</td>\n",
              "    </tr>\n",
              "  </tbody>\n",
              "</table>\n",
              "</div>"
            ],
            "text/plain": [
              "  Stock Code                               Stock Name  First Date   Last Date\n",
              "0  BOM500124  DR.REDDY'S LABORATORIES LTD. EOD Prices  2000-01-03  2021-03-23\n",
              "1  BOM500180                 HDFC Bank Ltd EOD Prices  2000-01-03  2021-03-23\n",
              "2  BOM500209                  INFOSYS LTD. EOD Prices  2000-01-03  2021-03-23\n",
              "3  BOM500228                JSW STEEL LTD. EOD Prices  2000-01-03  2021-03-23\n",
              "4  BOM500247      KOTAK MAHINDRA BANK LTD. EOD Prices  2000-01-03  2021-03-23\n",
              "5  BOM500440      HINDALCO INDUSTRIES LTD. EOD Prices  2000-01-03  2021-03-23\n",
              "6  BOM500470               TATA STEEL LTD. EOD Prices  2000-01-03  2021-03-23\n",
              "7  BOM500570              TATA MOTORS LTD. EOD Prices  2000-01-03  2018-01-01"
            ]
          },
          "metadata": {
            "tags": []
          },
          "execution_count": 53
        }
      ]
    },
    {
      "cell_type": "code",
      "metadata": {
        "id": "5k9t2tCJsQDU"
      },
      "source": [
        "# use above ranges to get stockName\n",
        "def getStockNameFromStockCode(stockCode):\n",
        "    return dateRanges.loc[dateRanges['Stock Code']==stockCode, 'Stock Name'].values[0].replace('EOD Prices', '');"
      ],
      "execution_count": 54,
      "outputs": []
    },
    {
      "cell_type": "code",
      "metadata": {
        "id": "tJN_Fe5xsQDV",
        "colab": {
          "base_uri": "https://localhost:8080/",
          "height": 495
        },
        "outputId": "123fd14d-9d2b-41ae-d982-dcbce99b69c7"
      },
      "source": [
        "data = dataset.set_index('Date')\n",
        "data.head()"
      ],
      "execution_count": 55,
      "outputs": [
        {
          "output_type": "execute_result",
          "data": {
            "text/html": [
              "<div>\n",
              "<style scoped>\n",
              "    .dataframe tbody tr th:only-of-type {\n",
              "        vertical-align: middle;\n",
              "    }\n",
              "\n",
              "    .dataframe tbody tr th {\n",
              "        vertical-align: top;\n",
              "    }\n",
              "\n",
              "    .dataframe thead th {\n",
              "        text-align: right;\n",
              "    }\n",
              "</style>\n",
              "<table border=\"1\" class=\"dataframe\">\n",
              "  <thead>\n",
              "    <tr style=\"text-align: right;\">\n",
              "      <th></th>\n",
              "      <th>Open</th>\n",
              "      <th>High</th>\n",
              "      <th>Low</th>\n",
              "      <th>Close</th>\n",
              "      <th>WAP</th>\n",
              "      <th>No. of Shares</th>\n",
              "      <th>No. of Trades</th>\n",
              "      <th>Total Turnover</th>\n",
              "      <th>Deliverable Quantity</th>\n",
              "      <th>% Deli. Qty to Traded Qty</th>\n",
              "      <th>Spread H-L</th>\n",
              "      <th>Spread C-O</th>\n",
              "      <th>StockName</th>\n",
              "      <th>code</th>\n",
              "      <th>isStock</th>\n",
              "      <th>Index</th>\n",
              "    </tr>\n",
              "    <tr>\n",
              "      <th>Date</th>\n",
              "      <th></th>\n",
              "      <th></th>\n",
              "      <th></th>\n",
              "      <th></th>\n",
              "      <th></th>\n",
              "      <th></th>\n",
              "      <th></th>\n",
              "      <th></th>\n",
              "      <th></th>\n",
              "      <th></th>\n",
              "      <th></th>\n",
              "      <th></th>\n",
              "      <th></th>\n",
              "      <th></th>\n",
              "      <th></th>\n",
              "      <th></th>\n",
              "    </tr>\n",
              "  </thead>\n",
              "  <tbody>\n",
              "    <tr>\n",
              "      <th>2000-01-03</th>\n",
              "      <td>1500.0</td>\n",
              "      <td>1557.35</td>\n",
              "      <td>1500.00</td>\n",
              "      <td>1557.35</td>\n",
              "      <td>1544.195154</td>\n",
              "      <td>82330.0</td>\n",
              "      <td>945.0</td>\n",
              "      <td>127133587.0</td>\n",
              "      <td>NaN</td>\n",
              "      <td>NaN</td>\n",
              "      <td>57.35</td>\n",
              "      <td>57.35</td>\n",
              "      <td>DR.REDDY'S LABORATORIES LTD. EOD Prices</td>\n",
              "      <td>BOM500124</td>\n",
              "      <td>1.0</td>\n",
              "      <td>SI0800</td>\n",
              "    </tr>\n",
              "    <tr>\n",
              "      <th>2000-01-04</th>\n",
              "      <td>1601.0</td>\n",
              "      <td>1681.00</td>\n",
              "      <td>1527.00</td>\n",
              "      <td>1647.25</td>\n",
              "      <td>1621.040930</td>\n",
              "      <td>210676.0</td>\n",
              "      <td>3308.0</td>\n",
              "      <td>341514419.0</td>\n",
              "      <td>NaN</td>\n",
              "      <td>NaN</td>\n",
              "      <td>154.00</td>\n",
              "      <td>46.25</td>\n",
              "      <td>DR.REDDY'S LABORATORIES LTD. EOD Prices</td>\n",
              "      <td>BOM500124</td>\n",
              "      <td>1.0</td>\n",
              "      <td>SI0800</td>\n",
              "    </tr>\n",
              "    <tr>\n",
              "      <th>2000-01-05</th>\n",
              "      <td>1600.0</td>\n",
              "      <td>1648.00</td>\n",
              "      <td>1515.50</td>\n",
              "      <td>1559.00</td>\n",
              "      <td>1590.903923</td>\n",
              "      <td>205669.0</td>\n",
              "      <td>2707.0</td>\n",
              "      <td>327199619.0</td>\n",
              "      <td>NaN</td>\n",
              "      <td>NaN</td>\n",
              "      <td>132.50</td>\n",
              "      <td>-41.00</td>\n",
              "      <td>DR.REDDY'S LABORATORIES LTD. EOD Prices</td>\n",
              "      <td>BOM500124</td>\n",
              "      <td>1.0</td>\n",
              "      <td>SI0800</td>\n",
              "    </tr>\n",
              "    <tr>\n",
              "      <th>2000-01-06</th>\n",
              "      <td>1582.0</td>\n",
              "      <td>1683.70</td>\n",
              "      <td>1560.00</td>\n",
              "      <td>1683.70</td>\n",
              "      <td>1623.244182</td>\n",
              "      <td>161085.0</td>\n",
              "      <td>2559.0</td>\n",
              "      <td>261480289.0</td>\n",
              "      <td>NaN</td>\n",
              "      <td>NaN</td>\n",
              "      <td>123.70</td>\n",
              "      <td>101.70</td>\n",
              "      <td>DR.REDDY'S LABORATORIES LTD. EOD Prices</td>\n",
              "      <td>BOM500124</td>\n",
              "      <td>1.0</td>\n",
              "      <td>SI0800</td>\n",
              "    </tr>\n",
              "    <tr>\n",
              "      <th>2000-01-07</th>\n",
              "      <td>1718.0</td>\n",
              "      <td>1718.00</td>\n",
              "      <td>1549.05</td>\n",
              "      <td>1549.05</td>\n",
              "      <td>1593.853264</td>\n",
              "      <td>120952.0</td>\n",
              "      <td>1955.0</td>\n",
              "      <td>192779740.0</td>\n",
              "      <td>NaN</td>\n",
              "      <td>NaN</td>\n",
              "      <td>168.95</td>\n",
              "      <td>-168.95</td>\n",
              "      <td>DR.REDDY'S LABORATORIES LTD. EOD Prices</td>\n",
              "      <td>BOM500124</td>\n",
              "      <td>1.0</td>\n",
              "      <td>SI0800</td>\n",
              "    </tr>\n",
              "  </tbody>\n",
              "</table>\n",
              "</div>"
            ],
            "text/plain": [
              "              Open     High      Low    Close          WAP  No. of Shares  \\\n",
              "Date                                                                        \n",
              "2000-01-03  1500.0  1557.35  1500.00  1557.35  1544.195154        82330.0   \n",
              "2000-01-04  1601.0  1681.00  1527.00  1647.25  1621.040930       210676.0   \n",
              "2000-01-05  1600.0  1648.00  1515.50  1559.00  1590.903923       205669.0   \n",
              "2000-01-06  1582.0  1683.70  1560.00  1683.70  1623.244182       161085.0   \n",
              "2000-01-07  1718.0  1718.00  1549.05  1549.05  1593.853264       120952.0   \n",
              "\n",
              "            No. of Trades  Total Turnover  Deliverable Quantity  \\\n",
              "Date                                                              \n",
              "2000-01-03          945.0     127133587.0                   NaN   \n",
              "2000-01-04         3308.0     341514419.0                   NaN   \n",
              "2000-01-05         2707.0     327199619.0                   NaN   \n",
              "2000-01-06         2559.0     261480289.0                   NaN   \n",
              "2000-01-07         1955.0     192779740.0                   NaN   \n",
              "\n",
              "            % Deli. Qty to Traded Qty  Spread H-L  Spread C-O  \\\n",
              "Date                                                            \n",
              "2000-01-03                        NaN       57.35       57.35   \n",
              "2000-01-04                        NaN      154.00       46.25   \n",
              "2000-01-05                        NaN      132.50      -41.00   \n",
              "2000-01-06                        NaN      123.70      101.70   \n",
              "2000-01-07                        NaN      168.95     -168.95   \n",
              "\n",
              "                                          StockName       code  isStock  \\\n",
              "Date                                                                      \n",
              "2000-01-03  DR.REDDY'S LABORATORIES LTD. EOD Prices  BOM500124      1.0   \n",
              "2000-01-04  DR.REDDY'S LABORATORIES LTD. EOD Prices  BOM500124      1.0   \n",
              "2000-01-05  DR.REDDY'S LABORATORIES LTD. EOD Prices  BOM500124      1.0   \n",
              "2000-01-06  DR.REDDY'S LABORATORIES LTD. EOD Prices  BOM500124      1.0   \n",
              "2000-01-07  DR.REDDY'S LABORATORIES LTD. EOD Prices  BOM500124      1.0   \n",
              "\n",
              "             Index  \n",
              "Date                \n",
              "2000-01-03  SI0800  \n",
              "2000-01-04  SI0800  \n",
              "2000-01-05  SI0800  \n",
              "2000-01-06  SI0800  \n",
              "2000-01-07  SI0800  "
            ]
          },
          "metadata": {
            "tags": []
          },
          "execution_count": 55
        }
      ]
    },
    {
      "cell_type": "markdown",
      "metadata": {
        "id": "zPN-2PnUsQDX"
      },
      "source": [
        "### Populate dictionary to hold individual Stock Data"
      ]
    },
    {
      "cell_type": "code",
      "metadata": {
        "id": "foJvrjY0sQDY"
      },
      "source": [
        "# ScriptWiseData = {'Symbol1': <DatqaFrame>, 'Suymbol 2':Dataframe2}\n",
        "for symbol in allSymbols:\n",
        "    ScriptWiseData[symbol] = data.loc[data.code==symbol]"
      ],
      "execution_count": 56,
      "outputs": []
    },
    {
      "cell_type": "markdown",
      "metadata": {
        "id": "ihkDFSgnsQDZ"
      },
      "source": [
        "### View null values in the data "
      ]
    },
    {
      "cell_type": "code",
      "metadata": {
        "id": "vrqyLuQUsQDa",
        "colab": {
          "base_uri": "https://localhost:8080/",
          "height": 277
        },
        "outputId": "8549d5f9-90ee-4153-9337-f117424033e7"
      },
      "source": [
        "getNullValuesForSetOfStocks()"
      ],
      "execution_count": 57,
      "outputs": [
        {
          "output_type": "error",
          "ename": "IndexError",
          "evalue": "ignored",
          "traceback": [
            "\u001b[0;31m---------------------------------------------------------------------------\u001b[0m",
            "\u001b[0;31mIndexError\u001b[0m                                Traceback (most recent call last)",
            "\u001b[0;32m<ipython-input-57-ae6f81de1a96>\u001b[0m in \u001b[0;36m<module>\u001b[0;34m()\u001b[0m\n\u001b[0;32m----> 1\u001b[0;31m \u001b[0mgetNullValuesForSetOfStocks\u001b[0m\u001b[0;34m(\u001b[0m\u001b[0;34m)\u001b[0m\u001b[0;34m\u001b[0m\u001b[0;34m\u001b[0m\u001b[0m\n\u001b[0m",
            "\u001b[0;32m<ipython-input-41-3667a3888bb8>\u001b[0m in \u001b[0;36mgetNullValuesForSetOfStocks\u001b[0;34m(stockCodeList)\u001b[0m\n\u001b[1;32m      1\u001b[0m \u001b[0;31m# get null values of all the stocks\u001b[0m\u001b[0;34m\u001b[0m\u001b[0;34m\u001b[0m\u001b[0;34m\u001b[0m\u001b[0m\n\u001b[1;32m      2\u001b[0m \u001b[0;32mdef\u001b[0m \u001b[0mgetNullValuesForSetOfStocks\u001b[0m\u001b[0;34m(\u001b[0m\u001b[0mstockCodeList\u001b[0m \u001b[0;34m=\u001b[0m \u001b[0mstocks\u001b[0m\u001b[0;34m)\u001b[0m\u001b[0;34m:\u001b[0m\u001b[0;34m\u001b[0m\u001b[0;34m\u001b[0m\u001b[0m\n\u001b[0;32m----> 3\u001b[0;31m     \u001b[0mnullCounts\u001b[0m \u001b[0;34m=\u001b[0m \u001b[0mpd\u001b[0m\u001b[0;34m.\u001b[0m\u001b[0mDataFrame\u001b[0m\u001b[0;34m(\u001b[0m\u001b[0mScriptWiseData\u001b[0m\u001b[0;34m[\u001b[0m\u001b[0mstockCodeList\u001b[0m\u001b[0;34m[\u001b[0m\u001b[0;36m0\u001b[0m\u001b[0;34m]\u001b[0m\u001b[0;34m]\u001b[0m\u001b[0;34m.\u001b[0m\u001b[0misnull\u001b[0m\u001b[0;34m(\u001b[0m\u001b[0;34m)\u001b[0m\u001b[0;34m.\u001b[0m\u001b[0msum\u001b[0m\u001b[0;34m(\u001b[0m\u001b[0;34m)\u001b[0m\u001b[0;34m,\u001b[0m \u001b[0mcolumns\u001b[0m\u001b[0;34m=\u001b[0m \u001b[0;34m[\u001b[0m\u001b[0mgetStockNameFromStockCode\u001b[0m\u001b[0;34m(\u001b[0m\u001b[0mstockCodeList\u001b[0m\u001b[0;34m[\u001b[0m\u001b[0;36m0\u001b[0m\u001b[0;34m]\u001b[0m\u001b[0;34m)\u001b[0m\u001b[0;34m]\u001b[0m\u001b[0;34m)\u001b[0m\u001b[0;34m\u001b[0m\u001b[0;34m\u001b[0m\u001b[0m\n\u001b[0m\u001b[1;32m      4\u001b[0m     \u001b[0;32mfor\u001b[0m \u001b[0msymbol\u001b[0m \u001b[0;32min\u001b[0m \u001b[0mstockCodeList\u001b[0m\u001b[0;34m[\u001b[0m\u001b[0;36m1\u001b[0m\u001b[0;34m:\u001b[0m\u001b[0;34m]\u001b[0m\u001b[0;34m:\u001b[0m\u001b[0;34m\u001b[0m\u001b[0;34m\u001b[0m\u001b[0m\n\u001b[1;32m      5\u001b[0m         \u001b[0mcurrNull\u001b[0m \u001b[0;34m=\u001b[0m \u001b[0mpd\u001b[0m\u001b[0;34m.\u001b[0m\u001b[0mDataFrame\u001b[0m\u001b[0;34m(\u001b[0m\u001b[0mScriptWiseData\u001b[0m\u001b[0;34m[\u001b[0m\u001b[0msymbol\u001b[0m\u001b[0;34m]\u001b[0m\u001b[0;34m.\u001b[0m\u001b[0misnull\u001b[0m\u001b[0;34m(\u001b[0m\u001b[0;34m)\u001b[0m\u001b[0;34m.\u001b[0m\u001b[0msum\u001b[0m\u001b[0;34m(\u001b[0m\u001b[0;34m)\u001b[0m\u001b[0;34m,\u001b[0m \u001b[0mcolumns\u001b[0m\u001b[0;34m=\u001b[0m \u001b[0;34m[\u001b[0m\u001b[0mgetStockNameFromStockCode\u001b[0m\u001b[0;34m(\u001b[0m\u001b[0msymbol\u001b[0m\u001b[0;34m)\u001b[0m\u001b[0;34m]\u001b[0m\u001b[0;34m)\u001b[0m\u001b[0;34m\u001b[0m\u001b[0;34m\u001b[0m\u001b[0m\n",
            "\u001b[0;32m<ipython-input-54-063456962b1b>\u001b[0m in \u001b[0;36mgetStockNameFromStockCode\u001b[0;34m(stockCode)\u001b[0m\n\u001b[1;32m      1\u001b[0m \u001b[0;31m# use above ranges to get stockName\u001b[0m\u001b[0;34m\u001b[0m\u001b[0;34m\u001b[0m\u001b[0;34m\u001b[0m\u001b[0m\n\u001b[1;32m      2\u001b[0m \u001b[0;32mdef\u001b[0m \u001b[0mgetStockNameFromStockCode\u001b[0m\u001b[0;34m(\u001b[0m\u001b[0mstockCode\u001b[0m\u001b[0;34m)\u001b[0m\u001b[0;34m:\u001b[0m\u001b[0;34m\u001b[0m\u001b[0;34m\u001b[0m\u001b[0m\n\u001b[0;32m----> 3\u001b[0;31m     \u001b[0;32mreturn\u001b[0m \u001b[0mdateRanges\u001b[0m\u001b[0;34m.\u001b[0m\u001b[0mloc\u001b[0m\u001b[0;34m[\u001b[0m\u001b[0mdateRanges\u001b[0m\u001b[0;34m[\u001b[0m\u001b[0;34m'Stock Code'\u001b[0m\u001b[0;34m]\u001b[0m\u001b[0;34m==\u001b[0m\u001b[0mstockCode\u001b[0m\u001b[0;34m,\u001b[0m \u001b[0;34m'Stock Name'\u001b[0m\u001b[0;34m]\u001b[0m\u001b[0;34m.\u001b[0m\u001b[0mvalues\u001b[0m\u001b[0;34m[\u001b[0m\u001b[0;36m0\u001b[0m\u001b[0;34m]\u001b[0m\u001b[0;34m.\u001b[0m\u001b[0mreplace\u001b[0m\u001b[0;34m(\u001b[0m\u001b[0;34m'EOD Prices'\u001b[0m\u001b[0;34m,\u001b[0m \u001b[0;34m''\u001b[0m\u001b[0;34m)\u001b[0m\u001b[0;34m;\u001b[0m\u001b[0;34m\u001b[0m\u001b[0;34m\u001b[0m\u001b[0m\n\u001b[0m",
            "\u001b[0;31mIndexError\u001b[0m: index 0 is out of bounds for axis 0 with size 0"
          ]
        }
      ]
    },
    {
      "cell_type": "markdown",
      "metadata": {
        "id": "wS7xJCpYsQDb"
      },
      "source": [
        "# Deriving Technical indicators "
      ]
    },
    {
      "cell_type": "markdown",
      "metadata": {
        "id": "BeXEUPXssQDc"
      },
      "source": [
        "### MACD"
      ]
    },
    {
      "cell_type": "code",
      "metadata": {
        "id": "x7DcBo7EsQDd"
      },
      "source": [
        "# function to create data MACD signal and data. \n",
        "def MACD(df, span1 = 12, span2= 26, span3 = 9):\n",
        "    stockData = df.copy()\n",
        "    stockData['FastAverage'] = stockData['Close'].ewm(span = span1, min_periods = span1).mean()\n",
        "    stockData['SlowAverage'] = stockData['Close'].ewm(span = span2, min_periods = span2).mean()\n",
        "    stockData['MACD'] = stockData['FastAverage'] - stockData['SlowAverage']\n",
        "    stockData['Signal'] = stockData['MACD'].ewm(span=span3, min_periods = span3).mean()\n",
        "    return stockData[MACDColumns]"
      ],
      "execution_count": 58,
      "outputs": []
    },
    {
      "cell_type": "code",
      "metadata": {
        "id": "rla3QZ1OsQDe"
      },
      "source": [
        "# create stock code based dataframes with MACD signal\n",
        "for symbol in allSymbols:\n",
        "    macd = MACD(ScriptWiseData[symbol])\n",
        "    ScriptWiseData[symbol] = ScriptWiseData[symbol].merge(macd, left_index=True, right_index = True, how='left')"
      ],
      "execution_count": 59,
      "outputs": []
    },
    {
      "cell_type": "markdown",
      "metadata": {
        "id": "oxHhE-MksQDf"
      },
      "source": [
        "### RSI - Relative Strength Index"
      ]
    },
    {
      "cell_type": "code",
      "metadata": {
        "id": "cmuud8ZUsQDg"
      },
      "source": [
        "# Calculating RSI without using loop\n",
        "def RSI(DF, n=14):\n",
        "    df =  DF.copy()\n",
        "    \"function to calculate RSI\"\n",
        "    delta = df['Close'].diff().dropna()\n",
        "    u = delta * 0\n",
        "    d = u.copy()\n",
        "    u[delta > 0] = delta[delta > 0]\n",
        "    d[delta < 0] = -delta[delta < 0]\n",
        "    u[u.index[n-1]] = np.mean( u[:n]) # first value is average of gains\n",
        "    u = u.drop(u.index[:(n-1)])\n",
        "    d[d.index[n-1]] = np.mean( d[:n]) # first value is average of losses\n",
        "    d = d.drop(d.index[:(n-1)])\n",
        "    rs = u.ewm(com=n,min_periods=n).mean()/d.ewm(com=n,min_periods=n).mean()\n",
        "    rsi = 100 - 100 / (1+rs);\n",
        "    return pd.DataFrame(rs).rename(columns={'Close':'RSI'})"
      ],
      "execution_count": 60,
      "outputs": []
    },
    {
      "cell_type": "code",
      "metadata": {
        "id": "lfsj0KTqsQDh"
      },
      "source": [
        "#RSI \n",
        "for symbol in allSymbols:   \n",
        "    rsi = RSI(data.loc[data.code==symbol])\n",
        "    ScriptWiseData[symbol] = ScriptWiseData[symbol].merge(rsi, left_index=True, right_index = True, how='left')"
      ],
      "execution_count": null,
      "outputs": []
    },
    {
      "cell_type": "markdown",
      "metadata": {
        "id": "pIDupQCqsQDi"
      },
      "source": [
        "### ATR"
      ]
    },
    {
      "cell_type": "code",
      "metadata": {
        "id": "yVvCDFDksQDi"
      },
      "source": [
        "def ATR(DF,n=20):\n",
        "    \"function to calculate True Range and Average True Range\"\n",
        "    df = DF.copy()\n",
        "    df['H-L']=abs(df['High']-df['Low'])\n",
        "    df['H-PC']=abs(df['High']-df['Close'].shift(1))\n",
        "    df['L-PC']=abs(df['Low']-df['Close'].shift(1))\n",
        "    df['TR']=df[['H-L','H-PC','L-PC']].max(axis=1,skipna=False)\n",
        "    df['ATR'] = df['TR'].rolling(n).mean()\n",
        "    #df['ATR'] = df['TR'].ewm(span=n,adjust=False,min_periods=n).mean()\n",
        "    df2 = df.drop(['H-L','H-PC','L-PC'],axis=1)\n",
        "    return df2[ATRColumns]"
      ],
      "execution_count": null,
      "outputs": []
    },
    {
      "cell_type": "code",
      "metadata": {
        "id": "alg3wk9VsQDj"
      },
      "source": [
        "#ATR \n",
        "for symbol in allSymbols:\n",
        "    ScriptWiseData[symbol][ATRColumns] = ATR(data.loc[data.code==symbol])"
      ],
      "execution_count": null,
      "outputs": []
    },
    {
      "cell_type": "markdown",
      "metadata": {
        "id": "IptUjX_NsQDk"
      },
      "source": [
        "### Bollinger band"
      ]
    },
    {
      "cell_type": "code",
      "metadata": {
        "id": "_hYgVp8IsQDl"
      },
      "source": [
        "def BollBnd(DF,n=14):\n",
        "    \"function to calculate Bollinger Band\"\n",
        "    df = DF.copy()\n",
        "    df[\"MA\"] = df['Close'].rolling(n).mean()\n",
        "    df[\"BB_up\"] = df[\"MA\"] + 2*df['Close'].rolling(n).std(ddof=0) #ddof=0 is required since we want to take the standard deviation of the population and not sample\n",
        "    df[\"BB_dn\"] = df[\"MA\"] - 2*df['Close'].rolling(n).std(ddof=0) #ddof=0 is required since we want to take the standard deviation of the population and not sample\n",
        "    df[\"BB_width\"] = df[\"BB_up\"] - df[\"BB_dn\"]\n",
        "#     df.dropna(inplace=True)\n",
        "    return df[BollBandColumns]"
      ],
      "execution_count": null,
      "outputs": []
    },
    {
      "cell_type": "code",
      "metadata": {
        "id": "gN_LnFmjsQDm"
      },
      "source": [
        "#Boll band\n",
        "for symbol in allSymbols:\n",
        "    ScriptWiseData[symbol][BollBandColumns] = BollBnd(data.loc[data.code==symbol])"
      ],
      "execution_count": null,
      "outputs": []
    },
    {
      "cell_type": "markdown",
      "metadata": {
        "id": "ZUjrrGn1sQDn"
      },
      "source": [
        "### OBV"
      ]
    },
    {
      "cell_type": "code",
      "metadata": {
        "id": "EwEDHhj5sQDo"
      },
      "source": [
        "def OBV(DF):\n",
        "    \"\"\"function to calculate On Balance Volume\"\"\"\n",
        "    df = DF.copy()\n",
        "    df['daily_ret'] = df['Close'].pct_change()\n",
        "    df['direction'] = np.where(df['daily_ret']>=0,1,-1)\n",
        "    df['direction'][0] = 0\n",
        "    df['vol_adj'] = df['No. of Shares'] * df['direction']\n",
        "    df['obv'] = df['vol_adj'].cumsum()\n",
        "    return df['obv']"
      ],
      "execution_count": null,
      "outputs": []
    },
    {
      "cell_type": "code",
      "metadata": {
        "id": "UwKjZo76sQDo"
      },
      "source": [
        "#OBV\n",
        "for symbol in allSymbols:\n",
        "    ScriptWiseData[symbol]['OBV'] = OBV(data.loc[data.code==symbol])"
      ],
      "execution_count": null,
      "outputs": []
    },
    {
      "cell_type": "markdown",
      "metadata": {
        "id": "9Uo5tUeZsQDp"
      },
      "source": [
        "### ADX"
      ]
    },
    {
      "cell_type": "code",
      "metadata": {
        "id": "LWkDvc8qsQDq"
      },
      "source": [
        "from ta.trend import ADXIndicator\n",
        "def ADX(DF):\n",
        "    df = DF.copy()\n",
        "    adxI = ADXIndicator(df['High'],df['Low'],df['Close'],14,False)\n",
        "    df['pos_directional_indicator'] = adxI.adx_pos()\n",
        "    df['neg_directional_indicator'] = adxI.adx_neg()\n",
        "    df['adx'] = adxI.adx()\n",
        "    return df[ADXColumns]"
      ],
      "execution_count": null,
      "outputs": []
    },
    {
      "cell_type": "code",
      "metadata": {
        "id": "4VEZNHkqsQDq"
      },
      "source": [
        "# ADX\n",
        "for symbol in allSymbols:\n",
        "    ScriptWiseData[symbol][ADXColumns] = ADX(data.loc[data.code==symbol])"
      ],
      "execution_count": null,
      "outputs": []
    },
    {
      "cell_type": "code",
      "metadata": {
        "id": "ZUe5P24MySjW"
      },
      "source": [
        "getNullValuesForSetOfStocks()"
      ],
      "execution_count": null,
      "outputs": []
    },
    {
      "cell_type": "markdown",
      "metadata": {
        "id": "ngJ2AiInsQDr"
      },
      "source": [
        "# Removing Extra Columms"
      ]
    },
    {
      "cell_type": "code",
      "metadata": {
        "id": "uZPSKO_esQDs"
      },
      "source": [
        "OriginalScriptWiseData = ScriptWiseData\n",
        "for symbol in allSymbols:\n",
        "    ScriptWiseData[symbol] = ScriptWiseData[symbol][['Close']+TechnicalIndicators]"
      ],
      "execution_count": null,
      "outputs": []
    },
    {
      "cell_type": "code",
      "metadata": {
        "id": "oyHF-5guySjX"
      },
      "source": [
        ""
      ],
      "execution_count": null,
      "outputs": []
    },
    {
      "cell_type": "markdown",
      "metadata": {
        "id": "QHqbBLRXsQDt"
      },
      "source": [
        "## Dropping null values"
      ]
    },
    {
      "cell_type": "code",
      "metadata": {
        "id": "h4fJKoGisQDt"
      },
      "source": [
        "# drop rows from the stock whose technical indicator values are null. \n",
        "for stock in stocks:\n",
        "#     ScriptWiseData[stock] = ScriptWiseData[stock].dropna(subset=AllIndicatorColumns)\n",
        "    ScriptWiseData[stock] = ScriptWiseData[stock].dropna()    "
      ],
      "execution_count": null,
      "outputs": []
    },
    {
      "cell_type": "code",
      "metadata": {
        "id": "CB0M7yErsQDu"
      },
      "source": [
        "# ScriptWiseData['BOM500180'][ScriptWiseData['BOM500180']['MACD'].isna()]\n",
        "getNullValuesForSetOfStocks()"
      ],
      "execution_count": null,
      "outputs": []
    },
    {
      "cell_type": "code",
      "metadata": {
        "id": "9iCNUYCTySjY"
      },
      "source": [
        "finalDateRanges =pd.DataFrame(columns = ['Stock Code', 'Stock Name', 'First Date', 'Last Date']) \n",
        "for s in stocks:\n",
        "    r = [s, getStockNameFromStockCode(s), ScriptWiseData[s].index.min(),  ScriptWiseData[s].index.max()]\n",
        "    finalDateRanges.loc[len(finalDateRanges)] = r\n",
        "finalDateRanges"
      ],
      "execution_count": null,
      "outputs": []
    },
    {
      "cell_type": "markdown",
      "metadata": {
        "id": "g-dEHWHqsQDv"
      },
      "source": [
        "# ADF Test for closing price"
      ]
    },
    {
      "cell_type": "code",
      "metadata": {
        "id": "PsBFTlvAsQDw"
      },
      "source": [
        "stock = stocks[0]\n",
        "adf_testResult = pd.DataFrame(adf_test(ScriptWiseData[stocks[0]].Close, stocks[0])[0], columns = ['Value']).transpose().set_index(['Stock Name', 'Stock Code'])\n",
        "for i in range(1, len(stocks)):\n",
        "    res = pd.DataFrame(adf_test(ScriptWiseData[stocks[i]].Close, stocks[i])[0], columns = ['Value']).transpose().set_index(['Stock Name', 'Stock Code'])\n",
        "    adf_testResult = adf_testResult.append(res)\n",
        "adf_testResult['Result'] = adf_testResult['p-value'].apply(lambda x: 'Stationary' if x<0.05 else 'Non-Stationary')\n",
        "# adf_testResult.to_csv('Outputs/adfTest.csv')\n",
        "adf_testResult.head()"
      ],
      "execution_count": null,
      "outputs": []
    },
    {
      "cell_type": "markdown",
      "metadata": {
        "id": "ZuatJ5wSsQD0"
      },
      "source": [
        "# Train test and validation split"
      ]
    },
    {
      "cell_type": "code",
      "metadata": {
        "id": "PPmizeP1sQD1"
      },
      "source": [
        "def TrainTestSplitByDateRange(df,test_start_date = '2020-03-02',test_end_date = '2021-03-23'):\n",
        "    train = df.loc[:test_start_date]\n",
        "    test = df.loc[test_start_date:test_end_date]\n",
        "    return train, test[1:]"
      ],
      "execution_count": null,
      "outputs": []
    },
    {
      "cell_type": "markdown",
      "metadata": {
        "id": "GZM3kPfUFLF0"
      },
      "source": [
        "# Code Addition Tavish -----------------------------------------------"
      ]
    },
    {
      "cell_type": "markdown",
      "metadata": {
        "id": "mkBI8VemuxzA"
      },
      "source": [
        "#ARIMA "
      ]
    },
    {
      "cell_type": "markdown",
      "metadata": {
        "id": "Brhnpl1lsQD_"
      },
      "source": [
        "### AutoARIMA DataFrame\n"
      ]
    },
    {
      "cell_type": "code",
      "metadata": {
        "id": "6WlVwmInOc_h"
      },
      "source": [
        "from statsmodels.tsa.arima_model import ARIMA\n",
        "from pmdarima.arima import auto_arima"
      ],
      "execution_count": null,
      "outputs": []
    },
    {
      "cell_type": "code",
      "metadata": {
        "id": "1N2CIMZrQBi8"
      },
      "source": [
        "import pandas as pd"
      ],
      "execution_count": 11,
      "outputs": []
    },
    {
      "cell_type": "code",
      "metadata": {
        "id": "yuHk6Cx2sQEA"
      },
      "source": [
        "AutoArimaResults = 'AutoArimaResults.csv'\n",
        "try:\n",
        "    with open('Outputs/' + AutoArimaResults) as myfile:\n",
        "      AutoArimaResults = pd.read_csv('Outputs/AutoArimaResults.csv',index_col='Unnamed: 0')  \n",
        "except IOError as e:\n",
        "    print('Creating {} file'.format(AutoArimaResults))\n",
        "    AutoArimaResults = pd.DataFrame(columns=['p Closing Values', 'd Closing Values', 'q Closing Values','p N Closing Values', 'd N Closing Values', 'q N Closing Values','p Closing Percentage', 'd Closing Percentage', 'q Closing Percentage'], index = stocks) \n",
        "\n",
        "#AutoArimaResults = pd.DataFrame(columns=['p Closing Values', 'd Closing Values', 'q Closing Values','p N Closing Values', 'd N Closing Values', 'q N Closing Values','p Closing Percentage', 'd Closing Percentage', 'q Closing Percentage'], index = stocks)\n",
        "#AutoArimaResults = pd.read_csv('Outputs/AutoArimaResults.csv',index_col='Unnamed: 0')\n"
      ],
      "execution_count": null,
      "outputs": []
    },
    {
      "cell_type": "code",
      "metadata": {
        "id": "XpG-7ntKsQEB"
      },
      "source": [
        "def CalculateAutoArima(stockcode, data, parameter ,p ,d,q):\n",
        "    if(AutoArimaResults.loc[:, [p, d, q]].isnull().sum(axis=1)[stockcode] > 0):\n",
        "        params = auto_arima(data[parameter], maxiter = 1000)\n",
        "        AutoArimaResults.loc[stockcode, [p,d,q]] = params.order\n",
        "        return params.order\n",
        "    else:\n",
        "        return tuple(AutoArimaResults.loc[stockcode, [p, d, q]])"
      ],
      "execution_count": null,
      "outputs": []
    },
    {
      "cell_type": "markdown",
      "metadata": {
        "id": "66iBaKZFbdbj"
      },
      "source": [
        "### Common Functions"
      ]
    },
    {
      "cell_type": "code",
      "metadata": {
        "id": "KLwjuKd3tzHm"
      },
      "source": [
        "def errorEvaluation(actual, pred):\n",
        "    RMSE = mean_squared_error(actual, pred, squared=False)\n",
        "    MAPE = mean_absolute_percentage_error(actual,pred)\n",
        "    R2 = r2_score(actual,pred)\n",
        "    Noise = float(pred.diff().abs().mean())\n",
        "    return [RMSE, MAPE, R2, Noise]"
      ],
      "execution_count": null,
      "outputs": []
    },
    {
      "cell_type": "code",
      "metadata": {
        "id": "tmb8wAagtzFr"
      },
      "source": [
        "def modified_prediction_frame(_df_pred, index):\n",
        "    _df_pred = _df_pred.to_frame()\n",
        "    _df_pred['Date'] = index\n",
        "    pd.to_datetime(_df_pred['Date'])\n",
        "    _df_pred.set_index('Date', inplace=True)\n",
        "    _df_pred.rename(columns={0 : 'Predicted'}, inplace=True)\n",
        "    return _df_pred"
      ],
      "execution_count": null,
      "outputs": []
    },
    {
      "cell_type": "markdown",
      "metadata": {
        "id": "XIE86TYXbYRI"
      },
      "source": [
        "## ARIMA for Closing Values "
      ]
    },
    {
      "cell_type": "markdown",
      "metadata": {
        "id": "xD0jX2PHAABU"
      },
      "source": [
        "### Generic Function For ARIMA Closing Prices"
      ]
    },
    {
      "cell_type": "code",
      "metadata": {
        "id": "oh8YrsrMRNef"
      },
      "source": [
        "def ARIMA_Model_Generic(StockCode, data, feature, Results, Order, train_data, test_data):\n",
        "    print(\"Modeling for the Stock: {}\".format(StockCode))\n",
        "\n",
        "    start = len(train_data)\n",
        "    end = len(train_data) + len(test_data) - 1\n",
        "\n",
        "    print(\"ADF Test for the given series.\")\n",
        "    adf, Stationarity = adf_test(train_data[feature], title=StockCode)\n",
        "    print(adf)\n",
        "    print('----------------------------------------------------------------------------')\n",
        "    Results.loc[StockCode,'Stationarity'] = Stationarity\n",
        "    model = ARIMA(train_data[feature], order = Order)\n",
        "\n",
        "    results = model.fit()\n",
        "    print(results.params)\n",
        "    print(\"Order: \" + str(Order) )\n",
        "    print('---------------------------------------------------------------------------')\n",
        "    Results.loc[StockCode, 'Order'] = str(Order)\n",
        "\n",
        "    predictions = results.predict(start = start, end = end, typ ='levels')\n",
        "    predictions = modified_prediction_frame(predictions, test_data[feature].index)\n",
        "\n",
        "    errorEval = errorEvaluation(test_data[feature], predictions)\n",
        "    RMSE, MAPE, R2, Noise = errorEval\n",
        "    Results.loc[StockCode, ['RMSE', 'MAPE', 'R2', 'Noise']] = errorEval\n",
        "    print(\"RMSE: {0} \\nMape: {1} \\nR2: {2} \\nNoise: {3}\".format(RMSE, MAPE, R2, Noise))\n",
        "    print('---------------------------------------------------------------------------')\n",
        "\n",
        "    print('Description of the Predicted Data')\n",
        "    print(predictions.describe())\n",
        "    pred_mean = predictions.mean(numeric_only=True)\n",
        "    Results.loc[StockCode, 'Predictions Mean'] = str(float(pred_mean))\n",
        "    print('---------------------------------------------------------------------------')\n",
        "\n",
        "    print('Description of the Actual Data')\n",
        "    print(test_data[feature].describe())\n",
        "    Results.loc[StockCode, 'Actual Mean'] = str(test_data[feature].mean())\n",
        "    return predictions\n"
      ],
      "execution_count": null,
      "outputs": []
    },
    {
      "cell_type": "code",
      "metadata": {
        "id": "r_QX2NcG2Sje"
      },
      "source": [
        "try:\n",
        "    ArimaModelPricesResults = pd.read_csv('./Outputs/ArimaModelPricesResults.csv')\n",
        "except FileNotFoundError:\n",
        "    ArimaModelPricesResults = pd.DataFrame(columns=['Stationarity', 'Order', 'RMSE', 'MAPE', 'R2', 'Noise', 'Predictions Mean', 'Actual Mean'], index = stocks)"
      ],
      "execution_count": null,
      "outputs": []
    },
    {
      "cell_type": "code",
      "metadata": {
        "id": "Q2S3ndNj4IW9"
      },
      "source": [
        "feature = 'Close'\n",
        "for stock in stocks:\n",
        "    print(\"Working for Stock - {}\".format(stock))\n",
        "    train_data, test_data = TrainTestSplitByDateRange(ScriptWiseData[stock])\n",
        "    Order = CalculateAutoArima(stock, train_data, feature,  p= 'p Closing Values',d = 'd Closing Values', q = 'q Closing Values')\n",
        "    ARIMA_Model_Generic(StockCode = stock, data = ScriptWiseData, feature = feature, Results=ArimaModelPricesResults, Order=Order, train_data=train_data, test_data=test_data)\n",
        "    break"
      ],
      "execution_count": null,
      "outputs": []
    },
    {
      "cell_type": "code",
      "metadata": {
        "id": "QPc5OCmxzXgP"
      },
      "source": [
        "ArimaModelPricesResults.to_csv('./Outputs/ArimaModelPricesResults.csv')"
      ],
      "execution_count": null,
      "outputs": []
    },
    {
      "cell_type": "markdown",
      "metadata": {
        "id": "Ru8Key50sQD3"
      },
      "source": [
        "## ARIMA for Normalized Closing Price"
      ]
    },
    {
      "cell_type": "markdown",
      "metadata": {
        "id": "CMOXBPGjb-mp"
      },
      "source": [
        "### Normalizing the Values  - Normalized_Prices"
      ]
    },
    {
      "cell_type": "code",
      "metadata": {
        "id": "sWQsNBH-_mIo"
      },
      "source": [
        "normalized_columns = ['Normalized Closing', 'Normalized RSI', 'Normalized ATR', 'Normalized MACD', 'Normalized ADX', 'Normalized OBV']\n",
        "normalized_TechnicalIndicators = ['Normalized RSI', 'Normalized ATR', 'Normalized MACD', 'Normalized ADX', 'Normalized OBV']"
      ],
      "execution_count": null,
      "outputs": []
    },
    {
      "cell_type": "code",
      "metadata": {
        "id": "ZvK_sl4-r5zF"
      },
      "source": [
        "# first value normalization\n",
        "for stock in stocks:\n",
        "    cols = list(ScriptWiseData[stock].columns)\n",
        "    for count in range(len(cols)):\n",
        "        benchmark_prices = ScriptWiseData[stock][cols[count]].iloc[0]\n",
        "        ScriptWiseData[stock][normalized_columns[count]] = ScriptWiseData[stock][cols[count]].div(benchmark_prices).mul(100)\n"
      ],
      "execution_count": null,
      "outputs": []
    },
    {
      "cell_type": "markdown",
      "metadata": {
        "id": "hssG06SXQzYo"
      },
      "source": [
        "###  ARIMA Normalized Closing Prices"
      ]
    },
    {
      "cell_type": "code",
      "metadata": {
        "id": "vp-eT2gpRNeZ"
      },
      "source": [
        "try:\n",
        "    ArimaModelPricesResults_Norm = pd.read_csv('./Outputs/ArimaModelPricesResults_Norm.csv')\n",
        "except FileNotFoundError:\n",
        "    ArimaModelPricesResults_Norm = pd.DataFrame(columns=['Stationarity', 'Order', 'RMSE', 'MAPE', 'R2','Noise', 'Predictions Mean', 'Actual Mean'], index = stocks)\n",
        "    \n"
      ],
      "execution_count": 66,
      "outputs": []
    },
    {
      "cell_type": "code",
      "metadata": {
        "id": "NVFH-IUnVFVz"
      },
      "source": [
        "for stock in stocks:\n",
        "    print(\"Working for Stock {}\".format(stock))\n",
        "    train_data, test_data = TrainTestSplitByDateRange(ScriptWiseData[stock])\n",
        "    feature = 'Normalized Closing'\n",
        "    Order = CalculateAutoArima(stock, train_data, feature,'p N Closing Values', 'd N Closing Values', 'q N Closing Values')\n",
        "    ARIMA_Model_Generic(StockCode= stock, data = ScriptWiseData, feature = feature, Results=ArimaModelPricesResults_Norm, Order=Order, train_data=train_data, test_data=test_data)"
      ],
      "execution_count": null,
      "outputs": []
    },
    {
      "cell_type": "code",
      "metadata": {
        "id": "xRHvVlzIRNei"
      },
      "source": [
        "ArimaModelPricesResults_Norm.to_csv('./Outputs/ArimaModelPricesResults_Norm.csv')"
      ],
      "execution_count": null,
      "outputs": []
    },
    {
      "cell_type": "markdown",
      "metadata": {
        "id": "dRI58ANtsQEE"
      },
      "source": [
        "## ARIMA Model For Returns"
      ]
    },
    {
      "cell_type": "markdown",
      "metadata": {
        "id": "tMsWXE90sQDx"
      },
      "source": [
        "### Convert Closing price to percentage change"
      ]
    },
    {
      "cell_type": "markdown",
      "metadata": {
        "id": "EXFKbLv2v2Oo"
      },
      "source": [
        "\n",
        "\n",
        "> revisit normalization for this section - consider normalizing in range -1 and 1 --- Not done yet\n",
        "\n"
      ]
    },
    {
      "cell_type": "code",
      "metadata": {
        "id": "vBqeCkNEsQDy"
      },
      "source": [
        "for s in stocks:\n",
        "    ScriptWiseData[s]['Stock_Returns'] = ScriptWiseData[s]['Close'].pct_change(1).mul(100) \n",
        "    ScriptWiseData[s] = ScriptWiseData[s][1:] # Because of NAN first value"
      ],
      "execution_count": null,
      "outputs": []
    },
    {
      "cell_type": "code",
      "metadata": {
        "id": "muFSqcxGsQDz",
        "outputId": "a71ae8e9-028a-49f0-fa23-98bdccba682b"
      },
      "source": [
        "stock = stocks[0]\n",
        "adf_testResult = pd.DataFrame(adf_test(ScriptWiseData[stocks[0]].Stock_Returns, stocks[0])[0], columns = ['Value']).transpose().set_index(['Stock Name', 'Stock Code'])\n",
        "for i in range(1, len(stocks)):\n",
        "    res = pd.DataFrame(adf_test(ScriptWiseData[stocks[i]].Stock_Returns, stocks[i])[0], columns = ['Value']).transpose().set_index(['Stock Name', 'Stock Code'])\n",
        "    adf_testResult = adf_testResult.append(res)\n",
        "adf_testResult['Result'] = adf_testResult['p-value'].apply(lambda x: 'Stationary' if x<0.05 else 'Non-Stationary')\n",
        "# adf_testResult.to_csv('Outputs/adfTestReturns.csv')\n",
        "adf_testResult.to_csv('Outputs/adfTestReturns.csv')\n",
        "adf_testResult.head()"
      ],
      "execution_count": null,
      "outputs": [
        {
          "output_type": "execute_result",
          "data": {
            "text/html": [
              "<div>\n",
              "<style scoped>\n",
              "    .dataframe tbody tr th:only-of-type {\n",
              "        vertical-align: middle;\n",
              "    }\n",
              "\n",
              "    .dataframe tbody tr th {\n",
              "        vertical-align: top;\n",
              "    }\n",
              "\n",
              "    .dataframe thead th {\n",
              "        text-align: right;\n",
              "    }\n",
              "</style>\n",
              "<table border=\"1\" class=\"dataframe\">\n",
              "  <thead>\n",
              "    <tr style=\"text-align: right;\">\n",
              "      <th></th>\n",
              "      <th></th>\n",
              "      <th>ADF test statistic</th>\n",
              "      <th>p-value</th>\n",
              "      <th># lags used</th>\n",
              "      <th>#observations</th>\n",
              "      <th>critical value (1%)</th>\n",
              "      <th>critical value (5%)</th>\n",
              "      <th>critical value (10%)</th>\n",
              "      <th>Result</th>\n",
              "    </tr>\n",
              "    <tr>\n",
              "      <th>Stock Name</th>\n",
              "      <th>Stock Code</th>\n",
              "      <th></th>\n",
              "      <th></th>\n",
              "      <th></th>\n",
              "      <th></th>\n",
              "      <th></th>\n",
              "      <th></th>\n",
              "      <th></th>\n",
              "      <th></th>\n",
              "    </tr>\n",
              "  </thead>\n",
              "  <tbody>\n",
              "    <tr>\n",
              "      <th>SUN PHARMACEUTICAL INDUSTRIES LTD.</th>\n",
              "      <th>BOM524715</th>\n",
              "      <td>-51.489152</td>\n",
              "      <td>0.0</td>\n",
              "      <td>1.0</td>\n",
              "      <td>5251.0</td>\n",
              "      <td>-3.431596</td>\n",
              "      <td>-2.862091</td>\n",
              "      <td>-2.567063</td>\n",
              "      <td>Stationary</td>\n",
              "    </tr>\n",
              "    <tr>\n",
              "      <th>DIVI'S LABORATORIES LTD.</th>\n",
              "      <th>BOM532488</th>\n",
              "      <td>-13.923122</td>\n",
              "      <td>0.0</td>\n",
              "      <td>23.0</td>\n",
              "      <td>4432.0</td>\n",
              "      <td>-3.431826</td>\n",
              "      <td>-2.862192</td>\n",
              "      <td>-2.567117</td>\n",
              "      <td>Stationary</td>\n",
              "    </tr>\n",
              "    <tr>\n",
              "      <th>DR.REDDY'S LABORATORIES LTD.</th>\n",
              "      <th>BOM500124</th>\n",
              "      <td>-71.618449</td>\n",
              "      <td>0.0</td>\n",
              "      <td>0.0</td>\n",
              "      <td>5253.0</td>\n",
              "      <td>-3.431595</td>\n",
              "      <td>-2.86209</td>\n",
              "      <td>-2.567063</td>\n",
              "      <td>Stationary</td>\n",
              "    </tr>\n",
              "    <tr>\n",
              "      <th>HDFC Bank Ltd</th>\n",
              "      <th>BOM500180</th>\n",
              "      <td>-54.580752</td>\n",
              "      <td>0.0</td>\n",
              "      <td>1.0</td>\n",
              "      <td>5252.0</td>\n",
              "      <td>-3.431596</td>\n",
              "      <td>-2.86209</td>\n",
              "      <td>-2.567063</td>\n",
              "      <td>Stationary</td>\n",
              "    </tr>\n",
              "    <tr>\n",
              "      <th>ICICI BANK LTD.</th>\n",
              "      <th>BOM532174</th>\n",
              "      <td>-32.126798</td>\n",
              "      <td>0.0</td>\n",
              "      <td>5.0</td>\n",
              "      <td>5247.0</td>\n",
              "      <td>-3.431597</td>\n",
              "      <td>-2.862091</td>\n",
              "      <td>-2.567063</td>\n",
              "      <td>Stationary</td>\n",
              "    </tr>\n",
              "  </tbody>\n",
              "</table>\n",
              "</div>"
            ],
            "text/plain": [
              "                                               ADF test statistic p-value  \\\n",
              "Stock Name                          Stock Code                              \n",
              "SUN PHARMACEUTICAL INDUSTRIES LTD.  BOM524715          -51.489152     0.0   \n",
              "DIVI'S LABORATORIES LTD.            BOM532488          -13.923122     0.0   \n",
              "DR.REDDY'S LABORATORIES LTD.        BOM500124          -71.618449     0.0   \n",
              "HDFC Bank Ltd                       BOM500180          -54.580752     0.0   \n",
              "ICICI BANK LTD.                     BOM532174          -32.126798     0.0   \n",
              "\n",
              "                                               # lags used #observations  \\\n",
              "Stock Name                          Stock Code                             \n",
              "SUN PHARMACEUTICAL INDUSTRIES LTD.  BOM524715          1.0        5251.0   \n",
              "DIVI'S LABORATORIES LTD.            BOM532488         23.0        4432.0   \n",
              "DR.REDDY'S LABORATORIES LTD.        BOM500124          0.0        5253.0   \n",
              "HDFC Bank Ltd                       BOM500180          1.0        5252.0   \n",
              "ICICI BANK LTD.                     BOM532174          5.0        5247.0   \n",
              "\n",
              "                                               critical value (1%)  \\\n",
              "Stock Name                          Stock Code                       \n",
              "SUN PHARMACEUTICAL INDUSTRIES LTD.  BOM524715            -3.431596   \n",
              "DIVI'S LABORATORIES LTD.            BOM532488            -3.431826   \n",
              "DR.REDDY'S LABORATORIES LTD.        BOM500124            -3.431595   \n",
              "HDFC Bank Ltd                       BOM500180            -3.431596   \n",
              "ICICI BANK LTD.                     BOM532174            -3.431597   \n",
              "\n",
              "                                               critical value (5%)  \\\n",
              "Stock Name                          Stock Code                       \n",
              "SUN PHARMACEUTICAL INDUSTRIES LTD.  BOM524715            -2.862091   \n",
              "DIVI'S LABORATORIES LTD.            BOM532488            -2.862192   \n",
              "DR.REDDY'S LABORATORIES LTD.        BOM500124             -2.86209   \n",
              "HDFC Bank Ltd                       BOM500180             -2.86209   \n",
              "ICICI BANK LTD.                     BOM532174            -2.862091   \n",
              "\n",
              "                                               critical value (10%)  \\\n",
              "Stock Name                          Stock Code                        \n",
              "SUN PHARMACEUTICAL INDUSTRIES LTD.  BOM524715             -2.567063   \n",
              "DIVI'S LABORATORIES LTD.            BOM532488             -2.567117   \n",
              "DR.REDDY'S LABORATORIES LTD.        BOM500124             -2.567063   \n",
              "HDFC Bank Ltd                       BOM500180             -2.567063   \n",
              "ICICI BANK LTD.                     BOM532174             -2.567063   \n",
              "\n",
              "                                                    Result  \n",
              "Stock Name                          Stock Code              \n",
              "SUN PHARMACEUTICAL INDUSTRIES LTD.  BOM524715   Stationary  \n",
              "DIVI'S LABORATORIES LTD.            BOM532488   Stationary  \n",
              "DR.REDDY'S LABORATORIES LTD.        BOM500124   Stationary  \n",
              "HDFC Bank Ltd                       BOM500180   Stationary  \n",
              "ICICI BANK LTD.                     BOM532174   Stationary  "
            ]
          },
          "metadata": {
            "tags": []
          },
          "execution_count": 63
        }
      ]
    },
    {
      "cell_type": "markdown",
      "metadata": {
        "id": "IjUQArZOk9Er"
      },
      "source": [
        "### ARIMA for percentage Returns"
      ]
    },
    {
      "cell_type": "code",
      "metadata": {
        "id": "YHfwbLOsk9Et"
      },
      "source": [
        "try:\n",
        "    ArimaModelPricesResults_Returns = pd.read_csv('./Outputs/ArimaModelPricesResults_Returns.csv')\n",
        "except FileNotFoundError:\n",
        "    ArimaModelPricesResults_Returns = pd.DataFrame(columns=['Stationarity', 'Order', 'RMSE', 'MAPE', 'R2', 'Noise', 'Predictions Mean', 'Actual Mean'], index = stocks)"
      ],
      "execution_count": null,
      "outputs": []
    },
    {
      "cell_type": "code",
      "metadata": {
        "id": "6pNukXztlVtq"
      },
      "source": [
        "for stock in stocks:\n",
        "    try:\n",
        "        print(\"Working for Stock {}\".format(stock))\n",
        "        train_data, test_data = TrainTestSplitByDateRange(ScriptWiseData[stock])\n",
        "        feature = 'Stock_Returns'\n",
        "        Order = CalculateAutoArima(stock, train_data, feature, p = 'p Closing Percentage', d = 'd Closing Percentage', q = 'q Closing Percentage')\n",
        "        ARIMA_Model_Generic(StockCode= stock, data = ScriptWiseData, feature = feature, Results=ArimaModelPricesResults_Returns, Order=Order, train_data=train_data, test_data=test_data)\n",
        "    except Exception as e:\n",
        "        print(e)"
      ],
      "execution_count": null,
      "outputs": []
    },
    {
      "cell_type": "code",
      "metadata": {
        "colab": {
          "base_uri": "https://localhost:8080/",
          "height": 509
        },
        "id": "jQTP_BRKMYgB",
        "outputId": "8aff7a70-2662-4f73-bb4a-6d060ba3d926"
      },
      "source": [
        "ArimaModelPricesResults_Returns"
      ],
      "execution_count": null,
      "outputs": [
        {
          "output_type": "execute_result",
          "data": {
            "text/html": [
              "<div>\n",
              "<style scoped>\n",
              "    .dataframe tbody tr th:only-of-type {\n",
              "        vertical-align: middle;\n",
              "    }\n",
              "\n",
              "    .dataframe tbody tr th {\n",
              "        vertical-align: top;\n",
              "    }\n",
              "\n",
              "    .dataframe thead th {\n",
              "        text-align: right;\n",
              "    }\n",
              "</style>\n",
              "<table border=\"1\" class=\"dataframe\">\n",
              "  <thead>\n",
              "    <tr style=\"text-align: right;\">\n",
              "      <th></th>\n",
              "      <th>Stationarity</th>\n",
              "      <th>Order</th>\n",
              "      <th>RMSE</th>\n",
              "      <th>MAPE</th>\n",
              "      <th>R2</th>\n",
              "      <th>Noise</th>\n",
              "      <th>Predictions Mean</th>\n",
              "      <th>Actual Mean</th>\n",
              "    </tr>\n",
              "  </thead>\n",
              "  <tbody>\n",
              "    <tr>\n",
              "      <th>BOM524715</th>\n",
              "      <td>Stationary</td>\n",
              "      <td>(1, 0, 2)</td>\n",
              "      <td>2.418112</td>\n",
              "      <td>1.016611</td>\n",
              "      <td>-0.005038</td>\n",
              "      <td>0.000627</td>\n",
              "      <td>0.030466600549421314</td>\n",
              "      <td>0.20573864798210306</td>\n",
              "    </tr>\n",
              "    <tr>\n",
              "      <th>BOM532488</th>\n",
              "      <td>Stationary</td>\n",
              "      <td>(3, 0, 1)</td>\n",
              "      <td>2.371792</td>\n",
              "      <td>1.438822</td>\n",
              "      <td>-0.00271</td>\n",
              "      <td>0.000308</td>\n",
              "      <td>0.10620860129354863</td>\n",
              "      <td>0.22024935679929103</td>\n",
              "    </tr>\n",
              "    <tr>\n",
              "      <th>BOM500124</th>\n",
              "      <td>Stationary</td>\n",
              "      <td>(0, 0, 0)</td>\n",
              "      <td>2.254461</td>\n",
              "      <td>1.032354</td>\n",
              "      <td>-0.003719</td>\n",
              "      <td>0.0</td>\n",
              "      <td>0.04364491996344812</td>\n",
              "      <td>0.18088231861858162</td>\n",
              "    </tr>\n",
              "    <tr>\n",
              "      <th>BOM500180</th>\n",
              "      <td>Stationary</td>\n",
              "      <td>(1, 0, 1)</td>\n",
              "      <td>2.651915</td>\n",
              "      <td>1.023123</td>\n",
              "      <td>-0.000856</td>\n",
              "      <td>0.000321</td>\n",
              "      <td>0.07198788820942947</td>\n",
              "      <td>0.12566854955618048</td>\n",
              "    </tr>\n",
              "    <tr>\n",
              "      <th>BOM532174</th>\n",
              "      <td>Stationary</td>\n",
              "      <td>NaN</td>\n",
              "      <td>NaN</td>\n",
              "      <td>NaN</td>\n",
              "      <td>NaN</td>\n",
              "      <td>NaN</td>\n",
              "      <td>NaN</td>\n",
              "      <td>NaN</td>\n",
              "    </tr>\n",
              "    <tr>\n",
              "      <th>BOM500247</th>\n",
              "      <td>Stationary</td>\n",
              "      <td>(0, 0, 1)</td>\n",
              "      <td>2.914117</td>\n",
              "      <td>1.062708</td>\n",
              "      <td>-0.000089</td>\n",
              "      <td>0.000187</td>\n",
              "      <td>0.10389020263388045</td>\n",
              "      <td>0.0901047802483421</td>\n",
              "    </tr>\n",
              "    <tr>\n",
              "      <th>BOM500470</th>\n",
              "      <td>Stationary</td>\n",
              "      <td>(2, 0, 2)</td>\n",
              "      <td>3.110185</td>\n",
              "      <td>1.010686</td>\n",
              "      <td>-0.007887</td>\n",
              "      <td>0.003501</td>\n",
              "      <td>0.056431575740140266</td>\n",
              "      <td>0.3173045225208098</td>\n",
              "    </tr>\n",
              "    <tr>\n",
              "      <th>BOM500228</th>\n",
              "      <td>Stationary</td>\n",
              "      <td>(0, 0, 0)</td>\n",
              "      <td>3.116926</td>\n",
              "      <td>1.62784</td>\n",
              "      <td>-0.005721</td>\n",
              "      <td>0.0</td>\n",
              "      <td>0.5238747004730313</td>\n",
              "      <td>0.2887804435159547</td>\n",
              "    </tr>\n",
              "    <tr>\n",
              "      <th>BOM500440</th>\n",
              "      <td>Stationary</td>\n",
              "      <td>(2, 0, 2)</td>\n",
              "      <td>3.682149</td>\n",
              "      <td>0.985914</td>\n",
              "      <td>-0.009147</td>\n",
              "      <td>0.001817</td>\n",
              "      <td>0.027244112883416386</td>\n",
              "      <td>0.36871118873150094</td>\n",
              "    </tr>\n",
              "    <tr>\n",
              "      <th>BOM532977</th>\n",
              "      <td>Stationary</td>\n",
              "      <td>(0, 0, 1)</td>\n",
              "      <td>2.434276</td>\n",
              "      <td>1.173898</td>\n",
              "      <td>0.000658</td>\n",
              "      <td>0.000843</td>\n",
              "      <td>0.08611715967783007</td>\n",
              "      <td>0.13360405849851478</td>\n",
              "    </tr>\n",
              "    <tr>\n",
              "      <th>BOM500570</th>\n",
              "      <td>Stationary</td>\n",
              "      <td>(3, 0, 4)</td>\n",
              "      <td>3.852464</td>\n",
              "      <td>0.98063</td>\n",
              "      <td>-0.009108</td>\n",
              "      <td>0.00541</td>\n",
              "      <td>0.04797370626303102</td>\n",
              "      <td>0.4130476176710498</td>\n",
              "    </tr>\n",
              "    <tr>\n",
              "      <th>BOM532500</th>\n",
              "      <td>Stationary</td>\n",
              "      <td>(2, 0, 2)</td>\n",
              "      <td>2.947828</td>\n",
              "      <td>1.149839</td>\n",
              "      <td>0.000005</td>\n",
              "      <td>0.000134</td>\n",
              "      <td>0.10455349650463835</td>\n",
              "      <td>0.09442729096548874</td>\n",
              "    </tr>\n",
              "    <tr>\n",
              "      <th>BOM500209</th>\n",
              "      <td>Stationary</td>\n",
              "      <td>(2, 0, 2)</td>\n",
              "      <td>2.505933</td>\n",
              "      <td>0.994417</td>\n",
              "      <td>-0.010579</td>\n",
              "      <td>0.002318</td>\n",
              "      <td>0.006483249473545437</td>\n",
              "      <td>0.2625434450539418</td>\n",
              "    </tr>\n",
              "    <tr>\n",
              "      <th>BOM532540</th>\n",
              "      <td>Stationary</td>\n",
              "      <td>(1, 0, 2)</td>\n",
              "      <td>2.202598</td>\n",
              "      <td>1.116758</td>\n",
              "      <td>-0.006914</td>\n",
              "      <td>0.000855</td>\n",
              "      <td>0.06095549567301364</td>\n",
              "      <td>0.19537820730039165</td>\n",
              "    </tr>\n",
              "    <tr>\n",
              "      <th>BOM507685</th>\n",
              "      <td>Stationary</td>\n",
              "      <td>(2, 0, 2)</td>\n",
              "      <td>2.54388</td>\n",
              "      <td>434979547252.127869</td>\n",
              "      <td>-0.013259</td>\n",
              "      <td>0.003722</td>\n",
              "      <td>-0.009080787981048732</td>\n",
              "      <td>0.2712256591466293</td>\n",
              "    </tr>\n",
              "  </tbody>\n",
              "</table>\n",
              "</div>"
            ],
            "text/plain": [
              "          Stationarity      Order      RMSE                 MAPE        R2  \\\n",
              "BOM524715   Stationary  (1, 0, 2)  2.418112             1.016611 -0.005038   \n",
              "BOM532488   Stationary  (3, 0, 1)  2.371792             1.438822  -0.00271   \n",
              "BOM500124   Stationary  (0, 0, 0)  2.254461             1.032354 -0.003719   \n",
              "BOM500180   Stationary  (1, 0, 1)  2.651915             1.023123 -0.000856   \n",
              "BOM532174   Stationary        NaN       NaN                  NaN       NaN   \n",
              "BOM500247   Stationary  (0, 0, 1)  2.914117             1.062708 -0.000089   \n",
              "BOM500470   Stationary  (2, 0, 2)  3.110185             1.010686 -0.007887   \n",
              "BOM500228   Stationary  (0, 0, 0)  3.116926              1.62784 -0.005721   \n",
              "BOM500440   Stationary  (2, 0, 2)  3.682149             0.985914 -0.009147   \n",
              "BOM532977   Stationary  (0, 0, 1)  2.434276             1.173898  0.000658   \n",
              "BOM500570   Stationary  (3, 0, 4)  3.852464              0.98063 -0.009108   \n",
              "BOM532500   Stationary  (2, 0, 2)  2.947828             1.149839  0.000005   \n",
              "BOM500209   Stationary  (2, 0, 2)  2.505933             0.994417 -0.010579   \n",
              "BOM532540   Stationary  (1, 0, 2)  2.202598             1.116758 -0.006914   \n",
              "BOM507685   Stationary  (2, 0, 2)   2.54388  434979547252.127869 -0.013259   \n",
              "\n",
              "              Noise       Predictions Mean          Actual Mean  \n",
              "BOM524715  0.000627   0.030466600549421314  0.20573864798210306  \n",
              "BOM532488  0.000308    0.10620860129354863  0.22024935679929103  \n",
              "BOM500124       0.0    0.04364491996344812  0.18088231861858162  \n",
              "BOM500180  0.000321    0.07198788820942947  0.12566854955618048  \n",
              "BOM532174       NaN                    NaN                  NaN  \n",
              "BOM500247  0.000187    0.10389020263388045   0.0901047802483421  \n",
              "BOM500470  0.003501   0.056431575740140266   0.3173045225208098  \n",
              "BOM500228       0.0     0.5238747004730313   0.2887804435159547  \n",
              "BOM500440  0.001817   0.027244112883416386  0.36871118873150094  \n",
              "BOM532977  0.000843    0.08611715967783007  0.13360405849851478  \n",
              "BOM500570   0.00541    0.04797370626303102   0.4130476176710498  \n",
              "BOM532500  0.000134    0.10455349650463835  0.09442729096548874  \n",
              "BOM500209  0.002318   0.006483249473545437   0.2625434450539418  \n",
              "BOM532540  0.000855    0.06095549567301364  0.19537820730039165  \n",
              "BOM507685  0.003722  -0.009080787981048732   0.2712256591466293  "
            ]
          },
          "metadata": {
            "tags": []
          },
          "execution_count": 66
        }
      ]
    },
    {
      "cell_type": "code",
      "metadata": {
        "id": "Fqc10UbCcSBU"
      },
      "source": [
        "ArimaModelPricesResults_Returns.to_csv('./Outputs/ArimaModelPricesResults_Returns.csv')"
      ],
      "execution_count": null,
      "outputs": []
    },
    {
      "cell_type": "code",
      "metadata": {
        "id": "FiZPD4yPMQuz"
      },
      "source": [
        "AutoArimaResults.to_csv('Outputs/AutoArimaResults.csv')"
      ],
      "execution_count": null,
      "outputs": []
    },
    {
      "cell_type": "markdown",
      "metadata": {
        "id": "GL8MHVRhsQEE"
      },
      "source": [
        "#ARIMAX"
      ]
    },
    {
      "cell_type": "markdown",
      "metadata": {
        "id": "hJNPShtN1N-M"
      },
      "source": [
        "### AutoARIMA DataFrame\n"
      ]
    },
    {
      "cell_type": "code",
      "metadata": {
        "id": "vTq4-k9O1N-M"
      },
      "source": [
        "from statsmodels.tsa.arima_model import ARIMA\n",
        "from pmdarima.arima import auto_arima"
      ],
      "execution_count": null,
      "outputs": []
    },
    {
      "cell_type": "code",
      "metadata": {
        "colab": {
          "base_uri": "https://localhost:8080/",
          "height": 526
        },
        "id": "uuCB1enT1N-N",
        "outputId": "37fae579-66fc-45ce-e5d0-1ae8ad75507e"
      },
      "source": [
        "try:\n",
        "    AutoArimaResultsForArimax = pd.read_csv('./Outputs/AutoArimaResultsForArimax.csv')\n",
        "except FileNotFoundError:\n",
        "    AutoArimaResultsForArimax = pd.DataFrame(columns=['p Closing Values', 'd Closing Values', 'q Closing Values','p N Closing Values', 'd N Closing Values', 'q N Closing Values','p Closing Percentage', 'd Closing Percentage', 'q Closing Percentage'], index = stocks)\n",
        "\n",
        "AutoArimaResultsForArimax"
      ],
      "execution_count": 67,
      "outputs": [
        {
          "output_type": "execute_result",
          "data": {
            "text/html": [
              "<div>\n",
              "<style scoped>\n",
              "    .dataframe tbody tr th:only-of-type {\n",
              "        vertical-align: middle;\n",
              "    }\n",
              "\n",
              "    .dataframe tbody tr th {\n",
              "        vertical-align: top;\n",
              "    }\n",
              "\n",
              "    .dataframe thead th {\n",
              "        text-align: right;\n",
              "    }\n",
              "</style>\n",
              "<table border=\"1\" class=\"dataframe\">\n",
              "  <thead>\n",
              "    <tr style=\"text-align: right;\">\n",
              "      <th></th>\n",
              "      <th>p Closing Values</th>\n",
              "      <th>d Closing Values</th>\n",
              "      <th>q Closing Values</th>\n",
              "      <th>p N Closing Values</th>\n",
              "      <th>d N Closing Values</th>\n",
              "      <th>q N Closing Values</th>\n",
              "      <th>p Closing Percentage</th>\n",
              "      <th>d Closing Percentage</th>\n",
              "      <th>q Closing Percentage</th>\n",
              "    </tr>\n",
              "  </thead>\n",
              "  <tbody>\n",
              "    <tr>\n",
              "      <th>BOM524715</th>\n",
              "      <td>NaN</td>\n",
              "      <td>NaN</td>\n",
              "      <td>NaN</td>\n",
              "      <td>NaN</td>\n",
              "      <td>NaN</td>\n",
              "      <td>NaN</td>\n",
              "      <td>NaN</td>\n",
              "      <td>NaN</td>\n",
              "      <td>NaN</td>\n",
              "    </tr>\n",
              "    <tr>\n",
              "      <th>BOM532488</th>\n",
              "      <td>NaN</td>\n",
              "      <td>NaN</td>\n",
              "      <td>NaN</td>\n",
              "      <td>NaN</td>\n",
              "      <td>NaN</td>\n",
              "      <td>NaN</td>\n",
              "      <td>NaN</td>\n",
              "      <td>NaN</td>\n",
              "      <td>NaN</td>\n",
              "    </tr>\n",
              "    <tr>\n",
              "      <th>BOM500124</th>\n",
              "      <td>NaN</td>\n",
              "      <td>NaN</td>\n",
              "      <td>NaN</td>\n",
              "      <td>NaN</td>\n",
              "      <td>NaN</td>\n",
              "      <td>NaN</td>\n",
              "      <td>NaN</td>\n",
              "      <td>NaN</td>\n",
              "      <td>NaN</td>\n",
              "    </tr>\n",
              "    <tr>\n",
              "      <th>BOM500180</th>\n",
              "      <td>NaN</td>\n",
              "      <td>NaN</td>\n",
              "      <td>NaN</td>\n",
              "      <td>NaN</td>\n",
              "      <td>NaN</td>\n",
              "      <td>NaN</td>\n",
              "      <td>NaN</td>\n",
              "      <td>NaN</td>\n",
              "      <td>NaN</td>\n",
              "    </tr>\n",
              "    <tr>\n",
              "      <th>BOM532174</th>\n",
              "      <td>NaN</td>\n",
              "      <td>NaN</td>\n",
              "      <td>NaN</td>\n",
              "      <td>NaN</td>\n",
              "      <td>NaN</td>\n",
              "      <td>NaN</td>\n",
              "      <td>NaN</td>\n",
              "      <td>NaN</td>\n",
              "      <td>NaN</td>\n",
              "    </tr>\n",
              "    <tr>\n",
              "      <th>BOM500247</th>\n",
              "      <td>NaN</td>\n",
              "      <td>NaN</td>\n",
              "      <td>NaN</td>\n",
              "      <td>NaN</td>\n",
              "      <td>NaN</td>\n",
              "      <td>NaN</td>\n",
              "      <td>NaN</td>\n",
              "      <td>NaN</td>\n",
              "      <td>NaN</td>\n",
              "    </tr>\n",
              "    <tr>\n",
              "      <th>BOM500470</th>\n",
              "      <td>NaN</td>\n",
              "      <td>NaN</td>\n",
              "      <td>NaN</td>\n",
              "      <td>NaN</td>\n",
              "      <td>NaN</td>\n",
              "      <td>NaN</td>\n",
              "      <td>NaN</td>\n",
              "      <td>NaN</td>\n",
              "      <td>NaN</td>\n",
              "    </tr>\n",
              "    <tr>\n",
              "      <th>BOM500228</th>\n",
              "      <td>NaN</td>\n",
              "      <td>NaN</td>\n",
              "      <td>NaN</td>\n",
              "      <td>NaN</td>\n",
              "      <td>NaN</td>\n",
              "      <td>NaN</td>\n",
              "      <td>NaN</td>\n",
              "      <td>NaN</td>\n",
              "      <td>NaN</td>\n",
              "    </tr>\n",
              "    <tr>\n",
              "      <th>BOM500440</th>\n",
              "      <td>NaN</td>\n",
              "      <td>NaN</td>\n",
              "      <td>NaN</td>\n",
              "      <td>NaN</td>\n",
              "      <td>NaN</td>\n",
              "      <td>NaN</td>\n",
              "      <td>NaN</td>\n",
              "      <td>NaN</td>\n",
              "      <td>NaN</td>\n",
              "    </tr>\n",
              "    <tr>\n",
              "      <th>BOM532977</th>\n",
              "      <td>NaN</td>\n",
              "      <td>NaN</td>\n",
              "      <td>NaN</td>\n",
              "      <td>NaN</td>\n",
              "      <td>NaN</td>\n",
              "      <td>NaN</td>\n",
              "      <td>NaN</td>\n",
              "      <td>NaN</td>\n",
              "      <td>NaN</td>\n",
              "    </tr>\n",
              "    <tr>\n",
              "      <th>BOM500570</th>\n",
              "      <td>NaN</td>\n",
              "      <td>NaN</td>\n",
              "      <td>NaN</td>\n",
              "      <td>NaN</td>\n",
              "      <td>NaN</td>\n",
              "      <td>NaN</td>\n",
              "      <td>NaN</td>\n",
              "      <td>NaN</td>\n",
              "      <td>NaN</td>\n",
              "    </tr>\n",
              "    <tr>\n",
              "      <th>BOM532500</th>\n",
              "      <td>NaN</td>\n",
              "      <td>NaN</td>\n",
              "      <td>NaN</td>\n",
              "      <td>NaN</td>\n",
              "      <td>NaN</td>\n",
              "      <td>NaN</td>\n",
              "      <td>NaN</td>\n",
              "      <td>NaN</td>\n",
              "      <td>NaN</td>\n",
              "    </tr>\n",
              "    <tr>\n",
              "      <th>BOM500209</th>\n",
              "      <td>NaN</td>\n",
              "      <td>NaN</td>\n",
              "      <td>NaN</td>\n",
              "      <td>NaN</td>\n",
              "      <td>NaN</td>\n",
              "      <td>NaN</td>\n",
              "      <td>NaN</td>\n",
              "      <td>NaN</td>\n",
              "      <td>NaN</td>\n",
              "    </tr>\n",
              "    <tr>\n",
              "      <th>BOM532540</th>\n",
              "      <td>NaN</td>\n",
              "      <td>NaN</td>\n",
              "      <td>NaN</td>\n",
              "      <td>NaN</td>\n",
              "      <td>NaN</td>\n",
              "      <td>NaN</td>\n",
              "      <td>NaN</td>\n",
              "      <td>NaN</td>\n",
              "      <td>NaN</td>\n",
              "    </tr>\n",
              "    <tr>\n",
              "      <th>BOM507685</th>\n",
              "      <td>NaN</td>\n",
              "      <td>NaN</td>\n",
              "      <td>NaN</td>\n",
              "      <td>NaN</td>\n",
              "      <td>NaN</td>\n",
              "      <td>NaN</td>\n",
              "      <td>NaN</td>\n",
              "      <td>NaN</td>\n",
              "      <td>NaN</td>\n",
              "    </tr>\n",
              "  </tbody>\n",
              "</table>\n",
              "</div>"
            ],
            "text/plain": [
              "          p Closing Values d Closing Values q Closing Values  \\\n",
              "BOM524715              NaN              NaN              NaN   \n",
              "BOM532488              NaN              NaN              NaN   \n",
              "BOM500124              NaN              NaN              NaN   \n",
              "BOM500180              NaN              NaN              NaN   \n",
              "BOM532174              NaN              NaN              NaN   \n",
              "BOM500247              NaN              NaN              NaN   \n",
              "BOM500470              NaN              NaN              NaN   \n",
              "BOM500228              NaN              NaN              NaN   \n",
              "BOM500440              NaN              NaN              NaN   \n",
              "BOM532977              NaN              NaN              NaN   \n",
              "BOM500570              NaN              NaN              NaN   \n",
              "BOM532500              NaN              NaN              NaN   \n",
              "BOM500209              NaN              NaN              NaN   \n",
              "BOM532540              NaN              NaN              NaN   \n",
              "BOM507685              NaN              NaN              NaN   \n",
              "\n",
              "          p N Closing Values d N Closing Values q N Closing Values  \\\n",
              "BOM524715                NaN                NaN                NaN   \n",
              "BOM532488                NaN                NaN                NaN   \n",
              "BOM500124                NaN                NaN                NaN   \n",
              "BOM500180                NaN                NaN                NaN   \n",
              "BOM532174                NaN                NaN                NaN   \n",
              "BOM500247                NaN                NaN                NaN   \n",
              "BOM500470                NaN                NaN                NaN   \n",
              "BOM500228                NaN                NaN                NaN   \n",
              "BOM500440                NaN                NaN                NaN   \n",
              "BOM532977                NaN                NaN                NaN   \n",
              "BOM500570                NaN                NaN                NaN   \n",
              "BOM532500                NaN                NaN                NaN   \n",
              "BOM500209                NaN                NaN                NaN   \n",
              "BOM532540                NaN                NaN                NaN   \n",
              "BOM507685                NaN                NaN                NaN   \n",
              "\n",
              "          p Closing Percentage d Closing Percentage q Closing Percentage  \n",
              "BOM524715                  NaN                  NaN                  NaN  \n",
              "BOM532488                  NaN                  NaN                  NaN  \n",
              "BOM500124                  NaN                  NaN                  NaN  \n",
              "BOM500180                  NaN                  NaN                  NaN  \n",
              "BOM532174                  NaN                  NaN                  NaN  \n",
              "BOM500247                  NaN                  NaN                  NaN  \n",
              "BOM500470                  NaN                  NaN                  NaN  \n",
              "BOM500228                  NaN                  NaN                  NaN  \n",
              "BOM500440                  NaN                  NaN                  NaN  \n",
              "BOM532977                  NaN                  NaN                  NaN  \n",
              "BOM500570                  NaN                  NaN                  NaN  \n",
              "BOM532500                  NaN                  NaN                  NaN  \n",
              "BOM500209                  NaN                  NaN                  NaN  \n",
              "BOM532540                  NaN                  NaN                  NaN  \n",
              "BOM507685                  NaN                  NaN                  NaN  "
            ]
          },
          "metadata": {
            "tags": []
          },
          "execution_count": 67
        }
      ]
    },
    {
      "cell_type": "code",
      "metadata": {
        "id": "p3PP86kG1N-O"
      },
      "source": [
        "def CalculateAutoArimaForArimax(stockcode, data, parameter ,p ,d,q):\n",
        "    if(AutoArimaResultsForArimax.loc[:, [p, d, q]].isnull().sum(axis=1)[stockcode] > 0):\n",
        "        params = auto_arima(data[parameter], exog = data[TechnicalIndicators], maxiter = 1000)\n",
        "        AutoArimaResultsForArimax.loc[stockcode, [p,d,q]] = params.order\n",
        "        return params.order\n",
        "    else:\n",
        "        return tuple(AutoArimaResultsForArimax.loc[stockcode, [p, d, q]])"
      ],
      "execution_count": null,
      "outputs": []
    },
    {
      "cell_type": "markdown",
      "metadata": {
        "id": "vKv2_Fh6bpRl"
      },
      "source": [
        "##Generic Function for ARIMAX"
      ]
    },
    {
      "cell_type": "code",
      "metadata": {
        "id": "CmyPVaT8kBA8"
      },
      "source": [
        "def ARIMAX_Model_Generic(StockCode, data, feature, Results, Order, train_data, test_data, extra_indicators):\n",
        "    print(\"Modeling for the Stock: {}\".format(StockCode))\n",
        "\n",
        "    start = len(train_data)\n",
        "    end = len(train_data) + len(test_data) - 1\n",
        "\n",
        "    print(\"ADF Test for the given series.\")\n",
        "    adf, Stationarity = adf_test(train_data[feature], title=StockCode)\n",
        "    print(adf)\n",
        "    print('----------------------------------------------------------------------------')\n",
        "    Results.loc[StockCode,'Stationarity'] = Stationarity\n",
        "\n",
        "    exog_train = train_data[extra_indicators]\n",
        "    model = ARIMA(endog = train_data[feature], exog = exog_train , order = Order)\n",
        "    results = model.fit()\n",
        "    print(results.params)\n",
        "    print(\"Order: \" + str(Order) )\n",
        "    print('---------------------------------------------------------------------------')\n",
        "    Results.loc[StockCode, 'Order'] = str(Order)\n",
        "\n",
        "    exog_test = test_data[extra_indicators]\n",
        "    predictions = results.predict(start = start, end = end, typ ='levels', exog=exog_test)\n",
        "    predictions = modified_prediction_frame(predictions, test_data[feature].index)\n",
        "\n",
        "    predictions.plot(figsize=(12,8), legend=True)\n",
        "    test_data[feature].plot(figsize = (12,8), legend=True)\n",
        "\n",
        "    errorEval = errorEvaluation(test_data[feature], predictions)\n",
        "    RMSE, MAPE, R2, Noise = errorEval\n",
        "    Results.loc[StockCode, ['RMSE', 'MAPE', 'R2', 'Noise']] = errorEval\n",
        "\n",
        "    print(\"RMSE: {0} \\nMape: {1} \\nR2: {2} \\nNoise: {3}\".format(RMSE, MAPE, R2, Noise))\n",
        "    print('---------------------------------------------------------------------------')\n",
        "\n",
        "    print('Description of the Predicted Data')\n",
        "    print(predictions.describe())\n",
        "    pred_mean = predictions.mean(numeric_only=True)\n",
        "    Results.loc[StockCode, 'Predictions Mean'] = str(float(pred_mean))\n",
        "    print('---------------------------------------------------------------------------')\n",
        "\n",
        "    print('Description of the Actual Data')\n",
        "    print(test_data[feature].describe())\n",
        "    Results.loc[StockCode, 'Actual Mean'] = str(test_data[feature].mean())\n",
        "    return predictions"
      ],
      "execution_count": null,
      "outputs": []
    },
    {
      "cell_type": "markdown",
      "metadata": {
        "id": "ybfb39Iqbtas"
      },
      "source": [
        "## ARIMAX for Closing Prices"
      ]
    },
    {
      "cell_type": "code",
      "metadata": {
        "id": "D-JhsYLWnL0a"
      },
      "source": [
        "try:\n",
        "    ArimaxModelPricesResults = pd.read_csv('./Outputs/ArimaxModelPricesResults.csv')\n",
        "except FileNotFoundError:\n",
        "    ArimaxModelPricesResults = pd.DataFrame(columns=['Stationarity', 'Order', 'RMSE', 'MAPE', 'R2', 'Noise', 'Predictions Mean', 'Actual Mean'], index = stocks)"
      ],
      "execution_count": null,
      "outputs": []
    },
    {
      "cell_type": "code",
      "metadata": {
        "id": "oAl_p1ClnL0c"
      },
      "source": [
        "for stock in stocks:\n",
        "    print(\"Working for Stock {}\".format(stock))\n",
        "    train_data, test_data = TrainTestSplitByDateRange(ScriptWiseData[stock])\n",
        "    feature = 'Close'\n",
        "    Order = CalculateAutoArimaForArimax(stock, train_data, feature,  p= 'p Closing Values',d = 'd Closing Values', q = 'q Closing Values')\n",
        "    ARIMAX_Model_Generic(StockCode = stock, data = ScriptWiseData, feature = feature, Results=ArimaxModelPricesResults, Order=Order, train_data=train_data, test_data=test_data,extra_indicators = TechnicalIndicators )"
      ],
      "execution_count": null,
      "outputs": []
    },
    {
      "cell_type": "markdown",
      "metadata": {
        "id": "6A-z01hQCxv3"
      },
      "source": [
        "### Please check this"
      ]
    },
    {
      "cell_type": "code",
      "metadata": {
        "id": "wmykvhwKnL0c"
      },
      "source": [
        "ArimaxModelPricesResults.to_csv('./Outputs/ArimaxModelPricesResults.csv')"
      ],
      "execution_count": null,
      "outputs": []
    },
    {
      "cell_type": "code",
      "metadata": {
        "id": "oDWW3QrLCxv4",
        "outputId": "7ba7e329-d1a2-4d5d-d75f-a4d048730f93"
      },
      "source": [
        "ArimaxModelPricesResults"
      ],
      "execution_count": null,
      "outputs": [
        {
          "output_type": "execute_result",
          "data": {
            "text/html": [
              "<div>\n",
              "<style scoped>\n",
              "    .dataframe tbody tr th:only-of-type {\n",
              "        vertical-align: middle;\n",
              "    }\n",
              "\n",
              "    .dataframe tbody tr th {\n",
              "        vertical-align: top;\n",
              "    }\n",
              "\n",
              "    .dataframe thead th {\n",
              "        text-align: right;\n",
              "    }\n",
              "</style>\n",
              "<table border=\"1\" class=\"dataframe\">\n",
              "  <thead>\n",
              "    <tr style=\"text-align: right;\">\n",
              "      <th></th>\n",
              "      <th>Stationarity</th>\n",
              "      <th>Order</th>\n",
              "      <th>RMSE</th>\n",
              "      <th>MAPE</th>\n",
              "      <th>R2</th>\n",
              "      <th>Noise</th>\n",
              "      <th>Predictions Mean</th>\n",
              "      <th>Actual Mean</th>\n",
              "    </tr>\n",
              "  </thead>\n",
              "  <tbody>\n",
              "    <tr>\n",
              "      <th>BOM524715</th>\n",
              "      <td>Stationary</td>\n",
              "      <td>(0, 1, 1)</td>\n",
              "      <td>212.880495</td>\n",
              "      <td>0.358272</td>\n",
              "      <td>-8.616155</td>\n",
              "      <td>0.3566</td>\n",
              "      <td>321.4550604512494</td>\n",
              "      <td>512.6528409090912</td>\n",
              "    </tr>\n",
              "    <tr>\n",
              "      <th>BOM532488</th>\n",
              "      <td>NaN</td>\n",
              "      <td>NaN</td>\n",
              "      <td>NaN</td>\n",
              "      <td>NaN</td>\n",
              "      <td>NaN</td>\n",
              "      <td>NaN</td>\n",
              "      <td>NaN</td>\n",
              "      <td>NaN</td>\n",
              "    </tr>\n",
              "    <tr>\n",
              "      <th>BOM500124</th>\n",
              "      <td>NaN</td>\n",
              "      <td>NaN</td>\n",
              "      <td>NaN</td>\n",
              "      <td>NaN</td>\n",
              "      <td>NaN</td>\n",
              "      <td>NaN</td>\n",
              "      <td>NaN</td>\n",
              "      <td>NaN</td>\n",
              "    </tr>\n",
              "    <tr>\n",
              "      <th>BOM500180</th>\n",
              "      <td>NaN</td>\n",
              "      <td>NaN</td>\n",
              "      <td>NaN</td>\n",
              "      <td>NaN</td>\n",
              "      <td>NaN</td>\n",
              "      <td>NaN</td>\n",
              "      <td>NaN</td>\n",
              "      <td>NaN</td>\n",
              "    </tr>\n",
              "    <tr>\n",
              "      <th>BOM532174</th>\n",
              "      <td>NaN</td>\n",
              "      <td>NaN</td>\n",
              "      <td>NaN</td>\n",
              "      <td>NaN</td>\n",
              "      <td>NaN</td>\n",
              "      <td>NaN</td>\n",
              "      <td>NaN</td>\n",
              "      <td>NaN</td>\n",
              "    </tr>\n",
              "    <tr>\n",
              "      <th>BOM500247</th>\n",
              "      <td>NaN</td>\n",
              "      <td>NaN</td>\n",
              "      <td>NaN</td>\n",
              "      <td>NaN</td>\n",
              "      <td>NaN</td>\n",
              "      <td>NaN</td>\n",
              "      <td>NaN</td>\n",
              "      <td>NaN</td>\n",
              "    </tr>\n",
              "    <tr>\n",
              "      <th>BOM500470</th>\n",
              "      <td>NaN</td>\n",
              "      <td>NaN</td>\n",
              "      <td>NaN</td>\n",
              "      <td>NaN</td>\n",
              "      <td>NaN</td>\n",
              "      <td>NaN</td>\n",
              "      <td>NaN</td>\n",
              "      <td>NaN</td>\n",
              "    </tr>\n",
              "    <tr>\n",
              "      <th>BOM500228</th>\n",
              "      <td>NaN</td>\n",
              "      <td>NaN</td>\n",
              "      <td>NaN</td>\n",
              "      <td>NaN</td>\n",
              "      <td>NaN</td>\n",
              "      <td>NaN</td>\n",
              "      <td>NaN</td>\n",
              "      <td>NaN</td>\n",
              "    </tr>\n",
              "    <tr>\n",
              "      <th>BOM500440</th>\n",
              "      <td>NaN</td>\n",
              "      <td>NaN</td>\n",
              "      <td>NaN</td>\n",
              "      <td>NaN</td>\n",
              "      <td>NaN</td>\n",
              "      <td>NaN</td>\n",
              "      <td>NaN</td>\n",
              "      <td>NaN</td>\n",
              "    </tr>\n",
              "    <tr>\n",
              "      <th>BOM532977</th>\n",
              "      <td>NaN</td>\n",
              "      <td>NaN</td>\n",
              "      <td>NaN</td>\n",
              "      <td>NaN</td>\n",
              "      <td>NaN</td>\n",
              "      <td>NaN</td>\n",
              "      <td>NaN</td>\n",
              "      <td>NaN</td>\n",
              "    </tr>\n",
              "    <tr>\n",
              "      <th>BOM500570</th>\n",
              "      <td>NaN</td>\n",
              "      <td>NaN</td>\n",
              "      <td>NaN</td>\n",
              "      <td>NaN</td>\n",
              "      <td>NaN</td>\n",
              "      <td>NaN</td>\n",
              "      <td>NaN</td>\n",
              "      <td>NaN</td>\n",
              "    </tr>\n",
              "    <tr>\n",
              "      <th>BOM532500</th>\n",
              "      <td>NaN</td>\n",
              "      <td>NaN</td>\n",
              "      <td>NaN</td>\n",
              "      <td>NaN</td>\n",
              "      <td>NaN</td>\n",
              "      <td>NaN</td>\n",
              "      <td>NaN</td>\n",
              "      <td>NaN</td>\n",
              "    </tr>\n",
              "    <tr>\n",
              "      <th>BOM500209</th>\n",
              "      <td>NaN</td>\n",
              "      <td>NaN</td>\n",
              "      <td>NaN</td>\n",
              "      <td>NaN</td>\n",
              "      <td>NaN</td>\n",
              "      <td>NaN</td>\n",
              "      <td>NaN</td>\n",
              "      <td>NaN</td>\n",
              "    </tr>\n",
              "    <tr>\n",
              "      <th>BOM532540</th>\n",
              "      <td>NaN</td>\n",
              "      <td>NaN</td>\n",
              "      <td>NaN</td>\n",
              "      <td>NaN</td>\n",
              "      <td>NaN</td>\n",
              "      <td>NaN</td>\n",
              "      <td>NaN</td>\n",
              "      <td>NaN</td>\n",
              "    </tr>\n",
              "    <tr>\n",
              "      <th>BOM507685</th>\n",
              "      <td>NaN</td>\n",
              "      <td>NaN</td>\n",
              "      <td>NaN</td>\n",
              "      <td>NaN</td>\n",
              "      <td>NaN</td>\n",
              "      <td>NaN</td>\n",
              "      <td>NaN</td>\n",
              "      <td>NaN</td>\n",
              "    </tr>\n",
              "  </tbody>\n",
              "</table>\n",
              "</div>"
            ],
            "text/plain": [
              "          Stationarity      Order        RMSE      MAPE        R2   Noise  \\\n",
              "BOM524715   Stationary  (0, 1, 1)  212.880495  0.358272 -8.616155  0.3566   \n",
              "BOM532488          NaN        NaN         NaN       NaN       NaN     NaN   \n",
              "BOM500124          NaN        NaN         NaN       NaN       NaN     NaN   \n",
              "BOM500180          NaN        NaN         NaN       NaN       NaN     NaN   \n",
              "BOM532174          NaN        NaN         NaN       NaN       NaN     NaN   \n",
              "BOM500247          NaN        NaN         NaN       NaN       NaN     NaN   \n",
              "BOM500470          NaN        NaN         NaN       NaN       NaN     NaN   \n",
              "BOM500228          NaN        NaN         NaN       NaN       NaN     NaN   \n",
              "BOM500440          NaN        NaN         NaN       NaN       NaN     NaN   \n",
              "BOM532977          NaN        NaN         NaN       NaN       NaN     NaN   \n",
              "BOM500570          NaN        NaN         NaN       NaN       NaN     NaN   \n",
              "BOM532500          NaN        NaN         NaN       NaN       NaN     NaN   \n",
              "BOM500209          NaN        NaN         NaN       NaN       NaN     NaN   \n",
              "BOM532540          NaN        NaN         NaN       NaN       NaN     NaN   \n",
              "BOM507685          NaN        NaN         NaN       NaN       NaN     NaN   \n",
              "\n",
              "            Predictions Mean        Actual Mean  \n",
              "BOM524715  321.4550604512494  512.6528409090912  \n",
              "BOM532488                NaN                NaN  \n",
              "BOM500124                NaN                NaN  \n",
              "BOM500180                NaN                NaN  \n",
              "BOM532174                NaN                NaN  \n",
              "BOM500247                NaN                NaN  \n",
              "BOM500470                NaN                NaN  \n",
              "BOM500228                NaN                NaN  \n",
              "BOM500440                NaN                NaN  \n",
              "BOM532977                NaN                NaN  \n",
              "BOM500570                NaN                NaN  \n",
              "BOM532500                NaN                NaN  \n",
              "BOM500209                NaN                NaN  \n",
              "BOM532540                NaN                NaN  \n",
              "BOM507685                NaN                NaN  "
            ]
          },
          "metadata": {
            "tags": []
          },
          "execution_count": 75
        }
      ]
    },
    {
      "cell_type": "markdown",
      "metadata": {
        "id": "nTOtUdwVZ3OR"
      },
      "source": [
        "## ARIMAX Normalized Closing Prices"
      ]
    },
    {
      "cell_type": "code",
      "metadata": {
        "id": "Sz4eXrsbZ3OS"
      },
      "source": [
        "try:\n",
        "    ArimaxModelPricesResults_Norm = pd.read_csv('./Outputs/ArimaxModelPricesResults_Norm.csv')\n",
        "except FileNotFoundError:\n",
        "    ArimaxModelPricesResults_Norm = pd.DataFrame(columns=['Stationarity', 'Order', 'RMSE', 'MAPE', 'R2','Noise', 'Predictions Mean', 'Actual Mean'], index = stocks)"
      ],
      "execution_count": null,
      "outputs": []
    },
    {
      "cell_type": "code",
      "metadata": {
        "id": "McxcNYPYZ3OS"
      },
      "source": [
        "for stock in stocks:\n",
        "    print(\"Working for Stock {}\".format(stock))\n",
        "    train_data, test_data = TrainTestSplitByDateRange(ScriptWiseData[stock])\n",
        "    feature = 'Normalized Closing'\n",
        "    Order = CalculateAutoArimaForArimax(stock, train_data, feature,'p N Closing Values', 'd N Closing Values', 'q N Closing Values')\n",
        "    ARIMAX_Model_Generic(StockCode= stock, data = ScriptWiseData, feature = feature, Results=ArimaxModelPricesResults_Norm, Order=Order, train_data=train_data, test_data=test_data,extra_indicators = normalized_TechnicalIndicators)"
      ],
      "execution_count": null,
      "outputs": []
    },
    {
      "cell_type": "code",
      "metadata": {
        "id": "ZOB9TO1fZ3OS"
      },
      "source": [
        "ArimaxModelPricesResults_Norm.to_csv('./Outputs/ArimaxModelPricesResults_Norm.csv')"
      ],
      "execution_count": null,
      "outputs": []
    },
    {
      "cell_type": "code",
      "metadata": {
        "id": "RSIJqMclCxv9"
      },
      "source": [
        "ArimaxModelPricesResults_Norm"
      ],
      "execution_count": null,
      "outputs": []
    },
    {
      "cell_type": "markdown",
      "metadata": {
        "id": "IxeY6KUtZ3OT"
      },
      "source": [
        "## ARIMAX Returns"
      ]
    },
    {
      "cell_type": "code",
      "metadata": {
        "id": "w6S6RNGKZ3OT"
      },
      "source": [
        "try:\n",
        "    ArimaxModelPricesResults_Returns = pd.read_csv('./Outputs/ArimaxModelPricesResults_Returns.csv')\n",
        "except FileNotFoundError:\n",
        "    ArimaxModelPricesResults_Returns = pd.DataFrame(columns=['Stationarity', 'Order', 'RMSE', 'MAPE', 'R2', 'Noise', 'Predictions Mean', 'Actual Mean'], index = stocks)\n",
        "    \n"
      ],
      "execution_count": null,
      "outputs": []
    },
    {
      "cell_type": "code",
      "metadata": {
        "id": "essI3iLxZ3OT"
      },
      "source": [
        "for stock in stocks:\n",
        "    try:\n",
        "        print(\"Working for Stock {}\".format(stock))\n",
        "        train_data, test_data = TrainTestSplitByDateRange(ScriptWiseData[stock])\n",
        "        feature = 'Stock_Returns'\n",
        "        Order = CalculateAutoArimaForArimax(stock, train_data, feature, p = 'p Closing Percentage', d = 'd Closing Percentage', q = 'q Closing Percentage')\n",
        "        ARIMAX_Model_Generic(StockCode= stock, data = ScriptWiseData, feature = feature, Results=ArimaxModelPricesResults_Returns, Order=Order, train_data=train_data, test_data=test_data, extra_indicators = TechnicalIndicators)\n",
        "    except Exception as e:\n",
        "        print(e)  "
      ],
      "execution_count": null,
      "outputs": []
    },
    {
      "cell_type": "code",
      "metadata": {
        "id": "Jk_7UD-yZ3OT"
      },
      "source": [
        "ArimaxModelPricesResults_Returns.to_csv('./Outputs/ArimaxModelPricesResults_Returns.csv')"
      ],
      "execution_count": null,
      "outputs": []
    },
    {
      "cell_type": "code",
      "metadata": {
        "id": "OAQ5DDOG1N-O"
      },
      "source": [
        "AutoArimaResultsForArimax.to_csv('./Outputs/AutoArimaResultsForArimax.csv')"
      ],
      "execution_count": null,
      "outputs": []
    },
    {
      "cell_type": "markdown",
      "metadata": {
        "id": "pizKyOeWsQEM"
      },
      "source": [
        "# SARIMAX MODEL"
      ]
    },
    {
      "cell_type": "code",
      "metadata": {
        "id": "nxyBhFx4sQEN"
      },
      "source": [
        "def SARIMAXProcedure(stockCode):\n",
        "    # decompose\n",
        "    data = ScriptWiseData  [stockCode]\n",
        "    data.index = pd.to_datetime(data.index)\n",
        "    data=data.asfreq('b')\n",
        "    data = data.fillna(method='ffill')\n",
        "    decompose_result = seasonal_decompose(data['Close'], model='add')\n",
        "    \n",
        "    r = auto_arima(data['Close'], exogenous=data[TechnicalIndicators], maxiter=1000) #seasonality, m parameters pending\n",
        "    p, d, q = r.order # define for P, D, Q, S\n",
        "        \n",
        "    train, test = TrainTestSplitByDateRange(data)\n",
        "    \n",
        "    model = SARIMAX(train['Close'], exog = train[TechnicalIndicators] ,order = (p, d, q), seasonal_order = (1,1,1,2), enforce_invertibility = False)\n",
        "    results = model.fit()\n",
        "    predictions = results.predict(start_date, end_date, exog=test[TechnicalIndicators]).rename('SARIMA')\n",
        "    \n",
        "    return decompose_result, results, predictions"
      ],
      "execution_count": null,
      "outputs": []
    },
    {
      "cell_type": "code",
      "metadata": {
        "id": "2TguUxOKsQEO"
      },
      "source": [
        "decompose_result, model, predictions = SARIMAXProcedure(stocks[2])"
      ],
      "execution_count": null,
      "outputs": []
    },
    {
      "cell_type": "markdown",
      "metadata": {
        "id": "ZXAkQSfXsQEQ"
      },
      "source": [
        "### VARMAX MODEL"
      ]
    },
    {
      "cell_type": "code",
      "metadata": {
        "id": "YkcEicyncV81"
      },
      "source": [
        "ScriptWiseData[stocks[0]]"
      ],
      "execution_count": null,
      "outputs": []
    },
    {
      "cell_type": "code",
      "metadata": {
        "id": "QbgXCdXYsQES"
      },
      "source": [
        "# Train and fit varmax model\n",
        "def VARMAXProcedure(stockSymbol):\n",
        "    data = ScriptWiseData[stockSymbol]\n",
        "    data.index = pd.to_datetime(data.index)\n",
        "    data=data.asfreq('D')\n",
        "    data = data.fillna(method='ffill')\n",
        "    data = data[['Close']+TechnicalIndicators]\n",
        "    r = auto_arima(data['Close'], exogenous=data[TechnicalIndicators], maxiter=1000) #seasonality, m parameters pending\n",
        "    p, d, q = r.order\n",
        "    if(p==0 and d==0):\n",
        "      p = 1\n",
        "    # make data stationary based on auto arima output\n",
        "    # data_transformed = DifferenceToMakeStationary(data, d)\n",
        "    \n",
        "    # train test split  \n",
        "    train, test = TrainTestSplitByDateRange(data)\n",
        "    \n",
        "    # fit the model based on above parameters\n",
        "    model = VARMAX(train, order=(p,q))\n",
        "    results = model.fit(maxiter=1000, disp=False)\n",
        "    forecasts = results.forecast(len(test))\n",
        "    \n",
        "    #     forecasts = InvertDifferencingForActualResults()\n",
        "    return results, forecasts, test"
      ],
      "execution_count": null,
      "outputs": []
    },
    {
      "cell_type": "code",
      "metadata": {
        "id": "VUHzF1DPsQEU"
      },
      "source": [
        "import datetime\n",
        "try:\n",
        "    VarmaxResults = pd.read_csv('./Outputs/VarmaxResults.csv')\n",
        "except FileNotFoundError:\n",
        "    VarmaxResults = pd.DataFrame(columns = ['StockName','MAE','MAPE', 'RMSE', 'AdjustedR2', 'Noise', 'Model'], index = stocks)\n",
        "    \n",
        "for s in stocks:\n",
        "    print(getStockNameFromStockCode(s))\n",
        "    try:\n",
        "        print(datetime.datetime.now())\n",
        "        if(np.isnan(VarmaxResults.loc[s, 'MAE'])):\n",
        "            model, forecasts, test = VARMAXProcedure(s)\n",
        "            print(f'Model Complete for {getStockNameFromStockCode(s)}')\n",
        "            VarmaxResults.loc[s, ['Model']] =  model\n",
        "            VarmaxResults.loc[s, ['StockName']] =  getStockNameFromStockCode(s)\n",
        "            VarmaxResults.loc[s, ['MAE']] =  mean_absolute_error(forecasts.Close, test.Close)\n",
        "            VarmaxResults.loc[s, ['RMSE']] = mean_squared_error(forecasts.Close, test.Close, squared=False)\n",
        "            VarmaxResults.loc[s, ['MAPE']] = mean_absolute_percentage_error(forecasts.Close, test.Close)\n",
        "            VarmaxResults.loc[s, ['AdjustedR2']] = r2_score(forecasts.Close, test.Close)\n",
        "            VarmaxResults.loc[s, ['Noise']] = forecasts.Close.diff().abs().mean()\n",
        "            VarmaxResults.to_csv('./Outputs/VarmaxResults.csv')\n",
        "            print('Success')\n",
        "        else:\n",
        "            print('Already exists')\n",
        "        print(datetime.datetime.now())\n",
        "    except:\n",
        "        print(f\"Error Occured {getStockNameFromStockCode(s)}\", sys.exc_info())"
      ],
      "execution_count": null,
      "outputs": []
    },
    {
      "cell_type": "markdown",
      "metadata": {
        "id": "1UaFn7irsQEU"
      },
      "source": [
        "## Prophet models"
      ]
    },
    {
      "cell_type": "code",
      "metadata": {
        "id": "g_H7mhX2sQEV"
      },
      "source": [
        "from fbprophet.diagnostics import cross_validation, performance_metrics\n",
        "from fbprophet.plot import plot_cross_validation_metric\n",
        "\n",
        "df_start_date = pd.to_datetime(start_date)\n",
        "df_end_date = pd.to_datetime(end_date)"
      ],
      "execution_count": null,
      "outputs": []
    },
    {
      "cell_type": "code",
      "metadata": {
        "id": "4C7KesBmySj2"
      },
      "source": [
        "def ProphetProcedure(stockCode, start_date = start_date, end_date = end_date):\n",
        "    df = ScriptWiseData[stockCode][['Close']]\n",
        "    df.index = pd.to_datetime(df.index)\n",
        "    df = df.reset_index()\n",
        "    \n",
        "    df.columns = ['ds', 'y']\n",
        "    \n",
        "    test_start_date = pd.to_datetime(start_date)\n",
        "    test_end_date = pd.to_datetime(end_date)\n",
        "    \n",
        "    train = df.loc[df.ds<df_start_date]\n",
        "    test = df.loc[df.ds>=df_start_date]\n",
        "    m = Prophet()\n",
        "\n",
        "    m.fit(train)\n",
        "    future = m.make_future_dataframe(periods = len(test)-1, freq = \"B\")\n",
        "#     test_t = test.set_index('ds')\n",
        "#     future = future.set_index('ds')\n",
        "#     future = test_t[].join(future).reset_index()\n",
        "    forecast = m.predict(future)\n",
        "    \n",
        "        # initial\n",
        "    initial = str(5*365)+' days'\n",
        "\n",
        "    #period\n",
        "    period = str(365)+' days'\n",
        "\n",
        "    #horizon\n",
        "    horizon = str(365) + ' days'\n",
        "    df_cv = cross_validation(m, initial = initial, period = period, horizon = horizon)\n",
        "    \n",
        "    return m, forecast, df_cv"
      ],
      "execution_count": null,
      "outputs": []
    },
    {
      "cell_type": "code",
      "metadata": {
        "id": "BF9hJKuPsQEW"
      },
      "source": [
        "def ProphetProcedureWithExogenousVariables(stockCode, start_date = start_date, end_date = end_date):\n",
        "    df = ScriptWiseData[stockCode][['Close']+TechnicalIndicators]\n",
        "    df.index = pd.to_datetime(df.index)\n",
        "    df = df.reset_index()\n",
        "    \n",
        "    df.columns = ['ds', 'y'] + TechnicalIndicators\n",
        "    \n",
        "    test_start_date = pd.to_datetime(start_date)\n",
        "    test_end_date = pd.to_datetime(end_date)\n",
        "    \n",
        "    train = df.loc[df.ds<df_start_date]\n",
        "    test = df.loc[df.ds>=df_start_date]\n",
        "#     return df, 1\n",
        "    m = Prophet()\n",
        "    for t in TechnicalIndicators:\n",
        "        m.add_regressor(t)\n",
        "    m.fit(train)\n",
        "    future = m.make_future_dataframe(periods = len(test)-1, freq = \"B\")\n",
        "    test_t = test.set_index('ds')\n",
        "    future = future.set_index('ds')\n",
        "    future = test_t[TechnicalIndicators].join(future).reset_index()\n",
        "    forecast = m.predict(future)\n",
        "    \n",
        "        # initial\n",
        "    initial = str(5*365)+' days'\n",
        "\n",
        "    #period\n",
        "    period = str(365)+' days'\n",
        "\n",
        "    #horizon\n",
        "    horizon = str(365) + ' days'\n",
        "    df_cv = cross_validation(m, initial = initial, period = period, horizon = horizon)\n",
        "    \n",
        "    return m, forecast, df_cv"
      ],
      "execution_count": null,
      "outputs": []
    },
    {
      "cell_type": "code",
      "metadata": {
        "id": "abgGChmWySj3"
      },
      "source": [
        "# Hyper parameter tuning\n",
        "# param_grid = {  \n",
        "#     'changepoint_prior_scale': [0.001, 0.01, 0.1, 0.5],\n",
        "#     'seasonality_prior_scale': [0.01, 0.1, 1.0, 10.0],\n",
        "# }\n",
        "\n",
        "# # Generate all combinations of parameters\n",
        "# all_params = [dict(zip(param_grid.keys(), v)) for v in itertools.product(*param_grid.values())]\n",
        "# rmses = []  # Store the RMSEs for each params here\n",
        "\n",
        "# # Use cross validation to evaluate all parameters\n",
        "# for params in all_params:\n",
        "#     m = Prophet(**params).fit(df)  # Fit model with given params\n",
        "#     df_cv = cross_validation(m, cutoffs=cutoffs, horizon='30 days', parallel=\"processes\")\n",
        "#     df_p = performance_metrics(df_cv, rolling_window=1)\n",
        "#     rmses.append(df_p['rmse'].values[0])\n",
        "\n",
        "# # Find the best parameters\n",
        "# tuning_results = pd.DataFrame(all_params)\n",
        "# tuning_results['rmse'] = rmses\n",
        "# print(tuning_results)"
      ],
      "execution_count": null,
      "outputs": []
    },
    {
      "cell_type": "code",
      "metadata": {
        "id": "iZQ7DRbWCxwK"
      },
      "source": [
        "try:\n",
        "    ProphetSingleRegressionResults = pd.read_csv('./Outputs/ProphetSingleRegressionResults.csv')\n",
        "except FileNotFoundError:\n",
        "    ProphetSingleRegressionResults = pd.DataFrame(columns = ['StockName','MAE','MAPE', 'RMSE', 'AdjustedR2', 'Noise'], index = stocks)\n",
        "    "
      ],
      "execution_count": null,
      "outputs": []
    },
    {
      "cell_type": "code",
      "metadata": {
        "id": "zK5q6e0vySj3"
      },
      "source": [
        "# initalize result variable\n",
        "for s in stocks:\n",
        "    print(s)\n",
        "    try:\n",
        "        m, forecast, df_cv = ProphetProcedure(s)\n",
        "        val_metrics = performance_metrics(df_cv)\n",
        "        ProphetSingleRegressionResults.loc[s, ['StockName']] =  getStockNameFromStockCode(s)\n",
        "        ProphetSingleRegressionResults.loc[s, ['MAE']] =  val_metrics['mae'][0]\n",
        "        ProphetSingleRegressionResults.loc[s, ['RMSE']] = np.sqrt(val_metrics['mse'][0])\n",
        "        t = df_cv.dropna()\n",
        "        ProphetSingleRegressionResults.loc[s, ['MAPE']] = mean_absolute_percentage_error(t.y, t.yhat)\n",
        "        ProphetSingleRegressionResults.loc[s, ['AdjustedR2']] = r2_score(t.y, t.yhat)\n",
        "        ProphetSingleRegressionResults.loc[s, ['Noise']] = t.yhat.diff().abs().mean()\n",
        "        print('Success')\n",
        "    except:\n",
        "        print(\"Error Occured\", sys.exc_info())\n",
        "        \n",
        "ProphetSingleRegressionResults.to_csv('./Outputs/ProphetSingleRegressionResults.csv')"
      ],
      "execution_count": null,
      "outputs": []
    },
    {
      "cell_type": "code",
      "metadata": {
        "id": "DmZ1UfXQCxwL"
      },
      "source": [
        "try:\n",
        "    ProphetMultipleRegressionResults = pd.read_csv('./Outputs/ProphetMultipleRegressionResults.csv')\n",
        "except FileNotFoundError:\n",
        "    ProphetMultipleRegressionResults = pd.DataFrame(columns = ['StockName','MAE','MAPE', 'RMSE', 'AdjustedR2', 'Noise'], index = stocks)\n",
        "    "
      ],
      "execution_count": null,
      "outputs": []
    },
    {
      "cell_type": "code",
      "metadata": {
        "id": "03-gyoVE4U3b"
      },
      "source": [
        "# initalize result variable\n",
        "\n",
        "for s in stocks:\n",
        "    print(s)\n",
        "    # try:\n",
        "    m, forecast, df_cv = ProphetProcedureWithExogenousVariables(s)\n",
        "    val_metrics = performance_metrics(df_cv)\n",
        "    ProphetMultipleRegressionResults.loc[s, ['StockName']] =  getStockNameFromStockCode(s)\n",
        "    ProphetMultipleRegressionResults.loc[s, ['MAE']] =  val_metrics['mae'][0]\n",
        "    ProphetMultipleRegressionResults.loc[s, ['RMSE']] = np.sqrt(val_metrics['mse'][0])\n",
        "    t = df_cv.dropna()\n",
        "    ProphetMultipleRegressionResults.loc[s, ['MAPE']] = mean_absolute_percentage_error(t.y, t.yhat)\n",
        "    ProphetMultipleRegressionResults.loc[s, ['AdjustedR2']] = r2_score(t.y, t.yhat)\n",
        "    ProphetMultipleRegressionResults.loc[s, ['Noise']] = t.yhat.diff().abs().mean()\n",
        "    print('Success')\n",
        "    # except:\n",
        "    #     print(\"Error Occured\", sys.exc_info())\n",
        "        \n",
        "ProphetMultipleRegressionResults.to_csv('./Outputs/ProphetMultipleRegressionResults.csv')"
      ],
      "execution_count": null,
      "outputs": []
    },
    {
      "cell_type": "code",
      "metadata": {
        "id": "K9_j1T4gsQEX"
      },
      "source": [
        "# for plotting\n",
        "df = ScriptWiseData[stocks[1]]\n",
        "df.index = pd.to_datetime(df.index)\n",
        "df = df.reset_index()\n",
        "df.columns = ['ds', 'y'] + TechnicalIndicators"
      ],
      "execution_count": null,
      "outputs": []
    },
    {
      "cell_type": "code",
      "metadata": {
        "id": "IANNH2vFySj4"
      },
      "source": [
        "results = performance_metrics(df_cv)\n",
        "results.head(2)"
      ],
      "execution_count": null,
      "outputs": []
    },
    {
      "cell_type": "code",
      "metadata": {
        "id": "EPn7yuFdsQEY"
      },
      "source": [
        "m.plot_components(forecast);"
      ],
      "execution_count": null,
      "outputs": []
    },
    {
      "cell_type": "code",
      "metadata": {
        "id": "Gox2oG3esQEa"
      },
      "source": [
        "ax = forecast.plot(x='ds',y='yhat',label='Predictions',legend=True,figsize=(12,8))\n",
        "\n",
        "df.plot(x='ds',y='y',label='Actual Price',legend=True,ax=ax) #,xlim=(df_start_date,df_end_date))"
      ],
      "execution_count": null,
      "outputs": []
    },
    {
      "cell_type": "code",
      "metadata": {
        "id": "mE7wTtvhsQEc"
      },
      "source": [
        ""
      ],
      "execution_count": null,
      "outputs": []
    },
    {
      "cell_type": "code",
      "metadata": {
        "id": "1f8LM00WsQEe"
      },
      "source": [
        "plot_cross_validation_metric(df_cv, metric='rmse');"
      ],
      "execution_count": null,
      "outputs": []
    },
    {
      "cell_type": "markdown",
      "metadata": {
        "id": "JR3DmOZ4sQEf"
      },
      "source": [
        "## Neural Prophet and AR-Net"
      ]
    },
    {
      "cell_type": "code",
      "metadata": {
        "id": "BVeij9D7sQEg"
      },
      "source": [
        "from neuralprophet import NeuralProphet, set_random_seed , set_log_level\n",
        "set_random_seed(0)\n",
        "set_log_level(\"ERROR\")"
      ],
      "execution_count": null,
      "outputs": []
    },
    {
      "cell_type": "code",
      "metadata": {
        "id": "unpLeFwSsQEg"
      },
      "source": [
        "df = ScriptWiseData['BOM500180'].reset_index()\n",
        "df = df[['Date', 'Close']]\n",
        "df.columns = ['ds', 'y']\n",
        "df.head()"
      ],
      "execution_count": null,
      "outputs": []
    },
    {
      "cell_type": "markdown",
      "metadata": {
        "id": "7crbHcAmsQEh"
      },
      "source": [
        "### Basic Model"
      ]
    },
    {
      "cell_type": "code",
      "metadata": {
        "id": "5UOQd_aAsQEi"
      },
      "source": [
        "def BuildNeuralProphetModels(dataset, start_date = start_date, end_date = end_date, n_forecasts = 1, n_lags = 5, columnName = 'Close'):\n",
        "    # prepare the dataset\n",
        "    df = dataset.reset_index()\n",
        "    df = df[['Date', columnName]]\n",
        "    df.columns = ['ds', 'y']\n",
        "    \n",
        "    # train test splilt\n",
        "    train = df.loc[(df['ds'] < start_date)]\n",
        "    df_test = df.loc[(df['ds'] >= start_date) & (df['ds'] <= end_date)]\n",
        "    \n",
        "    # initalize the model\n",
        "    m = NeuralProphet(n_forecasts=n_forecasts,n_lags=n_lags)\n",
        "    \n",
        "    # split the training set into train and validation set\n",
        "    df_train, df_val = m.split_df(train, valid_p=0.2, freq='D')\n",
        "\n",
        "    # fit and test the model\n",
        "    train_metrics = m.fit(df_train, freq='D', progress_bar = False)\n",
        "    val_metrics = m.test(df_val)\n",
        "    \n",
        "    # make forecasts\n",
        "    future = m.make_future_dataframe(df_test, periods=len(df_test), n_historic_predictions=len(df_test))\n",
        "#     future = m.make_future_dataframe(df_test, n_historic_predictions= True)\n",
        "    forecast = m.predict(future)\n",
        "    return (m, forecast,  train_metrics, val_metrics)"
      ],
      "execution_count": null,
      "outputs": []
    },
    {
      "cell_type": "code",
      "metadata": {
        "id": "HFRo2vnvySj8"
      },
      "source": [
        "try:\n",
        "    NPSingleRegressionResults = pd.read_csv('./Outputs/NeuralProphetSingleRegressionResults.csv')\n",
        "except FileNotFoundError:\n",
        "    NPSingleRegressionResults = pd.DataFrame(columns = ['StockName','MAE','MAPE', 'RMSE', 'AdjustedR2', 'Noise'], index = stocks)"
      ],
      "execution_count": null,
      "outputs": []
    },
    {
      "cell_type": "code",
      "metadata": {
        "id": "iFMxZrpdsQEj",
        "scrolled": true
      },
      "source": [
        "# initalize result variable\n",
        "for s in stocks:\n",
        "    print(s)\n",
        "    try:\n",
        "        m, forecast , train_metrics, val_metrics = BuildNeuralProphetModels(ScriptWiseData[s])\n",
        "        NPSingleRegressionResults.loc[s, ['StockName']] =  getStockNameFromStockCode(s)\n",
        "        NPSingleRegressionResults.loc[s, ['MAE']] =  val_metrics['MAE'][0]\n",
        "        NPSingleRegressionResults.loc[s, ['RMSE']] = np.sqrt(val_metrics['MSE'][0])\n",
        "        t = forecast.dropna()\n",
        "        NPSingleRegressionResults.loc[s, ['MAPE']] = mean_absolute_percentage_error(t.y, t.yhat1)\n",
        "        NPSingleRegressionResults.loc[s, ['AdjustedR2']] = r2_score(t.y, t.yhat1)\n",
        "        NPSingleRegressionResults.loc[s, ['Noise']] = t.yhat1.diff().abs().mean()\n",
        "        print('Success')\n",
        "    except:\n",
        "        print(\"Error Occured\")\n",
        "        \n",
        "NPSingleRegressionResults.to_csv('./Outputs/NeuralProphetSingleRegressionResults.csv')"
      ],
      "execution_count": null,
      "outputs": []
    },
    {
      "cell_type": "code",
      "metadata": {
        "id": "fVPgEvwpySj9"
      },
      "source": [
        "NPSingleRegressionResults"
      ],
      "execution_count": null,
      "outputs": []
    },
    {
      "cell_type": "markdown",
      "metadata": {
        "id": "-gFYa-NAsQEk"
      },
      "source": [
        "#### Plot the forecast"
      ]
    },
    {
      "cell_type": "code",
      "metadata": {
        "id": "AnvjUMdgsQEl"
      },
      "source": [
        "# forecasts_plot = m.plot(forecast)"
      ],
      "execution_count": null,
      "outputs": []
    },
    {
      "cell_type": "code",
      "metadata": {
        "id": "68PEOkGOsQEm"
      },
      "source": [
        "# fig_comp = m.plot_components(forecast);"
      ],
      "execution_count": null,
      "outputs": []
    },
    {
      "cell_type": "code",
      "metadata": {
        "id": "yAJ_OsqssQEn"
      },
      "source": [
        "# fig_param = m.plot_parameters()"
      ],
      "execution_count": null,
      "outputs": []
    },
    {
      "cell_type": "markdown",
      "metadata": {
        "id": "Vnn3hoFAsQEn"
      },
      "source": [
        "#### Validating the dataset"
      ]
    },
    {
      "cell_type": "code",
      "metadata": {
        "id": "Ex3Z1xDIsQEo"
      },
      "source": [
        "# m = NeuralProphet()\n",
        "# df_train, df_val = m.split_df(df, valid_p=0.2, freq='D')"
      ],
      "execution_count": null,
      "outputs": []
    },
    {
      "cell_type": "code",
      "metadata": {
        "id": "PC67AMB6sQEp"
      },
      "source": [
        "# train_metrics = m.fit(df_train, freq='D')\n",
        "# val_metrics = m.test(df_val)"
      ],
      "execution_count": null,
      "outputs": []
    },
    {
      "cell_type": "markdown",
      "metadata": {
        "id": "Fw9UprMlsQEq"
      },
      "source": [
        "## Multiple regressors"
      ]
    },
    {
      "cell_type": "code",
      "metadata": {
        "id": "IxsXDTejsQEr"
      },
      "source": [
        "def BuildNeuralProphetModelsWithMultipleRegressors(dataset, start_date = start_date, end_date = end_date, n_forecasts = 1, n_lags = 5):\n",
        "    # prepare the dataset\n",
        "    df = dataset.reset_index()\n",
        "    df = df[['Date', 'Close']+TechnicalIndicators]\n",
        "    df.columns = ['ds', 'y', 'A', 'B', 'C', 'D', 'E']\n",
        "    \n",
        "    # train test splilt\n",
        "    train = df.loc[(df['ds'] < start_date)]\n",
        "    df_test = df.loc[(df['ds'] >= start_date) & (df['ds'] <= end_date)]\n",
        "    \n",
        "    # initalize the model\n",
        "    m = NeuralProphet(n_forecasts=n_forecasts,n_lags=n_lags)\n",
        "    # lagged regressors\n",
        "    m.add_lagged_regressor(name='A')\n",
        "    m.add_lagged_regressor(name='B')\n",
        "    m.add_lagged_regressor(name='C')\n",
        "    m.add_lagged_regressor(name='D')\n",
        "    m.add_lagged_regressor(name='E')\n",
        "    \n",
        "    # split the training set into train and validation set\n",
        "    df_train, df_val = m.split_df(train, valid_p=0.2, freq='D')\n",
        "\n",
        "    # fit and test the model\n",
        "    train_metrics = m.fit(df_train, freq='D',progress_bar = False)\n",
        "    val_metrics = m.test(df_val)\n",
        "    \n",
        "    # make forecasts\n",
        "    # future = m.make_future_dataframe(df_test, periods=len(df_test), n_historic_predictions=len(df_test))\n",
        "    future = m.make_future_dataframe(df_test, n_historic_predictions= True)\n",
        "    forecast = m.predict(future)\n",
        "    return (m, forecast,  train_metrics, val_metrics)"
      ],
      "execution_count": null,
      "outputs": []
    },
    {
      "cell_type": "code",
      "metadata": {
        "id": "JgAWkgGaySj_"
      },
      "source": [
        "try:\n",
        "    NPExogenousRegressionResults = pd.read_csv('./Outputs/NeuralProphetRegressionWithExogenousVariablesResults.csv')\n",
        "except FileNotFoundError:\n",
        "    NPExogenousRegressionResults = pd.DataFrame(columns = ['StockName','MAE','MAPE', 'RMSE', 'AdjustedR2', 'Noise'], index = stocks)"
      ],
      "execution_count": null,
      "outputs": []
    },
    {
      "cell_type": "code",
      "metadata": {
        "id": "Urm0uHp-ySkA",
        "scrolled": true
      },
      "source": [
        "# initalize result variable\n",
        "NPExogenousRegressionResults = pd.DataFrame(columns = ['StockName','MAE','MAPE', 'RMSE', 'AdjustedR2', 'Noise'], index = stocks)\n",
        "for s in stocks:\n",
        "    print(s)\n",
        "    try:\n",
        "        m, forecast , train_metrics, val_metrics = BuildNeuralProphetModelsWithMultipleRegressors(ScriptWiseData[s])\n",
        "        NPExogenousRegressionResults.loc[s, ['StockName']] =  getStockNameFromStockCode(s)\n",
        "        NPExogenousRegressionResults.loc[s, ['MAE']] =  val_metrics['MAE'][0]\n",
        "        NPExogenousRegressionResults.loc[s, ['RMSE']] = np.sqrt(val_metrics['MSE'][0])\n",
        "        t = forecast.dropna()\n",
        "        NPExogenousRegressionResults.loc[s, ['MAPE']] = mean_absolute_percentage_error(t.y, t.yhat1)\n",
        "        NPExogenousRegressionResults.loc[s, ['AdjustedR2']] = r2_score(t.y, t.yhat1)\n",
        "        NPExogenousRegressionResults.loc[s, ['Noise']] = t.yhat1.diff().abs().mean()\n",
        "        print('Success')\n",
        "    except:\n",
        "        print(\"Error Occured\")\n",
        "        \n",
        "NPExogenousRegressionResults.to_csv('./Outputs/NeuralProphetRegressionWithExogenousVariablesResults.csv')"
      ],
      "execution_count": null,
      "outputs": []
    },
    {
      "cell_type": "code",
      "metadata": {
        "id": "CEGp5vfuySkD"
      },
      "source": [
        "NPExogenousRegressionResults"
      ],
      "execution_count": null,
      "outputs": []
    },
    {
      "cell_type": "code",
      "metadata": {
        "id": "16pOZk1XsQEs"
      },
      "source": [
        "# # m = NeuralProphet()\n",
        "# # metrics = m.fit(df, freq=\"D\")\n",
        "# for s in stocks:\n",
        "#     print(s)\n",
        "#     try:\n",
        "#         m, forecast , train_metrics, val_metrics = BuildNeuralProphetModelsWithMultipleRegressors(ScriptWiseData[s])\n",
        "# #         m, forecast , train_metrics, val_metrics = BuildNeuralProphetModels(ScriptWiseData[s])\n",
        "#         print('Succeess')\n",
        "#     except:\n",
        "#         print(\"Error Occured\")"
      ],
      "execution_count": null,
      "outputs": []
    },
    {
      "cell_type": "code",
      "metadata": {
        "id": "gJDocg0isQEt"
      },
      "source": [
        "# forecasts_plot = m.plot(forecast)\n",
        "# fig_comp = m.plot_components(forecast)"
      ],
      "execution_count": null,
      "outputs": []
    },
    {
      "cell_type": "code",
      "metadata": {
        "id": "k7_zgfYCsQEu"
      },
      "source": [
        "# train_metrics.sort_values(by=['MAE', 'MSE'], ascending = [False, False]).head(3)"
      ],
      "execution_count": null,
      "outputs": []
    },
    {
      "cell_type": "code",
      "metadata": {
        "id": "IVGLomUasQEv"
      },
      "source": [
        "# train_metrics.sort_values(by=['MAE', 'MSE'], ascending = [True, True]).head(3)"
      ],
      "execution_count": null,
      "outputs": []
    },
    {
      "cell_type": "code",
      "metadata": {
        "id": "jvXf6qb4sQEw"
      },
      "source": [
        "# val_metrics"
      ],
      "execution_count": null,
      "outputs": []
    },
    {
      "cell_type": "code",
      "metadata": {
        "id": "9q25PaJusQEx"
      },
      "source": [
        ""
      ],
      "execution_count": null,
      "outputs": []
    }
  ]
}