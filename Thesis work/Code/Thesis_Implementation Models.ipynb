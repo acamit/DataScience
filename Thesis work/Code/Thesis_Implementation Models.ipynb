{
 "cells": [
  {
   "cell_type": "code",
   "execution_count": 1,
   "metadata": {
    "id": "p1d435E2sQCS"
   },
   "outputs": [],
   "source": [
    "# from google.colab import drive\n",
    "# drive.mount('/content/gdrive')\n",
    "# import os\n",
    "# os.environ['KAGGLE_CONFIG_DIR'] = \"/content/gdrive/My Drive/Colab Notebooks\"\n",
    "# %cd /content/gdrive/My Drive/Colab Notebooks"
   ]
  },
  {
   "cell_type": "code",
   "execution_count": 2,
   "metadata": {
    "id": "gOcpoBQwsQCW"
   },
   "outputs": [],
   "source": [
    "# # # uncomment this cell for first run to install the packages.\n",
    "# !pip install quandl\n",
    "# !pip install ta \n",
    "# !pip install pycaret\n",
    "# !pip install kats\n",
    "# !pip install git+https://github.com/ourownstory/neural_prophet.git\n",
    "# !pip install -U prophet\n",
    "# !pip install -U sklearn\n",
    "# !pip install -U scikit-learn\n",
    "# !pip install -U pmdarima\n",
    "\n",
    "\n",
    "# !pip --version\n",
    "# !pip install quandl\n",
    "# !pip install  statsmodels\n",
    "# !pip install pycaret\n",
    "# !pip install kats\n",
    "# !pip install -U sklearn\n",
    "# !pip install -U scikit-learn\n",
    "# !pip install -U sklearn\n",
    "# !pip install ta \n",
    "# !pip install -U pmdarima"
   ]
  },
  {
   "cell_type": "code",
   "execution_count": 3,
   "metadata": {
    "id": "mBx16hbRsQCZ"
   },
   "outputs": [],
   "source": [
    "import numpy as np\n",
    "import pandas as pd\n",
    "import re\n",
    "from math import sqrt\n",
    "import quandl\n",
    "import matplotlib.pyplot as plt\n",
    "import seaborn as sns\n",
    "from sklearn.preprocessing import StandardScaler\n",
    "import statsmodels.graphics.tsaplots as sgt\n",
    "from statsmodels.tsa.arima.model import ARIMA\n",
    "from sklearn.metrics import mean_absolute_percentage_error, mean_squared_error, r2_score\n",
    "# for mean_squared_error set squared = False for RMSE, (y_true, y_pred)\n",
    "from sklearn.model_selection import train_test_split\n",
    "import statsmodels.tsa.stattools as sts\n",
    "from statsmodels.tsa.statespace.varmax import VARMAX, VARMAXResults\n",
    "from statsmodels.tsa.statespace.sarimax import SARIMAX\n",
    "from statsmodels.tsa.seasonal import seasonal_decompose\n",
    "from fbprophet import Prophet\n",
    "import random\n",
    "import warnings\n",
    "warnings.filterwarnings('ignore')"
   ]
  },
  {
   "cell_type": "code",
   "execution_count": 4,
   "metadata": {
    "id": "2-314cqHsQCd"
   },
   "outputs": [],
   "source": [
    "from pycaret.regression import *\n",
    "import copy\n",
    "# import plotly.express as px"
   ]
  },
  {
   "cell_type": "code",
   "execution_count": 5,
   "metadata": {
    "id": "QkcFoBvOsQCf"
   },
   "outputs": [],
   "source": [
    "from kats.consts import TimeSeriesData"
   ]
  },
  {
   "cell_type": "code",
   "execution_count": 6,
   "metadata": {
    "id": "jF50ziK2sQCh"
   },
   "outputs": [],
   "source": [
    "pd.set_option('display.max_columns', None)"
   ]
  },
  {
   "cell_type": "code",
   "execution_count": 7,
   "metadata": {
    "id": "fSEgJtsYsQCi"
   },
   "outputs": [],
   "source": [
    "quandl.ApiConfig.api_key = \"2At3atzXCrMx_BXfkyz7\"\n",
    "# 6b7jcHuxwW7Wot1kyFNS"
   ]
  },
  {
   "cell_type": "markdown",
   "metadata": {
    "id": "AIFIC6fhsQCk"
   },
   "source": [
    "### Data to be used"
   ]
  },
  {
   "cell_type": "code",
   "execution_count": 8,
   "metadata": {
    "colab": {
     "base_uri": "https://localhost:8080/",
     "height": 0
    },
    "id": "Exefd7g1sQCm",
    "outputId": "16d4d49f-f36d-49c2-b9f7-bcc3882e1bb8"
   },
   "outputs": [
    {
     "data": {
      "text/html": [
       "<div>\n",
       "<style scoped>\n",
       "    .dataframe tbody tr th:only-of-type {\n",
       "        vertical-align: middle;\n",
       "    }\n",
       "\n",
       "    .dataframe tbody tr th {\n",
       "        vertical-align: top;\n",
       "    }\n",
       "\n",
       "    .dataframe thead th {\n",
       "        text-align: right;\n",
       "    }\n",
       "</style>\n",
       "<table border=\"1\" class=\"dataframe\">\n",
       "  <thead>\n",
       "    <tr style=\"text-align: right;\">\n",
       "      <th></th>\n",
       "      <th>code</th>\n",
       "      <th>name</th>\n",
       "      <th>description</th>\n",
       "      <th>refreshed_at</th>\n",
       "      <th>from_date</th>\n",
       "      <th>to_date</th>\n",
       "    </tr>\n",
       "  </thead>\n",
       "  <tbody>\n",
       "    <tr>\n",
       "      <th>0</th>\n",
       "      <td>BOM500002</td>\n",
       "      <td>ABB India Limited EOD Prices</td>\n",
       "      <td>End of Day prices and additional trading infor...</td>\n",
       "      <td>1/19/2021 14:15</td>\n",
       "      <td>3/2/1992</td>\n",
       "      <td>1/18/2021</td>\n",
       "    </tr>\n",
       "    <tr>\n",
       "      <th>1</th>\n",
       "      <td>BOM500003</td>\n",
       "      <td>AEGIS LOGISTICS LTD. EOD Prices</td>\n",
       "      <td>End of Day prices and additional trading infor...</td>\n",
       "      <td>1/19/2021 14:15</td>\n",
       "      <td>3/2/1992</td>\n",
       "      <td>1/18/2021</td>\n",
       "    </tr>\n",
       "    <tr>\n",
       "      <th>2</th>\n",
       "      <td>BOM500008</td>\n",
       "      <td>AMARA RAJA BATTERIES LTD. EOD Prices</td>\n",
       "      <td>End of Day prices and additional trading infor...</td>\n",
       "      <td>1/19/2021 14:15</td>\n",
       "      <td>3/2/1992</td>\n",
       "      <td>1/18/2021</td>\n",
       "    </tr>\n",
       "    <tr>\n",
       "      <th>3</th>\n",
       "      <td>BOM500009</td>\n",
       "      <td>AMBALAL SARABHAI ENTERPRISES LTD. EOD Prices</td>\n",
       "      <td>End of Day prices and additional trading infor...</td>\n",
       "      <td>1/19/2021 14:15</td>\n",
       "      <td>3/2/1992</td>\n",
       "      <td>1/18/2021</td>\n",
       "    </tr>\n",
       "    <tr>\n",
       "      <th>4</th>\n",
       "      <td>BOM500010</td>\n",
       "      <td>HOUSING DEVELOPMENT FINANCE CORP.LTD. EOD Prices</td>\n",
       "      <td>End of Day prices and additional trading infor...</td>\n",
       "      <td>1/19/2021 14:15</td>\n",
       "      <td>1/3/1992</td>\n",
       "      <td>1/18/2021</td>\n",
       "    </tr>\n",
       "  </tbody>\n",
       "</table>\n",
       "</div>"
      ],
      "text/plain": [
       "        code                                              name  \\\n",
       "0  BOM500002                      ABB India Limited EOD Prices   \n",
       "1  BOM500003                   AEGIS LOGISTICS LTD. EOD Prices   \n",
       "2  BOM500008              AMARA RAJA BATTERIES LTD. EOD Prices   \n",
       "3  BOM500009      AMBALAL SARABHAI ENTERPRISES LTD. EOD Prices   \n",
       "4  BOM500010  HOUSING DEVELOPMENT FINANCE CORP.LTD. EOD Prices   \n",
       "\n",
       "                                         description     refreshed_at  \\\n",
       "0  End of Day prices and additional trading infor...  1/19/2021 14:15   \n",
       "1  End of Day prices and additional trading infor...  1/19/2021 14:15   \n",
       "2  End of Day prices and additional trading infor...  1/19/2021 14:15   \n",
       "3  End of Day prices and additional trading infor...  1/19/2021 14:15   \n",
       "4  End of Day prices and additional trading infor...  1/19/2021 14:15   \n",
       "\n",
       "  from_date    to_date  \n",
       "0  3/2/1992  1/18/2021  \n",
       "1  3/2/1992  1/18/2021  \n",
       "2  3/2/1992  1/18/2021  \n",
       "3  3/2/1992  1/18/2021  \n",
       "4  1/3/1992  1/18/2021  "
      ]
     },
     "execution_count": 8,
     "metadata": {},
     "output_type": "execute_result"
    }
   ],
   "source": [
    "metadata = pd.read_csv('BSE_metadata.csv')\n",
    "metadata.head()"
   ]
  },
  {
   "cell_type": "markdown",
   "metadata": {
    "id": "Tt336cVrsQCo"
   },
   "source": [
    "## Utility variables and functions"
   ]
  },
  {
   "cell_type": "code",
   "execution_count": 9,
   "metadata": {
    "id": "tVB6YbnlsQCq"
   },
   "outputs": [],
   "source": [
    "### Codes of selected stocks\n",
    "healthcare = ['BOM524715','BOM532488','BOM500124']\n",
    "banking = ['BOM500180','BOM532174','BOM500247']\n",
    "metals = ['BOM500470','BOM500228','BOM500440']\n",
    "auto = ['BOM532977','BOM500570','BOM532500']\n",
    "it = ['BOM500209','BOM532540','BOM507685']\n",
    "BSE_HEALTHCARE = 'SI0800'\n",
    "BSE_Information_Technology = 'SI1000'\n",
    "BSE_BANKEX = 'SIBANK'\n",
    "BSE_METAL = 'SI1200'\n",
    "BSE_AUTO = 'SI1900'\n",
    "SENSEX = 'SENSEX'\n",
    "\n",
    "stocks = healthcare+banking+metals + auto+it\n",
    "indices = [BSE_HEALTHCARE, BSE_Information_Technology, BSE_BANKEX, BSE_METAL, BSE_AUTO, SENSEX]\n",
    "allSymbols = stocks + indices\n",
    "ScriptWiseData = {}"
   ]
  },
  {
   "cell_type": "code",
   "execution_count": 10,
   "metadata": {
    "id": "3kHBN9nwsQCs"
   },
   "outputs": [],
   "source": [
    "# Global Variables\n",
    "RSIColumn = 'RSI'\n",
    "ATRColumns = ['TR', 'ATR']\n",
    "MACDColumns = ['FastAverage', 'SlowAverage','MACD','Signal']\n",
    "BollBandColumns = ['BB_up',\"BB_dn\",\"MA\",\"BB_width\"]\n",
    "ADXColumns = ['pos_directional_indicator', 'neg_directional_indicator', 'adx']\n",
    "OnBalanceVolume = 'OBV'\n",
    "TechnicalIndicators = ['RSI', 'ATR', 'MACD', 'adx', 'OBV'] #exogenous variables\n",
    "\n",
    "AllIndicatorColumns = [RSIColumn]+ATRColumns+MACDColumns+BollBandColumns+ADXColumns+[OnBalanceVolume]"
   ]
  },
  {
   "cell_type": "code",
   "execution_count": 11,
   "metadata": {
    "id": "JyImjqh2sQCu"
   },
   "outputs": [],
   "source": [
    "start_date = '2020-03-02'\n",
    "end_date = '2021-03-23'"
   ]
  },
  {
   "cell_type": "code",
   "execution_count": 12,
   "metadata": {
    "id": "dleF_l0AsQCw"
   },
   "outputs": [],
   "source": [
    "# get null values of all the stocks\n",
    "def getNullValuesForSetOfStocks(stockCodeList = allSymbols):\n",
    "    nullCounts = pd.DataFrame(ScriptWiseData[stockCodeList[0]].isnull().sum(), columns= [getStockNameFromStockCode(stockCodeList[0])])\n",
    "    for symbol in stockCodeList[1:]:\n",
    "        currNull = pd.DataFrame(ScriptWiseData[symbol].isnull().sum(), columns= [getStockNameFromStockCode(symbol)])\n",
    "        nullCounts = nullCounts.merge(currNull, left_index=True, right_index = True, how='outer')\n",
    "    return nullCounts"
   ]
  },
  {
   "cell_type": "code",
   "execution_count": 13,
   "metadata": {
    "id": "RyHT3E0nsQCx"
   },
   "outputs": [],
   "source": [
    "def adf_test(series, title = ''):\n",
    "    \"\"\"\n",
    "    Pass in a time series and an optional title\n",
    "    \"\"\"\n",
    "    result = sts.adfuller(series.dropna(), autolag = 'AIC')\n",
    "    label = ['ADF test statistic', 'p-value', '# lags used', '#observations']\n",
    "#     print(result)\n",
    "    out = pd.Series(result[0:4], index=label)\n",
    "    out['Stock Name'] = getStockNameFromStockCode(title)\n",
    "    out['Stock Code'] = title\n",
    "    for key, val in result[4].items():\n",
    "        out[f'critical value ({key})'] = val\n",
    "        \n",
    "#     print(out)\n",
    "    if(result[1]<0.05):\n",
    "        return out, 'Stationary'\n",
    "    else:\n",
    "        return out, 'Non-Stationary'"
   ]
  },
  {
   "cell_type": "code",
   "execution_count": 14,
   "metadata": {
    "colab": {
     "base_uri": "https://localhost:8080/",
     "height": 0
    },
    "id": "hagoTqx7sQCz",
    "outputId": "1873c736-2da7-4e79-b580-7829e44c7146"
   },
   "outputs": [
    {
     "data": {
      "text/html": [
       "<div>\n",
       "<style scoped>\n",
       "    .dataframe tbody tr th:only-of-type {\n",
       "        vertical-align: middle;\n",
       "    }\n",
       "\n",
       "    .dataframe tbody tr th {\n",
       "        vertical-align: top;\n",
       "    }\n",
       "\n",
       "    .dataframe thead th {\n",
       "        text-align: right;\n",
       "    }\n",
       "</style>\n",
       "<table border=\"1\" class=\"dataframe\">\n",
       "  <thead>\n",
       "    <tr style=\"text-align: right;\">\n",
       "      <th></th>\n",
       "      <th>code</th>\n",
       "      <th>name</th>\n",
       "      <th>description</th>\n",
       "      <th>refreshed_at</th>\n",
       "      <th>from_date</th>\n",
       "      <th>to_date</th>\n",
       "    </tr>\n",
       "  </thead>\n",
       "  <tbody>\n",
       "    <tr>\n",
       "      <th>70</th>\n",
       "      <td>BOM500124</td>\n",
       "      <td>DR.REDDY'S LABORATORIES LTD. EOD Prices</td>\n",
       "      <td>End of Day prices and additional trading infor...</td>\n",
       "      <td>1/19/2021 14:15</td>\n",
       "      <td>3/2/1992</td>\n",
       "      <td>1/18/2021</td>\n",
       "    </tr>\n",
       "    <tr>\n",
       "      <th>104</th>\n",
       "      <td>BOM500180</td>\n",
       "      <td>HDFC Bank Ltd EOD Prices</td>\n",
       "      <td>End of Day prices and additional trading infor...</td>\n",
       "      <td>1/19/2021 14:15</td>\n",
       "      <td>5/26/1995</td>\n",
       "      <td>1/18/2021</td>\n",
       "    </tr>\n",
       "    <tr>\n",
       "      <th>121</th>\n",
       "      <td>BOM500209</td>\n",
       "      <td>INFOSYS LTD. EOD Prices</td>\n",
       "      <td>End of Day prices and additional trading infor...</td>\n",
       "      <td>1/19/2021 14:15</td>\n",
       "      <td>5/2/1995</td>\n",
       "      <td>1/18/2021</td>\n",
       "    </tr>\n",
       "    <tr>\n",
       "      <th>133</th>\n",
       "      <td>BOM500228</td>\n",
       "      <td>JSW STEEL LTD. EOD Prices</td>\n",
       "      <td>End of Day prices and additional trading infor...</td>\n",
       "      <td>1/19/2021 14:15</td>\n",
       "      <td>5/2/1995</td>\n",
       "      <td>1/18/2021</td>\n",
       "    </tr>\n",
       "    <tr>\n",
       "      <th>146</th>\n",
       "      <td>BOM500247</td>\n",
       "      <td>KOTAK MAHINDRA BANK LTD. EOD Prices</td>\n",
       "      <td>End of Day prices and additional trading infor...</td>\n",
       "      <td>1/19/2021 14:15</td>\n",
       "      <td>5/2/1995</td>\n",
       "      <td>1/18/2021</td>\n",
       "    </tr>\n",
       "  </tbody>\n",
       "</table>\n",
       "</div>"
      ],
      "text/plain": [
       "          code                                     name  \\\n",
       "70   BOM500124  DR.REDDY'S LABORATORIES LTD. EOD Prices   \n",
       "104  BOM500180                 HDFC Bank Ltd EOD Prices   \n",
       "121  BOM500209                  INFOSYS LTD. EOD Prices   \n",
       "133  BOM500228                JSW STEEL LTD. EOD Prices   \n",
       "146  BOM500247      KOTAK MAHINDRA BANK LTD. EOD Prices   \n",
       "\n",
       "                                           description     refreshed_at  \\\n",
       "70   End of Day prices and additional trading infor...  1/19/2021 14:15   \n",
       "104  End of Day prices and additional trading infor...  1/19/2021 14:15   \n",
       "121  End of Day prices and additional trading infor...  1/19/2021 14:15   \n",
       "133  End of Day prices and additional trading infor...  1/19/2021 14:15   \n",
       "146  End of Day prices and additional trading infor...  1/19/2021 14:15   \n",
       "\n",
       "     from_date    to_date  \n",
       "70    3/2/1992  1/18/2021  \n",
       "104  5/26/1995  1/18/2021  \n",
       "121   5/2/1995  1/18/2021  \n",
       "133   5/2/1995  1/18/2021  \n",
       "146   5/2/1995  1/18/2021  "
      ]
     },
     "execution_count": 14,
     "metadata": {},
     "output_type": "execute_result"
    }
   ],
   "source": [
    "stockMetadata = metadata[metadata['code'].isin(allSymbols)]\n",
    "stockMetadata.head()"
   ]
  },
  {
   "cell_type": "code",
   "execution_count": 15,
   "metadata": {
    "colab": {
     "base_uri": "https://localhost:8080/"
    },
    "id": "EwoZ1DP9sQC2",
    "outputId": "0a9bf6f8-9f77-48fe-f384-234211313196"
   },
   "outputs": [
    {
     "name": "stdout",
     "output_type": "stream",
     "text": [
      "(21, 6)\n",
      "(15, 6)\n",
      "(6, 6)\n"
     ]
    }
   ],
   "source": [
    "print(stockMetadata.shape)\n",
    "print(stockMetadata[stockMetadata['code'].isin(stocks)].shape)\n",
    "print(stockMetadata[stockMetadata['code'].isin(indices)].shape)"
   ]
  },
  {
   "cell_type": "markdown",
   "metadata": {
    "id": "pSCAtI-QsQC3"
   },
   "source": [
    "## Map Index to  stocks"
   ]
  },
  {
   "cell_type": "code",
   "execution_count": 16,
   "metadata": {
    "id": "O7xx-FTQsQC4"
   },
   "outputs": [],
   "source": [
    "stockMetadata.loc[:, 'isStock'] = 0\n",
    "stockMetadata.loc[:, 'Index'] = ''\n",
    "\n",
    "stockMetadata.loc[stockMetadata['code'].isin(stocks), 'isStock'] = 1\n",
    "stockMetadata.reset_index(inplace=True)"
   ]
  },
  {
   "cell_type": "code",
   "execution_count": 17,
   "metadata": {
    "id": "s6ECqpt6sQC6"
   },
   "outputs": [],
   "source": [
    "stockMetadata.loc[stockMetadata['code'].isin(healthcare), 'Index'] = BSE_HEALTHCARE\n",
    "stockMetadata.loc[stockMetadata['code'].isin(banking), 'Index'] = BSE_BANKEX\n",
    "stockMetadata.loc[stockMetadata['code'].isin(metals), 'Index'] = BSE_METAL\n",
    "stockMetadata.loc[stockMetadata['code'].isin(auto), 'Index'] = BSE_AUTO\n",
    "stockMetadata.loc[stockMetadata['code'].isin(it), 'Index'] = BSE_Information_Technology"
   ]
  },
  {
   "cell_type": "code",
   "execution_count": 18,
   "metadata": {
    "colab": {
     "base_uri": "https://localhost:8080/",
     "height": 0
    },
    "id": "dmuf46EBsQC-",
    "outputId": "b35b8b7e-c269-456c-c8bb-bf71629aacbb"
   },
   "outputs": [
    {
     "data": {
      "text/html": [
       "<div>\n",
       "<style scoped>\n",
       "    .dataframe tbody tr th:only-of-type {\n",
       "        vertical-align: middle;\n",
       "    }\n",
       "\n",
       "    .dataframe tbody tr th {\n",
       "        vertical-align: top;\n",
       "    }\n",
       "\n",
       "    .dataframe thead th {\n",
       "        text-align: right;\n",
       "    }\n",
       "</style>\n",
       "<table border=\"1\" class=\"dataframe\">\n",
       "  <thead>\n",
       "    <tr style=\"text-align: right;\">\n",
       "      <th></th>\n",
       "      <th>index</th>\n",
       "      <th>code</th>\n",
       "      <th>name</th>\n",
       "      <th>description</th>\n",
       "      <th>refreshed_at</th>\n",
       "      <th>from_date</th>\n",
       "      <th>to_date</th>\n",
       "      <th>isStock</th>\n",
       "      <th>Index</th>\n",
       "    </tr>\n",
       "  </thead>\n",
       "  <tbody>\n",
       "    <tr>\n",
       "      <th>0</th>\n",
       "      <td>70</td>\n",
       "      <td>BOM500124</td>\n",
       "      <td>DR.REDDY'S LABORATORIES LTD. EOD Prices</td>\n",
       "      <td>End of Day prices and additional trading infor...</td>\n",
       "      <td>1/19/2021 14:15</td>\n",
       "      <td>3/2/1992</td>\n",
       "      <td>1/18/2021</td>\n",
       "      <td>1</td>\n",
       "      <td>SI0800</td>\n",
       "    </tr>\n",
       "    <tr>\n",
       "      <th>1</th>\n",
       "      <td>104</td>\n",
       "      <td>BOM500180</td>\n",
       "      <td>HDFC Bank Ltd EOD Prices</td>\n",
       "      <td>End of Day prices and additional trading infor...</td>\n",
       "      <td>1/19/2021 14:15</td>\n",
       "      <td>5/26/1995</td>\n",
       "      <td>1/18/2021</td>\n",
       "      <td>1</td>\n",
       "      <td>SIBANK</td>\n",
       "    </tr>\n",
       "    <tr>\n",
       "      <th>2</th>\n",
       "      <td>121</td>\n",
       "      <td>BOM500209</td>\n",
       "      <td>INFOSYS LTD. EOD Prices</td>\n",
       "      <td>End of Day prices and additional trading infor...</td>\n",
       "      <td>1/19/2021 14:15</td>\n",
       "      <td>5/2/1995</td>\n",
       "      <td>1/18/2021</td>\n",
       "      <td>1</td>\n",
       "      <td>SI1000</td>\n",
       "    </tr>\n",
       "    <tr>\n",
       "      <th>3</th>\n",
       "      <td>133</td>\n",
       "      <td>BOM500228</td>\n",
       "      <td>JSW STEEL LTD. EOD Prices</td>\n",
       "      <td>End of Day prices and additional trading infor...</td>\n",
       "      <td>1/19/2021 14:15</td>\n",
       "      <td>5/2/1995</td>\n",
       "      <td>1/18/2021</td>\n",
       "      <td>1</td>\n",
       "      <td>SI1200</td>\n",
       "    </tr>\n",
       "    <tr>\n",
       "      <th>4</th>\n",
       "      <td>146</td>\n",
       "      <td>BOM500247</td>\n",
       "      <td>KOTAK MAHINDRA BANK LTD. EOD Prices</td>\n",
       "      <td>End of Day prices and additional trading infor...</td>\n",
       "      <td>1/19/2021 14:15</td>\n",
       "      <td>5/2/1995</td>\n",
       "      <td>1/18/2021</td>\n",
       "      <td>1</td>\n",
       "      <td>SIBANK</td>\n",
       "    </tr>\n",
       "  </tbody>\n",
       "</table>\n",
       "</div>"
      ],
      "text/plain": [
       "   index       code                                     name  \\\n",
       "0     70  BOM500124  DR.REDDY'S LABORATORIES LTD. EOD Prices   \n",
       "1    104  BOM500180                 HDFC Bank Ltd EOD Prices   \n",
       "2    121  BOM500209                  INFOSYS LTD. EOD Prices   \n",
       "3    133  BOM500228                JSW STEEL LTD. EOD Prices   \n",
       "4    146  BOM500247      KOTAK MAHINDRA BANK LTD. EOD Prices   \n",
       "\n",
       "                                         description     refreshed_at  \\\n",
       "0  End of Day prices and additional trading infor...  1/19/2021 14:15   \n",
       "1  End of Day prices and additional trading infor...  1/19/2021 14:15   \n",
       "2  End of Day prices and additional trading infor...  1/19/2021 14:15   \n",
       "3  End of Day prices and additional trading infor...  1/19/2021 14:15   \n",
       "4  End of Day prices and additional trading infor...  1/19/2021 14:15   \n",
       "\n",
       "   from_date    to_date  isStock   Index  \n",
       "0   3/2/1992  1/18/2021        1  SI0800  \n",
       "1  5/26/1995  1/18/2021        1  SIBANK  \n",
       "2   5/2/1995  1/18/2021        1  SI1000  \n",
       "3   5/2/1995  1/18/2021        1  SI1200  \n",
       "4   5/2/1995  1/18/2021        1  SIBANK  "
      ]
     },
     "execution_count": 18,
     "metadata": {},
     "output_type": "execute_result"
    }
   ],
   "source": [
    "stockMetadata.head()"
   ]
  },
  {
   "cell_type": "code",
   "execution_count": 19,
   "metadata": {
    "colab": {
     "base_uri": "https://localhost:8080/"
    },
    "id": "Rc9nEZtlsQDA",
    "outputId": "4b50a228-2d5f-45df-f696-c1730a0d207b"
   },
   "outputs": [
    {
     "data": {
      "text/plain": [
       "1    15\n",
       "0     6\n",
       "Name: isStock, dtype: int64"
      ]
     },
     "execution_count": 19,
     "metadata": {},
     "output_type": "execute_result"
    }
   ],
   "source": [
    "stockMetadata['isStock'].value_counts()"
   ]
  },
  {
   "cell_type": "markdown",
   "metadata": {
    "id": "isbyxB0RsQDC"
   },
   "source": [
    "## Code to download the data from quandl. "
   ]
  },
  {
   "cell_type": "code",
   "execution_count": 20,
   "metadata": {
    "id": "eyCPmZ5tsQDE"
   },
   "outputs": [],
   "source": [
    "# # download the required data - needed only 1 time\n",
    "# i=0\n",
    "# code = f'BSE/{stockMetadata.loc[i, \"code\"]}'\n",
    "# dataset = quandl.get(code, start_date='2000-01-01', end_date='2021-03-23').sort_values(by='Date', ascending=True)\n",
    "# dataset['StockName']=stockMetadata.loc[i, 'name']\n",
    "# dataset['code'] = stockMetadata.loc[i, \"code\"]\n",
    "# dataset['isStock'] = stockMetadata.loc[i, \"isStock\"]\n",
    "# dataset['Index'] = stockMetadata.loc[i, \"Index\"]\n",
    "# for i in range(1, len(stockMetadata)):\n",
    "#     code = f'BSE/{stockMetadata.loc[i, \"code\"]}'\n",
    "#     temp = quandl.get(code, start_date='2000-01-01', end_date='2021-03-23').sort_values(by='Date', ascending=True)\n",
    "#     temp['StockName']=stockMetadata.loc[i, 'name']\n",
    "#     temp['code'] = stockMetadata.loc[i, \"code\"]\n",
    "#     temp['isStock'] = stockMetadata.loc[i, \"isStock\"]\n",
    "#     temp['Index'] = stockMetadata.loc[i, \"Index\"]\n",
    "# #     print( stockMetadata.loc[i, \"Index\"])\n",
    "#     dataset = dataset.append(temp)\n",
    "# dataset.to_csv('data.csv')\n",
    "# dataset.head()"
   ]
  },
  {
   "cell_type": "code",
   "execution_count": 21,
   "metadata": {
    "colab": {
     "base_uri": "https://localhost:8080/",
     "height": 0
    },
    "id": "lynmUOjosQDG",
    "outputId": "19a1aa17-bb87-4946-f81d-0847edd1433d"
   },
   "outputs": [
    {
     "data": {
      "text/html": [
       "<div>\n",
       "<style scoped>\n",
       "    .dataframe tbody tr th:only-of-type {\n",
       "        vertical-align: middle;\n",
       "    }\n",
       "\n",
       "    .dataframe tbody tr th {\n",
       "        vertical-align: top;\n",
       "    }\n",
       "\n",
       "    .dataframe thead th {\n",
       "        text-align: right;\n",
       "    }\n",
       "</style>\n",
       "<table border=\"1\" class=\"dataframe\">\n",
       "  <thead>\n",
       "    <tr style=\"text-align: right;\">\n",
       "      <th></th>\n",
       "      <th>Date</th>\n",
       "      <th>Open</th>\n",
       "      <th>High</th>\n",
       "      <th>Low</th>\n",
       "      <th>Close</th>\n",
       "      <th>WAP</th>\n",
       "      <th>No. of Shares</th>\n",
       "      <th>No. of Trades</th>\n",
       "      <th>Total Turnover</th>\n",
       "      <th>Deliverable Quantity</th>\n",
       "      <th>% Deli. Qty to Traded Qty</th>\n",
       "      <th>Spread H-L</th>\n",
       "      <th>Spread C-O</th>\n",
       "      <th>StockName</th>\n",
       "      <th>code</th>\n",
       "      <th>isStock</th>\n",
       "      <th>Index</th>\n",
       "    </tr>\n",
       "  </thead>\n",
       "  <tbody>\n",
       "    <tr>\n",
       "      <th>0</th>\n",
       "      <td>2000-01-03</td>\n",
       "      <td>1500.0</td>\n",
       "      <td>1557.35</td>\n",
       "      <td>1500.00</td>\n",
       "      <td>1557.35</td>\n",
       "      <td>1544.195154</td>\n",
       "      <td>82330.0</td>\n",
       "      <td>945.0</td>\n",
       "      <td>127133587.0</td>\n",
       "      <td>NaN</td>\n",
       "      <td>NaN</td>\n",
       "      <td>57.35</td>\n",
       "      <td>57.35</td>\n",
       "      <td>DR.REDDY'S LABORATORIES LTD. EOD Prices</td>\n",
       "      <td>BOM500124</td>\n",
       "      <td>1</td>\n",
       "      <td>SI0800</td>\n",
       "    </tr>\n",
       "    <tr>\n",
       "      <th>1</th>\n",
       "      <td>2000-01-04</td>\n",
       "      <td>1601.0</td>\n",
       "      <td>1681.00</td>\n",
       "      <td>1527.00</td>\n",
       "      <td>1647.25</td>\n",
       "      <td>1621.040930</td>\n",
       "      <td>210676.0</td>\n",
       "      <td>3308.0</td>\n",
       "      <td>341514419.0</td>\n",
       "      <td>NaN</td>\n",
       "      <td>NaN</td>\n",
       "      <td>154.00</td>\n",
       "      <td>46.25</td>\n",
       "      <td>DR.REDDY'S LABORATORIES LTD. EOD Prices</td>\n",
       "      <td>BOM500124</td>\n",
       "      <td>1</td>\n",
       "      <td>SI0800</td>\n",
       "    </tr>\n",
       "    <tr>\n",
       "      <th>2</th>\n",
       "      <td>2000-01-05</td>\n",
       "      <td>1600.0</td>\n",
       "      <td>1648.00</td>\n",
       "      <td>1515.50</td>\n",
       "      <td>1559.00</td>\n",
       "      <td>1590.903923</td>\n",
       "      <td>205669.0</td>\n",
       "      <td>2707.0</td>\n",
       "      <td>327199619.0</td>\n",
       "      <td>NaN</td>\n",
       "      <td>NaN</td>\n",
       "      <td>132.50</td>\n",
       "      <td>-41.00</td>\n",
       "      <td>DR.REDDY'S LABORATORIES LTD. EOD Prices</td>\n",
       "      <td>BOM500124</td>\n",
       "      <td>1</td>\n",
       "      <td>SI0800</td>\n",
       "    </tr>\n",
       "    <tr>\n",
       "      <th>3</th>\n",
       "      <td>2000-01-06</td>\n",
       "      <td>1582.0</td>\n",
       "      <td>1683.70</td>\n",
       "      <td>1560.00</td>\n",
       "      <td>1683.70</td>\n",
       "      <td>1623.244182</td>\n",
       "      <td>161085.0</td>\n",
       "      <td>2559.0</td>\n",
       "      <td>261480289.0</td>\n",
       "      <td>NaN</td>\n",
       "      <td>NaN</td>\n",
       "      <td>123.70</td>\n",
       "      <td>101.70</td>\n",
       "      <td>DR.REDDY'S LABORATORIES LTD. EOD Prices</td>\n",
       "      <td>BOM500124</td>\n",
       "      <td>1</td>\n",
       "      <td>SI0800</td>\n",
       "    </tr>\n",
       "    <tr>\n",
       "      <th>4</th>\n",
       "      <td>2000-01-07</td>\n",
       "      <td>1718.0</td>\n",
       "      <td>1718.00</td>\n",
       "      <td>1549.05</td>\n",
       "      <td>1549.05</td>\n",
       "      <td>1593.853264</td>\n",
       "      <td>120952.0</td>\n",
       "      <td>1955.0</td>\n",
       "      <td>192779740.0</td>\n",
       "      <td>NaN</td>\n",
       "      <td>NaN</td>\n",
       "      <td>168.95</td>\n",
       "      <td>-168.95</td>\n",
       "      <td>DR.REDDY'S LABORATORIES LTD. EOD Prices</td>\n",
       "      <td>BOM500124</td>\n",
       "      <td>1</td>\n",
       "      <td>SI0800</td>\n",
       "    </tr>\n",
       "  </tbody>\n",
       "</table>\n",
       "</div>"
      ],
      "text/plain": [
       "         Date    Open     High      Low    Close          WAP  No. of Shares  \\\n",
       "0  2000-01-03  1500.0  1557.35  1500.00  1557.35  1544.195154        82330.0   \n",
       "1  2000-01-04  1601.0  1681.00  1527.00  1647.25  1621.040930       210676.0   \n",
       "2  2000-01-05  1600.0  1648.00  1515.50  1559.00  1590.903923       205669.0   \n",
       "3  2000-01-06  1582.0  1683.70  1560.00  1683.70  1623.244182       161085.0   \n",
       "4  2000-01-07  1718.0  1718.00  1549.05  1549.05  1593.853264       120952.0   \n",
       "\n",
       "   No. of Trades  Total Turnover  Deliverable Quantity  \\\n",
       "0          945.0     127133587.0                   NaN   \n",
       "1         3308.0     341514419.0                   NaN   \n",
       "2         2707.0     327199619.0                   NaN   \n",
       "3         2559.0     261480289.0                   NaN   \n",
       "4         1955.0     192779740.0                   NaN   \n",
       "\n",
       "   % Deli. Qty to Traded Qty  Spread H-L  Spread C-O  \\\n",
       "0                        NaN       57.35       57.35   \n",
       "1                        NaN      154.00       46.25   \n",
       "2                        NaN      132.50      -41.00   \n",
       "3                        NaN      123.70      101.70   \n",
       "4                        NaN      168.95     -168.95   \n",
       "\n",
       "                                 StockName       code  isStock   Index  \n",
       "0  DR.REDDY'S LABORATORIES LTD. EOD Prices  BOM500124        1  SI0800  \n",
       "1  DR.REDDY'S LABORATORIES LTD. EOD Prices  BOM500124        1  SI0800  \n",
       "2  DR.REDDY'S LABORATORIES LTD. EOD Prices  BOM500124        1  SI0800  \n",
       "3  DR.REDDY'S LABORATORIES LTD. EOD Prices  BOM500124        1  SI0800  \n",
       "4  DR.REDDY'S LABORATORIES LTD. EOD Prices  BOM500124        1  SI0800  "
      ]
     },
     "execution_count": 21,
     "metadata": {},
     "output_type": "execute_result"
    }
   ],
   "source": [
    "# dataset = pd.read_csv('data.csv')\n",
    "# dataset.head()\n",
    "#-----------------------\n",
    "dataset = pd.read_csv('data.csv')\n",
    "dataset.head()"
   ]
  },
  {
   "cell_type": "code",
   "execution_count": 22,
   "metadata": {
    "colab": {
     "base_uri": "https://localhost:8080/"
    },
    "id": "WYRIsODdsQDI",
    "outputId": "df6a05b7-2fa1-4280-86d3-9682e71077aa"
   },
   "outputs": [
    {
     "name": "stdout",
     "output_type": "stream",
     "text": [
      "<class 'pandas.core.frame.DataFrame'>\n",
      "RangeIndex: 105449 entries, 0 to 105448\n",
      "Data columns (total 17 columns):\n",
      " #   Column                     Non-Null Count   Dtype  \n",
      "---  ------                     --------------   -----  \n",
      " 0   Date                       105449 non-null  object \n",
      " 1   Open                       95130 non-null   float64\n",
      " 2   High                       95130 non-null   float64\n",
      " 3   Low                        95130 non-null   float64\n",
      " 4   Close                      105449 non-null  float64\n",
      " 5   WAP                        74255 non-null   float64\n",
      " 6   No. of Shares              74255 non-null   float64\n",
      " 7   No. of Trades              74255 non-null   float64\n",
      " 8   Total Turnover             74255 non-null   float64\n",
      " 9   Deliverable Quantity       68110 non-null   float64\n",
      " 10  % Deli. Qty to Traded Qty  68110 non-null   float64\n",
      " 11  Spread H-L                 74255 non-null   float64\n",
      " 12  Spread C-O                 74255 non-null   float64\n",
      " 13  StockName                  105449 non-null  object \n",
      " 14  code                       105449 non-null  object \n",
      " 15  isStock                    105449 non-null  int64  \n",
      " 16  Index                      74255 non-null   object \n",
      "dtypes: float64(12), int64(1), object(4)\n",
      "memory usage: 13.7+ MB\n"
     ]
    }
   ],
   "source": [
    "dataset.info()"
   ]
  },
  {
   "cell_type": "markdown",
   "metadata": {
    "id": "FIW4t81GsQDJ"
   },
   "source": [
    "### Verify the min and max of dates of all selected stocks and indices"
   ]
  },
  {
   "cell_type": "code",
   "execution_count": 23,
   "metadata": {
    "colab": {
     "base_uri": "https://localhost:8080/"
    },
    "id": "_KxFJed0sQDK",
    "outputId": "74077f28-41ab-4a61-ab4c-80b700426637"
   },
   "outputs": [
    {
     "data": {
      "text/plain": [
       "21"
      ]
     },
     "execution_count": 23,
     "metadata": {},
     "output_type": "execute_result"
    }
   ],
   "source": [
    "dateRanges = dataset.groupby(['code', 'StockName']).agg({'Date': ['min', 'max']}).reset_index()\n",
    "dateRanges.columns = ['Stock Code', 'Stock Name', 'First Date', 'Last Date']\n",
    "len(dateRanges)"
   ]
  },
  {
   "cell_type": "code",
   "execution_count": 24,
   "metadata": {
    "id": "5k9t2tCJsQDU"
   },
   "outputs": [],
   "source": [
    "# use above ranges to get stockName\n",
    "def getStockNameFromStockCode(stockCode):\n",
    "    return dateRanges.loc[dateRanges['Stock Code']==stockCode, 'Stock Name'].values[0].replace('EOD Prices', '');"
   ]
  },
  {
   "cell_type": "code",
   "execution_count": 25,
   "metadata": {
    "colab": {
     "base_uri": "https://localhost:8080/",
     "height": 0
    },
    "id": "tJN_Fe5xsQDV",
    "outputId": "dbc7d73c-bf3a-40c2-d003-ee94536ae3e6"
   },
   "outputs": [
    {
     "data": {
      "text/html": [
       "<div>\n",
       "<style scoped>\n",
       "    .dataframe tbody tr th:only-of-type {\n",
       "        vertical-align: middle;\n",
       "    }\n",
       "\n",
       "    .dataframe tbody tr th {\n",
       "        vertical-align: top;\n",
       "    }\n",
       "\n",
       "    .dataframe thead th {\n",
       "        text-align: right;\n",
       "    }\n",
       "</style>\n",
       "<table border=\"1\" class=\"dataframe\">\n",
       "  <thead>\n",
       "    <tr style=\"text-align: right;\">\n",
       "      <th></th>\n",
       "      <th>Open</th>\n",
       "      <th>High</th>\n",
       "      <th>Low</th>\n",
       "      <th>Close</th>\n",
       "      <th>WAP</th>\n",
       "      <th>No. of Shares</th>\n",
       "      <th>No. of Trades</th>\n",
       "      <th>Total Turnover</th>\n",
       "      <th>Deliverable Quantity</th>\n",
       "      <th>% Deli. Qty to Traded Qty</th>\n",
       "      <th>Spread H-L</th>\n",
       "      <th>Spread C-O</th>\n",
       "      <th>StockName</th>\n",
       "      <th>code</th>\n",
       "      <th>isStock</th>\n",
       "      <th>Index</th>\n",
       "    </tr>\n",
       "    <tr>\n",
       "      <th>Date</th>\n",
       "      <th></th>\n",
       "      <th></th>\n",
       "      <th></th>\n",
       "      <th></th>\n",
       "      <th></th>\n",
       "      <th></th>\n",
       "      <th></th>\n",
       "      <th></th>\n",
       "      <th></th>\n",
       "      <th></th>\n",
       "      <th></th>\n",
       "      <th></th>\n",
       "      <th></th>\n",
       "      <th></th>\n",
       "      <th></th>\n",
       "      <th></th>\n",
       "    </tr>\n",
       "  </thead>\n",
       "  <tbody>\n",
       "    <tr>\n",
       "      <th>2000-01-03</th>\n",
       "      <td>1500.0</td>\n",
       "      <td>1557.35</td>\n",
       "      <td>1500.00</td>\n",
       "      <td>1557.35</td>\n",
       "      <td>1544.195154</td>\n",
       "      <td>82330.0</td>\n",
       "      <td>945.0</td>\n",
       "      <td>127133587.0</td>\n",
       "      <td>NaN</td>\n",
       "      <td>NaN</td>\n",
       "      <td>57.35</td>\n",
       "      <td>57.35</td>\n",
       "      <td>DR.REDDY'S LABORATORIES LTD. EOD Prices</td>\n",
       "      <td>BOM500124</td>\n",
       "      <td>1</td>\n",
       "      <td>SI0800</td>\n",
       "    </tr>\n",
       "    <tr>\n",
       "      <th>2000-01-04</th>\n",
       "      <td>1601.0</td>\n",
       "      <td>1681.00</td>\n",
       "      <td>1527.00</td>\n",
       "      <td>1647.25</td>\n",
       "      <td>1621.040930</td>\n",
       "      <td>210676.0</td>\n",
       "      <td>3308.0</td>\n",
       "      <td>341514419.0</td>\n",
       "      <td>NaN</td>\n",
       "      <td>NaN</td>\n",
       "      <td>154.00</td>\n",
       "      <td>46.25</td>\n",
       "      <td>DR.REDDY'S LABORATORIES LTD. EOD Prices</td>\n",
       "      <td>BOM500124</td>\n",
       "      <td>1</td>\n",
       "      <td>SI0800</td>\n",
       "    </tr>\n",
       "    <tr>\n",
       "      <th>2000-01-05</th>\n",
       "      <td>1600.0</td>\n",
       "      <td>1648.00</td>\n",
       "      <td>1515.50</td>\n",
       "      <td>1559.00</td>\n",
       "      <td>1590.903923</td>\n",
       "      <td>205669.0</td>\n",
       "      <td>2707.0</td>\n",
       "      <td>327199619.0</td>\n",
       "      <td>NaN</td>\n",
       "      <td>NaN</td>\n",
       "      <td>132.50</td>\n",
       "      <td>-41.00</td>\n",
       "      <td>DR.REDDY'S LABORATORIES LTD. EOD Prices</td>\n",
       "      <td>BOM500124</td>\n",
       "      <td>1</td>\n",
       "      <td>SI0800</td>\n",
       "    </tr>\n",
       "    <tr>\n",
       "      <th>2000-01-06</th>\n",
       "      <td>1582.0</td>\n",
       "      <td>1683.70</td>\n",
       "      <td>1560.00</td>\n",
       "      <td>1683.70</td>\n",
       "      <td>1623.244182</td>\n",
       "      <td>161085.0</td>\n",
       "      <td>2559.0</td>\n",
       "      <td>261480289.0</td>\n",
       "      <td>NaN</td>\n",
       "      <td>NaN</td>\n",
       "      <td>123.70</td>\n",
       "      <td>101.70</td>\n",
       "      <td>DR.REDDY'S LABORATORIES LTD. EOD Prices</td>\n",
       "      <td>BOM500124</td>\n",
       "      <td>1</td>\n",
       "      <td>SI0800</td>\n",
       "    </tr>\n",
       "    <tr>\n",
       "      <th>2000-01-07</th>\n",
       "      <td>1718.0</td>\n",
       "      <td>1718.00</td>\n",
       "      <td>1549.05</td>\n",
       "      <td>1549.05</td>\n",
       "      <td>1593.853264</td>\n",
       "      <td>120952.0</td>\n",
       "      <td>1955.0</td>\n",
       "      <td>192779740.0</td>\n",
       "      <td>NaN</td>\n",
       "      <td>NaN</td>\n",
       "      <td>168.95</td>\n",
       "      <td>-168.95</td>\n",
       "      <td>DR.REDDY'S LABORATORIES LTD. EOD Prices</td>\n",
       "      <td>BOM500124</td>\n",
       "      <td>1</td>\n",
       "      <td>SI0800</td>\n",
       "    </tr>\n",
       "  </tbody>\n",
       "</table>\n",
       "</div>"
      ],
      "text/plain": [
       "              Open     High      Low    Close          WAP  No. of Shares  \\\n",
       "Date                                                                        \n",
       "2000-01-03  1500.0  1557.35  1500.00  1557.35  1544.195154        82330.0   \n",
       "2000-01-04  1601.0  1681.00  1527.00  1647.25  1621.040930       210676.0   \n",
       "2000-01-05  1600.0  1648.00  1515.50  1559.00  1590.903923       205669.0   \n",
       "2000-01-06  1582.0  1683.70  1560.00  1683.70  1623.244182       161085.0   \n",
       "2000-01-07  1718.0  1718.00  1549.05  1549.05  1593.853264       120952.0   \n",
       "\n",
       "            No. of Trades  Total Turnover  Deliverable Quantity  \\\n",
       "Date                                                              \n",
       "2000-01-03          945.0     127133587.0                   NaN   \n",
       "2000-01-04         3308.0     341514419.0                   NaN   \n",
       "2000-01-05         2707.0     327199619.0                   NaN   \n",
       "2000-01-06         2559.0     261480289.0                   NaN   \n",
       "2000-01-07         1955.0     192779740.0                   NaN   \n",
       "\n",
       "            % Deli. Qty to Traded Qty  Spread H-L  Spread C-O  \\\n",
       "Date                                                            \n",
       "2000-01-03                        NaN       57.35       57.35   \n",
       "2000-01-04                        NaN      154.00       46.25   \n",
       "2000-01-05                        NaN      132.50      -41.00   \n",
       "2000-01-06                        NaN      123.70      101.70   \n",
       "2000-01-07                        NaN      168.95     -168.95   \n",
       "\n",
       "                                          StockName       code  isStock  \\\n",
       "Date                                                                      \n",
       "2000-01-03  DR.REDDY'S LABORATORIES LTD. EOD Prices  BOM500124        1   \n",
       "2000-01-04  DR.REDDY'S LABORATORIES LTD. EOD Prices  BOM500124        1   \n",
       "2000-01-05  DR.REDDY'S LABORATORIES LTD. EOD Prices  BOM500124        1   \n",
       "2000-01-06  DR.REDDY'S LABORATORIES LTD. EOD Prices  BOM500124        1   \n",
       "2000-01-07  DR.REDDY'S LABORATORIES LTD. EOD Prices  BOM500124        1   \n",
       "\n",
       "             Index  \n",
       "Date                \n",
       "2000-01-03  SI0800  \n",
       "2000-01-04  SI0800  \n",
       "2000-01-05  SI0800  \n",
       "2000-01-06  SI0800  \n",
       "2000-01-07  SI0800  "
      ]
     },
     "execution_count": 25,
     "metadata": {},
     "output_type": "execute_result"
    }
   ],
   "source": [
    "data = dataset.set_index('Date')\n",
    "data.head()"
   ]
  },
  {
   "cell_type": "markdown",
   "metadata": {
    "id": "zPN-2PnUsQDX"
   },
   "source": [
    "### Populate dictionary to hold individual Stock Data"
   ]
  },
  {
   "cell_type": "code",
   "execution_count": 26,
   "metadata": {
    "id": "foJvrjY0sQDY"
   },
   "outputs": [],
   "source": [
    "# ScriptWiseData = {'Symbol1': <DatqaFrame>, 'Suymbol 2':Dataframe2}\n",
    "for symbol in allSymbols:\n",
    "    ScriptWiseData[symbol] = data.loc[data.code==symbol]"
   ]
  },
  {
   "cell_type": "markdown",
   "metadata": {
    "id": "ihkDFSgnsQDZ"
   },
   "source": [
    "### View null values in the data "
   ]
  },
  {
   "cell_type": "code",
   "execution_count": 27,
   "metadata": {
    "colab": {
     "base_uri": "https://localhost:8080/",
     "height": 0
    },
    "id": "vrqyLuQUsQDa",
    "outputId": "82a3cdda-9367-4d7c-fcd7-c00b29b35449"
   },
   "outputs": [
    {
     "data": {
      "text/html": [
       "<div>\n",
       "<style scoped>\n",
       "    .dataframe tbody tr th:only-of-type {\n",
       "        vertical-align: middle;\n",
       "    }\n",
       "\n",
       "    .dataframe tbody tr th {\n",
       "        vertical-align: top;\n",
       "    }\n",
       "\n",
       "    .dataframe thead th {\n",
       "        text-align: right;\n",
       "    }\n",
       "</style>\n",
       "<table border=\"1\" class=\"dataframe\">\n",
       "  <thead>\n",
       "    <tr style=\"text-align: right;\">\n",
       "      <th></th>\n",
       "      <th>SUN PHARMACEUTICAL INDUSTRIES LTD.</th>\n",
       "      <th>DIVI'S LABORATORIES LTD.</th>\n",
       "      <th>DR.REDDY'S LABORATORIES LTD.</th>\n",
       "      <th>HDFC Bank Ltd</th>\n",
       "      <th>ICICI BANK LTD.</th>\n",
       "      <th>KOTAK MAHINDRA BANK LTD.</th>\n",
       "      <th>TATA STEEL LTD.</th>\n",
       "      <th>JSW STEEL LTD.</th>\n",
       "      <th>HINDALCO INDUSTRIES LTD.</th>\n",
       "      <th>BAJAJ AUTO LTD.</th>\n",
       "      <th>TATA MOTORS LTD.</th>\n",
       "      <th>MARUTI SUZUKI INDIA LTD.</th>\n",
       "      <th>INFOSYS LTD.</th>\n",
       "      <th>TATA CONSULTANCY SERVICES LTD.</th>\n",
       "      <th>WIPRO LTD.</th>\n",
       "      <th>BSE Healthcare</th>\n",
       "      <th>BSE Information Technology</th>\n",
       "      <th>BSE BANKEX</th>\n",
       "      <th>BSE METAL</th>\n",
       "      <th>BSE AUTO</th>\n",
       "      <th>BSE SENSEX</th>\n",
       "    </tr>\n",
       "  </thead>\n",
       "  <tbody>\n",
       "    <tr>\n",
       "      <th>Open</th>\n",
       "      <td>0</td>\n",
       "      <td>0</td>\n",
       "      <td>0</td>\n",
       "      <td>0</td>\n",
       "      <td>0</td>\n",
       "      <td>0</td>\n",
       "      <td>0</td>\n",
       "      <td>0</td>\n",
       "      <td>0</td>\n",
       "      <td>0</td>\n",
       "      <td>0</td>\n",
       "      <td>0</td>\n",
       "      <td>0</td>\n",
       "      <td>0</td>\n",
       "      <td>0</td>\n",
       "      <td>3810</td>\n",
       "      <td>3810</td>\n",
       "      <td>369</td>\n",
       "      <td>1165</td>\n",
       "      <td>1165</td>\n",
       "      <td>0</td>\n",
       "    </tr>\n",
       "    <tr>\n",
       "      <th>High</th>\n",
       "      <td>0</td>\n",
       "      <td>0</td>\n",
       "      <td>0</td>\n",
       "      <td>0</td>\n",
       "      <td>0</td>\n",
       "      <td>0</td>\n",
       "      <td>0</td>\n",
       "      <td>0</td>\n",
       "      <td>0</td>\n",
       "      <td>0</td>\n",
       "      <td>0</td>\n",
       "      <td>0</td>\n",
       "      <td>0</td>\n",
       "      <td>0</td>\n",
       "      <td>0</td>\n",
       "      <td>3810</td>\n",
       "      <td>3810</td>\n",
       "      <td>369</td>\n",
       "      <td>1165</td>\n",
       "      <td>1165</td>\n",
       "      <td>0</td>\n",
       "    </tr>\n",
       "    <tr>\n",
       "      <th>Low</th>\n",
       "      <td>0</td>\n",
       "      <td>0</td>\n",
       "      <td>0</td>\n",
       "      <td>0</td>\n",
       "      <td>0</td>\n",
       "      <td>0</td>\n",
       "      <td>0</td>\n",
       "      <td>0</td>\n",
       "      <td>0</td>\n",
       "      <td>0</td>\n",
       "      <td>0</td>\n",
       "      <td>0</td>\n",
       "      <td>0</td>\n",
       "      <td>0</td>\n",
       "      <td>0</td>\n",
       "      <td>3810</td>\n",
       "      <td>3810</td>\n",
       "      <td>369</td>\n",
       "      <td>1165</td>\n",
       "      <td>1165</td>\n",
       "      <td>0</td>\n",
       "    </tr>\n",
       "    <tr>\n",
       "      <th>Close</th>\n",
       "      <td>0</td>\n",
       "      <td>0</td>\n",
       "      <td>0</td>\n",
       "      <td>0</td>\n",
       "      <td>0</td>\n",
       "      <td>0</td>\n",
       "      <td>0</td>\n",
       "      <td>0</td>\n",
       "      <td>0</td>\n",
       "      <td>0</td>\n",
       "      <td>0</td>\n",
       "      <td>0</td>\n",
       "      <td>0</td>\n",
       "      <td>0</td>\n",
       "      <td>0</td>\n",
       "      <td>0</td>\n",
       "      <td>0</td>\n",
       "      <td>0</td>\n",
       "      <td>0</td>\n",
       "      <td>0</td>\n",
       "      <td>0</td>\n",
       "    </tr>\n",
       "    <tr>\n",
       "      <th>WAP</th>\n",
       "      <td>0</td>\n",
       "      <td>0</td>\n",
       "      <td>0</td>\n",
       "      <td>0</td>\n",
       "      <td>0</td>\n",
       "      <td>0</td>\n",
       "      <td>0</td>\n",
       "      <td>0</td>\n",
       "      <td>0</td>\n",
       "      <td>0</td>\n",
       "      <td>0</td>\n",
       "      <td>0</td>\n",
       "      <td>0</td>\n",
       "      <td>0</td>\n",
       "      <td>0</td>\n",
       "      <td>5282</td>\n",
       "      <td>5282</td>\n",
       "      <td>4784</td>\n",
       "      <td>5282</td>\n",
       "      <td>5282</td>\n",
       "      <td>5282</td>\n",
       "    </tr>\n",
       "    <tr>\n",
       "      <th>No. of Shares</th>\n",
       "      <td>0</td>\n",
       "      <td>0</td>\n",
       "      <td>0</td>\n",
       "      <td>0</td>\n",
       "      <td>0</td>\n",
       "      <td>0</td>\n",
       "      <td>0</td>\n",
       "      <td>0</td>\n",
       "      <td>0</td>\n",
       "      <td>0</td>\n",
       "      <td>0</td>\n",
       "      <td>0</td>\n",
       "      <td>0</td>\n",
       "      <td>0</td>\n",
       "      <td>0</td>\n",
       "      <td>5282</td>\n",
       "      <td>5282</td>\n",
       "      <td>4784</td>\n",
       "      <td>5282</td>\n",
       "      <td>5282</td>\n",
       "      <td>5282</td>\n",
       "    </tr>\n",
       "    <tr>\n",
       "      <th>No. of Trades</th>\n",
       "      <td>0</td>\n",
       "      <td>0</td>\n",
       "      <td>0</td>\n",
       "      <td>0</td>\n",
       "      <td>0</td>\n",
       "      <td>0</td>\n",
       "      <td>0</td>\n",
       "      <td>0</td>\n",
       "      <td>0</td>\n",
       "      <td>0</td>\n",
       "      <td>0</td>\n",
       "      <td>0</td>\n",
       "      <td>0</td>\n",
       "      <td>0</td>\n",
       "      <td>0</td>\n",
       "      <td>5282</td>\n",
       "      <td>5282</td>\n",
       "      <td>4784</td>\n",
       "      <td>5282</td>\n",
       "      <td>5282</td>\n",
       "      <td>5282</td>\n",
       "    </tr>\n",
       "    <tr>\n",
       "      <th>Total Turnover</th>\n",
       "      <td>0</td>\n",
       "      <td>0</td>\n",
       "      <td>0</td>\n",
       "      <td>0</td>\n",
       "      <td>0</td>\n",
       "      <td>0</td>\n",
       "      <td>0</td>\n",
       "      <td>0</td>\n",
       "      <td>0</td>\n",
       "      <td>0</td>\n",
       "      <td>0</td>\n",
       "      <td>0</td>\n",
       "      <td>0</td>\n",
       "      <td>0</td>\n",
       "      <td>0</td>\n",
       "      <td>5282</td>\n",
       "      <td>5282</td>\n",
       "      <td>4784</td>\n",
       "      <td>5282</td>\n",
       "      <td>5282</td>\n",
       "      <td>5282</td>\n",
       "    </tr>\n",
       "    <tr>\n",
       "      <th>Deliverable Quantity</th>\n",
       "      <td>548</td>\n",
       "      <td>57</td>\n",
       "      <td>538</td>\n",
       "      <td>538</td>\n",
       "      <td>544</td>\n",
       "      <td>537</td>\n",
       "      <td>545</td>\n",
       "      <td>580</td>\n",
       "      <td>555</td>\n",
       "      <td>1</td>\n",
       "      <td>542</td>\n",
       "      <td>81</td>\n",
       "      <td>539</td>\n",
       "      <td>2</td>\n",
       "      <td>538</td>\n",
       "      <td>5282</td>\n",
       "      <td>5282</td>\n",
       "      <td>4784</td>\n",
       "      <td>5282</td>\n",
       "      <td>5282</td>\n",
       "      <td>5282</td>\n",
       "    </tr>\n",
       "    <tr>\n",
       "      <th>% Deli. Qty to Traded Qty</th>\n",
       "      <td>548</td>\n",
       "      <td>57</td>\n",
       "      <td>538</td>\n",
       "      <td>538</td>\n",
       "      <td>544</td>\n",
       "      <td>537</td>\n",
       "      <td>545</td>\n",
       "      <td>580</td>\n",
       "      <td>555</td>\n",
       "      <td>1</td>\n",
       "      <td>542</td>\n",
       "      <td>81</td>\n",
       "      <td>539</td>\n",
       "      <td>2</td>\n",
       "      <td>538</td>\n",
       "      <td>5282</td>\n",
       "      <td>5282</td>\n",
       "      <td>4784</td>\n",
       "      <td>5282</td>\n",
       "      <td>5282</td>\n",
       "      <td>5282</td>\n",
       "    </tr>\n",
       "    <tr>\n",
       "      <th>Spread H-L</th>\n",
       "      <td>0</td>\n",
       "      <td>0</td>\n",
       "      <td>0</td>\n",
       "      <td>0</td>\n",
       "      <td>0</td>\n",
       "      <td>0</td>\n",
       "      <td>0</td>\n",
       "      <td>0</td>\n",
       "      <td>0</td>\n",
       "      <td>0</td>\n",
       "      <td>0</td>\n",
       "      <td>0</td>\n",
       "      <td>0</td>\n",
       "      <td>0</td>\n",
       "      <td>0</td>\n",
       "      <td>5282</td>\n",
       "      <td>5282</td>\n",
       "      <td>4784</td>\n",
       "      <td>5282</td>\n",
       "      <td>5282</td>\n",
       "      <td>5282</td>\n",
       "    </tr>\n",
       "    <tr>\n",
       "      <th>Spread C-O</th>\n",
       "      <td>0</td>\n",
       "      <td>0</td>\n",
       "      <td>0</td>\n",
       "      <td>0</td>\n",
       "      <td>0</td>\n",
       "      <td>0</td>\n",
       "      <td>0</td>\n",
       "      <td>0</td>\n",
       "      <td>0</td>\n",
       "      <td>0</td>\n",
       "      <td>0</td>\n",
       "      <td>0</td>\n",
       "      <td>0</td>\n",
       "      <td>0</td>\n",
       "      <td>0</td>\n",
       "      <td>5282</td>\n",
       "      <td>5282</td>\n",
       "      <td>4784</td>\n",
       "      <td>5282</td>\n",
       "      <td>5282</td>\n",
       "      <td>5282</td>\n",
       "    </tr>\n",
       "    <tr>\n",
       "      <th>StockName</th>\n",
       "      <td>0</td>\n",
       "      <td>0</td>\n",
       "      <td>0</td>\n",
       "      <td>0</td>\n",
       "      <td>0</td>\n",
       "      <td>0</td>\n",
       "      <td>0</td>\n",
       "      <td>0</td>\n",
       "      <td>0</td>\n",
       "      <td>0</td>\n",
       "      <td>0</td>\n",
       "      <td>0</td>\n",
       "      <td>0</td>\n",
       "      <td>0</td>\n",
       "      <td>0</td>\n",
       "      <td>0</td>\n",
       "      <td>0</td>\n",
       "      <td>0</td>\n",
       "      <td>0</td>\n",
       "      <td>0</td>\n",
       "      <td>0</td>\n",
       "    </tr>\n",
       "    <tr>\n",
       "      <th>code</th>\n",
       "      <td>0</td>\n",
       "      <td>0</td>\n",
       "      <td>0</td>\n",
       "      <td>0</td>\n",
       "      <td>0</td>\n",
       "      <td>0</td>\n",
       "      <td>0</td>\n",
       "      <td>0</td>\n",
       "      <td>0</td>\n",
       "      <td>0</td>\n",
       "      <td>0</td>\n",
       "      <td>0</td>\n",
       "      <td>0</td>\n",
       "      <td>0</td>\n",
       "      <td>0</td>\n",
       "      <td>0</td>\n",
       "      <td>0</td>\n",
       "      <td>0</td>\n",
       "      <td>0</td>\n",
       "      <td>0</td>\n",
       "      <td>0</td>\n",
       "    </tr>\n",
       "    <tr>\n",
       "      <th>isStock</th>\n",
       "      <td>0</td>\n",
       "      <td>0</td>\n",
       "      <td>0</td>\n",
       "      <td>0</td>\n",
       "      <td>0</td>\n",
       "      <td>0</td>\n",
       "      <td>0</td>\n",
       "      <td>0</td>\n",
       "      <td>0</td>\n",
       "      <td>0</td>\n",
       "      <td>0</td>\n",
       "      <td>0</td>\n",
       "      <td>0</td>\n",
       "      <td>0</td>\n",
       "      <td>0</td>\n",
       "      <td>0</td>\n",
       "      <td>0</td>\n",
       "      <td>0</td>\n",
       "      <td>0</td>\n",
       "      <td>0</td>\n",
       "      <td>0</td>\n",
       "    </tr>\n",
       "    <tr>\n",
       "      <th>Index</th>\n",
       "      <td>0</td>\n",
       "      <td>0</td>\n",
       "      <td>0</td>\n",
       "      <td>0</td>\n",
       "      <td>0</td>\n",
       "      <td>0</td>\n",
       "      <td>0</td>\n",
       "      <td>0</td>\n",
       "      <td>0</td>\n",
       "      <td>0</td>\n",
       "      <td>0</td>\n",
       "      <td>0</td>\n",
       "      <td>0</td>\n",
       "      <td>0</td>\n",
       "      <td>0</td>\n",
       "      <td>5282</td>\n",
       "      <td>5282</td>\n",
       "      <td>4784</td>\n",
       "      <td>5282</td>\n",
       "      <td>5282</td>\n",
       "      <td>5282</td>\n",
       "    </tr>\n",
       "  </tbody>\n",
       "</table>\n",
       "</div>"
      ],
      "text/plain": [
       "                           SUN PHARMACEUTICAL INDUSTRIES LTD.   \\\n",
       "Open                                                         0   \n",
       "High                                                         0   \n",
       "Low                                                          0   \n",
       "Close                                                        0   \n",
       "WAP                                                          0   \n",
       "No. of Shares                                                0   \n",
       "No. of Trades                                                0   \n",
       "Total Turnover                                               0   \n",
       "Deliverable Quantity                                       548   \n",
       "% Deli. Qty to Traded Qty                                  548   \n",
       "Spread H-L                                                   0   \n",
       "Spread C-O                                                   0   \n",
       "StockName                                                    0   \n",
       "code                                                         0   \n",
       "isStock                                                      0   \n",
       "Index                                                        0   \n",
       "\n",
       "                           DIVI'S LABORATORIES LTD.   \\\n",
       "Open                                               0   \n",
       "High                                               0   \n",
       "Low                                                0   \n",
       "Close                                              0   \n",
       "WAP                                                0   \n",
       "No. of Shares                                      0   \n",
       "No. of Trades                                      0   \n",
       "Total Turnover                                     0   \n",
       "Deliverable Quantity                              57   \n",
       "% Deli. Qty to Traded Qty                         57   \n",
       "Spread H-L                                         0   \n",
       "Spread C-O                                         0   \n",
       "StockName                                          0   \n",
       "code                                               0   \n",
       "isStock                                            0   \n",
       "Index                                              0   \n",
       "\n",
       "                           DR.REDDY'S LABORATORIES LTD.   HDFC Bank Ltd   \\\n",
       "Open                                                   0               0   \n",
       "High                                                   0               0   \n",
       "Low                                                    0               0   \n",
       "Close                                                  0               0   \n",
       "WAP                                                    0               0   \n",
       "No. of Shares                                          0               0   \n",
       "No. of Trades                                          0               0   \n",
       "Total Turnover                                         0               0   \n",
       "Deliverable Quantity                                 538             538   \n",
       "% Deli. Qty to Traded Qty                            538             538   \n",
       "Spread H-L                                             0               0   \n",
       "Spread C-O                                             0               0   \n",
       "StockName                                              0               0   \n",
       "code                                                   0               0   \n",
       "isStock                                                0               0   \n",
       "Index                                                  0               0   \n",
       "\n",
       "                           ICICI BANK LTD.   KOTAK MAHINDRA BANK LTD.   \\\n",
       "Open                                      0                          0   \n",
       "High                                      0                          0   \n",
       "Low                                       0                          0   \n",
       "Close                                     0                          0   \n",
       "WAP                                       0                          0   \n",
       "No. of Shares                             0                          0   \n",
       "No. of Trades                             0                          0   \n",
       "Total Turnover                            0                          0   \n",
       "Deliverable Quantity                    544                        537   \n",
       "% Deli. Qty to Traded Qty               544                        537   \n",
       "Spread H-L                                0                          0   \n",
       "Spread C-O                                0                          0   \n",
       "StockName                                 0                          0   \n",
       "code                                      0                          0   \n",
       "isStock                                   0                          0   \n",
       "Index                                     0                          0   \n",
       "\n",
       "                           TATA STEEL LTD.   JSW STEEL LTD.   \\\n",
       "Open                                      0                0   \n",
       "High                                      0                0   \n",
       "Low                                       0                0   \n",
       "Close                                     0                0   \n",
       "WAP                                       0                0   \n",
       "No. of Shares                             0                0   \n",
       "No. of Trades                             0                0   \n",
       "Total Turnover                            0                0   \n",
       "Deliverable Quantity                    545              580   \n",
       "% Deli. Qty to Traded Qty               545              580   \n",
       "Spread H-L                                0                0   \n",
       "Spread C-O                                0                0   \n",
       "StockName                                 0                0   \n",
       "code                                      0                0   \n",
       "isStock                                   0                0   \n",
       "Index                                     0                0   \n",
       "\n",
       "                           HINDALCO INDUSTRIES LTD.   BAJAJ AUTO LTD.   \\\n",
       "Open                                               0                 0   \n",
       "High                                               0                 0   \n",
       "Low                                                0                 0   \n",
       "Close                                              0                 0   \n",
       "WAP                                                0                 0   \n",
       "No. of Shares                                      0                 0   \n",
       "No. of Trades                                      0                 0   \n",
       "Total Turnover                                     0                 0   \n",
       "Deliverable Quantity                             555                 1   \n",
       "% Deli. Qty to Traded Qty                        555                 1   \n",
       "Spread H-L                                         0                 0   \n",
       "Spread C-O                                         0                 0   \n",
       "StockName                                          0                 0   \n",
       "code                                               0                 0   \n",
       "isStock                                            0                 0   \n",
       "Index                                              0                 0   \n",
       "\n",
       "                           TATA MOTORS LTD.   MARUTI SUZUKI INDIA LTD.   \\\n",
       "Open                                       0                          0   \n",
       "High                                       0                          0   \n",
       "Low                                        0                          0   \n",
       "Close                                      0                          0   \n",
       "WAP                                        0                          0   \n",
       "No. of Shares                              0                          0   \n",
       "No. of Trades                              0                          0   \n",
       "Total Turnover                             0                          0   \n",
       "Deliverable Quantity                     542                         81   \n",
       "% Deli. Qty to Traded Qty                542                         81   \n",
       "Spread H-L                                 0                          0   \n",
       "Spread C-O                                 0                          0   \n",
       "StockName                                  0                          0   \n",
       "code                                       0                          0   \n",
       "isStock                                    0                          0   \n",
       "Index                                      0                          0   \n",
       "\n",
       "                           INFOSYS LTD.   TATA CONSULTANCY SERVICES LTD.   \\\n",
       "Open                                   0                                0   \n",
       "High                                   0                                0   \n",
       "Low                                    0                                0   \n",
       "Close                                  0                                0   \n",
       "WAP                                    0                                0   \n",
       "No. of Shares                          0                                0   \n",
       "No. of Trades                          0                                0   \n",
       "Total Turnover                         0                                0   \n",
       "Deliverable Quantity                 539                                2   \n",
       "% Deli. Qty to Traded Qty            539                                2   \n",
       "Spread H-L                             0                                0   \n",
       "Spread C-O                             0                                0   \n",
       "StockName                              0                                0   \n",
       "code                                   0                                0   \n",
       "isStock                                0                                0   \n",
       "Index                                  0                                0   \n",
       "\n",
       "                           WIPRO LTD.   BSE Healthcare  \\\n",
       "Open                                 0            3810   \n",
       "High                                 0            3810   \n",
       "Low                                  0            3810   \n",
       "Close                                0               0   \n",
       "WAP                                  0            5282   \n",
       "No. of Shares                        0            5282   \n",
       "No. of Trades                        0            5282   \n",
       "Total Turnover                       0            5282   \n",
       "Deliverable Quantity               538            5282   \n",
       "% Deli. Qty to Traded Qty          538            5282   \n",
       "Spread H-L                           0            5282   \n",
       "Spread C-O                           0            5282   \n",
       "StockName                            0               0   \n",
       "code                                 0               0   \n",
       "isStock                              0               0   \n",
       "Index                                0            5282   \n",
       "\n",
       "                           BSE Information Technology  BSE BANKEX  BSE METAL  \\\n",
       "Open                                             3810         369       1165   \n",
       "High                                             3810         369       1165   \n",
       "Low                                              3810         369       1165   \n",
       "Close                                               0           0          0   \n",
       "WAP                                              5282        4784       5282   \n",
       "No. of Shares                                    5282        4784       5282   \n",
       "No. of Trades                                    5282        4784       5282   \n",
       "Total Turnover                                   5282        4784       5282   \n",
       "Deliverable Quantity                             5282        4784       5282   \n",
       "% Deli. Qty to Traded Qty                        5282        4784       5282   \n",
       "Spread H-L                                       5282        4784       5282   \n",
       "Spread C-O                                       5282        4784       5282   \n",
       "StockName                                           0           0          0   \n",
       "code                                                0           0          0   \n",
       "isStock                                             0           0          0   \n",
       "Index                                            5282        4784       5282   \n",
       "\n",
       "                           BSE AUTO  BSE SENSEX  \n",
       "Open                           1165           0  \n",
       "High                           1165           0  \n",
       "Low                            1165           0  \n",
       "Close                             0           0  \n",
       "WAP                            5282        5282  \n",
       "No. of Shares                  5282        5282  \n",
       "No. of Trades                  5282        5282  \n",
       "Total Turnover                 5282        5282  \n",
       "Deliverable Quantity           5282        5282  \n",
       "% Deli. Qty to Traded Qty      5282        5282  \n",
       "Spread H-L                     5282        5282  \n",
       "Spread C-O                     5282        5282  \n",
       "StockName                         0           0  \n",
       "code                              0           0  \n",
       "isStock                           0           0  \n",
       "Index                          5282        5282  "
      ]
     },
     "execution_count": 27,
     "metadata": {},
     "output_type": "execute_result"
    }
   ],
   "source": [
    "getNullValuesForSetOfStocks()"
   ]
  },
  {
   "cell_type": "markdown",
   "metadata": {
    "id": "wS7xJCpYsQDb"
   },
   "source": [
    "# Deriving Technical indicators "
   ]
  },
  {
   "cell_type": "markdown",
   "metadata": {
    "id": "BeXEUPXssQDc"
   },
   "source": [
    "### MACD"
   ]
  },
  {
   "cell_type": "code",
   "execution_count": 28,
   "metadata": {
    "id": "x7DcBo7EsQDd"
   },
   "outputs": [],
   "source": [
    "# function to create data MACD signal and data. \n",
    "def MACD(df, span1 = 12, span2= 26, span3 = 9):\n",
    "    stockData = df.copy()\n",
    "    stockData['FastAverage'] = stockData['Close'].ewm(span = span1, min_periods = span1).mean()\n",
    "    stockData['SlowAverage'] = stockData['Close'].ewm(span = span2, min_periods = span2).mean()\n",
    "    stockData['MACD'] = stockData['FastAverage'] - stockData['SlowAverage']\n",
    "    stockData['Signal'] = stockData['MACD'].ewm(span=span3, min_periods = span3).mean()\n",
    "    return stockData[MACDColumns]"
   ]
  },
  {
   "cell_type": "code",
   "execution_count": 29,
   "metadata": {
    "id": "rla3QZ1OsQDe"
   },
   "outputs": [],
   "source": [
    "# create stock code based dataframes with MACD signal\n",
    "for symbol in allSymbols:\n",
    "    macd = MACD(ScriptWiseData[symbol])\n",
    "    ScriptWiseData[symbol] = ScriptWiseData[symbol].merge(macd, left_index=True, right_index = True, how='left')"
   ]
  },
  {
   "cell_type": "markdown",
   "metadata": {
    "id": "oxHhE-MksQDf"
   },
   "source": [
    "### RSI - Relative Strength Index"
   ]
  },
  {
   "cell_type": "code",
   "execution_count": 30,
   "metadata": {
    "id": "cmuud8ZUsQDg"
   },
   "outputs": [],
   "source": [
    "# Calculating RSI without using loop\n",
    "def RSI(DF, n=14):\n",
    "    df =  DF.copy()\n",
    "    \"function to calculate RSI\"\n",
    "    delta = df['Close'].diff().dropna()\n",
    "    u = delta * 0\n",
    "    d = u.copy()\n",
    "    u[delta > 0] = delta[delta > 0]\n",
    "    d[delta < 0] = -delta[delta < 0]\n",
    "    u[u.index[n-1]] = np.mean( u[:n]) # first value is average of gains\n",
    "    u = u.drop(u.index[:(n-1)])\n",
    "    d[d.index[n-1]] = np.mean( d[:n]) # first value is average of losses\n",
    "    d = d.drop(d.index[:(n-1)])\n",
    "    rs = u.ewm(com=n,min_periods=n).mean()/d.ewm(com=n,min_periods=n).mean()\n",
    "    rsi = 100 - 100 / (1+rs);\n",
    "    return pd.DataFrame(rs).rename(columns={'Close':'RSI'})"
   ]
  },
  {
   "cell_type": "code",
   "execution_count": 31,
   "metadata": {
    "id": "lfsj0KTqsQDh"
   },
   "outputs": [],
   "source": [
    "#RSI \n",
    "for symbol in allSymbols:   \n",
    "    rsi = RSI(data.loc[data.code==symbol])\n",
    "    ScriptWiseData[symbol] = ScriptWiseData[symbol].merge(rsi, left_index=True, right_index = True, how='left')"
   ]
  },
  {
   "cell_type": "markdown",
   "metadata": {
    "id": "pIDupQCqsQDi"
   },
   "source": [
    "### ATR"
   ]
  },
  {
   "cell_type": "code",
   "execution_count": 32,
   "metadata": {
    "id": "yVvCDFDksQDi"
   },
   "outputs": [],
   "source": [
    "def ATR(DF,n=20):\n",
    "    \"function to calculate True Range and Average True Range\"\n",
    "    df = DF.copy()\n",
    "    df['H-L']=abs(df['High']-df['Low'])\n",
    "    df['H-PC']=abs(df['High']-df['Close'].shift(1))\n",
    "    df['L-PC']=abs(df['Low']-df['Close'].shift(1))\n",
    "    df['TR']=df[['H-L','H-PC','L-PC']].max(axis=1,skipna=False)\n",
    "    df['ATR'] = df['TR'].rolling(n).mean()\n",
    "    #df['ATR'] = df['TR'].ewm(span=n,adjust=False,min_periods=n).mean()\n",
    "    df2 = df.drop(['H-L','H-PC','L-PC'],axis=1)\n",
    "    return df2[ATRColumns]"
   ]
  },
  {
   "cell_type": "code",
   "execution_count": 33,
   "metadata": {
    "id": "alg3wk9VsQDj"
   },
   "outputs": [],
   "source": [
    "#ATR \n",
    "for symbol in allSymbols:\n",
    "    ScriptWiseData[symbol][ATRColumns] = ATR(data.loc[data.code==symbol])"
   ]
  },
  {
   "cell_type": "markdown",
   "metadata": {
    "id": "IptUjX_NsQDk"
   },
   "source": [
    "### Bollinger band"
   ]
  },
  {
   "cell_type": "code",
   "execution_count": 34,
   "metadata": {
    "id": "_hYgVp8IsQDl"
   },
   "outputs": [],
   "source": [
    "def BollBnd(DF,n=14):\n",
    "    \"function to calculate Bollinger Band\"\n",
    "    df = DF.copy()\n",
    "    df[\"MA\"] = df['Close'].rolling(n).mean()\n",
    "    df[\"BB_up\"] = df[\"MA\"] + 2*df['Close'].rolling(n).std(ddof=0) #ddof=0 is required since we want to take the standard deviation of the population and not sample\n",
    "    df[\"BB_dn\"] = df[\"MA\"] - 2*df['Close'].rolling(n).std(ddof=0) #ddof=0 is required since we want to take the standard deviation of the population and not sample\n",
    "    df[\"BB_width\"] = df[\"BB_up\"] - df[\"BB_dn\"]\n",
    "#     df.dropna(inplace=True)\n",
    "    return df[BollBandColumns]"
   ]
  },
  {
   "cell_type": "code",
   "execution_count": 35,
   "metadata": {
    "id": "gN_LnFmjsQDm"
   },
   "outputs": [],
   "source": [
    "#Boll band\n",
    "for symbol in allSymbols:\n",
    "    ScriptWiseData[symbol][BollBandColumns] = BollBnd(data.loc[data.code==symbol])"
   ]
  },
  {
   "cell_type": "markdown",
   "metadata": {
    "id": "ZUjrrGn1sQDn"
   },
   "source": [
    "### OBV"
   ]
  },
  {
   "cell_type": "code",
   "execution_count": 36,
   "metadata": {
    "id": "EwEDHhj5sQDo"
   },
   "outputs": [],
   "source": [
    "def OBV(DF):\n",
    "    \"\"\"function to calculate On Balance Volume\"\"\"\n",
    "    df = DF.copy()\n",
    "    df['daily_ret'] = df['Close'].pct_change()\n",
    "    df['direction'] = np.where(df['daily_ret']>=0,1,-1)\n",
    "    df['direction'][0] = 0\n",
    "    df['vol_adj'] = df['No. of Shares'] * df['direction']\n",
    "    df['obv'] = df['vol_adj'].cumsum()\n",
    "    return df['obv']"
   ]
  },
  {
   "cell_type": "code",
   "execution_count": 37,
   "metadata": {
    "id": "UwKjZo76sQDo"
   },
   "outputs": [],
   "source": [
    "#OBV\n",
    "for symbol in allSymbols:\n",
    "    ScriptWiseData[symbol]['OBV'] = OBV(data.loc[data.code==symbol])"
   ]
  },
  {
   "cell_type": "markdown",
   "metadata": {
    "id": "9Uo5tUeZsQDp"
   },
   "source": [
    "### ADX"
   ]
  },
  {
   "cell_type": "code",
   "execution_count": 38,
   "metadata": {
    "id": "LWkDvc8qsQDq"
   },
   "outputs": [],
   "source": [
    "from ta.trend import ADXIndicator\n",
    "def ADX(DF):\n",
    "    df = DF.copy()\n",
    "    adxI = ADXIndicator(df['High'],df['Low'],df['Close'],14,False)\n",
    "    df['pos_directional_indicator'] = adxI.adx_pos()\n",
    "    df['neg_directional_indicator'] = adxI.adx_neg()\n",
    "    df['adx'] = adxI.adx()\n",
    "    return df[ADXColumns]"
   ]
  },
  {
   "cell_type": "code",
   "execution_count": 39,
   "metadata": {
    "id": "4VEZNHkqsQDq"
   },
   "outputs": [],
   "source": [
    "# ADX\n",
    "for symbol in allSymbols:\n",
    "    ScriptWiseData[symbol][ADXColumns] = ADX(data.loc[data.code==symbol])"
   ]
  },
  {
   "cell_type": "markdown",
   "metadata": {
    "id": "ngJ2AiInsQDr"
   },
   "source": [
    "# Removing Extra Columms"
   ]
  },
  {
   "cell_type": "code",
   "execution_count": 40,
   "metadata": {
    "id": "uZPSKO_esQDs"
   },
   "outputs": [],
   "source": [
    "OriginalScriptWiseData = ScriptWiseData\n",
    "for symbol in allSymbols:\n",
    "    ScriptWiseData[symbol] = ScriptWiseData[symbol][['Close']+TechnicalIndicators]"
   ]
  },
  {
   "cell_type": "markdown",
   "metadata": {
    "id": "QHqbBLRXsQDt"
   },
   "source": [
    "## Dropping null values"
   ]
  },
  {
   "cell_type": "code",
   "execution_count": 41,
   "metadata": {
    "id": "h4fJKoGisQDt"
   },
   "outputs": [],
   "source": [
    "# drop rows from the stock whose technical indicator values are null. \n",
    "for stock in stocks:\n",
    "#     ScriptWiseData[stock] = ScriptWiseData[stock].dropna(subset=AllIndicatorColumns)\n",
    "    ScriptWiseData[stock] = ScriptWiseData[stock].dropna()    "
   ]
  },
  {
   "cell_type": "code",
   "execution_count": 42,
   "metadata": {
    "colab": {
     "base_uri": "https://localhost:8080/",
     "height": 0
    },
    "id": "CB0M7yErsQDu",
    "outputId": "5c13b878-0c22-4ec4-b5bf-cd4e50410ebd"
   },
   "outputs": [
    {
     "data": {
      "text/html": [
       "<div>\n",
       "<style scoped>\n",
       "    .dataframe tbody tr th:only-of-type {\n",
       "        vertical-align: middle;\n",
       "    }\n",
       "\n",
       "    .dataframe tbody tr th {\n",
       "        vertical-align: top;\n",
       "    }\n",
       "\n",
       "    .dataframe thead th {\n",
       "        text-align: right;\n",
       "    }\n",
       "</style>\n",
       "<table border=\"1\" class=\"dataframe\">\n",
       "  <thead>\n",
       "    <tr style=\"text-align: right;\">\n",
       "      <th></th>\n",
       "      <th>SUN PHARMACEUTICAL INDUSTRIES LTD.</th>\n",
       "      <th>DIVI'S LABORATORIES LTD.</th>\n",
       "      <th>DR.REDDY'S LABORATORIES LTD.</th>\n",
       "      <th>HDFC Bank Ltd</th>\n",
       "      <th>ICICI BANK LTD.</th>\n",
       "      <th>KOTAK MAHINDRA BANK LTD.</th>\n",
       "      <th>TATA STEEL LTD.</th>\n",
       "      <th>JSW STEEL LTD.</th>\n",
       "      <th>HINDALCO INDUSTRIES LTD.</th>\n",
       "      <th>BAJAJ AUTO LTD.</th>\n",
       "      <th>TATA MOTORS LTD.</th>\n",
       "      <th>MARUTI SUZUKI INDIA LTD.</th>\n",
       "      <th>INFOSYS LTD.</th>\n",
       "      <th>TATA CONSULTANCY SERVICES LTD.</th>\n",
       "      <th>WIPRO LTD.</th>\n",
       "      <th>BSE Healthcare</th>\n",
       "      <th>BSE Information Technology</th>\n",
       "      <th>BSE BANKEX</th>\n",
       "      <th>BSE METAL</th>\n",
       "      <th>BSE AUTO</th>\n",
       "      <th>BSE SENSEX</th>\n",
       "    </tr>\n",
       "  </thead>\n",
       "  <tbody>\n",
       "    <tr>\n",
       "      <th>Close</th>\n",
       "      <td>0</td>\n",
       "      <td>0</td>\n",
       "      <td>0</td>\n",
       "      <td>0</td>\n",
       "      <td>0</td>\n",
       "      <td>0</td>\n",
       "      <td>0</td>\n",
       "      <td>0</td>\n",
       "      <td>0</td>\n",
       "      <td>0</td>\n",
       "      <td>0</td>\n",
       "      <td>0</td>\n",
       "      <td>0</td>\n",
       "      <td>0</td>\n",
       "      <td>0</td>\n",
       "      <td>0</td>\n",
       "      <td>0</td>\n",
       "      <td>0</td>\n",
       "      <td>0</td>\n",
       "      <td>0</td>\n",
       "      <td>0</td>\n",
       "    </tr>\n",
       "    <tr>\n",
       "      <th>RSI</th>\n",
       "      <td>0</td>\n",
       "      <td>0</td>\n",
       "      <td>0</td>\n",
       "      <td>0</td>\n",
       "      <td>0</td>\n",
       "      <td>0</td>\n",
       "      <td>0</td>\n",
       "      <td>0</td>\n",
       "      <td>0</td>\n",
       "      <td>0</td>\n",
       "      <td>0</td>\n",
       "      <td>0</td>\n",
       "      <td>0</td>\n",
       "      <td>0</td>\n",
       "      <td>0</td>\n",
       "      <td>27</td>\n",
       "      <td>27</td>\n",
       "      <td>27</td>\n",
       "      <td>27</td>\n",
       "      <td>27</td>\n",
       "      <td>27</td>\n",
       "    </tr>\n",
       "    <tr>\n",
       "      <th>ATR</th>\n",
       "      <td>0</td>\n",
       "      <td>0</td>\n",
       "      <td>0</td>\n",
       "      <td>0</td>\n",
       "      <td>0</td>\n",
       "      <td>0</td>\n",
       "      <td>0</td>\n",
       "      <td>0</td>\n",
       "      <td>0</td>\n",
       "      <td>0</td>\n",
       "      <td>0</td>\n",
       "      <td>0</td>\n",
       "      <td>0</td>\n",
       "      <td>0</td>\n",
       "      <td>0</td>\n",
       "      <td>3829</td>\n",
       "      <td>3829</td>\n",
       "      <td>388</td>\n",
       "      <td>1184</td>\n",
       "      <td>1184</td>\n",
       "      <td>20</td>\n",
       "    </tr>\n",
       "    <tr>\n",
       "      <th>MACD</th>\n",
       "      <td>0</td>\n",
       "      <td>0</td>\n",
       "      <td>0</td>\n",
       "      <td>0</td>\n",
       "      <td>0</td>\n",
       "      <td>0</td>\n",
       "      <td>0</td>\n",
       "      <td>0</td>\n",
       "      <td>0</td>\n",
       "      <td>0</td>\n",
       "      <td>0</td>\n",
       "      <td>0</td>\n",
       "      <td>0</td>\n",
       "      <td>0</td>\n",
       "      <td>0</td>\n",
       "      <td>25</td>\n",
       "      <td>25</td>\n",
       "      <td>25</td>\n",
       "      <td>25</td>\n",
       "      <td>25</td>\n",
       "      <td>25</td>\n",
       "    </tr>\n",
       "    <tr>\n",
       "      <th>adx</th>\n",
       "      <td>0</td>\n",
       "      <td>0</td>\n",
       "      <td>0</td>\n",
       "      <td>0</td>\n",
       "      <td>0</td>\n",
       "      <td>0</td>\n",
       "      <td>0</td>\n",
       "      <td>0</td>\n",
       "      <td>0</td>\n",
       "      <td>0</td>\n",
       "      <td>0</td>\n",
       "      <td>0</td>\n",
       "      <td>0</td>\n",
       "      <td>0</td>\n",
       "      <td>0</td>\n",
       "      <td>5255</td>\n",
       "      <td>5255</td>\n",
       "      <td>4757</td>\n",
       "      <td>5255</td>\n",
       "      <td>5255</td>\n",
       "      <td>0</td>\n",
       "    </tr>\n",
       "    <tr>\n",
       "      <th>OBV</th>\n",
       "      <td>0</td>\n",
       "      <td>0</td>\n",
       "      <td>0</td>\n",
       "      <td>0</td>\n",
       "      <td>0</td>\n",
       "      <td>0</td>\n",
       "      <td>0</td>\n",
       "      <td>0</td>\n",
       "      <td>0</td>\n",
       "      <td>0</td>\n",
       "      <td>0</td>\n",
       "      <td>0</td>\n",
       "      <td>0</td>\n",
       "      <td>0</td>\n",
       "      <td>0</td>\n",
       "      <td>5282</td>\n",
       "      <td>5282</td>\n",
       "      <td>4784</td>\n",
       "      <td>5282</td>\n",
       "      <td>5282</td>\n",
       "      <td>5282</td>\n",
       "    </tr>\n",
       "  </tbody>\n",
       "</table>\n",
       "</div>"
      ],
      "text/plain": [
       "       SUN PHARMACEUTICAL INDUSTRIES LTD.   DIVI'S LABORATORIES LTD.   \\\n",
       "Close                                    0                          0   \n",
       "RSI                                      0                          0   \n",
       "ATR                                      0                          0   \n",
       "MACD                                     0                          0   \n",
       "adx                                      0                          0   \n",
       "OBV                                      0                          0   \n",
       "\n",
       "       DR.REDDY'S LABORATORIES LTD.   HDFC Bank Ltd   ICICI BANK LTD.   \\\n",
       "Close                              0               0                 0   \n",
       "RSI                                0               0                 0   \n",
       "ATR                                0               0                 0   \n",
       "MACD                               0               0                 0   \n",
       "adx                                0               0                 0   \n",
       "OBV                                0               0                 0   \n",
       "\n",
       "       KOTAK MAHINDRA BANK LTD.   TATA STEEL LTD.   JSW STEEL LTD.   \\\n",
       "Close                          0                 0                0   \n",
       "RSI                            0                 0                0   \n",
       "ATR                            0                 0                0   \n",
       "MACD                           0                 0                0   \n",
       "adx                            0                 0                0   \n",
       "OBV                            0                 0                0   \n",
       "\n",
       "       HINDALCO INDUSTRIES LTD.   BAJAJ AUTO LTD.   TATA MOTORS LTD.   \\\n",
       "Close                          0                 0                  0   \n",
       "RSI                            0                 0                  0   \n",
       "ATR                            0                 0                  0   \n",
       "MACD                           0                 0                  0   \n",
       "adx                            0                 0                  0   \n",
       "OBV                            0                 0                  0   \n",
       "\n",
       "       MARUTI SUZUKI INDIA LTD.   INFOSYS LTD.   \\\n",
       "Close                          0              0   \n",
       "RSI                            0              0   \n",
       "ATR                            0              0   \n",
       "MACD                           0              0   \n",
       "adx                            0              0   \n",
       "OBV                            0              0   \n",
       "\n",
       "       TATA CONSULTANCY SERVICES LTD.   WIPRO LTD.   BSE Healthcare  \\\n",
       "Close                                0            0               0   \n",
       "RSI                                  0            0              27   \n",
       "ATR                                  0            0            3829   \n",
       "MACD                                 0            0              25   \n",
       "adx                                  0            0            5255   \n",
       "OBV                                  0            0            5282   \n",
       "\n",
       "       BSE Information Technology  BSE BANKEX  BSE METAL  BSE AUTO  BSE SENSEX  \n",
       "Close                           0           0          0         0           0  \n",
       "RSI                            27          27         27        27          27  \n",
       "ATR                          3829         388       1184      1184          20  \n",
       "MACD                           25          25         25        25          25  \n",
       "adx                          5255        4757       5255      5255           0  \n",
       "OBV                          5282        4784       5282      5282        5282  "
      ]
     },
     "execution_count": 42,
     "metadata": {},
     "output_type": "execute_result"
    }
   ],
   "source": [
    "# ScriptWiseData['BOM500180'][ScriptWiseData['BOM500180']['MACD'].isna()]\n",
    "getNullValuesForSetOfStocks()"
   ]
  },
  {
   "cell_type": "markdown",
   "metadata": {
    "id": "g-dEHWHqsQDv"
   },
   "source": [
    "# ADF Test for closing price"
   ]
  },
  {
   "cell_type": "code",
   "execution_count": 43,
   "metadata": {
    "colab": {
     "base_uri": "https://localhost:8080/",
     "height": 311
    },
    "id": "PsBFTlvAsQDw",
    "outputId": "fcbc0c98-602b-44b6-c521-7201c579525b"
   },
   "outputs": [
    {
     "data": {
      "text/html": [
       "<div>\n",
       "<style scoped>\n",
       "    .dataframe tbody tr th:only-of-type {\n",
       "        vertical-align: middle;\n",
       "    }\n",
       "\n",
       "    .dataframe tbody tr th {\n",
       "        vertical-align: top;\n",
       "    }\n",
       "\n",
       "    .dataframe thead th {\n",
       "        text-align: right;\n",
       "    }\n",
       "</style>\n",
       "<table border=\"1\" class=\"dataframe\">\n",
       "  <thead>\n",
       "    <tr style=\"text-align: right;\">\n",
       "      <th></th>\n",
       "      <th></th>\n",
       "      <th>ADF test statistic</th>\n",
       "      <th>p-value</th>\n",
       "      <th># lags used</th>\n",
       "      <th>#observations</th>\n",
       "      <th>critical value (1%)</th>\n",
       "      <th>critical value (5%)</th>\n",
       "      <th>critical value (10%)</th>\n",
       "      <th>Result</th>\n",
       "    </tr>\n",
       "    <tr>\n",
       "      <th>Stock Name</th>\n",
       "      <th>Stock Code</th>\n",
       "      <th></th>\n",
       "      <th></th>\n",
       "      <th></th>\n",
       "      <th></th>\n",
       "      <th></th>\n",
       "      <th></th>\n",
       "      <th></th>\n",
       "      <th></th>\n",
       "    </tr>\n",
       "  </thead>\n",
       "  <tbody>\n",
       "    <tr>\n",
       "      <th>SUN PHARMACEUTICAL INDUSTRIES LTD.</th>\n",
       "      <th>BOM524715</th>\n",
       "      <td>-5.025755</td>\n",
       "      <td>0.00002</td>\n",
       "      <td>0.0</td>\n",
       "      <td>5253.0</td>\n",
       "      <td>-3.431595</td>\n",
       "      <td>-2.86209</td>\n",
       "      <td>-2.567063</td>\n",
       "      <td>Stationary</td>\n",
       "    </tr>\n",
       "    <tr>\n",
       "      <th>DIVI'S LABORATORIES LTD.</th>\n",
       "      <th>BOM532488</th>\n",
       "      <td>-3.571373</td>\n",
       "      <td>0.006333</td>\n",
       "      <td>32.0</td>\n",
       "      <td>4424.0</td>\n",
       "      <td>-3.431829</td>\n",
       "      <td>-2.862194</td>\n",
       "      <td>-2.567118</td>\n",
       "      <td>Stationary</td>\n",
       "    </tr>\n",
       "    <tr>\n",
       "      <th>DR.REDDY'S LABORATORIES LTD.</th>\n",
       "      <th>BOM500124</th>\n",
       "      <td>-0.081726</td>\n",
       "      <td>0.951229</td>\n",
       "      <td>28.0</td>\n",
       "      <td>5226.0</td>\n",
       "      <td>-3.431602</td>\n",
       "      <td>-2.862093</td>\n",
       "      <td>-2.567064</td>\n",
       "      <td>Non-Stationary</td>\n",
       "    </tr>\n",
       "    <tr>\n",
       "      <th>HDFC Bank Ltd</th>\n",
       "      <th>BOM500180</th>\n",
       "      <td>-2.223959</td>\n",
       "      <td>0.197665</td>\n",
       "      <td>0.0</td>\n",
       "      <td>5254.0</td>\n",
       "      <td>-3.431595</td>\n",
       "      <td>-2.86209</td>\n",
       "      <td>-2.567063</td>\n",
       "      <td>Non-Stationary</td>\n",
       "    </tr>\n",
       "    <tr>\n",
       "      <th>ICICI BANK LTD.</th>\n",
       "      <th>BOM532174</th>\n",
       "      <td>-2.658944</td>\n",
       "      <td>0.081416</td>\n",
       "      <td>1.0</td>\n",
       "      <td>5252.0</td>\n",
       "      <td>-3.431596</td>\n",
       "      <td>-2.86209</td>\n",
       "      <td>-2.567063</td>\n",
       "      <td>Non-Stationary</td>\n",
       "    </tr>\n",
       "  </tbody>\n",
       "</table>\n",
       "</div>"
      ],
      "text/plain": [
       "                                               ADF test statistic   p-value  \\\n",
       "Stock Name                          Stock Code                                \n",
       "SUN PHARMACEUTICAL INDUSTRIES LTD.  BOM524715           -5.025755   0.00002   \n",
       "DIVI'S LABORATORIES LTD.            BOM532488           -3.571373  0.006333   \n",
       "DR.REDDY'S LABORATORIES LTD.        BOM500124           -0.081726  0.951229   \n",
       "HDFC Bank Ltd                       BOM500180           -2.223959  0.197665   \n",
       "ICICI BANK LTD.                     BOM532174           -2.658944  0.081416   \n",
       "\n",
       "                                               # lags used #observations  \\\n",
       "Stock Name                          Stock Code                             \n",
       "SUN PHARMACEUTICAL INDUSTRIES LTD.  BOM524715          0.0        5253.0   \n",
       "DIVI'S LABORATORIES LTD.            BOM532488         32.0        4424.0   \n",
       "DR.REDDY'S LABORATORIES LTD.        BOM500124         28.0        5226.0   \n",
       "HDFC Bank Ltd                       BOM500180          0.0        5254.0   \n",
       "ICICI BANK LTD.                     BOM532174          1.0        5252.0   \n",
       "\n",
       "                                               critical value (1%)  \\\n",
       "Stock Name                          Stock Code                       \n",
       "SUN PHARMACEUTICAL INDUSTRIES LTD.  BOM524715            -3.431595   \n",
       "DIVI'S LABORATORIES LTD.            BOM532488            -3.431829   \n",
       "DR.REDDY'S LABORATORIES LTD.        BOM500124            -3.431602   \n",
       "HDFC Bank Ltd                       BOM500180            -3.431595   \n",
       "ICICI BANK LTD.                     BOM532174            -3.431596   \n",
       "\n",
       "                                               critical value (5%)  \\\n",
       "Stock Name                          Stock Code                       \n",
       "SUN PHARMACEUTICAL INDUSTRIES LTD.  BOM524715             -2.86209   \n",
       "DIVI'S LABORATORIES LTD.            BOM532488            -2.862194   \n",
       "DR.REDDY'S LABORATORIES LTD.        BOM500124            -2.862093   \n",
       "HDFC Bank Ltd                       BOM500180             -2.86209   \n",
       "ICICI BANK LTD.                     BOM532174             -2.86209   \n",
       "\n",
       "                                               critical value (10%)  \\\n",
       "Stock Name                          Stock Code                        \n",
       "SUN PHARMACEUTICAL INDUSTRIES LTD.  BOM524715             -2.567063   \n",
       "DIVI'S LABORATORIES LTD.            BOM532488             -2.567118   \n",
       "DR.REDDY'S LABORATORIES LTD.        BOM500124             -2.567064   \n",
       "HDFC Bank Ltd                       BOM500180             -2.567063   \n",
       "ICICI BANK LTD.                     BOM532174             -2.567063   \n",
       "\n",
       "                                                        Result  \n",
       "Stock Name                          Stock Code                  \n",
       "SUN PHARMACEUTICAL INDUSTRIES LTD.  BOM524715       Stationary  \n",
       "DIVI'S LABORATORIES LTD.            BOM532488       Stationary  \n",
       "DR.REDDY'S LABORATORIES LTD.        BOM500124   Non-Stationary  \n",
       "HDFC Bank Ltd                       BOM500180   Non-Stationary  \n",
       "ICICI BANK LTD.                     BOM532174   Non-Stationary  "
      ]
     },
     "execution_count": 43,
     "metadata": {},
     "output_type": "execute_result"
    }
   ],
   "source": [
    "stock = stocks[0]\n",
    "adf_testResult = pd.DataFrame(adf_test(ScriptWiseData[stocks[0]].Close, stocks[0])[0], columns = ['Value']).transpose().set_index(['Stock Name', 'Stock Code'])\n",
    "for i in range(1, len(stocks)):\n",
    "    res = pd.DataFrame(adf_test(ScriptWiseData[stocks[i]].Close, stocks[i])[0], columns = ['Value']).transpose().set_index(['Stock Name', 'Stock Code'])\n",
    "    adf_testResult = adf_testResult.append(res)\n",
    "adf_testResult['Result'] = adf_testResult['p-value'].apply(lambda x: 'Stationary' if x<0.05 else 'Non-Stationary')\n",
    "# adf_testResult.to_csv('Outputs/adfTest.csv')\n",
    "adf_testResult.head()"
   ]
  },
  {
   "cell_type": "markdown",
   "metadata": {
    "id": "ZuatJ5wSsQD0"
   },
   "source": [
    "# Train test and validation split"
   ]
  },
  {
   "cell_type": "code",
   "execution_count": 44,
   "metadata": {
    "id": "PPmizeP1sQD1"
   },
   "outputs": [],
   "source": [
    "def TrainTestSplitByDateRange(df,test_start_date = '2020-03-02',test_end_date = '2021-03-23'):\n",
    "    train = df.loc[:test_start_date]\n",
    "    test = df.loc[test_start_date:test_end_date]\n",
    "    return train, test[1:]"
   ]
  },
  {
   "cell_type": "markdown",
   "metadata": {
    "id": "mkBI8VemuxzA"
   },
   "source": [
    "#ARIMA for Closing Values "
   ]
  },
  {
   "cell_type": "markdown",
   "metadata": {
    "id": "Brhnpl1lsQD_"
   },
   "source": [
    "### AutoARIMA DataFrame\n"
   ]
  },
  {
   "cell_type": "code",
   "execution_count": 45,
   "metadata": {
    "id": "6WlVwmInOc_h"
   },
   "outputs": [],
   "source": [
    "from statsmodels.tsa.arima_model import ARIMA\n",
    "from pmdarima.arima import auto_arima"
   ]
  },
  {
   "cell_type": "code",
   "execution_count": 46,
   "metadata": {
    "id": "yuHk6Cx2sQEA"
   },
   "outputs": [],
   "source": [
    "AutoArimaResults = pd.DataFrame(columns=['p Closing Values', 'd Closing Values', 'q Closing Values','p N Closing Values', 'd N Closing Values', 'q N Closing Values','p Closing Percentage', 'd Closing Percentage', 'q Closing Percentage'], index = stocks)"
   ]
  },
  {
   "cell_type": "code",
   "execution_count": 47,
   "metadata": {
    "id": "XpG-7ntKsQEB"
   },
   "outputs": [],
   "source": [
    "def CalculateAutoArima(stockcode, data, parameter ,p ,d,q):\n",
    "    if(AutoArimaResults.loc[:, [p, d, q]].isnull().sum(axis=1)[stockcode] > 0):\n",
    "        params = auto_arima(data[parameter], maxiter = 1000)\n",
    "        AutoArimaResults.loc[stockcode, [p,d,q]] = params.order\n",
    "        return params.order\n",
    "    else:\n",
    "        return tuple(AutoArimaResults.loc[stockcode, [p, d, q]])"
   ]
  },
  {
   "cell_type": "code",
   "execution_count": 48,
   "metadata": {
    "id": "GAcre-MH7iMY"
   },
   "outputs": [
    {
     "data": {
      "text/html": [
       "<div>\n",
       "<style scoped>\n",
       "    .dataframe tbody tr th:only-of-type {\n",
       "        vertical-align: middle;\n",
       "    }\n",
       "\n",
       "    .dataframe tbody tr th {\n",
       "        vertical-align: top;\n",
       "    }\n",
       "\n",
       "    .dataframe thead th {\n",
       "        text-align: right;\n",
       "    }\n",
       "</style>\n",
       "<table border=\"1\" class=\"dataframe\">\n",
       "  <thead>\n",
       "    <tr style=\"text-align: right;\">\n",
       "      <th></th>\n",
       "      <th>p Closing Values</th>\n",
       "      <th>d Closing Values</th>\n",
       "      <th>q Closing Values</th>\n",
       "      <th>p N Closing Values</th>\n",
       "      <th>d N Closing Values</th>\n",
       "      <th>q N Closing Values</th>\n",
       "      <th>p Closing Percentage</th>\n",
       "      <th>d Closing Percentage</th>\n",
       "      <th>q Closing Percentage</th>\n",
       "    </tr>\n",
       "  </thead>\n",
       "  <tbody>\n",
       "    <tr>\n",
       "      <th>BOM524715</th>\n",
       "      <td>NaN</td>\n",
       "      <td>NaN</td>\n",
       "      <td>NaN</td>\n",
       "      <td>NaN</td>\n",
       "      <td>NaN</td>\n",
       "      <td>NaN</td>\n",
       "      <td>NaN</td>\n",
       "      <td>NaN</td>\n",
       "      <td>NaN</td>\n",
       "    </tr>\n",
       "    <tr>\n",
       "      <th>BOM532488</th>\n",
       "      <td>NaN</td>\n",
       "      <td>NaN</td>\n",
       "      <td>NaN</td>\n",
       "      <td>NaN</td>\n",
       "      <td>NaN</td>\n",
       "      <td>NaN</td>\n",
       "      <td>NaN</td>\n",
       "      <td>NaN</td>\n",
       "      <td>NaN</td>\n",
       "    </tr>\n",
       "    <tr>\n",
       "      <th>BOM500124</th>\n",
       "      <td>NaN</td>\n",
       "      <td>NaN</td>\n",
       "      <td>NaN</td>\n",
       "      <td>NaN</td>\n",
       "      <td>NaN</td>\n",
       "      <td>NaN</td>\n",
       "      <td>NaN</td>\n",
       "      <td>NaN</td>\n",
       "      <td>NaN</td>\n",
       "    </tr>\n",
       "    <tr>\n",
       "      <th>BOM500180</th>\n",
       "      <td>NaN</td>\n",
       "      <td>NaN</td>\n",
       "      <td>NaN</td>\n",
       "      <td>NaN</td>\n",
       "      <td>NaN</td>\n",
       "      <td>NaN</td>\n",
       "      <td>NaN</td>\n",
       "      <td>NaN</td>\n",
       "      <td>NaN</td>\n",
       "    </tr>\n",
       "    <tr>\n",
       "      <th>BOM532174</th>\n",
       "      <td>NaN</td>\n",
       "      <td>NaN</td>\n",
       "      <td>NaN</td>\n",
       "      <td>NaN</td>\n",
       "      <td>NaN</td>\n",
       "      <td>NaN</td>\n",
       "      <td>NaN</td>\n",
       "      <td>NaN</td>\n",
       "      <td>NaN</td>\n",
       "    </tr>\n",
       "    <tr>\n",
       "      <th>BOM500247</th>\n",
       "      <td>NaN</td>\n",
       "      <td>NaN</td>\n",
       "      <td>NaN</td>\n",
       "      <td>NaN</td>\n",
       "      <td>NaN</td>\n",
       "      <td>NaN</td>\n",
       "      <td>NaN</td>\n",
       "      <td>NaN</td>\n",
       "      <td>NaN</td>\n",
       "    </tr>\n",
       "    <tr>\n",
       "      <th>BOM500470</th>\n",
       "      <td>NaN</td>\n",
       "      <td>NaN</td>\n",
       "      <td>NaN</td>\n",
       "      <td>NaN</td>\n",
       "      <td>NaN</td>\n",
       "      <td>NaN</td>\n",
       "      <td>NaN</td>\n",
       "      <td>NaN</td>\n",
       "      <td>NaN</td>\n",
       "    </tr>\n",
       "    <tr>\n",
       "      <th>BOM500228</th>\n",
       "      <td>NaN</td>\n",
       "      <td>NaN</td>\n",
       "      <td>NaN</td>\n",
       "      <td>NaN</td>\n",
       "      <td>NaN</td>\n",
       "      <td>NaN</td>\n",
       "      <td>NaN</td>\n",
       "      <td>NaN</td>\n",
       "      <td>NaN</td>\n",
       "    </tr>\n",
       "    <tr>\n",
       "      <th>BOM500440</th>\n",
       "      <td>NaN</td>\n",
       "      <td>NaN</td>\n",
       "      <td>NaN</td>\n",
       "      <td>NaN</td>\n",
       "      <td>NaN</td>\n",
       "      <td>NaN</td>\n",
       "      <td>NaN</td>\n",
       "      <td>NaN</td>\n",
       "      <td>NaN</td>\n",
       "    </tr>\n",
       "    <tr>\n",
       "      <th>BOM532977</th>\n",
       "      <td>NaN</td>\n",
       "      <td>NaN</td>\n",
       "      <td>NaN</td>\n",
       "      <td>NaN</td>\n",
       "      <td>NaN</td>\n",
       "      <td>NaN</td>\n",
       "      <td>NaN</td>\n",
       "      <td>NaN</td>\n",
       "      <td>NaN</td>\n",
       "    </tr>\n",
       "    <tr>\n",
       "      <th>BOM500570</th>\n",
       "      <td>NaN</td>\n",
       "      <td>NaN</td>\n",
       "      <td>NaN</td>\n",
       "      <td>NaN</td>\n",
       "      <td>NaN</td>\n",
       "      <td>NaN</td>\n",
       "      <td>NaN</td>\n",
       "      <td>NaN</td>\n",
       "      <td>NaN</td>\n",
       "    </tr>\n",
       "    <tr>\n",
       "      <th>BOM532500</th>\n",
       "      <td>NaN</td>\n",
       "      <td>NaN</td>\n",
       "      <td>NaN</td>\n",
       "      <td>NaN</td>\n",
       "      <td>NaN</td>\n",
       "      <td>NaN</td>\n",
       "      <td>NaN</td>\n",
       "      <td>NaN</td>\n",
       "      <td>NaN</td>\n",
       "    </tr>\n",
       "    <tr>\n",
       "      <th>BOM500209</th>\n",
       "      <td>NaN</td>\n",
       "      <td>NaN</td>\n",
       "      <td>NaN</td>\n",
       "      <td>NaN</td>\n",
       "      <td>NaN</td>\n",
       "      <td>NaN</td>\n",
       "      <td>NaN</td>\n",
       "      <td>NaN</td>\n",
       "      <td>NaN</td>\n",
       "    </tr>\n",
       "    <tr>\n",
       "      <th>BOM532540</th>\n",
       "      <td>NaN</td>\n",
       "      <td>NaN</td>\n",
       "      <td>NaN</td>\n",
       "      <td>NaN</td>\n",
       "      <td>NaN</td>\n",
       "      <td>NaN</td>\n",
       "      <td>NaN</td>\n",
       "      <td>NaN</td>\n",
       "      <td>NaN</td>\n",
       "    </tr>\n",
       "    <tr>\n",
       "      <th>BOM507685</th>\n",
       "      <td>NaN</td>\n",
       "      <td>NaN</td>\n",
       "      <td>NaN</td>\n",
       "      <td>NaN</td>\n",
       "      <td>NaN</td>\n",
       "      <td>NaN</td>\n",
       "      <td>NaN</td>\n",
       "      <td>NaN</td>\n",
       "      <td>NaN</td>\n",
       "    </tr>\n",
       "  </tbody>\n",
       "</table>\n",
       "</div>"
      ],
      "text/plain": [
       "          p Closing Values d Closing Values q Closing Values  \\\n",
       "BOM524715              NaN              NaN              NaN   \n",
       "BOM532488              NaN              NaN              NaN   \n",
       "BOM500124              NaN              NaN              NaN   \n",
       "BOM500180              NaN              NaN              NaN   \n",
       "BOM532174              NaN              NaN              NaN   \n",
       "BOM500247              NaN              NaN              NaN   \n",
       "BOM500470              NaN              NaN              NaN   \n",
       "BOM500228              NaN              NaN              NaN   \n",
       "BOM500440              NaN              NaN              NaN   \n",
       "BOM532977              NaN              NaN              NaN   \n",
       "BOM500570              NaN              NaN              NaN   \n",
       "BOM532500              NaN              NaN              NaN   \n",
       "BOM500209              NaN              NaN              NaN   \n",
       "BOM532540              NaN              NaN              NaN   \n",
       "BOM507685              NaN              NaN              NaN   \n",
       "\n",
       "          p N Closing Values d N Closing Values q N Closing Values  \\\n",
       "BOM524715                NaN                NaN                NaN   \n",
       "BOM532488                NaN                NaN                NaN   \n",
       "BOM500124                NaN                NaN                NaN   \n",
       "BOM500180                NaN                NaN                NaN   \n",
       "BOM532174                NaN                NaN                NaN   \n",
       "BOM500247                NaN                NaN                NaN   \n",
       "BOM500470                NaN                NaN                NaN   \n",
       "BOM500228                NaN                NaN                NaN   \n",
       "BOM500440                NaN                NaN                NaN   \n",
       "BOM532977                NaN                NaN                NaN   \n",
       "BOM500570                NaN                NaN                NaN   \n",
       "BOM532500                NaN                NaN                NaN   \n",
       "BOM500209                NaN                NaN                NaN   \n",
       "BOM532540                NaN                NaN                NaN   \n",
       "BOM507685                NaN                NaN                NaN   \n",
       "\n",
       "          p Closing Percentage d Closing Percentage q Closing Percentage  \n",
       "BOM524715                  NaN                  NaN                  NaN  \n",
       "BOM532488                  NaN                  NaN                  NaN  \n",
       "BOM500124                  NaN                  NaN                  NaN  \n",
       "BOM500180                  NaN                  NaN                  NaN  \n",
       "BOM532174                  NaN                  NaN                  NaN  \n",
       "BOM500247                  NaN                  NaN                  NaN  \n",
       "BOM500470                  NaN                  NaN                  NaN  \n",
       "BOM500228                  NaN                  NaN                  NaN  \n",
       "BOM500440                  NaN                  NaN                  NaN  \n",
       "BOM532977                  NaN                  NaN                  NaN  \n",
       "BOM500570                  NaN                  NaN                  NaN  \n",
       "BOM532500                  NaN                  NaN                  NaN  \n",
       "BOM500209                  NaN                  NaN                  NaN  \n",
       "BOM532540                  NaN                  NaN                  NaN  \n",
       "BOM507685                  NaN                  NaN                  NaN  "
      ]
     },
     "execution_count": 48,
     "metadata": {},
     "output_type": "execute_result"
    }
   ],
   "source": [
    "AutoArimaResults"
   ]
  },
  {
   "cell_type": "code",
   "execution_count": 49,
   "metadata": {
    "id": "bamB-yUdd_PT"
   },
   "outputs": [],
   "source": [
    "AutoArimaResults.to_csv('Outputs/AutoArimaResults.csv')"
   ]
  },
  {
   "cell_type": "markdown",
   "metadata": {
    "id": "66iBaKZFbdbj"
   },
   "source": [
    "### Common Functions"
   ]
  },
  {
   "cell_type": "code",
   "execution_count": 50,
   "metadata": {
    "id": "1CVR51sOsQED"
   },
   "outputs": [],
   "source": [
    "from statsmodels.tsa.arima_model import ARMA, ARIMA, ARMAResults, ARIMAResults\n",
    "from statsmodels.graphics.tsaplots import plot_acf, plot_pacf\n",
    "from pmdarima import auto_arima\n",
    "from statsmodels.tsa.seasonal import seasonal_decompose\n",
    "from statsmodels.tsa.statespace.tools import diff\n",
    "from statsmodels.tools.eval_measures import rmse\n"
   ]
  },
  {
   "cell_type": "code",
   "execution_count": 51,
   "metadata": {
    "id": "KLwjuKd3tzHm"
   },
   "outputs": [],
   "source": [
    "def errorEvaluation(actual, pred):\n",
    "  RMSE = str(mean_squared_error(actual, pred, squared=False))\n",
    "  MAPE = str(mean_absolute_percentage_error(actual,pred))\n",
    "  R2 = str(r2_score(actual,pred))\n",
    "  Noise = float(pred.diff().abs().mean())\n",
    "  return [RMSE, MAPE, R2, Noise]"
   ]
  },
  {
   "cell_type": "code",
   "execution_count": 52,
   "metadata": {
    "id": "tmb8wAagtzFr"
   },
   "outputs": [],
   "source": [
    "def modified_prediction_frame(_df_pred, index):\n",
    "  _df_pred = _df_pred.to_frame()\n",
    "  _df_pred['Date'] = index\n",
    "  pd.to_datetime(_df_pred['Date'])\n",
    "  _df_pred.set_index('Date', inplace=True)\n",
    "  _df_pred.rename(columns={0 : 'Predicted'}, inplace=True)\n",
    "  return _df_pred"
   ]
  },
  {
   "cell_type": "markdown",
   "metadata": {
    "id": "-D2zEsY6PV6O"
   },
   "source": [
    "### Steps to calculate ARIMA Model (Closing Prices)"
   ]
  },
  {
   "cell_type": "code",
   "execution_count": 53,
   "metadata": {
    "id": "gkJMLP2lxuNG"
   },
   "outputs": [],
   "source": [
    "stockcode = 'BOM532540'\n",
    "train_data, test_data = TrainTestSplitByDateRange(ScriptWiseData[stockcode])\n",
    "start = len(train_data)\n",
    "end = len(train_data) + len(test_data) - 1"
   ]
  },
  {
   "cell_type": "code",
   "execution_count": 54,
   "metadata": {
    "colab": {
     "base_uri": "https://localhost:8080/",
     "height": 513
    },
    "id": "kgYrRVXQyDMj",
    "outputId": "ff5612a4-d066-4334-b0e9-a7b412926c9c"
   },
   "outputs": [
    {
     "data": {
      "text/plain": [
       "<AxesSubplot:xlabel='Date'>"
      ]
     },
     "execution_count": 54,
     "metadata": {},
     "output_type": "execute_result"
    },
    {
     "data": {
      "image/png": "[encoded data removed]",
      "text/plain": [
       "<Figure size 864x576 with 1 Axes>"
      ]
     },
     "metadata": {
      "needs_background": "light"
     },
     "output_type": "display_data"
    }
   ],
   "source": [
    "test_data.Close.plot(figsize = (12,8))"
   ]
  },
  {
   "cell_type": "code",
   "execution_count": 55,
   "metadata": {
    "colab": {
     "base_uri": "https://localhost:8080/"
    },
    "id": "NvN2-7GpRCVA",
    "outputId": "eb795012-0f56-4578-d589-f3837613c0e4"
   },
   "outputs": [
    {
     "name": "stdout",
     "output_type": "stream",
     "text": [
      "(ADF test statistic                            -1.535962\n",
      "p-value                                        0.515653\n",
      "# lags used                                         0.0\n",
      "#observations                                    4087.0\n",
      "Stock Name              TATA CONSULTANCY SERVICES LTD. \n",
      "Stock Code                                    BOM532540\n",
      "critical value (1%)                           -3.431951\n",
      "critical value (5%)                           -2.862247\n",
      "critical value (10%)                          -2.567147\n",
      "dtype: object, 'Non-Stationary')\n"
     ]
    }
   ],
   "source": [
    "e = adf_test(ScriptWiseData['BOM532540'].Close, title=stockcode)\n",
    "print(e)"
   ]
  },
  {
   "cell_type": "code",
   "execution_count": 56,
   "metadata": {
    "colab": {
     "base_uri": "https://localhost:8080/"
    },
    "id": "TVy-XNwFtzAf",
    "outputId": "d8e082f5-ca0e-46b3-bd23-1bed98ac369a"
   },
   "outputs": [
    {
     "data": {
      "text/plain": [
       "(2, 1, 2)"
      ]
     },
     "execution_count": 56,
     "metadata": {},
     "output_type": "execute_result"
    }
   ],
   "source": [
    "CalculateAutoArima(stockcode=stockcode,data= ScriptWiseData[stockcode],parameter = 'Close', p= 'p Closing Values',d = 'd Closing Values', q = 'q Closing Values')"
   ]
  },
  {
   "cell_type": "code",
   "execution_count": 57,
   "metadata": {
    "colab": {
     "base_uri": "https://localhost:8080/",
     "height": 398
    },
    "id": "eH3T27_FVF60",
    "outputId": "777c7fa4-34e7-46d6-be3f-1ef5ff0f6d71"
   },
   "outputs": [
    {
     "data": {
      "text/html": [
       "<table class=\"simpletable\">\n",
       "<caption>ARIMA Model Results</caption>\n",
       "<tr>\n",
       "  <th>Dep. Variable:</th>      <td>D.Close</td>     <th>  No. Observations:  </th>    <td>3823</td>   \n",
       "</tr>\n",
       "<tr>\n",
       "  <th>Model:</th>          <td>ARIMA(2, 1, 2)</td>  <th>  Log Likelihood     </th> <td>-19845.947</td>\n",
       "</tr>\n",
       "<tr>\n",
       "  <th>Method:</th>             <td>css-mle</td>     <th>  S.D. of innovations</th>   <td>43.478</td>  \n",
       "</tr>\n",
       "<tr>\n",
       "  <th>Date:</th>          <td>Thu, 22 Jul 2021</td> <th>  AIC                </th>  <td>39703.895</td>\n",
       "</tr>\n",
       "<tr>\n",
       "  <th>Time:</th>              <td>23:40:28</td>     <th>  BIC                </th>  <td>39741.387</td>\n",
       "</tr>\n",
       "<tr>\n",
       "  <th>Sample:</th>                <td>1</td>        <th>  HQIC               </th>  <td>39717.215</td>\n",
       "</tr>\n",
       "<tr>\n",
       "  <th></th>                       <td> </td>        <th>                     </th>      <td> </td>    \n",
       "</tr>\n",
       "</table>\n",
       "<table class=\"simpletable\">\n",
       "<tr>\n",
       "        <td></td>           <th>coef</th>     <th>std err</th>      <th>z</th>      <th>P>|z|</th>  <th>[0.025</th>    <th>0.975]</th>  \n",
       "</tr>\n",
       "<tr>\n",
       "  <th>const</th>         <td>    0.2491</td> <td>    0.396</td> <td>    0.630</td> <td> 0.529</td> <td>   -0.526</td> <td>    1.025</td>\n",
       "</tr>\n",
       "<tr>\n",
       "  <th>ar.L1.D.Close</th> <td>    0.2411</td> <td>    0.301</td> <td>    0.801</td> <td> 0.423</td> <td>   -0.349</td> <td>    0.831</td>\n",
       "</tr>\n",
       "<tr>\n",
       "  <th>ar.L2.D.Close</th> <td>    0.7014</td> <td>    0.294</td> <td>    2.384</td> <td> 0.017</td> <td>    0.125</td> <td>    1.278</td>\n",
       "</tr>\n",
       "<tr>\n",
       "  <th>ma.L1.D.Close</th> <td>   -0.2330</td> <td>    0.291</td> <td>   -0.802</td> <td> 0.423</td> <td>   -0.803</td> <td>    0.337</td>\n",
       "</tr>\n",
       "<tr>\n",
       "  <th>ma.L2.D.Close</th> <td>   -0.7349</td> <td>    0.287</td> <td>   -2.560</td> <td> 0.010</td> <td>   -1.297</td> <td>   -0.172</td>\n",
       "</tr>\n",
       "</table>\n",
       "<table class=\"simpletable\">\n",
       "<caption>Roots</caption>\n",
       "<tr>\n",
       "    <td></td>   <th>            Real</th>  <th>         Imaginary</th> <th>         Modulus</th>  <th>        Frequency</th>\n",
       "</tr>\n",
       "<tr>\n",
       "  <th>AR.1</th> <td>           1.0344</td> <td>          +0.0000j</td> <td>           1.0344</td> <td>           0.0000</td>\n",
       "</tr>\n",
       "<tr>\n",
       "  <th>AR.2</th> <td>          -1.3783</td> <td>          +0.0000j</td> <td>           1.3783</td> <td>           0.5000</td>\n",
       "</tr>\n",
       "<tr>\n",
       "  <th>MA.1</th> <td>           1.0187</td> <td>          +0.0000j</td> <td>           1.0187</td> <td>           0.0000</td>\n",
       "</tr>\n",
       "<tr>\n",
       "  <th>MA.2</th> <td>          -1.3358</td> <td>          +0.0000j</td> <td>           1.3358</td> <td>           0.5000</td>\n",
       "</tr>\n",
       "</table>"
      ],
      "text/plain": [
       "<class 'statsmodels.iolib.summary.Summary'>\n",
       "\"\"\"\n",
       "                             ARIMA Model Results                              \n",
       "==============================================================================\n",
       "Dep. Variable:                D.Close   No. Observations:                 3823\n",
       "Model:                 ARIMA(2, 1, 2)   Log Likelihood              -19845.947\n",
       "Method:                       css-mle   S.D. of innovations             43.478\n",
       "Date:                Thu, 22 Jul 2021   AIC                          39703.895\n",
       "Time:                        23:40:28   BIC                          39741.387\n",
       "Sample:                             1   HQIC                         39717.215\n",
       "                                                                              \n",
       "=================================================================================\n",
       "                    coef    std err          z      P>|z|      [0.025      0.975]\n",
       "---------------------------------------------------------------------------------\n",
       "const             0.2491      0.396      0.630      0.529      -0.526       1.025\n",
       "ar.L1.D.Close     0.2411      0.301      0.801      0.423      -0.349       0.831\n",
       "ar.L2.D.Close     0.7014      0.294      2.384      0.017       0.125       1.278\n",
       "ma.L1.D.Close    -0.2330      0.291     -0.802      0.423      -0.803       0.337\n",
       "ma.L2.D.Close    -0.7349      0.287     -2.560      0.010      -1.297      -0.172\n",
       "                                    Roots                                    \n",
       "=============================================================================\n",
       "                  Real          Imaginary           Modulus         Frequency\n",
       "-----------------------------------------------------------------------------\n",
       "AR.1            1.0344           +0.0000j            1.0344            0.0000\n",
       "AR.2           -1.3783           +0.0000j            1.3783            0.5000\n",
       "MA.1            1.0187           +0.0000j            1.0187            0.0000\n",
       "MA.2           -1.3358           +0.0000j            1.3358            0.5000\n",
       "-----------------------------------------------------------------------------\n",
       "\"\"\""
      ]
     },
     "execution_count": 57,
     "metadata": {},
     "output_type": "execute_result"
    }
   ],
   "source": [
    "model = ARIMA(train_data.Close, order = (2,1,2))\n",
    "results = model.fit()\n",
    "results.summary()"
   ]
  },
  {
   "cell_type": "code",
   "execution_count": 58,
   "metadata": {
    "id": "NHMnLczXVckt"
   },
   "outputs": [],
   "source": [
    "predictions = results.predict(start = start, end = end, typ ='levels').rename('Arima(2,1,2) Predictions')\n",
    "predictions = modified_prediction_frame(predictions, test_data.Close.index)"
   ]
  },
  {
   "cell_type": "code",
   "execution_count": 59,
   "metadata": {
    "colab": {
     "base_uri": "https://localhost:8080/",
     "height": 513
    },
    "id": "h7ufqJA-WHzs",
    "outputId": "0ea21c87-ee0b-4073-b094-5f5740ea617a"
   },
   "outputs": [
    {
     "data": {
      "text/plain": [
       "<AxesSubplot:xlabel='Date'>"
      ]
     },
     "execution_count": 59,
     "metadata": {},
     "output_type": "execute_result"
    },
    {
     "data": {
      "image/png": "[encoded data removed]",
      "text/plain": [
       "<Figure size 864x576 with 1 Axes>"
      ]
     },
     "metadata": {
      "needs_background": "light"
     },
     "output_type": "display_data"
    }
   ],
   "source": [
    "predictions.plot(legend = True, figsize = (12,8))\n",
    "test_data.Close.plot(legend = True)"
   ]
  },
  {
   "cell_type": "code",
   "execution_count": 60,
   "metadata": {
    "colab": {
     "base_uri": "https://localhost:8080/"
    },
    "id": "TDeaWsYtZfoL",
    "outputId": "050a0385-f158-4c80-d9e9-6d7336be4f8a"
   },
   "outputs": [
    {
     "name": "stdout",
     "output_type": "stream",
     "text": [
      "['569.6074769752083', '0.16728376661836108', '-0.48346918622342616', 0.5098078398179752]\n",
      "-----------\n",
      "       Arima(2,1,2) Predictions\n",
      "count                264.000000\n",
      "mean                2098.166083\n",
      "std                   31.373850\n",
      "min                 2004.739697\n",
      "25%                 2082.189941\n",
      "50%                 2105.258562\n",
      "75%                 2122.360679\n",
      "max                 2138.819158\n",
      "-----------\n",
      "count     264.000000\n",
      "mean     2459.927273\n",
      "std       468.554923\n",
      "min      1636.100000\n",
      "25%      2047.575000\n",
      "50%      2361.325000\n",
      "75%      2827.037500\n",
      "max      3308.200000\n",
      "Name: Close, dtype: float64\n"
     ]
    }
   ],
   "source": [
    "print(errorEvaluation(test_data.Close, predictions))\n",
    "print('-----------')\n",
    "print(predictions.describe())\n",
    "print('-----------')\n",
    "print(test_data.Close.describe())"
   ]
  },
  {
   "cell_type": "markdown",
   "metadata": {
    "id": "xD0jX2PHAABU"
   },
   "source": [
    "### Generic Function For ARIMA Closing Prices"
   ]
  },
  {
   "cell_type": "code",
   "execution_count": 61,
   "metadata": {
    "id": "oh8YrsrMRNef"
   },
   "outputs": [],
   "source": [
    "def ARIMA_Model_Generic(StockCode, data, feature, Results, Order, train_data, test_data):\n",
    "  print(\"Modeling for the Stock: {}\".format(StockCode))\n",
    "\n",
    "  start = len(train_data)\n",
    "  end = len(train_data) + len(test_data) - 1\n",
    "  \n",
    "  print(\"ADF Test for the given series.\")\n",
    "  adf, Stationarity = adf_test(train_data[feature], title=StockCode)\n",
    "  print(adf)\n",
    "  print('----------------------------------------------------------------------------')\n",
    "  Results.loc[StockCode,'Stationarity'] = Stationarity\n",
    "\n",
    "  model = ARIMA(train_data[feature], order = Order)\n",
    "  results = model.fit()\n",
    "  print(results.params)\n",
    "  print(\"Order: \" + str(Order) )\n",
    "  print('---------------------------------------------------------------------------')\n",
    "  Results.loc[StockCode, 'Order'] = str(Order)\n",
    "\n",
    "  predictions = results.predict(start = start, end = end, typ ='levels')\n",
    "  predictions = modified_prediction_frame(predictions, test_data[feature].index)\n",
    "\n",
    "  errorEval = errorEvaluation(test_data[feature], predictions)\n",
    "  RMSE = errorEval[0]\n",
    "  MAPE = errorEval[1]\n",
    "  R2   = errorEval[2]\n",
    "  Noise = errorEval[3]\n",
    "\n",
    "  Results.loc[StockCode, ['RMSE', 'MAPE', 'R2', 'Noise']] = errorEval\n",
    "  print(\"RMSE: {0} \\nMape: {1} \\nR2: {2} \\nNoise: {3}\".format(RMSE, MAPE, R2, Noise))\n",
    "  print('---------------------------------------------------------------------------')\n",
    "  \n",
    "  print('Description of the Predicted Data')\n",
    "  print(predictions.describe())\n",
    "  pred_mean = predictions.mean(numeric_only=True)\n",
    "  Results.loc[StockCode, 'Predictions Mean'] = str(float(pred_mean))\n",
    "  print('---------------------------------------------------------------------------')\n",
    "\n",
    "  print('Description of the Actual Data')\n",
    "  print(test_data[feature].describe())\n",
    "  Results.loc[StockCode, 'Actual Mean'] = str(test_data[feature].mean())\n",
    "  return predictions\n"
   ]
  },
  {
   "cell_type": "code",
   "execution_count": 62,
   "metadata": {
    "id": "r_QX2NcG2Sje"
   },
   "outputs": [],
   "source": [
    "ArimaModelPricesResults = pd.DataFrame(columns=['Stationarity', 'Order', 'RMSE', 'MAPE', 'R2', 'Noise', 'Predictions Mean', 'Actual Mean'], index = stocks)"
   ]
  },
  {
   "cell_type": "code",
   "execution_count": 63,
   "metadata": {
    "id": "tz7RLJNE2yuV"
   },
   "outputs": [
    {
     "data": {
      "text/html": [
       "<div>\n",
       "<style scoped>\n",
       "    .dataframe tbody tr th:only-of-type {\n",
       "        vertical-align: middle;\n",
       "    }\n",
       "\n",
       "    .dataframe tbody tr th {\n",
       "        vertical-align: top;\n",
       "    }\n",
       "\n",
       "    .dataframe thead th {\n",
       "        text-align: right;\n",
       "    }\n",
       "</style>\n",
       "<table border=\"1\" class=\"dataframe\">\n",
       "  <thead>\n",
       "    <tr style=\"text-align: right;\">\n",
       "      <th></th>\n",
       "      <th>Stationarity</th>\n",
       "      <th>Order</th>\n",
       "      <th>RMSE</th>\n",
       "      <th>MAPE</th>\n",
       "      <th>R2</th>\n",
       "      <th>Noise</th>\n",
       "      <th>Predictions Mean</th>\n",
       "      <th>Actual Mean</th>\n",
       "    </tr>\n",
       "  </thead>\n",
       "  <tbody>\n",
       "    <tr>\n",
       "      <th>BOM524715</th>\n",
       "      <td>NaN</td>\n",
       "      <td>NaN</td>\n",
       "      <td>NaN</td>\n",
       "      <td>NaN</td>\n",
       "      <td>NaN</td>\n",
       "      <td>NaN</td>\n",
       "      <td>NaN</td>\n",
       "      <td>NaN</td>\n",
       "    </tr>\n",
       "    <tr>\n",
       "      <th>BOM532488</th>\n",
       "      <td>NaN</td>\n",
       "      <td>NaN</td>\n",
       "      <td>NaN</td>\n",
       "      <td>NaN</td>\n",
       "      <td>NaN</td>\n",
       "      <td>NaN</td>\n",
       "      <td>NaN</td>\n",
       "      <td>NaN</td>\n",
       "    </tr>\n",
       "    <tr>\n",
       "      <th>BOM500124</th>\n",
       "      <td>NaN</td>\n",
       "      <td>NaN</td>\n",
       "      <td>NaN</td>\n",
       "      <td>NaN</td>\n",
       "      <td>NaN</td>\n",
       "      <td>NaN</td>\n",
       "      <td>NaN</td>\n",
       "      <td>NaN</td>\n",
       "    </tr>\n",
       "    <tr>\n",
       "      <th>BOM500180</th>\n",
       "      <td>NaN</td>\n",
       "      <td>NaN</td>\n",
       "      <td>NaN</td>\n",
       "      <td>NaN</td>\n",
       "      <td>NaN</td>\n",
       "      <td>NaN</td>\n",
       "      <td>NaN</td>\n",
       "      <td>NaN</td>\n",
       "    </tr>\n",
       "    <tr>\n",
       "      <th>BOM532174</th>\n",
       "      <td>NaN</td>\n",
       "      <td>NaN</td>\n",
       "      <td>NaN</td>\n",
       "      <td>NaN</td>\n",
       "      <td>NaN</td>\n",
       "      <td>NaN</td>\n",
       "      <td>NaN</td>\n",
       "      <td>NaN</td>\n",
       "    </tr>\n",
       "    <tr>\n",
       "      <th>BOM500247</th>\n",
       "      <td>NaN</td>\n",
       "      <td>NaN</td>\n",
       "      <td>NaN</td>\n",
       "      <td>NaN</td>\n",
       "      <td>NaN</td>\n",
       "      <td>NaN</td>\n",
       "      <td>NaN</td>\n",
       "      <td>NaN</td>\n",
       "    </tr>\n",
       "    <tr>\n",
       "      <th>BOM500470</th>\n",
       "      <td>NaN</td>\n",
       "      <td>NaN</td>\n",
       "      <td>NaN</td>\n",
       "      <td>NaN</td>\n",
       "      <td>NaN</td>\n",
       "      <td>NaN</td>\n",
       "      <td>NaN</td>\n",
       "      <td>NaN</td>\n",
       "    </tr>\n",
       "    <tr>\n",
       "      <th>BOM500228</th>\n",
       "      <td>NaN</td>\n",
       "      <td>NaN</td>\n",
       "      <td>NaN</td>\n",
       "      <td>NaN</td>\n",
       "      <td>NaN</td>\n",
       "      <td>NaN</td>\n",
       "      <td>NaN</td>\n",
       "      <td>NaN</td>\n",
       "    </tr>\n",
       "    <tr>\n",
       "      <th>BOM500440</th>\n",
       "      <td>NaN</td>\n",
       "      <td>NaN</td>\n",
       "      <td>NaN</td>\n",
       "      <td>NaN</td>\n",
       "      <td>NaN</td>\n",
       "      <td>NaN</td>\n",
       "      <td>NaN</td>\n",
       "      <td>NaN</td>\n",
       "    </tr>\n",
       "    <tr>\n",
       "      <th>BOM532977</th>\n",
       "      <td>NaN</td>\n",
       "      <td>NaN</td>\n",
       "      <td>NaN</td>\n",
       "      <td>NaN</td>\n",
       "      <td>NaN</td>\n",
       "      <td>NaN</td>\n",
       "      <td>NaN</td>\n",
       "      <td>NaN</td>\n",
       "    </tr>\n",
       "    <tr>\n",
       "      <th>BOM500570</th>\n",
       "      <td>NaN</td>\n",
       "      <td>NaN</td>\n",
       "      <td>NaN</td>\n",
       "      <td>NaN</td>\n",
       "      <td>NaN</td>\n",
       "      <td>NaN</td>\n",
       "      <td>NaN</td>\n",
       "      <td>NaN</td>\n",
       "    </tr>\n",
       "    <tr>\n",
       "      <th>BOM532500</th>\n",
       "      <td>NaN</td>\n",
       "      <td>NaN</td>\n",
       "      <td>NaN</td>\n",
       "      <td>NaN</td>\n",
       "      <td>NaN</td>\n",
       "      <td>NaN</td>\n",
       "      <td>NaN</td>\n",
       "      <td>NaN</td>\n",
       "    </tr>\n",
       "    <tr>\n",
       "      <th>BOM500209</th>\n",
       "      <td>NaN</td>\n",
       "      <td>NaN</td>\n",
       "      <td>NaN</td>\n",
       "      <td>NaN</td>\n",
       "      <td>NaN</td>\n",
       "      <td>NaN</td>\n",
       "      <td>NaN</td>\n",
       "      <td>NaN</td>\n",
       "    </tr>\n",
       "    <tr>\n",
       "      <th>BOM532540</th>\n",
       "      <td>NaN</td>\n",
       "      <td>NaN</td>\n",
       "      <td>NaN</td>\n",
       "      <td>NaN</td>\n",
       "      <td>NaN</td>\n",
       "      <td>NaN</td>\n",
       "      <td>NaN</td>\n",
       "      <td>NaN</td>\n",
       "    </tr>\n",
       "    <tr>\n",
       "      <th>BOM507685</th>\n",
       "      <td>NaN</td>\n",
       "      <td>NaN</td>\n",
       "      <td>NaN</td>\n",
       "      <td>NaN</td>\n",
       "      <td>NaN</td>\n",
       "      <td>NaN</td>\n",
       "      <td>NaN</td>\n",
       "      <td>NaN</td>\n",
       "    </tr>\n",
       "  </tbody>\n",
       "</table>\n",
       "</div>"
      ],
      "text/plain": [
       "          Stationarity Order RMSE MAPE   R2 Noise Predictions Mean Actual Mean\n",
       "BOM524715          NaN   NaN  NaN  NaN  NaN   NaN              NaN         NaN\n",
       "BOM532488          NaN   NaN  NaN  NaN  NaN   NaN              NaN         NaN\n",
       "BOM500124          NaN   NaN  NaN  NaN  NaN   NaN              NaN         NaN\n",
       "BOM500180          NaN   NaN  NaN  NaN  NaN   NaN              NaN         NaN\n",
       "BOM532174          NaN   NaN  NaN  NaN  NaN   NaN              NaN         NaN\n",
       "BOM500247          NaN   NaN  NaN  NaN  NaN   NaN              NaN         NaN\n",
       "BOM500470          NaN   NaN  NaN  NaN  NaN   NaN              NaN         NaN\n",
       "BOM500228          NaN   NaN  NaN  NaN  NaN   NaN              NaN         NaN\n",
       "BOM500440          NaN   NaN  NaN  NaN  NaN   NaN              NaN         NaN\n",
       "BOM532977          NaN   NaN  NaN  NaN  NaN   NaN              NaN         NaN\n",
       "BOM500570          NaN   NaN  NaN  NaN  NaN   NaN              NaN         NaN\n",
       "BOM532500          NaN   NaN  NaN  NaN  NaN   NaN              NaN         NaN\n",
       "BOM500209          NaN   NaN  NaN  NaN  NaN   NaN              NaN         NaN\n",
       "BOM532540          NaN   NaN  NaN  NaN  NaN   NaN              NaN         NaN\n",
       "BOM507685          NaN   NaN  NaN  NaN  NaN   NaN              NaN         NaN"
      ]
     },
     "execution_count": 63,
     "metadata": {},
     "output_type": "execute_result"
    }
   ],
   "source": [
    "ArimaModelPricesResults"
   ]
  },
  {
   "cell_type": "code",
   "execution_count": 64,
   "metadata": {
    "id": "Q2S3ndNj4IW9"
   },
   "outputs": [
    {
     "name": "stdout",
     "output_type": "stream",
     "text": [
      "Working for Stock 1 - BOM524715\n",
      "Working for Stock 2 - BOM532488\n",
      "Working for Stock 3 - BOM500124\n",
      "Working for Stock 4 - BOM500180\n",
      "Working for Stock 5 - BOM532174\n",
      "Working for Stock 6 - BOM500247\n",
      "Working for Stock 7 - BOM500470\n",
      "Working for Stock 8 - BOM500228\n",
      "Working for Stock 9 - BOM500440\n",
      "Working for Stock 10 - BOM532977\n",
      "Working for Stock 11 - BOM500570\n",
      "Working for Stock 12 - BOM532500\n",
      "Working for Stock 13 - BOM500209\n",
      "Working for Stock 14 - BOM532540\n",
      "Working for Stock 15 - BOM507685\n"
     ]
    },
    {
     "ename": "KeyboardInterrupt",
     "evalue": "",
     "output_type": "error",
     "traceback": [
      "\u001b[1;31m---------------------------------------------------------------------------\u001b[0m",
      "\u001b[1;31mKeyboardInterrupt\u001b[0m                         Traceback (most recent call last)",
      "\u001b[1;32m<ipython-input-64-dc15bfc4c6ab>\u001b[0m in \u001b[0;36m<module>\u001b[1;34m\u001b[0m\n\u001b[0;32m      4\u001b[0m     \u001b[0mtrain_data\u001b[0m\u001b[1;33m,\u001b[0m \u001b[0mtest_data\u001b[0m \u001b[1;33m=\u001b[0m \u001b[0mTrainTestSplitByDateRange\u001b[0m\u001b[1;33m(\u001b[0m\u001b[0mScriptWiseData\u001b[0m\u001b[1;33m[\u001b[0m\u001b[0mstock\u001b[0m\u001b[1;33m]\u001b[0m\u001b[1;33m)\u001b[0m\u001b[1;33m\u001b[0m\u001b[1;33m\u001b[0m\u001b[0m\n\u001b[0;32m      5\u001b[0m     \u001b[0mfeature\u001b[0m \u001b[1;33m=\u001b[0m \u001b[1;34m'Close'\u001b[0m\u001b[1;33m\u001b[0m\u001b[1;33m\u001b[0m\u001b[0m\n\u001b[1;32m----> 6\u001b[1;33m     \u001b[0mOrder\u001b[0m \u001b[1;33m=\u001b[0m \u001b[0mCalculateAutoArima\u001b[0m\u001b[1;33m(\u001b[0m\u001b[0mstock\u001b[0m\u001b[1;33m,\u001b[0m \u001b[0mtrain_data\u001b[0m\u001b[1;33m,\u001b[0m \u001b[0mfeature\u001b[0m\u001b[1;33m,\u001b[0m  \u001b[0mp\u001b[0m\u001b[1;33m=\u001b[0m \u001b[1;34m'p Closing Values'\u001b[0m\u001b[1;33m,\u001b[0m\u001b[0md\u001b[0m \u001b[1;33m=\u001b[0m \u001b[1;34m'd Closing Values'\u001b[0m\u001b[1;33m,\u001b[0m \u001b[0mq\u001b[0m \u001b[1;33m=\u001b[0m \u001b[1;34m'q Closing Values'\u001b[0m\u001b[1;33m)\u001b[0m\u001b[1;33m\u001b[0m\u001b[1;33m\u001b[0m\u001b[0m\n\u001b[0m\u001b[0;32m      7\u001b[0m \u001b[1;31m#     ARIMA_Model_Generic(StockCode = stock, data = ScriptWiseData, feature = feature, Results=ArimaModelPricesResults, Order=Order, train_data=train_data, test_data=test_data)\u001b[0m\u001b[1;33m\u001b[0m\u001b[1;33m\u001b[0m\u001b[1;33m\u001b[0m\u001b[0m\n\u001b[0;32m      8\u001b[0m     \u001b[0mcount\u001b[0m \u001b[1;33m+=\u001b[0m \u001b[1;36m1\u001b[0m\u001b[1;33m\u001b[0m\u001b[1;33m\u001b[0m\u001b[0m\n",
      "\u001b[1;32m<ipython-input-47-404b62c9ba83>\u001b[0m in \u001b[0;36mCalculateAutoArima\u001b[1;34m(stockcode, data, parameter, p, d, q)\u001b[0m\n\u001b[0;32m      1\u001b[0m \u001b[1;32mdef\u001b[0m \u001b[0mCalculateAutoArima\u001b[0m\u001b[1;33m(\u001b[0m\u001b[0mstockcode\u001b[0m\u001b[1;33m,\u001b[0m \u001b[0mdata\u001b[0m\u001b[1;33m,\u001b[0m \u001b[0mparameter\u001b[0m \u001b[1;33m,\u001b[0m\u001b[0mp\u001b[0m \u001b[1;33m,\u001b[0m\u001b[0md\u001b[0m\u001b[1;33m,\u001b[0m\u001b[0mq\u001b[0m\u001b[1;33m)\u001b[0m\u001b[1;33m:\u001b[0m\u001b[1;33m\u001b[0m\u001b[1;33m\u001b[0m\u001b[0m\n\u001b[0;32m      2\u001b[0m     \u001b[1;32mif\u001b[0m\u001b[1;33m(\u001b[0m\u001b[0mAutoArimaResults\u001b[0m\u001b[1;33m.\u001b[0m\u001b[0mloc\u001b[0m\u001b[1;33m[\u001b[0m\u001b[1;33m:\u001b[0m\u001b[1;33m,\u001b[0m \u001b[1;33m[\u001b[0m\u001b[0mp\u001b[0m\u001b[1;33m,\u001b[0m \u001b[0md\u001b[0m\u001b[1;33m,\u001b[0m \u001b[0mq\u001b[0m\u001b[1;33m]\u001b[0m\u001b[1;33m]\u001b[0m\u001b[1;33m.\u001b[0m\u001b[0misnull\u001b[0m\u001b[1;33m(\u001b[0m\u001b[1;33m)\u001b[0m\u001b[1;33m.\u001b[0m\u001b[0msum\u001b[0m\u001b[1;33m(\u001b[0m\u001b[0maxis\u001b[0m\u001b[1;33m=\u001b[0m\u001b[1;36m1\u001b[0m\u001b[1;33m)\u001b[0m\u001b[1;33m[\u001b[0m\u001b[0mstockcode\u001b[0m\u001b[1;33m]\u001b[0m \u001b[1;33m>\u001b[0m \u001b[1;36m0\u001b[0m\u001b[1;33m)\u001b[0m\u001b[1;33m:\u001b[0m\u001b[1;33m\u001b[0m\u001b[1;33m\u001b[0m\u001b[0m\n\u001b[1;32m----> 3\u001b[1;33m         \u001b[0mparams\u001b[0m \u001b[1;33m=\u001b[0m \u001b[0mauto_arima\u001b[0m\u001b[1;33m(\u001b[0m\u001b[0mdata\u001b[0m\u001b[1;33m[\u001b[0m\u001b[0mparameter\u001b[0m\u001b[1;33m]\u001b[0m\u001b[1;33m,\u001b[0m \u001b[0mmaxiter\u001b[0m \u001b[1;33m=\u001b[0m \u001b[1;36m1000\u001b[0m\u001b[1;33m)\u001b[0m\u001b[1;33m\u001b[0m\u001b[1;33m\u001b[0m\u001b[0m\n\u001b[0m\u001b[0;32m      4\u001b[0m         \u001b[0mAutoArimaResults\u001b[0m\u001b[1;33m.\u001b[0m\u001b[0mloc\u001b[0m\u001b[1;33m[\u001b[0m\u001b[0mstockcode\u001b[0m\u001b[1;33m,\u001b[0m \u001b[1;33m[\u001b[0m\u001b[0mp\u001b[0m\u001b[1;33m,\u001b[0m\u001b[0md\u001b[0m\u001b[1;33m,\u001b[0m\u001b[0mq\u001b[0m\u001b[1;33m]\u001b[0m\u001b[1;33m]\u001b[0m \u001b[1;33m=\u001b[0m \u001b[0mparams\u001b[0m\u001b[1;33m.\u001b[0m\u001b[0morder\u001b[0m\u001b[1;33m\u001b[0m\u001b[1;33m\u001b[0m\u001b[0m\n\u001b[0;32m      5\u001b[0m         \u001b[1;32mreturn\u001b[0m \u001b[0mparams\u001b[0m\u001b[1;33m.\u001b[0m\u001b[0morder\u001b[0m\u001b[1;33m\u001b[0m\u001b[1;33m\u001b[0m\u001b[0m\n",
      "\u001b[1;32mC:\\ProgramData\\Anaconda3\\lib\\site-packages\\pmdarima\\arima\\auto.py\u001b[0m in \u001b[0;36mauto_arima\u001b[1;34m(y, X, start_p, d, start_q, max_p, max_d, max_q, start_P, D, start_Q, max_P, max_D, max_Q, max_order, m, seasonal, stationary, information_criterion, alpha, test, seasonal_test, stepwise, n_jobs, start_params, trend, method, maxiter, offset_test_args, seasonal_test_args, suppress_warnings, error_action, trace, random, random_state, n_fits, return_valid_fits, out_of_sample_size, scoring, scoring_args, with_intercept, sarimax_kwargs, **fit_args)\u001b[0m\n\u001b[0;32m    715\u001b[0m         )\n\u001b[0;32m    716\u001b[0m \u001b[1;33m\u001b[0m\u001b[0m\n\u001b[1;32m--> 717\u001b[1;33m     \u001b[0msorted_res\u001b[0m \u001b[1;33m=\u001b[0m \u001b[0msearch\u001b[0m\u001b[1;33m.\u001b[0m\u001b[0msolve\u001b[0m\u001b[1;33m(\u001b[0m\u001b[1;33m)\u001b[0m\u001b[1;33m\u001b[0m\u001b[1;33m\u001b[0m\u001b[0m\n\u001b[0m\u001b[0;32m    718\u001b[0m     \u001b[1;32mreturn\u001b[0m \u001b[0m_return_wrapper\u001b[0m\u001b[1;33m(\u001b[0m\u001b[0msorted_res\u001b[0m\u001b[1;33m,\u001b[0m \u001b[0mreturn_valid_fits\u001b[0m\u001b[1;33m,\u001b[0m \u001b[0mstart\u001b[0m\u001b[1;33m,\u001b[0m \u001b[0mtrace\u001b[0m\u001b[1;33m)\u001b[0m\u001b[1;33m\u001b[0m\u001b[1;33m\u001b[0m\u001b[0m\n\u001b[0;32m    719\u001b[0m \u001b[1;33m\u001b[0m\u001b[0m\n",
      "\u001b[1;32mC:\\ProgramData\\Anaconda3\\lib\\site-packages\\pmdarima\\arima\\_auto_solvers.py\u001b[0m in \u001b[0;36msolve\u001b[1;34m(self)\u001b[0m\n\u001b[0;32m    401\u001b[0m             \u001b[1;32mif\u001b[0m \u001b[0mq\u001b[0m \u001b[1;33m<\u001b[0m \u001b[0mmax_q\u001b[0m \u001b[1;32mand\u001b[0m\u001b[0;31m \u001b[0m\u001b[0;31m\\\u001b[0m\u001b[1;33m\u001b[0m\u001b[1;33m\u001b[0m\u001b[0m\n\u001b[0;32m    402\u001b[0m                     \u001b[0mself\u001b[0m\u001b[1;33m.\u001b[0m\u001b[0mk\u001b[0m \u001b[1;33m<\u001b[0m \u001b[0mself\u001b[0m\u001b[1;33m.\u001b[0m\u001b[0mmax_k\u001b[0m \u001b[1;32mand\u001b[0m\u001b[0;31m \u001b[0m\u001b[0;31m\\\u001b[0m\u001b[1;33m\u001b[0m\u001b[1;33m\u001b[0m\u001b[0m\n\u001b[1;32m--> 403\u001b[1;33m                     \u001b[0mself\u001b[0m\u001b[1;33m.\u001b[0m\u001b[0m_do_fit\u001b[0m\u001b[1;33m(\u001b[0m\u001b[1;33m(\u001b[0m\u001b[0mp\u001b[0m\u001b[1;33m,\u001b[0m \u001b[0md\u001b[0m\u001b[1;33m,\u001b[0m \u001b[0mq\u001b[0m \u001b[1;33m+\u001b[0m \u001b[1;36m1\u001b[0m\u001b[1;33m)\u001b[0m\u001b[1;33m,\u001b[0m \u001b[1;33m(\u001b[0m\u001b[0mP\u001b[0m\u001b[1;33m,\u001b[0m \u001b[0mD\u001b[0m\u001b[1;33m,\u001b[0m \u001b[0mQ\u001b[0m\u001b[1;33m,\u001b[0m \u001b[0mm\u001b[0m\u001b[1;33m)\u001b[0m\u001b[1;33m)\u001b[0m\u001b[1;33m:\u001b[0m\u001b[1;33m\u001b[0m\u001b[1;33m\u001b[0m\u001b[0m\n\u001b[0m\u001b[0;32m    404\u001b[0m                 \u001b[0mq\u001b[0m \u001b[1;33m+=\u001b[0m \u001b[1;36m1\u001b[0m\u001b[1;33m\u001b[0m\u001b[1;33m\u001b[0m\u001b[0m\n\u001b[0;32m    405\u001b[0m                 \u001b[1;32mcontinue\u001b[0m\u001b[1;33m\u001b[0m\u001b[1;33m\u001b[0m\u001b[0m\n",
      "\u001b[1;32mC:\\ProgramData\\Anaconda3\\lib\\site-packages\\pmdarima\\arima\\_auto_solvers.py\u001b[0m in \u001b[0;36m_do_fit\u001b[1;34m(self, order, seasonal_order, constant)\u001b[0m\n\u001b[0;32m    231\u001b[0m             \u001b[0mself\u001b[0m\u001b[1;33m.\u001b[0m\u001b[0mk\u001b[0m \u001b[1;33m+=\u001b[0m \u001b[1;36m1\u001b[0m\u001b[1;33m\u001b[0m\u001b[1;33m\u001b[0m\u001b[0m\n\u001b[0;32m    232\u001b[0m \u001b[1;33m\u001b[0m\u001b[0m\n\u001b[1;32m--> 233\u001b[1;33m             fit, fit_time, new_ic = self._fit_arima(\n\u001b[0m\u001b[0;32m    234\u001b[0m                 \u001b[0morder\u001b[0m\u001b[1;33m=\u001b[0m\u001b[0morder\u001b[0m\u001b[1;33m,\u001b[0m\u001b[1;33m\u001b[0m\u001b[1;33m\u001b[0m\u001b[0m\n\u001b[0;32m    235\u001b[0m                 \u001b[0mseasonal_order\u001b[0m\u001b[1;33m=\u001b[0m\u001b[0mseasonal_order\u001b[0m\u001b[1;33m,\u001b[0m\u001b[1;33m\u001b[0m\u001b[1;33m\u001b[0m\u001b[0m\n",
      "\u001b[1;32mC:\\ProgramData\\Anaconda3\\lib\\site-packages\\pmdarima\\arima\\_auto_solvers.py\u001b[0m in \u001b[0;36m_fit_candidate_model\u001b[1;34m(y, X, order, seasonal_order, start_params, trend, method, maxiter, fit_params, suppress_warnings, trace, error_action, out_of_sample_size, scoring, scoring_args, with_intercept, information_criterion, **kwargs)\u001b[0m\n\u001b[0;32m    504\u001b[0m \u001b[1;33m\u001b[0m\u001b[0m\n\u001b[0;32m    505\u001b[0m     \u001b[1;32mtry\u001b[0m\u001b[1;33m:\u001b[0m\u001b[1;33m\u001b[0m\u001b[1;33m\u001b[0m\u001b[0m\n\u001b[1;32m--> 506\u001b[1;33m         \u001b[0mfit\u001b[0m\u001b[1;33m.\u001b[0m\u001b[0mfit\u001b[0m\u001b[1;33m(\u001b[0m\u001b[0my\u001b[0m\u001b[1;33m,\u001b[0m \u001b[0mX\u001b[0m\u001b[1;33m=\u001b[0m\u001b[0mX\u001b[0m\u001b[1;33m,\u001b[0m \u001b[1;33m**\u001b[0m\u001b[0mfit_params\u001b[0m\u001b[1;33m)\u001b[0m\u001b[1;33m\u001b[0m\u001b[1;33m\u001b[0m\u001b[0m\n\u001b[0m\u001b[0;32m    507\u001b[0m \u001b[1;33m\u001b[0m\u001b[0m\n\u001b[0;32m    508\u001b[0m     \u001b[1;31m# for non-stationarity errors or singular matrices, return None\u001b[0m\u001b[1;33m\u001b[0m\u001b[1;33m\u001b[0m\u001b[1;33m\u001b[0m\u001b[0m\n",
      "\u001b[1;32mC:\\ProgramData\\Anaconda3\\lib\\site-packages\\pmdarima\\arima\\arima.py\u001b[0m in \u001b[0;36mfit\u001b[1;34m(self, y, X, **fit_args)\u001b[0m\n\u001b[0;32m    480\u001b[0m \u001b[1;33m\u001b[0m\u001b[0m\n\u001b[0;32m    481\u001b[0m         \u001b[1;31m# Internal call\u001b[0m\u001b[1;33m\u001b[0m\u001b[1;33m\u001b[0m\u001b[1;33m\u001b[0m\u001b[0m\n\u001b[1;32m--> 482\u001b[1;33m         \u001b[0mself\u001b[0m\u001b[1;33m.\u001b[0m\u001b[0m_fit\u001b[0m\u001b[1;33m(\u001b[0m\u001b[0my\u001b[0m\u001b[1;33m,\u001b[0m \u001b[0mX\u001b[0m\u001b[1;33m,\u001b[0m \u001b[1;33m**\u001b[0m\u001b[0mfit_args\u001b[0m\u001b[1;33m)\u001b[0m\u001b[1;33m\u001b[0m\u001b[1;33m\u001b[0m\u001b[0m\n\u001b[0m\u001b[0;32m    483\u001b[0m \u001b[1;33m\u001b[0m\u001b[0m\n\u001b[0;32m    484\u001b[0m         \u001b[1;31m# now make a forecast if we're validating to compute the\u001b[0m\u001b[1;33m\u001b[0m\u001b[1;33m\u001b[0m\u001b[1;33m\u001b[0m\u001b[0m\n",
      "\u001b[1;32mC:\\ProgramData\\Anaconda3\\lib\\site-packages\\pmdarima\\arima\\arima.py\u001b[0m in \u001b[0;36m_fit\u001b[1;34m(self, y, X, **fit_args)\u001b[0m\n\u001b[0;32m    401\u001b[0m             \u001b[1;32mwith\u001b[0m \u001b[0mwarnings\u001b[0m\u001b[1;33m.\u001b[0m\u001b[0mcatch_warnings\u001b[0m\u001b[1;33m(\u001b[0m\u001b[0mrecord\u001b[0m\u001b[1;33m=\u001b[0m\u001b[1;32mFalse\u001b[0m\u001b[1;33m)\u001b[0m\u001b[1;33m:\u001b[0m\u001b[1;33m\u001b[0m\u001b[1;33m\u001b[0m\u001b[0m\n\u001b[0;32m    402\u001b[0m                 \u001b[0mwarnings\u001b[0m\u001b[1;33m.\u001b[0m\u001b[0msimplefilter\u001b[0m\u001b[1;33m(\u001b[0m\u001b[1;34m'ignore'\u001b[0m\u001b[1;33m)\u001b[0m\u001b[1;33m\u001b[0m\u001b[1;33m\u001b[0m\u001b[0m\n\u001b[1;32m--> 403\u001b[1;33m                 \u001b[0mfit\u001b[0m\u001b[1;33m,\u001b[0m \u001b[0mself\u001b[0m\u001b[1;33m.\u001b[0m\u001b[0marima_res_\u001b[0m \u001b[1;33m=\u001b[0m \u001b[0m_fit_wrapper\u001b[0m\u001b[1;33m(\u001b[0m\u001b[1;33m)\u001b[0m\u001b[1;33m\u001b[0m\u001b[1;33m\u001b[0m\u001b[0m\n\u001b[0m\u001b[0;32m    404\u001b[0m         \u001b[1;32melse\u001b[0m\u001b[1;33m:\u001b[0m\u001b[1;33m\u001b[0m\u001b[1;33m\u001b[0m\u001b[0m\n\u001b[0;32m    405\u001b[0m             \u001b[0mfit\u001b[0m\u001b[1;33m,\u001b[0m \u001b[0mself\u001b[0m\u001b[1;33m.\u001b[0m\u001b[0marima_res_\u001b[0m \u001b[1;33m=\u001b[0m \u001b[0m_fit_wrapper\u001b[0m\u001b[1;33m(\u001b[0m\u001b[1;33m)\u001b[0m\u001b[1;33m\u001b[0m\u001b[1;33m\u001b[0m\u001b[0m\n",
      "\u001b[1;32mC:\\ProgramData\\Anaconda3\\lib\\site-packages\\pmdarima\\arima\\arima.py\u001b[0m in \u001b[0;36m_fit_wrapper\u001b[1;34m()\u001b[0m\n\u001b[0;32m    391\u001b[0m             \u001b[0mdisp\u001b[0m \u001b[1;33m=\u001b[0m \u001b[0mfit_args\u001b[0m\u001b[1;33m.\u001b[0m\u001b[0mpop\u001b[0m\u001b[1;33m(\u001b[0m\u001b[1;34m\"disp\"\u001b[0m\u001b[1;33m,\u001b[0m \u001b[1;36m0\u001b[0m\u001b[1;33m)\u001b[0m\u001b[1;33m\u001b[0m\u001b[1;33m\u001b[0m\u001b[0m\n\u001b[0;32m    392\u001b[0m \u001b[1;33m\u001b[0m\u001b[0m\n\u001b[1;32m--> 393\u001b[1;33m             return arima, arima.fit(start_params=start_params,\n\u001b[0m\u001b[0;32m    394\u001b[0m                                     \u001b[0mmethod\u001b[0m\u001b[1;33m=\u001b[0m\u001b[0mmethod\u001b[0m\u001b[1;33m,\u001b[0m\u001b[1;33m\u001b[0m\u001b[1;33m\u001b[0m\u001b[0m\n\u001b[0;32m    395\u001b[0m                                     \u001b[0mmaxiter\u001b[0m\u001b[1;33m=\u001b[0m\u001b[0m_maxiter\u001b[0m\u001b[1;33m,\u001b[0m\u001b[1;33m\u001b[0m\u001b[1;33m\u001b[0m\u001b[0m\n",
      "\u001b[1;32m~\\AppData\\Roaming\\Python\\Python38\\site-packages\\statsmodels\\tsa\\statespace\\mlemodel.py\u001b[0m in \u001b[0;36mfit\u001b[1;34m(self, start_params, transformed, includes_fixed, cov_type, cov_kwds, method, maxiter, full_output, disp, callback, return_params, optim_score, optim_complex_step, optim_hessian, flags, low_memory, **kwargs)\u001b[0m\n\u001b[0;32m    688\u001b[0m                 \u001b[0mflags\u001b[0m\u001b[1;33m[\u001b[0m\u001b[1;34m'hessian_method'\u001b[0m\u001b[1;33m]\u001b[0m \u001b[1;33m=\u001b[0m \u001b[0moptim_hessian\u001b[0m\u001b[1;33m\u001b[0m\u001b[1;33m\u001b[0m\u001b[0m\n\u001b[0;32m    689\u001b[0m             \u001b[0mfargs\u001b[0m \u001b[1;33m=\u001b[0m \u001b[1;33m(\u001b[0m\u001b[0mflags\u001b[0m\u001b[1;33m,\u001b[0m\u001b[1;33m)\u001b[0m\u001b[1;33m\u001b[0m\u001b[1;33m\u001b[0m\u001b[0m\n\u001b[1;32m--> 690\u001b[1;33m             mlefit = super(MLEModel, self).fit(start_params, method=method,\n\u001b[0m\u001b[0;32m    691\u001b[0m                                                \u001b[0mfargs\u001b[0m\u001b[1;33m=\u001b[0m\u001b[0mfargs\u001b[0m\u001b[1;33m,\u001b[0m\u001b[1;33m\u001b[0m\u001b[1;33m\u001b[0m\u001b[0m\n\u001b[0;32m    692\u001b[0m                                                \u001b[0mmaxiter\u001b[0m\u001b[1;33m=\u001b[0m\u001b[0mmaxiter\u001b[0m\u001b[1;33m,\u001b[0m\u001b[1;33m\u001b[0m\u001b[1;33m\u001b[0m\u001b[0m\n",
      "\u001b[1;32m~\\AppData\\Roaming\\Python\\Python38\\site-packages\\statsmodels\\base\\model.py\u001b[0m in \u001b[0;36mfit\u001b[1;34m(self, start_params, method, maxiter, full_output, disp, fargs, callback, retall, skip_hessian, **kwargs)\u001b[0m\n\u001b[0;32m    517\u001b[0m         \u001b[0mwarn_convergence\u001b[0m \u001b[1;33m=\u001b[0m \u001b[0mkwargs\u001b[0m\u001b[1;33m.\u001b[0m\u001b[0mpop\u001b[0m\u001b[1;33m(\u001b[0m\u001b[1;34m'warn_convergence'\u001b[0m\u001b[1;33m,\u001b[0m \u001b[1;32mTrue\u001b[0m\u001b[1;33m)\u001b[0m\u001b[1;33m\u001b[0m\u001b[1;33m\u001b[0m\u001b[0m\n\u001b[0;32m    518\u001b[0m         \u001b[0moptimizer\u001b[0m \u001b[1;33m=\u001b[0m \u001b[0mOptimizer\u001b[0m\u001b[1;33m(\u001b[0m\u001b[1;33m)\u001b[0m\u001b[1;33m\u001b[0m\u001b[1;33m\u001b[0m\u001b[0m\n\u001b[1;32m--> 519\u001b[1;33m         xopt, retvals, optim_settings = optimizer._fit(f, score, start_params,\n\u001b[0m\u001b[0;32m    520\u001b[0m                                                        \u001b[0mfargs\u001b[0m\u001b[1;33m,\u001b[0m \u001b[0mkwargs\u001b[0m\u001b[1;33m,\u001b[0m\u001b[1;33m\u001b[0m\u001b[1;33m\u001b[0m\u001b[0m\n\u001b[0;32m    521\u001b[0m                                                        \u001b[0mhessian\u001b[0m\u001b[1;33m=\u001b[0m\u001b[0mhess\u001b[0m\u001b[1;33m,\u001b[0m\u001b[1;33m\u001b[0m\u001b[1;33m\u001b[0m\u001b[0m\n",
      "\u001b[1;32m~\\AppData\\Roaming\\Python\\Python38\\site-packages\\statsmodels\\base\\optimizer.py\u001b[0m in \u001b[0;36m_fit\u001b[1;34m(self, objective, gradient, start_params, fargs, kwargs, hessian, method, maxiter, full_output, disp, callback, retall)\u001b[0m\n\u001b[0;32m    222\u001b[0m \u001b[1;33m\u001b[0m\u001b[0m\n\u001b[0;32m    223\u001b[0m         \u001b[0mfunc\u001b[0m \u001b[1;33m=\u001b[0m \u001b[0mfit_funcs\u001b[0m\u001b[1;33m[\u001b[0m\u001b[0mmethod\u001b[0m\u001b[1;33m]\u001b[0m\u001b[1;33m\u001b[0m\u001b[1;33m\u001b[0m\u001b[0m\n\u001b[1;32m--> 224\u001b[1;33m         xopt, retvals = func(objective, gradient, start_params, fargs, kwargs,\n\u001b[0m\u001b[0;32m    225\u001b[0m                             \u001b[0mdisp\u001b[0m\u001b[1;33m=\u001b[0m\u001b[0mdisp\u001b[0m\u001b[1;33m,\u001b[0m \u001b[0mmaxiter\u001b[0m\u001b[1;33m=\u001b[0m\u001b[0mmaxiter\u001b[0m\u001b[1;33m,\u001b[0m \u001b[0mcallback\u001b[0m\u001b[1;33m=\u001b[0m\u001b[0mcallback\u001b[0m\u001b[1;33m,\u001b[0m\u001b[1;33m\u001b[0m\u001b[1;33m\u001b[0m\u001b[0m\n\u001b[0;32m    226\u001b[0m                             \u001b[0mretall\u001b[0m\u001b[1;33m=\u001b[0m\u001b[0mretall\u001b[0m\u001b[1;33m,\u001b[0m \u001b[0mfull_output\u001b[0m\u001b[1;33m=\u001b[0m\u001b[0mfull_output\u001b[0m\u001b[1;33m,\u001b[0m\u001b[1;33m\u001b[0m\u001b[1;33m\u001b[0m\u001b[0m\n",
      "\u001b[1;32m~\\AppData\\Roaming\\Python\\Python38\\site-packages\\statsmodels\\base\\optimizer.py\u001b[0m in \u001b[0;36m_fit_lbfgs\u001b[1;34m(f, score, start_params, fargs, kwargs, disp, maxiter, callback, retall, full_output, hess)\u001b[0m\n\u001b[0;32m    627\u001b[0m         \u001b[0mfunc\u001b[0m \u001b[1;33m=\u001b[0m \u001b[0mf\u001b[0m\u001b[1;33m\u001b[0m\u001b[1;33m\u001b[0m\u001b[0m\n\u001b[0;32m    628\u001b[0m \u001b[1;33m\u001b[0m\u001b[0m\n\u001b[1;32m--> 629\u001b[1;33m     retvals = optimize.fmin_l_bfgs_b(func, start_params, maxiter=maxiter,\n\u001b[0m\u001b[0;32m    630\u001b[0m                                      \u001b[0mcallback\u001b[0m\u001b[1;33m=\u001b[0m\u001b[0mcallback\u001b[0m\u001b[1;33m,\u001b[0m \u001b[0margs\u001b[0m\u001b[1;33m=\u001b[0m\u001b[0mfargs\u001b[0m\u001b[1;33m,\u001b[0m\u001b[1;33m\u001b[0m\u001b[1;33m\u001b[0m\u001b[0m\n\u001b[0;32m    631\u001b[0m                                      \u001b[0mbounds\u001b[0m\u001b[1;33m=\u001b[0m\u001b[0mbounds\u001b[0m\u001b[1;33m,\u001b[0m \u001b[0mdisp\u001b[0m\u001b[1;33m=\u001b[0m\u001b[0mdisp\u001b[0m\u001b[1;33m,\u001b[0m\u001b[1;33m\u001b[0m\u001b[1;33m\u001b[0m\u001b[0m\n",
      "\u001b[1;32m~\\AppData\\Roaming\\Python\\Python38\\site-packages\\scipy\\optimize\\lbfgsb.py\u001b[0m in \u001b[0;36mfmin_l_bfgs_b\u001b[1;34m(func, x0, fprime, args, approx_grad, bounds, m, factr, pgtol, epsilon, iprint, maxfun, maxiter, disp, callback, maxls)\u001b[0m\n\u001b[0;32m    195\u001b[0m             'maxls': maxls}\n\u001b[0;32m    196\u001b[0m \u001b[1;33m\u001b[0m\u001b[0m\n\u001b[1;32m--> 197\u001b[1;33m     res = _minimize_lbfgsb(fun, x0, args=args, jac=jac, bounds=bounds,\n\u001b[0m\u001b[0;32m    198\u001b[0m                            **opts)\n\u001b[0;32m    199\u001b[0m     d = {'grad': res['jac'],\n",
      "\u001b[1;32m~\\AppData\\Roaming\\Python\\Python38\\site-packages\\scipy\\optimize\\lbfgsb.py\u001b[0m in \u001b[0;36m_minimize_lbfgsb\u001b[1;34m(fun, x0, args, jac, bounds, disp, maxcor, ftol, gtol, eps, maxfun, maxiter, iprint, callback, maxls, finite_diff_rel_step, **unknown_options)\u001b[0m\n\u001b[0;32m    358\u001b[0m             \u001b[1;31m# until the completion of the current minimization iteration.\u001b[0m\u001b[1;33m\u001b[0m\u001b[1;33m\u001b[0m\u001b[1;33m\u001b[0m\u001b[0m\n\u001b[0;32m    359\u001b[0m             \u001b[1;31m# Overwrite f and g:\u001b[0m\u001b[1;33m\u001b[0m\u001b[1;33m\u001b[0m\u001b[1;33m\u001b[0m\u001b[0m\n\u001b[1;32m--> 360\u001b[1;33m             \u001b[0mf\u001b[0m\u001b[1;33m,\u001b[0m \u001b[0mg\u001b[0m \u001b[1;33m=\u001b[0m \u001b[0mfunc_and_grad\u001b[0m\u001b[1;33m(\u001b[0m\u001b[0mx\u001b[0m\u001b[1;33m)\u001b[0m\u001b[1;33m\u001b[0m\u001b[1;33m\u001b[0m\u001b[0m\n\u001b[0m\u001b[0;32m    361\u001b[0m         \u001b[1;32melif\u001b[0m \u001b[0mtask_str\u001b[0m\u001b[1;33m.\u001b[0m\u001b[0mstartswith\u001b[0m\u001b[1;33m(\u001b[0m\u001b[1;34mb'NEW_X'\u001b[0m\u001b[1;33m)\u001b[0m\u001b[1;33m:\u001b[0m\u001b[1;33m\u001b[0m\u001b[1;33m\u001b[0m\u001b[0m\n\u001b[0;32m    362\u001b[0m             \u001b[1;31m# new iteration\u001b[0m\u001b[1;33m\u001b[0m\u001b[1;33m\u001b[0m\u001b[1;33m\u001b[0m\u001b[0m\n",
      "\u001b[1;32m~\\AppData\\Roaming\\Python\\Python38\\site-packages\\scipy\\optimize\\_differentiable_functions.py\u001b[0m in \u001b[0;36mfun_and_grad\u001b[1;34m(self, x)\u001b[0m\n\u001b[0;32m    266\u001b[0m             \u001b[0mself\u001b[0m\u001b[1;33m.\u001b[0m\u001b[0m_update_x_impl\u001b[0m\u001b[1;33m(\u001b[0m\u001b[0mx\u001b[0m\u001b[1;33m)\u001b[0m\u001b[1;33m\u001b[0m\u001b[1;33m\u001b[0m\u001b[0m\n\u001b[0;32m    267\u001b[0m         \u001b[0mself\u001b[0m\u001b[1;33m.\u001b[0m\u001b[0m_update_fun\u001b[0m\u001b[1;33m(\u001b[0m\u001b[1;33m)\u001b[0m\u001b[1;33m\u001b[0m\u001b[1;33m\u001b[0m\u001b[0m\n\u001b[1;32m--> 268\u001b[1;33m         \u001b[0mself\u001b[0m\u001b[1;33m.\u001b[0m\u001b[0m_update_grad\u001b[0m\u001b[1;33m(\u001b[0m\u001b[1;33m)\u001b[0m\u001b[1;33m\u001b[0m\u001b[1;33m\u001b[0m\u001b[0m\n\u001b[0m\u001b[0;32m    269\u001b[0m         \u001b[1;32mreturn\u001b[0m \u001b[0mself\u001b[0m\u001b[1;33m.\u001b[0m\u001b[0mf\u001b[0m\u001b[1;33m,\u001b[0m \u001b[0mself\u001b[0m\u001b[1;33m.\u001b[0m\u001b[0mg\u001b[0m\u001b[1;33m\u001b[0m\u001b[1;33m\u001b[0m\u001b[0m\n\u001b[0;32m    270\u001b[0m \u001b[1;33m\u001b[0m\u001b[0m\n",
      "\u001b[1;32m~\\AppData\\Roaming\\Python\\Python38\\site-packages\\scipy\\optimize\\_differentiable_functions.py\u001b[0m in \u001b[0;36m_update_grad\u001b[1;34m(self)\u001b[0m\n\u001b[0;32m    236\u001b[0m     \u001b[1;32mdef\u001b[0m \u001b[0m_update_grad\u001b[0m\u001b[1;33m(\u001b[0m\u001b[0mself\u001b[0m\u001b[1;33m)\u001b[0m\u001b[1;33m:\u001b[0m\u001b[1;33m\u001b[0m\u001b[1;33m\u001b[0m\u001b[0m\n\u001b[0;32m    237\u001b[0m         \u001b[1;32mif\u001b[0m \u001b[1;32mnot\u001b[0m \u001b[0mself\u001b[0m\u001b[1;33m.\u001b[0m\u001b[0mg_updated\u001b[0m\u001b[1;33m:\u001b[0m\u001b[1;33m\u001b[0m\u001b[1;33m\u001b[0m\u001b[0m\n\u001b[1;32m--> 238\u001b[1;33m             \u001b[0mself\u001b[0m\u001b[1;33m.\u001b[0m\u001b[0m_update_grad_impl\u001b[0m\u001b[1;33m(\u001b[0m\u001b[1;33m)\u001b[0m\u001b[1;33m\u001b[0m\u001b[1;33m\u001b[0m\u001b[0m\n\u001b[0m\u001b[0;32m    239\u001b[0m             \u001b[0mself\u001b[0m\u001b[1;33m.\u001b[0m\u001b[0mg_updated\u001b[0m \u001b[1;33m=\u001b[0m \u001b[1;32mTrue\u001b[0m\u001b[1;33m\u001b[0m\u001b[1;33m\u001b[0m\u001b[0m\n\u001b[0;32m    240\u001b[0m \u001b[1;33m\u001b[0m\u001b[0m\n",
      "\u001b[1;32m~\\AppData\\Roaming\\Python\\Python38\\site-packages\\scipy\\optimize\\_differentiable_functions.py\u001b[0m in \u001b[0;36mupdate_grad\u001b[1;34m()\u001b[0m\n\u001b[0;32m    153\u001b[0m                 \u001b[0mself\u001b[0m\u001b[1;33m.\u001b[0m\u001b[0m_update_fun\u001b[0m\u001b[1;33m(\u001b[0m\u001b[1;33m)\u001b[0m\u001b[1;33m\u001b[0m\u001b[1;33m\u001b[0m\u001b[0m\n\u001b[0;32m    154\u001b[0m                 \u001b[0mself\u001b[0m\u001b[1;33m.\u001b[0m\u001b[0mngev\u001b[0m \u001b[1;33m+=\u001b[0m \u001b[1;36m1\u001b[0m\u001b[1;33m\u001b[0m\u001b[1;33m\u001b[0m\u001b[0m\n\u001b[1;32m--> 155\u001b[1;33m                 self.g = approx_derivative(fun_wrapped, self.x, f0=self.f,\n\u001b[0m\u001b[0;32m    156\u001b[0m                                            **finite_diff_options)\n\u001b[0;32m    157\u001b[0m \u001b[1;33m\u001b[0m\u001b[0m\n",
      "\u001b[1;32m~\\AppData\\Roaming\\Python\\Python38\\site-packages\\scipy\\optimize\\_numdiff.py\u001b[0m in \u001b[0;36mapprox_derivative\u001b[1;34m(fun, x0, method, rel_step, abs_step, f0, bounds, sparsity, as_linear_operator, args, kwargs)\u001b[0m\n\u001b[0;32m    484\u001b[0m \u001b[1;33m\u001b[0m\u001b[0m\n\u001b[0;32m    485\u001b[0m         \u001b[1;32mif\u001b[0m \u001b[0msparsity\u001b[0m \u001b[1;32mis\u001b[0m \u001b[1;32mNone\u001b[0m\u001b[1;33m:\u001b[0m\u001b[1;33m\u001b[0m\u001b[1;33m\u001b[0m\u001b[0m\n\u001b[1;32m--> 486\u001b[1;33m             return _dense_difference(fun_wrapped, x0, f0, h,\n\u001b[0m\u001b[0;32m    487\u001b[0m                                      use_one_sided, method)\n\u001b[0;32m    488\u001b[0m         \u001b[1;32melse\u001b[0m\u001b[1;33m:\u001b[0m\u001b[1;33m\u001b[0m\u001b[1;33m\u001b[0m\u001b[0m\n",
      "\u001b[1;32m~\\AppData\\Roaming\\Python\\Python38\\site-packages\\scipy\\optimize\\_numdiff.py\u001b[0m in \u001b[0;36m_dense_difference\u001b[1;34m(fun, x0, f0, h, use_one_sided, method)\u001b[0m\n\u001b[0;32m    555\u001b[0m             \u001b[0mx\u001b[0m \u001b[1;33m=\u001b[0m \u001b[0mx0\u001b[0m \u001b[1;33m+\u001b[0m \u001b[0mh_vecs\u001b[0m\u001b[1;33m[\u001b[0m\u001b[0mi\u001b[0m\u001b[1;33m]\u001b[0m\u001b[1;33m\u001b[0m\u001b[1;33m\u001b[0m\u001b[0m\n\u001b[0;32m    556\u001b[0m             \u001b[0mdx\u001b[0m \u001b[1;33m=\u001b[0m \u001b[0mx\u001b[0m\u001b[1;33m[\u001b[0m\u001b[0mi\u001b[0m\u001b[1;33m]\u001b[0m \u001b[1;33m-\u001b[0m \u001b[0mx0\u001b[0m\u001b[1;33m[\u001b[0m\u001b[0mi\u001b[0m\u001b[1;33m]\u001b[0m  \u001b[1;31m# Recompute dx as exactly representable number.\u001b[0m\u001b[1;33m\u001b[0m\u001b[1;33m\u001b[0m\u001b[0m\n\u001b[1;32m--> 557\u001b[1;33m             \u001b[0mdf\u001b[0m \u001b[1;33m=\u001b[0m \u001b[0mfun\u001b[0m\u001b[1;33m(\u001b[0m\u001b[0mx\u001b[0m\u001b[1;33m)\u001b[0m \u001b[1;33m-\u001b[0m \u001b[0mf0\u001b[0m\u001b[1;33m\u001b[0m\u001b[1;33m\u001b[0m\u001b[0m\n\u001b[0m\u001b[0;32m    558\u001b[0m         \u001b[1;32melif\u001b[0m \u001b[0mmethod\u001b[0m \u001b[1;33m==\u001b[0m \u001b[1;34m'3-point'\u001b[0m \u001b[1;32mand\u001b[0m \u001b[0muse_one_sided\u001b[0m\u001b[1;33m[\u001b[0m\u001b[0mi\u001b[0m\u001b[1;33m]\u001b[0m\u001b[1;33m:\u001b[0m\u001b[1;33m\u001b[0m\u001b[1;33m\u001b[0m\u001b[0m\n\u001b[0;32m    559\u001b[0m             \u001b[0mx1\u001b[0m \u001b[1;33m=\u001b[0m \u001b[0mx0\u001b[0m \u001b[1;33m+\u001b[0m \u001b[0mh_vecs\u001b[0m\u001b[1;33m[\u001b[0m\u001b[0mi\u001b[0m\u001b[1;33m]\u001b[0m\u001b[1;33m\u001b[0m\u001b[1;33m\u001b[0m\u001b[0m\n",
      "\u001b[1;32m~\\AppData\\Roaming\\Python\\Python38\\site-packages\\scipy\\optimize\\_numdiff.py\u001b[0m in \u001b[0;36mfun_wrapped\u001b[1;34m(x)\u001b[0m\n\u001b[0;32m    435\u001b[0m \u001b[1;33m\u001b[0m\u001b[0m\n\u001b[0;32m    436\u001b[0m     \u001b[1;32mdef\u001b[0m \u001b[0mfun_wrapped\u001b[0m\u001b[1;33m(\u001b[0m\u001b[0mx\u001b[0m\u001b[1;33m)\u001b[0m\u001b[1;33m:\u001b[0m\u001b[1;33m\u001b[0m\u001b[1;33m\u001b[0m\u001b[0m\n\u001b[1;32m--> 437\u001b[1;33m         \u001b[0mf\u001b[0m \u001b[1;33m=\u001b[0m \u001b[0mnp\u001b[0m\u001b[1;33m.\u001b[0m\u001b[0matleast_1d\u001b[0m\u001b[1;33m(\u001b[0m\u001b[0mfun\u001b[0m\u001b[1;33m(\u001b[0m\u001b[0mx\u001b[0m\u001b[1;33m,\u001b[0m \u001b[1;33m*\u001b[0m\u001b[0margs\u001b[0m\u001b[1;33m,\u001b[0m \u001b[1;33m**\u001b[0m\u001b[0mkwargs\u001b[0m\u001b[1;33m)\u001b[0m\u001b[1;33m)\u001b[0m\u001b[1;33m\u001b[0m\u001b[1;33m\u001b[0m\u001b[0m\n\u001b[0m\u001b[0;32m    438\u001b[0m         \u001b[1;32mif\u001b[0m \u001b[0mf\u001b[0m\u001b[1;33m.\u001b[0m\u001b[0mndim\u001b[0m \u001b[1;33m>\u001b[0m \u001b[1;36m1\u001b[0m\u001b[1;33m:\u001b[0m\u001b[1;33m\u001b[0m\u001b[1;33m\u001b[0m\u001b[0m\n\u001b[0;32m    439\u001b[0m             raise RuntimeError(\"`fun` return value has \"\n",
      "\u001b[1;32m~\\AppData\\Roaming\\Python\\Python38\\site-packages\\scipy\\optimize\\_differentiable_functions.py\u001b[0m in \u001b[0;36mfun_wrapped\u001b[1;34m(x)\u001b[0m\n\u001b[0;32m    132\u001b[0m             \u001b[1;31m# Overwriting results in undefined behaviour because\u001b[0m\u001b[1;33m\u001b[0m\u001b[1;33m\u001b[0m\u001b[1;33m\u001b[0m\u001b[0m\n\u001b[0;32m    133\u001b[0m             \u001b[1;31m# fun(self.x) will change self.x, with the two no longer linked.\u001b[0m\u001b[1;33m\u001b[0m\u001b[1;33m\u001b[0m\u001b[1;33m\u001b[0m\u001b[0m\n\u001b[1;32m--> 134\u001b[1;33m             \u001b[1;32mreturn\u001b[0m \u001b[0mfun\u001b[0m\u001b[1;33m(\u001b[0m\u001b[0mnp\u001b[0m\u001b[1;33m.\u001b[0m\u001b[0mcopy\u001b[0m\u001b[1;33m(\u001b[0m\u001b[0mx\u001b[0m\u001b[1;33m)\u001b[0m\u001b[1;33m,\u001b[0m \u001b[1;33m*\u001b[0m\u001b[0margs\u001b[0m\u001b[1;33m)\u001b[0m\u001b[1;33m\u001b[0m\u001b[1;33m\u001b[0m\u001b[0m\n\u001b[0m\u001b[0;32m    135\u001b[0m \u001b[1;33m\u001b[0m\u001b[0m\n\u001b[0;32m    136\u001b[0m         \u001b[1;32mdef\u001b[0m \u001b[0mupdate_fun\u001b[0m\u001b[1;33m(\u001b[0m\u001b[1;33m)\u001b[0m\u001b[1;33m:\u001b[0m\u001b[1;33m\u001b[0m\u001b[1;33m\u001b[0m\u001b[0m\n",
      "\u001b[1;32m~\\AppData\\Roaming\\Python\\Python38\\site-packages\\statsmodels\\base\\model.py\u001b[0m in \u001b[0;36mf\u001b[1;34m(params, *args)\u001b[0m\n\u001b[0;32m    499\u001b[0m \u001b[1;33m\u001b[0m\u001b[0m\n\u001b[0;32m    500\u001b[0m         \u001b[1;32mdef\u001b[0m \u001b[0mf\u001b[0m\u001b[1;33m(\u001b[0m\u001b[0mparams\u001b[0m\u001b[1;33m,\u001b[0m \u001b[1;33m*\u001b[0m\u001b[0margs\u001b[0m\u001b[1;33m)\u001b[0m\u001b[1;33m:\u001b[0m\u001b[1;33m\u001b[0m\u001b[1;33m\u001b[0m\u001b[0m\n\u001b[1;32m--> 501\u001b[1;33m             \u001b[1;32mreturn\u001b[0m \u001b[1;33m-\u001b[0m\u001b[0mself\u001b[0m\u001b[1;33m.\u001b[0m\u001b[0mloglike\u001b[0m\u001b[1;33m(\u001b[0m\u001b[0mparams\u001b[0m\u001b[1;33m,\u001b[0m \u001b[1;33m*\u001b[0m\u001b[0margs\u001b[0m\u001b[1;33m)\u001b[0m \u001b[1;33m/\u001b[0m \u001b[0mnobs\u001b[0m\u001b[1;33m\u001b[0m\u001b[1;33m\u001b[0m\u001b[0m\n\u001b[0m\u001b[0;32m    502\u001b[0m \u001b[1;33m\u001b[0m\u001b[0m\n\u001b[0;32m    503\u001b[0m         \u001b[1;32mif\u001b[0m \u001b[0mmethod\u001b[0m \u001b[1;33m==\u001b[0m \u001b[1;34m'newton'\u001b[0m\u001b[1;33m:\u001b[0m\u001b[1;33m\u001b[0m\u001b[1;33m\u001b[0m\u001b[0m\n",
      "\u001b[1;32m~\\AppData\\Roaming\\Python\\Python38\\site-packages\\statsmodels\\tsa\\statespace\\mlemodel.py\u001b[0m in \u001b[0;36mloglike\u001b[1;34m(self, params, *args, **kwargs)\u001b[0m\n\u001b[0;32m    923\u001b[0m             \u001b[0mkwargs\u001b[0m\u001b[1;33m[\u001b[0m\u001b[1;34m'inversion_method'\u001b[0m\u001b[1;33m]\u001b[0m \u001b[1;33m=\u001b[0m \u001b[0mINVERT_UNIVARIATE\u001b[0m \u001b[1;33m|\u001b[0m \u001b[0mSOLVE_LU\u001b[0m\u001b[1;33m\u001b[0m\u001b[1;33m\u001b[0m\u001b[0m\n\u001b[0;32m    924\u001b[0m \u001b[1;33m\u001b[0m\u001b[0m\n\u001b[1;32m--> 925\u001b[1;33m         \u001b[0mloglike\u001b[0m \u001b[1;33m=\u001b[0m \u001b[0mself\u001b[0m\u001b[1;33m.\u001b[0m\u001b[0mssm\u001b[0m\u001b[1;33m.\u001b[0m\u001b[0mloglike\u001b[0m\u001b[1;33m(\u001b[0m\u001b[0mcomplex_step\u001b[0m\u001b[1;33m=\u001b[0m\u001b[0mcomplex_step\u001b[0m\u001b[1;33m,\u001b[0m \u001b[1;33m**\u001b[0m\u001b[0mkwargs\u001b[0m\u001b[1;33m)\u001b[0m\u001b[1;33m\u001b[0m\u001b[1;33m\u001b[0m\u001b[0m\n\u001b[0m\u001b[0;32m    926\u001b[0m \u001b[1;33m\u001b[0m\u001b[0m\n\u001b[0;32m    927\u001b[0m         \u001b[1;31m# Koopman, Shephard, and Doornik recommend maximizing the average\u001b[0m\u001b[1;33m\u001b[0m\u001b[1;33m\u001b[0m\u001b[1;33m\u001b[0m\u001b[0m\n",
      "\u001b[1;32m~\\AppData\\Roaming\\Python\\Python38\\site-packages\\statsmodels\\tsa\\statespace\\kalman_filter.py\u001b[0m in \u001b[0;36mloglike\u001b[1;34m(self, **kwargs)\u001b[0m\n\u001b[0;32m    981\u001b[0m         kwargs.setdefault('conserve_memory',\n\u001b[0;32m    982\u001b[0m                           MEMORY_CONSERVE ^ MEMORY_NO_LIKELIHOOD)\n\u001b[1;32m--> 983\u001b[1;33m         \u001b[0mkfilter\u001b[0m \u001b[1;33m=\u001b[0m \u001b[0mself\u001b[0m\u001b[1;33m.\u001b[0m\u001b[0m_filter\u001b[0m\u001b[1;33m(\u001b[0m\u001b[1;33m**\u001b[0m\u001b[0mkwargs\u001b[0m\u001b[1;33m)\u001b[0m\u001b[1;33m\u001b[0m\u001b[1;33m\u001b[0m\u001b[0m\n\u001b[0m\u001b[0;32m    984\u001b[0m         loglikelihood_burn = kwargs.get('loglikelihood_burn',\n\u001b[0;32m    985\u001b[0m                                         self.loglikelihood_burn)\n",
      "\u001b[1;31mKeyboardInterrupt\u001b[0m: "
     ]
    }
   ],
   "source": [
    "count  = 1\n",
    "for stock in stocks:\n",
    "    print(\"Working for Stock {0} - {1}\".format(count, stock))\n",
    "    train_data, test_data = TrainTestSplitByDateRange(ScriptWiseData[stock])\n",
    "    feature = 'Close'\n",
    "    Order = CalculateAutoArima(stock, train_data, feature,  p= 'p Closing Values',d = 'd Closing Values', q = 'q Closing Values')\n",
    "#     ARIMA_Model_Generic(StockCode = stock, data = ScriptWiseData, feature = feature, Results=ArimaModelPricesResults, Order=Order, train_data=train_data, test_data=test_data)\n",
    "    count += 1"
   ]
  },
  {
   "cell_type": "code",
   "execution_count": null,
   "metadata": {
    "id": "QPc5OCmxzXgP"
   },
   "outputs": [],
   "source": [
    "ArimaModelPricesResults.to_csv('Outputs/ArimaModelPricesResults.csv')"
   ]
  },
  {
   "cell_type": "markdown",
   "metadata": {
    "id": "Ru8Key50sQD3"
   },
   "source": [
    "# ARIMA for Normalized Closing Price"
   ]
  },
  {
   "cell_type": "markdown",
   "metadata": {
    "id": "CMOXBPGjb-mp"
   },
   "source": [
    "### Normalizing the Values  - Normalized_Prices"
   ]
  },
  {
   "cell_type": "code",
   "execution_count": null,
   "metadata": {
    "id": "FZjVKQWpNZXg"
   },
   "outputs": [],
   "source": [
    "for stock in stocks:\n",
    "    benchmark_prices = ScriptWiseData[stock].Close.iloc[0]\n",
    "    ScriptWiseData[stock]['Normalized_prices'] = ScriptWiseData[stock].Close.div(benchmark_prices).mul(100)\n"
   ]
  },
  {
   "cell_type": "code",
   "execution_count": null,
   "metadata": {
    "colab": {
     "base_uri": "https://localhost:8080/",
     "height": 227
    },
    "id": "nYWXmdaxW_Jq",
    "outputId": "af03679d-1835-422f-f7eb-877cf6e8bd90"
   },
   "outputs": [],
   "source": [
    "ScriptWiseData[stockcode].head()"
   ]
  },
  {
   "cell_type": "markdown",
   "metadata": {
    "id": "hssG06SXQzYo"
   },
   "source": [
    "### Generic Function For ARIMA Normalized Closing Prices"
   ]
  },
  {
   "cell_type": "code",
   "execution_count": null,
   "metadata": {
    "id": "vp-eT2gpRNeZ"
   },
   "outputs": [],
   "source": [
    "ArimaModelPricesResults_Norm = pd.DataFrame(columns=['Stationarity', 'Order', 'RMSE', 'MAPE', 'R2','Noise', 'Predictions Mean', 'Actual Mean'], index = stocks)"
   ]
  },
  {
   "cell_type": "code",
   "execution_count": null,
   "metadata": {
    "colab": {
     "base_uri": "https://localhost:8080/",
     "height": 497
    },
    "id": "jPqgSYzpN_MC",
    "outputId": "faadb4e6-d1cf-4747-d402-d71f9bff4fa5"
   },
   "outputs": [],
   "source": [
    "ArimaModelPricesResults_Norm"
   ]
  },
  {
   "cell_type": "code",
   "execution_count": null,
   "metadata": {
    "id": "NVFH-IUnVFVz"
   },
   "outputs": [],
   "source": [
    "count  = 1\n",
    "for stock in stocks:\n",
    "    print(\"Working for Stock {0} - {1}\".format(count, stock))\n",
    "    train_data, test_data = TrainTestSplitByDateRange(ScriptWiseData[stock])\n",
    "    feature = 'Normalized_prices'\n",
    "    Order = CalculateAutoArima(stock, train_data, feature,'p N Closing Values', 'd N Closing Values', 'q N Closing Values')\n",
    "    ARIMA_Model_Generic(StockCode= stock, data = ScriptWiseData, feature = feature, Results=ArimaModelPricesResults_Norm, Order=Order, train_data=train_data, test_data=test_data)\n",
    "    count += 1"
   ]
  },
  {
   "cell_type": "code",
   "execution_count": null,
   "metadata": {
    "id": "xRHvVlzIRNei"
   },
   "outputs": [],
   "source": [
    "ArimaModelPricesResults_Norm.to_csv('Outputs/ArimaModelPricesResults_Norm.csv')"
   ]
  },
  {
   "cell_type": "markdown",
   "metadata": {
    "id": "dRI58ANtsQEE"
   },
   "source": [
    "# ARIMA Model For Returns"
   ]
  },
  {
   "cell_type": "markdown",
   "metadata": {
    "id": "tMsWXE90sQDx"
   },
   "source": [
    "### Convert Closing price to percentage change"
   ]
  },
  {
   "cell_type": "code",
   "execution_count": null,
   "metadata": {
    "id": "vBqeCkNEsQDy"
   },
   "outputs": [],
   "source": [
    "for s in stocks:\n",
    "    ScriptWiseData[s]['Stock_Returns'] = ScriptWiseData[s].Close.pct_change(1).mul(100)\n",
    "    ScriptWiseData[s] = ScriptWiseData[s][1:] # Because of NAN first value\n",
    "    "
   ]
  },
  {
   "cell_type": "code",
   "execution_count": null,
   "metadata": {
    "colab": {
     "base_uri": "https://localhost:8080/",
     "height": 277
    },
    "id": "muFSqcxGsQDz",
    "outputId": "a9164ac9-8f1b-421c-d1f5-4ff929d05579"
   },
   "outputs": [],
   "source": [
    "stock = stocks[0]\n",
    "adf_testResult = pd.DataFrame(adf_test(ScriptWiseData[stocks[0]].Stock_Returns, stocks[0])[0], columns = ['Value']).transpose().set_index(['Stock Name', 'Stock Code'])\n",
    "for i in range(1, len(stocks)):\n",
    "    res = pd.DataFrame(adf_test(ScriptWiseData[stocks[i]].Stock_Returns, stocks[i])[0], columns = ['Value']).transpose().set_index(['Stock Name', 'Stock Code'])\n",
    "    adf_testResult = adf_testResult.append(res)\n",
    "adf_testResult['Result'] = adf_testResult['p-value'].apply(lambda x: 'Stationary' if x<0.05 else 'Non-Stationary')\n",
    "# adf_testResult.to_csv('Outputs/adfTestReturns.csv')\n",
    "adf_testResult.to_csv('Outputs/adfTestReturns.csv')\n",
    "adf_testResult.head()"
   ]
  },
  {
   "cell_type": "markdown",
   "metadata": {
    "id": "IjUQArZOk9Er"
   },
   "source": [
    "### Generic Function For ARIMA Returns"
   ]
  },
  {
   "cell_type": "code",
   "execution_count": null,
   "metadata": {
    "id": "YHfwbLOsk9Et"
   },
   "outputs": [],
   "source": [
    "ArimaModelPricesResults_Returns = pd.DataFrame(columns=['Stationarity', 'Order', 'RMSE', 'MAPE', 'R2', 'Noise', 'Predictions Mean', 'Actual Mean'], index = stocks)"
   ]
  },
  {
   "cell_type": "code",
   "execution_count": null,
   "metadata": {
    "colab": {
     "base_uri": "https://localhost:8080/",
     "height": 497
    },
    "id": "AN38GU-VlmLT",
    "outputId": "401721e3-99dd-4758-bccd-bcba2866bc38"
   },
   "outputs": [],
   "source": [
    "ArimaModelPricesResults_Returns"
   ]
  },
  {
   "cell_type": "code",
   "execution_count": null,
   "metadata": {
    "id": "6pNukXztlVtq"
   },
   "outputs": [],
   "source": [
    "count  = 1\n",
    "for stock in stocks:\n",
    "    try:\n",
    "        print(\"Working for Stock {0} - {1}\".format(count, stock))\n",
    "        train_data, test_data = TrainTestSplitByDateRange(ScriptWiseData[stock])\n",
    "        feature = 'Stock_Returns'\n",
    "        Order = CalculateAutoArima(stock, train_data, feature, p = 'p Closing Percentage', d = 'd Closing Percentage', q = 'q Closing Percentage')\n",
    "        ARIMA_Model_Generic(StockCode= stock, data = ScriptWiseData, feature = feature, Results=ArimaModelPricesResults_Returns, Order=Order, train_data=train_data, test_data=test_data)\n",
    "    except Exception as e:\n",
    "        print(e)  \n",
    "        count += 1"
   ]
  },
  {
   "cell_type": "code",
   "execution_count": null,
   "metadata": {
    "id": "Fqc10UbCcSBU"
   },
   "outputs": [],
   "source": [
    "ArimaModelPricesResults_Returns.to_csv('Outputs/ArimaModelPricesResults_Returns.csv')"
   ]
  },
  {
   "cell_type": "markdown",
   "metadata": {
    "id": "GL8MHVRhsQEE"
   },
   "source": [
    "# Stats models basic ARIMA"
   ]
  },
  {
   "cell_type": "code",
   "execution_count": null,
   "metadata": {
    "colab": {
     "base_uri": "https://localhost:8080/"
    },
    "id": "AwaNm4pUoY2N",
    "outputId": "ed028790-ba8b-4ca0-91c7-df3e0f81b039"
   },
   "outputs": [],
   "source": [
    "len(ScriptWiseData['BOM524715'].Close) == len(ScriptWiseData['BOM524715'].RSI)"
   ]
  },
  {
   "cell_type": "code",
   "execution_count": null,
   "metadata": {
    "id": "CmyPVaT8kBA8"
   },
   "outputs": [],
   "source": [
    "def ARIMAX_Model_Generic(StockCode, data, feature, Results, Order, train_data, test_data):\n",
    "  print(\"Modeling for the Stock: {}\".format(StockCode))\n",
    "\n",
    "  start = len(train_data)\n",
    "  end = len(train_data) + len(test_data) - 1\n",
    "  \n",
    "  print(\"ADF Test for the given series.\")\n",
    "  adf, Stationarity = adf_test(train_data[feature], title=StockCode)\n",
    "  print(adf)\n",
    "  print('----------------------------------------------------------------------------')\n",
    "  Results.loc[StockCode,'Stationarity'] = Stationarity\n",
    "\n",
    "  if len(train_data.RSI) != len(train_data[feature]):\n",
    "    print(\"haaaye haaaye\")\n",
    "  model = ARIMA(endog = train_data[feature], exog = [train_data.RSI] , order = Order)\n",
    "  results = model.fit()\n",
    "  print(results.params)\n",
    "  print(\"Order: \" + str(Order) )\n",
    "  print('---------------------------------------------------------------------------')\n",
    "  Results.loc[StockCode, 'Order'] = str(Order)\n",
    "\n",
    "  predictions = results.predict(start = start, end = end, typ ='levels')\n",
    "  predictions = modified_prediction_frame(predictions, test_data[feature].index)\n",
    "\n",
    "  errorEval = errorEvaluation(test_data[feature], predictions)\n",
    "  RMSE = errorEval[0]\n",
    "  MAPE = errorEval[1]\n",
    "  R2   = errorEval[2]\n",
    "  Noise = errorEval[3]\n",
    "\n",
    "  Results.loc[StockCode, ['RMSE', 'MAPE', 'R2', 'Noise']] = errorEval\n",
    "  print(\"RMSE: {0} \\nMape: {1} \\nR2: {2} \\nNoise: {3}\".format(RMSE, MAPE, R2, Noise))\n",
    "  print('---------------------------------------------------------------------------')\n",
    "  \n",
    "  print('Description of the Predicted Data')\n",
    "  print(predictions.describe())\n",
    "  pred_mean = predictions.mean(numeric_only=True)\n",
    "  Results.loc[StockCode, 'Predictions Mean'] = str(float(pred_mean))\n",
    "  print('---------------------------------------------------------------------------')\n",
    "\n",
    "  print('Description of the Actual Data')\n",
    "  print(test_data[feature].describe())\n",
    "  Results.loc[StockCode, 'Actual Mean'] = str(test_data[feature].mean())\n",
    "  return predictions\n"
   ]
  },
  {
   "cell_type": "code",
   "execution_count": null,
   "metadata": {
    "id": "D-JhsYLWnL0a"
   },
   "outputs": [],
   "source": [
    "ArimaxModelPricesResults = pd.DataFrame(columns=['Stationarity', 'Order', 'RMSE', 'MAPE', 'R2', 'Noise', 'Predictions Mean', 'Actual Mean'], index = stocks)"
   ]
  },
  {
   "cell_type": "code",
   "execution_count": null,
   "metadata": {
    "colab": {
     "base_uri": "https://localhost:8080/",
     "height": 497
    },
    "id": "nOgbfrLRnL0b",
    "outputId": "c0736c21-e8af-4c85-dbef-b243d91027f5"
   },
   "outputs": [],
   "source": [
    "ArimaxModelPricesResults"
   ]
  },
  {
   "cell_type": "code",
   "execution_count": null,
   "metadata": {
    "id": "oAl_p1ClnL0c"
   },
   "outputs": [],
   "source": [
    "count  = 1\n",
    "for stock in stocks:\n",
    "  print(\"Working for Stock {0} - {1}\".format(count, stock))\n",
    "  train_data, test_data = TrainTestSplitByDateRange(ScriptWiseData[stock])\n",
    "  feature = 'Close'\n",
    "#   Order = CalculateAutoArima(stock, train_data, feature,  p= 'p Closing Values',d = 'd Closing Values', q = 'q Closing Values')\n",
    "#   ARIMAX_Model_Generic(StockCode = stock, data = ScriptWiseData, feature = feature, Results=ArimaModelPricesResults, Order=Order, train_data=train_data, test_data=test_data)\n",
    "  break\n",
    "  count += 1"
   ]
  },
  {
   "cell_type": "code",
   "execution_count": null,
   "metadata": {
    "id": "wmykvhwKnL0c"
   },
   "outputs": [],
   "source": [
    "ArimaModelPricesResults.to_csv('Outputs/ArimaModelPricesResults.csv')"
   ]
  },
  {
   "cell_type": "code",
   "execution_count": null,
   "metadata": {
    "id": "Jeps99vHsQEF"
   },
   "outputs": [],
   "source": [
    "def ARIMAXProcedure(stockCode):\n",
    "    dataSet = ScriptWiseData[stockCode]\n",
    "    train, test = TrainTestSplitByDateRange(dataSet)\n",
    "    ARIMAXModel = ARIMA(dataSet.Close, exog = dataSet[TechnicalIndicators], order = CalculateAutoArima('BOM500180', dataSet))\n",
    "    ARIMAXModel = ARIMAXModel.fit()\n",
    "    df_pred = ARIMAXModel.predict(start = start_date, end = end_date, exog = test[TechnicalIndicators])\n",
    "    return ARIMAXModel, df_pred"
   ]
  },
  {
   "cell_type": "code",
   "execution_count": null,
   "metadata": {
    "id": "S4X6wVaHsQEG"
   },
   "outputs": [],
   "source": [
    "ARIMAXModel, df_pred = ARIMAXProcedure(stocks[1])\n",
    "residual = ARIMAXModel.resid"
   ]
  },
  {
   "cell_type": "code",
   "execution_count": null,
   "metadata": {
    "id": "r4d20HaEsQEG",
    "outputId": "d59ddab4-2a7b-43bd-bc88-584e6035cf70"
   },
   "outputs": [],
   "source": [
    "sgt.plot_acf(residual[1:], zero=False, lags = 40)\n",
    "plt.title(\"ACF of residuals for ARIMA\", size =20)\n",
    "plt.show()"
   ]
  },
  {
   "cell_type": "code",
   "execution_count": null,
   "metadata": {
    "id": "B7mlVs8ysQEI",
    "outputId": "fea01689-63aa-4816-d4ed-190fa43eb36e"
   },
   "outputs": [],
   "source": [
    "ax = ScriptWiseData[stocks[1]][start_date:end_date].Close.plot(figsize=(20, 5), title=\"S&P 500 Prices\", legend = True)\n",
    "df_pred.plot(title=\"Predicted Prices\", legend = True)\n",
    "ax.legend(['Original', 'Predicted'])\n",
    "plt.show()"
   ]
  },
  {
   "cell_type": "code",
   "execution_count": null,
   "metadata": {},
   "outputs": [],
   "source": []
  },
  {
   "cell_type": "markdown",
   "metadata": {
    "id": "pizKyOeWsQEM"
   },
   "source": [
    "# SARIMAX MODEL"
   ]
  },
  {
   "cell_type": "code",
   "execution_count": null,
   "metadata": {
    "id": "nxyBhFx4sQEN"
   },
   "outputs": [],
   "source": [
    "def SARIMAXProcedure(stockCode):\n",
    "    # decompose\n",
    "    data = ScriptWiseData  [stockCode]\n",
    "    data.index = pd.to_datetime(data.index)\n",
    "    data=data.asfreq('b')\n",
    "    data = data.fillna(method='ffill')\n",
    "    decompose_result = seasonal_decompose(data['Close'], model='add')\n",
    "    \n",
    "    r = auto_arima(data['Close'], exogenous=data[TechnicalIndicators], maxiter=1000) #seasonality, m parameters pending\n",
    "    p, d, q = r.order # define for P, D, Q, S\n",
    "        \n",
    "    train, test = TrainTestSplitByDateRange(data)\n",
    "    \n",
    "    model = SARIMAX(train['Close'], exog = train[TechnicalIndicators] ,order = (p, d, q), seasonal_order = (1,1,1,2), enforce_invertibility = False)\n",
    "    results = model.fit()\n",
    "    predictions = results.predict(start_date, end_date, exog=test[TechnicalIndicators]).rename('SARIMA')\n",
    "    \n",
    "    return decompose_result, results, predictions"
   ]
  },
  {
   "cell_type": "code",
   "execution_count": null,
   "metadata": {
    "id": "2TguUxOKsQEO"
   },
   "outputs": [],
   "source": [
    "decompose_result, model, predictions = SARIMAXProcedure(stocks[2])"
   ]
  },
  {
   "cell_type": "markdown",
   "metadata": {
    "id": "ZXAkQSfXsQEQ"
   },
   "source": [
    "### VARMAX MODEL"
   ]
  },
  {
   "cell_type": "code",
   "execution_count": null,
   "metadata": {
    "id": "eIIE6inJsQER"
   },
   "outputs": [],
   "source": [
    "def DifferenceToMakeStationary(data, n):\n",
    "    data_transformed = data\n",
    "    for i in range(n):\n",
    "        data_transformed = data_transformed.diff()\n",
    "    data_transformed = data_transformed.dropna()\n",
    "    return data_transformed"
   ]
  },
  {
   "cell_type": "code",
   "execution_count": null,
   "metadata": {
    "id": "cgmvjkb5sQER"
   },
   "outputs": [],
   "source": [
    "def InvertDifferencingForActualResults(data,data_differenced, forecast, column, order):\n",
    "    df_forecast = forecast.copy()\n",
    "    n = len(forecast)\n",
    "    for i in range(order):\n",
    "        tempColumn = f'{column}{i}'\n",
    "        # Add the most recent first difference from the training side of the original dataset to the forecast cumulative sum\n",
    "        df_forecast[tempColumn] = (data[column].iloc[-n-1]-data[column].iloc[-n-2]) + df_forecast[column].cumsum()\n",
    "        # Now build the forecast values from the first difference set\n",
    "        df_forecast['Forecast'] = df[column].iloc[-n-1] + df_forecast[tempColumn].cumsum()"
   ]
  },
  {
   "cell_type": "code",
   "execution_count": null,
   "metadata": {
    "id": "QbgXCdXYsQES"
   },
   "outputs": [],
   "source": [
    "# Train and fit varmax model\n",
    "def VARMAXProcedure(stockSymbol):\n",
    "    data = ScriptWiseData[stockSymbol][['Close']+TechnicalIndicators] #.reset_index();\n",
    "    data.index.freq = 'B'\n",
    "    # determine values of p,d, q by auto arima.\n",
    "    p, d, q = CalculateAutoArima(stockSymbol, ScriptWiseData[stockSymbol])\n",
    "    \n",
    "    # make data stationary based on auto arima output\n",
    "    data_transformed = DifferenceToMakeStationary(data, d)\n",
    "    \n",
    "    # train test spllit  \n",
    "    train, test = TrainTestSplitByDateRange(data_transformed)\n",
    "    \n",
    "    # fit the model based on above parameters\n",
    "    model = VARMAX(train, order=(p,q))\n",
    "    results = model.fit(maxiter=1000, disp=False)\n",
    "    forecasts = results.forecast(len(test))\n",
    "    \n",
    "    #     forecasts = InvertDifferencingForActualResults()\n",
    "    return results, forecasts"
   ]
  },
  {
   "cell_type": "code",
   "execution_count": null,
   "metadata": {
    "id": "t79BiwyDsQET"
   },
   "outputs": [],
   "source": [
    "# model, forecasts = VARMAXProcedure(stocks[0])"
   ]
  },
  {
   "cell_type": "code",
   "execution_count": null,
   "metadata": {
    "id": "VUHzF1DPsQEU"
   },
   "outputs": [],
   "source": []
  },
  {
   "cell_type": "markdown",
   "metadata": {
    "id": "1UaFn7irsQEU"
   },
   "source": [
    "## Prophet models"
   ]
  },
  {
   "cell_type": "code",
   "execution_count": 109,
   "metadata": {
    "id": "g_H7mhX2sQEV"
   },
   "outputs": [],
   "source": [
    "from fbprophet.diagnostics import cross_validation, performance_metrics\n",
    "from fbprophet.plot import plot_cross_validation_metric\n",
    "\n",
    "df_start_date = pd.to_datetime(start_date)\n",
    "df_end_date = pd.to_datetime(end_date)"
   ]
  },
  {
   "cell_type": "code",
   "execution_count": 110,
   "metadata": {},
   "outputs": [],
   "source": [
    "def ProphetProcedure(stockCode, start_date = start_date, end_date = end_date):\n",
    "    df = ScriptWiseData[stockCode][['Close']]\n",
    "    df.index = pd.to_datetime(df.index)\n",
    "    df = df.reset_index()\n",
    "    \n",
    "    df.columns = ['ds', 'y']\n",
    "    \n",
    "    test_start_date = pd.to_datetime(start_date)\n",
    "    test_end_date = pd.to_datetime(end_date)\n",
    "    \n",
    "    train = df.loc[df.ds<df_start_date]\n",
    "    test = df.loc[df.ds>=df_start_date]\n",
    "#     return df, 1\n",
    "    m = Prophet()\n",
    "#     for t in TechnicalIndicators:\n",
    "#         m.add_regressor(t)\n",
    "    m.fit(train)\n",
    "    future = m.make_future_dataframe(periods = len(test)-1, freq = \"B\")\n",
    "#     test_t = test.set_index('ds')\n",
    "#     future = future.set_index('ds')\n",
    "#     future = test_t[].join(future).reset_index()\n",
    "    forecast = m.predict(future)\n",
    "    \n",
    "        # initial\n",
    "    initial = str(5*365)+' days'\n",
    "\n",
    "    #period\n",
    "    period = str(5*365)+' days'\n",
    "\n",
    "    #horizon\n",
    "    horizon = str(365) + ' days'\n",
    "    df_cv = cross_validation(m, initial = initial, period = period, horizon = horizon)\n",
    "    \n",
    "    return m, forecast, df_cv"
   ]
  },
  {
   "cell_type": "code",
   "execution_count": 111,
   "metadata": {
    "id": "BF9hJKuPsQEW"
   },
   "outputs": [],
   "source": [
    "def ProphetProcedureWithExogenousVariables(stockCode, start_date = start_date, end_date = end_date):\n",
    "    df = ScriptWiseData[stockCode]\n",
    "    df.index = pd.to_datetime(df.index)\n",
    "    df = df.reset_index()\n",
    "    \n",
    "    df.columns = ['ds', 'y'] + TechnicalIndicators\n",
    "    \n",
    "    test_start_date = pd.to_datetime(start_date)\n",
    "    test_end_date = pd.to_datetime(end_date)\n",
    "    \n",
    "    train = df.loc[df.ds<df_start_date]\n",
    "    test = df.loc[df.ds>=df_start_date]\n",
    "#     return df, 1\n",
    "    m = Prophet()\n",
    "    for t in TechnicalIndicators:\n",
    "        m.add_regressor(t)\n",
    "    m.fit(train)\n",
    "    future = m.make_future_dataframe(periods = len(test)-1, freq = \"B\")\n",
    "    test_t = test.set_index('ds')\n",
    "    future = future.set_index('ds')\n",
    "    future = test_t[TechnicalIndicators].join(future).reset_index()\n",
    "    forecast = m.predict(future)\n",
    "    \n",
    "        # initial\n",
    "    initial = str(5*365)+' days'\n",
    "\n",
    "    #period\n",
    "    period = str(5*365)+' days'\n",
    "\n",
    "    #horizon\n",
    "    horizon = str(365) + ' days'\n",
    "    df_cv = cross_validation(m, initial = initial, period = period, horizon = horizon)\n",
    "    \n",
    "    return m, forecast, df_cv"
   ]
  },
  {
   "cell_type": "code",
   "execution_count": 112,
   "metadata": {},
   "outputs": [
    {
     "data": {
      "text/html": [
       "<div>\n",
       "<style scoped>\n",
       "    .dataframe tbody tr th:only-of-type {\n",
       "        vertical-align: middle;\n",
       "    }\n",
       "\n",
       "    .dataframe tbody tr th {\n",
       "        vertical-align: top;\n",
       "    }\n",
       "\n",
       "    .dataframe thead th {\n",
       "        text-align: right;\n",
       "    }\n",
       "</style>\n",
       "<table border=\"1\" class=\"dataframe\">\n",
       "  <thead>\n",
       "    <tr style=\"text-align: right;\">\n",
       "      <th></th>\n",
       "      <th>ds</th>\n",
       "      <th>trend</th>\n",
       "      <th>yhat_lower</th>\n",
       "      <th>yhat_upper</th>\n",
       "      <th>trend_lower</th>\n",
       "      <th>trend_upper</th>\n",
       "      <th>additive_terms</th>\n",
       "      <th>additive_terms_lower</th>\n",
       "      <th>additive_terms_upper</th>\n",
       "      <th>weekly</th>\n",
       "      <th>weekly_lower</th>\n",
       "      <th>weekly_upper</th>\n",
       "      <th>yearly</th>\n",
       "      <th>yearly_lower</th>\n",
       "      <th>yearly_upper</th>\n",
       "      <th>multiplicative_terms</th>\n",
       "      <th>multiplicative_terms_lower</th>\n",
       "      <th>multiplicative_terms_upper</th>\n",
       "      <th>yhat</th>\n",
       "    </tr>\n",
       "  </thead>\n",
       "  <tbody>\n",
       "    <tr>\n",
       "      <th>0</th>\n",
       "      <td>2000-02-10</td>\n",
       "      <td>5347.694151</td>\n",
       "      <td>5124.743478</td>\n",
       "      <td>5834.566503</td>\n",
       "      <td>5347.694151</td>\n",
       "      <td>5347.694151</td>\n",
       "      <td>132.705381</td>\n",
       "      <td>132.705381</td>\n",
       "      <td>132.705381</td>\n",
       "      <td>-7.259293</td>\n",
       "      <td>-7.259293</td>\n",
       "      <td>-7.259293</td>\n",
       "      <td>139.964674</td>\n",
       "      <td>139.964674</td>\n",
       "      <td>139.964674</td>\n",
       "      <td>0.0</td>\n",
       "      <td>0.0</td>\n",
       "      <td>0.0</td>\n",
       "      <td>5480.399532</td>\n",
       "    </tr>\n",
       "    <tr>\n",
       "      <th>1</th>\n",
       "      <td>2000-02-11</td>\n",
       "      <td>5335.317321</td>\n",
       "      <td>5104.827329</td>\n",
       "      <td>5812.495953</td>\n",
       "      <td>5335.317321</td>\n",
       "      <td>5335.317321</td>\n",
       "      <td>138.267483</td>\n",
       "      <td>138.267483</td>\n",
       "      <td>138.267483</td>\n",
       "      <td>-11.750314</td>\n",
       "      <td>-11.750314</td>\n",
       "      <td>-11.750314</td>\n",
       "      <td>150.017797</td>\n",
       "      <td>150.017797</td>\n",
       "      <td>150.017797</td>\n",
       "      <td>0.0</td>\n",
       "      <td>0.0</td>\n",
       "      <td>0.0</td>\n",
       "      <td>5473.584805</td>\n",
       "    </tr>\n",
       "    <tr>\n",
       "      <th>2</th>\n",
       "      <td>2000-02-14</td>\n",
       "      <td>5298.186833</td>\n",
       "      <td>5132.347885</td>\n",
       "      <td>5814.676405</td>\n",
       "      <td>5298.186833</td>\n",
       "      <td>5298.186833</td>\n",
       "      <td>167.409668</td>\n",
       "      <td>167.409668</td>\n",
       "      <td>167.409668</td>\n",
       "      <td>-12.379438</td>\n",
       "      <td>-12.379438</td>\n",
       "      <td>-12.379438</td>\n",
       "      <td>179.789105</td>\n",
       "      <td>179.789105</td>\n",
       "      <td>179.789105</td>\n",
       "      <td>0.0</td>\n",
       "      <td>0.0</td>\n",
       "      <td>0.0</td>\n",
       "      <td>5465.596501</td>\n",
       "    </tr>\n",
       "    <tr>\n",
       "      <th>3</th>\n",
       "      <td>2000-02-15</td>\n",
       "      <td>5285.810004</td>\n",
       "      <td>5113.974958</td>\n",
       "      <td>5817.991099</td>\n",
       "      <td>5285.810004</td>\n",
       "      <td>5285.810004</td>\n",
       "      <td>177.545612</td>\n",
       "      <td>177.545612</td>\n",
       "      <td>177.545612</td>\n",
       "      <td>-11.452345</td>\n",
       "      <td>-11.452345</td>\n",
       "      <td>-11.452345</td>\n",
       "      <td>188.997957</td>\n",
       "      <td>188.997957</td>\n",
       "      <td>188.997957</td>\n",
       "      <td>0.0</td>\n",
       "      <td>0.0</td>\n",
       "      <td>0.0</td>\n",
       "      <td>5463.355616</td>\n",
       "    </tr>\n",
       "    <tr>\n",
       "      <th>4</th>\n",
       "      <td>2000-02-16</td>\n",
       "      <td>5273.433174</td>\n",
       "      <td>5138.233631</td>\n",
       "      <td>5809.723337</td>\n",
       "      <td>5273.433174</td>\n",
       "      <td>5273.433174</td>\n",
       "      <td>186.503609</td>\n",
       "      <td>186.503609</td>\n",
       "      <td>186.503609</td>\n",
       "      <td>-11.056971</td>\n",
       "      <td>-11.056971</td>\n",
       "      <td>-11.056971</td>\n",
       "      <td>197.560580</td>\n",
       "      <td>197.560580</td>\n",
       "      <td>197.560580</td>\n",
       "      <td>0.0</td>\n",
       "      <td>0.0</td>\n",
       "      <td>0.0</td>\n",
       "      <td>5459.936783</td>\n",
       "    </tr>\n",
       "    <tr>\n",
       "      <th>...</th>\n",
       "      <td>...</td>\n",
       "      <td>...</td>\n",
       "      <td>...</td>\n",
       "      <td>...</td>\n",
       "      <td>...</td>\n",
       "      <td>...</td>\n",
       "      <td>...</td>\n",
       "      <td>...</td>\n",
       "      <td>...</td>\n",
       "      <td>...</td>\n",
       "      <td>...</td>\n",
       "      <td>...</td>\n",
       "      <td>...</td>\n",
       "      <td>...</td>\n",
       "      <td>...</td>\n",
       "      <td>...</td>\n",
       "      <td>...</td>\n",
       "      <td>...</td>\n",
       "      <td>...</td>\n",
       "    </tr>\n",
       "    <tr>\n",
       "      <th>5249</th>\n",
       "      <td>2021-02-26</td>\n",
       "      <td>110.512683</td>\n",
       "      <td>-155.529211</td>\n",
       "      <td>729.766102</td>\n",
       "      <td>-150.030122</td>\n",
       "      <td>369.724198</td>\n",
       "      <td>204.616005</td>\n",
       "      <td>204.616005</td>\n",
       "      <td>204.616005</td>\n",
       "      <td>-11.750314</td>\n",
       "      <td>-11.750314</td>\n",
       "      <td>-11.750314</td>\n",
       "      <td>216.366319</td>\n",
       "      <td>216.366319</td>\n",
       "      <td>216.366319</td>\n",
       "      <td>0.0</td>\n",
       "      <td>0.0</td>\n",
       "      <td>0.0</td>\n",
       "      <td>315.128688</td>\n",
       "    </tr>\n",
       "    <tr>\n",
       "      <th>5250</th>\n",
       "      <td>2021-03-01</td>\n",
       "      <td>109.808807</td>\n",
       "      <td>-165.732754</td>\n",
       "      <td>728.504257</td>\n",
       "      <td>-153.849359</td>\n",
       "      <td>372.282433</td>\n",
       "      <td>181.957160</td>\n",
       "      <td>181.957160</td>\n",
       "      <td>181.957160</td>\n",
       "      <td>-12.379438</td>\n",
       "      <td>-12.379438</td>\n",
       "      <td>-12.379438</td>\n",
       "      <td>194.336598</td>\n",
       "      <td>194.336598</td>\n",
       "      <td>194.336598</td>\n",
       "      <td>0.0</td>\n",
       "      <td>0.0</td>\n",
       "      <td>0.0</td>\n",
       "      <td>291.765967</td>\n",
       "    </tr>\n",
       "    <tr>\n",
       "      <th>5251</th>\n",
       "      <td>2021-03-02</td>\n",
       "      <td>109.574182</td>\n",
       "      <td>-147.384146</td>\n",
       "      <td>735.829715</td>\n",
       "      <td>-155.122438</td>\n",
       "      <td>373.147450</td>\n",
       "      <td>173.528179</td>\n",
       "      <td>173.528179</td>\n",
       "      <td>173.528179</td>\n",
       "      <td>-11.452345</td>\n",
       "      <td>-11.452345</td>\n",
       "      <td>-11.452345</td>\n",
       "      <td>184.980524</td>\n",
       "      <td>184.980524</td>\n",
       "      <td>184.980524</td>\n",
       "      <td>0.0</td>\n",
       "      <td>0.0</td>\n",
       "      <td>0.0</td>\n",
       "      <td>283.102361</td>\n",
       "    </tr>\n",
       "    <tr>\n",
       "      <th>5252</th>\n",
       "      <td>2021-03-03</td>\n",
       "      <td>109.339556</td>\n",
       "      <td>-188.767329</td>\n",
       "      <td>712.090360</td>\n",
       "      <td>-156.348468</td>\n",
       "      <td>374.012466</td>\n",
       "      <td>163.810036</td>\n",
       "      <td>163.810036</td>\n",
       "      <td>163.810036</td>\n",
       "      <td>-11.056971</td>\n",
       "      <td>-11.056971</td>\n",
       "      <td>-11.056971</td>\n",
       "      <td>174.867007</td>\n",
       "      <td>174.867007</td>\n",
       "      <td>174.867007</td>\n",
       "      <td>0.0</td>\n",
       "      <td>0.0</td>\n",
       "      <td>0.0</td>\n",
       "      <td>273.149593</td>\n",
       "    </tr>\n",
       "    <tr>\n",
       "      <th>5253</th>\n",
       "      <td>2021-03-04</td>\n",
       "      <td>109.104931</td>\n",
       "      <td>-185.010925</td>\n",
       "      <td>704.662780</td>\n",
       "      <td>-157.517958</td>\n",
       "      <td>374.850990</td>\n",
       "      <td>156.906077</td>\n",
       "      <td>156.906077</td>\n",
       "      <td>156.906077</td>\n",
       "      <td>-7.259293</td>\n",
       "      <td>-7.259293</td>\n",
       "      <td>-7.259293</td>\n",
       "      <td>164.165370</td>\n",
       "      <td>164.165370</td>\n",
       "      <td>164.165370</td>\n",
       "      <td>0.0</td>\n",
       "      <td>0.0</td>\n",
       "      <td>0.0</td>\n",
       "      <td>266.011008</td>\n",
       "    </tr>\n",
       "  </tbody>\n",
       "</table>\n",
       "<p>5254 rows × 19 columns</p>\n",
       "</div>"
      ],
      "text/plain": [
       "             ds        trend   yhat_lower   yhat_upper  trend_lower  \\\n",
       "0    2000-02-10  5347.694151  5124.743478  5834.566503  5347.694151   \n",
       "1    2000-02-11  5335.317321  5104.827329  5812.495953  5335.317321   \n",
       "2    2000-02-14  5298.186833  5132.347885  5814.676405  5298.186833   \n",
       "3    2000-02-15  5285.810004  5113.974958  5817.991099  5285.810004   \n",
       "4    2000-02-16  5273.433174  5138.233631  5809.723337  5273.433174   \n",
       "...         ...          ...          ...          ...          ...   \n",
       "5249 2021-02-26   110.512683  -155.529211   729.766102  -150.030122   \n",
       "5250 2021-03-01   109.808807  -165.732754   728.504257  -153.849359   \n",
       "5251 2021-03-02   109.574182  -147.384146   735.829715  -155.122438   \n",
       "5252 2021-03-03   109.339556  -188.767329   712.090360  -156.348468   \n",
       "5253 2021-03-04   109.104931  -185.010925   704.662780  -157.517958   \n",
       "\n",
       "      trend_upper  additive_terms  additive_terms_lower  additive_terms_upper  \\\n",
       "0     5347.694151      132.705381            132.705381            132.705381   \n",
       "1     5335.317321      138.267483            138.267483            138.267483   \n",
       "2     5298.186833      167.409668            167.409668            167.409668   \n",
       "3     5285.810004      177.545612            177.545612            177.545612   \n",
       "4     5273.433174      186.503609            186.503609            186.503609   \n",
       "...           ...             ...                   ...                   ...   \n",
       "5249   369.724198      204.616005            204.616005            204.616005   \n",
       "5250   372.282433      181.957160            181.957160            181.957160   \n",
       "5251   373.147450      173.528179            173.528179            173.528179   \n",
       "5252   374.012466      163.810036            163.810036            163.810036   \n",
       "5253   374.850990      156.906077            156.906077            156.906077   \n",
       "\n",
       "         weekly  weekly_lower  weekly_upper      yearly  yearly_lower  \\\n",
       "0     -7.259293     -7.259293     -7.259293  139.964674    139.964674   \n",
       "1    -11.750314    -11.750314    -11.750314  150.017797    150.017797   \n",
       "2    -12.379438    -12.379438    -12.379438  179.789105    179.789105   \n",
       "3    -11.452345    -11.452345    -11.452345  188.997957    188.997957   \n",
       "4    -11.056971    -11.056971    -11.056971  197.560580    197.560580   \n",
       "...         ...           ...           ...         ...           ...   \n",
       "5249 -11.750314    -11.750314    -11.750314  216.366319    216.366319   \n",
       "5250 -12.379438    -12.379438    -12.379438  194.336598    194.336598   \n",
       "5251 -11.452345    -11.452345    -11.452345  184.980524    184.980524   \n",
       "5252 -11.056971    -11.056971    -11.056971  174.867007    174.867007   \n",
       "5253  -7.259293     -7.259293     -7.259293  164.165370    164.165370   \n",
       "\n",
       "      yearly_upper  multiplicative_terms  multiplicative_terms_lower  \\\n",
       "0       139.964674                   0.0                         0.0   \n",
       "1       150.017797                   0.0                         0.0   \n",
       "2       179.789105                   0.0                         0.0   \n",
       "3       188.997957                   0.0                         0.0   \n",
       "4       197.560580                   0.0                         0.0   \n",
       "...            ...                   ...                         ...   \n",
       "5249    216.366319                   0.0                         0.0   \n",
       "5250    194.336598                   0.0                         0.0   \n",
       "5251    184.980524                   0.0                         0.0   \n",
       "5252    174.867007                   0.0                         0.0   \n",
       "5253    164.165370                   0.0                         0.0   \n",
       "\n",
       "      multiplicative_terms_upper         yhat  \n",
       "0                            0.0  5480.399532  \n",
       "1                            0.0  5473.584805  \n",
       "2                            0.0  5465.596501  \n",
       "3                            0.0  5463.355616  \n",
       "4                            0.0  5459.936783  \n",
       "...                          ...          ...  \n",
       "5249                         0.0   315.128688  \n",
       "5250                         0.0   291.765967  \n",
       "5251                         0.0   283.102361  \n",
       "5252                         0.0   273.149593  \n",
       "5253                         0.0   266.011008  \n",
       "\n",
       "[5254 rows x 19 columns]"
      ]
     },
     "execution_count": 112,
     "metadata": {},
     "output_type": "execute_result"
    }
   ],
   "source": [
    "forecast"
   ]
  },
  {
   "cell_type": "code",
   "execution_count": 114,
   "metadata": {},
   "outputs": [
    {
     "data": {
      "text/html": [
       "<div>\n",
       "<style scoped>\n",
       "    .dataframe tbody tr th:only-of-type {\n",
       "        vertical-align: middle;\n",
       "    }\n",
       "\n",
       "    .dataframe tbody tr th {\n",
       "        vertical-align: top;\n",
       "    }\n",
       "\n",
       "    .dataframe thead th {\n",
       "        text-align: right;\n",
       "    }\n",
       "</style>\n",
       "<table border=\"1\" class=\"dataframe\">\n",
       "  <thead>\n",
       "    <tr style=\"text-align: right;\">\n",
       "      <th></th>\n",
       "      <th>ds</th>\n",
       "      <th>yhat</th>\n",
       "      <th>yhat_lower</th>\n",
       "      <th>yhat_upper</th>\n",
       "      <th>y</th>\n",
       "      <th>cutoff</th>\n",
       "    </tr>\n",
       "  </thead>\n",
       "  <tbody>\n",
       "    <tr>\n",
       "      <th>729</th>\n",
       "      <td>2020-02-27</td>\n",
       "      <td>365.829376</td>\n",
       "      <td>-72.629160</td>\n",
       "      <td>846.717935</td>\n",
       "      <td>231.6</td>\n",
       "      <td>2019-02-28</td>\n",
       "    </tr>\n",
       "    <tr>\n",
       "      <th>730</th>\n",
       "      <td>2020-02-28</td>\n",
       "      <td>353.909004</td>\n",
       "      <td>-70.855088</td>\n",
       "      <td>817.825317</td>\n",
       "      <td>221.1</td>\n",
       "      <td>2019-02-28</td>\n",
       "    </tr>\n",
       "  </tbody>\n",
       "</table>\n",
       "</div>"
      ],
      "text/plain": [
       "            ds        yhat  yhat_lower  yhat_upper      y     cutoff\n",
       "729 2020-02-27  365.829376  -72.629160  846.717935  231.6 2019-02-28\n",
       "730 2020-02-28  353.909004  -70.855088  817.825317  221.1 2019-02-28"
      ]
     },
     "execution_count": 114,
     "metadata": {},
     "output_type": "execute_result"
    }
   ],
   "source": [
    "df_cv.tail(2)"
   ]
  },
  {
   "cell_type": "code",
   "execution_count": 107,
   "metadata": {},
   "outputs": [
    {
     "data": {
      "text/html": [
       "<div>\n",
       "<style scoped>\n",
       "    .dataframe tbody tr th:only-of-type {\n",
       "        vertical-align: middle;\n",
       "    }\n",
       "\n",
       "    .dataframe tbody tr th {\n",
       "        vertical-align: top;\n",
       "    }\n",
       "\n",
       "    .dataframe thead th {\n",
       "        text-align: right;\n",
       "    }\n",
       "</style>\n",
       "<table border=\"1\" class=\"dataframe\">\n",
       "  <thead>\n",
       "    <tr style=\"text-align: right;\">\n",
       "      <th></th>\n",
       "      <th>horizon</th>\n",
       "      <th>mse</th>\n",
       "      <th>rmse</th>\n",
       "      <th>mae</th>\n",
       "      <th>mape</th>\n",
       "      <th>mdape</th>\n",
       "      <th>coverage</th>\n",
       "    </tr>\n",
       "  </thead>\n",
       "  <tbody>\n",
       "    <tr>\n",
       "      <th>0</th>\n",
       "      <td>37 days</td>\n",
       "      <td>81156.236661</td>\n",
       "      <td>284.879337</td>\n",
       "      <td>237.495074</td>\n",
       "      <td>0.161738</td>\n",
       "      <td>0.149890</td>\n",
       "      <td>0.643836</td>\n",
       "    </tr>\n",
       "    <tr>\n",
       "      <th>1</th>\n",
       "      <td>38 days</td>\n",
       "      <td>80440.167877</td>\n",
       "      <td>283.619759</td>\n",
       "      <td>236.321319</td>\n",
       "      <td>0.161644</td>\n",
       "      <td>0.150124</td>\n",
       "      <td>0.650685</td>\n",
       "    </tr>\n",
       "  </tbody>\n",
       "</table>\n",
       "</div>"
      ],
      "text/plain": [
       "  horizon           mse        rmse         mae      mape     mdape  coverage\n",
       "0 37 days  81156.236661  284.879337  237.495074  0.161738  0.149890  0.643836\n",
       "1 38 days  80440.167877  283.619759  236.321319  0.161644  0.150124  0.650685"
      ]
     },
     "execution_count": 107,
     "metadata": {},
     "output_type": "execute_result"
    }
   ],
   "source": [
    "results = performance_metrics(df_cv)\n",
    "results.head(2)"
   ]
  },
  {
   "cell_type": "code",
   "execution_count": 108,
   "metadata": {},
   "outputs": [
    {
     "name": "stderr",
     "output_type": "stream",
     "text": [
      "INFO:fbprophet:Disabling daily seasonality. Run prophet with daily_seasonality=True to override this.\n"
     ]
    },
    {
     "name": "stdout",
     "output_type": "stream",
     "text": [
      "BOM524715\n"
     ]
    },
    {
     "name": "stderr",
     "output_type": "stream",
     "text": [
      "INFO:fbprophet:Disabling daily seasonality. Run prophet with daily_seasonality=True to override this.\n"
     ]
    },
    {
     "name": "stdout",
     "output_type": "stream",
     "text": [
      "Error Occured\n",
      "BOM532488\n"
     ]
    },
    {
     "name": "stderr",
     "output_type": "stream",
     "text": [
      "INFO:fbprophet:Disabling daily seasonality. Run prophet with daily_seasonality=True to override this.\n"
     ]
    },
    {
     "name": "stdout",
     "output_type": "stream",
     "text": [
      "Error Occured\n",
      "BOM500124\n"
     ]
    },
    {
     "name": "stderr",
     "output_type": "stream",
     "text": [
      "INFO:fbprophet:Disabling daily seasonality. Run prophet with daily_seasonality=True to override this.\n"
     ]
    },
    {
     "name": "stdout",
     "output_type": "stream",
     "text": [
      "Error Occured\n",
      "BOM500180\n"
     ]
    },
    {
     "name": "stderr",
     "output_type": "stream",
     "text": [
      "INFO:fbprophet:Making 3 forecasts with cutoffs between 2009-03-02 00:00:00 and 2019-02-28 00:00:00\n"
     ]
    },
    {
     "data": {
      "application/vnd.jupyter.widget-view+json": {
       "model_id": "30dd2e6cb529401f95582e93eb347f78",
       "version_major": 2,
       "version_minor": 0
      },
      "text/plain": [
       "  0%|          | 0/3 [00:00<?, ?it/s]"
      ]
     },
     "metadata": {},
     "output_type": "display_data"
    },
    {
     "name": "stderr",
     "output_type": "stream",
     "text": [
      "INFO:fbprophet:Disabling daily seasonality. Run prophet with daily_seasonality=True to override this.\n"
     ]
    },
    {
     "name": "stdout",
     "output_type": "stream",
     "text": [
      "Error Occured\n",
      "BOM532174\n"
     ]
    },
    {
     "name": "stderr",
     "output_type": "stream",
     "text": [
      "INFO:fbprophet:Making 3 forecasts with cutoffs between 2009-03-02 00:00:00 and 2019-02-28 00:00:00\n"
     ]
    },
    {
     "data": {
      "application/vnd.jupyter.widget-view+json": {
       "model_id": "c3302eb09cd7456f87d29812dd730ae2",
       "version_major": 2,
       "version_minor": 0
      },
      "text/plain": [
       "  0%|          | 0/3 [00:00<?, ?it/s]"
      ]
     },
     "metadata": {},
     "output_type": "display_data"
    },
    {
     "name": "stderr",
     "output_type": "stream",
     "text": [
      "INFO:fbprophet:Disabling daily seasonality. Run prophet with daily_seasonality=True to override this.\n"
     ]
    },
    {
     "name": "stdout",
     "output_type": "stream",
     "text": [
      "Error Occured\n",
      "BOM500247\n"
     ]
    },
    {
     "name": "stderr",
     "output_type": "stream",
     "text": [
      "INFO:fbprophet:Making 3 forecasts with cutoffs between 2009-03-02 00:00:00 and 2019-02-28 00:00:00\n"
     ]
    },
    {
     "data": {
      "application/vnd.jupyter.widget-view+json": {
       "model_id": "97e0aebf472641b7a76d11d6c82f28a1",
       "version_major": 2,
       "version_minor": 0
      },
      "text/plain": [
       "  0%|          | 0/3 [00:00<?, ?it/s]"
      ]
     },
     "metadata": {},
     "output_type": "display_data"
    },
    {
     "name": "stderr",
     "output_type": "stream",
     "text": [
      "INFO:fbprophet:Disabling daily seasonality. Run prophet with daily_seasonality=True to override this.\n"
     ]
    },
    {
     "name": "stdout",
     "output_type": "stream",
     "text": [
      "Error Occured\n",
      "BOM500470\n"
     ]
    },
    {
     "name": "stderr",
     "output_type": "stream",
     "text": [
      "INFO:fbprophet:Making 3 forecasts with cutoffs between 2009-03-02 00:00:00 and 2019-02-28 00:00:00\n"
     ]
    },
    {
     "data": {
      "application/vnd.jupyter.widget-view+json": {
       "model_id": "76d5d2f16007454c919d84cf8f8f6cbb",
       "version_major": 2,
       "version_minor": 0
      },
      "text/plain": [
       "  0%|          | 0/3 [00:00<?, ?it/s]"
      ]
     },
     "metadata": {},
     "output_type": "display_data"
    },
    {
     "name": "stderr",
     "output_type": "stream",
     "text": [
      "INFO:fbprophet:Disabling daily seasonality. Run prophet with daily_seasonality=True to override this.\n"
     ]
    },
    {
     "name": "stdout",
     "output_type": "stream",
     "text": [
      "Error Occured\n",
      "BOM500228\n"
     ]
    },
    {
     "name": "stderr",
     "output_type": "stream",
     "text": [
      "INFO:fbprophet:Making 3 forecasts with cutoffs between 2009-03-02 00:00:00 and 2019-02-28 00:00:00\n"
     ]
    },
    {
     "data": {
      "application/vnd.jupyter.widget-view+json": {
       "model_id": "7fd87995eb864c068e55c769c477d63e",
       "version_major": 2,
       "version_minor": 0
      },
      "text/plain": [
       "  0%|          | 0/3 [00:00<?, ?it/s]"
      ]
     },
     "metadata": {},
     "output_type": "display_data"
    },
    {
     "name": "stderr",
     "output_type": "stream",
     "text": [
      "INFO:fbprophet:Disabling daily seasonality. Run prophet with daily_seasonality=True to override this.\n"
     ]
    },
    {
     "name": "stdout",
     "output_type": "stream",
     "text": [
      "Error Occured\n",
      "BOM500440\n"
     ]
    },
    {
     "name": "stderr",
     "output_type": "stream",
     "text": [
      "INFO:fbprophet:Making 3 forecasts with cutoffs between 2009-03-02 00:00:00 and 2019-02-28 00:00:00\n"
     ]
    },
    {
     "data": {
      "application/vnd.jupyter.widget-view+json": {
       "model_id": "8672f5e64be6439e8286da1ec2672fb3",
       "version_major": 2,
       "version_minor": 0
      },
      "text/plain": [
       "  0%|          | 0/3 [00:00<?, ?it/s]"
      ]
     },
     "metadata": {},
     "output_type": "display_data"
    },
    {
     "name": "stderr",
     "output_type": "stream",
     "text": [
      "INFO:fbprophet:Disabling daily seasonality. Run prophet with daily_seasonality=True to override this.\n"
     ]
    },
    {
     "name": "stdout",
     "output_type": "stream",
     "text": [
      "Error Occured\n",
      "BOM532977\n"
     ]
    },
    {
     "name": "stderr",
     "output_type": "stream",
     "text": [
      "INFO:fbprophet:Making 2 forecasts with cutoffs between 2014-03-01 00:00:00 and 2019-02-28 00:00:00\n"
     ]
    },
    {
     "data": {
      "application/vnd.jupyter.widget-view+json": {
       "model_id": "56fac2fd02d94ee786e899dcfb015e2e",
       "version_major": 2,
       "version_minor": 0
      },
      "text/plain": [
       "  0%|          | 0/2 [00:00<?, ?it/s]"
      ]
     },
     "metadata": {},
     "output_type": "display_data"
    },
    {
     "name": "stderr",
     "output_type": "stream",
     "text": [
      "INFO:fbprophet:Disabling daily seasonality. Run prophet with daily_seasonality=True to override this.\n"
     ]
    },
    {
     "name": "stdout",
     "output_type": "stream",
     "text": [
      "Error Occured\n",
      "BOM500570\n"
     ]
    },
    {
     "name": "stderr",
     "output_type": "stream",
     "text": [
      "INFO:fbprophet:Disabling daily seasonality. Run prophet with daily_seasonality=True to override this.\n"
     ]
    },
    {
     "name": "stdout",
     "output_type": "stream",
     "text": [
      "Error Occured\n",
      "BOM532500\n"
     ]
    },
    {
     "name": "stderr",
     "output_type": "stream",
     "text": [
      "INFO:fbprophet:Making 3 forecasts with cutoffs between 2009-03-02 00:00:00 and 2019-02-28 00:00:00\n"
     ]
    },
    {
     "data": {
      "application/vnd.jupyter.widget-view+json": {
       "model_id": "3a6baaa6e3e64fa0a338ecfa8b4fce2b",
       "version_major": 2,
       "version_minor": 0
      },
      "text/plain": [
       "  0%|          | 0/3 [00:00<?, ?it/s]"
      ]
     },
     "metadata": {},
     "output_type": "display_data"
    },
    {
     "name": "stderr",
     "output_type": "stream",
     "text": [
      "INFO:fbprophet:Disabling daily seasonality. Run prophet with daily_seasonality=True to override this.\n"
     ]
    },
    {
     "name": "stdout",
     "output_type": "stream",
     "text": [
      "Error Occured\n",
      "BOM500209\n"
     ]
    },
    {
     "name": "stderr",
     "output_type": "stream",
     "text": [
      "INFO:fbprophet:Making 3 forecasts with cutoffs between 2009-03-02 00:00:00 and 2019-02-28 00:00:00\n"
     ]
    },
    {
     "data": {
      "application/vnd.jupyter.widget-view+json": {
       "model_id": "e45faa836d2146e7a8a22e85d27541eb",
       "version_major": 2,
       "version_minor": 0
      },
      "text/plain": [
       "  0%|          | 0/3 [00:00<?, ?it/s]"
      ]
     },
     "metadata": {},
     "output_type": "display_data"
    },
    {
     "name": "stderr",
     "output_type": "stream",
     "text": [
      "INFO:fbprophet:Disabling daily seasonality. Run prophet with daily_seasonality=True to override this.\n"
     ]
    },
    {
     "name": "stdout",
     "output_type": "stream",
     "text": [
      "Error Occured\n",
      "BOM532540\n"
     ]
    },
    {
     "name": "stderr",
     "output_type": "stream",
     "text": [
      "INFO:fbprophet:Making 2 forecasts with cutoffs between 2014-03-01 00:00:00 and 2019-02-28 00:00:00\n"
     ]
    },
    {
     "data": {
      "application/vnd.jupyter.widget-view+json": {
       "model_id": "ac0fa0a476b641688cb30e8d6b87e698",
       "version_major": 2,
       "version_minor": 0
      },
      "text/plain": [
       "  0%|          | 0/2 [00:00<?, ?it/s]"
      ]
     },
     "metadata": {},
     "output_type": "display_data"
    },
    {
     "name": "stderr",
     "output_type": "stream",
     "text": [
      "INFO:fbprophet:Disabling daily seasonality. Run prophet with daily_seasonality=True to override this.\n"
     ]
    },
    {
     "name": "stdout",
     "output_type": "stream",
     "text": [
      "Error Occured\n",
      "BOM507685\n"
     ]
    },
    {
     "name": "stderr",
     "output_type": "stream",
     "text": [
      "INFO:fbprophet:Making 3 forecasts with cutoffs between 2009-03-02 00:00:00 and 2019-02-28 00:00:00\n"
     ]
    },
    {
     "data": {
      "application/vnd.jupyter.widget-view+json": {
       "model_id": "bab065cea88849b6a541f35452644ac6",
       "version_major": 2,
       "version_minor": 0
      },
      "text/plain": [
       "  0%|          | 0/3 [00:00<?, ?it/s]"
      ]
     },
     "metadata": {},
     "output_type": "display_data"
    },
    {
     "name": "stdout",
     "output_type": "stream",
     "text": [
      "Error Occured\n"
     ]
    },
    {
     "ename": "NameError",
     "evalue": "name 'NPSingleRegressionResults' is not defined",
     "output_type": "error",
     "traceback": [
      "\u001b[1;31m---------------------------------------------------------------------------\u001b[0m",
      "\u001b[1;31mNameError\u001b[0m                                 Traceback (most recent call last)",
      "\u001b[1;32m<ipython-input-108-63a04a907dd8>\u001b[0m in \u001b[0;36m<module>\u001b[1;34m\u001b[0m\n\u001b[0;32m     16\u001b[0m         \u001b[0mprint\u001b[0m\u001b[1;33m(\u001b[0m\u001b[1;34m\"Error Occured\"\u001b[0m\u001b[1;33m)\u001b[0m\u001b[1;33m\u001b[0m\u001b[1;33m\u001b[0m\u001b[0m\n\u001b[0;32m     17\u001b[0m \u001b[1;33m\u001b[0m\u001b[0m\n\u001b[1;32m---> 18\u001b[1;33m \u001b[0mNPSingleRegressionResults\u001b[0m\u001b[1;33m.\u001b[0m\u001b[0mto_csv\u001b[0m\u001b[1;33m(\u001b[0m\u001b[1;34m'Outputs/ProphetSingleRegressionResults.csv'\u001b[0m\u001b[1;33m)\u001b[0m\u001b[1;33m\u001b[0m\u001b[1;33m\u001b[0m\u001b[0m\n\u001b[0m",
      "\u001b[1;31mNameError\u001b[0m: name 'NPSingleRegressionResults' is not defined"
     ]
    }
   ],
   "source": [
    "# initalize result variable\n",
    "ProphetSingleRegressionResults = pd.DataFrame(columns = ['StockName','MAE','MAPE', 'RMSE', 'AdjustedR2', 'Noise'], index = stocks)\n",
    "for s in stocks:\n",
    "    print(s)\n",
    "    try:\n",
    "        m, forecast, df_cv = ProphetProcedure(s)\n",
    "        ProphetSingleRegressionResults.loc[s, ['StockName']] =  getStockNameFromStockCode(s)\n",
    "        ProphetSingleRegressionResults.loc[s, ['MAE']] =  val_metrics['MAE'][0]\n",
    "        ProphetSingleRegressionResults.loc[s, ['RMSE']] = np.sqrt(val_metrics['MSE'][0])\n",
    "        t = forecast.dropna()\n",
    "        ProphetSingleRegressionResults.loc[s, ['MAPE']] = mean_absolute_percentage_error(t.y, t.yhat1)\n",
    "        ProphetSingleRegressionResults.loc[s, ['AdjustedR2']] = r2_score(t.y, t.yhat1)\n",
    "        ProphetSingleRegressionResults.loc[s, ['Noise']] = t.yhat1.diff().abs().mean()\n",
    "        print('Success')\n",
    "    except:\n",
    "        print(\"Error Occured\")\n",
    "        \n",
    "NPSingleRegressionResults.to_csv('Outputs/ProphetSingleRegressionResults.csv')"
   ]
  },
  {
   "cell_type": "code",
   "execution_count": 92,
   "metadata": {},
   "outputs": [
    {
     "name": "stderr",
     "output_type": "stream",
     "text": [
      "INFO:fbprophet:Disabling daily seasonality. Run prophet with daily_seasonality=True to override this.\n",
      "INFO:fbprophet:Making 3 forecasts with cutoffs between 2009-03-02 00:00:00 and 2019-02-28 00:00:00\n"
     ]
    },
    {
     "data": {
      "application/vnd.jupyter.widget-view+json": {
       "model_id": "97c53201a6fa4d70b52ed1d13831b6b4",
       "version_major": 2,
       "version_minor": 0
      },
      "text/plain": [
       "  0%|          | 0/3 [00:00<?, ?it/s]"
      ]
     },
     "metadata": {},
     "output_type": "display_data"
    }
   ],
   "source": [
    "m, forecast, df_cv = ProphetProcedureWithExogenousVariables(stocks[1])"
   ]
  },
  {
   "cell_type": "code",
   "execution_count": 93,
   "metadata": {
    "id": "K9_j1T4gsQEX"
   },
   "outputs": [],
   "source": [
    "# for plotting\n",
    "df = ScriptWiseData[stocks[1]]\n",
    "df.index = pd.to_datetime(df.index)\n",
    "df = df.reset_index()\n",
    "df.columns = ['ds', 'y'] + TechnicalIndicators"
   ]
  },
  {
   "cell_type": "code",
   "execution_count": 94,
   "metadata": {
    "id": "EPn7yuFdsQEY",
    "outputId": "65a37bc7-e5e8-4b7e-cff5-c517502b4170"
   },
   "outputs": [
    {
     "data": {
      "image/png": "[encoded data removed]",
      "text/plain": [
       "<Figure size 648x864 with 4 Axes>"
      ]
     },
     "metadata": {},
     "output_type": "display_data"
    }
   ],
   "source": [
    "m.plot_components(forecast);"
   ]
  },
  {
   "cell_type": "code",
   "execution_count": 95,
   "metadata": {
    "id": "Gox2oG3esQEa",
    "outputId": "362125cb-0450-4032-ed31-7559a7177e69"
   },
   "outputs": [
    {
     "data": {
      "text/plain": [
       "<AxesSubplot:xlabel='ds'>"
      ]
     },
     "execution_count": 95,
     "metadata": {},
     "output_type": "execute_result"
    },
    {
     "data": {
      "image/png": "[encoded data removed]",
      "text/plain": [
       "<Figure size 864x576 with 1 Axes>"
      ]
     },
     "metadata": {
      "needs_background": "light"
     },
     "output_type": "display_data"
    }
   ],
   "source": [
    "ax = forecast.plot(x='ds',y='yhat',label='Predictions',legend=True,figsize=(12,8))\n",
    "\n",
    "df.plot(x='ds',y='y',label='Actual Price',legend=True,ax=ax) #,xlim=(df_start_date,df_end_date))"
   ]
  },
  {
   "cell_type": "code",
   "execution_count": 96,
   "metadata": {
    "id": "mE7wTtvhsQEc",
    "outputId": "d79609d9-ff21-4014-9b6f-ea7372ab5273"
   },
   "outputs": [
    {
     "data": {
      "text/html": [
       "<div>\n",
       "<style scoped>\n",
       "    .dataframe tbody tr th:only-of-type {\n",
       "        vertical-align: middle;\n",
       "    }\n",
       "\n",
       "    .dataframe tbody tr th {\n",
       "        vertical-align: top;\n",
       "    }\n",
       "\n",
       "    .dataframe thead th {\n",
       "        text-align: right;\n",
       "    }\n",
       "</style>\n",
       "<table border=\"1\" class=\"dataframe\">\n",
       "  <thead>\n",
       "    <tr style=\"text-align: right;\">\n",
       "      <th></th>\n",
       "      <th>horizon</th>\n",
       "      <th>mse</th>\n",
       "      <th>rmse</th>\n",
       "      <th>mae</th>\n",
       "      <th>mape</th>\n",
       "      <th>mdape</th>\n",
       "      <th>coverage</th>\n",
       "    </tr>\n",
       "  </thead>\n",
       "  <tbody>\n",
       "    <tr>\n",
       "      <th>0</th>\n",
       "      <td>37 days</td>\n",
       "      <td>81156.236661</td>\n",
       "      <td>284.879337</td>\n",
       "      <td>237.495074</td>\n",
       "      <td>0.161738</td>\n",
       "      <td>0.149890</td>\n",
       "      <td>0.643836</td>\n",
       "    </tr>\n",
       "    <tr>\n",
       "      <th>1</th>\n",
       "      <td>38 days</td>\n",
       "      <td>80440.167877</td>\n",
       "      <td>283.619759</td>\n",
       "      <td>236.321319</td>\n",
       "      <td>0.161644</td>\n",
       "      <td>0.150124</td>\n",
       "      <td>0.650685</td>\n",
       "    </tr>\n",
       "    <tr>\n",
       "      <th>2</th>\n",
       "      <td>39 days</td>\n",
       "      <td>82757.586300</td>\n",
       "      <td>287.676183</td>\n",
       "      <td>241.132811</td>\n",
       "      <td>0.164188</td>\n",
       "      <td>0.150444</td>\n",
       "      <td>0.643836</td>\n",
       "    </tr>\n",
       "    <tr>\n",
       "      <th>3</th>\n",
       "      <td>40 days</td>\n",
       "      <td>86325.585093</td>\n",
       "      <td>293.812160</td>\n",
       "      <td>248.199516</td>\n",
       "      <td>0.167998</td>\n",
       "      <td>0.151192</td>\n",
       "      <td>0.630137</td>\n",
       "    </tr>\n",
       "    <tr>\n",
       "      <th>4</th>\n",
       "      <td>41 days</td>\n",
       "      <td>90101.676229</td>\n",
       "      <td>300.169413</td>\n",
       "      <td>255.237105</td>\n",
       "      <td>0.171648</td>\n",
       "      <td>0.165099</td>\n",
       "      <td>0.616438</td>\n",
       "    </tr>\n",
       "  </tbody>\n",
       "</table>\n",
       "</div>"
      ],
      "text/plain": [
       "  horizon           mse        rmse         mae      mape     mdape  coverage\n",
       "0 37 days  81156.236661  284.879337  237.495074  0.161738  0.149890  0.643836\n",
       "1 38 days  80440.167877  283.619759  236.321319  0.161644  0.150124  0.650685\n",
       "2 39 days  82757.586300  287.676183  241.132811  0.164188  0.150444  0.643836\n",
       "3 40 days  86325.585093  293.812160  248.199516  0.167998  0.151192  0.630137\n",
       "4 41 days  90101.676229  300.169413  255.237105  0.171648  0.165099  0.616438"
      ]
     },
     "execution_count": 96,
     "metadata": {},
     "output_type": "execute_result"
    }
   ],
   "source": []
  },
  {
   "cell_type": "code",
   "execution_count": 97,
   "metadata": {
    "id": "1f8LM00WsQEe",
    "outputId": "8d692140-b294-4db9-a913-c53138b83ea4"
   },
   "outputs": [
    {
     "data": {
      "image/png": "[encoded data removed]",
      "text/plain": [
       "<Figure size 720x432 with 1 Axes>"
      ]
     },
     "metadata": {},
     "output_type": "display_data"
    }
   ],
   "source": [
    "plot_cross_validation_metric(df_cv, metric='rmse');"
   ]
  },
  {
   "cell_type": "markdown",
   "metadata": {
    "id": "JR3DmOZ4sQEf"
   },
   "source": [
    "## Neural Prophet and AR-Net"
   ]
  },
  {
   "cell_type": "code",
   "execution_count": null,
   "metadata": {
    "id": "BVeij9D7sQEg"
   },
   "outputs": [],
   "source": [
    "from neuralprophet import NeuralProphet, set_random_seed , set_log_level\n",
    "set_random_seed(0)\n",
    "set_log_level(\"ERROR\")"
   ]
  },
  {
   "cell_type": "code",
   "execution_count": null,
   "metadata": {
    "id": "unpLeFwSsQEg",
    "outputId": "1ffcd2c3-2cc8-41da-99c1-82aa500b97f0"
   },
   "outputs": [],
   "source": [
    "df = ScriptWiseData['BOM500180'].reset_index()\n",
    "df = df[['Date', 'Close']]\n",
    "df.columns = ['ds', 'y']\n",
    "df.head()"
   ]
  },
  {
   "cell_type": "markdown",
   "metadata": {
    "id": "7crbHcAmsQEh"
   },
   "source": [
    "### Basic Model"
   ]
  },
  {
   "cell_type": "code",
   "execution_count": null,
   "metadata": {
    "id": "5UOQd_aAsQEi"
   },
   "outputs": [],
   "source": [
    "def BuildNeuralProphetModels(dataset, start_date = start_date, end_date = end_date, n_forecasts = 1, n_lags = 5, columnName = 'Close'):\n",
    "    # prepare the dataset\n",
    "    df = dataset.reset_index()\n",
    "    df = df[['Date', columnName]]\n",
    "    df.columns = ['ds', 'y']\n",
    "    \n",
    "    # train test splilt\n",
    "    train = df.loc[(df['ds'] < start_date)]\n",
    "    df_test = df.loc[(df['ds'] >= start_date) & (df['ds'] <= end_date)]\n",
    "    \n",
    "    # initalize the model\n",
    "    m = NeuralProphet(n_forecasts=n_forecasts,n_lags=n_lags)\n",
    "    \n",
    "    # split the training set into train and validation set\n",
    "    df_train, df_val = m.split_df(train, valid_p=0.2, freq='D')\n",
    "\n",
    "    # fit and test the model\n",
    "    train_metrics = m.fit(df_train, freq='D', progress_bar = False)\n",
    "    val_metrics = m.test(df_val)\n",
    "    \n",
    "    # make forecasts\n",
    "    future = m.make_future_dataframe(df_test, periods=len(df_test), n_historic_predictions=len(df_test))\n",
    "#     future = m.make_future_dataframe(df_test, n_historic_predictions= True)\n",
    "    forecast = m.predict(future)\n",
    "    return (m, forecast,  train_metrics, val_metrics)"
   ]
  },
  {
   "cell_type": "code",
   "execution_count": null,
   "metadata": {},
   "outputs": [],
   "source": [
    "# NPSingleRegressionResults.loc[s, ['StockName']] =  getStockNameFromStockCode(s)\n",
    "# NPSingleRegressionResults.loc[s, ['MAE']] =  val_metrics['MAE'][0]\n",
    "# NPSingleRegressionResults.loc[s, ['RMSE']] = np.sqrt(val_metrics['MSE'][0])\n",
    "# t = forecast.dropna()\n",
    "# NPSingleRegressionResults.loc[s, ['MAPE']] = mean_absolute_percentage_error(t.y, t.yhat1)\n",
    "# NPSingleRegressionResults.loc[s, ['AdjustedR2']] = r2_score(t.y, t.yhat1)\n",
    "# NPSingleRegressionResults.loc[s, ['Noise']] = t.yhat1.diff().abs().mean()"
   ]
  },
  {
   "cell_type": "code",
   "execution_count": null,
   "metadata": {
    "colab": {
     "referenced_widgets": [
      "d75dbf2f23e343c79bfb1d02ef0027b9"
     ]
    },
    "id": "iFMxZrpdsQEj",
    "outputId": "fd8725bc-a955-4cf4-fdae-8e313aadb338",
    "scrolled": true
   },
   "outputs": [],
   "source": [
    "# initalize result variable\n",
    "NPSingleRegressionResults = pd.DataFrame(columns = ['StockName','MAE','MAPE', 'RMSE', 'AdjustedR2', 'Noise'], index = stocks)\n",
    "for s in stocks:\n",
    "    print(s)\n",
    "    try:\n",
    "        m, forecast , train_metrics, val_metrics = BuildNeuralProphetModels(ScriptWiseData[s])\n",
    "        NPSingleRegressionResults.loc[s, ['StockName']] =  getStockNameFromStockCode(s)\n",
    "        NPSingleRegressionResults.loc[s, ['MAE']] =  val_metrics['MAE'][0]\n",
    "        NPSingleRegressionResults.loc[s, ['RMSE']] = np.sqrt(val_metrics['MSE'][0])\n",
    "        t = forecast.dropna()\n",
    "        NPSingleRegressionResults.loc[s, ['MAPE']] = mean_absolute_percentage_error(t.y, t.yhat1)\n",
    "        NPSingleRegressionResults.loc[s, ['AdjustedR2']] = r2_score(t.y, t.yhat1)\n",
    "        NPSingleRegressionResults.loc[s, ['Noise']] = t.yhat1.diff().abs().mean()\n",
    "        print('Success')\n",
    "    except:\n",
    "        print(\"Error Occured\")\n",
    "        \n",
    "NPSingleRegressionResults.to_csv('Outputs/Neural Prophet Single Regression Results.csv')"
   ]
  },
  {
   "cell_type": "code",
   "execution_count": null,
   "metadata": {},
   "outputs": [],
   "source": [
    "NPSingleRegressionResults"
   ]
  },
  {
   "cell_type": "markdown",
   "metadata": {
    "id": "-gFYa-NAsQEk"
   },
   "source": [
    "#### Plot the forecast"
   ]
  },
  {
   "cell_type": "code",
   "execution_count": null,
   "metadata": {
    "id": "AnvjUMdgsQEl",
    "outputId": "09381576-fac5-4341-cb32-bdde156bedd1"
   },
   "outputs": [],
   "source": [
    "# forecasts_plot = m.plot(forecast)"
   ]
  },
  {
   "cell_type": "code",
   "execution_count": null,
   "metadata": {
    "id": "68PEOkGOsQEm",
    "outputId": "bd333bbd-4d0d-4f6b-90d7-75166d1ae550"
   },
   "outputs": [],
   "source": [
    "# fig_comp = m.plot_components(forecast);"
   ]
  },
  {
   "cell_type": "code",
   "execution_count": null,
   "metadata": {
    "id": "yAJ_OsqssQEn",
    "outputId": "247c4181-4e12-48b1-8d25-cd6f96c2d45a"
   },
   "outputs": [],
   "source": [
    "# fig_param = m.plot_parameters()"
   ]
  },
  {
   "cell_type": "markdown",
   "metadata": {
    "id": "Vnn3hoFAsQEn"
   },
   "source": [
    "#### Validating the dataset"
   ]
  },
  {
   "cell_type": "code",
   "execution_count": null,
   "metadata": {
    "id": "Ex3Z1xDIsQEo"
   },
   "outputs": [],
   "source": [
    "# m = NeuralProphet()\n",
    "# df_train, df_val = m.split_df(df, valid_p=0.2, freq='D')"
   ]
  },
  {
   "cell_type": "code",
   "execution_count": null,
   "metadata": {
    "colab": {
     "referenced_widgets": [
      "ae64ea0b0e05486c96372543cc58880b"
     ]
    },
    "id": "PC67AMB6sQEp",
    "outputId": "a2401076-5f36-44c9-e4ed-0221e7294459"
   },
   "outputs": [],
   "source": [
    "# train_metrics = m.fit(df_train, freq='D')\n",
    "# val_metrics = m.test(df_val)"
   ]
  },
  {
   "cell_type": "markdown",
   "metadata": {
    "id": "Fw9UprMlsQEq"
   },
   "source": [
    "## Multiple regressors"
   ]
  },
  {
   "cell_type": "code",
   "execution_count": null,
   "metadata": {
    "id": "IxsXDTejsQEr"
   },
   "outputs": [],
   "source": [
    "def BuildNeuralProphetModelsWithMultipleRegressors(dataset, start_date = start_date, end_date = end_date, n_forecasts = 1, n_lags = 5):\n",
    "    # prepare the dataset\n",
    "    df = dataset.reset_index()\n",
    "    df = df[['Date', 'Close']+TechnicalIndicators]\n",
    "    df.columns = ['ds', 'y', 'A', 'B', 'C', 'D', 'E']\n",
    "    \n",
    "    # train test splilt\n",
    "    train = df.loc[(df['ds'] < start_date)]\n",
    "    df_test = df.loc[(df['ds'] >= start_date) & (df['ds'] <= end_date)]\n",
    "    \n",
    "    # initalize the model\n",
    "    m = NeuralProphet(n_forecasts=n_forecasts,n_lags=n_lags)\n",
    "    # lagged regressors\n",
    "    m.add_lagged_regressor(name='A')\n",
    "    m.add_lagged_regressor(name='B')\n",
    "    m.add_lagged_regressor(name='C')\n",
    "    m.add_lagged_regressor(name='D')\n",
    "    m.add_lagged_regressor(name='E')\n",
    "    \n",
    "    # split the training set into train and validation set\n",
    "    df_train, df_val = m.split_df(train, valid_p=0.2, freq='D')\n",
    "\n",
    "    # fit and test the model\n",
    "    train_metrics = m.fit(df_train, freq='D',progress_bar = False)\n",
    "    val_metrics = m.test(df_val)\n",
    "    \n",
    "    # make forecasts\n",
    "    # future = m.make_future_dataframe(df_test, periods=len(df_test), n_historic_predictions=len(df_test))\n",
    "    future = m.make_future_dataframe(df_test, n_historic_predictions= True)\n",
    "    forecast = m.predict(future)\n",
    "    return (m, forecast,  train_metrics, val_metrics)"
   ]
  },
  {
   "cell_type": "code",
   "execution_count": null,
   "metadata": {},
   "outputs": [],
   "source": [
    "# m, forecast , train_metrics, val_metrics = BuildNeuralProphetModelsWithMultipleRegressors(ScriptWiseData[stocks[0]])"
   ]
  },
  {
   "cell_type": "code",
   "execution_count": null,
   "metadata": {
    "scrolled": true
   },
   "outputs": [],
   "source": [
    "# initalize result variable\n",
    "NPExogenousRegressionResults = pd.DataFrame(columns = ['StockName','MAE','MAPE', 'RMSE', 'AdjustedR2', 'Noise'], index = stocks)\n",
    "for s in stocks:\n",
    "    print(s)\n",
    "    try:\n",
    "        m, forecast , train_metrics, val_metrics = BuildNeuralProphetModelsWithMultipleRegressors(ScriptWiseData[s])\n",
    "        NPExogenousRegressionResults.loc[s, ['StockName']] =  getStockNameFromStockCode(s)\n",
    "        NPExogenousRegressionResults.loc[s, ['MAE']] =  val_metrics['MAE'][0]\n",
    "        NPExogenousRegressionResults.loc[s, ['RMSE']] = np.sqrt(val_metrics['MSE'][0])\n",
    "        t = forecast.dropna()\n",
    "        NPExogenousRegressionResults.loc[s, ['MAPE']] = mean_absolute_percentage_error(t.y, t.yhat1)\n",
    "        NPExogenousRegressionResults.loc[s, ['AdjustedR2']] = r2_score(t.y, t.yhat1)\n",
    "        NPExogenousRegressionResults.loc[s, ['Noise']] = t.yhat1.diff().abs().mean()\n",
    "        print('Success')\n",
    "    except:\n",
    "        print(\"Error Occured\")\n",
    "        \n",
    "NPExogenousRegressionResults.to_csv('Outputs/Neural Prophet Regression With Exogenous Variables Results.csv')"
   ]
  },
  {
   "cell_type": "code",
   "execution_count": null,
   "metadata": {},
   "outputs": [],
   "source": [
    "NPExogenousRegressionResults"
   ]
  },
  {
   "cell_type": "code",
   "execution_count": null,
   "metadata": {
    "colab": {
     "referenced_widgets": [
      "66580e5ef3534c74a2f0f3fb4f7ad789"
     ]
    },
    "id": "16pOZk1XsQEs",
    "outputId": "3a59a218-cd66-4d3d-9a6b-4f47831f475c"
   },
   "outputs": [],
   "source": [
    "# # m = NeuralProphet()\n",
    "# # metrics = m.fit(df, freq=\"D\")\n",
    "# for s in stocks:\n",
    "#     print(s)\n",
    "#     try:\n",
    "#         m, forecast , train_metrics, val_metrics = BuildNeuralProphetModelsWithMultipleRegressors(ScriptWiseData[s])\n",
    "# #         m, forecast , train_metrics, val_metrics = BuildNeuralProphetModels(ScriptWiseData[s])\n",
    "#         print('Succeess')\n",
    "#     except:\n",
    "#         print(\"Error Occured\")"
   ]
  },
  {
   "cell_type": "code",
   "execution_count": null,
   "metadata": {
    "id": "gJDocg0isQEt",
    "outputId": "c97cde06-2b94-4eee-8f24-e5385bb66b0d"
   },
   "outputs": [],
   "source": [
    "# forecasts_plot = m.plot(forecast)\n",
    "# fig_comp = m.plot_components(forecast)"
   ]
  },
  {
   "cell_type": "code",
   "execution_count": null,
   "metadata": {
    "id": "k7_zgfYCsQEu",
    "outputId": "e518c26e-b7c7-4b36-d4a8-1f8ef7007421"
   },
   "outputs": [],
   "source": [
    "# train_metrics.sort_values(by=['MAE', 'MSE'], ascending = [False, False]).head(3)"
   ]
  },
  {
   "cell_type": "code",
   "execution_count": null,
   "metadata": {
    "id": "IVGLomUasQEv",
    "outputId": "61fe1e6b-531f-4925-8ebe-c15de8afb43b"
   },
   "outputs": [],
   "source": [
    "# train_metrics.sort_values(by=['MAE', 'MSE'], ascending = [True, True]).head(3)"
   ]
  },
  {
   "cell_type": "code",
   "execution_count": null,
   "metadata": {
    "id": "jvXf6qb4sQEw",
    "outputId": "b4d78987-0f1a-408d-80a9-f6a7ed23029b"
   },
   "outputs": [],
   "source": [
    "# val_metrics"
   ]
  },
  {
   "cell_type": "code",
   "execution_count": null,
   "metadata": {
    "id": "9q25PaJusQEx"
   },
   "outputs": [],
   "source": []
  }
 ],
 "metadata": {
  "colab": {
   "collapsed_sections": [
    "pSCAtI-QsQC3",
    "isbyxB0RsQDC",
    "wS7xJCpYsQDb",
    "pIDupQCqsQDi",
    "ngJ2AiInsQDr",
    "QHqbBLRXsQDt",
    "g-dEHWHqsQDv",
    "tMsWXE90sQDx",
    "ZuatJ5wSsQD0",
    "KBtlPlM8sQD2",
    "Ru8Key50sQD3",
    "Brhnpl1lsQD_",
    "ZXAkQSfXsQEQ",
    "1UaFn7irsQEU",
    "JR3DmOZ4sQEf",
    "7crbHcAmsQEh",
    "-gFYa-NAsQEk",
    "Vnn3hoFAsQEn",
    "Fw9UprMlsQEq"
   ],
   "name": "Thesis Implementation Models.ipynb",
   "provenance": []
  },
  "kernelspec": {
   "display_name": "Python 3",
   "language": "python",
   "name": "python3"
  },
  "language_info": {
   "codemirror_mode": {
    "name": "ipython",
    "version": 3
   },
   "file_extension": ".py",
   "mimetype": "text/x-python",
   "name": "python",
   "nbconvert_exporter": "python",
   "pygments_lexer": "ipython3",
   "version": "3.8.5"
  }
 },
 "nbformat": 4,
 "nbformat_minor": 1
}
