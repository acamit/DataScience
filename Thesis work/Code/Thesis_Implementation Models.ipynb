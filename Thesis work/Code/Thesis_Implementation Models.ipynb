{
  "nbformat": 4,
  "nbformat_minor": 0,
  "metadata": {
    "accelerator": "GPU",
    "colab": {
      "name": "Thesis_Implementation Models.ipynb",
      "provenance": [],
      "collapsed_sections": [
        "pSCAtI-QsQC3",
        "isbyxB0RsQDC",
        "wS7xJCpYsQDb",
        "pIDupQCqsQDi",
        "ngJ2AiInsQDr",
        "QHqbBLRXsQDt",
        "g-dEHWHqsQDv",
        "ZuatJ5wSsQD0",
        "Ru8Key50sQD3",
        "tMsWXE90sQDx",
        "JR3DmOZ4sQEf",
        "7crbHcAmsQEh",
        "-gFYa-NAsQEk",
        "Vnn3hoFAsQEn",
        "Fw9UprMlsQEq"
      ]
    },
    "kernelspec": {
      "display_name": "Python 3",
      "language": "python",
      "name": "python3"
    },
    "language_info": {
      "codemirror_mode": {
        "name": "ipython",
        "version": 3
      },
      "file_extension": ".py",
      "mimetype": "text/x-python",
      "name": "python",
      "nbconvert_exporter": "python",
      "pygments_lexer": "ipython3",
      "version": "3.8.5"
    }
  },
  "cells": [
    {
      "cell_type": "markdown",
      "metadata": {
        "id": "3nlUR9HSSzzI"
      },
      "source": [
        "# Libraries import"
      ]
    },
    {
      "cell_type": "code",
      "metadata": {
        "id": "p1d435E2sQCS"
      },
      "source": [
        "# from google.colab import drive\n",
        "# drive.mount('/content/gdrive')\n",
        "# import os\n",
        "# os.environ['KAGGLE_CONFIG_DIR'] = \"/content/gdrive/My Drive/Colab Notebooks\"\n",
        "# %cd /content/gdrive/My Drive/Colab Notebooks"
      ],
      "execution_count": null,
      "outputs": []
    },
    {
      "cell_type": "code",
      "metadata": {
        "id": "gOcpoBQwsQCW"
      },
      "source": [
        "# # uncomment this cell for first run to install the packages.\n",
        "# !pip install quandl\n",
        "# !pip install ta \n",
        "# !pip install git+https://github.com/ourownstory/neural_prophet.git\n",
        "# !pip install -U prophet\n",
        "# !pip install  -U statsmodels\n",
        "# !pip install -U sklearn\n",
        "# !pip install -U scikit-learn\n",
        "# !pip install -U pmdarima\n",
        "\n",
        "# !pip --version\n",
        "# !pip install quandl\n",
        "# !pip install  statsmodels\n",
        "# !pip install pycaret\n",
        "# !pip install kats\n",
        "# !pip install -U sklearn\n",
        "# !pip install -U scikit-learn\n",
        "# !pip install -U sklearn\n",
        "# !pip install ta \n",
        "# !pip install -U pmdarima\n"
      ],
      "execution_count": null,
      "outputs": []
    },
    {
      "cell_type": "code",
      "metadata": {
        "id": "mBx16hbRsQCZ"
      },
      "source": [
        "# import os\n",
        "import numpy as np\n",
        "import pandas as pd\n",
        "import re\n",
        "from math import sqrt\n",
        "import quandl\n",
        "import matplotlib.pyplot as plt\n",
        "import seaborn as sns\n",
        "from sklearn.preprocessing import StandardScaler\n",
        "\n",
        "from statsmodels.tsa.arima.model import ARIMA\n",
        "from sklearn.metrics import mean_absolute_percentage_error, mean_squared_error, r2_score, mean_absolute_error\n",
        "# for mean_squared_error set squared = False for RMSE, (y_true, y_pred)\n",
        "from sklearn.model_selection import train_test_split\n",
        "\n",
        "# stats models\n",
        "from statsmodels.tsa.arima_model import ARMA, ARIMA, ARMAResults, ARIMAResults\n",
        "from statsmodels.graphics.tsaplots import plot_acf, plot_pacf\n",
        "import statsmodels.tsa.stattools as sts\n",
        "from statsmodels.tsa.statespace.varmax import VARMAX, VARMAXResults\n",
        "from statsmodels.tsa.statespace.sarimax import SARIMAX\n",
        "from statsmodels.tsa.seasonal import seasonal_decompose\n",
        "from statsmodels.tsa.statespace.tools import diff\n",
        "from statsmodels.tools.eval_measures import rmse\n",
        "import statsmodels.graphics.tsaplots as sgt\n",
        "\n",
        "from pmdarima import auto_arima\n",
        "from fbprophet import Prophet\n",
        "import copy\n",
        "import random\n",
        "import sys\n",
        "import itertools\n",
        "import warnings\n",
        "import os\n",
        "warnings.filterwarnings('ignore')"
      ],
      "execution_count": null,
      "outputs": []
    },
    {
      "cell_type": "code",
      "metadata": {
        "id": "eilgUocVCxuP"
      },
      "source": [
        "path = './Outputs/'\n",
        "if(not os.path.isdir(path)):\n",
        "    os.mkdir(path)"
      ],
      "execution_count": null,
      "outputs": []
    },
    {
      "cell_type": "code",
      "metadata": {
        "id": "jF50ziK2sQCh"
      },
      "source": [
        "pd.set_option('display.max_columns', None)"
      ],
      "execution_count": null,
      "outputs": []
    },
    {
      "cell_type": "code",
      "metadata": {
        "id": "fSEgJtsYsQCi"
      },
      "source": [
        "quandl.ApiConfig.api_key = \"2At3atzXCrMx_BXfkyz7\"\n",
        "# 6b7jcHuxwW7Wot1kyFNS"
      ],
      "execution_count": null,
      "outputs": []
    },
    {
      "cell_type": "markdown",
      "metadata": {
        "id": "AIFIC6fhsQCk"
      },
      "source": [
        "# Data to be used"
      ]
    },
    {
      "cell_type": "code",
      "metadata": {
        "colab": {
          "base_uri": "https://localhost:8080/",
          "height": 202
        },
        "id": "Exefd7g1sQCm",
        "outputId": "713d023b-fc47-4b82-f36a-87d55c13aa27"
      },
      "source": [
        "metadata = pd.read_csv('BSE_metadata.csv')\n",
        "metadata.head()"
      ],
      "execution_count": null,
      "outputs": [
        {
          "output_type": "execute_result",
          "data": {
            "text/html": [
              "<div>\n",
              "<style scoped>\n",
              "    .dataframe tbody tr th:only-of-type {\n",
              "        vertical-align: middle;\n",
              "    }\n",
              "\n",
              "    .dataframe tbody tr th {\n",
              "        vertical-align: top;\n",
              "    }\n",
              "\n",
              "    .dataframe thead th {\n",
              "        text-align: right;\n",
              "    }\n",
              "</style>\n",
              "<table border=\"1\" class=\"dataframe\">\n",
              "  <thead>\n",
              "    <tr style=\"text-align: right;\">\n",
              "      <th></th>\n",
              "      <th>code</th>\n",
              "      <th>name</th>\n",
              "      <th>description</th>\n",
              "      <th>refreshed_at</th>\n",
              "      <th>from_date</th>\n",
              "      <th>to_date</th>\n",
              "    </tr>\n",
              "  </thead>\n",
              "  <tbody>\n",
              "    <tr>\n",
              "      <th>0</th>\n",
              "      <td>BOM500002</td>\n",
              "      <td>ABB India Limited EOD Prices</td>\n",
              "      <td>End of Day prices and additional trading infor...</td>\n",
              "      <td>1/19/2021 14:15</td>\n",
              "      <td>3/2/1992</td>\n",
              "      <td>1/18/2021</td>\n",
              "    </tr>\n",
              "    <tr>\n",
              "      <th>1</th>\n",
              "      <td>BOM500003</td>\n",
              "      <td>AEGIS LOGISTICS LTD. EOD Prices</td>\n",
              "      <td>End of Day prices and additional trading infor...</td>\n",
              "      <td>1/19/2021 14:15</td>\n",
              "      <td>3/2/1992</td>\n",
              "      <td>1/18/2021</td>\n",
              "    </tr>\n",
              "    <tr>\n",
              "      <th>2</th>\n",
              "      <td>BOM500008</td>\n",
              "      <td>AMARA RAJA BATTERIES LTD. EOD Prices</td>\n",
              "      <td>End of Day prices and additional trading infor...</td>\n",
              "      <td>1/19/2021 14:15</td>\n",
              "      <td>3/2/1992</td>\n",
              "      <td>1/18/2021</td>\n",
              "    </tr>\n",
              "    <tr>\n",
              "      <th>3</th>\n",
              "      <td>BOM500009</td>\n",
              "      <td>AMBALAL SARABHAI ENTERPRISES LTD. EOD Prices</td>\n",
              "      <td>End of Day prices and additional trading infor...</td>\n",
              "      <td>1/19/2021 14:15</td>\n",
              "      <td>3/2/1992</td>\n",
              "      <td>1/18/2021</td>\n",
              "    </tr>\n",
              "    <tr>\n",
              "      <th>4</th>\n",
              "      <td>BOM500010</td>\n",
              "      <td>HOUSING DEVELOPMENT FINANCE CORP.LTD. EOD Prices</td>\n",
              "      <td>End of Day prices and additional trading infor...</td>\n",
              "      <td>1/19/2021 14:15</td>\n",
              "      <td>1/3/1992</td>\n",
              "      <td>1/18/2021</td>\n",
              "    </tr>\n",
              "  </tbody>\n",
              "</table>\n",
              "</div>"
            ],
            "text/plain": [
              "        code                                              name  \\\n",
              "0  BOM500002                      ABB India Limited EOD Prices   \n",
              "1  BOM500003                   AEGIS LOGISTICS LTD. EOD Prices   \n",
              "2  BOM500008              AMARA RAJA BATTERIES LTD. EOD Prices   \n",
              "3  BOM500009      AMBALAL SARABHAI ENTERPRISES LTD. EOD Prices   \n",
              "4  BOM500010  HOUSING DEVELOPMENT FINANCE CORP.LTD. EOD Prices   \n",
              "\n",
              "                                         description     refreshed_at  \\\n",
              "0  End of Day prices and additional trading infor...  1/19/2021 14:15   \n",
              "1  End of Day prices and additional trading infor...  1/19/2021 14:15   \n",
              "2  End of Day prices and additional trading infor...  1/19/2021 14:15   \n",
              "3  End of Day prices and additional trading infor...  1/19/2021 14:15   \n",
              "4  End of Day prices and additional trading infor...  1/19/2021 14:15   \n",
              "\n",
              "  from_date    to_date  \n",
              "0  3/2/1992  1/18/2021  \n",
              "1  3/2/1992  1/18/2021  \n",
              "2  3/2/1992  1/18/2021  \n",
              "3  3/2/1992  1/18/2021  \n",
              "4  1/3/1992  1/18/2021  "
            ]
          },
          "metadata": {
            "tags": []
          },
          "execution_count": 49
        }
      ]
    },
    {
      "cell_type": "markdown",
      "metadata": {
        "id": "Tt336cVrsQCo"
      },
      "source": [
        "## Utility variables and functions"
      ]
    },
    {
      "cell_type": "code",
      "metadata": {
        "id": "tVB6YbnlsQCq"
      },
      "source": [
        "### Codes of selected stocks\n",
        "healthcare = ['BOM524715','BOM532488','BOM500124']\n",
        "banking = ['BOM500180','BOM532174','BOM500247']\n",
        "metals = ['BOM500470','BOM500228','BOM500440']\n",
        "auto = ['BOM532977','BOM500570','BOM532500']\n",
        "it = ['BOM500209','BOM532540','BOM507685']\n",
        "BSE_HEALTHCARE = 'SI0800'\n",
        "BSE_Information_Technology = 'SI1000'\n",
        "BSE_BANKEX = 'SIBANK'\n",
        "BSE_METAL = 'SI1200'\n",
        "BSE_AUTO = 'SI1900'\n",
        "SENSEX = 'SENSEX'\n",
        "\n",
        "stocks = healthcare+banking+metals + auto+it\n",
        "indices = [BSE_HEALTHCARE, BSE_Information_Technology, BSE_BANKEX, BSE_METAL, BSE_AUTO, SENSEX]\n",
        "allSymbols = stocks + indices\n",
        "ScriptWiseData = {}"
      ],
      "execution_count": null,
      "outputs": []
    },
    {
      "cell_type": "code",
      "metadata": {
        "id": "3kHBN9nwsQCs"
      },
      "source": [
        "# Global Variables\n",
        "RSIColumn = 'RSI'\n",
        "ATRColumns = ['TR', 'ATR']\n",
        "MACDColumns = ['FastAverage', 'SlowAverage','MACD','Signal']\n",
        "BollBandColumns = ['BB_up',\"BB_dn\",\"MA\",\"BB_width\"]\n",
        "ADXColumns = ['pos_directional_indicator', 'neg_directional_indicator', 'adx']\n",
        "OnBalanceVolume = 'OBV'\n",
        "TechnicalIndicators = ['RSI', 'ATR', 'MACD', 'adx', 'OBV'] #exogenous variables\n",
        "\n",
        "AllIndicatorColumns = [RSIColumn]+ATRColumns+MACDColumns+BollBandColumns+ADXColumns+[OnBalanceVolume]"
      ],
      "execution_count": null,
      "outputs": []
    },
    {
      "cell_type": "code",
      "metadata": {
        "id": "JyImjqh2sQCu"
      },
      "source": [
        "start_date = '2020-03-02'\n",
        "end_date = '2021-03-23'"
      ],
      "execution_count": null,
      "outputs": []
    },
    {
      "cell_type": "code",
      "metadata": {
        "id": "dleF_l0AsQCw"
      },
      "source": [
        "# get null values of all the stocks\n",
        "def getNullValuesForSetOfStocks(stockCodeList = stocks):\n",
        "    nullCounts = pd.DataFrame(ScriptWiseData[stockCodeList[0]].isnull().sum(), columns= [getStockNameFromStockCode(stockCodeList[0])])\n",
        "    for symbol in stockCodeList[1:]:\n",
        "        currNull = pd.DataFrame(ScriptWiseData[symbol].isnull().sum(), columns= [getStockNameFromStockCode(symbol)])\n",
        "        nullCounts = nullCounts.merge(currNull, left_index=True, right_index = True, how='outer')\n",
        "    return nullCounts"
      ],
      "execution_count": null,
      "outputs": []
    },
    {
      "cell_type": "code",
      "metadata": {
        "id": "RyHT3E0nsQCx"
      },
      "source": [
        "def adf_test(series, title = ''):\n",
        "    \"\"\"\n",
        "    Pass in a time series and an optional title\n",
        "    \"\"\"\n",
        "    result = sts.adfuller(series.dropna(), autolag = 'AIC')\n",
        "    label = ['ADF test statistic', 'p-value', '# lags used', '#observations']\n",
        "#     print(result)\n",
        "    out = pd.Series(result[0:4], index=label)\n",
        "    out['Stock Name'] = getStockNameFromStockCode(title)\n",
        "    out['Stock Code'] = title\n",
        "    for key, val in result[4].items():\n",
        "        out[f'critical value ({key})'] = val\n",
        "        \n",
        "#     print(out)\n",
        "    if(result[1]<0.05):\n",
        "        return out, 'Stationary'\n",
        "    else:\n",
        "        return out, 'Non-Stationary'"
      ],
      "execution_count": null,
      "outputs": []
    },
    {
      "cell_type": "code",
      "metadata": {
        "colab": {
          "base_uri": "https://localhost:8080/"
        },
        "id": "hagoTqx7sQCz",
        "outputId": "17ed1948-93ed-457d-ce62-700c2a305d6c"
      },
      "source": [
        "stockMetadata = metadata[metadata['code'].isin(allSymbols)]\n",
        "stockMetadata.head()"
      ],
      "execution_count": null,
      "outputs": [
        {
          "output_type": "execute_result",
          "data": {
            "text/html": [
              "<div>\n",
              "<style scoped>\n",
              "    .dataframe tbody tr th:only-of-type {\n",
              "        vertical-align: middle;\n",
              "    }\n",
              "\n",
              "    .dataframe tbody tr th {\n",
              "        vertical-align: top;\n",
              "    }\n",
              "\n",
              "    .dataframe thead th {\n",
              "        text-align: right;\n",
              "    }\n",
              "</style>\n",
              "<table border=\"1\" class=\"dataframe\">\n",
              "  <thead>\n",
              "    <tr style=\"text-align: right;\">\n",
              "      <th></th>\n",
              "      <th>code</th>\n",
              "      <th>name</th>\n",
              "      <th>description</th>\n",
              "      <th>refreshed_at</th>\n",
              "      <th>from_date</th>\n",
              "      <th>to_date</th>\n",
              "    </tr>\n",
              "  </thead>\n",
              "  <tbody>\n",
              "    <tr>\n",
              "      <th>70</th>\n",
              "      <td>BOM500124</td>\n",
              "      <td>DR.REDDY'S LABORATORIES LTD. EOD Prices</td>\n",
              "      <td>End of Day prices and additional trading infor...</td>\n",
              "      <td>1/19/2021 14:15</td>\n",
              "      <td>3/2/1992</td>\n",
              "      <td>1/18/2021</td>\n",
              "    </tr>\n",
              "    <tr>\n",
              "      <th>104</th>\n",
              "      <td>BOM500180</td>\n",
              "      <td>HDFC Bank Ltd EOD Prices</td>\n",
              "      <td>End of Day prices and additional trading infor...</td>\n",
              "      <td>1/19/2021 14:15</td>\n",
              "      <td>5/26/1995</td>\n",
              "      <td>1/18/2021</td>\n",
              "    </tr>\n",
              "    <tr>\n",
              "      <th>121</th>\n",
              "      <td>BOM500209</td>\n",
              "      <td>INFOSYS LTD. EOD Prices</td>\n",
              "      <td>End of Day prices and additional trading infor...</td>\n",
              "      <td>1/19/2021 14:15</td>\n",
              "      <td>5/2/1995</td>\n",
              "      <td>1/18/2021</td>\n",
              "    </tr>\n",
              "    <tr>\n",
              "      <th>133</th>\n",
              "      <td>BOM500228</td>\n",
              "      <td>JSW STEEL LTD. EOD Prices</td>\n",
              "      <td>End of Day prices and additional trading infor...</td>\n",
              "      <td>1/19/2021 14:15</td>\n",
              "      <td>5/2/1995</td>\n",
              "      <td>1/18/2021</td>\n",
              "    </tr>\n",
              "    <tr>\n",
              "      <th>146</th>\n",
              "      <td>BOM500247</td>\n",
              "      <td>KOTAK MAHINDRA BANK LTD. EOD Prices</td>\n",
              "      <td>End of Day prices and additional trading infor...</td>\n",
              "      <td>1/19/2021 14:15</td>\n",
              "      <td>5/2/1995</td>\n",
              "      <td>1/18/2021</td>\n",
              "    </tr>\n",
              "  </tbody>\n",
              "</table>\n",
              "</div>"
            ],
            "text/plain": [
              "          code                                     name  \\\n",
              "70   BOM500124  DR.REDDY'S LABORATORIES LTD. EOD Prices   \n",
              "104  BOM500180                 HDFC Bank Ltd EOD Prices   \n",
              "121  BOM500209                  INFOSYS LTD. EOD Prices   \n",
              "133  BOM500228                JSW STEEL LTD. EOD Prices   \n",
              "146  BOM500247      KOTAK MAHINDRA BANK LTD. EOD Prices   \n",
              "\n",
              "                                           description     refreshed_at  \\\n",
              "70   End of Day prices and additional trading infor...  1/19/2021 14:15   \n",
              "104  End of Day prices and additional trading infor...  1/19/2021 14:15   \n",
              "121  End of Day prices and additional trading infor...  1/19/2021 14:15   \n",
              "133  End of Day prices and additional trading infor...  1/19/2021 14:15   \n",
              "146  End of Day prices and additional trading infor...  1/19/2021 14:15   \n",
              "\n",
              "     from_date    to_date  \n",
              "70    3/2/1992  1/18/2021  \n",
              "104  5/26/1995  1/18/2021  \n",
              "121   5/2/1995  1/18/2021  \n",
              "133   5/2/1995  1/18/2021  \n",
              "146   5/2/1995  1/18/2021  "
            ]
          },
          "metadata": {
            "tags": []
          },
          "execution_count": 55
        }
      ]
    },
    {
      "cell_type": "code",
      "metadata": {
        "colab": {
          "base_uri": "https://localhost:8080/"
        },
        "id": "EwoZ1DP9sQC2",
        "outputId": "83b7375a-6379-4d20-c177-99b80699ad70"
      },
      "source": [
        "print(stockMetadata.shape)\n",
        "print(stockMetadata[stockMetadata['code'].isin(stocks)].shape)\n",
        "print(stockMetadata[stockMetadata['code'].isin(indices)].shape)"
      ],
      "execution_count": null,
      "outputs": [
        {
          "output_type": "stream",
          "text": [
            "(21, 6)\n",
            "(15, 6)\n",
            "(6, 6)\n"
          ],
          "name": "stdout"
        }
      ]
    },
    {
      "cell_type": "markdown",
      "metadata": {
        "id": "pSCAtI-QsQC3"
      },
      "source": [
        "## Map Index to  stocks"
      ]
    },
    {
      "cell_type": "code",
      "metadata": {
        "id": "O7xx-FTQsQC4"
      },
      "source": [
        "stockMetadata.loc[:, 'isStock'] = 0\n",
        "stockMetadata.loc[:, 'Index'] = ''\n",
        "\n",
        "stockMetadata.loc[stockMetadata['code'].isin(stocks), 'isStock'] = 1\n",
        "stockMetadata.reset_index(inplace=True)"
      ],
      "execution_count": null,
      "outputs": []
    },
    {
      "cell_type": "code",
      "metadata": {
        "id": "s6ECqpt6sQC6"
      },
      "source": [
        "stockMetadata.loc[stockMetadata['code'].isin(healthcare), 'Index'] = BSE_HEALTHCARE\n",
        "stockMetadata.loc[stockMetadata['code'].isin(banking), 'Index'] = BSE_BANKEX\n",
        "stockMetadata.loc[stockMetadata['code'].isin(metals), 'Index'] = BSE_METAL\n",
        "stockMetadata.loc[stockMetadata['code'].isin(auto), 'Index'] = BSE_AUTO\n",
        "stockMetadata.loc[stockMetadata['code'].isin(it), 'Index'] = BSE_Information_Technology"
      ],
      "execution_count": null,
      "outputs": []
    },
    {
      "cell_type": "code",
      "metadata": {
        "colab": {
          "base_uri": "https://localhost:8080/"
        },
        "id": "dmuf46EBsQC-",
        "outputId": "655f71d0-9f9e-49be-a252-6c184f8fe1a4"
      },
      "source": [
        "stockMetadata.head()"
      ],
      "execution_count": null,
      "outputs": [
        {
          "output_type": "execute_result",
          "data": {
            "text/html": [
              "<div>\n",
              "<style scoped>\n",
              "    .dataframe tbody tr th:only-of-type {\n",
              "        vertical-align: middle;\n",
              "    }\n",
              "\n",
              "    .dataframe tbody tr th {\n",
              "        vertical-align: top;\n",
              "    }\n",
              "\n",
              "    .dataframe thead th {\n",
              "        text-align: right;\n",
              "    }\n",
              "</style>\n",
              "<table border=\"1\" class=\"dataframe\">\n",
              "  <thead>\n",
              "    <tr style=\"text-align: right;\">\n",
              "      <th></th>\n",
              "      <th>index</th>\n",
              "      <th>code</th>\n",
              "      <th>name</th>\n",
              "      <th>description</th>\n",
              "      <th>refreshed_at</th>\n",
              "      <th>from_date</th>\n",
              "      <th>to_date</th>\n",
              "      <th>isStock</th>\n",
              "      <th>Index</th>\n",
              "    </tr>\n",
              "  </thead>\n",
              "  <tbody>\n",
              "    <tr>\n",
              "      <th>0</th>\n",
              "      <td>70</td>\n",
              "      <td>BOM500124</td>\n",
              "      <td>DR.REDDY'S LABORATORIES LTD. EOD Prices</td>\n",
              "      <td>End of Day prices and additional trading infor...</td>\n",
              "      <td>1/19/2021 14:15</td>\n",
              "      <td>3/2/1992</td>\n",
              "      <td>1/18/2021</td>\n",
              "      <td>1</td>\n",
              "      <td>SI0800</td>\n",
              "    </tr>\n",
              "    <tr>\n",
              "      <th>1</th>\n",
              "      <td>104</td>\n",
              "      <td>BOM500180</td>\n",
              "      <td>HDFC Bank Ltd EOD Prices</td>\n",
              "      <td>End of Day prices and additional trading infor...</td>\n",
              "      <td>1/19/2021 14:15</td>\n",
              "      <td>5/26/1995</td>\n",
              "      <td>1/18/2021</td>\n",
              "      <td>1</td>\n",
              "      <td>SIBANK</td>\n",
              "    </tr>\n",
              "    <tr>\n",
              "      <th>2</th>\n",
              "      <td>121</td>\n",
              "      <td>BOM500209</td>\n",
              "      <td>INFOSYS LTD. EOD Prices</td>\n",
              "      <td>End of Day prices and additional trading infor...</td>\n",
              "      <td>1/19/2021 14:15</td>\n",
              "      <td>5/2/1995</td>\n",
              "      <td>1/18/2021</td>\n",
              "      <td>1</td>\n",
              "      <td>SI1000</td>\n",
              "    </tr>\n",
              "    <tr>\n",
              "      <th>3</th>\n",
              "      <td>133</td>\n",
              "      <td>BOM500228</td>\n",
              "      <td>JSW STEEL LTD. EOD Prices</td>\n",
              "      <td>End of Day prices and additional trading infor...</td>\n",
              "      <td>1/19/2021 14:15</td>\n",
              "      <td>5/2/1995</td>\n",
              "      <td>1/18/2021</td>\n",
              "      <td>1</td>\n",
              "      <td>SI1200</td>\n",
              "    </tr>\n",
              "    <tr>\n",
              "      <th>4</th>\n",
              "      <td>146</td>\n",
              "      <td>BOM500247</td>\n",
              "      <td>KOTAK MAHINDRA BANK LTD. EOD Prices</td>\n",
              "      <td>End of Day prices and additional trading infor...</td>\n",
              "      <td>1/19/2021 14:15</td>\n",
              "      <td>5/2/1995</td>\n",
              "      <td>1/18/2021</td>\n",
              "      <td>1</td>\n",
              "      <td>SIBANK</td>\n",
              "    </tr>\n",
              "  </tbody>\n",
              "</table>\n",
              "</div>"
            ],
            "text/plain": [
              "   index       code                                     name  \\\n",
              "0     70  BOM500124  DR.REDDY'S LABORATORIES LTD. EOD Prices   \n",
              "1    104  BOM500180                 HDFC Bank Ltd EOD Prices   \n",
              "2    121  BOM500209                  INFOSYS LTD. EOD Prices   \n",
              "3    133  BOM500228                JSW STEEL LTD. EOD Prices   \n",
              "4    146  BOM500247      KOTAK MAHINDRA BANK LTD. EOD Prices   \n",
              "\n",
              "                                         description     refreshed_at  \\\n",
              "0  End of Day prices and additional trading infor...  1/19/2021 14:15   \n",
              "1  End of Day prices and additional trading infor...  1/19/2021 14:15   \n",
              "2  End of Day prices and additional trading infor...  1/19/2021 14:15   \n",
              "3  End of Day prices and additional trading infor...  1/19/2021 14:15   \n",
              "4  End of Day prices and additional trading infor...  1/19/2021 14:15   \n",
              "\n",
              "   from_date    to_date  isStock   Index  \n",
              "0   3/2/1992  1/18/2021        1  SI0800  \n",
              "1  5/26/1995  1/18/2021        1  SIBANK  \n",
              "2   5/2/1995  1/18/2021        1  SI1000  \n",
              "3   5/2/1995  1/18/2021        1  SI1200  \n",
              "4   5/2/1995  1/18/2021        1  SIBANK  "
            ]
          },
          "metadata": {
            "tags": []
          },
          "execution_count": 59
        }
      ]
    },
    {
      "cell_type": "code",
      "metadata": {
        "colab": {
          "base_uri": "https://localhost:8080/"
        },
        "id": "Rc9nEZtlsQDA",
        "outputId": "8dfd8306-450d-4839-ed12-7ab827eb77bd"
      },
      "source": [
        "stockMetadata['isStock'].value_counts()"
      ],
      "execution_count": null,
      "outputs": [
        {
          "output_type": "execute_result",
          "data": {
            "text/plain": [
              "1    15\n",
              "0     6\n",
              "Name: isStock, dtype: int64"
            ]
          },
          "metadata": {
            "tags": []
          },
          "execution_count": 60
        }
      ]
    },
    {
      "cell_type": "markdown",
      "metadata": {
        "id": "isbyxB0RsQDC"
      },
      "source": [
        "# Code to download the data from quandl. "
      ]
    },
    {
      "cell_type": "code",
      "metadata": {
        "id": "eyCPmZ5tsQDE"
      },
      "source": [
        "# # download the required data - needed only 1 time\n",
        "# i=0\n",
        "# code = f'BSE/{stockMetadata.loc[i, \"code\"]}'\n",
        "# dataset = quandl.get(code, start_date='2000-01-01', end_date='2021-03-23').sort_values(by='Date', ascending=True)\n",
        "# dataset['StockName']=stockMetadata.loc[i, 'name']\n",
        "# dataset['code'] = stockMetadata.loc[i, \"code\"]\n",
        "# dataset['isStock'] = stockMetadata.loc[i, \"isStock\"]\n",
        "# dataset['Index'] = stockMetadata.loc[i, \"Index\"]\n",
        "# for i in range(1, len(stockMetadata)):\n",
        "#     code = f'BSE/{stockMetadata.loc[i, \"code\"]}'\n",
        "#     temp = quandl.get(code, start_date='2000-01-01', end_date='2021-03-23').sort_values(by='Date', ascending=True)\n",
        "#     temp['StockName']=stockMetadata.loc[i, 'name']\n",
        "#     temp['code'] = stockMetadata.loc[i, \"code\"]\n",
        "#     temp['isStock'] = stockMetadata.loc[i, \"isStock\"]\n",
        "#     temp['Index'] = stockMetadata.loc[i, \"Index\"]\n",
        "# #     print( stockMetadata.loc[i, \"Index\"])\n",
        "#     dataset = dataset.append(temp)\n",
        "# dataset.to_csv('data.csv')\n",
        "# dataset.head()"
      ],
      "execution_count": null,
      "outputs": []
    },
    {
      "cell_type": "code",
      "metadata": {
        "id": "lynmUOjosQDG",
        "colab": {
          "base_uri": "https://localhost:8080/",
          "height": 465
        },
        "outputId": "8a90fea1-399a-48be-a64a-f13f32d983b7"
      },
      "source": [
        "# dataset = pd.read_csv('data.csv')\n",
        "# dataset.head()\n",
        "dataset = pd.read_csv('TimeSeriesData.csv')\n",
        "dataset.head()"
      ],
      "execution_count": null,
      "outputs": [
        {
          "output_type": "execute_result",
          "data": {
            "text/html": [
              "<div>\n",
              "<style scoped>\n",
              "    .dataframe tbody tr th:only-of-type {\n",
              "        vertical-align: middle;\n",
              "    }\n",
              "\n",
              "    .dataframe tbody tr th {\n",
              "        vertical-align: top;\n",
              "    }\n",
              "\n",
              "    .dataframe thead th {\n",
              "        text-align: right;\n",
              "    }\n",
              "</style>\n",
              "<table border=\"1\" class=\"dataframe\">\n",
              "  <thead>\n",
              "    <tr style=\"text-align: right;\">\n",
              "      <th></th>\n",
              "      <th>Date</th>\n",
              "      <th>Open</th>\n",
              "      <th>High</th>\n",
              "      <th>Low</th>\n",
              "      <th>Close</th>\n",
              "      <th>WAP</th>\n",
              "      <th>No. of Shares</th>\n",
              "      <th>No. of Trades</th>\n",
              "      <th>Total Turnover</th>\n",
              "      <th>Deliverable Quantity</th>\n",
              "      <th>% Deli. Qty to Traded Qty</th>\n",
              "      <th>Spread H-L</th>\n",
              "      <th>Spread C-O</th>\n",
              "      <th>StockName</th>\n",
              "      <th>code</th>\n",
              "      <th>isStock</th>\n",
              "      <th>Index</th>\n",
              "    </tr>\n",
              "  </thead>\n",
              "  <tbody>\n",
              "    <tr>\n",
              "      <th>0</th>\n",
              "      <td>2000-01-03</td>\n",
              "      <td>1500.0</td>\n",
              "      <td>1557.35</td>\n",
              "      <td>1500.00</td>\n",
              "      <td>1557.35</td>\n",
              "      <td>1544.195154</td>\n",
              "      <td>82330.0</td>\n",
              "      <td>945.0</td>\n",
              "      <td>127133587.0</td>\n",
              "      <td>NaN</td>\n",
              "      <td>NaN</td>\n",
              "      <td>57.35</td>\n",
              "      <td>57.35</td>\n",
              "      <td>DR.REDDY'S LABORATORIES LTD. EOD Prices</td>\n",
              "      <td>BOM500124</td>\n",
              "      <td>1</td>\n",
              "      <td>SI0800</td>\n",
              "    </tr>\n",
              "    <tr>\n",
              "      <th>1</th>\n",
              "      <td>2000-01-04</td>\n",
              "      <td>1601.0</td>\n",
              "      <td>1681.00</td>\n",
              "      <td>1527.00</td>\n",
              "      <td>1647.25</td>\n",
              "      <td>1621.040930</td>\n",
              "      <td>210676.0</td>\n",
              "      <td>3308.0</td>\n",
              "      <td>341514419.0</td>\n",
              "      <td>NaN</td>\n",
              "      <td>NaN</td>\n",
              "      <td>154.00</td>\n",
              "      <td>46.25</td>\n",
              "      <td>DR.REDDY'S LABORATORIES LTD. EOD Prices</td>\n",
              "      <td>BOM500124</td>\n",
              "      <td>1</td>\n",
              "      <td>SI0800</td>\n",
              "    </tr>\n",
              "    <tr>\n",
              "      <th>2</th>\n",
              "      <td>2000-01-05</td>\n",
              "      <td>1600.0</td>\n",
              "      <td>1648.00</td>\n",
              "      <td>1515.50</td>\n",
              "      <td>1559.00</td>\n",
              "      <td>1590.903923</td>\n",
              "      <td>205669.0</td>\n",
              "      <td>2707.0</td>\n",
              "      <td>327199619.0</td>\n",
              "      <td>NaN</td>\n",
              "      <td>NaN</td>\n",
              "      <td>132.50</td>\n",
              "      <td>-41.00</td>\n",
              "      <td>DR.REDDY'S LABORATORIES LTD. EOD Prices</td>\n",
              "      <td>BOM500124</td>\n",
              "      <td>1</td>\n",
              "      <td>SI0800</td>\n",
              "    </tr>\n",
              "    <tr>\n",
              "      <th>3</th>\n",
              "      <td>2000-01-06</td>\n",
              "      <td>1582.0</td>\n",
              "      <td>1683.70</td>\n",
              "      <td>1560.00</td>\n",
              "      <td>1683.70</td>\n",
              "      <td>1623.244182</td>\n",
              "      <td>161085.0</td>\n",
              "      <td>2559.0</td>\n",
              "      <td>261480289.0</td>\n",
              "      <td>NaN</td>\n",
              "      <td>NaN</td>\n",
              "      <td>123.70</td>\n",
              "      <td>101.70</td>\n",
              "      <td>DR.REDDY'S LABORATORIES LTD. EOD Prices</td>\n",
              "      <td>BOM500124</td>\n",
              "      <td>1</td>\n",
              "      <td>SI0800</td>\n",
              "    </tr>\n",
              "    <tr>\n",
              "      <th>4</th>\n",
              "      <td>2000-01-07</td>\n",
              "      <td>1718.0</td>\n",
              "      <td>1718.00</td>\n",
              "      <td>1549.05</td>\n",
              "      <td>1549.05</td>\n",
              "      <td>1593.853264</td>\n",
              "      <td>120952.0</td>\n",
              "      <td>1955.0</td>\n",
              "      <td>192779740.0</td>\n",
              "      <td>NaN</td>\n",
              "      <td>NaN</td>\n",
              "      <td>168.95</td>\n",
              "      <td>-168.95</td>\n",
              "      <td>DR.REDDY'S LABORATORIES LTD. EOD Prices</td>\n",
              "      <td>BOM500124</td>\n",
              "      <td>1</td>\n",
              "      <td>SI0800</td>\n",
              "    </tr>\n",
              "  </tbody>\n",
              "</table>\n",
              "</div>"
            ],
            "text/plain": [
              "         Date    Open     High      Low    Close          WAP  No. of Shares  \\\n",
              "0  2000-01-03  1500.0  1557.35  1500.00  1557.35  1544.195154        82330.0   \n",
              "1  2000-01-04  1601.0  1681.00  1527.00  1647.25  1621.040930       210676.0   \n",
              "2  2000-01-05  1600.0  1648.00  1515.50  1559.00  1590.903923       205669.0   \n",
              "3  2000-01-06  1582.0  1683.70  1560.00  1683.70  1623.244182       161085.0   \n",
              "4  2000-01-07  1718.0  1718.00  1549.05  1549.05  1593.853264       120952.0   \n",
              "\n",
              "   No. of Trades  Total Turnover  Deliverable Quantity  \\\n",
              "0          945.0     127133587.0                   NaN   \n",
              "1         3308.0     341514419.0                   NaN   \n",
              "2         2707.0     327199619.0                   NaN   \n",
              "3         2559.0     261480289.0                   NaN   \n",
              "4         1955.0     192779740.0                   NaN   \n",
              "\n",
              "   % Deli. Qty to Traded Qty  Spread H-L  Spread C-O  \\\n",
              "0                        NaN       57.35       57.35   \n",
              "1                        NaN      154.00       46.25   \n",
              "2                        NaN      132.50      -41.00   \n",
              "3                        NaN      123.70      101.70   \n",
              "4                        NaN      168.95     -168.95   \n",
              "\n",
              "                                 StockName       code  isStock   Index  \n",
              "0  DR.REDDY'S LABORATORIES LTD. EOD Prices  BOM500124        1  SI0800  \n",
              "1  DR.REDDY'S LABORATORIES LTD. EOD Prices  BOM500124        1  SI0800  \n",
              "2  DR.REDDY'S LABORATORIES LTD. EOD Prices  BOM500124        1  SI0800  \n",
              "3  DR.REDDY'S LABORATORIES LTD. EOD Prices  BOM500124        1  SI0800  \n",
              "4  DR.REDDY'S LABORATORIES LTD. EOD Prices  BOM500124        1  SI0800  "
            ]
          },
          "metadata": {
            "tags": []
          },
          "execution_count": 62
        }
      ]
    },
    {
      "cell_type": "code",
      "metadata": {
        "id": "WYRIsODdsQDI",
        "colab": {
          "base_uri": "https://localhost:8080/"
        },
        "outputId": "dd797895-b4c2-4c6f-9178-8685f1fb0b98"
      },
      "source": [
        "dataset.info()"
      ],
      "execution_count": null,
      "outputs": [
        {
          "output_type": "stream",
          "text": [
            "<class 'pandas.core.frame.DataFrame'>\n",
            "RangeIndex: 105449 entries, 0 to 105448\n",
            "Data columns (total 17 columns):\n",
            " #   Column                     Non-Null Count   Dtype  \n",
            "---  ------                     --------------   -----  \n",
            " 0   Date                       105449 non-null  object \n",
            " 1   Open                       95130 non-null   float64\n",
            " 2   High                       95130 non-null   float64\n",
            " 3   Low                        95130 non-null   float64\n",
            " 4   Close                      105449 non-null  float64\n",
            " 5   WAP                        74255 non-null   float64\n",
            " 6   No. of Shares              74255 non-null   float64\n",
            " 7   No. of Trades              74255 non-null   float64\n",
            " 8   Total Turnover             74255 non-null   float64\n",
            " 9   Deliverable Quantity       68110 non-null   float64\n",
            " 10  % Deli. Qty to Traded Qty  68110 non-null   float64\n",
            " 11  Spread H-L                 74255 non-null   float64\n",
            " 12  Spread C-O                 74255 non-null   float64\n",
            " 13  StockName                  105449 non-null  object \n",
            " 14  code                       105449 non-null  object \n",
            " 15  isStock                    105449 non-null  int64  \n",
            " 16  Index                      74255 non-null   object \n",
            "dtypes: float64(12), int64(1), object(4)\n",
            "memory usage: 13.7+ MB\n"
          ],
          "name": "stdout"
        }
      ]
    },
    {
      "cell_type": "markdown",
      "metadata": {
        "id": "FIW4t81GsQDJ"
      },
      "source": [
        "### Verify the min and max of dates of all selected stocks and indices"
      ]
    },
    {
      "cell_type": "code",
      "metadata": {
        "id": "_KxFJed0sQDK",
        "colab": {
          "base_uri": "https://localhost:8080/",
          "height": 693
        },
        "outputId": "bd501895-afd2-4fd4-af0d-b7b7c3c24229"
      },
      "source": [
        "dateRanges = dataset.groupby(['code', 'StockName']).agg({'Date': ['min', 'max']}).reset_index()\n",
        "dateRanges.columns = ['Stock Code', 'Stock Name', 'First Date', 'Last Date']\n",
        "dateRanges"
      ],
      "execution_count": null,
      "outputs": [
        {
          "output_type": "execute_result",
          "data": {
            "text/html": [
              "<div>\n",
              "<style scoped>\n",
              "    .dataframe tbody tr th:only-of-type {\n",
              "        vertical-align: middle;\n",
              "    }\n",
              "\n",
              "    .dataframe tbody tr th {\n",
              "        vertical-align: top;\n",
              "    }\n",
              "\n",
              "    .dataframe thead th {\n",
              "        text-align: right;\n",
              "    }\n",
              "</style>\n",
              "<table border=\"1\" class=\"dataframe\">\n",
              "  <thead>\n",
              "    <tr style=\"text-align: right;\">\n",
              "      <th></th>\n",
              "      <th>Stock Code</th>\n",
              "      <th>Stock Name</th>\n",
              "      <th>First Date</th>\n",
              "      <th>Last Date</th>\n",
              "    </tr>\n",
              "  </thead>\n",
              "  <tbody>\n",
              "    <tr>\n",
              "      <th>0</th>\n",
              "      <td>BOM500124</td>\n",
              "      <td>DR.REDDY'S LABORATORIES LTD. EOD Prices</td>\n",
              "      <td>2000-01-03</td>\n",
              "      <td>2021-03-23</td>\n",
              "    </tr>\n",
              "    <tr>\n",
              "      <th>1</th>\n",
              "      <td>BOM500180</td>\n",
              "      <td>HDFC Bank Ltd EOD Prices</td>\n",
              "      <td>2000-01-03</td>\n",
              "      <td>2021-03-23</td>\n",
              "    </tr>\n",
              "    <tr>\n",
              "      <th>2</th>\n",
              "      <td>BOM500209</td>\n",
              "      <td>INFOSYS LTD. EOD Prices</td>\n",
              "      <td>2000-01-03</td>\n",
              "      <td>2021-03-23</td>\n",
              "    </tr>\n",
              "    <tr>\n",
              "      <th>3</th>\n",
              "      <td>BOM500228</td>\n",
              "      <td>JSW STEEL LTD. EOD Prices</td>\n",
              "      <td>2000-01-03</td>\n",
              "      <td>2021-03-23</td>\n",
              "    </tr>\n",
              "    <tr>\n",
              "      <th>4</th>\n",
              "      <td>BOM500247</td>\n",
              "      <td>KOTAK MAHINDRA BANK LTD. EOD Prices</td>\n",
              "      <td>2000-01-03</td>\n",
              "      <td>2021-03-23</td>\n",
              "    </tr>\n",
              "    <tr>\n",
              "      <th>5</th>\n",
              "      <td>BOM500440</td>\n",
              "      <td>HINDALCO INDUSTRIES LTD. EOD Prices</td>\n",
              "      <td>2000-01-03</td>\n",
              "      <td>2021-03-23</td>\n",
              "    </tr>\n",
              "    <tr>\n",
              "      <th>6</th>\n",
              "      <td>BOM500470</td>\n",
              "      <td>TATA STEEL LTD. EOD Prices</td>\n",
              "      <td>2000-01-03</td>\n",
              "      <td>2021-03-23</td>\n",
              "    </tr>\n",
              "    <tr>\n",
              "      <th>7</th>\n",
              "      <td>BOM500570</td>\n",
              "      <td>TATA MOTORS LTD. EOD Prices</td>\n",
              "      <td>2000-01-03</td>\n",
              "      <td>2021-03-23</td>\n",
              "    </tr>\n",
              "    <tr>\n",
              "      <th>8</th>\n",
              "      <td>BOM507685</td>\n",
              "      <td>WIPRO LTD. EOD Prices</td>\n",
              "      <td>2000-01-03</td>\n",
              "      <td>2021-03-23</td>\n",
              "    </tr>\n",
              "    <tr>\n",
              "      <th>9</th>\n",
              "      <td>BOM524715</td>\n",
              "      <td>SUN PHARMACEUTICAL INDUSTRIES LTD. EOD Prices</td>\n",
              "      <td>2000-01-03</td>\n",
              "      <td>2021-03-23</td>\n",
              "    </tr>\n",
              "    <tr>\n",
              "      <th>10</th>\n",
              "      <td>BOM532174</td>\n",
              "      <td>ICICI BANK LTD. EOD Prices</td>\n",
              "      <td>2000-01-03</td>\n",
              "      <td>2021-03-23</td>\n",
              "    </tr>\n",
              "    <tr>\n",
              "      <th>11</th>\n",
              "      <td>BOM532488</td>\n",
              "      <td>DIVI'S LABORATORIES LTD. EOD Prices</td>\n",
              "      <td>2003-03-12</td>\n",
              "      <td>2021-03-23</td>\n",
              "    </tr>\n",
              "    <tr>\n",
              "      <th>12</th>\n",
              "      <td>BOM532500</td>\n",
              "      <td>MARUTI SUZUKI INDIA LTD. EOD Prices</td>\n",
              "      <td>2003-07-09</td>\n",
              "      <td>2021-03-23</td>\n",
              "    </tr>\n",
              "    <tr>\n",
              "      <th>13</th>\n",
              "      <td>BOM532540</td>\n",
              "      <td>TATA CONSULTANCY SERVICES LTD. EOD Prices</td>\n",
              "      <td>2004-08-25</td>\n",
              "      <td>2021-03-23</td>\n",
              "    </tr>\n",
              "    <tr>\n",
              "      <th>14</th>\n",
              "      <td>BOM532977</td>\n",
              "      <td>BAJAJ AUTO LTD. EOD Prices</td>\n",
              "      <td>2008-05-26</td>\n",
              "      <td>2021-03-23</td>\n",
              "    </tr>\n",
              "    <tr>\n",
              "      <th>15</th>\n",
              "      <td>SENSEX</td>\n",
              "      <td>BSE SENSEX</td>\n",
              "      <td>2000-01-03</td>\n",
              "      <td>2021-03-23</td>\n",
              "    </tr>\n",
              "    <tr>\n",
              "      <th>16</th>\n",
              "      <td>SI0800</td>\n",
              "      <td>BSE Healthcare</td>\n",
              "      <td>2000-01-03</td>\n",
              "      <td>2021-03-23</td>\n",
              "    </tr>\n",
              "    <tr>\n",
              "      <th>17</th>\n",
              "      <td>SI1000</td>\n",
              "      <td>BSE Information Technology</td>\n",
              "      <td>2000-01-03</td>\n",
              "      <td>2021-03-23</td>\n",
              "    </tr>\n",
              "    <tr>\n",
              "      <th>18</th>\n",
              "      <td>SI1200</td>\n",
              "      <td>BSE METAL</td>\n",
              "      <td>2000-01-03</td>\n",
              "      <td>2021-03-23</td>\n",
              "    </tr>\n",
              "    <tr>\n",
              "      <th>19</th>\n",
              "      <td>SI1900</td>\n",
              "      <td>BSE AUTO</td>\n",
              "      <td>2000-01-03</td>\n",
              "      <td>2021-03-23</td>\n",
              "    </tr>\n",
              "    <tr>\n",
              "      <th>20</th>\n",
              "      <td>SIBANK</td>\n",
              "      <td>BSE BANKEX</td>\n",
              "      <td>2002-01-01</td>\n",
              "      <td>2021-03-23</td>\n",
              "    </tr>\n",
              "  </tbody>\n",
              "</table>\n",
              "</div>"
            ],
            "text/plain": [
              "   Stock Code                                     Stock Name  First Date  \\\n",
              "0   BOM500124        DR.REDDY'S LABORATORIES LTD. EOD Prices  2000-01-03   \n",
              "1   BOM500180                       HDFC Bank Ltd EOD Prices  2000-01-03   \n",
              "2   BOM500209                        INFOSYS LTD. EOD Prices  2000-01-03   \n",
              "3   BOM500228                      JSW STEEL LTD. EOD Prices  2000-01-03   \n",
              "4   BOM500247            KOTAK MAHINDRA BANK LTD. EOD Prices  2000-01-03   \n",
              "5   BOM500440            HINDALCO INDUSTRIES LTD. EOD Prices  2000-01-03   \n",
              "6   BOM500470                     TATA STEEL LTD. EOD Prices  2000-01-03   \n",
              "7   BOM500570                    TATA MOTORS LTD. EOD Prices  2000-01-03   \n",
              "8   BOM507685                          WIPRO LTD. EOD Prices  2000-01-03   \n",
              "9   BOM524715  SUN PHARMACEUTICAL INDUSTRIES LTD. EOD Prices  2000-01-03   \n",
              "10  BOM532174                     ICICI BANK LTD. EOD Prices  2000-01-03   \n",
              "11  BOM532488            DIVI'S LABORATORIES LTD. EOD Prices  2003-03-12   \n",
              "12  BOM532500            MARUTI SUZUKI INDIA LTD. EOD Prices  2003-07-09   \n",
              "13  BOM532540      TATA CONSULTANCY SERVICES LTD. EOD Prices  2004-08-25   \n",
              "14  BOM532977                     BAJAJ AUTO LTD. EOD Prices  2008-05-26   \n",
              "15     SENSEX                                     BSE SENSEX  2000-01-03   \n",
              "16     SI0800                                 BSE Healthcare  2000-01-03   \n",
              "17     SI1000                     BSE Information Technology  2000-01-03   \n",
              "18     SI1200                                      BSE METAL  2000-01-03   \n",
              "19     SI1900                                       BSE AUTO  2000-01-03   \n",
              "20     SIBANK                                     BSE BANKEX  2002-01-01   \n",
              "\n",
              "     Last Date  \n",
              "0   2021-03-23  \n",
              "1   2021-03-23  \n",
              "2   2021-03-23  \n",
              "3   2021-03-23  \n",
              "4   2021-03-23  \n",
              "5   2021-03-23  \n",
              "6   2021-03-23  \n",
              "7   2021-03-23  \n",
              "8   2021-03-23  \n",
              "9   2021-03-23  \n",
              "10  2021-03-23  \n",
              "11  2021-03-23  \n",
              "12  2021-03-23  \n",
              "13  2021-03-23  \n",
              "14  2021-03-23  \n",
              "15  2021-03-23  \n",
              "16  2021-03-23  \n",
              "17  2021-03-23  \n",
              "18  2021-03-23  \n",
              "19  2021-03-23  \n",
              "20  2021-03-23  "
            ]
          },
          "metadata": {
            "tags": []
          },
          "execution_count": 64
        }
      ]
    },
    {
      "cell_type": "code",
      "metadata": {
        "id": "5k9t2tCJsQDU"
      },
      "source": [
        "# use above ranges to get stockName\n",
        "def getStockNameFromStockCode(stockCode):\n",
        "    return dateRanges.loc[dateRanges['Stock Code']==stockCode, 'Stock Name'].values[0].replace('EOD Prices', '');"
      ],
      "execution_count": null,
      "outputs": []
    },
    {
      "cell_type": "code",
      "metadata": {
        "id": "tJN_Fe5xsQDV",
        "colab": {
          "base_uri": "https://localhost:8080/",
          "height": 495
        },
        "outputId": "13851753-d923-4b3c-82b3-0fd0405bc8ae"
      },
      "source": [
        "data = dataset.set_index('Date')\n",
        "data.head()"
      ],
      "execution_count": null,
      "outputs": [
        {
          "output_type": "execute_result",
          "data": {
            "text/html": [
              "<div>\n",
              "<style scoped>\n",
              "    .dataframe tbody tr th:only-of-type {\n",
              "        vertical-align: middle;\n",
              "    }\n",
              "\n",
              "    .dataframe tbody tr th {\n",
              "        vertical-align: top;\n",
              "    }\n",
              "\n",
              "    .dataframe thead th {\n",
              "        text-align: right;\n",
              "    }\n",
              "</style>\n",
              "<table border=\"1\" class=\"dataframe\">\n",
              "  <thead>\n",
              "    <tr style=\"text-align: right;\">\n",
              "      <th></th>\n",
              "      <th>Open</th>\n",
              "      <th>High</th>\n",
              "      <th>Low</th>\n",
              "      <th>Close</th>\n",
              "      <th>WAP</th>\n",
              "      <th>No. of Shares</th>\n",
              "      <th>No. of Trades</th>\n",
              "      <th>Total Turnover</th>\n",
              "      <th>Deliverable Quantity</th>\n",
              "      <th>% Deli. Qty to Traded Qty</th>\n",
              "      <th>Spread H-L</th>\n",
              "      <th>Spread C-O</th>\n",
              "      <th>StockName</th>\n",
              "      <th>code</th>\n",
              "      <th>isStock</th>\n",
              "      <th>Index</th>\n",
              "    </tr>\n",
              "    <tr>\n",
              "      <th>Date</th>\n",
              "      <th></th>\n",
              "      <th></th>\n",
              "      <th></th>\n",
              "      <th></th>\n",
              "      <th></th>\n",
              "      <th></th>\n",
              "      <th></th>\n",
              "      <th></th>\n",
              "      <th></th>\n",
              "      <th></th>\n",
              "      <th></th>\n",
              "      <th></th>\n",
              "      <th></th>\n",
              "      <th></th>\n",
              "      <th></th>\n",
              "      <th></th>\n",
              "    </tr>\n",
              "  </thead>\n",
              "  <tbody>\n",
              "    <tr>\n",
              "      <th>2000-01-03</th>\n",
              "      <td>1500.0</td>\n",
              "      <td>1557.35</td>\n",
              "      <td>1500.00</td>\n",
              "      <td>1557.35</td>\n",
              "      <td>1544.195154</td>\n",
              "      <td>82330.0</td>\n",
              "      <td>945.0</td>\n",
              "      <td>127133587.0</td>\n",
              "      <td>NaN</td>\n",
              "      <td>NaN</td>\n",
              "      <td>57.35</td>\n",
              "      <td>57.35</td>\n",
              "      <td>DR.REDDY'S LABORATORIES LTD. EOD Prices</td>\n",
              "      <td>BOM500124</td>\n",
              "      <td>1</td>\n",
              "      <td>SI0800</td>\n",
              "    </tr>\n",
              "    <tr>\n",
              "      <th>2000-01-04</th>\n",
              "      <td>1601.0</td>\n",
              "      <td>1681.00</td>\n",
              "      <td>1527.00</td>\n",
              "      <td>1647.25</td>\n",
              "      <td>1621.040930</td>\n",
              "      <td>210676.0</td>\n",
              "      <td>3308.0</td>\n",
              "      <td>341514419.0</td>\n",
              "      <td>NaN</td>\n",
              "      <td>NaN</td>\n",
              "      <td>154.00</td>\n",
              "      <td>46.25</td>\n",
              "      <td>DR.REDDY'S LABORATORIES LTD. EOD Prices</td>\n",
              "      <td>BOM500124</td>\n",
              "      <td>1</td>\n",
              "      <td>SI0800</td>\n",
              "    </tr>\n",
              "    <tr>\n",
              "      <th>2000-01-05</th>\n",
              "      <td>1600.0</td>\n",
              "      <td>1648.00</td>\n",
              "      <td>1515.50</td>\n",
              "      <td>1559.00</td>\n",
              "      <td>1590.903923</td>\n",
              "      <td>205669.0</td>\n",
              "      <td>2707.0</td>\n",
              "      <td>327199619.0</td>\n",
              "      <td>NaN</td>\n",
              "      <td>NaN</td>\n",
              "      <td>132.50</td>\n",
              "      <td>-41.00</td>\n",
              "      <td>DR.REDDY'S LABORATORIES LTD. EOD Prices</td>\n",
              "      <td>BOM500124</td>\n",
              "      <td>1</td>\n",
              "      <td>SI0800</td>\n",
              "    </tr>\n",
              "    <tr>\n",
              "      <th>2000-01-06</th>\n",
              "      <td>1582.0</td>\n",
              "      <td>1683.70</td>\n",
              "      <td>1560.00</td>\n",
              "      <td>1683.70</td>\n",
              "      <td>1623.244182</td>\n",
              "      <td>161085.0</td>\n",
              "      <td>2559.0</td>\n",
              "      <td>261480289.0</td>\n",
              "      <td>NaN</td>\n",
              "      <td>NaN</td>\n",
              "      <td>123.70</td>\n",
              "      <td>101.70</td>\n",
              "      <td>DR.REDDY'S LABORATORIES LTD. EOD Prices</td>\n",
              "      <td>BOM500124</td>\n",
              "      <td>1</td>\n",
              "      <td>SI0800</td>\n",
              "    </tr>\n",
              "    <tr>\n",
              "      <th>2000-01-07</th>\n",
              "      <td>1718.0</td>\n",
              "      <td>1718.00</td>\n",
              "      <td>1549.05</td>\n",
              "      <td>1549.05</td>\n",
              "      <td>1593.853264</td>\n",
              "      <td>120952.0</td>\n",
              "      <td>1955.0</td>\n",
              "      <td>192779740.0</td>\n",
              "      <td>NaN</td>\n",
              "      <td>NaN</td>\n",
              "      <td>168.95</td>\n",
              "      <td>-168.95</td>\n",
              "      <td>DR.REDDY'S LABORATORIES LTD. EOD Prices</td>\n",
              "      <td>BOM500124</td>\n",
              "      <td>1</td>\n",
              "      <td>SI0800</td>\n",
              "    </tr>\n",
              "  </tbody>\n",
              "</table>\n",
              "</div>"
            ],
            "text/plain": [
              "              Open     High      Low    Close          WAP  No. of Shares  \\\n",
              "Date                                                                        \n",
              "2000-01-03  1500.0  1557.35  1500.00  1557.35  1544.195154        82330.0   \n",
              "2000-01-04  1601.0  1681.00  1527.00  1647.25  1621.040930       210676.0   \n",
              "2000-01-05  1600.0  1648.00  1515.50  1559.00  1590.903923       205669.0   \n",
              "2000-01-06  1582.0  1683.70  1560.00  1683.70  1623.244182       161085.0   \n",
              "2000-01-07  1718.0  1718.00  1549.05  1549.05  1593.853264       120952.0   \n",
              "\n",
              "            No. of Trades  Total Turnover  Deliverable Quantity  \\\n",
              "Date                                                              \n",
              "2000-01-03          945.0     127133587.0                   NaN   \n",
              "2000-01-04         3308.0     341514419.0                   NaN   \n",
              "2000-01-05         2707.0     327199619.0                   NaN   \n",
              "2000-01-06         2559.0     261480289.0                   NaN   \n",
              "2000-01-07         1955.0     192779740.0                   NaN   \n",
              "\n",
              "            % Deli. Qty to Traded Qty  Spread H-L  Spread C-O  \\\n",
              "Date                                                            \n",
              "2000-01-03                        NaN       57.35       57.35   \n",
              "2000-01-04                        NaN      154.00       46.25   \n",
              "2000-01-05                        NaN      132.50      -41.00   \n",
              "2000-01-06                        NaN      123.70      101.70   \n",
              "2000-01-07                        NaN      168.95     -168.95   \n",
              "\n",
              "                                          StockName       code  isStock  \\\n",
              "Date                                                                      \n",
              "2000-01-03  DR.REDDY'S LABORATORIES LTD. EOD Prices  BOM500124        1   \n",
              "2000-01-04  DR.REDDY'S LABORATORIES LTD. EOD Prices  BOM500124        1   \n",
              "2000-01-05  DR.REDDY'S LABORATORIES LTD. EOD Prices  BOM500124        1   \n",
              "2000-01-06  DR.REDDY'S LABORATORIES LTD. EOD Prices  BOM500124        1   \n",
              "2000-01-07  DR.REDDY'S LABORATORIES LTD. EOD Prices  BOM500124        1   \n",
              "\n",
              "             Index  \n",
              "Date                \n",
              "2000-01-03  SI0800  \n",
              "2000-01-04  SI0800  \n",
              "2000-01-05  SI0800  \n",
              "2000-01-06  SI0800  \n",
              "2000-01-07  SI0800  "
            ]
          },
          "metadata": {
            "tags": []
          },
          "execution_count": 66
        }
      ]
    },
    {
      "cell_type": "markdown",
      "metadata": {
        "id": "zPN-2PnUsQDX"
      },
      "source": [
        "### Populate dictionary to hold individual Stock Data"
      ]
    },
    {
      "cell_type": "code",
      "metadata": {
        "id": "foJvrjY0sQDY"
      },
      "source": [
        "# ScriptWiseData = {'Symbol1': <DatqaFrame>, 'Suymbol 2':Dataframe2}\n",
        "for symbol in allSymbols:\n",
        "    ScriptWiseData[symbol] = data.loc[data.code==symbol]"
      ],
      "execution_count": null,
      "outputs": []
    },
    {
      "cell_type": "markdown",
      "metadata": {
        "id": "ihkDFSgnsQDZ"
      },
      "source": [
        "### View null values in the data "
      ]
    },
    {
      "cell_type": "code",
      "metadata": {
        "id": "vrqyLuQUsQDa",
        "colab": {
          "base_uri": "https://localhost:8080/",
          "height": 733
        },
        "outputId": "dd529c8c-2899-4994-9a76-dc6d6ce0a637"
      },
      "source": [
        "getNullValuesForSetOfStocks()"
      ],
      "execution_count": null,
      "outputs": [
        {
          "output_type": "execute_result",
          "data": {
            "text/html": [
              "<div>\n",
              "<style scoped>\n",
              "    .dataframe tbody tr th:only-of-type {\n",
              "        vertical-align: middle;\n",
              "    }\n",
              "\n",
              "    .dataframe tbody tr th {\n",
              "        vertical-align: top;\n",
              "    }\n",
              "\n",
              "    .dataframe thead th {\n",
              "        text-align: right;\n",
              "    }\n",
              "</style>\n",
              "<table border=\"1\" class=\"dataframe\">\n",
              "  <thead>\n",
              "    <tr style=\"text-align: right;\">\n",
              "      <th></th>\n",
              "      <th>SUN PHARMACEUTICAL INDUSTRIES LTD.</th>\n",
              "      <th>DIVI'S LABORATORIES LTD.</th>\n",
              "      <th>DR.REDDY'S LABORATORIES LTD.</th>\n",
              "      <th>HDFC Bank Ltd</th>\n",
              "      <th>ICICI BANK LTD.</th>\n",
              "      <th>KOTAK MAHINDRA BANK LTD.</th>\n",
              "      <th>TATA STEEL LTD.</th>\n",
              "      <th>JSW STEEL LTD.</th>\n",
              "      <th>HINDALCO INDUSTRIES LTD.</th>\n",
              "      <th>BAJAJ AUTO LTD.</th>\n",
              "      <th>TATA MOTORS LTD.</th>\n",
              "      <th>MARUTI SUZUKI INDIA LTD.</th>\n",
              "      <th>INFOSYS LTD.</th>\n",
              "      <th>TATA CONSULTANCY SERVICES LTD.</th>\n",
              "      <th>WIPRO LTD.</th>\n",
              "    </tr>\n",
              "  </thead>\n",
              "  <tbody>\n",
              "    <tr>\n",
              "      <th>Open</th>\n",
              "      <td>0</td>\n",
              "      <td>0</td>\n",
              "      <td>0</td>\n",
              "      <td>0</td>\n",
              "      <td>0</td>\n",
              "      <td>0</td>\n",
              "      <td>0</td>\n",
              "      <td>0</td>\n",
              "      <td>0</td>\n",
              "      <td>0</td>\n",
              "      <td>0</td>\n",
              "      <td>0</td>\n",
              "      <td>0</td>\n",
              "      <td>0</td>\n",
              "      <td>0</td>\n",
              "    </tr>\n",
              "    <tr>\n",
              "      <th>High</th>\n",
              "      <td>0</td>\n",
              "      <td>0</td>\n",
              "      <td>0</td>\n",
              "      <td>0</td>\n",
              "      <td>0</td>\n",
              "      <td>0</td>\n",
              "      <td>0</td>\n",
              "      <td>0</td>\n",
              "      <td>0</td>\n",
              "      <td>0</td>\n",
              "      <td>0</td>\n",
              "      <td>0</td>\n",
              "      <td>0</td>\n",
              "      <td>0</td>\n",
              "      <td>0</td>\n",
              "    </tr>\n",
              "    <tr>\n",
              "      <th>Low</th>\n",
              "      <td>0</td>\n",
              "      <td>0</td>\n",
              "      <td>0</td>\n",
              "      <td>0</td>\n",
              "      <td>0</td>\n",
              "      <td>0</td>\n",
              "      <td>0</td>\n",
              "      <td>0</td>\n",
              "      <td>0</td>\n",
              "      <td>0</td>\n",
              "      <td>0</td>\n",
              "      <td>0</td>\n",
              "      <td>0</td>\n",
              "      <td>0</td>\n",
              "      <td>0</td>\n",
              "    </tr>\n",
              "    <tr>\n",
              "      <th>Close</th>\n",
              "      <td>0</td>\n",
              "      <td>0</td>\n",
              "      <td>0</td>\n",
              "      <td>0</td>\n",
              "      <td>0</td>\n",
              "      <td>0</td>\n",
              "      <td>0</td>\n",
              "      <td>0</td>\n",
              "      <td>0</td>\n",
              "      <td>0</td>\n",
              "      <td>0</td>\n",
              "      <td>0</td>\n",
              "      <td>0</td>\n",
              "      <td>0</td>\n",
              "      <td>0</td>\n",
              "    </tr>\n",
              "    <tr>\n",
              "      <th>WAP</th>\n",
              "      <td>0</td>\n",
              "      <td>0</td>\n",
              "      <td>0</td>\n",
              "      <td>0</td>\n",
              "      <td>0</td>\n",
              "      <td>0</td>\n",
              "      <td>0</td>\n",
              "      <td>0</td>\n",
              "      <td>0</td>\n",
              "      <td>0</td>\n",
              "      <td>0</td>\n",
              "      <td>0</td>\n",
              "      <td>0</td>\n",
              "      <td>0</td>\n",
              "      <td>0</td>\n",
              "    </tr>\n",
              "    <tr>\n",
              "      <th>No. of Shares</th>\n",
              "      <td>0</td>\n",
              "      <td>0</td>\n",
              "      <td>0</td>\n",
              "      <td>0</td>\n",
              "      <td>0</td>\n",
              "      <td>0</td>\n",
              "      <td>0</td>\n",
              "      <td>0</td>\n",
              "      <td>0</td>\n",
              "      <td>0</td>\n",
              "      <td>0</td>\n",
              "      <td>0</td>\n",
              "      <td>0</td>\n",
              "      <td>0</td>\n",
              "      <td>0</td>\n",
              "    </tr>\n",
              "    <tr>\n",
              "      <th>No. of Trades</th>\n",
              "      <td>0</td>\n",
              "      <td>0</td>\n",
              "      <td>0</td>\n",
              "      <td>0</td>\n",
              "      <td>0</td>\n",
              "      <td>0</td>\n",
              "      <td>0</td>\n",
              "      <td>0</td>\n",
              "      <td>0</td>\n",
              "      <td>0</td>\n",
              "      <td>0</td>\n",
              "      <td>0</td>\n",
              "      <td>0</td>\n",
              "      <td>0</td>\n",
              "      <td>0</td>\n",
              "    </tr>\n",
              "    <tr>\n",
              "      <th>Total Turnover</th>\n",
              "      <td>0</td>\n",
              "      <td>0</td>\n",
              "      <td>0</td>\n",
              "      <td>0</td>\n",
              "      <td>0</td>\n",
              "      <td>0</td>\n",
              "      <td>0</td>\n",
              "      <td>0</td>\n",
              "      <td>0</td>\n",
              "      <td>0</td>\n",
              "      <td>0</td>\n",
              "      <td>0</td>\n",
              "      <td>0</td>\n",
              "      <td>0</td>\n",
              "      <td>0</td>\n",
              "    </tr>\n",
              "    <tr>\n",
              "      <th>Deliverable Quantity</th>\n",
              "      <td>548</td>\n",
              "      <td>57</td>\n",
              "      <td>538</td>\n",
              "      <td>538</td>\n",
              "      <td>544</td>\n",
              "      <td>537</td>\n",
              "      <td>545</td>\n",
              "      <td>580</td>\n",
              "      <td>555</td>\n",
              "      <td>1</td>\n",
              "      <td>542</td>\n",
              "      <td>81</td>\n",
              "      <td>539</td>\n",
              "      <td>2</td>\n",
              "      <td>538</td>\n",
              "    </tr>\n",
              "    <tr>\n",
              "      <th>% Deli. Qty to Traded Qty</th>\n",
              "      <td>548</td>\n",
              "      <td>57</td>\n",
              "      <td>538</td>\n",
              "      <td>538</td>\n",
              "      <td>544</td>\n",
              "      <td>537</td>\n",
              "      <td>545</td>\n",
              "      <td>580</td>\n",
              "      <td>555</td>\n",
              "      <td>1</td>\n",
              "      <td>542</td>\n",
              "      <td>81</td>\n",
              "      <td>539</td>\n",
              "      <td>2</td>\n",
              "      <td>538</td>\n",
              "    </tr>\n",
              "    <tr>\n",
              "      <th>Spread H-L</th>\n",
              "      <td>0</td>\n",
              "      <td>0</td>\n",
              "      <td>0</td>\n",
              "      <td>0</td>\n",
              "      <td>0</td>\n",
              "      <td>0</td>\n",
              "      <td>0</td>\n",
              "      <td>0</td>\n",
              "      <td>0</td>\n",
              "      <td>0</td>\n",
              "      <td>0</td>\n",
              "      <td>0</td>\n",
              "      <td>0</td>\n",
              "      <td>0</td>\n",
              "      <td>0</td>\n",
              "    </tr>\n",
              "    <tr>\n",
              "      <th>Spread C-O</th>\n",
              "      <td>0</td>\n",
              "      <td>0</td>\n",
              "      <td>0</td>\n",
              "      <td>0</td>\n",
              "      <td>0</td>\n",
              "      <td>0</td>\n",
              "      <td>0</td>\n",
              "      <td>0</td>\n",
              "      <td>0</td>\n",
              "      <td>0</td>\n",
              "      <td>0</td>\n",
              "      <td>0</td>\n",
              "      <td>0</td>\n",
              "      <td>0</td>\n",
              "      <td>0</td>\n",
              "    </tr>\n",
              "    <tr>\n",
              "      <th>StockName</th>\n",
              "      <td>0</td>\n",
              "      <td>0</td>\n",
              "      <td>0</td>\n",
              "      <td>0</td>\n",
              "      <td>0</td>\n",
              "      <td>0</td>\n",
              "      <td>0</td>\n",
              "      <td>0</td>\n",
              "      <td>0</td>\n",
              "      <td>0</td>\n",
              "      <td>0</td>\n",
              "      <td>0</td>\n",
              "      <td>0</td>\n",
              "      <td>0</td>\n",
              "      <td>0</td>\n",
              "    </tr>\n",
              "    <tr>\n",
              "      <th>code</th>\n",
              "      <td>0</td>\n",
              "      <td>0</td>\n",
              "      <td>0</td>\n",
              "      <td>0</td>\n",
              "      <td>0</td>\n",
              "      <td>0</td>\n",
              "      <td>0</td>\n",
              "      <td>0</td>\n",
              "      <td>0</td>\n",
              "      <td>0</td>\n",
              "      <td>0</td>\n",
              "      <td>0</td>\n",
              "      <td>0</td>\n",
              "      <td>0</td>\n",
              "      <td>0</td>\n",
              "    </tr>\n",
              "    <tr>\n",
              "      <th>isStock</th>\n",
              "      <td>0</td>\n",
              "      <td>0</td>\n",
              "      <td>0</td>\n",
              "      <td>0</td>\n",
              "      <td>0</td>\n",
              "      <td>0</td>\n",
              "      <td>0</td>\n",
              "      <td>0</td>\n",
              "      <td>0</td>\n",
              "      <td>0</td>\n",
              "      <td>0</td>\n",
              "      <td>0</td>\n",
              "      <td>0</td>\n",
              "      <td>0</td>\n",
              "      <td>0</td>\n",
              "    </tr>\n",
              "    <tr>\n",
              "      <th>Index</th>\n",
              "      <td>0</td>\n",
              "      <td>0</td>\n",
              "      <td>0</td>\n",
              "      <td>0</td>\n",
              "      <td>0</td>\n",
              "      <td>0</td>\n",
              "      <td>0</td>\n",
              "      <td>0</td>\n",
              "      <td>0</td>\n",
              "      <td>0</td>\n",
              "      <td>0</td>\n",
              "      <td>0</td>\n",
              "      <td>0</td>\n",
              "      <td>0</td>\n",
              "      <td>0</td>\n",
              "    </tr>\n",
              "  </tbody>\n",
              "</table>\n",
              "</div>"
            ],
            "text/plain": [
              "                           SUN PHARMACEUTICAL INDUSTRIES LTD.   \\\n",
              "Open                                                         0   \n",
              "High                                                         0   \n",
              "Low                                                          0   \n",
              "Close                                                        0   \n",
              "WAP                                                          0   \n",
              "No. of Shares                                                0   \n",
              "No. of Trades                                                0   \n",
              "Total Turnover                                               0   \n",
              "Deliverable Quantity                                       548   \n",
              "% Deli. Qty to Traded Qty                                  548   \n",
              "Spread H-L                                                   0   \n",
              "Spread C-O                                                   0   \n",
              "StockName                                                    0   \n",
              "code                                                         0   \n",
              "isStock                                                      0   \n",
              "Index                                                        0   \n",
              "\n",
              "                           DIVI'S LABORATORIES LTD.   \\\n",
              "Open                                               0   \n",
              "High                                               0   \n",
              "Low                                                0   \n",
              "Close                                              0   \n",
              "WAP                                                0   \n",
              "No. of Shares                                      0   \n",
              "No. of Trades                                      0   \n",
              "Total Turnover                                     0   \n",
              "Deliverable Quantity                              57   \n",
              "% Deli. Qty to Traded Qty                         57   \n",
              "Spread H-L                                         0   \n",
              "Spread C-O                                         0   \n",
              "StockName                                          0   \n",
              "code                                               0   \n",
              "isStock                                            0   \n",
              "Index                                              0   \n",
              "\n",
              "                           DR.REDDY'S LABORATORIES LTD.   HDFC Bank Ltd   \\\n",
              "Open                                                   0               0   \n",
              "High                                                   0               0   \n",
              "Low                                                    0               0   \n",
              "Close                                                  0               0   \n",
              "WAP                                                    0               0   \n",
              "No. of Shares                                          0               0   \n",
              "No. of Trades                                          0               0   \n",
              "Total Turnover                                         0               0   \n",
              "Deliverable Quantity                                 538             538   \n",
              "% Deli. Qty to Traded Qty                            538             538   \n",
              "Spread H-L                                             0               0   \n",
              "Spread C-O                                             0               0   \n",
              "StockName                                              0               0   \n",
              "code                                                   0               0   \n",
              "isStock                                                0               0   \n",
              "Index                                                  0               0   \n",
              "\n",
              "                           ICICI BANK LTD.   KOTAK MAHINDRA BANK LTD.   \\\n",
              "Open                                      0                          0   \n",
              "High                                      0                          0   \n",
              "Low                                       0                          0   \n",
              "Close                                     0                          0   \n",
              "WAP                                       0                          0   \n",
              "No. of Shares                             0                          0   \n",
              "No. of Trades                             0                          0   \n",
              "Total Turnover                            0                          0   \n",
              "Deliverable Quantity                    544                        537   \n",
              "% Deli. Qty to Traded Qty               544                        537   \n",
              "Spread H-L                                0                          0   \n",
              "Spread C-O                                0                          0   \n",
              "StockName                                 0                          0   \n",
              "code                                      0                          0   \n",
              "isStock                                   0                          0   \n",
              "Index                                     0                          0   \n",
              "\n",
              "                           TATA STEEL LTD.   JSW STEEL LTD.   \\\n",
              "Open                                      0                0   \n",
              "High                                      0                0   \n",
              "Low                                       0                0   \n",
              "Close                                     0                0   \n",
              "WAP                                       0                0   \n",
              "No. of Shares                             0                0   \n",
              "No. of Trades                             0                0   \n",
              "Total Turnover                            0                0   \n",
              "Deliverable Quantity                    545              580   \n",
              "% Deli. Qty to Traded Qty               545              580   \n",
              "Spread H-L                                0                0   \n",
              "Spread C-O                                0                0   \n",
              "StockName                                 0                0   \n",
              "code                                      0                0   \n",
              "isStock                                   0                0   \n",
              "Index                                     0                0   \n",
              "\n",
              "                           HINDALCO INDUSTRIES LTD.   BAJAJ AUTO LTD.   \\\n",
              "Open                                               0                 0   \n",
              "High                                               0                 0   \n",
              "Low                                                0                 0   \n",
              "Close                                              0                 0   \n",
              "WAP                                                0                 0   \n",
              "No. of Shares                                      0                 0   \n",
              "No. of Trades                                      0                 0   \n",
              "Total Turnover                                     0                 0   \n",
              "Deliverable Quantity                             555                 1   \n",
              "% Deli. Qty to Traded Qty                        555                 1   \n",
              "Spread H-L                                         0                 0   \n",
              "Spread C-O                                         0                 0   \n",
              "StockName                                          0                 0   \n",
              "code                                               0                 0   \n",
              "isStock                                            0                 0   \n",
              "Index                                              0                 0   \n",
              "\n",
              "                           TATA MOTORS LTD.   MARUTI SUZUKI INDIA LTD.   \\\n",
              "Open                                       0                          0   \n",
              "High                                       0                          0   \n",
              "Low                                        0                          0   \n",
              "Close                                      0                          0   \n",
              "WAP                                        0                          0   \n",
              "No. of Shares                              0                          0   \n",
              "No. of Trades                              0                          0   \n",
              "Total Turnover                             0                          0   \n",
              "Deliverable Quantity                     542                         81   \n",
              "% Deli. Qty to Traded Qty                542                         81   \n",
              "Spread H-L                                 0                          0   \n",
              "Spread C-O                                 0                          0   \n",
              "StockName                                  0                          0   \n",
              "code                                       0                          0   \n",
              "isStock                                    0                          0   \n",
              "Index                                      0                          0   \n",
              "\n",
              "                           INFOSYS LTD.   TATA CONSULTANCY SERVICES LTD.   \\\n",
              "Open                                   0                                0   \n",
              "High                                   0                                0   \n",
              "Low                                    0                                0   \n",
              "Close                                  0                                0   \n",
              "WAP                                    0                                0   \n",
              "No. of Shares                          0                                0   \n",
              "No. of Trades                          0                                0   \n",
              "Total Turnover                         0                                0   \n",
              "Deliverable Quantity                 539                                2   \n",
              "% Deli. Qty to Traded Qty            539                                2   \n",
              "Spread H-L                             0                                0   \n",
              "Spread C-O                             0                                0   \n",
              "StockName                              0                                0   \n",
              "code                                   0                                0   \n",
              "isStock                                0                                0   \n",
              "Index                                  0                                0   \n",
              "\n",
              "                           WIPRO LTD.   \n",
              "Open                                 0  \n",
              "High                                 0  \n",
              "Low                                  0  \n",
              "Close                                0  \n",
              "WAP                                  0  \n",
              "No. of Shares                        0  \n",
              "No. of Trades                        0  \n",
              "Total Turnover                       0  \n",
              "Deliverable Quantity               538  \n",
              "% Deli. Qty to Traded Qty          538  \n",
              "Spread H-L                           0  \n",
              "Spread C-O                           0  \n",
              "StockName                            0  \n",
              "code                                 0  \n",
              "isStock                              0  \n",
              "Index                                0  "
            ]
          },
          "metadata": {
            "tags": []
          },
          "execution_count": 68
        }
      ]
    },
    {
      "cell_type": "markdown",
      "metadata": {
        "id": "wS7xJCpYsQDb"
      },
      "source": [
        "# Deriving Technical indicators "
      ]
    },
    {
      "cell_type": "markdown",
      "metadata": {
        "id": "BeXEUPXssQDc"
      },
      "source": [
        "### MACD"
      ]
    },
    {
      "cell_type": "code",
      "metadata": {
        "id": "x7DcBo7EsQDd"
      },
      "source": [
        "# function to create data MACD signal and data. \n",
        "def MACD(df, span1 = 12, span2= 26, span3 = 9):\n",
        "    stockData = df.copy()\n",
        "    stockData['FastAverage'] = stockData['Close'].ewm(span = span1, min_periods = span1).mean()\n",
        "    stockData['SlowAverage'] = stockData['Close'].ewm(span = span2, min_periods = span2).mean()\n",
        "    stockData['MACD'] = stockData['FastAverage'] - stockData['SlowAverage']\n",
        "    stockData['Signal'] = stockData['MACD'].ewm(span=span3, min_periods = span3).mean()\n",
        "    return stockData[MACDColumns]"
      ],
      "execution_count": null,
      "outputs": []
    },
    {
      "cell_type": "code",
      "metadata": {
        "id": "rla3QZ1OsQDe"
      },
      "source": [
        "# create stock code based dataframes with MACD signal\n",
        "for symbol in allSymbols:\n",
        "    macd = MACD(ScriptWiseData[symbol])\n",
        "    ScriptWiseData[symbol] = ScriptWiseData[symbol].merge(macd, left_index=True, right_index = True, how='left')"
      ],
      "execution_count": null,
      "outputs": []
    },
    {
      "cell_type": "markdown",
      "metadata": {
        "id": "oxHhE-MksQDf"
      },
      "source": [
        "### RSI - Relative Strength Index"
      ]
    },
    {
      "cell_type": "code",
      "metadata": {
        "id": "cmuud8ZUsQDg"
      },
      "source": [
        "# Calculating RSI without using loop\n",
        "def RSI(DF, n=14):\n",
        "    df =  DF.copy()\n",
        "    \"function to calculate RSI\"\n",
        "    delta = df['Close'].diff().dropna()\n",
        "    u = delta * 0\n",
        "    d = u.copy()\n",
        "    u[delta > 0] = delta[delta > 0]\n",
        "    d[delta < 0] = -delta[delta < 0]\n",
        "    u[u.index[n-1]] = np.mean( u[:n]) # first value is average of gains\n",
        "    u = u.drop(u.index[:(n-1)])\n",
        "    d[d.index[n-1]] = np.mean( d[:n]) # first value is average of losses\n",
        "    d = d.drop(d.index[:(n-1)])\n",
        "    rs = u.ewm(com=n,min_periods=n).mean()/d.ewm(com=n,min_periods=n).mean()\n",
        "    rsi = 100 - 100 / (1+rs);\n",
        "    return pd.DataFrame(rs).rename(columns={'Close':'RSI'})"
      ],
      "execution_count": null,
      "outputs": []
    },
    {
      "cell_type": "code",
      "metadata": {
        "id": "lfsj0KTqsQDh"
      },
      "source": [
        "#RSI \n",
        "for symbol in allSymbols:   \n",
        "    rsi = RSI(data.loc[data.code==symbol])\n",
        "    ScriptWiseData[symbol] = ScriptWiseData[symbol].merge(rsi, left_index=True, right_index = True, how='left')"
      ],
      "execution_count": null,
      "outputs": []
    },
    {
      "cell_type": "markdown",
      "metadata": {
        "id": "pIDupQCqsQDi"
      },
      "source": [
        "### ATR"
      ]
    },
    {
      "cell_type": "code",
      "metadata": {
        "id": "yVvCDFDksQDi"
      },
      "source": [
        "def ATR(DF,n=20):\n",
        "    \"function to calculate True Range and Average True Range\"\n",
        "    df = DF.copy()\n",
        "    df['H-L']=abs(df['High']-df['Low'])\n",
        "    df['H-PC']=abs(df['High']-df['Close'].shift(1))\n",
        "    df['L-PC']=abs(df['Low']-df['Close'].shift(1))\n",
        "    df['TR']=df[['H-L','H-PC','L-PC']].max(axis=1,skipna=False)\n",
        "    df['ATR'] = df['TR'].rolling(n).mean()\n",
        "    #df['ATR'] = df['TR'].ewm(span=n,adjust=False,min_periods=n).mean()\n",
        "    df2 = df.drop(['H-L','H-PC','L-PC'],axis=1)\n",
        "    return df2[ATRColumns]"
      ],
      "execution_count": null,
      "outputs": []
    },
    {
      "cell_type": "code",
      "metadata": {
        "id": "alg3wk9VsQDj"
      },
      "source": [
        "#ATR \n",
        "for symbol in allSymbols:\n",
        "    ScriptWiseData[symbol][ATRColumns] = ATR(data.loc[data.code==symbol])"
      ],
      "execution_count": null,
      "outputs": []
    },
    {
      "cell_type": "markdown",
      "metadata": {
        "id": "IptUjX_NsQDk"
      },
      "source": [
        "### Bollinger band"
      ]
    },
    {
      "cell_type": "code",
      "metadata": {
        "id": "_hYgVp8IsQDl"
      },
      "source": [
        "def BollBnd(DF,n=14):\n",
        "    \"function to calculate Bollinger Band\"\n",
        "    df = DF.copy()\n",
        "    df[\"MA\"] = df['Close'].rolling(n).mean()\n",
        "    df[\"BB_up\"] = df[\"MA\"] + 2*df['Close'].rolling(n).std(ddof=0) #ddof=0 is required since we want to take the standard deviation of the population and not sample\n",
        "    df[\"BB_dn\"] = df[\"MA\"] - 2*df['Close'].rolling(n).std(ddof=0) #ddof=0 is required since we want to take the standard deviation of the population and not sample\n",
        "    df[\"BB_width\"] = df[\"BB_up\"] - df[\"BB_dn\"]\n",
        "#     df.dropna(inplace=True)\n",
        "    return df[BollBandColumns]"
      ],
      "execution_count": null,
      "outputs": []
    },
    {
      "cell_type": "code",
      "metadata": {
        "id": "gN_LnFmjsQDm"
      },
      "source": [
        "#Boll band\n",
        "for symbol in allSymbols:\n",
        "    ScriptWiseData[symbol][BollBandColumns] = BollBnd(data.loc[data.code==symbol])"
      ],
      "execution_count": null,
      "outputs": []
    },
    {
      "cell_type": "markdown",
      "metadata": {
        "id": "ZUjrrGn1sQDn"
      },
      "source": [
        "### OBV"
      ]
    },
    {
      "cell_type": "code",
      "metadata": {
        "id": "EwEDHhj5sQDo"
      },
      "source": [
        "def OBV(DF):\n",
        "    \"\"\"function to calculate On Balance Volume\"\"\"\n",
        "    df = DF.copy()\n",
        "    df['daily_ret'] = df['Close'].pct_change()\n",
        "    df['direction'] = np.where(df['daily_ret']>=0,1,-1)\n",
        "    df['direction'][0] = 0\n",
        "    df['vol_adj'] = df['No. of Shares'] * df['direction']\n",
        "    df['obv'] = df['vol_adj'].cumsum()\n",
        "    return df['obv']"
      ],
      "execution_count": null,
      "outputs": []
    },
    {
      "cell_type": "code",
      "metadata": {
        "id": "UwKjZo76sQDo"
      },
      "source": [
        "#OBV\n",
        "for symbol in allSymbols:\n",
        "    ScriptWiseData[symbol]['OBV'] = OBV(data.loc[data.code==symbol])"
      ],
      "execution_count": null,
      "outputs": []
    },
    {
      "cell_type": "markdown",
      "metadata": {
        "id": "9Uo5tUeZsQDp"
      },
      "source": [
        "### ADX"
      ]
    },
    {
      "cell_type": "code",
      "metadata": {
        "id": "LWkDvc8qsQDq"
      },
      "source": [
        "from ta.trend import ADXIndicator\n",
        "def ADX(DF):\n",
        "    df = DF.copy()\n",
        "    adxI = ADXIndicator(df['High'],df['Low'],df['Close'],14,False)\n",
        "    df['pos_directional_indicator'] = adxI.adx_pos()\n",
        "    df['neg_directional_indicator'] = adxI.adx_neg()\n",
        "    df['adx'] = adxI.adx()\n",
        "    return df[ADXColumns]"
      ],
      "execution_count": null,
      "outputs": []
    },
    {
      "cell_type": "code",
      "metadata": {
        "id": "4VEZNHkqsQDq"
      },
      "source": [
        "# ADX\n",
        "for symbol in allSymbols:\n",
        "    ScriptWiseData[symbol][ADXColumns] = ADX(data.loc[data.code==symbol])"
      ],
      "execution_count": null,
      "outputs": []
    },
    {
      "cell_type": "code",
      "metadata": {
        "id": "ZUe5P24MySjW",
        "colab": {
          "base_uri": "https://localhost:8080/"
        },
        "outputId": "d81d11a2-bca0-4bd7-84ca-ab6437dac570"
      },
      "source": [
        "getNullValuesForSetOfStocks()"
      ],
      "execution_count": null,
      "outputs": [
        {
          "output_type": "execute_result",
          "data": {
            "text/html": [
              "<div>\n",
              "<style scoped>\n",
              "    .dataframe tbody tr th:only-of-type {\n",
              "        vertical-align: middle;\n",
              "    }\n",
              "\n",
              "    .dataframe tbody tr th {\n",
              "        vertical-align: top;\n",
              "    }\n",
              "\n",
              "    .dataframe thead th {\n",
              "        text-align: right;\n",
              "    }\n",
              "</style>\n",
              "<table border=\"1\" class=\"dataframe\">\n",
              "  <thead>\n",
              "    <tr style=\"text-align: right;\">\n",
              "      <th></th>\n",
              "      <th>SUN PHARMACEUTICAL INDUSTRIES LTD.</th>\n",
              "      <th>DIVI'S LABORATORIES LTD.</th>\n",
              "      <th>DR.REDDY'S LABORATORIES LTD.</th>\n",
              "      <th>HDFC Bank Ltd</th>\n",
              "      <th>ICICI BANK LTD.</th>\n",
              "      <th>KOTAK MAHINDRA BANK LTD.</th>\n",
              "      <th>TATA STEEL LTD.</th>\n",
              "      <th>JSW STEEL LTD.</th>\n",
              "      <th>HINDALCO INDUSTRIES LTD.</th>\n",
              "      <th>BAJAJ AUTO LTD.</th>\n",
              "      <th>TATA MOTORS LTD.</th>\n",
              "      <th>MARUTI SUZUKI INDIA LTD.</th>\n",
              "      <th>INFOSYS LTD.</th>\n",
              "      <th>TATA CONSULTANCY SERVICES LTD.</th>\n",
              "      <th>WIPRO LTD.</th>\n",
              "    </tr>\n",
              "  </thead>\n",
              "  <tbody>\n",
              "    <tr>\n",
              "      <th>Open</th>\n",
              "      <td>0</td>\n",
              "      <td>0</td>\n",
              "      <td>0</td>\n",
              "      <td>0</td>\n",
              "      <td>0</td>\n",
              "      <td>0</td>\n",
              "      <td>0</td>\n",
              "      <td>0</td>\n",
              "      <td>0</td>\n",
              "      <td>0</td>\n",
              "      <td>0</td>\n",
              "      <td>0</td>\n",
              "      <td>0</td>\n",
              "      <td>0</td>\n",
              "      <td>0</td>\n",
              "    </tr>\n",
              "    <tr>\n",
              "      <th>High</th>\n",
              "      <td>0</td>\n",
              "      <td>0</td>\n",
              "      <td>0</td>\n",
              "      <td>0</td>\n",
              "      <td>0</td>\n",
              "      <td>0</td>\n",
              "      <td>0</td>\n",
              "      <td>0</td>\n",
              "      <td>0</td>\n",
              "      <td>0</td>\n",
              "      <td>0</td>\n",
              "      <td>0</td>\n",
              "      <td>0</td>\n",
              "      <td>0</td>\n",
              "      <td>0</td>\n",
              "    </tr>\n",
              "    <tr>\n",
              "      <th>Low</th>\n",
              "      <td>0</td>\n",
              "      <td>0</td>\n",
              "      <td>0</td>\n",
              "      <td>0</td>\n",
              "      <td>0</td>\n",
              "      <td>0</td>\n",
              "      <td>0</td>\n",
              "      <td>0</td>\n",
              "      <td>0</td>\n",
              "      <td>0</td>\n",
              "      <td>0</td>\n",
              "      <td>0</td>\n",
              "      <td>0</td>\n",
              "      <td>0</td>\n",
              "      <td>0</td>\n",
              "    </tr>\n",
              "    <tr>\n",
              "      <th>Close</th>\n",
              "      <td>0</td>\n",
              "      <td>0</td>\n",
              "      <td>0</td>\n",
              "      <td>0</td>\n",
              "      <td>0</td>\n",
              "      <td>0</td>\n",
              "      <td>0</td>\n",
              "      <td>0</td>\n",
              "      <td>0</td>\n",
              "      <td>0</td>\n",
              "      <td>0</td>\n",
              "      <td>0</td>\n",
              "      <td>0</td>\n",
              "      <td>0</td>\n",
              "      <td>0</td>\n",
              "    </tr>\n",
              "    <tr>\n",
              "      <th>WAP</th>\n",
              "      <td>0</td>\n",
              "      <td>0</td>\n",
              "      <td>0</td>\n",
              "      <td>0</td>\n",
              "      <td>0</td>\n",
              "      <td>0</td>\n",
              "      <td>0</td>\n",
              "      <td>0</td>\n",
              "      <td>0</td>\n",
              "      <td>0</td>\n",
              "      <td>0</td>\n",
              "      <td>0</td>\n",
              "      <td>0</td>\n",
              "      <td>0</td>\n",
              "      <td>0</td>\n",
              "    </tr>\n",
              "    <tr>\n",
              "      <th>No. of Shares</th>\n",
              "      <td>0</td>\n",
              "      <td>0</td>\n",
              "      <td>0</td>\n",
              "      <td>0</td>\n",
              "      <td>0</td>\n",
              "      <td>0</td>\n",
              "      <td>0</td>\n",
              "      <td>0</td>\n",
              "      <td>0</td>\n",
              "      <td>0</td>\n",
              "      <td>0</td>\n",
              "      <td>0</td>\n",
              "      <td>0</td>\n",
              "      <td>0</td>\n",
              "      <td>0</td>\n",
              "    </tr>\n",
              "    <tr>\n",
              "      <th>No. of Trades</th>\n",
              "      <td>0</td>\n",
              "      <td>0</td>\n",
              "      <td>0</td>\n",
              "      <td>0</td>\n",
              "      <td>0</td>\n",
              "      <td>0</td>\n",
              "      <td>0</td>\n",
              "      <td>0</td>\n",
              "      <td>0</td>\n",
              "      <td>0</td>\n",
              "      <td>0</td>\n",
              "      <td>0</td>\n",
              "      <td>0</td>\n",
              "      <td>0</td>\n",
              "      <td>0</td>\n",
              "    </tr>\n",
              "    <tr>\n",
              "      <th>Total Turnover</th>\n",
              "      <td>0</td>\n",
              "      <td>0</td>\n",
              "      <td>0</td>\n",
              "      <td>0</td>\n",
              "      <td>0</td>\n",
              "      <td>0</td>\n",
              "      <td>0</td>\n",
              "      <td>0</td>\n",
              "      <td>0</td>\n",
              "      <td>0</td>\n",
              "      <td>0</td>\n",
              "      <td>0</td>\n",
              "      <td>0</td>\n",
              "      <td>0</td>\n",
              "      <td>0</td>\n",
              "    </tr>\n",
              "    <tr>\n",
              "      <th>Deliverable Quantity</th>\n",
              "      <td>548</td>\n",
              "      <td>57</td>\n",
              "      <td>538</td>\n",
              "      <td>538</td>\n",
              "      <td>544</td>\n",
              "      <td>537</td>\n",
              "      <td>545</td>\n",
              "      <td>580</td>\n",
              "      <td>555</td>\n",
              "      <td>1</td>\n",
              "      <td>542</td>\n",
              "      <td>81</td>\n",
              "      <td>539</td>\n",
              "      <td>2</td>\n",
              "      <td>538</td>\n",
              "    </tr>\n",
              "    <tr>\n",
              "      <th>% Deli. Qty to Traded Qty</th>\n",
              "      <td>548</td>\n",
              "      <td>57</td>\n",
              "      <td>538</td>\n",
              "      <td>538</td>\n",
              "      <td>544</td>\n",
              "      <td>537</td>\n",
              "      <td>545</td>\n",
              "      <td>580</td>\n",
              "      <td>555</td>\n",
              "      <td>1</td>\n",
              "      <td>542</td>\n",
              "      <td>81</td>\n",
              "      <td>539</td>\n",
              "      <td>2</td>\n",
              "      <td>538</td>\n",
              "    </tr>\n",
              "    <tr>\n",
              "      <th>Spread H-L</th>\n",
              "      <td>0</td>\n",
              "      <td>0</td>\n",
              "      <td>0</td>\n",
              "      <td>0</td>\n",
              "      <td>0</td>\n",
              "      <td>0</td>\n",
              "      <td>0</td>\n",
              "      <td>0</td>\n",
              "      <td>0</td>\n",
              "      <td>0</td>\n",
              "      <td>0</td>\n",
              "      <td>0</td>\n",
              "      <td>0</td>\n",
              "      <td>0</td>\n",
              "      <td>0</td>\n",
              "    </tr>\n",
              "    <tr>\n",
              "      <th>Spread C-O</th>\n",
              "      <td>0</td>\n",
              "      <td>0</td>\n",
              "      <td>0</td>\n",
              "      <td>0</td>\n",
              "      <td>0</td>\n",
              "      <td>0</td>\n",
              "      <td>0</td>\n",
              "      <td>0</td>\n",
              "      <td>0</td>\n",
              "      <td>0</td>\n",
              "      <td>0</td>\n",
              "      <td>0</td>\n",
              "      <td>0</td>\n",
              "      <td>0</td>\n",
              "      <td>0</td>\n",
              "    </tr>\n",
              "    <tr>\n",
              "      <th>StockName</th>\n",
              "      <td>0</td>\n",
              "      <td>0</td>\n",
              "      <td>0</td>\n",
              "      <td>0</td>\n",
              "      <td>0</td>\n",
              "      <td>0</td>\n",
              "      <td>0</td>\n",
              "      <td>0</td>\n",
              "      <td>0</td>\n",
              "      <td>0</td>\n",
              "      <td>0</td>\n",
              "      <td>0</td>\n",
              "      <td>0</td>\n",
              "      <td>0</td>\n",
              "      <td>0</td>\n",
              "    </tr>\n",
              "    <tr>\n",
              "      <th>code</th>\n",
              "      <td>0</td>\n",
              "      <td>0</td>\n",
              "      <td>0</td>\n",
              "      <td>0</td>\n",
              "      <td>0</td>\n",
              "      <td>0</td>\n",
              "      <td>0</td>\n",
              "      <td>0</td>\n",
              "      <td>0</td>\n",
              "      <td>0</td>\n",
              "      <td>0</td>\n",
              "      <td>0</td>\n",
              "      <td>0</td>\n",
              "      <td>0</td>\n",
              "      <td>0</td>\n",
              "    </tr>\n",
              "    <tr>\n",
              "      <th>isStock</th>\n",
              "      <td>0</td>\n",
              "      <td>0</td>\n",
              "      <td>0</td>\n",
              "      <td>0</td>\n",
              "      <td>0</td>\n",
              "      <td>0</td>\n",
              "      <td>0</td>\n",
              "      <td>0</td>\n",
              "      <td>0</td>\n",
              "      <td>0</td>\n",
              "      <td>0</td>\n",
              "      <td>0</td>\n",
              "      <td>0</td>\n",
              "      <td>0</td>\n",
              "      <td>0</td>\n",
              "    </tr>\n",
              "    <tr>\n",
              "      <th>Index</th>\n",
              "      <td>0</td>\n",
              "      <td>0</td>\n",
              "      <td>0</td>\n",
              "      <td>0</td>\n",
              "      <td>0</td>\n",
              "      <td>0</td>\n",
              "      <td>0</td>\n",
              "      <td>0</td>\n",
              "      <td>0</td>\n",
              "      <td>0</td>\n",
              "      <td>0</td>\n",
              "      <td>0</td>\n",
              "      <td>0</td>\n",
              "      <td>0</td>\n",
              "      <td>0</td>\n",
              "    </tr>\n",
              "    <tr>\n",
              "      <th>FastAverage</th>\n",
              "      <td>11</td>\n",
              "      <td>11</td>\n",
              "      <td>11</td>\n",
              "      <td>11</td>\n",
              "      <td>11</td>\n",
              "      <td>11</td>\n",
              "      <td>11</td>\n",
              "      <td>11</td>\n",
              "      <td>11</td>\n",
              "      <td>11</td>\n",
              "      <td>11</td>\n",
              "      <td>11</td>\n",
              "      <td>11</td>\n",
              "      <td>11</td>\n",
              "      <td>11</td>\n",
              "    </tr>\n",
              "    <tr>\n",
              "      <th>SlowAverage</th>\n",
              "      <td>25</td>\n",
              "      <td>25</td>\n",
              "      <td>25</td>\n",
              "      <td>25</td>\n",
              "      <td>25</td>\n",
              "      <td>25</td>\n",
              "      <td>25</td>\n",
              "      <td>25</td>\n",
              "      <td>25</td>\n",
              "      <td>25</td>\n",
              "      <td>25</td>\n",
              "      <td>25</td>\n",
              "      <td>25</td>\n",
              "      <td>25</td>\n",
              "      <td>25</td>\n",
              "    </tr>\n",
              "    <tr>\n",
              "      <th>MACD</th>\n",
              "      <td>25</td>\n",
              "      <td>25</td>\n",
              "      <td>25</td>\n",
              "      <td>25</td>\n",
              "      <td>25</td>\n",
              "      <td>25</td>\n",
              "      <td>25</td>\n",
              "      <td>25</td>\n",
              "      <td>25</td>\n",
              "      <td>25</td>\n",
              "      <td>25</td>\n",
              "      <td>25</td>\n",
              "      <td>25</td>\n",
              "      <td>25</td>\n",
              "      <td>25</td>\n",
              "    </tr>\n",
              "    <tr>\n",
              "      <th>Signal</th>\n",
              "      <td>33</td>\n",
              "      <td>33</td>\n",
              "      <td>33</td>\n",
              "      <td>33</td>\n",
              "      <td>33</td>\n",
              "      <td>33</td>\n",
              "      <td>33</td>\n",
              "      <td>33</td>\n",
              "      <td>33</td>\n",
              "      <td>33</td>\n",
              "      <td>33</td>\n",
              "      <td>33</td>\n",
              "      <td>33</td>\n",
              "      <td>33</td>\n",
              "      <td>33</td>\n",
              "    </tr>\n",
              "    <tr>\n",
              "      <th>RSI</th>\n",
              "      <td>27</td>\n",
              "      <td>27</td>\n",
              "      <td>27</td>\n",
              "      <td>27</td>\n",
              "      <td>27</td>\n",
              "      <td>27</td>\n",
              "      <td>27</td>\n",
              "      <td>27</td>\n",
              "      <td>27</td>\n",
              "      <td>27</td>\n",
              "      <td>27</td>\n",
              "      <td>27</td>\n",
              "      <td>27</td>\n",
              "      <td>27</td>\n",
              "      <td>27</td>\n",
              "    </tr>\n",
              "    <tr>\n",
              "      <th>TR</th>\n",
              "      <td>1</td>\n",
              "      <td>1</td>\n",
              "      <td>1</td>\n",
              "      <td>1</td>\n",
              "      <td>1</td>\n",
              "      <td>1</td>\n",
              "      <td>1</td>\n",
              "      <td>1</td>\n",
              "      <td>1</td>\n",
              "      <td>1</td>\n",
              "      <td>1</td>\n",
              "      <td>1</td>\n",
              "      <td>1</td>\n",
              "      <td>1</td>\n",
              "      <td>1</td>\n",
              "    </tr>\n",
              "    <tr>\n",
              "      <th>ATR</th>\n",
              "      <td>20</td>\n",
              "      <td>20</td>\n",
              "      <td>20</td>\n",
              "      <td>20</td>\n",
              "      <td>20</td>\n",
              "      <td>20</td>\n",
              "      <td>20</td>\n",
              "      <td>20</td>\n",
              "      <td>20</td>\n",
              "      <td>20</td>\n",
              "      <td>20</td>\n",
              "      <td>20</td>\n",
              "      <td>20</td>\n",
              "      <td>20</td>\n",
              "      <td>20</td>\n",
              "    </tr>\n",
              "    <tr>\n",
              "      <th>BB_up</th>\n",
              "      <td>13</td>\n",
              "      <td>13</td>\n",
              "      <td>13</td>\n",
              "      <td>13</td>\n",
              "      <td>13</td>\n",
              "      <td>13</td>\n",
              "      <td>13</td>\n",
              "      <td>13</td>\n",
              "      <td>13</td>\n",
              "      <td>13</td>\n",
              "      <td>13</td>\n",
              "      <td>13</td>\n",
              "      <td>13</td>\n",
              "      <td>13</td>\n",
              "      <td>13</td>\n",
              "    </tr>\n",
              "    <tr>\n",
              "      <th>BB_dn</th>\n",
              "      <td>13</td>\n",
              "      <td>13</td>\n",
              "      <td>13</td>\n",
              "      <td>13</td>\n",
              "      <td>13</td>\n",
              "      <td>13</td>\n",
              "      <td>13</td>\n",
              "      <td>13</td>\n",
              "      <td>13</td>\n",
              "      <td>13</td>\n",
              "      <td>13</td>\n",
              "      <td>13</td>\n",
              "      <td>13</td>\n",
              "      <td>13</td>\n",
              "      <td>13</td>\n",
              "    </tr>\n",
              "    <tr>\n",
              "      <th>MA</th>\n",
              "      <td>13</td>\n",
              "      <td>13</td>\n",
              "      <td>13</td>\n",
              "      <td>13</td>\n",
              "      <td>13</td>\n",
              "      <td>13</td>\n",
              "      <td>13</td>\n",
              "      <td>13</td>\n",
              "      <td>13</td>\n",
              "      <td>13</td>\n",
              "      <td>13</td>\n",
              "      <td>13</td>\n",
              "      <td>13</td>\n",
              "      <td>13</td>\n",
              "      <td>13</td>\n",
              "    </tr>\n",
              "    <tr>\n",
              "      <th>BB_width</th>\n",
              "      <td>13</td>\n",
              "      <td>13</td>\n",
              "      <td>13</td>\n",
              "      <td>13</td>\n",
              "      <td>13</td>\n",
              "      <td>13</td>\n",
              "      <td>13</td>\n",
              "      <td>13</td>\n",
              "      <td>13</td>\n",
              "      <td>13</td>\n",
              "      <td>13</td>\n",
              "      <td>13</td>\n",
              "      <td>13</td>\n",
              "      <td>13</td>\n",
              "      <td>13</td>\n",
              "    </tr>\n",
              "    <tr>\n",
              "      <th>OBV</th>\n",
              "      <td>0</td>\n",
              "      <td>0</td>\n",
              "      <td>0</td>\n",
              "      <td>0</td>\n",
              "      <td>0</td>\n",
              "      <td>0</td>\n",
              "      <td>0</td>\n",
              "      <td>0</td>\n",
              "      <td>0</td>\n",
              "      <td>0</td>\n",
              "      <td>0</td>\n",
              "      <td>0</td>\n",
              "      <td>0</td>\n",
              "      <td>0</td>\n",
              "      <td>0</td>\n",
              "    </tr>\n",
              "    <tr>\n",
              "      <th>pos_directional_indicator</th>\n",
              "      <td>0</td>\n",
              "      <td>0</td>\n",
              "      <td>0</td>\n",
              "      <td>0</td>\n",
              "      <td>0</td>\n",
              "      <td>0</td>\n",
              "      <td>0</td>\n",
              "      <td>0</td>\n",
              "      <td>0</td>\n",
              "      <td>0</td>\n",
              "      <td>0</td>\n",
              "      <td>0</td>\n",
              "      <td>0</td>\n",
              "      <td>0</td>\n",
              "      <td>0</td>\n",
              "    </tr>\n",
              "    <tr>\n",
              "      <th>neg_directional_indicator</th>\n",
              "      <td>0</td>\n",
              "      <td>0</td>\n",
              "      <td>0</td>\n",
              "      <td>0</td>\n",
              "      <td>0</td>\n",
              "      <td>0</td>\n",
              "      <td>0</td>\n",
              "      <td>0</td>\n",
              "      <td>0</td>\n",
              "      <td>0</td>\n",
              "      <td>0</td>\n",
              "      <td>0</td>\n",
              "      <td>0</td>\n",
              "      <td>0</td>\n",
              "      <td>0</td>\n",
              "    </tr>\n",
              "    <tr>\n",
              "      <th>adx</th>\n",
              "      <td>0</td>\n",
              "      <td>0</td>\n",
              "      <td>0</td>\n",
              "      <td>0</td>\n",
              "      <td>0</td>\n",
              "      <td>0</td>\n",
              "      <td>0</td>\n",
              "      <td>0</td>\n",
              "      <td>0</td>\n",
              "      <td>0</td>\n",
              "      <td>0</td>\n",
              "      <td>0</td>\n",
              "      <td>0</td>\n",
              "      <td>0</td>\n",
              "      <td>0</td>\n",
              "    </tr>\n",
              "  </tbody>\n",
              "</table>\n",
              "</div>"
            ],
            "text/plain": [
              "                           SUN PHARMACEUTICAL INDUSTRIES LTD.   \\\n",
              "Open                                                         0   \n",
              "High                                                         0   \n",
              "Low                                                          0   \n",
              "Close                                                        0   \n",
              "WAP                                                          0   \n",
              "No. of Shares                                                0   \n",
              "No. of Trades                                                0   \n",
              "Total Turnover                                               0   \n",
              "Deliverable Quantity                                       548   \n",
              "% Deli. Qty to Traded Qty                                  548   \n",
              "Spread H-L                                                   0   \n",
              "Spread C-O                                                   0   \n",
              "StockName                                                    0   \n",
              "code                                                         0   \n",
              "isStock                                                      0   \n",
              "Index                                                        0   \n",
              "FastAverage                                                 11   \n",
              "SlowAverage                                                 25   \n",
              "MACD                                                        25   \n",
              "Signal                                                      33   \n",
              "RSI                                                         27   \n",
              "TR                                                           1   \n",
              "ATR                                                         20   \n",
              "BB_up                                                       13   \n",
              "BB_dn                                                       13   \n",
              "MA                                                          13   \n",
              "BB_width                                                    13   \n",
              "OBV                                                          0   \n",
              "pos_directional_indicator                                    0   \n",
              "neg_directional_indicator                                    0   \n",
              "adx                                                          0   \n",
              "\n",
              "                           DIVI'S LABORATORIES LTD.   \\\n",
              "Open                                               0   \n",
              "High                                               0   \n",
              "Low                                                0   \n",
              "Close                                              0   \n",
              "WAP                                                0   \n",
              "No. of Shares                                      0   \n",
              "No. of Trades                                      0   \n",
              "Total Turnover                                     0   \n",
              "Deliverable Quantity                              57   \n",
              "% Deli. Qty to Traded Qty                         57   \n",
              "Spread H-L                                         0   \n",
              "Spread C-O                                         0   \n",
              "StockName                                          0   \n",
              "code                                               0   \n",
              "isStock                                            0   \n",
              "Index                                              0   \n",
              "FastAverage                                       11   \n",
              "SlowAverage                                       25   \n",
              "MACD                                              25   \n",
              "Signal                                            33   \n",
              "RSI                                               27   \n",
              "TR                                                 1   \n",
              "ATR                                               20   \n",
              "BB_up                                             13   \n",
              "BB_dn                                             13   \n",
              "MA                                                13   \n",
              "BB_width                                          13   \n",
              "OBV                                                0   \n",
              "pos_directional_indicator                          0   \n",
              "neg_directional_indicator                          0   \n",
              "adx                                                0   \n",
              "\n",
              "                           DR.REDDY'S LABORATORIES LTD.   HDFC Bank Ltd   \\\n",
              "Open                                                   0               0   \n",
              "High                                                   0               0   \n",
              "Low                                                    0               0   \n",
              "Close                                                  0               0   \n",
              "WAP                                                    0               0   \n",
              "No. of Shares                                          0               0   \n",
              "No. of Trades                                          0               0   \n",
              "Total Turnover                                         0               0   \n",
              "Deliverable Quantity                                 538             538   \n",
              "% Deli. Qty to Traded Qty                            538             538   \n",
              "Spread H-L                                             0               0   \n",
              "Spread C-O                                             0               0   \n",
              "StockName                                              0               0   \n",
              "code                                                   0               0   \n",
              "isStock                                                0               0   \n",
              "Index                                                  0               0   \n",
              "FastAverage                                           11              11   \n",
              "SlowAverage                                           25              25   \n",
              "MACD                                                  25              25   \n",
              "Signal                                                33              33   \n",
              "RSI                                                   27              27   \n",
              "TR                                                     1               1   \n",
              "ATR                                                   20              20   \n",
              "BB_up                                                 13              13   \n",
              "BB_dn                                                 13              13   \n",
              "MA                                                    13              13   \n",
              "BB_width                                              13              13   \n",
              "OBV                                                    0               0   \n",
              "pos_directional_indicator                              0               0   \n",
              "neg_directional_indicator                              0               0   \n",
              "adx                                                    0               0   \n",
              "\n",
              "                           ICICI BANK LTD.   KOTAK MAHINDRA BANK LTD.   \\\n",
              "Open                                      0                          0   \n",
              "High                                      0                          0   \n",
              "Low                                       0                          0   \n",
              "Close                                     0                          0   \n",
              "WAP                                       0                          0   \n",
              "No. of Shares                             0                          0   \n",
              "No. of Trades                             0                          0   \n",
              "Total Turnover                            0                          0   \n",
              "Deliverable Quantity                    544                        537   \n",
              "% Deli. Qty to Traded Qty               544                        537   \n",
              "Spread H-L                                0                          0   \n",
              "Spread C-O                                0                          0   \n",
              "StockName                                 0                          0   \n",
              "code                                      0                          0   \n",
              "isStock                                   0                          0   \n",
              "Index                                     0                          0   \n",
              "FastAverage                              11                         11   \n",
              "SlowAverage                              25                         25   \n",
              "MACD                                     25                         25   \n",
              "Signal                                   33                         33   \n",
              "RSI                                      27                         27   \n",
              "TR                                        1                          1   \n",
              "ATR                                      20                         20   \n",
              "BB_up                                    13                         13   \n",
              "BB_dn                                    13                         13   \n",
              "MA                                       13                         13   \n",
              "BB_width                                 13                         13   \n",
              "OBV                                       0                          0   \n",
              "pos_directional_indicator                 0                          0   \n",
              "neg_directional_indicator                 0                          0   \n",
              "adx                                       0                          0   \n",
              "\n",
              "                           TATA STEEL LTD.   JSW STEEL LTD.   \\\n",
              "Open                                      0                0   \n",
              "High                                      0                0   \n",
              "Low                                       0                0   \n",
              "Close                                     0                0   \n",
              "WAP                                       0                0   \n",
              "No. of Shares                             0                0   \n",
              "No. of Trades                             0                0   \n",
              "Total Turnover                            0                0   \n",
              "Deliverable Quantity                    545              580   \n",
              "% Deli. Qty to Traded Qty               545              580   \n",
              "Spread H-L                                0                0   \n",
              "Spread C-O                                0                0   \n",
              "StockName                                 0                0   \n",
              "code                                      0                0   \n",
              "isStock                                   0                0   \n",
              "Index                                     0                0   \n",
              "FastAverage                              11               11   \n",
              "SlowAverage                              25               25   \n",
              "MACD                                     25               25   \n",
              "Signal                                   33               33   \n",
              "RSI                                      27               27   \n",
              "TR                                        1                1   \n",
              "ATR                                      20               20   \n",
              "BB_up                                    13               13   \n",
              "BB_dn                                    13               13   \n",
              "MA                                       13               13   \n",
              "BB_width                                 13               13   \n",
              "OBV                                       0                0   \n",
              "pos_directional_indicator                 0                0   \n",
              "neg_directional_indicator                 0                0   \n",
              "adx                                       0                0   \n",
              "\n",
              "                           HINDALCO INDUSTRIES LTD.   BAJAJ AUTO LTD.   \\\n",
              "Open                                               0                 0   \n",
              "High                                               0                 0   \n",
              "Low                                                0                 0   \n",
              "Close                                              0                 0   \n",
              "WAP                                                0                 0   \n",
              "No. of Shares                                      0                 0   \n",
              "No. of Trades                                      0                 0   \n",
              "Total Turnover                                     0                 0   \n",
              "Deliverable Quantity                             555                 1   \n",
              "% Deli. Qty to Traded Qty                        555                 1   \n",
              "Spread H-L                                         0                 0   \n",
              "Spread C-O                                         0                 0   \n",
              "StockName                                          0                 0   \n",
              "code                                               0                 0   \n",
              "isStock                                            0                 0   \n",
              "Index                                              0                 0   \n",
              "FastAverage                                       11                11   \n",
              "SlowAverage                                       25                25   \n",
              "MACD                                              25                25   \n",
              "Signal                                            33                33   \n",
              "RSI                                               27                27   \n",
              "TR                                                 1                 1   \n",
              "ATR                                               20                20   \n",
              "BB_up                                             13                13   \n",
              "BB_dn                                             13                13   \n",
              "MA                                                13                13   \n",
              "BB_width                                          13                13   \n",
              "OBV                                                0                 0   \n",
              "pos_directional_indicator                          0                 0   \n",
              "neg_directional_indicator                          0                 0   \n",
              "adx                                                0                 0   \n",
              "\n",
              "                           TATA MOTORS LTD.   MARUTI SUZUKI INDIA LTD.   \\\n",
              "Open                                       0                          0   \n",
              "High                                       0                          0   \n",
              "Low                                        0                          0   \n",
              "Close                                      0                          0   \n",
              "WAP                                        0                          0   \n",
              "No. of Shares                              0                          0   \n",
              "No. of Trades                              0                          0   \n",
              "Total Turnover                             0                          0   \n",
              "Deliverable Quantity                     542                         81   \n",
              "% Deli. Qty to Traded Qty                542                         81   \n",
              "Spread H-L                                 0                          0   \n",
              "Spread C-O                                 0                          0   \n",
              "StockName                                  0                          0   \n",
              "code                                       0                          0   \n",
              "isStock                                    0                          0   \n",
              "Index                                      0                          0   \n",
              "FastAverage                               11                         11   \n",
              "SlowAverage                               25                         25   \n",
              "MACD                                      25                         25   \n",
              "Signal                                    33                         33   \n",
              "RSI                                       27                         27   \n",
              "TR                                         1                          1   \n",
              "ATR                                       20                         20   \n",
              "BB_up                                     13                         13   \n",
              "BB_dn                                     13                         13   \n",
              "MA                                        13                         13   \n",
              "BB_width                                  13                         13   \n",
              "OBV                                        0                          0   \n",
              "pos_directional_indicator                  0                          0   \n",
              "neg_directional_indicator                  0                          0   \n",
              "adx                                        0                          0   \n",
              "\n",
              "                           INFOSYS LTD.   TATA CONSULTANCY SERVICES LTD.   \\\n",
              "Open                                   0                                0   \n",
              "High                                   0                                0   \n",
              "Low                                    0                                0   \n",
              "Close                                  0                                0   \n",
              "WAP                                    0                                0   \n",
              "No. of Shares                          0                                0   \n",
              "No. of Trades                          0                                0   \n",
              "Total Turnover                         0                                0   \n",
              "Deliverable Quantity                 539                                2   \n",
              "% Deli. Qty to Traded Qty            539                                2   \n",
              "Spread H-L                             0                                0   \n",
              "Spread C-O                             0                                0   \n",
              "StockName                              0                                0   \n",
              "code                                   0                                0   \n",
              "isStock                                0                                0   \n",
              "Index                                  0                                0   \n",
              "FastAverage                           11                               11   \n",
              "SlowAverage                           25                               25   \n",
              "MACD                                  25                               25   \n",
              "Signal                                33                               33   \n",
              "RSI                                   27                               27   \n",
              "TR                                     1                                1   \n",
              "ATR                                   20                               20   \n",
              "BB_up                                 13                               13   \n",
              "BB_dn                                 13                               13   \n",
              "MA                                    13                               13   \n",
              "BB_width                              13                               13   \n",
              "OBV                                    0                                0   \n",
              "pos_directional_indicator              0                                0   \n",
              "neg_directional_indicator              0                                0   \n",
              "adx                                    0                                0   \n",
              "\n",
              "                           WIPRO LTD.   \n",
              "Open                                 0  \n",
              "High                                 0  \n",
              "Low                                  0  \n",
              "Close                                0  \n",
              "WAP                                  0  \n",
              "No. of Shares                        0  \n",
              "No. of Trades                        0  \n",
              "Total Turnover                       0  \n",
              "Deliverable Quantity               538  \n",
              "% Deli. Qty to Traded Qty          538  \n",
              "Spread H-L                           0  \n",
              "Spread C-O                           0  \n",
              "StockName                            0  \n",
              "code                                 0  \n",
              "isStock                              0  \n",
              "Index                                0  \n",
              "FastAverage                         11  \n",
              "SlowAverage                         25  \n",
              "MACD                                25  \n",
              "Signal                              33  \n",
              "RSI                                 27  \n",
              "TR                                   1  \n",
              "ATR                                 20  \n",
              "BB_up                               13  \n",
              "BB_dn                               13  \n",
              "MA                                  13  \n",
              "BB_width                            13  \n",
              "OBV                                  0  \n",
              "pos_directional_indicator            0  \n",
              "neg_directional_indicator            0  \n",
              "adx                                  0  "
            ]
          },
          "metadata": {
            "tags": []
          },
          "execution_count": 81
        }
      ]
    },
    {
      "cell_type": "markdown",
      "metadata": {
        "id": "ngJ2AiInsQDr"
      },
      "source": [
        "# Removing Extra Columms"
      ]
    },
    {
      "cell_type": "code",
      "metadata": {
        "id": "uZPSKO_esQDs"
      },
      "source": [
        "OriginalScriptWiseData = ScriptWiseData\n",
        "for symbol in allSymbols:\n",
        "    ScriptWiseData[symbol] = ScriptWiseData[symbol][['Close']+TechnicalIndicators]"
      ],
      "execution_count": null,
      "outputs": []
    },
    {
      "cell_type": "code",
      "metadata": {
        "id": "oyHF-5guySjX"
      },
      "source": [
        ""
      ],
      "execution_count": null,
      "outputs": []
    },
    {
      "cell_type": "markdown",
      "metadata": {
        "id": "QHqbBLRXsQDt"
      },
      "source": [
        "## Dropping null values"
      ]
    },
    {
      "cell_type": "code",
      "metadata": {
        "id": "h4fJKoGisQDt"
      },
      "source": [
        "# drop rows from the stock whose technical indicator values are null. \n",
        "for stock in stocks:\n",
        "#     ScriptWiseData[stock] = ScriptWiseData[stock].dropna(subset=AllIndicatorColumns)\n",
        "    ScriptWiseData[stock] = ScriptWiseData[stock].dropna()    "
      ],
      "execution_count": null,
      "outputs": []
    },
    {
      "cell_type": "code",
      "metadata": {
        "id": "CB0M7yErsQDu",
        "colab": {
          "base_uri": "https://localhost:8080/"
        },
        "outputId": "cf3c3155-9688-477a-de79-b115d4a27a46"
      },
      "source": [
        "# ScriptWiseData['BOM500180'][ScriptWiseData['BOM500180']['MACD'].isna()]\n",
        "getNullValuesForSetOfStocks()"
      ],
      "execution_count": null,
      "outputs": [
        {
          "output_type": "execute_result",
          "data": {
            "text/html": [
              "<div>\n",
              "<style scoped>\n",
              "    .dataframe tbody tr th:only-of-type {\n",
              "        vertical-align: middle;\n",
              "    }\n",
              "\n",
              "    .dataframe tbody tr th {\n",
              "        vertical-align: top;\n",
              "    }\n",
              "\n",
              "    .dataframe thead th {\n",
              "        text-align: right;\n",
              "    }\n",
              "</style>\n",
              "<table border=\"1\" class=\"dataframe\">\n",
              "  <thead>\n",
              "    <tr style=\"text-align: right;\">\n",
              "      <th></th>\n",
              "      <th>SUN PHARMACEUTICAL INDUSTRIES LTD.</th>\n",
              "      <th>DIVI'S LABORATORIES LTD.</th>\n",
              "      <th>DR.REDDY'S LABORATORIES LTD.</th>\n",
              "      <th>HDFC Bank Ltd</th>\n",
              "      <th>ICICI BANK LTD.</th>\n",
              "      <th>KOTAK MAHINDRA BANK LTD.</th>\n",
              "      <th>TATA STEEL LTD.</th>\n",
              "      <th>JSW STEEL LTD.</th>\n",
              "      <th>HINDALCO INDUSTRIES LTD.</th>\n",
              "      <th>BAJAJ AUTO LTD.</th>\n",
              "      <th>TATA MOTORS LTD.</th>\n",
              "      <th>MARUTI SUZUKI INDIA LTD.</th>\n",
              "      <th>INFOSYS LTD.</th>\n",
              "      <th>TATA CONSULTANCY SERVICES LTD.</th>\n",
              "      <th>WIPRO LTD.</th>\n",
              "    </tr>\n",
              "  </thead>\n",
              "  <tbody>\n",
              "    <tr>\n",
              "      <th>Close</th>\n",
              "      <td>0</td>\n",
              "      <td>0</td>\n",
              "      <td>0</td>\n",
              "      <td>0</td>\n",
              "      <td>0</td>\n",
              "      <td>0</td>\n",
              "      <td>0</td>\n",
              "      <td>0</td>\n",
              "      <td>0</td>\n",
              "      <td>0</td>\n",
              "      <td>0</td>\n",
              "      <td>0</td>\n",
              "      <td>0</td>\n",
              "      <td>0</td>\n",
              "      <td>0</td>\n",
              "    </tr>\n",
              "    <tr>\n",
              "      <th>RSI</th>\n",
              "      <td>0</td>\n",
              "      <td>0</td>\n",
              "      <td>0</td>\n",
              "      <td>0</td>\n",
              "      <td>0</td>\n",
              "      <td>0</td>\n",
              "      <td>0</td>\n",
              "      <td>0</td>\n",
              "      <td>0</td>\n",
              "      <td>0</td>\n",
              "      <td>0</td>\n",
              "      <td>0</td>\n",
              "      <td>0</td>\n",
              "      <td>0</td>\n",
              "      <td>0</td>\n",
              "    </tr>\n",
              "    <tr>\n",
              "      <th>ATR</th>\n",
              "      <td>0</td>\n",
              "      <td>0</td>\n",
              "      <td>0</td>\n",
              "      <td>0</td>\n",
              "      <td>0</td>\n",
              "      <td>0</td>\n",
              "      <td>0</td>\n",
              "      <td>0</td>\n",
              "      <td>0</td>\n",
              "      <td>0</td>\n",
              "      <td>0</td>\n",
              "      <td>0</td>\n",
              "      <td>0</td>\n",
              "      <td>0</td>\n",
              "      <td>0</td>\n",
              "    </tr>\n",
              "    <tr>\n",
              "      <th>MACD</th>\n",
              "      <td>0</td>\n",
              "      <td>0</td>\n",
              "      <td>0</td>\n",
              "      <td>0</td>\n",
              "      <td>0</td>\n",
              "      <td>0</td>\n",
              "      <td>0</td>\n",
              "      <td>0</td>\n",
              "      <td>0</td>\n",
              "      <td>0</td>\n",
              "      <td>0</td>\n",
              "      <td>0</td>\n",
              "      <td>0</td>\n",
              "      <td>0</td>\n",
              "      <td>0</td>\n",
              "    </tr>\n",
              "    <tr>\n",
              "      <th>adx</th>\n",
              "      <td>0</td>\n",
              "      <td>0</td>\n",
              "      <td>0</td>\n",
              "      <td>0</td>\n",
              "      <td>0</td>\n",
              "      <td>0</td>\n",
              "      <td>0</td>\n",
              "      <td>0</td>\n",
              "      <td>0</td>\n",
              "      <td>0</td>\n",
              "      <td>0</td>\n",
              "      <td>0</td>\n",
              "      <td>0</td>\n",
              "      <td>0</td>\n",
              "      <td>0</td>\n",
              "    </tr>\n",
              "    <tr>\n",
              "      <th>OBV</th>\n",
              "      <td>0</td>\n",
              "      <td>0</td>\n",
              "      <td>0</td>\n",
              "      <td>0</td>\n",
              "      <td>0</td>\n",
              "      <td>0</td>\n",
              "      <td>0</td>\n",
              "      <td>0</td>\n",
              "      <td>0</td>\n",
              "      <td>0</td>\n",
              "      <td>0</td>\n",
              "      <td>0</td>\n",
              "      <td>0</td>\n",
              "      <td>0</td>\n",
              "      <td>0</td>\n",
              "    </tr>\n",
              "  </tbody>\n",
              "</table>\n",
              "</div>"
            ],
            "text/plain": [
              "       SUN PHARMACEUTICAL INDUSTRIES LTD.   DIVI'S LABORATORIES LTD.   \\\n",
              "Close                                    0                          0   \n",
              "RSI                                      0                          0   \n",
              "ATR                                      0                          0   \n",
              "MACD                                     0                          0   \n",
              "adx                                      0                          0   \n",
              "OBV                                      0                          0   \n",
              "\n",
              "       DR.REDDY'S LABORATORIES LTD.   HDFC Bank Ltd   ICICI BANK LTD.   \\\n",
              "Close                              0               0                 0   \n",
              "RSI                                0               0                 0   \n",
              "ATR                                0               0                 0   \n",
              "MACD                               0               0                 0   \n",
              "adx                                0               0                 0   \n",
              "OBV                                0               0                 0   \n",
              "\n",
              "       KOTAK MAHINDRA BANK LTD.   TATA STEEL LTD.   JSW STEEL LTD.   \\\n",
              "Close                          0                 0                0   \n",
              "RSI                            0                 0                0   \n",
              "ATR                            0                 0                0   \n",
              "MACD                           0                 0                0   \n",
              "adx                            0                 0                0   \n",
              "OBV                            0                 0                0   \n",
              "\n",
              "       HINDALCO INDUSTRIES LTD.   BAJAJ AUTO LTD.   TATA MOTORS LTD.   \\\n",
              "Close                          0                 0                  0   \n",
              "RSI                            0                 0                  0   \n",
              "ATR                            0                 0                  0   \n",
              "MACD                           0                 0                  0   \n",
              "adx                            0                 0                  0   \n",
              "OBV                            0                 0                  0   \n",
              "\n",
              "       MARUTI SUZUKI INDIA LTD.   INFOSYS LTD.   \\\n",
              "Close                          0              0   \n",
              "RSI                            0              0   \n",
              "ATR                            0              0   \n",
              "MACD                           0              0   \n",
              "adx                            0              0   \n",
              "OBV                            0              0   \n",
              "\n",
              "       TATA CONSULTANCY SERVICES LTD.   WIPRO LTD.   \n",
              "Close                                0            0  \n",
              "RSI                                  0            0  \n",
              "ATR                                  0            0  \n",
              "MACD                                 0            0  \n",
              "adx                                  0            0  \n",
              "OBV                                  0            0  "
            ]
          },
          "metadata": {
            "tags": []
          },
          "execution_count": 84
        }
      ]
    },
    {
      "cell_type": "code",
      "metadata": {
        "id": "9iCNUYCTySjY",
        "colab": {
          "base_uri": "https://localhost:8080/"
        },
        "outputId": "6458880d-575c-49c6-c9f3-0bd7843a1686"
      },
      "source": [
        "finalDateRanges =pd.DataFrame(columns = ['Stock Code', 'Stock Name', 'First Date', 'Last Date']) \n",
        "for s in stocks:\n",
        "    r = [s, getStockNameFromStockCode(s), ScriptWiseData[s].index.min(),  ScriptWiseData[s].index.max()]\n",
        "    finalDateRanges.loc[len(finalDateRanges)] = r\n",
        "finalDateRanges"
      ],
      "execution_count": null,
      "outputs": [
        {
          "output_type": "execute_result",
          "data": {
            "text/html": [
              "<div>\n",
              "<style scoped>\n",
              "    .dataframe tbody tr th:only-of-type {\n",
              "        vertical-align: middle;\n",
              "    }\n",
              "\n",
              "    .dataframe tbody tr th {\n",
              "        vertical-align: top;\n",
              "    }\n",
              "\n",
              "    .dataframe thead th {\n",
              "        text-align: right;\n",
              "    }\n",
              "</style>\n",
              "<table border=\"1\" class=\"dataframe\">\n",
              "  <thead>\n",
              "    <tr style=\"text-align: right;\">\n",
              "      <th></th>\n",
              "      <th>Stock Code</th>\n",
              "      <th>Stock Name</th>\n",
              "      <th>First Date</th>\n",
              "      <th>Last Date</th>\n",
              "    </tr>\n",
              "  </thead>\n",
              "  <tbody>\n",
              "    <tr>\n",
              "      <th>0</th>\n",
              "      <td>BOM524715</td>\n",
              "      <td>SUN PHARMACEUTICAL INDUSTRIES LTD.</td>\n",
              "      <td>2000-02-10</td>\n",
              "      <td>2021-03-23</td>\n",
              "    </tr>\n",
              "    <tr>\n",
              "      <th>1</th>\n",
              "      <td>BOM532488</td>\n",
              "      <td>DIVI'S LABORATORIES LTD.</td>\n",
              "      <td>2003-04-23</td>\n",
              "      <td>2021-03-23</td>\n",
              "    </tr>\n",
              "    <tr>\n",
              "      <th>2</th>\n",
              "      <td>BOM500124</td>\n",
              "      <td>DR.REDDY'S LABORATORIES LTD.</td>\n",
              "      <td>2000-02-10</td>\n",
              "      <td>2021-03-23</td>\n",
              "    </tr>\n",
              "    <tr>\n",
              "      <th>3</th>\n",
              "      <td>BOM500180</td>\n",
              "      <td>HDFC Bank Ltd</td>\n",
              "      <td>2000-02-10</td>\n",
              "      <td>2021-03-23</td>\n",
              "    </tr>\n",
              "    <tr>\n",
              "      <th>4</th>\n",
              "      <td>BOM532174</td>\n",
              "      <td>ICICI BANK LTD.</td>\n",
              "      <td>2000-02-10</td>\n",
              "      <td>2021-03-23</td>\n",
              "    </tr>\n",
              "    <tr>\n",
              "      <th>5</th>\n",
              "      <td>BOM500247</td>\n",
              "      <td>KOTAK MAHINDRA BANK LTD.</td>\n",
              "      <td>2000-02-10</td>\n",
              "      <td>2021-03-23</td>\n",
              "    </tr>\n",
              "    <tr>\n",
              "      <th>6</th>\n",
              "      <td>BOM500470</td>\n",
              "      <td>TATA STEEL LTD.</td>\n",
              "      <td>2000-02-10</td>\n",
              "      <td>2021-03-23</td>\n",
              "    </tr>\n",
              "    <tr>\n",
              "      <th>7</th>\n",
              "      <td>BOM500228</td>\n",
              "      <td>JSW STEEL LTD.</td>\n",
              "      <td>2000-02-10</td>\n",
              "      <td>2021-03-23</td>\n",
              "    </tr>\n",
              "    <tr>\n",
              "      <th>8</th>\n",
              "      <td>BOM500440</td>\n",
              "      <td>HINDALCO INDUSTRIES LTD.</td>\n",
              "      <td>2000-02-10</td>\n",
              "      <td>2021-03-23</td>\n",
              "    </tr>\n",
              "    <tr>\n",
              "      <th>9</th>\n",
              "      <td>BOM532977</td>\n",
              "      <td>BAJAJ AUTO LTD.</td>\n",
              "      <td>2008-07-02</td>\n",
              "      <td>2021-03-23</td>\n",
              "    </tr>\n",
              "    <tr>\n",
              "      <th>10</th>\n",
              "      <td>BOM500570</td>\n",
              "      <td>TATA MOTORS LTD.</td>\n",
              "      <td>2000-02-10</td>\n",
              "      <td>2021-03-23</td>\n",
              "    </tr>\n",
              "    <tr>\n",
              "      <th>11</th>\n",
              "      <td>BOM532500</td>\n",
              "      <td>MARUTI SUZUKI INDIA LTD.</td>\n",
              "      <td>2003-08-18</td>\n",
              "      <td>2021-03-23</td>\n",
              "    </tr>\n",
              "    <tr>\n",
              "      <th>12</th>\n",
              "      <td>BOM500209</td>\n",
              "      <td>INFOSYS LTD.</td>\n",
              "      <td>2000-02-10</td>\n",
              "      <td>2021-03-23</td>\n",
              "    </tr>\n",
              "    <tr>\n",
              "      <th>13</th>\n",
              "      <td>BOM532540</td>\n",
              "      <td>TATA CONSULTANCY SERVICES LTD.</td>\n",
              "      <td>2004-10-01</td>\n",
              "      <td>2021-03-23</td>\n",
              "    </tr>\n",
              "    <tr>\n",
              "      <th>14</th>\n",
              "      <td>BOM507685</td>\n",
              "      <td>WIPRO LTD.</td>\n",
              "      <td>2000-02-10</td>\n",
              "      <td>2021-03-23</td>\n",
              "    </tr>\n",
              "  </tbody>\n",
              "</table>\n",
              "</div>"
            ],
            "text/plain": [
              "   Stock Code                           Stock Name  First Date   Last Date\n",
              "0   BOM524715  SUN PHARMACEUTICAL INDUSTRIES LTD.   2000-02-10  2021-03-23\n",
              "1   BOM532488            DIVI'S LABORATORIES LTD.   2003-04-23  2021-03-23\n",
              "2   BOM500124        DR.REDDY'S LABORATORIES LTD.   2000-02-10  2021-03-23\n",
              "3   BOM500180                       HDFC Bank Ltd   2000-02-10  2021-03-23\n",
              "4   BOM532174                     ICICI BANK LTD.   2000-02-10  2021-03-23\n",
              "5   BOM500247            KOTAK MAHINDRA BANK LTD.   2000-02-10  2021-03-23\n",
              "6   BOM500470                     TATA STEEL LTD.   2000-02-10  2021-03-23\n",
              "7   BOM500228                      JSW STEEL LTD.   2000-02-10  2021-03-23\n",
              "8   BOM500440            HINDALCO INDUSTRIES LTD.   2000-02-10  2021-03-23\n",
              "9   BOM532977                     BAJAJ AUTO LTD.   2008-07-02  2021-03-23\n",
              "10  BOM500570                    TATA MOTORS LTD.   2000-02-10  2021-03-23\n",
              "11  BOM532500            MARUTI SUZUKI INDIA LTD.   2003-08-18  2021-03-23\n",
              "12  BOM500209                        INFOSYS LTD.   2000-02-10  2021-03-23\n",
              "13  BOM532540      TATA CONSULTANCY SERVICES LTD.   2004-10-01  2021-03-23\n",
              "14  BOM507685                          WIPRO LTD.   2000-02-10  2021-03-23"
            ]
          },
          "metadata": {
            "tags": []
          },
          "execution_count": 85
        }
      ]
    },
    {
      "cell_type": "markdown",
      "metadata": {
        "id": "g-dEHWHqsQDv"
      },
      "source": [
        "# ADF Test for closing price"
      ]
    },
    {
      "cell_type": "code",
      "metadata": {
        "id": "PsBFTlvAsQDw",
        "colab": {
          "base_uri": "https://localhost:8080/"
        },
        "outputId": "15d93fb5-589b-41a0-b593-df8d95d6508f"
      },
      "source": [
        "stock = stocks[0]\n",
        "adf_testResult = pd.DataFrame(adf_test(ScriptWiseData[stocks[0]].Close, stocks[0])[0], columns = ['Value']).transpose().set_index(['Stock Name', 'Stock Code'])\n",
        "for i in range(1, len(stocks)):\n",
        "    res = pd.DataFrame(adf_test(ScriptWiseData[stocks[i]].Close, stocks[i])[0], columns = ['Value']).transpose().set_index(['Stock Name', 'Stock Code'])\n",
        "    adf_testResult = adf_testResult.append(res)\n",
        "adf_testResult['Result'] = adf_testResult['p-value'].apply(lambda x: 'Stationary' if x<0.05 else 'Non-Stationary')\n",
        "# adf_testResult.to_csv('Outputs/adfTest.csv')\n",
        "adf_testResult.head()"
      ],
      "execution_count": null,
      "outputs": [
        {
          "output_type": "execute_result",
          "data": {
            "text/html": [
              "<div>\n",
              "<style scoped>\n",
              "    .dataframe tbody tr th:only-of-type {\n",
              "        vertical-align: middle;\n",
              "    }\n",
              "\n",
              "    .dataframe tbody tr th {\n",
              "        vertical-align: top;\n",
              "    }\n",
              "\n",
              "    .dataframe thead th {\n",
              "        text-align: right;\n",
              "    }\n",
              "</style>\n",
              "<table border=\"1\" class=\"dataframe\">\n",
              "  <thead>\n",
              "    <tr style=\"text-align: right;\">\n",
              "      <th></th>\n",
              "      <th></th>\n",
              "      <th>ADF test statistic</th>\n",
              "      <th>p-value</th>\n",
              "      <th># lags used</th>\n",
              "      <th>#observations</th>\n",
              "      <th>critical value (1%)</th>\n",
              "      <th>critical value (5%)</th>\n",
              "      <th>critical value (10%)</th>\n",
              "      <th>Result</th>\n",
              "    </tr>\n",
              "    <tr>\n",
              "      <th>Stock Name</th>\n",
              "      <th>Stock Code</th>\n",
              "      <th></th>\n",
              "      <th></th>\n",
              "      <th></th>\n",
              "      <th></th>\n",
              "      <th></th>\n",
              "      <th></th>\n",
              "      <th></th>\n",
              "      <th></th>\n",
              "    </tr>\n",
              "  </thead>\n",
              "  <tbody>\n",
              "    <tr>\n",
              "      <th>SUN PHARMACEUTICAL INDUSTRIES LTD.</th>\n",
              "      <th>BOM524715</th>\n",
              "      <td>-5.02575</td>\n",
              "      <td>1.97306e-05</td>\n",
              "      <td>0</td>\n",
              "      <td>5253</td>\n",
              "      <td>-3.4316</td>\n",
              "      <td>-2.86209</td>\n",
              "      <td>-2.56706</td>\n",
              "      <td>Stationary</td>\n",
              "    </tr>\n",
              "    <tr>\n",
              "      <th>DIVI'S LABORATORIES LTD.</th>\n",
              "      <th>BOM532488</th>\n",
              "      <td>-3.57137</td>\n",
              "      <td>0.0063325</td>\n",
              "      <td>32</td>\n",
              "      <td>4424</td>\n",
              "      <td>-3.43183</td>\n",
              "      <td>-2.86219</td>\n",
              "      <td>-2.56712</td>\n",
              "      <td>Stationary</td>\n",
              "    </tr>\n",
              "    <tr>\n",
              "      <th>DR.REDDY'S LABORATORIES LTD.</th>\n",
              "      <th>BOM500124</th>\n",
              "      <td>-0.0817256</td>\n",
              "      <td>0.951229</td>\n",
              "      <td>28</td>\n",
              "      <td>5226</td>\n",
              "      <td>-3.4316</td>\n",
              "      <td>-2.86209</td>\n",
              "      <td>-2.56706</td>\n",
              "      <td>Non-Stationary</td>\n",
              "    </tr>\n",
              "    <tr>\n",
              "      <th>HDFC Bank Ltd</th>\n",
              "      <th>BOM500180</th>\n",
              "      <td>-2.22396</td>\n",
              "      <td>0.197665</td>\n",
              "      <td>0</td>\n",
              "      <td>5254</td>\n",
              "      <td>-3.4316</td>\n",
              "      <td>-2.86209</td>\n",
              "      <td>-2.56706</td>\n",
              "      <td>Non-Stationary</td>\n",
              "    </tr>\n",
              "    <tr>\n",
              "      <th>ICICI BANK LTD.</th>\n",
              "      <th>BOM532174</th>\n",
              "      <td>-2.65894</td>\n",
              "      <td>0.0814161</td>\n",
              "      <td>1</td>\n",
              "      <td>5252</td>\n",
              "      <td>-3.4316</td>\n",
              "      <td>-2.86209</td>\n",
              "      <td>-2.56706</td>\n",
              "      <td>Non-Stationary</td>\n",
              "    </tr>\n",
              "  </tbody>\n",
              "</table>\n",
              "</div>"
            ],
            "text/plain": [
              "                                               ADF test statistic  \\\n",
              "Stock Name                          Stock Code                      \n",
              "SUN PHARMACEUTICAL INDUSTRIES LTD.  BOM524715            -5.02575   \n",
              "DIVI'S LABORATORIES LTD.            BOM532488            -3.57137   \n",
              "DR.REDDY'S LABORATORIES LTD.        BOM500124          -0.0817256   \n",
              "HDFC Bank Ltd                       BOM500180            -2.22396   \n",
              "ICICI BANK LTD.                     BOM532174            -2.65894   \n",
              "\n",
              "                                                    p-value # lags used  \\\n",
              "Stock Name                          Stock Code                            \n",
              "SUN PHARMACEUTICAL INDUSTRIES LTD.  BOM524715   1.97306e-05           0   \n",
              "DIVI'S LABORATORIES LTD.            BOM532488     0.0063325          32   \n",
              "DR.REDDY'S LABORATORIES LTD.        BOM500124      0.951229          28   \n",
              "HDFC Bank Ltd                       BOM500180      0.197665           0   \n",
              "ICICI BANK LTD.                     BOM532174     0.0814161           1   \n",
              "\n",
              "                                               #observations  \\\n",
              "Stock Name                          Stock Code                 \n",
              "SUN PHARMACEUTICAL INDUSTRIES LTD.  BOM524715           5253   \n",
              "DIVI'S LABORATORIES LTD.            BOM532488           4424   \n",
              "DR.REDDY'S LABORATORIES LTD.        BOM500124           5226   \n",
              "HDFC Bank Ltd                       BOM500180           5254   \n",
              "ICICI BANK LTD.                     BOM532174           5252   \n",
              "\n",
              "                                               critical value (1%)  \\\n",
              "Stock Name                          Stock Code                       \n",
              "SUN PHARMACEUTICAL INDUSTRIES LTD.  BOM524715              -3.4316   \n",
              "DIVI'S LABORATORIES LTD.            BOM532488             -3.43183   \n",
              "DR.REDDY'S LABORATORIES LTD.        BOM500124              -3.4316   \n",
              "HDFC Bank Ltd                       BOM500180              -3.4316   \n",
              "ICICI BANK LTD.                     BOM532174              -3.4316   \n",
              "\n",
              "                                               critical value (5%)  \\\n",
              "Stock Name                          Stock Code                       \n",
              "SUN PHARMACEUTICAL INDUSTRIES LTD.  BOM524715             -2.86209   \n",
              "DIVI'S LABORATORIES LTD.            BOM532488             -2.86219   \n",
              "DR.REDDY'S LABORATORIES LTD.        BOM500124             -2.86209   \n",
              "HDFC Bank Ltd                       BOM500180             -2.86209   \n",
              "ICICI BANK LTD.                     BOM532174             -2.86209   \n",
              "\n",
              "                                               critical value (10%)  \\\n",
              "Stock Name                          Stock Code                        \n",
              "SUN PHARMACEUTICAL INDUSTRIES LTD.  BOM524715              -2.56706   \n",
              "DIVI'S LABORATORIES LTD.            BOM532488              -2.56712   \n",
              "DR.REDDY'S LABORATORIES LTD.        BOM500124              -2.56706   \n",
              "HDFC Bank Ltd                       BOM500180              -2.56706   \n",
              "ICICI BANK LTD.                     BOM532174              -2.56706   \n",
              "\n",
              "                                                        Result  \n",
              "Stock Name                          Stock Code                  \n",
              "SUN PHARMACEUTICAL INDUSTRIES LTD.  BOM524715       Stationary  \n",
              "DIVI'S LABORATORIES LTD.            BOM532488       Stationary  \n",
              "DR.REDDY'S LABORATORIES LTD.        BOM500124   Non-Stationary  \n",
              "HDFC Bank Ltd                       BOM500180   Non-Stationary  \n",
              "ICICI BANK LTD.                     BOM532174   Non-Stationary  "
            ]
          },
          "metadata": {
            "tags": []
          },
          "execution_count": 86
        }
      ]
    },
    {
      "cell_type": "markdown",
      "metadata": {
        "id": "ZuatJ5wSsQD0"
      },
      "source": [
        "# Train test and validation split"
      ]
    },
    {
      "cell_type": "code",
      "metadata": {
        "id": "PPmizeP1sQD1"
      },
      "source": [
        "def TrainTestSplitByDateRange(df,test_start_date = '2020-03-02',test_end_date = '2021-03-23'):\n",
        "    train = df.loc[:test_start_date]\n",
        "    test = df.loc[test_start_date:test_end_date]\n",
        "    return train, test[1:]"
      ],
      "execution_count": null,
      "outputs": []
    },
    {
      "cell_type": "markdown",
      "metadata": {
        "id": "GZM3kPfUFLF0"
      },
      "source": [
        "# Code Addition Tavish -----------------------------------------------"
      ]
    },
    {
      "cell_type": "markdown",
      "metadata": {
        "id": "mkBI8VemuxzA"
      },
      "source": [
        "#ARIMA "
      ]
    },
    {
      "cell_type": "markdown",
      "metadata": {
        "id": "Brhnpl1lsQD_"
      },
      "source": [
        "### AutoARIMA DataFrame\n"
      ]
    },
    {
      "cell_type": "code",
      "metadata": {
        "id": "6WlVwmInOc_h"
      },
      "source": [
        "from statsmodels.tsa.arima_model import ARIMA\n",
        "from pmdarima.arima import auto_arima"
      ],
      "execution_count": null,
      "outputs": []
    },
    {
      "cell_type": "code",
      "metadata": {
        "id": "1N2CIMZrQBi8"
      },
      "source": [
        "import pandas as pd"
      ],
      "execution_count": null,
      "outputs": []
    },
    {
      "cell_type": "code",
      "metadata": {
        "id": "yuHk6Cx2sQEA",
        "colab": {
          "base_uri": "https://localhost:8080/"
        },
        "outputId": "f619168b-34b5-4710-c9d9-083d15975f88"
      },
      "source": [
        "AutoArimaResults = 'AutoArimaResults.csv'\n",
        "try:\n",
        "    with open('Outputs/' + AutoArimaResults) as myfile:\n",
        "      AutoArimaResults = pd.read_csv('Outputs/AutoArimaResults.csv',index_col='Unnamed: 0')  \n",
        "except IOError as e:\n",
        "    print('Creating {} file'.format(AutoArimaResults))\n",
        "    AutoArimaResults = pd.DataFrame(columns=['p Closing Values', 'd Closing Values', 'q Closing Values','p N Closing Values', 'd N Closing Values', 'q N Closing Values','p Closing Percentage', 'd Closing Percentage', 'q Closing Percentage'], index = stocks) \n"
      ],
      "execution_count": null,
      "outputs": [
        {
          "output_type": "stream",
          "text": [
            "Creating AutoArimaResults.csv file\n"
          ],
          "name": "stdout"
        }
      ]
    },
    {
      "cell_type": "code",
      "metadata": {
        "id": "XpG-7ntKsQEB"
      },
      "source": [
        "def CalculateAutoArima(stockcode, data, parameter ,p ,d,q):\n",
        "    if(AutoArimaResults.loc[:, [p, d, q]].isnull().sum(axis=1)[stockcode] > 0):\n",
        "        params = auto_arima(data[parameter], maxiter = 1000)\n",
        "        AutoArimaResults.loc[stockcode, [p,d,q]] = params.order\n",
        "        return params.order\n",
        "    else:\n",
        "        return tuple(AutoArimaResults.loc[stockcode, [p, d, q]])"
      ],
      "execution_count": null,
      "outputs": []
    },
    {
      "cell_type": "markdown",
      "metadata": {
        "id": "66iBaKZFbdbj"
      },
      "source": [
        "### Common Functions"
      ]
    },
    {
      "cell_type": "code",
      "metadata": {
        "id": "KLwjuKd3tzHm"
      },
      "source": [
        "def errorEvaluation(actual, pred):\n",
        "    RMSE = mean_squared_error(actual, pred, squared=False)\n",
        "    MAPE = mean_absolute_percentage_error(actual,pred)\n",
        "    R2 = r2_score(actual,pred)\n",
        "    Noise = float(pred.diff().abs().mean())\n",
        "    return [RMSE, MAPE, R2, Noise]"
      ],
      "execution_count": null,
      "outputs": []
    },
    {
      "cell_type": "code",
      "metadata": {
        "id": "tmb8wAagtzFr"
      },
      "source": [
        "def modified_prediction_frame(_df_pred, index):\n",
        "    _df_pred = _df_pred.to_frame()\n",
        "    _df_pred['Date'] = index\n",
        "    pd.to_datetime(_df_pred['Date'])\n",
        "    _df_pred.set_index('Date', inplace=True)\n",
        "    _df_pred.rename(columns={0 : 'Predicted'}, inplace=True)\n",
        "    return _df_pred"
      ],
      "execution_count": null,
      "outputs": []
    },
    {
      "cell_type": "markdown",
      "metadata": {
        "id": "XIE86TYXbYRI"
      },
      "source": [
        "## ARIMA for Closing Values "
      ]
    },
    {
      "cell_type": "markdown",
      "metadata": {
        "id": "xD0jX2PHAABU"
      },
      "source": [
        "### Generic Function For ARIMA Closing Prices"
      ]
    },
    {
      "cell_type": "code",
      "metadata": {
        "id": "oh8YrsrMRNef"
      },
      "source": [
        "def ARIMA_Model_Generic(StockCode, data, feature, Results, Order, train_data, test_data):\n",
        "    print(\"Modeling for the Stock: {}\".format(StockCode))\n",
        "\n",
        "    start = len(train_data)\n",
        "    end = len(train_data) + len(test_data) - 1\n",
        "\n",
        "    print(\"ADF Test for the given series.\")\n",
        "    adf, Stationarity = adf_test(train_data[feature], title=StockCode)\n",
        "    print(adf)\n",
        "    print('----------------------------------------------------------------------------')\n",
        "    Results.loc[StockCode,'Stationarity'] = Stationarity\n",
        "    model = ARIMA(train_data[feature], order = Order)\n",
        "\n",
        "    results = model.fit()\n",
        "    print(results.params)\n",
        "    print(\"Order: \" + str(Order) )\n",
        "    print('---------------------------------------------------------------------------')\n",
        "    Results.loc[StockCode, 'Order'] = str(Order)\n",
        "\n",
        "    predictions = results.predict(start = start, end = end, typ ='levels')\n",
        "    predictions = modified_prediction_frame(predictions, test_data[feature].index)\n",
        "\n",
        "    errorEval = errorEvaluation(test_data[feature], predictions)\n",
        "    RMSE, MAPE, R2, Noise = errorEval\n",
        "    Results.loc[StockCode, ['RMSE', 'MAPE', 'R2', 'Noise']] = errorEval\n",
        "    print(\"RMSE: {0} \\nMape: {1} \\nR2: {2} \\nNoise: {3}\".format(RMSE, MAPE, R2, Noise))\n",
        "    print('---------------------------------------------------------------------------')\n",
        "\n",
        "    print('Description of the Predicted Data')\n",
        "    print(predictions.describe())\n",
        "    pred_mean = predictions.mean(numeric_only=True)\n",
        "    Results.loc[StockCode, 'Predictions Mean'] = str(float(pred_mean))\n",
        "    print('---------------------------------------------------------------------------')\n",
        "\n",
        "    print('Description of the Actual Data')\n",
        "    print(test_data[feature].describe())\n",
        "    Results.loc[StockCode, 'Actual Mean'] = str(test_data[feature].mean())\n",
        "    return predictions\n"
      ],
      "execution_count": null,
      "outputs": []
    },
    {
      "cell_type": "code",
      "metadata": {
        "id": "r_QX2NcG2Sje"
      },
      "source": [
        "try:\n",
        "    ArimaModelPricesResults = pd.read_csv('./Outputs/ArimaModelPricesResults.csv')\n",
        "except FileNotFoundError:\n",
        "    ArimaModelPricesResults = pd.DataFrame(columns=['Stationarity', 'Order', 'RMSE', 'MAPE', 'R2', 'Noise', 'Predictions Mean', 'Actual Mean'], index = stocks)"
      ],
      "execution_count": null,
      "outputs": []
    },
    {
      "cell_type": "code",
      "metadata": {
        "id": "Q2S3ndNj4IW9"
      },
      "source": [
        "feature = 'Close'\n",
        "for stock in stocks:\n",
        "    print(\"Working for Stock - {}\".format(stock))\n",
        "    train_data, test_data = TrainTestSplitByDateRange(ScriptWiseData[stock])\n",
        "    Order = CalculateAutoArima(stock, train_data, feature,  p= 'p Closing Values',d = 'd Closing Values', q = 'q Closing Values')\n",
        "    ARIMA_Model_Generic(StockCode = stock, data = ScriptWiseData, feature = feature, Results=ArimaModelPricesResults, Order=Order, train_data=train_data, test_data=test_data)"
      ],
      "execution_count": null,
      "outputs": []
    },
    {
      "cell_type": "code",
      "metadata": {
        "colab": {
          "base_uri": "https://localhost:8080/",
          "height": 509
        },
        "id": "d81vUT9UWnrl",
        "outputId": "bedc9ec4-ee7d-4fba-d710-8dab58fca876"
      },
      "source": [
        "ArimaModelPricesResults"
      ],
      "execution_count": null,
      "outputs": [
        {
          "output_type": "execute_result",
          "data": {
            "text/html": [
              "<div>\n",
              "<style scoped>\n",
              "    .dataframe tbody tr th:only-of-type {\n",
              "        vertical-align: middle;\n",
              "    }\n",
              "\n",
              "    .dataframe tbody tr th {\n",
              "        vertical-align: top;\n",
              "    }\n",
              "\n",
              "    .dataframe thead th {\n",
              "        text-align: right;\n",
              "    }\n",
              "</style>\n",
              "<table border=\"1\" class=\"dataframe\">\n",
              "  <thead>\n",
              "    <tr style=\"text-align: right;\">\n",
              "      <th></th>\n",
              "      <th>Stationarity</th>\n",
              "      <th>Order</th>\n",
              "      <th>RMSE</th>\n",
              "      <th>MAPE</th>\n",
              "      <th>R2</th>\n",
              "      <th>Noise</th>\n",
              "      <th>Predictions Mean</th>\n",
              "      <th>Actual Mean</th>\n",
              "    </tr>\n",
              "  </thead>\n",
              "  <tbody>\n",
              "    <tr>\n",
              "      <th>BOM524715</th>\n",
              "      <td>Stationary</td>\n",
              "      <td>(0, 1, 1)</td>\n",
              "      <td>212.88</td>\n",
              "      <td>0.358272</td>\n",
              "      <td>-8.61615</td>\n",
              "      <td>0.3566</td>\n",
              "      <td>321.4550604512494</td>\n",
              "      <td>512.6528409090912</td>\n",
              "    </tr>\n",
              "    <tr>\n",
              "      <th>BOM532488</th>\n",
              "      <td>Stationary</td>\n",
              "      <td>(1, 1, 3)</td>\n",
              "      <td>985.579</td>\n",
              "      <td>0.251213</td>\n",
              "      <td>-1.63006</td>\n",
              "      <td>0.452914</td>\n",
              "      <td>2156.2458884215393</td>\n",
              "      <td>2955.1107954545464</td>\n",
              "    </tr>\n",
              "    <tr>\n",
              "      <th>BOM500124</th>\n",
              "      <td>Non-Stationary</td>\n",
              "      <td>(2, 1, 2)</td>\n",
              "      <td>1543.27</td>\n",
              "      <td>0.308958</td>\n",
              "      <td>-4.8381</td>\n",
              "      <td>0.495257</td>\n",
              "      <td>2982.8166490229623</td>\n",
              "      <td>4398.125757575757</td>\n",
              "    </tr>\n",
              "    <tr>\n",
              "      <th>BOM500180</th>\n",
              "      <td>Non-Stationary</td>\n",
              "      <td>(0, 1, 0)</td>\n",
              "      <td>215.873</td>\n",
              "      <td>0.167189</td>\n",
              "      <td>0.107421</td>\n",
              "      <td>0.186603</td>\n",
              "      <td>1206.8749248497072</td>\n",
              "      <td>1191.3210227272725</td>\n",
              "    </tr>\n",
              "    <tr>\n",
              "      <th>BOM532174</th>\n",
              "      <td>Non-Stationary</td>\n",
              "      <td>(2, 1, 1)</td>\n",
              "      <td>129.372</td>\n",
              "      <td>0.303891</td>\n",
              "      <td>-0.632291</td>\n",
              "      <td>0.0746302</td>\n",
              "      <td>517.3733706848788</td>\n",
              "      <td>431.7240530303029</td>\n",
              "    </tr>\n",
              "    <tr>\n",
              "      <th>BOM500247</th>\n",
              "      <td>Non-Stationary</td>\n",
              "      <td>(1, 1, 2)</td>\n",
              "      <td>290.192</td>\n",
              "      <td>0.191578</td>\n",
              "      <td>-0.0258249</td>\n",
              "      <td>0.286684</td>\n",
              "      <td>1638.34317287748</td>\n",
              "      <td>1528.21875</td>\n",
              "    </tr>\n",
              "    <tr>\n",
              "      <th>BOM500470</th>\n",
              "      <td>Non-Stationary</td>\n",
              "      <td>(2, 1, 2)</td>\n",
              "      <td>174.747</td>\n",
              "      <td>0.247249</td>\n",
              "      <td>-0.224324</td>\n",
              "      <td>0.0703498</td>\n",
              "      <td>370.91240766044956</td>\n",
              "      <td>452.07632575757566</td>\n",
              "    </tr>\n",
              "    <tr>\n",
              "      <th>BOM500228</th>\n",
              "      <td>Non-Stationary</td>\n",
              "      <td>(0, 1, 0)</td>\n",
              "      <td>95.5917</td>\n",
              "      <td>0.28634</td>\n",
              "      <td>-0.130326</td>\n",
              "      <td>0.0461856</td>\n",
              "      <td>241.06959037842125</td>\n",
              "      <td>281.7153409090906</td>\n",
              "    </tr>\n",
              "    <tr>\n",
              "      <th>BOM500440</th>\n",
              "      <td>Non-Stationary</td>\n",
              "      <td>(0, 1, 0)</td>\n",
              "      <td>96.7013</td>\n",
              "      <td>0.336216</td>\n",
              "      <td>-1.181</td>\n",
              "      <td>0.137332</td>\n",
              "      <td>131.65349268390312</td>\n",
              "      <td>192.29375</td>\n",
              "    </tr>\n",
              "    <tr>\n",
              "      <th>BOM532977</th>\n",
              "      <td>Non-Stationary</td>\n",
              "      <td>(1, 1, 2)</td>\n",
              "      <td>473.773</td>\n",
              "      <td>0.10786</td>\n",
              "      <td>0.166374</td>\n",
              "      <td>0.986512</td>\n",
              "      <td>2949.439700805906</td>\n",
              "      <td>3057.258143939392</td>\n",
              "    </tr>\n",
              "    <tr>\n",
              "      <th>BOM500570</th>\n",
              "      <td>Non-Stationary</td>\n",
              "      <td>(2, 1, 2)</td>\n",
              "      <td>85.8455</td>\n",
              "      <td>0.338284</td>\n",
              "      <td>-0.172045</td>\n",
              "      <td>0.01945</td>\n",
              "      <td>125.51065965997118</td>\n",
              "      <td>156.64526515151513</td>\n",
              "    </tr>\n",
              "    <tr>\n",
              "      <th>BOM532500</th>\n",
              "      <td>Non-Stationary</td>\n",
              "      <td>(2, 1, 2)</td>\n",
              "      <td>881.657</td>\n",
              "      <td>0.123555</td>\n",
              "      <td>0.184166</td>\n",
              "      <td>1.58819</td>\n",
              "      <td>6474.65464879158</td>\n",
              "      <td>6530.981818181817</td>\n",
              "    </tr>\n",
              "    <tr>\n",
              "      <th>BOM500209</th>\n",
              "      <td>Stationary</td>\n",
              "      <td>(2, 1, 2)</td>\n",
              "      <td>620.04</td>\n",
              "      <td>0.447974</td>\n",
              "      <td>-5.21754</td>\n",
              "      <td>1.88414</td>\n",
              "      <td>499.22734495922754</td>\n",
              "      <td>981.0748106060613</td>\n",
              "    </tr>\n",
              "    <tr>\n",
              "      <th>BOM532540</th>\n",
              "      <td>Non-Stationary</td>\n",
              "      <td>(2, 1, 2)</td>\n",
              "      <td>569.607</td>\n",
              "      <td>0.167284</td>\n",
              "      <td>-0.483468</td>\n",
              "      <td>0.509805</td>\n",
              "      <td>2098.1662111306287</td>\n",
              "      <td>2459.9272727272732</td>\n",
              "    </tr>\n",
              "    <tr>\n",
              "      <th>BOM507685</th>\n",
              "      <td>Stationary</td>\n",
              "      <td>(5, 1, 3)</td>\n",
              "      <td>297.831</td>\n",
              "      <td>0.689199</td>\n",
              "      <td>-10.3636</td>\n",
              "      <td>1.24477</td>\n",
              "      <td>64.15355095574886</td>\n",
              "      <td>302.5151515151515</td>\n",
              "    </tr>\n",
              "  </tbody>\n",
              "</table>\n",
              "</div>"
            ],
            "text/plain": [
              "             Stationarity      Order     RMSE      MAPE         R2      Noise  \\\n",
              "BOM524715      Stationary  (0, 1, 1)   212.88  0.358272   -8.61615     0.3566   \n",
              "BOM532488      Stationary  (1, 1, 3)  985.579  0.251213   -1.63006   0.452914   \n",
              "BOM500124  Non-Stationary  (2, 1, 2)  1543.27  0.308958    -4.8381   0.495257   \n",
              "BOM500180  Non-Stationary  (0, 1, 0)  215.873  0.167189   0.107421   0.186603   \n",
              "BOM532174  Non-Stationary  (2, 1, 1)  129.372  0.303891  -0.632291  0.0746302   \n",
              "BOM500247  Non-Stationary  (1, 1, 2)  290.192  0.191578 -0.0258249   0.286684   \n",
              "BOM500470  Non-Stationary  (2, 1, 2)  174.747  0.247249  -0.224324  0.0703498   \n",
              "BOM500228  Non-Stationary  (0, 1, 0)  95.5917   0.28634  -0.130326  0.0461856   \n",
              "BOM500440  Non-Stationary  (0, 1, 0)  96.7013  0.336216     -1.181   0.137332   \n",
              "BOM532977  Non-Stationary  (1, 1, 2)  473.773   0.10786   0.166374   0.986512   \n",
              "BOM500570  Non-Stationary  (2, 1, 2)  85.8455  0.338284  -0.172045    0.01945   \n",
              "BOM532500  Non-Stationary  (2, 1, 2)  881.657  0.123555   0.184166    1.58819   \n",
              "BOM500209      Stationary  (2, 1, 2)   620.04  0.447974   -5.21754    1.88414   \n",
              "BOM532540  Non-Stationary  (2, 1, 2)  569.607  0.167284  -0.483468   0.509805   \n",
              "BOM507685      Stationary  (5, 1, 3)  297.831  0.689199   -10.3636    1.24477   \n",
              "\n",
              "             Predictions Mean         Actual Mean  \n",
              "BOM524715   321.4550604512494   512.6528409090912  \n",
              "BOM532488  2156.2458884215393  2955.1107954545464  \n",
              "BOM500124  2982.8166490229623   4398.125757575757  \n",
              "BOM500180  1206.8749248497072  1191.3210227272725  \n",
              "BOM532174   517.3733706848788   431.7240530303029  \n",
              "BOM500247    1638.34317287748          1528.21875  \n",
              "BOM500470  370.91240766044956  452.07632575757566  \n",
              "BOM500228  241.06959037842125   281.7153409090906  \n",
              "BOM500440  131.65349268390312           192.29375  \n",
              "BOM532977   2949.439700805906   3057.258143939392  \n",
              "BOM500570  125.51065965997118  156.64526515151513  \n",
              "BOM532500    6474.65464879158   6530.981818181817  \n",
              "BOM500209  499.22734495922754   981.0748106060613  \n",
              "BOM532540  2098.1662111306287  2459.9272727272732  \n",
              "BOM507685   64.15355095574886   302.5151515151515  "
            ]
          },
          "metadata": {
            "tags": []
          },
          "execution_count": 98
        }
      ]
    },
    {
      "cell_type": "code",
      "metadata": {
        "id": "QPc5OCmxzXgP"
      },
      "source": [
        "ArimaModelPricesResults.to_csv('./Outputs/ArimaModelPricesResults.csv')"
      ],
      "execution_count": null,
      "outputs": []
    },
    {
      "cell_type": "markdown",
      "metadata": {
        "id": "Ru8Key50sQD3"
      },
      "source": [
        "## ARIMA for Normalized Closing Price"
      ]
    },
    {
      "cell_type": "markdown",
      "metadata": {
        "id": "CMOXBPGjb-mp"
      },
      "source": [
        "### Normalizing the Values  - Normalized_Prices"
      ]
    },
    {
      "cell_type": "code",
      "metadata": {
        "id": "sWQsNBH-_mIo"
      },
      "source": [
        "normalized_columns = ['Normalized Closing', 'Normalized RSI', 'Normalized ATR', 'Normalized MACD', 'Normalized ADX', 'Normalized OBV']\n",
        "normalized_TechnicalIndicators = ['Normalized RSI', 'Normalized ATR', 'Normalized MACD', 'Normalized ADX', 'Normalized OBV']"
      ],
      "execution_count": null,
      "outputs": []
    },
    {
      "cell_type": "code",
      "metadata": {
        "id": "ZvK_sl4-r5zF"
      },
      "source": [
        "# first value normalization\n",
        "for stock in stocks:\n",
        "    cols = list(ScriptWiseData[stock].columns)\n",
        "    for count in range(len(cols)):\n",
        "        benchmark_prices = ScriptWiseData[stock][cols[count]].iloc[0]\n",
        "        ScriptWiseData[stock][normalized_columns[count]] = ScriptWiseData[stock][cols[count]].div(benchmark_prices).mul(100)\n"
      ],
      "execution_count": null,
      "outputs": []
    },
    {
      "cell_type": "markdown",
      "metadata": {
        "id": "hssG06SXQzYo"
      },
      "source": [
        "###  ARIMA Normalized Closing Prices"
      ]
    },
    {
      "cell_type": "code",
      "metadata": {
        "id": "vp-eT2gpRNeZ"
      },
      "source": [
        "try:\n",
        "    ArimaModelPricesResults_Norm = pd.read_csv('./Outputs/ArimaModelPricesResults_Norm.csv')\n",
        "except FileNotFoundError:\n",
        "    ArimaModelPricesResults_Norm = pd.DataFrame(columns=['Stationarity', 'Order', 'RMSE', 'MAPE', 'R2','Noise', 'Predictions Mean', 'Actual Mean'], index = stocks)\n",
        "    \n"
      ],
      "execution_count": null,
      "outputs": []
    },
    {
      "cell_type": "code",
      "metadata": {
        "id": "NVFH-IUnVFVz"
      },
      "source": [
        "for stock in stocks:\n",
        "    print(\"Working for Stock {}\".format(stock))\n",
        "    train_data, test_data = TrainTestSplitByDateRange(ScriptWiseData[stock])\n",
        "    feature = 'Normalized Closing'\n",
        "    Order = CalculateAutoArima(stock, train_data, feature,'p N Closing Values', 'd N Closing Values', 'q N Closing Values')\n",
        "    ARIMA_Model_Generic(StockCode= stock, data = ScriptWiseData, feature = feature, Results=ArimaModelPricesResults_Norm, Order=Order, train_data=train_data, test_data=test_data)"
      ],
      "execution_count": null,
      "outputs": []
    },
    {
      "cell_type": "code",
      "metadata": {
        "id": "xRHvVlzIRNei"
      },
      "source": [
        "ArimaModelPricesResults_Norm.to_csv('./Outputs/ArimaModelPricesResults_Norm.csv')"
      ],
      "execution_count": null,
      "outputs": []
    },
    {
      "cell_type": "markdown",
      "metadata": {
        "id": "dRI58ANtsQEE"
      },
      "source": [
        "## ARIMA Model For Returns"
      ]
    },
    {
      "cell_type": "markdown",
      "metadata": {
        "id": "tMsWXE90sQDx"
      },
      "source": [
        "### Convert Closing price to percentage change"
      ]
    },
    {
      "cell_type": "markdown",
      "metadata": {
        "id": "EXFKbLv2v2Oo"
      },
      "source": [
        "\n",
        "\n",
        "> revisit normalization for this section - consider normalizing in range -1 and 1 --- Not done yet\n",
        "\n"
      ]
    },
    {
      "cell_type": "code",
      "metadata": {
        "id": "vBqeCkNEsQDy"
      },
      "source": [
        "for s in stocks:\n",
        "    ScriptWiseData[s]['Stock_Returns'] = ScriptWiseData[s]['Close'].pct_change(1).mul(100) \n",
        "    ScriptWiseData[s] = ScriptWiseData[s][1:] # Because of NAN first value"
      ],
      "execution_count": null,
      "outputs": []
    },
    {
      "cell_type": "code",
      "metadata": {
        "id": "muFSqcxGsQDz",
        "colab": {
          "base_uri": "https://localhost:8080/"
        },
        "outputId": "2057ef0f-1401-4c76-fa71-58be6065945a"
      },
      "source": [
        "stock = stocks[0]\n",
        "adf_testResult = pd.DataFrame(adf_test(ScriptWiseData[stocks[0]].Stock_Returns, stocks[0])[0], columns = ['Value']).transpose().set_index(['Stock Name', 'Stock Code'])\n",
        "for i in range(1, len(stocks)):\n",
        "    res = pd.DataFrame(adf_test(ScriptWiseData[stocks[i]].Stock_Returns, stocks[i])[0], columns = ['Value']).transpose().set_index(['Stock Name', 'Stock Code'])\n",
        "    adf_testResult = adf_testResult.append(res)\n",
        "adf_testResult['Result'] = adf_testResult['p-value'].apply(lambda x: 'Stationary' if x<0.05 else 'Non-Stationary')\n",
        "# adf_testResult.to_csv('Outputs/adfTestReturns.csv')\n",
        "adf_testResult.to_csv('Outputs/adfTestReturns.csv')\n",
        "adf_testResult.head()"
      ],
      "execution_count": null,
      "outputs": [
        {
          "output_type": "execute_result",
          "data": {
            "text/html": [
              "<div>\n",
              "<style scoped>\n",
              "    .dataframe tbody tr th:only-of-type {\n",
              "        vertical-align: middle;\n",
              "    }\n",
              "\n",
              "    .dataframe tbody tr th {\n",
              "        vertical-align: top;\n",
              "    }\n",
              "\n",
              "    .dataframe thead th {\n",
              "        text-align: right;\n",
              "    }\n",
              "</style>\n",
              "<table border=\"1\" class=\"dataframe\">\n",
              "  <thead>\n",
              "    <tr style=\"text-align: right;\">\n",
              "      <th></th>\n",
              "      <th></th>\n",
              "      <th>ADF test statistic</th>\n",
              "      <th>p-value</th>\n",
              "      <th># lags used</th>\n",
              "      <th>#observations</th>\n",
              "      <th>critical value (1%)</th>\n",
              "      <th>critical value (5%)</th>\n",
              "      <th>critical value (10%)</th>\n",
              "      <th>Result</th>\n",
              "    </tr>\n",
              "    <tr>\n",
              "      <th>Stock Name</th>\n",
              "      <th>Stock Code</th>\n",
              "      <th></th>\n",
              "      <th></th>\n",
              "      <th></th>\n",
              "      <th></th>\n",
              "      <th></th>\n",
              "      <th></th>\n",
              "      <th></th>\n",
              "      <th></th>\n",
              "    </tr>\n",
              "  </thead>\n",
              "  <tbody>\n",
              "    <tr>\n",
              "      <th>SUN PHARMACEUTICAL INDUSTRIES LTD.</th>\n",
              "      <th>BOM524715</th>\n",
              "      <td>-51.4892</td>\n",
              "      <td>0</td>\n",
              "      <td>1</td>\n",
              "      <td>5251</td>\n",
              "      <td>-3.4316</td>\n",
              "      <td>-2.86209</td>\n",
              "      <td>-2.56706</td>\n",
              "      <td>Stationary</td>\n",
              "    </tr>\n",
              "    <tr>\n",
              "      <th>DIVI'S LABORATORIES LTD.</th>\n",
              "      <th>BOM532488</th>\n",
              "      <td>-13.9231</td>\n",
              "      <td>5.2515e-26</td>\n",
              "      <td>23</td>\n",
              "      <td>4432</td>\n",
              "      <td>-3.43183</td>\n",
              "      <td>-2.86219</td>\n",
              "      <td>-2.56712</td>\n",
              "      <td>Stationary</td>\n",
              "    </tr>\n",
              "    <tr>\n",
              "      <th>DR.REDDY'S LABORATORIES LTD.</th>\n",
              "      <th>BOM500124</th>\n",
              "      <td>-71.6184</td>\n",
              "      <td>0</td>\n",
              "      <td>0</td>\n",
              "      <td>5253</td>\n",
              "      <td>-3.4316</td>\n",
              "      <td>-2.86209</td>\n",
              "      <td>-2.56706</td>\n",
              "      <td>Stationary</td>\n",
              "    </tr>\n",
              "    <tr>\n",
              "      <th>HDFC Bank Ltd</th>\n",
              "      <th>BOM500180</th>\n",
              "      <td>-54.5808</td>\n",
              "      <td>0</td>\n",
              "      <td>1</td>\n",
              "      <td>5252</td>\n",
              "      <td>-3.4316</td>\n",
              "      <td>-2.86209</td>\n",
              "      <td>-2.56706</td>\n",
              "      <td>Stationary</td>\n",
              "    </tr>\n",
              "    <tr>\n",
              "      <th>ICICI BANK LTD.</th>\n",
              "      <th>BOM532174</th>\n",
              "      <td>-32.1268</td>\n",
              "      <td>0</td>\n",
              "      <td>5</td>\n",
              "      <td>5247</td>\n",
              "      <td>-3.4316</td>\n",
              "      <td>-2.86209</td>\n",
              "      <td>-2.56706</td>\n",
              "      <td>Stationary</td>\n",
              "    </tr>\n",
              "  </tbody>\n",
              "</table>\n",
              "</div>"
            ],
            "text/plain": [
              "                                               ADF test statistic     p-value  \\\n",
              "Stock Name                          Stock Code                                  \n",
              "SUN PHARMACEUTICAL INDUSTRIES LTD.  BOM524715            -51.4892           0   \n",
              "DIVI'S LABORATORIES LTD.            BOM532488            -13.9231  5.2515e-26   \n",
              "DR.REDDY'S LABORATORIES LTD.        BOM500124            -71.6184           0   \n",
              "HDFC Bank Ltd                       BOM500180            -54.5808           0   \n",
              "ICICI BANK LTD.                     BOM532174            -32.1268           0   \n",
              "\n",
              "                                               # lags used #observations  \\\n",
              "Stock Name                          Stock Code                             \n",
              "SUN PHARMACEUTICAL INDUSTRIES LTD.  BOM524715            1          5251   \n",
              "DIVI'S LABORATORIES LTD.            BOM532488           23          4432   \n",
              "DR.REDDY'S LABORATORIES LTD.        BOM500124            0          5253   \n",
              "HDFC Bank Ltd                       BOM500180            1          5252   \n",
              "ICICI BANK LTD.                     BOM532174            5          5247   \n",
              "\n",
              "                                               critical value (1%)  \\\n",
              "Stock Name                          Stock Code                       \n",
              "SUN PHARMACEUTICAL INDUSTRIES LTD.  BOM524715              -3.4316   \n",
              "DIVI'S LABORATORIES LTD.            BOM532488             -3.43183   \n",
              "DR.REDDY'S LABORATORIES LTD.        BOM500124              -3.4316   \n",
              "HDFC Bank Ltd                       BOM500180              -3.4316   \n",
              "ICICI BANK LTD.                     BOM532174              -3.4316   \n",
              "\n",
              "                                               critical value (5%)  \\\n",
              "Stock Name                          Stock Code                       \n",
              "SUN PHARMACEUTICAL INDUSTRIES LTD.  BOM524715             -2.86209   \n",
              "DIVI'S LABORATORIES LTD.            BOM532488             -2.86219   \n",
              "DR.REDDY'S LABORATORIES LTD.        BOM500124             -2.86209   \n",
              "HDFC Bank Ltd                       BOM500180             -2.86209   \n",
              "ICICI BANK LTD.                     BOM532174             -2.86209   \n",
              "\n",
              "                                               critical value (10%)  \\\n",
              "Stock Name                          Stock Code                        \n",
              "SUN PHARMACEUTICAL INDUSTRIES LTD.  BOM524715              -2.56706   \n",
              "DIVI'S LABORATORIES LTD.            BOM532488              -2.56712   \n",
              "DR.REDDY'S LABORATORIES LTD.        BOM500124              -2.56706   \n",
              "HDFC Bank Ltd                       BOM500180              -2.56706   \n",
              "ICICI BANK LTD.                     BOM532174              -2.56706   \n",
              "\n",
              "                                                    Result  \n",
              "Stock Name                          Stock Code              \n",
              "SUN PHARMACEUTICAL INDUSTRIES LTD.  BOM524715   Stationary  \n",
              "DIVI'S LABORATORIES LTD.            BOM532488   Stationary  \n",
              "DR.REDDY'S LABORATORIES LTD.        BOM500124   Stationary  \n",
              "HDFC Bank Ltd                       BOM500180   Stationary  \n",
              "ICICI BANK LTD.                     BOM532174   Stationary  "
            ]
          },
          "metadata": {
            "tags": []
          },
          "execution_count": 103
        }
      ]
    },
    {
      "cell_type": "markdown",
      "metadata": {
        "id": "IjUQArZOk9Er"
      },
      "source": [
        "### ARIMA for percentage Returns"
      ]
    },
    {
      "cell_type": "code",
      "metadata": {
        "id": "YHfwbLOsk9Et"
      },
      "source": [
        "try:\n",
        "    ArimaModelPricesResults_Returns = pd.read_csv('./Outputs/ArimaModelPricesResults_Returns.csv')\n",
        "except FileNotFoundError:\n",
        "    ArimaModelPricesResults_Returns = pd.DataFrame(columns=['Stationarity', 'Order', 'RMSE', 'MAPE', 'R2', 'Noise', 'Predictions Mean', 'Actual Mean'], index = stocks)"
      ],
      "execution_count": null,
      "outputs": []
    },
    {
      "cell_type": "code",
      "metadata": {
        "id": "6pNukXztlVtq"
      },
      "source": [
        "for stock in stocks:\n",
        "    try:\n",
        "        print(\"Working for Stock {}\".format(stock))\n",
        "        train_data, test_data = TrainTestSplitByDateRange(ScriptWiseData[stock])\n",
        "        feature = 'Stock_Returns'\n",
        "        Order = CalculateAutoArima(stock, train_data, feature, p = 'p Closing Percentage', d = 'd Closing Percentage', q = 'q Closing Percentage')\n",
        "        ARIMA_Model_Generic(StockCode= stock, data = ScriptWiseData, feature = feature, Results=ArimaModelPricesResults_Returns, Order=Order, train_data=train_data, test_data=test_data)\n",
        "    except Exception as e:\n",
        "        print(e)"
      ],
      "execution_count": null,
      "outputs": []
    },
    {
      "cell_type": "code",
      "metadata": {
        "id": "jQTP_BRKMYgB"
      },
      "source": [
        "ArimaModelPricesResults_Returns"
      ],
      "execution_count": null,
      "outputs": []
    },
    {
      "cell_type": "code",
      "metadata": {
        "id": "Fqc10UbCcSBU"
      },
      "source": [
        "ArimaModelPricesResults_Returns.to_csv('./Outputs/ArimaModelPricesResults_Returns.csv')"
      ],
      "execution_count": null,
      "outputs": []
    },
    {
      "cell_type": "code",
      "metadata": {
        "id": "FiZPD4yPMQuz"
      },
      "source": [
        "AutoArimaResults.to_csv('Outputs/AutoArimaResults.csv')"
      ],
      "execution_count": null,
      "outputs": []
    },
    {
      "cell_type": "markdown",
      "metadata": {
        "id": "GL8MHVRhsQEE"
      },
      "source": [
        "#ARIMAX"
      ]
    },
    {
      "cell_type": "markdown",
      "metadata": {
        "id": "hJNPShtN1N-M"
      },
      "source": [
        "### AutoARIMA DataFrame\n"
      ]
    },
    {
      "cell_type": "code",
      "metadata": {
        "id": "vTq4-k9O1N-M"
      },
      "source": [
        "from statsmodels.tsa.arima_model import ARIMA\n",
        "from pmdarima.arima import auto_arima"
      ],
      "execution_count": null,
      "outputs": []
    },
    {
      "cell_type": "code",
      "metadata": {
        "colab": {
          "base_uri": "https://localhost:8080/",
          "height": 526
        },
        "id": "uuCB1enT1N-N",
        "outputId": "ad7d980f-bb92-4dba-8031-d6d418ade439"
      },
      "source": [
        "try:\n",
        "    AutoArimaResultsForArimax = pd.read_csv('./Outputs/AutoArimaResultsForArimax.csv')\n",
        "except FileNotFoundError:\n",
        "    AutoArimaResultsForArimax = pd.DataFrame(columns=['p Closing Values', 'd Closing Values', 'q Closing Values','p N Closing Values', 'd N Closing Values', 'q N Closing Values','p Closing Percentage', 'd Closing Percentage', 'q Closing Percentage'], index = stocks)\n",
        "\n",
        "AutoArimaResultsForArimax"
      ],
      "execution_count": null,
      "outputs": [
        {
          "output_type": "execute_result",
          "data": {
            "text/html": [
              "<div>\n",
              "<style scoped>\n",
              "    .dataframe tbody tr th:only-of-type {\n",
              "        vertical-align: middle;\n",
              "    }\n",
              "\n",
              "    .dataframe tbody tr th {\n",
              "        vertical-align: top;\n",
              "    }\n",
              "\n",
              "    .dataframe thead th {\n",
              "        text-align: right;\n",
              "    }\n",
              "</style>\n",
              "<table border=\"1\" class=\"dataframe\">\n",
              "  <thead>\n",
              "    <tr style=\"text-align: right;\">\n",
              "      <th></th>\n",
              "      <th>p Closing Values</th>\n",
              "      <th>d Closing Values</th>\n",
              "      <th>q Closing Values</th>\n",
              "      <th>p N Closing Values</th>\n",
              "      <th>d N Closing Values</th>\n",
              "      <th>q N Closing Values</th>\n",
              "      <th>p Closing Percentage</th>\n",
              "      <th>d Closing Percentage</th>\n",
              "      <th>q Closing Percentage</th>\n",
              "    </tr>\n",
              "  </thead>\n",
              "  <tbody>\n",
              "    <tr>\n",
              "      <th>BOM524715</th>\n",
              "      <td>NaN</td>\n",
              "      <td>NaN</td>\n",
              "      <td>NaN</td>\n",
              "      <td>NaN</td>\n",
              "      <td>NaN</td>\n",
              "      <td>NaN</td>\n",
              "      <td>NaN</td>\n",
              "      <td>NaN</td>\n",
              "      <td>NaN</td>\n",
              "    </tr>\n",
              "    <tr>\n",
              "      <th>BOM532488</th>\n",
              "      <td>NaN</td>\n",
              "      <td>NaN</td>\n",
              "      <td>NaN</td>\n",
              "      <td>NaN</td>\n",
              "      <td>NaN</td>\n",
              "      <td>NaN</td>\n",
              "      <td>NaN</td>\n",
              "      <td>NaN</td>\n",
              "      <td>NaN</td>\n",
              "    </tr>\n",
              "    <tr>\n",
              "      <th>BOM500124</th>\n",
              "      <td>NaN</td>\n",
              "      <td>NaN</td>\n",
              "      <td>NaN</td>\n",
              "      <td>NaN</td>\n",
              "      <td>NaN</td>\n",
              "      <td>NaN</td>\n",
              "      <td>NaN</td>\n",
              "      <td>NaN</td>\n",
              "      <td>NaN</td>\n",
              "    </tr>\n",
              "    <tr>\n",
              "      <th>BOM500180</th>\n",
              "      <td>NaN</td>\n",
              "      <td>NaN</td>\n",
              "      <td>NaN</td>\n",
              "      <td>NaN</td>\n",
              "      <td>NaN</td>\n",
              "      <td>NaN</td>\n",
              "      <td>NaN</td>\n",
              "      <td>NaN</td>\n",
              "      <td>NaN</td>\n",
              "    </tr>\n",
              "    <tr>\n",
              "      <th>BOM532174</th>\n",
              "      <td>NaN</td>\n",
              "      <td>NaN</td>\n",
              "      <td>NaN</td>\n",
              "      <td>NaN</td>\n",
              "      <td>NaN</td>\n",
              "      <td>NaN</td>\n",
              "      <td>NaN</td>\n",
              "      <td>NaN</td>\n",
              "      <td>NaN</td>\n",
              "    </tr>\n",
              "    <tr>\n",
              "      <th>BOM500247</th>\n",
              "      <td>NaN</td>\n",
              "      <td>NaN</td>\n",
              "      <td>NaN</td>\n",
              "      <td>NaN</td>\n",
              "      <td>NaN</td>\n",
              "      <td>NaN</td>\n",
              "      <td>NaN</td>\n",
              "      <td>NaN</td>\n",
              "      <td>NaN</td>\n",
              "    </tr>\n",
              "    <tr>\n",
              "      <th>BOM500470</th>\n",
              "      <td>NaN</td>\n",
              "      <td>NaN</td>\n",
              "      <td>NaN</td>\n",
              "      <td>NaN</td>\n",
              "      <td>NaN</td>\n",
              "      <td>NaN</td>\n",
              "      <td>NaN</td>\n",
              "      <td>NaN</td>\n",
              "      <td>NaN</td>\n",
              "    </tr>\n",
              "    <tr>\n",
              "      <th>BOM500228</th>\n",
              "      <td>NaN</td>\n",
              "      <td>NaN</td>\n",
              "      <td>NaN</td>\n",
              "      <td>NaN</td>\n",
              "      <td>NaN</td>\n",
              "      <td>NaN</td>\n",
              "      <td>NaN</td>\n",
              "      <td>NaN</td>\n",
              "      <td>NaN</td>\n",
              "    </tr>\n",
              "    <tr>\n",
              "      <th>BOM500440</th>\n",
              "      <td>NaN</td>\n",
              "      <td>NaN</td>\n",
              "      <td>NaN</td>\n",
              "      <td>NaN</td>\n",
              "      <td>NaN</td>\n",
              "      <td>NaN</td>\n",
              "      <td>NaN</td>\n",
              "      <td>NaN</td>\n",
              "      <td>NaN</td>\n",
              "    </tr>\n",
              "    <tr>\n",
              "      <th>BOM532977</th>\n",
              "      <td>NaN</td>\n",
              "      <td>NaN</td>\n",
              "      <td>NaN</td>\n",
              "      <td>NaN</td>\n",
              "      <td>NaN</td>\n",
              "      <td>NaN</td>\n",
              "      <td>NaN</td>\n",
              "      <td>NaN</td>\n",
              "      <td>NaN</td>\n",
              "    </tr>\n",
              "    <tr>\n",
              "      <th>BOM500570</th>\n",
              "      <td>NaN</td>\n",
              "      <td>NaN</td>\n",
              "      <td>NaN</td>\n",
              "      <td>NaN</td>\n",
              "      <td>NaN</td>\n",
              "      <td>NaN</td>\n",
              "      <td>NaN</td>\n",
              "      <td>NaN</td>\n",
              "      <td>NaN</td>\n",
              "    </tr>\n",
              "    <tr>\n",
              "      <th>BOM532500</th>\n",
              "      <td>NaN</td>\n",
              "      <td>NaN</td>\n",
              "      <td>NaN</td>\n",
              "      <td>NaN</td>\n",
              "      <td>NaN</td>\n",
              "      <td>NaN</td>\n",
              "      <td>NaN</td>\n",
              "      <td>NaN</td>\n",
              "      <td>NaN</td>\n",
              "    </tr>\n",
              "    <tr>\n",
              "      <th>BOM500209</th>\n",
              "      <td>NaN</td>\n",
              "      <td>NaN</td>\n",
              "      <td>NaN</td>\n",
              "      <td>NaN</td>\n",
              "      <td>NaN</td>\n",
              "      <td>NaN</td>\n",
              "      <td>NaN</td>\n",
              "      <td>NaN</td>\n",
              "      <td>NaN</td>\n",
              "    </tr>\n",
              "    <tr>\n",
              "      <th>BOM532540</th>\n",
              "      <td>NaN</td>\n",
              "      <td>NaN</td>\n",
              "      <td>NaN</td>\n",
              "      <td>NaN</td>\n",
              "      <td>NaN</td>\n",
              "      <td>NaN</td>\n",
              "      <td>NaN</td>\n",
              "      <td>NaN</td>\n",
              "      <td>NaN</td>\n",
              "    </tr>\n",
              "    <tr>\n",
              "      <th>BOM507685</th>\n",
              "      <td>NaN</td>\n",
              "      <td>NaN</td>\n",
              "      <td>NaN</td>\n",
              "      <td>NaN</td>\n",
              "      <td>NaN</td>\n",
              "      <td>NaN</td>\n",
              "      <td>NaN</td>\n",
              "      <td>NaN</td>\n",
              "      <td>NaN</td>\n",
              "    </tr>\n",
              "  </tbody>\n",
              "</table>\n",
              "</div>"
            ],
            "text/plain": [
              "          p Closing Values d Closing Values q Closing Values  \\\n",
              "BOM524715              NaN              NaN              NaN   \n",
              "BOM532488              NaN              NaN              NaN   \n",
              "BOM500124              NaN              NaN              NaN   \n",
              "BOM500180              NaN              NaN              NaN   \n",
              "BOM532174              NaN              NaN              NaN   \n",
              "BOM500247              NaN              NaN              NaN   \n",
              "BOM500470              NaN              NaN              NaN   \n",
              "BOM500228              NaN              NaN              NaN   \n",
              "BOM500440              NaN              NaN              NaN   \n",
              "BOM532977              NaN              NaN              NaN   \n",
              "BOM500570              NaN              NaN              NaN   \n",
              "BOM532500              NaN              NaN              NaN   \n",
              "BOM500209              NaN              NaN              NaN   \n",
              "BOM532540              NaN              NaN              NaN   \n",
              "BOM507685              NaN              NaN              NaN   \n",
              "\n",
              "          p N Closing Values d N Closing Values q N Closing Values  \\\n",
              "BOM524715                NaN                NaN                NaN   \n",
              "BOM532488                NaN                NaN                NaN   \n",
              "BOM500124                NaN                NaN                NaN   \n",
              "BOM500180                NaN                NaN                NaN   \n",
              "BOM532174                NaN                NaN                NaN   \n",
              "BOM500247                NaN                NaN                NaN   \n",
              "BOM500470                NaN                NaN                NaN   \n",
              "BOM500228                NaN                NaN                NaN   \n",
              "BOM500440                NaN                NaN                NaN   \n",
              "BOM532977                NaN                NaN                NaN   \n",
              "BOM500570                NaN                NaN                NaN   \n",
              "BOM532500                NaN                NaN                NaN   \n",
              "BOM500209                NaN                NaN                NaN   \n",
              "BOM532540                NaN                NaN                NaN   \n",
              "BOM507685                NaN                NaN                NaN   \n",
              "\n",
              "          p Closing Percentage d Closing Percentage q Closing Percentage  \n",
              "BOM524715                  NaN                  NaN                  NaN  \n",
              "BOM532488                  NaN                  NaN                  NaN  \n",
              "BOM500124                  NaN                  NaN                  NaN  \n",
              "BOM500180                  NaN                  NaN                  NaN  \n",
              "BOM532174                  NaN                  NaN                  NaN  \n",
              "BOM500247                  NaN                  NaN                  NaN  \n",
              "BOM500470                  NaN                  NaN                  NaN  \n",
              "BOM500228                  NaN                  NaN                  NaN  \n",
              "BOM500440                  NaN                  NaN                  NaN  \n",
              "BOM532977                  NaN                  NaN                  NaN  \n",
              "BOM500570                  NaN                  NaN                  NaN  \n",
              "BOM532500                  NaN                  NaN                  NaN  \n",
              "BOM500209                  NaN                  NaN                  NaN  \n",
              "BOM532540                  NaN                  NaN                  NaN  \n",
              "BOM507685                  NaN                  NaN                  NaN  "
            ]
          },
          "metadata": {
            "tags": []
          },
          "execution_count": 106
        }
      ]
    },
    {
      "cell_type": "code",
      "metadata": {
        "id": "p3PP86kG1N-O"
      },
      "source": [
        "def CalculateAutoArimaForArimax(stockcode, data, parameter ,p ,d,q):\n",
        "    if(AutoArimaResultsForArimax.loc[:, [p, d, q]].isnull().sum(axis=1)[stockcode] > 0):\n",
        "        params = auto_arima(data[parameter], exog = data[TechnicalIndicators], maxiter = 1000)\n",
        "        AutoArimaResultsForArimax.loc[stockcode, [p,d,q]] = params.order\n",
        "        return params.order\n",
        "    else:\n",
        "        return tuple(AutoArimaResultsForArimax.loc[stockcode, [p, d, q]])"
      ],
      "execution_count": null,
      "outputs": []
    },
    {
      "cell_type": "markdown",
      "metadata": {
        "id": "vKv2_Fh6bpRl"
      },
      "source": [
        "##Generic Function for ARIMAX"
      ]
    },
    {
      "cell_type": "code",
      "metadata": {
        "id": "CmyPVaT8kBA8"
      },
      "source": [
        "def ARIMAX_Model_Generic(StockCode, data, feature, Results, Order, train_data, test_data, extra_indicators):\n",
        "    print(\"Modeling for the Stock: {}\".format(StockCode))\n",
        "\n",
        "    start = len(train_data)\n",
        "    end = len(train_data) + len(test_data) - 1\n",
        "\n",
        "    print(\"ADF Test for the given series.\")\n",
        "    adf, Stationarity = adf_test(train_data[feature], title=StockCode)\n",
        "    print(adf)\n",
        "    print('----------------------------------------------------------------------------')\n",
        "    Results.loc[StockCode,'Stationarity'] = Stationarity\n",
        "\n",
        "    exog_train = train_data[extra_indicators]\n",
        "    model = ARIMA(endog = train_data[feature], exog = exog_train , order = Order)\n",
        "    results = model.fit()\n",
        "    print(results.params)\n",
        "    print(\"Order: \" + str(Order) )\n",
        "    print('---------------------------------------------------------------------------')\n",
        "    Results.loc[StockCode, 'Order'] = str(Order)\n",
        "\n",
        "    exog_test = test_data[extra_indicators]\n",
        "    predictions = results.predict(start = start, end = end, typ ='levels', exog=exog_test)\n",
        "    predictions = modified_prediction_frame(predictions, test_data[feature].index)\n",
        "\n",
        "    predictions.plot(figsize=(12,8), legend=True)\n",
        "    test_data[feature].plot(figsize = (12,8), legend=True)\n",
        "\n",
        "    errorEval = errorEvaluation(test_data[feature], predictions)\n",
        "    RMSE, MAPE, R2, Noise = errorEval\n",
        "    Results.loc[StockCode, ['RMSE', 'MAPE', 'R2', 'Noise']] = errorEval\n",
        "\n",
        "    print(\"RMSE: {0} \\nMape: {1} \\nR2: {2} \\nNoise: {3}\".format(RMSE, MAPE, R2, Noise))\n",
        "    print('---------------------------------------------------------------------------')\n",
        "\n",
        "    print('Description of the Predicted Data')\n",
        "    print(predictions.describe())\n",
        "    pred_mean = predictions.mean(numeric_only=True)\n",
        "    Results.loc[StockCode, 'Predictions Mean'] = str(float(pred_mean))\n",
        "    print('---------------------------------------------------------------------------')\n",
        "\n",
        "    print('Description of the Actual Data')\n",
        "    print(test_data[feature].describe())\n",
        "    Results.loc[StockCode, 'Actual Mean'] = str(test_data[feature].mean())\n",
        "    return predictions"
      ],
      "execution_count": null,
      "outputs": []
    },
    {
      "cell_type": "markdown",
      "metadata": {
        "id": "ybfb39Iqbtas"
      },
      "source": [
        "## ARIMAX for Closing Prices"
      ]
    },
    {
      "cell_type": "code",
      "metadata": {
        "id": "D-JhsYLWnL0a"
      },
      "source": [
        "try:\n",
        "    ArimaxModelPricesResults = pd.read_csv('./Outputs/ArimaxModelPricesResults.csv')\n",
        "except FileNotFoundError:\n",
        "    ArimaxModelPricesResults = pd.DataFrame(columns=['Stationarity', 'Order', 'RMSE', 'MAPE', 'R2', 'Noise', 'Predictions Mean', 'Actual Mean'], index = stocks)"
      ],
      "execution_count": null,
      "outputs": []
    },
    {
      "cell_type": "code",
      "metadata": {
        "id": "oAl_p1ClnL0c"
      },
      "source": [
        "for stock in stocks:\n",
        "    print(\"Working for Stock {}\".format(stock))\n",
        "    train_data, test_data = TrainTestSplitByDateRange(ScriptWiseData[stock])\n",
        "    feature = 'Close'\n",
        "    Order = CalculateAutoArimaForArimax(stock, train_data, feature,  p= 'p Closing Values',d = 'd Closing Values', q = 'q Closing Values')\n",
        "    ARIMAX_Model_Generic(StockCode = stock, data = ScriptWiseData, feature = feature, Results=ArimaxModelPricesResults, Order=Order, train_data=train_data, test_data=test_data,extra_indicators = TechnicalIndicators )"
      ],
      "execution_count": null,
      "outputs": []
    },
    {
      "cell_type": "code",
      "metadata": {
        "id": "wmykvhwKnL0c"
      },
      "source": [
        "ArimaxModelPricesResults.to_csv('./Outputs/ArimaxModelPricesResults.csv')"
      ],
      "execution_count": null,
      "outputs": []
    },
    {
      "cell_type": "code",
      "metadata": {
        "id": "oDWW3QrLCxv4"
      },
      "source": [
        "ArimaxModelPricesResults"
      ],
      "execution_count": null,
      "outputs": []
    },
    {
      "cell_type": "markdown",
      "metadata": {
        "id": "nTOtUdwVZ3OR"
      },
      "source": [
        "## ARIMAX Normalized Closing Prices"
      ]
    },
    {
      "cell_type": "code",
      "metadata": {
        "id": "Sz4eXrsbZ3OS"
      },
      "source": [
        "try:\n",
        "    ArimaxModelPricesResults_Norm = pd.read_csv('./Outputs/ArimaxModelPricesResults_Norm.csv')\n",
        "except FileNotFoundError:\n",
        "    ArimaxModelPricesResults_Norm = pd.DataFrame(columns=['Stationarity', 'Order', 'RMSE', 'MAPE', 'R2','Noise', 'Predictions Mean', 'Actual Mean'], index = stocks)"
      ],
      "execution_count": null,
      "outputs": []
    },
    {
      "cell_type": "code",
      "metadata": {
        "id": "McxcNYPYZ3OS"
      },
      "source": [
        "for stock in stocks:\n",
        "    print(\"Working for Stock {}\".format(stock))\n",
        "    train_data, test_data = TrainTestSplitByDateRange(ScriptWiseData[stock])\n",
        "    feature = 'Normalized Closing'\n",
        "    Order = CalculateAutoArimaForArimax(stock, train_data, feature,'p N Closing Values', 'd N Closing Values', 'q N Closing Values')\n",
        "    ARIMAX_Model_Generic(StockCode= stock, data = ScriptWiseData, feature = feature, Results=ArimaxModelPricesResults_Norm, Order=Order, train_data=train_data, test_data=test_data,extra_indicators = normalized_TechnicalIndicators)"
      ],
      "execution_count": null,
      "outputs": []
    },
    {
      "cell_type": "code",
      "metadata": {
        "id": "ZOB9TO1fZ3OS"
      },
      "source": [
        "ArimaxModelPricesResults_Norm.to_csv('./Outputs/ArimaxModelPricesResults_Norm.csv')"
      ],
      "execution_count": null,
      "outputs": []
    },
    {
      "cell_type": "code",
      "metadata": {
        "id": "RSIJqMclCxv9"
      },
      "source": [
        "ArimaxModelPricesResults_Norm"
      ],
      "execution_count": null,
      "outputs": []
    },
    {
      "cell_type": "markdown",
      "metadata": {
        "id": "IxeY6KUtZ3OT"
      },
      "source": [
        "## ARIMAX Returns"
      ]
    },
    {
      "cell_type": "code",
      "metadata": {
        "id": "w6S6RNGKZ3OT"
      },
      "source": [
        "try:\n",
        "    ArimaxModelPricesResults_Returns = pd.read_csv('./Outputs/ArimaxModelPricesResults_Returns.csv')\n",
        "except FileNotFoundError:\n",
        "    ArimaxModelPricesResults_Returns = pd.DataFrame(columns=['Stationarity', 'Order', 'RMSE', 'MAPE', 'R2', 'Noise', 'Predictions Mean', 'Actual Mean'], index = stocks)\n",
        "    \n"
      ],
      "execution_count": null,
      "outputs": []
    },
    {
      "cell_type": "code",
      "metadata": {
        "id": "essI3iLxZ3OT"
      },
      "source": [
        "for stock in stocks:\n",
        "    try:\n",
        "        print(\"Working for Stock {}\".format(stock))\n",
        "        train_data, test_data = TrainTestSplitByDateRange(ScriptWiseData[stock])\n",
        "        feature = 'Stock_Returns'\n",
        "        Order = CalculateAutoArimaForArimax(stock, train_data, feature, p = 'p Closing Percentage', d = 'd Closing Percentage', q = 'q Closing Percentage')\n",
        "        ARIMAX_Model_Generic(StockCode= stock, data = ScriptWiseData, feature = feature, Results=ArimaxModelPricesResults_Returns, Order=Order, train_data=train_data, test_data=test_data, extra_indicators = TechnicalIndicators)\n",
        "    except Exception as e:\n",
        "        print(e)  "
      ],
      "execution_count": null,
      "outputs": []
    },
    {
      "cell_type": "code",
      "metadata": {
        "id": "Jk_7UD-yZ3OT"
      },
      "source": [
        "ArimaxModelPricesResults_Returns.to_csv('./Outputs/ArimaxModelPricesResults_Returns.csv')"
      ],
      "execution_count": null,
      "outputs": []
    },
    {
      "cell_type": "code",
      "metadata": {
        "id": "OAQ5DDOG1N-O"
      },
      "source": [
        "AutoArimaResultsForArimax.to_csv('./Outputs/AutoArimaResultsForArimax.csv')"
      ],
      "execution_count": null,
      "outputs": []
    },
    {
      "cell_type": "markdown",
      "metadata": {
        "id": "19t4pL_rTNWw"
      },
      "source": [
        "# SARIMAX"
      ]
    },
    {
      "cell_type": "code",
      "metadata": {
        "id": "R0d4ObS8TRjP"
      },
      "source": [
        "from statsmodels.tsa.statespace.sarimax import SARIMAX\n",
        "from statsmodels.tsa.seasonal import seasonal_decompose\n",
        "from pmdarima import auto_arima"
      ],
      "execution_count": null,
      "outputs": []
    },
    {
      "cell_type": "code",
      "metadata": {
        "colab": {
          "base_uri": "https://localhost:8080/"
        },
        "id": "VixFOrYrYYfP",
        "outputId": "7023b5f9-39d2-44a4-a7c0-7431904e1d80"
      },
      "source": [
        "stocks"
      ],
      "execution_count": null,
      "outputs": [
        {
          "output_type": "execute_result",
          "data": {
            "text/plain": [
              "['BOM524715',\n",
              " 'BOM532488',\n",
              " 'BOM500124',\n",
              " 'BOM500180',\n",
              " 'BOM532174',\n",
              " 'BOM500247',\n",
              " 'BOM500470',\n",
              " 'BOM500228',\n",
              " 'BOM500440',\n",
              " 'BOM532977',\n",
              " 'BOM500570',\n",
              " 'BOM532500',\n",
              " 'BOM500209',\n",
              " 'BOM532540',\n",
              " 'BOM507685']"
            ]
          },
          "metadata": {
            "tags": []
          },
          "execution_count": 110
        }
      ]
    },
    {
      "cell_type": "code",
      "metadata": {
        "id": "PDji7Z3RYWMM"
      },
      "source": [
        "test_stock = 'BOM532488'"
      ],
      "execution_count": null,
      "outputs": []
    },
    {
      "cell_type": "code",
      "metadata": {
        "colab": {
          "base_uri": "https://localhost:8080/",
          "height": 515
        },
        "id": "mjPkTVU3XdSy",
        "outputId": "dfe90254-3cd8-494e-d8d9-42a81a979a68"
      },
      "source": [
        "ScriptWiseData[test_stock].Close.plot(figsize = (12,8))"
      ],
      "execution_count": null,
      "outputs": [
        {
          "output_type": "execute_result",
          "data": {
            "text/plain": [
              "<matplotlib.axes._subplots.AxesSubplot at 0x7f1529b50950>"
            ]
          },
          "metadata": {
            "tags": []
          },
          "execution_count": 112
        },
        {
          "output_type": "display_data",
          "data": {
            "image/png": "[encoded data removed]",
            "text/plain": [
              "<Figure size 864x576 with 1 Axes>"
            ]
          },
          "metadata": {
            "tags": [],
            "needs_background": "light"
          }
        }
      ]
    },
    {
      "cell_type": "code",
      "metadata": {
        "id": "04gCkwCzY6Kj"
      },
      "source": [
        "ScriptWiseData[test_stock].index.inferred_freq = 'B'"
      ],
      "execution_count": null,
      "outputs": []
    },
    {
      "cell_type": "code",
      "metadata": {
        "id": "-PGCGU0tj7ju"
      },
      "source": [
        "xxx = ScriptWiseData[test_stock].loc[:\"2005-04-25\"]"
      ],
      "execution_count": null,
      "outputs": []
    },
    {
      "cell_type": "code",
      "metadata": {
        "colab": {
          "base_uri": "https://localhost:8080/"
        },
        "id": "aIQGujBktWZz",
        "outputId": "d43dd705-5dc0-4d46-e127-8fc1e9708348"
      },
      "source": [
        "len(xxx)"
      ],
      "execution_count": null,
      "outputs": [
        {
          "output_type": "execute_result",
          "data": {
            "text/plain": [
              "508"
            ]
          },
          "metadata": {
            "tags": []
          },
          "execution_count": 118
        }
      ]
    },
    {
      "cell_type": "code",
      "metadata": {
        "colab": {
          "base_uri": "https://localhost:8080/",
          "height": 357
        },
        "id": "tbjHoT9EtgD-",
        "outputId": "a639d901-eb1e-406f-fd77-057746ff522f"
      },
      "source": [
        "xxx.tail()"
      ],
      "execution_count": null,
      "outputs": [
        {
          "output_type": "execute_result",
          "data": {
            "text/html": [
              "<div>\n",
              "<style scoped>\n",
              "    .dataframe tbody tr th:only-of-type {\n",
              "        vertical-align: middle;\n",
              "    }\n",
              "\n",
              "    .dataframe tbody tr th {\n",
              "        vertical-align: top;\n",
              "    }\n",
              "\n",
              "    .dataframe thead th {\n",
              "        text-align: right;\n",
              "    }\n",
              "</style>\n",
              "<table border=\"1\" class=\"dataframe\">\n",
              "  <thead>\n",
              "    <tr style=\"text-align: right;\">\n",
              "      <th></th>\n",
              "      <th>Close</th>\n",
              "      <th>RSI</th>\n",
              "      <th>ATR</th>\n",
              "      <th>MACD</th>\n",
              "      <th>adx</th>\n",
              "      <th>OBV</th>\n",
              "      <th>Normalized Closing</th>\n",
              "      <th>Normalized RSI</th>\n",
              "      <th>Normalized ATR</th>\n",
              "      <th>Normalized MACD</th>\n",
              "      <th>Normalized ADX</th>\n",
              "      <th>Normalized OBV</th>\n",
              "      <th>Stock_Returns</th>\n",
              "    </tr>\n",
              "    <tr>\n",
              "      <th>Date</th>\n",
              "      <th></th>\n",
              "      <th></th>\n",
              "      <th></th>\n",
              "      <th></th>\n",
              "      <th></th>\n",
              "      <th></th>\n",
              "      <th></th>\n",
              "      <th></th>\n",
              "      <th></th>\n",
              "      <th></th>\n",
              "      <th></th>\n",
              "      <th></th>\n",
              "      <th></th>\n",
              "    </tr>\n",
              "  </thead>\n",
              "  <tbody>\n",
              "    <tr>\n",
              "      <th>2005-04-19</th>\n",
              "      <td>961.80</td>\n",
              "      <td>0.607406</td>\n",
              "      <td>45.4150</td>\n",
              "      <td>-14.830819</td>\n",
              "      <td>16.282105</td>\n",
              "      <td>13198371.0</td>\n",
              "      <td>369.496735</td>\n",
              "      <td>29.378198</td>\n",
              "      <td>290.423661</td>\n",
              "      <td>-156.110829</td>\n",
              "      <td>27.849634</td>\n",
              "      <td>220.242831</td>\n",
              "      <td>-1.161237</td>\n",
              "    </tr>\n",
              "    <tr>\n",
              "      <th>2005-04-20</th>\n",
              "      <td>958.75</td>\n",
              "      <td>0.596916</td>\n",
              "      <td>46.0525</td>\n",
              "      <td>-17.946053</td>\n",
              "      <td>16.609591</td>\n",
              "      <td>13196274.0</td>\n",
              "      <td>368.325010</td>\n",
              "      <td>28.870844</td>\n",
              "      <td>294.500400</td>\n",
              "      <td>-188.902122</td>\n",
              "      <td>28.409781</td>\n",
              "      <td>220.207838</td>\n",
              "      <td>-0.317114</td>\n",
              "    </tr>\n",
              "    <tr>\n",
              "      <th>2005-04-21</th>\n",
              "      <td>974.80</td>\n",
              "      <td>0.694286</td>\n",
              "      <td>46.1025</td>\n",
              "      <td>-18.901908</td>\n",
              "      <td>16.693450</td>\n",
              "      <td>13198584.0</td>\n",
              "      <td>374.490972</td>\n",
              "      <td>33.580299</td>\n",
              "      <td>294.820144</td>\n",
              "      <td>-198.963557</td>\n",
              "      <td>28.553216</td>\n",
              "      <td>220.246385</td>\n",
              "      <td>1.674055</td>\n",
              "    </tr>\n",
              "    <tr>\n",
              "      <th>2005-04-22</th>\n",
              "      <td>980.25</td>\n",
              "      <td>0.729711</td>\n",
              "      <td>44.2350</td>\n",
              "      <td>-19.000633</td>\n",
              "      <td>16.456665</td>\n",
              "      <td>13200624.0</td>\n",
              "      <td>376.584710</td>\n",
              "      <td>35.293686</td>\n",
              "      <td>282.877698</td>\n",
              "      <td>-200.002747</td>\n",
              "      <td>28.148209</td>\n",
              "      <td>220.280427</td>\n",
              "      <td>0.559089</td>\n",
              "    </tr>\n",
              "    <tr>\n",
              "      <th>2005-04-25</th>\n",
              "      <td>984.55</td>\n",
              "      <td>0.759657</td>\n",
              "      <td>44.2600</td>\n",
              "      <td>-18.518430</td>\n",
              "      <td>15.340207</td>\n",
              "      <td>13211339.0</td>\n",
              "      <td>378.236650</td>\n",
              "      <td>36.742093</td>\n",
              "      <td>283.037570</td>\n",
              "      <td>-194.927028</td>\n",
              "      <td>26.238569</td>\n",
              "      <td>220.459230</td>\n",
              "      <td>0.438664</td>\n",
              "    </tr>\n",
              "  </tbody>\n",
              "</table>\n",
              "</div>"
            ],
            "text/plain": [
              "             Close       RSI      ATR       MACD        adx         OBV  \\\n",
              "Date                                                                      \n",
              "2005-04-19  961.80  0.607406  45.4150 -14.830819  16.282105  13198371.0   \n",
              "2005-04-20  958.75  0.596916  46.0525 -17.946053  16.609591  13196274.0   \n",
              "2005-04-21  974.80  0.694286  46.1025 -18.901908  16.693450  13198584.0   \n",
              "2005-04-22  980.25  0.729711  44.2350 -19.000633  16.456665  13200624.0   \n",
              "2005-04-25  984.55  0.759657  44.2600 -18.518430  15.340207  13211339.0   \n",
              "\n",
              "            Normalized Closing  Normalized RSI  Normalized ATR  \\\n",
              "Date                                                             \n",
              "2005-04-19          369.496735       29.378198      290.423661   \n",
              "2005-04-20          368.325010       28.870844      294.500400   \n",
              "2005-04-21          374.490972       33.580299      294.820144   \n",
              "2005-04-22          376.584710       35.293686      282.877698   \n",
              "2005-04-25          378.236650       36.742093      283.037570   \n",
              "\n",
              "            Normalized MACD  Normalized ADX  Normalized OBV  Stock_Returns  \n",
              "Date                                                                        \n",
              "2005-04-19      -156.110829       27.849634      220.242831      -1.161237  \n",
              "2005-04-20      -188.902122       28.409781      220.207838      -0.317114  \n",
              "2005-04-21      -198.963557       28.553216      220.246385       1.674055  \n",
              "2005-04-22      -200.002747       28.148209      220.280427       0.559089  \n",
              "2005-04-25      -194.927028       26.238569      220.459230       0.438664  "
            ]
          },
          "metadata": {
            "tags": []
          },
          "execution_count": 119
        }
      ]
    },
    {
      "cell_type": "code",
      "metadata": {
        "id": "g74DnhbAk8g4"
      },
      "source": [
        "xxx.index.inferred_freq = 'B'"
      ],
      "execution_count": null,
      "outputs": []
    },
    {
      "cell_type": "code",
      "metadata": {
        "colab": {
          "base_uri": "https://localhost:8080/",
          "height": 515
        },
        "id": "Vg5WjKk9lXZv",
        "outputId": "5f527da0-5f77-4d4a-f4b6-0f0ec3ae4d20"
      },
      "source": [
        "xxx.Close.plot(figsize = (12,8))"
      ],
      "execution_count": null,
      "outputs": [
        {
          "output_type": "execute_result",
          "data": {
            "text/plain": [
              "<matplotlib.axes._subplots.AxesSubplot at 0x7f151f26af90>"
            ]
          },
          "metadata": {
            "tags": []
          },
          "execution_count": 121
        },
        {
          "output_type": "display_data",
          "data": {
            "image/png": "[encoded data removed]",
            "text/plain": [
              "<Figure size 864x576 with 1 Axes>"
            ]
          },
          "metadata": {
            "tags": [],
            "needs_background": "light"
          }
        }
      ]
    },
    {
      "cell_type": "code",
      "metadata": {
        "id": "SpEAH-p1T_Sl"
      },
      "source": [
        "r = seasonal_decompose(xxx.Close, model = 'add')"
      ],
      "execution_count": null,
      "outputs": []
    },
    {
      "cell_type": "code",
      "metadata": {
        "colab": {
          "base_uri": "https://localhost:8080/",
          "height": 297
        },
        "id": "ZAahwjSyT_OB",
        "outputId": "651aafe8-d4ca-4ccd-8068-cba76ea3dd82"
      },
      "source": [
        "r.plot();"
      ],
      "execution_count": null,
      "outputs": [
        {
          "output_type": "display_data",
          "data": {
            "image/png": "[encoded data removed]",
            "text/plain": [
              "<Figure size 432x288 with 4 Axes>"
            ]
          },
          "metadata": {
            "tags": [],
            "needs_background": "light"
          }
        }
      ]
    },
    {
      "cell_type": "code",
      "metadata": {
        "colab": {
          "base_uri": "https://localhost:8080/"
        },
        "id": "JbmCGwIhT_KP",
        "outputId": "e54f2d90-000e-404d-b97e-b73dc5033b2e"
      },
      "source": [
        "auto_arima(xxx.Close, seasonal=True, m=254,trace=True).summary()"
      ],
      "execution_count": null,
      "outputs": [
        {
          "output_type": "stream",
          "text": [
            "Performing stepwise search to minimize aic\n",
            " ARIMA(2,1,2)(1,0,1)[254] intercept   : AIC=inf, Time=879.00 sec\n",
            " ARIMA(0,1,0)(0,0,0)[254] intercept   : AIC=5084.089, Time=0.03 sec\n",
            " ARIMA(1,1,0)(1,0,0)[254] intercept   : AIC=5085.846, Time=63.26 sec\n"
          ],
          "name": "stdout"
        }
      ]
    },
    {
      "cell_type": "markdown",
      "metadata": {
        "id": "f-TS4Gqrfx-4"
      },
      "source": [
        "# Auto Arima for SARIMAX"
      ]
    },
    {
      "cell_type": "code",
      "metadata": {
        "id": "BMeNgUFGfwTR"
      },
      "source": [
        "try:\n",
        "    AutoArimaResultsForSarimaxClosing = pd.read_csv('./Outputs/AutoArimaResultsForSarimaxClosing.csv')\n",
        "except FileNotFoundError:\n",
        "    AutoArimaResultsForSarimaxClosing = pd.DataFrame(columns=['p AR', 'd AR', 'q AR','P Seasonal', 'D Seasonal', 'Q Seasonal','M Seasonal'], index = stocks)\n",
        "\n",
        "AutoArimaResultsForSarimaxClosing"
      ],
      "execution_count": null,
      "outputs": []
    },
    {
      "cell_type": "markdown",
      "metadata": {
        "id": "7oHmp7drTSHL"
      },
      "source": [
        "# Tavish Code Ends -----------------------------------------"
      ]
    },
    {
      "cell_type": "markdown",
      "metadata": {
        "id": "pizKyOeWsQEM"
      },
      "source": [
        "# SARIMAX MODEL"
      ]
    },
    {
      "cell_type": "code",
      "metadata": {
        "id": "nxyBhFx4sQEN"
      },
      "source": [
        "def SARIMAXProcedure(stockCode):\n",
        "    # decompose\n",
        "    data = ScriptWiseData  [stockCode]\n",
        "    data.index = pd.to_datetime(data.index)\n",
        "    data=data.asfreq('b')\n",
        "    data = data.fillna(method='ffill')\n",
        "    decompose_result = seasonal_decompose(data['Close'], model='add')\n",
        "    \n",
        "    r = auto_arima(data['Close'], exogenous=data[TechnicalIndicators], maxiter=1000) #seasonality, m parameters pending\n",
        "    p, d, q = r.order # define for P, D, Q, S\n",
        "        \n",
        "    train, test = TrainTestSplitByDateRange(data)\n",
        "    \n",
        "    model = SARIMAX(train['Close'], exog = train[TechnicalIndicators] ,order = (p, d, q), seasonal_order = (1,1,1,2), enforce_invertibility = False)\n",
        "    results = model.fit()\n",
        "    predictions = results.predict(start_date, end_date, exog=test[TechnicalIndicators]).rename('SARIMA')\n",
        "    \n",
        "    return decompose_result, results, predictions"
      ],
      "execution_count": null,
      "outputs": []
    },
    {
      "cell_type": "code",
      "metadata": {
        "id": "2TguUxOKsQEO"
      },
      "source": [
        "decompose_result, model, predictions = SARIMAXProcedure(stocks[2])"
      ],
      "execution_count": null,
      "outputs": []
    },
    {
      "cell_type": "markdown",
      "metadata": {
        "id": "ZXAkQSfXsQEQ"
      },
      "source": [
        "### VARMAX MODEL"
      ]
    },
    {
      "cell_type": "code",
      "metadata": {
        "id": "YkcEicyncV81"
      },
      "source": [
        "ScriptWiseData[stocks[0]]"
      ],
      "execution_count": null,
      "outputs": []
    },
    {
      "cell_type": "code",
      "metadata": {
        "id": "QbgXCdXYsQES"
      },
      "source": [
        "# Train and fit varmax model\n",
        "def VARMAXProcedure(stockSymbol):\n",
        "    data = ScriptWiseData[stockSymbol]\n",
        "    data.index = pd.to_datetime(data.index)\n",
        "    data=data.asfreq('D')\n",
        "    data = data.fillna(method='ffill')\n",
        "    data = data[['Close']+TechnicalIndicators]\n",
        "    r = auto_arima(data['Close'], exogenous=data[TechnicalIndicators], maxiter=1000) #seasonality, m parameters pending\n",
        "    p, d, q = r.order\n",
        "    if(p==0 and d==0):\n",
        "      p = 1\n",
        "    # make data stationary based on auto arima output\n",
        "    # data_transformed = DifferenceToMakeStationary(data, d)\n",
        "    \n",
        "    # train test split  \n",
        "    train, test = TrainTestSplitByDateRange(data)\n",
        "    \n",
        "    # fit the model based on above parameters\n",
        "    model = VARMAX(train, order=(p,q))\n",
        "    results = model.fit(maxiter=1000, disp=False)\n",
        "    forecasts = results.forecast(len(test))\n",
        "    \n",
        "    #     forecasts = InvertDifferencingForActualResults()\n",
        "    return results, forecasts, test"
      ],
      "execution_count": null,
      "outputs": []
    },
    {
      "cell_type": "code",
      "metadata": {
        "id": "VUHzF1DPsQEU"
      },
      "source": [
        "import datetime\n",
        "try:\n",
        "    VarmaxResults = pd.read_csv('./Outputs/VarmaxResults.csv')\n",
        "except FileNotFoundError:\n",
        "    VarmaxResults = pd.DataFrame(columns = ['StockName','MAE','MAPE', 'RMSE', 'AdjustedR2', 'Noise', 'Model'], index = stocks)\n",
        "    \n",
        "for s in stocks:\n",
        "    print(getStockNameFromStockCode(s))\n",
        "    try:\n",
        "        print(datetime.datetime.now())\n",
        "        if(np.isnan(VarmaxResults.loc[s, 'MAE'])):\n",
        "            model, forecasts, test = VARMAXProcedure(s)\n",
        "            print(f'Model Complete for {getStockNameFromStockCode(s)}')\n",
        "            VarmaxResults.loc[s, ['Model']] =  model\n",
        "            VarmaxResults.loc[s, ['StockName']] =  getStockNameFromStockCode(s)\n",
        "            VarmaxResults.loc[s, ['MAE']] =  mean_absolute_error(forecasts.Close, test.Close)\n",
        "            VarmaxResults.loc[s, ['RMSE']] = mean_squared_error(forecasts.Close, test.Close, squared=False)\n",
        "            VarmaxResults.loc[s, ['MAPE']] = mean_absolute_percentage_error(forecasts.Close, test.Close)\n",
        "            VarmaxResults.loc[s, ['AdjustedR2']] = r2_score(forecasts.Close, test.Close)\n",
        "            VarmaxResults.loc[s, ['Noise']] = forecasts.Close.diff().abs().mean()\n",
        "            VarmaxResults.to_csv('./Outputs/VarmaxResults.csv')\n",
        "            print('Success')\n",
        "        else:\n",
        "            print('Already exists')\n",
        "        print(datetime.datetime.now())\n",
        "    except:\n",
        "        print(f\"Error Occured {getStockNameFromStockCode(s)}\", sys.exc_info())"
      ],
      "execution_count": null,
      "outputs": []
    },
    {
      "cell_type": "markdown",
      "metadata": {
        "id": "1UaFn7irsQEU"
      },
      "source": [
        "## Prophet models"
      ]
    },
    {
      "cell_type": "code",
      "metadata": {
        "id": "g_H7mhX2sQEV"
      },
      "source": [
        "from fbprophet.diagnostics import cross_validation, performance_metrics\n",
        "from fbprophet.plot import plot_cross_validation_metric\n",
        "\n",
        "df_start_date = pd.to_datetime(start_date)\n",
        "df_end_date = pd.to_datetime(end_date)"
      ],
      "execution_count": null,
      "outputs": []
    },
    {
      "cell_type": "code",
      "metadata": {
        "id": "4C7KesBmySj2"
      },
      "source": [
        "def ProphetProcedure(stockCode, start_date = start_date, end_date = end_date):\n",
        "    df = ScriptWiseData[stockCode][['Close']]\n",
        "    df.index = pd.to_datetime(df.index)\n",
        "    df = df.reset_index()\n",
        "    \n",
        "    df.columns = ['ds', 'y']\n",
        "    \n",
        "    test_start_date = pd.to_datetime(start_date)\n",
        "    test_end_date = pd.to_datetime(end_date)\n",
        "    \n",
        "    train = df.loc[df.ds<df_start_date]\n",
        "    test = df.loc[df.ds>=df_start_date]\n",
        "    m = Prophet()\n",
        "\n",
        "    m.fit(train)\n",
        "    future = m.make_future_dataframe(periods = len(test)-1, freq = \"B\")\n",
        "#     test_t = test.set_index('ds')\n",
        "#     future = future.set_index('ds')\n",
        "#     future = test_t[].join(future).reset_index()\n",
        "    forecast = m.predict(future)\n",
        "    \n",
        "        # initial\n",
        "    initial = str(5*365)+' days'\n",
        "\n",
        "    #period\n",
        "    period = str(365)+' days'\n",
        "\n",
        "    #horizon\n",
        "    horizon = str(365) + ' days'\n",
        "    df_cv = cross_validation(m, initial = initial, period = period, horizon = horizon)\n",
        "    \n",
        "    return m, forecast, df_cv"
      ],
      "execution_count": null,
      "outputs": []
    },
    {
      "cell_type": "code",
      "metadata": {
        "id": "BF9hJKuPsQEW"
      },
      "source": [
        "def ProphetProcedureWithExogenousVariables(stockCode, start_date = start_date, end_date = end_date):\n",
        "    df = ScriptWiseData[stockCode][['Close']+TechnicalIndicators]\n",
        "    df.index = pd.to_datetime(df.index)\n",
        "    df = df.reset_index()\n",
        "    \n",
        "    df.columns = ['ds', 'y'] + TechnicalIndicators\n",
        "    \n",
        "    test_start_date = pd.to_datetime(start_date)\n",
        "    test_end_date = pd.to_datetime(end_date)\n",
        "    \n",
        "    train = df.loc[df.ds<df_start_date]\n",
        "    test = df.loc[df.ds>=df_start_date]\n",
        "#     return df, 1\n",
        "    m = Prophet()\n",
        "    for t in TechnicalIndicators:\n",
        "        m.add_regressor(t)\n",
        "    m.fit(train)\n",
        "    future = m.make_future_dataframe(periods = len(test)-1, freq = \"B\")\n",
        "    test_t = test.set_index('ds')\n",
        "    future = future.set_index('ds')\n",
        "    future = test_t[TechnicalIndicators].join(future).reset_index()\n",
        "    forecast = m.predict(future)\n",
        "    \n",
        "        # initial\n",
        "    initial = str(5*365)+' days'\n",
        "\n",
        "    #period\n",
        "    period = str(365)+' days'\n",
        "\n",
        "    #horizon\n",
        "    horizon = str(365) + ' days'\n",
        "    df_cv = cross_validation(m, initial = initial, period = period, horizon = horizon)\n",
        "    \n",
        "    return m, forecast, df_cv"
      ],
      "execution_count": null,
      "outputs": []
    },
    {
      "cell_type": "code",
      "metadata": {
        "id": "abgGChmWySj3"
      },
      "source": [
        "# Hyper parameter tuning\n",
        "# param_grid = {  \n",
        "#     'changepoint_prior_scale': [0.001, 0.01, 0.1, 0.5],\n",
        "#     'seasonality_prior_scale': [0.01, 0.1, 1.0, 10.0],\n",
        "# }\n",
        "\n",
        "# # Generate all combinations of parameters\n",
        "# all_params = [dict(zip(param_grid.keys(), v)) for v in itertools.product(*param_grid.values())]\n",
        "# rmses = []  # Store the RMSEs for each params here\n",
        "\n",
        "# # Use cross validation to evaluate all parameters\n",
        "# for params in all_params:\n",
        "#     m = Prophet(**params).fit(df)  # Fit model with given params\n",
        "#     df_cv = cross_validation(m, cutoffs=cutoffs, horizon='30 days', parallel=\"processes\")\n",
        "#     df_p = performance_metrics(df_cv, rolling_window=1)\n",
        "#     rmses.append(df_p['rmse'].values[0])\n",
        "\n",
        "# # Find the best parameters\n",
        "# tuning_results = pd.DataFrame(all_params)\n",
        "# tuning_results['rmse'] = rmses\n",
        "# print(tuning_results)"
      ],
      "execution_count": null,
      "outputs": []
    },
    {
      "cell_type": "code",
      "metadata": {
        "id": "iZQ7DRbWCxwK"
      },
      "source": [
        "try:\n",
        "    ProphetSingleRegressionResults = pd.read_csv('./Outputs/ProphetSingleRegressionResults.csv')\n",
        "except FileNotFoundError:\n",
        "    ProphetSingleRegressionResults = pd.DataFrame(columns = ['StockName','MAE','MAPE', 'RMSE', 'AdjustedR2', 'Noise'], index = stocks)\n",
        "    "
      ],
      "execution_count": null,
      "outputs": []
    },
    {
      "cell_type": "code",
      "metadata": {
        "id": "zK5q6e0vySj3"
      },
      "source": [
        "# initalize result variable\n",
        "for s in stocks:\n",
        "    print(s)\n",
        "    try:\n",
        "        m, forecast, df_cv = ProphetProcedure(s)\n",
        "        val_metrics = performance_metrics(df_cv)\n",
        "        ProphetSingleRegressionResults.loc[s, ['StockName']] =  getStockNameFromStockCode(s)\n",
        "        ProphetSingleRegressionResults.loc[s, ['MAE']] =  val_metrics['mae'][0]\n",
        "        ProphetSingleRegressionResults.loc[s, ['RMSE']] = np.sqrt(val_metrics['mse'][0])\n",
        "        t = df_cv.dropna()\n",
        "        ProphetSingleRegressionResults.loc[s, ['MAPE']] = mean_absolute_percentage_error(t.y, t.yhat)\n",
        "        ProphetSingleRegressionResults.loc[s, ['AdjustedR2']] = r2_score(t.y, t.yhat)\n",
        "        ProphetSingleRegressionResults.loc[s, ['Noise']] = t.yhat.diff().abs().mean()\n",
        "        print('Success')\n",
        "    except:\n",
        "        print(\"Error Occured\", sys.exc_info())\n",
        "        \n",
        "ProphetSingleRegressionResults.to_csv('./Outputs/ProphetSingleRegressionResults.csv')"
      ],
      "execution_count": null,
      "outputs": []
    },
    {
      "cell_type": "code",
      "metadata": {
        "id": "DmZ1UfXQCxwL"
      },
      "source": [
        "try:\n",
        "    ProphetMultipleRegressionResults = pd.read_csv('./Outputs/ProphetMultipleRegressionResults.csv')\n",
        "except FileNotFoundError:\n",
        "    ProphetMultipleRegressionResults = pd.DataFrame(columns = ['StockName','MAE','MAPE', 'RMSE', 'AdjustedR2', 'Noise'], index = stocks)\n",
        "    "
      ],
      "execution_count": null,
      "outputs": []
    },
    {
      "cell_type": "code",
      "metadata": {
        "id": "03-gyoVE4U3b"
      },
      "source": [
        "# initalize result variable\n",
        "\n",
        "for s in stocks:\n",
        "    print(s)\n",
        "    # try:\n",
        "    m, forecast, df_cv = ProphetProcedureWithExogenousVariables(s)\n",
        "    val_metrics = performance_metrics(df_cv)\n",
        "    ProphetMultipleRegressionResults.loc[s, ['StockName']] =  getStockNameFromStockCode(s)\n",
        "    ProphetMultipleRegressionResults.loc[s, ['MAE']] =  val_metrics['mae'][0]\n",
        "    ProphetMultipleRegressionResults.loc[s, ['RMSE']] = np.sqrt(val_metrics['mse'][0])\n",
        "    t = df_cv.dropna()\n",
        "    ProphetMultipleRegressionResults.loc[s, ['MAPE']] = mean_absolute_percentage_error(t.y, t.yhat)\n",
        "    ProphetMultipleRegressionResults.loc[s, ['AdjustedR2']] = r2_score(t.y, t.yhat)\n",
        "    ProphetMultipleRegressionResults.loc[s, ['Noise']] = t.yhat.diff().abs().mean()\n",
        "    print('Success')\n",
        "    # except:\n",
        "    #     print(\"Error Occured\", sys.exc_info())\n",
        "        \n",
        "ProphetMultipleRegressionResults.to_csv('./Outputs/ProphetMultipleRegressionResults.csv')"
      ],
      "execution_count": null,
      "outputs": []
    },
    {
      "cell_type": "code",
      "metadata": {
        "id": "K9_j1T4gsQEX"
      },
      "source": [
        "# for plotting\n",
        "df = ScriptWiseData[stocks[1]]\n",
        "df.index = pd.to_datetime(df.index)\n",
        "df = df.reset_index()\n",
        "df.columns = ['ds', 'y'] + TechnicalIndicators"
      ],
      "execution_count": null,
      "outputs": []
    },
    {
      "cell_type": "code",
      "metadata": {
        "id": "IANNH2vFySj4"
      },
      "source": [
        "results = performance_metrics(df_cv)\n",
        "results.head(2)"
      ],
      "execution_count": null,
      "outputs": []
    },
    {
      "cell_type": "code",
      "metadata": {
        "id": "EPn7yuFdsQEY"
      },
      "source": [
        "m.plot_components(forecast);"
      ],
      "execution_count": null,
      "outputs": []
    },
    {
      "cell_type": "code",
      "metadata": {
        "id": "Gox2oG3esQEa"
      },
      "source": [
        "ax = forecast.plot(x='ds',y='yhat',label='Predictions',legend=True,figsize=(12,8))\n",
        "\n",
        "df.plot(x='ds',y='y',label='Actual Price',legend=True,ax=ax) #,xlim=(df_start_date,df_end_date))"
      ],
      "execution_count": null,
      "outputs": []
    },
    {
      "cell_type": "code",
      "metadata": {
        "id": "mE7wTtvhsQEc"
      },
      "source": [
        ""
      ],
      "execution_count": null,
      "outputs": []
    },
    {
      "cell_type": "code",
      "metadata": {
        "id": "1f8LM00WsQEe"
      },
      "source": [
        "plot_cross_validation_metric(df_cv, metric='rmse');"
      ],
      "execution_count": null,
      "outputs": []
    },
    {
      "cell_type": "markdown",
      "metadata": {
        "id": "JR3DmOZ4sQEf"
      },
      "source": [
        "## Neural Prophet and AR-Net"
      ]
    },
    {
      "cell_type": "code",
      "metadata": {
        "id": "BVeij9D7sQEg"
      },
      "source": [
        "from neuralprophet import NeuralProphet, set_random_seed , set_log_level\n",
        "set_random_seed(0)\n",
        "set_log_level(\"ERROR\")"
      ],
      "execution_count": null,
      "outputs": []
    },
    {
      "cell_type": "code",
      "metadata": {
        "id": "unpLeFwSsQEg"
      },
      "source": [
        "df = ScriptWiseData['BOM500180'].reset_index()\n",
        "df = df[['Date', 'Close']]\n",
        "df.columns = ['ds', 'y']\n",
        "df.head()"
      ],
      "execution_count": null,
      "outputs": []
    },
    {
      "cell_type": "markdown",
      "metadata": {
        "id": "7crbHcAmsQEh"
      },
      "source": [
        "### Basic Model"
      ]
    },
    {
      "cell_type": "code",
      "metadata": {
        "id": "5UOQd_aAsQEi"
      },
      "source": [
        "def BuildNeuralProphetModels(dataset, start_date = start_date, end_date = end_date, n_forecasts = 1, n_lags = 5, columnName = 'Close'):\n",
        "    # prepare the dataset\n",
        "    df = dataset.reset_index()\n",
        "    df = df[['Date', columnName]]\n",
        "    df.columns = ['ds', 'y']\n",
        "    \n",
        "    # train test splilt\n",
        "    train = df.loc[(df['ds'] < start_date)]\n",
        "    df_test = df.loc[(df['ds'] >= start_date) & (df['ds'] <= end_date)]\n",
        "    \n",
        "    # initalize the model\n",
        "    m = NeuralProphet(n_forecasts=n_forecasts,n_lags=n_lags)\n",
        "    \n",
        "    # split the training set into train and validation set\n",
        "    df_train, df_val = m.split_df(train, valid_p=0.2, freq='D')\n",
        "\n",
        "    # fit and test the model\n",
        "    train_metrics = m.fit(df_train, freq='D', progress_bar = False)\n",
        "    val_metrics = m.test(df_val)\n",
        "    \n",
        "    # make forecasts\n",
        "    future = m.make_future_dataframe(df_test, periods=len(df_test), n_historic_predictions=len(df_test))\n",
        "#     future = m.make_future_dataframe(df_test, n_historic_predictions= True)\n",
        "    forecast = m.predict(future)\n",
        "    return (m, forecast,  train_metrics, val_metrics)"
      ],
      "execution_count": null,
      "outputs": []
    },
    {
      "cell_type": "code",
      "metadata": {
        "id": "HFRo2vnvySj8"
      },
      "source": [
        "try:\n",
        "    NPSingleRegressionResults = pd.read_csv('./Outputs/NeuralProphetSingleRegressionResults.csv')\n",
        "except FileNotFoundError:\n",
        "    NPSingleRegressionResults = pd.DataFrame(columns = ['StockName','MAE','MAPE', 'RMSE', 'AdjustedR2', 'Noise'], index = stocks)"
      ],
      "execution_count": null,
      "outputs": []
    },
    {
      "cell_type": "code",
      "metadata": {
        "id": "iFMxZrpdsQEj",
        "scrolled": true
      },
      "source": [
        "# initalize result variable\n",
        "for s in stocks:\n",
        "    print(s)\n",
        "    try:\n",
        "        m, forecast , train_metrics, val_metrics = BuildNeuralProphetModels(ScriptWiseData[s])\n",
        "        NPSingleRegressionResults.loc[s, ['StockName']] =  getStockNameFromStockCode(s)\n",
        "        NPSingleRegressionResults.loc[s, ['MAE']] =  val_metrics['MAE'][0]\n",
        "        NPSingleRegressionResults.loc[s, ['RMSE']] = np.sqrt(val_metrics['MSE'][0])\n",
        "        t = forecast.dropna()\n",
        "        NPSingleRegressionResults.loc[s, ['MAPE']] = mean_absolute_percentage_error(t.y, t.yhat1)\n",
        "        NPSingleRegressionResults.loc[s, ['AdjustedR2']] = r2_score(t.y, t.yhat1)\n",
        "        NPSingleRegressionResults.loc[s, ['Noise']] = t.yhat1.diff().abs().mean()\n",
        "        print('Success')\n",
        "    except:\n",
        "        print(\"Error Occured\")\n",
        "        \n",
        "NPSingleRegressionResults.to_csv('./Outputs/NeuralProphetSingleRegressionResults.csv')"
      ],
      "execution_count": null,
      "outputs": []
    },
    {
      "cell_type": "code",
      "metadata": {
        "id": "fVPgEvwpySj9"
      },
      "source": [
        "NPSingleRegressionResults"
      ],
      "execution_count": null,
      "outputs": []
    },
    {
      "cell_type": "markdown",
      "metadata": {
        "id": "-gFYa-NAsQEk"
      },
      "source": [
        "#### Plot the forecast"
      ]
    },
    {
      "cell_type": "code",
      "metadata": {
        "id": "AnvjUMdgsQEl"
      },
      "source": [
        "# forecasts_plot = m.plot(forecast)"
      ],
      "execution_count": null,
      "outputs": []
    },
    {
      "cell_type": "code",
      "metadata": {
        "id": "68PEOkGOsQEm"
      },
      "source": [
        "# fig_comp = m.plot_components(forecast);"
      ],
      "execution_count": null,
      "outputs": []
    },
    {
      "cell_type": "code",
      "metadata": {
        "id": "yAJ_OsqssQEn"
      },
      "source": [
        "# fig_param = m.plot_parameters()"
      ],
      "execution_count": null,
      "outputs": []
    },
    {
      "cell_type": "markdown",
      "metadata": {
        "id": "Vnn3hoFAsQEn"
      },
      "source": [
        "#### Validating the dataset"
      ]
    },
    {
      "cell_type": "code",
      "metadata": {
        "id": "Ex3Z1xDIsQEo"
      },
      "source": [
        "# m = NeuralProphet()\n",
        "# df_train, df_val = m.split_df(df, valid_p=0.2, freq='D')"
      ],
      "execution_count": null,
      "outputs": []
    },
    {
      "cell_type": "code",
      "metadata": {
        "id": "PC67AMB6sQEp"
      },
      "source": [
        "# train_metrics = m.fit(df_train, freq='D')\n",
        "# val_metrics = m.test(df_val)"
      ],
      "execution_count": null,
      "outputs": []
    },
    {
      "cell_type": "markdown",
      "metadata": {
        "id": "Fw9UprMlsQEq"
      },
      "source": [
        "## Multiple regressors"
      ]
    },
    {
      "cell_type": "code",
      "metadata": {
        "id": "IxsXDTejsQEr"
      },
      "source": [
        "def BuildNeuralProphetModelsWithMultipleRegressors(dataset, start_date = start_date, end_date = end_date, n_forecasts = 1, n_lags = 5):\n",
        "    # prepare the dataset\n",
        "    df = dataset.reset_index()\n",
        "    df = df[['Date', 'Close']+TechnicalIndicators]\n",
        "    df.columns = ['ds', 'y', 'A', 'B', 'C', 'D', 'E']\n",
        "    \n",
        "    # train test splilt\n",
        "    train = df.loc[(df['ds'] < start_date)]\n",
        "    df_test = df.loc[(df['ds'] >= start_date) & (df['ds'] <= end_date)]\n",
        "    \n",
        "    # initalize the model\n",
        "    m = NeuralProphet(n_forecasts=n_forecasts,n_lags=n_lags)\n",
        "    # lagged regressors\n",
        "    m.add_lagged_regressor(name='A')\n",
        "    m.add_lagged_regressor(name='B')\n",
        "    m.add_lagged_regressor(name='C')\n",
        "    m.add_lagged_regressor(name='D')\n",
        "    m.add_lagged_regressor(name='E')\n",
        "    \n",
        "    # split the training set into train and validation set\n",
        "    df_train, df_val = m.split_df(train, valid_p=0.2, freq='D')\n",
        "\n",
        "    # fit and test the model\n",
        "    train_metrics = m.fit(df_train, freq='D',progress_bar = False)\n",
        "    val_metrics = m.test(df_val)\n",
        "    \n",
        "    # make forecasts\n",
        "    # future = m.make_future_dataframe(df_test, periods=len(df_test), n_historic_predictions=len(df_test))\n",
        "    future = m.make_future_dataframe(df_test, n_historic_predictions= True)\n",
        "    forecast = m.predict(future)\n",
        "    return (m, forecast,  train_metrics, val_metrics)"
      ],
      "execution_count": null,
      "outputs": []
    },
    {
      "cell_type": "code",
      "metadata": {
        "id": "JgAWkgGaySj_"
      },
      "source": [
        "try:\n",
        "    NPExogenousRegressionResults = pd.read_csv('./Outputs/NeuralProphetRegressionWithExogenousVariablesResults.csv')\n",
        "except FileNotFoundError:\n",
        "    NPExogenousRegressionResults = pd.DataFrame(columns = ['StockName','MAE','MAPE', 'RMSE', 'AdjustedR2', 'Noise'], index = stocks)"
      ],
      "execution_count": null,
      "outputs": []
    },
    {
      "cell_type": "code",
      "metadata": {
        "id": "Urm0uHp-ySkA",
        "scrolled": true
      },
      "source": [
        "# initalize result variable\n",
        "NPExogenousRegressionResults = pd.DataFrame(columns = ['StockName','MAE','MAPE', 'RMSE', 'AdjustedR2', 'Noise'], index = stocks)\n",
        "for s in stocks:\n",
        "    print(s)\n",
        "    try:\n",
        "        m, forecast , train_metrics, val_metrics = BuildNeuralProphetModelsWithMultipleRegressors(ScriptWiseData[s])\n",
        "        NPExogenousRegressionResults.loc[s, ['StockName']] =  getStockNameFromStockCode(s)\n",
        "        NPExogenousRegressionResults.loc[s, ['MAE']] =  val_metrics['MAE'][0]\n",
        "        NPExogenousRegressionResults.loc[s, ['RMSE']] = np.sqrt(val_metrics['MSE'][0])\n",
        "        t = forecast.dropna()\n",
        "        NPExogenousRegressionResults.loc[s, ['MAPE']] = mean_absolute_percentage_error(t.y, t.yhat1)\n",
        "        NPExogenousRegressionResults.loc[s, ['AdjustedR2']] = r2_score(t.y, t.yhat1)\n",
        "        NPExogenousRegressionResults.loc[s, ['Noise']] = t.yhat1.diff().abs().mean()\n",
        "        print('Success')\n",
        "    except:\n",
        "        print(\"Error Occured\")\n",
        "        \n",
        "NPExogenousRegressionResults.to_csv('./Outputs/NeuralProphetRegressionWithExogenousVariablesResults.csv')"
      ],
      "execution_count": null,
      "outputs": []
    },
    {
      "cell_type": "code",
      "metadata": {
        "id": "CEGp5vfuySkD"
      },
      "source": [
        "NPExogenousRegressionResults"
      ],
      "execution_count": null,
      "outputs": []
    },
    {
      "cell_type": "code",
      "metadata": {
        "id": "16pOZk1XsQEs"
      },
      "source": [
        "# # m = NeuralProphet()\n",
        "# # metrics = m.fit(df, freq=\"D\")\n",
        "# for s in stocks:\n",
        "#     print(s)\n",
        "#     try:\n",
        "#         m, forecast , train_metrics, val_metrics = BuildNeuralProphetModelsWithMultipleRegressors(ScriptWiseData[s])\n",
        "# #         m, forecast , train_metrics, val_metrics = BuildNeuralProphetModels(ScriptWiseData[s])\n",
        "#         print('Succeess')\n",
        "#     except:\n",
        "#         print(\"Error Occured\")"
      ],
      "execution_count": null,
      "outputs": []
    },
    {
      "cell_type": "code",
      "metadata": {
        "id": "gJDocg0isQEt"
      },
      "source": [
        "# forecasts_plot = m.plot(forecast)\n",
        "# fig_comp = m.plot_components(forecast)"
      ],
      "execution_count": null,
      "outputs": []
    },
    {
      "cell_type": "code",
      "metadata": {
        "id": "k7_zgfYCsQEu"
      },
      "source": [
        "# train_metrics.sort_values(by=['MAE', 'MSE'], ascending = [False, False]).head(3)"
      ],
      "execution_count": null,
      "outputs": []
    },
    {
      "cell_type": "code",
      "metadata": {
        "id": "IVGLomUasQEv"
      },
      "source": [
        "# train_metrics.sort_values(by=['MAE', 'MSE'], ascending = [True, True]).head(3)"
      ],
      "execution_count": null,
      "outputs": []
    },
    {
      "cell_type": "code",
      "metadata": {
        "id": "jvXf6qb4sQEw"
      },
      "source": [
        "# val_metrics"
      ],
      "execution_count": null,
      "outputs": []
    },
    {
      "cell_type": "code",
      "metadata": {
        "id": "9q25PaJusQEx"
      },
      "source": [
        ""
      ],
      "execution_count": null,
      "outputs": []
    }
  ]
}