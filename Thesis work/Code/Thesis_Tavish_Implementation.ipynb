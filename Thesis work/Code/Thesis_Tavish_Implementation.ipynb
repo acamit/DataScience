{
  "nbformat": 4,
  "nbformat_minor": 0,
  "metadata": {
    "colab": {
      "name": "Thesis-Tavish-Implementation.ipynb",
      "provenance": []
    },
    "kernelspec": {
      "name": "python3",
      "display_name": "Python 3"
    },
    "language_info": {
      "name": "python"
    }
  },
  "cells": [
    {
      "cell_type": "markdown",
      "metadata": {
        "id": "m6luf30M5xzE"
      },
      "source": [
        "# Importing libraries"
      ]
    },
    {
      "cell_type": "code",
      "metadata": {
        "id": "Vn7rJP-h1HGO"
      },
      "source": [
        "# !pip install quandl\n",
        "# !pip install --upgrade --no-deps statsmodels\n",
        "# !pip install pycaret\n",
        "# !pip install kats\n",
        "# !pip install -U sklearn\n",
        "# !pip install -U scikit-learn\n",
        "# !pip install -U sklearn\n",
        "# !pip install ta \n",
        "# !pip install -U pmdarima\n"
      ],
      "execution_count": null,
      "outputs": []
    },
    {
      "cell_type": "code",
      "metadata": {
        "id": "gdYCX8Zf1P34"
      },
      "source": [
        "import numpy as np\n",
        "import pandas as pd\n",
        "import re\n",
        "from math import sqrt\n",
        "import quandl\n",
        "import matplotlib.pyplot as plt\n",
        "import seaborn as sns\n",
        "from sklearn.preprocessing import StandardScaler\n",
        "from sklearn.metrics import mean_squared_error\n",
        "import statsmodels.graphics.tsaplots as sgt\n",
        "from statsmodels.tsa.arima.model import ARIMA\n",
        "from sklearn.metrics import mean_absolute_percentage_error, mean_squared_error, r2_score\n",
        "# for mean_squared_error set squared = False for RMSE, (y_true, y_pred)\n",
        "import statsmodels.tsa.stattools as sts\n",
        "from statsmodels.tsa.statespace.varmax import VARMAX, VARMAXResults\n",
        "from statsmodels.tsa.statespace.sarimax import SARIMAX\n",
        "from statsmodels.tsa.seasonal import seasonal_decompose\n",
        "from fbprophet import Prophet\n",
        "import random\n",
        "import warnings\n",
        "warnings.filterwarnings('ignore')\n",
        "from pycaret.regression import *\n",
        "from kats.consts import TimeSeriesData\n",
        "from pmdarima import auto_arima"
      ],
      "execution_count": 79,
      "outputs": []
    },
    {
      "cell_type": "code",
      "metadata": {
        "id": "_kjiidTt1adM"
      },
      "source": [
        "pd.set_option('display.max_columns', None)"
      ],
      "execution_count": 8,
      "outputs": []
    },
    {
      "cell_type": "code",
      "metadata": {
        "id": "vLUqD-am1bER"
      },
      "source": [
        "quandl.ApiConfig.api_key = \"2At3atzXCrMx_BXfkyz7\""
      ],
      "execution_count": 9,
      "outputs": []
    },
    {
      "cell_type": "markdown",
      "metadata": {
        "id": "bdEPc8-w1dyx"
      },
      "source": [
        "# Data to be used "
      ]
    },
    {
      "cell_type": "code",
      "metadata": {
        "id": "GMPxVUb71hcE"
      },
      "source": [
        "### Codes of selected stocks\n",
        "healthcare = ['BOM524715','BOM532488','BOM500124']\n",
        "banking = ['BOM500180','BOM532174','BOM500247']\n",
        "metals = ['BOM500470','BOM500228','BOM500440']\n",
        "auto = ['BOM532977','BOM500570','BOM532500']\n",
        "it = ['BOM500209','BOM532540','BOM507685']\n",
        "BSE_HEALTHCARE = 'SI0800'\n",
        "BSE_Information_Technology = 'SI1000'\n",
        "BSE_BANKEX = 'SIBANK'\n",
        "BSE_METAL = 'SI1200'\n",
        "BSE_AUTO = 'SI1900'\n",
        "SENSEX = 'SENSEX'\n",
        "\n",
        "stocks = healthcare+banking+metals + auto+it\n",
        "indices = [BSE_HEALTHCARE, BSE_Information_Technology, BSE_BANKEX, BSE_METAL, BSE_AUTO, SENSEX]\n",
        "allSymbols = stocks + indices\n",
        "ScriptWiseData = {}"
      ],
      "execution_count": 10,
      "outputs": []
    },
    {
      "cell_type": "code",
      "metadata": {
        "id": "JMOwiNfE1vrj"
      },
      "source": [
        "# Global Variables\n",
        "RSIColumn = 'RSI'\n",
        "ATRColumns = ['TR', 'ATR']\n",
        "MACDColumns = ['FastAverage', 'SlowAverage','MACD','Signal']\n",
        "BollBandColumns = ['BB_up',\"BB_dn\",\"MA\",\"BB_width\"]\n",
        "ADXColumns = ['pos_directional_indicator', 'neg_directional_indicator', 'adx']\n",
        "OnBalanceVolume = 'OBV'\n",
        "TechnicalIndicators = ['RSI', 'ATR', 'MACD', 'adx', 'OBV'] #exogenous variables\n",
        "\n",
        "AllIndicatorColumns = [RSIColumn]+ATRColumns+MACDColumns+BollBandColumns+ADXColumns+[OnBalanceVolume]"
      ],
      "execution_count": 11,
      "outputs": []
    },
    {
      "cell_type": "code",
      "metadata": {
        "id": "J4HW7s2t1zeR"
      },
      "source": [
        "# Test Data Start and end date\n",
        "start_date = '2020-03-02'\n",
        "end_date = '2021-03-23'"
      ],
      "execution_count": 12,
      "outputs": []
    },
    {
      "cell_type": "code",
      "metadata": {
        "id": "wM_4X_c613ea"
      },
      "source": [
        "# get null values of all the stocks\n",
        "def getNullValuesForSetOfStocks(stockCodeList = allSymbols):\n",
        "    nullCounts = pd.DataFrame(ScriptWiseData[stockCodeList[0]].isnull().sum(), columns= [getStockNameFromStockCode(stockCodeList[0])])\n",
        "    for symbol in stockCodeList[1:]:\n",
        "        currNull = pd.DataFrame(ScriptWiseData[symbol].isnull().sum(), columns= [getStockNameFromStockCode(symbol)])\n",
        "        nullCounts = nullCounts.merge(currNull, left_index=True, right_index = True, how='outer')\n",
        "    return nullCounts"
      ],
      "execution_count": 13,
      "outputs": []
    },
    {
      "cell_type": "code",
      "metadata": {
        "id": "IK73Y5kL17iK"
      },
      "source": [
        "def adf_test(series, title = ''):\n",
        "    \"\"\"\n",
        "    Pass in a time series and an optional title\n",
        "    \"\"\"\n",
        "    result = sts.adfuller(series.dropna(), autolag = 'AIC')\n",
        "    label = ['ADF test statistic', 'p-value', '# lags used', '#observations']\n",
        "    print(result)\n",
        "    out = pd.Series(result[0:4], index=label)\n",
        "    \n",
        "    for key, val in result[4].items():\n",
        "        out[f'critical value ({key})'] = val\n",
        "        \n",
        "    print(out.to_string())\n",
        "    if(result[1]<0.05):\n",
        "        return ('Data is stationary')\n",
        "    else:\n",
        "        return 'Data is non-stationary'"
      ],
      "execution_count": 14,
      "outputs": []
    },
    {
      "cell_type": "markdown",
      "metadata": {
        "id": "GlcM2Khi2C8A"
      },
      "source": [
        "# Time Series DataSet"
      ]
    },
    {
      "cell_type": "code",
      "metadata": {
        "colab": {
          "base_uri": "https://localhost:8080/",
          "height": 0
        },
        "id": "J4ha6OYY195q",
        "outputId": "9fc573e8-36c1-41bb-fef7-8a2dc3f0b7e9"
      },
      "source": [
        "dataset = pd.read_csv('TimeSeriesData.csv')\n",
        "dataset.head()"
      ],
      "execution_count": 15,
      "outputs": [
        {
          "output_type": "execute_result",
          "data": {
            "text/html": [
              "<div>\n",
              "<style scoped>\n",
              "    .dataframe tbody tr th:only-of-type {\n",
              "        vertical-align: middle;\n",
              "    }\n",
              "\n",
              "    .dataframe tbody tr th {\n",
              "        vertical-align: top;\n",
              "    }\n",
              "\n",
              "    .dataframe thead th {\n",
              "        text-align: right;\n",
              "    }\n",
              "</style>\n",
              "<table border=\"1\" class=\"dataframe\">\n",
              "  <thead>\n",
              "    <tr style=\"text-align: right;\">\n",
              "      <th></th>\n",
              "      <th>Date</th>\n",
              "      <th>Open</th>\n",
              "      <th>High</th>\n",
              "      <th>Low</th>\n",
              "      <th>Close</th>\n",
              "      <th>WAP</th>\n",
              "      <th>No. of Shares</th>\n",
              "      <th>No. of Trades</th>\n",
              "      <th>Total Turnover</th>\n",
              "      <th>Deliverable Quantity</th>\n",
              "      <th>% Deli. Qty to Traded Qty</th>\n",
              "      <th>Spread H-L</th>\n",
              "      <th>Spread C-O</th>\n",
              "      <th>StockName</th>\n",
              "      <th>code</th>\n",
              "      <th>isStock</th>\n",
              "      <th>Index</th>\n",
              "    </tr>\n",
              "  </thead>\n",
              "  <tbody>\n",
              "    <tr>\n",
              "      <th>0</th>\n",
              "      <td>2000-01-03</td>\n",
              "      <td>1500.0</td>\n",
              "      <td>1557.35</td>\n",
              "      <td>1500.00</td>\n",
              "      <td>1557.35</td>\n",
              "      <td>1544.195154</td>\n",
              "      <td>82330.0</td>\n",
              "      <td>945.0</td>\n",
              "      <td>127133587.0</td>\n",
              "      <td>NaN</td>\n",
              "      <td>NaN</td>\n",
              "      <td>57.35</td>\n",
              "      <td>57.35</td>\n",
              "      <td>DR.REDDY'S LABORATORIES LTD. EOD Prices</td>\n",
              "      <td>BOM500124</td>\n",
              "      <td>1</td>\n",
              "      <td>SI0800</td>\n",
              "    </tr>\n",
              "    <tr>\n",
              "      <th>1</th>\n",
              "      <td>2000-01-04</td>\n",
              "      <td>1601.0</td>\n",
              "      <td>1681.00</td>\n",
              "      <td>1527.00</td>\n",
              "      <td>1647.25</td>\n",
              "      <td>1621.040930</td>\n",
              "      <td>210676.0</td>\n",
              "      <td>3308.0</td>\n",
              "      <td>341514419.0</td>\n",
              "      <td>NaN</td>\n",
              "      <td>NaN</td>\n",
              "      <td>154.00</td>\n",
              "      <td>46.25</td>\n",
              "      <td>DR.REDDY'S LABORATORIES LTD. EOD Prices</td>\n",
              "      <td>BOM500124</td>\n",
              "      <td>1</td>\n",
              "      <td>SI0800</td>\n",
              "    </tr>\n",
              "    <tr>\n",
              "      <th>2</th>\n",
              "      <td>2000-01-05</td>\n",
              "      <td>1600.0</td>\n",
              "      <td>1648.00</td>\n",
              "      <td>1515.50</td>\n",
              "      <td>1559.00</td>\n",
              "      <td>1590.903923</td>\n",
              "      <td>205669.0</td>\n",
              "      <td>2707.0</td>\n",
              "      <td>327199619.0</td>\n",
              "      <td>NaN</td>\n",
              "      <td>NaN</td>\n",
              "      <td>132.50</td>\n",
              "      <td>-41.00</td>\n",
              "      <td>DR.REDDY'S LABORATORIES LTD. EOD Prices</td>\n",
              "      <td>BOM500124</td>\n",
              "      <td>1</td>\n",
              "      <td>SI0800</td>\n",
              "    </tr>\n",
              "    <tr>\n",
              "      <th>3</th>\n",
              "      <td>2000-01-06</td>\n",
              "      <td>1582.0</td>\n",
              "      <td>1683.70</td>\n",
              "      <td>1560.00</td>\n",
              "      <td>1683.70</td>\n",
              "      <td>1623.244182</td>\n",
              "      <td>161085.0</td>\n",
              "      <td>2559.0</td>\n",
              "      <td>261480289.0</td>\n",
              "      <td>NaN</td>\n",
              "      <td>NaN</td>\n",
              "      <td>123.70</td>\n",
              "      <td>101.70</td>\n",
              "      <td>DR.REDDY'S LABORATORIES LTD. EOD Prices</td>\n",
              "      <td>BOM500124</td>\n",
              "      <td>1</td>\n",
              "      <td>SI0800</td>\n",
              "    </tr>\n",
              "    <tr>\n",
              "      <th>4</th>\n",
              "      <td>2000-01-07</td>\n",
              "      <td>1718.0</td>\n",
              "      <td>1718.00</td>\n",
              "      <td>1549.05</td>\n",
              "      <td>1549.05</td>\n",
              "      <td>1593.853264</td>\n",
              "      <td>120952.0</td>\n",
              "      <td>1955.0</td>\n",
              "      <td>192779740.0</td>\n",
              "      <td>NaN</td>\n",
              "      <td>NaN</td>\n",
              "      <td>168.95</td>\n",
              "      <td>-168.95</td>\n",
              "      <td>DR.REDDY'S LABORATORIES LTD. EOD Prices</td>\n",
              "      <td>BOM500124</td>\n",
              "      <td>1</td>\n",
              "      <td>SI0800</td>\n",
              "    </tr>\n",
              "  </tbody>\n",
              "</table>\n",
              "</div>"
            ],
            "text/plain": [
              "         Date    Open     High      Low    Close          WAP  No. of Shares  \\\n",
              "0  2000-01-03  1500.0  1557.35  1500.00  1557.35  1544.195154        82330.0   \n",
              "1  2000-01-04  1601.0  1681.00  1527.00  1647.25  1621.040930       210676.0   \n",
              "2  2000-01-05  1600.0  1648.00  1515.50  1559.00  1590.903923       205669.0   \n",
              "3  2000-01-06  1582.0  1683.70  1560.00  1683.70  1623.244182       161085.0   \n",
              "4  2000-01-07  1718.0  1718.00  1549.05  1549.05  1593.853264       120952.0   \n",
              "\n",
              "   No. of Trades  Total Turnover  Deliverable Quantity  \\\n",
              "0          945.0     127133587.0                   NaN   \n",
              "1         3308.0     341514419.0                   NaN   \n",
              "2         2707.0     327199619.0                   NaN   \n",
              "3         2559.0     261480289.0                   NaN   \n",
              "4         1955.0     192779740.0                   NaN   \n",
              "\n",
              "   % Deli. Qty to Traded Qty  Spread H-L  Spread C-O  \\\n",
              "0                        NaN       57.35       57.35   \n",
              "1                        NaN      154.00       46.25   \n",
              "2                        NaN      132.50      -41.00   \n",
              "3                        NaN      123.70      101.70   \n",
              "4                        NaN      168.95     -168.95   \n",
              "\n",
              "                                 StockName       code  isStock   Index  \n",
              "0  DR.REDDY'S LABORATORIES LTD. EOD Prices  BOM500124        1  SI0800  \n",
              "1  DR.REDDY'S LABORATORIES LTD. EOD Prices  BOM500124        1  SI0800  \n",
              "2  DR.REDDY'S LABORATORIES LTD. EOD Prices  BOM500124        1  SI0800  \n",
              "3  DR.REDDY'S LABORATORIES LTD. EOD Prices  BOM500124        1  SI0800  \n",
              "4  DR.REDDY'S LABORATORIES LTD. EOD Prices  BOM500124        1  SI0800  "
            ]
          },
          "metadata": {
            "tags": []
          },
          "execution_count": 15
        }
      ]
    },
    {
      "cell_type": "code",
      "metadata": {
        "colab": {
          "base_uri": "https://localhost:8080/"
        },
        "id": "NSeAdUZ62H-S",
        "outputId": "c1de23df-d537-4d76-e843-a7ce208997fe"
      },
      "source": [
        "dataset.info()"
      ],
      "execution_count": 16,
      "outputs": [
        {
          "output_type": "stream",
          "text": [
            "<class 'pandas.core.frame.DataFrame'>\n",
            "RangeIndex: 105449 entries, 0 to 105448\n",
            "Data columns (total 17 columns):\n",
            " #   Column                     Non-Null Count   Dtype  \n",
            "---  ------                     --------------   -----  \n",
            " 0   Date                       105449 non-null  object \n",
            " 1   Open                       95130 non-null   float64\n",
            " 2   High                       95130 non-null   float64\n",
            " 3   Low                        95130 non-null   float64\n",
            " 4   Close                      105449 non-null  float64\n",
            " 5   WAP                        74255 non-null   float64\n",
            " 6   No. of Shares              74255 non-null   float64\n",
            " 7   No. of Trades              74255 non-null   float64\n",
            " 8   Total Turnover             74255 non-null   float64\n",
            " 9   Deliverable Quantity       68110 non-null   float64\n",
            " 10  % Deli. Qty to Traded Qty  68110 non-null   float64\n",
            " 11  Spread H-L                 74255 non-null   float64\n",
            " 12  Spread C-O                 74255 non-null   float64\n",
            " 13  StockName                  105449 non-null  object \n",
            " 14  code                       105449 non-null  object \n",
            " 15  isStock                    105449 non-null  int64  \n",
            " 16  Index                      74255 non-null   object \n",
            "dtypes: float64(12), int64(1), object(4)\n",
            "memory usage: 13.7+ MB\n"
          ],
          "name": "stdout"
        }
      ]
    },
    {
      "cell_type": "code",
      "metadata": {
        "id": "XQqdgY1i2KWG"
      },
      "source": [
        "dateRanges = dataset.groupby(['code', 'StockName']).agg({'Date': ['min', 'max']}).reset_index()\n",
        "dateRanges"
      ],
      "execution_count": null,
      "outputs": []
    },
    {
      "cell_type": "code",
      "metadata": {
        "id": "Xbl6b7pO2M_u"
      },
      "source": [
        "# use above ranges to get stockName\n",
        "def getStockNameFromStockCode(stockCode):\n",
        "    return dateRanges.loc[dateRanges.code==stockCode, 'StockName'].values[0];"
      ],
      "execution_count": 18,
      "outputs": []
    },
    {
      "cell_type": "code",
      "metadata": {
        "id": "1XGCCE6j2PkG"
      },
      "source": [
        "data = dataset.set_index('Date')\n",
        "data.head()"
      ],
      "execution_count": null,
      "outputs": []
    },
    {
      "cell_type": "markdown",
      "metadata": {
        "id": "R5HribQ02XPK"
      },
      "source": [
        "# Populate dictionary to hold individual Stock Data"
      ]
    },
    {
      "cell_type": "code",
      "metadata": {
        "id": "9CftafXu2QYS"
      },
      "source": [
        "# ScriptWiseData = {'Symbol1': <DatqaFrame>, 'Suymbol 2':Dataframe2}\n",
        "for symbol in allSymbols:\n",
        "    ScriptWiseData[symbol] = data.loc[data.code==symbol]\n",
        "\n"
      ],
      "execution_count": 20,
      "outputs": []
    },
    {
      "cell_type": "code",
      "metadata": {
        "colab": {
          "base_uri": "https://localhost:8080/"
        },
        "id": "7f4Ef_iD6b6i",
        "outputId": "18f1fcf6-87df-4e96-b579-9107028ad456"
      },
      "source": [
        "len(allSymbols)"
      ],
      "execution_count": 36,
      "outputs": [
        {
          "output_type": "execute_result",
          "data": {
            "text/plain": [
              "21"
            ]
          },
          "metadata": {
            "tags": []
          },
          "execution_count": 36
        }
      ]
    },
    {
      "cell_type": "markdown",
      "metadata": {
        "id": "R7EfxWdc2cQW"
      },
      "source": [
        "# View null values in the data"
      ]
    },
    {
      "cell_type": "code",
      "metadata": {
        "id": "4zksojwY2ZNd"
      },
      "source": [
        "getNullValuesForSetOfStocks()"
      ],
      "execution_count": null,
      "outputs": []
    },
    {
      "cell_type": "markdown",
      "metadata": {
        "id": "iWKsoJZT2gFT"
      },
      "source": [
        "# Deriving Technical indicators"
      ]
    },
    {
      "cell_type": "markdown",
      "metadata": {
        "id": "03ekbnI1DLl9"
      },
      "source": [
        "### MACD"
      ]
    },
    {
      "cell_type": "code",
      "metadata": {
        "id": "bIwHD1gADLl9"
      },
      "source": [
        "# function to create data MACD signal and data. \n",
        "def MACD(df, span1 = 12, span2= 26, span3 = 9):\n",
        "    stockData = df.copy()\n",
        "    stockData['FastAverage'] = stockData['Close'].ewm(span = span1, min_periods = span1).mean()\n",
        "    stockData['SlowAverage'] = stockData['Close'].ewm(span = span2, min_periods = span2).mean()\n",
        "    stockData['MACD'] = stockData['FastAverage'] - stockData['SlowAverage']\n",
        "    stockData['Signal'] = stockData['MACD'].ewm(span=span3, min_periods = span3).mean()\n",
        "    return stockData[MACDColumns]"
      ],
      "execution_count": 53,
      "outputs": []
    },
    {
      "cell_type": "code",
      "metadata": {
        "id": "YO_dv44SDLl9"
      },
      "source": [
        "# create stock code based dataframes with MACD signal\n",
        "for symbol in allSymbols:\n",
        "    macd = MACD(ScriptWiseData[symbol])\n",
        "    ScriptWiseData[symbol] = ScriptWiseData[symbol].merge(macd, left_index=True, right_index = True, how='left')"
      ],
      "execution_count": 54,
      "outputs": []
    },
    {
      "cell_type": "markdown",
      "metadata": {
        "id": "SLQ_IgLzDLl-"
      },
      "source": [
        "### RSI - Relative Strength Index"
      ]
    },
    {
      "cell_type": "code",
      "metadata": {
        "id": "qwqRNQH3DLl-"
      },
      "source": [
        "# Calculating RSI without using loop\n",
        "def RSI(DF, n=14):\n",
        "    df =  DF.copy()\n",
        "    \"function to calculate RSI\"\n",
        "    delta = df['Close'].diff().dropna()\n",
        "    u = delta * 0\n",
        "    d = u.copy()\n",
        "    u[delta > 0] = delta[delta > 0]\n",
        "    d[delta < 0] = -delta[delta < 0]\n",
        "    u[u.index[n-1]] = np.mean( u[:n]) # first value is average of gains\n",
        "    u = u.drop(u.index[:(n-1)])\n",
        "    d[d.index[n-1]] = np.mean( d[:n]) # first value is average of losses\n",
        "    d = d.drop(d.index[:(n-1)])\n",
        "    rs = u.ewm(com=n,min_periods=n).mean()/d.ewm(com=n,min_periods=n).mean()\n",
        "    rsi = 100 - 100 / (1+rs);\n",
        "    return pd.DataFrame(rs).rename(columns={'Close':'RSI'})"
      ],
      "execution_count": 51,
      "outputs": []
    },
    {
      "cell_type": "code",
      "metadata": {
        "id": "L8ZJWnJrDLl-"
      },
      "source": [
        "#RSI \n",
        "for symbol in allSymbols:   \n",
        "    rsi = RSI(data.loc[data.code==symbol])\n",
        "    ScriptWiseData[symbol] = ScriptWiseData[symbol].merge(rsi, left_index=True, right_index = True, how='left')"
      ],
      "execution_count": 52,
      "outputs": []
    },
    {
      "cell_type": "markdown",
      "metadata": {
        "id": "BexYPYGWDLl-"
      },
      "source": [
        "## ATR"
      ]
    },
    {
      "cell_type": "code",
      "metadata": {
        "id": "fwQItzjIDLl-"
      },
      "source": [
        "def ATR(DF,n=20):\n",
        "    \"function to calculate True Range and Average True Range\"\n",
        "    df = DF.copy()\n",
        "    df['H-L']=abs(df['High']-df['Low'])\n",
        "    df['H-PC']=abs(df['High']-df['Close'].shift(1))\n",
        "    df['L-PC']=abs(df['Low']-df['Close'].shift(1))\n",
        "    df['TR']=df[['H-L','H-PC','L-PC']].max(axis=1,skipna=False)\n",
        "    df['ATR'] = df['TR'].rolling(n).mean()\n",
        "    #df['ATR'] = df['TR'].ewm(span=n,adjust=False,min_periods=n).mean()\n",
        "    df2 = df.drop(['H-L','H-PC','L-PC'],axis=1)\n",
        "    return df2[ATRColumns]"
      ],
      "execution_count": 41,
      "outputs": []
    },
    {
      "cell_type": "code",
      "metadata": {
        "id": "J8AqnfagDLl-"
      },
      "source": [
        "#ATR \n",
        "for symbol in allSymbols:\n",
        "    ScriptWiseData[symbol][ATRColumns] = ATR(data.loc[data.code==symbol])"
      ],
      "execution_count": 42,
      "outputs": []
    },
    {
      "cell_type": "markdown",
      "metadata": {
        "id": "PkBbjFPEDLl_"
      },
      "source": [
        "## Bollinger band"
      ]
    },
    {
      "cell_type": "code",
      "metadata": {
        "id": "yE70tglyDLl_"
      },
      "source": [
        "def BollBnd(DF,n=14):\n",
        "    \"function to calculate Bollinger Band\"\n",
        "    df = DF.copy()\n",
        "    df[\"MA\"] = df['Close'].rolling(n).mean()\n",
        "    df[\"BB_up\"] = df[\"MA\"] + 2*df['Close'].rolling(n).std(ddof=0) #ddof=0 is required since we want to take the standard deviation of the population and not sample\n",
        "    df[\"BB_dn\"] = df[\"MA\"] - 2*df['Close'].rolling(n).std(ddof=0) #ddof=0 is required since we want to take the standard deviation of the population and not sample\n",
        "    df[\"BB_width\"] = df[\"BB_up\"] - df[\"BB_dn\"]\n",
        "#     df.dropna(inplace=True)\n",
        "    return df[BollBandColumns]"
      ],
      "execution_count": 43,
      "outputs": []
    },
    {
      "cell_type": "code",
      "metadata": {
        "id": "3PynIJzFDLl_"
      },
      "source": [
        "#Boll band\n",
        "for symbol in allSymbols:\n",
        "    ScriptWiseData[symbol][BollBandColumns] = BollBnd(data.loc[data.code==symbol])"
      ],
      "execution_count": 44,
      "outputs": []
    },
    {
      "cell_type": "markdown",
      "metadata": {
        "id": "lOlgA1-LDLl_"
      },
      "source": [
        "## OBV"
      ]
    },
    {
      "cell_type": "code",
      "metadata": {
        "id": "DsZ0g8fnDLl_"
      },
      "source": [
        "def OBV(DF):\n",
        "    \"\"\"function to calculate On Balance Volume\"\"\"\n",
        "    df = DF.copy()\n",
        "    df['daily_ret'] = df['Close'].pct_change()\n",
        "    df['direction'] = np.where(df['daily_ret']>=0,1,-1)\n",
        "    df['direction'][0] = 0\n",
        "    df['vol_adj'] = df['No. of Shares'] * df['direction']\n",
        "    df['obv'] = df['vol_adj'].cumsum()\n",
        "    return df['obv']"
      ],
      "execution_count": 45,
      "outputs": []
    },
    {
      "cell_type": "code",
      "metadata": {
        "id": "vJKyRdF7DLl_"
      },
      "source": [
        "#OBV\n",
        "for symbol in allSymbols:\n",
        "    ScriptWiseData[symbol]['OBV'] = OBV(data.loc[data.code==symbol])"
      ],
      "execution_count": 46,
      "outputs": []
    },
    {
      "cell_type": "markdown",
      "metadata": {
        "id": "8hLLMBw1DLmA"
      },
      "source": [
        "## ADX"
      ]
    },
    {
      "cell_type": "code",
      "metadata": {
        "id": "a0TRiHc_DLmA"
      },
      "source": [
        "from ta.trend import ADXIndicator\n",
        "def ADX(DF):\n",
        "    df = DF.copy()\n",
        "    adxI = ADXIndicator(df['High'],df['Low'],df['Close'],14,False)\n",
        "    df['pos_directional_indicator'] = adxI.adx_pos()\n",
        "    df['neg_directional_indicator'] = adxI.adx_neg()\n",
        "    df['adx'] = adxI.adx()\n",
        "    return df[ADXColumns]"
      ],
      "execution_count": 55,
      "outputs": []
    },
    {
      "cell_type": "code",
      "metadata": {
        "id": "zYkl9ZV1DLmA"
      },
      "source": [
        "# ADX\n",
        "for symbol in allSymbols:\n",
        "    ScriptWiseData[symbol][ADXColumns] = ADX(data.loc[data.code==symbol])"
      ],
      "execution_count": 56,
      "outputs": []
    },
    {
      "cell_type": "markdown",
      "metadata": {
        "id": "Nl_CiM3w6pbN"
      },
      "source": [
        "# Removing Extra Columms"
      ]
    },
    {
      "cell_type": "code",
      "metadata": {
        "id": "31GXJi8X6uR5"
      },
      "source": [
        "allSymbols"
      ],
      "execution_count": null,
      "outputs": []
    },
    {
      "cell_type": "code",
      "metadata": {
        "id": "0R7sC1caDLmA"
      },
      "source": [
        "OriginalScriptWiseData = ScriptWiseData\n",
        "for symbol in allSymbols:\n",
        "    ScriptWiseData[symbol] = ScriptWiseData[symbol][['Close']+TechnicalIndicators]"
      ],
      "execution_count": 57,
      "outputs": []
    },
    {
      "cell_type": "code",
      "metadata": {
        "id": "wXm6w8zJbGSO",
        "colab": {
          "base_uri": "https://localhost:8080/",
          "height": 446
        },
        "outputId": "546a3089-37aa-4a65-c7e7-964d9323ee16"
      },
      "source": [
        "# for symbol in allSymbols:\n",
        "#     print(ScriptWiseData[symbol])\n",
        "ScriptWiseData['BOM524715']"
      ],
      "execution_count": 80,
      "outputs": [
        {
          "output_type": "execute_result",
          "data": {
            "text/html": [
              "<div>\n",
              "<style scoped>\n",
              "    .dataframe tbody tr th:only-of-type {\n",
              "        vertical-align: middle;\n",
              "    }\n",
              "\n",
              "    .dataframe tbody tr th {\n",
              "        vertical-align: top;\n",
              "    }\n",
              "\n",
              "    .dataframe thead th {\n",
              "        text-align: right;\n",
              "    }\n",
              "</style>\n",
              "<table border=\"1\" class=\"dataframe\">\n",
              "  <thead>\n",
              "    <tr style=\"text-align: right;\">\n",
              "      <th></th>\n",
              "      <th>Close</th>\n",
              "      <th>RSI</th>\n",
              "      <th>ATR</th>\n",
              "      <th>MACD</th>\n",
              "      <th>adx</th>\n",
              "      <th>OBV</th>\n",
              "    </tr>\n",
              "    <tr>\n",
              "      <th>Date</th>\n",
              "      <th></th>\n",
              "      <th></th>\n",
              "      <th></th>\n",
              "      <th></th>\n",
              "      <th></th>\n",
              "      <th></th>\n",
              "    </tr>\n",
              "  </thead>\n",
              "  <tbody>\n",
              "    <tr>\n",
              "      <th>2002-04-03</th>\n",
              "      <td>689.60</td>\n",
              "      <td>1.855032</td>\n",
              "      <td>18.5275</td>\n",
              "      <td>8.463682</td>\n",
              "      <td>22.503432</td>\n",
              "      <td>3522925.0</td>\n",
              "    </tr>\n",
              "    <tr>\n",
              "      <th>2002-04-04</th>\n",
              "      <td>682.90</td>\n",
              "      <td>1.578704</td>\n",
              "      <td>19.2250</td>\n",
              "      <td>8.745214</td>\n",
              "      <td>21.443984</td>\n",
              "      <td>3520801.0</td>\n",
              "    </tr>\n",
              "    <tr>\n",
              "      <th>2002-04-05</th>\n",
              "      <td>683.50</td>\n",
              "      <td>1.592997</td>\n",
              "      <td>19.3250</td>\n",
              "      <td>8.905707</td>\n",
              "      <td>20.460211</td>\n",
              "      <td>3525521.0</td>\n",
              "    </tr>\n",
              "    <tr>\n",
              "      <th>2002-04-08</th>\n",
              "      <td>680.85</td>\n",
              "      <td>1.492080</td>\n",
              "      <td>18.2750</td>\n",
              "      <td>8.736332</td>\n",
              "      <td>19.615533</td>\n",
              "      <td>3524649.0</td>\n",
              "    </tr>\n",
              "    <tr>\n",
              "      <th>2002-04-09</th>\n",
              "      <td>672.00</td>\n",
              "      <td>1.216358</td>\n",
              "      <td>18.5025</td>\n",
              "      <td>7.859934</td>\n",
              "      <td>18.610020</td>\n",
              "      <td>3524226.0</td>\n",
              "    </tr>\n",
              "    <tr>\n",
              "      <th>...</th>\n",
              "      <td>...</td>\n",
              "      <td>...</td>\n",
              "      <td>...</td>\n",
              "      <td>...</td>\n",
              "      <td>...</td>\n",
              "      <td>...</td>\n",
              "    </tr>\n",
              "    <tr>\n",
              "      <th>2021-03-17</th>\n",
              "      <td>585.20</td>\n",
              "      <td>0.682121</td>\n",
              "      <td>17.9600</td>\n",
              "      <td>-1.488529</td>\n",
              "      <td>16.856154</td>\n",
              "      <td>7598758.0</td>\n",
              "    </tr>\n",
              "    <tr>\n",
              "      <th>2021-03-18</th>\n",
              "      <td>574.50</td>\n",
              "      <td>0.594893</td>\n",
              "      <td>18.3000</td>\n",
              "      <td>-3.999505</td>\n",
              "      <td>18.296442</td>\n",
              "      <td>7374060.0</td>\n",
              "    </tr>\n",
              "    <tr>\n",
              "      <th>2021-03-19</th>\n",
              "      <td>578.60</td>\n",
              "      <td>0.647393</td>\n",
              "      <td>18.6500</td>\n",
              "      <td>-5.594151</td>\n",
              "      <td>20.001070</td>\n",
              "      <td>7557363.0</td>\n",
              "    </tr>\n",
              "    <tr>\n",
              "      <th>2021-03-22</th>\n",
              "      <td>590.95</td>\n",
              "      <td>0.816829</td>\n",
              "      <td>18.3400</td>\n",
              "      <td>-5.794580</td>\n",
              "      <td>20.681635</td>\n",
              "      <td>7804331.0</td>\n",
              "    </tr>\n",
              "    <tr>\n",
              "      <th>2021-03-23</th>\n",
              "      <td>587.90</td>\n",
              "      <td>0.781779</td>\n",
              "      <td>17.8950</td>\n",
              "      <td>-6.128882</td>\n",
              "      <td>21.210826</td>\n",
              "      <td>7650902.0</td>\n",
              "    </tr>\n",
              "  </tbody>\n",
              "</table>\n",
              "<p>4708 rows × 6 columns</p>\n",
              "</div>"
            ],
            "text/plain": [
              "             Close       RSI      ATR      MACD        adx        OBV\n",
              "Date                                                                 \n",
              "2002-04-03  689.60  1.855032  18.5275  8.463682  22.503432  3522925.0\n",
              "2002-04-04  682.90  1.578704  19.2250  8.745214  21.443984  3520801.0\n",
              "2002-04-05  683.50  1.592997  19.3250  8.905707  20.460211  3525521.0\n",
              "2002-04-08  680.85  1.492080  18.2750  8.736332  19.615533  3524649.0\n",
              "2002-04-09  672.00  1.216358  18.5025  7.859934  18.610020  3524226.0\n",
              "...            ...       ...      ...       ...        ...        ...\n",
              "2021-03-17  585.20  0.682121  17.9600 -1.488529  16.856154  7598758.0\n",
              "2021-03-18  574.50  0.594893  18.3000 -3.999505  18.296442  7374060.0\n",
              "2021-03-19  578.60  0.647393  18.6500 -5.594151  20.001070  7557363.0\n",
              "2021-03-22  590.95  0.816829  18.3400 -5.794580  20.681635  7804331.0\n",
              "2021-03-23  587.90  0.781779  17.8950 -6.128882  21.210826  7650902.0\n",
              "\n",
              "[4708 rows x 6 columns]"
            ]
          },
          "metadata": {
            "tags": []
          },
          "execution_count": 80
        }
      ]
    },
    {
      "cell_type": "markdown",
      "metadata": {
        "id": "8uH6W3pDDLmA"
      },
      "source": [
        "## Dropping null values"
      ]
    },
    {
      "cell_type": "code",
      "metadata": {
        "id": "NKoIp2TtDLmB"
      },
      "source": [
        "# drop rows from the stock whose technical indicator values are null. \n",
        "for stock in stocks:\n",
        "#     ScriptWiseData[stock] = ScriptWiseData[stock].dropna(subset=AllIndicatorColumns)\n",
        "    ScriptWiseData[stock] = ScriptWiseData[stock].dropna()    "
      ],
      "execution_count": 62,
      "outputs": []
    },
    {
      "cell_type": "markdown",
      "metadata": {
        "id": "b4By1l-s_2sa"
      },
      "source": [
        "# ARIMAX for Stock \"BOM524715\""
      ]
    },
    {
      "cell_type": "code",
      "metadata": {
        "id": "zTmKqAxMcSZg"
      },
      "source": [
        "from statsmodels.tsa.arima_model import ARMA, ARIMA\n",
        "from pmdarima.arima import auto_arima\n",
        "from math import sqrt\n",
        "from scipy.stats.distributions import chi2"
      ],
      "execution_count": 140,
      "outputs": []
    },
    {
      "cell_type": "code",
      "metadata": {
        "id": "hJJBAucX9o_S"
      },
      "source": [
        "Stock = 'BOM524715'\n",
        "ScriptWiseData[Stock].Close"
      ],
      "execution_count": null,
      "outputs": []
    },
    {
      "cell_type": "code",
      "metadata": {
        "colab": {
          "base_uri": "https://localhost:8080/",
          "height": 483
        },
        "id": "Vnrk3iBtelyV",
        "outputId": "569eaf65-9cb7-49ba-c01c-0576faa836aa"
      },
      "source": [
        "plt.figure(figsize=[12,8])\n",
        "plt.plot(ScriptWiseData[Stock].Close)\n",
        "plt.show()"
      ],
      "execution_count": 135,
      "outputs": [
        {
          "output_type": "display_data",
          "data": {
            "image/png": "[encoded data removed]",
            "text/plain": [
              "<Figure size 864x576 with 1 Axes>"
            ]
          },
          "metadata": {
            "tags": [],
            "needs_background": "light"
          }
        }
      ]
    },
    {
      "cell_type": "code",
      "metadata": {
        "colab": {
          "base_uri": "https://localhost:8080/"
        },
        "id": "uci-WJ2u7j5O",
        "outputId": "6ca34ac1-9e8c-4625-ea22-89a90fbacd4e"
      },
      "source": [
        "print(adf_test(ScriptWiseData[Stock].Close, title='ADF Test for Stock market prices'))"
      ],
      "execution_count": 176,
      "outputs": [
        {
          "output_type": "stream",
          "text": [
            "(-3.19554714784556, 0.020243878935258808, 0, 4707, {'1%': -3.4317400296926333, '5%': -2.862154234399525, '10%': -2.5670969591609873}, 45966.78071524844)\n",
            "ADF test statistic        -3.195547\n",
            "p-value                    0.020244\n",
            "# lags used                0.000000\n",
            "#observations           4707.000000\n",
            "critical value (1%)       -3.431740\n",
            "critical value (5%)       -2.862154\n",
            "critical value (10%)      -2.567097\n",
            "Data is stationary\n"
          ],
          "name": "stdout"
        }
      ]
    },
    {
      "cell_type": "markdown",
      "metadata": {
        "id": "R9N5Nw4g_Bko"
      },
      "source": [
        "\n",
        "### The ACF\n",
        "\n",
        "\n",
        "\n"
      ]
    },
    {
      "cell_type": "code",
      "metadata": {
        "colab": {
          "base_uri": "https://localhost:8080/",
          "height": 0
        },
        "id": "omu5bWDs_A4w",
        "outputId": "16deb7f3-7091-4443-ede9-d3cb1e558c83"
      },
      "source": [
        "sgt.plot_acf(ScriptWiseData[Stock].Close, zero= False, lags = 40);\n",
        "plt.title(\"ACF for Closing prices\", size = 20)\n",
        "plt.show()"
      ],
      "execution_count": 76,
      "outputs": [
        {
          "output_type": "display_data",
          "data": {
            "image/png": "[encoded data removed]",
            "text/plain": [
              "<Figure size 432x288 with 1 Axes>"
            ]
          },
          "metadata": {
            "tags": [],
            "needs_background": "light"
          }
        }
      ]
    },
    {
      "cell_type": "markdown",
      "metadata": {
        "id": "BycqnlSUAYfF"
      },
      "source": [
        "### The PACF\n",
        "\n"
      ]
    },
    {
      "cell_type": "code",
      "metadata": {
        "colab": {
          "base_uri": "https://localhost:8080/",
          "height": 0
        },
        "id": "wWuhGFeHAc9C",
        "outputId": "952a8ceb-cf44-478c-c82d-69c0f1c865ec"
      },
      "source": [
        "sgt.plot_pacf(ScriptWiseData[Stock].Close, alpha= 0.05, zero= False, lags = 40, method=('ols'));\n",
        "plt.title(\"PACF for Closing prices\", size = 20)\n",
        "plt.show()"
      ],
      "execution_count": 77,
      "outputs": [
        {
          "output_type": "display_data",
          "data": {
            "image/png": "[encoded data removed]",
            "text/plain": [
              "<Figure size 432x288 with 1 Axes>"
            ]
          },
          "metadata": {
            "tags": [],
            "needs_background": "light"
          }
        }
      ]
    },
    {
      "cell_type": "markdown",
      "metadata": {
        "id": "h42G_wOm6bHa"
      },
      "source": [
        "### Common functions"
      ]
    },
    {
      "cell_type": "code",
      "metadata": {
        "colab": {
          "base_uri": "https://localhost:8080/"
        },
        "id": "JO5AZ2SMdV_4",
        "outputId": "275ecb0e-743f-4a23-b121-b16d424f39d3"
      },
      "source": [
        "test_start_date = '2020-03-02'\n",
        "test_end_date = '2021-03-23'\n",
        "actual = ScriptWiseData[Stock].Close.loc[test_start_date:test_end_date]\n",
        "len(actual)"
      ],
      "execution_count": 185,
      "outputs": [
        {
          "output_type": "execute_result",
          "data": {
            "text/plain": [
              "265"
            ]
          },
          "metadata": {
            "tags": []
          },
          "execution_count": 185
        }
      ]
    },
    {
      "cell_type": "code",
      "metadata": {
        "id": "z6tSzF8McsUq"
      },
      "source": [
        "def calculateRMSE(pred,actual = actual):\n",
        "  print(\"RMSE : \" + str(sqrt(mean_squared_error(actual, pred))))"
      ],
      "execution_count": 132,
      "outputs": []
    },
    {
      "cell_type": "code",
      "metadata": {
        "id": "rLr524-mmmVU"
      },
      "source": [
        "def LLRTest(mod_1, mod_2, DF=1):\n",
        "  L1 = mod_1.fit().llf\n",
        "  L2 = mod_2.fit().llf\n",
        "  LR = (2*(L2-L1))\n",
        "  P = chi2.sf(LR, DF).round(3)\n",
        "  return P\n"
      ],
      "execution_count": 157,
      "outputs": []
    },
    {
      "cell_type": "code",
      "metadata": {
        "id": "obT5d_wPB0ph"
      },
      "source": [
        "def plot_acf(data, title = ''):\n",
        "  sgt.plot_acf(data, lags = 40, zero = False)\n",
        "  plt.title(title, size=24)\n",
        "  plt.show()\n",
        "\n",
        "def plot_pacf(data, title = ''):\n",
        "  sgt.plot_pacf(data, lags = 40, zero = False, method= ('ols'))\n",
        "  plt.title(title, size=24)\n",
        "  plt.show()"
      ],
      "execution_count": 207,
      "outputs": []
    },
    {
      "cell_type": "code",
      "metadata": {
        "id": "u9FKe7oChIa4"
      },
      "source": [
        "def TrainTestSplitByDateRange(df,test_start_date = '2020-03-02',test_end_date = '2021-03-23'):\n",
        "    train = df.loc[:test_start_date]\n",
        "    test = df.loc[test_start_date:test_end_date]\n",
        "    return train, test[1:]"
      ],
      "execution_count": 271,
      "outputs": []
    },
    {
      "cell_type": "markdown",
      "metadata": {
        "id": "XJyXdfaABgCW"
      },
      "source": [
        "### The AR(1) model\n",
        "\n"
      ]
    },
    {
      "cell_type": "code",
      "metadata": {
        "id": "m319ytulhLti"
      },
      "source": [
        "train_data, test_data = TrainTestSplitByDateRange(ScriptWiseData[Stock].Close)\n"
      ],
      "execution_count": 272,
      "outputs": []
    },
    {
      "cell_type": "code",
      "metadata": {
        "colab": {
          "base_uri": "https://localhost:8080/",
          "height": 762
        },
        "id": "atq9sJAn9R3i",
        "outputId": "daf650a1-39b6-4e30-cfea-e834ddba3df5"
      },
      "source": [
        "model_ar = ARMA(ScriptWiseData[Stock].Close, order = (1,0))\n",
        "result_ar = model_ar.fit()\n",
        "df_pred = result_ar.predict(start = test_start_date, end = test_end_date)\n",
        "\n"
      ],
      "execution_count": 278,
      "outputs": [
        {
          "output_type": "error",
          "ename": "KeyError",
          "evalue": "ignored",
          "traceback": [
            "\u001b[0;31m---------------------------------------------------------------------------\u001b[0m",
            "\u001b[0;31mKeyError\u001b[0m                                  Traceback (most recent call last)",
            "\u001b[0;32m/usr/local/lib/python3.7/dist-packages/pandas/core/indexes/base.py\u001b[0m in \u001b[0;36mget_loc\u001b[0;34m(self, key, method, tolerance)\u001b[0m\n\u001b[1;32m   2897\u001b[0m             \u001b[0;32mtry\u001b[0m\u001b[0;34m:\u001b[0m\u001b[0;34m\u001b[0m\u001b[0;34m\u001b[0m\u001b[0m\n\u001b[0;32m-> 2898\u001b[0;31m                 \u001b[0;32mreturn\u001b[0m \u001b[0mself\u001b[0m\u001b[0;34m.\u001b[0m\u001b[0m_engine\u001b[0m\u001b[0;34m.\u001b[0m\u001b[0mget_loc\u001b[0m\u001b[0;34m(\u001b[0m\u001b[0mcasted_key\u001b[0m\u001b[0;34m)\u001b[0m\u001b[0;34m\u001b[0m\u001b[0;34m\u001b[0m\u001b[0m\n\u001b[0m\u001b[1;32m   2899\u001b[0m             \u001b[0;32mexcept\u001b[0m \u001b[0mKeyError\u001b[0m \u001b[0;32mas\u001b[0m \u001b[0merr\u001b[0m\u001b[0;34m:\u001b[0m\u001b[0;34m\u001b[0m\u001b[0;34m\u001b[0m\u001b[0m\n",
            "\u001b[0;32mpandas/_libs/index.pyx\u001b[0m in \u001b[0;36mpandas._libs.index.IndexEngine.get_loc\u001b[0;34m()\u001b[0m\n",
            "\u001b[0;32mpandas/_libs/index.pyx\u001b[0m in \u001b[0;36mpandas._libs.index.IndexEngine.get_loc\u001b[0;34m()\u001b[0m\n",
            "\u001b[0;32mpandas/_libs/hashtable_class_helper.pxi\u001b[0m in \u001b[0;36mpandas._libs.hashtable.PyObjectHashTable.get_item\u001b[0;34m()\u001b[0m\n",
            "\u001b[0;32mpandas/_libs/hashtable_class_helper.pxi\u001b[0m in \u001b[0;36mpandas._libs.hashtable.PyObjectHashTable.get_item\u001b[0;34m()\u001b[0m\n",
            "\u001b[0;31mKeyError\u001b[0m: '2021-03-23'",
            "\nThe above exception was the direct cause of the following exception:\n",
            "\u001b[0;31mKeyError\u001b[0m                                  Traceback (most recent call last)",
            "\u001b[0;32m/usr/local/lib/python3.7/dist-packages/statsmodels/tsa/base/tsa_model.py\u001b[0m in \u001b[0;36mget_index_label_loc\u001b[0;34m(key, index, row_labels)\u001b[0m\n\u001b[1;32m    223\u001b[0m             \u001b[0;32mif\u001b[0m \u001b[0;32mnot\u001b[0m \u001b[0misinstance\u001b[0m\u001b[0;34m(\u001b[0m\u001b[0mkey\u001b[0m\u001b[0;34m,\u001b[0m \u001b[0;34m(\u001b[0m\u001b[0mint\u001b[0m\u001b[0;34m,\u001b[0m \u001b[0mnp\u001b[0m\u001b[0;34m.\u001b[0m\u001b[0minteger\u001b[0m\u001b[0;34m)\u001b[0m\u001b[0;34m)\u001b[0m\u001b[0;34m:\u001b[0m\u001b[0;34m\u001b[0m\u001b[0;34m\u001b[0m\u001b[0m\n\u001b[0;32m--> 224\u001b[0;31m                 \u001b[0mloc\u001b[0m \u001b[0;34m=\u001b[0m \u001b[0mrow_labels\u001b[0m\u001b[0;34m.\u001b[0m\u001b[0mget_loc\u001b[0m\u001b[0;34m(\u001b[0m\u001b[0mkey\u001b[0m\u001b[0;34m)\u001b[0m\u001b[0;34m\u001b[0m\u001b[0;34m\u001b[0m\u001b[0m\n\u001b[0m\u001b[1;32m    225\u001b[0m             \u001b[0;32melse\u001b[0m\u001b[0;34m:\u001b[0m\u001b[0;34m\u001b[0m\u001b[0;34m\u001b[0m\u001b[0m\n",
            "\u001b[0;32m/usr/local/lib/python3.7/dist-packages/pandas/core/indexes/base.py\u001b[0m in \u001b[0;36mget_loc\u001b[0;34m(self, key, method, tolerance)\u001b[0m\n\u001b[1;32m   2899\u001b[0m             \u001b[0;32mexcept\u001b[0m \u001b[0mKeyError\u001b[0m \u001b[0;32mas\u001b[0m \u001b[0merr\u001b[0m\u001b[0;34m:\u001b[0m\u001b[0;34m\u001b[0m\u001b[0;34m\u001b[0m\u001b[0m\n\u001b[0;32m-> 2900\u001b[0;31m                 \u001b[0;32mraise\u001b[0m \u001b[0mKeyError\u001b[0m\u001b[0;34m(\u001b[0m\u001b[0mkey\u001b[0m\u001b[0;34m)\u001b[0m \u001b[0;32mfrom\u001b[0m \u001b[0merr\u001b[0m\u001b[0;34m\u001b[0m\u001b[0;34m\u001b[0m\u001b[0m\n\u001b[0m\u001b[1;32m   2901\u001b[0m \u001b[0;34m\u001b[0m\u001b[0m\n",
            "\u001b[0;31mKeyError\u001b[0m: '2021-03-23'",
            "\nDuring handling of the above exception, another exception occurred:\n",
            "\u001b[0;31mKeyError\u001b[0m                                  Traceback (most recent call last)",
            "\u001b[0;32m/usr/local/lib/python3.7/dist-packages/statsmodels/tsa/base/tsa_model.py\u001b[0m in \u001b[0;36mget_prediction_index\u001b[0;34m(start, end, nobs, base_index, index, silent, index_none, index_generated, data)\u001b[0m\n\u001b[1;32m    330\u001b[0m     \u001b[0;32mtry\u001b[0m\u001b[0;34m:\u001b[0m\u001b[0;34m\u001b[0m\u001b[0;34m\u001b[0m\u001b[0m\n\u001b[0;32m--> 331\u001b[0;31m         \u001b[0mend\u001b[0m\u001b[0;34m,\u001b[0m \u001b[0mend_index\u001b[0m\u001b[0;34m,\u001b[0m \u001b[0mend_oos\u001b[0m \u001b[0;34m=\u001b[0m \u001b[0mget_index_label_loc\u001b[0m\u001b[0;34m(\u001b[0m\u001b[0mend\u001b[0m\u001b[0;34m,\u001b[0m \u001b[0mbase_index\u001b[0m\u001b[0;34m,\u001b[0m \u001b[0mdata\u001b[0m\u001b[0;34m.\u001b[0m\u001b[0mrow_labels\u001b[0m\u001b[0;34m)\u001b[0m\u001b[0;34m\u001b[0m\u001b[0;34m\u001b[0m\u001b[0m\n\u001b[0m\u001b[1;32m    332\u001b[0m     \u001b[0;32mexcept\u001b[0m \u001b[0mKeyError\u001b[0m\u001b[0;34m:\u001b[0m\u001b[0;34m\u001b[0m\u001b[0;34m\u001b[0m\u001b[0m\n",
            "\u001b[0;32m/usr/local/lib/python3.7/dist-packages/statsmodels/tsa/base/tsa_model.py\u001b[0m in \u001b[0;36mget_index_label_loc\u001b[0;34m(key, index, row_labels)\u001b[0m\n\u001b[1;32m    255\u001b[0m         \u001b[0;32mexcept\u001b[0m\u001b[0;34m:\u001b[0m\u001b[0;34m\u001b[0m\u001b[0;34m\u001b[0m\u001b[0m\n\u001b[0;32m--> 256\u001b[0;31m             \u001b[0;32mraise\u001b[0m \u001b[0me\u001b[0m\u001b[0;34m\u001b[0m\u001b[0;34m\u001b[0m\u001b[0m\n\u001b[0m\u001b[1;32m    257\u001b[0m     \u001b[0;32mreturn\u001b[0m \u001b[0mloc\u001b[0m\u001b[0;34m,\u001b[0m \u001b[0mindex\u001b[0m\u001b[0;34m,\u001b[0m \u001b[0mindex_was_expanded\u001b[0m\u001b[0;34m\u001b[0m\u001b[0;34m\u001b[0m\u001b[0m\n",
            "\u001b[0;32m/usr/local/lib/python3.7/dist-packages/statsmodels/tsa/base/tsa_model.py\u001b[0m in \u001b[0;36mget_index_label_loc\u001b[0;34m(key, index, row_labels)\u001b[0m\n\u001b[1;32m    219\u001b[0m     \u001b[0;32mtry\u001b[0m\u001b[0;34m:\u001b[0m\u001b[0;34m\u001b[0m\u001b[0;34m\u001b[0m\u001b[0m\n\u001b[0;32m--> 220\u001b[0;31m         \u001b[0mloc\u001b[0m\u001b[0;34m,\u001b[0m \u001b[0mindex\u001b[0m\u001b[0;34m,\u001b[0m \u001b[0mindex_was_expanded\u001b[0m \u001b[0;34m=\u001b[0m \u001b[0mget_index_loc\u001b[0m\u001b[0;34m(\u001b[0m\u001b[0mkey\u001b[0m\u001b[0;34m,\u001b[0m \u001b[0mindex\u001b[0m\u001b[0;34m)\u001b[0m\u001b[0;34m\u001b[0m\u001b[0;34m\u001b[0m\u001b[0m\n\u001b[0m\u001b[1;32m    221\u001b[0m     \u001b[0;32mexcept\u001b[0m \u001b[0mKeyError\u001b[0m \u001b[0;32mas\u001b[0m \u001b[0me\u001b[0m\u001b[0;34m:\u001b[0m\u001b[0;34m\u001b[0m\u001b[0;34m\u001b[0m\u001b[0m\n",
            "\u001b[0;32m/usr/local/lib/python3.7/dist-packages/statsmodels/tsa/base/tsa_model.py\u001b[0m in \u001b[0;36mget_index_loc\u001b[0;34m(key, index)\u001b[0m\n\u001b[1;32m    169\u001b[0m         \u001b[0;32mexcept\u001b[0m \u001b[0;34m(\u001b[0m\u001b[0mIndexError\u001b[0m\u001b[0;34m,\u001b[0m \u001b[0mValueError\u001b[0m\u001b[0;34m)\u001b[0m \u001b[0;32mas\u001b[0m \u001b[0me\u001b[0m\u001b[0;34m:\u001b[0m\u001b[0;34m\u001b[0m\u001b[0;34m\u001b[0m\u001b[0m\n\u001b[0;32m--> 170\u001b[0;31m             \u001b[0;32mraise\u001b[0m \u001b[0mKeyError\u001b[0m\u001b[0;34m(\u001b[0m\u001b[0mstr\u001b[0m\u001b[0;34m(\u001b[0m\u001b[0me\u001b[0m\u001b[0;34m)\u001b[0m\u001b[0;34m)\u001b[0m\u001b[0;34m\u001b[0m\u001b[0;34m\u001b[0m\u001b[0m\n\u001b[0m\u001b[1;32m    171\u001b[0m         \u001b[0mloc\u001b[0m \u001b[0;34m=\u001b[0m \u001b[0mkey\u001b[0m\u001b[0;34m\u001b[0m\u001b[0;34m\u001b[0m\u001b[0m\n",
            "\u001b[0;31mKeyError\u001b[0m: 'only integers, slices (`:`), ellipsis (`...`), numpy.newaxis (`None`) and integer or boolean arrays are valid indices'",
            "\nDuring handling of the above exception, another exception occurred:\n",
            "\u001b[0;31mKeyError\u001b[0m                                  Traceback (most recent call last)",
            "\u001b[0;32m<ipython-input-278-63d32d7a5212>\u001b[0m in \u001b[0;36m<module>\u001b[0;34m()\u001b[0m\n\u001b[1;32m      6\u001b[0m \u001b[0;31m# model_ar = ARMA(train_data, order = (1,0))\u001b[0m\u001b[0;34m\u001b[0m\u001b[0;34m\u001b[0m\u001b[0;34m\u001b[0m\u001b[0m\n\u001b[1;32m      7\u001b[0m \u001b[0;31m# result_ar = model_ar.fit()\u001b[0m\u001b[0;34m\u001b[0m\u001b[0;34m\u001b[0m\u001b[0;34m\u001b[0m\u001b[0m\n\u001b[0;32m----> 8\u001b[0;31m \u001b[0mpp\u001b[0m \u001b[0;34m=\u001b[0m \u001b[0mresult_ar\u001b[0m\u001b[0;34m.\u001b[0m\u001b[0mpredict\u001b[0m\u001b[0;34m(\u001b[0m\u001b[0mstart\u001b[0m \u001b[0;34m=\u001b[0m \u001b[0;34m'2020-03-02'\u001b[0m\u001b[0;34m,\u001b[0m \u001b[0mend\u001b[0m \u001b[0;34m=\u001b[0m \u001b[0;34m'2021-03-23'\u001b[0m\u001b[0;34m)\u001b[0m\u001b[0;34m\u001b[0m\u001b[0;34m\u001b[0m\u001b[0m\n\u001b[0m\u001b[1;32m      9\u001b[0m \u001b[0;31m#df_pred = result_ar.predict(start = test_start_date, end = test_end_date)\u001b[0m\u001b[0;34m\u001b[0m\u001b[0;34m\u001b[0m\u001b[0;34m\u001b[0m\u001b[0m\n",
            "\u001b[0;32m/usr/local/lib/python3.7/dist-packages/statsmodels/base/wrapper.py\u001b[0m in \u001b[0;36mwrapper\u001b[0;34m(self, *args, **kwargs)\u001b[0m\n\u001b[1;32m    111\u001b[0m             \u001b[0mobj\u001b[0m \u001b[0;34m=\u001b[0m \u001b[0mdata\u001b[0m\u001b[0;34m.\u001b[0m\u001b[0mwrap_output\u001b[0m\u001b[0;34m(\u001b[0m\u001b[0mfunc\u001b[0m\u001b[0;34m(\u001b[0m\u001b[0mresults\u001b[0m\u001b[0;34m,\u001b[0m \u001b[0;34m*\u001b[0m\u001b[0margs\u001b[0m\u001b[0;34m,\u001b[0m \u001b[0;34m**\u001b[0m\u001b[0mkwargs\u001b[0m\u001b[0;34m)\u001b[0m\u001b[0;34m,\u001b[0m \u001b[0mhow\u001b[0m\u001b[0;34m[\u001b[0m\u001b[0;36m0\u001b[0m\u001b[0;34m]\u001b[0m\u001b[0;34m,\u001b[0m \u001b[0mhow\u001b[0m\u001b[0;34m[\u001b[0m\u001b[0;36m1\u001b[0m\u001b[0;34m:\u001b[0m\u001b[0;34m]\u001b[0m\u001b[0;34m)\u001b[0m\u001b[0;34m\u001b[0m\u001b[0;34m\u001b[0m\u001b[0m\n\u001b[1;32m    112\u001b[0m         \u001b[0;32melif\u001b[0m \u001b[0mhow\u001b[0m\u001b[0;34m:\u001b[0m\u001b[0;34m\u001b[0m\u001b[0;34m\u001b[0m\u001b[0m\n\u001b[0;32m--> 113\u001b[0;31m             \u001b[0mobj\u001b[0m \u001b[0;34m=\u001b[0m \u001b[0mdata\u001b[0m\u001b[0;34m.\u001b[0m\u001b[0mwrap_output\u001b[0m\u001b[0;34m(\u001b[0m\u001b[0mfunc\u001b[0m\u001b[0;34m(\u001b[0m\u001b[0mresults\u001b[0m\u001b[0;34m,\u001b[0m \u001b[0;34m*\u001b[0m\u001b[0margs\u001b[0m\u001b[0;34m,\u001b[0m \u001b[0;34m**\u001b[0m\u001b[0mkwargs\u001b[0m\u001b[0;34m)\u001b[0m\u001b[0;34m,\u001b[0m \u001b[0mhow\u001b[0m\u001b[0;34m)\u001b[0m\u001b[0;34m\u001b[0m\u001b[0;34m\u001b[0m\u001b[0m\n\u001b[0m\u001b[1;32m    114\u001b[0m         \u001b[0;32mreturn\u001b[0m \u001b[0mobj\u001b[0m\u001b[0;34m\u001b[0m\u001b[0;34m\u001b[0m\u001b[0m\n\u001b[1;32m    115\u001b[0m \u001b[0;34m\u001b[0m\u001b[0m\n",
            "\u001b[0;32m/usr/local/lib/python3.7/dist-packages/statsmodels/tsa/arima_model.py\u001b[0m in \u001b[0;36mpredict\u001b[0;34m(self, start, end, exog, dynamic, **kwargs)\u001b[0m\n\u001b[1;32m   1563\u001b[0m                 **kwargs):\n\u001b[1;32m   1564\u001b[0m         return self.model.predict(self.params, start, end, exog, dynamic,\n\u001b[0;32m-> 1565\u001b[0;31m                                   **kwargs)\n\u001b[0m\u001b[1;32m   1566\u001b[0m \u001b[0;34m\u001b[0m\u001b[0m\n\u001b[1;32m   1567\u001b[0m     \u001b[0;32mdef\u001b[0m \u001b[0m_forecast_error\u001b[0m\u001b[0;34m(\u001b[0m\u001b[0mself\u001b[0m\u001b[0;34m,\u001b[0m \u001b[0msteps\u001b[0m\u001b[0;34m)\u001b[0m\u001b[0;34m:\u001b[0m\u001b[0;34m\u001b[0m\u001b[0;34m\u001b[0m\u001b[0m\n",
            "\u001b[0;32m/usr/local/lib/python3.7/dist-packages/statsmodels/tsa/arima_model.py\u001b[0m in \u001b[0;36mpredict\u001b[0;34m(self, params, start, end, exog, dynamic, **kwargs)\u001b[0m\n\u001b[1;32m    766\u001b[0m         \u001b[0;31m# will return an index of a date\u001b[0m\u001b[0;34m\u001b[0m\u001b[0;34m\u001b[0m\u001b[0;34m\u001b[0m\u001b[0m\n\u001b[1;32m    767\u001b[0m         start, end, out_of_sample, _ = (\n\u001b[0;32m--> 768\u001b[0;31m             self._get_prediction_index(start, end, dynamic))\n\u001b[0m\u001b[1;32m    769\u001b[0m \u001b[0;34m\u001b[0m\u001b[0m\n\u001b[1;32m    770\u001b[0m         \u001b[0;32mif\u001b[0m \u001b[0mout_of_sample\u001b[0m \u001b[0;32mand\u001b[0m \u001b[0;34m(\u001b[0m\u001b[0mexog\u001b[0m \u001b[0;32mis\u001b[0m \u001b[0;32mNone\u001b[0m \u001b[0;32mand\u001b[0m \u001b[0mself\u001b[0m\u001b[0;34m.\u001b[0m\u001b[0mk_exog\u001b[0m \u001b[0;34m>\u001b[0m \u001b[0;36m0\u001b[0m\u001b[0;34m)\u001b[0m\u001b[0;34m:\u001b[0m\u001b[0;34m\u001b[0m\u001b[0;34m\u001b[0m\u001b[0m\n",
            "\u001b[0;32m/usr/local/lib/python3.7/dist-packages/statsmodels/tsa/arima_model.py\u001b[0m in \u001b[0;36m_get_prediction_index\u001b[0;34m(self, start, end, dynamic, index)\u001b[0m\n\u001b[1;32m    695\u001b[0m \u001b[0;34m\u001b[0m\u001b[0m\n\u001b[1;32m    696\u001b[0m         start, end, out_of_sample, prediction_index = (\n\u001b[0;32m--> 697\u001b[0;31m             super(ARMA, self)._get_prediction_index(start, end, index))\n\u001b[0m\u001b[1;32m    698\u001b[0m \u001b[0;34m\u001b[0m\u001b[0m\n\u001b[1;32m    699\u001b[0m         \u001b[0;31m# This replaces the _validate() call\u001b[0m\u001b[0;34m\u001b[0m\u001b[0;34m\u001b[0m\u001b[0;34m\u001b[0m\u001b[0m\n",
            "\u001b[0;32m/usr/local/lib/python3.7/dist-packages/statsmodels/tsa/base/tsa_model.py\u001b[0m in \u001b[0;36m_get_prediction_index\u001b[0;34m(self, start, end, index, silent)\u001b[0m\n\u001b[1;32m    744\u001b[0m                                     \u001b[0mindex_none\u001b[0m\u001b[0;34m=\u001b[0m\u001b[0mself\u001b[0m\u001b[0;34m.\u001b[0m\u001b[0m_index_none\u001b[0m\u001b[0;34m,\u001b[0m\u001b[0;34m\u001b[0m\u001b[0;34m\u001b[0m\u001b[0m\n\u001b[1;32m    745\u001b[0m                                     \u001b[0mindex_generated\u001b[0m\u001b[0;34m=\u001b[0m\u001b[0mself\u001b[0m\u001b[0;34m.\u001b[0m\u001b[0m_index_generated\u001b[0m\u001b[0;34m,\u001b[0m\u001b[0;34m\u001b[0m\u001b[0;34m\u001b[0m\u001b[0m\n\u001b[0;32m--> 746\u001b[0;31m                                     data=self.data)\n\u001b[0m\u001b[1;32m    747\u001b[0m \u001b[0;34m\u001b[0m\u001b[0m\n\u001b[1;32m    748\u001b[0m     \u001b[0;32mdef\u001b[0m \u001b[0m_get_exog_names\u001b[0m\u001b[0;34m(\u001b[0m\u001b[0mself\u001b[0m\u001b[0;34m)\u001b[0m\u001b[0;34m:\u001b[0m\u001b[0;34m\u001b[0m\u001b[0;34m\u001b[0m\u001b[0m\n",
            "\u001b[0;32m/usr/local/lib/python3.7/dist-packages/statsmodels/tsa/base/tsa_model.py\u001b[0m in \u001b[0;36mget_prediction_index\u001b[0;34m(start, end, nobs, base_index, index, silent, index_none, index_generated, data)\u001b[0m\n\u001b[1;32m    331\u001b[0m         \u001b[0mend\u001b[0m\u001b[0;34m,\u001b[0m \u001b[0mend_index\u001b[0m\u001b[0;34m,\u001b[0m \u001b[0mend_oos\u001b[0m \u001b[0;34m=\u001b[0m \u001b[0mget_index_label_loc\u001b[0m\u001b[0;34m(\u001b[0m\u001b[0mend\u001b[0m\u001b[0;34m,\u001b[0m \u001b[0mbase_index\u001b[0m\u001b[0;34m,\u001b[0m \u001b[0mdata\u001b[0m\u001b[0;34m.\u001b[0m\u001b[0mrow_labels\u001b[0m\u001b[0;34m)\u001b[0m\u001b[0;34m\u001b[0m\u001b[0;34m\u001b[0m\u001b[0m\n\u001b[1;32m    332\u001b[0m     \u001b[0;32mexcept\u001b[0m \u001b[0mKeyError\u001b[0m\u001b[0;34m:\u001b[0m\u001b[0;34m\u001b[0m\u001b[0;34m\u001b[0m\u001b[0m\n\u001b[0;32m--> 333\u001b[0;31m         raise KeyError('The `end` argument could not be matched to a'\n\u001b[0m\u001b[1;32m    334\u001b[0m                        ' location related to the index of the data.')\n\u001b[1;32m    335\u001b[0m \u001b[0;34m\u001b[0m\u001b[0m\n",
            "\u001b[0;31mKeyError\u001b[0m: 'The `end` argument could not be matched to a location related to the index of the data.'"
          ]
        }
      ]
    },
    {
      "cell_type": "code",
      "metadata": {
        "id": "y9qQUc8Ggh6j"
      },
      "source": [
        "result_ar.summary()\n",
        "print(df_pred)"
      ],
      "execution_count": null,
      "outputs": []
    },
    {
      "cell_type": "code",
      "metadata": {
        "id": "GuEVIIKzUcEN"
      },
      "source": [
        "calculateRMSE(df_pred)"
      ],
      "execution_count": null,
      "outputs": []
    },
    {
      "cell_type": "markdown",
      "metadata": {
        "id": "qD5c-xk0eyjT"
      },
      "source": [
        "### Higher-Lag AR Models\n",
        "\n"
      ]
    },
    {
      "cell_type": "markdown",
      "metadata": {
        "id": "OhmX1QMZ_XDZ"
      },
      "source": [
        "\n",
        "\n",
        "> With Lag 2\n",
        "\n"
      ]
    },
    {
      "cell_type": "code",
      "metadata": {
        "id": "IiLyXgeifiii"
      },
      "source": [
        "model_ar_2 = ARMA(ScriptWiseData[Stock].Close, order = (2,0))\n",
        "result_ar_2 = model_ar_2.fit()\n",
        "df_pred_2 = result_ar_2.predict(start = test_start_date, end = test_end_date)\n",
        "result_ar_2.summary()"
      ],
      "execution_count": null,
      "outputs": []
    },
    {
      "cell_type": "markdown",
      "metadata": {
        "id": "617NtSXI_bd7"
      },
      "source": [
        "\n",
        "\n",
        "> With Lag 8\n",
        "\n"
      ]
    },
    {
      "cell_type": "code",
      "metadata": {
        "id": "hIvEh8Dk-OzX"
      },
      "source": [
        "model_ar_8 = ARMA(ScriptWiseData[Stock].Close, order = (8,0))\n",
        "result_ar_8 = model_ar_8.fit()\n",
        "df_pred_8 = result_ar_8.predict(start = test_start_date, end = test_end_date)"
      ],
      "execution_count": 179,
      "outputs": []
    },
    {
      "cell_type": "code",
      "metadata": {
        "colab": {
          "base_uri": "https://localhost:8080/"
        },
        "id": "g3AVc_Va-Wp0",
        "outputId": "e82a8780-2b82-4a6e-8a47-6f3cbc99f15b"
      },
      "source": [
        "calculateRMSE(df_pred_8)"
      ],
      "execution_count": 180,
      "outputs": [
        {
          "output_type": "stream",
          "text": [
            "RMSE : 11.144881384437978\n"
          ],
          "name": "stdout"
        }
      ]
    },
    {
      "cell_type": "markdown",
      "metadata": {
        "id": "pORGtq6E_g2J"
      },
      "source": [
        "\n",
        "\n",
        "> With Lag 20\n",
        "\n"
      ]
    },
    {
      "cell_type": "code",
      "metadata": {
        "id": "TR77IlL94KHu"
      },
      "source": [
        "model_ar_20 = ARMA(ScriptWiseData[Stock].Close, order = (20,0))\n",
        "result_ar_20 = model_ar_20.fit()\n",
        "df_pred_20 = result_ar_20.predict(start = test_start_date, end = test_end_date)"
      ],
      "execution_count": 182,
      "outputs": []
    },
    {
      "cell_type": "code",
      "metadata": {
        "colab": {
          "base_uri": "https://localhost:8080/"
        },
        "id": "NobQ0jC7gDOM",
        "outputId": "240614b0-a7bc-4c13-e71d-877564be8008"
      },
      "source": [
        "calculateRMSE(df_pred_20)"
      ],
      "execution_count": 184,
      "outputs": [
        {
          "output_type": "stream",
          "text": [
            "RMSE : 11.156334794412102\n"
          ],
          "name": "stdout"
        }
      ]
    },
    {
      "cell_type": "code",
      "metadata": {
        "colab": {
          "base_uri": "https://localhost:8080/"
        },
        "id": "1dULuTAOnsWH",
        "outputId": "c0940852-86da-4e26-d6fb-61dc4ec9e1e7"
      },
      "source": [
        "print(LLRTest(model_ar, model_ar_2))\n",
        "print(LLRTest(model_ar, model_ar_8))\n",
        "print(LLRTest(model_ar, model_ar_20))"
      ],
      "execution_count": 172,
      "outputs": [
        {
          "output_type": "stream",
          "text": [
            "0.967\n",
            "0.001\n"
          ],
          "name": "stdout"
        }
      ]
    },
    {
      "cell_type": "code",
      "metadata": {
        "colab": {
          "base_uri": "https://localhost:8080/",
          "height": 351
        },
        "id": "0K_qtpfNgmTb",
        "outputId": "f909cee4-8f83-43c4-cfef-d1e2118db9ca"
      },
      "source": [
        "df_pred.plot(figsize = (12,5))\n",
        "actual.plot(figsize = (12,5))"
      ],
      "execution_count": 270,
      "outputs": [
        {
          "output_type": "execute_result",
          "data": {
            "text/plain": [
              "<matplotlib.axes._subplots.AxesSubplot at 0x7f02ca497650>"
            ]
          },
          "metadata": {
            "tags": []
          },
          "execution_count": 270
        },
        {
          "output_type": "display_data",
          "data": {
            "image/png": "[encoded data removed]",
            "text/plain": [
              "<Figure size 864x360 with 1 Axes>"
            ]
          },
          "metadata": {
            "tags": [],
            "needs_background": "light"
          }
        }
      ]
    },
    {
      "cell_type": "markdown",
      "metadata": {
        "id": "IqVcqN3e-ihx"
      },
      "source": [
        "# Using Returns"
      ]
    },
    {
      "cell_type": "code",
      "metadata": {
        "id": "oPwDyRmQ-lXd"
      },
      "source": [
        "Stock_Returns = ScriptWiseData[Stock].Close.pct_change(1).mul(100)\n",
        "Stock_Returns = Stock_Return.iloc[1:]  \n",
        "Stock_Returns"
      ],
      "execution_count": 198,
      "outputs": []
    },
    {
      "cell_type": "markdown",
      "metadata": {
        "id": "ACI5rnn5AwrZ"
      },
      "source": [
        "\n",
        "\n",
        "> ADF Test on returns\n",
        "\n"
      ]
    },
    {
      "cell_type": "code",
      "metadata": {
        "colab": {
          "base_uri": "https://localhost:8080/"
        },
        "id": "nmjAXTu2-mhb",
        "outputId": "513453e7-a290-460c-c253-c425f0ad3855"
      },
      "source": [
        "print(adf_test(Stock_Returns, title='ADF Test for Stock market Returns'))"
      ],
      "execution_count": 202,
      "outputs": [
        {
          "output_type": "stream",
          "text": [
            "(-69.02918352751362, 0.0, 0, 4706, {'1%': -3.4317403252279095, '5%': -2.8621543649618517, '10%': -2.5670970286650188}, 22316.521758307892)\n",
            "ADF test statistic       -69.029184\n",
            "p-value                    0.000000\n",
            "# lags used                0.000000\n",
            "#observations           4706.000000\n",
            "critical value (1%)       -3.431740\n",
            "critical value (5%)       -2.862154\n",
            "critical value (10%)      -2.567097\n",
            "Data is stationary\n"
          ],
          "name": "stdout"
        }
      ]
    },
    {
      "cell_type": "markdown",
      "metadata": {
        "id": "xcpDLNjVBTGD"
      },
      "source": [
        "### ACF and PACF for Returns"
      ]
    },
    {
      "cell_type": "code",
      "metadata": {
        "colab": {
          "base_uri": "https://localhost:8080/",
          "height": 290
        },
        "id": "Fg3N8NtD-mmP",
        "outputId": "0f6c133f-ebf7-400e-d9a7-cf5e16cb9a49"
      },
      "source": [
        "plot_acf(Stock_Returns, 'ACF on Closing Return')"
      ],
      "execution_count": 208,
      "outputs": [
        {
          "output_type": "display_data",
          "data": {
            "image/png": "[encoded data removed]",
            "text/plain": [
              "<Figure size 432x288 with 1 Axes>"
            ]
          },
          "metadata": {
            "tags": [],
            "needs_background": "light"
          }
        }
      ]
    },
    {
      "cell_type": "code",
      "metadata": {
        "colab": {
          "base_uri": "https://localhost:8080/",
          "height": 290
        },
        "id": "MPStPVSI-mxO",
        "outputId": "6b051cb1-3169-4d0e-eb34-de16a6d76d23"
      },
      "source": [
        "plot_pacf(Stock_Returns, 'PACF on Closing Return')"
      ],
      "execution_count": 209,
      "outputs": [
        {
          "output_type": "display_data",
          "data": {
            "image/png": "[encoded data removed]",
            "text/plain": [
              "<Figure size 432x288 with 1 Axes>"
            ]
          },
          "metadata": {
            "tags": [],
            "needs_background": "light"
          }
        }
      ]
    },
    {
      "cell_type": "markdown",
      "metadata": {
        "id": "FfOKJLFIDhIL"
      },
      "source": [
        "### AR(1) model for returns"
      ]
    },
    {
      "cell_type": "code",
      "metadata": {
        "colab": {
          "base_uri": "https://localhost:8080/"
        },
        "id": "yvIPCGNCH8DV",
        "outputId": "318ce480-299b-4df1-ba89-634b7fbc2ee3"
      },
      "source": [
        "Stock_Returns.describe()"
      ],
      "execution_count": 220,
      "outputs": [
        {
          "output_type": "execute_result",
          "data": {
            "text/plain": [
              "count    4707.000000\n",
              "mean        0.045482\n",
              "std         2.628061\n",
              "min       -79.919900\n",
              "25%        -0.998455\n",
              "50%         0.025281\n",
              "75%         1.114753\n",
              "max        10.960362\n",
              "Name: Close, dtype: float64"
            ]
          },
          "metadata": {
            "tags": []
          },
          "execution_count": 220
        }
      ]
    },
    {
      "cell_type": "code",
      "metadata": {
        "id": "CvmchCGkEI8y"
      },
      "source": [
        "# Actual Returns \n",
        "test_start_date = '2020-03-02'\n",
        "test_end_date = '2021-03-23'\n",
        "actual_returns = Stock_Returns.loc[test_start_date:test_end_date]\n",
        "print(actual_returns)"
      ],
      "execution_count": null,
      "outputs": []
    },
    {
      "cell_type": "code",
      "metadata": {
        "id": "6Q5cxlL5DtHA"
      },
      "source": [
        "model_ret_ar_1 = ARMA(Stock_Returns, order = (1,0))\n",
        "result_ret_ar_1 = model_ret_ar_1.fit()\n",
        "df_pred_ret_1 = result_ret_ar_1.predict(start = test_start_date, end = test_end_date)\n"
      ],
      "execution_count": 216,
      "outputs": []
    },
    {
      "cell_type": "code",
      "metadata": {
        "colab": {
          "base_uri": "https://localhost:8080/",
          "height": 289
        },
        "id": "C6iYRUBPDtHD",
        "outputId": "f7384e45-b420-41de-febd-8dd61535235f"
      },
      "source": [
        "result_ret_ar_1.summary()\n",
        "#print(df_pred_ret_1)"
      ],
      "execution_count": 219,
      "outputs": [
        {
          "output_type": "execute_result",
          "data": {
            "text/html": [
              "<table class=\"simpletable\">\n",
              "<caption>ARMA Model Results</caption>\n",
              "<tr>\n",
              "  <th>Dep. Variable:</th>       <td>Close</td>      <th>  No. Observations:  </th>    <td>4707</td>   \n",
              "</tr>\n",
              "<tr>\n",
              "  <th>Model:</th>            <td>ARMA(1, 0)</td>    <th>  Log Likelihood     </th> <td>-11226.468</td>\n",
              "</tr>\n",
              "<tr>\n",
              "  <th>Method:</th>             <td>css-mle</td>     <th>  S.D. of innovations</th>    <td>2.628</td>  \n",
              "</tr>\n",
              "<tr>\n",
              "  <th>Date:</th>          <td>Wed, 14 Jul 2021</td> <th>  AIC                </th>  <td>22458.936</td>\n",
              "</tr>\n",
              "<tr>\n",
              "  <th>Time:</th>              <td>13:03:58</td>     <th>  BIC                </th>  <td>22478.306</td>\n",
              "</tr>\n",
              "<tr>\n",
              "  <th>Sample:</th>                <td>0</td>        <th>  HQIC               </th>  <td>22465.745</td>\n",
              "</tr>\n",
              "<tr>\n",
              "  <th></th>                       <td> </td>        <th>                     </th>      <td> </td>    \n",
              "</tr>\n",
              "</table>\n",
              "<table class=\"simpletable\">\n",
              "<tr>\n",
              "       <td></td>          <th>coef</th>     <th>std err</th>      <th>z</th>      <th>P>|z|</th>  <th>[0.025</th>    <th>0.975]</th>  \n",
              "</tr>\n",
              "<tr>\n",
              "  <th>const</th>       <td>    0.0455</td> <td>    0.038</td> <td>    1.195</td> <td> 0.232</td> <td>   -0.029</td> <td>    0.120</td>\n",
              "</tr>\n",
              "<tr>\n",
              "  <th>ar.L1.Close</th> <td>   -0.0064</td> <td>    0.015</td> <td>   -0.441</td> <td> 0.659</td> <td>   -0.035</td> <td>    0.022</td>\n",
              "</tr>\n",
              "</table>\n",
              "<table class=\"simpletable\">\n",
              "<caption>Roots</caption>\n",
              "<tr>\n",
              "    <td></td>   <th>            Real</th>  <th>         Imaginary</th> <th>         Modulus</th>  <th>        Frequency</th>\n",
              "</tr>\n",
              "<tr>\n",
              "  <th>AR.1</th> <td>        -155.4527</td> <td>          +0.0000j</td> <td>         155.4527</td> <td>           0.5000</td>\n",
              "</tr>\n",
              "</table>"
            ],
            "text/plain": [
              "<class 'statsmodels.iolib.summary.Summary'>\n",
              "\"\"\"\n",
              "                              ARMA Model Results                              \n",
              "==============================================================================\n",
              "Dep. Variable:                  Close   No. Observations:                 4707\n",
              "Model:                     ARMA(1, 0)   Log Likelihood              -11226.468\n",
              "Method:                       css-mle   S.D. of innovations              2.628\n",
              "Date:                Wed, 14 Jul 2021   AIC                          22458.936\n",
              "Time:                        13:03:58   BIC                          22478.306\n",
              "Sample:                             0   HQIC                         22465.745\n",
              "                                                                              \n",
              "===============================================================================\n",
              "                  coef    std err          z      P>|z|      [0.025      0.975]\n",
              "-------------------------------------------------------------------------------\n",
              "const           0.0455      0.038      1.195      0.232      -0.029       0.120\n",
              "ar.L1.Close    -0.0064      0.015     -0.441      0.659      -0.035       0.022\n",
              "                                    Roots                                    \n",
              "=============================================================================\n",
              "                  Real          Imaginary           Modulus         Frequency\n",
              "-----------------------------------------------------------------------------\n",
              "AR.1         -155.4527           +0.0000j          155.4527            0.5000\n",
              "-----------------------------------------------------------------------------\n",
              "\"\"\""
            ]
          },
          "metadata": {
            "tags": []
          },
          "execution_count": 219
        }
      ]
    },
    {
      "cell_type": "code",
      "metadata": {
        "colab": {
          "base_uri": "https://localhost:8080/"
        },
        "id": "5k9qrZhqDtHE",
        "outputId": "84f0b83d-6d8c-4ef7-d256-3b48149bfa91"
      },
      "source": [
        "calculateRMSE(df_pred_returns_1,actual_returns)"
      ],
      "execution_count": 215,
      "outputs": [
        {
          "output_type": "stream",
          "text": [
            "RMSE : 2.41303633709757\n"
          ],
          "name": "stdout"
        }
      ]
    },
    {
      "cell_type": "markdown",
      "metadata": {
        "id": "f1Kk_dfXF3f8"
      },
      "source": [
        "### Higher-Lag AR Models for Returns\n",
        "\n"
      ]
    },
    {
      "cell_type": "markdown",
      "metadata": {
        "id": "WFkIhhPmF3f9"
      },
      "source": [
        "\n",
        "\n",
        "> With Lag 2\n",
        "\n"
      ]
    },
    {
      "cell_type": "code",
      "metadata": {
        "colab": {
          "base_uri": "https://localhost:8080/",
          "height": 331
        },
        "id": "gxCXed1uF3f-",
        "outputId": "16015a42-6d28-4c74-b3a9-7a2bfcd34df8"
      },
      "source": [
        "\n",
        "model_ret_ar_2 = ARMA(Stock_Returns, order = (2,0))\n",
        "result_ret_ar_2 = model_ret_ar_2.fit()\n",
        "df_pred_ret_2 = result_ret_ar_2.predict(start = test_start_date, end = test_end_date)\n",
        "result_ret_ar_2.summary()"
      ],
      "execution_count": 222,
      "outputs": [
        {
          "output_type": "execute_result",
          "data": {
            "text/html": [
              "<table class=\"simpletable\">\n",
              "<caption>ARMA Model Results</caption>\n",
              "<tr>\n",
              "  <th>Dep. Variable:</th>       <td>Close</td>      <th>  No. Observations:  </th>    <td>4707</td>   \n",
              "</tr>\n",
              "<tr>\n",
              "  <th>Model:</th>            <td>ARMA(2, 0)</td>    <th>  Log Likelihood     </th> <td>-11225.909</td>\n",
              "</tr>\n",
              "<tr>\n",
              "  <th>Method:</th>             <td>css-mle</td>     <th>  S.D. of innovations</th>    <td>2.627</td>  \n",
              "</tr>\n",
              "<tr>\n",
              "  <th>Date:</th>          <td>Wed, 14 Jul 2021</td> <th>  AIC                </th>  <td>22459.818</td>\n",
              "</tr>\n",
              "<tr>\n",
              "  <th>Time:</th>              <td>13:08:29</td>     <th>  BIC                </th>  <td>22485.645</td>\n",
              "</tr>\n",
              "<tr>\n",
              "  <th>Sample:</th>                <td>0</td>        <th>  HQIC               </th>  <td>22468.898</td>\n",
              "</tr>\n",
              "<tr>\n",
              "  <th></th>                       <td> </td>        <th>                     </th>      <td> </td>    \n",
              "</tr>\n",
              "</table>\n",
              "<table class=\"simpletable\">\n",
              "<tr>\n",
              "       <td></td>          <th>coef</th>     <th>std err</th>      <th>z</th>      <th>P>|z|</th>  <th>[0.025</th>    <th>0.975]</th>  \n",
              "</tr>\n",
              "<tr>\n",
              "  <th>const</th>       <td>    0.0455</td> <td>    0.037</td> <td>    1.214</td> <td> 0.225</td> <td>   -0.028</td> <td>    0.119</td>\n",
              "</tr>\n",
              "<tr>\n",
              "  <th>ar.L1.Close</th> <td>   -0.0065</td> <td>    0.015</td> <td>   -0.448</td> <td> 0.654</td> <td>   -0.035</td> <td>    0.022</td>\n",
              "</tr>\n",
              "<tr>\n",
              "  <th>ar.L2.Close</th> <td>   -0.0154</td> <td>    0.015</td> <td>   -1.057</td> <td> 0.290</td> <td>   -0.044</td> <td>    0.013</td>\n",
              "</tr>\n",
              "</table>\n",
              "<table class=\"simpletable\">\n",
              "<caption>Roots</caption>\n",
              "<tr>\n",
              "    <td></td>   <th>            Real</th>  <th>         Imaginary</th> <th>         Modulus</th>  <th>        Frequency</th>\n",
              "</tr>\n",
              "<tr>\n",
              "  <th>AR.1</th> <td>          -0.2120</td> <td>          -8.0535j</td> <td>           8.0563</td> <td>          -0.2542</td>\n",
              "</tr>\n",
              "<tr>\n",
              "  <th>AR.2</th> <td>          -0.2120</td> <td>          +8.0535j</td> <td>           8.0563</td> <td>           0.2542</td>\n",
              "</tr>\n",
              "</table>"
            ],
            "text/plain": [
              "<class 'statsmodels.iolib.summary.Summary'>\n",
              "\"\"\"\n",
              "                              ARMA Model Results                              \n",
              "==============================================================================\n",
              "Dep. Variable:                  Close   No. Observations:                 4707\n",
              "Model:                     ARMA(2, 0)   Log Likelihood              -11225.909\n",
              "Method:                       css-mle   S.D. of innovations              2.627\n",
              "Date:                Wed, 14 Jul 2021   AIC                          22459.818\n",
              "Time:                        13:08:29   BIC                          22485.645\n",
              "Sample:                             0   HQIC                         22468.898\n",
              "                                                                              \n",
              "===============================================================================\n",
              "                  coef    std err          z      P>|z|      [0.025      0.975]\n",
              "-------------------------------------------------------------------------------\n",
              "const           0.0455      0.037      1.214      0.225      -0.028       0.119\n",
              "ar.L1.Close    -0.0065      0.015     -0.448      0.654      -0.035       0.022\n",
              "ar.L2.Close    -0.0154      0.015     -1.057      0.290      -0.044       0.013\n",
              "                                    Roots                                    \n",
              "=============================================================================\n",
              "                  Real          Imaginary           Modulus         Frequency\n",
              "-----------------------------------------------------------------------------\n",
              "AR.1           -0.2120           -8.0535j            8.0563           -0.2542\n",
              "AR.2           -0.2120           +8.0535j            8.0563            0.2542\n",
              "-----------------------------------------------------------------------------\n",
              "\"\"\""
            ]
          },
          "metadata": {
            "tags": []
          },
          "execution_count": 222
        }
      ]
    },
    {
      "cell_type": "markdown",
      "metadata": {
        "id": "Ywp_Ud60F3f_"
      },
      "source": [
        "\n",
        "\n",
        "> With Lag 8\n",
        "\n"
      ]
    },
    {
      "cell_type": "code",
      "metadata": {
        "colab": {
          "base_uri": "https://localhost:8080/",
          "height": 579
        },
        "id": "-dxinJ75F3gA",
        "outputId": "652be398-1129-42bf-cba1-525e21556e5b"
      },
      "source": [
        "\n",
        "model_ret_ar_8 = ARMA(Stock_Returns, order = (8,0))\n",
        "result_ret_ar_8 = model_ret_ar_8.fit()\n",
        "df_pred_ret_8 = result_ret_ar_8.predict(start = test_start_date, end = test_end_date)\n",
        "result_ret_ar_8.summary()"
      ],
      "execution_count": 224,
      "outputs": [
        {
          "output_type": "execute_result",
          "data": {
            "text/html": [
              "<table class=\"simpletable\">\n",
              "<caption>ARMA Model Results</caption>\n",
              "<tr>\n",
              "  <th>Dep. Variable:</th>       <td>Close</td>      <th>  No. Observations:  </th>    <td>4707</td>   \n",
              "</tr>\n",
              "<tr>\n",
              "  <th>Model:</th>            <td>ARMA(8, 0)</td>    <th>  Log Likelihood     </th> <td>-11224.306</td>\n",
              "</tr>\n",
              "<tr>\n",
              "  <th>Method:</th>             <td>css-mle</td>     <th>  S.D. of innovations</th>    <td>2.627</td>  \n",
              "</tr>\n",
              "<tr>\n",
              "  <th>Date:</th>          <td>Wed, 14 Jul 2021</td> <th>  AIC                </th>  <td>22468.613</td>\n",
              "</tr>\n",
              "<tr>\n",
              "  <th>Time:</th>              <td>13:12:37</td>     <th>  BIC                </th>  <td>22533.181</td>\n",
              "</tr>\n",
              "<tr>\n",
              "  <th>Sample:</th>                <td>0</td>        <th>  HQIC               </th>  <td>22491.312</td>\n",
              "</tr>\n",
              "<tr>\n",
              "  <th></th>                       <td> </td>        <th>                     </th>      <td> </td>    \n",
              "</tr>\n",
              "</table>\n",
              "<table class=\"simpletable\">\n",
              "<tr>\n",
              "       <td></td>          <th>coef</th>     <th>std err</th>      <th>z</th>      <th>P>|z|</th>  <th>[0.025</th>    <th>0.975]</th>  \n",
              "</tr>\n",
              "<tr>\n",
              "  <th>const</th>       <td>    0.0455</td> <td>    0.038</td> <td>    1.212</td> <td> 0.226</td> <td>   -0.028</td> <td>    0.119</td>\n",
              "</tr>\n",
              "<tr>\n",
              "  <th>ar.L1.Close</th> <td>   -0.0066</td> <td>    0.015</td> <td>   -0.451</td> <td> 0.652</td> <td>   -0.035</td> <td>    0.022</td>\n",
              "</tr>\n",
              "<tr>\n",
              "  <th>ar.L2.Close</th> <td>   -0.0150</td> <td>    0.015</td> <td>   -1.026</td> <td> 0.305</td> <td>   -0.044</td> <td>    0.014</td>\n",
              "</tr>\n",
              "<tr>\n",
              "  <th>ar.L3.Close</th> <td>   -0.0150</td> <td>    0.015</td> <td>   -1.032</td> <td> 0.302</td> <td>   -0.044</td> <td>    0.014</td>\n",
              "</tr>\n",
              "<tr>\n",
              "  <th>ar.L4.Close</th> <td>    0.0125</td> <td>    0.015</td> <td>    0.856</td> <td> 0.392</td> <td>   -0.016</td> <td>    0.041</td>\n",
              "</tr>\n",
              "<tr>\n",
              "  <th>ar.L5.Close</th> <td>    0.0057</td> <td>    0.015</td> <td>    0.391</td> <td> 0.696</td> <td>   -0.023</td> <td>    0.034</td>\n",
              "</tr>\n",
              "<tr>\n",
              "  <th>ar.L6.Close</th> <td>   -0.0097</td> <td>    0.015</td> <td>   -0.668</td> <td> 0.504</td> <td>   -0.038</td> <td>    0.019</td>\n",
              "</tr>\n",
              "<tr>\n",
              "  <th>ar.L7.Close</th> <td>   -0.0041</td> <td>    0.015</td> <td>   -0.281</td> <td> 0.778</td> <td>   -0.033</td> <td>    0.024</td>\n",
              "</tr>\n",
              "<tr>\n",
              "  <th>ar.L8.Close</th> <td>    0.0120</td> <td>    0.015</td> <td>    0.821</td> <td> 0.412</td> <td>   -0.017</td> <td>    0.041</td>\n",
              "</tr>\n",
              "</table>\n",
              "<table class=\"simpletable\">\n",
              "<caption>Roots</caption>\n",
              "<tr>\n",
              "    <td></td>   <th>            Real</th>  <th>         Imaginary</th> <th>         Modulus</th>  <th>        Frequency</th>\n",
              "</tr>\n",
              "<tr>\n",
              "  <th>AR.1</th> <td>          -1.7396</td> <td>          -0.0000j</td> <td>           1.7396</td> <td>          -0.5000</td>\n",
              "</tr>\n",
              "<tr>\n",
              "  <th>AR.2</th> <td>          -1.2530</td> <td>          -1.1921j</td> <td>           1.7295</td> <td>          -0.3790</td>\n",
              "</tr>\n",
              "<tr>\n",
              "  <th>AR.3</th> <td>          -1.2530</td> <td>          +1.1921j</td> <td>           1.7295</td> <td>           0.3790</td>\n",
              "</tr>\n",
              "<tr>\n",
              "  <th>AR.4</th> <td>           0.0623</td> <td>          -1.6472j</td> <td>           1.6484</td> <td>          -0.2440</td>\n",
              "</tr>\n",
              "<tr>\n",
              "  <th>AR.5</th> <td>           0.0623</td> <td>          +1.6472j</td> <td>           1.6484</td> <td>           0.2440</td>\n",
              "</tr>\n",
              "<tr>\n",
              "  <th>AR.6</th> <td>           1.3127</td> <td>          -1.2220j</td> <td>           1.7935</td> <td>          -0.1193</td>\n",
              "</tr>\n",
              "<tr>\n",
              "  <th>AR.7</th> <td>           1.3127</td> <td>          +1.2220j</td> <td>           1.7935</td> <td>           0.1193</td>\n",
              "</tr>\n",
              "<tr>\n",
              "  <th>AR.8</th> <td>           1.8383</td> <td>          -0.0000j</td> <td>           1.8383</td> <td>          -0.0000</td>\n",
              "</tr>\n",
              "</table>"
            ],
            "text/plain": [
              "<class 'statsmodels.iolib.summary.Summary'>\n",
              "\"\"\"\n",
              "                              ARMA Model Results                              \n",
              "==============================================================================\n",
              "Dep. Variable:                  Close   No. Observations:                 4707\n",
              "Model:                     ARMA(8, 0)   Log Likelihood              -11224.306\n",
              "Method:                       css-mle   S.D. of innovations              2.627\n",
              "Date:                Wed, 14 Jul 2021   AIC                          22468.613\n",
              "Time:                        13:12:37   BIC                          22533.181\n",
              "Sample:                             0   HQIC                         22491.312\n",
              "                                                                              \n",
              "===============================================================================\n",
              "                  coef    std err          z      P>|z|      [0.025      0.975]\n",
              "-------------------------------------------------------------------------------\n",
              "const           0.0455      0.038      1.212      0.226      -0.028       0.119\n",
              "ar.L1.Close    -0.0066      0.015     -0.451      0.652      -0.035       0.022\n",
              "ar.L2.Close    -0.0150      0.015     -1.026      0.305      -0.044       0.014\n",
              "ar.L3.Close    -0.0150      0.015     -1.032      0.302      -0.044       0.014\n",
              "ar.L4.Close     0.0125      0.015      0.856      0.392      -0.016       0.041\n",
              "ar.L5.Close     0.0057      0.015      0.391      0.696      -0.023       0.034\n",
              "ar.L6.Close    -0.0097      0.015     -0.668      0.504      -0.038       0.019\n",
              "ar.L7.Close    -0.0041      0.015     -0.281      0.778      -0.033       0.024\n",
              "ar.L8.Close     0.0120      0.015      0.821      0.412      -0.017       0.041\n",
              "                                    Roots                                    \n",
              "=============================================================================\n",
              "                  Real          Imaginary           Modulus         Frequency\n",
              "-----------------------------------------------------------------------------\n",
              "AR.1           -1.7396           -0.0000j            1.7396           -0.5000\n",
              "AR.2           -1.2530           -1.1921j            1.7295           -0.3790\n",
              "AR.3           -1.2530           +1.1921j            1.7295            0.3790\n",
              "AR.4            0.0623           -1.6472j            1.6484           -0.2440\n",
              "AR.5            0.0623           +1.6472j            1.6484            0.2440\n",
              "AR.6            1.3127           -1.2220j            1.7935           -0.1193\n",
              "AR.7            1.3127           +1.2220j            1.7935            0.1193\n",
              "AR.8            1.8383           -0.0000j            1.8383           -0.0000\n",
              "-----------------------------------------------------------------------------\n",
              "\"\"\""
            ]
          },
          "metadata": {
            "tags": []
          },
          "execution_count": 224
        }
      ]
    },
    {
      "cell_type": "code",
      "metadata": {
        "colab": {
          "base_uri": "https://localhost:8080/"
        },
        "id": "xHWAw_vnF3gB",
        "outputId": "4710238b-0c55-423e-b599-b614da9ee3a3"
      },
      "source": [
        "calculateRMSE(df_pred_ret_8, actual_returns)\n"
      ],
      "execution_count": 225,
      "outputs": [
        {
          "output_type": "stream",
          "text": [
            "RMSE : 2.413261383454531\n"
          ],
          "name": "stdout"
        }
      ]
    },
    {
      "cell_type": "markdown",
      "metadata": {
        "id": "I-lTC-I6F3gF"
      },
      "source": [
        "\n",
        "\n",
        "> With Lag 20\n",
        "\n"
      ]
    },
    {
      "cell_type": "code",
      "metadata": {
        "colab": {
          "base_uri": "https://localhost:8080/",
          "height": 1000
        },
        "id": "_Wcw2s9PF3gG",
        "outputId": "aef61f23-24f2-4f2b-9bda-4c411ca5dfd5"
      },
      "source": [
        "model_ret_ar_20 = ARMA(Stock_Returns, order = (20,0))\n",
        "result_ret_ar_20 = model_ret_ar_20.fit()\n",
        "df_pred_ret_20 = result_ret_ar_20.predict(start = test_start_date, end = test_end_date)\n",
        "result_ret_ar_20.summary()"
      ],
      "execution_count": 227,
      "outputs": [
        {
          "output_type": "execute_result",
          "data": {
            "text/html": [
              "<table class=\"simpletable\">\n",
              "<caption>ARMA Model Results</caption>\n",
              "<tr>\n",
              "  <th>Dep. Variable:</th>       <td>Close</td>      <th>  No. Observations:  </th>    <td>4707</td>   \n",
              "</tr>\n",
              "<tr>\n",
              "  <th>Model:</th>            <td>ARMA(20, 0)</td>   <th>  Log Likelihood     </th> <td>-11220.020</td>\n",
              "</tr>\n",
              "<tr>\n",
              "  <th>Method:</th>             <td>css-mle</td>     <th>  S.D. of innovations</th>    <td>2.624</td>  \n",
              "</tr>\n",
              "<tr>\n",
              "  <th>Date:</th>          <td>Wed, 14 Jul 2021</td> <th>  AIC                </th>  <td>22484.040</td>\n",
              "</tr>\n",
              "<tr>\n",
              "  <th>Time:</th>              <td>13:21:48</td>     <th>  BIC                </th>  <td>22626.090</td>\n",
              "</tr>\n",
              "<tr>\n",
              "  <th>Sample:</th>                <td>0</td>        <th>  HQIC               </th>  <td>22533.979</td>\n",
              "</tr>\n",
              "<tr>\n",
              "  <th></th>                       <td> </td>        <th>                     </th>      <td> </td>    \n",
              "</tr>\n",
              "</table>\n",
              "<table class=\"simpletable\">\n",
              "<tr>\n",
              "        <td></td>          <th>coef</th>     <th>std err</th>      <th>z</th>      <th>P>|z|</th>  <th>[0.025</th>    <th>0.975]</th>  \n",
              "</tr>\n",
              "<tr>\n",
              "  <th>const</th>        <td>    0.0456</td> <td>    0.035</td> <td>    1.302</td> <td> 0.193</td> <td>   -0.023</td> <td>    0.114</td>\n",
              "</tr>\n",
              "<tr>\n",
              "  <th>ar.L1.Close</th>  <td>   -0.0062</td> <td>    0.015</td> <td>   -0.423</td> <td> 0.672</td> <td>   -0.035</td> <td>    0.022</td>\n",
              "</tr>\n",
              "<tr>\n",
              "  <th>ar.L2.Close</th>  <td>   -0.0155</td> <td>    0.015</td> <td>   -1.065</td> <td> 0.287</td> <td>   -0.044</td> <td>    0.013</td>\n",
              "</tr>\n",
              "<tr>\n",
              "  <th>ar.L3.Close</th>  <td>   -0.0151</td> <td>    0.015</td> <td>   -1.039</td> <td> 0.299</td> <td>   -0.044</td> <td>    0.013</td>\n",
              "</tr>\n",
              "<tr>\n",
              "  <th>ar.L4.Close</th>  <td>    0.0124</td> <td>    0.015</td> <td>    0.853</td> <td> 0.393</td> <td>   -0.016</td> <td>    0.041</td>\n",
              "</tr>\n",
              "<tr>\n",
              "  <th>ar.L5.Close</th>  <td>    0.0055</td> <td>    0.015</td> <td>    0.378</td> <td> 0.706</td> <td>   -0.023</td> <td>    0.034</td>\n",
              "</tr>\n",
              "<tr>\n",
              "  <th>ar.L6.Close</th>  <td>   -0.0099</td> <td>    0.015</td> <td>   -0.681</td> <td> 0.496</td> <td>   -0.038</td> <td>    0.019</td>\n",
              "</tr>\n",
              "<tr>\n",
              "  <th>ar.L7.Close</th>  <td>   -0.0045</td> <td>    0.015</td> <td>   -0.311</td> <td> 0.756</td> <td>   -0.033</td> <td>    0.024</td>\n",
              "</tr>\n",
              "<tr>\n",
              "  <th>ar.L8.Close</th>  <td>    0.0123</td> <td>    0.015</td> <td>    0.846</td> <td> 0.397</td> <td>   -0.016</td> <td>    0.041</td>\n",
              "</tr>\n",
              "<tr>\n",
              "  <th>ar.L9.Close</th>  <td>   -0.0168</td> <td>    0.015</td> <td>   -1.154</td> <td> 0.248</td> <td>   -0.045</td> <td>    0.012</td>\n",
              "</tr>\n",
              "<tr>\n",
              "  <th>ar.L10.Close</th> <td>    0.0107</td> <td>    0.015</td> <td>    0.731</td> <td> 0.465</td> <td>   -0.018</td> <td>    0.039</td>\n",
              "</tr>\n",
              "<tr>\n",
              "  <th>ar.L11.Close</th> <td>   -0.0130</td> <td>    0.015</td> <td>   -0.892</td> <td> 0.372</td> <td>   -0.042</td> <td>    0.016</td>\n",
              "</tr>\n",
              "<tr>\n",
              "  <th>ar.L12.Close</th> <td>   -0.0105</td> <td>    0.015</td> <td>   -0.719</td> <td> 0.472</td> <td>   -0.039</td> <td>    0.018</td>\n",
              "</tr>\n",
              "<tr>\n",
              "  <th>ar.L13.Close</th> <td>    0.0086</td> <td>    0.015</td> <td>    0.592</td> <td> 0.554</td> <td>   -0.020</td> <td>    0.037</td>\n",
              "</tr>\n",
              "<tr>\n",
              "  <th>ar.L14.Close</th> <td>    0.0037</td> <td>    0.015</td> <td>    0.253</td> <td> 0.801</td> <td>   -0.025</td> <td>    0.032</td>\n",
              "</tr>\n",
              "<tr>\n",
              "  <th>ar.L15.Close</th> <td>   -0.0002</td> <td>    0.015</td> <td>   -0.013</td> <td> 0.990</td> <td>   -0.029</td> <td>    0.028</td>\n",
              "</tr>\n",
              "<tr>\n",
              "  <th>ar.L16.Close</th> <td>   -0.0261</td> <td>    0.015</td> <td>   -1.790</td> <td> 0.073</td> <td>   -0.055</td> <td>    0.002</td>\n",
              "</tr>\n",
              "<tr>\n",
              "  <th>ar.L17.Close</th> <td>    0.0032</td> <td>    0.015</td> <td>    0.216</td> <td> 0.829</td> <td>   -0.025</td> <td>    0.032</td>\n",
              "</tr>\n",
              "<tr>\n",
              "  <th>ar.L18.Close</th> <td>   -0.0171</td> <td>    0.015</td> <td>   -1.177</td> <td> 0.239</td> <td>   -0.046</td> <td>    0.011</td>\n",
              "</tr>\n",
              "<tr>\n",
              "  <th>ar.L19.Close</th> <td>   -0.0070</td> <td>    0.015</td> <td>   -0.480</td> <td> 0.631</td> <td>   -0.036</td> <td>    0.022</td>\n",
              "</tr>\n",
              "<tr>\n",
              "  <th>ar.L20.Close</th> <td>   -0.0066</td> <td>    0.015</td> <td>   -0.451</td> <td> 0.652</td> <td>   -0.035</td> <td>    0.022</td>\n",
              "</tr>\n",
              "</table>\n",
              "<table class=\"simpletable\">\n",
              "<caption>Roots</caption>\n",
              "<tr>\n",
              "    <td></td>    <th>            Real</th>  <th>         Imaginary</th> <th>         Modulus</th>  <th>        Frequency</th>\n",
              "</tr>\n",
              "<tr>\n",
              "  <th>AR.1</th>  <td>           1.1670</td> <td>          -0.2122j</td> <td>           1.1862</td> <td>          -0.0286</td>\n",
              "</tr>\n",
              "<tr>\n",
              "  <th>AR.2</th>  <td>           1.1670</td> <td>          +0.2122j</td> <td>           1.1862</td> <td>           0.0286</td>\n",
              "</tr>\n",
              "<tr>\n",
              "  <th>AR.3</th>  <td>           1.0473</td> <td>          -0.5999j</td> <td>           1.2070</td> <td>          -0.0828</td>\n",
              "</tr>\n",
              "<tr>\n",
              "  <th>AR.4</th>  <td>           1.0473</td> <td>          +0.5999j</td> <td>           1.2070</td> <td>           0.0828</td>\n",
              "</tr>\n",
              "<tr>\n",
              "  <th>AR.5</th>  <td>           0.7957</td> <td>          -0.9468j</td> <td>           1.2368</td> <td>          -0.1388</td>\n",
              "</tr>\n",
              "<tr>\n",
              "  <th>AR.6</th>  <td>           0.7957</td> <td>          +0.9468j</td> <td>           1.2368</td> <td>           0.1388</td>\n",
              "</tr>\n",
              "<tr>\n",
              "  <th>AR.7</th>  <td>           0.5383</td> <td>          -1.2297j</td> <td>           1.3423</td> <td>          -0.1843</td>\n",
              "</tr>\n",
              "<tr>\n",
              "  <th>AR.8</th>  <td>           0.5383</td> <td>          +1.2297j</td> <td>           1.3423</td> <td>           0.1843</td>\n",
              "</tr>\n",
              "<tr>\n",
              "  <th>AR.9</th>  <td>           0.1752</td> <td>          -1.2357j</td> <td>           1.2481</td> <td>          -0.2276</td>\n",
              "</tr>\n",
              "<tr>\n",
              "  <th>AR.10</th> <td>           0.1752</td> <td>          +1.2357j</td> <td>           1.2481</td> <td>           0.2276</td>\n",
              "</tr>\n",
              "<tr>\n",
              "  <th>AR.11</th> <td>          -0.2952</td> <td>          -1.2005j</td> <td>           1.2362</td> <td>          -0.2884</td>\n",
              "</tr>\n",
              "<tr>\n",
              "  <th>AR.12</th> <td>          -0.2952</td> <td>          +1.2005j</td> <td>           1.2362</td> <td>           0.2884</td>\n",
              "</tr>\n",
              "<tr>\n",
              "  <th>AR.13</th> <td>          -1.1799</td> <td>          -0.2046j</td> <td>           1.1975</td> <td>          -0.4727</td>\n",
              "</tr>\n",
              "<tr>\n",
              "  <th>AR.14</th> <td>          -1.1799</td> <td>          +0.2046j</td> <td>           1.1975</td> <td>           0.4727</td>\n",
              "</tr>\n",
              "<tr>\n",
              "  <th>AR.15</th> <td>          -1.0297</td> <td>          -0.6563j</td> <td>           1.2211</td> <td>          -0.4097</td>\n",
              "</tr>\n",
              "<tr>\n",
              "  <th>AR.16</th> <td>          -1.0297</td> <td>          +0.6563j</td> <td>           1.2211</td> <td>           0.4097</td>\n",
              "</tr>\n",
              "<tr>\n",
              "  <th>AR.17</th> <td>          -0.7913</td> <td>          -1.0234j</td> <td>           1.2937</td> <td>          -0.3548</td>\n",
              "</tr>\n",
              "<tr>\n",
              "  <th>AR.18</th> <td>          -0.7913</td> <td>          +1.0234j</td> <td>           1.2937</td> <td>           0.3548</td>\n",
              "</tr>\n",
              "<tr>\n",
              "  <th>AR.19</th> <td>          -0.9598</td> <td>          -1.4969j</td> <td>           1.7782</td> <td>          -0.3407</td>\n",
              "</tr>\n",
              "<tr>\n",
              "  <th>AR.20</th> <td>          -0.9598</td> <td>          +1.4969j</td> <td>           1.7782</td> <td>           0.3407</td>\n",
              "</tr>\n",
              "</table>"
            ],
            "text/plain": [
              "<class 'statsmodels.iolib.summary.Summary'>\n",
              "\"\"\"\n",
              "                              ARMA Model Results                              \n",
              "==============================================================================\n",
              "Dep. Variable:                  Close   No. Observations:                 4707\n",
              "Model:                    ARMA(20, 0)   Log Likelihood              -11220.020\n",
              "Method:                       css-mle   S.D. of innovations              2.624\n",
              "Date:                Wed, 14 Jul 2021   AIC                          22484.040\n",
              "Time:                        13:21:48   BIC                          22626.090\n",
              "Sample:                             0   HQIC                         22533.979\n",
              "                                                                              \n",
              "================================================================================\n",
              "                   coef    std err          z      P>|z|      [0.025      0.975]\n",
              "--------------------------------------------------------------------------------\n",
              "const            0.0456      0.035      1.302      0.193      -0.023       0.114\n",
              "ar.L1.Close     -0.0062      0.015     -0.423      0.672      -0.035       0.022\n",
              "ar.L2.Close     -0.0155      0.015     -1.065      0.287      -0.044       0.013\n",
              "ar.L3.Close     -0.0151      0.015     -1.039      0.299      -0.044       0.013\n",
              "ar.L4.Close      0.0124      0.015      0.853      0.393      -0.016       0.041\n",
              "ar.L5.Close      0.0055      0.015      0.378      0.706      -0.023       0.034\n",
              "ar.L6.Close     -0.0099      0.015     -0.681      0.496      -0.038       0.019\n",
              "ar.L7.Close     -0.0045      0.015     -0.311      0.756      -0.033       0.024\n",
              "ar.L8.Close      0.0123      0.015      0.846      0.397      -0.016       0.041\n",
              "ar.L9.Close     -0.0168      0.015     -1.154      0.248      -0.045       0.012\n",
              "ar.L10.Close     0.0107      0.015      0.731      0.465      -0.018       0.039\n",
              "ar.L11.Close    -0.0130      0.015     -0.892      0.372      -0.042       0.016\n",
              "ar.L12.Close    -0.0105      0.015     -0.719      0.472      -0.039       0.018\n",
              "ar.L13.Close     0.0086      0.015      0.592      0.554      -0.020       0.037\n",
              "ar.L14.Close     0.0037      0.015      0.253      0.801      -0.025       0.032\n",
              "ar.L15.Close    -0.0002      0.015     -0.013      0.990      -0.029       0.028\n",
              "ar.L16.Close    -0.0261      0.015     -1.790      0.073      -0.055       0.002\n",
              "ar.L17.Close     0.0032      0.015      0.216      0.829      -0.025       0.032\n",
              "ar.L18.Close    -0.0171      0.015     -1.177      0.239      -0.046       0.011\n",
              "ar.L19.Close    -0.0070      0.015     -0.480      0.631      -0.036       0.022\n",
              "ar.L20.Close    -0.0066      0.015     -0.451      0.652      -0.035       0.022\n",
              "                                    Roots                                     \n",
              "==============================================================================\n",
              "                   Real          Imaginary           Modulus         Frequency\n",
              "------------------------------------------------------------------------------\n",
              "AR.1             1.1670           -0.2122j            1.1862           -0.0286\n",
              "AR.2             1.1670           +0.2122j            1.1862            0.0286\n",
              "AR.3             1.0473           -0.5999j            1.2070           -0.0828\n",
              "AR.4             1.0473           +0.5999j            1.2070            0.0828\n",
              "AR.5             0.7957           -0.9468j            1.2368           -0.1388\n",
              "AR.6             0.7957           +0.9468j            1.2368            0.1388\n",
              "AR.7             0.5383           -1.2297j            1.3423           -0.1843\n",
              "AR.8             0.5383           +1.2297j            1.3423            0.1843\n",
              "AR.9             0.1752           -1.2357j            1.2481           -0.2276\n",
              "AR.10            0.1752           +1.2357j            1.2481            0.2276\n",
              "AR.11           -0.2952           -1.2005j            1.2362           -0.2884\n",
              "AR.12           -0.2952           +1.2005j            1.2362            0.2884\n",
              "AR.13           -1.1799           -0.2046j            1.1975           -0.4727\n",
              "AR.14           -1.1799           +0.2046j            1.1975            0.4727\n",
              "AR.15           -1.0297           -0.6563j            1.2211           -0.4097\n",
              "AR.16           -1.0297           +0.6563j            1.2211            0.4097\n",
              "AR.17           -0.7913           -1.0234j            1.2937           -0.3548\n",
              "AR.18           -0.7913           +1.0234j            1.2937            0.3548\n",
              "AR.19           -0.9598           -1.4969j            1.7782           -0.3407\n",
              "AR.20           -0.9598           +1.4969j            1.7782            0.3407\n",
              "------------------------------------------------------------------------------\n",
              "\"\"\""
            ]
          },
          "metadata": {
            "tags": []
          },
          "execution_count": 227
        }
      ]
    },
    {
      "cell_type": "code",
      "metadata": {
        "colab": {
          "base_uri": "https://localhost:8080/"
        },
        "id": "q4jiTrWwF3gH",
        "outputId": "c7abc005-50b4-4edd-f713-b37ea213383b"
      },
      "source": [
        "calculateRMSE(df_pred_ret_20, actual_returns)"
      ],
      "execution_count": 229,
      "outputs": [
        {
          "output_type": "stream",
          "text": [
            "RMSE : 2.3998191685198837\n"
          ],
          "name": "stdout"
        }
      ]
    },
    {
      "cell_type": "code",
      "metadata": {
        "colab": {
          "base_uri": "https://localhost:8080/"
        },
        "id": "oR-va8bRF3gJ",
        "outputId": "363c3365-9f74-4040-f05d-d81edb20eff8"
      },
      "source": [
        "print(LLRTest(model_ret_ar_1, model_ret_ar_2))\n",
        "print(LLRTest(model_ret_ar_1, model_ret_ar_8))\n",
        "print(LLRTest(model_ret_ar_1, model_ret_ar_20))"
      ],
      "execution_count": 228,
      "outputs": [
        {
          "output_type": "stream",
          "text": [
            "0.29\n",
            "0.038\n",
            "0.0\n"
          ],
          "name": "stdout"
        }
      ]
    },
    {
      "cell_type": "code",
      "metadata": {
        "colab": {
          "base_uri": "https://localhost:8080/",
          "height": 351
        },
        "id": "wL_l6MAWf9hx",
        "outputId": "8ef62edb-55ff-4e84-b983-1802645cc69b"
      },
      "source": [
        "actual_returns.plot(figsize = (12,5), legend = True)\n",
        "df_pred_ret_20.plot(figsize = (12,5), legend = True)"
      ],
      "execution_count": 266,
      "outputs": [
        {
          "output_type": "execute_result",
          "data": {
            "text/plain": [
              "<matplotlib.axes._subplots.AxesSubplot at 0x7f02cc3c1490>"
            ]
          },
          "metadata": {
            "tags": []
          },
          "execution_count": 266
        },
        {
          "output_type": "display_data",
          "data": {
            "image/png": "[encoded data removed]",
            "text/plain": [
              "<Figure size 864x360 with 1 Axes>"
            ]
          },
          "metadata": {
            "tags": [],
            "needs_background": "light"
          }
        }
      ]
    },
    {
      "cell_type": "markdown",
      "metadata": {
        "id": "PRpCyHIaNHMH"
      },
      "source": [
        "# Normalizing values and returns"
      ]
    },
    {
      "cell_type": "code",
      "metadata": {
        "id": "zVgn5xLT-mMg"
      },
      "source": [
        "benchmark_prices = ScriptWiseData[Stock].Close.iloc[0]\n",
        "Normalized_prices = ScriptWiseData[Stock].Close.div(benchmark_prices).mul(100)\n",
        "\n",
        "actual_returns_normal = Normalized_prices.loc[test_start_date:test_end_date]\n",
        "print(benchmark_prices)\n",
        "print(Normalized_prices)\n"
      ],
      "execution_count": null,
      "outputs": []
    },
    {
      "cell_type": "code",
      "metadata": {
        "id": "sDWaGNCmN-R_"
      },
      "source": [
        "ScriptWiseData[Stock].Close.describe()"
      ],
      "execution_count": null,
      "outputs": []
    },
    {
      "cell_type": "code",
      "metadata": {
        "colab": {
          "base_uri": "https://localhost:8080/",
          "height": 515
        },
        "id": "s8CF1J_RPVNX",
        "outputId": "91af75e3-d534-40f0-fdd8-1038f9bebe51"
      },
      "source": [
        "Normalized_prices.plot(figsize = (12,8))"
      ],
      "execution_count": 259,
      "outputs": [
        {
          "output_type": "execute_result",
          "data": {
            "text/plain": [
              "<matplotlib.axes._subplots.AxesSubplot at 0x7f02cbb5b590>"
            ]
          },
          "metadata": {
            "tags": []
          },
          "execution_count": 259
        },
        {
          "output_type": "display_data",
          "data": {
            "image/png": "[encoded data removed]",
            "text/plain": [
              "<Figure size 864x576 with 1 Axes>"
            ]
          },
          "metadata": {
            "tags": [],
            "needs_background": "light"
          }
        }
      ]
    },
    {
      "cell_type": "code",
      "metadata": {
        "id": "X_mRY6EYOS27"
      },
      "source": [
        "adf_test(Normalized_prices)"
      ],
      "execution_count": null,
      "outputs": []
    },
    {
      "cell_type": "code",
      "metadata": {
        "colab": {
          "base_uri": "https://localhost:8080/"
        },
        "id": "ko2le_jMOrgV",
        "outputId": "b08e9641-09c9-42af-d911-63868ce4f9c1"
      },
      "source": [
        "model_ar_normal_1 = ARMA(Normalized_prices, order = (1,0))\n",
        "result_ar_normal_1 = model_ar_normal_1.fit()\n",
        "df_pred_normal_1 = result_ar_normal_1.predict(start = test_start_date, end = test_end_date)\n",
        "print(result_ar_normal_1.summary())"
      ],
      "execution_count": 254,
      "outputs": [
        {
          "output_type": "stream",
          "text": [
            "                              ARMA Model Results                              \n",
            "==============================================================================\n",
            "Dep. Variable:                  Close   No. Observations:                 4708\n",
            "Model:                     ARMA(1, 0)   Log Likelihood              -14040.542\n",
            "Method:                       css-mle   S.D. of innovations              4.772\n",
            "Date:                Wed, 14 Jul 2021   AIC                          28087.085\n",
            "Time:                        13:44:52   BIC                          28106.456\n",
            "Sample:                             0   HQIC                         28093.895\n",
            "                                                                              \n",
            "===============================================================================\n",
            "                  coef    std err          z      P>|z|      [0.025      0.975]\n",
            "-------------------------------------------------------------------------------\n",
            "const         108.0717     14.635      7.385      0.000      79.389     136.755\n",
            "ar.L1.Close     0.9955      0.001    747.462      0.000       0.993       0.998\n",
            "                                    Roots                                    \n",
            "=============================================================================\n",
            "                  Real          Imaginary           Modulus         Frequency\n",
            "-----------------------------------------------------------------------------\n",
            "AR.1            1.0046           +0.0000j            1.0046            0.0000\n",
            "-----------------------------------------------------------------------------\n"
          ],
          "name": "stdout"
        }
      ]
    },
    {
      "cell_type": "code",
      "metadata": {
        "colab": {
          "base_uri": "https://localhost:8080/",
          "height": 515
        },
        "id": "Z6_rdMrjfK_h",
        "outputId": "e7b2d5fd-22e7-4f75-a569-c43db136b55c"
      },
      "source": [
        "df_pred_normal_1.plot(figsize = (12,8))\n",
        "actual_returns_normal.plot(figsize = (12,8))\n",
        "\n"
      ],
      "execution_count": 263,
      "outputs": [
        {
          "output_type": "execute_result",
          "data": {
            "text/plain": [
              "<matplotlib.axes._subplots.AxesSubplot at 0x7f02cc490b50>"
            ]
          },
          "metadata": {
            "tags": []
          },
          "execution_count": 263
        },
        {
          "output_type": "display_data",
          "data": {
            "image/png": "[encoded data removed]",
            "text/plain": [
              "<Figure size 864x576 with 1 Axes>"
            ]
          },
          "metadata": {
            "tags": [],
            "needs_background": "light"
          }
        }
      ]
    },
    {
      "cell_type": "code",
      "metadata": {
        "colab": {
          "base_uri": "https://localhost:8080/"
        },
        "id": "mdVyGtljOrgX",
        "outputId": "2ee3f255-98c4-44ba-f737-d35d50fb59de"
      },
      "source": [
        "\n",
        "model_ar_normal_8 = ARMA(Normalized_prices, order = (8,0))\n",
        "result_ar_normal_8 = model_ar_normal_8.fit()\n",
        "df_pred_normal_8 = result_ar_normal_8.predict(start = test_start_date, end = test_end_date)\n",
        "print(result_ar_normal_8.summary())"
      ],
      "execution_count": 255,
      "outputs": [
        {
          "output_type": "stream",
          "text": [
            "                              ARMA Model Results                              \n",
            "==============================================================================\n",
            "Dep. Variable:                  Close   No. Observations:                 4708\n",
            "Model:                     ARMA(8, 0)   Log Likelihood              -14038.373\n",
            "Method:                       css-mle   S.D. of innovations              4.770\n",
            "Date:                Wed, 14 Jul 2021   AIC                          28096.747\n",
            "Time:                        13:45:03   BIC                          28161.317\n",
            "Sample:                             0   HQIC                         28119.447\n",
            "                                                                              \n",
            "===============================================================================\n",
            "                  coef    std err          z      P>|z|      [0.025      0.975]\n",
            "-------------------------------------------------------------------------------\n",
            "const         108.1403     14.432      7.493      0.000      79.854     136.427\n",
            "ar.L1.Close     0.9961      0.015     68.359      0.000       0.968       1.025\n",
            "ar.L2.Close    -0.0103      0.021     -0.500      0.617      -0.051       0.030\n",
            "ar.L3.Close    -0.0011      0.021     -0.052      0.959      -0.041       0.039\n",
            "ar.L4.Close     0.0361      0.021      1.755      0.079      -0.004       0.076\n",
            "ar.L5.Close    -0.0220      0.021     -1.070      0.285      -0.062       0.018\n",
            "ar.L6.Close     0.0038      0.021      0.187      0.852      -0.036       0.044\n",
            "ar.L7.Close    -0.0066      0.021     -0.322      0.747      -0.047       0.034\n",
            "ar.L8.Close    -0.0007      0.015     -0.045      0.964      -0.029       0.028\n",
            "                                    Roots                                    \n",
            "=============================================================================\n",
            "                  Real          Imaginary           Modulus         Frequency\n",
            "-----------------------------------------------------------------------------\n",
            "AR.1            1.0047           -0.0000j            1.0047           -0.0000\n",
            "AR.2            2.0180           -0.0000j            2.0180           -0.0000\n",
            "AR.3            0.9185           -2.0629j            2.2581           -0.1833\n",
            "AR.4            0.9185           +2.0629j            2.2581            0.1833\n",
            "AR.5           -2.1371           -0.0000j            2.1371           -0.5000\n",
            "AR.6           -0.9347           -2.3303j            2.5107           -0.3107\n",
            "AR.7           -0.9347           +2.3303j            2.5107            0.3107\n",
            "AR.8          -11.0440           -0.0000j           11.0440           -0.5000\n",
            "-----------------------------------------------------------------------------\n"
          ],
          "name": "stdout"
        }
      ]
    },
    {
      "cell_type": "code",
      "metadata": {
        "colab": {
          "base_uri": "https://localhost:8080/"
        },
        "id": "PmxbUG_WOrgX",
        "outputId": "099c3232-34c8-488a-bb8c-1b2139c1e7e4"
      },
      "source": [
        "calculateRMSE(df_pred_normal_1,actual_returns_normal)"
      ],
      "execution_count": 256,
      "outputs": [
        {
          "output_type": "stream",
          "text": [
            "RMSE : 1.6163551016102118\n"
          ],
          "name": "stdout"
        }
      ]
    },
    {
      "cell_type": "code",
      "metadata": {
        "colab": {
          "base_uri": "https://localhost:8080/"
        },
        "id": "y0HWMhSbOSyi",
        "outputId": "7e5bbdc1-d008-434c-b0b5-277a2b14c038"
      },
      "source": [
        "calculateRMSE(df_pred_normal_8,actual_returns_normal)"
      ],
      "execution_count": 257,
      "outputs": [
        {
          "output_type": "stream",
          "text": [
            "RMSE : 1.615962520153878\n"
          ],
          "name": "stdout"
        }
      ]
    },
    {
      "cell_type": "code",
      "metadata": {
        "colab": {
          "base_uri": "https://localhost:8080/"
        },
        "id": "QGHlriyYOSqw",
        "outputId": "6b397aeb-de72-40a9-85f1-449b99de40bc"
      },
      "source": [
        "LLRTest(model_ar_normal_1, model_ar_normal_8)"
      ],
      "execution_count": 258,
      "outputs": [
        {
          "output_type": "execute_result",
          "data": {
            "text/plain": [
              "0.037"
            ]
          },
          "metadata": {
            "tags": []
          },
          "execution_count": 258
        }
      ]
    },
    {
      "cell_type": "code",
      "metadata": {
        "id": "r_cWPYNeOSni"
      },
      "source": [
        ""
      ],
      "execution_count": null,
      "outputs": []
    },
    {
      "cell_type": "code",
      "metadata": {
        "id": "CiwrLSujOSjI"
      },
      "source": [
        ""
      ],
      "execution_count": null,
      "outputs": []
    },
    {
      "cell_type": "code",
      "metadata": {
        "id": "fw1c0TBwOScm"
      },
      "source": [
        ""
      ],
      "execution_count": null,
      "outputs": []
    },
    {
      "cell_type": "code",
      "metadata": {
        "id": "eMcXn1kqOSLt"
      },
      "source": [
        ""
      ],
      "execution_count": null,
      "outputs": []
    },
    {
      "cell_type": "markdown",
      "metadata": {
        "id": "5hag2lgNffX-"
      },
      "source": [
        "### Auto Arima Functionality"
      ]
    },
    {
      "cell_type": "code",
      "metadata": {
        "colab": {
          "base_uri": "https://localhost:8080/",
          "height": 0
        },
        "id": "vzEKllCzUpZ_",
        "outputId": "96c2fb1d-0e9e-4ae6-8e26-96afb2c664dc"
      },
      "source": [
        "stepwise_fit = auto_arima(ScriptWiseData[Stock].Close, start_p=0, start_q=0, max_p=6, max_q = 3, seasonal= False, trace=True)\n",
        "stepwise_fit.summary()"
      ],
      "execution_count": 165,
      "outputs": [
        {
          "output_type": "stream",
          "text": [
            "Performing stepwise search to minimize aic\n",
            " ARIMA(0,1,0)(0,0,0)[0] intercept   : AIC=46263.458, Time=0.10 sec\n",
            " ARIMA(1,1,0)(0,0,0)[0] intercept   : AIC=46265.446, Time=0.17 sec\n",
            " ARIMA(0,1,1)(0,0,0)[0] intercept   : AIC=46265.447, Time=0.37 sec\n",
            " ARIMA(0,1,0)(0,0,0)[0]             : AIC=46261.460, Time=0.09 sec\n",
            " ARIMA(1,1,1)(0,0,0)[0] intercept   : AIC=46267.447, Time=0.57 sec\n",
            "\n",
            "Best model:  ARIMA(0,1,0)(0,0,0)[0]          \n",
            "Total fit time: 1.311 seconds\n"
          ],
          "name": "stdout"
        },
        {
          "output_type": "execute_result",
          "data": {
            "text/html": [
              "<table class=\"simpletable\">\n",
              "<caption>SARIMAX Results</caption>\n",
              "<tr>\n",
              "  <th>Dep. Variable:</th>           <td>y</td>        <th>  No. Observations:  </th>    <td>4708</td>   \n",
              "</tr>\n",
              "<tr>\n",
              "  <th>Model:</th>           <td>SARIMAX(0, 1, 0)</td> <th>  Log Likelihood     </th> <td>-23129.730</td>\n",
              "</tr>\n",
              "<tr>\n",
              "  <th>Date:</th>            <td>Wed, 14 Jul 2021</td> <th>  AIC                </th>  <td>46261.460</td>\n",
              "</tr>\n",
              "<tr>\n",
              "  <th>Time:</th>                <td>12:03:53</td>     <th>  BIC                </th>  <td>46267.917</td>\n",
              "</tr>\n",
              "<tr>\n",
              "  <th>Sample:</th>                  <td>0</td>        <th>  HQIC               </th>  <td>46263.730</td>\n",
              "</tr>\n",
              "<tr>\n",
              "  <th></th>                      <td> - 4708</td>     <th>                     </th>      <td> </td>    \n",
              "</tr>\n",
              "<tr>\n",
              "  <th>Covariance Type:</th>        <td>opg</td>       <th>                     </th>      <td> </td>    \n",
              "</tr>\n",
              "</table>\n",
              "<table class=\"simpletable\">\n",
              "<tr>\n",
              "     <td></td>       <th>coef</th>     <th>std err</th>      <th>z</th>      <th>P>|z|</th>  <th>[0.025</th>    <th>0.975]</th>  \n",
              "</tr>\n",
              "<tr>\n",
              "  <th>sigma2</th> <td> 1085.4085</td> <td>    0.711</td> <td> 1526.979</td> <td> 0.000</td> <td> 1084.015</td> <td> 1086.802</td>\n",
              "</tr>\n",
              "</table>\n",
              "<table class=\"simpletable\">\n",
              "<tr>\n",
              "  <th>Ljung-Box (L1) (Q):</th>     <td>0.01</td> <th>  Jarque-Bera (JB):  </th> <td>768804220.46</td>\n",
              "</tr>\n",
              "<tr>\n",
              "  <th>Prob(Q):</th>                <td>0.91</td> <th>  Prob(JB):          </th>     <td>0.00</td>    \n",
              "</tr>\n",
              "<tr>\n",
              "  <th>Heteroskedasticity (H):</th> <td>0.41</td> <th>  Skew:              </th>    <td>-37.00</td>   \n",
              "</tr>\n",
              "<tr>\n",
              "  <th>Prob(H) (two-sided):</th>    <td>0.00</td> <th>  Kurtosis:          </th>    <td>1981.51</td>  \n",
              "</tr>\n",
              "</table><br/><br/>Warnings:<br/>[1] Covariance matrix calculated using the outer product of gradients (complex-step)."
            ],
            "text/plain": [
              "<class 'statsmodels.iolib.summary.Summary'>\n",
              "\"\"\"\n",
              "                               SARIMAX Results                                \n",
              "==============================================================================\n",
              "Dep. Variable:                      y   No. Observations:                 4708\n",
              "Model:               SARIMAX(0, 1, 0)   Log Likelihood              -23129.730\n",
              "Date:                Wed, 14 Jul 2021   AIC                          46261.460\n",
              "Time:                        12:03:53   BIC                          46267.917\n",
              "Sample:                             0   HQIC                         46263.730\n",
              "                               - 4708                                         \n",
              "Covariance Type:                  opg                                         \n",
              "==============================================================================\n",
              "                 coef    std err          z      P>|z|      [0.025      0.975]\n",
              "------------------------------------------------------------------------------\n",
              "sigma2      1085.4085      0.711   1526.979      0.000    1084.015    1086.802\n",
              "===================================================================================\n",
              "Ljung-Box (L1) (Q):                   0.01   Jarque-Bera (JB):         768804220.46\n",
              "Prob(Q):                              0.91   Prob(JB):                         0.00\n",
              "Heteroskedasticity (H):               0.41   Skew:                           -37.00\n",
              "Prob(H) (two-sided):                  0.00   Kurtosis:                      1981.51\n",
              "===================================================================================\n",
              "\n",
              "Warnings:\n",
              "[1] Covariance matrix calculated using the outer product of gradients (complex-step).\n",
              "\"\"\""
            ]
          },
          "metadata": {
            "tags": []
          },
          "execution_count": 165
        }
      ]
    },
    {
      "cell_type": "code",
      "metadata": {
        "colab": {
          "base_uri": "https://localhost:8080/"
        },
        "id": "GQXXi50sVjYt",
        "outputId": "0af81ed0-c915-4bdb-b430-892375ceca58"
      },
      "source": [
        "stepwise_fit_ = auto_arima(ScriptWiseData[Stock].Close, start_p=0, start_q=0, max_p=4, max_q = 4, seasonal= True, trace=True,m=12)\n",
        "stepwise_fit_.order"
      ],
      "execution_count": 166,
      "outputs": [
        {
          "output_type": "stream",
          "text": [
            "Performing stepwise search to minimize aic\n",
            " ARIMA(0,1,0)(1,0,1)[12] intercept   : AIC=46263.922, Time=6.00 sec\n",
            " ARIMA(0,1,0)(0,0,0)[12] intercept   : AIC=46263.458, Time=0.11 sec\n",
            " ARIMA(1,1,0)(1,0,0)[12] intercept   : AIC=46266.431, Time=1.75 sec\n",
            " ARIMA(0,1,1)(0,0,1)[12] intercept   : AIC=46266.393, Time=1.40 sec\n",
            " ARIMA(0,1,0)(0,0,0)[12]             : AIC=46261.460, Time=0.06 sec\n",
            " ARIMA(0,1,0)(1,0,0)[12] intercept   : AIC=46264.446, Time=1.04 sec\n",
            " ARIMA(0,1,0)(0,0,1)[12] intercept   : AIC=46264.406, Time=1.01 sec\n",
            " ARIMA(1,1,0)(0,0,0)[12] intercept   : AIC=46265.446, Time=0.17 sec\n",
            " ARIMA(0,1,1)(0,0,0)[12] intercept   : AIC=46265.447, Time=0.37 sec\n",
            " ARIMA(1,1,1)(0,0,0)[12] intercept   : AIC=46267.447, Time=0.57 sec\n",
            "\n",
            "Best model:  ARIMA(0,1,0)(0,0,0)[12]          \n",
            "Total fit time: 12.531 seconds\n"
          ],
          "name": "stdout"
        },
        {
          "output_type": "execute_result",
          "data": {
            "text/plain": [
              "(0, 1, 0)"
            ]
          },
          "metadata": {
            "tags": []
          },
          "execution_count": 166
        }
      ]
    },
    {
      "cell_type": "markdown",
      "metadata": {
        "id": "Lm1_QrClb5o4"
      },
      "source": [
        "# Amit Sir Code"
      ]
    },
    {
      "cell_type": "code",
      "metadata": {
        "id": "Trsvha3nXbMx"
      },
      "source": [
        "def TrainTestSplitByDateRange(df,test_start_date = '2020-03-02',test_end_date = '2021-03-23'):\n",
        "    train = df.loc[:test_start_date]\n",
        "    test = df.loc[test_start_date:test_end_date]\n",
        "    return train, test[1:]"
      ],
      "execution_count": 91,
      "outputs": []
    },
    {
      "cell_type": "code",
      "metadata": {
        "id": "-ztRfCUjZfZn"
      },
      "source": [
        "train, test = TrainTestSplitByDateRange(ScriptWiseData[Stock])\n",
        "len(train)\n",
        "test"
      ],
      "execution_count": null,
      "outputs": []
    },
    {
      "cell_type": "code",
      "metadata": {
        "id": "AMvRSGQAXLGQ"
      },
      "source": [
        "AutoArimaResults = pd.DataFrame(columns=['p', 'd', 'q'], index = stocks)\n",
        "AutoArimaResults"
      ],
      "execution_count": null,
      "outputs": []
    },
    {
      "cell_type": "code",
      "metadata": {
        "id": "v9_P5ZPJXEHT"
      },
      "source": [
        "def CalculateAutoArima(stockcode, data):\n",
        "    if(AutoArimaResults.isnull().sum(axis=1)[stockcode] > 0):\n",
        "        params = auto_arima(data['Close'], maxiter = 1000)\n",
        "        AutoArimaResults.loc[stockcode, ['p', 'd', 'q']] = params.order\n",
        "        return params.order\n",
        "    else:\n",
        "        return tuple(AutoArimaResults.loc[stockcode, ['p', 'd', 'q']])"
      ],
      "execution_count": 96,
      "outputs": []
    },
    {
      "cell_type": "code",
      "metadata": {
        "id": "WXYM0cKmWx9E"
      },
      "source": [
        "# def ARIMAXProcedure(stockCode):\n",
        "#     dataSet = ScriptWiseData[stockCode]\n",
        "#     train, test = TrainTestSplitByDateRange(dataSet)\n",
        "#     ARIMAXModel = ARIMA(dataSet.Close, exog = dataSet[TechnicalIndicators], order = CalculateAutoArima(stockCode, dataSet))\n",
        "#     ARIMAXModel = ARIMAXModel.fit()\n",
        "#     df_pred = ARIMAXModel.predict(start = start_date, end = end_date, exog = test[TechnicalIndicators])\n",
        "#     return ARIMAXModel, df_pred\n",
        "def ARIMAXProcedure(stockCode):\n",
        "    dataSet = ScriptWiseData[stockCode]\n",
        "    train, test = TrainTestSplitByDateRange(dataSet)\n",
        "    ARIMAXModel = ARIMA(dataSet.Close, exog = dataSet[TechnicalIndicators], order = CalculateAutoArima(stockCode, dataSet))\n",
        "    ARIMAXModel = ARIMAXModel.fit()\n",
        "    df_pred = ARIMAXModel.predict(start = start_date, end = end_date, exog = test[TechnicalIndicators])\n",
        "    return ARIMAXModel, df_pred"
      ],
      "execution_count": 111,
      "outputs": []
    },
    {
      "cell_type": "code",
      "metadata": {
        "id": "ev5w1tTaXfan"
      },
      "source": [
        "model, pred = ARIMAXProcedure(Stock)"
      ],
      "execution_count": 112,
      "outputs": []
    },
    {
      "cell_type": "code",
      "metadata": {
        "colab": {
          "base_uri": "https://localhost:8080/"
        },
        "id": "oY62OYAMZGRv",
        "outputId": "67ff5413-605f-4b10-85fa-ebf2cf488966"
      },
      "source": [
        "actual = test.Close\n",
        "print(actual)"
      ],
      "execution_count": 116,
      "outputs": [
        {
          "output_type": "stream",
          "text": [
            "Date\n",
            "2020-03-03    393.35\n",
            "2020-03-04    405.70\n",
            "2020-03-05    404.85\n",
            "2020-03-06    400.90\n",
            "2020-03-09    394.95\n",
            "2020-03-11    386.30\n",
            "2020-03-12    354.85\n",
            "2020-03-13    384.45\n",
            "2020-03-16    368.80\n",
            "2020-03-17    370.55\n",
            "2020-03-18    362.50\n",
            "2020-03-19    360.20\n",
            "2020-03-20    365.80\n",
            "2020-03-23    324.00\n",
            "2020-03-24    335.05\n",
            "2020-03-25    347.05\n",
            "2020-03-26    338.55\n",
            "2020-03-27    338.15\n",
            "2020-03-30    333.65\n",
            "2020-03-31    352.20\n",
            "2020-04-01    343.55\n",
            "2020-04-03    375.90\n",
            "2020-04-07    417.10\n",
            "2020-04-08    436.65\n",
            "2020-04-09    455.20\n",
            "2020-04-13    462.10\n",
            "2020-04-15    448.95\n",
            "2020-04-16    464.10\n",
            "2020-04-17    457.00\n",
            "2020-04-20    473.40\n",
            "2020-04-21    471.95\n",
            "2020-04-22    474.25\n",
            "2020-04-23    477.30\n",
            "2020-04-24    485.25\n",
            "2020-04-27    489.80\n",
            "2020-04-28    473.80\n",
            "2020-04-29    477.85\n",
            "2020-04-30    464.85\n",
            "2020-05-04    465.05\n",
            "2020-05-05    456.35\n",
            "2020-05-06    454.55\n",
            "2020-05-07    452.30\n",
            "2020-05-08    469.00\n",
            "2020-05-11    463.25\n",
            "2020-05-12    463.85\n",
            "2020-05-13    452.40\n",
            "2020-05-14    455.95\n",
            "2020-05-15    448.50\n",
            "2020-05-18    440.65\n",
            "2020-05-19    441.70\n",
            "2020-05-20    455.65\n",
            "2020-05-21    466.25\n",
            "2020-05-22    469.20\n",
            "2020-05-26    459.05\n",
            "2020-05-27    450.55\n",
            "2020-05-28    459.25\n",
            "2020-05-29    475.45\n",
            "2020-06-01    465.15\n",
            "2020-06-02    473.20\n",
            "2020-06-03    476.05\n",
            "2020-06-04    495.00\n",
            "2020-06-05    494.15\n",
            "2020-06-08    488.95\n",
            "2020-06-09    500.55\n",
            "2020-06-10    499.15\n",
            "2020-06-11    473.60\n",
            "2020-06-12    479.80\n",
            "2020-06-15    485.45\n",
            "2020-06-16    482.80\n",
            "2020-06-17    485.85\n",
            "2020-06-18    484.15\n",
            "2020-06-19    487.75\n",
            "2020-06-22    493.10\n",
            "2020-06-23    500.40\n",
            "2020-06-24    484.40\n",
            "2020-06-25    487.65\n",
            "2020-06-26    479.95\n",
            "2020-06-29    481.80\n",
            "2020-06-30    472.95\n",
            "2020-07-01    468.20\n",
            "2020-07-02    473.15\n",
            "2020-07-03    476.90\n",
            "2020-07-06    480.15\n",
            "2020-07-07    479.45\n",
            "2020-07-08    484.00\n",
            "2020-07-09    482.05\n",
            "2020-07-10    493.45\n",
            "2020-07-13    499.65\n",
            "2020-07-14    491.95\n",
            "2020-07-15    494.80\n",
            "2020-07-16    499.25\n",
            "2020-07-17    503.30\n",
            "2020-07-20    483.85\n",
            "2020-07-21    477.25\n",
            "2020-07-22    474.25\n",
            "2020-07-23    476.10\n",
            "2020-07-24    485.40\n",
            "2020-07-27    475.40\n",
            "2020-07-28    482.50\n",
            "2020-07-29    493.00\n",
            "2020-07-30    509.95\n",
            "2020-07-31    531.75\n",
            "2020-08-03    519.80\n",
            "2020-08-04    528.50\n",
            "2020-08-05    529.00\n",
            "2020-08-06    532.20\n",
            "2020-08-07    525.80\n",
            "2020-08-10    543.75\n",
            "2020-08-11    541.05\n",
            "2020-08-12    532.00\n",
            "2020-08-13    520.80\n",
            "2020-08-14    531.45\n",
            "2020-08-17    528.35\n",
            "2020-08-18    526.15\n",
            "2020-08-19    525.45\n",
            "2020-08-20    522.25\n",
            "2020-08-21    532.70\n",
            "2020-08-24    533.35\n",
            "2020-08-25    525.10\n",
            "2020-08-26    524.95\n",
            "2020-08-27    532.90\n",
            "2020-08-28    555.80\n",
            "2020-08-31    518.50\n",
            "2020-09-01    522.30\n",
            "2020-09-02    514.55\n",
            "2020-09-03    523.25\n",
            "2020-09-04    512.30\n",
            "2020-09-07    513.20\n",
            "2020-09-08    502.05\n",
            "2020-09-09    509.10\n",
            "2020-09-10    507.50\n",
            "2020-09-11    505.40\n",
            "2020-09-14    495.80\n",
            "2020-09-15    506.05\n",
            "2020-09-16    518.70\n",
            "2020-09-17    511.85\n",
            "2020-09-18    523.25\n",
            "2020-09-21    503.65\n",
            "2020-09-22    510.45\n",
            "2020-09-23    502.75\n",
            "2020-09-24    485.40\n",
            "2020-09-25    489.45\n",
            "2020-09-28    510.20\n",
            "2020-09-29    505.60\n",
            "2020-09-30    500.50\n",
            "2020-10-01    506.80\n",
            "2020-10-05    523.15\n",
            "2020-10-06    520.80\n",
            "2020-10-07    511.65\n",
            "2020-10-08    524.05\n",
            "2020-10-09    513.15\n",
            "2020-10-12    513.85\n",
            "2020-10-13    503.20\n",
            "2020-10-14    502.00\n",
            "2020-10-15    490.40\n",
            "2020-10-16    486.85\n",
            "2020-10-19    483.60\n",
            "2020-10-20    486.40\n",
            "2020-10-21    489.70\n",
            "2020-10-22    485.65\n",
            "2020-10-23    484.35\n",
            "2020-10-26    474.45\n",
            "2020-10-27    470.70\n",
            "2020-10-28    463.35\n",
            "2020-10-29    456.75\n",
            "2020-10-30    465.75\n",
            "2020-11-02    469.20\n",
            "2020-11-03    485.10\n",
            "2020-11-04    504.30\n",
            "2020-11-05    512.40\n",
            "2020-11-06    508.85\n",
            "2020-11-09    509.95\n",
            "2020-11-10    491.30\n",
            "2020-11-11    506.10\n",
            "2020-11-12    509.05\n",
            "2020-11-13    508.40\n",
            "2020-11-14    514.05\n",
            "2020-11-17    518.00\n",
            "2020-11-18    512.90\n",
            "2020-11-19    507.40\n",
            "2020-11-20    503.00\n",
            "2020-11-23    512.80\n",
            "2020-11-24    519.90\n",
            "2020-11-25    506.35\n",
            "2020-11-26    511.60\n",
            "2020-11-27    511.55\n",
            "2020-12-01    539.75\n",
            "2020-12-02    545.00\n",
            "2020-12-03    548.05\n",
            "2020-12-04    568.85\n",
            "2020-12-07    582.30\n",
            "2020-12-08    568.55\n",
            "2020-12-09    569.55\n",
            "2020-12-10    565.05\n",
            "2020-12-11    568.00\n",
            "2020-12-14    576.05\n",
            "2020-12-15    571.45\n",
            "2020-12-16    576.40\n",
            "2020-12-17    571.35\n",
            "2020-12-18    575.25\n",
            "2020-12-21    552.10\n",
            "2020-12-22    568.10\n",
            "2020-12-23    574.50\n",
            "2020-12-24    589.85\n",
            "2020-12-28    587.55\n",
            "2020-12-29    590.50\n",
            "2020-12-30    584.10\n",
            "2020-12-31    592.35\n",
            "2021-01-01    596.10\n",
            "2021-01-04    604.25\n",
            "2021-01-05    603.15\n",
            "2021-01-06    605.30\n",
            "2021-01-07    601.80\n",
            "2021-01-08    620.70\n",
            "2021-01-11    620.80\n",
            "2021-01-12    609.75\n",
            "2021-01-13    602.10\n",
            "2021-01-14    607.05\n",
            "2021-01-15    604.00\n",
            "2021-01-18    581.40\n",
            "2021-01-19    596.25\n",
            "2021-01-20    594.45\n",
            "2021-01-21    582.85\n",
            "2021-01-22    575.05\n",
            "2021-01-25    586.55\n",
            "2021-01-27    569.80\n",
            "2021-01-28    564.40\n",
            "2021-01-29    586.45\n",
            "2021-02-01    590.10\n",
            "2021-02-02    609.40\n",
            "2021-02-03    629.45\n",
            "2021-02-04    631.50\n",
            "2021-02-05    634.80\n",
            "2021-02-08    634.65\n",
            "2021-02-09    623.70\n",
            "2021-02-10    627.05\n",
            "2021-02-11    643.50\n",
            "2021-02-12    627.25\n",
            "2021-02-15    627.35\n",
            "2021-02-16    631.00\n",
            "2021-02-17    621.20\n",
            "2021-02-18    615.65\n",
            "2021-02-19    607.45\n",
            "2021-02-22    595.75\n",
            "2021-02-23    604.05\n",
            "2021-02-24    602.55\n",
            "2021-02-25    609.70\n",
            "2021-02-26    595.30\n",
            "2021-03-01    604.30\n",
            "2021-03-02    614.40\n",
            "2021-03-03    624.15\n",
            "2021-03-04    618.65\n",
            "2021-03-05    610.95\n",
            "2021-03-08    614.85\n",
            "2021-03-09    611.65\n",
            "2021-03-10    626.00\n",
            "2021-03-12    613.25\n",
            "2021-03-15    605.35\n",
            "2021-03-16    602.05\n",
            "2021-03-17    585.20\n",
            "2021-03-18    574.50\n",
            "2021-03-19    578.60\n",
            "2021-03-22    590.95\n",
            "2021-03-23    587.90\n",
            "Name: Close, dtype: float64\n"
          ],
          "name": "stdout"
        }
      ]
    },
    {
      "cell_type": "code",
      "metadata": {
        "id": "OUJNd40vauMB"
      },
      "source": [
        "pred = pred[1:]"
      ],
      "execution_count": 120,
      "outputs": []
    },
    {
      "cell_type": "code",
      "metadata": {
        "colab": {
          "base_uri": "https://localhost:8080/"
        },
        "id": "flOch70nYB_V",
        "outputId": "50becf6a-9d90-4c25-b384-ee914a8cf890"
      },
      "source": [
        "# print(model)\n",
        " \n",
        "print(sqrt(mean_squared_error(actual, pred)))"
      ],
      "execution_count": 121,
      "outputs": [
        {
          "output_type": "stream",
          "text": [
            "514.7695791489982\n"
          ],
          "name": "stdout"
        }
      ]
    },
    {
      "cell_type": "code",
      "metadata": {
        "id": "6CiqcvJIYHj7"
      },
      "source": [
        ""
      ],
      "execution_count": null,
      "outputs": []
    }
  ]
}