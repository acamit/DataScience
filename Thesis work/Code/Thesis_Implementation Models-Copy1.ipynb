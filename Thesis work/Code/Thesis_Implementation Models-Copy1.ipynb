{
 "cells": [
  {
   "cell_type": "markdown",
   "metadata": {
    "id": "3nlUR9HSSzzI"
   },
   "source": [
    "# Libraries import"
   ]
  },
  {
   "cell_type": "code",
   "execution_count": 1,
   "metadata": {
    "id": "p1d435E2sQCS"
   },
   "outputs": [],
   "source": [
    "# from google.colab import drive\n",
    "# drive.mount('/content/gdrive')\n",
    "# import os\n",
    "# os.environ['KAGGLE_CONFIG_DIR'] = \"/content/gdrive/My Drive/Colab Notebooks\"\n",
    "# %cd /content/gdrive/My Drive/Colab Notebooks"
   ]
  },
  {
   "cell_type": "code",
   "execution_count": 2,
   "metadata": {
    "id": "gOcpoBQwsQCW"
   },
   "outputs": [],
   "source": [
    "# # uncomment this cell for first run to install the packages.\n",
    "# !pip install quandl\n",
    "# !pip install ta \n",
    "# !pip install git+https://github.com/ourownstory/neural_prophet.git\n",
    "# !pip install -U prophet\n",
    "# !pip install  -U statsmodels\n",
    "# !pip install -U sklearn\n",
    "# !pip install -U scikit-learn\n",
    "# !pip install -U pmdarima"
   ]
  },
  {
   "cell_type": "code",
   "execution_count": 3,
   "metadata": {
    "id": "mBx16hbRsQCZ"
   },
   "outputs": [],
   "source": [
    "# import os\n",
    "import numpy as np\n",
    "import pandas as pd\n",
    "import re\n",
    "from math import sqrt\n",
    "import quandl\n",
    "import matplotlib.pyplot as plt\n",
    "import seaborn as sns\n",
    "from sklearn.preprocessing import StandardScaler\n",
    "\n",
    "from statsmodels.tsa.arima.model import ARIMA\n",
    "from sklearn.metrics import mean_absolute_percentage_error, mean_squared_error, r2_score, mean_absolute_error\n",
    "# for mean_squared_error set squared = False for RMSE, (y_true, y_pred)\n",
    "from sklearn.model_selection import train_test_split\n",
    "\n",
    "# stats models\n",
    "from statsmodels.tsa.arima_model import ARMA, ARIMA, ARMAResults, ARIMAResults\n",
    "from statsmodels.graphics.tsaplots import plot_acf, plot_pacf\n",
    "import statsmodels.tsa.stattools as sts\n",
    "from statsmodels.tsa.statespace.varmax import VARMAX, VARMAXResults\n",
    "from statsmodels.tsa.statespace.sarimax import SARIMAX\n",
    "from statsmodels.tsa.seasonal import seasonal_decompose\n",
    "from statsmodels.tsa.statespace.tools import diff\n",
    "from statsmodels.tools.eval_measures import rmse\n",
    "import statsmodels.graphics.tsaplots as sgt\n",
    "\n",
    "from pmdarima import auto_arima\n",
    "from fbprophet import Prophet\n",
    "import copy\n",
    "import random\n",
    "import sys\n",
    "import itertools\n",
    "import warnings\n",
    "import os\n",
    "from prophet.plot import add_changepoints_to_plot\n",
    "warnings.filterwarnings('ignore')"
   ]
  },
  {
   "cell_type": "code",
   "execution_count": 4,
   "metadata": {
    "id": "eilgUocVCxuP"
   },
   "outputs": [],
   "source": [
    "path = './Outputs/'\n",
    "if(not os.path.isdir(path)):\n",
    "    os.mkdir(path)"
   ]
  },
  {
   "cell_type": "code",
   "execution_count": 5,
   "metadata": {
    "id": "jF50ziK2sQCh"
   },
   "outputs": [],
   "source": [
    "pd.set_option('display.max_columns', None)"
   ]
  },
  {
   "cell_type": "code",
   "execution_count": 6,
   "metadata": {
    "id": "fSEgJtsYsQCi"
   },
   "outputs": [],
   "source": [
    "quandl.ApiConfig.api_key = \"2At3atzXCrMx_BXfkyz7\"\n",
    "# 6b7jcHuxwW7Wot1kyFNS"
   ]
  },
  {
   "cell_type": "markdown",
   "metadata": {
    "id": "AIFIC6fhsQCk"
   },
   "source": [
    "# Data to be used"
   ]
  },
  {
   "cell_type": "code",
   "execution_count": 7,
   "metadata": {
    "colab": {
     "base_uri": "https://localhost:8080/",
     "height": 202
    },
    "id": "Exefd7g1sQCm",
    "outputId": "03fbc383-c942-4415-e2c6-6f196cd73853"
   },
   "outputs": [
    {
     "data": {
      "text/html": [
       "<div>\n",
       "<style scoped>\n",
       "    .dataframe tbody tr th:only-of-type {\n",
       "        vertical-align: middle;\n",
       "    }\n",
       "\n",
       "    .dataframe tbody tr th {\n",
       "        vertical-align: top;\n",
       "    }\n",
       "\n",
       "    .dataframe thead th {\n",
       "        text-align: right;\n",
       "    }\n",
       "</style>\n",
       "<table border=\"1\" class=\"dataframe\">\n",
       "  <thead>\n",
       "    <tr style=\"text-align: right;\">\n",
       "      <th></th>\n",
       "      <th>code</th>\n",
       "      <th>name</th>\n",
       "      <th>description</th>\n",
       "      <th>refreshed_at</th>\n",
       "      <th>from_date</th>\n",
       "      <th>to_date</th>\n",
       "    </tr>\n",
       "  </thead>\n",
       "  <tbody>\n",
       "    <tr>\n",
       "      <th>0</th>\n",
       "      <td>BOM500002</td>\n",
       "      <td>ABB India Limited EOD Prices</td>\n",
       "      <td>End of Day prices and additional trading infor...</td>\n",
       "      <td>1/19/2021 14:15</td>\n",
       "      <td>3/2/1992</td>\n",
       "      <td>1/18/2021</td>\n",
       "    </tr>\n",
       "    <tr>\n",
       "      <th>1</th>\n",
       "      <td>BOM500003</td>\n",
       "      <td>AEGIS LOGISTICS LTD. EOD Prices</td>\n",
       "      <td>End of Day prices and additional trading infor...</td>\n",
       "      <td>1/19/2021 14:15</td>\n",
       "      <td>3/2/1992</td>\n",
       "      <td>1/18/2021</td>\n",
       "    </tr>\n",
       "    <tr>\n",
       "      <th>2</th>\n",
       "      <td>BOM500008</td>\n",
       "      <td>AMARA RAJA BATTERIES LTD. EOD Prices</td>\n",
       "      <td>End of Day prices and additional trading infor...</td>\n",
       "      <td>1/19/2021 14:15</td>\n",
       "      <td>3/2/1992</td>\n",
       "      <td>1/18/2021</td>\n",
       "    </tr>\n",
       "    <tr>\n",
       "      <th>3</th>\n",
       "      <td>BOM500009</td>\n",
       "      <td>AMBALAL SARABHAI ENTERPRISES LTD. EOD Prices</td>\n",
       "      <td>End of Day prices and additional trading infor...</td>\n",
       "      <td>1/19/2021 14:15</td>\n",
       "      <td>3/2/1992</td>\n",
       "      <td>1/18/2021</td>\n",
       "    </tr>\n",
       "    <tr>\n",
       "      <th>4</th>\n",
       "      <td>BOM500010</td>\n",
       "      <td>HOUSING DEVELOPMENT FINANCE CORP.LTD. EOD Prices</td>\n",
       "      <td>End of Day prices and additional trading infor...</td>\n",
       "      <td>1/19/2021 14:15</td>\n",
       "      <td>1/3/1992</td>\n",
       "      <td>1/18/2021</td>\n",
       "    </tr>\n",
       "  </tbody>\n",
       "</table>\n",
       "</div>"
      ],
      "text/plain": [
       "        code                                              name  \\\n",
       "0  BOM500002                      ABB India Limited EOD Prices   \n",
       "1  BOM500003                   AEGIS LOGISTICS LTD. EOD Prices   \n",
       "2  BOM500008              AMARA RAJA BATTERIES LTD. EOD Prices   \n",
       "3  BOM500009      AMBALAL SARABHAI ENTERPRISES LTD. EOD Prices   \n",
       "4  BOM500010  HOUSING DEVELOPMENT FINANCE CORP.LTD. EOD Prices   \n",
       "\n",
       "                                         description     refreshed_at  \\\n",
       "0  End of Day prices and additional trading infor...  1/19/2021 14:15   \n",
       "1  End of Day prices and additional trading infor...  1/19/2021 14:15   \n",
       "2  End of Day prices and additional trading infor...  1/19/2021 14:15   \n",
       "3  End of Day prices and additional trading infor...  1/19/2021 14:15   \n",
       "4  End of Day prices and additional trading infor...  1/19/2021 14:15   \n",
       "\n",
       "  from_date    to_date  \n",
       "0  3/2/1992  1/18/2021  \n",
       "1  3/2/1992  1/18/2021  \n",
       "2  3/2/1992  1/18/2021  \n",
       "3  3/2/1992  1/18/2021  \n",
       "4  1/3/1992  1/18/2021  "
      ]
     },
     "execution_count": 7,
     "metadata": {},
     "output_type": "execute_result"
    }
   ],
   "source": [
    "metadata = pd.read_csv('BSE_metadata.csv')\n",
    "metadata.head()"
   ]
  },
  {
   "cell_type": "markdown",
   "metadata": {
    "id": "Tt336cVrsQCo"
   },
   "source": [
    "## Utility variables and functions"
   ]
  },
  {
   "cell_type": "code",
   "execution_count": 8,
   "metadata": {
    "id": "tVB6YbnlsQCq"
   },
   "outputs": [],
   "source": [
    "### Codes of selected stocks\n",
    "healthcare = ['BOM524715','BOM532488','BOM500124']\n",
    "banking = ['BOM500180','BOM532174','BOM500247']\n",
    "metals = ['BOM500470','BOM500228','BOM500440']\n",
    "auto = ['BOM532977','BOM500570','BOM532500']\n",
    "it = ['BOM500209','BOM532540','BOM507685']\n",
    "BSE_HEALTHCARE = 'SI0800'\n",
    "BSE_Information_Technology = 'SI1000'\n",
    "BSE_BANKEX = 'SIBANK'\n",
    "BSE_METAL = 'SI1200'\n",
    "BSE_AUTO = 'SI1900'\n",
    "SENSEX = 'SENSEX'\n",
    "\n",
    "stocks = healthcare+banking+metals + auto+it\n",
    "indices = [BSE_HEALTHCARE, BSE_Information_Technology, BSE_BANKEX, BSE_METAL, BSE_AUTO, SENSEX]\n",
    "allSymbols = stocks + indices\n",
    "ScriptWiseData = {}"
   ]
  },
  {
   "cell_type": "code",
   "execution_count": 9,
   "metadata": {
    "id": "3kHBN9nwsQCs"
   },
   "outputs": [],
   "source": [
    "# Global Variables\n",
    "RSIColumn = 'RSI'\n",
    "ATRColumns = ['TR', 'ATR']\n",
    "MACDColumns = ['FastAverage', 'SlowAverage','MACD','Signal']\n",
    "BollBandColumns = ['BB_up',\"BB_dn\",\"MA\",\"BB_width\"]\n",
    "ADXColumns = ['pos_directional_indicator', 'neg_directional_indicator', 'adx']\n",
    "OnBalanceVolume = 'OBV'\n",
    "TechnicalIndicators = ['RSI', 'ATR', 'MACD', 'adx', 'OBV'] #exogenous variables\n",
    "\n",
    "AllIndicatorColumns = [RSIColumn]+ATRColumns+MACDColumns+BollBandColumns+ADXColumns+[OnBalanceVolume]"
   ]
  },
  {
   "cell_type": "code",
   "execution_count": 10,
   "metadata": {
    "id": "JyImjqh2sQCu"
   },
   "outputs": [],
   "source": [
    "start_date = '2020-03-02'\n",
    "end_date = '2021-03-23'"
   ]
  },
  {
   "cell_type": "code",
   "execution_count": 11,
   "metadata": {
    "id": "dleF_l0AsQCw"
   },
   "outputs": [],
   "source": [
    "# get null values of all the stocks\n",
    "def getNullValuesForSetOfStocks(stockCodeList = stocks):\n",
    "    nullCounts = pd.DataFrame(ScriptWiseData[stockCodeList[0]].isnull().sum(), columns= [getStockNameFromStockCode(stockCodeList[0])])\n",
    "    for symbol in stockCodeList[1:]:\n",
    "        currNull = pd.DataFrame(ScriptWiseData[symbol].isnull().sum(), columns= [getStockNameFromStockCode(symbol)])\n",
    "        nullCounts = nullCounts.merge(currNull, left_index=True, right_index = True, how='outer')\n",
    "    return nullCounts"
   ]
  },
  {
   "cell_type": "code",
   "execution_count": 12,
   "metadata": {
    "id": "RyHT3E0nsQCx"
   },
   "outputs": [],
   "source": [
    "def adf_test(series, title = ''):\n",
    "    \"\"\"\n",
    "    Pass in a time series and an optional title\n",
    "    \"\"\"\n",
    "    result = sts.adfuller(series.dropna(), autolag = 'AIC')\n",
    "    label = ['ADF test statistic', 'p-value', '# lags used', '#observations']\n",
    "#     print(result)\n",
    "    out = pd.Series(result[0:4], index=label)\n",
    "    out['Stock Name'] = getStockNameFromStockCode(title)\n",
    "    out['Stock Code'] = title\n",
    "    for key, val in result[4].items():\n",
    "        out[f'critical value ({key})'] = val\n",
    "        \n",
    "#     print(out)\n",
    "    if(result[1]<0.05):\n",
    "        return out, 'Stationary'\n",
    "    else:\n",
    "        return out, 'Non-Stationary'"
   ]
  },
  {
   "cell_type": "code",
   "execution_count": 13,
   "metadata": {
    "colab": {
     "base_uri": "https://localhost:8080/",
     "height": 202
    },
    "id": "hagoTqx7sQCz",
    "outputId": "eff734c3-b767-4ea8-891e-91289c1c704d"
   },
   "outputs": [
    {
     "data": {
      "text/html": [
       "<div>\n",
       "<style scoped>\n",
       "    .dataframe tbody tr th:only-of-type {\n",
       "        vertical-align: middle;\n",
       "    }\n",
       "\n",
       "    .dataframe tbody tr th {\n",
       "        vertical-align: top;\n",
       "    }\n",
       "\n",
       "    .dataframe thead th {\n",
       "        text-align: right;\n",
       "    }\n",
       "</style>\n",
       "<table border=\"1\" class=\"dataframe\">\n",
       "  <thead>\n",
       "    <tr style=\"text-align: right;\">\n",
       "      <th></th>\n",
       "      <th>code</th>\n",
       "      <th>name</th>\n",
       "      <th>description</th>\n",
       "      <th>refreshed_at</th>\n",
       "      <th>from_date</th>\n",
       "      <th>to_date</th>\n",
       "    </tr>\n",
       "  </thead>\n",
       "  <tbody>\n",
       "    <tr>\n",
       "      <th>70</th>\n",
       "      <td>BOM500124</td>\n",
       "      <td>DR.REDDY'S LABORATORIES LTD. EOD Prices</td>\n",
       "      <td>End of Day prices and additional trading infor...</td>\n",
       "      <td>1/19/2021 14:15</td>\n",
       "      <td>3/2/1992</td>\n",
       "      <td>1/18/2021</td>\n",
       "    </tr>\n",
       "    <tr>\n",
       "      <th>104</th>\n",
       "      <td>BOM500180</td>\n",
       "      <td>HDFC Bank Ltd EOD Prices</td>\n",
       "      <td>End of Day prices and additional trading infor...</td>\n",
       "      <td>1/19/2021 14:15</td>\n",
       "      <td>5/26/1995</td>\n",
       "      <td>1/18/2021</td>\n",
       "    </tr>\n",
       "    <tr>\n",
       "      <th>121</th>\n",
       "      <td>BOM500209</td>\n",
       "      <td>INFOSYS LTD. EOD Prices</td>\n",
       "      <td>End of Day prices and additional trading infor...</td>\n",
       "      <td>1/19/2021 14:15</td>\n",
       "      <td>5/2/1995</td>\n",
       "      <td>1/18/2021</td>\n",
       "    </tr>\n",
       "    <tr>\n",
       "      <th>133</th>\n",
       "      <td>BOM500228</td>\n",
       "      <td>JSW STEEL LTD. EOD Prices</td>\n",
       "      <td>End of Day prices and additional trading infor...</td>\n",
       "      <td>1/19/2021 14:15</td>\n",
       "      <td>5/2/1995</td>\n",
       "      <td>1/18/2021</td>\n",
       "    </tr>\n",
       "    <tr>\n",
       "      <th>146</th>\n",
       "      <td>BOM500247</td>\n",
       "      <td>KOTAK MAHINDRA BANK LTD. EOD Prices</td>\n",
       "      <td>End of Day prices and additional trading infor...</td>\n",
       "      <td>1/19/2021 14:15</td>\n",
       "      <td>5/2/1995</td>\n",
       "      <td>1/18/2021</td>\n",
       "    </tr>\n",
       "  </tbody>\n",
       "</table>\n",
       "</div>"
      ],
      "text/plain": [
       "          code                                     name  \\\n",
       "70   BOM500124  DR.REDDY'S LABORATORIES LTD. EOD Prices   \n",
       "104  BOM500180                 HDFC Bank Ltd EOD Prices   \n",
       "121  BOM500209                  INFOSYS LTD. EOD Prices   \n",
       "133  BOM500228                JSW STEEL LTD. EOD Prices   \n",
       "146  BOM500247      KOTAK MAHINDRA BANK LTD. EOD Prices   \n",
       "\n",
       "                                           description     refreshed_at  \\\n",
       "70   End of Day prices and additional trading infor...  1/19/2021 14:15   \n",
       "104  End of Day prices and additional trading infor...  1/19/2021 14:15   \n",
       "121  End of Day prices and additional trading infor...  1/19/2021 14:15   \n",
       "133  End of Day prices and additional trading infor...  1/19/2021 14:15   \n",
       "146  End of Day prices and additional trading infor...  1/19/2021 14:15   \n",
       "\n",
       "     from_date    to_date  \n",
       "70    3/2/1992  1/18/2021  \n",
       "104  5/26/1995  1/18/2021  \n",
       "121   5/2/1995  1/18/2021  \n",
       "133   5/2/1995  1/18/2021  \n",
       "146   5/2/1995  1/18/2021  "
      ]
     },
     "execution_count": 13,
     "metadata": {},
     "output_type": "execute_result"
    }
   ],
   "source": [
    "stockMetadata = metadata[metadata['code'].isin(allSymbols)]\n",
    "stockMetadata.head()"
   ]
  },
  {
   "cell_type": "code",
   "execution_count": 14,
   "metadata": {
    "colab": {
     "base_uri": "https://localhost:8080/"
    },
    "id": "EwoZ1DP9sQC2",
    "outputId": "9880d09b-1de9-4123-d298-158a20b9d2e5"
   },
   "outputs": [
    {
     "name": "stdout",
     "output_type": "stream",
     "text": [
      "(21, 6)\n",
      "(15, 6)\n",
      "(6, 6)\n"
     ]
    }
   ],
   "source": [
    "print(stockMetadata.shape)\n",
    "print(stockMetadata[stockMetadata['code'].isin(stocks)].shape)\n",
    "print(stockMetadata[stockMetadata['code'].isin(indices)].shape)"
   ]
  },
  {
   "cell_type": "markdown",
   "metadata": {
    "id": "pSCAtI-QsQC3"
   },
   "source": [
    "## Map Index to  stocks"
   ]
  },
  {
   "cell_type": "code",
   "execution_count": 15,
   "metadata": {
    "id": "O7xx-FTQsQC4"
   },
   "outputs": [],
   "source": [
    "stockMetadata.loc[:, 'isStock'] = 0\n",
    "stockMetadata.loc[:, 'Index'] = ''\n",
    "\n",
    "stockMetadata.loc[stockMetadata['code'].isin(stocks), 'isStock'] = 1\n",
    "stockMetadata.reset_index(inplace=True)"
   ]
  },
  {
   "cell_type": "code",
   "execution_count": 16,
   "metadata": {
    "id": "s6ECqpt6sQC6"
   },
   "outputs": [],
   "source": [
    "stockMetadata.loc[stockMetadata['code'].isin(healthcare), 'Index'] = BSE_HEALTHCARE\n",
    "stockMetadata.loc[stockMetadata['code'].isin(banking), 'Index'] = BSE_BANKEX\n",
    "stockMetadata.loc[stockMetadata['code'].isin(metals), 'Index'] = BSE_METAL\n",
    "stockMetadata.loc[stockMetadata['code'].isin(auto), 'Index'] = BSE_AUTO\n",
    "stockMetadata.loc[stockMetadata['code'].isin(it), 'Index'] = BSE_Information_Technology"
   ]
  },
  {
   "cell_type": "code",
   "execution_count": 17,
   "metadata": {
    "colab": {
     "base_uri": "https://localhost:8080/",
     "height": 0
    },
    "id": "dmuf46EBsQC-",
    "outputId": "8fef1e1d-f1e9-4fe4-8dc7-c17aeadda32a"
   },
   "outputs": [
    {
     "data": {
      "text/html": [
       "<div>\n",
       "<style scoped>\n",
       "    .dataframe tbody tr th:only-of-type {\n",
       "        vertical-align: middle;\n",
       "    }\n",
       "\n",
       "    .dataframe tbody tr th {\n",
       "        vertical-align: top;\n",
       "    }\n",
       "\n",
       "    .dataframe thead th {\n",
       "        text-align: right;\n",
       "    }\n",
       "</style>\n",
       "<table border=\"1\" class=\"dataframe\">\n",
       "  <thead>\n",
       "    <tr style=\"text-align: right;\">\n",
       "      <th></th>\n",
       "      <th>index</th>\n",
       "      <th>code</th>\n",
       "      <th>name</th>\n",
       "      <th>description</th>\n",
       "      <th>refreshed_at</th>\n",
       "      <th>from_date</th>\n",
       "      <th>to_date</th>\n",
       "      <th>isStock</th>\n",
       "      <th>Index</th>\n",
       "    </tr>\n",
       "  </thead>\n",
       "  <tbody>\n",
       "    <tr>\n",
       "      <th>0</th>\n",
       "      <td>70</td>\n",
       "      <td>BOM500124</td>\n",
       "      <td>DR.REDDY'S LABORATORIES LTD. EOD Prices</td>\n",
       "      <td>End of Day prices and additional trading infor...</td>\n",
       "      <td>1/19/2021 14:15</td>\n",
       "      <td>3/2/1992</td>\n",
       "      <td>1/18/2021</td>\n",
       "      <td>1</td>\n",
       "      <td>SI0800</td>\n",
       "    </tr>\n",
       "    <tr>\n",
       "      <th>1</th>\n",
       "      <td>104</td>\n",
       "      <td>BOM500180</td>\n",
       "      <td>HDFC Bank Ltd EOD Prices</td>\n",
       "      <td>End of Day prices and additional trading infor...</td>\n",
       "      <td>1/19/2021 14:15</td>\n",
       "      <td>5/26/1995</td>\n",
       "      <td>1/18/2021</td>\n",
       "      <td>1</td>\n",
       "      <td>SIBANK</td>\n",
       "    </tr>\n",
       "    <tr>\n",
       "      <th>2</th>\n",
       "      <td>121</td>\n",
       "      <td>BOM500209</td>\n",
       "      <td>INFOSYS LTD. EOD Prices</td>\n",
       "      <td>End of Day prices and additional trading infor...</td>\n",
       "      <td>1/19/2021 14:15</td>\n",
       "      <td>5/2/1995</td>\n",
       "      <td>1/18/2021</td>\n",
       "      <td>1</td>\n",
       "      <td>SI1000</td>\n",
       "    </tr>\n",
       "    <tr>\n",
       "      <th>3</th>\n",
       "      <td>133</td>\n",
       "      <td>BOM500228</td>\n",
       "      <td>JSW STEEL LTD. EOD Prices</td>\n",
       "      <td>End of Day prices and additional trading infor...</td>\n",
       "      <td>1/19/2021 14:15</td>\n",
       "      <td>5/2/1995</td>\n",
       "      <td>1/18/2021</td>\n",
       "      <td>1</td>\n",
       "      <td>SI1200</td>\n",
       "    </tr>\n",
       "    <tr>\n",
       "      <th>4</th>\n",
       "      <td>146</td>\n",
       "      <td>BOM500247</td>\n",
       "      <td>KOTAK MAHINDRA BANK LTD. EOD Prices</td>\n",
       "      <td>End of Day prices and additional trading infor...</td>\n",
       "      <td>1/19/2021 14:15</td>\n",
       "      <td>5/2/1995</td>\n",
       "      <td>1/18/2021</td>\n",
       "      <td>1</td>\n",
       "      <td>SIBANK</td>\n",
       "    </tr>\n",
       "  </tbody>\n",
       "</table>\n",
       "</div>"
      ],
      "text/plain": [
       "   index       code                                     name  \\\n",
       "0     70  BOM500124  DR.REDDY'S LABORATORIES LTD. EOD Prices   \n",
       "1    104  BOM500180                 HDFC Bank Ltd EOD Prices   \n",
       "2    121  BOM500209                  INFOSYS LTD. EOD Prices   \n",
       "3    133  BOM500228                JSW STEEL LTD. EOD Prices   \n",
       "4    146  BOM500247      KOTAK MAHINDRA BANK LTD. EOD Prices   \n",
       "\n",
       "                                         description     refreshed_at  \\\n",
       "0  End of Day prices and additional trading infor...  1/19/2021 14:15   \n",
       "1  End of Day prices and additional trading infor...  1/19/2021 14:15   \n",
       "2  End of Day prices and additional trading infor...  1/19/2021 14:15   \n",
       "3  End of Day prices and additional trading infor...  1/19/2021 14:15   \n",
       "4  End of Day prices and additional trading infor...  1/19/2021 14:15   \n",
       "\n",
       "   from_date    to_date  isStock   Index  \n",
       "0   3/2/1992  1/18/2021        1  SI0800  \n",
       "1  5/26/1995  1/18/2021        1  SIBANK  \n",
       "2   5/2/1995  1/18/2021        1  SI1000  \n",
       "3   5/2/1995  1/18/2021        1  SI1200  \n",
       "4   5/2/1995  1/18/2021        1  SIBANK  "
      ]
     },
     "execution_count": 17,
     "metadata": {},
     "output_type": "execute_result"
    }
   ],
   "source": [
    "stockMetadata.head()"
   ]
  },
  {
   "cell_type": "code",
   "execution_count": 18,
   "metadata": {
    "colab": {
     "base_uri": "https://localhost:8080/"
    },
    "id": "Rc9nEZtlsQDA",
    "outputId": "3ab5ee7d-fcff-402f-c424-5f6a9f86aaa7"
   },
   "outputs": [
    {
     "data": {
      "text/plain": [
       "1    15\n",
       "0     6\n",
       "Name: isStock, dtype: int64"
      ]
     },
     "execution_count": 18,
     "metadata": {},
     "output_type": "execute_result"
    }
   ],
   "source": [
    "stockMetadata['isStock'].value_counts()"
   ]
  },
  {
   "cell_type": "markdown",
   "metadata": {
    "id": "isbyxB0RsQDC"
   },
   "source": [
    "# Code to download the data from quandl. "
   ]
  },
  {
   "cell_type": "code",
   "execution_count": 19,
   "metadata": {
    "id": "eyCPmZ5tsQDE"
   },
   "outputs": [],
   "source": [
    "# # download the required data - needed only 1 time\n",
    "# i=0\n",
    "# code = f'BSE/{stockMetadata.loc[i, \"code\"]}'\n",
    "# dataset = quandl.get(code, start_date='2000-01-01', end_date='2021-03-23').sort_values(by='Date', ascending=True)\n",
    "# dataset['StockName']=stockMetadata.loc[i, 'name']\n",
    "# dataset['code'] = stockMetadata.loc[i, \"code\"]\n",
    "# dataset['isStock'] = stockMetadata.loc[i, \"isStock\"]\n",
    "# dataset['Index'] = stockMetadata.loc[i, \"Index\"]\n",
    "# for i in range(1, len(stockMetadata)):\n",
    "#     code = f'BSE/{stockMetadata.loc[i, \"code\"]}'\n",
    "#     temp = quandl.get(code, start_date='2000-01-01', end_date='2021-03-23').sort_values(by='Date', ascending=True)\n",
    "#     temp['StockName']=stockMetadata.loc[i, 'name']\n",
    "#     temp['code'] = stockMetadata.loc[i, \"code\"]\n",
    "#     temp['isStock'] = stockMetadata.loc[i, \"isStock\"]\n",
    "#     temp['Index'] = stockMetadata.loc[i, \"Index\"]\n",
    "# #     print( stockMetadata.loc[i, \"Index\"])\n",
    "#     dataset = dataset.append(temp)\n",
    "# dataset.to_csv('data.csv')\n",
    "# dataset.head()"
   ]
  },
  {
   "cell_type": "code",
   "execution_count": 20,
   "metadata": {
    "colab": {
     "base_uri": "https://localhost:8080/",
     "height": 465
    },
    "id": "lynmUOjosQDG",
    "outputId": "a2556f0a-f131-4c52-dc0c-77b2e3dda77e"
   },
   "outputs": [
    {
     "data": {
      "text/html": [
       "<div>\n",
       "<style scoped>\n",
       "    .dataframe tbody tr th:only-of-type {\n",
       "        vertical-align: middle;\n",
       "    }\n",
       "\n",
       "    .dataframe tbody tr th {\n",
       "        vertical-align: top;\n",
       "    }\n",
       "\n",
       "    .dataframe thead th {\n",
       "        text-align: right;\n",
       "    }\n",
       "</style>\n",
       "<table border=\"1\" class=\"dataframe\">\n",
       "  <thead>\n",
       "    <tr style=\"text-align: right;\">\n",
       "      <th></th>\n",
       "      <th>Date</th>\n",
       "      <th>Open</th>\n",
       "      <th>High</th>\n",
       "      <th>Low</th>\n",
       "      <th>Close</th>\n",
       "      <th>WAP</th>\n",
       "      <th>No. of Shares</th>\n",
       "      <th>No. of Trades</th>\n",
       "      <th>Total Turnover</th>\n",
       "      <th>Deliverable Quantity</th>\n",
       "      <th>% Deli. Qty to Traded Qty</th>\n",
       "      <th>Spread H-L</th>\n",
       "      <th>Spread C-O</th>\n",
       "      <th>StockName</th>\n",
       "      <th>code</th>\n",
       "      <th>isStock</th>\n",
       "      <th>Index</th>\n",
       "    </tr>\n",
       "  </thead>\n",
       "  <tbody>\n",
       "    <tr>\n",
       "      <th>0</th>\n",
       "      <td>2000-01-03</td>\n",
       "      <td>1500.0</td>\n",
       "      <td>1557.35</td>\n",
       "      <td>1500.00</td>\n",
       "      <td>1557.35</td>\n",
       "      <td>1544.195154</td>\n",
       "      <td>82330.0</td>\n",
       "      <td>945.0</td>\n",
       "      <td>127133587.0</td>\n",
       "      <td>NaN</td>\n",
       "      <td>NaN</td>\n",
       "      <td>57.35</td>\n",
       "      <td>57.35</td>\n",
       "      <td>DR.REDDY'S LABORATORIES LTD. EOD Prices</td>\n",
       "      <td>BOM500124</td>\n",
       "      <td>1</td>\n",
       "      <td>SI0800</td>\n",
       "    </tr>\n",
       "    <tr>\n",
       "      <th>1</th>\n",
       "      <td>2000-01-04</td>\n",
       "      <td>1601.0</td>\n",
       "      <td>1681.00</td>\n",
       "      <td>1527.00</td>\n",
       "      <td>1647.25</td>\n",
       "      <td>1621.040930</td>\n",
       "      <td>210676.0</td>\n",
       "      <td>3308.0</td>\n",
       "      <td>341514419.0</td>\n",
       "      <td>NaN</td>\n",
       "      <td>NaN</td>\n",
       "      <td>154.00</td>\n",
       "      <td>46.25</td>\n",
       "      <td>DR.REDDY'S LABORATORIES LTD. EOD Prices</td>\n",
       "      <td>BOM500124</td>\n",
       "      <td>1</td>\n",
       "      <td>SI0800</td>\n",
       "    </tr>\n",
       "    <tr>\n",
       "      <th>2</th>\n",
       "      <td>2000-01-05</td>\n",
       "      <td>1600.0</td>\n",
       "      <td>1648.00</td>\n",
       "      <td>1515.50</td>\n",
       "      <td>1559.00</td>\n",
       "      <td>1590.903923</td>\n",
       "      <td>205669.0</td>\n",
       "      <td>2707.0</td>\n",
       "      <td>327199619.0</td>\n",
       "      <td>NaN</td>\n",
       "      <td>NaN</td>\n",
       "      <td>132.50</td>\n",
       "      <td>-41.00</td>\n",
       "      <td>DR.REDDY'S LABORATORIES LTD. EOD Prices</td>\n",
       "      <td>BOM500124</td>\n",
       "      <td>1</td>\n",
       "      <td>SI0800</td>\n",
       "    </tr>\n",
       "    <tr>\n",
       "      <th>3</th>\n",
       "      <td>2000-01-06</td>\n",
       "      <td>1582.0</td>\n",
       "      <td>1683.70</td>\n",
       "      <td>1560.00</td>\n",
       "      <td>1683.70</td>\n",
       "      <td>1623.244182</td>\n",
       "      <td>161085.0</td>\n",
       "      <td>2559.0</td>\n",
       "      <td>261480289.0</td>\n",
       "      <td>NaN</td>\n",
       "      <td>NaN</td>\n",
       "      <td>123.70</td>\n",
       "      <td>101.70</td>\n",
       "      <td>DR.REDDY'S LABORATORIES LTD. EOD Prices</td>\n",
       "      <td>BOM500124</td>\n",
       "      <td>1</td>\n",
       "      <td>SI0800</td>\n",
       "    </tr>\n",
       "    <tr>\n",
       "      <th>4</th>\n",
       "      <td>2000-01-07</td>\n",
       "      <td>1718.0</td>\n",
       "      <td>1718.00</td>\n",
       "      <td>1549.05</td>\n",
       "      <td>1549.05</td>\n",
       "      <td>1593.853264</td>\n",
       "      <td>120952.0</td>\n",
       "      <td>1955.0</td>\n",
       "      <td>192779740.0</td>\n",
       "      <td>NaN</td>\n",
       "      <td>NaN</td>\n",
       "      <td>168.95</td>\n",
       "      <td>-168.95</td>\n",
       "      <td>DR.REDDY'S LABORATORIES LTD. EOD Prices</td>\n",
       "      <td>BOM500124</td>\n",
       "      <td>1</td>\n",
       "      <td>SI0800</td>\n",
       "    </tr>\n",
       "  </tbody>\n",
       "</table>\n",
       "</div>"
      ],
      "text/plain": [
       "         Date    Open     High      Low    Close          WAP  No. of Shares  \\\n",
       "0  2000-01-03  1500.0  1557.35  1500.00  1557.35  1544.195154        82330.0   \n",
       "1  2000-01-04  1601.0  1681.00  1527.00  1647.25  1621.040930       210676.0   \n",
       "2  2000-01-05  1600.0  1648.00  1515.50  1559.00  1590.903923       205669.0   \n",
       "3  2000-01-06  1582.0  1683.70  1560.00  1683.70  1623.244182       161085.0   \n",
       "4  2000-01-07  1718.0  1718.00  1549.05  1549.05  1593.853264       120952.0   \n",
       "\n",
       "   No. of Trades  Total Turnover  Deliverable Quantity  \\\n",
       "0          945.0     127133587.0                   NaN   \n",
       "1         3308.0     341514419.0                   NaN   \n",
       "2         2707.0     327199619.0                   NaN   \n",
       "3         2559.0     261480289.0                   NaN   \n",
       "4         1955.0     192779740.0                   NaN   \n",
       "\n",
       "   % Deli. Qty to Traded Qty  Spread H-L  Spread C-O  \\\n",
       "0                        NaN       57.35       57.35   \n",
       "1                        NaN      154.00       46.25   \n",
       "2                        NaN      132.50      -41.00   \n",
       "3                        NaN      123.70      101.70   \n",
       "4                        NaN      168.95     -168.95   \n",
       "\n",
       "                                 StockName       code  isStock   Index  \n",
       "0  DR.REDDY'S LABORATORIES LTD. EOD Prices  BOM500124        1  SI0800  \n",
       "1  DR.REDDY'S LABORATORIES LTD. EOD Prices  BOM500124        1  SI0800  \n",
       "2  DR.REDDY'S LABORATORIES LTD. EOD Prices  BOM500124        1  SI0800  \n",
       "3  DR.REDDY'S LABORATORIES LTD. EOD Prices  BOM500124        1  SI0800  \n",
       "4  DR.REDDY'S LABORATORIES LTD. EOD Prices  BOM500124        1  SI0800  "
      ]
     },
     "execution_count": 20,
     "metadata": {},
     "output_type": "execute_result"
    }
   ],
   "source": [
    "dataset = pd.read_csv('data.csv')\n",
    "dataset.head()"
   ]
  },
  {
   "cell_type": "code",
   "execution_count": 21,
   "metadata": {
    "colab": {
     "base_uri": "https://localhost:8080/"
    },
    "id": "WYRIsODdsQDI",
    "outputId": "cc2a2456-61f5-4a59-a1d2-378462aaced2"
   },
   "outputs": [
    {
     "name": "stdout",
     "output_type": "stream",
     "text": [
      "<class 'pandas.core.frame.DataFrame'>\n",
      "RangeIndex: 105449 entries, 0 to 105448\n",
      "Data columns (total 17 columns):\n",
      " #   Column                     Non-Null Count   Dtype  \n",
      "---  ------                     --------------   -----  \n",
      " 0   Date                       105449 non-null  object \n",
      " 1   Open                       95130 non-null   float64\n",
      " 2   High                       95130 non-null   float64\n",
      " 3   Low                        95130 non-null   float64\n",
      " 4   Close                      105449 non-null  float64\n",
      " 5   WAP                        74255 non-null   float64\n",
      " 6   No. of Shares              74255 non-null   float64\n",
      " 7   No. of Trades              74255 non-null   float64\n",
      " 8   Total Turnover             74255 non-null   float64\n",
      " 9   Deliverable Quantity       68110 non-null   float64\n",
      " 10  % Deli. Qty to Traded Qty  68110 non-null   float64\n",
      " 11  Spread H-L                 74255 non-null   float64\n",
      " 12  Spread C-O                 74255 non-null   float64\n",
      " 13  StockName                  105449 non-null  object \n",
      " 14  code                       105449 non-null  object \n",
      " 15  isStock                    105449 non-null  int64  \n",
      " 16  Index                      74255 non-null   object \n",
      "dtypes: float64(12), int64(1), object(4)\n",
      "memory usage: 13.7+ MB\n"
     ]
    }
   ],
   "source": [
    "dataset.info()"
   ]
  },
  {
   "cell_type": "markdown",
   "metadata": {
    "id": "FIW4t81GsQDJ"
   },
   "source": [
    "### Verify the min and max of dates of all selected stocks and indices"
   ]
  },
  {
   "cell_type": "code",
   "execution_count": 22,
   "metadata": {
    "colab": {
     "base_uri": "https://localhost:8080/",
     "height": 294
    },
    "id": "_KxFJed0sQDK",
    "outputId": "9bad2aea-d0fa-4ae1-b9be-012b2049a059"
   },
   "outputs": [
    {
     "data": {
      "text/html": [
       "<div>\n",
       "<style scoped>\n",
       "    .dataframe tbody tr th:only-of-type {\n",
       "        vertical-align: middle;\n",
       "    }\n",
       "\n",
       "    .dataframe tbody tr th {\n",
       "        vertical-align: top;\n",
       "    }\n",
       "\n",
       "    .dataframe thead th {\n",
       "        text-align: right;\n",
       "    }\n",
       "</style>\n",
       "<table border=\"1\" class=\"dataframe\">\n",
       "  <thead>\n",
       "    <tr style=\"text-align: right;\">\n",
       "      <th></th>\n",
       "      <th>Stock Code</th>\n",
       "      <th>Stock Name</th>\n",
       "      <th>First Date</th>\n",
       "      <th>Last Date</th>\n",
       "    </tr>\n",
       "  </thead>\n",
       "  <tbody>\n",
       "    <tr>\n",
       "      <th>0</th>\n",
       "      <td>BOM500124</td>\n",
       "      <td>DR.REDDY'S LABORATORIES LTD. EOD Prices</td>\n",
       "      <td>2000-01-03</td>\n",
       "      <td>2021-03-23</td>\n",
       "    </tr>\n",
       "    <tr>\n",
       "      <th>1</th>\n",
       "      <td>BOM500180</td>\n",
       "      <td>HDFC Bank Ltd EOD Prices</td>\n",
       "      <td>2000-01-03</td>\n",
       "      <td>2021-03-23</td>\n",
       "    </tr>\n",
       "    <tr>\n",
       "      <th>2</th>\n",
       "      <td>BOM500209</td>\n",
       "      <td>INFOSYS LTD. EOD Prices</td>\n",
       "      <td>2000-01-03</td>\n",
       "      <td>2021-03-23</td>\n",
       "    </tr>\n",
       "    <tr>\n",
       "      <th>3</th>\n",
       "      <td>BOM500228</td>\n",
       "      <td>JSW STEEL LTD. EOD Prices</td>\n",
       "      <td>2000-01-03</td>\n",
       "      <td>2021-03-23</td>\n",
       "    </tr>\n",
       "    <tr>\n",
       "      <th>4</th>\n",
       "      <td>BOM500247</td>\n",
       "      <td>KOTAK MAHINDRA BANK LTD. EOD Prices</td>\n",
       "      <td>2000-01-03</td>\n",
       "      <td>2021-03-23</td>\n",
       "    </tr>\n",
       "    <tr>\n",
       "      <th>5</th>\n",
       "      <td>BOM500440</td>\n",
       "      <td>HINDALCO INDUSTRIES LTD. EOD Prices</td>\n",
       "      <td>2000-01-03</td>\n",
       "      <td>2021-03-23</td>\n",
       "    </tr>\n",
       "    <tr>\n",
       "      <th>6</th>\n",
       "      <td>BOM500470</td>\n",
       "      <td>TATA STEEL LTD. EOD Prices</td>\n",
       "      <td>2000-01-03</td>\n",
       "      <td>2021-03-23</td>\n",
       "    </tr>\n",
       "    <tr>\n",
       "      <th>7</th>\n",
       "      <td>BOM500570</td>\n",
       "      <td>TATA MOTORS LTD. EOD Prices</td>\n",
       "      <td>2000-01-03</td>\n",
       "      <td>2021-03-23</td>\n",
       "    </tr>\n",
       "    <tr>\n",
       "      <th>8</th>\n",
       "      <td>BOM507685</td>\n",
       "      <td>WIPRO LTD. EOD Prices</td>\n",
       "      <td>2000-01-03</td>\n",
       "      <td>2021-03-23</td>\n",
       "    </tr>\n",
       "    <tr>\n",
       "      <th>9</th>\n",
       "      <td>BOM524715</td>\n",
       "      <td>SUN PHARMACEUTICAL INDUSTRIES LTD. EOD Prices</td>\n",
       "      <td>2000-01-03</td>\n",
       "      <td>2021-03-23</td>\n",
       "    </tr>\n",
       "    <tr>\n",
       "      <th>10</th>\n",
       "      <td>BOM532174</td>\n",
       "      <td>ICICI BANK LTD. EOD Prices</td>\n",
       "      <td>2000-01-03</td>\n",
       "      <td>2021-03-23</td>\n",
       "    </tr>\n",
       "    <tr>\n",
       "      <th>11</th>\n",
       "      <td>BOM532488</td>\n",
       "      <td>DIVI'S LABORATORIES LTD. EOD Prices</td>\n",
       "      <td>2003-03-12</td>\n",
       "      <td>2021-03-23</td>\n",
       "    </tr>\n",
       "    <tr>\n",
       "      <th>12</th>\n",
       "      <td>BOM532500</td>\n",
       "      <td>MARUTI SUZUKI INDIA LTD. EOD Prices</td>\n",
       "      <td>2003-07-09</td>\n",
       "      <td>2021-03-23</td>\n",
       "    </tr>\n",
       "    <tr>\n",
       "      <th>13</th>\n",
       "      <td>BOM532540</td>\n",
       "      <td>TATA CONSULTANCY SERVICES LTD. EOD Prices</td>\n",
       "      <td>2004-08-25</td>\n",
       "      <td>2021-03-23</td>\n",
       "    </tr>\n",
       "    <tr>\n",
       "      <th>14</th>\n",
       "      <td>BOM532977</td>\n",
       "      <td>BAJAJ AUTO LTD. EOD Prices</td>\n",
       "      <td>2008-05-26</td>\n",
       "      <td>2021-03-23</td>\n",
       "    </tr>\n",
       "    <tr>\n",
       "      <th>15</th>\n",
       "      <td>SENSEX</td>\n",
       "      <td>BSE SENSEX</td>\n",
       "      <td>2000-01-03</td>\n",
       "      <td>2021-03-23</td>\n",
       "    </tr>\n",
       "    <tr>\n",
       "      <th>16</th>\n",
       "      <td>SI0800</td>\n",
       "      <td>BSE Healthcare</td>\n",
       "      <td>2000-01-03</td>\n",
       "      <td>2021-03-23</td>\n",
       "    </tr>\n",
       "    <tr>\n",
       "      <th>17</th>\n",
       "      <td>SI1000</td>\n",
       "      <td>BSE Information Technology</td>\n",
       "      <td>2000-01-03</td>\n",
       "      <td>2021-03-23</td>\n",
       "    </tr>\n",
       "    <tr>\n",
       "      <th>18</th>\n",
       "      <td>SI1200</td>\n",
       "      <td>BSE METAL</td>\n",
       "      <td>2000-01-03</td>\n",
       "      <td>2021-03-23</td>\n",
       "    </tr>\n",
       "    <tr>\n",
       "      <th>19</th>\n",
       "      <td>SI1900</td>\n",
       "      <td>BSE AUTO</td>\n",
       "      <td>2000-01-03</td>\n",
       "      <td>2021-03-23</td>\n",
       "    </tr>\n",
       "    <tr>\n",
       "      <th>20</th>\n",
       "      <td>SIBANK</td>\n",
       "      <td>BSE BANKEX</td>\n",
       "      <td>2002-01-01</td>\n",
       "      <td>2021-03-23</td>\n",
       "    </tr>\n",
       "  </tbody>\n",
       "</table>\n",
       "</div>"
      ],
      "text/plain": [
       "   Stock Code                                     Stock Name  First Date  \\\n",
       "0   BOM500124        DR.REDDY'S LABORATORIES LTD. EOD Prices  2000-01-03   \n",
       "1   BOM500180                       HDFC Bank Ltd EOD Prices  2000-01-03   \n",
       "2   BOM500209                        INFOSYS LTD. EOD Prices  2000-01-03   \n",
       "3   BOM500228                      JSW STEEL LTD. EOD Prices  2000-01-03   \n",
       "4   BOM500247            KOTAK MAHINDRA BANK LTD. EOD Prices  2000-01-03   \n",
       "5   BOM500440            HINDALCO INDUSTRIES LTD. EOD Prices  2000-01-03   \n",
       "6   BOM500470                     TATA STEEL LTD. EOD Prices  2000-01-03   \n",
       "7   BOM500570                    TATA MOTORS LTD. EOD Prices  2000-01-03   \n",
       "8   BOM507685                          WIPRO LTD. EOD Prices  2000-01-03   \n",
       "9   BOM524715  SUN PHARMACEUTICAL INDUSTRIES LTD. EOD Prices  2000-01-03   \n",
       "10  BOM532174                     ICICI BANK LTD. EOD Prices  2000-01-03   \n",
       "11  BOM532488            DIVI'S LABORATORIES LTD. EOD Prices  2003-03-12   \n",
       "12  BOM532500            MARUTI SUZUKI INDIA LTD. EOD Prices  2003-07-09   \n",
       "13  BOM532540      TATA CONSULTANCY SERVICES LTD. EOD Prices  2004-08-25   \n",
       "14  BOM532977                     BAJAJ AUTO LTD. EOD Prices  2008-05-26   \n",
       "15     SENSEX                                     BSE SENSEX  2000-01-03   \n",
       "16     SI0800                                 BSE Healthcare  2000-01-03   \n",
       "17     SI1000                     BSE Information Technology  2000-01-03   \n",
       "18     SI1200                                      BSE METAL  2000-01-03   \n",
       "19     SI1900                                       BSE AUTO  2000-01-03   \n",
       "20     SIBANK                                     BSE BANKEX  2002-01-01   \n",
       "\n",
       "     Last Date  \n",
       "0   2021-03-23  \n",
       "1   2021-03-23  \n",
       "2   2021-03-23  \n",
       "3   2021-03-23  \n",
       "4   2021-03-23  \n",
       "5   2021-03-23  \n",
       "6   2021-03-23  \n",
       "7   2021-03-23  \n",
       "8   2021-03-23  \n",
       "9   2021-03-23  \n",
       "10  2021-03-23  \n",
       "11  2021-03-23  \n",
       "12  2021-03-23  \n",
       "13  2021-03-23  \n",
       "14  2021-03-23  \n",
       "15  2021-03-23  \n",
       "16  2021-03-23  \n",
       "17  2021-03-23  \n",
       "18  2021-03-23  \n",
       "19  2021-03-23  \n",
       "20  2021-03-23  "
      ]
     },
     "execution_count": 22,
     "metadata": {},
     "output_type": "execute_result"
    }
   ],
   "source": [
    "dateRanges = dataset.groupby(['code', 'StockName']).agg({'Date': ['min', 'max']}).reset_index()\n",
    "dateRanges.columns = ['Stock Code', 'Stock Name', 'First Date', 'Last Date']\n",
    "dateRanges"
   ]
  },
  {
   "cell_type": "code",
   "execution_count": 23,
   "metadata": {
    "id": "5k9t2tCJsQDU"
   },
   "outputs": [],
   "source": [
    "# use above ranges to get stockName\n",
    "def getStockNameFromStockCode(stockCode):\n",
    "    return dateRanges.loc[dateRanges['Stock Code']==stockCode, 'Stock Name'].values[0].replace('EOD Prices', '');"
   ]
  },
  {
   "cell_type": "code",
   "execution_count": 24,
   "metadata": {
    "colab": {
     "base_uri": "https://localhost:8080/",
     "height": 495
    },
    "id": "tJN_Fe5xsQDV",
    "outputId": "123fd14d-9d2b-41ae-d982-dcbce99b69c7"
   },
   "outputs": [
    {
     "data": {
      "text/html": [
       "<div>\n",
       "<style scoped>\n",
       "    .dataframe tbody tr th:only-of-type {\n",
       "        vertical-align: middle;\n",
       "    }\n",
       "\n",
       "    .dataframe tbody tr th {\n",
       "        vertical-align: top;\n",
       "    }\n",
       "\n",
       "    .dataframe thead th {\n",
       "        text-align: right;\n",
       "    }\n",
       "</style>\n",
       "<table border=\"1\" class=\"dataframe\">\n",
       "  <thead>\n",
       "    <tr style=\"text-align: right;\">\n",
       "      <th></th>\n",
       "      <th>Open</th>\n",
       "      <th>High</th>\n",
       "      <th>Low</th>\n",
       "      <th>Close</th>\n",
       "      <th>WAP</th>\n",
       "      <th>No. of Shares</th>\n",
       "      <th>No. of Trades</th>\n",
       "      <th>Total Turnover</th>\n",
       "      <th>Deliverable Quantity</th>\n",
       "      <th>% Deli. Qty to Traded Qty</th>\n",
       "      <th>Spread H-L</th>\n",
       "      <th>Spread C-O</th>\n",
       "      <th>StockName</th>\n",
       "      <th>code</th>\n",
       "      <th>isStock</th>\n",
       "      <th>Index</th>\n",
       "    </tr>\n",
       "    <tr>\n",
       "      <th>Date</th>\n",
       "      <th></th>\n",
       "      <th></th>\n",
       "      <th></th>\n",
       "      <th></th>\n",
       "      <th></th>\n",
       "      <th></th>\n",
       "      <th></th>\n",
       "      <th></th>\n",
       "      <th></th>\n",
       "      <th></th>\n",
       "      <th></th>\n",
       "      <th></th>\n",
       "      <th></th>\n",
       "      <th></th>\n",
       "      <th></th>\n",
       "      <th></th>\n",
       "    </tr>\n",
       "  </thead>\n",
       "  <tbody>\n",
       "    <tr>\n",
       "      <th>2000-01-03</th>\n",
       "      <td>1500.0</td>\n",
       "      <td>1557.35</td>\n",
       "      <td>1500.00</td>\n",
       "      <td>1557.35</td>\n",
       "      <td>1544.195154</td>\n",
       "      <td>82330.0</td>\n",
       "      <td>945.0</td>\n",
       "      <td>127133587.0</td>\n",
       "      <td>NaN</td>\n",
       "      <td>NaN</td>\n",
       "      <td>57.35</td>\n",
       "      <td>57.35</td>\n",
       "      <td>DR.REDDY'S LABORATORIES LTD. EOD Prices</td>\n",
       "      <td>BOM500124</td>\n",
       "      <td>1</td>\n",
       "      <td>SI0800</td>\n",
       "    </tr>\n",
       "    <tr>\n",
       "      <th>2000-01-04</th>\n",
       "      <td>1601.0</td>\n",
       "      <td>1681.00</td>\n",
       "      <td>1527.00</td>\n",
       "      <td>1647.25</td>\n",
       "      <td>1621.040930</td>\n",
       "      <td>210676.0</td>\n",
       "      <td>3308.0</td>\n",
       "      <td>341514419.0</td>\n",
       "      <td>NaN</td>\n",
       "      <td>NaN</td>\n",
       "      <td>154.00</td>\n",
       "      <td>46.25</td>\n",
       "      <td>DR.REDDY'S LABORATORIES LTD. EOD Prices</td>\n",
       "      <td>BOM500124</td>\n",
       "      <td>1</td>\n",
       "      <td>SI0800</td>\n",
       "    </tr>\n",
       "    <tr>\n",
       "      <th>2000-01-05</th>\n",
       "      <td>1600.0</td>\n",
       "      <td>1648.00</td>\n",
       "      <td>1515.50</td>\n",
       "      <td>1559.00</td>\n",
       "      <td>1590.903923</td>\n",
       "      <td>205669.0</td>\n",
       "      <td>2707.0</td>\n",
       "      <td>327199619.0</td>\n",
       "      <td>NaN</td>\n",
       "      <td>NaN</td>\n",
       "      <td>132.50</td>\n",
       "      <td>-41.00</td>\n",
       "      <td>DR.REDDY'S LABORATORIES LTD. EOD Prices</td>\n",
       "      <td>BOM500124</td>\n",
       "      <td>1</td>\n",
       "      <td>SI0800</td>\n",
       "    </tr>\n",
       "    <tr>\n",
       "      <th>2000-01-06</th>\n",
       "      <td>1582.0</td>\n",
       "      <td>1683.70</td>\n",
       "      <td>1560.00</td>\n",
       "      <td>1683.70</td>\n",
       "      <td>1623.244182</td>\n",
       "      <td>161085.0</td>\n",
       "      <td>2559.0</td>\n",
       "      <td>261480289.0</td>\n",
       "      <td>NaN</td>\n",
       "      <td>NaN</td>\n",
       "      <td>123.70</td>\n",
       "      <td>101.70</td>\n",
       "      <td>DR.REDDY'S LABORATORIES LTD. EOD Prices</td>\n",
       "      <td>BOM500124</td>\n",
       "      <td>1</td>\n",
       "      <td>SI0800</td>\n",
       "    </tr>\n",
       "    <tr>\n",
       "      <th>2000-01-07</th>\n",
       "      <td>1718.0</td>\n",
       "      <td>1718.00</td>\n",
       "      <td>1549.05</td>\n",
       "      <td>1549.05</td>\n",
       "      <td>1593.853264</td>\n",
       "      <td>120952.0</td>\n",
       "      <td>1955.0</td>\n",
       "      <td>192779740.0</td>\n",
       "      <td>NaN</td>\n",
       "      <td>NaN</td>\n",
       "      <td>168.95</td>\n",
       "      <td>-168.95</td>\n",
       "      <td>DR.REDDY'S LABORATORIES LTD. EOD Prices</td>\n",
       "      <td>BOM500124</td>\n",
       "      <td>1</td>\n",
       "      <td>SI0800</td>\n",
       "    </tr>\n",
       "  </tbody>\n",
       "</table>\n",
       "</div>"
      ],
      "text/plain": [
       "              Open     High      Low    Close          WAP  No. of Shares  \\\n",
       "Date                                                                        \n",
       "2000-01-03  1500.0  1557.35  1500.00  1557.35  1544.195154        82330.0   \n",
       "2000-01-04  1601.0  1681.00  1527.00  1647.25  1621.040930       210676.0   \n",
       "2000-01-05  1600.0  1648.00  1515.50  1559.00  1590.903923       205669.0   \n",
       "2000-01-06  1582.0  1683.70  1560.00  1683.70  1623.244182       161085.0   \n",
       "2000-01-07  1718.0  1718.00  1549.05  1549.05  1593.853264       120952.0   \n",
       "\n",
       "            No. of Trades  Total Turnover  Deliverable Quantity  \\\n",
       "Date                                                              \n",
       "2000-01-03          945.0     127133587.0                   NaN   \n",
       "2000-01-04         3308.0     341514419.0                   NaN   \n",
       "2000-01-05         2707.0     327199619.0                   NaN   \n",
       "2000-01-06         2559.0     261480289.0                   NaN   \n",
       "2000-01-07         1955.0     192779740.0                   NaN   \n",
       "\n",
       "            % Deli. Qty to Traded Qty  Spread H-L  Spread C-O  \\\n",
       "Date                                                            \n",
       "2000-01-03                        NaN       57.35       57.35   \n",
       "2000-01-04                        NaN      154.00       46.25   \n",
       "2000-01-05                        NaN      132.50      -41.00   \n",
       "2000-01-06                        NaN      123.70      101.70   \n",
       "2000-01-07                        NaN      168.95     -168.95   \n",
       "\n",
       "                                          StockName       code  isStock  \\\n",
       "Date                                                                      \n",
       "2000-01-03  DR.REDDY'S LABORATORIES LTD. EOD Prices  BOM500124        1   \n",
       "2000-01-04  DR.REDDY'S LABORATORIES LTD. EOD Prices  BOM500124        1   \n",
       "2000-01-05  DR.REDDY'S LABORATORIES LTD. EOD Prices  BOM500124        1   \n",
       "2000-01-06  DR.REDDY'S LABORATORIES LTD. EOD Prices  BOM500124        1   \n",
       "2000-01-07  DR.REDDY'S LABORATORIES LTD. EOD Prices  BOM500124        1   \n",
       "\n",
       "             Index  \n",
       "Date                \n",
       "2000-01-03  SI0800  \n",
       "2000-01-04  SI0800  \n",
       "2000-01-05  SI0800  \n",
       "2000-01-06  SI0800  \n",
       "2000-01-07  SI0800  "
      ]
     },
     "execution_count": 24,
     "metadata": {},
     "output_type": "execute_result"
    }
   ],
   "source": [
    "data = dataset.set_index('Date')\n",
    "data.head()"
   ]
  },
  {
   "cell_type": "markdown",
   "metadata": {
    "id": "zPN-2PnUsQDX"
   },
   "source": [
    "### Populate dictionary to hold individual Stock Data"
   ]
  },
  {
   "cell_type": "code",
   "execution_count": 25,
   "metadata": {
    "id": "foJvrjY0sQDY"
   },
   "outputs": [],
   "source": [
    "# ScriptWiseData = {'Symbol1': <DatqaFrame>, 'Suymbol 2':Dataframe2}\n",
    "for symbol in allSymbols:\n",
    "    ScriptWiseData[symbol] = data.loc[data.code==symbol]"
   ]
  },
  {
   "cell_type": "markdown",
   "metadata": {
    "id": "ihkDFSgnsQDZ"
   },
   "source": [
    "### View null values in the data "
   ]
  },
  {
   "cell_type": "code",
   "execution_count": 26,
   "metadata": {
    "colab": {
     "base_uri": "https://localhost:8080/",
     "height": 277
    },
    "id": "vrqyLuQUsQDa",
    "outputId": "8549d5f9-90ee-4153-9337-f117424033e7"
   },
   "outputs": [
    {
     "data": {
      "text/html": [
       "<div>\n",
       "<style scoped>\n",
       "    .dataframe tbody tr th:only-of-type {\n",
       "        vertical-align: middle;\n",
       "    }\n",
       "\n",
       "    .dataframe tbody tr th {\n",
       "        vertical-align: top;\n",
       "    }\n",
       "\n",
       "    .dataframe thead th {\n",
       "        text-align: right;\n",
       "    }\n",
       "</style>\n",
       "<table border=\"1\" class=\"dataframe\">\n",
       "  <thead>\n",
       "    <tr style=\"text-align: right;\">\n",
       "      <th></th>\n",
       "      <th>SUN PHARMACEUTICAL INDUSTRIES LTD.</th>\n",
       "      <th>DIVI'S LABORATORIES LTD.</th>\n",
       "      <th>DR.REDDY'S LABORATORIES LTD.</th>\n",
       "      <th>HDFC Bank Ltd</th>\n",
       "      <th>ICICI BANK LTD.</th>\n",
       "      <th>KOTAK MAHINDRA BANK LTD.</th>\n",
       "      <th>TATA STEEL LTD.</th>\n",
       "      <th>JSW STEEL LTD.</th>\n",
       "      <th>HINDALCO INDUSTRIES LTD.</th>\n",
       "      <th>BAJAJ AUTO LTD.</th>\n",
       "      <th>TATA MOTORS LTD.</th>\n",
       "      <th>MARUTI SUZUKI INDIA LTD.</th>\n",
       "      <th>INFOSYS LTD.</th>\n",
       "      <th>TATA CONSULTANCY SERVICES LTD.</th>\n",
       "      <th>WIPRO LTD.</th>\n",
       "    </tr>\n",
       "  </thead>\n",
       "  <tbody>\n",
       "    <tr>\n",
       "      <th>Open</th>\n",
       "      <td>0</td>\n",
       "      <td>0</td>\n",
       "      <td>0</td>\n",
       "      <td>0</td>\n",
       "      <td>0</td>\n",
       "      <td>0</td>\n",
       "      <td>0</td>\n",
       "      <td>0</td>\n",
       "      <td>0</td>\n",
       "      <td>0</td>\n",
       "      <td>0</td>\n",
       "      <td>0</td>\n",
       "      <td>0</td>\n",
       "      <td>0</td>\n",
       "      <td>0</td>\n",
       "    </tr>\n",
       "    <tr>\n",
       "      <th>High</th>\n",
       "      <td>0</td>\n",
       "      <td>0</td>\n",
       "      <td>0</td>\n",
       "      <td>0</td>\n",
       "      <td>0</td>\n",
       "      <td>0</td>\n",
       "      <td>0</td>\n",
       "      <td>0</td>\n",
       "      <td>0</td>\n",
       "      <td>0</td>\n",
       "      <td>0</td>\n",
       "      <td>0</td>\n",
       "      <td>0</td>\n",
       "      <td>0</td>\n",
       "      <td>0</td>\n",
       "    </tr>\n",
       "    <tr>\n",
       "      <th>Low</th>\n",
       "      <td>0</td>\n",
       "      <td>0</td>\n",
       "      <td>0</td>\n",
       "      <td>0</td>\n",
       "      <td>0</td>\n",
       "      <td>0</td>\n",
       "      <td>0</td>\n",
       "      <td>0</td>\n",
       "      <td>0</td>\n",
       "      <td>0</td>\n",
       "      <td>0</td>\n",
       "      <td>0</td>\n",
       "      <td>0</td>\n",
       "      <td>0</td>\n",
       "      <td>0</td>\n",
       "    </tr>\n",
       "    <tr>\n",
       "      <th>Close</th>\n",
       "      <td>0</td>\n",
       "      <td>0</td>\n",
       "      <td>0</td>\n",
       "      <td>0</td>\n",
       "      <td>0</td>\n",
       "      <td>0</td>\n",
       "      <td>0</td>\n",
       "      <td>0</td>\n",
       "      <td>0</td>\n",
       "      <td>0</td>\n",
       "      <td>0</td>\n",
       "      <td>0</td>\n",
       "      <td>0</td>\n",
       "      <td>0</td>\n",
       "      <td>0</td>\n",
       "    </tr>\n",
       "    <tr>\n",
       "      <th>WAP</th>\n",
       "      <td>0</td>\n",
       "      <td>0</td>\n",
       "      <td>0</td>\n",
       "      <td>0</td>\n",
       "      <td>0</td>\n",
       "      <td>0</td>\n",
       "      <td>0</td>\n",
       "      <td>0</td>\n",
       "      <td>0</td>\n",
       "      <td>0</td>\n",
       "      <td>0</td>\n",
       "      <td>0</td>\n",
       "      <td>0</td>\n",
       "      <td>0</td>\n",
       "      <td>0</td>\n",
       "    </tr>\n",
       "    <tr>\n",
       "      <th>No. of Shares</th>\n",
       "      <td>0</td>\n",
       "      <td>0</td>\n",
       "      <td>0</td>\n",
       "      <td>0</td>\n",
       "      <td>0</td>\n",
       "      <td>0</td>\n",
       "      <td>0</td>\n",
       "      <td>0</td>\n",
       "      <td>0</td>\n",
       "      <td>0</td>\n",
       "      <td>0</td>\n",
       "      <td>0</td>\n",
       "      <td>0</td>\n",
       "      <td>0</td>\n",
       "      <td>0</td>\n",
       "    </tr>\n",
       "    <tr>\n",
       "      <th>No. of Trades</th>\n",
       "      <td>0</td>\n",
       "      <td>0</td>\n",
       "      <td>0</td>\n",
       "      <td>0</td>\n",
       "      <td>0</td>\n",
       "      <td>0</td>\n",
       "      <td>0</td>\n",
       "      <td>0</td>\n",
       "      <td>0</td>\n",
       "      <td>0</td>\n",
       "      <td>0</td>\n",
       "      <td>0</td>\n",
       "      <td>0</td>\n",
       "      <td>0</td>\n",
       "      <td>0</td>\n",
       "    </tr>\n",
       "    <tr>\n",
       "      <th>Total Turnover</th>\n",
       "      <td>0</td>\n",
       "      <td>0</td>\n",
       "      <td>0</td>\n",
       "      <td>0</td>\n",
       "      <td>0</td>\n",
       "      <td>0</td>\n",
       "      <td>0</td>\n",
       "      <td>0</td>\n",
       "      <td>0</td>\n",
       "      <td>0</td>\n",
       "      <td>0</td>\n",
       "      <td>0</td>\n",
       "      <td>0</td>\n",
       "      <td>0</td>\n",
       "      <td>0</td>\n",
       "    </tr>\n",
       "    <tr>\n",
       "      <th>Deliverable Quantity</th>\n",
       "      <td>548</td>\n",
       "      <td>57</td>\n",
       "      <td>538</td>\n",
       "      <td>538</td>\n",
       "      <td>544</td>\n",
       "      <td>537</td>\n",
       "      <td>545</td>\n",
       "      <td>580</td>\n",
       "      <td>555</td>\n",
       "      <td>1</td>\n",
       "      <td>542</td>\n",
       "      <td>81</td>\n",
       "      <td>539</td>\n",
       "      <td>2</td>\n",
       "      <td>538</td>\n",
       "    </tr>\n",
       "    <tr>\n",
       "      <th>% Deli. Qty to Traded Qty</th>\n",
       "      <td>548</td>\n",
       "      <td>57</td>\n",
       "      <td>538</td>\n",
       "      <td>538</td>\n",
       "      <td>544</td>\n",
       "      <td>537</td>\n",
       "      <td>545</td>\n",
       "      <td>580</td>\n",
       "      <td>555</td>\n",
       "      <td>1</td>\n",
       "      <td>542</td>\n",
       "      <td>81</td>\n",
       "      <td>539</td>\n",
       "      <td>2</td>\n",
       "      <td>538</td>\n",
       "    </tr>\n",
       "    <tr>\n",
       "      <th>Spread H-L</th>\n",
       "      <td>0</td>\n",
       "      <td>0</td>\n",
       "      <td>0</td>\n",
       "      <td>0</td>\n",
       "      <td>0</td>\n",
       "      <td>0</td>\n",
       "      <td>0</td>\n",
       "      <td>0</td>\n",
       "      <td>0</td>\n",
       "      <td>0</td>\n",
       "      <td>0</td>\n",
       "      <td>0</td>\n",
       "      <td>0</td>\n",
       "      <td>0</td>\n",
       "      <td>0</td>\n",
       "    </tr>\n",
       "    <tr>\n",
       "      <th>Spread C-O</th>\n",
       "      <td>0</td>\n",
       "      <td>0</td>\n",
       "      <td>0</td>\n",
       "      <td>0</td>\n",
       "      <td>0</td>\n",
       "      <td>0</td>\n",
       "      <td>0</td>\n",
       "      <td>0</td>\n",
       "      <td>0</td>\n",
       "      <td>0</td>\n",
       "      <td>0</td>\n",
       "      <td>0</td>\n",
       "      <td>0</td>\n",
       "      <td>0</td>\n",
       "      <td>0</td>\n",
       "    </tr>\n",
       "    <tr>\n",
       "      <th>StockName</th>\n",
       "      <td>0</td>\n",
       "      <td>0</td>\n",
       "      <td>0</td>\n",
       "      <td>0</td>\n",
       "      <td>0</td>\n",
       "      <td>0</td>\n",
       "      <td>0</td>\n",
       "      <td>0</td>\n",
       "      <td>0</td>\n",
       "      <td>0</td>\n",
       "      <td>0</td>\n",
       "      <td>0</td>\n",
       "      <td>0</td>\n",
       "      <td>0</td>\n",
       "      <td>0</td>\n",
       "    </tr>\n",
       "    <tr>\n",
       "      <th>code</th>\n",
       "      <td>0</td>\n",
       "      <td>0</td>\n",
       "      <td>0</td>\n",
       "      <td>0</td>\n",
       "      <td>0</td>\n",
       "      <td>0</td>\n",
       "      <td>0</td>\n",
       "      <td>0</td>\n",
       "      <td>0</td>\n",
       "      <td>0</td>\n",
       "      <td>0</td>\n",
       "      <td>0</td>\n",
       "      <td>0</td>\n",
       "      <td>0</td>\n",
       "      <td>0</td>\n",
       "    </tr>\n",
       "    <tr>\n",
       "      <th>isStock</th>\n",
       "      <td>0</td>\n",
       "      <td>0</td>\n",
       "      <td>0</td>\n",
       "      <td>0</td>\n",
       "      <td>0</td>\n",
       "      <td>0</td>\n",
       "      <td>0</td>\n",
       "      <td>0</td>\n",
       "      <td>0</td>\n",
       "      <td>0</td>\n",
       "      <td>0</td>\n",
       "      <td>0</td>\n",
       "      <td>0</td>\n",
       "      <td>0</td>\n",
       "      <td>0</td>\n",
       "    </tr>\n",
       "    <tr>\n",
       "      <th>Index</th>\n",
       "      <td>0</td>\n",
       "      <td>0</td>\n",
       "      <td>0</td>\n",
       "      <td>0</td>\n",
       "      <td>0</td>\n",
       "      <td>0</td>\n",
       "      <td>0</td>\n",
       "      <td>0</td>\n",
       "      <td>0</td>\n",
       "      <td>0</td>\n",
       "      <td>0</td>\n",
       "      <td>0</td>\n",
       "      <td>0</td>\n",
       "      <td>0</td>\n",
       "      <td>0</td>\n",
       "    </tr>\n",
       "  </tbody>\n",
       "</table>\n",
       "</div>"
      ],
      "text/plain": [
       "                           SUN PHARMACEUTICAL INDUSTRIES LTD.   \\\n",
       "Open                                                         0   \n",
       "High                                                         0   \n",
       "Low                                                          0   \n",
       "Close                                                        0   \n",
       "WAP                                                          0   \n",
       "No. of Shares                                                0   \n",
       "No. of Trades                                                0   \n",
       "Total Turnover                                               0   \n",
       "Deliverable Quantity                                       548   \n",
       "% Deli. Qty to Traded Qty                                  548   \n",
       "Spread H-L                                                   0   \n",
       "Spread C-O                                                   0   \n",
       "StockName                                                    0   \n",
       "code                                                         0   \n",
       "isStock                                                      0   \n",
       "Index                                                        0   \n",
       "\n",
       "                           DIVI'S LABORATORIES LTD.   \\\n",
       "Open                                               0   \n",
       "High                                               0   \n",
       "Low                                                0   \n",
       "Close                                              0   \n",
       "WAP                                                0   \n",
       "No. of Shares                                      0   \n",
       "No. of Trades                                      0   \n",
       "Total Turnover                                     0   \n",
       "Deliverable Quantity                              57   \n",
       "% Deli. Qty to Traded Qty                         57   \n",
       "Spread H-L                                         0   \n",
       "Spread C-O                                         0   \n",
       "StockName                                          0   \n",
       "code                                               0   \n",
       "isStock                                            0   \n",
       "Index                                              0   \n",
       "\n",
       "                           DR.REDDY'S LABORATORIES LTD.   HDFC Bank Ltd   \\\n",
       "Open                                                   0               0   \n",
       "High                                                   0               0   \n",
       "Low                                                    0               0   \n",
       "Close                                                  0               0   \n",
       "WAP                                                    0               0   \n",
       "No. of Shares                                          0               0   \n",
       "No. of Trades                                          0               0   \n",
       "Total Turnover                                         0               0   \n",
       "Deliverable Quantity                                 538             538   \n",
       "% Deli. Qty to Traded Qty                            538             538   \n",
       "Spread H-L                                             0               0   \n",
       "Spread C-O                                             0               0   \n",
       "StockName                                              0               0   \n",
       "code                                                   0               0   \n",
       "isStock                                                0               0   \n",
       "Index                                                  0               0   \n",
       "\n",
       "                           ICICI BANK LTD.   KOTAK MAHINDRA BANK LTD.   \\\n",
       "Open                                      0                          0   \n",
       "High                                      0                          0   \n",
       "Low                                       0                          0   \n",
       "Close                                     0                          0   \n",
       "WAP                                       0                          0   \n",
       "No. of Shares                             0                          0   \n",
       "No. of Trades                             0                          0   \n",
       "Total Turnover                            0                          0   \n",
       "Deliverable Quantity                    544                        537   \n",
       "% Deli. Qty to Traded Qty               544                        537   \n",
       "Spread H-L                                0                          0   \n",
       "Spread C-O                                0                          0   \n",
       "StockName                                 0                          0   \n",
       "code                                      0                          0   \n",
       "isStock                                   0                          0   \n",
       "Index                                     0                          0   \n",
       "\n",
       "                           TATA STEEL LTD.   JSW STEEL LTD.   \\\n",
       "Open                                      0                0   \n",
       "High                                      0                0   \n",
       "Low                                       0                0   \n",
       "Close                                     0                0   \n",
       "WAP                                       0                0   \n",
       "No. of Shares                             0                0   \n",
       "No. of Trades                             0                0   \n",
       "Total Turnover                            0                0   \n",
       "Deliverable Quantity                    545              580   \n",
       "% Deli. Qty to Traded Qty               545              580   \n",
       "Spread H-L                                0                0   \n",
       "Spread C-O                                0                0   \n",
       "StockName                                 0                0   \n",
       "code                                      0                0   \n",
       "isStock                                   0                0   \n",
       "Index                                     0                0   \n",
       "\n",
       "                           HINDALCO INDUSTRIES LTD.   BAJAJ AUTO LTD.   \\\n",
       "Open                                               0                 0   \n",
       "High                                               0                 0   \n",
       "Low                                                0                 0   \n",
       "Close                                              0                 0   \n",
       "WAP                                                0                 0   \n",
       "No. of Shares                                      0                 0   \n",
       "No. of Trades                                      0                 0   \n",
       "Total Turnover                                     0                 0   \n",
       "Deliverable Quantity                             555                 1   \n",
       "% Deli. Qty to Traded Qty                        555                 1   \n",
       "Spread H-L                                         0                 0   \n",
       "Spread C-O                                         0                 0   \n",
       "StockName                                          0                 0   \n",
       "code                                               0                 0   \n",
       "isStock                                            0                 0   \n",
       "Index                                              0                 0   \n",
       "\n",
       "                           TATA MOTORS LTD.   MARUTI SUZUKI INDIA LTD.   \\\n",
       "Open                                       0                          0   \n",
       "High                                       0                          0   \n",
       "Low                                        0                          0   \n",
       "Close                                      0                          0   \n",
       "WAP                                        0                          0   \n",
       "No. of Shares                              0                          0   \n",
       "No. of Trades                              0                          0   \n",
       "Total Turnover                             0                          0   \n",
       "Deliverable Quantity                     542                         81   \n",
       "% Deli. Qty to Traded Qty                542                         81   \n",
       "Spread H-L                                 0                          0   \n",
       "Spread C-O                                 0                          0   \n",
       "StockName                                  0                          0   \n",
       "code                                       0                          0   \n",
       "isStock                                    0                          0   \n",
       "Index                                      0                          0   \n",
       "\n",
       "                           INFOSYS LTD.   TATA CONSULTANCY SERVICES LTD.   \\\n",
       "Open                                   0                                0   \n",
       "High                                   0                                0   \n",
       "Low                                    0                                0   \n",
       "Close                                  0                                0   \n",
       "WAP                                    0                                0   \n",
       "No. of Shares                          0                                0   \n",
       "No. of Trades                          0                                0   \n",
       "Total Turnover                         0                                0   \n",
       "Deliverable Quantity                 539                                2   \n",
       "% Deli. Qty to Traded Qty            539                                2   \n",
       "Spread H-L                             0                                0   \n",
       "Spread C-O                             0                                0   \n",
       "StockName                              0                                0   \n",
       "code                                   0                                0   \n",
       "isStock                                0                                0   \n",
       "Index                                  0                                0   \n",
       "\n",
       "                           WIPRO LTD.   \n",
       "Open                                 0  \n",
       "High                                 0  \n",
       "Low                                  0  \n",
       "Close                                0  \n",
       "WAP                                  0  \n",
       "No. of Shares                        0  \n",
       "No. of Trades                        0  \n",
       "Total Turnover                       0  \n",
       "Deliverable Quantity               538  \n",
       "% Deli. Qty to Traded Qty          538  \n",
       "Spread H-L                           0  \n",
       "Spread C-O                           0  \n",
       "StockName                            0  \n",
       "code                                 0  \n",
       "isStock                              0  \n",
       "Index                                0  "
      ]
     },
     "execution_count": 26,
     "metadata": {},
     "output_type": "execute_result"
    }
   ],
   "source": [
    "getNullValuesForSetOfStocks()"
   ]
  },
  {
   "cell_type": "markdown",
   "metadata": {
    "id": "wS7xJCpYsQDb"
   },
   "source": [
    "# Deriving Technical indicators "
   ]
  },
  {
   "cell_type": "markdown",
   "metadata": {
    "id": "BeXEUPXssQDc"
   },
   "source": [
    "### MACD"
   ]
  },
  {
   "cell_type": "code",
   "execution_count": 27,
   "metadata": {
    "id": "x7DcBo7EsQDd"
   },
   "outputs": [],
   "source": [
    "# function to create data MACD signal and data. \n",
    "def MACD(df, span1 = 12, span2= 26, span3 = 9):\n",
    "    stockData = df.copy()\n",
    "    stockData['FastAverage'] = stockData['Close'].ewm(span = span1, min_periods = span1).mean()\n",
    "    stockData['SlowAverage'] = stockData['Close'].ewm(span = span2, min_periods = span2).mean()\n",
    "    stockData['MACD'] = stockData['FastAverage'] - stockData['SlowAverage']\n",
    "    stockData['Signal'] = stockData['MACD'].ewm(span=span3, min_periods = span3).mean()\n",
    "    return stockData[MACDColumns]"
   ]
  },
  {
   "cell_type": "code",
   "execution_count": 28,
   "metadata": {
    "id": "rla3QZ1OsQDe"
   },
   "outputs": [],
   "source": [
    "# create stock code based dataframes with MACD signal\n",
    "for symbol in allSymbols:\n",
    "    macd = MACD(ScriptWiseData[symbol])\n",
    "    ScriptWiseData[symbol] = ScriptWiseData[symbol].merge(macd, left_index=True, right_index = True, how='left')"
   ]
  },
  {
   "cell_type": "markdown",
   "metadata": {
    "id": "oxHhE-MksQDf"
   },
   "source": [
    "### RSI - Relative Strength Index"
   ]
  },
  {
   "cell_type": "code",
   "execution_count": 29,
   "metadata": {
    "id": "cmuud8ZUsQDg"
   },
   "outputs": [],
   "source": [
    "# Calculating RSI without using loop\n",
    "def RSI(DF, n=14):\n",
    "    df =  DF.copy()\n",
    "    \"function to calculate RSI\"\n",
    "    delta = df['Close'].diff().dropna()\n",
    "    u = delta * 0\n",
    "    d = u.copy()\n",
    "    u[delta > 0] = delta[delta > 0]\n",
    "    d[delta < 0] = -delta[delta < 0]\n",
    "    u[u.index[n-1]] = np.mean( u[:n]) # first value is average of gains\n",
    "    u = u.drop(u.index[:(n-1)])\n",
    "    d[d.index[n-1]] = np.mean( d[:n]) # first value is average of losses\n",
    "    d = d.drop(d.index[:(n-1)])\n",
    "    rs = u.ewm(com=n,min_periods=n).mean()/d.ewm(com=n,min_periods=n).mean()\n",
    "    rsi = 100 - 100 / (1+rs);\n",
    "    return pd.DataFrame(rs).rename(columns={'Close':'RSI'})"
   ]
  },
  {
   "cell_type": "code",
   "execution_count": 30,
   "metadata": {
    "id": "lfsj0KTqsQDh"
   },
   "outputs": [],
   "source": [
    "#RSI \n",
    "for symbol in allSymbols:   \n",
    "    rsi = RSI(data.loc[data.code==symbol])\n",
    "    ScriptWiseData[symbol] = ScriptWiseData[symbol].merge(rsi, left_index=True, right_index = True, how='left')"
   ]
  },
  {
   "cell_type": "markdown",
   "metadata": {
    "id": "pIDupQCqsQDi"
   },
   "source": [
    "### ATR"
   ]
  },
  {
   "cell_type": "code",
   "execution_count": 31,
   "metadata": {
    "id": "yVvCDFDksQDi"
   },
   "outputs": [],
   "source": [
    "def ATR(DF,n=20):\n",
    "    \"function to calculate True Range and Average True Range\"\n",
    "    df = DF.copy()\n",
    "    df['H-L']=abs(df['High']-df['Low'])\n",
    "    df['H-PC']=abs(df['High']-df['Close'].shift(1))\n",
    "    df['L-PC']=abs(df['Low']-df['Close'].shift(1))\n",
    "    df['TR']=df[['H-L','H-PC','L-PC']].max(axis=1,skipna=False)\n",
    "    df['ATR'] = df['TR'].rolling(n).mean()\n",
    "    #df['ATR'] = df['TR'].ewm(span=n,adjust=False,min_periods=n).mean()\n",
    "    df2 = df.drop(['H-L','H-PC','L-PC'],axis=1)\n",
    "    return df2[ATRColumns]"
   ]
  },
  {
   "cell_type": "code",
   "execution_count": 32,
   "metadata": {
    "id": "alg3wk9VsQDj"
   },
   "outputs": [],
   "source": [
    "#ATR \n",
    "for symbol in allSymbols:\n",
    "    ScriptWiseData[symbol][ATRColumns] = ATR(data.loc[data.code==symbol])"
   ]
  },
  {
   "cell_type": "markdown",
   "metadata": {
    "id": "IptUjX_NsQDk"
   },
   "source": [
    "### Bollinger band"
   ]
  },
  {
   "cell_type": "code",
   "execution_count": 33,
   "metadata": {
    "id": "_hYgVp8IsQDl"
   },
   "outputs": [],
   "source": [
    "def BollBnd(DF,n=14):\n",
    "    \"function to calculate Bollinger Band\"\n",
    "    df = DF.copy()\n",
    "    df[\"MA\"] = df['Close'].rolling(n).mean()\n",
    "    df[\"BB_up\"] = df[\"MA\"] + 2*df['Close'].rolling(n).std(ddof=0) #ddof=0 is required since we want to take the standard deviation of the population and not sample\n",
    "    df[\"BB_dn\"] = df[\"MA\"] - 2*df['Close'].rolling(n).std(ddof=0) #ddof=0 is required since we want to take the standard deviation of the population and not sample\n",
    "    df[\"BB_width\"] = df[\"BB_up\"] - df[\"BB_dn\"]\n",
    "#     df.dropna(inplace=True)\n",
    "    return df[BollBandColumns]"
   ]
  },
  {
   "cell_type": "code",
   "execution_count": 34,
   "metadata": {
    "id": "gN_LnFmjsQDm"
   },
   "outputs": [],
   "source": [
    "#Boll band\n",
    "for symbol in allSymbols:\n",
    "    ScriptWiseData[symbol][BollBandColumns] = BollBnd(data.loc[data.code==symbol])"
   ]
  },
  {
   "cell_type": "markdown",
   "metadata": {
    "id": "ZUjrrGn1sQDn"
   },
   "source": [
    "### OBV"
   ]
  },
  {
   "cell_type": "code",
   "execution_count": 35,
   "metadata": {
    "id": "EwEDHhj5sQDo"
   },
   "outputs": [],
   "source": [
    "def OBV(DF):\n",
    "    \"\"\"function to calculate On Balance Volume\"\"\"\n",
    "    df = DF.copy()\n",
    "    df['daily_ret'] = df['Close'].pct_change()\n",
    "    df['direction'] = np.where(df['daily_ret']>=0,1,-1)\n",
    "    df['direction'][0] = 0\n",
    "    df['vol_adj'] = df['No. of Shares'] * df['direction']\n",
    "    df['obv'] = df['vol_adj'].cumsum()\n",
    "    return df['obv']"
   ]
  },
  {
   "cell_type": "code",
   "execution_count": 36,
   "metadata": {
    "id": "UwKjZo76sQDo"
   },
   "outputs": [],
   "source": [
    "#OBV\n",
    "for symbol in allSymbols:\n",
    "    ScriptWiseData[symbol]['OBV'] = OBV(data.loc[data.code==symbol])"
   ]
  },
  {
   "cell_type": "markdown",
   "metadata": {
    "id": "9Uo5tUeZsQDp"
   },
   "source": [
    "### ADX"
   ]
  },
  {
   "cell_type": "code",
   "execution_count": 37,
   "metadata": {
    "id": "LWkDvc8qsQDq"
   },
   "outputs": [],
   "source": [
    "from ta.trend import ADXIndicator\n",
    "def ADX(DF):\n",
    "    df = DF.copy()\n",
    "    adxI = ADXIndicator(df['High'],df['Low'],df['Close'],14,False)\n",
    "    df['pos_directional_indicator'] = adxI.adx_pos()\n",
    "    df['neg_directional_indicator'] = adxI.adx_neg()\n",
    "    df['adx'] = adxI.adx()\n",
    "    return df[ADXColumns]"
   ]
  },
  {
   "cell_type": "code",
   "execution_count": 38,
   "metadata": {
    "id": "4VEZNHkqsQDq"
   },
   "outputs": [],
   "source": [
    "# ADX\n",
    "for symbol in allSymbols:\n",
    "    ScriptWiseData[symbol][ADXColumns] = ADX(data.loc[data.code==symbol])"
   ]
  },
  {
   "cell_type": "code",
   "execution_count": 39,
   "metadata": {
    "id": "ZUe5P24MySjW"
   },
   "outputs": [
    {
     "data": {
      "text/html": [
       "<div>\n",
       "<style scoped>\n",
       "    .dataframe tbody tr th:only-of-type {\n",
       "        vertical-align: middle;\n",
       "    }\n",
       "\n",
       "    .dataframe tbody tr th {\n",
       "        vertical-align: top;\n",
       "    }\n",
       "\n",
       "    .dataframe thead th {\n",
       "        text-align: right;\n",
       "    }\n",
       "</style>\n",
       "<table border=\"1\" class=\"dataframe\">\n",
       "  <thead>\n",
       "    <tr style=\"text-align: right;\">\n",
       "      <th></th>\n",
       "      <th>SUN PHARMACEUTICAL INDUSTRIES LTD.</th>\n",
       "      <th>DIVI'S LABORATORIES LTD.</th>\n",
       "      <th>DR.REDDY'S LABORATORIES LTD.</th>\n",
       "      <th>HDFC Bank Ltd</th>\n",
       "      <th>ICICI BANK LTD.</th>\n",
       "      <th>KOTAK MAHINDRA BANK LTD.</th>\n",
       "      <th>TATA STEEL LTD.</th>\n",
       "      <th>JSW STEEL LTD.</th>\n",
       "      <th>HINDALCO INDUSTRIES LTD.</th>\n",
       "      <th>BAJAJ AUTO LTD.</th>\n",
       "      <th>TATA MOTORS LTD.</th>\n",
       "      <th>MARUTI SUZUKI INDIA LTD.</th>\n",
       "      <th>INFOSYS LTD.</th>\n",
       "      <th>TATA CONSULTANCY SERVICES LTD.</th>\n",
       "      <th>WIPRO LTD.</th>\n",
       "    </tr>\n",
       "  </thead>\n",
       "  <tbody>\n",
       "    <tr>\n",
       "      <th>Open</th>\n",
       "      <td>0</td>\n",
       "      <td>0</td>\n",
       "      <td>0</td>\n",
       "      <td>0</td>\n",
       "      <td>0</td>\n",
       "      <td>0</td>\n",
       "      <td>0</td>\n",
       "      <td>0</td>\n",
       "      <td>0</td>\n",
       "      <td>0</td>\n",
       "      <td>0</td>\n",
       "      <td>0</td>\n",
       "      <td>0</td>\n",
       "      <td>0</td>\n",
       "      <td>0</td>\n",
       "    </tr>\n",
       "    <tr>\n",
       "      <th>High</th>\n",
       "      <td>0</td>\n",
       "      <td>0</td>\n",
       "      <td>0</td>\n",
       "      <td>0</td>\n",
       "      <td>0</td>\n",
       "      <td>0</td>\n",
       "      <td>0</td>\n",
       "      <td>0</td>\n",
       "      <td>0</td>\n",
       "      <td>0</td>\n",
       "      <td>0</td>\n",
       "      <td>0</td>\n",
       "      <td>0</td>\n",
       "      <td>0</td>\n",
       "      <td>0</td>\n",
       "    </tr>\n",
       "    <tr>\n",
       "      <th>Low</th>\n",
       "      <td>0</td>\n",
       "      <td>0</td>\n",
       "      <td>0</td>\n",
       "      <td>0</td>\n",
       "      <td>0</td>\n",
       "      <td>0</td>\n",
       "      <td>0</td>\n",
       "      <td>0</td>\n",
       "      <td>0</td>\n",
       "      <td>0</td>\n",
       "      <td>0</td>\n",
       "      <td>0</td>\n",
       "      <td>0</td>\n",
       "      <td>0</td>\n",
       "      <td>0</td>\n",
       "    </tr>\n",
       "    <tr>\n",
       "      <th>Close</th>\n",
       "      <td>0</td>\n",
       "      <td>0</td>\n",
       "      <td>0</td>\n",
       "      <td>0</td>\n",
       "      <td>0</td>\n",
       "      <td>0</td>\n",
       "      <td>0</td>\n",
       "      <td>0</td>\n",
       "      <td>0</td>\n",
       "      <td>0</td>\n",
       "      <td>0</td>\n",
       "      <td>0</td>\n",
       "      <td>0</td>\n",
       "      <td>0</td>\n",
       "      <td>0</td>\n",
       "    </tr>\n",
       "    <tr>\n",
       "      <th>WAP</th>\n",
       "      <td>0</td>\n",
       "      <td>0</td>\n",
       "      <td>0</td>\n",
       "      <td>0</td>\n",
       "      <td>0</td>\n",
       "      <td>0</td>\n",
       "      <td>0</td>\n",
       "      <td>0</td>\n",
       "      <td>0</td>\n",
       "      <td>0</td>\n",
       "      <td>0</td>\n",
       "      <td>0</td>\n",
       "      <td>0</td>\n",
       "      <td>0</td>\n",
       "      <td>0</td>\n",
       "    </tr>\n",
       "    <tr>\n",
       "      <th>No. of Shares</th>\n",
       "      <td>0</td>\n",
       "      <td>0</td>\n",
       "      <td>0</td>\n",
       "      <td>0</td>\n",
       "      <td>0</td>\n",
       "      <td>0</td>\n",
       "      <td>0</td>\n",
       "      <td>0</td>\n",
       "      <td>0</td>\n",
       "      <td>0</td>\n",
       "      <td>0</td>\n",
       "      <td>0</td>\n",
       "      <td>0</td>\n",
       "      <td>0</td>\n",
       "      <td>0</td>\n",
       "    </tr>\n",
       "    <tr>\n",
       "      <th>No. of Trades</th>\n",
       "      <td>0</td>\n",
       "      <td>0</td>\n",
       "      <td>0</td>\n",
       "      <td>0</td>\n",
       "      <td>0</td>\n",
       "      <td>0</td>\n",
       "      <td>0</td>\n",
       "      <td>0</td>\n",
       "      <td>0</td>\n",
       "      <td>0</td>\n",
       "      <td>0</td>\n",
       "      <td>0</td>\n",
       "      <td>0</td>\n",
       "      <td>0</td>\n",
       "      <td>0</td>\n",
       "    </tr>\n",
       "    <tr>\n",
       "      <th>Total Turnover</th>\n",
       "      <td>0</td>\n",
       "      <td>0</td>\n",
       "      <td>0</td>\n",
       "      <td>0</td>\n",
       "      <td>0</td>\n",
       "      <td>0</td>\n",
       "      <td>0</td>\n",
       "      <td>0</td>\n",
       "      <td>0</td>\n",
       "      <td>0</td>\n",
       "      <td>0</td>\n",
       "      <td>0</td>\n",
       "      <td>0</td>\n",
       "      <td>0</td>\n",
       "      <td>0</td>\n",
       "    </tr>\n",
       "    <tr>\n",
       "      <th>Deliverable Quantity</th>\n",
       "      <td>548</td>\n",
       "      <td>57</td>\n",
       "      <td>538</td>\n",
       "      <td>538</td>\n",
       "      <td>544</td>\n",
       "      <td>537</td>\n",
       "      <td>545</td>\n",
       "      <td>580</td>\n",
       "      <td>555</td>\n",
       "      <td>1</td>\n",
       "      <td>542</td>\n",
       "      <td>81</td>\n",
       "      <td>539</td>\n",
       "      <td>2</td>\n",
       "      <td>538</td>\n",
       "    </tr>\n",
       "    <tr>\n",
       "      <th>% Deli. Qty to Traded Qty</th>\n",
       "      <td>548</td>\n",
       "      <td>57</td>\n",
       "      <td>538</td>\n",
       "      <td>538</td>\n",
       "      <td>544</td>\n",
       "      <td>537</td>\n",
       "      <td>545</td>\n",
       "      <td>580</td>\n",
       "      <td>555</td>\n",
       "      <td>1</td>\n",
       "      <td>542</td>\n",
       "      <td>81</td>\n",
       "      <td>539</td>\n",
       "      <td>2</td>\n",
       "      <td>538</td>\n",
       "    </tr>\n",
       "    <tr>\n",
       "      <th>Spread H-L</th>\n",
       "      <td>0</td>\n",
       "      <td>0</td>\n",
       "      <td>0</td>\n",
       "      <td>0</td>\n",
       "      <td>0</td>\n",
       "      <td>0</td>\n",
       "      <td>0</td>\n",
       "      <td>0</td>\n",
       "      <td>0</td>\n",
       "      <td>0</td>\n",
       "      <td>0</td>\n",
       "      <td>0</td>\n",
       "      <td>0</td>\n",
       "      <td>0</td>\n",
       "      <td>0</td>\n",
       "    </tr>\n",
       "    <tr>\n",
       "      <th>Spread C-O</th>\n",
       "      <td>0</td>\n",
       "      <td>0</td>\n",
       "      <td>0</td>\n",
       "      <td>0</td>\n",
       "      <td>0</td>\n",
       "      <td>0</td>\n",
       "      <td>0</td>\n",
       "      <td>0</td>\n",
       "      <td>0</td>\n",
       "      <td>0</td>\n",
       "      <td>0</td>\n",
       "      <td>0</td>\n",
       "      <td>0</td>\n",
       "      <td>0</td>\n",
       "      <td>0</td>\n",
       "    </tr>\n",
       "    <tr>\n",
       "      <th>StockName</th>\n",
       "      <td>0</td>\n",
       "      <td>0</td>\n",
       "      <td>0</td>\n",
       "      <td>0</td>\n",
       "      <td>0</td>\n",
       "      <td>0</td>\n",
       "      <td>0</td>\n",
       "      <td>0</td>\n",
       "      <td>0</td>\n",
       "      <td>0</td>\n",
       "      <td>0</td>\n",
       "      <td>0</td>\n",
       "      <td>0</td>\n",
       "      <td>0</td>\n",
       "      <td>0</td>\n",
       "    </tr>\n",
       "    <tr>\n",
       "      <th>code</th>\n",
       "      <td>0</td>\n",
       "      <td>0</td>\n",
       "      <td>0</td>\n",
       "      <td>0</td>\n",
       "      <td>0</td>\n",
       "      <td>0</td>\n",
       "      <td>0</td>\n",
       "      <td>0</td>\n",
       "      <td>0</td>\n",
       "      <td>0</td>\n",
       "      <td>0</td>\n",
       "      <td>0</td>\n",
       "      <td>0</td>\n",
       "      <td>0</td>\n",
       "      <td>0</td>\n",
       "    </tr>\n",
       "    <tr>\n",
       "      <th>isStock</th>\n",
       "      <td>0</td>\n",
       "      <td>0</td>\n",
       "      <td>0</td>\n",
       "      <td>0</td>\n",
       "      <td>0</td>\n",
       "      <td>0</td>\n",
       "      <td>0</td>\n",
       "      <td>0</td>\n",
       "      <td>0</td>\n",
       "      <td>0</td>\n",
       "      <td>0</td>\n",
       "      <td>0</td>\n",
       "      <td>0</td>\n",
       "      <td>0</td>\n",
       "      <td>0</td>\n",
       "    </tr>\n",
       "    <tr>\n",
       "      <th>Index</th>\n",
       "      <td>0</td>\n",
       "      <td>0</td>\n",
       "      <td>0</td>\n",
       "      <td>0</td>\n",
       "      <td>0</td>\n",
       "      <td>0</td>\n",
       "      <td>0</td>\n",
       "      <td>0</td>\n",
       "      <td>0</td>\n",
       "      <td>0</td>\n",
       "      <td>0</td>\n",
       "      <td>0</td>\n",
       "      <td>0</td>\n",
       "      <td>0</td>\n",
       "      <td>0</td>\n",
       "    </tr>\n",
       "    <tr>\n",
       "      <th>FastAverage</th>\n",
       "      <td>11</td>\n",
       "      <td>11</td>\n",
       "      <td>11</td>\n",
       "      <td>11</td>\n",
       "      <td>11</td>\n",
       "      <td>11</td>\n",
       "      <td>11</td>\n",
       "      <td>11</td>\n",
       "      <td>11</td>\n",
       "      <td>11</td>\n",
       "      <td>11</td>\n",
       "      <td>11</td>\n",
       "      <td>11</td>\n",
       "      <td>11</td>\n",
       "      <td>11</td>\n",
       "    </tr>\n",
       "    <tr>\n",
       "      <th>SlowAverage</th>\n",
       "      <td>25</td>\n",
       "      <td>25</td>\n",
       "      <td>25</td>\n",
       "      <td>25</td>\n",
       "      <td>25</td>\n",
       "      <td>25</td>\n",
       "      <td>25</td>\n",
       "      <td>25</td>\n",
       "      <td>25</td>\n",
       "      <td>25</td>\n",
       "      <td>25</td>\n",
       "      <td>25</td>\n",
       "      <td>25</td>\n",
       "      <td>25</td>\n",
       "      <td>25</td>\n",
       "    </tr>\n",
       "    <tr>\n",
       "      <th>MACD</th>\n",
       "      <td>25</td>\n",
       "      <td>25</td>\n",
       "      <td>25</td>\n",
       "      <td>25</td>\n",
       "      <td>25</td>\n",
       "      <td>25</td>\n",
       "      <td>25</td>\n",
       "      <td>25</td>\n",
       "      <td>25</td>\n",
       "      <td>25</td>\n",
       "      <td>25</td>\n",
       "      <td>25</td>\n",
       "      <td>25</td>\n",
       "      <td>25</td>\n",
       "      <td>25</td>\n",
       "    </tr>\n",
       "    <tr>\n",
       "      <th>Signal</th>\n",
       "      <td>33</td>\n",
       "      <td>33</td>\n",
       "      <td>33</td>\n",
       "      <td>33</td>\n",
       "      <td>33</td>\n",
       "      <td>33</td>\n",
       "      <td>33</td>\n",
       "      <td>33</td>\n",
       "      <td>33</td>\n",
       "      <td>33</td>\n",
       "      <td>33</td>\n",
       "      <td>33</td>\n",
       "      <td>33</td>\n",
       "      <td>33</td>\n",
       "      <td>33</td>\n",
       "    </tr>\n",
       "    <tr>\n",
       "      <th>RSI</th>\n",
       "      <td>27</td>\n",
       "      <td>27</td>\n",
       "      <td>27</td>\n",
       "      <td>27</td>\n",
       "      <td>27</td>\n",
       "      <td>27</td>\n",
       "      <td>27</td>\n",
       "      <td>27</td>\n",
       "      <td>27</td>\n",
       "      <td>27</td>\n",
       "      <td>27</td>\n",
       "      <td>27</td>\n",
       "      <td>27</td>\n",
       "      <td>27</td>\n",
       "      <td>27</td>\n",
       "    </tr>\n",
       "    <tr>\n",
       "      <th>TR</th>\n",
       "      <td>1</td>\n",
       "      <td>1</td>\n",
       "      <td>1</td>\n",
       "      <td>1</td>\n",
       "      <td>1</td>\n",
       "      <td>1</td>\n",
       "      <td>1</td>\n",
       "      <td>1</td>\n",
       "      <td>1</td>\n",
       "      <td>1</td>\n",
       "      <td>1</td>\n",
       "      <td>1</td>\n",
       "      <td>1</td>\n",
       "      <td>1</td>\n",
       "      <td>1</td>\n",
       "    </tr>\n",
       "    <tr>\n",
       "      <th>ATR</th>\n",
       "      <td>20</td>\n",
       "      <td>20</td>\n",
       "      <td>20</td>\n",
       "      <td>20</td>\n",
       "      <td>20</td>\n",
       "      <td>20</td>\n",
       "      <td>20</td>\n",
       "      <td>20</td>\n",
       "      <td>20</td>\n",
       "      <td>20</td>\n",
       "      <td>20</td>\n",
       "      <td>20</td>\n",
       "      <td>20</td>\n",
       "      <td>20</td>\n",
       "      <td>20</td>\n",
       "    </tr>\n",
       "    <tr>\n",
       "      <th>BB_up</th>\n",
       "      <td>13</td>\n",
       "      <td>13</td>\n",
       "      <td>13</td>\n",
       "      <td>13</td>\n",
       "      <td>13</td>\n",
       "      <td>13</td>\n",
       "      <td>13</td>\n",
       "      <td>13</td>\n",
       "      <td>13</td>\n",
       "      <td>13</td>\n",
       "      <td>13</td>\n",
       "      <td>13</td>\n",
       "      <td>13</td>\n",
       "      <td>13</td>\n",
       "      <td>13</td>\n",
       "    </tr>\n",
       "    <tr>\n",
       "      <th>BB_dn</th>\n",
       "      <td>13</td>\n",
       "      <td>13</td>\n",
       "      <td>13</td>\n",
       "      <td>13</td>\n",
       "      <td>13</td>\n",
       "      <td>13</td>\n",
       "      <td>13</td>\n",
       "      <td>13</td>\n",
       "      <td>13</td>\n",
       "      <td>13</td>\n",
       "      <td>13</td>\n",
       "      <td>13</td>\n",
       "      <td>13</td>\n",
       "      <td>13</td>\n",
       "      <td>13</td>\n",
       "    </tr>\n",
       "    <tr>\n",
       "      <th>MA</th>\n",
       "      <td>13</td>\n",
       "      <td>13</td>\n",
       "      <td>13</td>\n",
       "      <td>13</td>\n",
       "      <td>13</td>\n",
       "      <td>13</td>\n",
       "      <td>13</td>\n",
       "      <td>13</td>\n",
       "      <td>13</td>\n",
       "      <td>13</td>\n",
       "      <td>13</td>\n",
       "      <td>13</td>\n",
       "      <td>13</td>\n",
       "      <td>13</td>\n",
       "      <td>13</td>\n",
       "    </tr>\n",
       "    <tr>\n",
       "      <th>BB_width</th>\n",
       "      <td>13</td>\n",
       "      <td>13</td>\n",
       "      <td>13</td>\n",
       "      <td>13</td>\n",
       "      <td>13</td>\n",
       "      <td>13</td>\n",
       "      <td>13</td>\n",
       "      <td>13</td>\n",
       "      <td>13</td>\n",
       "      <td>13</td>\n",
       "      <td>13</td>\n",
       "      <td>13</td>\n",
       "      <td>13</td>\n",
       "      <td>13</td>\n",
       "      <td>13</td>\n",
       "    </tr>\n",
       "    <tr>\n",
       "      <th>OBV</th>\n",
       "      <td>0</td>\n",
       "      <td>0</td>\n",
       "      <td>0</td>\n",
       "      <td>0</td>\n",
       "      <td>0</td>\n",
       "      <td>0</td>\n",
       "      <td>0</td>\n",
       "      <td>0</td>\n",
       "      <td>0</td>\n",
       "      <td>0</td>\n",
       "      <td>0</td>\n",
       "      <td>0</td>\n",
       "      <td>0</td>\n",
       "      <td>0</td>\n",
       "      <td>0</td>\n",
       "    </tr>\n",
       "    <tr>\n",
       "      <th>pos_directional_indicator</th>\n",
       "      <td>0</td>\n",
       "      <td>0</td>\n",
       "      <td>0</td>\n",
       "      <td>0</td>\n",
       "      <td>0</td>\n",
       "      <td>0</td>\n",
       "      <td>0</td>\n",
       "      <td>0</td>\n",
       "      <td>0</td>\n",
       "      <td>0</td>\n",
       "      <td>0</td>\n",
       "      <td>0</td>\n",
       "      <td>0</td>\n",
       "      <td>0</td>\n",
       "      <td>0</td>\n",
       "    </tr>\n",
       "    <tr>\n",
       "      <th>neg_directional_indicator</th>\n",
       "      <td>0</td>\n",
       "      <td>0</td>\n",
       "      <td>0</td>\n",
       "      <td>0</td>\n",
       "      <td>0</td>\n",
       "      <td>0</td>\n",
       "      <td>0</td>\n",
       "      <td>0</td>\n",
       "      <td>0</td>\n",
       "      <td>0</td>\n",
       "      <td>0</td>\n",
       "      <td>0</td>\n",
       "      <td>0</td>\n",
       "      <td>0</td>\n",
       "      <td>0</td>\n",
       "    </tr>\n",
       "    <tr>\n",
       "      <th>adx</th>\n",
       "      <td>0</td>\n",
       "      <td>0</td>\n",
       "      <td>0</td>\n",
       "      <td>0</td>\n",
       "      <td>0</td>\n",
       "      <td>0</td>\n",
       "      <td>0</td>\n",
       "      <td>0</td>\n",
       "      <td>0</td>\n",
       "      <td>0</td>\n",
       "      <td>0</td>\n",
       "      <td>0</td>\n",
       "      <td>0</td>\n",
       "      <td>0</td>\n",
       "      <td>0</td>\n",
       "    </tr>\n",
       "  </tbody>\n",
       "</table>\n",
       "</div>"
      ],
      "text/plain": [
       "                           SUN PHARMACEUTICAL INDUSTRIES LTD.   \\\n",
       "Open                                                         0   \n",
       "High                                                         0   \n",
       "Low                                                          0   \n",
       "Close                                                        0   \n",
       "WAP                                                          0   \n",
       "No. of Shares                                                0   \n",
       "No. of Trades                                                0   \n",
       "Total Turnover                                               0   \n",
       "Deliverable Quantity                                       548   \n",
       "% Deli. Qty to Traded Qty                                  548   \n",
       "Spread H-L                                                   0   \n",
       "Spread C-O                                                   0   \n",
       "StockName                                                    0   \n",
       "code                                                         0   \n",
       "isStock                                                      0   \n",
       "Index                                                        0   \n",
       "FastAverage                                                 11   \n",
       "SlowAverage                                                 25   \n",
       "MACD                                                        25   \n",
       "Signal                                                      33   \n",
       "RSI                                                         27   \n",
       "TR                                                           1   \n",
       "ATR                                                         20   \n",
       "BB_up                                                       13   \n",
       "BB_dn                                                       13   \n",
       "MA                                                          13   \n",
       "BB_width                                                    13   \n",
       "OBV                                                          0   \n",
       "pos_directional_indicator                                    0   \n",
       "neg_directional_indicator                                    0   \n",
       "adx                                                          0   \n",
       "\n",
       "                           DIVI'S LABORATORIES LTD.   \\\n",
       "Open                                               0   \n",
       "High                                               0   \n",
       "Low                                                0   \n",
       "Close                                              0   \n",
       "WAP                                                0   \n",
       "No. of Shares                                      0   \n",
       "No. of Trades                                      0   \n",
       "Total Turnover                                     0   \n",
       "Deliverable Quantity                              57   \n",
       "% Deli. Qty to Traded Qty                         57   \n",
       "Spread H-L                                         0   \n",
       "Spread C-O                                         0   \n",
       "StockName                                          0   \n",
       "code                                               0   \n",
       "isStock                                            0   \n",
       "Index                                              0   \n",
       "FastAverage                                       11   \n",
       "SlowAverage                                       25   \n",
       "MACD                                              25   \n",
       "Signal                                            33   \n",
       "RSI                                               27   \n",
       "TR                                                 1   \n",
       "ATR                                               20   \n",
       "BB_up                                             13   \n",
       "BB_dn                                             13   \n",
       "MA                                                13   \n",
       "BB_width                                          13   \n",
       "OBV                                                0   \n",
       "pos_directional_indicator                          0   \n",
       "neg_directional_indicator                          0   \n",
       "adx                                                0   \n",
       "\n",
       "                           DR.REDDY'S LABORATORIES LTD.   HDFC Bank Ltd   \\\n",
       "Open                                                   0               0   \n",
       "High                                                   0               0   \n",
       "Low                                                    0               0   \n",
       "Close                                                  0               0   \n",
       "WAP                                                    0               0   \n",
       "No. of Shares                                          0               0   \n",
       "No. of Trades                                          0               0   \n",
       "Total Turnover                                         0               0   \n",
       "Deliverable Quantity                                 538             538   \n",
       "% Deli. Qty to Traded Qty                            538             538   \n",
       "Spread H-L                                             0               0   \n",
       "Spread C-O                                             0               0   \n",
       "StockName                                              0               0   \n",
       "code                                                   0               0   \n",
       "isStock                                                0               0   \n",
       "Index                                                  0               0   \n",
       "FastAverage                                           11              11   \n",
       "SlowAverage                                           25              25   \n",
       "MACD                                                  25              25   \n",
       "Signal                                                33              33   \n",
       "RSI                                                   27              27   \n",
       "TR                                                     1               1   \n",
       "ATR                                                   20              20   \n",
       "BB_up                                                 13              13   \n",
       "BB_dn                                                 13              13   \n",
       "MA                                                    13              13   \n",
       "BB_width                                              13              13   \n",
       "OBV                                                    0               0   \n",
       "pos_directional_indicator                              0               0   \n",
       "neg_directional_indicator                              0               0   \n",
       "adx                                                    0               0   \n",
       "\n",
       "                           ICICI BANK LTD.   KOTAK MAHINDRA BANK LTD.   \\\n",
       "Open                                      0                          0   \n",
       "High                                      0                          0   \n",
       "Low                                       0                          0   \n",
       "Close                                     0                          0   \n",
       "WAP                                       0                          0   \n",
       "No. of Shares                             0                          0   \n",
       "No. of Trades                             0                          0   \n",
       "Total Turnover                            0                          0   \n",
       "Deliverable Quantity                    544                        537   \n",
       "% Deli. Qty to Traded Qty               544                        537   \n",
       "Spread H-L                                0                          0   \n",
       "Spread C-O                                0                          0   \n",
       "StockName                                 0                          0   \n",
       "code                                      0                          0   \n",
       "isStock                                   0                          0   \n",
       "Index                                     0                          0   \n",
       "FastAverage                              11                         11   \n",
       "SlowAverage                              25                         25   \n",
       "MACD                                     25                         25   \n",
       "Signal                                   33                         33   \n",
       "RSI                                      27                         27   \n",
       "TR                                        1                          1   \n",
       "ATR                                      20                         20   \n",
       "BB_up                                    13                         13   \n",
       "BB_dn                                    13                         13   \n",
       "MA                                       13                         13   \n",
       "BB_width                                 13                         13   \n",
       "OBV                                       0                          0   \n",
       "pos_directional_indicator                 0                          0   \n",
       "neg_directional_indicator                 0                          0   \n",
       "adx                                       0                          0   \n",
       "\n",
       "                           TATA STEEL LTD.   JSW STEEL LTD.   \\\n",
       "Open                                      0                0   \n",
       "High                                      0                0   \n",
       "Low                                       0                0   \n",
       "Close                                     0                0   \n",
       "WAP                                       0                0   \n",
       "No. of Shares                             0                0   \n",
       "No. of Trades                             0                0   \n",
       "Total Turnover                            0                0   \n",
       "Deliverable Quantity                    545              580   \n",
       "% Deli. Qty to Traded Qty               545              580   \n",
       "Spread H-L                                0                0   \n",
       "Spread C-O                                0                0   \n",
       "StockName                                 0                0   \n",
       "code                                      0                0   \n",
       "isStock                                   0                0   \n",
       "Index                                     0                0   \n",
       "FastAverage                              11               11   \n",
       "SlowAverage                              25               25   \n",
       "MACD                                     25               25   \n",
       "Signal                                   33               33   \n",
       "RSI                                      27               27   \n",
       "TR                                        1                1   \n",
       "ATR                                      20               20   \n",
       "BB_up                                    13               13   \n",
       "BB_dn                                    13               13   \n",
       "MA                                       13               13   \n",
       "BB_width                                 13               13   \n",
       "OBV                                       0                0   \n",
       "pos_directional_indicator                 0                0   \n",
       "neg_directional_indicator                 0                0   \n",
       "adx                                       0                0   \n",
       "\n",
       "                           HINDALCO INDUSTRIES LTD.   BAJAJ AUTO LTD.   \\\n",
       "Open                                               0                 0   \n",
       "High                                               0                 0   \n",
       "Low                                                0                 0   \n",
       "Close                                              0                 0   \n",
       "WAP                                                0                 0   \n",
       "No. of Shares                                      0                 0   \n",
       "No. of Trades                                      0                 0   \n",
       "Total Turnover                                     0                 0   \n",
       "Deliverable Quantity                             555                 1   \n",
       "% Deli. Qty to Traded Qty                        555                 1   \n",
       "Spread H-L                                         0                 0   \n",
       "Spread C-O                                         0                 0   \n",
       "StockName                                          0                 0   \n",
       "code                                               0                 0   \n",
       "isStock                                            0                 0   \n",
       "Index                                              0                 0   \n",
       "FastAverage                                       11                11   \n",
       "SlowAverage                                       25                25   \n",
       "MACD                                              25                25   \n",
       "Signal                                            33                33   \n",
       "RSI                                               27                27   \n",
       "TR                                                 1                 1   \n",
       "ATR                                               20                20   \n",
       "BB_up                                             13                13   \n",
       "BB_dn                                             13                13   \n",
       "MA                                                13                13   \n",
       "BB_width                                          13                13   \n",
       "OBV                                                0                 0   \n",
       "pos_directional_indicator                          0                 0   \n",
       "neg_directional_indicator                          0                 0   \n",
       "adx                                                0                 0   \n",
       "\n",
       "                           TATA MOTORS LTD.   MARUTI SUZUKI INDIA LTD.   \\\n",
       "Open                                       0                          0   \n",
       "High                                       0                          0   \n",
       "Low                                        0                          0   \n",
       "Close                                      0                          0   \n",
       "WAP                                        0                          0   \n",
       "No. of Shares                              0                          0   \n",
       "No. of Trades                              0                          0   \n",
       "Total Turnover                             0                          0   \n",
       "Deliverable Quantity                     542                         81   \n",
       "% Deli. Qty to Traded Qty                542                         81   \n",
       "Spread H-L                                 0                          0   \n",
       "Spread C-O                                 0                          0   \n",
       "StockName                                  0                          0   \n",
       "code                                       0                          0   \n",
       "isStock                                    0                          0   \n",
       "Index                                      0                          0   \n",
       "FastAverage                               11                         11   \n",
       "SlowAverage                               25                         25   \n",
       "MACD                                      25                         25   \n",
       "Signal                                    33                         33   \n",
       "RSI                                       27                         27   \n",
       "TR                                         1                          1   \n",
       "ATR                                       20                         20   \n",
       "BB_up                                     13                         13   \n",
       "BB_dn                                     13                         13   \n",
       "MA                                        13                         13   \n",
       "BB_width                                  13                         13   \n",
       "OBV                                        0                          0   \n",
       "pos_directional_indicator                  0                          0   \n",
       "neg_directional_indicator                  0                          0   \n",
       "adx                                        0                          0   \n",
       "\n",
       "                           INFOSYS LTD.   TATA CONSULTANCY SERVICES LTD.   \\\n",
       "Open                                   0                                0   \n",
       "High                                   0                                0   \n",
       "Low                                    0                                0   \n",
       "Close                                  0                                0   \n",
       "WAP                                    0                                0   \n",
       "No. of Shares                          0                                0   \n",
       "No. of Trades                          0                                0   \n",
       "Total Turnover                         0                                0   \n",
       "Deliverable Quantity                 539                                2   \n",
       "% Deli. Qty to Traded Qty            539                                2   \n",
       "Spread H-L                             0                                0   \n",
       "Spread C-O                             0                                0   \n",
       "StockName                              0                                0   \n",
       "code                                   0                                0   \n",
       "isStock                                0                                0   \n",
       "Index                                  0                                0   \n",
       "FastAverage                           11                               11   \n",
       "SlowAverage                           25                               25   \n",
       "MACD                                  25                               25   \n",
       "Signal                                33                               33   \n",
       "RSI                                   27                               27   \n",
       "TR                                     1                                1   \n",
       "ATR                                   20                               20   \n",
       "BB_up                                 13                               13   \n",
       "BB_dn                                 13                               13   \n",
       "MA                                    13                               13   \n",
       "BB_width                              13                               13   \n",
       "OBV                                    0                                0   \n",
       "pos_directional_indicator              0                                0   \n",
       "neg_directional_indicator              0                                0   \n",
       "adx                                    0                                0   \n",
       "\n",
       "                           WIPRO LTD.   \n",
       "Open                                 0  \n",
       "High                                 0  \n",
       "Low                                  0  \n",
       "Close                                0  \n",
       "WAP                                  0  \n",
       "No. of Shares                        0  \n",
       "No. of Trades                        0  \n",
       "Total Turnover                       0  \n",
       "Deliverable Quantity               538  \n",
       "% Deli. Qty to Traded Qty          538  \n",
       "Spread H-L                           0  \n",
       "Spread C-O                           0  \n",
       "StockName                            0  \n",
       "code                                 0  \n",
       "isStock                              0  \n",
       "Index                                0  \n",
       "FastAverage                         11  \n",
       "SlowAverage                         25  \n",
       "MACD                                25  \n",
       "Signal                              33  \n",
       "RSI                                 27  \n",
       "TR                                   1  \n",
       "ATR                                 20  \n",
       "BB_up                               13  \n",
       "BB_dn                               13  \n",
       "MA                                  13  \n",
       "BB_width                            13  \n",
       "OBV                                  0  \n",
       "pos_directional_indicator            0  \n",
       "neg_directional_indicator            0  \n",
       "adx                                  0  "
      ]
     },
     "execution_count": 39,
     "metadata": {},
     "output_type": "execute_result"
    }
   ],
   "source": [
    "getNullValuesForSetOfStocks()"
   ]
  },
  {
   "cell_type": "markdown",
   "metadata": {
    "id": "ngJ2AiInsQDr"
   },
   "source": [
    "# Removing Extra Columms"
   ]
  },
  {
   "cell_type": "code",
   "execution_count": 40,
   "metadata": {
    "id": "uZPSKO_esQDs"
   },
   "outputs": [],
   "source": [
    "OriginalScriptWiseData = ScriptWiseData\n",
    "for symbol in allSymbols:\n",
    "    ScriptWiseData[symbol] = ScriptWiseData[symbol][['Close']+TechnicalIndicators]"
   ]
  },
  {
   "cell_type": "code",
   "execution_count": null,
   "metadata": {
    "id": "oyHF-5guySjX"
   },
   "outputs": [],
   "source": []
  },
  {
   "cell_type": "markdown",
   "metadata": {
    "id": "QHqbBLRXsQDt"
   },
   "source": [
    "## Dropping null values"
   ]
  },
  {
   "cell_type": "code",
   "execution_count": 41,
   "metadata": {
    "id": "h4fJKoGisQDt"
   },
   "outputs": [],
   "source": [
    "# drop rows from the stock whose technical indicator values are null. \n",
    "for stock in stocks:\n",
    "#     ScriptWiseData[stock] = ScriptWiseData[stock].dropna(subset=AllIndicatorColumns)\n",
    "    ScriptWiseData[stock] = ScriptWiseData[stock].dropna()    "
   ]
  },
  {
   "cell_type": "code",
   "execution_count": 42,
   "metadata": {
    "id": "CB0M7yErsQDu"
   },
   "outputs": [
    {
     "data": {
      "text/html": [
       "<div>\n",
       "<style scoped>\n",
       "    .dataframe tbody tr th:only-of-type {\n",
       "        vertical-align: middle;\n",
       "    }\n",
       "\n",
       "    .dataframe tbody tr th {\n",
       "        vertical-align: top;\n",
       "    }\n",
       "\n",
       "    .dataframe thead th {\n",
       "        text-align: right;\n",
       "    }\n",
       "</style>\n",
       "<table border=\"1\" class=\"dataframe\">\n",
       "  <thead>\n",
       "    <tr style=\"text-align: right;\">\n",
       "      <th></th>\n",
       "      <th>SUN PHARMACEUTICAL INDUSTRIES LTD.</th>\n",
       "      <th>DIVI'S LABORATORIES LTD.</th>\n",
       "      <th>DR.REDDY'S LABORATORIES LTD.</th>\n",
       "      <th>HDFC Bank Ltd</th>\n",
       "      <th>ICICI BANK LTD.</th>\n",
       "      <th>KOTAK MAHINDRA BANK LTD.</th>\n",
       "      <th>TATA STEEL LTD.</th>\n",
       "      <th>JSW STEEL LTD.</th>\n",
       "      <th>HINDALCO INDUSTRIES LTD.</th>\n",
       "      <th>BAJAJ AUTO LTD.</th>\n",
       "      <th>TATA MOTORS LTD.</th>\n",
       "      <th>MARUTI SUZUKI INDIA LTD.</th>\n",
       "      <th>INFOSYS LTD.</th>\n",
       "      <th>TATA CONSULTANCY SERVICES LTD.</th>\n",
       "      <th>WIPRO LTD.</th>\n",
       "    </tr>\n",
       "  </thead>\n",
       "  <tbody>\n",
       "    <tr>\n",
       "      <th>Close</th>\n",
       "      <td>0</td>\n",
       "      <td>0</td>\n",
       "      <td>0</td>\n",
       "      <td>0</td>\n",
       "      <td>0</td>\n",
       "      <td>0</td>\n",
       "      <td>0</td>\n",
       "      <td>0</td>\n",
       "      <td>0</td>\n",
       "      <td>0</td>\n",
       "      <td>0</td>\n",
       "      <td>0</td>\n",
       "      <td>0</td>\n",
       "      <td>0</td>\n",
       "      <td>0</td>\n",
       "    </tr>\n",
       "    <tr>\n",
       "      <th>RSI</th>\n",
       "      <td>0</td>\n",
       "      <td>0</td>\n",
       "      <td>0</td>\n",
       "      <td>0</td>\n",
       "      <td>0</td>\n",
       "      <td>0</td>\n",
       "      <td>0</td>\n",
       "      <td>0</td>\n",
       "      <td>0</td>\n",
       "      <td>0</td>\n",
       "      <td>0</td>\n",
       "      <td>0</td>\n",
       "      <td>0</td>\n",
       "      <td>0</td>\n",
       "      <td>0</td>\n",
       "    </tr>\n",
       "    <tr>\n",
       "      <th>ATR</th>\n",
       "      <td>0</td>\n",
       "      <td>0</td>\n",
       "      <td>0</td>\n",
       "      <td>0</td>\n",
       "      <td>0</td>\n",
       "      <td>0</td>\n",
       "      <td>0</td>\n",
       "      <td>0</td>\n",
       "      <td>0</td>\n",
       "      <td>0</td>\n",
       "      <td>0</td>\n",
       "      <td>0</td>\n",
       "      <td>0</td>\n",
       "      <td>0</td>\n",
       "      <td>0</td>\n",
       "    </tr>\n",
       "    <tr>\n",
       "      <th>MACD</th>\n",
       "      <td>0</td>\n",
       "      <td>0</td>\n",
       "      <td>0</td>\n",
       "      <td>0</td>\n",
       "      <td>0</td>\n",
       "      <td>0</td>\n",
       "      <td>0</td>\n",
       "      <td>0</td>\n",
       "      <td>0</td>\n",
       "      <td>0</td>\n",
       "      <td>0</td>\n",
       "      <td>0</td>\n",
       "      <td>0</td>\n",
       "      <td>0</td>\n",
       "      <td>0</td>\n",
       "    </tr>\n",
       "    <tr>\n",
       "      <th>adx</th>\n",
       "      <td>0</td>\n",
       "      <td>0</td>\n",
       "      <td>0</td>\n",
       "      <td>0</td>\n",
       "      <td>0</td>\n",
       "      <td>0</td>\n",
       "      <td>0</td>\n",
       "      <td>0</td>\n",
       "      <td>0</td>\n",
       "      <td>0</td>\n",
       "      <td>0</td>\n",
       "      <td>0</td>\n",
       "      <td>0</td>\n",
       "      <td>0</td>\n",
       "      <td>0</td>\n",
       "    </tr>\n",
       "    <tr>\n",
       "      <th>OBV</th>\n",
       "      <td>0</td>\n",
       "      <td>0</td>\n",
       "      <td>0</td>\n",
       "      <td>0</td>\n",
       "      <td>0</td>\n",
       "      <td>0</td>\n",
       "      <td>0</td>\n",
       "      <td>0</td>\n",
       "      <td>0</td>\n",
       "      <td>0</td>\n",
       "      <td>0</td>\n",
       "      <td>0</td>\n",
       "      <td>0</td>\n",
       "      <td>0</td>\n",
       "      <td>0</td>\n",
       "    </tr>\n",
       "  </tbody>\n",
       "</table>\n",
       "</div>"
      ],
      "text/plain": [
       "       SUN PHARMACEUTICAL INDUSTRIES LTD.   DIVI'S LABORATORIES LTD.   \\\n",
       "Close                                    0                          0   \n",
       "RSI                                      0                          0   \n",
       "ATR                                      0                          0   \n",
       "MACD                                     0                          0   \n",
       "adx                                      0                          0   \n",
       "OBV                                      0                          0   \n",
       "\n",
       "       DR.REDDY'S LABORATORIES LTD.   HDFC Bank Ltd   ICICI BANK LTD.   \\\n",
       "Close                              0               0                 0   \n",
       "RSI                                0               0                 0   \n",
       "ATR                                0               0                 0   \n",
       "MACD                               0               0                 0   \n",
       "adx                                0               0                 0   \n",
       "OBV                                0               0                 0   \n",
       "\n",
       "       KOTAK MAHINDRA BANK LTD.   TATA STEEL LTD.   JSW STEEL LTD.   \\\n",
       "Close                          0                 0                0   \n",
       "RSI                            0                 0                0   \n",
       "ATR                            0                 0                0   \n",
       "MACD                           0                 0                0   \n",
       "adx                            0                 0                0   \n",
       "OBV                            0                 0                0   \n",
       "\n",
       "       HINDALCO INDUSTRIES LTD.   BAJAJ AUTO LTD.   TATA MOTORS LTD.   \\\n",
       "Close                          0                 0                  0   \n",
       "RSI                            0                 0                  0   \n",
       "ATR                            0                 0                  0   \n",
       "MACD                           0                 0                  0   \n",
       "adx                            0                 0                  0   \n",
       "OBV                            0                 0                  0   \n",
       "\n",
       "       MARUTI SUZUKI INDIA LTD.   INFOSYS LTD.   \\\n",
       "Close                          0              0   \n",
       "RSI                            0              0   \n",
       "ATR                            0              0   \n",
       "MACD                           0              0   \n",
       "adx                            0              0   \n",
       "OBV                            0              0   \n",
       "\n",
       "       TATA CONSULTANCY SERVICES LTD.   WIPRO LTD.   \n",
       "Close                                0            0  \n",
       "RSI                                  0            0  \n",
       "ATR                                  0            0  \n",
       "MACD                                 0            0  \n",
       "adx                                  0            0  \n",
       "OBV                                  0            0  "
      ]
     },
     "execution_count": 42,
     "metadata": {},
     "output_type": "execute_result"
    }
   ],
   "source": [
    "# ScriptWiseData['BOM500180'][ScriptWiseData['BOM500180']['MACD'].isna()]\n",
    "getNullValuesForSetOfStocks()"
   ]
  },
  {
   "cell_type": "code",
   "execution_count": 43,
   "metadata": {
    "id": "9iCNUYCTySjY"
   },
   "outputs": [
    {
     "data": {
      "text/html": [
       "<div>\n",
       "<style scoped>\n",
       "    .dataframe tbody tr th:only-of-type {\n",
       "        vertical-align: middle;\n",
       "    }\n",
       "\n",
       "    .dataframe tbody tr th {\n",
       "        vertical-align: top;\n",
       "    }\n",
       "\n",
       "    .dataframe thead th {\n",
       "        text-align: right;\n",
       "    }\n",
       "</style>\n",
       "<table border=\"1\" class=\"dataframe\">\n",
       "  <thead>\n",
       "    <tr style=\"text-align: right;\">\n",
       "      <th></th>\n",
       "      <th>Stock Code</th>\n",
       "      <th>Stock Name</th>\n",
       "      <th>First Date</th>\n",
       "      <th>Last Date</th>\n",
       "    </tr>\n",
       "  </thead>\n",
       "  <tbody>\n",
       "    <tr>\n",
       "      <th>0</th>\n",
       "      <td>BOM524715</td>\n",
       "      <td>SUN PHARMACEUTICAL INDUSTRIES LTD.</td>\n",
       "      <td>2000-02-10</td>\n",
       "      <td>2021-03-23</td>\n",
       "    </tr>\n",
       "    <tr>\n",
       "      <th>1</th>\n",
       "      <td>BOM532488</td>\n",
       "      <td>DIVI'S LABORATORIES LTD.</td>\n",
       "      <td>2003-04-23</td>\n",
       "      <td>2021-03-23</td>\n",
       "    </tr>\n",
       "    <tr>\n",
       "      <th>2</th>\n",
       "      <td>BOM500124</td>\n",
       "      <td>DR.REDDY'S LABORATORIES LTD.</td>\n",
       "      <td>2000-02-10</td>\n",
       "      <td>2021-03-23</td>\n",
       "    </tr>\n",
       "    <tr>\n",
       "      <th>3</th>\n",
       "      <td>BOM500180</td>\n",
       "      <td>HDFC Bank Ltd</td>\n",
       "      <td>2000-02-10</td>\n",
       "      <td>2021-03-23</td>\n",
       "    </tr>\n",
       "    <tr>\n",
       "      <th>4</th>\n",
       "      <td>BOM532174</td>\n",
       "      <td>ICICI BANK LTD.</td>\n",
       "      <td>2000-02-10</td>\n",
       "      <td>2021-03-23</td>\n",
       "    </tr>\n",
       "    <tr>\n",
       "      <th>5</th>\n",
       "      <td>BOM500247</td>\n",
       "      <td>KOTAK MAHINDRA BANK LTD.</td>\n",
       "      <td>2000-02-10</td>\n",
       "      <td>2021-03-23</td>\n",
       "    </tr>\n",
       "    <tr>\n",
       "      <th>6</th>\n",
       "      <td>BOM500470</td>\n",
       "      <td>TATA STEEL LTD.</td>\n",
       "      <td>2000-02-10</td>\n",
       "      <td>2021-03-23</td>\n",
       "    </tr>\n",
       "    <tr>\n",
       "      <th>7</th>\n",
       "      <td>BOM500228</td>\n",
       "      <td>JSW STEEL LTD.</td>\n",
       "      <td>2000-02-10</td>\n",
       "      <td>2021-03-23</td>\n",
       "    </tr>\n",
       "    <tr>\n",
       "      <th>8</th>\n",
       "      <td>BOM500440</td>\n",
       "      <td>HINDALCO INDUSTRIES LTD.</td>\n",
       "      <td>2000-02-10</td>\n",
       "      <td>2021-03-23</td>\n",
       "    </tr>\n",
       "    <tr>\n",
       "      <th>9</th>\n",
       "      <td>BOM532977</td>\n",
       "      <td>BAJAJ AUTO LTD.</td>\n",
       "      <td>2008-07-02</td>\n",
       "      <td>2021-03-23</td>\n",
       "    </tr>\n",
       "    <tr>\n",
       "      <th>10</th>\n",
       "      <td>BOM500570</td>\n",
       "      <td>TATA MOTORS LTD.</td>\n",
       "      <td>2000-02-10</td>\n",
       "      <td>2021-03-23</td>\n",
       "    </tr>\n",
       "    <tr>\n",
       "      <th>11</th>\n",
       "      <td>BOM532500</td>\n",
       "      <td>MARUTI SUZUKI INDIA LTD.</td>\n",
       "      <td>2003-08-18</td>\n",
       "      <td>2021-03-23</td>\n",
       "    </tr>\n",
       "    <tr>\n",
       "      <th>12</th>\n",
       "      <td>BOM500209</td>\n",
       "      <td>INFOSYS LTD.</td>\n",
       "      <td>2000-02-10</td>\n",
       "      <td>2021-03-23</td>\n",
       "    </tr>\n",
       "    <tr>\n",
       "      <th>13</th>\n",
       "      <td>BOM532540</td>\n",
       "      <td>TATA CONSULTANCY SERVICES LTD.</td>\n",
       "      <td>2004-10-01</td>\n",
       "      <td>2021-03-23</td>\n",
       "    </tr>\n",
       "    <tr>\n",
       "      <th>14</th>\n",
       "      <td>BOM507685</td>\n",
       "      <td>WIPRO LTD.</td>\n",
       "      <td>2000-02-10</td>\n",
       "      <td>2021-03-23</td>\n",
       "    </tr>\n",
       "  </tbody>\n",
       "</table>\n",
       "</div>"
      ],
      "text/plain": [
       "   Stock Code                           Stock Name  First Date   Last Date\n",
       "0   BOM524715  SUN PHARMACEUTICAL INDUSTRIES LTD.   2000-02-10  2021-03-23\n",
       "1   BOM532488            DIVI'S LABORATORIES LTD.   2003-04-23  2021-03-23\n",
       "2   BOM500124        DR.REDDY'S LABORATORIES LTD.   2000-02-10  2021-03-23\n",
       "3   BOM500180                       HDFC Bank Ltd   2000-02-10  2021-03-23\n",
       "4   BOM532174                     ICICI BANK LTD.   2000-02-10  2021-03-23\n",
       "5   BOM500247            KOTAK MAHINDRA BANK LTD.   2000-02-10  2021-03-23\n",
       "6   BOM500470                     TATA STEEL LTD.   2000-02-10  2021-03-23\n",
       "7   BOM500228                      JSW STEEL LTD.   2000-02-10  2021-03-23\n",
       "8   BOM500440            HINDALCO INDUSTRIES LTD.   2000-02-10  2021-03-23\n",
       "9   BOM532977                     BAJAJ AUTO LTD.   2008-07-02  2021-03-23\n",
       "10  BOM500570                    TATA MOTORS LTD.   2000-02-10  2021-03-23\n",
       "11  BOM532500            MARUTI SUZUKI INDIA LTD.   2003-08-18  2021-03-23\n",
       "12  BOM500209                        INFOSYS LTD.   2000-02-10  2021-03-23\n",
       "13  BOM532540      TATA CONSULTANCY SERVICES LTD.   2004-10-01  2021-03-23\n",
       "14  BOM507685                          WIPRO LTD.   2000-02-10  2021-03-23"
      ]
     },
     "execution_count": 43,
     "metadata": {},
     "output_type": "execute_result"
    }
   ],
   "source": [
    "finalDateRanges =pd.DataFrame(columns = ['Stock Code', 'Stock Name', 'First Date', 'Last Date']) \n",
    "for s in stocks:\n",
    "    r = [s, getStockNameFromStockCode(s), ScriptWiseData[s].index.min(),  ScriptWiseData[s].index.max()]\n",
    "    finalDateRanges.loc[len(finalDateRanges)] = r\n",
    "finalDateRanges"
   ]
  },
  {
   "cell_type": "markdown",
   "metadata": {
    "id": "g-dEHWHqsQDv"
   },
   "source": [
    "# ADF Test for closing price"
   ]
  },
  {
   "cell_type": "code",
   "execution_count": 44,
   "metadata": {
    "id": "PsBFTlvAsQDw"
   },
   "outputs": [
    {
     "data": {
      "text/html": [
       "<div>\n",
       "<style scoped>\n",
       "    .dataframe tbody tr th:only-of-type {\n",
       "        vertical-align: middle;\n",
       "    }\n",
       "\n",
       "    .dataframe tbody tr th {\n",
       "        vertical-align: top;\n",
       "    }\n",
       "\n",
       "    .dataframe thead th {\n",
       "        text-align: right;\n",
       "    }\n",
       "</style>\n",
       "<table border=\"1\" class=\"dataframe\">\n",
       "  <thead>\n",
       "    <tr style=\"text-align: right;\">\n",
       "      <th></th>\n",
       "      <th></th>\n",
       "      <th>ADF test statistic</th>\n",
       "      <th>p-value</th>\n",
       "      <th># lags used</th>\n",
       "      <th>#observations</th>\n",
       "      <th>critical value (1%)</th>\n",
       "      <th>critical value (5%)</th>\n",
       "      <th>critical value (10%)</th>\n",
       "      <th>Result</th>\n",
       "    </tr>\n",
       "    <tr>\n",
       "      <th>Stock Name</th>\n",
       "      <th>Stock Code</th>\n",
       "      <th></th>\n",
       "      <th></th>\n",
       "      <th></th>\n",
       "      <th></th>\n",
       "      <th></th>\n",
       "      <th></th>\n",
       "      <th></th>\n",
       "      <th></th>\n",
       "    </tr>\n",
       "  </thead>\n",
       "  <tbody>\n",
       "    <tr>\n",
       "      <th>SUN PHARMACEUTICAL INDUSTRIES LTD.</th>\n",
       "      <th>BOM524715</th>\n",
       "      <td>-5.025755</td>\n",
       "      <td>0.00002</td>\n",
       "      <td>0.0</td>\n",
       "      <td>5253.0</td>\n",
       "      <td>-3.431595</td>\n",
       "      <td>-2.86209</td>\n",
       "      <td>-2.567063</td>\n",
       "      <td>Stationary</td>\n",
       "    </tr>\n",
       "    <tr>\n",
       "      <th>DIVI'S LABORATORIES LTD.</th>\n",
       "      <th>BOM532488</th>\n",
       "      <td>-3.571373</td>\n",
       "      <td>0.006333</td>\n",
       "      <td>32.0</td>\n",
       "      <td>4424.0</td>\n",
       "      <td>-3.431829</td>\n",
       "      <td>-2.862194</td>\n",
       "      <td>-2.567118</td>\n",
       "      <td>Stationary</td>\n",
       "    </tr>\n",
       "    <tr>\n",
       "      <th>DR.REDDY'S LABORATORIES LTD.</th>\n",
       "      <th>BOM500124</th>\n",
       "      <td>-0.081726</td>\n",
       "      <td>0.951229</td>\n",
       "      <td>28.0</td>\n",
       "      <td>5226.0</td>\n",
       "      <td>-3.431602</td>\n",
       "      <td>-2.862093</td>\n",
       "      <td>-2.567064</td>\n",
       "      <td>Non-Stationary</td>\n",
       "    </tr>\n",
       "    <tr>\n",
       "      <th>HDFC Bank Ltd</th>\n",
       "      <th>BOM500180</th>\n",
       "      <td>-2.223959</td>\n",
       "      <td>0.197665</td>\n",
       "      <td>0.0</td>\n",
       "      <td>5254.0</td>\n",
       "      <td>-3.431595</td>\n",
       "      <td>-2.86209</td>\n",
       "      <td>-2.567063</td>\n",
       "      <td>Non-Stationary</td>\n",
       "    </tr>\n",
       "    <tr>\n",
       "      <th>ICICI BANK LTD.</th>\n",
       "      <th>BOM532174</th>\n",
       "      <td>-2.658944</td>\n",
       "      <td>0.081416</td>\n",
       "      <td>1.0</td>\n",
       "      <td>5252.0</td>\n",
       "      <td>-3.431596</td>\n",
       "      <td>-2.86209</td>\n",
       "      <td>-2.567063</td>\n",
       "      <td>Non-Stationary</td>\n",
       "    </tr>\n",
       "  </tbody>\n",
       "</table>\n",
       "</div>"
      ],
      "text/plain": [
       "                                               ADF test statistic   p-value  \\\n",
       "Stock Name                          Stock Code                                \n",
       "SUN PHARMACEUTICAL INDUSTRIES LTD.  BOM524715           -5.025755   0.00002   \n",
       "DIVI'S LABORATORIES LTD.            BOM532488           -3.571373  0.006333   \n",
       "DR.REDDY'S LABORATORIES LTD.        BOM500124           -0.081726  0.951229   \n",
       "HDFC Bank Ltd                       BOM500180           -2.223959  0.197665   \n",
       "ICICI BANK LTD.                     BOM532174           -2.658944  0.081416   \n",
       "\n",
       "                                               # lags used #observations  \\\n",
       "Stock Name                          Stock Code                             \n",
       "SUN PHARMACEUTICAL INDUSTRIES LTD.  BOM524715          0.0        5253.0   \n",
       "DIVI'S LABORATORIES LTD.            BOM532488         32.0        4424.0   \n",
       "DR.REDDY'S LABORATORIES LTD.        BOM500124         28.0        5226.0   \n",
       "HDFC Bank Ltd                       BOM500180          0.0        5254.0   \n",
       "ICICI BANK LTD.                     BOM532174          1.0        5252.0   \n",
       "\n",
       "                                               critical value (1%)  \\\n",
       "Stock Name                          Stock Code                       \n",
       "SUN PHARMACEUTICAL INDUSTRIES LTD.  BOM524715            -3.431595   \n",
       "DIVI'S LABORATORIES LTD.            BOM532488            -3.431829   \n",
       "DR.REDDY'S LABORATORIES LTD.        BOM500124            -3.431602   \n",
       "HDFC Bank Ltd                       BOM500180            -3.431595   \n",
       "ICICI BANK LTD.                     BOM532174            -3.431596   \n",
       "\n",
       "                                               critical value (5%)  \\\n",
       "Stock Name                          Stock Code                       \n",
       "SUN PHARMACEUTICAL INDUSTRIES LTD.  BOM524715             -2.86209   \n",
       "DIVI'S LABORATORIES LTD.            BOM532488            -2.862194   \n",
       "DR.REDDY'S LABORATORIES LTD.        BOM500124            -2.862093   \n",
       "HDFC Bank Ltd                       BOM500180             -2.86209   \n",
       "ICICI BANK LTD.                     BOM532174             -2.86209   \n",
       "\n",
       "                                               critical value (10%)  \\\n",
       "Stock Name                          Stock Code                        \n",
       "SUN PHARMACEUTICAL INDUSTRIES LTD.  BOM524715             -2.567063   \n",
       "DIVI'S LABORATORIES LTD.            BOM532488             -2.567118   \n",
       "DR.REDDY'S LABORATORIES LTD.        BOM500124             -2.567064   \n",
       "HDFC Bank Ltd                       BOM500180             -2.567063   \n",
       "ICICI BANK LTD.                     BOM532174             -2.567063   \n",
       "\n",
       "                                                        Result  \n",
       "Stock Name                          Stock Code                  \n",
       "SUN PHARMACEUTICAL INDUSTRIES LTD.  BOM524715       Stationary  \n",
       "DIVI'S LABORATORIES LTD.            BOM532488       Stationary  \n",
       "DR.REDDY'S LABORATORIES LTD.        BOM500124   Non-Stationary  \n",
       "HDFC Bank Ltd                       BOM500180   Non-Stationary  \n",
       "ICICI BANK LTD.                     BOM532174   Non-Stationary  "
      ]
     },
     "execution_count": 44,
     "metadata": {},
     "output_type": "execute_result"
    }
   ],
   "source": [
    "stock = stocks[0]\n",
    "adf_testResult = pd.DataFrame(adf_test(ScriptWiseData[stocks[0]].Close, stocks[0])[0], columns = ['Value']).transpose().set_index(['Stock Name', 'Stock Code'])\n",
    "for i in range(1, len(stocks)):\n",
    "    res = pd.DataFrame(adf_test(ScriptWiseData[stocks[i]].Close, stocks[i])[0], columns = ['Value']).transpose().set_index(['Stock Name', 'Stock Code'])\n",
    "    adf_testResult = adf_testResult.append(res)\n",
    "adf_testResult['Result'] = adf_testResult['p-value'].apply(lambda x: 'Stationary' if x<0.05 else 'Non-Stationary')\n",
    "# adf_testResult.to_csv('Outputs/adfTest.csv')\n",
    "adf_testResult.head()"
   ]
  },
  {
   "cell_type": "markdown",
   "metadata": {
    "id": "ZuatJ5wSsQD0"
   },
   "source": [
    "# Train test and validation split"
   ]
  },
  {
   "cell_type": "code",
   "execution_count": 45,
   "metadata": {
    "id": "PPmizeP1sQD1"
   },
   "outputs": [],
   "source": [
    "def TrainTestSplitByDateRange(df,test_start_date = '2020-03-02',test_end_date = '2021-03-23'):\n",
    "    train = df.loc[:test_start_date]\n",
    "    test = df.loc[test_start_date:test_end_date]\n",
    "    return train, test[1:]"
   ]
  },
  {
   "cell_type": "markdown",
   "metadata": {
    "id": "GZM3kPfUFLF0"
   },
   "source": [
    "# Code Addition Tavish -----------------------------------------------"
   ]
  },
  {
   "cell_type": "markdown",
   "metadata": {
    "id": "mkBI8VemuxzA"
   },
   "source": [
    "#ARIMA "
   ]
  },
  {
   "cell_type": "markdown",
   "metadata": {
    "id": "Brhnpl1lsQD_"
   },
   "source": [
    "### AutoARIMA DataFrame\n"
   ]
  },
  {
   "cell_type": "code",
   "execution_count": 46,
   "metadata": {
    "id": "6WlVwmInOc_h"
   },
   "outputs": [],
   "source": [
    "from statsmodels.tsa.arima_model import ARIMA\n",
    "from pmdarima.arima import auto_arima"
   ]
  },
  {
   "cell_type": "code",
   "execution_count": 47,
   "metadata": {
    "id": "1N2CIMZrQBi8"
   },
   "outputs": [],
   "source": [
    "import pandas as pd"
   ]
  },
  {
   "cell_type": "code",
   "execution_count": 48,
   "metadata": {
    "id": "yuHk6Cx2sQEA"
   },
   "outputs": [],
   "source": [
    "AutoArimaResults = 'AutoArimaResults.csv'\n",
    "try:\n",
    "    with open('Outputs/' + AutoArimaResults) as myfile:\n",
    "        AutoArimaResults = pd.read_csv('Outputs/AutoArimaResults.csv',index_col='Unnamed: 0')  \n",
    "except IOError as e:\n",
    "    print('Creating {} file'.format(AutoArimaResults))\n",
    "    AutoArimaResults = pd.DataFrame(columns=['p Closing Values', 'd Closing Values', 'q Closing Values','p N Closing Values', 'd N Closing Values', 'q N Closing Values','p Closing Percentage', 'd Closing Percentage', 'q Closing Percentage'], index = stocks) \n",
    "\n",
    "#AutoArimaResults = pd.DataFrame(columns=['p Closing Values', 'd Closing Values', 'q Closing Values','p N Closing Values', 'd N Closing Values', 'q N Closing Values','p Closing Percentage', 'd Closing Percentage', 'q Closing Percentage'], index = stocks)\n",
    "#AutoArimaResults = pd.read_csv('Outputs/AutoArimaResults.csv',index_col='Unnamed: 0')\n"
   ]
  },
  {
   "cell_type": "code",
   "execution_count": 49,
   "metadata": {
    "id": "XpG-7ntKsQEB"
   },
   "outputs": [],
   "source": [
    "def CalculateAutoArima(stockcode, data, parameter ,p ,d,q):\n",
    "    if(AutoArimaResults.loc[:, [p, d, q]].isnull().sum(axis=1)[stockcode] > 0):\n",
    "        params = auto_arima(data[parameter], maxiter = 1000)\n",
    "        AutoArimaResults.loc[stockcode, [p,d,q]] = params.order\n",
    "        return params.order\n",
    "    else:\n",
    "        return tuple(AutoArimaResults.loc[stockcode, [p, d, q]])"
   ]
  },
  {
   "cell_type": "markdown",
   "metadata": {
    "id": "66iBaKZFbdbj"
   },
   "source": [
    "### Common Functions"
   ]
  },
  {
   "cell_type": "code",
   "execution_count": 50,
   "metadata": {
    "id": "KLwjuKd3tzHm"
   },
   "outputs": [],
   "source": [
    "def errorEvaluation(actual, pred):\n",
    "    RMSE = mean_squared_error(actual, pred, squared=False)\n",
    "    MAPE = mean_absolute_percentage_error(actual,pred)\n",
    "    R2 = r2_score(actual,pred)\n",
    "    Noise = float(pred.diff().abs().mean())\n",
    "    return [RMSE, MAPE, R2, Noise]"
   ]
  },
  {
   "cell_type": "code",
   "execution_count": 51,
   "metadata": {
    "id": "tmb8wAagtzFr"
   },
   "outputs": [],
   "source": [
    "def modified_prediction_frame(_df_pred, index):\n",
    "    _df_pred = _df_pred.to_frame()\n",
    "    _df_pred['Date'] = index\n",
    "    pd.to_datetime(_df_pred['Date'])\n",
    "    _df_pred.set_index('Date', inplace=True)\n",
    "    _df_pred.rename(columns={0 : 'Predicted'}, inplace=True)\n",
    "    return _df_pred"
   ]
  },
  {
   "cell_type": "markdown",
   "metadata": {
    "id": "XIE86TYXbYRI"
   },
   "source": [
    "## ARIMA for Closing Values "
   ]
  },
  {
   "cell_type": "markdown",
   "metadata": {
    "id": "xD0jX2PHAABU"
   },
   "source": [
    "### Generic Function For ARIMA Closing Prices"
   ]
  },
  {
   "cell_type": "code",
   "execution_count": 52,
   "metadata": {
    "id": "oh8YrsrMRNef"
   },
   "outputs": [],
   "source": [
    "def ARIMA_Model_Generic(StockCode, data, feature, Results, Order, train_data, test_data):\n",
    "    print(\"Modeling for the Stock: {}\".format(StockCode))\n",
    "\n",
    "    start = len(train_data)\n",
    "    end = len(train_data) + len(test_data) - 1\n",
    "\n",
    "#     print(\"ADF Test for the given series.\")\n",
    "#     adf, Stationarity = adf_test(train_data[feature], title=StockCode)\n",
    "#     print(adf)\n",
    "#     print('----------------------------------------------------------------------------')\n",
    "#     Results.loc[StockCode,'Stationarity'] = Stationarity\n",
    "    model = ARIMA(train_data[feature], order = Order)\n",
    "\n",
    "    results = model.fit()\n",
    "#     print(results.params)\n",
    "#     print(\"Order: \" + str(Order) )\n",
    "    print('---------------------------------------------------------------------------')\n",
    "    Results.loc[StockCode, 'Order'] = str(Order)\n",
    "    Results.loc[StockCode, 'Model'] = model\n",
    "    Results.loc[StockCode, 'Result'] = results\n",
    "\n",
    "    predictions = results.predict(start = start, end = end, typ ='levels')\n",
    "    predictions = modified_prediction_frame(predictions, test_data[feature].index)\n",
    "\n",
    "    errorEval = errorEvaluation(test_data[feature], predictions)\n",
    "    RMSE, MAPE, R2, Noise = errorEval\n",
    "    Results.loc[StockCode, ['RMSE', 'MAPE', 'R2', 'Noise']] = errorEval\n",
    "    print(\"RMSE: {0} \\nMape: {1} \\nR2: {2} \\nNoise: {3}\".format(RMSE, MAPE, R2, Noise))\n",
    "    print('---------------------------------------------------------------------------')\n",
    "\n",
    "#     print('Description of the Predicted Data')\n",
    "#     print(predictions.describe())\n",
    "    pred_mean = predictions.mean(numeric_only=True)\n",
    "    Results.loc[StockCode, 'Predictions Mean'] = str(float(pred_mean))\n",
    "#     print('---------------------------------------------------------------------------')\n",
    "\n",
    "#     print('Description of the Actual Data')\n",
    "#     print(test_data[feature].describe())\n",
    "    Results.loc[StockCode, 'Actual Mean'] = str(test_data[feature].mean())\n",
    "    return predictions\n"
   ]
  },
  {
   "cell_type": "code",
   "execution_count": 53,
   "metadata": {
    "id": "r_QX2NcG2Sje"
   },
   "outputs": [],
   "source": [
    "try:\n",
    "    ArimaModelPricesResults = pd.read_csv('./Outputs/ArimaModelPricesResults.csv')\n",
    "except FileNotFoundError:\n",
    "    ArimaModelPricesResults = pd.DataFrame(columns=['Stationarity', 'Order', 'RMSE', 'MAPE', 'R2', 'Noise', 'Predictions Mean', 'Actual Mean', 'Model'], index = stocks)"
   ]
  },
  {
   "cell_type": "code",
   "execution_count": 54,
   "metadata": {
    "id": "Q2S3ndNj4IW9"
   },
   "outputs": [
    {
     "name": "stdout",
     "output_type": "stream",
     "text": [
      "Working for Stock - BOM524715\n",
      "Working for Stock - BOM532488\n",
      "Working for Stock - BOM500124\n",
      "Working for Stock - BOM500180\n",
      "Working for Stock - BOM532174\n",
      "Working for Stock - BOM500247\n",
      "Working for Stock - BOM500470\n",
      "Working for Stock - BOM500228\n",
      "Working for Stock - BOM500440\n",
      "Working for Stock - BOM532977\n",
      "Working for Stock - BOM500570\n",
      "Working for Stock - BOM532500\n",
      "Working for Stock - BOM500209\n",
      "Working for Stock - BOM532540\n",
      "Working for Stock - BOM507685\n"
     ]
    }
   ],
   "source": [
    "feature = 'Close'\n",
    "for stock in stocks:\n",
    "    try:\n",
    "        print(\"Working for Stock - {}\".format(stock))\n",
    "        train_data, test_data = TrainTestSplitByDateRange(ScriptWiseData[stock])\n",
    "#         Order = CalculateAutoArima(stock, train_data, feature,  p= 'p Closing Values',d = 'd Closing Values', q = 'q Closing Values')\n",
    "#         ARIMA_Model_Generic(StockCode = stock, data = ScriptWiseData, feature = feature, Results=ArimaModelPricesResults, Order=Order, train_data=train_data, test_data=test_data)\n",
    "    except:\n",
    "        pass"
   ]
  },
  {
   "cell_type": "code",
   "execution_count": 55,
   "metadata": {
    "id": "QPc5OCmxzXgP"
   },
   "outputs": [],
   "source": [
    "# ArimaModelPricesResults.to_csv('./Outputs/ArimaModelPricesResults.csv')"
   ]
  },
  {
   "cell_type": "code",
   "execution_count": 56,
   "metadata": {},
   "outputs": [
    {
     "data": {
      "text/html": [
       "<div>\n",
       "<style scoped>\n",
       "    .dataframe tbody tr th:only-of-type {\n",
       "        vertical-align: middle;\n",
       "    }\n",
       "\n",
       "    .dataframe tbody tr th {\n",
       "        vertical-align: top;\n",
       "    }\n",
       "\n",
       "    .dataframe thead th {\n",
       "        text-align: right;\n",
       "    }\n",
       "</style>\n",
       "<table border=\"1\" class=\"dataframe\">\n",
       "  <thead>\n",
       "    <tr style=\"text-align: right;\">\n",
       "      <th></th>\n",
       "      <th>Unnamed: 0</th>\n",
       "      <th>Unnamed: 0.1</th>\n",
       "      <th>Stationarity</th>\n",
       "      <th>Order</th>\n",
       "      <th>RMSE</th>\n",
       "      <th>MAPE</th>\n",
       "      <th>R2</th>\n",
       "      <th>Noise</th>\n",
       "      <th>Predictions Mean</th>\n",
       "      <th>Actual Mean</th>\n",
       "      <th>Model</th>\n",
       "      <th>Result</th>\n",
       "    </tr>\n",
       "  </thead>\n",
       "  <tbody>\n",
       "    <tr>\n",
       "      <th>0</th>\n",
       "      <td>0</td>\n",
       "      <td>BOM524715</td>\n",
       "      <td>Stationary</td>\n",
       "      <td>(0, 1, 1)</td>\n",
       "      <td>212.880495</td>\n",
       "      <td>0.358272</td>\n",
       "      <td>-8.616155</td>\n",
       "      <td>0.356600</td>\n",
       "      <td>321.455060</td>\n",
       "      <td>512.652841</td>\n",
       "      <td>NaN</td>\n",
       "      <td>NaN</td>\n",
       "    </tr>\n",
       "    <tr>\n",
       "      <th>1</th>\n",
       "      <td>1</td>\n",
       "      <td>BOM532488</td>\n",
       "      <td>NaN</td>\n",
       "      <td>NaN</td>\n",
       "      <td>NaN</td>\n",
       "      <td>NaN</td>\n",
       "      <td>NaN</td>\n",
       "      <td>NaN</td>\n",
       "      <td>NaN</td>\n",
       "      <td>NaN</td>\n",
       "      <td>NaN</td>\n",
       "      <td>NaN</td>\n",
       "    </tr>\n",
       "    <tr>\n",
       "      <th>2</th>\n",
       "      <td>2</td>\n",
       "      <td>BOM500124</td>\n",
       "      <td>NaN</td>\n",
       "      <td>NaN</td>\n",
       "      <td>NaN</td>\n",
       "      <td>NaN</td>\n",
       "      <td>NaN</td>\n",
       "      <td>NaN</td>\n",
       "      <td>NaN</td>\n",
       "      <td>NaN</td>\n",
       "      <td>NaN</td>\n",
       "      <td>NaN</td>\n",
       "    </tr>\n",
       "    <tr>\n",
       "      <th>3</th>\n",
       "      <td>3</td>\n",
       "      <td>BOM500180</td>\n",
       "      <td>NaN</td>\n",
       "      <td>NaN</td>\n",
       "      <td>NaN</td>\n",
       "      <td>NaN</td>\n",
       "      <td>NaN</td>\n",
       "      <td>NaN</td>\n",
       "      <td>NaN</td>\n",
       "      <td>NaN</td>\n",
       "      <td>NaN</td>\n",
       "      <td>NaN</td>\n",
       "    </tr>\n",
       "    <tr>\n",
       "      <th>4</th>\n",
       "      <td>4</td>\n",
       "      <td>BOM532174</td>\n",
       "      <td>NaN</td>\n",
       "      <td>NaN</td>\n",
       "      <td>NaN</td>\n",
       "      <td>NaN</td>\n",
       "      <td>NaN</td>\n",
       "      <td>NaN</td>\n",
       "      <td>NaN</td>\n",
       "      <td>NaN</td>\n",
       "      <td>NaN</td>\n",
       "      <td>NaN</td>\n",
       "    </tr>\n",
       "    <tr>\n",
       "      <th>5</th>\n",
       "      <td>5</td>\n",
       "      <td>BOM500247</td>\n",
       "      <td>NaN</td>\n",
       "      <td>NaN</td>\n",
       "      <td>NaN</td>\n",
       "      <td>NaN</td>\n",
       "      <td>NaN</td>\n",
       "      <td>NaN</td>\n",
       "      <td>NaN</td>\n",
       "      <td>NaN</td>\n",
       "      <td>NaN</td>\n",
       "      <td>NaN</td>\n",
       "    </tr>\n",
       "    <tr>\n",
       "      <th>6</th>\n",
       "      <td>6</td>\n",
       "      <td>BOM500470</td>\n",
       "      <td>NaN</td>\n",
       "      <td>NaN</td>\n",
       "      <td>NaN</td>\n",
       "      <td>NaN</td>\n",
       "      <td>NaN</td>\n",
       "      <td>NaN</td>\n",
       "      <td>NaN</td>\n",
       "      <td>NaN</td>\n",
       "      <td>NaN</td>\n",
       "      <td>NaN</td>\n",
       "    </tr>\n",
       "    <tr>\n",
       "      <th>7</th>\n",
       "      <td>7</td>\n",
       "      <td>BOM500228</td>\n",
       "      <td>NaN</td>\n",
       "      <td>NaN</td>\n",
       "      <td>NaN</td>\n",
       "      <td>NaN</td>\n",
       "      <td>NaN</td>\n",
       "      <td>NaN</td>\n",
       "      <td>NaN</td>\n",
       "      <td>NaN</td>\n",
       "      <td>NaN</td>\n",
       "      <td>NaN</td>\n",
       "    </tr>\n",
       "    <tr>\n",
       "      <th>8</th>\n",
       "      <td>8</td>\n",
       "      <td>BOM500440</td>\n",
       "      <td>NaN</td>\n",
       "      <td>NaN</td>\n",
       "      <td>NaN</td>\n",
       "      <td>NaN</td>\n",
       "      <td>NaN</td>\n",
       "      <td>NaN</td>\n",
       "      <td>NaN</td>\n",
       "      <td>NaN</td>\n",
       "      <td>NaN</td>\n",
       "      <td>NaN</td>\n",
       "    </tr>\n",
       "    <tr>\n",
       "      <th>9</th>\n",
       "      <td>9</td>\n",
       "      <td>BOM532977</td>\n",
       "      <td>NaN</td>\n",
       "      <td>NaN</td>\n",
       "      <td>NaN</td>\n",
       "      <td>NaN</td>\n",
       "      <td>NaN</td>\n",
       "      <td>NaN</td>\n",
       "      <td>NaN</td>\n",
       "      <td>NaN</td>\n",
       "      <td>NaN</td>\n",
       "      <td>NaN</td>\n",
       "    </tr>\n",
       "    <tr>\n",
       "      <th>10</th>\n",
       "      <td>10</td>\n",
       "      <td>BOM500570</td>\n",
       "      <td>NaN</td>\n",
       "      <td>NaN</td>\n",
       "      <td>NaN</td>\n",
       "      <td>NaN</td>\n",
       "      <td>NaN</td>\n",
       "      <td>NaN</td>\n",
       "      <td>NaN</td>\n",
       "      <td>NaN</td>\n",
       "      <td>NaN</td>\n",
       "      <td>NaN</td>\n",
       "    </tr>\n",
       "    <tr>\n",
       "      <th>11</th>\n",
       "      <td>11</td>\n",
       "      <td>BOM532500</td>\n",
       "      <td>NaN</td>\n",
       "      <td>NaN</td>\n",
       "      <td>NaN</td>\n",
       "      <td>NaN</td>\n",
       "      <td>NaN</td>\n",
       "      <td>NaN</td>\n",
       "      <td>NaN</td>\n",
       "      <td>NaN</td>\n",
       "      <td>NaN</td>\n",
       "      <td>NaN</td>\n",
       "    </tr>\n",
       "    <tr>\n",
       "      <th>12</th>\n",
       "      <td>12</td>\n",
       "      <td>BOM500209</td>\n",
       "      <td>NaN</td>\n",
       "      <td>NaN</td>\n",
       "      <td>NaN</td>\n",
       "      <td>NaN</td>\n",
       "      <td>NaN</td>\n",
       "      <td>NaN</td>\n",
       "      <td>NaN</td>\n",
       "      <td>NaN</td>\n",
       "      <td>NaN</td>\n",
       "      <td>NaN</td>\n",
       "    </tr>\n",
       "    <tr>\n",
       "      <th>13</th>\n",
       "      <td>13</td>\n",
       "      <td>BOM532540</td>\n",
       "      <td>NaN</td>\n",
       "      <td>NaN</td>\n",
       "      <td>NaN</td>\n",
       "      <td>NaN</td>\n",
       "      <td>NaN</td>\n",
       "      <td>NaN</td>\n",
       "      <td>NaN</td>\n",
       "      <td>NaN</td>\n",
       "      <td>NaN</td>\n",
       "      <td>NaN</td>\n",
       "    </tr>\n",
       "    <tr>\n",
       "      <th>14</th>\n",
       "      <td>14</td>\n",
       "      <td>BOM507685</td>\n",
       "      <td>NaN</td>\n",
       "      <td>NaN</td>\n",
       "      <td>NaN</td>\n",
       "      <td>NaN</td>\n",
       "      <td>NaN</td>\n",
       "      <td>NaN</td>\n",
       "      <td>NaN</td>\n",
       "      <td>NaN</td>\n",
       "      <td>NaN</td>\n",
       "      <td>NaN</td>\n",
       "    </tr>\n",
       "    <tr>\n",
       "      <th>15</th>\n",
       "      <td>BOM524715</td>\n",
       "      <td>NaN</td>\n",
       "      <td>Stationary</td>\n",
       "      <td>(0, 1, 1)</td>\n",
       "      <td>212.880495</td>\n",
       "      <td>0.358272</td>\n",
       "      <td>-8.616155</td>\n",
       "      <td>0.356600</td>\n",
       "      <td>321.455060</td>\n",
       "      <td>512.652841</td>\n",
       "      <td>&lt;statsmodels.tsa.arima_model.ARIMA object at 0...</td>\n",
       "      <td>&lt;statsmodels.tsa.arima_model.ARIMAResultsWrapp...</td>\n",
       "    </tr>\n",
       "    <tr>\n",
       "      <th>16</th>\n",
       "      <td>BOM532488</td>\n",
       "      <td>NaN</td>\n",
       "      <td>Stationary</td>\n",
       "      <td>NaN</td>\n",
       "      <td>NaN</td>\n",
       "      <td>NaN</td>\n",
       "      <td>NaN</td>\n",
       "      <td>NaN</td>\n",
       "      <td>NaN</td>\n",
       "      <td>NaN</td>\n",
       "      <td>NaN</td>\n",
       "      <td>NaN</td>\n",
       "    </tr>\n",
       "    <tr>\n",
       "      <th>17</th>\n",
       "      <td>BOM500124</td>\n",
       "      <td>NaN</td>\n",
       "      <td>Non-Stationary</td>\n",
       "      <td>(2, 1, 2)</td>\n",
       "      <td>1543.263709</td>\n",
       "      <td>0.308956</td>\n",
       "      <td>-4.838023</td>\n",
       "      <td>0.495326</td>\n",
       "      <td>2982.825247</td>\n",
       "      <td>4398.125758</td>\n",
       "      <td>&lt;statsmodels.tsa.arima_model.ARIMA object at 0...</td>\n",
       "      <td>&lt;statsmodels.tsa.arima_model.ARIMAResultsWrapp...</td>\n",
       "    </tr>\n",
       "    <tr>\n",
       "      <th>18</th>\n",
       "      <td>BOM500180</td>\n",
       "      <td>NaN</td>\n",
       "      <td>Non-Stationary</td>\n",
       "      <td>(0, 1, 0)</td>\n",
       "      <td>215.873439</td>\n",
       "      <td>0.167189</td>\n",
       "      <td>0.107421</td>\n",
       "      <td>0.186603</td>\n",
       "      <td>1206.874925</td>\n",
       "      <td>1191.321023</td>\n",
       "      <td>&lt;statsmodels.tsa.arima_model.ARIMA object at 0...</td>\n",
       "      <td>&lt;statsmodels.tsa.arima_model.ARIMAResultsWrapp...</td>\n",
       "    </tr>\n",
       "    <tr>\n",
       "      <th>19</th>\n",
       "      <td>BOM532174</td>\n",
       "      <td>NaN</td>\n",
       "      <td>Non-Stationary</td>\n",
       "      <td>(2, 1, 1)</td>\n",
       "      <td>129.374185</td>\n",
       "      <td>0.303897</td>\n",
       "      <td>-0.632343</td>\n",
       "      <td>0.074677</td>\n",
       "      <td>517.379718</td>\n",
       "      <td>431.724053</td>\n",
       "      <td>&lt;statsmodels.tsa.arima_model.ARIMA object at 0...</td>\n",
       "      <td>&lt;statsmodels.tsa.arima_model.ARIMAResultsWrapp...</td>\n",
       "    </tr>\n",
       "    <tr>\n",
       "      <th>20</th>\n",
       "      <td>BOM500247</td>\n",
       "      <td>NaN</td>\n",
       "      <td>Non-Stationary</td>\n",
       "      <td>(1, 1, 2)</td>\n",
       "      <td>290.192366</td>\n",
       "      <td>0.191578</td>\n",
       "      <td>-0.025826</td>\n",
       "      <td>0.286672</td>\n",
       "      <td>1638.341748</td>\n",
       "      <td>1528.218750</td>\n",
       "      <td>&lt;statsmodels.tsa.arima_model.ARIMA object at 0...</td>\n",
       "      <td>&lt;statsmodels.tsa.arima_model.ARIMAResultsWrapp...</td>\n",
       "    </tr>\n",
       "    <tr>\n",
       "      <th>21</th>\n",
       "      <td>BOM500470</td>\n",
       "      <td>NaN</td>\n",
       "      <td>Non-Stationary</td>\n",
       "      <td>(2, 1, 2)</td>\n",
       "      <td>174.748066</td>\n",
       "      <td>0.247249</td>\n",
       "      <td>-0.224334</td>\n",
       "      <td>0.070345</td>\n",
       "      <td>370.911658</td>\n",
       "      <td>452.076326</td>\n",
       "      <td>&lt;statsmodels.tsa.arima_model.ARIMA object at 0...</td>\n",
       "      <td>&lt;statsmodels.tsa.arima_model.ARIMAResultsWrapp...</td>\n",
       "    </tr>\n",
       "    <tr>\n",
       "      <th>22</th>\n",
       "      <td>BOM500228</td>\n",
       "      <td>NaN</td>\n",
       "      <td>Non-Stationary</td>\n",
       "      <td>(0, 1, 0)</td>\n",
       "      <td>95.591730</td>\n",
       "      <td>0.286340</td>\n",
       "      <td>-0.130326</td>\n",
       "      <td>0.046186</td>\n",
       "      <td>241.069590</td>\n",
       "      <td>281.715341</td>\n",
       "      <td>&lt;statsmodels.tsa.arima_model.ARIMA object at 0...</td>\n",
       "      <td>&lt;statsmodels.tsa.arima_model.ARIMAResultsWrapp...</td>\n",
       "    </tr>\n",
       "    <tr>\n",
       "      <th>23</th>\n",
       "      <td>BOM500440</td>\n",
       "      <td>NaN</td>\n",
       "      <td>Non-Stationary</td>\n",
       "      <td>(0, 1, 0)</td>\n",
       "      <td>96.701275</td>\n",
       "      <td>0.336216</td>\n",
       "      <td>-1.180996</td>\n",
       "      <td>0.137332</td>\n",
       "      <td>131.653493</td>\n",
       "      <td>192.293750</td>\n",
       "      <td>&lt;statsmodels.tsa.arima_model.ARIMA object at 0...</td>\n",
       "      <td>&lt;statsmodels.tsa.arima_model.ARIMAResultsWrapp...</td>\n",
       "    </tr>\n",
       "    <tr>\n",
       "      <th>24</th>\n",
       "      <td>BOM532977</td>\n",
       "      <td>NaN</td>\n",
       "      <td>Non-Stationary</td>\n",
       "      <td>NaN</td>\n",
       "      <td>NaN</td>\n",
       "      <td>NaN</td>\n",
       "      <td>NaN</td>\n",
       "      <td>NaN</td>\n",
       "      <td>NaN</td>\n",
       "      <td>NaN</td>\n",
       "      <td>NaN</td>\n",
       "      <td>NaN</td>\n",
       "    </tr>\n",
       "    <tr>\n",
       "      <th>25</th>\n",
       "      <td>BOM500570</td>\n",
       "      <td>NaN</td>\n",
       "      <td>Non-Stationary</td>\n",
       "      <td>NaN</td>\n",
       "      <td>NaN</td>\n",
       "      <td>NaN</td>\n",
       "      <td>NaN</td>\n",
       "      <td>NaN</td>\n",
       "      <td>NaN</td>\n",
       "      <td>NaN</td>\n",
       "      <td>NaN</td>\n",
       "      <td>NaN</td>\n",
       "    </tr>\n",
       "    <tr>\n",
       "      <th>26</th>\n",
       "      <td>BOM532500</td>\n",
       "      <td>NaN</td>\n",
       "      <td>Non-Stationary</td>\n",
       "      <td>(2, 1, 2)</td>\n",
       "      <td>881.673687</td>\n",
       "      <td>0.123557</td>\n",
       "      <td>0.184135</td>\n",
       "      <td>1.587953</td>\n",
       "      <td>6474.623891</td>\n",
       "      <td>6530.981818</td>\n",
       "      <td>&lt;statsmodels.tsa.arima_model.ARIMA object at 0...</td>\n",
       "      <td>&lt;statsmodels.tsa.arima_model.ARIMAResultsWrapp...</td>\n",
       "    </tr>\n",
       "    <tr>\n",
       "      <th>27</th>\n",
       "      <td>BOM500209</td>\n",
       "      <td>NaN</td>\n",
       "      <td>Stationary</td>\n",
       "      <td>(2, 1, 2)</td>\n",
       "      <td>620.378339</td>\n",
       "      <td>0.448228</td>\n",
       "      <td>-5.224318</td>\n",
       "      <td>1.886237</td>\n",
       "      <td>498.928757</td>\n",
       "      <td>981.074811</td>\n",
       "      <td>&lt;statsmodels.tsa.arima_model.ARIMA object at 0...</td>\n",
       "      <td>&lt;statsmodels.tsa.arima_model.ARIMAResultsWrapp...</td>\n",
       "    </tr>\n",
       "    <tr>\n",
       "      <th>28</th>\n",
       "      <td>BOM532540</td>\n",
       "      <td>NaN</td>\n",
       "      <td>Non-Stationary</td>\n",
       "      <td>(2, 1, 2)</td>\n",
       "      <td>569.607477</td>\n",
       "      <td>0.167284</td>\n",
       "      <td>-0.483469</td>\n",
       "      <td>0.509808</td>\n",
       "      <td>2098.166083</td>\n",
       "      <td>2459.927273</td>\n",
       "      <td>&lt;statsmodels.tsa.arima_model.ARIMA object at 0...</td>\n",
       "      <td>&lt;statsmodels.tsa.arima_model.ARIMAResultsWrapp...</td>\n",
       "    </tr>\n",
       "    <tr>\n",
       "      <th>29</th>\n",
       "      <td>BOM507685</td>\n",
       "      <td>NaN</td>\n",
       "      <td>Stationary</td>\n",
       "      <td>(5, 1, 3)</td>\n",
       "      <td>297.741918</td>\n",
       "      <td>0.688977</td>\n",
       "      <td>-10.356811</td>\n",
       "      <td>1.244242</td>\n",
       "      <td>64.231263</td>\n",
       "      <td>302.515152</td>\n",
       "      <td>&lt;statsmodels.tsa.arima_model.ARIMA object at 0...</td>\n",
       "      <td>&lt;statsmodels.tsa.arima_model.ARIMAResultsWrapp...</td>\n",
       "    </tr>\n",
       "  </tbody>\n",
       "</table>\n",
       "</div>"
      ],
      "text/plain": [
       "   Unnamed: 0 Unnamed: 0.1    Stationarity      Order         RMSE      MAPE  \\\n",
       "0           0    BOM524715      Stationary  (0, 1, 1)   212.880495  0.358272   \n",
       "1           1    BOM532488             NaN        NaN          NaN       NaN   \n",
       "2           2    BOM500124             NaN        NaN          NaN       NaN   \n",
       "3           3    BOM500180             NaN        NaN          NaN       NaN   \n",
       "4           4    BOM532174             NaN        NaN          NaN       NaN   \n",
       "5           5    BOM500247             NaN        NaN          NaN       NaN   \n",
       "6           6    BOM500470             NaN        NaN          NaN       NaN   \n",
       "7           7    BOM500228             NaN        NaN          NaN       NaN   \n",
       "8           8    BOM500440             NaN        NaN          NaN       NaN   \n",
       "9           9    BOM532977             NaN        NaN          NaN       NaN   \n",
       "10         10    BOM500570             NaN        NaN          NaN       NaN   \n",
       "11         11    BOM532500             NaN        NaN          NaN       NaN   \n",
       "12         12    BOM500209             NaN        NaN          NaN       NaN   \n",
       "13         13    BOM532540             NaN        NaN          NaN       NaN   \n",
       "14         14    BOM507685             NaN        NaN          NaN       NaN   \n",
       "15  BOM524715          NaN      Stationary  (0, 1, 1)   212.880495  0.358272   \n",
       "16  BOM532488          NaN      Stationary        NaN          NaN       NaN   \n",
       "17  BOM500124          NaN  Non-Stationary  (2, 1, 2)  1543.263709  0.308956   \n",
       "18  BOM500180          NaN  Non-Stationary  (0, 1, 0)   215.873439  0.167189   \n",
       "19  BOM532174          NaN  Non-Stationary  (2, 1, 1)   129.374185  0.303897   \n",
       "20  BOM500247          NaN  Non-Stationary  (1, 1, 2)   290.192366  0.191578   \n",
       "21  BOM500470          NaN  Non-Stationary  (2, 1, 2)   174.748066  0.247249   \n",
       "22  BOM500228          NaN  Non-Stationary  (0, 1, 0)    95.591730  0.286340   \n",
       "23  BOM500440          NaN  Non-Stationary  (0, 1, 0)    96.701275  0.336216   \n",
       "24  BOM532977          NaN  Non-Stationary        NaN          NaN       NaN   \n",
       "25  BOM500570          NaN  Non-Stationary        NaN          NaN       NaN   \n",
       "26  BOM532500          NaN  Non-Stationary  (2, 1, 2)   881.673687  0.123557   \n",
       "27  BOM500209          NaN      Stationary  (2, 1, 2)   620.378339  0.448228   \n",
       "28  BOM532540          NaN  Non-Stationary  (2, 1, 2)   569.607477  0.167284   \n",
       "29  BOM507685          NaN      Stationary  (5, 1, 3)   297.741918  0.688977   \n",
       "\n",
       "           R2     Noise  Predictions Mean  Actual Mean  \\\n",
       "0   -8.616155  0.356600        321.455060   512.652841   \n",
       "1         NaN       NaN               NaN          NaN   \n",
       "2         NaN       NaN               NaN          NaN   \n",
       "3         NaN       NaN               NaN          NaN   \n",
       "4         NaN       NaN               NaN          NaN   \n",
       "5         NaN       NaN               NaN          NaN   \n",
       "6         NaN       NaN               NaN          NaN   \n",
       "7         NaN       NaN               NaN          NaN   \n",
       "8         NaN       NaN               NaN          NaN   \n",
       "9         NaN       NaN               NaN          NaN   \n",
       "10        NaN       NaN               NaN          NaN   \n",
       "11        NaN       NaN               NaN          NaN   \n",
       "12        NaN       NaN               NaN          NaN   \n",
       "13        NaN       NaN               NaN          NaN   \n",
       "14        NaN       NaN               NaN          NaN   \n",
       "15  -8.616155  0.356600        321.455060   512.652841   \n",
       "16        NaN       NaN               NaN          NaN   \n",
       "17  -4.838023  0.495326       2982.825247  4398.125758   \n",
       "18   0.107421  0.186603       1206.874925  1191.321023   \n",
       "19  -0.632343  0.074677        517.379718   431.724053   \n",
       "20  -0.025826  0.286672       1638.341748  1528.218750   \n",
       "21  -0.224334  0.070345        370.911658   452.076326   \n",
       "22  -0.130326  0.046186        241.069590   281.715341   \n",
       "23  -1.180996  0.137332        131.653493   192.293750   \n",
       "24        NaN       NaN               NaN          NaN   \n",
       "25        NaN       NaN               NaN          NaN   \n",
       "26   0.184135  1.587953       6474.623891  6530.981818   \n",
       "27  -5.224318  1.886237        498.928757   981.074811   \n",
       "28  -0.483469  0.509808       2098.166083  2459.927273   \n",
       "29 -10.356811  1.244242         64.231263   302.515152   \n",
       "\n",
       "                                                Model  \\\n",
       "0                                                 NaN   \n",
       "1                                                 NaN   \n",
       "2                                                 NaN   \n",
       "3                                                 NaN   \n",
       "4                                                 NaN   \n",
       "5                                                 NaN   \n",
       "6                                                 NaN   \n",
       "7                                                 NaN   \n",
       "8                                                 NaN   \n",
       "9                                                 NaN   \n",
       "10                                                NaN   \n",
       "11                                                NaN   \n",
       "12                                                NaN   \n",
       "13                                                NaN   \n",
       "14                                                NaN   \n",
       "15  <statsmodels.tsa.arima_model.ARIMA object at 0...   \n",
       "16                                                NaN   \n",
       "17  <statsmodels.tsa.arima_model.ARIMA object at 0...   \n",
       "18  <statsmodels.tsa.arima_model.ARIMA object at 0...   \n",
       "19  <statsmodels.tsa.arima_model.ARIMA object at 0...   \n",
       "20  <statsmodels.tsa.arima_model.ARIMA object at 0...   \n",
       "21  <statsmodels.tsa.arima_model.ARIMA object at 0...   \n",
       "22  <statsmodels.tsa.arima_model.ARIMA object at 0...   \n",
       "23  <statsmodels.tsa.arima_model.ARIMA object at 0...   \n",
       "24                                                NaN   \n",
       "25                                                NaN   \n",
       "26  <statsmodels.tsa.arima_model.ARIMA object at 0...   \n",
       "27  <statsmodels.tsa.arima_model.ARIMA object at 0...   \n",
       "28  <statsmodels.tsa.arima_model.ARIMA object at 0...   \n",
       "29  <statsmodels.tsa.arima_model.ARIMA object at 0...   \n",
       "\n",
       "                                               Result  \n",
       "0                                                 NaN  \n",
       "1                                                 NaN  \n",
       "2                                                 NaN  \n",
       "3                                                 NaN  \n",
       "4                                                 NaN  \n",
       "5                                                 NaN  \n",
       "6                                                 NaN  \n",
       "7                                                 NaN  \n",
       "8                                                 NaN  \n",
       "9                                                 NaN  \n",
       "10                                                NaN  \n",
       "11                                                NaN  \n",
       "12                                                NaN  \n",
       "13                                                NaN  \n",
       "14                                                NaN  \n",
       "15  <statsmodels.tsa.arima_model.ARIMAResultsWrapp...  \n",
       "16                                                NaN  \n",
       "17  <statsmodels.tsa.arima_model.ARIMAResultsWrapp...  \n",
       "18  <statsmodels.tsa.arima_model.ARIMAResultsWrapp...  \n",
       "19  <statsmodels.tsa.arima_model.ARIMAResultsWrapp...  \n",
       "20  <statsmodels.tsa.arima_model.ARIMAResultsWrapp...  \n",
       "21  <statsmodels.tsa.arima_model.ARIMAResultsWrapp...  \n",
       "22  <statsmodels.tsa.arima_model.ARIMAResultsWrapp...  \n",
       "23  <statsmodels.tsa.arima_model.ARIMAResultsWrapp...  \n",
       "24                                                NaN  \n",
       "25                                                NaN  \n",
       "26  <statsmodels.tsa.arima_model.ARIMAResultsWrapp...  \n",
       "27  <statsmodels.tsa.arima_model.ARIMAResultsWrapp...  \n",
       "28  <statsmodels.tsa.arima_model.ARIMAResultsWrapp...  \n",
       "29  <statsmodels.tsa.arima_model.ARIMAResultsWrapp...  "
      ]
     },
     "execution_count": 56,
     "metadata": {},
     "output_type": "execute_result"
    }
   ],
   "source": [
    "ArimaModelPricesResults"
   ]
  },
  {
   "cell_type": "markdown",
   "metadata": {
    "id": "Ru8Key50sQD3"
   },
   "source": [
    "## ARIMA for Normalized Closing Price"
   ]
  },
  {
   "cell_type": "markdown",
   "metadata": {
    "id": "CMOXBPGjb-mp"
   },
   "source": [
    "### Normalizing the Values  - Normalized_Prices"
   ]
  },
  {
   "cell_type": "code",
   "execution_count": 57,
   "metadata": {
    "id": "sWQsNBH-_mIo"
   },
   "outputs": [],
   "source": [
    "normalized_columns = ['Normalized Closing', 'Normalized RSI', 'Normalized ATR', 'Normalized MACD', 'Normalized ADX', 'Normalized OBV']\n",
    "normalized_TechnicalIndicators = ['Normalized RSI', 'Normalized ATR', 'Normalized MACD', 'Normalized ADX', 'Normalized OBV']"
   ]
  },
  {
   "cell_type": "code",
   "execution_count": 58,
   "metadata": {
    "id": "ZvK_sl4-r5zF"
   },
   "outputs": [],
   "source": [
    "# first value normalization\n",
    "for stock in stocks:\n",
    "    cols = list(ScriptWiseData[stock].columns)\n",
    "    for count in range(len(cols)):\n",
    "        benchmark_prices = ScriptWiseData[stock][cols[count]].iloc[0]\n",
    "        ScriptWiseData[stock][normalized_columns[count]] = ScriptWiseData[stock][cols[count]].div(benchmark_prices).mul(100)\n"
   ]
  },
  {
   "cell_type": "markdown",
   "metadata": {
    "id": "hssG06SXQzYo"
   },
   "source": [
    "###  ARIMA Normalized Closing Prices"
   ]
  },
  {
   "cell_type": "code",
   "execution_count": 59,
   "metadata": {
    "id": "vp-eT2gpRNeZ"
   },
   "outputs": [],
   "source": [
    "try:\n",
    "    ArimaModelPricesResults_Norm = pd.read_csv('./Outputs/ArimaModelPricesResults_Norm.csv')\n",
    "except FileNotFoundError:\n",
    "    ArimaModelPricesResults_Norm = pd.DataFrame(columns=['Stationarity', 'Order', 'RMSE', 'MAPE', 'R2','Noise', 'Predictions Mean', 'Actual Mean', 'Model'], index = stocks)"
   ]
  },
  {
   "cell_type": "code",
   "execution_count": 60,
   "metadata": {
    "id": "NVFH-IUnVFVz"
   },
   "outputs": [
    {
     "name": "stdout",
     "output_type": "stream",
     "text": [
      "Working for Stock BOM524715\n",
      "Working for Stock BOM532488\n",
      "Working for Stock BOM500124\n",
      "Working for Stock BOM500180\n",
      "Working for Stock BOM532174\n",
      "Working for Stock BOM500247\n",
      "Working for Stock BOM500470\n",
      "Working for Stock BOM500228\n",
      "Working for Stock BOM500440\n",
      "Working for Stock BOM532977\n",
      "Working for Stock BOM500570\n",
      "Working for Stock BOM532500\n",
      "Working for Stock BOM500209\n",
      "Working for Stock BOM532540\n",
      "Working for Stock BOM507685\n"
     ]
    }
   ],
   "source": [
    "for stock in stocks:\n",
    "    print(\"Working for Stock {}\".format(stock))\n",
    "    train_data, test_data = TrainTestSplitByDateRange(ScriptWiseData[stock])\n",
    "    feature = 'Normalized Closing'\n",
    "#     Order = CalculateAutoArima(stock, train_data, feature,'p N Closing Values', 'd N Closing Values', 'q N Closing Values')\n",
    "#     ARIMA_Model_Generic(StockCode= stock, data = ScriptWiseData, feature = feature, Results=ArimaModelPricesResults_Norm, Order=Order, train_data=train_data, test_data=test_data)"
   ]
  },
  {
   "cell_type": "code",
   "execution_count": 61,
   "metadata": {
    "id": "xRHvVlzIRNei"
   },
   "outputs": [],
   "source": [
    "# ArimaModelPricesResults_Norm.to_csv('./Outputs/ArimaModelPricesResults_Norm.csv')"
   ]
  },
  {
   "cell_type": "markdown",
   "metadata": {
    "id": "dRI58ANtsQEE"
   },
   "source": [
    "## ARIMA Model For Returns"
   ]
  },
  {
   "cell_type": "markdown",
   "metadata": {
    "id": "tMsWXE90sQDx"
   },
   "source": [
    "### Convert Closing price to percentage change"
   ]
  },
  {
   "cell_type": "markdown",
   "metadata": {
    "id": "EXFKbLv2v2Oo"
   },
   "source": [
    "\n",
    "\n",
    "> revisit normalization for this section - consider normalizing in range -1 and 1 --- Not done yet\n",
    "\n"
   ]
  },
  {
   "cell_type": "code",
   "execution_count": 62,
   "metadata": {
    "id": "vBqeCkNEsQDy"
   },
   "outputs": [],
   "source": [
    "for s in stocks:\n",
    "    ScriptWiseData[s]['Stock_Returns'] = ScriptWiseData[s]['Close'].pct_change(1).mul(100) \n",
    "    ScriptWiseData[s] = ScriptWiseData[s][1:] # Because of NAN first value"
   ]
  },
  {
   "cell_type": "code",
   "execution_count": 63,
   "metadata": {
    "id": "muFSqcxGsQDz",
    "outputId": "a71ae8e9-028a-49f0-fa23-98bdccba682b"
   },
   "outputs": [
    {
     "data": {
      "text/html": [
       "<div>\n",
       "<style scoped>\n",
       "    .dataframe tbody tr th:only-of-type {\n",
       "        vertical-align: middle;\n",
       "    }\n",
       "\n",
       "    .dataframe tbody tr th {\n",
       "        vertical-align: top;\n",
       "    }\n",
       "\n",
       "    .dataframe thead th {\n",
       "        text-align: right;\n",
       "    }\n",
       "</style>\n",
       "<table border=\"1\" class=\"dataframe\">\n",
       "  <thead>\n",
       "    <tr style=\"text-align: right;\">\n",
       "      <th></th>\n",
       "      <th></th>\n",
       "      <th>ADF test statistic</th>\n",
       "      <th>p-value</th>\n",
       "      <th># lags used</th>\n",
       "      <th>#observations</th>\n",
       "      <th>critical value (1%)</th>\n",
       "      <th>critical value (5%)</th>\n",
       "      <th>critical value (10%)</th>\n",
       "      <th>Result</th>\n",
       "    </tr>\n",
       "    <tr>\n",
       "      <th>Stock Name</th>\n",
       "      <th>Stock Code</th>\n",
       "      <th></th>\n",
       "      <th></th>\n",
       "      <th></th>\n",
       "      <th></th>\n",
       "      <th></th>\n",
       "      <th></th>\n",
       "      <th></th>\n",
       "      <th></th>\n",
       "    </tr>\n",
       "  </thead>\n",
       "  <tbody>\n",
       "    <tr>\n",
       "      <th>SUN PHARMACEUTICAL INDUSTRIES LTD.</th>\n",
       "      <th>BOM524715</th>\n",
       "      <td>-51.489152</td>\n",
       "      <td>0.0</td>\n",
       "      <td>1.0</td>\n",
       "      <td>5251.0</td>\n",
       "      <td>-3.431596</td>\n",
       "      <td>-2.862091</td>\n",
       "      <td>-2.567063</td>\n",
       "      <td>Stationary</td>\n",
       "    </tr>\n",
       "    <tr>\n",
       "      <th>DIVI'S LABORATORIES LTD.</th>\n",
       "      <th>BOM532488</th>\n",
       "      <td>-13.923122</td>\n",
       "      <td>0.0</td>\n",
       "      <td>23.0</td>\n",
       "      <td>4432.0</td>\n",
       "      <td>-3.431826</td>\n",
       "      <td>-2.862192</td>\n",
       "      <td>-2.567117</td>\n",
       "      <td>Stationary</td>\n",
       "    </tr>\n",
       "    <tr>\n",
       "      <th>DR.REDDY'S LABORATORIES LTD.</th>\n",
       "      <th>BOM500124</th>\n",
       "      <td>-71.618449</td>\n",
       "      <td>0.0</td>\n",
       "      <td>0.0</td>\n",
       "      <td>5253.0</td>\n",
       "      <td>-3.431595</td>\n",
       "      <td>-2.86209</td>\n",
       "      <td>-2.567063</td>\n",
       "      <td>Stationary</td>\n",
       "    </tr>\n",
       "    <tr>\n",
       "      <th>HDFC Bank Ltd</th>\n",
       "      <th>BOM500180</th>\n",
       "      <td>-54.580752</td>\n",
       "      <td>0.0</td>\n",
       "      <td>1.0</td>\n",
       "      <td>5252.0</td>\n",
       "      <td>-3.431596</td>\n",
       "      <td>-2.86209</td>\n",
       "      <td>-2.567063</td>\n",
       "      <td>Stationary</td>\n",
       "    </tr>\n",
       "    <tr>\n",
       "      <th>ICICI BANK LTD.</th>\n",
       "      <th>BOM532174</th>\n",
       "      <td>-32.126798</td>\n",
       "      <td>0.0</td>\n",
       "      <td>5.0</td>\n",
       "      <td>5247.0</td>\n",
       "      <td>-3.431597</td>\n",
       "      <td>-2.862091</td>\n",
       "      <td>-2.567063</td>\n",
       "      <td>Stationary</td>\n",
       "    </tr>\n",
       "  </tbody>\n",
       "</table>\n",
       "</div>"
      ],
      "text/plain": [
       "                                               ADF test statistic p-value  \\\n",
       "Stock Name                          Stock Code                              \n",
       "SUN PHARMACEUTICAL INDUSTRIES LTD.  BOM524715          -51.489152     0.0   \n",
       "DIVI'S LABORATORIES LTD.            BOM532488          -13.923122     0.0   \n",
       "DR.REDDY'S LABORATORIES LTD.        BOM500124          -71.618449     0.0   \n",
       "HDFC Bank Ltd                       BOM500180          -54.580752     0.0   \n",
       "ICICI BANK LTD.                     BOM532174          -32.126798     0.0   \n",
       "\n",
       "                                               # lags used #observations  \\\n",
       "Stock Name                          Stock Code                             \n",
       "SUN PHARMACEUTICAL INDUSTRIES LTD.  BOM524715          1.0        5251.0   \n",
       "DIVI'S LABORATORIES LTD.            BOM532488         23.0        4432.0   \n",
       "DR.REDDY'S LABORATORIES LTD.        BOM500124          0.0        5253.0   \n",
       "HDFC Bank Ltd                       BOM500180          1.0        5252.0   \n",
       "ICICI BANK LTD.                     BOM532174          5.0        5247.0   \n",
       "\n",
       "                                               critical value (1%)  \\\n",
       "Stock Name                          Stock Code                       \n",
       "SUN PHARMACEUTICAL INDUSTRIES LTD.  BOM524715            -3.431596   \n",
       "DIVI'S LABORATORIES LTD.            BOM532488            -3.431826   \n",
       "DR.REDDY'S LABORATORIES LTD.        BOM500124            -3.431595   \n",
       "HDFC Bank Ltd                       BOM500180            -3.431596   \n",
       "ICICI BANK LTD.                     BOM532174            -3.431597   \n",
       "\n",
       "                                               critical value (5%)  \\\n",
       "Stock Name                          Stock Code                       \n",
       "SUN PHARMACEUTICAL INDUSTRIES LTD.  BOM524715            -2.862091   \n",
       "DIVI'S LABORATORIES LTD.            BOM532488            -2.862192   \n",
       "DR.REDDY'S LABORATORIES LTD.        BOM500124             -2.86209   \n",
       "HDFC Bank Ltd                       BOM500180             -2.86209   \n",
       "ICICI BANK LTD.                     BOM532174            -2.862091   \n",
       "\n",
       "                                               critical value (10%)  \\\n",
       "Stock Name                          Stock Code                        \n",
       "SUN PHARMACEUTICAL INDUSTRIES LTD.  BOM524715             -2.567063   \n",
       "DIVI'S LABORATORIES LTD.            BOM532488             -2.567117   \n",
       "DR.REDDY'S LABORATORIES LTD.        BOM500124             -2.567063   \n",
       "HDFC Bank Ltd                       BOM500180             -2.567063   \n",
       "ICICI BANK LTD.                     BOM532174             -2.567063   \n",
       "\n",
       "                                                    Result  \n",
       "Stock Name                          Stock Code              \n",
       "SUN PHARMACEUTICAL INDUSTRIES LTD.  BOM524715   Stationary  \n",
       "DIVI'S LABORATORIES LTD.            BOM532488   Stationary  \n",
       "DR.REDDY'S LABORATORIES LTD.        BOM500124   Stationary  \n",
       "HDFC Bank Ltd                       BOM500180   Stationary  \n",
       "ICICI BANK LTD.                     BOM532174   Stationary  "
      ]
     },
     "execution_count": 63,
     "metadata": {},
     "output_type": "execute_result"
    }
   ],
   "source": [
    "stock = stocks[0]\n",
    "adf_testResult = pd.DataFrame(adf_test(ScriptWiseData[stocks[0]].Stock_Returns, stocks[0])[0], columns = ['Value']).transpose().set_index(['Stock Name', 'Stock Code'])\n",
    "for i in range(1, len(stocks)):\n",
    "    res = pd.DataFrame(adf_test(ScriptWiseData[stocks[i]].Stock_Returns, stocks[i])[0], columns = ['Value']).transpose().set_index(['Stock Name', 'Stock Code'])\n",
    "    adf_testResult = adf_testResult.append(res)\n",
    "adf_testResult['Result'] = adf_testResult['p-value'].apply(lambda x: 'Stationary' if x<0.05 else 'Non-Stationary')\n",
    "# adf_testResult.to_csv('Outputs/adfTestReturns.csv')\n",
    "# adf_testResult.to_csv('Outputs/adfTestReturns.csv')\n",
    "adf_testResult.head()"
   ]
  },
  {
   "cell_type": "markdown",
   "metadata": {
    "id": "IjUQArZOk9Er"
   },
   "source": [
    "### ARIMA for percentage Returns"
   ]
  },
  {
   "cell_type": "code",
   "execution_count": 64,
   "metadata": {
    "id": "YHfwbLOsk9Et"
   },
   "outputs": [],
   "source": [
    "try:\n",
    "    ArimaModelPricesResults_Returns = pd.read_csv('./Outputs/ArimaModelPricesResults_Returns.csv')\n",
    "except FileNotFoundError:\n",
    "    ArimaModelPricesResults_Returns = pd.DataFrame(columns=['Stationarity', 'Order', 'RMSE', 'MAPE', 'R2', 'Noise', 'Predictions Mean', 'Actual Mean', 'Model'], index = stocks)"
   ]
  },
  {
   "cell_type": "code",
   "execution_count": 65,
   "metadata": {
    "id": "6pNukXztlVtq"
   },
   "outputs": [
    {
     "name": "stdout",
     "output_type": "stream",
     "text": [
      "Working for Stock BOM524715\n",
      "Working for Stock BOM532488\n",
      "Working for Stock BOM500124\n",
      "Working for Stock BOM500180\n",
      "Working for Stock BOM532174\n",
      "Working for Stock BOM500247\n",
      "Working for Stock BOM500470\n",
      "Working for Stock BOM500228\n",
      "Working for Stock BOM500440\n",
      "Working for Stock BOM532977\n",
      "Working for Stock BOM500570\n",
      "Working for Stock BOM532500\n",
      "Working for Stock BOM500209\n",
      "Working for Stock BOM532540\n",
      "Working for Stock BOM507685\n"
     ]
    }
   ],
   "source": [
    "for stock in stocks:\n",
    "    try:\n",
    "        print(\"Working for Stock {}\".format(stock))\n",
    "        train_data, test_data = TrainTestSplitByDateRange(ScriptWiseData[stock])\n",
    "        feature = 'Stock_Returns'\n",
    "#         Order = CalculateAutoArima(stock, train_data, feature, p = 'p Closing Percentage', d = 'd Closing Percentage', q = 'q Closing Percentage')\n",
    "#         ARIMA_Model_Generic(StockCode= stock, data = ScriptWiseData, feature = feature, Results=ArimaModelPricesResults_Returns, Order=Order, train_data=train_data, test_data=test_data)\n",
    "    except Exception as e:\n",
    "        print(e)"
   ]
  },
  {
   "cell_type": "code",
   "execution_count": 66,
   "metadata": {
    "colab": {
     "base_uri": "https://localhost:8080/",
     "height": 509
    },
    "id": "jQTP_BRKMYgB",
    "outputId": "8aff7a70-2662-4f73-bb4a-6d060ba3d926",
    "scrolled": true
   },
   "outputs": [
    {
     "data": {
      "text/html": [
       "<div>\n",
       "<style scoped>\n",
       "    .dataframe tbody tr th:only-of-type {\n",
       "        vertical-align: middle;\n",
       "    }\n",
       "\n",
       "    .dataframe tbody tr th {\n",
       "        vertical-align: top;\n",
       "    }\n",
       "\n",
       "    .dataframe thead th {\n",
       "        text-align: right;\n",
       "    }\n",
       "</style>\n",
       "<table border=\"1\" class=\"dataframe\">\n",
       "  <thead>\n",
       "    <tr style=\"text-align: right;\">\n",
       "      <th></th>\n",
       "      <th>Unnamed: 0</th>\n",
       "      <th>Stock Name</th>\n",
       "      <th>RMSE</th>\n",
       "      <th>mape rounded</th>\n",
       "      <th>Adjusted R2</th>\n",
       "      <th>Noise</th>\n",
       "      <th>Predicted Mean</th>\n",
       "      <th>Actual Mean</th>\n",
       "      <th>Unnamed: 8</th>\n",
       "      <th>Actual Mean.1</th>\n",
       "      <th>Model</th>\n",
       "      <th>Result</th>\n",
       "    </tr>\n",
       "  </thead>\n",
       "  <tbody>\n",
       "    <tr>\n",
       "      <th>0</th>\n",
       "      <td>BOM524715</td>\n",
       "      <td>Sun Pharmaceutical Industries Ltd</td>\n",
       "      <td>2.4181</td>\n",
       "      <td>1.016600e+00</td>\n",
       "      <td>-0.0187</td>\n",
       "      <td>0.0006</td>\n",
       "      <td>0.0305</td>\n",
       "      <td>0.2057</td>\n",
       "      <td>NaN</td>\n",
       "      <td>0.205739</td>\n",
       "      <td>&lt;statsmodels.tsa.arima_model.ARMA object at 0x...</td>\n",
       "      <td>&lt;statsmodels.tsa.arima_model.ARMAResultsWrappe...</td>\n",
       "    </tr>\n",
       "    <tr>\n",
       "      <th>1</th>\n",
       "      <td>BOM532488</td>\n",
       "      <td>Divi's Laboratories Ltd.</td>\n",
       "      <td>2.3718</td>\n",
       "      <td>1.438800e+00</td>\n",
       "      <td>-0.0191</td>\n",
       "      <td>0.0003</td>\n",
       "      <td>0.1062</td>\n",
       "      <td>0.2202</td>\n",
       "      <td>NaN</td>\n",
       "      <td>0.220249</td>\n",
       "      <td>&lt;statsmodels.tsa.arima_model.ARMA object at 0x...</td>\n",
       "      <td>&lt;statsmodels.tsa.arima_model.ARMAResultsWrappe...</td>\n",
       "    </tr>\n",
       "    <tr>\n",
       "      <th>2</th>\n",
       "      <td>BOM500124</td>\n",
       "      <td>Dr. Reddy's Laboratories Ltd.</td>\n",
       "      <td>2.2545</td>\n",
       "      <td>1.032400e+00</td>\n",
       "      <td>-0.0194</td>\n",
       "      <td>0.0000</td>\n",
       "      <td>0.0436</td>\n",
       "      <td>0.1809</td>\n",
       "      <td>NaN</td>\n",
       "      <td>0.180882</td>\n",
       "      <td>&lt;statsmodels.tsa.arima_model.ARMA object at 0x...</td>\n",
       "      <td>&lt;statsmodels.tsa.arima_model.ARMAResultsWrappe...</td>\n",
       "    </tr>\n",
       "    <tr>\n",
       "      <th>3</th>\n",
       "      <td>BOM500180</td>\n",
       "      <td>HDFC Bank Ltd</td>\n",
       "      <td>2.6519</td>\n",
       "      <td>1.023100e+00</td>\n",
       "      <td>-0.0191</td>\n",
       "      <td>0.0003</td>\n",
       "      <td>0.0720</td>\n",
       "      <td>0.1257</td>\n",
       "      <td>NaN</td>\n",
       "      <td>0.125669</td>\n",
       "      <td>&lt;statsmodels.tsa.arima_model.ARMA object at 0x...</td>\n",
       "      <td>&lt;statsmodels.tsa.arima_model.ARMAResultsWrappe...</td>\n",
       "    </tr>\n",
       "    <tr>\n",
       "      <th>4</th>\n",
       "      <td>BOM532174</td>\n",
       "      <td>ICICI Bank Ltd.</td>\n",
       "      <td>0.0000</td>\n",
       "      <td>0.000000e+00</td>\n",
       "      <td>-0.0194</td>\n",
       "      <td>0.0000</td>\n",
       "      <td>0.0000</td>\n",
       "      <td>0.0000</td>\n",
       "      <td>NaN</td>\n",
       "      <td>NaN</td>\n",
       "      <td>NaN</td>\n",
       "      <td>NaN</td>\n",
       "    </tr>\n",
       "    <tr>\n",
       "      <th>5</th>\n",
       "      <td>BOM500247</td>\n",
       "      <td>Kotak Mahindra Bank Ltd.</td>\n",
       "      <td>2.9141</td>\n",
       "      <td>1.062700e+00</td>\n",
       "      <td>-0.0192</td>\n",
       "      <td>0.0002</td>\n",
       "      <td>0.1039</td>\n",
       "      <td>0.0901</td>\n",
       "      <td>NaN</td>\n",
       "      <td>0.090105</td>\n",
       "      <td>&lt;statsmodels.tsa.arima_model.ARMA object at 0x...</td>\n",
       "      <td>&lt;statsmodels.tsa.arima_model.ARMAResultsWrappe...</td>\n",
       "    </tr>\n",
       "    <tr>\n",
       "      <th>6</th>\n",
       "      <td>BOM500470</td>\n",
       "      <td>Tata Steel Ltd.</td>\n",
       "      <td>3.1102</td>\n",
       "      <td>1.010700e+00</td>\n",
       "      <td>-0.0158</td>\n",
       "      <td>0.0035</td>\n",
       "      <td>0.0564</td>\n",
       "      <td>0.3173</td>\n",
       "      <td>NaN</td>\n",
       "      <td>0.317305</td>\n",
       "      <td>&lt;statsmodels.tsa.arima_model.ARMA object at 0x...</td>\n",
       "      <td>&lt;statsmodels.tsa.arima_model.ARMAResultsWrappe...</td>\n",
       "    </tr>\n",
       "    <tr>\n",
       "      <th>7</th>\n",
       "      <td>BOM500228</td>\n",
       "      <td>JSW Steel Ltd.</td>\n",
       "      <td>3.1169</td>\n",
       "      <td>1.627800e+00</td>\n",
       "      <td>-0.0194</td>\n",
       "      <td>0.0000</td>\n",
       "      <td>0.5239</td>\n",
       "      <td>0.2888</td>\n",
       "      <td>NaN</td>\n",
       "      <td>0.288780</td>\n",
       "      <td>&lt;statsmodels.tsa.arima_model.ARMA object at 0x...</td>\n",
       "      <td>&lt;statsmodels.tsa.arima_model.ARMAResultsWrappe...</td>\n",
       "    </tr>\n",
       "    <tr>\n",
       "      <th>8</th>\n",
       "      <td>BOM500440</td>\n",
       "      <td>Hindalco Industries Ltd.</td>\n",
       "      <td>3.6821</td>\n",
       "      <td>9.859000e-01</td>\n",
       "      <td>-0.0175</td>\n",
       "      <td>0.0018</td>\n",
       "      <td>0.0272</td>\n",
       "      <td>0.3687</td>\n",
       "      <td>NaN</td>\n",
       "      <td>0.368711</td>\n",
       "      <td>&lt;statsmodels.tsa.arima_model.ARMA object at 0x...</td>\n",
       "      <td>&lt;statsmodels.tsa.arima_model.ARMAResultsWrappe...</td>\n",
       "    </tr>\n",
       "    <tr>\n",
       "      <th>9</th>\n",
       "      <td>BOM532977</td>\n",
       "      <td>Bajaj Auto Ltd.</td>\n",
       "      <td>2.4343</td>\n",
       "      <td>1.173900e+00</td>\n",
       "      <td>-0.0185</td>\n",
       "      <td>0.0008</td>\n",
       "      <td>0.0861</td>\n",
       "      <td>0.1336</td>\n",
       "      <td>NaN</td>\n",
       "      <td>0.133604</td>\n",
       "      <td>&lt;statsmodels.tsa.arima_model.ARMA object at 0x...</td>\n",
       "      <td>&lt;statsmodels.tsa.arima_model.ARMAResultsWrappe...</td>\n",
       "    </tr>\n",
       "    <tr>\n",
       "      <th>10</th>\n",
       "      <td>BOM500570</td>\n",
       "      <td>Tata Motors Ltd.</td>\n",
       "      <td>3.8525</td>\n",
       "      <td>9.806000e-01</td>\n",
       "      <td>-0.0139</td>\n",
       "      <td>0.0054</td>\n",
       "      <td>0.0480</td>\n",
       "      <td>0.4130</td>\n",
       "      <td>NaN</td>\n",
       "      <td>0.413048</td>\n",
       "      <td>&lt;statsmodels.tsa.arima_model.ARMA object at 0x...</td>\n",
       "      <td>&lt;statsmodels.tsa.arima_model.ARMAResultsWrappe...</td>\n",
       "    </tr>\n",
       "    <tr>\n",
       "      <th>11</th>\n",
       "      <td>BOM532500</td>\n",
       "      <td>Maruti Suzuki India Ltd.</td>\n",
       "      <td>2.9478</td>\n",
       "      <td>1.149800e+00</td>\n",
       "      <td>-0.0192</td>\n",
       "      <td>0.0001</td>\n",
       "      <td>0.1046</td>\n",
       "      <td>0.0944</td>\n",
       "      <td>NaN</td>\n",
       "      <td>0.094427</td>\n",
       "      <td>&lt;statsmodels.tsa.arima_model.ARMA object at 0x...</td>\n",
       "      <td>&lt;statsmodels.tsa.arima_model.ARMAResultsWrappe...</td>\n",
       "    </tr>\n",
       "    <tr>\n",
       "      <th>12</th>\n",
       "      <td>BOM500209</td>\n",
       "      <td>Infosys Ltd.</td>\n",
       "      <td>2.5059</td>\n",
       "      <td>9.944000e-01</td>\n",
       "      <td>-0.0170</td>\n",
       "      <td>0.0023</td>\n",
       "      <td>0.0065</td>\n",
       "      <td>0.2625</td>\n",
       "      <td>NaN</td>\n",
       "      <td>0.262543</td>\n",
       "      <td>&lt;statsmodels.tsa.arima_model.ARMA object at 0x...</td>\n",
       "      <td>&lt;statsmodels.tsa.arima_model.ARMAResultsWrappe...</td>\n",
       "    </tr>\n",
       "    <tr>\n",
       "      <th>13</th>\n",
       "      <td>BOM532540</td>\n",
       "      <td>Tata Consultancy Services Ltd.</td>\n",
       "      <td>2.2026</td>\n",
       "      <td>1.116800e+00</td>\n",
       "      <td>-0.0185</td>\n",
       "      <td>0.0009</td>\n",
       "      <td>0.0610</td>\n",
       "      <td>0.1954</td>\n",
       "      <td>NaN</td>\n",
       "      <td>0.195378</td>\n",
       "      <td>&lt;statsmodels.tsa.arima_model.ARMA object at 0x...</td>\n",
       "      <td>&lt;statsmodels.tsa.arima_model.ARMAResultsWrappe...</td>\n",
       "    </tr>\n",
       "    <tr>\n",
       "      <th>14</th>\n",
       "      <td>BOM507685</td>\n",
       "      <td>Wipro Ltd.</td>\n",
       "      <td>2.5439</td>\n",
       "      <td>4.349800e+11</td>\n",
       "      <td>-0.0156</td>\n",
       "      <td>0.0037</td>\n",
       "      <td>-0.0091</td>\n",
       "      <td>0.2712</td>\n",
       "      <td>NaN</td>\n",
       "      <td>0.271226</td>\n",
       "      <td>&lt;statsmodels.tsa.arima_model.ARMA object at 0x...</td>\n",
       "      <td>&lt;statsmodels.tsa.arima_model.ARMAResultsWrappe...</td>\n",
       "    </tr>\n",
       "    <tr>\n",
       "      <th>15</th>\n",
       "      <td>NaN</td>\n",
       "      <td>NaN</td>\n",
       "      <td>NaN</td>\n",
       "      <td>NaN</td>\n",
       "      <td>NaN</td>\n",
       "      <td>NaN</td>\n",
       "      <td>NaN</td>\n",
       "      <td>NaN</td>\n",
       "      <td>NaN</td>\n",
       "      <td>NaN</td>\n",
       "      <td>NaN</td>\n",
       "      <td>NaN</td>\n",
       "    </tr>\n",
       "    <tr>\n",
       "      <th>16</th>\n",
       "      <td>NaN</td>\n",
       "      <td>NaN</td>\n",
       "      <td>NaN</td>\n",
       "      <td>NaN</td>\n",
       "      <td>NaN</td>\n",
       "      <td>NaN</td>\n",
       "      <td>NaN</td>\n",
       "      <td>NaN</td>\n",
       "      <td>NaN</td>\n",
       "      <td>NaN</td>\n",
       "      <td>NaN</td>\n",
       "      <td>NaN</td>\n",
       "    </tr>\n",
       "    <tr>\n",
       "      <th>17</th>\n",
       "      <td>n = 264</td>\n",
       "      <td>264</td>\n",
       "      <td>NaN</td>\n",
       "      <td>NaN</td>\n",
       "      <td>NaN</td>\n",
       "      <td>NaN</td>\n",
       "      <td>NaN</td>\n",
       "      <td>NaN</td>\n",
       "      <td>NaN</td>\n",
       "      <td>NaN</td>\n",
       "      <td>NaN</td>\n",
       "      <td>NaN</td>\n",
       "    </tr>\n",
       "    <tr>\n",
       "      <th>18</th>\n",
       "      <td>p</td>\n",
       "      <td>5</td>\n",
       "      <td>NaN</td>\n",
       "      <td>NaN</td>\n",
       "      <td>-0.0194</td>\n",
       "      <td>NaN</td>\n",
       "      <td>NaN</td>\n",
       "      <td>NaN</td>\n",
       "      <td>NaN</td>\n",
       "      <td>NaN</td>\n",
       "      <td>NaN</td>\n",
       "      <td>NaN</td>\n",
       "    </tr>\n",
       "  </tbody>\n",
       "</table>\n",
       "</div>"
      ],
      "text/plain": [
       "   Unnamed: 0                         Stock Name    RMSE  mape rounded  \\\n",
       "0   BOM524715  Sun Pharmaceutical Industries Ltd  2.4181  1.016600e+00   \n",
       "1   BOM532488           Divi's Laboratories Ltd.  2.3718  1.438800e+00   \n",
       "2   BOM500124      Dr. Reddy's Laboratories Ltd.  2.2545  1.032400e+00   \n",
       "3   BOM500180                      HDFC Bank Ltd  2.6519  1.023100e+00   \n",
       "4   BOM532174                    ICICI Bank Ltd.  0.0000  0.000000e+00   \n",
       "5   BOM500247           Kotak Mahindra Bank Ltd.  2.9141  1.062700e+00   \n",
       "6   BOM500470                    Tata Steel Ltd.  3.1102  1.010700e+00   \n",
       "7   BOM500228                     JSW Steel Ltd.  3.1169  1.627800e+00   \n",
       "8   BOM500440           Hindalco Industries Ltd.  3.6821  9.859000e-01   \n",
       "9   BOM532977                    Bajaj Auto Ltd.  2.4343  1.173900e+00   \n",
       "10  BOM500570                   Tata Motors Ltd.  3.8525  9.806000e-01   \n",
       "11  BOM532500           Maruti Suzuki India Ltd.  2.9478  1.149800e+00   \n",
       "12  BOM500209                       Infosys Ltd.  2.5059  9.944000e-01   \n",
       "13  BOM532540     Tata Consultancy Services Ltd.  2.2026  1.116800e+00   \n",
       "14  BOM507685                         Wipro Ltd.  2.5439  4.349800e+11   \n",
       "15        NaN                                NaN     NaN           NaN   \n",
       "16        NaN                                NaN     NaN           NaN   \n",
       "17    n = 264                                264     NaN           NaN   \n",
       "18          p                                  5     NaN           NaN   \n",
       "\n",
       "    Adjusted R2   Noise  Predicted Mean  Actual Mean  Unnamed: 8  \\\n",
       "0       -0.0187  0.0006          0.0305       0.2057         NaN   \n",
       "1       -0.0191  0.0003          0.1062       0.2202         NaN   \n",
       "2       -0.0194  0.0000          0.0436       0.1809         NaN   \n",
       "3       -0.0191  0.0003          0.0720       0.1257         NaN   \n",
       "4       -0.0194  0.0000          0.0000       0.0000         NaN   \n",
       "5       -0.0192  0.0002          0.1039       0.0901         NaN   \n",
       "6       -0.0158  0.0035          0.0564       0.3173         NaN   \n",
       "7       -0.0194  0.0000          0.5239       0.2888         NaN   \n",
       "8       -0.0175  0.0018          0.0272       0.3687         NaN   \n",
       "9       -0.0185  0.0008          0.0861       0.1336         NaN   \n",
       "10      -0.0139  0.0054          0.0480       0.4130         NaN   \n",
       "11      -0.0192  0.0001          0.1046       0.0944         NaN   \n",
       "12      -0.0170  0.0023          0.0065       0.2625         NaN   \n",
       "13      -0.0185  0.0009          0.0610       0.1954         NaN   \n",
       "14      -0.0156  0.0037         -0.0091       0.2712         NaN   \n",
       "15          NaN     NaN             NaN          NaN         NaN   \n",
       "16          NaN     NaN             NaN          NaN         NaN   \n",
       "17          NaN     NaN             NaN          NaN         NaN   \n",
       "18      -0.0194     NaN             NaN          NaN         NaN   \n",
       "\n",
       "    Actual Mean.1                                              Model  \\\n",
       "0        0.205739  <statsmodels.tsa.arima_model.ARMA object at 0x...   \n",
       "1        0.220249  <statsmodels.tsa.arima_model.ARMA object at 0x...   \n",
       "2        0.180882  <statsmodels.tsa.arima_model.ARMA object at 0x...   \n",
       "3        0.125669  <statsmodels.tsa.arima_model.ARMA object at 0x...   \n",
       "4             NaN                                                NaN   \n",
       "5        0.090105  <statsmodels.tsa.arima_model.ARMA object at 0x...   \n",
       "6        0.317305  <statsmodels.tsa.arima_model.ARMA object at 0x...   \n",
       "7        0.288780  <statsmodels.tsa.arima_model.ARMA object at 0x...   \n",
       "8        0.368711  <statsmodels.tsa.arima_model.ARMA object at 0x...   \n",
       "9        0.133604  <statsmodels.tsa.arima_model.ARMA object at 0x...   \n",
       "10       0.413048  <statsmodels.tsa.arima_model.ARMA object at 0x...   \n",
       "11       0.094427  <statsmodels.tsa.arima_model.ARMA object at 0x...   \n",
       "12       0.262543  <statsmodels.tsa.arima_model.ARMA object at 0x...   \n",
       "13       0.195378  <statsmodels.tsa.arima_model.ARMA object at 0x...   \n",
       "14       0.271226  <statsmodels.tsa.arima_model.ARMA object at 0x...   \n",
       "15            NaN                                                NaN   \n",
       "16            NaN                                                NaN   \n",
       "17            NaN                                                NaN   \n",
       "18            NaN                                                NaN   \n",
       "\n",
       "                                               Result  \n",
       "0   <statsmodels.tsa.arima_model.ARMAResultsWrappe...  \n",
       "1   <statsmodels.tsa.arima_model.ARMAResultsWrappe...  \n",
       "2   <statsmodels.tsa.arima_model.ARMAResultsWrappe...  \n",
       "3   <statsmodels.tsa.arima_model.ARMAResultsWrappe...  \n",
       "4                                                 NaN  \n",
       "5   <statsmodels.tsa.arima_model.ARMAResultsWrappe...  \n",
       "6   <statsmodels.tsa.arima_model.ARMAResultsWrappe...  \n",
       "7   <statsmodels.tsa.arima_model.ARMAResultsWrappe...  \n",
       "8   <statsmodels.tsa.arima_model.ARMAResultsWrappe...  \n",
       "9   <statsmodels.tsa.arima_model.ARMAResultsWrappe...  \n",
       "10  <statsmodels.tsa.arima_model.ARMAResultsWrappe...  \n",
       "11  <statsmodels.tsa.arima_model.ARMAResultsWrappe...  \n",
       "12  <statsmodels.tsa.arima_model.ARMAResultsWrappe...  \n",
       "13  <statsmodels.tsa.arima_model.ARMAResultsWrappe...  \n",
       "14  <statsmodels.tsa.arima_model.ARMAResultsWrappe...  \n",
       "15                                                NaN  \n",
       "16                                                NaN  \n",
       "17                                                NaN  \n",
       "18                                                NaN  "
      ]
     },
     "execution_count": 66,
     "metadata": {},
     "output_type": "execute_result"
    }
   ],
   "source": [
    "ArimaModelPricesResults_Returns"
   ]
  },
  {
   "cell_type": "code",
   "execution_count": 67,
   "metadata": {
    "id": "Fqc10UbCcSBU"
   },
   "outputs": [],
   "source": [
    "# ArimaModelPricesResults_Returns.to_csv('./Outputs/ArimaModelPricesResults_Returns.csv')"
   ]
  },
  {
   "cell_type": "code",
   "execution_count": 68,
   "metadata": {
    "id": "FiZPD4yPMQuz"
   },
   "outputs": [],
   "source": [
    "# AutoArimaResults.to_csv('Outputs/AutoArimaResults.csv')"
   ]
  },
  {
   "cell_type": "markdown",
   "metadata": {
    "id": "GL8MHVRhsQEE"
   },
   "source": [
    "### ARIMAX"
   ]
  },
  {
   "cell_type": "markdown",
   "metadata": {
    "id": "hJNPShtN1N-M"
   },
   "source": [
    "### Auto ARIMA DataFrame\n"
   ]
  },
  {
   "cell_type": "code",
   "execution_count": 69,
   "metadata": {
    "id": "vTq4-k9O1N-M"
   },
   "outputs": [],
   "source": [
    "from statsmodels.tsa.arima_model import ARIMA\n",
    "from pmdarima.arima import auto_arima"
   ]
  },
  {
   "cell_type": "code",
   "execution_count": 70,
   "metadata": {
    "colab": {
     "base_uri": "https://localhost:8080/",
     "height": 526
    },
    "id": "uuCB1enT1N-N",
    "outputId": "37fae579-66fc-45ce-e5d0-1ae8ad75507e"
   },
   "outputs": [
    {
     "data": {
      "text/html": [
       "<div>\n",
       "<style scoped>\n",
       "    .dataframe tbody tr th:only-of-type {\n",
       "        vertical-align: middle;\n",
       "    }\n",
       "\n",
       "    .dataframe tbody tr th {\n",
       "        vertical-align: top;\n",
       "    }\n",
       "\n",
       "    .dataframe thead th {\n",
       "        text-align: right;\n",
       "    }\n",
       "</style>\n",
       "<table border=\"1\" class=\"dataframe\">\n",
       "  <thead>\n",
       "    <tr style=\"text-align: right;\">\n",
       "      <th></th>\n",
       "      <th>Unnamed: 0</th>\n",
       "      <th>p Closing Values</th>\n",
       "      <th>d Closing Values</th>\n",
       "      <th>q Closing Values</th>\n",
       "      <th>p N Closing Values</th>\n",
       "      <th>d N Closing Values</th>\n",
       "      <th>q N Closing Values</th>\n",
       "      <th>p Closing Percentage</th>\n",
       "      <th>d Closing Percentage</th>\n",
       "      <th>q Closing Percentage</th>\n",
       "    </tr>\n",
       "  </thead>\n",
       "  <tbody>\n",
       "    <tr>\n",
       "      <th>0</th>\n",
       "      <td>BOM524715</td>\n",
       "      <td>0</td>\n",
       "      <td>1</td>\n",
       "      <td>1</td>\n",
       "      <td>0</td>\n",
       "      <td>1</td>\n",
       "      <td>1</td>\n",
       "      <td>1</td>\n",
       "      <td>0</td>\n",
       "      <td>2</td>\n",
       "    </tr>\n",
       "    <tr>\n",
       "      <th>1</th>\n",
       "      <td>BOM532488</td>\n",
       "      <td>1</td>\n",
       "      <td>1</td>\n",
       "      <td>3</td>\n",
       "      <td>1</td>\n",
       "      <td>1</td>\n",
       "      <td>3</td>\n",
       "      <td>3</td>\n",
       "      <td>0</td>\n",
       "      <td>1</td>\n",
       "    </tr>\n",
       "    <tr>\n",
       "      <th>2</th>\n",
       "      <td>BOM500124</td>\n",
       "      <td>2</td>\n",
       "      <td>1</td>\n",
       "      <td>2</td>\n",
       "      <td>1</td>\n",
       "      <td>1</td>\n",
       "      <td>0</td>\n",
       "      <td>0</td>\n",
       "      <td>0</td>\n",
       "      <td>0</td>\n",
       "    </tr>\n",
       "    <tr>\n",
       "      <th>3</th>\n",
       "      <td>BOM500180</td>\n",
       "      <td>0</td>\n",
       "      <td>1</td>\n",
       "      <td>0</td>\n",
       "      <td>0</td>\n",
       "      <td>1</td>\n",
       "      <td>0</td>\n",
       "      <td>1</td>\n",
       "      <td>0</td>\n",
       "      <td>1</td>\n",
       "    </tr>\n",
       "    <tr>\n",
       "      <th>4</th>\n",
       "      <td>BOM532174</td>\n",
       "      <td>2</td>\n",
       "      <td>1</td>\n",
       "      <td>1</td>\n",
       "      <td>2</td>\n",
       "      <td>1</td>\n",
       "      <td>1</td>\n",
       "      <td>2</td>\n",
       "      <td>0</td>\n",
       "      <td>4</td>\n",
       "    </tr>\n",
       "    <tr>\n",
       "      <th>5</th>\n",
       "      <td>BOM500247</td>\n",
       "      <td>1</td>\n",
       "      <td>1</td>\n",
       "      <td>2</td>\n",
       "      <td>1</td>\n",
       "      <td>1</td>\n",
       "      <td>2</td>\n",
       "      <td>0</td>\n",
       "      <td>0</td>\n",
       "      <td>1</td>\n",
       "    </tr>\n",
       "    <tr>\n",
       "      <th>6</th>\n",
       "      <td>BOM500470</td>\n",
       "      <td>2</td>\n",
       "      <td>1</td>\n",
       "      <td>2</td>\n",
       "      <td>2</td>\n",
       "      <td>1</td>\n",
       "      <td>2</td>\n",
       "      <td>2</td>\n",
       "      <td>0</td>\n",
       "      <td>2</td>\n",
       "    </tr>\n",
       "    <tr>\n",
       "      <th>7</th>\n",
       "      <td>BOM500228</td>\n",
       "      <td>0</td>\n",
       "      <td>1</td>\n",
       "      <td>0</td>\n",
       "      <td>0</td>\n",
       "      <td>1</td>\n",
       "      <td>0</td>\n",
       "      <td>0</td>\n",
       "      <td>0</td>\n",
       "      <td>0</td>\n",
       "    </tr>\n",
       "    <tr>\n",
       "      <th>8</th>\n",
       "      <td>BOM500440</td>\n",
       "      <td>0</td>\n",
       "      <td>1</td>\n",
       "      <td>0</td>\n",
       "      <td>0</td>\n",
       "      <td>1</td>\n",
       "      <td>0</td>\n",
       "      <td>2</td>\n",
       "      <td>0</td>\n",
       "      <td>2</td>\n",
       "    </tr>\n",
       "    <tr>\n",
       "      <th>9</th>\n",
       "      <td>BOM532977</td>\n",
       "      <td>1</td>\n",
       "      <td>1</td>\n",
       "      <td>2</td>\n",
       "      <td>1</td>\n",
       "      <td>1</td>\n",
       "      <td>2</td>\n",
       "      <td>0</td>\n",
       "      <td>0</td>\n",
       "      <td>1</td>\n",
       "    </tr>\n",
       "    <tr>\n",
       "      <th>10</th>\n",
       "      <td>BOM500570</td>\n",
       "      <td>2</td>\n",
       "      <td>1</td>\n",
       "      <td>2</td>\n",
       "      <td>2</td>\n",
       "      <td>1</td>\n",
       "      <td>2</td>\n",
       "      <td>3</td>\n",
       "      <td>0</td>\n",
       "      <td>4</td>\n",
       "    </tr>\n",
       "    <tr>\n",
       "      <th>11</th>\n",
       "      <td>BOM532500</td>\n",
       "      <td>2</td>\n",
       "      <td>1</td>\n",
       "      <td>2</td>\n",
       "      <td>2</td>\n",
       "      <td>1</td>\n",
       "      <td>2</td>\n",
       "      <td>2</td>\n",
       "      <td>0</td>\n",
       "      <td>2</td>\n",
       "    </tr>\n",
       "    <tr>\n",
       "      <th>12</th>\n",
       "      <td>BOM500209</td>\n",
       "      <td>3</td>\n",
       "      <td>1</td>\n",
       "      <td>2</td>\n",
       "      <td>3</td>\n",
       "      <td>1</td>\n",
       "      <td>2</td>\n",
       "      <td>2</td>\n",
       "      <td>0</td>\n",
       "      <td>2</td>\n",
       "    </tr>\n",
       "    <tr>\n",
       "      <th>13</th>\n",
       "      <td>BOM532540</td>\n",
       "      <td>2</td>\n",
       "      <td>1</td>\n",
       "      <td>2</td>\n",
       "      <td>2</td>\n",
       "      <td>1</td>\n",
       "      <td>2</td>\n",
       "      <td>1</td>\n",
       "      <td>0</td>\n",
       "      <td>2</td>\n",
       "    </tr>\n",
       "    <tr>\n",
       "      <th>14</th>\n",
       "      <td>BOM507685</td>\n",
       "      <td>2</td>\n",
       "      <td>1</td>\n",
       "      <td>3</td>\n",
       "      <td>5</td>\n",
       "      <td>1</td>\n",
       "      <td>3</td>\n",
       "      <td>2</td>\n",
       "      <td>0</td>\n",
       "      <td>2</td>\n",
       "    </tr>\n",
       "  </tbody>\n",
       "</table>\n",
       "</div>"
      ],
      "text/plain": [
       "   Unnamed: 0  p Closing Values  d Closing Values  q Closing Values  \\\n",
       "0   BOM524715                 0                 1                 1   \n",
       "1   BOM532488                 1                 1                 3   \n",
       "2   BOM500124                 2                 1                 2   \n",
       "3   BOM500180                 0                 1                 0   \n",
       "4   BOM532174                 2                 1                 1   \n",
       "5   BOM500247                 1                 1                 2   \n",
       "6   BOM500470                 2                 1                 2   \n",
       "7   BOM500228                 0                 1                 0   \n",
       "8   BOM500440                 0                 1                 0   \n",
       "9   BOM532977                 1                 1                 2   \n",
       "10  BOM500570                 2                 1                 2   \n",
       "11  BOM532500                 2                 1                 2   \n",
       "12  BOM500209                 3                 1                 2   \n",
       "13  BOM532540                 2                 1                 2   \n",
       "14  BOM507685                 2                 1                 3   \n",
       "\n",
       "    p N Closing Values  d N Closing Values  q N Closing Values  \\\n",
       "0                    0                   1                   1   \n",
       "1                    1                   1                   3   \n",
       "2                    1                   1                   0   \n",
       "3                    0                   1                   0   \n",
       "4                    2                   1                   1   \n",
       "5                    1                   1                   2   \n",
       "6                    2                   1                   2   \n",
       "7                    0                   1                   0   \n",
       "8                    0                   1                   0   \n",
       "9                    1                   1                   2   \n",
       "10                   2                   1                   2   \n",
       "11                   2                   1                   2   \n",
       "12                   3                   1                   2   \n",
       "13                   2                   1                   2   \n",
       "14                   5                   1                   3   \n",
       "\n",
       "    p Closing Percentage  d Closing Percentage  q Closing Percentage  \n",
       "0                      1                     0                     2  \n",
       "1                      3                     0                     1  \n",
       "2                      0                     0                     0  \n",
       "3                      1                     0                     1  \n",
       "4                      2                     0                     4  \n",
       "5                      0                     0                     1  \n",
       "6                      2                     0                     2  \n",
       "7                      0                     0                     0  \n",
       "8                      2                     0                     2  \n",
       "9                      0                     0                     1  \n",
       "10                     3                     0                     4  \n",
       "11                     2                     0                     2  \n",
       "12                     2                     0                     2  \n",
       "13                     1                     0                     2  \n",
       "14                     2                     0                     2  "
      ]
     },
     "execution_count": 70,
     "metadata": {},
     "output_type": "execute_result"
    }
   ],
   "source": [
    "try:\n",
    "    AutoArimaResultsForArimax = pd.read_csv('./Outputs/AutoArimaResultsForArimax.csv')\n",
    "except FileNotFoundError:\n",
    "    AutoArimaResultsForArimax = pd.DataFrame(columns=['p Closing Values', 'd Closing Values', 'q Closing Values','p N Closing Values', 'd N Closing Values', 'q N Closing Values','p Closing Percentage', 'd Closing Percentage', 'q Closing Percentage'], index = stocks)\n",
    "\n",
    "AutoArimaResultsForArimax"
   ]
  },
  {
   "cell_type": "code",
   "execution_count": 71,
   "metadata": {
    "id": "p3PP86kG1N-O"
   },
   "outputs": [],
   "source": [
    "def CalculateAutoArimaForArimax(stockcode, data, parameter ,p ,d,q):\n",
    "    if(AutoArimaResultsForArimax.loc[:, [p, d, q]].isnull().sum(axis=1)[stockcode] > 0):\n",
    "        params = auto_arima(data[parameter], exog = data[TechnicalIndicators], maxiter = 1000)\n",
    "        AutoArimaResultsForArimax.loc[stockcode, [p,d,q]] = params.order\n",
    "        return params.order\n",
    "    else:\n",
    "        return tuple(AutoArimaResultsForArimax.loc[stockcode, [p, d, q]])"
   ]
  },
  {
   "cell_type": "markdown",
   "metadata": {
    "id": "vKv2_Fh6bpRl"
   },
   "source": [
    "#### Generic Function for ARIMAX"
   ]
  },
  {
   "cell_type": "code",
   "execution_count": 72,
   "metadata": {
    "id": "CmyPVaT8kBA8"
   },
   "outputs": [],
   "source": [
    "def ARIMAX_Model_Generic(StockCode, data, feature, Results, Order, train_data, test_data, extra_indicators):\n",
    "    print(\"Modeling for the Stock: {}\".format(StockCode))\n",
    "\n",
    "    start = len(train_data)\n",
    "    end = len(train_data) + len(test_data) - 1\n",
    "\n",
    "#     print(\"ADF Test for the given series.\")\n",
    "#     adf, Stationarity = adf_test(train_data[feature], title=StockCode)\n",
    "#     print(adf)\n",
    "#     print('----------------------------------------------------------------------------')\n",
    "#     Results.loc[StockCode,'Stationarity'] = Stationarity\n",
    "\n",
    "    exog_train = train_data[extra_indicators]\n",
    "    model = ARIMA(endog = train_data[feature], exog = exog_train , order = Order)\n",
    "    results = model.fit()\n",
    "    print(results.params)\n",
    "    print(\"Order: \" + str(Order) )\n",
    "    print('---------------------------------------------------------------------------')\n",
    "    Results.loc[StockCode, 'Order'] = str(Order)\n",
    "\n",
    "    exog_test = test_data[extra_indicators]\n",
    "    predictions = results.predict(start = start, end = end, typ ='levels', exog=exog_test)\n",
    "    predictions = modified_prediction_frame(predictions, test_data[feature].index)\n",
    "\n",
    "    predictions.plot(figsize=(12,8), legend=True)\n",
    "    test_data[feature].plot(figsize = (12,8), legend=True)\n",
    "\n",
    "    errorEval = errorEvaluation(test_data[feature], predictions)\n",
    "    RMSE, MAPE, R2, Noise = errorEval\n",
    "    Results.loc[StockCode, ['RMSE', 'MAPE', 'R2', 'Noise']] = errorEval\n",
    "    Results.loc[StockCode, 'Model'] = model\n",
    "    Results.loc[StockCode, 'Result'] = results\n",
    "\n",
    "    print(\"RMSE: {0} \\nMape: {1} \\nR2: {2} \\nNoise: {3}\".format(RMSE, MAPE, R2, Noise))\n",
    "    print('---------------------------------------------------------------------------')\n",
    "\n",
    "    print('Description of the Predicted Data')\n",
    "    print(predictions.describe())\n",
    "    pred_mean = predictions.mean(numeric_only=True)\n",
    "    Results.loc[StockCode, 'Predictions Mean'] = str(float(pred_mean))\n",
    "    print('---------------------------------------------------------------------------')\n",
    "\n",
    "    print('Description of the Actual Data')\n",
    "    print(test_data[feature].describe())\n",
    "    Results.loc[StockCode, 'Actual Mean'] = str(test_data[feature].mean())\n",
    "    return predictions"
   ]
  },
  {
   "cell_type": "markdown",
   "metadata": {
    "id": "ybfb39Iqbtas"
   },
   "source": [
    "## ARIMAX for Closing Prices"
   ]
  },
  {
   "cell_type": "code",
   "execution_count": 73,
   "metadata": {
    "id": "D-JhsYLWnL0a"
   },
   "outputs": [],
   "source": [
    "try:\n",
    "    ArimaxModelPricesResults = pd.read_csv('./Outputs/ArimaxModelPricesResults.csv')\n",
    "except FileNotFoundError:\n",
    "    ArimaxModelPricesResults = pd.DataFrame(columns=['Stationarity', 'Order', 'RMSE', 'MAPE', 'R2', 'Noise', 'Predictions Mean', 'Actual Mean', 'Model'], index = stocks)"
   ]
  },
  {
   "cell_type": "code",
   "execution_count": 74,
   "metadata": {
    "id": "oAl_p1ClnL0c"
   },
   "outputs": [
    {
     "name": "stdout",
     "output_type": "stream",
     "text": [
      "Working for Stock BOM524715\n",
      "Working for Stock BOM532488\n",
      "Working for Stock BOM500124\n",
      "Working for Stock BOM500180\n",
      "Working for Stock BOM532174\n",
      "Working for Stock BOM500247\n",
      "Working for Stock BOM500470\n",
      "Working for Stock BOM500228\n",
      "Working for Stock BOM500440\n",
      "Working for Stock BOM532977\n",
      "Working for Stock BOM500570\n",
      "Working for Stock BOM532500\n",
      "Working for Stock BOM500209\n",
      "Working for Stock BOM532540\n",
      "Working for Stock BOM507685\n"
     ]
    }
   ],
   "source": [
    "for stock in stocks:\n",
    "    print(\"Working for Stock {}\".format(stock))\n",
    "    train_data, test_data = TrainTestSplitByDateRange(ScriptWiseData[stock])\n",
    "    feature = 'Close'\n",
    "#     Order = CalculateAutoArimaForArimax(stock, train_data, feature,  p= 'p Closing Values',d = 'd Closing Values', q = 'q Closing Values')\n",
    "#     ARIMAX_Model_Generic(StockCode = stock, data = ScriptWiseData, feature = feature, Results=ArimaxModelPricesResults, Order=Order, train_data=train_data, test_data=test_data,extra_indicators = TechnicalIndicators )"
   ]
  },
  {
   "cell_type": "markdown",
   "metadata": {
    "id": "6A-z01hQCxv3"
   },
   "source": [
    "### Please check this"
   ]
  },
  {
   "cell_type": "code",
   "execution_count": 75,
   "metadata": {
    "id": "wmykvhwKnL0c"
   },
   "outputs": [],
   "source": [
    "# ArimaxModelPricesResults.to_csv('./Outputs/ArimaxModelPricesResults.csv')"
   ]
  },
  {
   "cell_type": "code",
   "execution_count": 76,
   "metadata": {
    "id": "oDWW3QrLCxv4",
    "outputId": "7ba7e329-d1a2-4d5d-d75f-a4d048730f93"
   },
   "outputs": [
    {
     "data": {
      "text/html": [
       "<div>\n",
       "<style scoped>\n",
       "    .dataframe tbody tr th:only-of-type {\n",
       "        vertical-align: middle;\n",
       "    }\n",
       "\n",
       "    .dataframe tbody tr th {\n",
       "        vertical-align: top;\n",
       "    }\n",
       "\n",
       "    .dataframe thead th {\n",
       "        text-align: right;\n",
       "    }\n",
       "</style>\n",
       "<table border=\"1\" class=\"dataframe\">\n",
       "  <thead>\n",
       "    <tr style=\"text-align: right;\">\n",
       "      <th></th>\n",
       "      <th>Unnamed: 0</th>\n",
       "      <th>Stock Name</th>\n",
       "      <th>Adjusted RMSE</th>\n",
       "      <th>Adjusted MAPE</th>\n",
       "      <th>Adjusted R2</th>\n",
       "      <th>Rounded Noise</th>\n",
       "      <th>Noise</th>\n",
       "      <th>Predictions Mean</th>\n",
       "      <th>Actual Mean</th>\n",
       "      <th>Model</th>\n",
       "      <th>Result</th>\n",
       "    </tr>\n",
       "  </thead>\n",
       "  <tbody>\n",
       "    <tr>\n",
       "      <th>0</th>\n",
       "      <td>BOM524715</td>\n",
       "      <td>Sun Pharmaceutical Industries Ltd</td>\n",
       "      <td>317.3846</td>\n",
       "      <td>0.4627</td>\n",
       "      <td>-20.3748</td>\n",
       "      <td>5.0769</td>\n",
       "      <td>5.076907</td>\n",
       "      <td>682.530167</td>\n",
       "      <td>512.652841</td>\n",
       "      <td>&lt;statsmodels.tsa.arima_model.ARIMA object at 0...</td>\n",
       "      <td>&lt;statsmodels.tsa.arima_model.ARIMAResultsWrapp...</td>\n",
       "    </tr>\n",
       "    <tr>\n",
       "      <th>1</th>\n",
       "      <td>BOM532488</td>\n",
       "      <td>Divi's Laboratories Ltd.</td>\n",
       "      <td>4585.4947</td>\n",
       "      <td>1.2789</td>\n",
       "      <td>-55.9319</td>\n",
       "      <td>28.2324</td>\n",
       "      <td>28.232438</td>\n",
       "      <td>-1090.299098</td>\n",
       "      <td>2955.110795</td>\n",
       "      <td>&lt;statsmodels.tsa.arima_model.ARIMA object at 0...</td>\n",
       "      <td>&lt;statsmodels.tsa.arima_model.ARIMAResultsWrapp...</td>\n",
       "    </tr>\n",
       "    <tr>\n",
       "      <th>2</th>\n",
       "      <td>BOM500124</td>\n",
       "      <td>Dr. Reddy's Laboratories Ltd.</td>\n",
       "      <td>4271.7530</td>\n",
       "      <td>0.8283</td>\n",
       "      <td>-43.7299</td>\n",
       "      <td>17.9521</td>\n",
       "      <td>17.952109</td>\n",
       "      <td>558.137404</td>\n",
       "      <td>4398.125758</td>\n",
       "      <td>&lt;statsmodels.tsa.arima_model.ARIMA object at 0...</td>\n",
       "      <td>&lt;statsmodels.tsa.arima_model.ARIMAResultsWrapp...</td>\n",
       "    </tr>\n",
       "    <tr>\n",
       "      <th>3</th>\n",
       "      <td>BOM500180</td>\n",
       "      <td>HDFC Bank Ltd</td>\n",
       "      <td>373.0870</td>\n",
       "      <td>0.2836</td>\n",
       "      <td>-1.6661</td>\n",
       "      <td>5.4074</td>\n",
       "      <td>5.407412</td>\n",
       "      <td>858.010542</td>\n",
       "      <td>1191.321023</td>\n",
       "      <td>&lt;statsmodels.tsa.arima_model.ARIMA object at 0...</td>\n",
       "      <td>&lt;statsmodels.tsa.arima_model.ARIMAResultsWrapp...</td>\n",
       "    </tr>\n",
       "    <tr>\n",
       "      <th>4</th>\n",
       "      <td>BOM532174</td>\n",
       "      <td>ICICI Bank Ltd.</td>\n",
       "      <td>146.5415</td>\n",
       "      <td>0.2542</td>\n",
       "      <td>-1.0943</td>\n",
       "      <td>4.4142</td>\n",
       "      <td>4.414217</td>\n",
       "      <td>501.701473</td>\n",
       "      <td>431.724053</td>\n",
       "      <td>&lt;statsmodels.tsa.arima_model.ARIMA object at 0...</td>\n",
       "      <td>&lt;statsmodels.tsa.arima_model.ARIMAResultsWrapp...</td>\n",
       "    </tr>\n",
       "    <tr>\n",
       "      <th>5</th>\n",
       "      <td>BOM500247</td>\n",
       "      <td>Kotak Mahindra Bank Ltd.</td>\n",
       "      <td>378.7946</td>\n",
       "      <td>0.1924</td>\n",
       "      <td>-0.7479</td>\n",
       "      <td>3.2541</td>\n",
       "      <td>3.254100</td>\n",
       "      <td>1440.473051</td>\n",
       "      <td>1528.218750</td>\n",
       "      <td>&lt;statsmodels.tsa.arima_model.ARIMA object at 0...</td>\n",
       "      <td>&lt;statsmodels.tsa.arima_model.ARIMAResultsWrapp...</td>\n",
       "    </tr>\n",
       "    <tr>\n",
       "      <th>6</th>\n",
       "      <td>BOM500470</td>\n",
       "      <td>Tata Steel Ltd.</td>\n",
       "      <td>119.0272</td>\n",
       "      <td>0.2286</td>\n",
       "      <td>0.4320</td>\n",
       "      <td>3.7808</td>\n",
       "      <td>3.780754</td>\n",
       "      <td>555.059468</td>\n",
       "      <td>452.076326</td>\n",
       "      <td>&lt;statsmodels.tsa.arima_model.ARIMA object at 0...</td>\n",
       "      <td>&lt;statsmodels.tsa.arima_model.ARIMAResultsWrapp...</td>\n",
       "    </tr>\n",
       "    <tr>\n",
       "      <th>7</th>\n",
       "      <td>BOM500228</td>\n",
       "      <td>JSW Steel Ltd.</td>\n",
       "      <td>408.3543</td>\n",
       "      <td>0.9355</td>\n",
       "      <td>-19.6271</td>\n",
       "      <td>4.1485</td>\n",
       "      <td>4.148483</td>\n",
       "      <td>586.546117</td>\n",
       "      <td>281.715341</td>\n",
       "      <td>&lt;statsmodels.tsa.arima_model.ARIMA object at 0...</td>\n",
       "      <td>&lt;statsmodels.tsa.arima_model.ARIMAResultsWrapp...</td>\n",
       "    </tr>\n",
       "    <tr>\n",
       "      <th>8</th>\n",
       "      <td>BOM500440</td>\n",
       "      <td>Hindalco Industries Ltd.</td>\n",
       "      <td>199.1102</td>\n",
       "      <td>1.0832</td>\n",
       "      <td>-8.2465</td>\n",
       "      <td>3.4588</td>\n",
       "      <td>3.458808</td>\n",
       "      <td>-0.351375</td>\n",
       "      <td>192.293750</td>\n",
       "      <td>&lt;statsmodels.tsa.arima_model.ARIMA object at 0...</td>\n",
       "      <td>&lt;statsmodels.tsa.arima_model.ARIMAResultsWrapp...</td>\n",
       "    </tr>\n",
       "    <tr>\n",
       "      <th>9</th>\n",
       "      <td>BOM532977</td>\n",
       "      <td>Bajaj Auto Ltd.</td>\n",
       "      <td>2721.4440</td>\n",
       "      <td>0.7282</td>\n",
       "      <td>-26.5061</td>\n",
       "      <td>18.3689</td>\n",
       "      <td>18.368922</td>\n",
       "      <td>780.529731</td>\n",
       "      <td>3057.258144</td>\n",
       "      <td>&lt;statsmodels.tsa.arima_model.ARIMA object at 0...</td>\n",
       "      <td>&lt;statsmodels.tsa.arima_model.ARIMAResultsWrapp...</td>\n",
       "    </tr>\n",
       "    <tr>\n",
       "      <th>10</th>\n",
       "      <td>BOM500570</td>\n",
       "      <td>Tata Motors Ltd.</td>\n",
       "      <td>307.9904</td>\n",
       "      <td>1.3272</td>\n",
       "      <td>-14.0863</td>\n",
       "      <td>5.6643</td>\n",
       "      <td>5.664278</td>\n",
       "      <td>280.985837</td>\n",
       "      <td>156.645265</td>\n",
       "      <td>&lt;statsmodels.tsa.arima_model.ARIMA object at 0...</td>\n",
       "      <td>&lt;statsmodels.tsa.arima_model.ARIMAResultsWrapp...</td>\n",
       "    </tr>\n",
       "    <tr>\n",
       "      <th>11</th>\n",
       "      <td>BOM532500</td>\n",
       "      <td>Maruti Suzuki India Ltd.</td>\n",
       "      <td>936.8442</td>\n",
       "      <td>0.1332</td>\n",
       "      <td>0.0788</td>\n",
       "      <td>7.4497</td>\n",
       "      <td>7.449750</td>\n",
       "      <td>6479.859298</td>\n",
       "      <td>6530.981818</td>\n",
       "      <td>&lt;statsmodels.tsa.arima_model.ARIMA object at 0...</td>\n",
       "      <td>&lt;statsmodels.tsa.arima_model.ARIMAResultsWrapp...</td>\n",
       "    </tr>\n",
       "    <tr>\n",
       "      <th>12</th>\n",
       "      <td>BOM500209</td>\n",
       "      <td>Infosys Ltd.</td>\n",
       "      <td>2121.2104</td>\n",
       "      <td>1.5511</td>\n",
       "      <td>-71.7689</td>\n",
       "      <td>26.6379</td>\n",
       "      <td>26.637891</td>\n",
       "      <td>2390.982567</td>\n",
       "      <td>981.074811</td>\n",
       "      <td>&lt;statsmodels.tsa.arima_model.ARIMA object at 0...</td>\n",
       "      <td>&lt;statsmodels.tsa.arima_model.ARIMAResultsWrapp...</td>\n",
       "    </tr>\n",
       "    <tr>\n",
       "      <th>13</th>\n",
       "      <td>BOM532540</td>\n",
       "      <td>Tata Consultancy Services Ltd.</td>\n",
       "      <td>1643.8293</td>\n",
       "      <td>0.5449</td>\n",
       "      <td>-11.3549</td>\n",
       "      <td>12.0075</td>\n",
       "      <td>12.007538</td>\n",
       "      <td>1033.029870</td>\n",
       "      <td>2459.927273</td>\n",
       "      <td>&lt;statsmodels.tsa.arima_model.ARIMA object at 0...</td>\n",
       "      <td>&lt;statsmodels.tsa.arima_model.ARIMAResultsWrapp...</td>\n",
       "    </tr>\n",
       "    <tr>\n",
       "      <th>14</th>\n",
       "      <td>BOM507685</td>\n",
       "      <td>Wipro Ltd.</td>\n",
       "      <td>3380.3048</td>\n",
       "      <td>7.4569</td>\n",
       "      <td>-1462.8217</td>\n",
       "      <td>23.9361</td>\n",
       "      <td>23.936143</td>\n",
       "      <td>2956.049738</td>\n",
       "      <td>302.515152</td>\n",
       "      <td>&lt;statsmodels.tsa.arima_model.ARIMA object at 0...</td>\n",
       "      <td>&lt;statsmodels.tsa.arima_model.ARIMAResultsWrapp...</td>\n",
       "    </tr>\n",
       "  </tbody>\n",
       "</table>\n",
       "</div>"
      ],
      "text/plain": [
       "   Unnamed: 0                         Stock Name  Adjusted RMSE  \\\n",
       "0   BOM524715  Sun Pharmaceutical Industries Ltd       317.3846   \n",
       "1   BOM532488           Divi's Laboratories Ltd.      4585.4947   \n",
       "2   BOM500124      Dr. Reddy's Laboratories Ltd.      4271.7530   \n",
       "3   BOM500180                      HDFC Bank Ltd       373.0870   \n",
       "4   BOM532174                    ICICI Bank Ltd.       146.5415   \n",
       "5   BOM500247           Kotak Mahindra Bank Ltd.       378.7946   \n",
       "6   BOM500470                    Tata Steel Ltd.       119.0272   \n",
       "7   BOM500228                     JSW Steel Ltd.       408.3543   \n",
       "8   BOM500440           Hindalco Industries Ltd.       199.1102   \n",
       "9   BOM532977                    Bajaj Auto Ltd.      2721.4440   \n",
       "10  BOM500570                   Tata Motors Ltd.       307.9904   \n",
       "11  BOM532500           Maruti Suzuki India Ltd.       936.8442   \n",
       "12  BOM500209                       Infosys Ltd.      2121.2104   \n",
       "13  BOM532540     Tata Consultancy Services Ltd.      1643.8293   \n",
       "14  BOM507685                         Wipro Ltd.      3380.3048   \n",
       "\n",
       "    Adjusted MAPE  Adjusted R2  Rounded Noise      Noise  Predictions Mean  \\\n",
       "0          0.4627     -20.3748         5.0769   5.076907        682.530167   \n",
       "1          1.2789     -55.9319        28.2324  28.232438      -1090.299098   \n",
       "2          0.8283     -43.7299        17.9521  17.952109        558.137404   \n",
       "3          0.2836      -1.6661         5.4074   5.407412        858.010542   \n",
       "4          0.2542      -1.0943         4.4142   4.414217        501.701473   \n",
       "5          0.1924      -0.7479         3.2541   3.254100       1440.473051   \n",
       "6          0.2286       0.4320         3.7808   3.780754        555.059468   \n",
       "7          0.9355     -19.6271         4.1485   4.148483        586.546117   \n",
       "8          1.0832      -8.2465         3.4588   3.458808         -0.351375   \n",
       "9          0.7282     -26.5061        18.3689  18.368922        780.529731   \n",
       "10         1.3272     -14.0863         5.6643   5.664278        280.985837   \n",
       "11         0.1332       0.0788         7.4497   7.449750       6479.859298   \n",
       "12         1.5511     -71.7689        26.6379  26.637891       2390.982567   \n",
       "13         0.5449     -11.3549        12.0075  12.007538       1033.029870   \n",
       "14         7.4569   -1462.8217        23.9361  23.936143       2956.049738   \n",
       "\n",
       "    Actual Mean                                              Model  \\\n",
       "0    512.652841  <statsmodels.tsa.arima_model.ARIMA object at 0...   \n",
       "1   2955.110795  <statsmodels.tsa.arima_model.ARIMA object at 0...   \n",
       "2   4398.125758  <statsmodels.tsa.arima_model.ARIMA object at 0...   \n",
       "3   1191.321023  <statsmodels.tsa.arima_model.ARIMA object at 0...   \n",
       "4    431.724053  <statsmodels.tsa.arima_model.ARIMA object at 0...   \n",
       "5   1528.218750  <statsmodels.tsa.arima_model.ARIMA object at 0...   \n",
       "6    452.076326  <statsmodels.tsa.arima_model.ARIMA object at 0...   \n",
       "7    281.715341  <statsmodels.tsa.arima_model.ARIMA object at 0...   \n",
       "8    192.293750  <statsmodels.tsa.arima_model.ARIMA object at 0...   \n",
       "9   3057.258144  <statsmodels.tsa.arima_model.ARIMA object at 0...   \n",
       "10   156.645265  <statsmodels.tsa.arima_model.ARIMA object at 0...   \n",
       "11  6530.981818  <statsmodels.tsa.arima_model.ARIMA object at 0...   \n",
       "12   981.074811  <statsmodels.tsa.arima_model.ARIMA object at 0...   \n",
       "13  2459.927273  <statsmodels.tsa.arima_model.ARIMA object at 0...   \n",
       "14   302.515152  <statsmodels.tsa.arima_model.ARIMA object at 0...   \n",
       "\n",
       "                                               Result  \n",
       "0   <statsmodels.tsa.arima_model.ARIMAResultsWrapp...  \n",
       "1   <statsmodels.tsa.arima_model.ARIMAResultsWrapp...  \n",
       "2   <statsmodels.tsa.arima_model.ARIMAResultsWrapp...  \n",
       "3   <statsmodels.tsa.arima_model.ARIMAResultsWrapp...  \n",
       "4   <statsmodels.tsa.arima_model.ARIMAResultsWrapp...  \n",
       "5   <statsmodels.tsa.arima_model.ARIMAResultsWrapp...  \n",
       "6   <statsmodels.tsa.arima_model.ARIMAResultsWrapp...  \n",
       "7   <statsmodels.tsa.arima_model.ARIMAResultsWrapp...  \n",
       "8   <statsmodels.tsa.arima_model.ARIMAResultsWrapp...  \n",
       "9   <statsmodels.tsa.arima_model.ARIMAResultsWrapp...  \n",
       "10  <statsmodels.tsa.arima_model.ARIMAResultsWrapp...  \n",
       "11  <statsmodels.tsa.arima_model.ARIMAResultsWrapp...  \n",
       "12  <statsmodels.tsa.arima_model.ARIMAResultsWrapp...  \n",
       "13  <statsmodels.tsa.arima_model.ARIMAResultsWrapp...  \n",
       "14  <statsmodels.tsa.arima_model.ARIMAResultsWrapp...  "
      ]
     },
     "execution_count": 76,
     "metadata": {},
     "output_type": "execute_result"
    }
   ],
   "source": [
    "ArimaxModelPricesResults"
   ]
  },
  {
   "cell_type": "markdown",
   "metadata": {
    "id": "nTOtUdwVZ3OR"
   },
   "source": [
    "## ARIMAX Normalized Closing Prices"
   ]
  },
  {
   "cell_type": "code",
   "execution_count": 77,
   "metadata": {
    "id": "Sz4eXrsbZ3OS"
   },
   "outputs": [],
   "source": [
    "try:\n",
    "    ArimaxModelPricesResults_Norm = pd.read_csv('./Outputs/ArimaxModelPricesResults_Norm.csv')\n",
    "except FileNotFoundError:\n",
    "    ArimaxModelPricesResults_Norm = pd.DataFrame(columns=['Stationarity', 'Order', 'RMSE', 'MAPE', 'R2','Noise', 'Predictions Mean', 'Actual Mean', 'Model'], index = stocks)\n"
   ]
  },
  {
   "cell_type": "code",
   "execution_count": 78,
   "metadata": {},
   "outputs": [
    {
     "data": {
      "text/html": [
       "<div>\n",
       "<style scoped>\n",
       "    .dataframe tbody tr th:only-of-type {\n",
       "        vertical-align: middle;\n",
       "    }\n",
       "\n",
       "    .dataframe tbody tr th {\n",
       "        vertical-align: top;\n",
       "    }\n",
       "\n",
       "    .dataframe thead th {\n",
       "        text-align: right;\n",
       "    }\n",
       "</style>\n",
       "<table border=\"1\" class=\"dataframe\">\n",
       "  <thead>\n",
       "    <tr style=\"text-align: right;\">\n",
       "      <th></th>\n",
       "      <th>Unnamed: 0</th>\n",
       "      <th>Stationarity</th>\n",
       "      <th>Order</th>\n",
       "      <th>RMSE</th>\n",
       "      <th>MAPE</th>\n",
       "      <th>R2</th>\n",
       "      <th>Noise</th>\n",
       "      <th>Predictions Mean</th>\n",
       "      <th>Actual Mean</th>\n",
       "      <th>Model</th>\n",
       "      <th>Result</th>\n",
       "    </tr>\n",
       "  </thead>\n",
       "  <tbody>\n",
       "    <tr>\n",
       "      <th>0</th>\n",
       "      <td>BOM524715</td>\n",
       "      <td>Stationary</td>\n",
       "      <td>(0, 1, 1)</td>\n",
       "      <td>15.880054</td>\n",
       "      <td>0.494424</td>\n",
       "      <td>-23.622305</td>\n",
       "      <td>0.245063</td>\n",
       "      <td>32.776819</td>\n",
       "      <td>23.898785</td>\n",
       "      <td>&lt;statsmodels.tsa.arima_model.ARIMA object at 0...</td>\n",
       "      <td>&lt;statsmodels.tsa.arima_model.ARIMAResultsWrapp...</td>\n",
       "    </tr>\n",
       "    <tr>\n",
       "      <th>1</th>\n",
       "      <td>BOM532488</td>\n",
       "      <td>Stationary</td>\n",
       "      <td>(1, 1, 3)</td>\n",
       "      <td>1866.187344</td>\n",
       "      <td>1.355678</td>\n",
       "      <td>-62.891326</td>\n",
       "      <td>11.535535</td>\n",
       "      <td>-511.640878</td>\n",
       "      <td>1135.271147</td>\n",
       "      <td>&lt;statsmodels.tsa.arima_model.ARIMA object at 0...</td>\n",
       "      <td>&lt;statsmodels.tsa.arima_model.ARIMAResultsWrapp...</td>\n",
       "    </tr>\n",
       "    <tr>\n",
       "      <th>2</th>\n",
       "      <td>BOM500124</td>\n",
       "      <td>Non-Stationary</td>\n",
       "      <td>(1, 1, 0)</td>\n",
       "      <td>318.985106</td>\n",
       "      <td>0.873856</td>\n",
       "      <td>-48.938924</td>\n",
       "      <td>1.367077</td>\n",
       "      <td>24.449606</td>\n",
       "      <td>310.821608</td>\n",
       "      <td>&lt;statsmodels.tsa.arima_model.ARIMA object at 0...</td>\n",
       "      <td>&lt;statsmodels.tsa.arima_model.ARIMAResultsWrapp...</td>\n",
       "    </tr>\n",
       "    <tr>\n",
       "      <th>3</th>\n",
       "      <td>BOM500180</td>\n",
       "      <td>Non-Stationary</td>\n",
       "      <td>(0, 1, 0)</td>\n",
       "      <td>148.640408</td>\n",
       "      <td>0.283588</td>\n",
       "      <td>-1.666059</td>\n",
       "      <td>2.154347</td>\n",
       "      <td>341.836727</td>\n",
       "      <td>474.629890</td>\n",
       "      <td>&lt;statsmodels.tsa.arima_model.ARIMA object at 0...</td>\n",
       "      <td>&lt;statsmodels.tsa.arima_model.ARIMAResultsWrapp...</td>\n",
       "    </tr>\n",
       "    <tr>\n",
       "      <th>4</th>\n",
       "      <td>BOM532174</td>\n",
       "      <td>Non-Stationary</td>\n",
       "      <td>(2, 1, 1)</td>\n",
       "      <td>89.958297</td>\n",
       "      <td>0.265637</td>\n",
       "      <td>-1.292939</td>\n",
       "      <td>2.670613</td>\n",
       "      <td>294.995506</td>\n",
       "      <td>253.284865</td>\n",
       "      <td>&lt;statsmodels.tsa.arima_model.ARIMA object at 0...</td>\n",
       "      <td>&lt;statsmodels.tsa.arima_model.ARIMAResultsWrapp...</td>\n",
       "    </tr>\n",
       "    <tr>\n",
       "      <th>5</th>\n",
       "      <td>BOM500247</td>\n",
       "      <td>Non-Stationary</td>\n",
       "      <td>(1, 1, 2)</td>\n",
       "      <td>222.664209</td>\n",
       "      <td>0.192424</td>\n",
       "      <td>-0.746449</td>\n",
       "      <td>1.913209</td>\n",
       "      <td>847.203648</td>\n",
       "      <td>898.687886</td>\n",
       "      <td>&lt;statsmodels.tsa.arima_model.ARIMA object at 0...</td>\n",
       "      <td>&lt;statsmodels.tsa.arima_model.ARIMAResultsWrapp...</td>\n",
       "    </tr>\n",
       "    <tr>\n",
       "      <th>6</th>\n",
       "      <td>BOM500470</td>\n",
       "      <td>Non-Stationary</td>\n",
       "      <td>(2, 1, 2)</td>\n",
       "      <td>82.320425</td>\n",
       "      <td>0.223410</td>\n",
       "      <td>0.455995</td>\n",
       "      <td>2.831076</td>\n",
       "      <td>390.195290</td>\n",
       "      <td>319.488569</td>\n",
       "      <td>&lt;statsmodels.tsa.arima_model.ARIMA object at 0...</td>\n",
       "      <td>&lt;statsmodels.tsa.arima_model.ARIMAResultsWrapp...</td>\n",
       "    </tr>\n",
       "    <tr>\n",
       "      <th>7</th>\n",
       "      <td>BOM500228</td>\n",
       "      <td>Non-Stationary</td>\n",
       "      <td>(0, 1, 0)</td>\n",
       "      <td>7424.625231</td>\n",
       "      <td>0.935453</td>\n",
       "      <td>-19.627062</td>\n",
       "      <td>75.426970</td>\n",
       "      <td>10664.476698</td>\n",
       "      <td>5122.097107</td>\n",
       "      <td>&lt;statsmodels.tsa.arima_model.ARIMA object at 0...</td>\n",
       "      <td>&lt;statsmodels.tsa.arima_model.ARIMAResultsWrapp...</td>\n",
       "    </tr>\n",
       "    <tr>\n",
       "      <th>8</th>\n",
       "      <td>BOM500440</td>\n",
       "      <td>Non-Stationary</td>\n",
       "      <td>(0, 1, 0)</td>\n",
       "      <td>23.845538</td>\n",
       "      <td>1.083237</td>\n",
       "      <td>-8.246504</td>\n",
       "      <td>0.414229</td>\n",
       "      <td>-0.042086</td>\n",
       "      <td>23.029192</td>\n",
       "      <td>&lt;statsmodels.tsa.arima_model.ARIMA object at 0...</td>\n",
       "      <td>&lt;statsmodels.tsa.arima_model.ARIMAResultsWrapp...</td>\n",
       "    </tr>\n",
       "    <tr>\n",
       "      <th>9</th>\n",
       "      <td>BOM532977</td>\n",
       "      <td>Non-Stationary</td>\n",
       "      <td>(1, 1, 2)</td>\n",
       "      <td>1082.696492</td>\n",
       "      <td>1.299043</td>\n",
       "      <td>-88.299432</td>\n",
       "      <td>7.410341</td>\n",
       "      <td>-237.876999</td>\n",
       "      <td>675.040438</td>\n",
       "      <td>&lt;statsmodels.tsa.arima_model.ARIMA object at 0...</td>\n",
       "      <td>&lt;statsmodels.tsa.arima_model.ARIMAResultsWrapp...</td>\n",
       "    </tr>\n",
       "    <tr>\n",
       "      <th>10</th>\n",
       "      <td>BOM500570</td>\n",
       "      <td>Non-Stationary</td>\n",
       "      <td>(2, 1, 2)</td>\n",
       "      <td>177.708336</td>\n",
       "      <td>1.382659</td>\n",
       "      <td>-15.273069</td>\n",
       "      <td>3.254948</td>\n",
       "      <td>157.988658</td>\n",
       "      <td>87.025147</td>\n",
       "      <td>&lt;statsmodels.tsa.arima_model.ARIMA object at 0...</td>\n",
       "      <td>&lt;statsmodels.tsa.arima_model.ARIMAResultsWrapp...</td>\n",
       "    </tr>\n",
       "    <tr>\n",
       "      <th>11</th>\n",
       "      <td>BOM532500</td>\n",
       "      <td>Non-Stationary</td>\n",
       "      <td>(2, 1, 2)</td>\n",
       "      <td>631.465857</td>\n",
       "      <td>0.195736</td>\n",
       "      <td>-0.973432</td>\n",
       "      <td>8.772761</td>\n",
       "      <td>3063.895493</td>\n",
       "      <td>3007.590061</td>\n",
       "      <td>&lt;statsmodels.tsa.arima_model.ARIMA object at 0...</td>\n",
       "      <td>&lt;statsmodels.tsa.arima_model.ARIMAResultsWrapp...</td>\n",
       "    </tr>\n",
       "    <tr>\n",
       "      <th>12</th>\n",
       "      <td>BOM500209</td>\n",
       "      <td>Stationary</td>\n",
       "      <td>(3, 1, 2)</td>\n",
       "      <td>27.897478</td>\n",
       "      <td>1.893390</td>\n",
       "      <td>-106.112748</td>\n",
       "      <td>0.349721</td>\n",
       "      <td>28.996868</td>\n",
       "      <td>10.634957</td>\n",
       "      <td>&lt;statsmodels.tsa.arima_model.ARIMA object at 0...</td>\n",
       "      <td>&lt;statsmodels.tsa.arima_model.ARIMAResultsWrapp...</td>\n",
       "    </tr>\n",
       "    <tr>\n",
       "      <th>13</th>\n",
       "      <td>BOM532540</td>\n",
       "      <td>Non-Stationary</td>\n",
       "      <td>(2, 1, 2)</td>\n",
       "      <td>157.561106</td>\n",
       "      <td>0.547753</td>\n",
       "      <td>-11.472541</td>\n",
       "      <td>1.153520</td>\n",
       "      <td>97.831716</td>\n",
       "      <td>234.669904</td>\n",
       "      <td>&lt;statsmodels.tsa.arima_model.ARIMA object at 0...</td>\n",
       "      <td>&lt;statsmodels.tsa.arima_model.ARIMAResultsWrapp...</td>\n",
       "    </tr>\n",
       "    <tr>\n",
       "      <th>14</th>\n",
       "      <td>BOM507685</td>\n",
       "      <td>Stationary</td>\n",
       "      <td>(5, 1, 3)</td>\n",
       "      <td>60.195239</td>\n",
       "      <td>7.457442</td>\n",
       "      <td>-1463.020609</td>\n",
       "      <td>0.426240</td>\n",
       "      <td>52.641950</td>\n",
       "      <td>5.386714</td>\n",
       "      <td>&lt;statsmodels.tsa.arima_model.ARIMA object at 0...</td>\n",
       "      <td>&lt;statsmodels.tsa.arima_model.ARIMAResultsWrapp...</td>\n",
       "    </tr>\n",
       "  </tbody>\n",
       "</table>\n",
       "</div>"
      ],
      "text/plain": [
       "   Unnamed: 0    Stationarity      Order         RMSE      MAPE           R2  \\\n",
       "0   BOM524715      Stationary  (0, 1, 1)    15.880054  0.494424   -23.622305   \n",
       "1   BOM532488      Stationary  (1, 1, 3)  1866.187344  1.355678   -62.891326   \n",
       "2   BOM500124  Non-Stationary  (1, 1, 0)   318.985106  0.873856   -48.938924   \n",
       "3   BOM500180  Non-Stationary  (0, 1, 0)   148.640408  0.283588    -1.666059   \n",
       "4   BOM532174  Non-Stationary  (2, 1, 1)    89.958297  0.265637    -1.292939   \n",
       "5   BOM500247  Non-Stationary  (1, 1, 2)   222.664209  0.192424    -0.746449   \n",
       "6   BOM500470  Non-Stationary  (2, 1, 2)    82.320425  0.223410     0.455995   \n",
       "7   BOM500228  Non-Stationary  (0, 1, 0)  7424.625231  0.935453   -19.627062   \n",
       "8   BOM500440  Non-Stationary  (0, 1, 0)    23.845538  1.083237    -8.246504   \n",
       "9   BOM532977  Non-Stationary  (1, 1, 2)  1082.696492  1.299043   -88.299432   \n",
       "10  BOM500570  Non-Stationary  (2, 1, 2)   177.708336  1.382659   -15.273069   \n",
       "11  BOM532500  Non-Stationary  (2, 1, 2)   631.465857  0.195736    -0.973432   \n",
       "12  BOM500209      Stationary  (3, 1, 2)    27.897478  1.893390  -106.112748   \n",
       "13  BOM532540  Non-Stationary  (2, 1, 2)   157.561106  0.547753   -11.472541   \n",
       "14  BOM507685      Stationary  (5, 1, 3)    60.195239  7.457442 -1463.020609   \n",
       "\n",
       "        Noise  Predictions Mean  Actual Mean  \\\n",
       "0    0.245063         32.776819    23.898785   \n",
       "1   11.535535       -511.640878  1135.271147   \n",
       "2    1.367077         24.449606   310.821608   \n",
       "3    2.154347        341.836727   474.629890   \n",
       "4    2.670613        294.995506   253.284865   \n",
       "5    1.913209        847.203648   898.687886   \n",
       "6    2.831076        390.195290   319.488569   \n",
       "7   75.426970      10664.476698  5122.097107   \n",
       "8    0.414229         -0.042086    23.029192   \n",
       "9    7.410341       -237.876999   675.040438   \n",
       "10   3.254948        157.988658    87.025147   \n",
       "11   8.772761       3063.895493  3007.590061   \n",
       "12   0.349721         28.996868    10.634957   \n",
       "13   1.153520         97.831716   234.669904   \n",
       "14   0.426240         52.641950     5.386714   \n",
       "\n",
       "                                                Model  \\\n",
       "0   <statsmodels.tsa.arima_model.ARIMA object at 0...   \n",
       "1   <statsmodels.tsa.arima_model.ARIMA object at 0...   \n",
       "2   <statsmodels.tsa.arima_model.ARIMA object at 0...   \n",
       "3   <statsmodels.tsa.arima_model.ARIMA object at 0...   \n",
       "4   <statsmodels.tsa.arima_model.ARIMA object at 0...   \n",
       "5   <statsmodels.tsa.arima_model.ARIMA object at 0...   \n",
       "6   <statsmodels.tsa.arima_model.ARIMA object at 0...   \n",
       "7   <statsmodels.tsa.arima_model.ARIMA object at 0...   \n",
       "8   <statsmodels.tsa.arima_model.ARIMA object at 0...   \n",
       "9   <statsmodels.tsa.arima_model.ARIMA object at 0...   \n",
       "10  <statsmodels.tsa.arima_model.ARIMA object at 0...   \n",
       "11  <statsmodels.tsa.arima_model.ARIMA object at 0...   \n",
       "12  <statsmodels.tsa.arima_model.ARIMA object at 0...   \n",
       "13  <statsmodels.tsa.arima_model.ARIMA object at 0...   \n",
       "14  <statsmodels.tsa.arima_model.ARIMA object at 0...   \n",
       "\n",
       "                                               Result  \n",
       "0   <statsmodels.tsa.arima_model.ARIMAResultsWrapp...  \n",
       "1   <statsmodels.tsa.arima_model.ARIMAResultsWrapp...  \n",
       "2   <statsmodels.tsa.arima_model.ARIMAResultsWrapp...  \n",
       "3   <statsmodels.tsa.arima_model.ARIMAResultsWrapp...  \n",
       "4   <statsmodels.tsa.arima_model.ARIMAResultsWrapp...  \n",
       "5   <statsmodels.tsa.arima_model.ARIMAResultsWrapp...  \n",
       "6   <statsmodels.tsa.arima_model.ARIMAResultsWrapp...  \n",
       "7   <statsmodels.tsa.arima_model.ARIMAResultsWrapp...  \n",
       "8   <statsmodels.tsa.arima_model.ARIMAResultsWrapp...  \n",
       "9   <statsmodels.tsa.arima_model.ARIMAResultsWrapp...  \n",
       "10  <statsmodels.tsa.arima_model.ARIMAResultsWrapp...  \n",
       "11  <statsmodels.tsa.arima_model.ARIMAResultsWrapp...  \n",
       "12  <statsmodels.tsa.arima_model.ARIMAResultsWrapp...  \n",
       "13  <statsmodels.tsa.arima_model.ARIMAResultsWrapp...  \n",
       "14  <statsmodels.tsa.arima_model.ARIMAResultsWrapp...  "
      ]
     },
     "execution_count": 78,
     "metadata": {},
     "output_type": "execute_result"
    }
   ],
   "source": [
    "ArimaxModelPricesResults_Norm"
   ]
  },
  {
   "cell_type": "code",
   "execution_count": 79,
   "metadata": {
    "id": "McxcNYPYZ3OS"
   },
   "outputs": [
    {
     "name": "stdout",
     "output_type": "stream",
     "text": [
      "Working for Stock BOM524715\n",
      "Working for Stock BOM532488\n",
      "Working for Stock BOM500124\n",
      "Working for Stock BOM500180\n",
      "Working for Stock BOM532174\n",
      "Working for Stock BOM500247\n",
      "Working for Stock BOM500470\n",
      "Working for Stock BOM500228\n",
      "Working for Stock BOM500440\n",
      "Working for Stock BOM532977\n",
      "Working for Stock BOM500570\n",
      "Working for Stock BOM532500\n",
      "Working for Stock BOM500209\n",
      "Working for Stock BOM532540\n",
      "Working for Stock BOM507685\n"
     ]
    }
   ],
   "source": [
    "for stock in stocks:\n",
    "    print(\"Working for Stock {}\".format(stock))\n",
    "    train_data, test_data = TrainTestSplitByDateRange(ScriptWiseData[stock])\n",
    "    feature = 'Normalized Closing'\n",
    "#     Order = CalculateAutoArimaForArimax(stock, train_data, feature,'p N Closing Values', 'd N Closing Values', 'q N Closing Values')\n",
    "#     ARIMAX_Model_Generic(StockCode= stock, data = ScriptWiseData, feature = feature, Results=ArimaxModelPricesResults_Norm, Order=Order, train_data=train_data, test_data=test_data,extra_indicators = normalized_TechnicalIndicators)"
   ]
  },
  {
   "cell_type": "code",
   "execution_count": 80,
   "metadata": {
    "id": "ZOB9TO1fZ3OS"
   },
   "outputs": [],
   "source": [
    "# ArimaxModelPricesResults_Norm.to_csv('./Outputs/ArimaxModelPricesResults_Norm.csv')"
   ]
  },
  {
   "cell_type": "code",
   "execution_count": 81,
   "metadata": {},
   "outputs": [
    {
     "data": {
      "text/html": [
       "<div>\n",
       "<style scoped>\n",
       "    .dataframe tbody tr th:only-of-type {\n",
       "        vertical-align: middle;\n",
       "    }\n",
       "\n",
       "    .dataframe tbody tr th {\n",
       "        vertical-align: top;\n",
       "    }\n",
       "\n",
       "    .dataframe thead th {\n",
       "        text-align: right;\n",
       "    }\n",
       "</style>\n",
       "<table border=\"1\" class=\"dataframe\">\n",
       "  <thead>\n",
       "    <tr style=\"text-align: right;\">\n",
       "      <th></th>\n",
       "      <th>TestLength</th>\n",
       "    </tr>\n",
       "  </thead>\n",
       "  <tbody>\n",
       "    <tr>\n",
       "      <th>BOM524715</th>\n",
       "      <td>264</td>\n",
       "    </tr>\n",
       "    <tr>\n",
       "      <th>BOM532488</th>\n",
       "      <td>264</td>\n",
       "    </tr>\n",
       "    <tr>\n",
       "      <th>BOM500124</th>\n",
       "      <td>264</td>\n",
       "    </tr>\n",
       "    <tr>\n",
       "      <th>BOM500180</th>\n",
       "      <td>264</td>\n",
       "    </tr>\n",
       "    <tr>\n",
       "      <th>BOM532174</th>\n",
       "      <td>264</td>\n",
       "    </tr>\n",
       "    <tr>\n",
       "      <th>BOM500247</th>\n",
       "      <td>264</td>\n",
       "    </tr>\n",
       "    <tr>\n",
       "      <th>BOM500470</th>\n",
       "      <td>264</td>\n",
       "    </tr>\n",
       "    <tr>\n",
       "      <th>BOM500228</th>\n",
       "      <td>264</td>\n",
       "    </tr>\n",
       "    <tr>\n",
       "      <th>BOM500440</th>\n",
       "      <td>264</td>\n",
       "    </tr>\n",
       "    <tr>\n",
       "      <th>BOM532977</th>\n",
       "      <td>264</td>\n",
       "    </tr>\n",
       "    <tr>\n",
       "      <th>BOM500570</th>\n",
       "      <td>264</td>\n",
       "    </tr>\n",
       "    <tr>\n",
       "      <th>BOM532500</th>\n",
       "      <td>264</td>\n",
       "    </tr>\n",
       "    <tr>\n",
       "      <th>BOM500209</th>\n",
       "      <td>264</td>\n",
       "    </tr>\n",
       "    <tr>\n",
       "      <th>BOM532540</th>\n",
       "      <td>264</td>\n",
       "    </tr>\n",
       "    <tr>\n",
       "      <th>BOM507685</th>\n",
       "      <td>264</td>\n",
       "    </tr>\n",
       "  </tbody>\n",
       "</table>\n",
       "</div>"
      ],
      "text/plain": [
       "          TestLength\n",
       "BOM524715        264\n",
       "BOM532488        264\n",
       "BOM500124        264\n",
       "BOM500180        264\n",
       "BOM532174        264\n",
       "BOM500247        264\n",
       "BOM500470        264\n",
       "BOM500228        264\n",
       "BOM500440        264\n",
       "BOM532977        264\n",
       "BOM500570        264\n",
       "BOM532500        264\n",
       "BOM500209        264\n",
       "BOM532540        264\n",
       "BOM507685        264"
      ]
     },
     "execution_count": 81,
     "metadata": {},
     "output_type": "execute_result"
    }
   ],
   "source": [
    "testLen = pd.DataFrame(columns=['TestLength'], index = stocks)\n",
    "for s in stocks:\n",
    "    train, test = TrainTestSplitByDateRange(ScriptWiseData[s])\n",
    "    testLen.loc[s, 'TestLength'] = len(test)\n",
    "testLen"
   ]
  },
  {
   "cell_type": "code",
   "execution_count": 82,
   "metadata": {
    "id": "RSIJqMclCxv9"
   },
   "outputs": [
    {
     "data": {
      "text/html": [
       "<div>\n",
       "<style scoped>\n",
       "    .dataframe tbody tr th:only-of-type {\n",
       "        vertical-align: middle;\n",
       "    }\n",
       "\n",
       "    .dataframe tbody tr th {\n",
       "        vertical-align: top;\n",
       "    }\n",
       "\n",
       "    .dataframe thead th {\n",
       "        text-align: right;\n",
       "    }\n",
       "</style>\n",
       "<table border=\"1\" class=\"dataframe\">\n",
       "  <thead>\n",
       "    <tr style=\"text-align: right;\">\n",
       "      <th></th>\n",
       "      <th>Unnamed: 0</th>\n",
       "      <th>Stationarity</th>\n",
       "      <th>Order</th>\n",
       "      <th>RMSE</th>\n",
       "      <th>MAPE</th>\n",
       "      <th>R2</th>\n",
       "      <th>Noise</th>\n",
       "      <th>Predictions Mean</th>\n",
       "      <th>Actual Mean</th>\n",
       "      <th>Model</th>\n",
       "      <th>Result</th>\n",
       "    </tr>\n",
       "  </thead>\n",
       "  <tbody>\n",
       "    <tr>\n",
       "      <th>0</th>\n",
       "      <td>BOM524715</td>\n",
       "      <td>Stationary</td>\n",
       "      <td>(0, 1, 1)</td>\n",
       "      <td>15.880054</td>\n",
       "      <td>0.494424</td>\n",
       "      <td>-23.622305</td>\n",
       "      <td>0.245063</td>\n",
       "      <td>32.776819</td>\n",
       "      <td>23.898785</td>\n",
       "      <td>&lt;statsmodels.tsa.arima_model.ARIMA object at 0...</td>\n",
       "      <td>&lt;statsmodels.tsa.arima_model.ARIMAResultsWrapp...</td>\n",
       "    </tr>\n",
       "    <tr>\n",
       "      <th>1</th>\n",
       "      <td>BOM532488</td>\n",
       "      <td>Stationary</td>\n",
       "      <td>(1, 1, 3)</td>\n",
       "      <td>1866.187344</td>\n",
       "      <td>1.355678</td>\n",
       "      <td>-62.891326</td>\n",
       "      <td>11.535535</td>\n",
       "      <td>-511.640878</td>\n",
       "      <td>1135.271147</td>\n",
       "      <td>&lt;statsmodels.tsa.arima_model.ARIMA object at 0...</td>\n",
       "      <td>&lt;statsmodels.tsa.arima_model.ARIMAResultsWrapp...</td>\n",
       "    </tr>\n",
       "    <tr>\n",
       "      <th>2</th>\n",
       "      <td>BOM500124</td>\n",
       "      <td>Non-Stationary</td>\n",
       "      <td>(1, 1, 0)</td>\n",
       "      <td>318.985106</td>\n",
       "      <td>0.873856</td>\n",
       "      <td>-48.938924</td>\n",
       "      <td>1.367077</td>\n",
       "      <td>24.449606</td>\n",
       "      <td>310.821608</td>\n",
       "      <td>&lt;statsmodels.tsa.arima_model.ARIMA object at 0...</td>\n",
       "      <td>&lt;statsmodels.tsa.arima_model.ARIMAResultsWrapp...</td>\n",
       "    </tr>\n",
       "    <tr>\n",
       "      <th>3</th>\n",
       "      <td>BOM500180</td>\n",
       "      <td>Non-Stationary</td>\n",
       "      <td>(0, 1, 0)</td>\n",
       "      <td>148.640408</td>\n",
       "      <td>0.283588</td>\n",
       "      <td>-1.666059</td>\n",
       "      <td>2.154347</td>\n",
       "      <td>341.836727</td>\n",
       "      <td>474.629890</td>\n",
       "      <td>&lt;statsmodels.tsa.arima_model.ARIMA object at 0...</td>\n",
       "      <td>&lt;statsmodels.tsa.arima_model.ARIMAResultsWrapp...</td>\n",
       "    </tr>\n",
       "    <tr>\n",
       "      <th>4</th>\n",
       "      <td>BOM532174</td>\n",
       "      <td>Non-Stationary</td>\n",
       "      <td>(2, 1, 1)</td>\n",
       "      <td>89.958297</td>\n",
       "      <td>0.265637</td>\n",
       "      <td>-1.292939</td>\n",
       "      <td>2.670613</td>\n",
       "      <td>294.995506</td>\n",
       "      <td>253.284865</td>\n",
       "      <td>&lt;statsmodels.tsa.arima_model.ARIMA object at 0...</td>\n",
       "      <td>&lt;statsmodels.tsa.arima_model.ARIMAResultsWrapp...</td>\n",
       "    </tr>\n",
       "    <tr>\n",
       "      <th>5</th>\n",
       "      <td>BOM500247</td>\n",
       "      <td>Non-Stationary</td>\n",
       "      <td>(1, 1, 2)</td>\n",
       "      <td>222.664209</td>\n",
       "      <td>0.192424</td>\n",
       "      <td>-0.746449</td>\n",
       "      <td>1.913209</td>\n",
       "      <td>847.203648</td>\n",
       "      <td>898.687886</td>\n",
       "      <td>&lt;statsmodels.tsa.arima_model.ARIMA object at 0...</td>\n",
       "      <td>&lt;statsmodels.tsa.arima_model.ARIMAResultsWrapp...</td>\n",
       "    </tr>\n",
       "    <tr>\n",
       "      <th>6</th>\n",
       "      <td>BOM500470</td>\n",
       "      <td>Non-Stationary</td>\n",
       "      <td>(2, 1, 2)</td>\n",
       "      <td>82.320425</td>\n",
       "      <td>0.223410</td>\n",
       "      <td>0.455995</td>\n",
       "      <td>2.831076</td>\n",
       "      <td>390.195290</td>\n",
       "      <td>319.488569</td>\n",
       "      <td>&lt;statsmodels.tsa.arima_model.ARIMA object at 0...</td>\n",
       "      <td>&lt;statsmodels.tsa.arima_model.ARIMAResultsWrapp...</td>\n",
       "    </tr>\n",
       "    <tr>\n",
       "      <th>7</th>\n",
       "      <td>BOM500228</td>\n",
       "      <td>Non-Stationary</td>\n",
       "      <td>(0, 1, 0)</td>\n",
       "      <td>7424.625231</td>\n",
       "      <td>0.935453</td>\n",
       "      <td>-19.627062</td>\n",
       "      <td>75.426970</td>\n",
       "      <td>10664.476698</td>\n",
       "      <td>5122.097107</td>\n",
       "      <td>&lt;statsmodels.tsa.arima_model.ARIMA object at 0...</td>\n",
       "      <td>&lt;statsmodels.tsa.arima_model.ARIMAResultsWrapp...</td>\n",
       "    </tr>\n",
       "    <tr>\n",
       "      <th>8</th>\n",
       "      <td>BOM500440</td>\n",
       "      <td>Non-Stationary</td>\n",
       "      <td>(0, 1, 0)</td>\n",
       "      <td>23.845538</td>\n",
       "      <td>1.083237</td>\n",
       "      <td>-8.246504</td>\n",
       "      <td>0.414229</td>\n",
       "      <td>-0.042086</td>\n",
       "      <td>23.029192</td>\n",
       "      <td>&lt;statsmodels.tsa.arima_model.ARIMA object at 0...</td>\n",
       "      <td>&lt;statsmodels.tsa.arima_model.ARIMAResultsWrapp...</td>\n",
       "    </tr>\n",
       "    <tr>\n",
       "      <th>9</th>\n",
       "      <td>BOM532977</td>\n",
       "      <td>Non-Stationary</td>\n",
       "      <td>(1, 1, 2)</td>\n",
       "      <td>1082.696492</td>\n",
       "      <td>1.299043</td>\n",
       "      <td>-88.299432</td>\n",
       "      <td>7.410341</td>\n",
       "      <td>-237.876999</td>\n",
       "      <td>675.040438</td>\n",
       "      <td>&lt;statsmodels.tsa.arima_model.ARIMA object at 0...</td>\n",
       "      <td>&lt;statsmodels.tsa.arima_model.ARIMAResultsWrapp...</td>\n",
       "    </tr>\n",
       "    <tr>\n",
       "      <th>10</th>\n",
       "      <td>BOM500570</td>\n",
       "      <td>Non-Stationary</td>\n",
       "      <td>(2, 1, 2)</td>\n",
       "      <td>177.708336</td>\n",
       "      <td>1.382659</td>\n",
       "      <td>-15.273069</td>\n",
       "      <td>3.254948</td>\n",
       "      <td>157.988658</td>\n",
       "      <td>87.025147</td>\n",
       "      <td>&lt;statsmodels.tsa.arima_model.ARIMA object at 0...</td>\n",
       "      <td>&lt;statsmodels.tsa.arima_model.ARIMAResultsWrapp...</td>\n",
       "    </tr>\n",
       "    <tr>\n",
       "      <th>11</th>\n",
       "      <td>BOM532500</td>\n",
       "      <td>Non-Stationary</td>\n",
       "      <td>(2, 1, 2)</td>\n",
       "      <td>631.465857</td>\n",
       "      <td>0.195736</td>\n",
       "      <td>-0.973432</td>\n",
       "      <td>8.772761</td>\n",
       "      <td>3063.895493</td>\n",
       "      <td>3007.590061</td>\n",
       "      <td>&lt;statsmodels.tsa.arima_model.ARIMA object at 0...</td>\n",
       "      <td>&lt;statsmodels.tsa.arima_model.ARIMAResultsWrapp...</td>\n",
       "    </tr>\n",
       "    <tr>\n",
       "      <th>12</th>\n",
       "      <td>BOM500209</td>\n",
       "      <td>Stationary</td>\n",
       "      <td>(3, 1, 2)</td>\n",
       "      <td>27.897478</td>\n",
       "      <td>1.893390</td>\n",
       "      <td>-106.112748</td>\n",
       "      <td>0.349721</td>\n",
       "      <td>28.996868</td>\n",
       "      <td>10.634957</td>\n",
       "      <td>&lt;statsmodels.tsa.arima_model.ARIMA object at 0...</td>\n",
       "      <td>&lt;statsmodels.tsa.arima_model.ARIMAResultsWrapp...</td>\n",
       "    </tr>\n",
       "    <tr>\n",
       "      <th>13</th>\n",
       "      <td>BOM532540</td>\n",
       "      <td>Non-Stationary</td>\n",
       "      <td>(2, 1, 2)</td>\n",
       "      <td>157.561106</td>\n",
       "      <td>0.547753</td>\n",
       "      <td>-11.472541</td>\n",
       "      <td>1.153520</td>\n",
       "      <td>97.831716</td>\n",
       "      <td>234.669904</td>\n",
       "      <td>&lt;statsmodels.tsa.arima_model.ARIMA object at 0...</td>\n",
       "      <td>&lt;statsmodels.tsa.arima_model.ARIMAResultsWrapp...</td>\n",
       "    </tr>\n",
       "    <tr>\n",
       "      <th>14</th>\n",
       "      <td>BOM507685</td>\n",
       "      <td>Stationary</td>\n",
       "      <td>(5, 1, 3)</td>\n",
       "      <td>60.195239</td>\n",
       "      <td>7.457442</td>\n",
       "      <td>-1463.020609</td>\n",
       "      <td>0.426240</td>\n",
       "      <td>52.641950</td>\n",
       "      <td>5.386714</td>\n",
       "      <td>&lt;statsmodels.tsa.arima_model.ARIMA object at 0...</td>\n",
       "      <td>&lt;statsmodels.tsa.arima_model.ARIMAResultsWrapp...</td>\n",
       "    </tr>\n",
       "  </tbody>\n",
       "</table>\n",
       "</div>"
      ],
      "text/plain": [
       "   Unnamed: 0    Stationarity      Order         RMSE      MAPE           R2  \\\n",
       "0   BOM524715      Stationary  (0, 1, 1)    15.880054  0.494424   -23.622305   \n",
       "1   BOM532488      Stationary  (1, 1, 3)  1866.187344  1.355678   -62.891326   \n",
       "2   BOM500124  Non-Stationary  (1, 1, 0)   318.985106  0.873856   -48.938924   \n",
       "3   BOM500180  Non-Stationary  (0, 1, 0)   148.640408  0.283588    -1.666059   \n",
       "4   BOM532174  Non-Stationary  (2, 1, 1)    89.958297  0.265637    -1.292939   \n",
       "5   BOM500247  Non-Stationary  (1, 1, 2)   222.664209  0.192424    -0.746449   \n",
       "6   BOM500470  Non-Stationary  (2, 1, 2)    82.320425  0.223410     0.455995   \n",
       "7   BOM500228  Non-Stationary  (0, 1, 0)  7424.625231  0.935453   -19.627062   \n",
       "8   BOM500440  Non-Stationary  (0, 1, 0)    23.845538  1.083237    -8.246504   \n",
       "9   BOM532977  Non-Stationary  (1, 1, 2)  1082.696492  1.299043   -88.299432   \n",
       "10  BOM500570  Non-Stationary  (2, 1, 2)   177.708336  1.382659   -15.273069   \n",
       "11  BOM532500  Non-Stationary  (2, 1, 2)   631.465857  0.195736    -0.973432   \n",
       "12  BOM500209      Stationary  (3, 1, 2)    27.897478  1.893390  -106.112748   \n",
       "13  BOM532540  Non-Stationary  (2, 1, 2)   157.561106  0.547753   -11.472541   \n",
       "14  BOM507685      Stationary  (5, 1, 3)    60.195239  7.457442 -1463.020609   \n",
       "\n",
       "        Noise  Predictions Mean  Actual Mean  \\\n",
       "0    0.245063         32.776819    23.898785   \n",
       "1   11.535535       -511.640878  1135.271147   \n",
       "2    1.367077         24.449606   310.821608   \n",
       "3    2.154347        341.836727   474.629890   \n",
       "4    2.670613        294.995506   253.284865   \n",
       "5    1.913209        847.203648   898.687886   \n",
       "6    2.831076        390.195290   319.488569   \n",
       "7   75.426970      10664.476698  5122.097107   \n",
       "8    0.414229         -0.042086    23.029192   \n",
       "9    7.410341       -237.876999   675.040438   \n",
       "10   3.254948        157.988658    87.025147   \n",
       "11   8.772761       3063.895493  3007.590061   \n",
       "12   0.349721         28.996868    10.634957   \n",
       "13   1.153520         97.831716   234.669904   \n",
       "14   0.426240         52.641950     5.386714   \n",
       "\n",
       "                                                Model  \\\n",
       "0   <statsmodels.tsa.arima_model.ARIMA object at 0...   \n",
       "1   <statsmodels.tsa.arima_model.ARIMA object at 0...   \n",
       "2   <statsmodels.tsa.arima_model.ARIMA object at 0...   \n",
       "3   <statsmodels.tsa.arima_model.ARIMA object at 0...   \n",
       "4   <statsmodels.tsa.arima_model.ARIMA object at 0...   \n",
       "5   <statsmodels.tsa.arima_model.ARIMA object at 0...   \n",
       "6   <statsmodels.tsa.arima_model.ARIMA object at 0...   \n",
       "7   <statsmodels.tsa.arima_model.ARIMA object at 0...   \n",
       "8   <statsmodels.tsa.arima_model.ARIMA object at 0...   \n",
       "9   <statsmodels.tsa.arima_model.ARIMA object at 0...   \n",
       "10  <statsmodels.tsa.arima_model.ARIMA object at 0...   \n",
       "11  <statsmodels.tsa.arima_model.ARIMA object at 0...   \n",
       "12  <statsmodels.tsa.arima_model.ARIMA object at 0...   \n",
       "13  <statsmodels.tsa.arima_model.ARIMA object at 0...   \n",
       "14  <statsmodels.tsa.arima_model.ARIMA object at 0...   \n",
       "\n",
       "                                               Result  \n",
       "0   <statsmodels.tsa.arima_model.ARIMAResultsWrapp...  \n",
       "1   <statsmodels.tsa.arima_model.ARIMAResultsWrapp...  \n",
       "2   <statsmodels.tsa.arima_model.ARIMAResultsWrapp...  \n",
       "3   <statsmodels.tsa.arima_model.ARIMAResultsWrapp...  \n",
       "4   <statsmodels.tsa.arima_model.ARIMAResultsWrapp...  \n",
       "5   <statsmodels.tsa.arima_model.ARIMAResultsWrapp...  \n",
       "6   <statsmodels.tsa.arima_model.ARIMAResultsWrapp...  \n",
       "7   <statsmodels.tsa.arima_model.ARIMAResultsWrapp...  \n",
       "8   <statsmodels.tsa.arima_model.ARIMAResultsWrapp...  \n",
       "9   <statsmodels.tsa.arima_model.ARIMAResultsWrapp...  \n",
       "10  <statsmodels.tsa.arima_model.ARIMAResultsWrapp...  \n",
       "11  <statsmodels.tsa.arima_model.ARIMAResultsWrapp...  \n",
       "12  <statsmodels.tsa.arima_model.ARIMAResultsWrapp...  \n",
       "13  <statsmodels.tsa.arima_model.ARIMAResultsWrapp...  \n",
       "14  <statsmodels.tsa.arima_model.ARIMAResultsWrapp...  "
      ]
     },
     "execution_count": 82,
     "metadata": {},
     "output_type": "execute_result"
    }
   ],
   "source": [
    "ArimaxModelPricesResults_Norm"
   ]
  },
  {
   "cell_type": "markdown",
   "metadata": {},
   "source": [
    "### Plot PACF"
   ]
  },
  {
   "cell_type": "code",
   "execution_count": 83,
   "metadata": {},
   "outputs": [
    {
     "data": {
      "image/png": "[encoded data removed]",
      "text/plain": [
       "<Figure size 2160x2160 with 3 Axes>"
      ]
     },
     "metadata": {
      "needs_background": "light"
     },
     "output_type": "display_data"
    }
   ],
   "source": [
    "fig = plt.figure(figsize=(30,30))\n",
    "j = 0\n",
    "for i in range(12, 15):\n",
    "    ax1 = fig.add_subplot(2,2,(j+1))\n",
    "#     ax1.yaxis.set_tick_params(labelsize='large')\n",
    "\n",
    "    plot_pacf(ScriptWiseData[stocks[i]].Close, ax=ax1);\n",
    "    ax1.set_title(getStockNameFromStockCode(stocks[i]), fontsize=18)\n",
    "    j = j + 1\n",
    "\n",
    "# Save the full figure...\n",
    "fig.savefig('./Outputs/PACF4.png')"
   ]
  },
  {
   "cell_type": "markdown",
   "metadata": {
    "id": "IxeY6KUtZ3OT"
   },
   "source": [
    "## ARIMAX Returns"
   ]
  },
  {
   "cell_type": "code",
   "execution_count": 84,
   "metadata": {
    "id": "w6S6RNGKZ3OT"
   },
   "outputs": [],
   "source": [
    "try:\n",
    "    ArimaxModelPricesResults_Returns = pd.read_csv('./Outputs/ArimaxModelPricesResults_Returns.csv')\n",
    "except FileNotFoundError:\n",
    "    ArimaxModelPricesResults_Returns = pd.DataFrame(columns=['Stationarity', 'Order', 'RMSE', 'MAPE', 'R2', 'Noise', 'Predictions Mean', 'Actual Mean', \"Model\"], index = stocks)"
   ]
  },
  {
   "cell_type": "code",
   "execution_count": 85,
   "metadata": {
    "id": "essI3iLxZ3OT"
   },
   "outputs": [
    {
     "name": "stdout",
     "output_type": "stream",
     "text": [
      "Working for Stock BOM524715\n",
      "Working for Stock BOM532488\n",
      "Working for Stock BOM500124\n",
      "Working for Stock BOM500180\n",
      "Working for Stock BOM532174\n",
      "Working for Stock BOM500247\n",
      "Working for Stock BOM500470\n",
      "Working for Stock BOM500228\n",
      "Working for Stock BOM500440\n",
      "Working for Stock BOM532977\n",
      "Working for Stock BOM500570\n",
      "Working for Stock BOM532500\n",
      "Working for Stock BOM500209\n",
      "Working for Stock BOM532540\n",
      "Working for Stock BOM507685\n"
     ]
    }
   ],
   "source": [
    "for stock in stocks:\n",
    "    try:\n",
    "        print(\"Working for Stock {}\".format(stock))\n",
    "        train_data, test_data = TrainTestSplitByDateRange(ScriptWiseData[stock])\n",
    "        feature = 'Stock_Returns'\n",
    "#         Order = CalculateAutoArimaForArimax(stock, train_data, feature, p = 'p Closing Percentage', d = 'd Closing Percentage', q = 'q Closing Percentage')\n",
    "#         ARIMAX_Model_Generic(StockCode= stock, data = ScriptWiseData, feature = feature, Results=ArimaxModelPricesResults_Returns, Order=Order, train_data=train_data, test_data=test_data, extra_indicators = TechnicalIndicators)\n",
    "    except Exception as e:\n",
    "        print(e)  "
   ]
  },
  {
   "cell_type": "code",
   "execution_count": 86,
   "metadata": {
    "id": "Jk_7UD-yZ3OT"
   },
   "outputs": [],
   "source": [
    "# ArimaxModelPricesResults_Returns.to_csv('./Outputs/ArimaxModelPricesResults_Returns.csv')"
   ]
  },
  {
   "cell_type": "code",
   "execution_count": 87,
   "metadata": {
    "id": "OAQ5DDOG1N-O"
   },
   "outputs": [],
   "source": [
    "# AutoArimaResultsForArimax.to_csv('./Outputs/AutoArimaResultsForArimax.csv')"
   ]
  },
  {
   "cell_type": "markdown",
   "metadata": {
    "id": "IxeY6KUtZ3OT"
   },
   "source": [
    "## ARIMAX Returns with normalized indicators"
   ]
  },
  {
   "cell_type": "code",
   "execution_count": 88,
   "metadata": {
    "id": "w6S6RNGKZ3OT"
   },
   "outputs": [],
   "source": [
    "try:\n",
    "    ArimaxModelPricesResults_ReturnsNormalized = pd.read_csv('./Outputs/ArimaxModelPricesResults_Returns.csv')\n",
    "except FileNotFoundError:\n",
    "    ArimaxModelPricesResults_ReturnsNormalized = pd.DataFrame(columns=['Stationarity', 'Order', 'RMSE', 'MAPE', 'R2', 'Noise', 'Predictions Mean', 'Actual Mean', \"Model\"], index = stocks)"
   ]
  },
  {
   "cell_type": "code",
   "execution_count": 89,
   "metadata": {
    "id": "essI3iLxZ3OT"
   },
   "outputs": [
    {
     "name": "stdout",
     "output_type": "stream",
     "text": [
      "Working for Stock BOM524715\n",
      "'BOM524715'\n",
      "Working for Stock BOM532488\n",
      "'BOM532488'\n",
      "Working for Stock BOM500124\n",
      "'BOM500124'\n",
      "Working for Stock BOM500180\n",
      "'BOM500180'\n",
      "Working for Stock BOM532174\n",
      "'BOM532174'\n",
      "Working for Stock BOM500247\n",
      "'BOM500247'\n",
      "Working for Stock BOM500470\n",
      "'BOM500470'\n",
      "Working for Stock BOM500228\n",
      "'BOM500228'\n",
      "Working for Stock BOM500440\n",
      "'BOM500440'\n",
      "Working for Stock BOM532977\n",
      "'BOM532977'\n",
      "Working for Stock BOM500570\n",
      "'BOM500570'\n",
      "Working for Stock BOM532500\n",
      "'BOM532500'\n",
      "Working for Stock BOM500209\n",
      "'BOM500209'\n",
      "Working for Stock BOM532540\n",
      "'BOM532540'\n",
      "Working for Stock BOM507685\n",
      "'BOM507685'\n"
     ]
    }
   ],
   "source": [
    "for stock in stocks:\n",
    "    try:\n",
    "        print(\"Working for Stock {}\".format(stock))\n",
    "        train_data, test_data = TrainTestSplitByDateRange(ScriptWiseData[stock])\n",
    "        feature = 'Stock_Returns'\n",
    "        Order = CalculateAutoArimaForArimax(stock, train_data, feature, p = 'p Closing Percentage', d = 'd Closing Percentage', q = 'q Closing Percentage')\n",
    "        ARIMAX_Model_Generic(StockCode= stock, data = ScriptWiseData, feature = feature, Results=ArimaxModelPricesResults_ReturnsNormalized, Order=Order, train_data=train_data, test_data=test_data, extra_indicators = normalized_TechnicalIndicators)\n",
    "    except Exception as e:\n",
    "        print(e)  "
   ]
  },
  {
   "cell_type": "code",
   "execution_count": 90,
   "metadata": {
    "id": "Jk_7UD-yZ3OT"
   },
   "outputs": [],
   "source": [
    "# ArimaxModelPricesResults_ReturnsNormalized.to_csv('./Outputs/test.csv')"
   ]
  },
  {
   "cell_type": "code",
   "execution_count": 91,
   "metadata": {},
   "outputs": [],
   "source": [
    "# ArimaxModelPricesResults_ReturnsNormalized.loc[0, 'Model']"
   ]
  },
  {
   "cell_type": "code",
   "execution_count": null,
   "metadata": {},
   "outputs": [],
   "source": []
  },
  {
   "cell_type": "markdown",
   "metadata": {
    "id": "pizKyOeWsQEM"
   },
   "source": [
    "# SARIMAX MODEL"
   ]
  },
  {
   "cell_type": "code",
   "execution_count": 92,
   "metadata": {
    "id": "nxyBhFx4sQEN"
   },
   "outputs": [],
   "source": [
    "def SARIMAXProcedure(stockCode):\n",
    "    # decompose\n",
    "    data = ScriptWiseData  [stockCode]\n",
    "    data.index = pd.to_datetime(data.index)\n",
    "    data=data.asfreq('b')\n",
    "    data = data.fillna(method='ffill')\n",
    "    decompose_result = seasonal_decompose(data['Close'], model='add')\n",
    "    \n",
    "    r = auto_arima(data['Close'], exogenous=data[TechnicalIndicators], maxiter=1000) #seasonality, m parameters pending\n",
    "    p, d, q = r.order # define for P, D, Q, S\n",
    "        \n",
    "    train, test = TrainTestSplitByDateRange(data)\n",
    "    \n",
    "    model = SARIMAX(train['Close'], exog = train[TechnicalIndicators] ,order = (p, d, q), seasonal_order = (1,1,1,2), enforce_invertibility = False)\n",
    "    results = model.fit()\n",
    "    predictions = results.predict(start_date, end_date, exog=test[TechnicalIndicators]).rename('SARIMA')\n",
    "    \n",
    "    return decompose_result, results, predictions"
   ]
  },
  {
   "cell_type": "code",
   "execution_count": 93,
   "metadata": {
    "id": "2TguUxOKsQEO"
   },
   "outputs": [],
   "source": [
    "# decompose_result, model, predictions = SARIMAXProcedure(stocks[2])"
   ]
  },
  {
   "cell_type": "markdown",
   "metadata": {
    "id": "ZXAkQSfXsQEQ"
   },
   "source": [
    "### VARMAX MODEL"
   ]
  },
  {
   "cell_type": "code",
   "execution_count": 94,
   "metadata": {
    "id": "YkcEicyncV81"
   },
   "outputs": [
    {
     "data": {
      "text/html": [
       "<div>\n",
       "<style scoped>\n",
       "    .dataframe tbody tr th:only-of-type {\n",
       "        vertical-align: middle;\n",
       "    }\n",
       "\n",
       "    .dataframe tbody tr th {\n",
       "        vertical-align: top;\n",
       "    }\n",
       "\n",
       "    .dataframe thead th {\n",
       "        text-align: right;\n",
       "    }\n",
       "</style>\n",
       "<table border=\"1\" class=\"dataframe\">\n",
       "  <thead>\n",
       "    <tr style=\"text-align: right;\">\n",
       "      <th></th>\n",
       "      <th>Close</th>\n",
       "      <th>RSI</th>\n",
       "      <th>ATR</th>\n",
       "      <th>MACD</th>\n",
       "      <th>adx</th>\n",
       "      <th>OBV</th>\n",
       "      <th>Normalized Closing</th>\n",
       "      <th>Normalized RSI</th>\n",
       "      <th>Normalized ATR</th>\n",
       "      <th>Normalized MACD</th>\n",
       "      <th>Normalized ADX</th>\n",
       "      <th>Normalized OBV</th>\n",
       "      <th>Stock_Returns</th>\n",
       "    </tr>\n",
       "    <tr>\n",
       "      <th>Date</th>\n",
       "      <th></th>\n",
       "      <th></th>\n",
       "      <th></th>\n",
       "      <th></th>\n",
       "      <th></th>\n",
       "      <th></th>\n",
       "      <th></th>\n",
       "      <th></th>\n",
       "      <th></th>\n",
       "      <th></th>\n",
       "      <th></th>\n",
       "      <th></th>\n",
       "      <th></th>\n",
       "    </tr>\n",
       "  </thead>\n",
       "  <tbody>\n",
       "    <tr>\n",
       "      <th>2000-02-11</th>\n",
       "      <td>2090.00</td>\n",
       "      <td>1.364001</td>\n",
       "      <td>131.2700</td>\n",
       "      <td>97.046900</td>\n",
       "      <td>19.756105</td>\n",
       "      <td>246481.0</td>\n",
       "      <td>97.431355</td>\n",
       "      <td>81.551223</td>\n",
       "      <td>100.582331</td>\n",
       "      <td>92.376124</td>\n",
       "      <td>98.618868</td>\n",
       "      <td>89.602085</td>\n",
       "      <td>-2.568645</td>\n",
       "    </tr>\n",
       "    <tr>\n",
       "      <th>2000-02-14</th>\n",
       "      <td>2125.00</td>\n",
       "      <td>1.489559</td>\n",
       "      <td>128.1250</td>\n",
       "      <td>92.209986</td>\n",
       "      <td>19.499189</td>\n",
       "      <td>267854.0</td>\n",
       "      <td>99.062981</td>\n",
       "      <td>89.058167</td>\n",
       "      <td>98.172554</td>\n",
       "      <td>87.772006</td>\n",
       "      <td>97.336389</td>\n",
       "      <td>97.371712</td>\n",
       "      <td>1.674641</td>\n",
       "    </tr>\n",
       "    <tr>\n",
       "      <th>2000-02-15</th>\n",
       "      <td>2068.90</td>\n",
       "      <td>1.225341</td>\n",
       "      <td>126.1700</td>\n",
       "      <td>83.260861</td>\n",
       "      <td>18.662103</td>\n",
       "      <td>248155.0</td>\n",
       "      <td>96.447718</td>\n",
       "      <td>73.261033</td>\n",
       "      <td>96.674584</td>\n",
       "      <td>79.253593</td>\n",
       "      <td>93.157809</td>\n",
       "      <td>90.210627</td>\n",
       "      <td>-2.640000</td>\n",
       "    </tr>\n",
       "    <tr>\n",
       "      <th>2000-02-16</th>\n",
       "      <td>2075.00</td>\n",
       "      <td>1.246006</td>\n",
       "      <td>125.6700</td>\n",
       "      <td>75.754360</td>\n",
       "      <td>17.763029</td>\n",
       "      <td>256662.0</td>\n",
       "      <td>96.732087</td>\n",
       "      <td>74.496555</td>\n",
       "      <td>96.291472</td>\n",
       "      <td>72.108373</td>\n",
       "      <td>88.669795</td>\n",
       "      <td>93.303136</td>\n",
       "      <td>0.294843</td>\n",
       "    </tr>\n",
       "    <tr>\n",
       "      <th>2000-02-17</th>\n",
       "      <td>2240.95</td>\n",
       "      <td>1.848351</td>\n",
       "      <td>130.8625</td>\n",
       "      <td>81.300839</td>\n",
       "      <td>18.112124</td>\n",
       "      <td>296910.0</td>\n",
       "      <td>104.468323</td>\n",
       "      <td>110.509724</td>\n",
       "      <td>100.270094</td>\n",
       "      <td>77.387905</td>\n",
       "      <td>90.412413</td>\n",
       "      <td>107.934304</td>\n",
       "      <td>7.997590</td>\n",
       "    </tr>\n",
       "    <tr>\n",
       "      <th>...</th>\n",
       "      <td>...</td>\n",
       "      <td>...</td>\n",
       "      <td>...</td>\n",
       "      <td>...</td>\n",
       "      <td>...</td>\n",
       "      <td>...</td>\n",
       "      <td>...</td>\n",
       "      <td>...</td>\n",
       "      <td>...</td>\n",
       "      <td>...</td>\n",
       "      <td>...</td>\n",
       "      <td>...</td>\n",
       "      <td>...</td>\n",
       "    </tr>\n",
       "    <tr>\n",
       "      <th>2021-03-17</th>\n",
       "      <td>585.20</td>\n",
       "      <td>0.682121</td>\n",
       "      <td>17.9600</td>\n",
       "      <td>-1.488529</td>\n",
       "      <td>16.856154</td>\n",
       "      <td>7598758.0</td>\n",
       "      <td>27.280779</td>\n",
       "      <td>40.782849</td>\n",
       "      <td>13.761398</td>\n",
       "      <td>-1.416887</td>\n",
       "      <td>84.142844</td>\n",
       "      <td>2762.340958</td>\n",
       "      <td>-2.798771</td>\n",
       "    </tr>\n",
       "    <tr>\n",
       "      <th>2021-03-18</th>\n",
       "      <td>574.50</td>\n",
       "      <td>0.594893</td>\n",
       "      <td>18.3000</td>\n",
       "      <td>-3.999505</td>\n",
       "      <td>18.296442</td>\n",
       "      <td>7374060.0</td>\n",
       "      <td>26.781968</td>\n",
       "      <td>35.567631</td>\n",
       "      <td>14.021914</td>\n",
       "      <td>-3.807013</td>\n",
       "      <td>91.332497</td>\n",
       "      <td>2680.657545</td>\n",
       "      <td>-1.828435</td>\n",
       "    </tr>\n",
       "    <tr>\n",
       "      <th>2021-03-19</th>\n",
       "      <td>578.60</td>\n",
       "      <td>0.647393</td>\n",
       "      <td>18.6500</td>\n",
       "      <td>-5.594151</td>\n",
       "      <td>20.001070</td>\n",
       "      <td>7557363.0</td>\n",
       "      <td>26.973101</td>\n",
       "      <td>38.706507</td>\n",
       "      <td>14.290093</td>\n",
       "      <td>-5.324909</td>\n",
       "      <td>99.841688</td>\n",
       "      <td>2747.292827</td>\n",
       "      <td>0.713664</td>\n",
       "    </tr>\n",
       "    <tr>\n",
       "      <th>2021-03-22</th>\n",
       "      <td>590.95</td>\n",
       "      <td>0.816829</td>\n",
       "      <td>18.3400</td>\n",
       "      <td>-5.794580</td>\n",
       "      <td>20.681635</td>\n",
       "      <td>7804331.0</td>\n",
       "      <td>27.548832</td>\n",
       "      <td>48.836764</td>\n",
       "      <td>14.052563</td>\n",
       "      <td>-5.515693</td>\n",
       "      <td>103.238945</td>\n",
       "      <td>2837.071949</td>\n",
       "      <td>2.134462</td>\n",
       "    </tr>\n",
       "    <tr>\n",
       "      <th>2021-03-23</th>\n",
       "      <td>587.90</td>\n",
       "      <td>0.781779</td>\n",
       "      <td>17.8950</td>\n",
       "      <td>-6.128882</td>\n",
       "      <td>21.210826</td>\n",
       "      <td>7650902.0</td>\n",
       "      <td>27.406648</td>\n",
       "      <td>46.741202</td>\n",
       "      <td>13.711593</td>\n",
       "      <td>-5.833905</td>\n",
       "      <td>105.880572</td>\n",
       "      <td>2781.296622</td>\n",
       "      <td>-0.516118</td>\n",
       "    </tr>\n",
       "  </tbody>\n",
       "</table>\n",
       "<p>5253 rows × 13 columns</p>\n",
       "</div>"
      ],
      "text/plain": [
       "              Close       RSI       ATR       MACD        adx        OBV  \\\n",
       "Date                                                                       \n",
       "2000-02-11  2090.00  1.364001  131.2700  97.046900  19.756105   246481.0   \n",
       "2000-02-14  2125.00  1.489559  128.1250  92.209986  19.499189   267854.0   \n",
       "2000-02-15  2068.90  1.225341  126.1700  83.260861  18.662103   248155.0   \n",
       "2000-02-16  2075.00  1.246006  125.6700  75.754360  17.763029   256662.0   \n",
       "2000-02-17  2240.95  1.848351  130.8625  81.300839  18.112124   296910.0   \n",
       "...             ...       ...       ...        ...        ...        ...   \n",
       "2021-03-17   585.20  0.682121   17.9600  -1.488529  16.856154  7598758.0   \n",
       "2021-03-18   574.50  0.594893   18.3000  -3.999505  18.296442  7374060.0   \n",
       "2021-03-19   578.60  0.647393   18.6500  -5.594151  20.001070  7557363.0   \n",
       "2021-03-22   590.95  0.816829   18.3400  -5.794580  20.681635  7804331.0   \n",
       "2021-03-23   587.90  0.781779   17.8950  -6.128882  21.210826  7650902.0   \n",
       "\n",
       "            Normalized Closing  Normalized RSI  Normalized ATR  \\\n",
       "Date                                                             \n",
       "2000-02-11           97.431355       81.551223      100.582331   \n",
       "2000-02-14           99.062981       89.058167       98.172554   \n",
       "2000-02-15           96.447718       73.261033       96.674584   \n",
       "2000-02-16           96.732087       74.496555       96.291472   \n",
       "2000-02-17          104.468323      110.509724      100.270094   \n",
       "...                        ...             ...             ...   \n",
       "2021-03-17           27.280779       40.782849       13.761398   \n",
       "2021-03-18           26.781968       35.567631       14.021914   \n",
       "2021-03-19           26.973101       38.706507       14.290093   \n",
       "2021-03-22           27.548832       48.836764       14.052563   \n",
       "2021-03-23           27.406648       46.741202       13.711593   \n",
       "\n",
       "            Normalized MACD  Normalized ADX  Normalized OBV  Stock_Returns  \n",
       "Date                                                                        \n",
       "2000-02-11        92.376124       98.618868       89.602085      -2.568645  \n",
       "2000-02-14        87.772006       97.336389       97.371712       1.674641  \n",
       "2000-02-15        79.253593       93.157809       90.210627      -2.640000  \n",
       "2000-02-16        72.108373       88.669795       93.303136       0.294843  \n",
       "2000-02-17        77.387905       90.412413      107.934304       7.997590  \n",
       "...                     ...             ...             ...            ...  \n",
       "2021-03-17        -1.416887       84.142844     2762.340958      -2.798771  \n",
       "2021-03-18        -3.807013       91.332497     2680.657545      -1.828435  \n",
       "2021-03-19        -5.324909       99.841688     2747.292827       0.713664  \n",
       "2021-03-22        -5.515693      103.238945     2837.071949       2.134462  \n",
       "2021-03-23        -5.833905      105.880572     2781.296622      -0.516118  \n",
       "\n",
       "[5253 rows x 13 columns]"
      ]
     },
     "execution_count": 94,
     "metadata": {},
     "output_type": "execute_result"
    }
   ],
   "source": [
    "ScriptWiseData[stocks[0]]"
   ]
  },
  {
   "cell_type": "code",
   "execution_count": 95,
   "metadata": {
    "id": "QbgXCdXYsQES"
   },
   "outputs": [],
   "source": [
    "# Train and fit varmax model\n",
    "def VARMAXProcedure(stockSymbol, column = 'Close'):\n",
    "    data = ScriptWiseData[stockSymbol]\n",
    "    data.index = pd.to_datetime(data.index)\n",
    "    data=data.asfreq('D')\n",
    "    data = data.fillna(method='ffill')\n",
    "    data = data[[column]+TechnicalIndicators]\n",
    "    r = auto_arima(data[column], exogenous=data[TechnicalIndicators], maxiter=1000) #seasonality, m parameters pending\n",
    "    p, d, q = r.order\n",
    "    if(p==0 and q==0):\n",
    "        p = 1\n",
    "    # make data stationary based on auto arima output\n",
    "    \n",
    "    # train test split  \n",
    "    train, test = TrainTestSplitByDateRange(data)\n",
    "    \n",
    "    # fit the model based on above parameters\n",
    "    model = VARMAX(train, order=(p,q))\n",
    "    results = model.fit(maxiter=1000, disp=False)\n",
    "    forecasts = results.forecast(len(test))\n",
    "    \n",
    "    #     forecasts = InvertDifferencingForActualResults()\n",
    "    return results, forecasts, test"
   ]
  },
  {
   "cell_type": "code",
   "execution_count": 96,
   "metadata": {
    "id": "VUHzF1DPsQEU"
   },
   "outputs": [],
   "source": [
    "# import datetime\n",
    "# try:\n",
    "#     VarmaxResults = pd.read_csv('./Outputs/VarmaxResults.csv')\n",
    "# except FileNotFoundError:\n",
    "#     VarmaxResults = pd.DataFrame(columns = ['StockName','MAE','MAPE', 'RMSE', 'AdjustedR2', 'Noise', 'Model'], index = stocks)\n",
    "    \n",
    "# for s in stocks:\n",
    "#     print(getStockNameFromStockCode(s))\n",
    "#     try:\n",
    "#         print(datetime.datetime.now())\n",
    "#         if(np.isnan(VarmaxResults.loc[s, 'MAE'])):\n",
    "#             model, forecasts, test = VARMAXProcedure(s)\n",
    "#             print(f'Model Complete for {getStockNameFromStockCode(s)}')\n",
    "#             VarmaxResults.loc[s, ['Model']] =  model\n",
    "#             VarmaxResults.loc[s, ['StockName']] =  getStockNameFromStockCode(s)\n",
    "#             VarmaxResults.loc[s, ['MAE']] =  mean_absolute_error(forecasts.Close, test.Close)\n",
    "#             VarmaxResults.loc[s, ['RMSE']] = mean_squared_error(forecasts.Close, test.Close, squared=False)\n",
    "#             VarmaxResults.loc[s, ['MAPE']] = mean_absolute_percentage_error(forecasts.Close, test.Close)\n",
    "#             VarmaxResults.loc[s, ['AdjustedR2']] = r2_score(forecasts.Close, test.Close)\n",
    "#             VarmaxResults.loc[s, ['Noise']] = forecasts.Close.diff().abs().mean()\n",
    "#             VarmaxResults.to_csv('./Outputs/VarmaxResults.csv')\n",
    "#             print('Success')\n",
    "#         else:\n",
    "#             print('Already exists')\n",
    "#         print(datetime.datetime.now())\n",
    "#     except:\n",
    "#         print(f\"Error Occured {getStockNameFromStockCode(s)}\", sys.exc_info())"
   ]
  },
  {
   "cell_type": "markdown",
   "metadata": {},
   "source": [
    "## Varmax for Stock_Returns"
   ]
  },
  {
   "cell_type": "code",
   "execution_count": 97,
   "metadata": {},
   "outputs": [
    {
     "data": {
      "text/html": [
       "<div>\n",
       "<style scoped>\n",
       "    .dataframe tbody tr th:only-of-type {\n",
       "        vertical-align: middle;\n",
       "    }\n",
       "\n",
       "    .dataframe tbody tr th {\n",
       "        vertical-align: top;\n",
       "    }\n",
       "\n",
       "    .dataframe thead th {\n",
       "        text-align: right;\n",
       "    }\n",
       "</style>\n",
       "<table border=\"1\" class=\"dataframe\">\n",
       "  <thead>\n",
       "    <tr style=\"text-align: right;\">\n",
       "      <th></th>\n",
       "      <th>Close</th>\n",
       "      <th>RSI</th>\n",
       "      <th>ATR</th>\n",
       "      <th>MACD</th>\n",
       "      <th>adx</th>\n",
       "      <th>OBV</th>\n",
       "      <th>Normalized Closing</th>\n",
       "      <th>Normalized RSI</th>\n",
       "      <th>Normalized ATR</th>\n",
       "      <th>Normalized MACD</th>\n",
       "      <th>Normalized ADX</th>\n",
       "      <th>Normalized OBV</th>\n",
       "      <th>Stock_Returns</th>\n",
       "    </tr>\n",
       "    <tr>\n",
       "      <th>Date</th>\n",
       "      <th></th>\n",
       "      <th></th>\n",
       "      <th></th>\n",
       "      <th></th>\n",
       "      <th></th>\n",
       "      <th></th>\n",
       "      <th></th>\n",
       "      <th></th>\n",
       "      <th></th>\n",
       "      <th></th>\n",
       "      <th></th>\n",
       "      <th></th>\n",
       "      <th></th>\n",
       "    </tr>\n",
       "  </thead>\n",
       "  <tbody>\n",
       "    <tr>\n",
       "      <th>2000-02-11</th>\n",
       "      <td>2090.00</td>\n",
       "      <td>1.364001</td>\n",
       "      <td>131.2700</td>\n",
       "      <td>97.046900</td>\n",
       "      <td>19.756105</td>\n",
       "      <td>246481.0</td>\n",
       "      <td>97.431355</td>\n",
       "      <td>81.551223</td>\n",
       "      <td>100.582331</td>\n",
       "      <td>92.376124</td>\n",
       "      <td>98.618868</td>\n",
       "      <td>89.602085</td>\n",
       "      <td>-2.568645</td>\n",
       "    </tr>\n",
       "    <tr>\n",
       "      <th>2000-02-14</th>\n",
       "      <td>2125.00</td>\n",
       "      <td>1.489559</td>\n",
       "      <td>128.1250</td>\n",
       "      <td>92.209986</td>\n",
       "      <td>19.499189</td>\n",
       "      <td>267854.0</td>\n",
       "      <td>99.062981</td>\n",
       "      <td>89.058167</td>\n",
       "      <td>98.172554</td>\n",
       "      <td>87.772006</td>\n",
       "      <td>97.336389</td>\n",
       "      <td>97.371712</td>\n",
       "      <td>1.674641</td>\n",
       "    </tr>\n",
       "    <tr>\n",
       "      <th>2000-02-15</th>\n",
       "      <td>2068.90</td>\n",
       "      <td>1.225341</td>\n",
       "      <td>126.1700</td>\n",
       "      <td>83.260861</td>\n",
       "      <td>18.662103</td>\n",
       "      <td>248155.0</td>\n",
       "      <td>96.447718</td>\n",
       "      <td>73.261033</td>\n",
       "      <td>96.674584</td>\n",
       "      <td>79.253593</td>\n",
       "      <td>93.157809</td>\n",
       "      <td>90.210627</td>\n",
       "      <td>-2.640000</td>\n",
       "    </tr>\n",
       "    <tr>\n",
       "      <th>2000-02-16</th>\n",
       "      <td>2075.00</td>\n",
       "      <td>1.246006</td>\n",
       "      <td>125.6700</td>\n",
       "      <td>75.754360</td>\n",
       "      <td>17.763029</td>\n",
       "      <td>256662.0</td>\n",
       "      <td>96.732087</td>\n",
       "      <td>74.496555</td>\n",
       "      <td>96.291472</td>\n",
       "      <td>72.108373</td>\n",
       "      <td>88.669795</td>\n",
       "      <td>93.303136</td>\n",
       "      <td>0.294843</td>\n",
       "    </tr>\n",
       "    <tr>\n",
       "      <th>2000-02-17</th>\n",
       "      <td>2240.95</td>\n",
       "      <td>1.848351</td>\n",
       "      <td>130.8625</td>\n",
       "      <td>81.300839</td>\n",
       "      <td>18.112124</td>\n",
       "      <td>296910.0</td>\n",
       "      <td>104.468323</td>\n",
       "      <td>110.509724</td>\n",
       "      <td>100.270094</td>\n",
       "      <td>77.387905</td>\n",
       "      <td>90.412413</td>\n",
       "      <td>107.934304</td>\n",
       "      <td>7.997590</td>\n",
       "    </tr>\n",
       "  </tbody>\n",
       "</table>\n",
       "</div>"
      ],
      "text/plain": [
       "              Close       RSI       ATR       MACD        adx       OBV  \\\n",
       "Date                                                                      \n",
       "2000-02-11  2090.00  1.364001  131.2700  97.046900  19.756105  246481.0   \n",
       "2000-02-14  2125.00  1.489559  128.1250  92.209986  19.499189  267854.0   \n",
       "2000-02-15  2068.90  1.225341  126.1700  83.260861  18.662103  248155.0   \n",
       "2000-02-16  2075.00  1.246006  125.6700  75.754360  17.763029  256662.0   \n",
       "2000-02-17  2240.95  1.848351  130.8625  81.300839  18.112124  296910.0   \n",
       "\n",
       "            Normalized Closing  Normalized RSI  Normalized ATR  \\\n",
       "Date                                                             \n",
       "2000-02-11           97.431355       81.551223      100.582331   \n",
       "2000-02-14           99.062981       89.058167       98.172554   \n",
       "2000-02-15           96.447718       73.261033       96.674584   \n",
       "2000-02-16           96.732087       74.496555       96.291472   \n",
       "2000-02-17          104.468323      110.509724      100.270094   \n",
       "\n",
       "            Normalized MACD  Normalized ADX  Normalized OBV  Stock_Returns  \n",
       "Date                                                                        \n",
       "2000-02-11        92.376124       98.618868       89.602085      -2.568645  \n",
       "2000-02-14        87.772006       97.336389       97.371712       1.674641  \n",
       "2000-02-15        79.253593       93.157809       90.210627      -2.640000  \n",
       "2000-02-16        72.108373       88.669795       93.303136       0.294843  \n",
       "2000-02-17        77.387905       90.412413      107.934304       7.997590  "
      ]
     },
     "execution_count": 97,
     "metadata": {},
     "output_type": "execute_result"
    }
   ],
   "source": [
    "ScriptWiseData[stocks[0]].head()"
   ]
  },
  {
   "cell_type": "code",
   "execution_count": 98,
   "metadata": {},
   "outputs": [],
   "source": [
    "# import datetime\n",
    "# try:\n",
    "#     VarmaxResultsForReturns = pd.read_csv('./Outputs/VarmaxResultsForReturns.csv')\n",
    "# except FileNotFoundError:\n",
    "#     VarmaxResultsForReturns = pd.DataFrame(columns = ['StockName','MAE','MAPE', 'RMSE', 'AdjustedR2', 'Noise', 'Model'], index = stocks)\n",
    "    \n",
    "# for s in stocks:\n",
    "#     print(getStockNameFromStockCode(s))\n",
    "#     try:\n",
    "#         print(datetime.datetime.now())\n",
    "#         if(np.isnan(VarmaxResultsForReturns.loc[s, 'MAE'])):\n",
    "#             model, forecasts, test = VARMAXProcedure(s, 'Stock_Returns')\n",
    "#             print(f'Model Complete for {getStockNameFromStockCode(s)}')\n",
    "#             VarmaxResultsForReturns.loc[s, ['Model']] =  model\n",
    "#             VarmaxResultsForReturns.loc[s, ['StockName']] =  getStockNameFromStockCode(s)\n",
    "#             VarmaxResultsForReturns.loc[s, ['MAE']] =  mean_absolute_error(forecasts.Close, test.Close)\n",
    "#             VarmaxResultsForReturns.loc[s, ['RMSE']] = mean_squared_error(forecasts.Close, test.Close, squared=False)\n",
    "#             VarmaxResultsForReturns.loc[s, ['MAPE']] = mean_absolute_percentage_error(forecasts.Close, test.Close)\n",
    "#             VarmaxResultsForReturns.loc[s, ['AdjustedR2']] = r2_score(forecasts.Close, test.Close)\n",
    "#             VarmaxResultsForReturns.loc[s, ['Noise']] = forecasts.Close.diff().abs().mean()\n",
    "#             VarmaxResultsForReturns.to_csv('./Outputs/VarmaxResultsForReturns.csv')\n",
    "#             print('Success')\n",
    "#         else:\n",
    "#             print('Already exists')\n",
    "#         print(datetime.datetime.now())\n",
    "#     except:\n",
    "#         print(f\"Error Occured {getStockNameFromStockCode(s)}\", sys.exc_info())"
   ]
  },
  {
   "cell_type": "code",
   "execution_count": 99,
   "metadata": {},
   "outputs": [],
   "source": [
    "# VarmaxResultsForReturns"
   ]
  },
  {
   "cell_type": "markdown",
   "metadata": {
    "id": "1UaFn7irsQEU"
   },
   "source": [
    "## Prophet models"
   ]
  },
  {
   "cell_type": "code",
   "execution_count": 100,
   "metadata": {
    "id": "g_H7mhX2sQEV"
   },
   "outputs": [],
   "source": [
    "from fbprophet.diagnostics import cross_validation, performance_metrics\n",
    "from fbprophet.plot import plot_cross_validation_metric\n",
    "\n",
    "df_start_date = pd.to_datetime(start_date)\n",
    "df_end_date = pd.to_datetime(end_date)"
   ]
  },
  {
   "cell_type": "code",
   "execution_count": 101,
   "metadata": {
    "id": "4C7KesBmySj2"
   },
   "outputs": [],
   "source": [
    "def ProphetProcedure(stockCode, start_date = start_date, end_date = end_date):\n",
    "    df = ScriptWiseData[stockCode][['Close']]\n",
    "    df.index = pd.to_datetime(df.index)\n",
    "    df = df.reset_index()\n",
    "    \n",
    "    df.columns = ['ds', 'y']\n",
    "    \n",
    "    test_start_date = pd.to_datetime(start_date)\n",
    "    test_end_date = pd.to_datetime(end_date)\n",
    "    \n",
    "    train = df.loc[df.ds<df_start_date]\n",
    "    test = df.loc[df.ds>=df_start_date]\n",
    "    m = Prophet()\n",
    "\n",
    "    m.fit(train)\n",
    "    future = m.make_future_dataframe(periods = len(test)-1, freq = \"B\")\n",
    "#     test_t = test.set_index('ds')\n",
    "#     future = future.set_index('ds')\n",
    "#     future = test_t[].join(future).reset_index()\n",
    "    forecast = m.predict(future)\n",
    "    \n",
    "        # initial\n",
    "    initial = str(5*365)+' days'\n",
    "\n",
    "    #period\n",
    "    period = str(365)+' days'\n",
    "\n",
    "    #horizon\n",
    "    horizon = str(365) + ' days'\n",
    "    df_cv = cross_validation(m, initial = initial, period = period, horizon = horizon)\n",
    "    \n",
    "    return m, forecast, df_cv"
   ]
  },
  {
   "cell_type": "code",
   "execution_count": 102,
   "metadata": {
    "id": "BF9hJKuPsQEW"
   },
   "outputs": [],
   "source": [
    "def ProphetProcedureWithExogenousVariables(stockCode, start_date = start_date, end_date = end_date):\n",
    "    df = ScriptWiseData[stockCode][['Close']+TechnicalIndicators]\n",
    "    df.index = pd.to_datetime(df.index)\n",
    "    df = df.reset_index()\n",
    "    \n",
    "    df.columns = ['ds', 'y'] + TechnicalIndicators\n",
    "    \n",
    "    test_start_date = pd.to_datetime(start_date)\n",
    "    test_end_date = pd.to_datetime(end_date)\n",
    "    \n",
    "    train = df.loc[df.ds<df_start_date]\n",
    "    test = df.loc[df.ds>=df_start_date]\n",
    "#     return df, 1\n",
    "    m = Prophet()\n",
    "    for t in TechnicalIndicators:\n",
    "        m.add_regressor(t)\n",
    "    m.fit(train)\n",
    "    future = m.make_future_dataframe(periods = len(test)-1, freq = \"B\")\n",
    "    test_t = test.set_index('ds')\n",
    "    future = future.set_index('ds')\n",
    "    future = test_t[TechnicalIndicators].join(future).reset_index()\n",
    "    forecast = m.predict(future)\n",
    "    \n",
    "        # initial\n",
    "    initial = str(5*365)+' days'\n",
    "\n",
    "    #period\n",
    "    period = str(365)+' days'\n",
    "\n",
    "    #horizon\n",
    "    horizon = str(365) + ' days'\n",
    "    df_cv = cross_validation(m, initial = initial, period = period, horizon = horizon)\n",
    "    \n",
    "    return m, forecast, df_cv"
   ]
  },
  {
   "cell_type": "code",
   "execution_count": 103,
   "metadata": {
    "id": "abgGChmWySj3"
   },
   "outputs": [],
   "source": [
    "# Hyper parameter tuning\n",
    "# param_grid = {  \n",
    "#     'changepoint_prior_scale': [0.001, 0.01, 0.1, 0.5],\n",
    "#     'seasonality_prior_scale': [0.01, 0.1, 1.0, 10.0],\n",
    "# }\n",
    "\n",
    "# # Generate all combinations of parameters\n",
    "# all_params = [dict(zip(param_grid.keys(), v)) for v in itertools.product(*param_grid.values())]\n",
    "# rmses = []  # Store the RMSEs for each params here\n",
    "\n",
    "# # Use cross validation to evaluate all parameters\n",
    "# for params in all_params:\n",
    "#     m = Prophet(**params).fit(df)  # Fit model with given params\n",
    "#     df_cv = cross_validation(m, cutoffs=cutoffs, horizon='30 days', parallel=\"processes\")\n",
    "#     df_p = performance_metrics(df_cv, rolling_window=1)\n",
    "#     rmses.append(df_p['rmse'].values[0])\n",
    "\n",
    "# # Find the best parameters\n",
    "# tuning_results = pd.DataFrame(all_params)\n",
    "# tuning_results['rmse'] = rmses\n",
    "# print(tuning_results)"
   ]
  },
  {
   "cell_type": "code",
   "execution_count": 104,
   "metadata": {
    "id": "iZQ7DRbWCxwK"
   },
   "outputs": [],
   "source": [
    "# try:\n",
    "#     ProphetSingleRegressionResults = pd.read_csv('./Outputs/ProphetSingleRegressionResults.csv')\n",
    "# except FileNotFoundError:\n",
    "ProphetSingleRegressionResults = pd.DataFrame(columns = ['StockName','MAE','MAPE', 'RMSE', 'AdjustedR2', 'Noise', 'Model'], index = stocks)    "
   ]
  },
  {
   "cell_type": "code",
   "execution_count": 105,
   "metadata": {
    "id": "zK5q6e0vySj3"
   },
   "outputs": [
    {
     "name": "stdout",
     "output_type": "stream",
     "text": [
      "BOM524715\n"
     ]
    },
    {
     "name": "stderr",
     "output_type": "stream",
     "text": [
      "INFO:fbprophet:Disabling daily seasonality. Run prophet with daily_seasonality=True to override this.\n",
      "INFO:fbprophet:Making 15 forecasts with cutoffs between 2005-03-03 00:00:00 and 2019-02-28 00:00:00\n"
     ]
    },
    {
     "data": {
      "application/vnd.jupyter.widget-view+json": {
       "model_id": "7179beaf956441a4ae90bdb05b036a57",
       "version_major": 2,
       "version_minor": 0
      },
      "text/plain": [
       "  0%|          | 0/15 [00:00<?, ?it/s]"
      ]
     },
     "metadata": {},
     "output_type": "display_data"
    },
    {
     "name": "stderr",
     "output_type": "stream",
     "text": [
      "INFO:fbprophet:Disabling daily seasonality. Run prophet with daily_seasonality=True to override this.\n"
     ]
    },
    {
     "name": "stdout",
     "output_type": "stream",
     "text": [
      "Success\n",
      "BOM532488\n"
     ]
    },
    {
     "name": "stderr",
     "output_type": "stream",
     "text": [
      "INFO:fbprophet:Making 11 forecasts with cutoffs between 2009-03-02 00:00:00 and 2019-02-28 00:00:00\n"
     ]
    },
    {
     "data": {
      "application/vnd.jupyter.widget-view+json": {
       "model_id": "c2d733e2b9274a438943521ef8d59919",
       "version_major": 2,
       "version_minor": 0
      },
      "text/plain": [
       "  0%|          | 0/11 [00:00<?, ?it/s]"
      ]
     },
     "metadata": {},
     "output_type": "display_data"
    },
    {
     "name": "stderr",
     "output_type": "stream",
     "text": [
      "INFO:fbprophet:Disabling daily seasonality. Run prophet with daily_seasonality=True to override this.\n"
     ]
    },
    {
     "name": "stdout",
     "output_type": "stream",
     "text": [
      "Success\n",
      "BOM500124\n"
     ]
    },
    {
     "name": "stderr",
     "output_type": "stream",
     "text": [
      "INFO:fbprophet:Making 15 forecasts with cutoffs between 2005-03-03 00:00:00 and 2019-02-28 00:00:00\n"
     ]
    },
    {
     "data": {
      "application/vnd.jupyter.widget-view+json": {
       "model_id": "70edb8d322634037aa9a932bad8c29c7",
       "version_major": 2,
       "version_minor": 0
      },
      "text/plain": [
       "  0%|          | 0/15 [00:00<?, ?it/s]"
      ]
     },
     "metadata": {},
     "output_type": "display_data"
    },
    {
     "name": "stderr",
     "output_type": "stream",
     "text": [
      "INFO:fbprophet:Disabling daily seasonality. Run prophet with daily_seasonality=True to override this.\n"
     ]
    },
    {
     "name": "stdout",
     "output_type": "stream",
     "text": [
      "Success\n",
      "BOM500180\n"
     ]
    },
    {
     "name": "stderr",
     "output_type": "stream",
     "text": [
      "INFO:fbprophet:Making 15 forecasts with cutoffs between 2005-03-03 00:00:00 and 2019-02-28 00:00:00\n"
     ]
    },
    {
     "data": {
      "application/vnd.jupyter.widget-view+json": {
       "model_id": "a695501c880142d2a38185c68305a143",
       "version_major": 2,
       "version_minor": 0
      },
      "text/plain": [
       "  0%|          | 0/15 [00:00<?, ?it/s]"
      ]
     },
     "metadata": {},
     "output_type": "display_data"
    },
    {
     "name": "stderr",
     "output_type": "stream",
     "text": [
      "INFO:fbprophet:Disabling daily seasonality. Run prophet with daily_seasonality=True to override this.\n"
     ]
    },
    {
     "name": "stdout",
     "output_type": "stream",
     "text": [
      "Success\n",
      "BOM532174\n"
     ]
    },
    {
     "name": "stderr",
     "output_type": "stream",
     "text": [
      "INFO:fbprophet:Making 15 forecasts with cutoffs between 2005-03-03 00:00:00 and 2019-02-28 00:00:00\n"
     ]
    },
    {
     "data": {
      "application/vnd.jupyter.widget-view+json": {
       "model_id": "3f353c93ae0e484faf94e9fd15e7a901",
       "version_major": 2,
       "version_minor": 0
      },
      "text/plain": [
       "  0%|          | 0/15 [00:00<?, ?it/s]"
      ]
     },
     "metadata": {},
     "output_type": "display_data"
    },
    {
     "name": "stderr",
     "output_type": "stream",
     "text": [
      "INFO:fbprophet:Disabling daily seasonality. Run prophet with daily_seasonality=True to override this.\n"
     ]
    },
    {
     "name": "stdout",
     "output_type": "stream",
     "text": [
      "Success\n",
      "BOM500247\n"
     ]
    },
    {
     "name": "stderr",
     "output_type": "stream",
     "text": [
      "INFO:fbprophet:Making 15 forecasts with cutoffs between 2005-03-03 00:00:00 and 2019-02-28 00:00:00\n"
     ]
    },
    {
     "data": {
      "application/vnd.jupyter.widget-view+json": {
       "model_id": "fc2bcb25ad9e4e259f5c8ead73dd6209",
       "version_major": 2,
       "version_minor": 0
      },
      "text/plain": [
       "  0%|          | 0/15 [00:00<?, ?it/s]"
      ]
     },
     "metadata": {},
     "output_type": "display_data"
    },
    {
     "name": "stderr",
     "output_type": "stream",
     "text": [
      "INFO:fbprophet:Disabling daily seasonality. Run prophet with daily_seasonality=True to override this.\n"
     ]
    },
    {
     "name": "stdout",
     "output_type": "stream",
     "text": [
      "Success\n",
      "BOM500470\n"
     ]
    },
    {
     "name": "stderr",
     "output_type": "stream",
     "text": [
      "INFO:fbprophet:Making 15 forecasts with cutoffs between 2005-03-03 00:00:00 and 2019-02-28 00:00:00\n"
     ]
    },
    {
     "data": {
      "application/vnd.jupyter.widget-view+json": {
       "model_id": "ce38539dbb5c4732af835c69ad16fe4b",
       "version_major": 2,
       "version_minor": 0
      },
      "text/plain": [
       "  0%|          | 0/15 [00:00<?, ?it/s]"
      ]
     },
     "metadata": {},
     "output_type": "display_data"
    },
    {
     "name": "stderr",
     "output_type": "stream",
     "text": [
      "INFO:fbprophet:Disabling daily seasonality. Run prophet with daily_seasonality=True to override this.\n"
     ]
    },
    {
     "name": "stdout",
     "output_type": "stream",
     "text": [
      "Success\n",
      "BOM500228\n"
     ]
    },
    {
     "name": "stderr",
     "output_type": "stream",
     "text": [
      "INFO:fbprophet:Making 15 forecasts with cutoffs between 2005-03-03 00:00:00 and 2019-02-28 00:00:00\n"
     ]
    },
    {
     "data": {
      "application/vnd.jupyter.widget-view+json": {
       "model_id": "00bd92b2c9b741979a56a029dbb9a492",
       "version_major": 2,
       "version_minor": 0
      },
      "text/plain": [
       "  0%|          | 0/15 [00:00<?, ?it/s]"
      ]
     },
     "metadata": {},
     "output_type": "display_data"
    },
    {
     "name": "stderr",
     "output_type": "stream",
     "text": [
      "INFO:fbprophet:Disabling daily seasonality. Run prophet with daily_seasonality=True to override this.\n"
     ]
    },
    {
     "name": "stdout",
     "output_type": "stream",
     "text": [
      "Success\n",
      "BOM500440\n"
     ]
    },
    {
     "name": "stderr",
     "output_type": "stream",
     "text": [
      "INFO:fbprophet:Making 15 forecasts with cutoffs between 2005-03-03 00:00:00 and 2019-02-28 00:00:00\n"
     ]
    },
    {
     "data": {
      "application/vnd.jupyter.widget-view+json": {
       "model_id": "443a2c87770248eaa9231883f240f2cb",
       "version_major": 2,
       "version_minor": 0
      },
      "text/plain": [
       "  0%|          | 0/15 [00:00<?, ?it/s]"
      ]
     },
     "metadata": {},
     "output_type": "display_data"
    },
    {
     "name": "stderr",
     "output_type": "stream",
     "text": [
      "INFO:fbprophet:Disabling daily seasonality. Run prophet with daily_seasonality=True to override this.\n"
     ]
    },
    {
     "name": "stdout",
     "output_type": "stream",
     "text": [
      "Success\n",
      "BOM532977\n"
     ]
    },
    {
     "name": "stderr",
     "output_type": "stream",
     "text": [
      "INFO:fbprophet:Making 6 forecasts with cutoffs between 2014-03-01 00:00:00 and 2019-02-28 00:00:00\n"
     ]
    },
    {
     "data": {
      "application/vnd.jupyter.widget-view+json": {
       "model_id": "af8e731934f0428591a4798b5a549b0f",
       "version_major": 2,
       "version_minor": 0
      },
      "text/plain": [
       "  0%|          | 0/6 [00:00<?, ?it/s]"
      ]
     },
     "metadata": {},
     "output_type": "display_data"
    },
    {
     "name": "stderr",
     "output_type": "stream",
     "text": [
      "INFO:fbprophet:Disabling daily seasonality. Run prophet with daily_seasonality=True to override this.\n"
     ]
    },
    {
     "name": "stdout",
     "output_type": "stream",
     "text": [
      "Success\n",
      "BOM500570\n"
     ]
    },
    {
     "name": "stderr",
     "output_type": "stream",
     "text": [
      "INFO:fbprophet:Making 15 forecasts with cutoffs between 2005-03-03 00:00:00 and 2019-02-28 00:00:00\n"
     ]
    },
    {
     "data": {
      "application/vnd.jupyter.widget-view+json": {
       "model_id": "7c61aa8c86ed41539d46fa0ecb87d194",
       "version_major": 2,
       "version_minor": 0
      },
      "text/plain": [
       "  0%|          | 0/15 [00:00<?, ?it/s]"
      ]
     },
     "metadata": {},
     "output_type": "display_data"
    },
    {
     "name": "stderr",
     "output_type": "stream",
     "text": [
      "INFO:fbprophet:Disabling daily seasonality. Run prophet with daily_seasonality=True to override this.\n"
     ]
    },
    {
     "name": "stdout",
     "output_type": "stream",
     "text": [
      "Success\n",
      "BOM532500\n"
     ]
    },
    {
     "name": "stderr",
     "output_type": "stream",
     "text": [
      "INFO:fbprophet:Making 11 forecasts with cutoffs between 2009-03-02 00:00:00 and 2019-02-28 00:00:00\n"
     ]
    },
    {
     "data": {
      "application/vnd.jupyter.widget-view+json": {
       "model_id": "616374f60e1947af921230f7b5f55b47",
       "version_major": 2,
       "version_minor": 0
      },
      "text/plain": [
       "  0%|          | 0/11 [00:00<?, ?it/s]"
      ]
     },
     "metadata": {},
     "output_type": "display_data"
    },
    {
     "name": "stderr",
     "output_type": "stream",
     "text": [
      "INFO:fbprophet:Disabling daily seasonality. Run prophet with daily_seasonality=True to override this.\n"
     ]
    },
    {
     "name": "stdout",
     "output_type": "stream",
     "text": [
      "Success\n",
      "BOM500209\n"
     ]
    },
    {
     "name": "stderr",
     "output_type": "stream",
     "text": [
      "INFO:fbprophet:Making 15 forecasts with cutoffs between 2005-03-03 00:00:00 and 2019-02-28 00:00:00\n"
     ]
    },
    {
     "data": {
      "application/vnd.jupyter.widget-view+json": {
       "model_id": "01422058b3494a2ea4421f596c958e1f",
       "version_major": 2,
       "version_minor": 0
      },
      "text/plain": [
       "  0%|          | 0/15 [00:00<?, ?it/s]"
      ]
     },
     "metadata": {},
     "output_type": "display_data"
    },
    {
     "name": "stderr",
     "output_type": "stream",
     "text": [
      "INFO:fbprophet:Disabling daily seasonality. Run prophet with daily_seasonality=True to override this.\n"
     ]
    },
    {
     "name": "stdout",
     "output_type": "stream",
     "text": [
      "Success\n",
      "BOM532540\n"
     ]
    },
    {
     "name": "stderr",
     "output_type": "stream",
     "text": [
      "INFO:fbprophet:Making 10 forecasts with cutoffs between 2010-03-02 00:00:00 and 2019-02-28 00:00:00\n"
     ]
    },
    {
     "data": {
      "application/vnd.jupyter.widget-view+json": {
       "model_id": "362248ec1b01463d860848e7e71f96c3",
       "version_major": 2,
       "version_minor": 0
      },
      "text/plain": [
       "  0%|          | 0/10 [00:00<?, ?it/s]"
      ]
     },
     "metadata": {},
     "output_type": "display_data"
    },
    {
     "name": "stderr",
     "output_type": "stream",
     "text": [
      "INFO:fbprophet:Disabling daily seasonality. Run prophet with daily_seasonality=True to override this.\n"
     ]
    },
    {
     "name": "stdout",
     "output_type": "stream",
     "text": [
      "Success\n",
      "BOM507685\n"
     ]
    },
    {
     "name": "stderr",
     "output_type": "stream",
     "text": [
      "INFO:fbprophet:Making 15 forecasts with cutoffs between 2005-03-03 00:00:00 and 2019-02-28 00:00:00\n"
     ]
    },
    {
     "data": {
      "application/vnd.jupyter.widget-view+json": {
       "model_id": "d503ee80161d4be3801d3232dbe6c3a0",
       "version_major": 2,
       "version_minor": 0
      },
      "text/plain": [
       "  0%|          | 0/15 [00:00<?, ?it/s]"
      ]
     },
     "metadata": {},
     "output_type": "display_data"
    },
    {
     "name": "stdout",
     "output_type": "stream",
     "text": [
      "Success\n"
     ]
    }
   ],
   "source": [
    "# initalize result variable\n",
    "for s in stocks:\n",
    "    print(s)\n",
    "    try:\n",
    "        m, forecast, df_cv = ProphetProcedure(s)\n",
    "        val_metrics = performance_metrics(df_cv)\n",
    "        ProphetSingleRegressionResults.loc[s, ['StockName']] =  getStockNameFromStockCode(s)\n",
    "        ProphetSingleRegressionResults.loc[s, ['MAE']] =  val_metrics['mae'][0]\n",
    "        ProphetSingleRegressionResults.loc[s, ['RMSE']] = np.sqrt(val_metrics['mse'][0])\n",
    "        t = df_cv.dropna()\n",
    "        ProphetSingleRegressionResults.loc[s, ['MAPE']] = mean_absolute_percentage_error(t.y, t.yhat)\n",
    "        ProphetSingleRegressionResults.loc[s, ['AdjustedR2']] = r2_score(t.y, t.yhat)\n",
    "        ProphetSingleRegressionResults.loc[s, ['Noise']] = t.yhat.diff().abs().mean()\n",
    "        ProphetSingleRegressionResults.loc[s, ['Model']] = m\n",
    "        ProphetSingleRegressionResults.loc[s, ['Forecast']] = forecast\n",
    "        print('Success')\n",
    "    except:\n",
    "        print(\"Error Occured\", sys.exc_info())\n",
    "        \n",
    "ProphetSingleRegressionResults.to_csv('./Outputs/ProphetSingleRegressionResults.csv')"
   ]
  },
  {
   "cell_type": "code",
   "execution_count": 106,
   "metadata": {},
   "outputs": [
    {
     "data": {
      "text/plain": [
       "fbprophet.forecaster.Prophet"
      ]
     },
     "execution_count": 106,
     "metadata": {},
     "output_type": "execute_result"
    }
   ],
   "source": [
    "m = ProphetSingleRegressionResults.loc['BOM524715', 'Model']\n",
    "type(m)"
   ]
  },
  {
   "cell_type": "code",
   "execution_count": 107,
   "metadata": {
    "id": "DmZ1UfXQCxwL"
   },
   "outputs": [],
   "source": [
    "# try:\n",
    "#     ProphetMultipleRegressionResults = pd.read_csv('./Outputs/ProphetMultipleRegressionResults.csv')\n",
    "# except FileNotFoundError:\n",
    "ProphetMultipleRegressionResults = pd.DataFrame(columns = ['StockName','MAE','MAPE', 'RMSE', 'AdjustedR2', 'Noise', 'Model'], index = stocks)    "
   ]
  },
  {
   "cell_type": "code",
   "execution_count": null,
   "metadata": {},
   "outputs": [],
   "source": []
  },
  {
   "cell_type": "code",
   "execution_count": 108,
   "metadata": {
    "id": "03-gyoVE4U3b"
   },
   "outputs": [
    {
     "name": "stderr",
     "output_type": "stream",
     "text": [
      "INFO:fbprophet:Disabling daily seasonality. Run prophet with daily_seasonality=True to override this.\n"
     ]
    },
    {
     "name": "stdout",
     "output_type": "stream",
     "text": [
      "BOM524715\n"
     ]
    },
    {
     "name": "stderr",
     "output_type": "stream",
     "text": [
      "INFO:fbprophet:Making 15 forecasts with cutoffs between 2005-03-03 00:00:00 and 2019-02-28 00:00:00\n"
     ]
    },
    {
     "data": {
      "application/vnd.jupyter.widget-view+json": {
       "model_id": "5ee169136de54df2ade00063e73448c4",
       "version_major": 2,
       "version_minor": 0
      },
      "text/plain": [
       "  0%|          | 0/15 [00:00<?, ?it/s]"
      ]
     },
     "metadata": {},
     "output_type": "display_data"
    },
    {
     "name": "stderr",
     "output_type": "stream",
     "text": [
      "INFO:fbprophet:Disabling daily seasonality. Run prophet with daily_seasonality=True to override this.\n"
     ]
    },
    {
     "name": "stdout",
     "output_type": "stream",
     "text": [
      "Success\n",
      "BOM532488\n"
     ]
    },
    {
     "name": "stderr",
     "output_type": "stream",
     "text": [
      "INFO:fbprophet:Making 11 forecasts with cutoffs between 2009-03-02 00:00:00 and 2019-02-28 00:00:00\n"
     ]
    },
    {
     "data": {
      "application/vnd.jupyter.widget-view+json": {
       "model_id": "9813ee7d9f274f5c95ed56aeed636365",
       "version_major": 2,
       "version_minor": 0
      },
      "text/plain": [
       "  0%|          | 0/11 [00:00<?, ?it/s]"
      ]
     },
     "metadata": {},
     "output_type": "display_data"
    },
    {
     "name": "stderr",
     "output_type": "stream",
     "text": [
      "INFO:fbprophet:Disabling daily seasonality. Run prophet with daily_seasonality=True to override this.\n"
     ]
    },
    {
     "name": "stdout",
     "output_type": "stream",
     "text": [
      "Success\n",
      "BOM500124\n"
     ]
    },
    {
     "name": "stderr",
     "output_type": "stream",
     "text": [
      "INFO:fbprophet:Making 15 forecasts with cutoffs between 2005-03-03 00:00:00 and 2019-02-28 00:00:00\n"
     ]
    },
    {
     "data": {
      "application/vnd.jupyter.widget-view+json": {
       "model_id": "9dc09c5b116e4eda9e7ff8544a88512d",
       "version_major": 2,
       "version_minor": 0
      },
      "text/plain": [
       "  0%|          | 0/15 [00:00<?, ?it/s]"
      ]
     },
     "metadata": {},
     "output_type": "display_data"
    },
    {
     "name": "stderr",
     "output_type": "stream",
     "text": [
      "INFO:fbprophet:Disabling daily seasonality. Run prophet with daily_seasonality=True to override this.\n"
     ]
    },
    {
     "name": "stdout",
     "output_type": "stream",
     "text": [
      "Success\n",
      "BOM500180\n"
     ]
    },
    {
     "name": "stderr",
     "output_type": "stream",
     "text": [
      "INFO:fbprophet:Making 15 forecasts with cutoffs between 2005-03-03 00:00:00 and 2019-02-28 00:00:00\n"
     ]
    },
    {
     "data": {
      "application/vnd.jupyter.widget-view+json": {
       "model_id": "e611ab691099494490eae7c205249107",
       "version_major": 2,
       "version_minor": 0
      },
      "text/plain": [
       "  0%|          | 0/15 [00:00<?, ?it/s]"
      ]
     },
     "metadata": {},
     "output_type": "display_data"
    },
    {
     "name": "stderr",
     "output_type": "stream",
     "text": [
      "INFO:fbprophet:Disabling daily seasonality. Run prophet with daily_seasonality=True to override this.\n"
     ]
    },
    {
     "name": "stdout",
     "output_type": "stream",
     "text": [
      "Success\n",
      "BOM532174\n"
     ]
    },
    {
     "name": "stderr",
     "output_type": "stream",
     "text": [
      "INFO:fbprophet:Making 15 forecasts with cutoffs between 2005-03-03 00:00:00 and 2019-02-28 00:00:00\n"
     ]
    },
    {
     "data": {
      "application/vnd.jupyter.widget-view+json": {
       "model_id": "9ad44856af38426fa43e2936afb7acf1",
       "version_major": 2,
       "version_minor": 0
      },
      "text/plain": [
       "  0%|          | 0/15 [00:00<?, ?it/s]"
      ]
     },
     "metadata": {},
     "output_type": "display_data"
    },
    {
     "name": "stderr",
     "output_type": "stream",
     "text": [
      "INFO:fbprophet:Disabling daily seasonality. Run prophet with daily_seasonality=True to override this.\n"
     ]
    },
    {
     "name": "stdout",
     "output_type": "stream",
     "text": [
      "Success\n",
      "BOM500247\n"
     ]
    },
    {
     "name": "stderr",
     "output_type": "stream",
     "text": [
      "INFO:fbprophet:Making 15 forecasts with cutoffs between 2005-03-03 00:00:00 and 2019-02-28 00:00:00\n"
     ]
    },
    {
     "data": {
      "application/vnd.jupyter.widget-view+json": {
       "model_id": "6aebd09f66994685abd46ee2b26acc0c",
       "version_major": 2,
       "version_minor": 0
      },
      "text/plain": [
       "  0%|          | 0/15 [00:00<?, ?it/s]"
      ]
     },
     "metadata": {},
     "output_type": "display_data"
    },
    {
     "name": "stderr",
     "output_type": "stream",
     "text": [
      "INFO:fbprophet:Disabling daily seasonality. Run prophet with daily_seasonality=True to override this.\n"
     ]
    },
    {
     "name": "stdout",
     "output_type": "stream",
     "text": [
      "Success\n",
      "BOM500470\n"
     ]
    },
    {
     "name": "stderr",
     "output_type": "stream",
     "text": [
      "INFO:fbprophet:Making 15 forecasts with cutoffs between 2005-03-03 00:00:00 and 2019-02-28 00:00:00\n"
     ]
    },
    {
     "data": {
      "application/vnd.jupyter.widget-view+json": {
       "model_id": "0758be0698224a5888176804dc3df020",
       "version_major": 2,
       "version_minor": 0
      },
      "text/plain": [
       "  0%|          | 0/15 [00:00<?, ?it/s]"
      ]
     },
     "metadata": {},
     "output_type": "display_data"
    },
    {
     "name": "stderr",
     "output_type": "stream",
     "text": [
      "INFO:fbprophet:Disabling daily seasonality. Run prophet with daily_seasonality=True to override this.\n"
     ]
    },
    {
     "name": "stdout",
     "output_type": "stream",
     "text": [
      "Error Occured (<class 'KeyboardInterrupt'>, KeyboardInterrupt(), <traceback object at 0x000002B9EB815080>)\n",
      "BOM500228\n"
     ]
    },
    {
     "name": "stderr",
     "output_type": "stream",
     "text": [
      "INFO:fbprophet:Making 15 forecasts with cutoffs between 2005-03-03 00:00:00 and 2019-02-28 00:00:00\n"
     ]
    },
    {
     "data": {
      "application/vnd.jupyter.widget-view+json": {
       "model_id": "6c181c0667d64254b8f0a233c1c40d7f",
       "version_major": 2,
       "version_minor": 0
      },
      "text/plain": [
       "  0%|          | 0/15 [00:00<?, ?it/s]"
      ]
     },
     "metadata": {},
     "output_type": "display_data"
    },
    {
     "name": "stderr",
     "output_type": "stream",
     "text": [
      "INFO:fbprophet:Disabling daily seasonality. Run prophet with daily_seasonality=True to override this.\n"
     ]
    },
    {
     "name": "stdout",
     "output_type": "stream",
     "text": [
      "Success\n",
      "BOM500440\n"
     ]
    },
    {
     "name": "stderr",
     "output_type": "stream",
     "text": [
      "INFO:fbprophet:Making 15 forecasts with cutoffs between 2005-03-03 00:00:00 and 2019-02-28 00:00:00\n"
     ]
    },
    {
     "data": {
      "application/vnd.jupyter.widget-view+json": {
       "model_id": "1d3ec0db33e549a29cb49384dbbc9908",
       "version_major": 2,
       "version_minor": 0
      },
      "text/plain": [
       "  0%|          | 0/15 [00:00<?, ?it/s]"
      ]
     },
     "metadata": {},
     "output_type": "display_data"
    },
    {
     "name": "stderr",
     "output_type": "stream",
     "text": [
      "INFO:fbprophet:Disabling daily seasonality. Run prophet with daily_seasonality=True to override this.\n"
     ]
    },
    {
     "name": "stdout",
     "output_type": "stream",
     "text": [
      "Success\n",
      "BOM532977\n"
     ]
    },
    {
     "name": "stderr",
     "output_type": "stream",
     "text": [
      "INFO:fbprophet:Making 6 forecasts with cutoffs between 2014-03-01 00:00:00 and 2019-02-28 00:00:00\n"
     ]
    },
    {
     "data": {
      "application/vnd.jupyter.widget-view+json": {
       "model_id": "725a69aef98447eb89811a513ff92dcd",
       "version_major": 2,
       "version_minor": 0
      },
      "text/plain": [
       "  0%|          | 0/6 [00:00<?, ?it/s]"
      ]
     },
     "metadata": {},
     "output_type": "display_data"
    },
    {
     "name": "stderr",
     "output_type": "stream",
     "text": [
      "INFO:fbprophet:Disabling daily seasonality. Run prophet with daily_seasonality=True to override this.\n"
     ]
    },
    {
     "name": "stdout",
     "output_type": "stream",
     "text": [
      "Success\n",
      "BOM500570\n"
     ]
    },
    {
     "name": "stderr",
     "output_type": "stream",
     "text": [
      "INFO:fbprophet:Making 15 forecasts with cutoffs between 2005-03-03 00:00:00 and 2019-02-28 00:00:00\n"
     ]
    },
    {
     "data": {
      "application/vnd.jupyter.widget-view+json": {
       "model_id": "6d56d964bfb741f9a85f5fc9f407d2d0",
       "version_major": 2,
       "version_minor": 0
      },
      "text/plain": [
       "  0%|          | 0/15 [00:00<?, ?it/s]"
      ]
     },
     "metadata": {},
     "output_type": "display_data"
    },
    {
     "name": "stderr",
     "output_type": "stream",
     "text": [
      "INFO:fbprophet:Disabling daily seasonality. Run prophet with daily_seasonality=True to override this.\n"
     ]
    },
    {
     "name": "stdout",
     "output_type": "stream",
     "text": [
      "Success\n",
      "BOM532500\n"
     ]
    },
    {
     "name": "stderr",
     "output_type": "stream",
     "text": [
      "INFO:fbprophet:Making 11 forecasts with cutoffs between 2009-03-02 00:00:00 and 2019-02-28 00:00:00\n"
     ]
    },
    {
     "data": {
      "application/vnd.jupyter.widget-view+json": {
       "model_id": "24877cf4ef5b4d97999255410c572b44",
       "version_major": 2,
       "version_minor": 0
      },
      "text/plain": [
       "  0%|          | 0/11 [00:00<?, ?it/s]"
      ]
     },
     "metadata": {},
     "output_type": "display_data"
    },
    {
     "name": "stderr",
     "output_type": "stream",
     "text": [
      "INFO:fbprophet:Disabling daily seasonality. Run prophet with daily_seasonality=True to override this.\n"
     ]
    },
    {
     "name": "stdout",
     "output_type": "stream",
     "text": [
      "Success\n",
      "BOM500209\n"
     ]
    },
    {
     "name": "stderr",
     "output_type": "stream",
     "text": [
      "INFO:fbprophet:Making 15 forecasts with cutoffs between 2005-03-03 00:00:00 and 2019-02-28 00:00:00\n"
     ]
    },
    {
     "data": {
      "application/vnd.jupyter.widget-view+json": {
       "model_id": "2409931487bb4dad8f580197ec06feab",
       "version_major": 2,
       "version_minor": 0
      },
      "text/plain": [
       "  0%|          | 0/15 [00:00<?, ?it/s]"
      ]
     },
     "metadata": {},
     "output_type": "display_data"
    },
    {
     "name": "stderr",
     "output_type": "stream",
     "text": [
      "INFO:fbprophet:Disabling daily seasonality. Run prophet with daily_seasonality=True to override this.\n"
     ]
    },
    {
     "name": "stdout",
     "output_type": "stream",
     "text": [
      "Success\n",
      "BOM532540\n"
     ]
    },
    {
     "name": "stderr",
     "output_type": "stream",
     "text": [
      "INFO:fbprophet:Making 10 forecasts with cutoffs between 2010-03-02 00:00:00 and 2019-02-28 00:00:00\n"
     ]
    },
    {
     "data": {
      "application/vnd.jupyter.widget-view+json": {
       "model_id": "dfdad97cc24244e7b6c2d5f2d1c90e66",
       "version_major": 2,
       "version_minor": 0
      },
      "text/plain": [
       "  0%|          | 0/10 [00:00<?, ?it/s]"
      ]
     },
     "metadata": {},
     "output_type": "display_data"
    },
    {
     "name": "stderr",
     "output_type": "stream",
     "text": [
      "INFO:fbprophet:Disabling daily seasonality. Run prophet with daily_seasonality=True to override this.\n"
     ]
    },
    {
     "name": "stdout",
     "output_type": "stream",
     "text": [
      "Success\n",
      "BOM507685\n"
     ]
    },
    {
     "name": "stderr",
     "output_type": "stream",
     "text": [
      "INFO:fbprophet:Making 15 forecasts with cutoffs between 2005-03-03 00:00:00 and 2019-02-28 00:00:00\n"
     ]
    },
    {
     "data": {
      "application/vnd.jupyter.widget-view+json": {
       "model_id": "7c99efa3ca77403a9af38b4b94c9b0d7",
       "version_major": 2,
       "version_minor": 0
      },
      "text/plain": [
       "  0%|          | 0/15 [00:00<?, ?it/s]"
      ]
     },
     "metadata": {},
     "output_type": "display_data"
    },
    {
     "name": "stdout",
     "output_type": "stream",
     "text": [
      "Success\n"
     ]
    }
   ],
   "source": [
    "# initalize result variable\n",
    "\n",
    "for s in stocks:\n",
    "    print(s)\n",
    "    try:\n",
    "        m, forecast, df_cv = ProphetProcedureWithExogenousVariables(s)\n",
    "        val_metrics = performance_metrics(df_cv)\n",
    "        ProphetMultipleRegressionResults.loc[s, ['StockName']] =  getStockNameFromStockCode(s)\n",
    "        ProphetMultipleRegressionResults.loc[s, ['MAE']] =  val_metrics['mae'][0]\n",
    "        ProphetMultipleRegressionResults.loc[s, ['RMSE']] = np.sqrt(val_metrics['mse'][0])\n",
    "        t = df_cv.dropna()\n",
    "        ProphetMultipleRegressionResults.loc[s, ['MAPE']] = mean_absolute_percentage_error(t.y, t.yhat)\n",
    "        ProphetMultipleRegressionResults.loc[s, ['AdjustedR2']] = r2_score(t.y, t.yhat)\n",
    "        ProphetMultipleRegressionResults.loc[s, ['Noise']] = t.yhat.diff().abs().mean()\n",
    "        ProphetMultipleRegressionResults.loc[s, ['Model']] = m\n",
    "        ProphetMultipleRegressionResults.loc[s, ['Forecast']] = forecast\n",
    "        print('Success')\n",
    "    except:\n",
    "        print(\"Error Occured\", sys.exc_info())\n",
    "        \n",
    "ProphetMultipleRegressionResults.to_csv('./Outputs/ProphetMultipleRegressionResults.csv')"
   ]
  },
  {
   "cell_type": "code",
   "execution_count": 109,
   "metadata": {
    "id": "K9_j1T4gsQEX"
   },
   "outputs": [],
   "source": [
    "# # for plotting\n",
    "# df = ScriptWiseData[stocks[1]]\n",
    "# df.index = pd.to_datetime(df.index)\n",
    "# df = df.reset_index()\n",
    "# df.columns = ['ds', 'y'] + TechnicalIndicators"
   ]
  },
  {
   "cell_type": "code",
   "execution_count": 110,
   "metadata": {
    "id": "IANNH2vFySj4"
   },
   "outputs": [
    {
     "data": {
      "text/html": [
       "<div>\n",
       "<style scoped>\n",
       "    .dataframe tbody tr th:only-of-type {\n",
       "        vertical-align: middle;\n",
       "    }\n",
       "\n",
       "    .dataframe tbody tr th {\n",
       "        vertical-align: top;\n",
       "    }\n",
       "\n",
       "    .dataframe thead th {\n",
       "        text-align: right;\n",
       "    }\n",
       "</style>\n",
       "<table border=\"1\" class=\"dataframe\">\n",
       "  <thead>\n",
       "    <tr style=\"text-align: right;\">\n",
       "      <th></th>\n",
       "      <th>horizon</th>\n",
       "      <th>mse</th>\n",
       "      <th>rmse</th>\n",
       "      <th>mae</th>\n",
       "      <th>mape</th>\n",
       "      <th>mdape</th>\n",
       "      <th>coverage</th>\n",
       "    </tr>\n",
       "  </thead>\n",
       "  <tbody>\n",
       "    <tr>\n",
       "      <th>0</th>\n",
       "      <td>38 days</td>\n",
       "      <td>20454.707528</td>\n",
       "      <td>143.019955</td>\n",
       "      <td>102.221401</td>\n",
       "      <td>0.267697</td>\n",
       "      <td>0.143375</td>\n",
       "      <td>0.760108</td>\n",
       "    </tr>\n",
       "    <tr>\n",
       "      <th>1</th>\n",
       "      <td>39 days</td>\n",
       "      <td>21409.852947</td>\n",
       "      <td>146.321061</td>\n",
       "      <td>104.182547</td>\n",
       "      <td>0.273856</td>\n",
       "      <td>0.141245</td>\n",
       "      <td>0.754717</td>\n",
       "    </tr>\n",
       "  </tbody>\n",
       "</table>\n",
       "</div>"
      ],
      "text/plain": [
       "  horizon           mse        rmse         mae      mape     mdape  coverage\n",
       "0 38 days  20454.707528  143.019955  102.221401  0.267697  0.143375  0.760108\n",
       "1 39 days  21409.852947  146.321061  104.182547  0.273856  0.141245  0.754717"
      ]
     },
     "execution_count": 110,
     "metadata": {},
     "output_type": "execute_result"
    }
   ],
   "source": [
    "results = performance_metrics(df_cv)\n",
    "results.head(2)"
   ]
  },
  {
   "cell_type": "code",
   "execution_count": 111,
   "metadata": {
    "id": "EPn7yuFdsQEY"
   },
   "outputs": [
    {
     "data": {
      "image/png": "[encoded data removed]",
      "text/plain": [
       "<Figure size 648x864 with 4 Axes>"
      ]
     },
     "metadata": {},
     "output_type": "display_data"
    }
   ],
   "source": [
    "m.plot_components(forecast);"
   ]
  },
  {
   "cell_type": "code",
   "execution_count": 112,
   "metadata": {
    "id": "Gox2oG3esQEa"
   },
   "outputs": [
    {
     "ename": "NameError",
     "evalue": "name 'df' is not defined",
     "output_type": "error",
     "traceback": [
      "\u001b[1;31m---------------------------------------------------------------------------\u001b[0m",
      "\u001b[1;31mNameError\u001b[0m                                 Traceback (most recent call last)",
      "\u001b[1;32m<ipython-input-112-e839a6f87163>\u001b[0m in \u001b[0;36m<module>\u001b[1;34m\u001b[0m\n\u001b[0;32m      1\u001b[0m \u001b[0max\u001b[0m \u001b[1;33m=\u001b[0m \u001b[0mforecast\u001b[0m\u001b[1;33m.\u001b[0m\u001b[0mplot\u001b[0m\u001b[1;33m(\u001b[0m\u001b[0mx\u001b[0m\u001b[1;33m=\u001b[0m\u001b[1;34m'ds'\u001b[0m\u001b[1;33m,\u001b[0m\u001b[0my\u001b[0m\u001b[1;33m=\u001b[0m\u001b[1;34m'yhat'\u001b[0m\u001b[1;33m,\u001b[0m\u001b[0mlabel\u001b[0m\u001b[1;33m=\u001b[0m\u001b[1;34m'Predictions'\u001b[0m\u001b[1;33m,\u001b[0m\u001b[0mlegend\u001b[0m\u001b[1;33m=\u001b[0m\u001b[1;32mTrue\u001b[0m\u001b[1;33m,\u001b[0m\u001b[0mfigsize\u001b[0m\u001b[1;33m=\u001b[0m\u001b[1;33m(\u001b[0m\u001b[1;36m12\u001b[0m\u001b[1;33m,\u001b[0m\u001b[1;36m8\u001b[0m\u001b[1;33m)\u001b[0m\u001b[1;33m)\u001b[0m\u001b[1;33m\u001b[0m\u001b[1;33m\u001b[0m\u001b[0m\n\u001b[0;32m      2\u001b[0m \u001b[1;33m\u001b[0m\u001b[0m\n\u001b[1;32m----> 3\u001b[1;33m \u001b[0mdf\u001b[0m\u001b[1;33m.\u001b[0m\u001b[0mplot\u001b[0m\u001b[1;33m(\u001b[0m\u001b[0mx\u001b[0m\u001b[1;33m=\u001b[0m\u001b[1;34m'ds'\u001b[0m\u001b[1;33m,\u001b[0m\u001b[0my\u001b[0m\u001b[1;33m=\u001b[0m\u001b[1;34m'y'\u001b[0m\u001b[1;33m,\u001b[0m\u001b[0mlabel\u001b[0m\u001b[1;33m=\u001b[0m\u001b[1;34m'Actual Price'\u001b[0m\u001b[1;33m,\u001b[0m\u001b[0mlegend\u001b[0m\u001b[1;33m=\u001b[0m\u001b[1;32mTrue\u001b[0m\u001b[1;33m,\u001b[0m\u001b[0max\u001b[0m\u001b[1;33m=\u001b[0m\u001b[0max\u001b[0m\u001b[1;33m)\u001b[0m \u001b[1;31m#,xlim=(df_start_date,df_end_date))\u001b[0m\u001b[1;33m\u001b[0m\u001b[1;33m\u001b[0m\u001b[0m\n\u001b[0m",
      "\u001b[1;31mNameError\u001b[0m: name 'df' is not defined"
     ]
    },
    {
     "data": {
      "image/png": "[encoded data removed]",
      "text/plain": [
       "<Figure size 864x576 with 1 Axes>"
      ]
     },
     "metadata": {
      "needs_background": "light"
     },
     "output_type": "display_data"
    }
   ],
   "source": [
    "ax = forecast.plot(x='ds',y='yhat',label='Predictions',legend=True,figsize=(12,8))\n",
    "\n",
    "df.plot(x='ds',y='y',label='Actual Price',legend=True,ax=ax) #,xlim=(df_start_date,df_end_date))"
   ]
  },
  {
   "cell_type": "code",
   "execution_count": null,
   "metadata": {
    "id": "mE7wTtvhsQEc"
   },
   "outputs": [],
   "source": []
  },
  {
   "cell_type": "code",
   "execution_count": null,
   "metadata": {
    "id": "1f8LM00WsQEe"
   },
   "outputs": [],
   "source": [
    "plot_cross_validation_metric(df_cv, metric='rmse');"
   ]
  },
  {
   "cell_type": "markdown",
   "metadata": {
    "id": "JR3DmOZ4sQEf"
   },
   "source": [
    "## Neural Prophet and AR-Net"
   ]
  },
  {
   "cell_type": "code",
   "execution_count": null,
   "metadata": {
    "id": "BVeij9D7sQEg"
   },
   "outputs": [],
   "source": [
    "from neuralprophet import NeuralProphet, set_random_seed , set_log_level\n",
    "set_random_seed(0)\n",
    "set_log_level(\"ERROR\")"
   ]
  },
  {
   "cell_type": "code",
   "execution_count": null,
   "metadata": {
    "id": "unpLeFwSsQEg"
   },
   "outputs": [],
   "source": [
    "df = ScriptWiseData['BOM500180'].reset_index()\n",
    "df = df[['Date', 'Close']]\n",
    "df.columns = ['ds', 'y']\n",
    "df.head()"
   ]
  },
  {
   "cell_type": "markdown",
   "metadata": {
    "id": "7crbHcAmsQEh"
   },
   "source": [
    "### Basic Model"
   ]
  },
  {
   "cell_type": "code",
   "execution_count": null,
   "metadata": {
    "id": "5UOQd_aAsQEi"
   },
   "outputs": [],
   "source": [
    "def BuildNeuralProphetModels(dataset, start_date = start_date, end_date = end_date, n_forecasts = 1, n_lags = 5, columnName = 'Close'):\n",
    "    # prepare the dataset\n",
    "    df = dataset.reset_index()\n",
    "    df = df[['Date', columnName]]\n",
    "    df.columns = ['ds', 'y']\n",
    "    \n",
    "    # train test splilt\n",
    "    train = df.loc[(df['ds'] < start_date)]\n",
    "    df_test = df.loc[(df['ds'] >= start_date) & (df['ds'] <= end_date)]\n",
    "    \n",
    "    # initalize the model\n",
    "    m = NeuralProphet(n_forecasts=n_forecasts,n_lags=n_lags)\n",
    "    \n",
    "    # split the training set into train and validation set\n",
    "    df_train, df_val = m.split_df(train, valid_p=0.2, freq='D')\n",
    "\n",
    "    # fit and test the model\n",
    "    train_metrics = m.fit(df_train, freq='D', progress_bar = False)\n",
    "    val_metrics = m.test(df_val)\n",
    "    \n",
    "    # make forecasts\n",
    "    future = m.make_future_dataframe(df_test, periods=len(df_test), n_historic_predictions=len(df_test))\n",
    "#     future = m.make_future_dataframe(df_test, n_historic_predictions= True)\n",
    "    forecast = m.predict(future)\n",
    "    return (m, forecast,  train_metrics, val_metrics)"
   ]
  },
  {
   "cell_type": "code",
   "execution_count": null,
   "metadata": {
    "id": "HFRo2vnvySj8"
   },
   "outputs": [],
   "source": [
    "# try:\n",
    "#     NPSingleRegressionResults = pd.read_csv('./Outputs/NeuralProphetSingleRegressionResults.csv')\n",
    "# except FileNotFoundError:\n",
    "NPSingleRegressionResults = pd.DataFrame(columns = ['StockName','MAE','MAPE', 'RMSE', 'AdjustedR2', 'Noise', 'Model'], index = stocks)"
   ]
  },
  {
   "cell_type": "code",
   "execution_count": null,
   "metadata": {
    "id": "iFMxZrpdsQEj",
    "scrolled": true
   },
   "outputs": [],
   "source": [
    "# initalize result variable\n",
    "for s in stocks:\n",
    "    print(s)\n",
    "    try:\n",
    "        m, forecast , train_metrics, val_metrics = BuildNeuralProphetModels(ScriptWiseData[s])\n",
    "        NPSingleRegressionResults.loc[s, ['StockName']] =  getStockNameFromStockCode(s)\n",
    "        NPSingleRegressionResults.loc[s, ['MAE']] =  val_metrics['MAE'][0]\n",
    "        NPSingleRegressionResults.loc[s, ['RMSE']] = np.sqrt(val_metrics['MSE'][0])\n",
    "        t = forecast.dropna()\n",
    "        NPSingleRegressionResults.loc[s, ['MAPE']] = mean_absolute_percentage_error(t.y, t.yhat1)\n",
    "        NPSingleRegressionResults.loc[s, ['AdjustedR2']] = r2_score(t.y, t.yhat1)\n",
    "        NPSingleRegressionResults.loc[s, ['Noise']] = t.yhat1.diff().abs().mean()\n",
    "        NPSingleRegressionResults.loc[s, ['Model']] = m\n",
    "        NPSingleRegressionResults.loc[s, ['Forecast']] = forecast\n",
    "        NPSingleRegressionResults.loc[s, ['train_metrics']] = train_metrics\n",
    "        NPSingleRegressionResults.loc[s, ['val_metrics']] = val_metrics\n",
    "        print('Success')\n",
    "    except Exception as ex:\n",
    "        print(\"Error Occured\", ex)\n",
    "        \n",
    "NPSingleRegressionResults.to_csv('./Outputs/NeuralProphetSingleRegressionResults.csv')"
   ]
  },
  {
   "cell_type": "code",
   "execution_count": null,
   "metadata": {
    "id": "fVPgEvwpySj9"
   },
   "outputs": [],
   "source": [
    "NPSingleRegressionResults"
   ]
  },
  {
   "cell_type": "markdown",
   "metadata": {
    "id": "-gFYa-NAsQEk"
   },
   "source": [
    "#### Plot the forecast"
   ]
  },
  {
   "cell_type": "code",
   "execution_count": null,
   "metadata": {
    "id": "AnvjUMdgsQEl"
   },
   "outputs": [],
   "source": [
    "# forecasts_plot = m.plot(forecast)"
   ]
  },
  {
   "cell_type": "code",
   "execution_count": null,
   "metadata": {
    "id": "68PEOkGOsQEm"
   },
   "outputs": [],
   "source": [
    "# fig_comp = m.plot_components(forecast);"
   ]
  },
  {
   "cell_type": "code",
   "execution_count": null,
   "metadata": {
    "id": "yAJ_OsqssQEn"
   },
   "outputs": [],
   "source": [
    "# fig_param = m.plot_parameters()"
   ]
  },
  {
   "cell_type": "markdown",
   "metadata": {
    "id": "Vnn3hoFAsQEn"
   },
   "source": [
    "#### Validating the dataset"
   ]
  },
  {
   "cell_type": "code",
   "execution_count": null,
   "metadata": {
    "id": "Ex3Z1xDIsQEo"
   },
   "outputs": [],
   "source": [
    "# m = NeuralProphet()\n",
    "# df_train, df_val = m.split_df(df, valid_p=0.2, freq='D')"
   ]
  },
  {
   "cell_type": "code",
   "execution_count": null,
   "metadata": {
    "id": "PC67AMB6sQEp"
   },
   "outputs": [],
   "source": [
    "# train_metrics = m.fit(df_train, freq='D')\n",
    "# val_metrics = m.test(df_val)"
   ]
  },
  {
   "cell_type": "markdown",
   "metadata": {
    "id": "Fw9UprMlsQEq"
   },
   "source": [
    "## Multiple regressors"
   ]
  },
  {
   "cell_type": "code",
   "execution_count": null,
   "metadata": {
    "id": "IxsXDTejsQEr"
   },
   "outputs": [],
   "source": [
    "def BuildNeuralProphetModelsWithMultipleRegressors(dataset, start_date = start_date, end_date = end_date, n_forecasts = 1, n_lags = 5):\n",
    "    # prepare the dataset\n",
    "    df = dataset.reset_index()\n",
    "    df = df[['Date', 'Close']+TechnicalIndicators]\n",
    "    df.columns = ['ds', 'y', 'A', 'B', 'C', 'D', 'E']\n",
    "    \n",
    "    # train test splilt\n",
    "    train = df.loc[(df['ds'] < start_date)]\n",
    "    df_test = df.loc[(df['ds'] >= start_date) & (df['ds'] <= end_date)]\n",
    "    \n",
    "    # initalize the model\n",
    "    m = NeuralProphet(n_forecasts=n_forecasts,n_lags=n_lags)\n",
    "    # lagged regressors\n",
    "    m.add_lagged_regressor(name='A')\n",
    "    m.add_lagged_regressor(name='B')\n",
    "    m.add_lagged_regressor(name='C')\n",
    "    m.add_lagged_regressor(name='D')\n",
    "    m.add_lagged_regressor(name='E')\n",
    "    \n",
    "    # split the training set into train and validation set\n",
    "    df_train, df_val = m.split_df(train, valid_p=0.2, freq='D')\n",
    "\n",
    "    # fit and test the model\n",
    "    train_metrics = m.fit(df_train, freq='D',progress_bar = False)\n",
    "    val_metrics = m.test(df_val)\n",
    "    \n",
    "    # make forecasts\n",
    "    # future = m.make_future_dataframe(df_test, periods=len(df_test), n_historic_predictions=len(df_test))\n",
    "    future = m.make_future_dataframe(df_test, n_historic_predictions= True)\n",
    "    forecast = m.predict(future)\n",
    "    return (m, forecast,  train_metrics, val_metrics)"
   ]
  },
  {
   "cell_type": "code",
   "execution_count": null,
   "metadata": {
    "id": "JgAWkgGaySj_"
   },
   "outputs": [],
   "source": [
    "# try:\n",
    "#     NPExogenousRegressionResults = pd.read_csv('./Outputs/NeuralProphetRegressionWithExogenousVariablesResults.csv')\n",
    "# except FileNotFoundError:\n",
    "NPExogenousRegressionResults = pd.DataFrame(columns = ['StockName','MAE','MAPE', 'RMSE', 'AdjustedR2', 'Noise', 'Model'], index = stocks)"
   ]
  },
  {
   "cell_type": "code",
   "execution_count": null,
   "metadata": {
    "id": "Urm0uHp-ySkA",
    "scrolled": true
   },
   "outputs": [],
   "source": [
    "# initalize result variable\n",
    "NPExogenousRegressionResults = pd.DataFrame(columns = ['StockName','MAE','MAPE', 'RMSE', 'AdjustedR2', 'Noise'], index = stocks)\n",
    "for s in stocks:\n",
    "    print(s)\n",
    "    try:\n",
    "        m, forecast , train_metrics, val_metrics = BuildNeuralProphetModelsWithMultipleRegressors(ScriptWiseData[s])\n",
    "        NPExogenousRegressionResults.loc[s, ['StockName']] =  getStockNameFromStockCode(s)\n",
    "        NPExogenousRegressionResults.loc[s, ['MAE']] =  val_metrics['MAE'][0]\n",
    "        NPExogenousRegressionResults.loc[s, ['RMSE']] = np.sqrt(val_metrics['MSE'][0])\n",
    "        t = forecast.dropna()\n",
    "        NPExogenousRegressionResults.loc[s, ['MAPE']] = mean_absolute_percentage_error(t.y, t.yhat1)\n",
    "        NPExogenousRegressionResults.loc[s, ['AdjustedR2']] = r2_score(t.y, t.yhat1)\n",
    "        NPExogenousRegressionResults.loc[s, ['Noise']] = t.yhat1.diff().abs().mean()\n",
    "        NPExogenousRegressionResults.loc[s, ['Model']] = m\n",
    "        NPExogenousRegressionResults.loc[s, ['Forecast']] = forecast\n",
    "        NPExogenousRegressionResults.loc[s, ['train_metrics']] = train_metrics\n",
    "        NPExogenousRegressionResults.loc[s, ['val_metrics']] = val_metrics\n",
    "        print('Success')\n",
    "    except:\n",
    "        print(\"Error Occured\")\n",
    "        \n",
    "NPExogenousRegressionResults.to_csv('./Outputs/NeuralProphetRegressionWithExogenousVariablesResults.csv')"
   ]
  },
  {
   "cell_type": "code",
   "execution_count": null,
   "metadata": {
    "id": "CEGp5vfuySkD"
   },
   "outputs": [],
   "source": [
    "NPExogenousRegressionResults"
   ]
  },
  {
   "cell_type": "code",
   "execution_count": null,
   "metadata": {
    "id": "16pOZk1XsQEs"
   },
   "outputs": [],
   "source": [
    "# # m = NeuralProphet()\n",
    "# # metrics = m.fit(df, freq=\"D\")\n",
    "# for s in stocks:\n",
    "#     print(s)\n",
    "#     try:\n",
    "#         m, forecast , train_metrics, val_metrics = BuildNeuralProphetModelsWithMultipleRegressors(ScriptWiseData[s])\n",
    "# #         m, forecast , train_metrics, val_metrics = BuildNeuralProphetModels(ScriptWiseData[s])\n",
    "#         print('Succeess')\n",
    "#     except:\n",
    "#         print(\"Error Occured\")"
   ]
  },
  {
   "cell_type": "code",
   "execution_count": null,
   "metadata": {
    "id": "gJDocg0isQEt"
   },
   "outputs": [],
   "source": [
    "# forecasts_plot = m.plot(forecast)\n",
    "# fig_comp = m.plot_components(forecast)"
   ]
  },
  {
   "cell_type": "code",
   "execution_count": null,
   "metadata": {
    "id": "k7_zgfYCsQEu"
   },
   "outputs": [],
   "source": [
    "# train_metrics.sort_values(by=['MAE', 'MSE'], ascending = [False, False]).head(3)"
   ]
  },
  {
   "cell_type": "code",
   "execution_count": null,
   "metadata": {
    "id": "IVGLomUasQEv"
   },
   "outputs": [],
   "source": [
    "# train_metrics.sort_values(by=['MAE', 'MSE'], ascending = [True, True]).head(3)"
   ]
  },
  {
   "cell_type": "code",
   "execution_count": null,
   "metadata": {
    "id": "jvXf6qb4sQEw"
   },
   "outputs": [],
   "source": [
    "# val_metrics"
   ]
  },
  {
   "cell_type": "code",
   "execution_count": null,
   "metadata": {
    "id": "9q25PaJusQEx"
   },
   "outputs": [],
   "source": []
  },
  {
   "cell_type": "code",
   "execution_count": null,
   "metadata": {},
   "outputs": [],
   "source": []
  },
  {
   "cell_type": "code",
   "execution_count": null,
   "metadata": {},
   "outputs": [],
   "source": []
  }
 ],
 "metadata": {
  "accelerator": "GPU",
  "colab": {
   "collapsed_sections": [
    "pSCAtI-QsQC3",
    "isbyxB0RsQDC",
    "wS7xJCpYsQDb",
    "pIDupQCqsQDi",
    "ngJ2AiInsQDr",
    "QHqbBLRXsQDt",
    "g-dEHWHqsQDv",
    "ZuatJ5wSsQD0",
    "Ru8Key50sQD3",
    "tMsWXE90sQDx",
    "JR3DmOZ4sQEf",
    "7crbHcAmsQEh",
    "-gFYa-NAsQEk",
    "Vnn3hoFAsQEn",
    "Fw9UprMlsQEq"
   ],
   "name": "Thesis_Implementation Models.ipynb",
   "provenance": []
  },
  "kernelspec": {
   "display_name": "Python 3",
   "language": "python",
   "name": "python3"
  },
  "language_info": {
   "codemirror_mode": {
    "name": "ipython",
    "version": 3
   },
   "file_extension": ".py",
   "mimetype": "text/x-python",
   "name": "python",
   "nbconvert_exporter": "python",
   "pygments_lexer": "ipython3",
   "version": "3.8.5"
  }
 },
 "nbformat": 4,
 "nbformat_minor": 1
}
