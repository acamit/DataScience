{
 "cells": [
  {
   "cell_type": "code",
   "execution_count": 3,
   "metadata": {},
   "outputs": [
    {
     "name": "stdout",
     "output_type": "stream",
     "text": [
      "abc@gmail.come\n",
      "invalid\n"
     ]
    }
   ],
   "source": [
    "import re\n",
    "def checkmail(email):\n",
    "    p = re.compile('[0-9a-zA-z]+@[a-z]+[.][a-zA-Z][a-zA-Z][a-zA-Z]?\\Z')\n",
    "    if p.match(email):\n",
    "        return 'valid'\n",
    "    else:\n",
    "        return 'invalid'\n",
    "    #complete the function\n",
    "    \n",
    "    #the function should return the strings \"invalid\" or \"valid\" based on the email ID entered\n",
    "email=input()\n",
    "print(checkmail(email))"
   ]
  },
  {
   "cell_type": "code",
   "execution_count": null,
   "metadata": {},
   "outputs": [],
   "source": [
    "import ast,sys\n",
    "input_str = sys.stdin.read()\n",
    "input_list = ast.literal_eval(input_str)\n",
    "output = [x if x%3!=0 else x**2 for x in input_list]\n",
    "print(output)"
   ]
  },
  {
   "cell_type": "code",
   "execution_count": 4,
   "metadata": {},
   "outputs": [
    {
     "name": "stdout",
     "output_type": "stream",
     "text": [
      "9\n",
      "11106\n"
     ]
    }
   ],
   "source": [
    "n=input()\n",
    "n1 = int( \"%s\" % n)\n",
    "n2 = int( \"%s%s\" % (n,n) )\n",
    "n3 = int( \"%s%s%s\" % (n,n,n) )\n",
    "n4 = int( \"%s%s%s%s\" % (n,n,n,n) )\n",
    "\n",
    "print (n1+n2+n3+n4)"
   ]
  },
  {
   "cell_type": "code",
   "execution_count": 7,
   "metadata": {},
   "outputs": [
    {
     "data": {
      "text/plain": [
       "dict_items([('a', 1), ('b', 2)])"
      ]
     },
     "execution_count": 7,
     "metadata": {},
     "output_type": "execute_result"
    }
   ],
   "source": [
    "a= {'a':1, 'b':2}\n",
    "a.items()"
   ]
  },
  {
   "cell_type": "code",
   "execution_count": 30,
   "metadata": {},
   "outputs": [
    {
     "data": {
      "text/plain": [
       "{'a', 'b', 'c', 'd'}"
      ]
     },
     "execution_count": 30,
     "metadata": {},
     "output_type": "execute_result"
    }
   ],
   "source": [
    "a='ddddaacccb'\n",
    "set(a)"
   ]
  },
  {
   "cell_type": "code",
   "execution_count": 39,
   "metadata": {},
   "outputs": [],
   "source": [
    "from collections import Counter \n",
    "\n",
    "string=a\n",
    "n=3\n",
    "#write your code here\n",
    "chars = set(string)\n",
    "d = {}\n",
    "for c in chars:\n",
    "    d[c]=string.count(c)\n",
    "\n"
   ]
  },
  {
   "cell_type": "code",
   "execution_count": 40,
   "metadata": {},
   "outputs": [
    {
     "name": "stdout",
     "output_type": "stream",
     "text": [
      "[('d', 4), ('c', 3), ('a', 2), ('b', 1)]\n"
     ]
    }
   ],
   "source": [
    "print(sorted(d.items(), key = \n",
    "             lambda kv:(-kv[1], kv[0])))     "
   ]
  },
  {
   "cell_type": "code",
   "execution_count": 41,
   "metadata": {},
   "outputs": [],
   "source": [
    "result = sorted(d.items(), key = lambda kv:(-kv[1], kv[0]))\n",
    "# first_tuple_elements = [a_tuple[i][0] for i in result]\n",
    "# first_tuple_elements"
   ]
  },
  {
   "cell_type": "code",
   "execution_count": 42,
   "metadata": {},
   "outputs": [
    {
     "name": "stdout",
     "output_type": "stream",
     "text": [
      "d\n",
      "c\n",
      "a\n"
     ]
    }
   ],
   "source": [
    "for i in range(n):\n",
    "    print(result[i][0])"
   ]
  },
  {
   "cell_type": "code",
   "execution_count": 37,
   "metadata": {},
   "outputs": [
    {
     "data": {
      "text/plain": [
       "'d'"
      ]
     },
     "execution_count": 37,
     "metadata": {},
     "output_type": "execute_result"
    }
   ],
   "source": [
    "result[0][0]"
   ]
  },
  {
   "cell_type": "code",
   "execution_count": 28,
   "metadata": {},
   "outputs": [
    {
     "data": {
      "text/plain": [
       "Counter({'b': 1, 'a': 2, 'c': 3, 'd': 4})"
      ]
     },
     "execution_count": 28,
     "metadata": {},
     "output_type": "execute_result"
    }
   ],
   "source": [
    "k = Counter(d) \n",
    "k"
   ]
  },
  {
   "cell_type": "code",
   "execution_count": 29,
   "metadata": {},
   "outputs": [
    {
     "data": {
      "text/plain": [
       "[('d', 4), ('c', 3), ('a', 2)]"
      ]
     },
     "execution_count": 29,
     "metadata": {},
     "output_type": "execute_result"
    }
   ],
   "source": [
    "high = k.most_common(3) \n",
    "high"
   ]
  },
  {
   "cell_type": "code",
   "execution_count": null,
   "metadata": {},
   "outputs": [],
   "source": [
    "from collections import Counter \n",
    "\n",
    "string=input()\n",
    "n=int(input())\n",
    "#write your code here\n",
    "chars = set(string)\n",
    "# result = sorted(d.items(), key = lambda kv:(-kv[1], kv[0])))    \n",
    "k = Counter(string) \n",
    "k.most_common(n) \n"
   ]
  },
  {
   "cell_type": "code",
   "execution_count": 47,
   "metadata": {},
   "outputs": [
    {
     "name": "stdout",
     "output_type": "stream",
     "text": [
      "as\n"
     ]
    }
   ],
   "source": [
    "pat = re.compile('\\W')\n",
    "a = 'abc_123_2ac_Adf!'\n",
    "if(pat.search(a)):\n",
    "    print('as')\n",
    "else:\n",
    "    print('he')"
   ]
  },
  {
   "cell_type": "code",
   "execution_count": 56,
   "metadata": {},
   "outputs": [
    {
     "name": "stdout",
     "output_type": "stream",
     "text": [
      "False\n"
     ]
    }
   ],
   "source": [
    "pwd = 'Data1'\n",
    "if not any(c.islower() for c in pwd ) or  not any(c.isupper() for c in pwd ) or not any(c.isdigit() for c in pwd ):\n",
    "    print('True')\n",
    "else:\n",
    "    print('False')"
   ]
  },
  {
   "cell_type": "code",
   "execution_count": null,
   "metadata": {},
   "outputs": [],
   "source": []
  }
 ],
 "metadata": {
  "kernelspec": {
   "display_name": "Python 3",
   "language": "python",
   "name": "python3"
  },
  "language_info": {
   "codemirror_mode": {
    "name": "ipython",
    "version": 3
   },
   "file_extension": ".py",
   "mimetype": "text/x-python",
   "name": "python",
   "nbconvert_exporter": "python",
   "pygments_lexer": "ipython3",
   "version": "3.7.4"
  }
 },
 "nbformat": 4,
 "nbformat_minor": 2
}
