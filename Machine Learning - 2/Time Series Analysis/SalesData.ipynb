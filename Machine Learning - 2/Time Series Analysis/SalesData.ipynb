{
 "cells": [
  {
   "cell_type": "code",
   "execution_count": 1,
   "metadata": {},
   "outputs": [],
   "source": [
    "import numpy as np\n",
    "import pandas as pd\n",
    "import matplotlib.pyplot as plt\n",
    "%matplotlib inline\n",
    "\n",
    "import warnings\n",
    "warnings.filterwarnings('ignore')"
   ]
  },
  {
   "cell_type": "code",
   "execution_count": 2,
   "metadata": {},
   "outputs": [
    {
     "data": {
      "text/html": [
       "<div>\n",
       "<style scoped>\n",
       "    .dataframe tbody tr th:only-of-type {\n",
       "        vertical-align: middle;\n",
       "    }\n",
       "\n",
       "    .dataframe tbody tr th {\n",
       "        vertical-align: top;\n",
       "    }\n",
       "\n",
       "    .dataframe thead th {\n",
       "        text-align: right;\n",
       "    }\n",
       "</style>\n",
       "<table border=\"1\" class=\"dataframe\">\n",
       "  <thead>\n",
       "    <tr style=\"text-align: right;\">\n",
       "      <th></th>\n",
       "      <th>Sales</th>\n",
       "    </tr>\n",
       "    <tr>\n",
       "      <th>Month</th>\n",
       "      <th></th>\n",
       "    </tr>\n",
       "  </thead>\n",
       "  <tbody>\n",
       "    <tr>\n",
       "      <th>1980-01-01</th>\n",
       "      <td>154</td>\n",
       "    </tr>\n",
       "    <tr>\n",
       "      <th>1980-02-01</th>\n",
       "      <td>96</td>\n",
       "    </tr>\n",
       "    <tr>\n",
       "      <th>1980-03-01</th>\n",
       "      <td>73</td>\n",
       "    </tr>\n",
       "    <tr>\n",
       "      <th>1980-04-01</th>\n",
       "      <td>49</td>\n",
       "    </tr>\n",
       "    <tr>\n",
       "      <th>1980-05-01</th>\n",
       "      <td>36</td>\n",
       "    </tr>\n",
       "    <tr>\n",
       "      <th>1980-06-01</th>\n",
       "      <td>59</td>\n",
       "    </tr>\n",
       "    <tr>\n",
       "      <th>1980-07-01</th>\n",
       "      <td>95</td>\n",
       "    </tr>\n",
       "    <tr>\n",
       "      <th>1980-08-01</th>\n",
       "      <td>169</td>\n",
       "    </tr>\n",
       "    <tr>\n",
       "      <th>1980-09-01</th>\n",
       "      <td>219</td>\n",
       "    </tr>\n",
       "    <tr>\n",
       "      <th>1980-10-01</th>\n",
       "      <td>278</td>\n",
       "    </tr>\n",
       "    <tr>\n",
       "      <th>1980-11-01</th>\n",
       "      <td>298</td>\n",
       "    </tr>\n",
       "    <tr>\n",
       "      <th>1980-12-01</th>\n",
       "      <td>245</td>\n",
       "    </tr>\n",
       "  </tbody>\n",
       "</table>\n",
       "</div>"
      ],
      "text/plain": [
       "            Sales\n",
       "Month            \n",
       "1980-01-01    154\n",
       "1980-02-01     96\n",
       "1980-03-01     73\n",
       "1980-04-01     49\n",
       "1980-05-01     36\n",
       "1980-06-01     59\n",
       "1980-07-01     95\n",
       "1980-08-01    169\n",
       "1980-09-01    219\n",
       "1980-10-01    278\n",
       "1980-11-01    298\n",
       "1980-12-01    245"
      ]
     },
     "execution_count": 2,
     "metadata": {},
     "output_type": "execute_result"
    }
   ],
   "source": [
    "data = pd.read_csv('sales-data.csv', header=None)\n",
    "data.columns=['Month', 'Sales']\n",
    "data['Month'] = pd.to_datetime(data['Month'], format=\"%Y-%m\")\n",
    "data = data.set_index('Month')\n",
    "data.head(12)"
   ]
  },
  {
   "cell_type": "code",
   "execution_count": 3,
   "metadata": {},
   "outputs": [
    {
     "name": "stdout",
     "output_type": "stream",
     "text": [
      "KPSS statistic 0.657628\n",
      "Critical value @ 0.05: 0.46\n",
      "p-value 0.017397\n"
     ]
    }
   ],
   "source": [
    "from statsmodels.tsa.stattools import kpss\n",
    "\n",
    "kpss_test = kpss(data['Sales'].dropna())\n",
    "\n",
    "print('KPSS statistic %f' % kpss_test[0])\n",
    "print('Critical value @ 0.05: %.2f' %kpss_test[3]['5%'])\n",
    "print('p-value %f' % kpss_test[1])"
   ]
  },
  {
   "cell_type": "code",
   "execution_count": 4,
   "metadata": {},
   "outputs": [
    {
     "data": {
      "text/plain": [
       "Month\n",
       "1980-01-01    5.036953\n",
       "1980-02-01    4.564348\n",
       "1980-03-01    4.290459\n",
       "1980-04-01    3.891820\n",
       "1980-05-01    3.583519\n",
       "                ...   \n",
       "1986-01-01    6.442540\n",
       "1986-02-01    5.730100\n",
       "1986-03-01    5.780744\n",
       "1986-04-01    5.513429\n",
       "1986-05-01    5.605802\n",
       "Length: 77, dtype: float64"
      ]
     },
     "execution_count": 4,
     "metadata": {},
     "output_type": "execute_result"
    }
   ],
   "source": [
    "from scipy.stats import boxcox\n",
    "data_boxcox = pd.Series(boxcox(data['Sales'], lmbda=0), index=data.index)\n",
    "data_boxcox"
   ]
  },
  {
   "cell_type": "code",
   "execution_count": 5,
   "metadata": {},
   "outputs": [
    {
     "data": {
      "image/png": "[encoded data removed]",
      "text/plain": [
       "<Figure size 864x288 with 1 Axes>"
      ]
     },
     "metadata": {
      "needs_background": "light"
     },
     "output_type": "display_data"
    }
   ],
   "source": [
    "data_boxcox.plot(figsize=(12, 4))\n",
    "plt.legend(loc='best')\n",
    "plt.title(\"Sales data\")\n",
    "plt.show(block=False)"
   ]
  },
  {
   "cell_type": "code",
   "execution_count": 6,
   "metadata": {},
   "outputs": [
    {
     "data": {
      "text/plain": [
       "Month\n",
       "1980-01-01         NaN\n",
       "1980-02-01   -0.472604\n",
       "1980-03-01   -0.273889\n",
       "1980-04-01   -0.398639\n",
       "1980-05-01   -0.308301\n",
       "                ...   \n",
       "1986-01-01   -0.055742\n",
       "1986-02-01   -0.712440\n",
       "1986-03-01    0.050644\n",
       "1986-04-01   -0.267315\n",
       "1986-05-01    0.092373\n",
       "Length: 77, dtype: float64"
      ]
     },
     "execution_count": 6,
     "metadata": {},
     "output_type": "execute_result"
    }
   ],
   "source": [
    "data_boxcox_diff = pd.Series(data_boxcox-data_boxcox.shift(), index=data.index)\n",
    "data_boxcox_diff"
   ]
  },
  {
   "cell_type": "code",
   "execution_count": 7,
   "metadata": {},
   "outputs": [
    {
     "data": {
      "image/png": "[encoded data removed]",
      "text/plain": [
       "<Figure size 864x288 with 1 Axes>"
      ]
     },
     "metadata": {
      "needs_background": "light"
     },
     "output_type": "display_data"
    }
   ],
   "source": [
    "data_boxcox_diff = data_boxcox_diff.dropna()\n",
    "data_boxcox_diff.plot(figsize=(12, 4))\n",
    "plt.legend(loc='best')\n",
    "plt.title(\"Sales data\")\n",
    "plt.show(block=False)\n"
   ]
  },
  {
   "cell_type": "code",
   "execution_count": 8,
   "metadata": {},
   "outputs": [],
   "source": [
    "train_len = 60\n",
    "# cannot use random methods like train_test split since order is important. \n",
    "train = data[:train_len] # before 1959\n",
    "test = data[train_len:] # this is 1959- onwards"
   ]
  },
  {
   "cell_type": "code",
   "execution_count": 9,
   "metadata": {},
   "outputs": [],
   "source": [
    "train_data_boxcox = data_boxcox[:train_len]\n",
    "test_data_boxcox = data_boxcox[train_len:]\n",
    "\n",
    "train_data_boxcox_diff = data_boxcox_diff[:train_len]\n",
    "test_data_boxcox_diff = data_boxcox_diff[train_len:]"
   ]
  },
  {
   "cell_type": "code",
   "execution_count": 10,
   "metadata": {},
   "outputs": [
    {
     "name": "stderr",
     "output_type": "stream",
     "text": [
      "C:\\ProgramData\\Anaconda3\\lib\\site-packages\\statsmodels\\tsa\\base\\tsa_model.py:162: ValueWarning: No frequency information was provided, so inferred frequency MS will be used.\n",
      "  % freq, ValueWarning)\n"
     ]
    },
    {
     "name": "stdout",
     "output_type": "stream",
     "text": [
      "const      0.019611\n",
      "ar.L1.y    0.255500\n",
      "ar.L2.y    1.094311\n",
      "ar.L3.y   -0.640568\n",
      "ar.L4.y   -0.482682\n",
      "ma.L1.y   -0.805164\n",
      "ma.L2.y   -0.768011\n",
      "ma.L3.y    0.978171\n",
      "dtype: float64\n"
     ]
    }
   ],
   "source": [
    "from statsmodels.tsa.arima_model import ARIMA\n",
    "model= ARIMA(train_data_boxcox_diff, order = (4,0,3))\n",
    "model_fit = model.fit()\n",
    "print(model_fit.params)"
   ]
  },
  {
   "cell_type": "code",
   "execution_count": 11,
   "metadata": {},
   "outputs": [
    {
     "data": {
      "text/plain": [
       "Month\n",
       "1980-02-01   -0.472604\n",
       "1980-03-01   -0.273889\n",
       "1980-04-01   -0.398639\n",
       "1980-05-01   -0.308301\n",
       "1980-06-01    0.494019\n",
       "                ...   \n",
       "1986-01-01   -0.055742\n",
       "1986-02-01   -0.712440\n",
       "1986-03-01    0.050644\n",
       "1986-04-01   -0.267315\n",
       "1986-05-01    0.092373\n",
       "Length: 76, dtype: float64"
      ]
     },
     "execution_count": 11,
     "metadata": {},
     "output_type": "execute_result"
    }
   ],
   "source": [
    "data_boxcox_diff"
   ]
  },
  {
   "cell_type": "code",
   "execution_count": 12,
   "metadata": {},
   "outputs": [],
   "source": [
    "y_hat_arma = data_boxcox_diff.copy()\n",
    "y_hat_arma['arma_forecast_boxcox_diff'] =  model_fit.predict(data_boxcox_diff.index.min(), data_boxcox_diff.index.max())\n",
    "y_hat_arma['arma_forecast_boxcox'] = y_hat_arma['arma_forecast_boxcox_diff'].cumsum()\n",
    "y_hat_arma['arma_forecast_boxcox'] = y_hat_arma['arma_forecast_boxcox'].add(data_boxcox[0])\n",
    "y_hat_arma['arma_forecast'] = np.exp(y_hat_arma['arma_forecast_boxcox'])"
   ]
  },
  {
   "cell_type": "code",
   "execution_count": 13,
   "metadata": {},
   "outputs": [
    {
     "data": {
      "text/plain": [
       "(207.22, 38.93)"
      ]
     },
     "execution_count": 13,
     "metadata": {},
     "output_type": "execute_result"
    }
   ],
   "source": [
    "from sklearn.metrics import mean_squared_error\n",
    "rmse = np.sqrt(mean_squared_error(test['Sales'], y_hat_arma['arma_forecast'][train_len-1:])).round(2)\n",
    "mape = np.round(np.mean(np.abs(test['Sales'] - y_hat_arma['arma_forecast'][train_len-1:])/test['Sales'])*100, 2)\n",
    "\n",
    "rmse, mape"
   ]
  },
  {
   "cell_type": "markdown",
   "metadata": {},
   "source": [
    "# Arima model"
   ]
  },
  {
   "cell_type": "code",
   "execution_count": 14,
   "metadata": {},
   "outputs": [
    {
     "name": "stderr",
     "output_type": "stream",
     "text": [
      "C:\\ProgramData\\Anaconda3\\lib\\site-packages\\statsmodels\\tsa\\base\\tsa_model.py:162: ValueWarning: No frequency information was provided, so inferred frequency MS will be used.\n",
      "  % freq, ValueWarning)\n",
      "C:\\ProgramData\\Anaconda3\\lib\\site-packages\\statsmodels\\tsa\\base\\tsa_model.py:162: ValueWarning: No frequency information was provided, so inferred frequency MS will be used.\n",
      "  % freq, ValueWarning)\n"
     ]
    },
    {
     "name": "stdout",
     "output_type": "stream",
     "text": [
      "const        0.019123\n",
      "ar.L1.D.y    0.159701\n",
      "ar.L2.D.y    1.146706\n",
      "ar.L3.D.y   -0.579132\n",
      "ar.L4.D.y   -0.566278\n",
      "ma.L1.D.y   -0.661714\n",
      "ma.L2.D.y   -0.815145\n",
      "ma.L3.D.y    0.837844\n",
      "dtype: float64\n"
     ]
    },
    {
     "name": "stderr",
     "output_type": "stream",
     "text": [
      "C:\\ProgramData\\Anaconda3\\lib\\site-packages\\statsmodels\\base\\model.py:568: ConvergenceWarning: Maximum Likelihood optimization failed to converge. Check mle_retvals\n",
      "  \"Check mle_retvals\", ConvergenceWarning)\n"
     ]
    }
   ],
   "source": [
    "model = ARIMA(data_boxcox, order = (4, 1, 3))  #use boxcox instead of data_boxcox_diff\n",
    "model_fit = model.fit()\n",
    "print(model_fit.params)"
   ]
  },
  {
   "cell_type": "code",
   "execution_count": 15,
   "metadata": {},
   "outputs": [],
   "source": [
    "y_hat_arma = data_boxcox_diff.copy()\n",
    "y_hat_arma['arima_forecast_boxcox_diff'] =  model_fit.predict(data_boxcox_diff.index.min(), data_boxcox_diff.index.max())\n",
    "y_hat_arma['arima_forecast_boxcox'] = y_hat_arma['arima_forecast_boxcox_diff'].cumsum()\n",
    "y_hat_arma['arima_forecast_boxcox'] = y_hat_arma['arima_forecast_boxcox'].add(data_boxcox[0])\n",
    "y_hat_arma['arima_forecast'] = np.exp(y_hat_arma['arima_forecast_boxcox'])"
   ]
  },
  {
   "cell_type": "code",
   "execution_count": 16,
   "metadata": {},
   "outputs": [
    {
     "data": {
      "text/plain": [
       "(105.1, 22.05)"
      ]
     },
     "execution_count": 16,
     "metadata": {},
     "output_type": "execute_result"
    }
   ],
   "source": [
    "from sklearn.metrics import mean_squared_error\n",
    "rmse = np.sqrt(mean_squared_error(test['Sales'], y_hat_arma['arima_forecast'][train_len-1:])).round(2)\n",
    "mape = np.round(np.mean(np.abs(test['Sales'] - y_hat_arma['arima_forecast'][train_len-1:])/test['Sales'])*100, 2)\n",
    "\n",
    "rmse, mape"
   ]
  },
  {
   "cell_type": "code",
   "execution_count": null,
   "metadata": {},
   "outputs": [],
   "source": []
  }
 ],
 "metadata": {
  "kernelspec": {
   "display_name": "Python 3",
   "language": "python",
   "name": "python3"
  },
  "language_info": {
   "codemirror_mode": {
    "name": "ipython",
    "version": 3
   },
   "file_extension": ".py",
   "mimetype": "text/x-python",
   "name": "python",
   "nbconvert_exporter": "python",
   "pygments_lexer": "ipython3",
   "version": "3.7.7"
  }
 },
 "nbformat": 4,
 "nbformat_minor": 4
}
