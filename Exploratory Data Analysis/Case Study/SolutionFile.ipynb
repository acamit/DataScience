{
 "cells": [
  {
   "cell_type": "code",
   "execution_count": 1,
   "metadata": {},
   "outputs": [],
   "source": [
    "import numpy as np\n",
    "import pandas as pd\n",
    "import matplotlib \n",
    "import matplotlib.pyplot as plt\n",
    "import seaborn as sns\n",
    "\n",
    "import warnings\n",
    "warnings.filterwarnings(\"ignore\")"
   ]
  },
  {
   "cell_type": "code",
   "execution_count": 2,
   "metadata": {},
   "outputs": [],
   "source": [
    "pd.set_option('display.max_rows', 200)"
   ]
  },
  {
   "cell_type": "code",
   "execution_count": 3,
   "metadata": {},
   "outputs": [],
   "source": [
    "applicationData = pd.read_csv('application_data.csv')"
   ]
  },
  {
   "cell_type": "code",
   "execution_count": 4,
   "metadata": {},
   "outputs": [],
   "source": [
    "previousApplication = pd.read_csv('previous_application.csv')"
   ]
  },
  {
   "cell_type": "code",
   "execution_count": 5,
   "metadata": {},
   "outputs": [
    {
     "name": "stdout",
     "output_type": "stream",
     "text": [
      "37516342\n"
     ]
    }
   ],
   "source": [
    "print(applicationData.size)"
   ]
  },
  {
   "cell_type": "code",
   "execution_count": 6,
   "metadata": {},
   "outputs": [
    {
     "name": "stdout",
     "output_type": "stream",
     "text": [
      "(307511, 122)\n"
     ]
    }
   ],
   "source": [
    "print(applicationData.shape)"
   ]
  },
  {
   "cell_type": "markdown",
   "metadata": {},
   "source": [
    "### Analysing Data Types"
   ]
  },
  {
   "cell_type": "code",
   "execution_count": 7,
   "metadata": {},
   "outputs": [
    {
     "name": "stdout",
     "output_type": "stream",
     "text": [
      "<class 'pandas.core.frame.DataFrame'>\n",
      "RangeIndex: 307511 entries, 0 to 307510\n",
      "Data columns (total 122 columns):\n",
      "SK_ID_CURR                      int64\n",
      "TARGET                          int64\n",
      "NAME_CONTRACT_TYPE              object\n",
      "CODE_GENDER                     object\n",
      "FLAG_OWN_CAR                    object\n",
      "FLAG_OWN_REALTY                 object\n",
      "CNT_CHILDREN                    int64\n",
      "AMT_INCOME_TOTAL                float64\n",
      "AMT_CREDIT                      float64\n",
      "AMT_ANNUITY                     float64\n",
      "AMT_GOODS_PRICE                 float64\n",
      "NAME_TYPE_SUITE                 object\n",
      "NAME_INCOME_TYPE                object\n",
      "NAME_EDUCATION_TYPE             object\n",
      "NAME_FAMILY_STATUS              object\n",
      "NAME_HOUSING_TYPE               object\n",
      "REGION_POPULATION_RELATIVE      float64\n",
      "DAYS_BIRTH                      int64\n",
      "DAYS_EMPLOYED                   int64\n",
      "DAYS_REGISTRATION               float64\n",
      "DAYS_ID_PUBLISH                 int64\n",
      "OWN_CAR_AGE                     float64\n",
      "FLAG_MOBIL                      int64\n",
      "FLAG_EMP_PHONE                  int64\n",
      "FLAG_WORK_PHONE                 int64\n",
      "FLAG_CONT_MOBILE                int64\n",
      "FLAG_PHONE                      int64\n",
      "FLAG_EMAIL                      int64\n",
      "OCCUPATION_TYPE                 object\n",
      "CNT_FAM_MEMBERS                 float64\n",
      "REGION_RATING_CLIENT            int64\n",
      "REGION_RATING_CLIENT_W_CITY     int64\n",
      "WEEKDAY_APPR_PROCESS_START      object\n",
      "HOUR_APPR_PROCESS_START         int64\n",
      "REG_REGION_NOT_LIVE_REGION      int64\n",
      "REG_REGION_NOT_WORK_REGION      int64\n",
      "LIVE_REGION_NOT_WORK_REGION     int64\n",
      "REG_CITY_NOT_LIVE_CITY          int64\n",
      "REG_CITY_NOT_WORK_CITY          int64\n",
      "LIVE_CITY_NOT_WORK_CITY         int64\n",
      "ORGANIZATION_TYPE               object\n",
      "EXT_SOURCE_1                    float64\n",
      "EXT_SOURCE_2                    float64\n",
      "EXT_SOURCE_3                    float64\n",
      "APARTMENTS_AVG                  float64\n",
      "BASEMENTAREA_AVG                float64\n",
      "YEARS_BEGINEXPLUATATION_AVG     float64\n",
      "YEARS_BUILD_AVG                 float64\n",
      "COMMONAREA_AVG                  float64\n",
      "ELEVATORS_AVG                   float64\n",
      "ENTRANCES_AVG                   float64\n",
      "FLOORSMAX_AVG                   float64\n",
      "FLOORSMIN_AVG                   float64\n",
      "LANDAREA_AVG                    float64\n",
      "LIVINGAPARTMENTS_AVG            float64\n",
      "LIVINGAREA_AVG                  float64\n",
      "NONLIVINGAPARTMENTS_AVG         float64\n",
      "NONLIVINGAREA_AVG               float64\n",
      "APARTMENTS_MODE                 float64\n",
      "BASEMENTAREA_MODE               float64\n",
      "YEARS_BEGINEXPLUATATION_MODE    float64\n",
      "YEARS_BUILD_MODE                float64\n",
      "COMMONAREA_MODE                 float64\n",
      "ELEVATORS_MODE                  float64\n",
      "ENTRANCES_MODE                  float64\n",
      "FLOORSMAX_MODE                  float64\n",
      "FLOORSMIN_MODE                  float64\n",
      "LANDAREA_MODE                   float64\n",
      "LIVINGAPARTMENTS_MODE           float64\n",
      "LIVINGAREA_MODE                 float64\n",
      "NONLIVINGAPARTMENTS_MODE        float64\n",
      "NONLIVINGAREA_MODE              float64\n",
      "APARTMENTS_MEDI                 float64\n",
      "BASEMENTAREA_MEDI               float64\n",
      "YEARS_BEGINEXPLUATATION_MEDI    float64\n",
      "YEARS_BUILD_MEDI                float64\n",
      "COMMONAREA_MEDI                 float64\n",
      "ELEVATORS_MEDI                  float64\n",
      "ENTRANCES_MEDI                  float64\n",
      "FLOORSMAX_MEDI                  float64\n",
      "FLOORSMIN_MEDI                  float64\n",
      "LANDAREA_MEDI                   float64\n",
      "LIVINGAPARTMENTS_MEDI           float64\n",
      "LIVINGAREA_MEDI                 float64\n",
      "NONLIVINGAPARTMENTS_MEDI        float64\n",
      "NONLIVINGAREA_MEDI              float64\n",
      "FONDKAPREMONT_MODE              object\n",
      "HOUSETYPE_MODE                  object\n",
      "TOTALAREA_MODE                  float64\n",
      "WALLSMATERIAL_MODE              object\n",
      "EMERGENCYSTATE_MODE             object\n",
      "OBS_30_CNT_SOCIAL_CIRCLE        float64\n",
      "DEF_30_CNT_SOCIAL_CIRCLE        float64\n",
      "OBS_60_CNT_SOCIAL_CIRCLE        float64\n",
      "DEF_60_CNT_SOCIAL_CIRCLE        float64\n",
      "DAYS_LAST_PHONE_CHANGE          float64\n",
      "FLAG_DOCUMENT_2                 int64\n",
      "FLAG_DOCUMENT_3                 int64\n",
      "FLAG_DOCUMENT_4                 int64\n",
      "FLAG_DOCUMENT_5                 int64\n",
      "FLAG_DOCUMENT_6                 int64\n",
      "FLAG_DOCUMENT_7                 int64\n",
      "FLAG_DOCUMENT_8                 int64\n",
      "FLAG_DOCUMENT_9                 int64\n",
      "FLAG_DOCUMENT_10                int64\n",
      "FLAG_DOCUMENT_11                int64\n",
      "FLAG_DOCUMENT_12                int64\n",
      "FLAG_DOCUMENT_13                int64\n",
      "FLAG_DOCUMENT_14                int64\n",
      "FLAG_DOCUMENT_15                int64\n",
      "FLAG_DOCUMENT_16                int64\n",
      "FLAG_DOCUMENT_17                int64\n",
      "FLAG_DOCUMENT_18                int64\n",
      "FLAG_DOCUMENT_19                int64\n",
      "FLAG_DOCUMENT_20                int64\n",
      "FLAG_DOCUMENT_21                int64\n",
      "AMT_REQ_CREDIT_BUREAU_HOUR      float64\n",
      "AMT_REQ_CREDIT_BUREAU_DAY       float64\n",
      "AMT_REQ_CREDIT_BUREAU_WEEK      float64\n",
      "AMT_REQ_CREDIT_BUREAU_MON       float64\n",
      "AMT_REQ_CREDIT_BUREAU_QRT       float64\n",
      "AMT_REQ_CREDIT_BUREAU_YEAR      float64\n",
      "dtypes: float64(65), int64(41), object(16)\n",
      "memory usage: 286.2+ MB\n"
     ]
    }
   ],
   "source": [
    "applicationData.info(verbose=True)"
   ]
  },
  {
   "cell_type": "code",
   "execution_count": 8,
   "metadata": {},
   "outputs": [
    {
     "name": "stdout",
     "output_type": "stream",
     "text": [
      "16\n"
     ]
    }
   ],
   "source": [
    "objectTypeColumns = list(applicationData.select_dtypes(['object']).columns)\n",
    "print(len(objectTypeColumns))"
   ]
  },
  {
   "cell_type": "markdown",
   "metadata": {},
   "source": [
    "#### 16 columns have dypes as object. Lets observe the kind of data"
   ]
  },
  {
   "cell_type": "code",
   "execution_count": 9,
   "metadata": {},
   "outputs": [
    {
     "name": "stdout",
     "output_type": "stream",
     "text": [
      "NAME_CONTRACT_TYPE\n",
      "Cash loans         278232\n",
      "Revolving loans     29279\n",
      "Name: NAME_CONTRACT_TYPE, dtype: int64\n",
      "****************************************************************************************************\n",
      "CODE_GENDER\n",
      "F      202448\n",
      "M      105059\n",
      "XNA         4\n",
      "Name: CODE_GENDER, dtype: int64\n",
      "****************************************************************************************************\n",
      "FLAG_OWN_CAR\n",
      "N    202924\n",
      "Y    104587\n",
      "Name: FLAG_OWN_CAR, dtype: int64\n",
      "****************************************************************************************************\n",
      "FLAG_OWN_REALTY\n",
      "Y    213312\n",
      "N     94199\n",
      "Name: FLAG_OWN_REALTY, dtype: int64\n",
      "****************************************************************************************************\n",
      "NAME_TYPE_SUITE\n",
      "Unaccompanied      248526\n",
      "Family              40149\n",
      "Spouse, partner     11370\n",
      "Children             3267\n",
      "Other_B              1770\n",
      "Other_A               866\n",
      "Group of people       271\n",
      "Name: NAME_TYPE_SUITE, dtype: int64\n",
      "****************************************************************************************************\n",
      "NAME_INCOME_TYPE\n",
      "Working                 158774\n",
      "Commercial associate     71617\n",
      "Pensioner                55362\n",
      "State servant            21703\n",
      "Unemployed                  22\n",
      "Student                     18\n",
      "Businessman                 10\n",
      "Maternity leave              5\n",
      "Name: NAME_INCOME_TYPE, dtype: int64\n",
      "****************************************************************************************************\n",
      "NAME_EDUCATION_TYPE\n",
      "Secondary / secondary special    218391\n",
      "Higher education                  74863\n",
      "Incomplete higher                 10277\n",
      "Lower secondary                    3816\n",
      "Academic degree                     164\n",
      "Name: NAME_EDUCATION_TYPE, dtype: int64\n",
      "****************************************************************************************************\n",
      "NAME_FAMILY_STATUS\n",
      "Married                 196432\n",
      "Single / not married     45444\n",
      "Civil marriage           29775\n",
      "Separated                19770\n",
      "Widow                    16088\n",
      "Unknown                      2\n",
      "Name: NAME_FAMILY_STATUS, dtype: int64\n",
      "****************************************************************************************************\n",
      "NAME_HOUSING_TYPE\n",
      "House / apartment      272868\n",
      "With parents            14840\n",
      "Municipal apartment     11183\n",
      "Rented apartment         4881\n",
      "Office apartment         2617\n",
      "Co-op apartment          1122\n",
      "Name: NAME_HOUSING_TYPE, dtype: int64\n",
      "****************************************************************************************************\n",
      "OCCUPATION_TYPE\n",
      "Laborers                 55186\n",
      "Sales staff              32102\n",
      "Core staff               27570\n",
      "Managers                 21371\n",
      "Drivers                  18603\n",
      "High skill tech staff    11380\n",
      "Accountants               9813\n",
      "Medicine staff            8537\n",
      "Security staff            6721\n",
      "Cooking staff             5946\n",
      "Cleaning staff            4653\n",
      "Private service staff     2652\n",
      "Low-skill Laborers        2093\n",
      "Waiters/barmen staff      1348\n",
      "Secretaries               1305\n",
      "Realty agents              751\n",
      "HR staff                   563\n",
      "IT staff                   526\n",
      "Name: OCCUPATION_TYPE, dtype: int64\n",
      "****************************************************************************************************\n",
      "WEEKDAY_APPR_PROCESS_START\n",
      "TUESDAY      53901\n",
      "WEDNESDAY    51934\n",
      "MONDAY       50714\n",
      "THURSDAY     50591\n",
      "FRIDAY       50338\n",
      "SATURDAY     33852\n",
      "SUNDAY       16181\n",
      "Name: WEEKDAY_APPR_PROCESS_START, dtype: int64\n",
      "****************************************************************************************************\n",
      "ORGANIZATION_TYPE\n",
      "Business Entity Type 3    67992\n",
      "XNA                       55374\n",
      "Self-employed             38412\n",
      "Other                     16683\n",
      "Medicine                  11193\n",
      "Business Entity Type 2    10553\n",
      "Government                10404\n",
      "School                     8893\n",
      "Trade: type 7              7831\n",
      "Kindergarten               6880\n",
      "Construction               6721\n",
      "Business Entity Type 1     5984\n",
      "Transport: type 4          5398\n",
      "Trade: type 3              3492\n",
      "Industry: type 9           3368\n",
      "Industry: type 3           3278\n",
      "Security                   3247\n",
      "Housing                    2958\n",
      "Industry: type 11          2704\n",
      "Military                   2634\n",
      "Bank                       2507\n",
      "Agriculture                2454\n",
      "Police                     2341\n",
      "Transport: type 2          2204\n",
      "Postal                     2157\n",
      "Security Ministries        1974\n",
      "Trade: type 2              1900\n",
      "Restaurant                 1811\n",
      "Services                   1575\n",
      "University                 1327\n",
      "Industry: type 7           1307\n",
      "Transport: type 3          1187\n",
      "Industry: type 1           1039\n",
      "Hotel                       966\n",
      "Electricity                 950\n",
      "Industry: type 4            877\n",
      "Trade: type 6               631\n",
      "Industry: type 5            599\n",
      "Insurance                   597\n",
      "Telecom                     577\n",
      "Emergency                   560\n",
      "Industry: type 2            458\n",
      "Advertising                 429\n",
      "Realtor                     396\n",
      "Culture                     379\n",
      "Industry: type 12           369\n",
      "Trade: type 1               348\n",
      "Mobile                      317\n",
      "Legal Services              305\n",
      "Cleaning                    260\n",
      "Transport: type 1           201\n",
      "Industry: type 6            112\n",
      "Industry: type 10           109\n",
      "Religion                     85\n",
      "Industry: type 13            67\n",
      "Trade: type 4                64\n",
      "Trade: type 5                49\n",
      "Industry: type 8             24\n",
      "Name: ORGANIZATION_TYPE, dtype: int64\n",
      "****************************************************************************************************\n",
      "FONDKAPREMONT_MODE\n",
      "reg oper account         73830\n",
      "reg oper spec account    12080\n",
      "not specified             5687\n",
      "org spec account          5619\n",
      "Name: FONDKAPREMONT_MODE, dtype: int64\n",
      "****************************************************************************************************\n",
      "HOUSETYPE_MODE\n",
      "block of flats      150503\n",
      "specific housing      1499\n",
      "terraced house        1212\n",
      "Name: HOUSETYPE_MODE, dtype: int64\n",
      "****************************************************************************************************\n",
      "WALLSMATERIAL_MODE\n",
      "Panel           66040\n",
      "Stone, brick    64815\n",
      "Block            9253\n",
      "Wooden           5362\n",
      "Mixed            2296\n",
      "Monolithic       1779\n",
      "Others           1625\n",
      "Name: WALLSMATERIAL_MODE, dtype: int64\n",
      "****************************************************************************************************\n",
      "EMERGENCYSTATE_MODE\n",
      "No     159428\n",
      "Yes      2328\n",
      "Name: EMERGENCYSTATE_MODE, dtype: int64\n",
      "****************************************************************************************************\n"
     ]
    }
   ],
   "source": [
    "for column in objectTypeColumns:\n",
    "    print(column)\n",
    "    print(applicationData[column].value_counts())\n",
    "    print('*'*100)"
   ]
  },
  {
   "cell_type": "markdown",
   "metadata": {},
   "source": [
    "Following columns contain string/ text data\n",
    "- NAME_CONTRACT_TYPE\n",
    "- NAME_TYPE_SUITE\n",
    "- NAME_INCOME_TYPE\n",
    "- NAME_EDUCATION_TYPE\n",
    "- NAME_FAMILY_STATUS\n",
    "- NAME_HOUSING_TYPE\n",
    "- OCCUPATION_TYPE\n",
    "- ORGANIZATION_TYPE\n",
    "- FONDKAPREMONT_MODE\n",
    "- HOUSETYPE_MODE\n",
    "- WALLSMATERIAL_MODE\n",
    "\n",
    "Following can be considered for converting to int and map to 0 and 1 for analysis\n",
    "\n",
    "- CODE_GENDER \n",
    "- FLAG_OWN_CAR\n",
    "- FLAG_OWN_REALTY\n",
    "- WEEKDAY_APPR_PROCESS_START\n",
    "- EMERGENCYSTATE_MODE"
   ]
  },
  {
   "cell_type": "markdown",
   "metadata": {},
   "source": [
    "As observed, following columns have incorrect data types:</font>\n",
    "- CNT_FAM_MEMBERS (Float) should be int64\n",
    "- DEF_30_CNT_SOCIAL_CIRCLE (Float) should be int64\n",
    "- DAYS_LAST_PHONE_CHANGE (Float) should be int64\n",
    "- AMT_REQ_CREDIT_BUREAU_HOUR (Float) should be int64\n",
    "- AMT_REQ_CREDIT_BUREAU_WEEK (Float) should be int64"
   ]
  },
  {
   "cell_type": "markdown",
   "metadata": {},
   "source": [
    "### Fixing to correct data type of columns"
   ]
  },
  {
   "cell_type": "code",
   "execution_count": 10,
   "metadata": {},
   "outputs": [],
   "source": [
    "#Fixing the data type for CNT_FAM_MEMBERS, DEF_30_CNT_SOCIAL_CIRCLE, DAYS_LAST_PHONE_CHANGE,\n",
    "#AMT_REQ_CREDIT_BUREAU_HOUR, AMT_REQ_CREDIT_BUREAU_WEEK\n",
    "applicationData.CNT_FAM_MEMBERS = applicationData.CNT_FAM_MEMBERS.astype('Int64')\n",
    "applicationData.DEF_30_CNT_SOCIAL_CIRCLE = applicationData.DEF_30_CNT_SOCIAL_CIRCLE.astype('Int64')\n",
    "applicationData.DAYS_LAST_PHONE_CHANGE = applicationData.DAYS_LAST_PHONE_CHANGE.astype('Int64')\n",
    "applicationData.AMT_REQ_CREDIT_BUREAU_HOUR = applicationData.AMT_REQ_CREDIT_BUREAU_HOUR.astype('Int64')\n",
    "applicationData.AMT_REQ_CREDIT_BUREAU_WEEK = applicationData.AMT_REQ_CREDIT_BUREAU_WEEK.astype('Int64')"
   ]
  },
  {
   "cell_type": "markdown",
   "metadata": {},
   "source": [
    "## Handling Null values"
   ]
  },
  {
   "cell_type": "code",
   "execution_count": 11,
   "metadata": {},
   "outputs": [],
   "source": [
    "def getColumnWiseNulls():\n",
    "    colWiseNulls = round(100*(applicationData.isnull().sum()/len(applicationData.index)), 2)\n",
    "    colWiseNulls.sort_values(ascending=False, inplace=True)\n",
    "    return colWiseNulls"
   ]
  },
  {
   "cell_type": "code",
   "execution_count": 12,
   "metadata": {},
   "outputs": [],
   "source": [
    "def plotColumnWiseNulls(lowerRange=0, upperRange=100):\n",
    "    res = getColumnWiseNulls()\n",
    "    plt.figure(figsize=(20,4))\n",
    "    res[(res>=lowerRange)&(res<=upperRange)].plot.bar()\n",
    "    "
   ]
  },
  {
   "cell_type": "markdown",
   "metadata": {},
   "source": [
    "## Drop columns with more that 50 % null values"
   ]
  },
  {
   "cell_type": "code",
   "execution_count": 13,
   "metadata": {},
   "outputs": [],
   "source": [
    "def RemoveNullColumns(dataFrame, percent= 0.5):\n",
    "    df = dataFrame.copy()\n",
    "    ishape = df.shape\n",
    "    colWiseNulls = df.isnull().sum()/len(df.index)\n",
    "    colNames = list(colWiseNulls[colWiseNulls.values>=percent].index)\n",
    "    df.drop(labels=colNames, inplace=True , axis=1)\n",
    "    \n",
    "    return df"
   ]
  },
  {
   "cell_type": "code",
   "execution_count": 14,
   "metadata": {},
   "outputs": [
    {
     "data": {
      "text/plain": [
       "COMMONAREA_MEDI                 69.87\n",
       "COMMONAREA_AVG                  69.87\n",
       "COMMONAREA_MODE                 69.87\n",
       "NONLIVINGAPARTMENTS_MODE        69.43\n",
       "NONLIVINGAPARTMENTS_MEDI        69.43\n",
       "NONLIVINGAPARTMENTS_AVG         69.43\n",
       "FONDKAPREMONT_MODE              68.39\n",
       "LIVINGAPARTMENTS_MEDI           68.35\n",
       "LIVINGAPARTMENTS_MODE           68.35\n",
       "LIVINGAPARTMENTS_AVG            68.35\n",
       "FLOORSMIN_MEDI                  67.85\n",
       "FLOORSMIN_MODE                  67.85\n",
       "FLOORSMIN_AVG                   67.85\n",
       "YEARS_BUILD_MEDI                66.50\n",
       "YEARS_BUILD_AVG                 66.50\n",
       "YEARS_BUILD_MODE                66.50\n",
       "OWN_CAR_AGE                     65.99\n",
       "LANDAREA_MODE                   59.38\n",
       "LANDAREA_AVG                    59.38\n",
       "LANDAREA_MEDI                   59.38\n",
       "BASEMENTAREA_MEDI               58.52\n",
       "BASEMENTAREA_AVG                58.52\n",
       "BASEMENTAREA_MODE               58.52\n",
       "EXT_SOURCE_1                    56.38\n",
       "NONLIVINGAREA_MEDI              55.18\n",
       "NONLIVINGAREA_AVG               55.18\n",
       "NONLIVINGAREA_MODE              55.18\n",
       "ELEVATORS_MODE                  53.30\n",
       "ELEVATORS_AVG                   53.30\n",
       "ELEVATORS_MEDI                  53.30\n",
       "WALLSMATERIAL_MODE              50.84\n",
       "APARTMENTS_MODE                 50.75\n",
       "APARTMENTS_AVG                  50.75\n",
       "APARTMENTS_MEDI                 50.75\n",
       "ENTRANCES_MEDI                  50.35\n",
       "ENTRANCES_MODE                  50.35\n",
       "ENTRANCES_AVG                   50.35\n",
       "LIVINGAREA_MEDI                 50.19\n",
       "LIVINGAREA_MODE                 50.19\n",
       "LIVINGAREA_AVG                  50.19\n",
       "HOUSETYPE_MODE                  50.18\n",
       "FLOORSMAX_MODE                  49.76\n",
       "FLOORSMAX_MEDI                  49.76\n",
       "FLOORSMAX_AVG                   49.76\n",
       "YEARS_BEGINEXPLUATATION_MEDI    48.78\n",
       "YEARS_BEGINEXPLUATATION_AVG     48.78\n",
       "YEARS_BEGINEXPLUATATION_MODE    48.78\n",
       "TOTALAREA_MODE                  48.27\n",
       "EMERGENCYSTATE_MODE             47.40\n",
       "OCCUPATION_TYPE                 31.35\n",
       "EXT_SOURCE_3                    19.83\n",
       "AMT_REQ_CREDIT_BUREAU_QRT       13.50\n",
       "AMT_REQ_CREDIT_BUREAU_YEAR      13.50\n",
       "AMT_REQ_CREDIT_BUREAU_DAY       13.50\n",
       "AMT_REQ_CREDIT_BUREAU_WEEK      13.50\n",
       "AMT_REQ_CREDIT_BUREAU_MON       13.50\n",
       "AMT_REQ_CREDIT_BUREAU_HOUR      13.50\n",
       "NAME_TYPE_SUITE                  0.42\n",
       "OBS_30_CNT_SOCIAL_CIRCLE         0.33\n",
       "OBS_60_CNT_SOCIAL_CIRCLE         0.33\n",
       "DEF_60_CNT_SOCIAL_CIRCLE         0.33\n",
       "DEF_30_CNT_SOCIAL_CIRCLE         0.33\n",
       "EXT_SOURCE_2                     0.21\n",
       "AMT_GOODS_PRICE                  0.09\n",
       "DAYS_ID_PUBLISH                  0.00\n",
       "FLAG_EMP_PHONE                   0.00\n",
       "FLAG_MOBIL                       0.00\n",
       "DAYS_EMPLOYED                    0.00\n",
       "FLAG_WORK_PHONE                  0.00\n",
       "FLAG_CONT_MOBILE                 0.00\n",
       "FLAG_PHONE                       0.00\n",
       "FLAG_EMAIL                       0.00\n",
       "DAYS_REGISTRATION                0.00\n",
       "NAME_HOUSING_TYPE                0.00\n",
       "DAYS_BIRTH                       0.00\n",
       "REGION_POPULATION_RELATIVE       0.00\n",
       "REGION_RATING_CLIENT             0.00\n",
       "NAME_FAMILY_STATUS               0.00\n",
       "NAME_EDUCATION_TYPE              0.00\n",
       "NAME_INCOME_TYPE                 0.00\n",
       "AMT_ANNUITY                      0.00\n",
       "AMT_CREDIT                       0.00\n",
       "AMT_INCOME_TOTAL                 0.00\n",
       "CNT_CHILDREN                     0.00\n",
       "FLAG_OWN_REALTY                  0.00\n",
       "FLAG_OWN_CAR                     0.00\n",
       "CODE_GENDER                      0.00\n",
       "NAME_CONTRACT_TYPE               0.00\n",
       "TARGET                           0.00\n",
       "CNT_FAM_MEMBERS                  0.00\n",
       "REG_REGION_NOT_LIVE_REGION       0.00\n",
       "REGION_RATING_CLIENT_W_CITY      0.00\n",
       "FLAG_DOCUMENT_14                 0.00\n",
       "DAYS_LAST_PHONE_CHANGE           0.00\n",
       "FLAG_DOCUMENT_2                  0.00\n",
       "FLAG_DOCUMENT_3                  0.00\n",
       "FLAG_DOCUMENT_4                  0.00\n",
       "FLAG_DOCUMENT_5                  0.00\n",
       "FLAG_DOCUMENT_6                  0.00\n",
       "FLAG_DOCUMENT_7                  0.00\n",
       "FLAG_DOCUMENT_8                  0.00\n",
       "FLAG_DOCUMENT_9                  0.00\n",
       "FLAG_DOCUMENT_10                 0.00\n",
       "FLAG_DOCUMENT_11                 0.00\n",
       "FLAG_DOCUMENT_12                 0.00\n",
       "FLAG_DOCUMENT_13                 0.00\n",
       "FLAG_DOCUMENT_15                 0.00\n",
       "WEEKDAY_APPR_PROCESS_START       0.00\n",
       "FLAG_DOCUMENT_16                 0.00\n",
       "FLAG_DOCUMENT_17                 0.00\n",
       "FLAG_DOCUMENT_18                 0.00\n",
       "FLAG_DOCUMENT_19                 0.00\n",
       "FLAG_DOCUMENT_20                 0.00\n",
       "FLAG_DOCUMENT_21                 0.00\n",
       "ORGANIZATION_TYPE                0.00\n",
       "LIVE_CITY_NOT_WORK_CITY          0.00\n",
       "REG_CITY_NOT_WORK_CITY           0.00\n",
       "REG_CITY_NOT_LIVE_CITY           0.00\n",
       "LIVE_REGION_NOT_WORK_REGION      0.00\n",
       "REG_REGION_NOT_WORK_REGION       0.00\n",
       "HOUR_APPR_PROCESS_START          0.00\n",
       "SK_ID_CURR                       0.00\n",
       "dtype: float64"
      ]
     },
     "execution_count": 14,
     "metadata": {},
     "output_type": "execute_result"
    }
   ],
   "source": [
    "getColumnWiseNulls()"
   ]
  },
  {
   "cell_type": "code",
   "execution_count": 15,
   "metadata": {},
   "outputs": [
    {
     "data": {
      "image/png": "[encoded data removed]",
      "text/plain": [
       "<Figure size 1440x288 with 1 Axes>"
      ]
     },
     "metadata": {
      "needs_background": "light"
     },
     "output_type": "display_data"
    }
   ],
   "source": [
    "plotColumnWiseNulls(0.01)"
   ]
  },
  {
   "cell_type": "code",
   "execution_count": 16,
   "metadata": {},
   "outputs": [],
   "source": [
    "applicationData = RemoveNullColumns(applicationData)"
   ]
  },
  {
   "cell_type": "code",
   "execution_count": 17,
   "metadata": {},
   "outputs": [
    {
     "data": {
      "image/png": "[encoded data removed]",
      "text/plain": [
       "<Figure size 1440x288 with 1 Axes>"
      ]
     },
     "metadata": {
      "needs_background": "light"
     },
     "output_type": "display_data"
    }
   ],
   "source": [
    "plotColumnWiseNulls(0.01, 30) ##only plot columns with null values between 10% and 30%"
   ]
  },
  {
   "cell_type": "code",
   "execution_count": 18,
   "metadata": {},
   "outputs": [
    {
     "data": {
      "text/plain": [
       "F      0.658344\n",
       "M      0.341643\n",
       "XNA    0.000013\n",
       "Name: CODE_GENDER, dtype: float64"
      ]
     },
     "execution_count": 18,
     "metadata": {},
     "output_type": "execute_result"
    }
   ],
   "source": [
    "## lets examine gender column for nulls\n",
    "## As it was mentioned during session XNA is not null\n",
    "applicationData['CODE_GENDER'].value_counts(normalize=True)"
   ]
  },
  {
   "cell_type": "markdown",
   "metadata": {},
   "source": [
    "#### only four values are not male or female in gender column. We can impute it with mode"
   ]
  },
  {
   "cell_type": "code",
   "execution_count": 19,
   "metadata": {},
   "outputs": [],
   "source": [
    "mode=applicationData['CODE_GENDER'].mode().values[0]"
   ]
  },
  {
   "cell_type": "code",
   "execution_count": 20,
   "metadata": {},
   "outputs": [],
   "source": [
    "applicationData['CODE_GENDER'].replace('XNA', mode, inplace=True)"
   ]
  },
  {
   "cell_type": "code",
   "execution_count": 21,
   "metadata": {},
   "outputs": [
    {
     "data": {
      "text/plain": [
       "F    202452\n",
       "M    105059\n",
       "Name: CODE_GENDER, dtype: int64"
      ]
     },
     "execution_count": 21,
     "metadata": {},
     "output_type": "execute_result"
    }
   ],
   "source": [
    "applicationData['CODE_GENDER'].value_counts()"
   ]
  },
  {
   "cell_type": "code",
   "execution_count": 22,
   "metadata": {},
   "outputs": [
    {
     "name": "stdout",
     "output_type": "stream",
     "text": [
      "count    265992.000000\n",
      "mean          0.006402\n",
      "std           0.083849\n",
      "min           0.000000\n",
      "25%           0.000000\n",
      "50%           0.000000\n",
      "75%           0.000000\n",
      "max           4.000000\n",
      "Name: AMT_REQ_CREDIT_BUREAU_HOUR, dtype: float64\n"
     ]
    },
    {
     "data": {
      "text/plain": [
       "0    264366\n",
       "1      1560\n",
       "2        56\n",
       "3         9\n",
       "4         1\n",
       "Name: AMT_REQ_CREDIT_BUREAU_HOUR, dtype: int64"
      ]
     },
     "execution_count": 22,
     "metadata": {},
     "output_type": "execute_result"
    }
   ],
   "source": [
    "print(applicationData['AMT_REQ_CREDIT_BUREAU_HOUR'].describe())\n",
    "applicationData['AMT_REQ_CREDIT_BUREAU_HOUR'].value_counts()"
   ]
  },
  {
   "cell_type": "markdown",
   "metadata": {},
   "source": [
    "#### Since both median and mode are 0, it is safe to fill nulls with 0. Mean cannot work out here since the number of enquiries cannot be fractional\n"
   ]
  },
  {
   "cell_type": "code",
   "execution_count": 23,
   "metadata": {},
   "outputs": [],
   "source": [
    "applicationData.loc[applicationData['AMT_REQ_CREDIT_BUREAU_HOUR'].isnull(),'AMT_REQ_CREDIT_BUREAU_HOUR']=0"
   ]
  },
  {
   "cell_type": "code",
   "execution_count": 24,
   "metadata": {},
   "outputs": [
    {
     "name": "stdout",
     "output_type": "stream",
     "text": [
      "count    307511.000000\n",
      "mean          0.005538\n",
      "std           0.078014\n",
      "min           0.000000\n",
      "25%           0.000000\n",
      "50%           0.000000\n",
      "75%           0.000000\n",
      "max           4.000000\n",
      "Name: AMT_REQ_CREDIT_BUREAU_HOUR, dtype: float64\n"
     ]
    },
    {
     "data": {
      "text/plain": [
       "0    305885\n",
       "1      1560\n",
       "2        56\n",
       "3         9\n",
       "4         1\n",
       "Name: AMT_REQ_CREDIT_BUREAU_HOUR, dtype: int64"
      ]
     },
     "execution_count": 24,
     "metadata": {},
     "output_type": "execute_result"
    }
   ],
   "source": [
    "print(applicationData['AMT_REQ_CREDIT_BUREAU_HOUR'].describe())\n",
    "applicationData['AMT_REQ_CREDIT_BUREAU_HOUR'].value_counts()"
   ]
  },
  {
   "cell_type": "markdown",
   "metadata": {},
   "source": [
    "### For imputing columns AMT_REQ_CREDIT_BUREAU_DAY, AMT_REQ_CREDIT_BUREAU_WEEK , AMT_REQ_CREDIT_BUREAU_MON, AMT_REQ_CREDIT_BUREAU_QRT, AMT_REQ_CREDIT_BUREAU_YEAR following logic is being used.\n",
    "- we have computed a metric (median/mode) for each column. Specific selection of metric is mentioned near the code for selection\n",
    "- after that we select max of the queries made during a smaller time period or the metric selected in above step. \n",
    " For example - for AMT_REQ_CREDIT_BUREAU_WEEK, we have computed the median value, but if there are any queries made during last day and if that number is more than median, we choose that number as those queries are part of the week. "
   ]
  },
  {
   "cell_type": "code",
   "execution_count": 25,
   "metadata": {},
   "outputs": [],
   "source": [
    "# generic function to impute based on above logic\n",
    "import math\n",
    "def fillNaForCreditInquries(row,currentColumn, previousColumn, altValue):\n",
    "    if math.isnan(row[currentColumn]):\n",
    "        res = max(row[previousColumn], altValue)\n",
    "    else:\n",
    "        res=  row[currentColumn]\n",
    "    return res"
   ]
  },
  {
   "cell_type": "markdown",
   "metadata": {},
   "source": [
    "#### AMT_REQ_CREDIT_BUREAU_DAY\n"
   ]
  },
  {
   "cell_type": "code",
   "execution_count": 26,
   "metadata": {},
   "outputs": [
    {
     "name": "stdout",
     "output_type": "stream",
     "text": [
      "count    265992.000000\n",
      "mean          0.007000\n",
      "std           0.110757\n",
      "min           0.000000\n",
      "25%           0.000000\n",
      "50%           0.000000\n",
      "75%           0.000000\n",
      "max           9.000000\n",
      "Name: AMT_REQ_CREDIT_BUREAU_DAY, dtype: float64\n"
     ]
    }
   ],
   "source": [
    "print(applicationData['AMT_REQ_CREDIT_BUREAU_DAY'].describe())"
   ]
  },
  {
   "cell_type": "code",
   "execution_count": 27,
   "metadata": {},
   "outputs": [
    {
     "name": "stdout",
     "output_type": "stream",
     "text": [
      "41519\n"
     ]
    }
   ],
   "source": [
    "print(applicationData['AMT_REQ_CREDIT_BUREAU_DAY'].isnull().sum())"
   ]
  },
  {
   "cell_type": "code",
   "execution_count": 28,
   "metadata": {},
   "outputs": [
    {
     "data": {
      "text/plain": [
       "0.0    264503\n",
       "1.0      1292\n",
       "2.0       106\n",
       "3.0        45\n",
       "4.0        26\n",
       "5.0         9\n",
       "6.0         8\n",
       "9.0         2\n",
       "8.0         1\n",
       "Name: AMT_REQ_CREDIT_BUREAU_DAY, dtype: int64"
      ]
     },
     "execution_count": 28,
     "metadata": {},
     "output_type": "execute_result"
    }
   ],
   "source": [
    "applicationData['AMT_REQ_CREDIT_BUREAU_DAY'].value_counts()"
   ]
  },
  {
   "cell_type": "code",
   "execution_count": 29,
   "metadata": {},
   "outputs": [
    {
     "data": {
      "text/plain": [
       "<matplotlib.axes._subplots.AxesSubplot at 0x14c845406c8>"
      ]
     },
     "execution_count": 29,
     "metadata": {},
     "output_type": "execute_result"
    },
    {
     "data": {
      "image/png": "[encoded data removed]",
      "text/plain": [
       "<Figure size 432x288 with 1 Axes>"
      ]
     },
     "metadata": {
      "needs_background": "light"
     },
     "output_type": "display_data"
    }
   ],
   "source": [
    "sns.boxplot(x='AMT_REQ_CREDIT_BUREAU_DAY', data=applicationData)"
   ]
  },
  {
   "cell_type": "code",
   "execution_count": 30,
   "metadata": {},
   "outputs": [],
   "source": [
    "# For imputation we use daily data. If hourly review is available and greater than 0 we use that else we impute with median/mode(both are 0)\n",
    "applicationData['AMT_REQ_CREDIT_BUREAU_DAY'] = applicationData.apply(fillNaForCreditInquries, axis=1, args=('AMT_REQ_CREDIT_BUREAU_DAY', 'AMT_REQ_CREDIT_BUREAU_HOUR', 0))"
   ]
  },
  {
   "cell_type": "code",
   "execution_count": 31,
   "metadata": {},
   "outputs": [
    {
     "name": "stdout",
     "output_type": "stream",
     "text": [
      "0\n"
     ]
    }
   ],
   "source": [
    "print(applicationData['AMT_REQ_CREDIT_BUREAU_DAY'].isnull().sum())\n"
   ]
  },
  {
   "cell_type": "code",
   "execution_count": 32,
   "metadata": {},
   "outputs": [
    {
     "data": {
      "text/plain": [
       "0.0    306022\n",
       "1.0      1292\n",
       "2.0       106\n",
       "3.0        45\n",
       "4.0        26\n",
       "5.0         9\n",
       "6.0         8\n",
       "9.0         2\n",
       "8.0         1\n",
       "Name: AMT_REQ_CREDIT_BUREAU_DAY, dtype: int64"
      ]
     },
     "execution_count": 32,
     "metadata": {},
     "output_type": "execute_result"
    }
   ],
   "source": [
    "applicationData['AMT_REQ_CREDIT_BUREAU_DAY'].value_counts()"
   ]
  },
  {
   "cell_type": "markdown",
   "metadata": {},
   "source": [
    "#### AMT_REQ_CREDIT_BUREAU_WEEK\n"
   ]
  },
  {
   "cell_type": "code",
   "execution_count": 33,
   "metadata": {},
   "outputs": [
    {
     "name": "stdout",
     "output_type": "stream",
     "text": [
      "count    265992.000000\n",
      "mean          0.034362\n",
      "std           0.204685\n",
      "min           0.000000\n",
      "25%           0.000000\n",
      "50%           0.000000\n",
      "75%           0.000000\n",
      "max           8.000000\n",
      "Name: AMT_REQ_CREDIT_BUREAU_WEEK, dtype: float64\n"
     ]
    }
   ],
   "source": [
    "print(applicationData['AMT_REQ_CREDIT_BUREAU_WEEK'].describe())"
   ]
  },
  {
   "cell_type": "code",
   "execution_count": 34,
   "metadata": {},
   "outputs": [
    {
     "name": "stdout",
     "output_type": "stream",
     "text": [
      "41519\n"
     ]
    }
   ],
   "source": [
    "print(applicationData['AMT_REQ_CREDIT_BUREAU_WEEK'].isnull().sum())"
   ]
  },
  {
   "cell_type": "code",
   "execution_count": 35,
   "metadata": {},
   "outputs": [
    {
     "data": {
      "text/plain": [
       "0    96.790881\n",
       "1     3.085807\n",
       "2     0.074814\n",
       "3     0.021805\n",
       "4     0.012782\n",
       "6     0.007519\n",
       "5     0.003760\n",
       "8     0.001880\n",
       "7     0.000752\n",
       "Name: AMT_REQ_CREDIT_BUREAU_WEEK, dtype: float64"
      ]
     },
     "execution_count": 35,
     "metadata": {},
     "output_type": "execute_result"
    }
   ],
   "source": [
    "applicationData['AMT_REQ_CREDIT_BUREAU_WEEK'].value_counts(normalize=True)*100"
   ]
  },
  {
   "cell_type": "code",
   "execution_count": 36,
   "metadata": {},
   "outputs": [
    {
     "data": {
      "text/plain": [
       "<matplotlib.axes._subplots.AxesSubplot at 0x14c843df7c8>"
      ]
     },
     "execution_count": 36,
     "metadata": {},
     "output_type": "execute_result"
    },
    {
     "data": {
      "image/png": "[encoded data removed]",
      "text/plain": [
       "<Figure size 432x288 with 1 Axes>"
      ]
     },
     "metadata": {
      "needs_background": "light"
     },
     "output_type": "display_data"
    }
   ],
   "source": [
    "sns.boxplot(x='AMT_REQ_CREDIT_BUREAU_WEEK', data=applicationData)"
   ]
  },
  {
   "cell_type": "code",
   "execution_count": 37,
   "metadata": {},
   "outputs": [],
   "source": [
    "# For imputation we use weekly data. If daily review is available and greater than 0 we use that else we impute with median/mode\n",
    "applicationData['AMT_REQ_CREDIT_BUREAU_WEEK'] = applicationData.apply(fillNaForCreditInquries, axis=1, args=('AMT_REQ_CREDIT_BUREAU_WEEK','AMT_REQ_CREDIT_BUREAU_DAY', 0))"
   ]
  },
  {
   "cell_type": "code",
   "execution_count": 38,
   "metadata": {},
   "outputs": [
    {
     "name": "stdout",
     "output_type": "stream",
     "text": [
      "0\n"
     ]
    }
   ],
   "source": [
    "print(applicationData['AMT_REQ_CREDIT_BUREAU_WEEK'].isnull().sum())\n"
   ]
  },
  {
   "cell_type": "code",
   "execution_count": 39,
   "metadata": {},
   "outputs": [
    {
     "data": {
      "text/plain": [
       "0.0    298975\n",
       "1.0      8208\n",
       "2.0       199\n",
       "3.0        58\n",
       "4.0        34\n",
       "6.0        20\n",
       "5.0        10\n",
       "8.0         5\n",
       "7.0         2\n",
       "Name: AMT_REQ_CREDIT_BUREAU_WEEK, dtype: int64"
      ]
     },
     "execution_count": 39,
     "metadata": {},
     "output_type": "execute_result"
    }
   ],
   "source": [
    "applicationData['AMT_REQ_CREDIT_BUREAU_WEEK'].value_counts()\n"
   ]
  },
  {
   "cell_type": "markdown",
   "metadata": {},
   "source": [
    "#### AMT_REQ_CREDIT_BUREAU_MON\n"
   ]
  },
  {
   "cell_type": "code",
   "execution_count": 40,
   "metadata": {},
   "outputs": [
    {
     "name": "stdout",
     "output_type": "stream",
     "text": [
      "count    265992.000000\n",
      "mean          0.267395\n",
      "std           0.916002\n",
      "min           0.000000\n",
      "25%           0.000000\n",
      "50%           0.000000\n",
      "75%           0.000000\n",
      "max          27.000000\n",
      "Name: AMT_REQ_CREDIT_BUREAU_MON, dtype: float64\n"
     ]
    }
   ],
   "source": [
    "print(applicationData['AMT_REQ_CREDIT_BUREAU_MON'].describe())"
   ]
  },
  {
   "cell_type": "code",
   "execution_count": 41,
   "metadata": {},
   "outputs": [
    {
     "name": "stdout",
     "output_type": "stream",
     "text": [
      "41519\n"
     ]
    }
   ],
   "source": [
    "print(applicationData['AMT_REQ_CREDIT_BUREAU_MON'].isnull().sum())"
   ]
  },
  {
   "cell_type": "code",
   "execution_count": 42,
   "metadata": {},
   "outputs": [
    {
     "data": {
      "text/plain": [
       "0.0     222233\n",
       "1.0      33147\n",
       "2.0       5386\n",
       "3.0       1991\n",
       "4.0       1076\n",
       "5.0        602\n",
       "6.0        343\n",
       "7.0        298\n",
       "9.0        206\n",
       "8.0        185\n",
       "10.0       132\n",
       "11.0       119\n",
       "12.0        77\n",
       "13.0        72\n",
       "14.0        40\n",
       "15.0        35\n",
       "16.0        23\n",
       "17.0        14\n",
       "18.0         6\n",
       "19.0         3\n",
       "24.0         1\n",
       "27.0         1\n",
       "22.0         1\n",
       "23.0         1\n",
       "Name: AMT_REQ_CREDIT_BUREAU_MON, dtype: int64"
      ]
     },
     "execution_count": 42,
     "metadata": {},
     "output_type": "execute_result"
    }
   ],
   "source": [
    "applicationData['AMT_REQ_CREDIT_BUREAU_MON'].value_counts()"
   ]
  },
  {
   "cell_type": "markdown",
   "metadata": {},
   "source": [
    "#### values greater than  11 can be considered outliers as the number of values are considerably low"
   ]
  },
  {
   "cell_type": "code",
   "execution_count": 43,
   "metadata": {},
   "outputs": [
    {
     "data": {
      "text/plain": [
       "<matplotlib.axes._subplots.AxesSubplot at 0x14c95838b48>"
      ]
     },
     "execution_count": 43,
     "metadata": {},
     "output_type": "execute_result"
    },
    {
     "data": {
      "image/png": "[encoded data removed]",
      "text/plain": [
       "<Figure size 432x288 with 1 Axes>"
      ]
     },
     "metadata": {
      "needs_background": "light"
     },
     "output_type": "display_data"
    }
   ],
   "source": [
    "sns.boxplot(x='AMT_REQ_CREDIT_BUREAU_MON', data=applicationData)"
   ]
  },
  {
   "cell_type": "code",
   "execution_count": 44,
   "metadata": {},
   "outputs": [],
   "source": [
    "# For imputation we use monthly data. If weekly is available and greater than 0 we use that else we impute with median/mode\n",
    "applicationData['AMT_REQ_CREDIT_BUREAU_MON'] = applicationData.apply(fillNaForCreditInquries, axis=1, args=('AMT_REQ_CREDIT_BUREAU_MON','AMT_REQ_CREDIT_BUREAU_WEEK', 0))"
   ]
  },
  {
   "cell_type": "code",
   "execution_count": 45,
   "metadata": {},
   "outputs": [
    {
     "name": "stdout",
     "output_type": "stream",
     "text": [
      "count    307511.000000\n",
      "mean          0.231293\n",
      "std           0.856810\n",
      "min           0.000000\n",
      "25%           0.000000\n",
      "50%           0.000000\n",
      "75%           0.000000\n",
      "max          27.000000\n",
      "Name: AMT_REQ_CREDIT_BUREAU_MON, dtype: float64\n",
      "0\n"
     ]
    },
    {
     "data": {
      "text/plain": [
       "0.0     263752\n",
       "1.0      33147\n",
       "2.0       5386\n",
       "3.0       1991\n",
       "4.0       1076\n",
       "5.0        602\n",
       "6.0        343\n",
       "7.0        298\n",
       "9.0        206\n",
       "8.0        185\n",
       "10.0       132\n",
       "11.0       119\n",
       "12.0        77\n",
       "13.0        72\n",
       "14.0        40\n",
       "15.0        35\n",
       "16.0        23\n",
       "17.0        14\n",
       "18.0         6\n",
       "19.0         3\n",
       "24.0         1\n",
       "27.0         1\n",
       "22.0         1\n",
       "23.0         1\n",
       "Name: AMT_REQ_CREDIT_BUREAU_MON, dtype: int64"
      ]
     },
     "execution_count": 45,
     "metadata": {},
     "output_type": "execute_result"
    }
   ],
   "source": [
    "print(applicationData['AMT_REQ_CREDIT_BUREAU_MON'].describe())\n",
    "print(applicationData['AMT_REQ_CREDIT_BUREAU_MON'].isnull().sum())\n",
    "applicationData['AMT_REQ_CREDIT_BUREAU_MON'].value_counts()\n"
   ]
  },
  {
   "cell_type": "markdown",
   "metadata": {},
   "source": [
    "#### AMT_REQ_CREDIT_BUREAU_QRT\n"
   ]
  },
  {
   "cell_type": "code",
   "execution_count": 46,
   "metadata": {},
   "outputs": [
    {
     "name": "stdout",
     "output_type": "stream",
     "text": [
      "count    265992.000000\n",
      "mean          0.265474\n",
      "std           0.794056\n",
      "min           0.000000\n",
      "25%           0.000000\n",
      "50%           0.000000\n",
      "75%           0.000000\n",
      "max         261.000000\n",
      "Name: AMT_REQ_CREDIT_BUREAU_QRT, dtype: float64\n"
     ]
    }
   ],
   "source": [
    "print(applicationData['AMT_REQ_CREDIT_BUREAU_QRT'].describe())\n"
   ]
  },
  {
   "cell_type": "code",
   "execution_count": 47,
   "metadata": {},
   "outputs": [
    {
     "name": "stdout",
     "output_type": "stream",
     "text": [
      "41519\n"
     ]
    }
   ],
   "source": [
    "print(applicationData['AMT_REQ_CREDIT_BUREAU_QRT'].isnull().sum())"
   ]
  },
  {
   "cell_type": "code",
   "execution_count": 48,
   "metadata": {},
   "outputs": [
    {
     "data": {
      "text/plain": [
       "0.0      215417\n",
       "1.0       33862\n",
       "2.0       14412\n",
       "3.0        1717\n",
       "4.0         476\n",
       "5.0          64\n",
       "6.0          28\n",
       "7.0           7\n",
       "8.0           7\n",
       "19.0          1\n",
       "261.0         1\n",
       "Name: AMT_REQ_CREDIT_BUREAU_QRT, dtype: int64"
      ]
     },
     "execution_count": 48,
     "metadata": {},
     "output_type": "execute_result"
    }
   ],
   "source": [
    "applicationData['AMT_REQ_CREDIT_BUREAU_QRT'].value_counts()"
   ]
  },
  {
   "cell_type": "markdown",
   "metadata": {},
   "source": [
    "####  Values of 19, 261 is a clear outlier. Also there is only 1 record each with such values hence we can consider deleting or capping it later"
   ]
  },
  {
   "cell_type": "code",
   "execution_count": 49,
   "metadata": {},
   "outputs": [
    {
     "data": {
      "text/plain": [
       "<matplotlib.axes._subplots.AxesSubplot at 0x14cae2f1748>"
      ]
     },
     "execution_count": 49,
     "metadata": {},
     "output_type": "execute_result"
    },
    {
     "data": {
      "image/png": "[encoded data removed]",
      "text/plain": [
       "<Figure size 432x288 with 1 Axes>"
      ]
     },
     "metadata": {
      "needs_background": "light"
     },
     "output_type": "display_data"
    }
   ],
   "source": [
    "sns.boxplot(x='AMT_REQ_CREDIT_BUREAU_QRT', data=applicationData[applicationData['AMT_REQ_CREDIT_BUREAU_QRT']<19])"
   ]
  },
  {
   "cell_type": "code",
   "execution_count": 50,
   "metadata": {},
   "outputs": [],
   "source": [
    "# For imputation we use quarterly data. If monthly review is available and greater than 0 we use that else we impute with median/mode\n",
    "applicationData['AMT_REQ_CREDIT_BUREAU_QRT'] = applicationData.apply(fillNaForCreditInquries, axis=1, args=('AMT_REQ_CREDIT_BUREAU_QRT','AMT_REQ_CREDIT_BUREAU_MON', 0))"
   ]
  },
  {
   "cell_type": "code",
   "execution_count": 51,
   "metadata": {},
   "outputs": [
    {
     "name": "stdout",
     "output_type": "stream",
     "text": [
      "count    307511.000000\n",
      "mean          0.229631\n",
      "std           0.744059\n",
      "min           0.000000\n",
      "25%           0.000000\n",
      "50%           0.000000\n",
      "75%           0.000000\n",
      "max         261.000000\n",
      "Name: AMT_REQ_CREDIT_BUREAU_QRT, dtype: float64\n",
      "0\n"
     ]
    },
    {
     "data": {
      "text/plain": [
       "0.0      256936\n",
       "1.0       33862\n",
       "2.0       14412\n",
       "3.0        1717\n",
       "4.0         476\n",
       "5.0          64\n",
       "6.0          28\n",
       "7.0           7\n",
       "8.0           7\n",
       "19.0          1\n",
       "261.0         1\n",
       "Name: AMT_REQ_CREDIT_BUREAU_QRT, dtype: int64"
      ]
     },
     "execution_count": 51,
     "metadata": {},
     "output_type": "execute_result"
    }
   ],
   "source": [
    "print(applicationData['AMT_REQ_CREDIT_BUREAU_QRT'].describe())\n",
    "print(applicationData['AMT_REQ_CREDIT_BUREAU_QRT'].isnull().sum())\n",
    "applicationData['AMT_REQ_CREDIT_BUREAU_QRT'].value_counts()\n"
   ]
  },
  {
   "cell_type": "markdown",
   "metadata": {},
   "source": [
    "#### AMT_REQ_CREDIT_BUREAU_YEAR\n"
   ]
  },
  {
   "cell_type": "code",
   "execution_count": 52,
   "metadata": {},
   "outputs": [
    {
     "name": "stdout",
     "output_type": "stream",
     "text": [
      "count    265992.000000\n",
      "mean          1.899974\n",
      "std           1.869295\n",
      "min           0.000000\n",
      "25%           0.000000\n",
      "50%           1.000000\n",
      "75%           3.000000\n",
      "max          25.000000\n",
      "Name: AMT_REQ_CREDIT_BUREAU_YEAR, dtype: float64\n"
     ]
    }
   ],
   "source": [
    "print(applicationData['AMT_REQ_CREDIT_BUREAU_YEAR'].describe())"
   ]
  },
  {
   "cell_type": "code",
   "execution_count": 53,
   "metadata": {},
   "outputs": [
    {
     "name": "stdout",
     "output_type": "stream",
     "text": [
      "41519\n"
     ]
    }
   ],
   "source": [
    "print(applicationData['AMT_REQ_CREDIT_BUREAU_YEAR'].isnull().sum())\n"
   ]
  },
  {
   "cell_type": "code",
   "execution_count": 54,
   "metadata": {},
   "outputs": [
    {
     "data": {
      "text/plain": [
       "0.0     71801\n",
       "1.0     63405\n",
       "2.0     50192\n",
       "3.0     33628\n",
       "4.0     20714\n",
       "5.0     12052\n",
       "6.0      6967\n",
       "7.0      3869\n",
       "8.0      2127\n",
       "9.0      1096\n",
       "11.0       31\n",
       "12.0       30\n",
       "10.0       22\n",
       "13.0       19\n",
       "14.0       10\n",
       "17.0        7\n",
       "15.0        6\n",
       "19.0        4\n",
       "18.0        4\n",
       "16.0        3\n",
       "21.0        1\n",
       "23.0        1\n",
       "25.0        1\n",
       "20.0        1\n",
       "22.0        1\n",
       "Name: AMT_REQ_CREDIT_BUREAU_YEAR, dtype: int64"
      ]
     },
     "execution_count": 54,
     "metadata": {},
     "output_type": "execute_result"
    }
   ],
   "source": [
    "applicationData['AMT_REQ_CREDIT_BUREAU_YEAR'].value_counts()\n"
   ]
  },
  {
   "cell_type": "code",
   "execution_count": 55,
   "metadata": {},
   "outputs": [
    {
     "data": {
      "text/plain": [
       "<matplotlib.axes._subplots.AxesSubplot at 0x14c857ce7c8>"
      ]
     },
     "execution_count": 55,
     "metadata": {},
     "output_type": "execute_result"
    },
    {
     "data": {
      "image/png": "[encoded data removed]",
      "text/plain": [
       "<Figure size 432x288 with 1 Axes>"
      ]
     },
     "metadata": {
      "needs_background": "light"
     },
     "output_type": "display_data"
    }
   ],
   "source": [
    "sns.boxplot(x='AMT_REQ_CREDIT_BUREAU_YEAR', data=applicationData)"
   ]
  },
  {
   "cell_type": "markdown",
   "metadata": {},
   "source": [
    "####  Values >15 have significantly lower number of values. and may be treated as outliers"
   ]
  },
  {
   "cell_type": "code",
   "execution_count": 56,
   "metadata": {},
   "outputs": [
    {
     "data": {
      "text/plain": [
       "count    265851.000000\n",
       "mean          1.894121\n",
       "std           1.851201\n",
       "min           0.000000\n",
       "25%           0.000000\n",
       "50%           1.000000\n",
       "75%           3.000000\n",
       "max           9.000000\n",
       "Name: AMT_REQ_CREDIT_BUREAU_YEAR, dtype: float64"
      ]
     },
     "execution_count": 56,
     "metadata": {},
     "output_type": "execute_result"
    }
   ],
   "source": [
    "temp = applicationData.loc[applicationData['AMT_REQ_CREDIT_BUREAU_YEAR']<10, 'AMT_REQ_CREDIT_BUREAU_YEAR']\n",
    "temp.describe()"
   ]
  },
  {
   "cell_type": "markdown",
   "metadata": {},
   "source": [
    "#### If we remove the outliers i.e applications with >= 10 inquiries , mean and median, mode still tend to 1. So we can substitute the value by 1"
   ]
  },
  {
   "cell_type": "code",
   "execution_count": 57,
   "metadata": {},
   "outputs": [],
   "source": [
    "applicationData['AMT_REQ_CREDIT_BUREAU_YEAR'] = applicationData.apply(fillNaForCreditInquries, axis=1, args=('AMT_REQ_CREDIT_BUREAU_YEAR','AMT_REQ_CREDIT_BUREAU_QRT', 1))"
   ]
  },
  {
   "cell_type": "code",
   "execution_count": 58,
   "metadata": {},
   "outputs": [
    {
     "name": "stdout",
     "output_type": "stream",
     "text": [
      "count    307511.000000\n",
      "mean          1.778463\n",
      "std           1.765523\n",
      "min           0.000000\n",
      "25%           1.000000\n",
      "50%           1.000000\n",
      "75%           3.000000\n",
      "max          25.000000\n",
      "Name: AMT_REQ_CREDIT_BUREAU_YEAR, dtype: float64\n",
      "0\n"
     ]
    },
    {
     "data": {
      "text/plain": [
       "1.0     104924\n",
       "0.0      71801\n",
       "2.0      50192\n",
       "3.0      33628\n",
       "4.0      20714\n",
       "5.0      12052\n",
       "6.0       6967\n",
       "7.0       3869\n",
       "8.0       2127\n",
       "9.0       1096\n",
       "11.0        31\n",
       "12.0        30\n",
       "10.0        22\n",
       "13.0        19\n",
       "14.0        10\n",
       "17.0         7\n",
       "15.0         6\n",
       "19.0         4\n",
       "18.0         4\n",
       "16.0         3\n",
       "21.0         1\n",
       "23.0         1\n",
       "25.0         1\n",
       "20.0         1\n",
       "22.0         1\n",
       "Name: AMT_REQ_CREDIT_BUREAU_YEAR, dtype: int64"
      ]
     },
     "execution_count": 58,
     "metadata": {},
     "output_type": "execute_result"
    }
   ],
   "source": [
    "print(applicationData['AMT_REQ_CREDIT_BUREAU_YEAR'].describe())\n",
    "print(applicationData['AMT_REQ_CREDIT_BUREAU_YEAR'].isnull().sum())\n",
    "applicationData['AMT_REQ_CREDIT_BUREAU_YEAR'].value_counts()\n"
   ]
  },
  {
   "cell_type": "code",
   "execution_count": 59,
   "metadata": {},
   "outputs": [
    {
     "data": {
      "image/png": "[encoded data removed]",
      "text/plain": [
       "<Figure size 1440x288 with 1 Axes>"
      ]
     },
     "metadata": {
      "needs_background": "light"
     },
     "output_type": "display_data"
    }
   ],
   "source": [
    "# inspect null values\n",
    "plotColumnWiseNulls(1)"
   ]
  },
  {
   "cell_type": "markdown",
   "metadata": {},
   "source": [
    "## Subset Dataframe \n",
    "#### Subsetting the Application_Data dataframe to get relevant 30 columns as per ourunderstanding for further analysis."
   ]
  },
  {
   "cell_type": "markdown",
   "metadata": {},
   "source": [
    "    Selected the following columns:\n",
    "    1. SK_ID_CURR\n",
    "    2. TARGET\n",
    "    3. NAME_CONTRACT_TYPE\n",
    "    4. CODE_GENDER\n",
    "    5. FLAG_OWN_REALTY\n",
    "    6. CNT_CHILDREN\n",
    "    7. AMT_INCOME_TOTAL\n",
    "    8. AMT_CREDIT\n",
    "    9. AMT_ANNUITY\n",
    "    10. NAME_INCOME_TYPE\n",
    "    11. NAME_EDUCATION_TYPE\n",
    "    12. NAME_FAMILY_STATUS\n",
    "    13. REGION_POPULATION_RELATIVE\n",
    "    14. DAYS_BIRTH\n",
    "    15. DAYS_EMPLOYED\n",
    "    16. FLAG_MOBIL\n",
    "    17. FLAG_CONT_MOBILE\n",
    "    18. OCCUPATION_TYPE\n",
    "    19. CNT_FAM_MEMBERS\n",
    "    20. REGION_RATING_CLIENT_W_CITY\n",
    "    21. WEEKDAY_APPR_PROCESS_START\n",
    "    22. REG_REGION_NOT_LIVE_REGION\n",
    "    23. ORGANIZATION_TYPE\n",
    "    24. EXT_SOURCE_2\n",
    "    25. DEF_30_CNT_SOCIAL_CIRCLE\n",
    "    26. DAYS_LAST_PHONE_CHANGE\n",
    "    27. FLAG_DOCUMENT_2\n",
    "    28. FLAG_DOCUMENT_3\n",
    "    29. AMT_REQ_CREDIT_BUREAU_HOUR\n",
    "    30. AMT_REQ_CREDIT_BUREAU_WEEK"
   ]
  },
  {
   "cell_type": "code",
   "execution_count": 60,
   "metadata": {},
   "outputs": [],
   "source": [
    "NumericalColumns= ['AMT_INCOME_TOTAL', 'AMT_CREDIT', 'AMT_ANNUITY', 'REGION_POPULATION_RELATIVE', 'Age', 'DAYS_EMPLOYED']"
   ]
  },
  {
   "cell_type": "code",
   "execution_count": 61,
   "metadata": {},
   "outputs": [],
   "source": [
    "#Subsetting the Application_Data dataframe toget the required columns\n",
    "Required_Columns = ['SK_ID_CURR', 'TARGET', 'NAME_CONTRACT_TYPE', 'CODE_GENDER', 'FLAG_OWN_REALTY',\n",
    "                   'CNT_CHILDREN', 'AMT_INCOME_TOTAL', 'AMT_CREDIT', 'AMT_ANNUITY', 'NAME_INCOME_TYPE',\n",
    "                   'NAME_EDUCATION_TYPE', 'NAME_FAMILY_STATUS', 'REGION_POPULATION_RELATIVE', 'DAYS_BIRTH',\n",
    "                   'DAYS_EMPLOYED', 'FLAG_MOBIL', 'FLAG_CONT_MOBILE', 'OCCUPATION_TYPE', 'CNT_FAM_MEMBERS',\n",
    "                   'REGION_RATING_CLIENT_W_CITY', 'WEEKDAY_APPR_PROCESS_START', 'REG_REGION_NOT_LIVE_REGION',\n",
    "                   'ORGANIZATION_TYPE', 'EXT_SOURCE_2', 'DEF_30_CNT_SOCIAL_CIRCLE', 'DAYS_LAST_PHONE_CHANGE',\n",
    "                   'FLAG_DOCUMENT_2', 'FLAG_DOCUMENT_3', 'AMT_REQ_CREDIT_BUREAU_HOUR', 'AMT_REQ_CREDIT_BUREAU_WEEK']\n",
    "\n",
    "applicationDataRevised = applicationData[Required_Columns]"
   ]
  },
  {
   "cell_type": "code",
   "execution_count": 62,
   "metadata": {},
   "outputs": [
    {
     "data": {
      "text/html": [
       "<div>\n",
       "<style scoped>\n",
       "    .dataframe tbody tr th:only-of-type {\n",
       "        vertical-align: middle;\n",
       "    }\n",
       "\n",
       "    .dataframe tbody tr th {\n",
       "        vertical-align: top;\n",
       "    }\n",
       "\n",
       "    .dataframe thead th {\n",
       "        text-align: right;\n",
       "    }\n",
       "</style>\n",
       "<table border=\"1\" class=\"dataframe\">\n",
       "  <thead>\n",
       "    <tr style=\"text-align: right;\">\n",
       "      <th></th>\n",
       "      <th>SK_ID_CURR</th>\n",
       "      <th>TARGET</th>\n",
       "      <th>NAME_CONTRACT_TYPE</th>\n",
       "      <th>CODE_GENDER</th>\n",
       "      <th>FLAG_OWN_REALTY</th>\n",
       "      <th>CNT_CHILDREN</th>\n",
       "      <th>AMT_INCOME_TOTAL</th>\n",
       "      <th>AMT_CREDIT</th>\n",
       "      <th>AMT_ANNUITY</th>\n",
       "      <th>NAME_INCOME_TYPE</th>\n",
       "      <th>...</th>\n",
       "      <th>WEEKDAY_APPR_PROCESS_START</th>\n",
       "      <th>REG_REGION_NOT_LIVE_REGION</th>\n",
       "      <th>ORGANIZATION_TYPE</th>\n",
       "      <th>EXT_SOURCE_2</th>\n",
       "      <th>DEF_30_CNT_SOCIAL_CIRCLE</th>\n",
       "      <th>DAYS_LAST_PHONE_CHANGE</th>\n",
       "      <th>FLAG_DOCUMENT_2</th>\n",
       "      <th>FLAG_DOCUMENT_3</th>\n",
       "      <th>AMT_REQ_CREDIT_BUREAU_HOUR</th>\n",
       "      <th>AMT_REQ_CREDIT_BUREAU_WEEK</th>\n",
       "    </tr>\n",
       "  </thead>\n",
       "  <tbody>\n",
       "    <tr>\n",
       "      <td>0</td>\n",
       "      <td>100002</td>\n",
       "      <td>1</td>\n",
       "      <td>Cash loans</td>\n",
       "      <td>M</td>\n",
       "      <td>Y</td>\n",
       "      <td>0</td>\n",
       "      <td>202500.0</td>\n",
       "      <td>406597.5</td>\n",
       "      <td>24700.5</td>\n",
       "      <td>Working</td>\n",
       "      <td>...</td>\n",
       "      <td>WEDNESDAY</td>\n",
       "      <td>0</td>\n",
       "      <td>Business Entity Type 3</td>\n",
       "      <td>0.262949</td>\n",
       "      <td>2</td>\n",
       "      <td>-1134</td>\n",
       "      <td>0</td>\n",
       "      <td>1</td>\n",
       "      <td>0</td>\n",
       "      <td>0.0</td>\n",
       "    </tr>\n",
       "    <tr>\n",
       "      <td>1</td>\n",
       "      <td>100003</td>\n",
       "      <td>0</td>\n",
       "      <td>Cash loans</td>\n",
       "      <td>F</td>\n",
       "      <td>N</td>\n",
       "      <td>0</td>\n",
       "      <td>270000.0</td>\n",
       "      <td>1293502.5</td>\n",
       "      <td>35698.5</td>\n",
       "      <td>State servant</td>\n",
       "      <td>...</td>\n",
       "      <td>MONDAY</td>\n",
       "      <td>0</td>\n",
       "      <td>School</td>\n",
       "      <td>0.622246</td>\n",
       "      <td>0</td>\n",
       "      <td>-828</td>\n",
       "      <td>0</td>\n",
       "      <td>1</td>\n",
       "      <td>0</td>\n",
       "      <td>0.0</td>\n",
       "    </tr>\n",
       "    <tr>\n",
       "      <td>2</td>\n",
       "      <td>100004</td>\n",
       "      <td>0</td>\n",
       "      <td>Revolving loans</td>\n",
       "      <td>M</td>\n",
       "      <td>Y</td>\n",
       "      <td>0</td>\n",
       "      <td>67500.0</td>\n",
       "      <td>135000.0</td>\n",
       "      <td>6750.0</td>\n",
       "      <td>Working</td>\n",
       "      <td>...</td>\n",
       "      <td>MONDAY</td>\n",
       "      <td>0</td>\n",
       "      <td>Government</td>\n",
       "      <td>0.555912</td>\n",
       "      <td>0</td>\n",
       "      <td>-815</td>\n",
       "      <td>0</td>\n",
       "      <td>0</td>\n",
       "      <td>0</td>\n",
       "      <td>0.0</td>\n",
       "    </tr>\n",
       "    <tr>\n",
       "      <td>3</td>\n",
       "      <td>100006</td>\n",
       "      <td>0</td>\n",
       "      <td>Cash loans</td>\n",
       "      <td>F</td>\n",
       "      <td>Y</td>\n",
       "      <td>0</td>\n",
       "      <td>135000.0</td>\n",
       "      <td>312682.5</td>\n",
       "      <td>29686.5</td>\n",
       "      <td>Working</td>\n",
       "      <td>...</td>\n",
       "      <td>WEDNESDAY</td>\n",
       "      <td>0</td>\n",
       "      <td>Business Entity Type 3</td>\n",
       "      <td>0.650442</td>\n",
       "      <td>0</td>\n",
       "      <td>-617</td>\n",
       "      <td>0</td>\n",
       "      <td>1</td>\n",
       "      <td>0</td>\n",
       "      <td>0.0</td>\n",
       "    </tr>\n",
       "    <tr>\n",
       "      <td>4</td>\n",
       "      <td>100007</td>\n",
       "      <td>0</td>\n",
       "      <td>Cash loans</td>\n",
       "      <td>M</td>\n",
       "      <td>Y</td>\n",
       "      <td>0</td>\n",
       "      <td>121500.0</td>\n",
       "      <td>513000.0</td>\n",
       "      <td>21865.5</td>\n",
       "      <td>Working</td>\n",
       "      <td>...</td>\n",
       "      <td>THURSDAY</td>\n",
       "      <td>0</td>\n",
       "      <td>Religion</td>\n",
       "      <td>0.322738</td>\n",
       "      <td>0</td>\n",
       "      <td>-1106</td>\n",
       "      <td>0</td>\n",
       "      <td>0</td>\n",
       "      <td>0</td>\n",
       "      <td>0.0</td>\n",
       "    </tr>\n",
       "  </tbody>\n",
       "</table>\n",
       "<p>5 rows × 30 columns</p>\n",
       "</div>"
      ],
      "text/plain": [
       "   SK_ID_CURR  TARGET NAME_CONTRACT_TYPE CODE_GENDER FLAG_OWN_REALTY  \\\n",
       "0      100002       1         Cash loans           M               Y   \n",
       "1      100003       0         Cash loans           F               N   \n",
       "2      100004       0    Revolving loans           M               Y   \n",
       "3      100006       0         Cash loans           F               Y   \n",
       "4      100007       0         Cash loans           M               Y   \n",
       "\n",
       "   CNT_CHILDREN  AMT_INCOME_TOTAL  AMT_CREDIT  AMT_ANNUITY NAME_INCOME_TYPE  \\\n",
       "0             0          202500.0    406597.5      24700.5          Working   \n",
       "1             0          270000.0   1293502.5      35698.5    State servant   \n",
       "2             0           67500.0    135000.0       6750.0          Working   \n",
       "3             0          135000.0    312682.5      29686.5          Working   \n",
       "4             0          121500.0    513000.0      21865.5          Working   \n",
       "\n",
       "   ... WEEKDAY_APPR_PROCESS_START REG_REGION_NOT_LIVE_REGION  \\\n",
       "0  ...                  WEDNESDAY                          0   \n",
       "1  ...                     MONDAY                          0   \n",
       "2  ...                     MONDAY                          0   \n",
       "3  ...                  WEDNESDAY                          0   \n",
       "4  ...                   THURSDAY                          0   \n",
       "\n",
       "        ORGANIZATION_TYPE  EXT_SOURCE_2  DEF_30_CNT_SOCIAL_CIRCLE  \\\n",
       "0  Business Entity Type 3      0.262949                         2   \n",
       "1                  School      0.622246                         0   \n",
       "2              Government      0.555912                         0   \n",
       "3  Business Entity Type 3      0.650442                         0   \n",
       "4                Religion      0.322738                         0   \n",
       "\n",
       "   DAYS_LAST_PHONE_CHANGE  FLAG_DOCUMENT_2 FLAG_DOCUMENT_3  \\\n",
       "0                   -1134                0               1   \n",
       "1                    -828                0               1   \n",
       "2                    -815                0               0   \n",
       "3                    -617                0               1   \n",
       "4                   -1106                0               0   \n",
       "\n",
       "   AMT_REQ_CREDIT_BUREAU_HOUR  AMT_REQ_CREDIT_BUREAU_WEEK  \n",
       "0                           0                         0.0  \n",
       "1                           0                         0.0  \n",
       "2                           0                         0.0  \n",
       "3                           0                         0.0  \n",
       "4                           0                         0.0  \n",
       "\n",
       "[5 rows x 30 columns]"
      ]
     },
     "execution_count": 62,
     "metadata": {},
     "output_type": "execute_result"
    }
   ],
   "source": [
    "applicationDataRevised.head()"
   ]
  },
  {
   "cell_type": "markdown",
   "metadata": {},
   "source": [
    "# Creating Bins "
   ]
  },
  {
   "cell_type": "markdown",
   "metadata": {},
   "source": [
    "### Lets observe AMT_INCOME_TOTAL column"
   ]
  },
  {
   "cell_type": "code",
   "execution_count": 63,
   "metadata": {},
   "outputs": [
    {
     "data": {
      "text/plain": [
       "<matplotlib.axes._subplots.AxesSubplot at 0x14cb282d688>"
      ]
     },
     "execution_count": 63,
     "metadata": {},
     "output_type": "execute_result"
    },
    {
     "data": {
      "image/png": "[encoded data removed]",
      "text/plain": [
       "<Figure size 432x288 with 1 Axes>"
      ]
     },
     "metadata": {
      "needs_background": "light"
     },
     "output_type": "display_data"
    }
   ],
   "source": [
    "sns.boxplot(applicationDataRevised['AMT_INCOME_TOTAL'])\n"
   ]
  },
  {
   "cell_type": "code",
   "execution_count": 64,
   "metadata": {},
   "outputs": [
    {
     "data": {
      "text/plain": [
       "count    3.075110e+05\n",
       "mean     1.687979e+05\n",
       "std      2.371231e+05\n",
       "min      2.565000e+04\n",
       "25%      1.125000e+05\n",
       "50%      1.471500e+05\n",
       "75%      2.025000e+05\n",
       "max      1.170000e+08\n",
       "Name: AMT_INCOME_TOTAL, dtype: float64"
      ]
     },
     "execution_count": 64,
     "metadata": {},
     "output_type": "execute_result"
    }
   ],
   "source": [
    "applicationDataRevised['AMT_INCOME_TOTAL'].describe()"
   ]
  },
  {
   "cell_type": "code",
   "execution_count": 65,
   "metadata": {},
   "outputs": [
    {
     "data": {
      "text/plain": [
       "0.00        25650.0\n",
       "0.10        81000.0\n",
       "0.20        99000.0\n",
       "0.25       112500.0\n",
       "0.50       147150.0\n",
       "0.75       202500.0\n",
       "0.90       270000.0\n",
       "0.95       337500.0\n",
       "0.99       472500.0\n",
       "1.00    117000000.0\n",
       "Name: AMT_INCOME_TOTAL, dtype: float64"
      ]
     },
     "execution_count": 65,
     "metadata": {},
     "output_type": "execute_result"
    }
   ],
   "source": [
    "applicationDataRevised['AMT_INCOME_TOTAL'].quantile([0,.1,.2,.25,.5,.75,.9,.95,.99,1])"
   ]
  },
  {
   "cell_type": "markdown",
   "metadata": {},
   "source": [
    "### Observation\n",
    "There is an incremental increase in income ranges. There are some indiviuals with high incomes but those are around 0.1% . Around 20% have income less than 1,00,000. 50% have income less than 1,50,000 75% population has income less than 2,00,000. Similarly there can be division on basis of 50000 income difference. "
   ]
  },
  {
   "cell_type": "code",
   "execution_count": 66,
   "metadata": {},
   "outputs": [],
   "source": [
    "cut_bins = [0,50000, 100000, 150000, 200000, 250000, 300000, 350000, 400000, 450000, 500000, 1000000, 1050000]\n",
    "cut_labels = [ '<=50k', '50k-1 lac', '1 lac-1.5 lac', '1.5 lac-2 lac','2lac-2.5lac', '2.5lac-3lac', '3lac-3.5lac', '3.5lac-4lac', '4lac-4.5lac', '4.5lac-5lac', '5lac-10lac', '>10lac']\n",
    "applicationDataRevised['income_bins'] = pd.cut(applicationDataRevised['AMT_INCOME_TOTAL'].clip(upper=1000001), bins=cut_bins,include_lowest =True, labels=cut_labels)\n",
    "res = applicationDataRevised[['income_bins', 'AMT_INCOME_TOTAL']]"
   ]
  },
  {
   "cell_type": "code",
   "execution_count": 67,
   "metadata": {},
   "outputs": [
    {
     "data": {
      "text/plain": [
       "1 lac-1.5 lac    91591\n",
       "1.5 lac-2 lac    64307\n",
       "50k-1 lac        59181\n",
       "2lac-2.5lac      48137\n",
       "2.5lac-3lac      17039\n",
       "3lac-3.5lac       8874\n",
       "3.5lac-4lac       5802\n",
       "4lac-4.5lac       4924\n",
       "<=50k             4517\n",
       "5lac-10lac        2452\n",
       "4.5lac-5lac        437\n",
       ">10lac             250\n",
       "Name: income_bins, dtype: int64"
      ]
     },
     "execution_count": 67,
     "metadata": {},
     "output_type": "execute_result"
    }
   ],
   "source": [
    "applicationDataRevised['income_bins'].value_counts()"
   ]
  },
  {
   "cell_type": "code",
   "execution_count": 68,
   "metadata": {},
   "outputs": [
    {
     "data": {
      "text/html": [
       "<div>\n",
       "<style scoped>\n",
       "    .dataframe tbody tr th:only-of-type {\n",
       "        vertical-align: middle;\n",
       "    }\n",
       "\n",
       "    .dataframe tbody tr th {\n",
       "        vertical-align: top;\n",
       "    }\n",
       "\n",
       "    .dataframe thead th {\n",
       "        text-align: right;\n",
       "    }\n",
       "</style>\n",
       "<table border=\"1\" class=\"dataframe\">\n",
       "  <thead>\n",
       "    <tr style=\"text-align: right;\">\n",
       "      <th></th>\n",
       "      <th>income_bins</th>\n",
       "      <th>AMT_INCOME_TOTAL</th>\n",
       "    </tr>\n",
       "  </thead>\n",
       "  <tbody>\n",
       "    <tr>\n",
       "      <td>12840</td>\n",
       "      <td>&gt;10lac</td>\n",
       "      <td>117000000.0</td>\n",
       "    </tr>\n",
       "    <tr>\n",
       "      <td>203693</td>\n",
       "      <td>&gt;10lac</td>\n",
       "      <td>18000090.0</td>\n",
       "    </tr>\n",
       "    <tr>\n",
       "      <td>246858</td>\n",
       "      <td>&gt;10lac</td>\n",
       "      <td>13500000.0</td>\n",
       "    </tr>\n",
       "    <tr>\n",
       "      <td>77768</td>\n",
       "      <td>&gt;10lac</td>\n",
       "      <td>9000000.0</td>\n",
       "    </tr>\n",
       "    <tr>\n",
       "      <td>131127</td>\n",
       "      <td>&gt;10lac</td>\n",
       "      <td>6750000.0</td>\n",
       "    </tr>\n",
       "    <tr>\n",
       "      <td>...</td>\n",
       "      <td>...</td>\n",
       "      <td>...</td>\n",
       "    </tr>\n",
       "    <tr>\n",
       "      <td>7061</td>\n",
       "      <td>&gt;10lac</td>\n",
       "      <td>1035000.0</td>\n",
       "    </tr>\n",
       "    <tr>\n",
       "      <td>215170</td>\n",
       "      <td>&gt;10lac</td>\n",
       "      <td>1035000.0</td>\n",
       "    </tr>\n",
       "    <tr>\n",
       "      <td>58760</td>\n",
       "      <td>&gt;10lac</td>\n",
       "      <td>1012500.0</td>\n",
       "    </tr>\n",
       "    <tr>\n",
       "      <td>264932</td>\n",
       "      <td>&gt;10lac</td>\n",
       "      <td>1009368.0</td>\n",
       "    </tr>\n",
       "    <tr>\n",
       "      <td>287307</td>\n",
       "      <td>&gt;10lac</td>\n",
       "      <td>1001826.0</td>\n",
       "    </tr>\n",
       "  </tbody>\n",
       "</table>\n",
       "<p>250 rows × 2 columns</p>\n",
       "</div>"
      ],
      "text/plain": [
       "       income_bins  AMT_INCOME_TOTAL\n",
       "12840       >10lac       117000000.0\n",
       "203693      >10lac        18000090.0\n",
       "246858      >10lac        13500000.0\n",
       "77768       >10lac         9000000.0\n",
       "131127      >10lac         6750000.0\n",
       "...            ...               ...\n",
       "7061        >10lac         1035000.0\n",
       "215170      >10lac         1035000.0\n",
       "58760       >10lac         1012500.0\n",
       "264932      >10lac         1009368.0\n",
       "287307      >10lac         1001826.0\n",
       "\n",
       "[250 rows x 2 columns]"
      ]
     },
     "execution_count": 68,
     "metadata": {},
     "output_type": "execute_result"
    }
   ],
   "source": [
    "res[res['AMT_INCOME_TOTAL']>1000000].sort_values(by='AMT_INCOME_TOTAL', ascending=False)"
   ]
  },
  {
   "cell_type": "code",
   "execution_count": 69,
   "metadata": {},
   "outputs": [
    {
     "data": {
      "text/html": [
       "<div>\n",
       "<style scoped>\n",
       "    .dataframe tbody tr th:only-of-type {\n",
       "        vertical-align: middle;\n",
       "    }\n",
       "\n",
       "    .dataframe tbody tr th {\n",
       "        vertical-align: top;\n",
       "    }\n",
       "\n",
       "    .dataframe thead th {\n",
       "        text-align: right;\n",
       "    }\n",
       "</style>\n",
       "<table border=\"1\" class=\"dataframe\">\n",
       "  <thead>\n",
       "    <tr style=\"text-align: right;\">\n",
       "      <th></th>\n",
       "      <th>income_bins</th>\n",
       "      <th>AMT_INCOME_TOTAL</th>\n",
       "    </tr>\n",
       "  </thead>\n",
       "  <tbody>\n",
       "    <tr>\n",
       "      <td>222891</td>\n",
       "      <td>&lt;=50k</td>\n",
       "      <td>49950.0</td>\n",
       "    </tr>\n",
       "    <tr>\n",
       "      <td>141762</td>\n",
       "      <td>&lt;=50k</td>\n",
       "      <td>49950.0</td>\n",
       "    </tr>\n",
       "    <tr>\n",
       "      <td>113823</td>\n",
       "      <td>&lt;=50k</td>\n",
       "      <td>49783.5</td>\n",
       "    </tr>\n",
       "    <tr>\n",
       "      <td>145280</td>\n",
       "      <td>&lt;=50k</td>\n",
       "      <td>49716.0</td>\n",
       "    </tr>\n",
       "    <tr>\n",
       "      <td>109583</td>\n",
       "      <td>&lt;=50k</td>\n",
       "      <td>49549.5</td>\n",
       "    </tr>\n",
       "    <tr>\n",
       "      <td>...</td>\n",
       "      <td>...</td>\n",
       "      <td>...</td>\n",
       "    </tr>\n",
       "    <tr>\n",
       "      <td>246104</td>\n",
       "      <td>&lt;=50k</td>\n",
       "      <td>26100.0</td>\n",
       "    </tr>\n",
       "    <tr>\n",
       "      <td>186643</td>\n",
       "      <td>&lt;=50k</td>\n",
       "      <td>26100.0</td>\n",
       "    </tr>\n",
       "    <tr>\n",
       "      <td>240137</td>\n",
       "      <td>&lt;=50k</td>\n",
       "      <td>26100.0</td>\n",
       "    </tr>\n",
       "    <tr>\n",
       "      <td>20727</td>\n",
       "      <td>&lt;=50k</td>\n",
       "      <td>25650.0</td>\n",
       "    </tr>\n",
       "    <tr>\n",
       "      <td>1678</td>\n",
       "      <td>&lt;=50k</td>\n",
       "      <td>25650.0</td>\n",
       "    </tr>\n",
       "  </tbody>\n",
       "</table>\n",
       "<p>4517 rows × 2 columns</p>\n",
       "</div>"
      ],
      "text/plain": [
       "       income_bins  AMT_INCOME_TOTAL\n",
       "222891       <=50k           49950.0\n",
       "141762       <=50k           49950.0\n",
       "113823       <=50k           49783.5\n",
       "145280       <=50k           49716.0\n",
       "109583       <=50k           49549.5\n",
       "...            ...               ...\n",
       "246104       <=50k           26100.0\n",
       "186643       <=50k           26100.0\n",
       "240137       <=50k           26100.0\n",
       "20727        <=50k           25650.0\n",
       "1678         <=50k           25650.0\n",
       "\n",
       "[4517 rows x 2 columns]"
      ]
     },
     "execution_count": 69,
     "metadata": {},
     "output_type": "execute_result"
    }
   ],
   "source": [
    "res[res['AMT_INCOME_TOTAL']<50000].sort_values(by='AMT_INCOME_TOTAL', ascending=False)"
   ]
  },
  {
   "cell_type": "code",
   "execution_count": 70,
   "metadata": {},
   "outputs": [
    {
     "data": {
      "text/html": [
       "<div>\n",
       "<style scoped>\n",
       "    .dataframe tbody tr th:only-of-type {\n",
       "        vertical-align: middle;\n",
       "    }\n",
       "\n",
       "    .dataframe tbody tr th {\n",
       "        vertical-align: top;\n",
       "    }\n",
       "\n",
       "    .dataframe thead th {\n",
       "        text-align: right;\n",
       "    }\n",
       "</style>\n",
       "<table border=\"1\" class=\"dataframe\">\n",
       "  <thead>\n",
       "    <tr style=\"text-align: right;\">\n",
       "      <th></th>\n",
       "      <th>income_bins</th>\n",
       "      <th>AMT_INCOME_TOTAL</th>\n",
       "    </tr>\n",
       "  </thead>\n",
       "  <tbody>\n",
       "    <tr>\n",
       "      <td>281449</td>\n",
       "      <td>2lac-2.5lac</td>\n",
       "      <td>249750.0</td>\n",
       "    </tr>\n",
       "    <tr>\n",
       "      <td>15016</td>\n",
       "      <td>2lac-2.5lac</td>\n",
       "      <td>249750.0</td>\n",
       "    </tr>\n",
       "    <tr>\n",
       "      <td>299527</td>\n",
       "      <td>2lac-2.5lac</td>\n",
       "      <td>249750.0</td>\n",
       "    </tr>\n",
       "    <tr>\n",
       "      <td>133616</td>\n",
       "      <td>2lac-2.5lac</td>\n",
       "      <td>249750.0</td>\n",
       "    </tr>\n",
       "    <tr>\n",
       "      <td>144459</td>\n",
       "      <td>2lac-2.5lac</td>\n",
       "      <td>249750.0</td>\n",
       "    </tr>\n",
       "    <tr>\n",
       "      <td>...</td>\n",
       "      <td>...</td>\n",
       "      <td>...</td>\n",
       "    </tr>\n",
       "    <tr>\n",
       "      <td>274557</td>\n",
       "      <td>2lac-2.5lac</td>\n",
       "      <td>200250.0</td>\n",
       "    </tr>\n",
       "    <tr>\n",
       "      <td>278654</td>\n",
       "      <td>2lac-2.5lac</td>\n",
       "      <td>200250.0</td>\n",
       "    </tr>\n",
       "    <tr>\n",
       "      <td>55765</td>\n",
       "      <td>2lac-2.5lac</td>\n",
       "      <td>200250.0</td>\n",
       "    </tr>\n",
       "    <tr>\n",
       "      <td>233635</td>\n",
       "      <td>2lac-2.5lac</td>\n",
       "      <td>200250.0</td>\n",
       "    </tr>\n",
       "    <tr>\n",
       "      <td>264375</td>\n",
       "      <td>2lac-2.5lac</td>\n",
       "      <td>200025.0</td>\n",
       "    </tr>\n",
       "  </tbody>\n",
       "</table>\n",
       "<p>48137 rows × 2 columns</p>\n",
       "</div>"
      ],
      "text/plain": [
       "        income_bins  AMT_INCOME_TOTAL\n",
       "281449  2lac-2.5lac          249750.0\n",
       "15016   2lac-2.5lac          249750.0\n",
       "299527  2lac-2.5lac          249750.0\n",
       "133616  2lac-2.5lac          249750.0\n",
       "144459  2lac-2.5lac          249750.0\n",
       "...             ...               ...\n",
       "274557  2lac-2.5lac          200250.0\n",
       "278654  2lac-2.5lac          200250.0\n",
       "55765   2lac-2.5lac          200250.0\n",
       "233635  2lac-2.5lac          200250.0\n",
       "264375  2lac-2.5lac          200025.0\n",
       "\n",
       "[48137 rows x 2 columns]"
      ]
     },
     "execution_count": 70,
     "metadata": {},
     "output_type": "execute_result"
    }
   ],
   "source": [
    "res[(res['AMT_INCOME_TOTAL']>=200000) &(res['AMT_INCOME_TOTAL']<=250000) ].sort_values(by='AMT_INCOME_TOTAL', ascending=False)"
   ]
  },
  {
   "cell_type": "markdown",
   "metadata": {},
   "source": [
    "### Lets observe DAYS_BIRTH column"
   ]
  },
  {
   "cell_type": "code",
   "execution_count": 71,
   "metadata": {},
   "outputs": [
    {
     "data": {
      "text/plain": [
       "-13749    43\n",
       "-13481    42\n",
       "-18248    41\n",
       "-10020    41\n",
       "-15771    40\n",
       "          ..\n",
       "-25032     1\n",
       "-7956      1\n",
       "-8001      1\n",
       "-7861      1\n",
       "-24894     1\n",
       "Name: DAYS_BIRTH, Length: 17460, dtype: int64"
      ]
     },
     "execution_count": 71,
     "metadata": {},
     "output_type": "execute_result"
    }
   ],
   "source": [
    "applicationDataRevised['DAYS_BIRTH'].value_counts()"
   ]
  },
  {
   "cell_type": "code",
   "execution_count": 72,
   "metadata": {},
   "outputs": [
    {
     "data": {
      "text/plain": [
       "Series([], Name: DAYS_BIRTH, dtype: int64)"
      ]
     },
     "execution_count": 72,
     "metadata": {},
     "output_type": "execute_result"
    }
   ],
   "source": [
    "applicationDataRevised[applicationDataRevised['DAYS_BIRTH']>0]['DAYS_BIRTH'].value_counts()"
   ]
  },
  {
   "cell_type": "markdown",
   "metadata": {},
   "source": [
    "#### we have observed that most days are mentioned in -ve. We are converting them to +ve and then convert to years to find age. We will then bin them"
   ]
  },
  {
   "cell_type": "code",
   "execution_count": 73,
   "metadata": {},
   "outputs": [],
   "source": [
    "applicationDataRevised['DAYS_BIRTH'] = -applicationDataRevised['DAYS_BIRTH'] \n",
    "\n",
    "#  use absolute function"
   ]
  },
  {
   "cell_type": "code",
   "execution_count": 74,
   "metadata": {},
   "outputs": [
    {
     "data": {
      "text/plain": [
       "Series([], Name: DAYS_BIRTH, dtype: int64)"
      ]
     },
     "execution_count": 74,
     "metadata": {},
     "output_type": "execute_result"
    }
   ],
   "source": [
    "# observe that all values are now positiveabs\n",
    "applicationDataRevised[applicationDataRevised['DAYS_BIRTH']<0]['DAYS_BIRTH'].value_counts()"
   ]
  },
  {
   "cell_type": "code",
   "execution_count": 75,
   "metadata": {},
   "outputs": [
    {
     "data": {
      "text/plain": [
       "0    25.92\n",
       "1    45.93\n",
       "2    52.18\n",
       "3    52.07\n",
       "4    54.61\n",
       "Name: AGE, dtype: float64"
      ]
     },
     "execution_count": 75,
     "metadata": {},
     "output_type": "execute_result"
    }
   ],
   "source": [
    "applicationDataRevised['AGE'] = round(applicationDataRevised['DAYS_BIRTH']/365, 2)\n",
    "applicationDataRevised['AGE'].head()"
   ]
  },
  {
   "cell_type": "code",
   "execution_count": 76,
   "metadata": {},
   "outputs": [
    {
     "data": {
      "text/plain": [
       "count    307511.000000\n",
       "mean         43.936976\n",
       "std          11.956135\n",
       "min          20.520000\n",
       "25%          34.010000\n",
       "50%          43.150000\n",
       "75%          53.920000\n",
       "max          69.120000\n",
       "Name: AGE, dtype: float64"
      ]
     },
     "execution_count": 76,
     "metadata": {},
     "output_type": "execute_result"
    }
   ],
   "source": [
    "applicationDataRevised['AGE'].describe()"
   ]
  },
  {
   "cell_type": "code",
   "execution_count": 77,
   "metadata": {},
   "outputs": [
    {
     "data": {
      "text/plain": [
       "<matplotlib.axes._subplots.AxesSubplot at 0x14c8432c5c8>"
      ]
     },
     "execution_count": 77,
     "metadata": {},
     "output_type": "execute_result"
    },
    {
     "data": {
      "image/png": "[encoded data removed]",
      "text/plain": [
       "<Figure size 432x288 with 1 Axes>"
      ]
     },
     "metadata": {
      "needs_background": "light"
     },
     "output_type": "display_data"
    }
   ],
   "source": [
    "sns.boxplot(applicationDataRevised['AGE'])"
   ]
  },
  {
   "cell_type": "code",
   "execution_count": 78,
   "metadata": {},
   "outputs": [
    {
     "data": {
      "text/plain": [
       "0.00    20.52\n",
       "0.10    28.18\n",
       "0.20    32.04\n",
       "0.25    34.01\n",
       "0.50    43.15\n",
       "0.75    53.92\n",
       "0.90    60.77\n",
       "0.95    63.57\n",
       "0.99    66.90\n",
       "1.00    69.12\n",
       "Name: AGE, dtype: float64"
      ]
     },
     "execution_count": 78,
     "metadata": {},
     "output_type": "execute_result"
    }
   ],
   "source": [
    "applicationDataRevised['AGE'].quantile([0,.1,.2,.25,.5,.75,.9,.95,.99,1])"
   ]
  },
  {
   "cell_type": "markdown",
   "metadata": {},
   "source": [
    "#### looking at above plot and quantile range values, it is clear that age is very continuously distributed variable.  \n",
    "It also seems logical to create bins of size 10"
   ]
  },
  {
   "cell_type": "code",
   "execution_count": 79,
   "metadata": {},
   "outputs": [
    {
     "data": {
      "text/plain": [
       "[0, 10, 20, 30, 40, 50, 60, 70]"
      ]
     },
     "execution_count": 79,
     "metadata": {},
     "output_type": "execute_result"
    }
   ],
   "source": [
    "cut_bins = list(range(0,80,10))\n",
    "cut_bins"
   ]
  },
  {
   "cell_type": "code",
   "execution_count": 80,
   "metadata": {},
   "outputs": [],
   "source": [
    "\n",
    "cut_labels = ['<=10', '10-20', '20-30', '30-40', '40-50','50-60', '>60']\n",
    "applicationDataRevised['AgeGroup'] = pd.cut(applicationDataRevised['AGE'].clip(upper=71), bins=cut_bins,include_lowest =True, labels=cut_labels)\n",
    "res = applicationDataRevised[['AgeGroup', 'AGE']]"
   ]
  },
  {
   "cell_type": "code",
   "execution_count": 81,
   "metadata": {},
   "outputs": [
    {
     "data": {
      "text/plain": [
       "30-40    82316\n",
       "40-50    76526\n",
       "50-60    68066\n",
       "20-30    45041\n",
       ">60      35562\n",
       "10-20        0\n",
       "<=10         0\n",
       "Name: AgeGroup, dtype: int64"
      ]
     },
     "execution_count": 81,
     "metadata": {},
     "output_type": "execute_result"
    }
   ],
   "source": [
    "res['AgeGroup'].value_counts()"
   ]
  },
  {
   "cell_type": "markdown",
   "metadata": {},
   "source": [
    "### Split data on based on target"
   ]
  },
  {
   "cell_type": "code",
   "execution_count": 82,
   "metadata": {},
   "outputs": [],
   "source": [
    "#Filtering out rows with Target = 1 in Revised_Application_Data \n",
    "Revised_App_Data_Target_1 = applicationDataRevised[(applicationDataRevised.TARGET == 1)]\n",
    "\n",
    "#Filtering out rows with Target = 0 in Revised_Application_Data \n",
    "Revised_App_Data_Target_0 = applicationDataRevised[(applicationDataRevised.TARGET == 0)]"
   ]
  },
  {
   "cell_type": "markdown",
   "metadata": {},
   "source": [
    "## Finding correlation for each data set"
   ]
  },
  {
   "cell_type": "code",
   "execution_count": 83,
   "metadata": {},
   "outputs": [],
   "source": [
    "NumericalColumns= ['AMT_INCOME_TOTAL', 'AMT_CREDIT', 'AMT_ANNUITY', 'REGION_POPULATION_RELATIVE', 'AGE', 'DAYS_EMPLOYED']"
   ]
  },
  {
   "cell_type": "code",
   "execution_count": 84,
   "metadata": {},
   "outputs": [],
   "source": [
    "correlationSubsetTarget1 = Revised_App_Data_Target_1[NumericalColumns]\n",
    "correlationSubsetTarget0 = Revised_App_Data_Target_0[NumericalColumns]"
   ]
  },
  {
   "cell_type": "code",
   "execution_count": 85,
   "metadata": {},
   "outputs": [
    {
     "data": {
      "text/html": [
       "<div>\n",
       "<style scoped>\n",
       "    .dataframe tbody tr th:only-of-type {\n",
       "        vertical-align: middle;\n",
       "    }\n",
       "\n",
       "    .dataframe tbody tr th {\n",
       "        vertical-align: top;\n",
       "    }\n",
       "\n",
       "    .dataframe thead th {\n",
       "        text-align: right;\n",
       "    }\n",
       "</style>\n",
       "<table border=\"1\" class=\"dataframe\">\n",
       "  <thead>\n",
       "    <tr style=\"text-align: right;\">\n",
       "      <th></th>\n",
       "      <th>AMT_INCOME_TOTAL</th>\n",
       "      <th>AMT_CREDIT</th>\n",
       "      <th>AMT_ANNUITY</th>\n",
       "      <th>REGION_POPULATION_RELATIVE</th>\n",
       "      <th>AGE</th>\n",
       "      <th>DAYS_EMPLOYED</th>\n",
       "    </tr>\n",
       "  </thead>\n",
       "  <tbody>\n",
       "    <tr>\n",
       "      <td>AMT_INCOME_TOTAL</td>\n",
       "      <td>1.000</td>\n",
       "      <td>0.038</td>\n",
       "      <td>0.046</td>\n",
       "      <td>0.009</td>\n",
       "      <td>-0.003</td>\n",
       "      <td>-0.015</td>\n",
       "    </tr>\n",
       "    <tr>\n",
       "      <td>AMT_CREDIT</td>\n",
       "      <td>0.038</td>\n",
       "      <td>1.000</td>\n",
       "      <td>0.752</td>\n",
       "      <td>0.069</td>\n",
       "      <td>0.135</td>\n",
       "      <td>-0.001</td>\n",
       "    </tr>\n",
       "    <tr>\n",
       "      <td>AMT_ANNUITY</td>\n",
       "      <td>0.046</td>\n",
       "      <td>0.752</td>\n",
       "      <td>1.000</td>\n",
       "      <td>0.072</td>\n",
       "      <td>0.014</td>\n",
       "      <td>-0.083</td>\n",
       "    </tr>\n",
       "    <tr>\n",
       "      <td>REGION_POPULATION_RELATIVE</td>\n",
       "      <td>0.009</td>\n",
       "      <td>0.069</td>\n",
       "      <td>0.072</td>\n",
       "      <td>1.000</td>\n",
       "      <td>0.048</td>\n",
       "      <td>0.015</td>\n",
       "    </tr>\n",
       "    <tr>\n",
       "      <td>AGE</td>\n",
       "      <td>-0.003</td>\n",
       "      <td>0.135</td>\n",
       "      <td>0.014</td>\n",
       "      <td>0.048</td>\n",
       "      <td>1.000</td>\n",
       "      <td>0.575</td>\n",
       "    </tr>\n",
       "    <tr>\n",
       "      <td>DAYS_EMPLOYED</td>\n",
       "      <td>-0.015</td>\n",
       "      <td>-0.001</td>\n",
       "      <td>-0.083</td>\n",
       "      <td>0.015</td>\n",
       "      <td>0.575</td>\n",
       "      <td>1.000</td>\n",
       "    </tr>\n",
       "  </tbody>\n",
       "</table>\n",
       "</div>"
      ],
      "text/plain": [
       "                            AMT_INCOME_TOTAL  AMT_CREDIT  AMT_ANNUITY  \\\n",
       "AMT_INCOME_TOTAL                       1.000       0.038        0.046   \n",
       "AMT_CREDIT                             0.038       1.000        0.752   \n",
       "AMT_ANNUITY                            0.046       0.752        1.000   \n",
       "REGION_POPULATION_RELATIVE             0.009       0.069        0.072   \n",
       "AGE                                   -0.003       0.135        0.014   \n",
       "DAYS_EMPLOYED                         -0.015      -0.001       -0.083   \n",
       "\n",
       "                            REGION_POPULATION_RELATIVE    AGE  DAYS_EMPLOYED  \n",
       "AMT_INCOME_TOTAL                                 0.009 -0.003         -0.015  \n",
       "AMT_CREDIT                                       0.069  0.135         -0.001  \n",
       "AMT_ANNUITY                                      0.072  0.014         -0.083  \n",
       "REGION_POPULATION_RELATIVE                       1.000  0.048          0.015  \n",
       "AGE                                              0.048  1.000          0.575  \n",
       "DAYS_EMPLOYED                                    0.015  0.575          1.000  "
      ]
     },
     "execution_count": 85,
     "metadata": {},
     "output_type": "execute_result"
    }
   ],
   "source": [
    "# Target =1 correlation\n",
    "corr1= round(correlationSubsetTarget1.corr(),3)\n",
    "corr1"
   ]
  },
  {
   "cell_type": "code",
   "execution_count": 86,
   "metadata": {},
   "outputs": [
    {
     "data": {
      "image/png": "[encoded data removed]",
      "text/plain": [
       "<Figure size 720x576 with 2 Axes>"
      ]
     },
     "metadata": {
      "needs_background": "light"
     },
     "output_type": "display_data"
    }
   ],
   "source": [
    "# figure size\n",
    "plt.figure(figsize=(10,8))\n",
    "\n",
    "# heatmap\n",
    "sns.heatmap(corr1, cmap=\"YlGnBu\", annot=True)\n",
    "plt.show()"
   ]
  },
  {
   "cell_type": "code",
   "execution_count": 87,
   "metadata": {},
   "outputs": [
    {
     "data": {
      "text/html": [
       "<div>\n",
       "<style scoped>\n",
       "    .dataframe tbody tr th:only-of-type {\n",
       "        vertical-align: middle;\n",
       "    }\n",
       "\n",
       "    .dataframe tbody tr th {\n",
       "        vertical-align: top;\n",
       "    }\n",
       "\n",
       "    .dataframe thead th {\n",
       "        text-align: right;\n",
       "    }\n",
       "</style>\n",
       "<table border=\"1\" class=\"dataframe\">\n",
       "  <thead>\n",
       "    <tr style=\"text-align: right;\">\n",
       "      <th></th>\n",
       "      <th>AMT_INCOME_TOTAL</th>\n",
       "      <th>AMT_CREDIT</th>\n",
       "      <th>AMT_ANNUITY</th>\n",
       "      <th>REGION_POPULATION_RELATIVE</th>\n",
       "      <th>AGE</th>\n",
       "      <th>DAYS_EMPLOYED</th>\n",
       "    </tr>\n",
       "  </thead>\n",
       "  <tbody>\n",
       "    <tr>\n",
       "      <td>AMT_INCOME_TOTAL</td>\n",
       "      <td>1.000</td>\n",
       "      <td>0.343</td>\n",
       "      <td>0.419</td>\n",
       "      <td>0.168</td>\n",
       "      <td>-0.063</td>\n",
       "      <td>-0.141</td>\n",
       "    </tr>\n",
       "    <tr>\n",
       "      <td>AMT_CREDIT</td>\n",
       "      <td>0.343</td>\n",
       "      <td>1.000</td>\n",
       "      <td>0.771</td>\n",
       "      <td>0.101</td>\n",
       "      <td>0.047</td>\n",
       "      <td>-0.073</td>\n",
       "    </tr>\n",
       "    <tr>\n",
       "      <td>AMT_ANNUITY</td>\n",
       "      <td>0.419</td>\n",
       "      <td>0.771</td>\n",
       "      <td>1.000</td>\n",
       "      <td>0.121</td>\n",
       "      <td>-0.012</td>\n",
       "      <td>-0.106</td>\n",
       "    </tr>\n",
       "    <tr>\n",
       "      <td>REGION_POPULATION_RELATIVE</td>\n",
       "      <td>0.168</td>\n",
       "      <td>0.101</td>\n",
       "      <td>0.121</td>\n",
       "      <td>1.000</td>\n",
       "      <td>0.025</td>\n",
       "      <td>-0.007</td>\n",
       "    </tr>\n",
       "    <tr>\n",
       "      <td>AGE</td>\n",
       "      <td>-0.063</td>\n",
       "      <td>0.047</td>\n",
       "      <td>-0.012</td>\n",
       "      <td>0.025</td>\n",
       "      <td>1.000</td>\n",
       "      <td>0.618</td>\n",
       "    </tr>\n",
       "    <tr>\n",
       "      <td>DAYS_EMPLOYED</td>\n",
       "      <td>-0.141</td>\n",
       "      <td>-0.073</td>\n",
       "      <td>-0.106</td>\n",
       "      <td>-0.007</td>\n",
       "      <td>0.618</td>\n",
       "      <td>1.000</td>\n",
       "    </tr>\n",
       "  </tbody>\n",
       "</table>\n",
       "</div>"
      ],
      "text/plain": [
       "                            AMT_INCOME_TOTAL  AMT_CREDIT  AMT_ANNUITY  \\\n",
       "AMT_INCOME_TOTAL                       1.000       0.343        0.419   \n",
       "AMT_CREDIT                             0.343       1.000        0.771   \n",
       "AMT_ANNUITY                            0.419       0.771        1.000   \n",
       "REGION_POPULATION_RELATIVE             0.168       0.101        0.121   \n",
       "AGE                                   -0.063       0.047       -0.012   \n",
       "DAYS_EMPLOYED                         -0.141      -0.073       -0.106   \n",
       "\n",
       "                            REGION_POPULATION_RELATIVE    AGE  DAYS_EMPLOYED  \n",
       "AMT_INCOME_TOTAL                                 0.168 -0.063         -0.141  \n",
       "AMT_CREDIT                                       0.101  0.047         -0.073  \n",
       "AMT_ANNUITY                                      0.121 -0.012         -0.106  \n",
       "REGION_POPULATION_RELATIVE                       1.000  0.025         -0.007  \n",
       "AGE                                              0.025  1.000          0.618  \n",
       "DAYS_EMPLOYED                                   -0.007  0.618          1.000  "
      ]
     },
     "execution_count": 87,
     "metadata": {},
     "output_type": "execute_result"
    }
   ],
   "source": [
    "# Target =0 correlation\n",
    "corr0= round(correlationSubsetTarget0.corr(),3)\n",
    "corr0"
   ]
  },
  {
   "cell_type": "code",
   "execution_count": 88,
   "metadata": {},
   "outputs": [
    {
     "data": {
      "image/png": "[encoded data removed]",
      "text/plain": [
       "<Figure size 720x576 with 2 Axes>"
      ]
     },
     "metadata": {
      "needs_background": "light"
     },
     "output_type": "display_data"
    }
   ],
   "source": [
    "# figure size\n",
    "plt.figure(figsize=(10,8))\n",
    "\n",
    "# heatmap\n",
    "sns.heatmap(corr0, cmap=\"YlGnBu\", annot=True)\n",
    "plt.show()"
   ]
  },
  {
   "cell_type": "code",
   "execution_count": 89,
   "metadata": {},
   "outputs": [
    {
     "data": {
      "text/html": [
       "<div>\n",
       "<style scoped>\n",
       "    .dataframe tbody tr th:only-of-type {\n",
       "        vertical-align: middle;\n",
       "    }\n",
       "\n",
       "    .dataframe tbody tr th {\n",
       "        vertical-align: top;\n",
       "    }\n",
       "\n",
       "    .dataframe thead th {\n",
       "        text-align: right;\n",
       "    }\n",
       "</style>\n",
       "<table border=\"1\" class=\"dataframe\">\n",
       "  <thead>\n",
       "    <tr style=\"text-align: right;\">\n",
       "      <th></th>\n",
       "      <th>VAR1</th>\n",
       "      <th>VAR2</th>\n",
       "      <th>Correlation</th>\n",
       "    </tr>\n",
       "  </thead>\n",
       "  <tbody>\n",
       "    <tr>\n",
       "      <td>13</td>\n",
       "      <td>AMT_ANNUITY</td>\n",
       "      <td>AMT_CREDIT</td>\n",
       "      <td>0.771</td>\n",
       "    </tr>\n",
       "    <tr>\n",
       "      <td>34</td>\n",
       "      <td>DAYS_EMPLOYED</td>\n",
       "      <td>AGE</td>\n",
       "      <td>0.618</td>\n",
       "    </tr>\n",
       "    <tr>\n",
       "      <td>12</td>\n",
       "      <td>AMT_ANNUITY</td>\n",
       "      <td>AMT_INCOME_TOTAL</td>\n",
       "      <td>0.419</td>\n",
       "    </tr>\n",
       "    <tr>\n",
       "      <td>6</td>\n",
       "      <td>AMT_CREDIT</td>\n",
       "      <td>AMT_INCOME_TOTAL</td>\n",
       "      <td>0.343</td>\n",
       "    </tr>\n",
       "    <tr>\n",
       "      <td>18</td>\n",
       "      <td>REGION_POPULATION_RELATIVE</td>\n",
       "      <td>AMT_INCOME_TOTAL</td>\n",
       "      <td>0.168</td>\n",
       "    </tr>\n",
       "    <tr>\n",
       "      <td>20</td>\n",
       "      <td>REGION_POPULATION_RELATIVE</td>\n",
       "      <td>AMT_ANNUITY</td>\n",
       "      <td>0.121</td>\n",
       "    </tr>\n",
       "    <tr>\n",
       "      <td>19</td>\n",
       "      <td>REGION_POPULATION_RELATIVE</td>\n",
       "      <td>AMT_CREDIT</td>\n",
       "      <td>0.101</td>\n",
       "    </tr>\n",
       "    <tr>\n",
       "      <td>25</td>\n",
       "      <td>AGE</td>\n",
       "      <td>AMT_CREDIT</td>\n",
       "      <td>0.047</td>\n",
       "    </tr>\n",
       "    <tr>\n",
       "      <td>27</td>\n",
       "      <td>AGE</td>\n",
       "      <td>REGION_POPULATION_RELATIVE</td>\n",
       "      <td>0.025</td>\n",
       "    </tr>\n",
       "    <tr>\n",
       "      <td>33</td>\n",
       "      <td>DAYS_EMPLOYED</td>\n",
       "      <td>REGION_POPULATION_RELATIVE</td>\n",
       "      <td>-0.007</td>\n",
       "    </tr>\n",
       "    <tr>\n",
       "      <td>26</td>\n",
       "      <td>AGE</td>\n",
       "      <td>AMT_ANNUITY</td>\n",
       "      <td>-0.012</td>\n",
       "    </tr>\n",
       "    <tr>\n",
       "      <td>24</td>\n",
       "      <td>AGE</td>\n",
       "      <td>AMT_INCOME_TOTAL</td>\n",
       "      <td>-0.063</td>\n",
       "    </tr>\n",
       "    <tr>\n",
       "      <td>31</td>\n",
       "      <td>DAYS_EMPLOYED</td>\n",
       "      <td>AMT_CREDIT</td>\n",
       "      <td>-0.073</td>\n",
       "    </tr>\n",
       "    <tr>\n",
       "      <td>32</td>\n",
       "      <td>DAYS_EMPLOYED</td>\n",
       "      <td>AMT_ANNUITY</td>\n",
       "      <td>-0.106</td>\n",
       "    </tr>\n",
       "    <tr>\n",
       "      <td>30</td>\n",
       "      <td>DAYS_EMPLOYED</td>\n",
       "      <td>AMT_INCOME_TOTAL</td>\n",
       "      <td>-0.141</td>\n",
       "    </tr>\n",
       "  </tbody>\n",
       "</table>\n",
       "</div>"
      ],
      "text/plain": [
       "                          VAR1                        VAR2  Correlation\n",
       "13                 AMT_ANNUITY                  AMT_CREDIT        0.771\n",
       "34               DAYS_EMPLOYED                         AGE        0.618\n",
       "12                 AMT_ANNUITY            AMT_INCOME_TOTAL        0.419\n",
       "6                   AMT_CREDIT            AMT_INCOME_TOTAL        0.343\n",
       "18  REGION_POPULATION_RELATIVE            AMT_INCOME_TOTAL        0.168\n",
       "20  REGION_POPULATION_RELATIVE                 AMT_ANNUITY        0.121\n",
       "19  REGION_POPULATION_RELATIVE                  AMT_CREDIT        0.101\n",
       "25                         AGE                  AMT_CREDIT        0.047\n",
       "27                         AGE  REGION_POPULATION_RELATIVE        0.025\n",
       "33               DAYS_EMPLOYED  REGION_POPULATION_RELATIVE       -0.007\n",
       "26                         AGE                 AMT_ANNUITY       -0.012\n",
       "24                         AGE            AMT_INCOME_TOTAL       -0.063\n",
       "31               DAYS_EMPLOYED                  AMT_CREDIT       -0.073\n",
       "32               DAYS_EMPLOYED                 AMT_ANNUITY       -0.106\n",
       "30               DAYS_EMPLOYED            AMT_INCOME_TOTAL       -0.141"
      ]
     },
     "execution_count": 89,
     "metadata": {},
     "output_type": "execute_result"
    }
   ],
   "source": [
    "corrdf = corr0.where(np.triu(np.ones(corr0.shape), k=1).astype(np.bool)).unstack().reset_index()\n",
    "corrdf.columns=['VAR1', 'VAR2', 'Correlation']\n",
    "corrdf.dropna(subset=['Correlation'], inplace=True)\n",
    "corrdf.sort_values('Correlation', ascending=False)"
   ]
  },
  {
   "cell_type": "code",
   "execution_count": 90,
   "metadata": {},
   "outputs": [
    {
     "data": {
      "text/html": [
       "<div>\n",
       "<style scoped>\n",
       "    .dataframe tbody tr th:only-of-type {\n",
       "        vertical-align: middle;\n",
       "    }\n",
       "\n",
       "    .dataframe tbody tr th {\n",
       "        vertical-align: top;\n",
       "    }\n",
       "\n",
       "    .dataframe thead th {\n",
       "        text-align: right;\n",
       "    }\n",
       "</style>\n",
       "<table border=\"1\" class=\"dataframe\">\n",
       "  <thead>\n",
       "    <tr style=\"text-align: right;\">\n",
       "      <th></th>\n",
       "      <th>VAR1</th>\n",
       "      <th>VAR2</th>\n",
       "      <th>Correlation</th>\n",
       "    </tr>\n",
       "  </thead>\n",
       "  <tbody>\n",
       "    <tr>\n",
       "      <td>13</td>\n",
       "      <td>AMT_ANNUITY</td>\n",
       "      <td>AMT_CREDIT</td>\n",
       "      <td>0.752</td>\n",
       "    </tr>\n",
       "    <tr>\n",
       "      <td>34</td>\n",
       "      <td>DAYS_EMPLOYED</td>\n",
       "      <td>AGE</td>\n",
       "      <td>0.575</td>\n",
       "    </tr>\n",
       "    <tr>\n",
       "      <td>25</td>\n",
       "      <td>AGE</td>\n",
       "      <td>AMT_CREDIT</td>\n",
       "      <td>0.135</td>\n",
       "    </tr>\n",
       "    <tr>\n",
       "      <td>20</td>\n",
       "      <td>REGION_POPULATION_RELATIVE</td>\n",
       "      <td>AMT_ANNUITY</td>\n",
       "      <td>0.072</td>\n",
       "    </tr>\n",
       "    <tr>\n",
       "      <td>19</td>\n",
       "      <td>REGION_POPULATION_RELATIVE</td>\n",
       "      <td>AMT_CREDIT</td>\n",
       "      <td>0.069</td>\n",
       "    </tr>\n",
       "    <tr>\n",
       "      <td>27</td>\n",
       "      <td>AGE</td>\n",
       "      <td>REGION_POPULATION_RELATIVE</td>\n",
       "      <td>0.048</td>\n",
       "    </tr>\n",
       "    <tr>\n",
       "      <td>12</td>\n",
       "      <td>AMT_ANNUITY</td>\n",
       "      <td>AMT_INCOME_TOTAL</td>\n",
       "      <td>0.046</td>\n",
       "    </tr>\n",
       "    <tr>\n",
       "      <td>6</td>\n",
       "      <td>AMT_CREDIT</td>\n",
       "      <td>AMT_INCOME_TOTAL</td>\n",
       "      <td>0.038</td>\n",
       "    </tr>\n",
       "    <tr>\n",
       "      <td>33</td>\n",
       "      <td>DAYS_EMPLOYED</td>\n",
       "      <td>REGION_POPULATION_RELATIVE</td>\n",
       "      <td>0.015</td>\n",
       "    </tr>\n",
       "    <tr>\n",
       "      <td>26</td>\n",
       "      <td>AGE</td>\n",
       "      <td>AMT_ANNUITY</td>\n",
       "      <td>0.014</td>\n",
       "    </tr>\n",
       "    <tr>\n",
       "      <td>18</td>\n",
       "      <td>REGION_POPULATION_RELATIVE</td>\n",
       "      <td>AMT_INCOME_TOTAL</td>\n",
       "      <td>0.009</td>\n",
       "    </tr>\n",
       "    <tr>\n",
       "      <td>31</td>\n",
       "      <td>DAYS_EMPLOYED</td>\n",
       "      <td>AMT_CREDIT</td>\n",
       "      <td>-0.001</td>\n",
       "    </tr>\n",
       "    <tr>\n",
       "      <td>24</td>\n",
       "      <td>AGE</td>\n",
       "      <td>AMT_INCOME_TOTAL</td>\n",
       "      <td>-0.003</td>\n",
       "    </tr>\n",
       "    <tr>\n",
       "      <td>30</td>\n",
       "      <td>DAYS_EMPLOYED</td>\n",
       "      <td>AMT_INCOME_TOTAL</td>\n",
       "      <td>-0.015</td>\n",
       "    </tr>\n",
       "    <tr>\n",
       "      <td>32</td>\n",
       "      <td>DAYS_EMPLOYED</td>\n",
       "      <td>AMT_ANNUITY</td>\n",
       "      <td>-0.083</td>\n",
       "    </tr>\n",
       "  </tbody>\n",
       "</table>\n",
       "</div>"
      ],
      "text/plain": [
       "                          VAR1                        VAR2  Correlation\n",
       "13                 AMT_ANNUITY                  AMT_CREDIT        0.752\n",
       "34               DAYS_EMPLOYED                         AGE        0.575\n",
       "25                         AGE                  AMT_CREDIT        0.135\n",
       "20  REGION_POPULATION_RELATIVE                 AMT_ANNUITY        0.072\n",
       "19  REGION_POPULATION_RELATIVE                  AMT_CREDIT        0.069\n",
       "27                         AGE  REGION_POPULATION_RELATIVE        0.048\n",
       "12                 AMT_ANNUITY            AMT_INCOME_TOTAL        0.046\n",
       "6                   AMT_CREDIT            AMT_INCOME_TOTAL        0.038\n",
       "33               DAYS_EMPLOYED  REGION_POPULATION_RELATIVE        0.015\n",
       "26                         AGE                 AMT_ANNUITY        0.014\n",
       "18  REGION_POPULATION_RELATIVE            AMT_INCOME_TOTAL        0.009\n",
       "31               DAYS_EMPLOYED                  AMT_CREDIT       -0.001\n",
       "24                         AGE            AMT_INCOME_TOTAL       -0.003\n",
       "30               DAYS_EMPLOYED            AMT_INCOME_TOTAL       -0.015\n",
       "32               DAYS_EMPLOYED                 AMT_ANNUITY       -0.083"
      ]
     },
     "execution_count": 90,
     "metadata": {},
     "output_type": "execute_result"
    }
   ],
   "source": [
    "corrdf = corr1.where(np.triu(np.ones(corr1.shape), k=1).astype(np.bool)).unstack().reset_index()\n",
    "corrdf.columns=['VAR1', 'VAR2', 'Correlation']\n",
    "corrdf.dropna(subset=['Correlation'], inplace=True)\n",
    "corrdf.sort_values('Correlation', ascending=False)"
   ]
  },
  {
   "cell_type": "markdown",
   "metadata": {},
   "source": [
    "## Observation \n",
    "- AMT_CREDIT AND AMT_ANNUITY have the highest correlation in both the data sets\n",
    "- These are even more correlated for target 0 i.e for the cases where there is not default"
   ]
  },
  {
   "cell_type": "markdown",
   "metadata": {},
   "source": [
    "## Univariate analysis for numerical columns"
   ]
  },
  {
   "cell_type": "markdown",
   "metadata": {},
   "source": [
    "### Age Column"
   ]
  },
  {
   "cell_type": "code",
   "execution_count": 91,
   "metadata": {},
   "outputs": [
    {
     "data": {
      "text/plain": [
       "<matplotlib.axes._subplots.AxesSubplot at 0x14c8578ddc8>"
      ]
     },
     "execution_count": 91,
     "metadata": {},
     "output_type": "execute_result"
    },
    {
     "data": {
      "image/png": "[encoded data removed]",
      "text/plain": [
       "<Figure size 432x288 with 1 Axes>"
      ]
     },
     "metadata": {
      "needs_background": "light"
     },
     "output_type": "display_data"
    }
   ],
   "source": [
    "sns.distplot(Revised_App_Data_Target_1['AGE'])"
   ]
  },
  {
   "cell_type": "code",
   "execution_count": 92,
   "metadata": {},
   "outputs": [
    {
     "data": {
      "text/plain": [
       "<matplotlib.axes._subplots.AxesSubplot at 0x14c8448c808>"
      ]
     },
     "execution_count": 92,
     "metadata": {},
     "output_type": "execute_result"
    },
    {
     "data": {
      "image/png": "[encoded data removed]",
      "text/plain": [
       "<Figure size 432x288 with 1 Axes>"
      ]
     },
     "metadata": {
      "needs_background": "light"
     },
     "output_type": "display_data"
    }
   ],
   "source": [
    "sns.boxplot(Revised_App_Data_Target_1['AGE'])"
   ]
  },
  {
   "cell_type": "markdown",
   "metadata": {},
   "source": [
    "#### Observation\n",
    "- Highest number of people who have applied for loan and defaulted are in age of 25-40 years.\n",
    "- right skewed distribution indicates that higher age indiviuals tend to have less payment difficulties"
   ]
  },
  {
   "cell_type": "code",
   "execution_count": 93,
   "metadata": {},
   "outputs": [
    {
     "data": {
      "text/plain": [
       "<matplotlib.axes._subplots.AxesSubplot at 0x14c844d2e08>"
      ]
     },
     "execution_count": 93,
     "metadata": {},
     "output_type": "execute_result"
    },
    {
     "data": {
      "image/png": "[encoded data removed]",
      "text/plain": [
       "<Figure size 432x288 with 1 Axes>"
      ]
     },
     "metadata": {
      "needs_background": "light"
     },
     "output_type": "display_data"
    }
   ],
   "source": [
    "sns.distplot(Revised_App_Data_Target_0['AGE'])"
   ]
  },
  {
   "cell_type": "code",
   "execution_count": 94,
   "metadata": {},
   "outputs": [
    {
     "data": {
      "text/plain": [
       "<matplotlib.axes._subplots.AxesSubplot at 0x14c856f5588>"
      ]
     },
     "execution_count": 94,
     "metadata": {},
     "output_type": "execute_result"
    },
    {
     "data": {
      "image/png": "[encoded data removed]",
      "text/plain": [
       "<Figure size 432x288 with 1 Axes>"
      ]
     },
     "metadata": {
      "needs_background": "light"
     },
     "output_type": "display_data"
    }
   ],
   "source": [
    "sns.boxplot(Revised_App_Data_Target_0['AGE'])"
   ]
  },
  {
   "cell_type": "markdown",
   "metadata": {},
   "source": [
    "#### Observation\n",
    "- For people with no payment difficulties data is relatively symmetrical. \n",
    "- From given data we say that people of all ages are likely to pay back money. Therefore we should look at other parameters"
   ]
  },
  {
   "cell_type": "markdown",
   "metadata": {},
   "source": [
    "### AMT_INCOME_TOTAL(Income of the client)\n"
   ]
  },
  {
   "cell_type": "code",
   "execution_count": 95,
   "metadata": {},
   "outputs": [
    {
     "data": {
      "text/plain": [
       "<matplotlib.axes._subplots.AxesSubplot at 0x14c844d2848>"
      ]
     },
     "execution_count": 95,
     "metadata": {},
     "output_type": "execute_result"
    },
    {
     "data": {
      "image/png": "[encoded data removed]",
      "text/plain": [
       "<Figure size 720x864 with 1 Axes>"
      ]
     },
     "metadata": {
      "needs_background": "light"
     },
     "output_type": "display_data"
    }
   ],
   "source": [
    "plt.figure(figsize=(10,12))\n",
    "sns.distplot(Revised_App_Data_Target_1[Revised_App_Data_Target_1['AMT_INCOME_TOTAL']<1000000]['AMT_INCOME_TOTAL'])"
   ]
  },
  {
   "cell_type": "code",
   "execution_count": 96,
   "metadata": {},
   "outputs": [
    {
     "data": {
      "text/plain": [
       "<matplotlib.axes._subplots.AxesSubplot at 0x14c85b96b08>"
      ]
     },
     "execution_count": 96,
     "metadata": {},
     "output_type": "execute_result"
    },
    {
     "data": {
      "image/png": "[encoded data removed]",
      "text/plain": [
       "<Figure size 720x864 with 1 Axes>"
      ]
     },
     "metadata": {
      "needs_background": "light"
     },
     "output_type": "display_data"
    }
   ],
   "source": [
    "plt.figure(figsize=(10,12))\n",
    "sns.distplot(Revised_App_Data_Target_0[Revised_App_Data_Target_0['AMT_INCOME_TOTAL']<1000000]['AMT_INCOME_TOTAL'])"
   ]
  },
  {
   "cell_type": "code",
   "execution_count": 97,
   "metadata": {},
   "outputs": [
    {
     "data": {
      "text/plain": [
       "count     24812.000000\n",
       "mean     160237.665827\n",
       "std       80988.062237\n",
       "min       25650.000000\n",
       "25%      112500.000000\n",
       "50%      135000.000000\n",
       "75%      202500.000000\n",
       "max      990000.000000\n",
       "Name: AMT_INCOME_TOTAL, dtype: float64"
      ]
     },
     "execution_count": 97,
     "metadata": {},
     "output_type": "execute_result"
    }
   ],
   "source": [
    "Revised_App_Data_Target_1[Revised_App_Data_Target_1['AMT_INCOME_TOTAL']<1000000]['AMT_INCOME_TOTAL'].describe()"
   ]
  },
  {
   "cell_type": "code",
   "execution_count": 98,
   "metadata": {},
   "outputs": [
    {
     "data": {
      "text/plain": [
       "count    2.482500e+04\n",
       "mean     1.656118e+05\n",
       "std      7.466770e+05\n",
       "min      2.565000e+04\n",
       "25%      1.125000e+05\n",
       "50%      1.350000e+05\n",
       "75%      2.025000e+05\n",
       "max      1.170000e+08\n",
       "Name: AMT_INCOME_TOTAL, dtype: float64"
      ]
     },
     "execution_count": 98,
     "metadata": {},
     "output_type": "execute_result"
    }
   ],
   "source": [
    "Revised_App_Data_Target_1['AMT_INCOME_TOTAL'].describe()"
   ]
  },
  {
   "cell_type": "code",
   "execution_count": 99,
   "metadata": {},
   "outputs": [
    {
     "data": {
      "text/plain": [
       "<matplotlib.axes._subplots.AxesSubplot at 0x14c98d61e48>"
      ]
     },
     "execution_count": 99,
     "metadata": {},
     "output_type": "execute_result"
    },
    {
     "data": {
      "image/png": "[encoded data removed]",
      "text/plain": [
       "<Figure size 1440x1080 with 2 Axes>"
      ]
     },
     "metadata": {
      "needs_background": "light"
     },
     "output_type": "display_data"
    }
   ],
   "source": [
    "plt.figure(figsize=(20,15))\n",
    "plt.subplot(121)\n",
    "plt.title('Target 1')\n",
    "# plt.yscale('log')\n",
    "sns.boxplot(y=Revised_App_Data_Target_1['AMT_INCOME_TOTAL'])\n",
    "plt.subplot(122)\n",
    "plt.title('Target 0')\n",
    "# plt.yscale('log')\n",
    "sns.boxplot(y=Revised_App_Data_Target_0['AMT_INCOME_TOTAL'])"
   ]
  },
  {
   "cell_type": "code",
   "execution_count": 100,
   "metadata": {},
   "outputs": [
    {
     "data": {
      "text/plain": [
       "<matplotlib.axes._subplots.AxesSubplot at 0x14c84511648>"
      ]
     },
     "execution_count": 100,
     "metadata": {},
     "output_type": "execute_result"
    },
    {
     "data": {
      "image/png": "[encoded data removed]",
      "text/plain": [
       "<Figure size 1440x1440 with 2 Axes>"
      ]
     },
     "metadata": {
      "needs_background": "light"
     },
     "output_type": "display_data"
    }
   ],
   "source": [
    "plt.figure(figsize=(20,20))\n",
    "plt.subplot(121)\n",
    "plt.title('Target 1')\n",
    "sns.boxplot(y=Revised_App_Data_Target_1[Revised_App_Data_Target_1['AMT_INCOME_TOTAL']<1000000]['AMT_INCOME_TOTAL'])\n",
    "plt.subplot(122)\n",
    "plt.title('Target 0')\n",
    "sns.boxplot(y=Revised_App_Data_Target_0[Revised_App_Data_Target_0['AMT_INCOME_TOTAL']<1000000]['AMT_INCOME_TOTAL'])"
   ]
  },
  {
   "cell_type": "code",
   "execution_count": 101,
   "metadata": {},
   "outputs": [
    {
     "data": {
      "text/plain": [
       "<matplotlib.axes._subplots.AxesSubplot at 0x14cee733b08>"
      ]
     },
     "execution_count": 101,
     "metadata": {},
     "output_type": "execute_result"
    },
    {
     "data": {
      "image/png": "[encoded data removed]",
      "text/plain": [
       "<Figure size 1440x1440 with 2 Axes>"
      ]
     },
     "metadata": {
      "needs_background": "light"
     },
     "output_type": "display_data"
    }
   ],
   "source": [
    "plt.figure(figsize=(20,20))\n",
    "plt.subplot(121)\n",
    "plt.title('Target 1')\n",
    "sns.boxplot(y=Revised_App_Data_Target_1[Revised_App_Data_Target_1['AMT_INCOME_TOTAL']<400000]['AMT_INCOME_TOTAL'])\n",
    "plt.subplot(122)\n",
    "plt.title('Target 0')\n",
    "sns.boxplot(y=Revised_App_Data_Target_0[Revised_App_Data_Target_0['AMT_INCOME_TOTAL']<400000]['AMT_INCOME_TOTAL'])"
   ]
  },
  {
   "cell_type": "markdown",
   "metadata": {},
   "source": [
    "#### Observation for above plots\n",
    "- For people with income more than 10 lac there is very less risk of default\n",
    "- People with income less than 3 lacs are most likely to face difficulties in payments\n",
    "- More specifically, majority of people who faced difficulties had income between 1 lac and 2 lacs approximately"
   ]
  },
  {
   "cell_type": "code",
   "execution_count": 102,
   "metadata": {},
   "outputs": [
    {
     "data": {
      "text/html": [
       "<div>\n",
       "<style scoped>\n",
       "    .dataframe tbody tr th:only-of-type {\n",
       "        vertical-align: middle;\n",
       "    }\n",
       "\n",
       "    .dataframe tbody tr th {\n",
       "        vertical-align: top;\n",
       "    }\n",
       "\n",
       "    .dataframe thead th {\n",
       "        text-align: right;\n",
       "    }\n",
       "</style>\n",
       "<table border=\"1\" class=\"dataframe\">\n",
       "  <thead>\n",
       "    <tr style=\"text-align: right;\">\n",
       "      <th></th>\n",
       "      <th>SK_ID_CURR</th>\n",
       "      <th>TARGET</th>\n",
       "      <th>NAME_CONTRACT_TYPE</th>\n",
       "      <th>CODE_GENDER</th>\n",
       "      <th>FLAG_OWN_REALTY</th>\n",
       "      <th>CNT_CHILDREN</th>\n",
       "      <th>AMT_INCOME_TOTAL</th>\n",
       "      <th>AMT_CREDIT</th>\n",
       "      <th>AMT_ANNUITY</th>\n",
       "      <th>NAME_INCOME_TYPE</th>\n",
       "      <th>...</th>\n",
       "      <th>EXT_SOURCE_2</th>\n",
       "      <th>DEF_30_CNT_SOCIAL_CIRCLE</th>\n",
       "      <th>DAYS_LAST_PHONE_CHANGE</th>\n",
       "      <th>FLAG_DOCUMENT_2</th>\n",
       "      <th>FLAG_DOCUMENT_3</th>\n",
       "      <th>AMT_REQ_CREDIT_BUREAU_HOUR</th>\n",
       "      <th>AMT_REQ_CREDIT_BUREAU_WEEK</th>\n",
       "      <th>income_bins</th>\n",
       "      <th>AGE</th>\n",
       "      <th>AgeGroup</th>\n",
       "    </tr>\n",
       "  </thead>\n",
       "  <tbody>\n",
       "    <tr>\n",
       "      <td>0</td>\n",
       "      <td>100002</td>\n",
       "      <td>1</td>\n",
       "      <td>Cash loans</td>\n",
       "      <td>M</td>\n",
       "      <td>Y</td>\n",
       "      <td>0</td>\n",
       "      <td>202500.0</td>\n",
       "      <td>406597.5</td>\n",
       "      <td>24700.5</td>\n",
       "      <td>Working</td>\n",
       "      <td>...</td>\n",
       "      <td>0.262949</td>\n",
       "      <td>2</td>\n",
       "      <td>-1134</td>\n",
       "      <td>0</td>\n",
       "      <td>1</td>\n",
       "      <td>0</td>\n",
       "      <td>0.0</td>\n",
       "      <td>2lac-2.5lac</td>\n",
       "      <td>25.92</td>\n",
       "      <td>20-30</td>\n",
       "    </tr>\n",
       "    <tr>\n",
       "      <td>1</td>\n",
       "      <td>100003</td>\n",
       "      <td>0</td>\n",
       "      <td>Cash loans</td>\n",
       "      <td>F</td>\n",
       "      <td>N</td>\n",
       "      <td>0</td>\n",
       "      <td>270000.0</td>\n",
       "      <td>1293502.5</td>\n",
       "      <td>35698.5</td>\n",
       "      <td>State servant</td>\n",
       "      <td>...</td>\n",
       "      <td>0.622246</td>\n",
       "      <td>0</td>\n",
       "      <td>-828</td>\n",
       "      <td>0</td>\n",
       "      <td>1</td>\n",
       "      <td>0</td>\n",
       "      <td>0.0</td>\n",
       "      <td>2.5lac-3lac</td>\n",
       "      <td>45.93</td>\n",
       "      <td>40-50</td>\n",
       "    </tr>\n",
       "    <tr>\n",
       "      <td>2</td>\n",
       "      <td>100004</td>\n",
       "      <td>0</td>\n",
       "      <td>Revolving loans</td>\n",
       "      <td>M</td>\n",
       "      <td>Y</td>\n",
       "      <td>0</td>\n",
       "      <td>67500.0</td>\n",
       "      <td>135000.0</td>\n",
       "      <td>6750.0</td>\n",
       "      <td>Working</td>\n",
       "      <td>...</td>\n",
       "      <td>0.555912</td>\n",
       "      <td>0</td>\n",
       "      <td>-815</td>\n",
       "      <td>0</td>\n",
       "      <td>0</td>\n",
       "      <td>0</td>\n",
       "      <td>0.0</td>\n",
       "      <td>50k-1 lac</td>\n",
       "      <td>52.18</td>\n",
       "      <td>50-60</td>\n",
       "    </tr>\n",
       "    <tr>\n",
       "      <td>3</td>\n",
       "      <td>100006</td>\n",
       "      <td>0</td>\n",
       "      <td>Cash loans</td>\n",
       "      <td>F</td>\n",
       "      <td>Y</td>\n",
       "      <td>0</td>\n",
       "      <td>135000.0</td>\n",
       "      <td>312682.5</td>\n",
       "      <td>29686.5</td>\n",
       "      <td>Working</td>\n",
       "      <td>...</td>\n",
       "      <td>0.650442</td>\n",
       "      <td>0</td>\n",
       "      <td>-617</td>\n",
       "      <td>0</td>\n",
       "      <td>1</td>\n",
       "      <td>0</td>\n",
       "      <td>0.0</td>\n",
       "      <td>1 lac-1.5 lac</td>\n",
       "      <td>52.07</td>\n",
       "      <td>50-60</td>\n",
       "    </tr>\n",
       "    <tr>\n",
       "      <td>4</td>\n",
       "      <td>100007</td>\n",
       "      <td>0</td>\n",
       "      <td>Cash loans</td>\n",
       "      <td>M</td>\n",
       "      <td>Y</td>\n",
       "      <td>0</td>\n",
       "      <td>121500.0</td>\n",
       "      <td>513000.0</td>\n",
       "      <td>21865.5</td>\n",
       "      <td>Working</td>\n",
       "      <td>...</td>\n",
       "      <td>0.322738</td>\n",
       "      <td>0</td>\n",
       "      <td>-1106</td>\n",
       "      <td>0</td>\n",
       "      <td>0</td>\n",
       "      <td>0</td>\n",
       "      <td>0.0</td>\n",
       "      <td>1 lac-1.5 lac</td>\n",
       "      <td>54.61</td>\n",
       "      <td>50-60</td>\n",
       "    </tr>\n",
       "  </tbody>\n",
       "</table>\n",
       "<p>5 rows × 33 columns</p>\n",
       "</div>"
      ],
      "text/plain": [
       "   SK_ID_CURR  TARGET NAME_CONTRACT_TYPE CODE_GENDER FLAG_OWN_REALTY  \\\n",
       "0      100002       1         Cash loans           M               Y   \n",
       "1      100003       0         Cash loans           F               N   \n",
       "2      100004       0    Revolving loans           M               Y   \n",
       "3      100006       0         Cash loans           F               Y   \n",
       "4      100007       0         Cash loans           M               Y   \n",
       "\n",
       "   CNT_CHILDREN  AMT_INCOME_TOTAL  AMT_CREDIT  AMT_ANNUITY NAME_INCOME_TYPE  \\\n",
       "0             0          202500.0    406597.5      24700.5          Working   \n",
       "1             0          270000.0   1293502.5      35698.5    State servant   \n",
       "2             0           67500.0    135000.0       6750.0          Working   \n",
       "3             0          135000.0    312682.5      29686.5          Working   \n",
       "4             0          121500.0    513000.0      21865.5          Working   \n",
       "\n",
       "   ... EXT_SOURCE_2 DEF_30_CNT_SOCIAL_CIRCLE  DAYS_LAST_PHONE_CHANGE  \\\n",
       "0  ...     0.262949                        2                   -1134   \n",
       "1  ...     0.622246                        0                    -828   \n",
       "2  ...     0.555912                        0                    -815   \n",
       "3  ...     0.650442                        0                    -617   \n",
       "4  ...     0.322738                        0                   -1106   \n",
       "\n",
       "   FLAG_DOCUMENT_2  FLAG_DOCUMENT_3  AMT_REQ_CREDIT_BUREAU_HOUR  \\\n",
       "0                0                1                           0   \n",
       "1                0                1                           0   \n",
       "2                0                0                           0   \n",
       "3                0                1                           0   \n",
       "4                0                0                           0   \n",
       "\n",
       "   AMT_REQ_CREDIT_BUREAU_WEEK    income_bins    AGE  AgeGroup  \n",
       "0                         0.0    2lac-2.5lac  25.92     20-30  \n",
       "1                         0.0    2.5lac-3lac  45.93     40-50  \n",
       "2                         0.0      50k-1 lac  52.18     50-60  \n",
       "3                         0.0  1 lac-1.5 lac  52.07     50-60  \n",
       "4                         0.0  1 lac-1.5 lac  54.61     50-60  \n",
       "\n",
       "[5 rows x 33 columns]"
      ]
     },
     "execution_count": 102,
     "metadata": {},
     "output_type": "execute_result"
    }
   ],
   "source": [
    "applicationDataRevised.head()"
   ]
  },
  {
   "cell_type": "markdown",
   "metadata": {},
   "source": [
    "### AMT_ANNUITY"
   ]
  },
  {
   "cell_type": "code",
   "execution_count": 103,
   "metadata": {},
   "outputs": [
    {
     "data": {
      "text/plain": [
       "count     24825.000000\n",
       "mean      26481.744290\n",
       "std       12450.676999\n",
       "min        2722.500000\n",
       "25%       17361.000000\n",
       "50%       25263.000000\n",
       "75%       32976.000000\n",
       "max      149211.000000\n",
       "Name: AMT_ANNUITY, dtype: float64"
      ]
     },
     "execution_count": 103,
     "metadata": {},
     "output_type": "execute_result"
    }
   ],
   "source": [
    "Revised_App_Data_Target_1['AMT_ANNUITY'].describe()"
   ]
  },
  {
   "cell_type": "code",
   "execution_count": 104,
   "metadata": {},
   "outputs": [
    {
     "data": {
      "text/plain": [
       "count    282674.000000\n",
       "mean      27163.623349\n",
       "std       14658.307178\n",
       "min        1615.500000\n",
       "25%       16456.500000\n",
       "50%       24876.000000\n",
       "75%       34749.000000\n",
       "max      258025.500000\n",
       "Name: AMT_ANNUITY, dtype: float64"
      ]
     },
     "execution_count": 104,
     "metadata": {},
     "output_type": "execute_result"
    }
   ],
   "source": [
    "Revised_App_Data_Target_0['AMT_ANNUITY'].describe()"
   ]
  },
  {
   "cell_type": "code",
   "execution_count": 105,
   "metadata": {},
   "outputs": [
    {
     "data": {
      "text/plain": [
       "12"
      ]
     },
     "execution_count": 105,
     "metadata": {},
     "output_type": "execute_result"
    }
   ],
   "source": [
    "Revised_App_Data_Target_0['AMT_ANNUITY'].isnull().sum()"
   ]
  },
  {
   "cell_type": "code",
   "execution_count": 106,
   "metadata": {},
   "outputs": [
    {
     "data": {
      "text/plain": [
       "<matplotlib.axes._subplots.AxesSubplot at 0x14c841468c8>"
      ]
     },
     "execution_count": 106,
     "metadata": {},
     "output_type": "execute_result"
    },
    {
     "data": {
      "image/png": "[encoded data removed]",
      "text/plain": [
       "<Figure size 1440x1440 with 2 Axes>"
      ]
     },
     "metadata": {
      "needs_background": "light"
     },
     "output_type": "display_data"
    }
   ],
   "source": [
    "plt.figure(figsize=(20,20))\n",
    "plt.subplot(211)\n",
    "plt.title('Target 1')\n",
    "sns.distplot(Revised_App_Data_Target_1[Revised_App_Data_Target_1['AMT_ANNUITY']<100000]['AMT_ANNUITY'])\n",
    "\n",
    "plt.subplot(212)\n",
    "plt.title('Target 0')\n",
    "sns.distplot(Revised_App_Data_Target_0[Revised_App_Data_Target_0['AMT_ANNUITY']<100000]['AMT_ANNUITY'].dropna())"
   ]
  },
  {
   "cell_type": "code",
   "execution_count": 112,
   "metadata": {},
   "outputs": [
    {
     "data": {
      "text/plain": [
       "<matplotlib.axes._subplots.AxesSubplot at 0x14c98918f88>"
      ]
     },
     "execution_count": 112,
     "metadata": {},
     "output_type": "execute_result"
    },
    {
     "data": {
      "image/png": "[encoded data removed]",
      "text/plain": [
       "<Figure size 720x720 with 2 Axes>"
      ]
     },
     "metadata": {
      "needs_background": "light"
     },
     "output_type": "display_data"
    }
   ],
   "source": [
    "plt.figure(figsize=(10,10))\n",
    "plt.subplot(121)\n",
    "plt.title('Target 1')\n",
    "sns.boxplot(y=Revised_App_Data_Target_1['AMT_ANNUITY'].dropna())\n",
    "\n",
    "plt.subplot(122)\n",
    "plt.title('Target 0')\n",
    "sns.boxplot(y=Revised_App_Data_Target_0['AMT_ANNUITY'].dropna())"
   ]
  },
  {
   "cell_type": "code",
   "execution_count": 109,
   "metadata": {},
   "outputs": [
    {
     "data": {
      "text/plain": [
       "<matplotlib.axes._subplots.AxesSubplot at 0x14c987cd108>"
      ]
     },
     "execution_count": 109,
     "metadata": {},
     "output_type": "execute_result"
    },
    {
     "data": {
      "image/png": "[encoded data removed]",
      "text/plain": [
       "<Figure size 1440x1440 with 1 Axes>"
      ]
     },
     "metadata": {
      "needs_background": "light"
     },
     "output_type": "display_data"
    }
   ],
   "source": [
    "plt.figure(figsize=(20,20))\n",
    "sns.boxplot(data=applicationDataRevised, x='TARGET', y='AMT_ANNUITY')"
   ]
  },
  {
   "cell_type": "code",
   "execution_count": 110,
   "metadata": {},
   "outputs": [
    {
     "data": {
      "text/plain": [
       "array(['Single / not married', 'Married', 'Civil marriage', 'Widow',\n",
       "       'Separated', 'Unknown'], dtype=object)"
      ]
     },
     "execution_count": 110,
     "metadata": {},
     "output_type": "execute_result"
    }
   ],
   "source": [
    "applicationDataRevised['NAME_FAMILY_STATUS'].unique()"
   ]
  },
  {
   "cell_type": "code",
   "execution_count": null,
   "metadata": {},
   "outputs": [],
   "source": [
    "sns.scatterplot('Sales', 'Profit', df)\n",
    "plt.show()"
   ]
  }
 ],
 "metadata": {
  "kernelspec": {
   "display_name": "Python 3",
   "language": "python",
   "name": "python3"
  },
  "language_info": {
   "codemirror_mode": {
    "name": "ipython",
    "version": 3
   },
   "file_extension": ".py",
   "mimetype": "text/x-python",
   "name": "python",
   "nbconvert_exporter": "python",
   "pygments_lexer": "ipython3",
   "version": "3.7.4"
  }
 },
 "nbformat": 4,
 "nbformat_minor": 2
}
