{
 "cells": [
  {
   "cell_type": "markdown",
   "metadata": {},
   "source": [
    "### Step 1: Importing and Merging Data"
   ]
  },
  {
   "cell_type": "code",
   "execution_count": 1,
   "metadata": {},
   "outputs": [],
   "source": [
    "# Suppressing Warnings\n",
    "import warnings\n",
    "warnings.filterwarnings('ignore')"
   ]
  },
  {
   "cell_type": "code",
   "execution_count": 2,
   "metadata": {},
   "outputs": [],
   "source": [
    "import pandas as pd\n",
    "import numpy as np\n",
    "import matplotlib.pyplot as plt\n",
    "import seaborn as sns\n",
    "import math"
   ]
  },
  {
   "cell_type": "code",
   "execution_count": 3,
   "metadata": {},
   "outputs": [],
   "source": [
    "pd.set_option('display.max_columns', None)"
   ]
  },
  {
   "cell_type": "code",
   "execution_count": 4,
   "metadata": {},
   "outputs": [],
   "source": [
    "from sklearn.preprocessing import StandardScaler\n",
    "from sklearn.model_selection import train_test_split\n",
    "import statsmodels.api as sm\n",
    "from sklearn.linear_model import LogisticRegression\n",
    "from sklearn.feature_selection import RFE\n",
    "from sklearn import metrics\n",
    "from statsmodels.stats.outliers_influence import variance_inflation_factor"
   ]
  },
  {
   "cell_type": "code",
   "execution_count": 5,
   "metadata": {},
   "outputs": [],
   "source": [
    "def replace_low_freq(df, threshold=100, replacement='other'):\n",
    "    s = df.stack()\n",
    "    c = s.value_counts()\n",
    "    m = pd.Series(replacement, c.index[c <= threshold])\n",
    "    return s.replace(m).unstack()\n"
   ]
  },
  {
   "cell_type": "code",
   "execution_count": 6,
   "metadata": {},
   "outputs": [
    {
     "data": {
      "text/html": [
       "<div>\n",
       "<style scoped>\n",
       "    .dataframe tbody tr th:only-of-type {\n",
       "        vertical-align: middle;\n",
       "    }\n",
       "\n",
       "    .dataframe tbody tr th {\n",
       "        vertical-align: top;\n",
       "    }\n",
       "\n",
       "    .dataframe thead th {\n",
       "        text-align: right;\n",
       "    }\n",
       "</style>\n",
       "<table border=\"1\" class=\"dataframe\">\n",
       "  <thead>\n",
       "    <tr style=\"text-align: right;\">\n",
       "      <th></th>\n",
       "      <th>Prospect ID</th>\n",
       "      <th>Lead Number</th>\n",
       "      <th>Lead Origin</th>\n",
       "      <th>Lead Source</th>\n",
       "      <th>Do Not Email</th>\n",
       "      <th>Do Not Call</th>\n",
       "      <th>Converted</th>\n",
       "      <th>TotalVisits</th>\n",
       "      <th>Total Time Spent on Website</th>\n",
       "      <th>Page Views Per Visit</th>\n",
       "      <th>Last Activity</th>\n",
       "      <th>Country</th>\n",
       "      <th>Specialization</th>\n",
       "      <th>How did you hear about X Education</th>\n",
       "      <th>What is your current occupation</th>\n",
       "      <th>What matters most to you in choosing a course</th>\n",
       "      <th>Search</th>\n",
       "      <th>Magazine</th>\n",
       "      <th>Newspaper Article</th>\n",
       "      <th>X Education Forums</th>\n",
       "      <th>Newspaper</th>\n",
       "      <th>Digital Advertisement</th>\n",
       "      <th>Through Recommendations</th>\n",
       "      <th>Receive More Updates About Our Courses</th>\n",
       "      <th>Tags</th>\n",
       "      <th>Lead Quality</th>\n",
       "      <th>Update me on Supply Chain Content</th>\n",
       "      <th>Get updates on DM Content</th>\n",
       "      <th>Lead Profile</th>\n",
       "      <th>City</th>\n",
       "      <th>Asymmetrique Activity Index</th>\n",
       "      <th>Asymmetrique Profile Index</th>\n",
       "      <th>Asymmetrique Activity Score</th>\n",
       "      <th>Asymmetrique Profile Score</th>\n",
       "      <th>I agree to pay the amount through cheque</th>\n",
       "      <th>A free copy of Mastering The Interview</th>\n",
       "      <th>Last Notable Activity</th>\n",
       "    </tr>\n",
       "  </thead>\n",
       "  <tbody>\n",
       "    <tr>\n",
       "      <th>0</th>\n",
       "      <td>7927b2df-8bba-4d29-b9a2-b6e0beafe620</td>\n",
       "      <td>660737</td>\n",
       "      <td>API</td>\n",
       "      <td>Olark Chat</td>\n",
       "      <td>No</td>\n",
       "      <td>No</td>\n",
       "      <td>0</td>\n",
       "      <td>0.0</td>\n",
       "      <td>0</td>\n",
       "      <td>0.0</td>\n",
       "      <td>Page Visited on Website</td>\n",
       "      <td>NaN</td>\n",
       "      <td>Select</td>\n",
       "      <td>Select</td>\n",
       "      <td>Unemployed</td>\n",
       "      <td>Better Career Prospects</td>\n",
       "      <td>No</td>\n",
       "      <td>No</td>\n",
       "      <td>No</td>\n",
       "      <td>No</td>\n",
       "      <td>No</td>\n",
       "      <td>No</td>\n",
       "      <td>No</td>\n",
       "      <td>No</td>\n",
       "      <td>Interested in other courses</td>\n",
       "      <td>Low in Relevance</td>\n",
       "      <td>No</td>\n",
       "      <td>No</td>\n",
       "      <td>Select</td>\n",
       "      <td>Select</td>\n",
       "      <td>02.Medium</td>\n",
       "      <td>02.Medium</td>\n",
       "      <td>15.0</td>\n",
       "      <td>15.0</td>\n",
       "      <td>No</td>\n",
       "      <td>No</td>\n",
       "      <td>Modified</td>\n",
       "    </tr>\n",
       "    <tr>\n",
       "      <th>1</th>\n",
       "      <td>2a272436-5132-4136-86fa-dcc88c88f482</td>\n",
       "      <td>660728</td>\n",
       "      <td>API</td>\n",
       "      <td>Organic Search</td>\n",
       "      <td>No</td>\n",
       "      <td>No</td>\n",
       "      <td>0</td>\n",
       "      <td>5.0</td>\n",
       "      <td>674</td>\n",
       "      <td>2.5</td>\n",
       "      <td>Email Opened</td>\n",
       "      <td>India</td>\n",
       "      <td>Select</td>\n",
       "      <td>Select</td>\n",
       "      <td>Unemployed</td>\n",
       "      <td>Better Career Prospects</td>\n",
       "      <td>No</td>\n",
       "      <td>No</td>\n",
       "      <td>No</td>\n",
       "      <td>No</td>\n",
       "      <td>No</td>\n",
       "      <td>No</td>\n",
       "      <td>No</td>\n",
       "      <td>No</td>\n",
       "      <td>Ringing</td>\n",
       "      <td>NaN</td>\n",
       "      <td>No</td>\n",
       "      <td>No</td>\n",
       "      <td>Select</td>\n",
       "      <td>Select</td>\n",
       "      <td>02.Medium</td>\n",
       "      <td>02.Medium</td>\n",
       "      <td>15.0</td>\n",
       "      <td>15.0</td>\n",
       "      <td>No</td>\n",
       "      <td>No</td>\n",
       "      <td>Email Opened</td>\n",
       "    </tr>\n",
       "    <tr>\n",
       "      <th>2</th>\n",
       "      <td>8cc8c611-a219-4f35-ad23-fdfd2656bd8a</td>\n",
       "      <td>660727</td>\n",
       "      <td>Landing Page Submission</td>\n",
       "      <td>Direct Traffic</td>\n",
       "      <td>No</td>\n",
       "      <td>No</td>\n",
       "      <td>1</td>\n",
       "      <td>2.0</td>\n",
       "      <td>1532</td>\n",
       "      <td>2.0</td>\n",
       "      <td>Email Opened</td>\n",
       "      <td>India</td>\n",
       "      <td>Business Administration</td>\n",
       "      <td>Select</td>\n",
       "      <td>Student</td>\n",
       "      <td>Better Career Prospects</td>\n",
       "      <td>No</td>\n",
       "      <td>No</td>\n",
       "      <td>No</td>\n",
       "      <td>No</td>\n",
       "      <td>No</td>\n",
       "      <td>No</td>\n",
       "      <td>No</td>\n",
       "      <td>No</td>\n",
       "      <td>Will revert after reading the email</td>\n",
       "      <td>Might be</td>\n",
       "      <td>No</td>\n",
       "      <td>No</td>\n",
       "      <td>Potential Lead</td>\n",
       "      <td>Mumbai</td>\n",
       "      <td>02.Medium</td>\n",
       "      <td>01.High</td>\n",
       "      <td>14.0</td>\n",
       "      <td>20.0</td>\n",
       "      <td>No</td>\n",
       "      <td>Yes</td>\n",
       "      <td>Email Opened</td>\n",
       "    </tr>\n",
       "    <tr>\n",
       "      <th>3</th>\n",
       "      <td>0cc2df48-7cf4-4e39-9de9-19797f9b38cc</td>\n",
       "      <td>660719</td>\n",
       "      <td>Landing Page Submission</td>\n",
       "      <td>Direct Traffic</td>\n",
       "      <td>No</td>\n",
       "      <td>No</td>\n",
       "      <td>0</td>\n",
       "      <td>1.0</td>\n",
       "      <td>305</td>\n",
       "      <td>1.0</td>\n",
       "      <td>Unreachable</td>\n",
       "      <td>India</td>\n",
       "      <td>Media and Advertising</td>\n",
       "      <td>Word Of Mouth</td>\n",
       "      <td>Unemployed</td>\n",
       "      <td>Better Career Prospects</td>\n",
       "      <td>No</td>\n",
       "      <td>No</td>\n",
       "      <td>No</td>\n",
       "      <td>No</td>\n",
       "      <td>No</td>\n",
       "      <td>No</td>\n",
       "      <td>No</td>\n",
       "      <td>No</td>\n",
       "      <td>Ringing</td>\n",
       "      <td>Not Sure</td>\n",
       "      <td>No</td>\n",
       "      <td>No</td>\n",
       "      <td>Select</td>\n",
       "      <td>Mumbai</td>\n",
       "      <td>02.Medium</td>\n",
       "      <td>01.High</td>\n",
       "      <td>13.0</td>\n",
       "      <td>17.0</td>\n",
       "      <td>No</td>\n",
       "      <td>No</td>\n",
       "      <td>Modified</td>\n",
       "    </tr>\n",
       "    <tr>\n",
       "      <th>4</th>\n",
       "      <td>3256f628-e534-4826-9d63-4a8b88782852</td>\n",
       "      <td>660681</td>\n",
       "      <td>Landing Page Submission</td>\n",
       "      <td>Google</td>\n",
       "      <td>No</td>\n",
       "      <td>No</td>\n",
       "      <td>1</td>\n",
       "      <td>2.0</td>\n",
       "      <td>1428</td>\n",
       "      <td>1.0</td>\n",
       "      <td>Converted to Lead</td>\n",
       "      <td>India</td>\n",
       "      <td>Select</td>\n",
       "      <td>Other</td>\n",
       "      <td>Unemployed</td>\n",
       "      <td>Better Career Prospects</td>\n",
       "      <td>No</td>\n",
       "      <td>No</td>\n",
       "      <td>No</td>\n",
       "      <td>No</td>\n",
       "      <td>No</td>\n",
       "      <td>No</td>\n",
       "      <td>No</td>\n",
       "      <td>No</td>\n",
       "      <td>Will revert after reading the email</td>\n",
       "      <td>Might be</td>\n",
       "      <td>No</td>\n",
       "      <td>No</td>\n",
       "      <td>Select</td>\n",
       "      <td>Mumbai</td>\n",
       "      <td>02.Medium</td>\n",
       "      <td>01.High</td>\n",
       "      <td>15.0</td>\n",
       "      <td>18.0</td>\n",
       "      <td>No</td>\n",
       "      <td>No</td>\n",
       "      <td>Modified</td>\n",
       "    </tr>\n",
       "  </tbody>\n",
       "</table>\n",
       "</div>"
      ],
      "text/plain": [
       "                            Prospect ID  Lead Number              Lead Origin  \\\n",
       "0  7927b2df-8bba-4d29-b9a2-b6e0beafe620       660737                      API   \n",
       "1  2a272436-5132-4136-86fa-dcc88c88f482       660728                      API   \n",
       "2  8cc8c611-a219-4f35-ad23-fdfd2656bd8a       660727  Landing Page Submission   \n",
       "3  0cc2df48-7cf4-4e39-9de9-19797f9b38cc       660719  Landing Page Submission   \n",
       "4  3256f628-e534-4826-9d63-4a8b88782852       660681  Landing Page Submission   \n",
       "\n",
       "      Lead Source Do Not Email Do Not Call  Converted  TotalVisits  \\\n",
       "0      Olark Chat           No          No          0          0.0   \n",
       "1  Organic Search           No          No          0          5.0   \n",
       "2  Direct Traffic           No          No          1          2.0   \n",
       "3  Direct Traffic           No          No          0          1.0   \n",
       "4          Google           No          No          1          2.0   \n",
       "\n",
       "   Total Time Spent on Website  Page Views Per Visit            Last Activity  \\\n",
       "0                            0                   0.0  Page Visited on Website   \n",
       "1                          674                   2.5             Email Opened   \n",
       "2                         1532                   2.0             Email Opened   \n",
       "3                          305                   1.0              Unreachable   \n",
       "4                         1428                   1.0        Converted to Lead   \n",
       "\n",
       "  Country           Specialization How did you hear about X Education  \\\n",
       "0     NaN                   Select                             Select   \n",
       "1   India                   Select                             Select   \n",
       "2   India  Business Administration                             Select   \n",
       "3   India    Media and Advertising                      Word Of Mouth   \n",
       "4   India                   Select                              Other   \n",
       "\n",
       "  What is your current occupation  \\\n",
       "0                      Unemployed   \n",
       "1                      Unemployed   \n",
       "2                         Student   \n",
       "3                      Unemployed   \n",
       "4                      Unemployed   \n",
       "\n",
       "  What matters most to you in choosing a course Search Magazine  \\\n",
       "0                       Better Career Prospects     No       No   \n",
       "1                       Better Career Prospects     No       No   \n",
       "2                       Better Career Prospects     No       No   \n",
       "3                       Better Career Prospects     No       No   \n",
       "4                       Better Career Prospects     No       No   \n",
       "\n",
       "  Newspaper Article X Education Forums Newspaper Digital Advertisement  \\\n",
       "0                No                 No        No                    No   \n",
       "1                No                 No        No                    No   \n",
       "2                No                 No        No                    No   \n",
       "3                No                 No        No                    No   \n",
       "4                No                 No        No                    No   \n",
       "\n",
       "  Through Recommendations Receive More Updates About Our Courses  \\\n",
       "0                      No                                     No   \n",
       "1                      No                                     No   \n",
       "2                      No                                     No   \n",
       "3                      No                                     No   \n",
       "4                      No                                     No   \n",
       "\n",
       "                                  Tags      Lead Quality  \\\n",
       "0          Interested in other courses  Low in Relevance   \n",
       "1                              Ringing               NaN   \n",
       "2  Will revert after reading the email          Might be   \n",
       "3                              Ringing          Not Sure   \n",
       "4  Will revert after reading the email          Might be   \n",
       "\n",
       "  Update me on Supply Chain Content Get updates on DM Content    Lead Profile  \\\n",
       "0                                No                        No          Select   \n",
       "1                                No                        No          Select   \n",
       "2                                No                        No  Potential Lead   \n",
       "3                                No                        No          Select   \n",
       "4                                No                        No          Select   \n",
       "\n",
       "     City Asymmetrique Activity Index Asymmetrique Profile Index  \\\n",
       "0  Select                   02.Medium                  02.Medium   \n",
       "1  Select                   02.Medium                  02.Medium   \n",
       "2  Mumbai                   02.Medium                    01.High   \n",
       "3  Mumbai                   02.Medium                    01.High   \n",
       "4  Mumbai                   02.Medium                    01.High   \n",
       "\n",
       "   Asymmetrique Activity Score  Asymmetrique Profile Score  \\\n",
       "0                         15.0                        15.0   \n",
       "1                         15.0                        15.0   \n",
       "2                         14.0                        20.0   \n",
       "3                         13.0                        17.0   \n",
       "4                         15.0                        18.0   \n",
       "\n",
       "  I agree to pay the amount through cheque  \\\n",
       "0                                       No   \n",
       "1                                       No   \n",
       "2                                       No   \n",
       "3                                       No   \n",
       "4                                       No   \n",
       "\n",
       "  A free copy of Mastering The Interview Last Notable Activity  \n",
       "0                                     No              Modified  \n",
       "1                                     No          Email Opened  \n",
       "2                                    Yes          Email Opened  \n",
       "3                                     No              Modified  \n",
       "4                                     No              Modified  "
      ]
     },
     "execution_count": 6,
     "metadata": {},
     "output_type": "execute_result"
    }
   ],
   "source": [
    "# Importing dataset\n",
    "leads = pd.read_csv(\"Leads.csv\")\n",
    "leads.head()"
   ]
  },
  {
   "cell_type": "markdown",
   "metadata": {},
   "source": [
    "### Step 2: Inspecting the Dataframe"
   ]
  },
  {
   "cell_type": "code",
   "execution_count": 7,
   "metadata": {},
   "outputs": [
    {
     "data": {
      "text/plain": [
       "(9240, 37)"
      ]
     },
     "execution_count": 7,
     "metadata": {},
     "output_type": "execute_result"
    }
   ],
   "source": [
    "# Let's check the dimensions of the dataframe\n",
    "leads.shape"
   ]
  },
  {
   "cell_type": "code",
   "execution_count": 8,
   "metadata": {},
   "outputs": [
    {
     "data": {
      "text/html": [
       "<div>\n",
       "<style scoped>\n",
       "    .dataframe tbody tr th:only-of-type {\n",
       "        vertical-align: middle;\n",
       "    }\n",
       "\n",
       "    .dataframe tbody tr th {\n",
       "        vertical-align: top;\n",
       "    }\n",
       "\n",
       "    .dataframe thead th {\n",
       "        text-align: right;\n",
       "    }\n",
       "</style>\n",
       "<table border=\"1\" class=\"dataframe\">\n",
       "  <thead>\n",
       "    <tr style=\"text-align: right;\">\n",
       "      <th></th>\n",
       "      <th>ProspectId</th>\n",
       "      <th>LeadNumber</th>\n",
       "      <th>LeadOrigin</th>\n",
       "      <th>LeadSource</th>\n",
       "      <th>DoNotEmail</th>\n",
       "      <th>DoNotCall</th>\n",
       "      <th>Converted</th>\n",
       "      <th>Totalvisits</th>\n",
       "      <th>TotalTimeSpentOnWebsite</th>\n",
       "      <th>PageViewsPerVisit</th>\n",
       "      <th>LastActivity</th>\n",
       "      <th>Country</th>\n",
       "      <th>Specialization</th>\n",
       "      <th>HowDidYouHearAboutXEducation</th>\n",
       "      <th>WhatIsYourCurrentOccupation</th>\n",
       "      <th>WhatMattersMostToYouInChoosingACourse</th>\n",
       "      <th>Search</th>\n",
       "      <th>Magazine</th>\n",
       "      <th>NewspaperArticle</th>\n",
       "      <th>XEducationForums</th>\n",
       "      <th>Newspaper</th>\n",
       "      <th>DigitalAdvertisement</th>\n",
       "      <th>ThroughRecommendations</th>\n",
       "      <th>ReceiveMoreUpdatesAboutOurCourses</th>\n",
       "      <th>Tags</th>\n",
       "      <th>LeadQuality</th>\n",
       "      <th>UpdateMeOnSupplyChainContent</th>\n",
       "      <th>GetUpdatesOnDmContent</th>\n",
       "      <th>LeadProfile</th>\n",
       "      <th>City</th>\n",
       "      <th>AsymmetriqueActivityIndex</th>\n",
       "      <th>AsymmetriqueProfileIndex</th>\n",
       "      <th>AsymmetriqueActivityScore</th>\n",
       "      <th>AsymmetriqueProfileScore</th>\n",
       "      <th>IAgreeToPayTheAmountThroughCheque</th>\n",
       "      <th>AFreeCopyOfMasteringTheInterview</th>\n",
       "      <th>LastNotableActivity</th>\n",
       "    </tr>\n",
       "  </thead>\n",
       "  <tbody>\n",
       "    <tr>\n",
       "      <th>0</th>\n",
       "      <td>7927b2df-8bba-4d29-b9a2-b6e0beafe620</td>\n",
       "      <td>660737</td>\n",
       "      <td>API</td>\n",
       "      <td>Olark Chat</td>\n",
       "      <td>No</td>\n",
       "      <td>No</td>\n",
       "      <td>0</td>\n",
       "      <td>0.0</td>\n",
       "      <td>0</td>\n",
       "      <td>0.0</td>\n",
       "      <td>Page Visited on Website</td>\n",
       "      <td>NaN</td>\n",
       "      <td>Select</td>\n",
       "      <td>Select</td>\n",
       "      <td>Unemployed</td>\n",
       "      <td>Better Career Prospects</td>\n",
       "      <td>No</td>\n",
       "      <td>No</td>\n",
       "      <td>No</td>\n",
       "      <td>No</td>\n",
       "      <td>No</td>\n",
       "      <td>No</td>\n",
       "      <td>No</td>\n",
       "      <td>No</td>\n",
       "      <td>Interested in other courses</td>\n",
       "      <td>Low in Relevance</td>\n",
       "      <td>No</td>\n",
       "      <td>No</td>\n",
       "      <td>Select</td>\n",
       "      <td>Select</td>\n",
       "      <td>02.Medium</td>\n",
       "      <td>02.Medium</td>\n",
       "      <td>15.0</td>\n",
       "      <td>15.0</td>\n",
       "      <td>No</td>\n",
       "      <td>No</td>\n",
       "      <td>Modified</td>\n",
       "    </tr>\n",
       "    <tr>\n",
       "      <th>1</th>\n",
       "      <td>2a272436-5132-4136-86fa-dcc88c88f482</td>\n",
       "      <td>660728</td>\n",
       "      <td>API</td>\n",
       "      <td>Organic Search</td>\n",
       "      <td>No</td>\n",
       "      <td>No</td>\n",
       "      <td>0</td>\n",
       "      <td>5.0</td>\n",
       "      <td>674</td>\n",
       "      <td>2.5</td>\n",
       "      <td>Email Opened</td>\n",
       "      <td>India</td>\n",
       "      <td>Select</td>\n",
       "      <td>Select</td>\n",
       "      <td>Unemployed</td>\n",
       "      <td>Better Career Prospects</td>\n",
       "      <td>No</td>\n",
       "      <td>No</td>\n",
       "      <td>No</td>\n",
       "      <td>No</td>\n",
       "      <td>No</td>\n",
       "      <td>No</td>\n",
       "      <td>No</td>\n",
       "      <td>No</td>\n",
       "      <td>Ringing</td>\n",
       "      <td>NaN</td>\n",
       "      <td>No</td>\n",
       "      <td>No</td>\n",
       "      <td>Select</td>\n",
       "      <td>Select</td>\n",
       "      <td>02.Medium</td>\n",
       "      <td>02.Medium</td>\n",
       "      <td>15.0</td>\n",
       "      <td>15.0</td>\n",
       "      <td>No</td>\n",
       "      <td>No</td>\n",
       "      <td>Email Opened</td>\n",
       "    </tr>\n",
       "    <tr>\n",
       "      <th>2</th>\n",
       "      <td>8cc8c611-a219-4f35-ad23-fdfd2656bd8a</td>\n",
       "      <td>660727</td>\n",
       "      <td>Landing Page Submission</td>\n",
       "      <td>Direct Traffic</td>\n",
       "      <td>No</td>\n",
       "      <td>No</td>\n",
       "      <td>1</td>\n",
       "      <td>2.0</td>\n",
       "      <td>1532</td>\n",
       "      <td>2.0</td>\n",
       "      <td>Email Opened</td>\n",
       "      <td>India</td>\n",
       "      <td>Business Administration</td>\n",
       "      <td>Select</td>\n",
       "      <td>Student</td>\n",
       "      <td>Better Career Prospects</td>\n",
       "      <td>No</td>\n",
       "      <td>No</td>\n",
       "      <td>No</td>\n",
       "      <td>No</td>\n",
       "      <td>No</td>\n",
       "      <td>No</td>\n",
       "      <td>No</td>\n",
       "      <td>No</td>\n",
       "      <td>Will revert after reading the email</td>\n",
       "      <td>Might be</td>\n",
       "      <td>No</td>\n",
       "      <td>No</td>\n",
       "      <td>Potential Lead</td>\n",
       "      <td>Mumbai</td>\n",
       "      <td>02.Medium</td>\n",
       "      <td>01.High</td>\n",
       "      <td>14.0</td>\n",
       "      <td>20.0</td>\n",
       "      <td>No</td>\n",
       "      <td>Yes</td>\n",
       "      <td>Email Opened</td>\n",
       "    </tr>\n",
       "    <tr>\n",
       "      <th>3</th>\n",
       "      <td>0cc2df48-7cf4-4e39-9de9-19797f9b38cc</td>\n",
       "      <td>660719</td>\n",
       "      <td>Landing Page Submission</td>\n",
       "      <td>Direct Traffic</td>\n",
       "      <td>No</td>\n",
       "      <td>No</td>\n",
       "      <td>0</td>\n",
       "      <td>1.0</td>\n",
       "      <td>305</td>\n",
       "      <td>1.0</td>\n",
       "      <td>Unreachable</td>\n",
       "      <td>India</td>\n",
       "      <td>Media and Advertising</td>\n",
       "      <td>Word Of Mouth</td>\n",
       "      <td>Unemployed</td>\n",
       "      <td>Better Career Prospects</td>\n",
       "      <td>No</td>\n",
       "      <td>No</td>\n",
       "      <td>No</td>\n",
       "      <td>No</td>\n",
       "      <td>No</td>\n",
       "      <td>No</td>\n",
       "      <td>No</td>\n",
       "      <td>No</td>\n",
       "      <td>Ringing</td>\n",
       "      <td>Not Sure</td>\n",
       "      <td>No</td>\n",
       "      <td>No</td>\n",
       "      <td>Select</td>\n",
       "      <td>Mumbai</td>\n",
       "      <td>02.Medium</td>\n",
       "      <td>01.High</td>\n",
       "      <td>13.0</td>\n",
       "      <td>17.0</td>\n",
       "      <td>No</td>\n",
       "      <td>No</td>\n",
       "      <td>Modified</td>\n",
       "    </tr>\n",
       "    <tr>\n",
       "      <th>4</th>\n",
       "      <td>3256f628-e534-4826-9d63-4a8b88782852</td>\n",
       "      <td>660681</td>\n",
       "      <td>Landing Page Submission</td>\n",
       "      <td>Google</td>\n",
       "      <td>No</td>\n",
       "      <td>No</td>\n",
       "      <td>1</td>\n",
       "      <td>2.0</td>\n",
       "      <td>1428</td>\n",
       "      <td>1.0</td>\n",
       "      <td>Converted to Lead</td>\n",
       "      <td>India</td>\n",
       "      <td>Select</td>\n",
       "      <td>Other</td>\n",
       "      <td>Unemployed</td>\n",
       "      <td>Better Career Prospects</td>\n",
       "      <td>No</td>\n",
       "      <td>No</td>\n",
       "      <td>No</td>\n",
       "      <td>No</td>\n",
       "      <td>No</td>\n",
       "      <td>No</td>\n",
       "      <td>No</td>\n",
       "      <td>No</td>\n",
       "      <td>Will revert after reading the email</td>\n",
       "      <td>Might be</td>\n",
       "      <td>No</td>\n",
       "      <td>No</td>\n",
       "      <td>Select</td>\n",
       "      <td>Mumbai</td>\n",
       "      <td>02.Medium</td>\n",
       "      <td>01.High</td>\n",
       "      <td>15.0</td>\n",
       "      <td>18.0</td>\n",
       "      <td>No</td>\n",
       "      <td>No</td>\n",
       "      <td>Modified</td>\n",
       "    </tr>\n",
       "  </tbody>\n",
       "</table>\n",
       "</div>"
      ],
      "text/plain": [
       "                             ProspectId  LeadNumber               LeadOrigin  \\\n",
       "0  7927b2df-8bba-4d29-b9a2-b6e0beafe620      660737                      API   \n",
       "1  2a272436-5132-4136-86fa-dcc88c88f482      660728                      API   \n",
       "2  8cc8c611-a219-4f35-ad23-fdfd2656bd8a      660727  Landing Page Submission   \n",
       "3  0cc2df48-7cf4-4e39-9de9-19797f9b38cc      660719  Landing Page Submission   \n",
       "4  3256f628-e534-4826-9d63-4a8b88782852      660681  Landing Page Submission   \n",
       "\n",
       "       LeadSource DoNotEmail DoNotCall  Converted  Totalvisits  \\\n",
       "0      Olark Chat         No        No          0          0.0   \n",
       "1  Organic Search         No        No          0          5.0   \n",
       "2  Direct Traffic         No        No          1          2.0   \n",
       "3  Direct Traffic         No        No          0          1.0   \n",
       "4          Google         No        No          1          2.0   \n",
       "\n",
       "   TotalTimeSpentOnWebsite  PageViewsPerVisit             LastActivity  \\\n",
       "0                        0                0.0  Page Visited on Website   \n",
       "1                      674                2.5             Email Opened   \n",
       "2                     1532                2.0             Email Opened   \n",
       "3                      305                1.0              Unreachable   \n",
       "4                     1428                1.0        Converted to Lead   \n",
       "\n",
       "  Country           Specialization HowDidYouHearAboutXEducation  \\\n",
       "0     NaN                   Select                       Select   \n",
       "1   India                   Select                       Select   \n",
       "2   India  Business Administration                       Select   \n",
       "3   India    Media and Advertising                Word Of Mouth   \n",
       "4   India                   Select                        Other   \n",
       "\n",
       "  WhatIsYourCurrentOccupation WhatMattersMostToYouInChoosingACourse Search  \\\n",
       "0                  Unemployed               Better Career Prospects     No   \n",
       "1                  Unemployed               Better Career Prospects     No   \n",
       "2                     Student               Better Career Prospects     No   \n",
       "3                  Unemployed               Better Career Prospects     No   \n",
       "4                  Unemployed               Better Career Prospects     No   \n",
       "\n",
       "  Magazine NewspaperArticle XEducationForums Newspaper DigitalAdvertisement  \\\n",
       "0       No               No               No        No                   No   \n",
       "1       No               No               No        No                   No   \n",
       "2       No               No               No        No                   No   \n",
       "3       No               No               No        No                   No   \n",
       "4       No               No               No        No                   No   \n",
       "\n",
       "  ThroughRecommendations ReceiveMoreUpdatesAboutOurCourses  \\\n",
       "0                     No                                No   \n",
       "1                     No                                No   \n",
       "2                     No                                No   \n",
       "3                     No                                No   \n",
       "4                     No                                No   \n",
       "\n",
       "                                  Tags       LeadQuality  \\\n",
       "0          Interested in other courses  Low in Relevance   \n",
       "1                              Ringing               NaN   \n",
       "2  Will revert after reading the email          Might be   \n",
       "3                              Ringing          Not Sure   \n",
       "4  Will revert after reading the email          Might be   \n",
       "\n",
       "  UpdateMeOnSupplyChainContent GetUpdatesOnDmContent     LeadProfile    City  \\\n",
       "0                           No                    No          Select  Select   \n",
       "1                           No                    No          Select  Select   \n",
       "2                           No                    No  Potential Lead  Mumbai   \n",
       "3                           No                    No          Select  Mumbai   \n",
       "4                           No                    No          Select  Mumbai   \n",
       "\n",
       "  AsymmetriqueActivityIndex AsymmetriqueProfileIndex  \\\n",
       "0                 02.Medium                02.Medium   \n",
       "1                 02.Medium                02.Medium   \n",
       "2                 02.Medium                  01.High   \n",
       "3                 02.Medium                  01.High   \n",
       "4                 02.Medium                  01.High   \n",
       "\n",
       "   AsymmetriqueActivityScore  AsymmetriqueProfileScore  \\\n",
       "0                       15.0                      15.0   \n",
       "1                       15.0                      15.0   \n",
       "2                       14.0                      20.0   \n",
       "3                       13.0                      17.0   \n",
       "4                       15.0                      18.0   \n",
       "\n",
       "  IAgreeToPayTheAmountThroughCheque AFreeCopyOfMasteringTheInterview  \\\n",
       "0                                No                               No   \n",
       "1                                No                               No   \n",
       "2                                No                              Yes   \n",
       "3                                No                               No   \n",
       "4                                No                               No   \n",
       "\n",
       "  LastNotableActivity  \n",
       "0            Modified  \n",
       "1        Email Opened  \n",
       "2        Email Opened  \n",
       "3            Modified  \n",
       "4            Modified  "
      ]
     },
     "execution_count": 8,
     "metadata": {},
     "output_type": "execute_result"
    }
   ],
   "source": [
    "#remove spaces from column names\n",
    "columns = []\n",
    "for col in leads.columns:\n",
    "    columns.append(col.title().replace(\" \", \"\"))\n",
    "    \n",
    "leads.columns = columns\n",
    "# print(leads.columns)\n",
    "leads.head()"
   ]
  },
  {
   "cell_type": "code",
   "execution_count": 9,
   "metadata": {},
   "outputs": [],
   "source": [
    "leads.replace('Select', np.NAN, inplace=True)"
   ]
  },
  {
   "cell_type": "code",
   "execution_count": 10,
   "metadata": {},
   "outputs": [
    {
     "data": {
      "text/plain": [
       "ProspectId                                0.00\n",
       "LeadNumber                                0.00\n",
       "LeadOrigin                                0.00\n",
       "LeadSource                                0.39\n",
       "DoNotEmail                                0.00\n",
       "DoNotCall                                 0.00\n",
       "Converted                                 0.00\n",
       "Totalvisits                               1.48\n",
       "TotalTimeSpentOnWebsite                   0.00\n",
       "PageViewsPerVisit                         1.48\n",
       "LastActivity                              1.11\n",
       "Country                                  26.63\n",
       "Specialization                           36.58\n",
       "HowDidYouHearAboutXEducation             78.46\n",
       "WhatIsYourCurrentOccupation              29.11\n",
       "WhatMattersMostToYouInChoosingACourse    29.32\n",
       "Search                                    0.00\n",
       "Magazine                                  0.00\n",
       "NewspaperArticle                          0.00\n",
       "XEducationForums                          0.00\n",
       "Newspaper                                 0.00\n",
       "DigitalAdvertisement                      0.00\n",
       "ThroughRecommendations                    0.00\n",
       "ReceiveMoreUpdatesAboutOurCourses         0.00\n",
       "Tags                                     36.29\n",
       "LeadQuality                              51.59\n",
       "UpdateMeOnSupplyChainContent              0.00\n",
       "GetUpdatesOnDmContent                     0.00\n",
       "LeadProfile                              74.19\n",
       "City                                     39.71\n",
       "AsymmetriqueActivityIndex                45.65\n",
       "AsymmetriqueProfileIndex                 45.65\n",
       "AsymmetriqueActivityScore                45.65\n",
       "AsymmetriqueProfileScore                 45.65\n",
       "IAgreeToPayTheAmountThroughCheque         0.00\n",
       "AFreeCopyOfMasteringTheInterview          0.00\n",
       "LastNotableActivity                       0.00\n",
       "dtype: float64"
      ]
     },
     "execution_count": 10,
     "metadata": {},
     "output_type": "execute_result"
    }
   ],
   "source": [
    "# Checking the percentage of missing values\n",
    "round(100*(leads.isnull().sum()/len(leads.index)), 2)"
   ]
  },
  {
   "cell_type": "code",
   "execution_count": 11,
   "metadata": {},
   "outputs": [
    {
     "data": {
      "text/plain": [
       "Might be             0.348759\n",
       "Not Sure             0.244131\n",
       "High in Relevance    0.142410\n",
       "Worst                0.134362\n",
       "Low in Relevance     0.130338\n",
       "Name: LeadQuality, dtype: float64"
      ]
     },
     "execution_count": 11,
     "metadata": {},
     "output_type": "execute_result"
    }
   ],
   "source": [
    "leads.LeadQuality.value_counts(normalize=True)"
   ]
  },
  {
   "cell_type": "code",
   "execution_count": 12,
   "metadata": {},
   "outputs": [],
   "source": [
    "# removing columns with high null values and index numbers \n",
    "leadsData = leads.drop(['LeadProfile', 'HowDidYouHearAboutXEducation', 'LeadNumber', 'ProspectId', 'LeadQuality'], axis=1)"
   ]
  },
  {
   "cell_type": "code",
   "execution_count": 13,
   "metadata": {},
   "outputs": [
    {
     "data": {
      "text/plain": [
       "(9240, 32)"
      ]
     },
     "execution_count": 13,
     "metadata": {},
     "output_type": "execute_result"
    }
   ],
   "source": [
    "# Let's check the dimensions of the dataframe\n",
    "leadsData.shape"
   ]
  },
  {
   "cell_type": "code",
   "execution_count": 14,
   "metadata": {},
   "outputs": [
    {
     "name": "stdout",
     "output_type": "stream",
     "text": [
      "<class 'pandas.core.frame.DataFrame'>\n",
      "RangeIndex: 9240 entries, 0 to 9239\n",
      "Data columns (total 32 columns):\n",
      " #   Column                                 Non-Null Count  Dtype  \n",
      "---  ------                                 --------------  -----  \n",
      " 0   LeadOrigin                             9240 non-null   object \n",
      " 1   LeadSource                             9204 non-null   object \n",
      " 2   DoNotEmail                             9240 non-null   object \n",
      " 3   DoNotCall                              9240 non-null   object \n",
      " 4   Converted                              9240 non-null   int64  \n",
      " 5   Totalvisits                            9103 non-null   float64\n",
      " 6   TotalTimeSpentOnWebsite                9240 non-null   int64  \n",
      " 7   PageViewsPerVisit                      9103 non-null   float64\n",
      " 8   LastActivity                           9137 non-null   object \n",
      " 9   Country                                6779 non-null   object \n",
      " 10  Specialization                         5860 non-null   object \n",
      " 11  WhatIsYourCurrentOccupation            6550 non-null   object \n",
      " 12  WhatMattersMostToYouInChoosingACourse  6531 non-null   object \n",
      " 13  Search                                 9240 non-null   object \n",
      " 14  Magazine                               9240 non-null   object \n",
      " 15  NewspaperArticle                       9240 non-null   object \n",
      " 16  XEducationForums                       9240 non-null   object \n",
      " 17  Newspaper                              9240 non-null   object \n",
      " 18  DigitalAdvertisement                   9240 non-null   object \n",
      " 19  ThroughRecommendations                 9240 non-null   object \n",
      " 20  ReceiveMoreUpdatesAboutOurCourses      9240 non-null   object \n",
      " 21  Tags                                   5887 non-null   object \n",
      " 22  UpdateMeOnSupplyChainContent           9240 non-null   object \n",
      " 23  GetUpdatesOnDmContent                  9240 non-null   object \n",
      " 24  City                                   5571 non-null   object \n",
      " 25  AsymmetriqueActivityIndex              5022 non-null   object \n",
      " 26  AsymmetriqueProfileIndex               5022 non-null   object \n",
      " 27  AsymmetriqueActivityScore              5022 non-null   float64\n",
      " 28  AsymmetriqueProfileScore               5022 non-null   float64\n",
      " 29  IAgreeToPayTheAmountThroughCheque      9240 non-null   object \n",
      " 30  AFreeCopyOfMasteringTheInterview       9240 non-null   object \n",
      " 31  LastNotableActivity                    9240 non-null   object \n",
      "dtypes: float64(4), int64(2), object(26)\n",
      "memory usage: 2.3+ MB\n"
     ]
    }
   ],
   "source": [
    "# Let's see the type of each column\n",
    "leadsData.info()"
   ]
  },
  {
   "cell_type": "code",
   "execution_count": 15,
   "metadata": {},
   "outputs": [
    {
     "data": {
      "text/html": [
       "<div>\n",
       "<style scoped>\n",
       "    .dataframe tbody tr th:only-of-type {\n",
       "        vertical-align: middle;\n",
       "    }\n",
       "\n",
       "    .dataframe tbody tr th {\n",
       "        vertical-align: top;\n",
       "    }\n",
       "\n",
       "    .dataframe thead th {\n",
       "        text-align: right;\n",
       "    }\n",
       "</style>\n",
       "<table border=\"1\" class=\"dataframe\">\n",
       "  <thead>\n",
       "    <tr style=\"text-align: right;\">\n",
       "      <th></th>\n",
       "      <th>Converted</th>\n",
       "      <th>Totalvisits</th>\n",
       "      <th>TotalTimeSpentOnWebsite</th>\n",
       "      <th>PageViewsPerVisit</th>\n",
       "      <th>AsymmetriqueActivityScore</th>\n",
       "      <th>AsymmetriqueProfileScore</th>\n",
       "    </tr>\n",
       "  </thead>\n",
       "  <tbody>\n",
       "    <tr>\n",
       "      <th>count</th>\n",
       "      <td>9240.000000</td>\n",
       "      <td>9103.000000</td>\n",
       "      <td>9240.000000</td>\n",
       "      <td>9103.000000</td>\n",
       "      <td>5022.000000</td>\n",
       "      <td>5022.000000</td>\n",
       "    </tr>\n",
       "    <tr>\n",
       "      <th>mean</th>\n",
       "      <td>0.385390</td>\n",
       "      <td>3.445238</td>\n",
       "      <td>487.698268</td>\n",
       "      <td>2.362820</td>\n",
       "      <td>14.306252</td>\n",
       "      <td>16.344883</td>\n",
       "    </tr>\n",
       "    <tr>\n",
       "      <th>std</th>\n",
       "      <td>0.486714</td>\n",
       "      <td>4.854853</td>\n",
       "      <td>548.021466</td>\n",
       "      <td>2.161418</td>\n",
       "      <td>1.386694</td>\n",
       "      <td>1.811395</td>\n",
       "    </tr>\n",
       "    <tr>\n",
       "      <th>min</th>\n",
       "      <td>0.000000</td>\n",
       "      <td>0.000000</td>\n",
       "      <td>0.000000</td>\n",
       "      <td>0.000000</td>\n",
       "      <td>7.000000</td>\n",
       "      <td>11.000000</td>\n",
       "    </tr>\n",
       "    <tr>\n",
       "      <th>25%</th>\n",
       "      <td>0.000000</td>\n",
       "      <td>1.000000</td>\n",
       "      <td>12.000000</td>\n",
       "      <td>1.000000</td>\n",
       "      <td>14.000000</td>\n",
       "      <td>15.000000</td>\n",
       "    </tr>\n",
       "    <tr>\n",
       "      <th>50%</th>\n",
       "      <td>0.000000</td>\n",
       "      <td>3.000000</td>\n",
       "      <td>248.000000</td>\n",
       "      <td>2.000000</td>\n",
       "      <td>14.000000</td>\n",
       "      <td>16.000000</td>\n",
       "    </tr>\n",
       "    <tr>\n",
       "      <th>75%</th>\n",
       "      <td>1.000000</td>\n",
       "      <td>5.000000</td>\n",
       "      <td>936.000000</td>\n",
       "      <td>3.000000</td>\n",
       "      <td>15.000000</td>\n",
       "      <td>18.000000</td>\n",
       "    </tr>\n",
       "    <tr>\n",
       "      <th>max</th>\n",
       "      <td>1.000000</td>\n",
       "      <td>251.000000</td>\n",
       "      <td>2272.000000</td>\n",
       "      <td>55.000000</td>\n",
       "      <td>18.000000</td>\n",
       "      <td>20.000000</td>\n",
       "    </tr>\n",
       "  </tbody>\n",
       "</table>\n",
       "</div>"
      ],
      "text/plain": [
       "         Converted  Totalvisits  TotalTimeSpentOnWebsite  PageViewsPerVisit  \\\n",
       "count  9240.000000  9103.000000              9240.000000        9103.000000   \n",
       "mean      0.385390     3.445238               487.698268           2.362820   \n",
       "std       0.486714     4.854853               548.021466           2.161418   \n",
       "min       0.000000     0.000000                 0.000000           0.000000   \n",
       "25%       0.000000     1.000000                12.000000           1.000000   \n",
       "50%       0.000000     3.000000               248.000000           2.000000   \n",
       "75%       1.000000     5.000000               936.000000           3.000000   \n",
       "max       1.000000   251.000000              2272.000000          55.000000   \n",
       "\n",
       "       AsymmetriqueActivityScore  AsymmetriqueProfileScore  \n",
       "count                5022.000000               5022.000000  \n",
       "mean                   14.306252                 16.344883  \n",
       "std                     1.386694                  1.811395  \n",
       "min                     7.000000                 11.000000  \n",
       "25%                    14.000000                 15.000000  \n",
       "50%                    14.000000                 16.000000  \n",
       "75%                    15.000000                 18.000000  \n",
       "max                    18.000000                 20.000000  "
      ]
     },
     "execution_count": 15,
     "metadata": {},
     "output_type": "execute_result"
    }
   ],
   "source": [
    "# let's look at the statistical aspects of the dataframe\n",
    "leadsData.describe()"
   ]
  },
  {
   "cell_type": "code",
   "execution_count": 16,
   "metadata": {},
   "outputs": [
    {
     "data": {
      "text/plain": [
       "LeadOrigin                                0.00\n",
       "LeadSource                                0.39\n",
       "DoNotEmail                                0.00\n",
       "DoNotCall                                 0.00\n",
       "Converted                                 0.00\n",
       "Totalvisits                               1.48\n",
       "TotalTimeSpentOnWebsite                   0.00\n",
       "PageViewsPerVisit                         1.48\n",
       "LastActivity                              1.11\n",
       "Country                                  26.63\n",
       "Specialization                           36.58\n",
       "WhatIsYourCurrentOccupation              29.11\n",
       "WhatMattersMostToYouInChoosingACourse    29.32\n",
       "Search                                    0.00\n",
       "Magazine                                  0.00\n",
       "NewspaperArticle                          0.00\n",
       "XEducationForums                          0.00\n",
       "Newspaper                                 0.00\n",
       "DigitalAdvertisement                      0.00\n",
       "ThroughRecommendations                    0.00\n",
       "ReceiveMoreUpdatesAboutOurCourses         0.00\n",
       "Tags                                     36.29\n",
       "UpdateMeOnSupplyChainContent              0.00\n",
       "GetUpdatesOnDmContent                     0.00\n",
       "City                                     39.71\n",
       "AsymmetriqueActivityIndex                45.65\n",
       "AsymmetriqueProfileIndex                 45.65\n",
       "AsymmetriqueActivityScore                45.65\n",
       "AsymmetriqueProfileScore                 45.65\n",
       "IAgreeToPayTheAmountThroughCheque         0.00\n",
       "AFreeCopyOfMasteringTheInterview          0.00\n",
       "LastNotableActivity                       0.00\n",
       "dtype: float64"
      ]
     },
     "execution_count": 16,
     "metadata": {},
     "output_type": "execute_result"
    }
   ],
   "source": [
    "# Checking the percentage of missing values\n",
    "round(100*(leadsData.isnull().sum()/len(leadsData.index)), 2)"
   ]
  },
  {
   "cell_type": "markdown",
   "metadata": {},
   "source": [
    "#### Specialization has 36.58% null values. However, we are not dropping this column. We are assigning the value to 'NotSpecified'. The specialization can be an important field since company may want to pitch relavant courses to indiviuals according to their domain. "
   ]
  },
  {
   "cell_type": "code",
   "execution_count": 17,
   "metadata": {},
   "outputs": [
    {
     "data": {
      "text/plain": [
       "NotSpecified                         36.580087\n",
       "Finance Management                   10.562771\n",
       "Human Resource Management             9.177489\n",
       "Marketing Management                  9.069264\n",
       "Operations Management                 5.443723\n",
       "Business Administration               4.361472\n",
       "IT Projects Management                3.961039\n",
       "Supply Chain Management               3.777056\n",
       "Banking, Investment And Insurance     3.658009\n",
       "Travel and Tourism                    2.196970\n",
       "Media and Advertising                 2.196970\n",
       "International Business                1.926407\n",
       "Healthcare Management                 1.720779\n",
       "Hospitality Management                1.233766\n",
       "E-COMMERCE                            1.212121\n",
       "Retail Management                     1.082251\n",
       "Rural and Agribusiness                0.790043\n",
       "E-Business                            0.616883\n",
       "Services Excellence                   0.432900\n",
       "Name: Specialization, dtype: float64"
      ]
     },
     "execution_count": 17,
     "metadata": {},
     "output_type": "execute_result"
    }
   ],
   "source": [
    "leadsData.Specialization.fillna('NotSpecified', inplace=True)\n",
    "leadsData.Specialization.value_counts(normalize=True)*100"
   ]
  },
  {
   "cell_type": "code",
   "execution_count": 18,
   "metadata": {},
   "outputs": [
    {
     "data": {
      "text/plain": [
       "NaN                                                  0.362879\n",
       "Will revert after reading the email                  0.224242\n",
       "Ringing                                              0.130195\n",
       "Interested in other courses                          0.055519\n",
       "Already a student                                    0.050325\n",
       "Closed by Horizzon                                   0.038745\n",
       "switched off                                         0.025974\n",
       "Busy                                                 0.020130\n",
       "Lost to EINS                                         0.018939\n",
       "Not doing further education                          0.015693\n",
       "Interested  in full time MBA                         0.012662\n",
       "Graduation in progress                               0.012013\n",
       "invalid number                                       0.008983\n",
       "Diploma holder (Not Eligible)                        0.006818\n",
       "wrong number given                                   0.005087\n",
       "opp hangup                                           0.003571\n",
       "number not provided                                  0.002922\n",
       "in touch with EINS                                   0.001299\n",
       "Lost to Others                                       0.000758\n",
       "Want to take admission but has financial problems    0.000649\n",
       "Still Thinking                                       0.000649\n",
       "In confusion whether part time or DLP                0.000541\n",
       "Interested in Next batch                             0.000541\n",
       "Lateral student                                      0.000325\n",
       "Shall take in the next coming month                  0.000216\n",
       "University not recognized                            0.000216\n",
       "Recognition issue (DEC approval)                     0.000108\n",
       "Name: Tags, dtype: float64"
      ]
     },
     "execution_count": 18,
     "metadata": {},
     "output_type": "execute_result"
    }
   ],
   "source": [
    "leadsData.Tags.value_counts(dropna=False, normalize=True)"
   ]
  },
  {
   "cell_type": "code",
   "execution_count": 19,
   "metadata": {},
   "outputs": [
    {
     "data": {
      "text/html": [
       "<div>\n",
       "<style scoped>\n",
       "    .dataframe tbody tr th:only-of-type {\n",
       "        vertical-align: middle;\n",
       "    }\n",
       "\n",
       "    .dataframe tbody tr th {\n",
       "        vertical-align: top;\n",
       "    }\n",
       "\n",
       "    .dataframe thead th {\n",
       "        text-align: right;\n",
       "    }\n",
       "</style>\n",
       "<table border=\"1\" class=\"dataframe\">\n",
       "  <thead>\n",
       "    <tr style=\"text-align: right;\">\n",
       "      <th></th>\n",
       "      <th>LeadOrigin</th>\n",
       "      <th>LeadSource</th>\n",
       "      <th>DoNotEmail</th>\n",
       "      <th>DoNotCall</th>\n",
       "      <th>Converted</th>\n",
       "      <th>Totalvisits</th>\n",
       "      <th>TotalTimeSpentOnWebsite</th>\n",
       "      <th>PageViewsPerVisit</th>\n",
       "      <th>LastActivity</th>\n",
       "      <th>Country</th>\n",
       "      <th>Specialization</th>\n",
       "      <th>WhatIsYourCurrentOccupation</th>\n",
       "      <th>WhatMattersMostToYouInChoosingACourse</th>\n",
       "      <th>Search</th>\n",
       "      <th>Magazine</th>\n",
       "      <th>NewspaperArticle</th>\n",
       "      <th>XEducationForums</th>\n",
       "      <th>Newspaper</th>\n",
       "      <th>DigitalAdvertisement</th>\n",
       "      <th>ThroughRecommendations</th>\n",
       "      <th>ReceiveMoreUpdatesAboutOurCourses</th>\n",
       "      <th>UpdateMeOnSupplyChainContent</th>\n",
       "      <th>GetUpdatesOnDmContent</th>\n",
       "      <th>City</th>\n",
       "      <th>AsymmetriqueActivityIndex</th>\n",
       "      <th>AsymmetriqueProfileIndex</th>\n",
       "      <th>AsymmetriqueActivityScore</th>\n",
       "      <th>AsymmetriqueProfileScore</th>\n",
       "      <th>IAgreeToPayTheAmountThroughCheque</th>\n",
       "      <th>AFreeCopyOfMasteringTheInterview</th>\n",
       "      <th>LastNotableActivity</th>\n",
       "    </tr>\n",
       "  </thead>\n",
       "  <tbody>\n",
       "    <tr>\n",
       "      <th>0</th>\n",
       "      <td>API</td>\n",
       "      <td>Olark Chat</td>\n",
       "      <td>No</td>\n",
       "      <td>No</td>\n",
       "      <td>0</td>\n",
       "      <td>0.0</td>\n",
       "      <td>0</td>\n",
       "      <td>0.0</td>\n",
       "      <td>Page Visited on Website</td>\n",
       "      <td>NaN</td>\n",
       "      <td>NotSpecified</td>\n",
       "      <td>Unemployed</td>\n",
       "      <td>Better Career Prospects</td>\n",
       "      <td>No</td>\n",
       "      <td>No</td>\n",
       "      <td>No</td>\n",
       "      <td>No</td>\n",
       "      <td>No</td>\n",
       "      <td>No</td>\n",
       "      <td>No</td>\n",
       "      <td>No</td>\n",
       "      <td>No</td>\n",
       "      <td>No</td>\n",
       "      <td>NaN</td>\n",
       "      <td>02.Medium</td>\n",
       "      <td>02.Medium</td>\n",
       "      <td>15.0</td>\n",
       "      <td>15.0</td>\n",
       "      <td>No</td>\n",
       "      <td>No</td>\n",
       "      <td>Modified</td>\n",
       "    </tr>\n",
       "    <tr>\n",
       "      <th>1</th>\n",
       "      <td>API</td>\n",
       "      <td>Organic Search</td>\n",
       "      <td>No</td>\n",
       "      <td>No</td>\n",
       "      <td>0</td>\n",
       "      <td>5.0</td>\n",
       "      <td>674</td>\n",
       "      <td>2.5</td>\n",
       "      <td>Email Opened</td>\n",
       "      <td>India</td>\n",
       "      <td>NotSpecified</td>\n",
       "      <td>Unemployed</td>\n",
       "      <td>Better Career Prospects</td>\n",
       "      <td>No</td>\n",
       "      <td>No</td>\n",
       "      <td>No</td>\n",
       "      <td>No</td>\n",
       "      <td>No</td>\n",
       "      <td>No</td>\n",
       "      <td>No</td>\n",
       "      <td>No</td>\n",
       "      <td>No</td>\n",
       "      <td>No</td>\n",
       "      <td>NaN</td>\n",
       "      <td>02.Medium</td>\n",
       "      <td>02.Medium</td>\n",
       "      <td>15.0</td>\n",
       "      <td>15.0</td>\n",
       "      <td>No</td>\n",
       "      <td>No</td>\n",
       "      <td>Email Opened</td>\n",
       "    </tr>\n",
       "    <tr>\n",
       "      <th>2</th>\n",
       "      <td>Landing Page Submission</td>\n",
       "      <td>Direct Traffic</td>\n",
       "      <td>No</td>\n",
       "      <td>No</td>\n",
       "      <td>1</td>\n",
       "      <td>2.0</td>\n",
       "      <td>1532</td>\n",
       "      <td>2.0</td>\n",
       "      <td>Email Opened</td>\n",
       "      <td>India</td>\n",
       "      <td>Business Administration</td>\n",
       "      <td>Student</td>\n",
       "      <td>Better Career Prospects</td>\n",
       "      <td>No</td>\n",
       "      <td>No</td>\n",
       "      <td>No</td>\n",
       "      <td>No</td>\n",
       "      <td>No</td>\n",
       "      <td>No</td>\n",
       "      <td>No</td>\n",
       "      <td>No</td>\n",
       "      <td>No</td>\n",
       "      <td>No</td>\n",
       "      <td>Mumbai</td>\n",
       "      <td>02.Medium</td>\n",
       "      <td>01.High</td>\n",
       "      <td>14.0</td>\n",
       "      <td>20.0</td>\n",
       "      <td>No</td>\n",
       "      <td>Yes</td>\n",
       "      <td>Email Opened</td>\n",
       "    </tr>\n",
       "    <tr>\n",
       "      <th>3</th>\n",
       "      <td>Landing Page Submission</td>\n",
       "      <td>Direct Traffic</td>\n",
       "      <td>No</td>\n",
       "      <td>No</td>\n",
       "      <td>0</td>\n",
       "      <td>1.0</td>\n",
       "      <td>305</td>\n",
       "      <td>1.0</td>\n",
       "      <td>Unreachable</td>\n",
       "      <td>India</td>\n",
       "      <td>Media and Advertising</td>\n",
       "      <td>Unemployed</td>\n",
       "      <td>Better Career Prospects</td>\n",
       "      <td>No</td>\n",
       "      <td>No</td>\n",
       "      <td>No</td>\n",
       "      <td>No</td>\n",
       "      <td>No</td>\n",
       "      <td>No</td>\n",
       "      <td>No</td>\n",
       "      <td>No</td>\n",
       "      <td>No</td>\n",
       "      <td>No</td>\n",
       "      <td>Mumbai</td>\n",
       "      <td>02.Medium</td>\n",
       "      <td>01.High</td>\n",
       "      <td>13.0</td>\n",
       "      <td>17.0</td>\n",
       "      <td>No</td>\n",
       "      <td>No</td>\n",
       "      <td>Modified</td>\n",
       "    </tr>\n",
       "    <tr>\n",
       "      <th>4</th>\n",
       "      <td>Landing Page Submission</td>\n",
       "      <td>Google</td>\n",
       "      <td>No</td>\n",
       "      <td>No</td>\n",
       "      <td>1</td>\n",
       "      <td>2.0</td>\n",
       "      <td>1428</td>\n",
       "      <td>1.0</td>\n",
       "      <td>Converted to Lead</td>\n",
       "      <td>India</td>\n",
       "      <td>NotSpecified</td>\n",
       "      <td>Unemployed</td>\n",
       "      <td>Better Career Prospects</td>\n",
       "      <td>No</td>\n",
       "      <td>No</td>\n",
       "      <td>No</td>\n",
       "      <td>No</td>\n",
       "      <td>No</td>\n",
       "      <td>No</td>\n",
       "      <td>No</td>\n",
       "      <td>No</td>\n",
       "      <td>No</td>\n",
       "      <td>No</td>\n",
       "      <td>Mumbai</td>\n",
       "      <td>02.Medium</td>\n",
       "      <td>01.High</td>\n",
       "      <td>15.0</td>\n",
       "      <td>18.0</td>\n",
       "      <td>No</td>\n",
       "      <td>No</td>\n",
       "      <td>Modified</td>\n",
       "    </tr>\n",
       "  </tbody>\n",
       "</table>\n",
       "</div>"
      ],
      "text/plain": [
       "                LeadOrigin      LeadSource DoNotEmail DoNotCall  Converted  \\\n",
       "0                      API      Olark Chat         No        No          0   \n",
       "1                      API  Organic Search         No        No          0   \n",
       "2  Landing Page Submission  Direct Traffic         No        No          1   \n",
       "3  Landing Page Submission  Direct Traffic         No        No          0   \n",
       "4  Landing Page Submission          Google         No        No          1   \n",
       "\n",
       "   Totalvisits  TotalTimeSpentOnWebsite  PageViewsPerVisit  \\\n",
       "0          0.0                        0                0.0   \n",
       "1          5.0                      674                2.5   \n",
       "2          2.0                     1532                2.0   \n",
       "3          1.0                      305                1.0   \n",
       "4          2.0                     1428                1.0   \n",
       "\n",
       "              LastActivity Country           Specialization  \\\n",
       "0  Page Visited on Website     NaN             NotSpecified   \n",
       "1             Email Opened   India             NotSpecified   \n",
       "2             Email Opened   India  Business Administration   \n",
       "3              Unreachable   India    Media and Advertising   \n",
       "4        Converted to Lead   India             NotSpecified   \n",
       "\n",
       "  WhatIsYourCurrentOccupation WhatMattersMostToYouInChoosingACourse Search  \\\n",
       "0                  Unemployed               Better Career Prospects     No   \n",
       "1                  Unemployed               Better Career Prospects     No   \n",
       "2                     Student               Better Career Prospects     No   \n",
       "3                  Unemployed               Better Career Prospects     No   \n",
       "4                  Unemployed               Better Career Prospects     No   \n",
       "\n",
       "  Magazine NewspaperArticle XEducationForums Newspaper DigitalAdvertisement  \\\n",
       "0       No               No               No        No                   No   \n",
       "1       No               No               No        No                   No   \n",
       "2       No               No               No        No                   No   \n",
       "3       No               No               No        No                   No   \n",
       "4       No               No               No        No                   No   \n",
       "\n",
       "  ThroughRecommendations ReceiveMoreUpdatesAboutOurCourses  \\\n",
       "0                     No                                No   \n",
       "1                     No                                No   \n",
       "2                     No                                No   \n",
       "3                     No                                No   \n",
       "4                     No                                No   \n",
       "\n",
       "  UpdateMeOnSupplyChainContent GetUpdatesOnDmContent    City  \\\n",
       "0                           No                    No     NaN   \n",
       "1                           No                    No     NaN   \n",
       "2                           No                    No  Mumbai   \n",
       "3                           No                    No  Mumbai   \n",
       "4                           No                    No  Mumbai   \n",
       "\n",
       "  AsymmetriqueActivityIndex AsymmetriqueProfileIndex  \\\n",
       "0                 02.Medium                02.Medium   \n",
       "1                 02.Medium                02.Medium   \n",
       "2                 02.Medium                  01.High   \n",
       "3                 02.Medium                  01.High   \n",
       "4                 02.Medium                  01.High   \n",
       "\n",
       "   AsymmetriqueActivityScore  AsymmetriqueProfileScore  \\\n",
       "0                       15.0                      15.0   \n",
       "1                       15.0                      15.0   \n",
       "2                       14.0                      20.0   \n",
       "3                       13.0                      17.0   \n",
       "4                       15.0                      18.0   \n",
       "\n",
       "  IAgreeToPayTheAmountThroughCheque AFreeCopyOfMasteringTheInterview  \\\n",
       "0                                No                               No   \n",
       "1                                No                               No   \n",
       "2                                No                              Yes   \n",
       "3                                No                               No   \n",
       "4                                No                               No   \n",
       "\n",
       "  LastNotableActivity  \n",
       "0            Modified  \n",
       "1        Email Opened  \n",
       "2        Email Opened  \n",
       "3            Modified  \n",
       "4            Modified  "
      ]
     },
     "execution_count": 19,
     "metadata": {},
     "output_type": "execute_result"
    }
   ],
   "source": [
    "# drop tags column\n",
    "leadsData.drop('Tags', axis=1, inplace=True)\n",
    "leadsData.head()"
   ]
  },
  {
   "cell_type": "code",
   "execution_count": 20,
   "metadata": {},
   "outputs": [
    {
     "data": {
      "text/plain": [
       "NaN          0.456494\n",
       "02.Medium    0.301732\n",
       "01.High      0.238420\n",
       "03.Low       0.003355\n",
       "Name: AsymmetriqueProfileIndex, dtype: float64"
      ]
     },
     "execution_count": 20,
     "metadata": {},
     "output_type": "execute_result"
    }
   ],
   "source": [
    "leadsData.AsymmetriqueProfileIndex.value_counts(dropna=False, normalize=True)"
   ]
  },
  {
   "cell_type": "code",
   "execution_count": 21,
   "metadata": {},
   "outputs": [
    {
     "data": {
      "text/plain": [
       "NaN          0.456494\n",
       "02.Medium    0.415476\n",
       "01.High      0.088853\n",
       "03.Low       0.039177\n",
       "Name: AsymmetriqueActivityIndex, dtype: float64"
      ]
     },
     "execution_count": 21,
     "metadata": {},
     "output_type": "execute_result"
    }
   ],
   "source": [
    "leadsData.AsymmetriqueActivityIndex.value_counts(dropna=False, normalize=True)"
   ]
  },
  {
   "cell_type": "code",
   "execution_count": 22,
   "metadata": {},
   "outputs": [],
   "source": [
    "# drop custom calculated indexes as these have high null values and can be derived from other parameters\n",
    "leadsData.drop(['AsymmetriqueActivityIndex', 'AsymmetriqueActivityScore', 'AsymmetriqueProfileIndex', 'AsymmetriqueProfileScore'], axis=1, inplace=True)"
   ]
  },
  {
   "cell_type": "code",
   "execution_count": 23,
   "metadata": {},
   "outputs": [
    {
     "data": {
      "text/plain": [
       "NaN                            0.397078\n",
       "Mumbai                         0.348701\n",
       "Thane & Outskirts              0.081385\n",
       "Other Cities                   0.074242\n",
       "Other Cities of Maharashtra    0.049459\n",
       "Other Metro Cities             0.041126\n",
       "Tier II Cities                 0.008009\n",
       "Name: City, dtype: float64"
      ]
     },
     "execution_count": 23,
     "metadata": {},
     "output_type": "execute_result"
    }
   ],
   "source": [
    "leadsData.City.value_counts(dropna=False, normalize=True)"
   ]
  },
  {
   "cell_type": "code",
   "execution_count": 24,
   "metadata": {},
   "outputs": [
    {
     "data": {
      "text/html": [
       "<div>\n",
       "<style scoped>\n",
       "    .dataframe tbody tr th:only-of-type {\n",
       "        vertical-align: middle;\n",
       "    }\n",
       "\n",
       "    .dataframe tbody tr th {\n",
       "        vertical-align: top;\n",
       "    }\n",
       "\n",
       "    .dataframe thead th {\n",
       "        text-align: right;\n",
       "    }\n",
       "</style>\n",
       "<table border=\"1\" class=\"dataframe\">\n",
       "  <thead>\n",
       "    <tr style=\"text-align: right;\">\n",
       "      <th></th>\n",
       "      <th>City</th>\n",
       "      <th>Converted</th>\n",
       "      <th>count</th>\n",
       "    </tr>\n",
       "  </thead>\n",
       "  <tbody>\n",
       "    <tr>\n",
       "      <th>0</th>\n",
       "      <td>Mumbai</td>\n",
       "      <td>0</td>\n",
       "      <td>1913</td>\n",
       "    </tr>\n",
       "    <tr>\n",
       "      <th>1</th>\n",
       "      <td>Mumbai</td>\n",
       "      <td>1</td>\n",
       "      <td>1309</td>\n",
       "    </tr>\n",
       "    <tr>\n",
       "      <th>2</th>\n",
       "      <td>NotSpecified</td>\n",
       "      <td>0</td>\n",
       "      <td>2412</td>\n",
       "    </tr>\n",
       "    <tr>\n",
       "      <th>3</th>\n",
       "      <td>NotSpecified</td>\n",
       "      <td>1</td>\n",
       "      <td>1257</td>\n",
       "    </tr>\n",
       "    <tr>\n",
       "      <th>4</th>\n",
       "      <td>Other Cities</td>\n",
       "      <td>0</td>\n",
       "      <td>410</td>\n",
       "    </tr>\n",
       "    <tr>\n",
       "      <th>5</th>\n",
       "      <td>Other Cities</td>\n",
       "      <td>1</td>\n",
       "      <td>276</td>\n",
       "    </tr>\n",
       "    <tr>\n",
       "      <th>6</th>\n",
       "      <td>Other Cities of Maharashtra</td>\n",
       "      <td>0</td>\n",
       "      <td>256</td>\n",
       "    </tr>\n",
       "    <tr>\n",
       "      <th>7</th>\n",
       "      <td>Other Cities of Maharashtra</td>\n",
       "      <td>1</td>\n",
       "      <td>201</td>\n",
       "    </tr>\n",
       "    <tr>\n",
       "      <th>8</th>\n",
       "      <td>Other Metro Cities</td>\n",
       "      <td>0</td>\n",
       "      <td>225</td>\n",
       "    </tr>\n",
       "    <tr>\n",
       "      <th>9</th>\n",
       "      <td>Other Metro Cities</td>\n",
       "      <td>1</td>\n",
       "      <td>155</td>\n",
       "    </tr>\n",
       "    <tr>\n",
       "      <th>10</th>\n",
       "      <td>Thane &amp; Outskirts</td>\n",
       "      <td>0</td>\n",
       "      <td>414</td>\n",
       "    </tr>\n",
       "    <tr>\n",
       "      <th>11</th>\n",
       "      <td>Thane &amp; Outskirts</td>\n",
       "      <td>1</td>\n",
       "      <td>338</td>\n",
       "    </tr>\n",
       "    <tr>\n",
       "      <th>12</th>\n",
       "      <td>Tier II Cities</td>\n",
       "      <td>0</td>\n",
       "      <td>49</td>\n",
       "    </tr>\n",
       "    <tr>\n",
       "      <th>13</th>\n",
       "      <td>Tier II Cities</td>\n",
       "      <td>1</td>\n",
       "      <td>25</td>\n",
       "    </tr>\n",
       "  </tbody>\n",
       "</table>\n",
       "</div>"
      ],
      "text/plain": [
       "                           City  Converted  count\n",
       "0                        Mumbai          0   1913\n",
       "1                        Mumbai          1   1309\n",
       "2                  NotSpecified          0   2412\n",
       "3                  NotSpecified          1   1257\n",
       "4                  Other Cities          0    410\n",
       "5                  Other Cities          1    276\n",
       "6   Other Cities of Maharashtra          0    256\n",
       "7   Other Cities of Maharashtra          1    201\n",
       "8            Other Metro Cities          0    225\n",
       "9            Other Metro Cities          1    155\n",
       "10            Thane & Outskirts          0    414\n",
       "11            Thane & Outskirts          1    338\n",
       "12               Tier II Cities          0     49\n",
       "13               Tier II Cities          1     25"
      ]
     },
     "execution_count": 24,
     "metadata": {},
     "output_type": "execute_result"
    }
   ],
   "source": [
    "leadsData.City.fillna('NotSpecified',inplace=True )\n",
    "\n",
    "cityCount = leadsData.groupby('City')['Converted'].value_counts().reset_index(name='count')\n",
    "cityCount"
   ]
  },
  {
   "cell_type": "code",
   "execution_count": 25,
   "metadata": {},
   "outputs": [
    {
     "data": {
      "text/plain": [
       "<matplotlib.axes._subplots.AxesSubplot at 0x18030cdb608>"
      ]
     },
     "execution_count": 25,
     "metadata": {},
     "output_type": "execute_result"
    },
    {
     "data": {
      "image/png": "[encoded data removed]",
      "text/plain": [
       "<Figure size 432x288 with 1 Axes>"
      ]
     },
     "metadata": {
      "needs_background": "light"
     },
     "output_type": "display_data"
    }
   ],
   "source": [
    "plt.xticks(rotation=45)\n",
    "sns.barplot(x='City', y='count', hue='Converted', data = cityCount)"
   ]
  },
  {
   "cell_type": "code",
   "execution_count": 26,
   "metadata": {},
   "outputs": [
    {
     "data": {
      "text/plain": [
       "2    0.6574\n",
       "3    0.3426\n",
       "Name: count, dtype: float64"
      ]
     },
     "execution_count": 26,
     "metadata": {},
     "output_type": "execute_result"
    }
   ],
   "source": [
    "cityCount.loc[cityCount.City=='NotSpecified', 'count']/cityCount.loc[cityCount.City=='NotSpecified', 'count'].sum()"
   ]
  },
  {
   "cell_type": "markdown",
   "metadata": {},
   "source": [
    "#### We are using the 'NotSpecified' category as the conversion rate and lead count is high"
   ]
  },
  {
   "cell_type": "code",
   "execution_count": 27,
   "metadata": {},
   "outputs": [
    {
     "data": {
      "text/plain": [
       "India                   6492\n",
       "United States             69\n",
       "United Arab Emirates      53\n",
       "Singapore                 24\n",
       "Saudi Arabia              21\n",
       "United Kingdom            15\n",
       "Australia                 13\n",
       "Qatar                     10\n",
       "Bahrain                    7\n",
       "Hong Kong                  7\n",
       "France                     6\n",
       "Oman                       6\n",
       "unknown                    5\n",
       "Germany                    4\n",
       "South Africa               4\n",
       "Canada                     4\n",
       "Nigeria                    4\n",
       "Kuwait                     4\n",
       "Sweden                     3\n",
       "Belgium                    2\n",
       "Uganda                     2\n",
       "Philippines                2\n",
       "Asia/Pacific Region        2\n",
       "China                      2\n",
       "Ghana                      2\n",
       "Bangladesh                 2\n",
       "Netherlands                2\n",
       "Italy                      2\n",
       "Liberia                    1\n",
       "Denmark                    1\n",
       "Switzerland                1\n",
       "Kenya                      1\n",
       "Vietnam                    1\n",
       "Indonesia                  1\n",
       "Malaysia                   1\n",
       "Tanzania                   1\n",
       "Russia                     1\n",
       "Sri Lanka                  1\n",
       "Name: Country, dtype: int64"
      ]
     },
     "execution_count": 27,
     "metadata": {},
     "output_type": "execute_result"
    }
   ],
   "source": [
    "leadsData.Country.value_counts()"
   ]
  },
  {
   "cell_type": "code",
   "execution_count": 28,
   "metadata": {},
   "outputs": [
    {
     "data": {
      "text/plain": [
       "India     70.259740\n",
       "NaN       26.634199\n",
       "Others     3.106061\n",
       "Name: Country, dtype: float64"
      ]
     },
     "execution_count": 28,
     "metadata": {},
     "output_type": "execute_result"
    }
   ],
   "source": [
    "leadsData.loc[(~(leadsData.Country=='India') & leadsData.Country.notnull()), 'Country'] ='Others'\n",
    "100* leadsData.Country.value_counts(dropna=False, normalize=True)"
   ]
  },
  {
   "cell_type": "code",
   "execution_count": 29,
   "metadata": {},
   "outputs": [
    {
     "data": {
      "text/html": [
       "<div>\n",
       "<style scoped>\n",
       "    .dataframe tbody tr th:only-of-type {\n",
       "        vertical-align: middle;\n",
       "    }\n",
       "\n",
       "    .dataframe tbody tr th {\n",
       "        vertical-align: top;\n",
       "    }\n",
       "\n",
       "    .dataframe thead th {\n",
       "        text-align: right;\n",
       "    }\n",
       "</style>\n",
       "<table border=\"1\" class=\"dataframe\">\n",
       "  <thead>\n",
       "    <tr style=\"text-align: right;\">\n",
       "      <th></th>\n",
       "      <th>Country</th>\n",
       "      <th>Converted</th>\n",
       "      <th>count</th>\n",
       "    </tr>\n",
       "  </thead>\n",
       "  <tbody>\n",
       "    <tr>\n",
       "      <th>0</th>\n",
       "      <td>India</td>\n",
       "      <td>0</td>\n",
       "      <td>4091</td>\n",
       "    </tr>\n",
       "    <tr>\n",
       "      <th>1</th>\n",
       "      <td>India</td>\n",
       "      <td>1</td>\n",
       "      <td>2401</td>\n",
       "    </tr>\n",
       "    <tr>\n",
       "      <th>2</th>\n",
       "      <td>NotSpecified</td>\n",
       "      <td>0</td>\n",
       "      <td>1385</td>\n",
       "    </tr>\n",
       "    <tr>\n",
       "      <th>3</th>\n",
       "      <td>NotSpecified</td>\n",
       "      <td>1</td>\n",
       "      <td>1076</td>\n",
       "    </tr>\n",
       "    <tr>\n",
       "      <th>4</th>\n",
       "      <td>Others</td>\n",
       "      <td>0</td>\n",
       "      <td>203</td>\n",
       "    </tr>\n",
       "    <tr>\n",
       "      <th>5</th>\n",
       "      <td>Others</td>\n",
       "      <td>1</td>\n",
       "      <td>84</td>\n",
       "    </tr>\n",
       "  </tbody>\n",
       "</table>\n",
       "</div>"
      ],
      "text/plain": [
       "        Country  Converted  count\n",
       "0         India          0   4091\n",
       "1         India          1   2401\n",
       "2  NotSpecified          0   1385\n",
       "3  NotSpecified          1   1076\n",
       "4        Others          0    203\n",
       "5        Others          1     84"
      ]
     },
     "execution_count": 29,
     "metadata": {},
     "output_type": "execute_result"
    }
   ],
   "source": [
    "leadsData.Country.fillna('NotSpecified',inplace=True )\n",
    "\n",
    "countryCount = leadsData.groupby('Country')['Converted'].value_counts().reset_index(name='count')\n",
    "countryCount"
   ]
  },
  {
   "cell_type": "code",
   "execution_count": 30,
   "metadata": {},
   "outputs": [
    {
     "data": {
      "text/plain": [
       "<matplotlib.axes._subplots.AxesSubplot at 0x18031d9c688>"
      ]
     },
     "execution_count": 30,
     "metadata": {},
     "output_type": "execute_result"
    },
    {
     "data": {
      "image/png": "[encoded data removed]",
      "text/plain": [
       "<Figure size 432x288 with 1 Axes>"
      ]
     },
     "metadata": {
      "needs_background": "light"
     },
     "output_type": "display_data"
    }
   ],
   "source": [
    "sns.barplot(x='Country', y='count', hue='Converted', data = countryCount)"
   ]
  },
  {
   "cell_type": "code",
   "execution_count": 31,
   "metadata": {},
   "outputs": [
    {
     "data": {
      "text/plain": [
       "2    0.562779\n",
       "3    0.437221\n",
       "Name: count, dtype: float64"
      ]
     },
     "execution_count": 31,
     "metadata": {},
     "output_type": "execute_result"
    }
   ],
   "source": [
    "countryCount.loc[countryCount.Country=='NotSpecified', 'count']/countryCount.loc[countryCount.Country=='NotSpecified', 'count'].sum()"
   ]
  },
  {
   "cell_type": "markdown",
   "metadata": {},
   "source": [
    "#### We see that over 36% people chose not specify the country. However conversion rate is high for these people. We can use this as third category"
   ]
  },
  {
   "cell_type": "code",
   "execution_count": 32,
   "metadata": {},
   "outputs": [
    {
     "data": {
      "text/plain": [
       "Unemployed              60.606061\n",
       "NaN                     29.112554\n",
       "Working Professional     7.640693\n",
       "Student                  2.272727\n",
       "Other                    0.173160\n",
       "Housewife                0.108225\n",
       "Businessman              0.086580\n",
       "Name: WhatIsYourCurrentOccupation, dtype: float64"
      ]
     },
     "execution_count": 32,
     "metadata": {},
     "output_type": "execute_result"
    }
   ],
   "source": [
    "leadsData.WhatIsYourCurrentOccupation.value_counts(normalize=True,dropna=False )*100"
   ]
  },
  {
   "cell_type": "code",
   "execution_count": 33,
   "metadata": {},
   "outputs": [
    {
     "data": {
      "text/html": [
       "<div>\n",
       "<style scoped>\n",
       "    .dataframe tbody tr th:only-of-type {\n",
       "        vertical-align: middle;\n",
       "    }\n",
       "\n",
       "    .dataframe tbody tr th {\n",
       "        vertical-align: top;\n",
       "    }\n",
       "\n",
       "    .dataframe thead th {\n",
       "        text-align: right;\n",
       "    }\n",
       "</style>\n",
       "<table border=\"1\" class=\"dataframe\">\n",
       "  <thead>\n",
       "    <tr style=\"text-align: right;\">\n",
       "      <th></th>\n",
       "      <th>WhatIsYourCurrentOccupation</th>\n",
       "      <th>Converted</th>\n",
       "      <th>count</th>\n",
       "    </tr>\n",
       "  </thead>\n",
       "  <tbody>\n",
       "    <tr>\n",
       "      <th>0</th>\n",
       "      <td>Businessman</td>\n",
       "      <td>1</td>\n",
       "      <td>5</td>\n",
       "    </tr>\n",
       "    <tr>\n",
       "      <th>1</th>\n",
       "      <td>Businessman</td>\n",
       "      <td>0</td>\n",
       "      <td>3</td>\n",
       "    </tr>\n",
       "    <tr>\n",
       "      <th>2</th>\n",
       "      <td>Housewife</td>\n",
       "      <td>1</td>\n",
       "      <td>10</td>\n",
       "    </tr>\n",
       "    <tr>\n",
       "      <th>3</th>\n",
       "      <td>NotSpecified</td>\n",
       "      <td>0</td>\n",
       "      <td>2320</td>\n",
       "    </tr>\n",
       "    <tr>\n",
       "      <th>4</th>\n",
       "      <td>NotSpecified</td>\n",
       "      <td>1</td>\n",
       "      <td>370</td>\n",
       "    </tr>\n",
       "    <tr>\n",
       "      <th>5</th>\n",
       "      <td>Other</td>\n",
       "      <td>1</td>\n",
       "      <td>10</td>\n",
       "    </tr>\n",
       "    <tr>\n",
       "      <th>6</th>\n",
       "      <td>Other</td>\n",
       "      <td>0</td>\n",
       "      <td>6</td>\n",
       "    </tr>\n",
       "    <tr>\n",
       "      <th>7</th>\n",
       "      <td>Student</td>\n",
       "      <td>0</td>\n",
       "      <td>132</td>\n",
       "    </tr>\n",
       "    <tr>\n",
       "      <th>8</th>\n",
       "      <td>Student</td>\n",
       "      <td>1</td>\n",
       "      <td>78</td>\n",
       "    </tr>\n",
       "    <tr>\n",
       "      <th>9</th>\n",
       "      <td>Unemployed</td>\n",
       "      <td>0</td>\n",
       "      <td>3159</td>\n",
       "    </tr>\n",
       "    <tr>\n",
       "      <th>10</th>\n",
       "      <td>Unemployed</td>\n",
       "      <td>1</td>\n",
       "      <td>2441</td>\n",
       "    </tr>\n",
       "    <tr>\n",
       "      <th>11</th>\n",
       "      <td>Working Professional</td>\n",
       "      <td>1</td>\n",
       "      <td>647</td>\n",
       "    </tr>\n",
       "    <tr>\n",
       "      <th>12</th>\n",
       "      <td>Working Professional</td>\n",
       "      <td>0</td>\n",
       "      <td>59</td>\n",
       "    </tr>\n",
       "  </tbody>\n",
       "</table>\n",
       "</div>"
      ],
      "text/plain": [
       "   WhatIsYourCurrentOccupation  Converted  count\n",
       "0                  Businessman          1      5\n",
       "1                  Businessman          0      3\n",
       "2                    Housewife          1     10\n",
       "3                 NotSpecified          0   2320\n",
       "4                 NotSpecified          1    370\n",
       "5                        Other          1     10\n",
       "6                        Other          0      6\n",
       "7                      Student          0    132\n",
       "8                      Student          1     78\n",
       "9                   Unemployed          0   3159\n",
       "10                  Unemployed          1   2441\n",
       "11        Working Professional          1    647\n",
       "12        Working Professional          0     59"
      ]
     },
     "execution_count": 33,
     "metadata": {},
     "output_type": "execute_result"
    }
   ],
   "source": [
    "leadsData.WhatIsYourCurrentOccupation.fillna('NotSpecified',inplace=True )\n",
    "\n",
    "occupationCount = leadsData.groupby('WhatIsYourCurrentOccupation')['Converted'].value_counts().reset_index(name='count')\n",
    "occupationCount"
   ]
  },
  {
   "cell_type": "code",
   "execution_count": 34,
   "metadata": {},
   "outputs": [
    {
     "data": {
      "text/plain": [
       "<matplotlib.axes._subplots.AxesSubplot at 0x18031e49648>"
      ]
     },
     "execution_count": 34,
     "metadata": {},
     "output_type": "execute_result"
    },
    {
     "data": {
      "image/png": "[encoded data removed]",
      "text/plain": [
       "<Figure size 432x288 with 1 Axes>"
      ]
     },
     "metadata": {
      "needs_background": "light"
     },
     "output_type": "display_data"
    }
   ],
   "source": [
    "plt.xticks(rotation=45)\n",
    "sns.barplot(x='WhatIsYourCurrentOccupation', y='count', hue='Converted', data = occupationCount)"
   ]
  },
  {
   "cell_type": "code",
   "execution_count": 35,
   "metadata": {},
   "outputs": [
    {
     "data": {
      "text/plain": [
       "3    0.862454\n",
       "4    0.137546\n",
       "Name: count, dtype: float64"
      ]
     },
     "execution_count": 35,
     "metadata": {},
     "output_type": "execute_result"
    }
   ],
   "source": [
    "occupationCount.loc[occupationCount.WhatIsYourCurrentOccupation=='NotSpecified', 'count']/occupationCount.loc[occupationCount.WhatIsYourCurrentOccupation=='NotSpecified', 'count'].sum()"
   ]
  },
  {
   "cell_type": "code",
   "execution_count": 36,
   "metadata": {},
   "outputs": [
    {
     "data": {
      "text/plain": [
       "9     0.564107\n",
       "10    0.435893\n",
       "Name: count, dtype: float64"
      ]
     },
     "execution_count": 36,
     "metadata": {},
     "output_type": "execute_result"
    }
   ],
   "source": [
    "occupationCount.loc[occupationCount.WhatIsYourCurrentOccupation=='Unemployed', 'count']/occupationCount.loc[occupationCount.WhatIsYourCurrentOccupation=='Unemployed', 'count'].sum()"
   ]
  },
  {
   "cell_type": "markdown",
   "metadata": {},
   "source": [
    "#### Conversion rate for NotSpecified and Unemployed Is high. While working professionals have lowest conversion rate. "
   ]
  },
  {
   "cell_type": "code",
   "execution_count": 37,
   "metadata": {},
   "outputs": [
    {
     "data": {
      "text/plain": [
       "Better Career Prospects      0.706494\n",
       "NaN                          0.293182\n",
       "Flexibility & Convenience    0.000216\n",
       "Other                        0.000108\n",
       "Name: WhatMattersMostToYouInChoosingACourse, dtype: float64"
      ]
     },
     "execution_count": 37,
     "metadata": {},
     "output_type": "execute_result"
    }
   ],
   "source": [
    "leadsData.WhatMattersMostToYouInChoosingACourse.value_counts(normalize=True, dropna=False)"
   ]
  },
  {
   "cell_type": "markdown",
   "metadata": {},
   "source": [
    "#### This column is highly skewed. and has high null values. We can drop this "
   ]
  },
  {
   "cell_type": "code",
   "execution_count": 38,
   "metadata": {},
   "outputs": [],
   "source": [
    "leadsData.drop('WhatMattersMostToYouInChoosingACourse', axis=1,inplace=True)"
   ]
  },
  {
   "cell_type": "code",
   "execution_count": 39,
   "metadata": {},
   "outputs": [
    {
     "data": {
      "text/plain": [
       "Email Opened                    3437\n",
       "SMS Sent                        2745\n",
       "Olark Chat Conversation          973\n",
       "Page Visited on Website          640\n",
       "Converted to Lead                428\n",
       "Email Bounced                    326\n",
       "Email Link Clicked               267\n",
       "Form Submitted on Website        116\n",
       "NaN                              103\n",
       "Unreachable                       93\n",
       "Unsubscribed                      61\n",
       "Had a Phone Conversation          30\n",
       "Approached upfront                 9\n",
       "View in browser link Clicked       6\n",
       "Email Received                     2\n",
       "Email Marked Spam                  2\n",
       "Resubscribed to emails             1\n",
       "Visited Booth in Tradeshow         1\n",
       "Name: LastActivity, dtype: int64"
      ]
     },
     "execution_count": 39,
     "metadata": {},
     "output_type": "execute_result"
    }
   ],
   "source": [
    "leadsData.LastActivity.value_counts(dropna=False)"
   ]
  },
  {
   "cell_type": "code",
   "execution_count": 40,
   "metadata": {},
   "outputs": [
    {
     "data": {
      "text/plain": [
       "Email Opened                 3437\n",
       "SMS Sent                     2745\n",
       "Olark Chat Conversation       973\n",
       "Page Visited on Website       640\n",
       "Converted to Lead             428\n",
       "Email Bounced                 326\n",
       "Email Link Clicked            267\n",
       "other                         205\n",
       "Form Submitted on Website     116\n",
       "Name: LastActivity, dtype: int64"
      ]
     },
     "execution_count": 40,
     "metadata": {},
     "output_type": "execute_result"
    }
   ],
   "source": [
    "cols = ['LastActivity']\n",
    "leadsData = replace_low_freq(leadsData[cols], 101).join(leadsData.drop(cols, 1))\n",
    "leadsData.LastActivity.value_counts(dropna=False)"
   ]
  },
  {
   "cell_type": "code",
   "execution_count": 41,
   "metadata": {},
   "outputs": [
    {
     "data": {
      "text/plain": [
       "Google               2868\n",
       "Direct Traffic       2543\n",
       "Olark Chat           1755\n",
       "Organic Search       1154\n",
       "Reference             462\n",
       "Welingak Website      129\n",
       "Referral Sites        125\n",
       "Facebook               39\n",
       "NaN                    34\n",
       "bing                    6\n",
       "google                  5\n",
       "Click2call              4\n",
       "Social Media            2\n",
       "Live Chat               2\n",
       "Press_Release           2\n",
       "Pay per Click Ads       1\n",
       "blog                    1\n",
       "youtubechannel          1\n",
       "WeLearn                 1\n",
       "welearnblog_Home        1\n",
       "NC_EDM                  1\n",
       "testone                 1\n",
       "Name: LeadSource, dtype: int64"
      ]
     },
     "execution_count": 41,
     "metadata": {},
     "output_type": "execute_result"
    }
   ],
   "source": [
    "# leadsData.LeadSource.value_counts(normalize=True, dropna=False)\n",
    "leadsData.LeadSource.value_counts(dropna=False)"
   ]
  },
  {
   "cell_type": "code",
   "execution_count": 42,
   "metadata": {},
   "outputs": [
    {
     "data": {
      "text/plain": [
       "Google              2868\n",
       "Direct Traffic      2543\n",
       "Olark Chat          1755\n",
       "Organic Search      1154\n",
       "Reference            462\n",
       "Welingak Website     129\n",
       "Referral Sites       125\n",
       "other                 67\n",
       "Name: LeadSource, dtype: int64"
      ]
     },
     "execution_count": 42,
     "metadata": {},
     "output_type": "execute_result"
    }
   ],
   "source": [
    "cols = ['LeadSource']\n",
    "leadsData = replace_low_freq(leadsData[cols]).join(leadsData.drop(cols, 1))\n",
    "leadsData.LeadSource.value_counts(dropna=False)"
   ]
  },
  {
   "cell_type": "code",
   "execution_count": 43,
   "metadata": {},
   "outputs": [
    {
     "data": {
      "text/plain": [
       "count    9074.000000\n",
       "mean        3.456028\n",
       "std         4.858802\n",
       "min         0.000000\n",
       "0%          0.000000\n",
       "25%         1.000000\n",
       "50%         3.000000\n",
       "75%         5.000000\n",
       "90%         7.000000\n",
       "95%        10.000000\n",
       "98%        13.000000\n",
       "99%        17.000000\n",
       "max       251.000000\n",
       "Name: Totalvisits, dtype: float64"
      ]
     },
     "execution_count": 43,
     "metadata": {},
     "output_type": "execute_result"
    }
   ],
   "source": [
    "leadsData.Totalvisits.describe(percentiles=[0, .25, .5, .75, .9, .95, .98, .99])"
   ]
  },
  {
   "cell_type": "code",
   "execution_count": 44,
   "metadata": {},
   "outputs": [],
   "source": [
    "# we can compute null with the median value. mean and median are not very far apart. and number of visits have to be an iteger.\n",
    "leadsData.loc[leadsData.Totalvisits.isnull(), 'Totalvisits'] = leadsData.Totalvisits.median()"
   ]
  },
  {
   "cell_type": "code",
   "execution_count": 45,
   "metadata": {},
   "outputs": [
    {
     "data": {
      "text/plain": [
       "count    9074.000000\n",
       "mean        2.370151\n",
       "std         2.160871\n",
       "min         0.000000\n",
       "0%          0.000000\n",
       "25%         1.000000\n",
       "50%         2.000000\n",
       "75%         3.200000\n",
       "90%         5.000000\n",
       "95%         6.000000\n",
       "98%         8.000000\n",
       "99%         9.000000\n",
       "max        55.000000\n",
       "Name: PageViewsPerVisit, dtype: float64"
      ]
     },
     "execution_count": 45,
     "metadata": {},
     "output_type": "execute_result"
    }
   ],
   "source": [
    "leadsData.PageViewsPerVisit.describe(percentiles=[0, .25, .5, .75, .9, .95, .98, .99])"
   ]
  },
  {
   "cell_type": "code",
   "execution_count": 46,
   "metadata": {},
   "outputs": [
    {
     "data": {
      "text/plain": [
       "array([ 0.  ,  2.5 ,  2.  ,  1.  ,  4.  ,  8.  ,  2.67, 11.  ,  5.  ,\n",
       "        6.  ,  3.  ,  1.33,  1.5 ,  3.5 ,  7.  ,  2.33, 13.  ,  8.5 ,\n",
       "        5.5 ,  1.67,  4.5 ,  3.33, 16.  , 12.  ,  1.71,   nan,  1.8 ,\n",
       "        6.5 ,  4.33, 14.  ,  3.4 , 10.  ,  1.25,  1.75,  2.63, 15.  ,\n",
       "        2.25,  3.67,  1.43,  9.  ,  2.6 ,  4.75,  1.27,  3.25,  5.33,\n",
       "        2.57,  2.17,  2.75,  2.8 ,  2.2 ,  2.86,  3.91,  1.4 ,  5.67,\n",
       "        3.2 ,  1.38,  2.09,  2.4 , 55.  ,  5.25,  6.71,  3.57,  2.22,\n",
       "        1.83,  3.6 ,  1.2 ,  1.57,  1.56,  5.4 ,  4.25,  1.31,  1.6 ,\n",
       "        2.9 ,  1.23,  1.78,  3.83,  7.5 ,  1.14,  2.71,  1.45,  2.38,\n",
       "        1.86,  2.29,  1.21, 12.33,  3.43,  2.56,  6.33,  1.64,  8.21,\n",
       "        4.4 ,  3.17,  8.33,  1.48,  1.22, 24.  ,  3.75,  6.67,  1.54,\n",
       "        2.13,  2.14,  2.45,  3.29,  4.17,  1.63,  3.38,  1.17, 14.5 ,\n",
       "        3.8 ,  1.19,  3.82,  2.83,  1.93, 11.5 ,  2.08])"
      ]
     },
     "execution_count": 46,
     "metadata": {},
     "output_type": "execute_result"
    }
   ],
   "source": [
    "leadsData.PageViewsPerVisit.unique()"
   ]
  },
  {
   "cell_type": "code",
   "execution_count": 47,
   "metadata": {},
   "outputs": [],
   "source": [
    "# we can compute null with the median value. mean and median are not very far apart. and number of visits have to be an iteger.\n",
    "leadsData.loc[leadsData.PageViewsPerVisit.isnull(), 'PageViewsPerVisit'] = leadsData.PageViewsPerVisit.mean()"
   ]
  },
  {
   "cell_type": "code",
   "execution_count": null,
   "metadata": {},
   "outputs": [],
   "source": []
  },
  {
   "cell_type": "code",
   "execution_count": 48,
   "metadata": {},
   "outputs": [
    {
     "data": {
      "text/plain": [
       "LeadSource                           0.0\n",
       "LastActivity                         0.0\n",
       "LeadOrigin                           0.0\n",
       "DoNotEmail                           0.0\n",
       "DoNotCall                            0.0\n",
       "Converted                            0.0\n",
       "Totalvisits                          0.0\n",
       "TotalTimeSpentOnWebsite              0.0\n",
       "PageViewsPerVisit                    0.0\n",
       "Country                              0.0\n",
       "Specialization                       0.0\n",
       "WhatIsYourCurrentOccupation          0.0\n",
       "Search                               0.0\n",
       "Magazine                             0.0\n",
       "NewspaperArticle                     0.0\n",
       "XEducationForums                     0.0\n",
       "Newspaper                            0.0\n",
       "DigitalAdvertisement                 0.0\n",
       "ThroughRecommendations               0.0\n",
       "ReceiveMoreUpdatesAboutOurCourses    0.0\n",
       "UpdateMeOnSupplyChainContent         0.0\n",
       "GetUpdatesOnDmContent                0.0\n",
       "City                                 0.0\n",
       "IAgreeToPayTheAmountThroughCheque    0.0\n",
       "AFreeCopyOfMasteringTheInterview     0.0\n",
       "LastNotableActivity                  0.0\n",
       "dtype: float64"
      ]
     },
     "execution_count": 48,
     "metadata": {},
     "output_type": "execute_result"
    }
   ],
   "source": [
    "# Checking the percentage of missing values\n",
    "round(100*(leadsData.isnull().sum()/len(leadsData.index)), 2)"
   ]
  },
  {
   "cell_type": "markdown",
   "metadata": {},
   "source": [
    "### Step 3: Exploratory Data Analysis\n",
    "\n",
    "#### Univariate "
   ]
  },
  {
   "cell_type": "code",
   "execution_count": 49,
   "metadata": {},
   "outputs": [
    {
     "data": {
      "image/png": "[encoded data removed]",
      "text/plain": [
       "<Figure size 576x360 with 1 Axes>"
      ]
     },
     "metadata": {},
     "output_type": "display_data"
    }
   ],
   "source": [
    "plt.figure(figsize=[8,5])\n",
    "leadsData.Converted.value_counts(normalize=True).plot.pie(autopct='%1.1f%%', labels=['Fail', 'Success'])\n",
    "plt.title('Conversion percentage', fontsize=20)\n",
    "plt.show()"
   ]
  },
  {
   "cell_type": "markdown",
   "metadata": {},
   "source": [
    "#### From above plot, we can observe that,\n",
    "- About 60% of leads have gone cold, while 40% leads have been converted into oppotunities."
   ]
  },
  {
   "cell_type": "code",
   "execution_count": 50,
   "metadata": {},
   "outputs": [
    {
     "data": {
      "image/png": "[encoded data removed]",
      "text/plain": [
       "<Figure size 720x360 with 1 Axes>"
      ]
     },
     "metadata": {
      "needs_background": "light"
     },
     "output_type": "display_data"
    }
   ],
   "source": [
    "plt.figure(figsize=[10,5])\n",
    "sns.boxplot(leadsData.TotalTimeSpentOnWebsite)\n",
    "plt.title('Time spent on website (minutes)', fontsize=20)\n",
    "plt.show()"
   ]
  },
  {
   "cell_type": "code",
   "execution_count": 51,
   "metadata": {},
   "outputs": [
    {
     "data": {
      "text/plain": [
       "483.7739206854883"
      ]
     },
     "execution_count": 51,
     "metadata": {},
     "output_type": "execute_result"
    }
   ],
   "source": [
    "leadsData.TotalTimeSpentOnWebsite.mean()"
   ]
  },
  {
   "cell_type": "markdown",
   "metadata": {},
   "source": [
    "#### From the above plot, we can observe that,\n",
    "- Maximum of leads have spent very less time on the website, close to around 50 minutes\n",
    "- Average time spent on wesite is 8 hours and 11 minutes\n",
    "- A rise in time spent after 700 minutes, indicates that some leads have been spending a lot of time on the website, maybe looking at resources and offers. It may be the case that these leads have a higher tendency to convert. We can test this assumption later."
   ]
  },
  {
   "cell_type": "code",
   "execution_count": 52,
   "metadata": {},
   "outputs": [],
   "source": [
    "# Converting nan values in PageViewsPerVisit to 0\n",
    "leadsData.PageViewsPerVisit.fillna(0, inplace=True)"
   ]
  },
  {
   "cell_type": "code",
   "execution_count": 53,
   "metadata": {},
   "outputs": [
    {
     "data": {
      "image/png": "[encoded data removed]",
      "text/plain": [
       "<Figure size 1080x360 with 1 Axes>"
      ]
     },
     "metadata": {
      "needs_background": "light"
     },
     "output_type": "display_data"
    }
   ],
   "source": [
    "plt.figure(figsize=[15,5])\n",
    "sns.boxplot(leadsData.PageViewsPerVisit)\n",
    "plt.title('Average page view on website (minutes)', fontsize=20)\n",
    "plt.show()"
   ]
  },
  {
   "cell_type": "code",
   "execution_count": 54,
   "metadata": {},
   "outputs": [
    {
     "data": {
      "text/plain": [
       "2.3701509808243335"
      ]
     },
     "execution_count": 54,
     "metadata": {},
     "output_type": "execute_result"
    }
   ],
   "source": [
    "leadsData.PageViewsPerVisit.mean()"
   ]
  },
  {
   "cell_type": "markdown",
   "metadata": {},
   "source": [
    "#### From the above plot, we can observe that,\n",
    "- Average time spent per page by all leads is very less, close to 2.32 minutes.\n",
    "- High mean time on website but low page views per visit indicates that the website is attracting a lot of people but people are not finding the content on the website interesting."
   ]
  },
  {
   "cell_type": "markdown",
   "metadata": {},
   "source": [
    "#### Categorical columns"
   ]
  },
  {
   "cell_type": "code",
   "execution_count": 55,
   "metadata": {},
   "outputs": [
    {
     "data": {
      "image/png": "[encoded data removed]",
      "text/plain": [
       "<Figure size 576x360 with 1 Axes>"
      ]
     },
     "metadata": {
      "needs_background": "light"
     },
     "output_type": "display_data"
    }
   ],
   "source": [
    "plt.figure(figsize=[8,5])\n",
    "(leadsData.LeadOrigin.value_counts(normalize=True)*100).plot(kind='bar')\n",
    "plt.xlabel('Origin', fontsize=20)\n",
    "plt.ylabel('Percent', fontsize=20)\n",
    "plt.title('Lead origin percent', fontsize=20)\n",
    "plt.show()"
   ]
  },
  {
   "cell_type": "markdown",
   "metadata": {},
   "source": [
    "#### From the above plot, we can observe that,\n",
    "- The main origin of leads is Landing page submission, around 52%.\n",
    "- Lead Import and Quick Add form have a very low share in generating leads"
   ]
  },
  {
   "cell_type": "code",
   "execution_count": 56,
   "metadata": {},
   "outputs": [
    {
     "data": {
      "image/png": "[encoded data removed]",
      "text/plain": [
       "<Figure size 1080x360 with 1 Axes>"
      ]
     },
     "metadata": {
      "needs_background": "light"
     },
     "output_type": "display_data"
    }
   ],
   "source": [
    "plt.figure(figsize=[15,5])\n",
    "(leadsData.LeadSource.value_counts(normalize=True)*100).plot(kind='bar')\n",
    "plt.xlabel('Source', fontsize=20)\n",
    "plt.ylabel('Percent', fontsize=20)\n",
    "plt.title('Lead source percent', fontsize=20)\n",
    "plt.show()"
   ]
  },
  {
   "cell_type": "markdown",
   "metadata": {},
   "source": [
    "#### From the above plot, we can observe that,\n",
    "- Google, direct traffic, Olark chat and organic search are main source of leads with a share of 89%\n",
    "- Other than the 4 mentioned sources, rest all sources have a very less to contribute, which indicates that the marketting of the X Education is not as expected."
   ]
  },
  {
   "cell_type": "code",
   "execution_count": 57,
   "metadata": {},
   "outputs": [
    {
     "data": {
      "image/png": "[encoded data removed]",
      "text/plain": [
       "<Figure size 1080x720 with 2 Axes>"
      ]
     },
     "metadata": {},
     "output_type": "display_data"
    }
   ],
   "source": [
    "plt.figure(figsize=[15,10])\n",
    "plt.subplot(131)\n",
    "leadsData.DoNotCall.value_counts(normalize=True).plot.pie(labels=['No', 'yes'])\n",
    "plt.title('Do not call', fontsize=20)\n",
    "plt.subplot(133)\n",
    "leadsData.DoNotEmail.value_counts(normalize=True).plot.pie(labels=['No', 'yes'])\n",
    "plt.title('Do not Email', fontsize=20)\n",
    "plt.show()"
   ]
  },
  {
   "cell_type": "markdown",
   "metadata": {},
   "source": [
    "#### From the above plot, we can observe that,\n",
    "- 99.99% of leads have Do not call opton set to No. Clearly this columns is not adding any significant value to our data. Hence, we can choose to drop this column.\n",
    "- About 7% of leads have opted for Do not email option. This might be beacuse of a lot of marketing emails and users have unsubscribed from mailing list."
   ]
  },
  {
   "cell_type": "code",
   "execution_count": 58,
   "metadata": {},
   "outputs": [],
   "source": [
    "leadsData.drop('DoNotCall', axis=1, inplace=True)"
   ]
  },
  {
   "cell_type": "code",
   "execution_count": 59,
   "metadata": {},
   "outputs": [
    {
     "data": {
      "image/png": "[encoded data removed]",
      "text/plain": [
       "<Figure size 720x360 with 1 Axes>"
      ]
     },
     "metadata": {
      "needs_background": "light"
     },
     "output_type": "display_data"
    }
   ],
   "source": [
    "plt.figure(figsize=[10,5])\n",
    "plt.title('Leads via Recommendation', fontsize=20)\n",
    "(leadsData.ThroughRecommendations.value_counts(normalize=True)*100).plot(kind = 'barh')\n",
    "plt.xlabel('Percent', fontsize=20)\n",
    "plt.show()"
   ]
  },
  {
   "cell_type": "markdown",
   "metadata": {},
   "source": [
    "#### From the above plot, we can observe that,\n",
    "- Only about 0.001% of leads have come through recommendation. Rest all of the leads have come from different sources. Since this column does not add any significant change to our analysis, we can choose to drop this column"
   ]
  },
  {
   "cell_type": "code",
   "execution_count": 60,
   "metadata": {},
   "outputs": [],
   "source": [
    "leadsData.drop('ThroughRecommendations', axis=1, inplace=True)"
   ]
  },
  {
   "cell_type": "code",
   "execution_count": 61,
   "metadata": {},
   "outputs": [
    {
     "data": {
      "image/png": "[encoded data removed]",
      "text/plain": [
       "<Figure size 360x360 with 1 Axes>"
      ]
     },
     "metadata": {
      "needs_background": "light"
     },
     "output_type": "display_data"
    }
   ],
   "source": [
    "plt.figure(figsize=[5,5])\n",
    "plt.title('Recieve updates about the course', fontsize=20)\n",
    "(leadsData.ReceiveMoreUpdatesAboutOurCourses.value_counts(normalize=True)*100).plot(kind = 'bar')\n",
    "plt.xlabel('Percent', fontsize=20)\n",
    "plt.show()"
   ]
  },
  {
   "cell_type": "markdown",
   "metadata": {},
   "source": [
    "#### From the above plot, we can observe that,\n",
    "- All the rows have same value for this column hence we can choose to drop this column as well."
   ]
  },
  {
   "cell_type": "code",
   "execution_count": 62,
   "metadata": {},
   "outputs": [],
   "source": [
    "leadsData.drop('ReceiveMoreUpdatesAboutOurCourses', axis=1, inplace=True)"
   ]
  },
  {
   "cell_type": "code",
   "execution_count": 63,
   "metadata": {},
   "outputs": [
    {
     "data": {
      "image/png": "[encoded data removed]",
      "text/plain": [
       "<Figure size 1080x720 with 1 Axes>"
      ]
     },
     "metadata": {},
     "output_type": "display_data"
    }
   ],
   "source": [
    "plt.figure(figsize=[15,10])\n",
    "plt.subplot(131)\n",
    "leadsData.AFreeCopyOfMasteringTheInterview.value_counts(normalize=True).plot.pie(autopct='%1.1f%%', labels=['No', 'yes'])\n",
    "plt.title('Opted for Free Interview copy', fontsize=20)\n",
    "plt.show()"
   ]
  },
  {
   "cell_type": "markdown",
   "metadata": {},
   "source": [
    "#### From the above plot, we can observe that,\n",
    "- About 31.3% of leads have shown positive interest towards the free copy of mastering the interview provided by the educational institute. They might have some good content if a significant amount of leads are opting for it. Also, it can be the case that leads who have shown interest in the free copy are more likely to be converted. We can test this assumption later"
   ]
  },
  {
   "cell_type": "markdown",
   "metadata": {},
   "source": [
    "#### Bivariate "
   ]
  },
  {
   "cell_type": "code",
   "execution_count": 64,
   "metadata": {},
   "outputs": [
    {
     "data": {
      "image/png": "[encoded data removed]",
      "text/plain": [
       "<Figure size 1080x576 with 1 Axes>"
      ]
     },
     "metadata": {
      "needs_background": "light"
     },
     "output_type": "display_data"
    }
   ],
   "source": [
    "#LeadSource vs Converted\n",
    "leadSourceCount = leadsData.groupby('LeadSource')['Converted'].value_counts().reset_index(name='count')\n",
    "plt.figure(figsize=[15,8])\n",
    "sns.barplot(x='LeadSource', y='count', hue='Converted', data = leadSourceCount)\n",
    "plt.xticks(rotation=45)\n",
    "plt.title(\"Lead source vs converted\", fontsize=20)\n",
    "plt.show()"
   ]
  },
  {
   "cell_type": "markdown",
   "metadata": {},
   "source": [
    "#### From the above plot, we can observe that,\n",
    "- Out of all the sources of leads, only Reference and Welingak Website have more positive leads than negative leads.\n",
    "- Direct traffic has almost 33% conversion rate\n",
    "- Google has about 40% conversion rate.\n",
    "- Olark Chat has around 25% conversion rate while Organic Search has around 37% conversion rate"
   ]
  },
  {
   "cell_type": "code",
   "execution_count": 65,
   "metadata": {},
   "outputs": [
    {
     "data": {
      "image/png": "[encoded data removed]",
      "text/plain": [
       "<Figure size 360x360 with 1 Axes>"
      ]
     },
     "metadata": {
      "needs_background": "light"
     },
     "output_type": "display_data"
    }
   ],
   "source": [
    "# AFreeCopyOfMasteringTheInterview vs Converted\n",
    "freeCopyCount = leadsData.groupby('AFreeCopyOfMasteringTheInterview')['Converted'].value_counts().reset_index(name='count')\n",
    "plt.figure(figsize=[5,5])\n",
    "sns.barplot(x='AFreeCopyOfMasteringTheInterview', y='count', hue='Converted', data = freeCopyCount)\n",
    "plt.xticks(rotation=45)\n",
    "plt.title(\"Free copy vs converted\", fontsize=20)\n",
    "plt.show()"
   ]
  },
  {
   "cell_type": "markdown",
   "metadata": {},
   "source": [
    "#### From the above plot, we can observe that,\n",
    "- Both leads who opted for free copy and those who didn't have similar conversion rate, 39.8% and 35.6% respectively. This contradicts our assumption that leads who opted for free copy might have higher conversion rate."
   ]
  },
  {
   "cell_type": "markdown",
   "metadata": {},
   "source": [
    "### Data preparation\n",
    "let's look at the columns with string data types and map them"
   ]
  },
  {
   "cell_type": "code",
   "execution_count": 66,
   "metadata": {},
   "outputs": [
    {
     "data": {
      "text/html": [
       "<div>\n",
       "<style scoped>\n",
       "    .dataframe tbody tr th:only-of-type {\n",
       "        vertical-align: middle;\n",
       "    }\n",
       "\n",
       "    .dataframe tbody tr th {\n",
       "        vertical-align: top;\n",
       "    }\n",
       "\n",
       "    .dataframe thead th {\n",
       "        text-align: right;\n",
       "    }\n",
       "</style>\n",
       "<table border=\"1\" class=\"dataframe\">\n",
       "  <thead>\n",
       "    <tr style=\"text-align: right;\">\n",
       "      <th></th>\n",
       "      <th>LeadSource</th>\n",
       "      <th>LastActivity</th>\n",
       "      <th>LeadOrigin</th>\n",
       "      <th>DoNotEmail</th>\n",
       "      <th>Country</th>\n",
       "      <th>Specialization</th>\n",
       "      <th>WhatIsYourCurrentOccupation</th>\n",
       "      <th>Search</th>\n",
       "      <th>Magazine</th>\n",
       "      <th>NewspaperArticle</th>\n",
       "      <th>XEducationForums</th>\n",
       "      <th>Newspaper</th>\n",
       "      <th>DigitalAdvertisement</th>\n",
       "      <th>UpdateMeOnSupplyChainContent</th>\n",
       "      <th>GetUpdatesOnDmContent</th>\n",
       "      <th>City</th>\n",
       "      <th>IAgreeToPayTheAmountThroughCheque</th>\n",
       "      <th>AFreeCopyOfMasteringTheInterview</th>\n",
       "      <th>LastNotableActivity</th>\n",
       "    </tr>\n",
       "  </thead>\n",
       "  <tbody>\n",
       "    <tr>\n",
       "      <th>0</th>\n",
       "      <td>Olark Chat</td>\n",
       "      <td>Page Visited on Website</td>\n",
       "      <td>API</td>\n",
       "      <td>No</td>\n",
       "      <td>NotSpecified</td>\n",
       "      <td>NotSpecified</td>\n",
       "      <td>Unemployed</td>\n",
       "      <td>No</td>\n",
       "      <td>No</td>\n",
       "      <td>No</td>\n",
       "      <td>No</td>\n",
       "      <td>No</td>\n",
       "      <td>No</td>\n",
       "      <td>No</td>\n",
       "      <td>No</td>\n",
       "      <td>NotSpecified</td>\n",
       "      <td>No</td>\n",
       "      <td>No</td>\n",
       "      <td>Modified</td>\n",
       "    </tr>\n",
       "    <tr>\n",
       "      <th>1</th>\n",
       "      <td>Organic Search</td>\n",
       "      <td>Email Opened</td>\n",
       "      <td>API</td>\n",
       "      <td>No</td>\n",
       "      <td>India</td>\n",
       "      <td>NotSpecified</td>\n",
       "      <td>Unemployed</td>\n",
       "      <td>No</td>\n",
       "      <td>No</td>\n",
       "      <td>No</td>\n",
       "      <td>No</td>\n",
       "      <td>No</td>\n",
       "      <td>No</td>\n",
       "      <td>No</td>\n",
       "      <td>No</td>\n",
       "      <td>NotSpecified</td>\n",
       "      <td>No</td>\n",
       "      <td>No</td>\n",
       "      <td>Email Opened</td>\n",
       "    </tr>\n",
       "    <tr>\n",
       "      <th>2</th>\n",
       "      <td>Direct Traffic</td>\n",
       "      <td>Email Opened</td>\n",
       "      <td>Landing Page Submission</td>\n",
       "      <td>No</td>\n",
       "      <td>India</td>\n",
       "      <td>Business Administration</td>\n",
       "      <td>Student</td>\n",
       "      <td>No</td>\n",
       "      <td>No</td>\n",
       "      <td>No</td>\n",
       "      <td>No</td>\n",
       "      <td>No</td>\n",
       "      <td>No</td>\n",
       "      <td>No</td>\n",
       "      <td>No</td>\n",
       "      <td>Mumbai</td>\n",
       "      <td>No</td>\n",
       "      <td>Yes</td>\n",
       "      <td>Email Opened</td>\n",
       "    </tr>\n",
       "    <tr>\n",
       "      <th>3</th>\n",
       "      <td>Direct Traffic</td>\n",
       "      <td>other</td>\n",
       "      <td>Landing Page Submission</td>\n",
       "      <td>No</td>\n",
       "      <td>India</td>\n",
       "      <td>Media and Advertising</td>\n",
       "      <td>Unemployed</td>\n",
       "      <td>No</td>\n",
       "      <td>No</td>\n",
       "      <td>No</td>\n",
       "      <td>No</td>\n",
       "      <td>No</td>\n",
       "      <td>No</td>\n",
       "      <td>No</td>\n",
       "      <td>No</td>\n",
       "      <td>Mumbai</td>\n",
       "      <td>No</td>\n",
       "      <td>No</td>\n",
       "      <td>Modified</td>\n",
       "    </tr>\n",
       "    <tr>\n",
       "      <th>4</th>\n",
       "      <td>Google</td>\n",
       "      <td>Converted to Lead</td>\n",
       "      <td>Landing Page Submission</td>\n",
       "      <td>No</td>\n",
       "      <td>India</td>\n",
       "      <td>NotSpecified</td>\n",
       "      <td>Unemployed</td>\n",
       "      <td>No</td>\n",
       "      <td>No</td>\n",
       "      <td>No</td>\n",
       "      <td>No</td>\n",
       "      <td>No</td>\n",
       "      <td>No</td>\n",
       "      <td>No</td>\n",
       "      <td>No</td>\n",
       "      <td>Mumbai</td>\n",
       "      <td>No</td>\n",
       "      <td>No</td>\n",
       "      <td>Modified</td>\n",
       "    </tr>\n",
       "    <tr>\n",
       "      <th>...</th>\n",
       "      <td>...</td>\n",
       "      <td>...</td>\n",
       "      <td>...</td>\n",
       "      <td>...</td>\n",
       "      <td>...</td>\n",
       "      <td>...</td>\n",
       "      <td>...</td>\n",
       "      <td>...</td>\n",
       "      <td>...</td>\n",
       "      <td>...</td>\n",
       "      <td>...</td>\n",
       "      <td>...</td>\n",
       "      <td>...</td>\n",
       "      <td>...</td>\n",
       "      <td>...</td>\n",
       "      <td>...</td>\n",
       "      <td>...</td>\n",
       "      <td>...</td>\n",
       "      <td>...</td>\n",
       "    </tr>\n",
       "    <tr>\n",
       "      <th>9235</th>\n",
       "      <td>Direct Traffic</td>\n",
       "      <td>other</td>\n",
       "      <td>Landing Page Submission</td>\n",
       "      <td>Yes</td>\n",
       "      <td>Others</td>\n",
       "      <td>IT Projects Management</td>\n",
       "      <td>Unemployed</td>\n",
       "      <td>No</td>\n",
       "      <td>No</td>\n",
       "      <td>No</td>\n",
       "      <td>No</td>\n",
       "      <td>No</td>\n",
       "      <td>No</td>\n",
       "      <td>No</td>\n",
       "      <td>No</td>\n",
       "      <td>Mumbai</td>\n",
       "      <td>No</td>\n",
       "      <td>No</td>\n",
       "      <td>Email Marked Spam</td>\n",
       "    </tr>\n",
       "    <tr>\n",
       "      <th>9236</th>\n",
       "      <td>Direct Traffic</td>\n",
       "      <td>SMS Sent</td>\n",
       "      <td>Landing Page Submission</td>\n",
       "      <td>No</td>\n",
       "      <td>India</td>\n",
       "      <td>Media and Advertising</td>\n",
       "      <td>Unemployed</td>\n",
       "      <td>No</td>\n",
       "      <td>No</td>\n",
       "      <td>No</td>\n",
       "      <td>No</td>\n",
       "      <td>No</td>\n",
       "      <td>No</td>\n",
       "      <td>No</td>\n",
       "      <td>No</td>\n",
       "      <td>Mumbai</td>\n",
       "      <td>No</td>\n",
       "      <td>Yes</td>\n",
       "      <td>SMS Sent</td>\n",
       "    </tr>\n",
       "    <tr>\n",
       "      <th>9237</th>\n",
       "      <td>Direct Traffic</td>\n",
       "      <td>SMS Sent</td>\n",
       "      <td>Landing Page Submission</td>\n",
       "      <td>Yes</td>\n",
       "      <td>India</td>\n",
       "      <td>Business Administration</td>\n",
       "      <td>Unemployed</td>\n",
       "      <td>No</td>\n",
       "      <td>No</td>\n",
       "      <td>No</td>\n",
       "      <td>No</td>\n",
       "      <td>No</td>\n",
       "      <td>No</td>\n",
       "      <td>No</td>\n",
       "      <td>No</td>\n",
       "      <td>Mumbai</td>\n",
       "      <td>No</td>\n",
       "      <td>Yes</td>\n",
       "      <td>SMS Sent</td>\n",
       "    </tr>\n",
       "    <tr>\n",
       "      <th>9238</th>\n",
       "      <td>Google</td>\n",
       "      <td>SMS Sent</td>\n",
       "      <td>Landing Page Submission</td>\n",
       "      <td>No</td>\n",
       "      <td>India</td>\n",
       "      <td>Human Resource Management</td>\n",
       "      <td>NotSpecified</td>\n",
       "      <td>No</td>\n",
       "      <td>No</td>\n",
       "      <td>No</td>\n",
       "      <td>No</td>\n",
       "      <td>No</td>\n",
       "      <td>No</td>\n",
       "      <td>No</td>\n",
       "      <td>No</td>\n",
       "      <td>Other Metro Cities</td>\n",
       "      <td>No</td>\n",
       "      <td>No</td>\n",
       "      <td>SMS Sent</td>\n",
       "    </tr>\n",
       "    <tr>\n",
       "      <th>9239</th>\n",
       "      <td>Direct Traffic</td>\n",
       "      <td>SMS Sent</td>\n",
       "      <td>Landing Page Submission</td>\n",
       "      <td>No</td>\n",
       "      <td>Others</td>\n",
       "      <td>Supply Chain Management</td>\n",
       "      <td>Unemployed</td>\n",
       "      <td>No</td>\n",
       "      <td>No</td>\n",
       "      <td>No</td>\n",
       "      <td>No</td>\n",
       "      <td>No</td>\n",
       "      <td>No</td>\n",
       "      <td>No</td>\n",
       "      <td>No</td>\n",
       "      <td>Other Cities</td>\n",
       "      <td>No</td>\n",
       "      <td>Yes</td>\n",
       "      <td>Modified</td>\n",
       "    </tr>\n",
       "  </tbody>\n",
       "</table>\n",
       "<p>9103 rows × 19 columns</p>\n",
       "</div>"
      ],
      "text/plain": [
       "          LeadSource             LastActivity               LeadOrigin  \\\n",
       "0         Olark Chat  Page Visited on Website                      API   \n",
       "1     Organic Search             Email Opened                      API   \n",
       "2     Direct Traffic             Email Opened  Landing Page Submission   \n",
       "3     Direct Traffic                    other  Landing Page Submission   \n",
       "4             Google        Converted to Lead  Landing Page Submission   \n",
       "...              ...                      ...                      ...   \n",
       "9235  Direct Traffic                    other  Landing Page Submission   \n",
       "9236  Direct Traffic                 SMS Sent  Landing Page Submission   \n",
       "9237  Direct Traffic                 SMS Sent  Landing Page Submission   \n",
       "9238          Google                 SMS Sent  Landing Page Submission   \n",
       "9239  Direct Traffic                 SMS Sent  Landing Page Submission   \n",
       "\n",
       "     DoNotEmail       Country             Specialization  \\\n",
       "0            No  NotSpecified               NotSpecified   \n",
       "1            No         India               NotSpecified   \n",
       "2            No         India    Business Administration   \n",
       "3            No         India      Media and Advertising   \n",
       "4            No         India               NotSpecified   \n",
       "...         ...           ...                        ...   \n",
       "9235        Yes        Others     IT Projects Management   \n",
       "9236         No         India      Media and Advertising   \n",
       "9237        Yes         India    Business Administration   \n",
       "9238         No         India  Human Resource Management   \n",
       "9239         No        Others    Supply Chain Management   \n",
       "\n",
       "     WhatIsYourCurrentOccupation Search Magazine NewspaperArticle  \\\n",
       "0                     Unemployed     No       No               No   \n",
       "1                     Unemployed     No       No               No   \n",
       "2                        Student     No       No               No   \n",
       "3                     Unemployed     No       No               No   \n",
       "4                     Unemployed     No       No               No   \n",
       "...                          ...    ...      ...              ...   \n",
       "9235                  Unemployed     No       No               No   \n",
       "9236                  Unemployed     No       No               No   \n",
       "9237                  Unemployed     No       No               No   \n",
       "9238                NotSpecified     No       No               No   \n",
       "9239                  Unemployed     No       No               No   \n",
       "\n",
       "     XEducationForums Newspaper DigitalAdvertisement  \\\n",
       "0                  No        No                   No   \n",
       "1                  No        No                   No   \n",
       "2                  No        No                   No   \n",
       "3                  No        No                   No   \n",
       "4                  No        No                   No   \n",
       "...               ...       ...                  ...   \n",
       "9235               No        No                   No   \n",
       "9236               No        No                   No   \n",
       "9237               No        No                   No   \n",
       "9238               No        No                   No   \n",
       "9239               No        No                   No   \n",
       "\n",
       "     UpdateMeOnSupplyChainContent GetUpdatesOnDmContent                City  \\\n",
       "0                              No                    No        NotSpecified   \n",
       "1                              No                    No        NotSpecified   \n",
       "2                              No                    No              Mumbai   \n",
       "3                              No                    No              Mumbai   \n",
       "4                              No                    No              Mumbai   \n",
       "...                           ...                   ...                 ...   \n",
       "9235                           No                    No              Mumbai   \n",
       "9236                           No                    No              Mumbai   \n",
       "9237                           No                    No              Mumbai   \n",
       "9238                           No                    No  Other Metro Cities   \n",
       "9239                           No                    No        Other Cities   \n",
       "\n",
       "     IAgreeToPayTheAmountThroughCheque AFreeCopyOfMasteringTheInterview  \\\n",
       "0                                   No                               No   \n",
       "1                                   No                               No   \n",
       "2                                   No                              Yes   \n",
       "3                                   No                               No   \n",
       "4                                   No                               No   \n",
       "...                                ...                              ...   \n",
       "9235                                No                               No   \n",
       "9236                                No                              Yes   \n",
       "9237                                No                              Yes   \n",
       "9238                                No                               No   \n",
       "9239                                No                              Yes   \n",
       "\n",
       "     LastNotableActivity  \n",
       "0               Modified  \n",
       "1           Email Opened  \n",
       "2           Email Opened  \n",
       "3               Modified  \n",
       "4               Modified  \n",
       "...                  ...  \n",
       "9235   Email Marked Spam  \n",
       "9236            SMS Sent  \n",
       "9237            SMS Sent  \n",
       "9238            SMS Sent  \n",
       "9239            Modified  \n",
       "\n",
       "[9103 rows x 19 columns]"
      ]
     },
     "execution_count": 66,
     "metadata": {},
     "output_type": "execute_result"
    }
   ],
   "source": [
    "leadsData.select_dtypes(include=['object'])"
   ]
  },
  {
   "cell_type": "code",
   "execution_count": 67,
   "metadata": {},
   "outputs": [
    {
     "data": {
      "text/plain": [
       "No     6215\n",
       "Yes    2888\n",
       "Name: AFreeCopyOfMasteringTheInterview, dtype: int64"
      ]
     },
     "execution_count": 67,
     "metadata": {},
     "output_type": "execute_result"
    }
   ],
   "source": [
    "leadsData.AFreeCopyOfMasteringTheInterview.value_counts(dropna=False)"
   ]
  },
  {
   "cell_type": "code",
   "execution_count": 68,
   "metadata": {},
   "outputs": [
    {
     "data": {
      "text/plain": [
       "No    9103\n",
       "Name: IAgreeToPayTheAmountThroughCheque, dtype: int64"
      ]
     },
     "execution_count": 68,
     "metadata": {},
     "output_type": "execute_result"
    }
   ],
   "source": [
    "leadsData.IAgreeToPayTheAmountThroughCheque.value_counts(dropna=False) "
   ]
  },
  {
   "cell_type": "code",
   "execution_count": 69,
   "metadata": {},
   "outputs": [
    {
     "data": {
      "text/plain": [
       "No     8382\n",
       "Yes     721\n",
       "Name: DoNotEmail, dtype: int64"
      ]
     },
     "execution_count": 69,
     "metadata": {},
     "output_type": "execute_result"
    }
   ],
   "source": [
    "leadsData.DoNotEmail.value_counts(dropna=False) "
   ]
  },
  {
   "cell_type": "code",
   "execution_count": 70,
   "metadata": {},
   "outputs": [
    {
     "data": {
      "text/plain": [
       "No    9103\n",
       "Name: Magazine, dtype: int64"
      ]
     },
     "execution_count": 70,
     "metadata": {},
     "output_type": "execute_result"
    }
   ],
   "source": [
    "leadsData.Magazine.value_counts(dropna=False)\n"
   ]
  },
  {
   "cell_type": "code",
   "execution_count": 71,
   "metadata": {},
   "outputs": [
    {
     "data": {
      "text/plain": [
       "No     9102\n",
       "Yes       1\n",
       "Name: Newspaper, dtype: int64"
      ]
     },
     "execution_count": 71,
     "metadata": {},
     "output_type": "execute_result"
    }
   ],
   "source": [
    "leadsData.Newspaper.value_counts(dropna=False)\n",
    " "
   ]
  },
  {
   "cell_type": "code",
   "execution_count": 72,
   "metadata": {},
   "outputs": [
    {
     "data": {
      "text/plain": [
       "No     9089\n",
       "Yes      14\n",
       "Name: Search, dtype: int64"
      ]
     },
     "execution_count": 72,
     "metadata": {},
     "output_type": "execute_result"
    }
   ],
   "source": [
    "leadsData.Search.value_counts(dropna=False)"
   ]
  },
  {
   "cell_type": "code",
   "execution_count": 73,
   "metadata": {},
   "outputs": [
    {
     "data": {
      "text/plain": [
       "No     9101\n",
       "Yes       2\n",
       "Name: NewspaperArticle, dtype: int64"
      ]
     },
     "execution_count": 73,
     "metadata": {},
     "output_type": "execute_result"
    }
   ],
   "source": [
    "leadsData.NewspaperArticle.value_counts(dropna=False)"
   ]
  },
  {
   "cell_type": "code",
   "execution_count": 74,
   "metadata": {},
   "outputs": [
    {
     "data": {
      "text/plain": [
       "No     9099\n",
       "Yes       4\n",
       "Name: DigitalAdvertisement, dtype: int64"
      ]
     },
     "execution_count": 74,
     "metadata": {},
     "output_type": "execute_result"
    }
   ],
   "source": [
    "leadsData.DigitalAdvertisement.value_counts(dropna=False)"
   ]
  },
  {
   "cell_type": "code",
   "execution_count": 75,
   "metadata": {},
   "outputs": [
    {
     "data": {
      "text/plain": [
       "No    9103\n",
       "Name: UpdateMeOnSupplyChainContent, dtype: int64"
      ]
     },
     "execution_count": 75,
     "metadata": {},
     "output_type": "execute_result"
    }
   ],
   "source": [
    "leadsData.UpdateMeOnSupplyChainContent.value_counts(dropna=False) "
   ]
  },
  {
   "cell_type": "code",
   "execution_count": 76,
   "metadata": {},
   "outputs": [
    {
     "data": {
      "text/plain": [
       "No    9103\n",
       "Name: GetUpdatesOnDmContent, dtype: int64"
      ]
     },
     "execution_count": 76,
     "metadata": {},
     "output_type": "execute_result"
    }
   ],
   "source": [
    "leadsData.GetUpdatesOnDmContent.value_counts(dropna=False)  "
   ]
  },
  {
   "cell_type": "code",
   "execution_count": 77,
   "metadata": {},
   "outputs": [
    {
     "data": {
      "text/plain": [
       "No     9102\n",
       "Yes       1\n",
       "Name: XEducationForums, dtype: int64"
      ]
     },
     "execution_count": 77,
     "metadata": {},
     "output_type": "execute_result"
    }
   ],
   "source": [
    "leadsData.XEducationForums.value_counts(dropna=False)  "
   ]
  },
  {
   "cell_type": "markdown",
   "metadata": {},
   "source": [
    "#### All the above columns are highly skewed. Can be removed. "
   ]
  },
  {
   "cell_type": "code",
   "execution_count": 78,
   "metadata": {},
   "outputs": [],
   "source": [
    "leadsData.drop(['IAgreeToPayTheAmountThroughCheque', 'Magazine', 'Search', 'NewspaperArticle', 'DigitalAdvertisement','XEducationForums', 'UpdateMeOnSupplyChainContent', 'GetUpdatesOnDmContent', 'Newspaper'], axis=1, inplace=True)"
   ]
  },
  {
   "cell_type": "code",
   "execution_count": 79,
   "metadata": {},
   "outputs": [
    {
     "data": {
      "text/html": [
       "<div>\n",
       "<style scoped>\n",
       "    .dataframe tbody tr th:only-of-type {\n",
       "        vertical-align: middle;\n",
       "    }\n",
       "\n",
       "    .dataframe tbody tr th {\n",
       "        vertical-align: top;\n",
       "    }\n",
       "\n",
       "    .dataframe thead th {\n",
       "        text-align: right;\n",
       "    }\n",
       "</style>\n",
       "<table border=\"1\" class=\"dataframe\">\n",
       "  <thead>\n",
       "    <tr style=\"text-align: right;\">\n",
       "      <th></th>\n",
       "      <th>LeadSource</th>\n",
       "      <th>LastActivity</th>\n",
       "      <th>LeadOrigin</th>\n",
       "      <th>DoNotEmail</th>\n",
       "      <th>Country</th>\n",
       "      <th>Specialization</th>\n",
       "      <th>WhatIsYourCurrentOccupation</th>\n",
       "      <th>City</th>\n",
       "      <th>AFreeCopyOfMasteringTheInterview</th>\n",
       "      <th>LastNotableActivity</th>\n",
       "    </tr>\n",
       "  </thead>\n",
       "  <tbody>\n",
       "    <tr>\n",
       "      <th>0</th>\n",
       "      <td>Olark Chat</td>\n",
       "      <td>Page Visited on Website</td>\n",
       "      <td>API</td>\n",
       "      <td>No</td>\n",
       "      <td>NotSpecified</td>\n",
       "      <td>NotSpecified</td>\n",
       "      <td>Unemployed</td>\n",
       "      <td>NotSpecified</td>\n",
       "      <td>No</td>\n",
       "      <td>Modified</td>\n",
       "    </tr>\n",
       "    <tr>\n",
       "      <th>1</th>\n",
       "      <td>Organic Search</td>\n",
       "      <td>Email Opened</td>\n",
       "      <td>API</td>\n",
       "      <td>No</td>\n",
       "      <td>India</td>\n",
       "      <td>NotSpecified</td>\n",
       "      <td>Unemployed</td>\n",
       "      <td>NotSpecified</td>\n",
       "      <td>No</td>\n",
       "      <td>Email Opened</td>\n",
       "    </tr>\n",
       "    <tr>\n",
       "      <th>2</th>\n",
       "      <td>Direct Traffic</td>\n",
       "      <td>Email Opened</td>\n",
       "      <td>Landing Page Submission</td>\n",
       "      <td>No</td>\n",
       "      <td>India</td>\n",
       "      <td>Business Administration</td>\n",
       "      <td>Student</td>\n",
       "      <td>Mumbai</td>\n",
       "      <td>Yes</td>\n",
       "      <td>Email Opened</td>\n",
       "    </tr>\n",
       "    <tr>\n",
       "      <th>3</th>\n",
       "      <td>Direct Traffic</td>\n",
       "      <td>other</td>\n",
       "      <td>Landing Page Submission</td>\n",
       "      <td>No</td>\n",
       "      <td>India</td>\n",
       "      <td>Media and Advertising</td>\n",
       "      <td>Unemployed</td>\n",
       "      <td>Mumbai</td>\n",
       "      <td>No</td>\n",
       "      <td>Modified</td>\n",
       "    </tr>\n",
       "    <tr>\n",
       "      <th>4</th>\n",
       "      <td>Google</td>\n",
       "      <td>Converted to Lead</td>\n",
       "      <td>Landing Page Submission</td>\n",
       "      <td>No</td>\n",
       "      <td>India</td>\n",
       "      <td>NotSpecified</td>\n",
       "      <td>Unemployed</td>\n",
       "      <td>Mumbai</td>\n",
       "      <td>No</td>\n",
       "      <td>Modified</td>\n",
       "    </tr>\n",
       "    <tr>\n",
       "      <th>...</th>\n",
       "      <td>...</td>\n",
       "      <td>...</td>\n",
       "      <td>...</td>\n",
       "      <td>...</td>\n",
       "      <td>...</td>\n",
       "      <td>...</td>\n",
       "      <td>...</td>\n",
       "      <td>...</td>\n",
       "      <td>...</td>\n",
       "      <td>...</td>\n",
       "    </tr>\n",
       "    <tr>\n",
       "      <th>9235</th>\n",
       "      <td>Direct Traffic</td>\n",
       "      <td>other</td>\n",
       "      <td>Landing Page Submission</td>\n",
       "      <td>Yes</td>\n",
       "      <td>Others</td>\n",
       "      <td>IT Projects Management</td>\n",
       "      <td>Unemployed</td>\n",
       "      <td>Mumbai</td>\n",
       "      <td>No</td>\n",
       "      <td>Email Marked Spam</td>\n",
       "    </tr>\n",
       "    <tr>\n",
       "      <th>9236</th>\n",
       "      <td>Direct Traffic</td>\n",
       "      <td>SMS Sent</td>\n",
       "      <td>Landing Page Submission</td>\n",
       "      <td>No</td>\n",
       "      <td>India</td>\n",
       "      <td>Media and Advertising</td>\n",
       "      <td>Unemployed</td>\n",
       "      <td>Mumbai</td>\n",
       "      <td>Yes</td>\n",
       "      <td>SMS Sent</td>\n",
       "    </tr>\n",
       "    <tr>\n",
       "      <th>9237</th>\n",
       "      <td>Direct Traffic</td>\n",
       "      <td>SMS Sent</td>\n",
       "      <td>Landing Page Submission</td>\n",
       "      <td>Yes</td>\n",
       "      <td>India</td>\n",
       "      <td>Business Administration</td>\n",
       "      <td>Unemployed</td>\n",
       "      <td>Mumbai</td>\n",
       "      <td>Yes</td>\n",
       "      <td>SMS Sent</td>\n",
       "    </tr>\n",
       "    <tr>\n",
       "      <th>9238</th>\n",
       "      <td>Google</td>\n",
       "      <td>SMS Sent</td>\n",
       "      <td>Landing Page Submission</td>\n",
       "      <td>No</td>\n",
       "      <td>India</td>\n",
       "      <td>Human Resource Management</td>\n",
       "      <td>NotSpecified</td>\n",
       "      <td>Other Metro Cities</td>\n",
       "      <td>No</td>\n",
       "      <td>SMS Sent</td>\n",
       "    </tr>\n",
       "    <tr>\n",
       "      <th>9239</th>\n",
       "      <td>Direct Traffic</td>\n",
       "      <td>SMS Sent</td>\n",
       "      <td>Landing Page Submission</td>\n",
       "      <td>No</td>\n",
       "      <td>Others</td>\n",
       "      <td>Supply Chain Management</td>\n",
       "      <td>Unemployed</td>\n",
       "      <td>Other Cities</td>\n",
       "      <td>Yes</td>\n",
       "      <td>Modified</td>\n",
       "    </tr>\n",
       "  </tbody>\n",
       "</table>\n",
       "<p>9103 rows × 10 columns</p>\n",
       "</div>"
      ],
      "text/plain": [
       "          LeadSource             LastActivity               LeadOrigin  \\\n",
       "0         Olark Chat  Page Visited on Website                      API   \n",
       "1     Organic Search             Email Opened                      API   \n",
       "2     Direct Traffic             Email Opened  Landing Page Submission   \n",
       "3     Direct Traffic                    other  Landing Page Submission   \n",
       "4             Google        Converted to Lead  Landing Page Submission   \n",
       "...              ...                      ...                      ...   \n",
       "9235  Direct Traffic                    other  Landing Page Submission   \n",
       "9236  Direct Traffic                 SMS Sent  Landing Page Submission   \n",
       "9237  Direct Traffic                 SMS Sent  Landing Page Submission   \n",
       "9238          Google                 SMS Sent  Landing Page Submission   \n",
       "9239  Direct Traffic                 SMS Sent  Landing Page Submission   \n",
       "\n",
       "     DoNotEmail       Country             Specialization  \\\n",
       "0            No  NotSpecified               NotSpecified   \n",
       "1            No         India               NotSpecified   \n",
       "2            No         India    Business Administration   \n",
       "3            No         India      Media and Advertising   \n",
       "4            No         India               NotSpecified   \n",
       "...         ...           ...                        ...   \n",
       "9235        Yes        Others     IT Projects Management   \n",
       "9236         No         India      Media and Advertising   \n",
       "9237        Yes         India    Business Administration   \n",
       "9238         No         India  Human Resource Management   \n",
       "9239         No        Others    Supply Chain Management   \n",
       "\n",
       "     WhatIsYourCurrentOccupation                City  \\\n",
       "0                     Unemployed        NotSpecified   \n",
       "1                     Unemployed        NotSpecified   \n",
       "2                        Student              Mumbai   \n",
       "3                     Unemployed              Mumbai   \n",
       "4                     Unemployed              Mumbai   \n",
       "...                          ...                 ...   \n",
       "9235                  Unemployed              Mumbai   \n",
       "9236                  Unemployed              Mumbai   \n",
       "9237                  Unemployed              Mumbai   \n",
       "9238                NotSpecified  Other Metro Cities   \n",
       "9239                  Unemployed        Other Cities   \n",
       "\n",
       "     AFreeCopyOfMasteringTheInterview LastNotableActivity  \n",
       "0                                  No            Modified  \n",
       "1                                  No        Email Opened  \n",
       "2                                 Yes        Email Opened  \n",
       "3                                  No            Modified  \n",
       "4                                  No            Modified  \n",
       "...                               ...                 ...  \n",
       "9235                               No   Email Marked Spam  \n",
       "9236                              Yes            SMS Sent  \n",
       "9237                              Yes            SMS Sent  \n",
       "9238                               No            SMS Sent  \n",
       "9239                              Yes            Modified  \n",
       "\n",
       "[9103 rows x 10 columns]"
      ]
     },
     "execution_count": 79,
     "metadata": {},
     "output_type": "execute_result"
    }
   ],
   "source": [
    "leadsData.select_dtypes(include=['object'])"
   ]
  },
  {
   "cell_type": "code",
   "execution_count": null,
   "metadata": {},
   "outputs": [],
   "source": []
  },
  {
   "cell_type": "code",
   "execution_count": null,
   "metadata": {},
   "outputs": [],
   "source": []
  },
  {
   "cell_type": "code",
   "execution_count": 80,
   "metadata": {},
   "outputs": [],
   "source": [
    "def draw_roc( actual, probs ):\n",
    "    fpr, tpr, thresholds = metrics.roc_curve( actual, probs,\n",
    "                                              drop_intermediate = False )\n",
    "    auc_score = metrics.roc_auc_score( actual, probs )\n",
    "    plt.figure(figsize=(5, 5))\n",
    "    plt.plot( fpr, tpr, label='ROC curve (area = %0.2f)' % auc_score )\n",
    "    plt.plot([0, 1], [0, 1], 'k--')\n",
    "    plt.xlim([0.0, 1.0])\n",
    "    plt.ylim([0.0, 1.05])\n",
    "    plt.xlabel('False Positive Rate or [1 - True Negative Rate]')\n",
    "    plt.ylabel('True Positive Rate')\n",
    "    plt.title('Receiver operating characteristic example')\n",
    "    plt.legend(loc=\"lower right\")\n",
    "    plt.show()\n",
    "\n",
    "    return None"
   ]
  }
 ],
 "metadata": {
  "kernelspec": {
   "display_name": "Python 3",
   "language": "python",
   "name": "python3"
  },
  "language_info": {
   "codemirror_mode": {
    "name": "ipython",
    "version": 3
   },
   "file_extension": ".py",
   "mimetype": "text/x-python",
   "name": "python",
   "nbconvert_exporter": "python",
   "pygments_lexer": "ipython3",
   "version": "3.7.7"
  }
 },
 "nbformat": 4,
 "nbformat_minor": 2
}
